{
 "cells": [
  {
   "cell_type": "markdown",
   "id": "8cb9f730",
   "metadata": {
    "papermill": {
     "duration": 0.029175,
     "end_time": "2023-06-20T00:46:57.446410",
     "exception": false,
     "start_time": "2023-06-20T00:46:57.417235",
     "status": "completed"
    },
    "tags": []
   },
   "source": [
    "### for kaggle notebook"
   ]
  },
  {
   "cell_type": "code",
   "execution_count": 1,
   "id": "d217bd7f",
   "metadata": {
    "execution": {
     "iopub.execute_input": "2023-06-20T00:46:57.505678Z",
     "iopub.status.busy": "2023-06-20T00:46:57.505240Z",
     "iopub.status.idle": "2023-06-20T00:47:13.554998Z",
     "shell.execute_reply": "2023-06-20T00:47:13.553195Z"
    },
    "papermill": {
     "duration": 16.083557,
     "end_time": "2023-06-20T00:47:13.558703",
     "exception": false,
     "start_time": "2023-06-20T00:46:57.475146",
     "status": "completed"
    },
    "tags": []
   },
   "outputs": [],
   "source": [
    "# !pip install tabpfn --no-index --find-links=file:///kaggle/input/pip-packages-icr/pip-packages\n",
    "# !mkdir -p /opt/conda/lib/python3.10/site-packages/tabpfn/models_diff\n",
    "# !cp /kaggle/input/pip-packages-icr/pip-packages/prior_diff_real_checkpoint_n_0_epoch_100.cpkt /opt/conda/lib/python3.10/site-packages/tabpfn/models_diff/"
   ]
  },
  {
   "cell_type": "code",
   "execution_count": 81,
   "id": "1864b47d",
   "metadata": {
    "papermill": {
     "duration": 0.060998,
     "end_time": "2023-06-20T00:47:13.695255",
     "exception": false,
     "start_time": "2023-06-20T00:47:13.634257",
     "status": "completed"
    },
    "tags": []
   },
   "outputs": [
    {
     "data": {
      "text/html": [
       "<style>\n",
       "    div#notebook-container    { width: 95%; }\n",
       "    div#menubar-container     { width: 95%; }\n",
       "    div#maintoolbar-container { width: 99%; }\n",
       "</style>\n"
      ],
      "text/plain": [
       "<IPython.core.display.HTML object>"
      ]
     },
     "metadata": {},
     "output_type": "display_data"
    }
   ],
   "source": [
    "%%HTML\n",
    "<style>\n",
    "    div#notebook-container    { width: 95%; }\n",
    "    div#menubar-container     { width: 95%; }\n",
    "    div#maintoolbar-container { width: 99%; }\n",
    "</style>"
   ]
  },
  {
   "cell_type": "code",
   "execution_count": 82,
   "id": "f4616532",
   "metadata": {
    "execution": {
     "iopub.execute_input": "2023-06-20T00:47:13.797216Z",
     "iopub.status.busy": "2023-06-20T00:47:13.796757Z",
     "iopub.status.idle": "2023-06-20T00:47:13.801657Z",
     "shell.execute_reply": "2023-06-20T00:47:13.800716Z"
    },
    "papermill": {
     "duration": 0.059371,
     "end_time": "2023-06-20T00:47:13.805946",
     "exception": false,
     "start_time": "2023-06-20T00:47:13.746575",
     "status": "completed"
    },
    "tags": []
   },
   "outputs": [],
   "source": [
    "# !pip install lightgbm\n",
    "# !pip install catboost\n",
    "# !pip install xgboost\n",
    "# !pip install tabpfn\n",
    "# !pip install seaborn\n",
    "# !pip install optuna"
   ]
  },
  {
   "cell_type": "code",
   "execution_count": 156,
   "id": "263b256d",
   "metadata": {
    "execution": {
     "iopub.execute_input": "2023-06-20T00:47:13.887204Z",
     "iopub.status.busy": "2023-06-20T00:47:13.886829Z",
     "iopub.status.idle": "2023-06-20T00:47:17.372486Z",
     "shell.execute_reply": "2023-06-20T00:47:17.371304Z"
    },
    "papermill": {
     "duration": 3.52923,
     "end_time": "2023-06-20T00:47:17.374911",
     "exception": false,
     "start_time": "2023-06-20T00:47:13.845681",
     "status": "completed"
    },
    "tags": []
   },
   "outputs": [],
   "source": [
    "import datetime as dt\n",
    "import pandas as pd\n",
    "import numpy as np\n",
    "from sklearn.metrics import make_scorer\n",
    "from sklearn import metrics\n",
    "from sklearn.preprocessing import RobustScaler\n",
    "from sklearn.utils.class_weight import compute_sample_weight\n",
    "from sklearn.model_selection import StratifiedKFold\n",
    "\n",
    "import lightgbm\n",
    "import optuna\n",
    "\n",
    "import matplotlib.pyplot as plt\n",
    "import seaborn as sns\n",
    "from datetime import date, datetime\n",
    "import warnings\n",
    "warnings.filterwarnings(\"ignore\")"
   ]
  },
  {
   "cell_type": "code",
   "execution_count": 157,
   "id": "3d80a9a9",
   "metadata": {
    "execution": {
     "iopub.execute_input": "2023-06-20T00:47:17.436374Z",
     "iopub.status.busy": "2023-06-20T00:47:17.436037Z",
     "iopub.status.idle": "2023-06-20T00:47:21.318642Z",
     "shell.execute_reply": "2023-06-20T00:47:21.317668Z"
    },
    "papermill": {
     "duration": 3.916745,
     "end_time": "2023-06-20T00:47:21.320924",
     "exception": false,
     "start_time": "2023-06-20T00:47:17.404179",
     "status": "completed"
    },
    "tags": []
   },
   "outputs": [],
   "source": [
    "#from tabpfn import TabPFNClassifier\n",
    "from tabpfn.scripts.transformer_prediction_interface import TabPFNClassifier\n",
    "from lightgbm import LGBMClassifier\n",
    "from xgboost import XGBClassifier\n",
    "from catboost import CatBoostClassifier\n",
    "from sklearn.ensemble import RandomForestClassifier\n",
    "from sklearn.neighbors import KNeighborsClassifier\n",
    "from sklearn.preprocessing import PowerTransformer"
   ]
  },
  {
   "cell_type": "code",
   "execution_count": 158,
   "id": "29a456c7",
   "metadata": {
    "execution": {
     "iopub.execute_input": "2023-06-20T00:47:21.381038Z",
     "iopub.status.busy": "2023-06-20T00:47:21.379780Z",
     "iopub.status.idle": "2023-06-20T00:47:21.385797Z",
     "shell.execute_reply": "2023-06-20T00:47:21.384895Z"
    },
    "papermill": {
     "duration": 0.037703,
     "end_time": "2023-06-20T00:47:21.387715",
     "exception": false,
     "start_time": "2023-06-20T00:47:21.350012",
     "status": "completed"
    },
    "tags": []
   },
   "outputs": [],
   "source": [
    "import torch\n",
    "import torch.nn as nn\n",
    "import torch.optim as optim\n",
    "import torch.nn.functional as F\n",
    "from torch.utils.data import Dataset, DataLoader\n",
    "\n",
    "import random, os\n",
    "import math\n"
   ]
  },
  {
   "cell_type": "code",
   "execution_count": 159,
   "id": "ec8e310b",
   "metadata": {
    "execution": {
     "iopub.execute_input": "2023-06-20T00:47:21.447156Z",
     "iopub.status.busy": "2023-06-20T00:47:21.446867Z",
     "iopub.status.idle": "2023-06-20T00:47:21.485244Z",
     "shell.execute_reply": "2023-06-20T00:47:21.484388Z"
    },
    "papermill": {
     "duration": 0.070735,
     "end_time": "2023-06-20T00:47:21.487303",
     "exception": false,
     "start_time": "2023-06-20T00:47:21.416568",
     "status": "completed"
    },
    "tags": []
   },
   "outputs": [],
   "source": [
    "# https://github.com/trent-b/iterative-stratification\n",
    "# I copied it from the above github.\n",
    "import numpy as np\n",
    "\n",
    "from sklearn.utils import check_random_state\n",
    "from sklearn.utils.validation import _num_samples, check_array\n",
    "from sklearn.utils.multiclass import type_of_target\n",
    "\n",
    "from sklearn.model_selection._split import _BaseKFold, _RepeatedSplits, \\\n",
    "    BaseShuffleSplit, _validate_shuffle_split\n",
    "\n",
    "\n",
    "def IterativeStratification(labels, r, random_state):\n",
    "    \"\"\"This function implements the Iterative Stratification algorithm described\n",
    "    in the following paper:\n",
    "    Sechidis K., Tsoumakas G., Vlahavas I. (2011) On the Stratification of\n",
    "    Multi-Label Data. In: Gunopulos D., Hofmann T., Malerba D., Vazirgiannis M.\n",
    "    (eds) Machine Learning and Knowledge Discovery in Databases. ECML PKDD\n",
    "    2011. Lecture Notes in Computer Science, vol 6913. Springer, Berlin,\n",
    "    Heidelberg.\n",
    "    \"\"\"\n",
    "\n",
    "    n_samples = labels.shape[0]\n",
    "    test_folds = np.zeros(n_samples, dtype=int)\n",
    "\n",
    "    # Calculate the desired number of examples at each subset\n",
    "    c_folds = r * n_samples\n",
    "\n",
    "    # Calculate the desired number of examples of each label at each subset\n",
    "    c_folds_labels = np.outer(r, labels.sum(axis=0))\n",
    "\n",
    "    labels_not_processed_mask = np.ones(n_samples, dtype=bool)\n",
    "\n",
    "    while np.any(labels_not_processed_mask):\n",
    "        # Find the label with the fewest (but at least one) remaining examples,\n",
    "        # breaking ties randomly\n",
    "        num_labels = labels[labels_not_processed_mask].sum(axis=0)\n",
    "\n",
    "        # Handle case where only all-zero labels are left by distributing\n",
    "        # across all folds as evenly as possible (not in original algorithm but\n",
    "        # mentioned in the text). (By handling this case separately, some\n",
    "        # code redundancy is introduced; however, this approach allows for\n",
    "        # decreased execution time when there are a relatively large number\n",
    "        # of all-zero labels.)\n",
    "        if num_labels.sum() == 0:\n",
    "            sample_idxs = np.where(labels_not_processed_mask)[0]\n",
    "\n",
    "            for sample_idx in sample_idxs:\n",
    "                fold_idx = np.where(c_folds == c_folds.max())[0]\n",
    "\n",
    "                if fold_idx.shape[0] > 1:\n",
    "                    fold_idx = fold_idx[random_state.choice(fold_idx.shape[0])]\n",
    "\n",
    "                test_folds[sample_idx] = fold_idx\n",
    "                c_folds[fold_idx] -= 1\n",
    "\n",
    "            break\n",
    "\n",
    "        label_idx = np.where(num_labels == num_labels[np.nonzero(num_labels)].min())[0]\n",
    "        if label_idx.shape[0] > 1:\n",
    "            label_idx = label_idx[random_state.choice(label_idx.shape[0])]\n",
    "\n",
    "        sample_idxs = np.where(np.logical_and(labels[:, label_idx].flatten(), labels_not_processed_mask))[0]\n",
    "\n",
    "        for sample_idx in sample_idxs:\n",
    "            # Find the subset(s) with the largest number of desired examples\n",
    "            # for this label, breaking ties by considering the largest number\n",
    "            # of desired examples, breaking further ties randomly\n",
    "            label_folds = c_folds_labels[:, label_idx]\n",
    "            fold_idx = np.where(label_folds == label_folds.max())[0]\n",
    "\n",
    "            if fold_idx.shape[0] > 1:\n",
    "                temp_fold_idx = np.where(c_folds[fold_idx] ==\n",
    "                                         c_folds[fold_idx].max())[0]\n",
    "                fold_idx = fold_idx[temp_fold_idx]\n",
    "\n",
    "                if temp_fold_idx.shape[0] > 1:\n",
    "                    fold_idx = fold_idx[random_state.choice(temp_fold_idx.shape[0])]\n",
    "\n",
    "            test_folds[sample_idx] = fold_idx\n",
    "            labels_not_processed_mask[sample_idx] = False\n",
    "\n",
    "            # Update desired number of examples\n",
    "            c_folds_labels[fold_idx, labels[sample_idx]] -= 1\n",
    "            c_folds[fold_idx] -= 1\n",
    "\n",
    "    return test_folds\n",
    "\n",
    "\n",
    "class MultilabelStratifiedKFold(_BaseKFold):\n",
    "    \"\"\"Multilabel stratified K-Folds cross-validator\n",
    "    Provides train/test indices to split multilabel data into train/test sets.\n",
    "    This cross-validation object is a variation of KFold that returns\n",
    "    stratified folds for multilabel data. The folds are made by preserving\n",
    "    the percentage of samples for each label.\n",
    "    Parameters\n",
    "    ----------\n",
    "    n_splits : int, default=3\n",
    "        Number of folds. Must be at least 2.\n",
    "    shuffle : boolean, optional\n",
    "        Whether to shuffle each stratification of the data before splitting\n",
    "        into batches.\n",
    "    random_state : int, RandomState instance or None, optional, default=None\n",
    "        If int, random_state is the seed used by the random number generator;\n",
    "        If RandomState instance, random_state is the random number generator;\n",
    "        If None, the random number generator is the RandomState instance used\n",
    "        by `np.random`. Unlike StratifiedKFold that only uses random_state\n",
    "        when ``shuffle`` == True, this multilabel implementation\n",
    "        always uses the random_state since the iterative stratification\n",
    "        algorithm breaks ties randomly.\n",
    "    Examples\n",
    "    --------\n",
    "    >>> from iterstrat.ml_stratifiers import MultilabelStratifiedKFold\n",
    "    >>> import numpy as np\n",
    "    >>> X = np.array([[1,2], [3,4], [1,2], [3,4], [1,2], [3,4], [1,2], [3,4]])\n",
    "    >>> y = np.array([[0,0], [0,0], [0,1], [0,1], [1,1], [1,1], [1,0], [1,0]])\n",
    "    >>> mskf = MultilabelStratifiedKFold(n_splits=2, random_state=0)\n",
    "    >>> mskf.get_n_splits(X, y)\n",
    "    2\n",
    "    >>> print(mskf)  # doctest: +NORMALIZE_WHITESPACE\n",
    "    MultilabelStratifiedKFold(n_splits=2, random_state=0, shuffle=False)\n",
    "    >>> for train_index, test_index in mskf.split(X, y):\n",
    "    ...    print(\"TRAIN:\", train_index, \"TEST:\", test_index)\n",
    "    ...    X_train, X_test = X[train_index], X[test_index]\n",
    "    ...    y_train, y_test = y[train_index], y[test_index]\n",
    "    TRAIN: [0 3 4 6] TEST: [1 2 5 7]\n",
    "    TRAIN: [1 2 5 7] TEST: [0 3 4 6]\n",
    "    Notes\n",
    "    -----\n",
    "    Train and test sizes may be slightly different in each fold.\n",
    "    See also\n",
    "    --------\n",
    "    RepeatedMultilabelStratifiedKFold: Repeats Multilabel Stratified K-Fold\n",
    "    n times.\n",
    "    \"\"\"\n",
    "\n",
    "    def __init__(self, n_splits=3, *, shuffle=False, random_state=None):\n",
    "        super(MultilabelStratifiedKFold, self).__init__(n_splits=n_splits, shuffle=shuffle, random_state=random_state)\n",
    "\n",
    "    def _make_test_folds(self, X, y):\n",
    "        y = np.asarray(y, dtype=bool)\n",
    "        type_of_target_y = type_of_target(y)\n",
    "\n",
    "        if type_of_target_y != 'multilabel-indicator':\n",
    "            raise ValueError(\n",
    "                'Supported target type is: multilabel-indicator. Got {!r} instead.'.format(type_of_target_y))\n",
    "\n",
    "        num_samples = y.shape[0]\n",
    "\n",
    "        rng = check_random_state(self.random_state)\n",
    "        indices = np.arange(num_samples)\n",
    "\n",
    "        if self.shuffle:\n",
    "            rng.shuffle(indices)\n",
    "            y = y[indices]\n",
    "\n",
    "        r = np.asarray([1 / self.n_splits] * self.n_splits)\n",
    "\n",
    "        test_folds = IterativeStratification(labels=y, r=r, random_state=rng)\n",
    "\n",
    "        return test_folds[np.argsort(indices)]\n",
    "\n",
    "    def _iter_test_masks(self, X=None, y=None, groups=None):\n",
    "        test_folds = self._make_test_folds(X, y)\n",
    "        for i in range(self.n_splits):\n",
    "            yield test_folds == i\n",
    "\n",
    "    def split(self, X, y, groups=None):\n",
    "        \"\"\"Generate indices to split data into training and test set.\n",
    "        Parameters\n",
    "        ----------\n",
    "        X : array-like, shape (n_samples, n_features)\n",
    "            Training data, where n_samples is the number of samples\n",
    "            and n_features is the number of features.\n",
    "            Note that providing ``y`` is sufficient to generate the splits and\n",
    "            hence ``np.zeros(n_samples)`` may be used as a placeholder for\n",
    "            ``X`` instead of actual training data.\n",
    "        y : array-like, shape (n_samples, n_labels)\n",
    "            The target variable for supervised learning problems.\n",
    "            Multilabel stratification is done based on the y labels.\n",
    "        groups : object\n",
    "            Always ignored, exists for compatibility.\n",
    "        Returns\n",
    "        -------\n",
    "        train : ndarray\n",
    "            The training set indices for that split.\n",
    "        test : ndarray\n",
    "            The testing set indices for that split.\n",
    "        Notes\n",
    "        -----\n",
    "        Randomized CV splitters may return different results for each call of\n",
    "        split. You can make the results identical by setting ``random_state``\n",
    "        to an integer.\n",
    "        \"\"\"\n",
    "        y = check_array(y, ensure_2d=False, dtype=None)\n",
    "        return super(MultilabelStratifiedKFold, self).split(X, y, groups)\n",
    "\n",
    "\n",
    "class RepeatedMultilabelStratifiedKFold(_RepeatedSplits):\n",
    "    \"\"\"Repeated Multilabel Stratified K-Fold cross validator.\n",
    "    Repeats Mulilabel Stratified K-Fold n times with different randomization\n",
    "    in each repetition.\n",
    "    Parameters\n",
    "    ----------\n",
    "    n_splits : int, default=5\n",
    "        Number of folds. Must be at least 2.\n",
    "    n_repeats : int, default=10\n",
    "        Number of times cross-validator needs to be repeated.\n",
    "    random_state : None, int or RandomState, default=None\n",
    "        Random state to be used to generate random state for each\n",
    "        repetition as well as randomly breaking ties within the iterative\n",
    "        stratification algorithm.\n",
    "    Examples\n",
    "    --------\n",
    "    >>> from iterstrat.ml_stratifiers import RepeatedMultilabelStratifiedKFold\n",
    "    >>> import numpy as np\n",
    "    >>> X = np.array([[1,2], [3,4], [1,2], [3,4], [1,2], [3,4], [1,2], [3,4]])\n",
    "    >>> y = np.array([[0,0], [0,0], [0,1], [0,1], [1,1], [1,1], [1,0], [1,0]])\n",
    "    >>> rmskf = RepeatedMultilabelStratifiedKFold(n_splits=2, n_repeats=2,\n",
    "    ...     random_state=0)\n",
    "    >>> for train_index, test_index in rmskf.split(X, y):\n",
    "    ...     print(\"TRAIN:\", train_index, \"TEST:\", test_index)\n",
    "    ...     X_train, X_test = X[train_index], X[test_index]\n",
    "    ...     y_train, y_test = y[train_index], y[test_index]\n",
    "    ...\n",
    "    TRAIN: [0 3 4 6] TEST: [1 2 5 7]\n",
    "    TRAIN: [1 2 5 7] TEST: [0 3 4 6]\n",
    "    TRAIN: [0 1 4 5] TEST: [2 3 6 7]\n",
    "    TRAIN: [2 3 6 7] TEST: [0 1 4 5]\n",
    "    See also\n",
    "    --------\n",
    "    RepeatedStratifiedKFold: Repeats (Non-multilabel) Stratified K-Fold\n",
    "    n times.\n",
    "    \"\"\"\n",
    "    def __init__(self, n_splits=5, *, n_repeats=10, random_state=None):\n",
    "        super(RepeatedMultilabelStratifiedKFold, self).__init__(\n",
    "            MultilabelStratifiedKFold, n_repeats=n_repeats, random_state=random_state,\n",
    "            n_splits=n_splits)\n",
    "\n",
    "\n",
    "class MultilabelStratifiedShuffleSplit(BaseShuffleSplit):\n",
    "    \"\"\"Multilabel Stratified ShuffleSplit cross-validator\n",
    "    Provides train/test indices to split data into train/test sets.\n",
    "    This cross-validation object is a merge of MultilabelStratifiedKFold and\n",
    "    ShuffleSplit, which returns stratified randomized folds for multilabel\n",
    "    data. The folds are made by preserving the percentage of each label.\n",
    "    Note: like the ShuffleSplit strategy, multilabel stratified random splits\n",
    "    do not guarantee that all folds will be different, although this is\n",
    "    still very likely for sizeable datasets.\n",
    "    Parameters\n",
    "    ----------\n",
    "    n_splits : int, default 10\n",
    "        Number of re-shuffling & splitting iterations.\n",
    "    test_size : float, int, None, optional\n",
    "        If float, should be between 0.0 and 1.0 and represent the proportion\n",
    "        of the dataset to include in the test split. If int, represents the\n",
    "        absolute number of test samples. If None, the value is set to the\n",
    "        complement of the train size. By default, the value is set to 0.1.\n",
    "        The default will change in version 0.21. It will remain 0.1 only\n",
    "        if ``train_size`` is unspecified, otherwise it will complement\n",
    "        the specified ``train_size``.\n",
    "    train_size : float, int, or None, default is None\n",
    "        If float, should be between 0.0 and 1.0 and represent the\n",
    "        proportion of the dataset to include in the train split. If\n",
    "        int, represents the absolute number of train samples. If None,\n",
    "        the value is automatically set to the complement of the test size.\n",
    "    random_state : int, RandomState instance or None, optional (default=None)\n",
    "        If int, random_state is the seed used by the random number generator;\n",
    "        If RandomState instance, random_state is the random number generator;\n",
    "        If None, the random number generator is the RandomState instance used\n",
    "        by `np.random`. Unlike StratifiedShuffleSplit that only uses\n",
    "        random_state when ``shuffle`` == True, this multilabel implementation\n",
    "        always uses the random_state since the iterative stratification\n",
    "        algorithm breaks ties randomly.\n",
    "    Examples\n",
    "    --------\n",
    "    >>> from iterstrat.ml_stratifiers import MultilabelStratifiedShuffleSplit\n",
    "    >>> import numpy as np\n",
    "    >>> X = np.array([[1,2], [3,4], [1,2], [3,4], [1,2], [3,4], [1,2], [3,4]])\n",
    "    >>> y = np.array([[0,0], [0,0], [0,1], [0,1], [1,1], [1,1], [1,0], [1,0]])\n",
    "    >>> msss = MultilabelStratifiedShuffleSplit(n_splits=3, test_size=0.5,\n",
    "    ...    random_state=0)\n",
    "    >>> msss.get_n_splits(X, y)\n",
    "    3\n",
    "    >>> print(mss)       # doctest: +ELLIPSIS\n",
    "    MultilabelStratifiedShuffleSplit(n_splits=3, random_state=0, test_size=0.5,\n",
    "                                     train_size=None)\n",
    "    >>> for train_index, test_index in msss.split(X, y):\n",
    "    ...    print(\"TRAIN:\", train_index, \"TEST:\", test_index)\n",
    "    ...    X_train, X_test = X[train_index], X[test_index]\n",
    "    ...    y_train, y_test = y[train_index], y[test_index]\n",
    "    TRAIN: [1 2 5 7] TEST: [0 3 4 6]\n",
    "    TRAIN: [2 3 6 7] TEST: [0 1 4 5]\n",
    "    TRAIN: [1 2 5 6] TEST: [0 3 4 7]\n",
    "    Notes\n",
    "    -----\n",
    "    Train and test sizes may be slightly different from desired due to the\n",
    "    preference of stratification over perfectly sized folds.\n",
    "    \"\"\"\n",
    "\n",
    "    def __init__(self, n_splits=10, *, test_size=\"default\", train_size=None,\n",
    "                 random_state=None):\n",
    "        super(MultilabelStratifiedShuffleSplit, self).__init__(\n",
    "            n_splits=n_splits, test_size=test_size, train_size=train_size, random_state=random_state)\n",
    "\n",
    "    def _iter_indices(self, X, y, groups=None):\n",
    "        n_samples = _num_samples(X)\n",
    "        y = check_array(y, ensure_2d=False, dtype=None)\n",
    "        y = np.asarray(y, dtype=bool)\n",
    "        type_of_target_y = type_of_target(y)\n",
    "\n",
    "        if type_of_target_y != 'multilabel-indicator':\n",
    "            raise ValueError(\n",
    "                'Supported target type is: multilabel-indicator. Got {!r} instead.'.format(\n",
    "                    type_of_target_y))\n",
    "\n",
    "        n_train, n_test = _validate_shuffle_split(n_samples, self.test_size,\n",
    "                                                  self.train_size)\n",
    "\n",
    "        n_samples = y.shape[0]\n",
    "        rng = check_random_state(self.random_state)\n",
    "        y_orig = y.copy()\n",
    "\n",
    "        r = np.array([n_train, n_test]) / (n_train + n_test)\n",
    "\n",
    "        for _ in range(self.n_splits):\n",
    "            indices = np.arange(n_samples)\n",
    "            rng.shuffle(indices)\n",
    "            y = y_orig[indices]\n",
    "\n",
    "            test_folds = IterativeStratification(labels=y, r=r, random_state=rng)\n",
    "\n",
    "            test_idx = test_folds[np.argsort(indices)] == 1\n",
    "            test = np.where(test_idx)[0]\n",
    "            train = np.where(~test_idx)[0]\n",
    "\n",
    "            yield train, test\n",
    "\n",
    "    def split(self, X, y, groups=None):\n",
    "        \"\"\"Generate indices to split data into training and test set.\n",
    "        Parameters\n",
    "        ----------\n",
    "        X : array-like, shape (n_samples, n_features)\n",
    "            Training data, where n_samples is the number of samples\n",
    "            and n_features is the number of features.\n",
    "            Note that providing ``y`` is sufficient to generate the splits and\n",
    "            hence ``np.zeros(n_samples)`` may be used as a placeholder for\n",
    "            ``X`` instead of actual training data.\n",
    "        y : array-like, shape (n_samples, n_labels)\n",
    "            The target variable for supervised learning problems.\n",
    "            Multilabel stratification is done based on the y labels.\n",
    "        groups : object\n",
    "            Always ignored, exists for compatibility.\n",
    "        Returns\n",
    "        -------\n",
    "        train : ndarray\n",
    "            The training set indices for that split.\n",
    "        test : ndarray\n",
    "            The testing set indices for that split.\n",
    "        Notes\n",
    "        -----\n",
    "        Randomized CV splitters may return different results for each call of\n",
    "        split. You can make the results identical by setting ``random_state``\n",
    "        to an integer.\n",
    "        \"\"\"\n",
    "        y = check_array(y, ensure_2d=False, dtype=None)\n",
    "        return super(MultilabelStratifiedShuffleSplit, self).split(X, y, groups)"
   ]
  },
  {
   "cell_type": "markdown",
   "id": "21c228e9",
   "metadata": {
    "papermill": {
     "duration": 0.028638,
     "end_time": "2023-06-20T00:47:21.546976",
     "exception": false,
     "start_time": "2023-06-20T00:47:21.518338",
     "status": "completed"
    },
    "tags": []
   },
   "source": [
    "# Flags"
   ]
  },
  {
   "cell_type": "code",
   "execution_count": 160,
   "id": "3339a657",
   "metadata": {
    "execution": {
     "iopub.execute_input": "2023-06-20T00:47:21.606908Z",
     "iopub.status.busy": "2023-06-20T00:47:21.605824Z",
     "iopub.status.idle": "2023-06-20T00:47:21.611664Z",
     "shell.execute_reply": "2023-06-20T00:47:21.610688Z"
    },
    "papermill": {
     "duration": 0.03776,
     "end_time": "2023-06-20T00:47:21.613791",
     "exception": false,
     "start_time": "2023-06-20T00:47:21.576031",
     "status": "completed"
    },
    "tags": []
   },
   "outputs": [],
   "source": [
    "# SMOTEをTrueにすると、5FOLDの結果にリークが発生しているように見えるのでCVがあてにならなくなりそう\n",
    "use_SMOTE = False\n",
    "check_CV = True\n",
    "del_BC_CL = False\n",
    "do_opt = False\n",
    "use_new_pred = True\n",
    "\n",
    "use_GPU = False\n",
    "\n",
    "positive_weight  = 1.0\n",
    "positive_weight2 = 2.0\n",
    "\n",
    "# 学習ループを行う・行わない（Pytorch部分）\n",
    "torch_train = False\n",
    "\n",
    "seed = 57"
   ]
  },
  {
   "cell_type": "code",
   "execution_count": 161,
   "id": "184befd4",
   "metadata": {
    "execution": {
     "iopub.execute_input": "2023-06-20T00:47:21.673871Z",
     "iopub.status.busy": "2023-06-20T00:47:21.673008Z",
     "iopub.status.idle": "2023-06-20T00:47:21.680744Z",
     "shell.execute_reply": "2023-06-20T00:47:21.679879Z"
    },
    "papermill": {
     "duration": 0.039884,
     "end_time": "2023-06-20T00:47:21.682936",
     "exception": false,
     "start_time": "2023-06-20T00:47:21.643052",
     "status": "completed"
    },
    "tags": []
   },
   "outputs": [
    {
     "data": {
      "text/plain": [
       "(False, 'cpu')"
      ]
     },
     "execution_count": 161,
     "metadata": {},
     "output_type": "execute_result"
    }
   ],
   "source": [
    "device = \"cuda\" if torch.cuda.is_available() else \"cpu\"\n",
    "\n",
    "if device == \"cuda\":\n",
    "    use_GPU = True\n",
    "use_GPU, device"
   ]
  },
  {
   "cell_type": "markdown",
   "id": "82735cfc",
   "metadata": {
    "papermill": {
     "duration": 0.028331,
     "end_time": "2023-06-20T00:47:21.739571",
     "exception": false,
     "start_time": "2023-06-20T00:47:21.711240",
     "status": "completed"
    },
    "tags": []
   },
   "source": [
    "# Functions"
   ]
  },
  {
   "cell_type": "code",
   "execution_count": 162,
   "id": "14078fba",
   "metadata": {
    "execution": {
     "iopub.execute_input": "2023-06-20T00:47:21.798904Z",
     "iopub.status.busy": "2023-06-20T00:47:21.798081Z",
     "iopub.status.idle": "2023-06-20T00:47:21.804409Z",
     "shell.execute_reply": "2023-06-20T00:47:21.803578Z"
    },
    "papermill": {
     "duration": 0.038097,
     "end_time": "2023-06-20T00:47:21.806435",
     "exception": false,
     "start_time": "2023-06-20T00:47:21.768338",
     "status": "completed"
    },
    "tags": []
   },
   "outputs": [],
   "source": [
    "def calc_new_pred(pred):\n",
    "    class_0_est_instances = pred[:,0].sum()\n",
    "    others_est_instances = pred[:,1:].sum()\n",
    "    \n",
    "    if class_0_est_instances == 0 or others_est_instances == 0 :\n",
    "        return pred\n",
    "    # we reweight the probs, since the loss is also balanced like this\n",
    "    # our models out of the box optimize CE\n",
    "    # with these changes they optimize balanced CE\n",
    "    new_p = pred * np.array([[1/(class_0_est_instances if i==0 else others_est_instances) for i in range(pred.shape[1])]])\n",
    "    return new_p / np.sum(new_p,axis=1,keepdims=1)"
   ]
  },
  {
   "cell_type": "code",
   "execution_count": 163,
   "id": "5d3d71e1",
   "metadata": {
    "papermill": {
     "duration": 0.02855,
     "end_time": "2023-06-20T00:47:21.863562",
     "exception": false,
     "start_time": "2023-06-20T00:47:21.835012",
     "status": "completed"
    },
    "tags": []
   },
   "outputs": [],
   "source": [
    "def sigmoid(x):\n",
    "    return 1/ (1 + np.exp(-x))"
   ]
  },
  {
   "cell_type": "code",
   "execution_count": 164,
   "id": "861a9185",
   "metadata": {
    "execution": {
     "iopub.execute_input": "2023-06-20T00:47:21.922641Z",
     "iopub.status.busy": "2023-06-20T00:47:21.921653Z",
     "iopub.status.idle": "2023-06-20T00:47:21.930673Z",
     "shell.execute_reply": "2023-06-20T00:47:21.929801Z"
    },
    "papermill": {
     "duration": 0.040986,
     "end_time": "2023-06-20T00:47:21.932957",
     "exception": false,
     "start_time": "2023-06-20T00:47:21.891971",
     "status": "completed"
    },
    "tags": []
   },
   "outputs": [],
   "source": [
    "def competition_log_loss(y_true, y_pred):\n",
    "    N_0 = np.sum(1 - y_true)\n",
    "    N_1 = np.sum(y_true)\n",
    "    p_1 = np.clip(y_pred, 1e-15, 1 - 1e-15)\n",
    "    p_0 = 1 - p_1\n",
    "    log_loss_0 = -np.sum((1 - y_true) * np.log(p_0)) / N_0\n",
    "    log_loss_1 = -np.sum(y_true * np.log(p_1)) / N_1\n",
    "    return (log_loss_0 + log_loss_1)/2\n",
    "\n",
    "def __balanced_log_loss(y_true, y_pred):\n",
    "    N_0 = np.sum(1 - y_true)\n",
    "    N_1 = np.sum(y_true)\n",
    "    p_1 = np.clip(y_pred, 1e-15, 1 - 1e-15)\n",
    "    p_0 = 1 - p_1\n",
    "    log_loss_0 = -np.sum((1 - y_true) * np.log(p_0))\n",
    "    log_loss_1 = -np.sum(y_true * np.log(p_1))\n",
    "    w_0 = 1 / N_0\n",
    "    w_1 = 1 / N_1\n",
    "    balanced_log_loss = 2*(w_0 * log_loss_0 + w_1 * log_loss_1) / (w_0 + w_1)\n",
    "    return balanced_log_loss/(N_0+N_1)\n",
    "\n",
    "def lgb_metric(y_true, y_pred):\n",
    "    return 'balanced_log_loss', __balanced_log_loss(y_true, y_pred), False"
   ]
  },
  {
   "cell_type": "markdown",
   "id": "033d7f00",
   "metadata": {
    "papermill": {
     "duration": 0.028464,
     "end_time": "2023-06-20T00:47:21.989722",
     "exception": false,
     "start_time": "2023-06-20T00:47:21.961258",
     "status": "completed"
    },
    "tags": []
   },
   "source": [
    "# Read DATAS"
   ]
  },
  {
   "cell_type": "code",
   "execution_count": 165,
   "id": "d403e30e",
   "metadata": {
    "execution": {
     "iopub.execute_input": "2023-06-20T00:47:22.049361Z",
     "iopub.status.busy": "2023-06-20T00:47:22.048565Z",
     "iopub.status.idle": "2023-06-20T00:47:22.127903Z",
     "shell.execute_reply": "2023-06-20T00:47:22.127001Z"
    },
    "papermill": {
     "duration": 0.111672,
     "end_time": "2023-06-20T00:47:22.130150",
     "exception": false,
     "start_time": "2023-06-20T00:47:22.018478",
     "status": "completed"
    },
    "tags": []
   },
   "outputs": [],
   "source": [
    "df = pd.read_csv(\"../input/icr-identify-age-related-conditions/train.csv\", index_col=[0])\n",
    "greeks_df = pd.read_csv(\"../input/icr-identify-age-related-conditions/greeks.csv\", index_col=[0])\n",
    "\n",
    "# マジック（Epsilonを入れる）　🌟\n",
    "times = greeks_df.Epsilon.copy()\n",
    "times[greeks_df.Epsilon != 'Unknown'] = greeks_df.Epsilon[greeks_df.Epsilon != 'Unknown'].map(lambda x: datetime.strptime(x,'%m/%d/%Y').toordinal())\n",
    "times[greeks_df.Epsilon == 'Unknown'] = greeks_df.Epsilon[greeks_df.Epsilon != 'Unknown'].map(lambda x: datetime.strptime(x,'%m/%d/%Y').toordinal()).median()\n",
    "greeks_df['times'] = times\n",
    "df = df.merge(greeks_df['times'], left_index = True, right_index = True, how='left')\n",
    "new_order = df.columns.to_list()\n",
    "new_order[-2], new_order[-1] = new_order[-1], new_order[-2]\n",
    "df_train = df.reindex(columns=new_order)\n",
    "del df"
   ]
  },
  {
   "cell_type": "code",
   "execution_count": 166,
   "id": "66b8f506",
   "metadata": {},
   "outputs": [],
   "source": [
    "# # 2020-01-01より前を除外\n",
    "# sel = greeks_df.Epsilon != \"Unknown\"\n",
    "# greeks_df.loc[~sel, 'Epsilon'] = dt.datetime(1900,1,1)\n",
    "# greeks_df.loc[sel, 'Epsilon'] = pd.to_datetime(greeks_df.loc[sel, 'Epsilon'],  format='%m/%d/%Y')\n",
    "# df_train = df_train[greeks_df.Epsilon > dt.datetime(2020,1,1)]\n",
    "# greeks_df = greeks_df[greeks_df.Epsilon > dt.datetime(2020,1,1)]\n",
    "# df_train"
   ]
  },
  {
   "cell_type": "code",
   "execution_count": 167,
   "id": "41d9458a",
   "metadata": {
    "execution": {
     "iopub.execute_input": "2023-06-20T00:47:22.197454Z",
     "iopub.status.busy": "2023-06-20T00:47:22.196610Z",
     "iopub.status.idle": "2023-06-20T00:47:22.240600Z",
     "shell.execute_reply": "2023-06-20T00:47:22.239490Z"
    },
    "papermill": {
     "duration": 0.076774,
     "end_time": "2023-06-20T00:47:22.243345",
     "exception": false,
     "start_time": "2023-06-20T00:47:22.166571",
     "status": "completed"
    },
    "tags": []
   },
   "outputs": [
    {
     "data": {
      "text/html": [
       "<div>\n",
       "<style scoped>\n",
       "    .dataframe tbody tr th:only-of-type {\n",
       "        vertical-align: middle;\n",
       "    }\n",
       "\n",
       "    .dataframe tbody tr th {\n",
       "        vertical-align: top;\n",
       "    }\n",
       "\n",
       "    .dataframe thead th {\n",
       "        text-align: right;\n",
       "    }\n",
       "</style>\n",
       "<table border=\"1\" class=\"dataframe\">\n",
       "  <thead>\n",
       "    <tr style=\"text-align: right;\">\n",
       "      <th></th>\n",
       "      <th>AB</th>\n",
       "      <th>AF</th>\n",
       "      <th>AH</th>\n",
       "      <th>AM</th>\n",
       "      <th>AR</th>\n",
       "      <th>AX</th>\n",
       "      <th>AY</th>\n",
       "      <th>AZ</th>\n",
       "      <th>BC</th>\n",
       "      <th>BD</th>\n",
       "      <th>...</th>\n",
       "      <th>FL</th>\n",
       "      <th>FR</th>\n",
       "      <th>FS</th>\n",
       "      <th>GB</th>\n",
       "      <th>GE</th>\n",
       "      <th>GF</th>\n",
       "      <th>GH</th>\n",
       "      <th>GI</th>\n",
       "      <th>GL</th>\n",
       "      <th>times</th>\n",
       "    </tr>\n",
       "    <tr>\n",
       "      <th>Id</th>\n",
       "      <th></th>\n",
       "      <th></th>\n",
       "      <th></th>\n",
       "      <th></th>\n",
       "      <th></th>\n",
       "      <th></th>\n",
       "      <th></th>\n",
       "      <th></th>\n",
       "      <th></th>\n",
       "      <th></th>\n",
       "      <th></th>\n",
       "      <th></th>\n",
       "      <th></th>\n",
       "      <th></th>\n",
       "      <th></th>\n",
       "      <th></th>\n",
       "      <th></th>\n",
       "      <th></th>\n",
       "      <th></th>\n",
       "      <th></th>\n",
       "      <th></th>\n",
       "    </tr>\n",
       "  </thead>\n",
       "  <tbody>\n",
       "    <tr>\n",
       "      <th>00eed32682bb</th>\n",
       "      <td>0.0</td>\n",
       "      <td>0.0</td>\n",
       "      <td>0.0</td>\n",
       "      <td>0.0</td>\n",
       "      <td>0.0</td>\n",
       "      <td>0.0</td>\n",
       "      <td>0.0</td>\n",
       "      <td>0.0</td>\n",
       "      <td>0.0</td>\n",
       "      <td>0.0</td>\n",
       "      <td>...</td>\n",
       "      <td>0.0</td>\n",
       "      <td>0.0</td>\n",
       "      <td>0.0</td>\n",
       "      <td>0.0</td>\n",
       "      <td>0.0</td>\n",
       "      <td>0.0</td>\n",
       "      <td>0.0</td>\n",
       "      <td>0.0</td>\n",
       "      <td>0.0</td>\n",
       "      <td>737698.0</td>\n",
       "    </tr>\n",
       "    <tr>\n",
       "      <th>010ebe33f668</th>\n",
       "      <td>0.0</td>\n",
       "      <td>0.0</td>\n",
       "      <td>0.0</td>\n",
       "      <td>0.0</td>\n",
       "      <td>0.0</td>\n",
       "      <td>0.0</td>\n",
       "      <td>0.0</td>\n",
       "      <td>0.0</td>\n",
       "      <td>0.0</td>\n",
       "      <td>0.0</td>\n",
       "      <td>...</td>\n",
       "      <td>0.0</td>\n",
       "      <td>0.0</td>\n",
       "      <td>0.0</td>\n",
       "      <td>0.0</td>\n",
       "      <td>0.0</td>\n",
       "      <td>0.0</td>\n",
       "      <td>0.0</td>\n",
       "      <td>0.0</td>\n",
       "      <td>0.0</td>\n",
       "      <td>737698.0</td>\n",
       "    </tr>\n",
       "    <tr>\n",
       "      <th>02fa521e1838</th>\n",
       "      <td>0.0</td>\n",
       "      <td>0.0</td>\n",
       "      <td>0.0</td>\n",
       "      <td>0.0</td>\n",
       "      <td>0.0</td>\n",
       "      <td>0.0</td>\n",
       "      <td>0.0</td>\n",
       "      <td>0.0</td>\n",
       "      <td>0.0</td>\n",
       "      <td>0.0</td>\n",
       "      <td>...</td>\n",
       "      <td>0.0</td>\n",
       "      <td>0.0</td>\n",
       "      <td>0.0</td>\n",
       "      <td>0.0</td>\n",
       "      <td>0.0</td>\n",
       "      <td>0.0</td>\n",
       "      <td>0.0</td>\n",
       "      <td>0.0</td>\n",
       "      <td>0.0</td>\n",
       "      <td>737698.0</td>\n",
       "    </tr>\n",
       "    <tr>\n",
       "      <th>040e15f562a2</th>\n",
       "      <td>0.0</td>\n",
       "      <td>0.0</td>\n",
       "      <td>0.0</td>\n",
       "      <td>0.0</td>\n",
       "      <td>0.0</td>\n",
       "      <td>0.0</td>\n",
       "      <td>0.0</td>\n",
       "      <td>0.0</td>\n",
       "      <td>0.0</td>\n",
       "      <td>0.0</td>\n",
       "      <td>...</td>\n",
       "      <td>0.0</td>\n",
       "      <td>0.0</td>\n",
       "      <td>0.0</td>\n",
       "      <td>0.0</td>\n",
       "      <td>0.0</td>\n",
       "      <td>0.0</td>\n",
       "      <td>0.0</td>\n",
       "      <td>0.0</td>\n",
       "      <td>0.0</td>\n",
       "      <td>737698.0</td>\n",
       "    </tr>\n",
       "    <tr>\n",
       "      <th>046e85c7cc7f</th>\n",
       "      <td>0.0</td>\n",
       "      <td>0.0</td>\n",
       "      <td>0.0</td>\n",
       "      <td>0.0</td>\n",
       "      <td>0.0</td>\n",
       "      <td>0.0</td>\n",
       "      <td>0.0</td>\n",
       "      <td>0.0</td>\n",
       "      <td>0.0</td>\n",
       "      <td>0.0</td>\n",
       "      <td>...</td>\n",
       "      <td>0.0</td>\n",
       "      <td>0.0</td>\n",
       "      <td>0.0</td>\n",
       "      <td>0.0</td>\n",
       "      <td>0.0</td>\n",
       "      <td>0.0</td>\n",
       "      <td>0.0</td>\n",
       "      <td>0.0</td>\n",
       "      <td>0.0</td>\n",
       "      <td>737698.0</td>\n",
       "    </tr>\n",
       "  </tbody>\n",
       "</table>\n",
       "<p>5 rows × 57 columns</p>\n",
       "</div>"
      ],
      "text/plain": [
       "               AB   AF   AH   AM   AR   AX   AY   AZ   BC  BD   ...   FL   FR  \\\n",
       "Id                                                              ...             \n",
       "00eed32682bb  0.0  0.0  0.0  0.0  0.0  0.0  0.0  0.0  0.0  0.0  ...  0.0  0.0   \n",
       "010ebe33f668  0.0  0.0  0.0  0.0  0.0  0.0  0.0  0.0  0.0  0.0  ...  0.0  0.0   \n",
       "02fa521e1838  0.0  0.0  0.0  0.0  0.0  0.0  0.0  0.0  0.0  0.0  ...  0.0  0.0   \n",
       "040e15f562a2  0.0  0.0  0.0  0.0  0.0  0.0  0.0  0.0  0.0  0.0  ...  0.0  0.0   \n",
       "046e85c7cc7f  0.0  0.0  0.0  0.0  0.0  0.0  0.0  0.0  0.0  0.0  ...  0.0  0.0   \n",
       "\n",
       "               FS   GB   GE   GF   GH   GI   GL     times  \n",
       "Id                                                         \n",
       "00eed32682bb  0.0  0.0  0.0  0.0  0.0  0.0  0.0  737698.0  \n",
       "010ebe33f668  0.0  0.0  0.0  0.0  0.0  0.0  0.0  737698.0  \n",
       "02fa521e1838  0.0  0.0  0.0  0.0  0.0  0.0  0.0  737698.0  \n",
       "040e15f562a2  0.0  0.0  0.0  0.0  0.0  0.0  0.0  737698.0  \n",
       "046e85c7cc7f  0.0  0.0  0.0  0.0  0.0  0.0  0.0  737698.0  \n",
       "\n",
       "[5 rows x 57 columns]"
      ]
     },
     "execution_count": 167,
     "metadata": {},
     "output_type": "execute_result"
    }
   ],
   "source": [
    "df_test = pd.read_csv(\"../input/icr-identify-age-related-conditions/test.csv\", index_col=[0])\n",
    "df_test['times'] = times.max()+1\n",
    "df_test"
   ]
  },
  {
   "cell_type": "code",
   "execution_count": 168,
   "id": "f328cd22",
   "metadata": {
    "execution": {
     "iopub.execute_input": "2023-06-20T00:47:22.304716Z",
     "iopub.status.busy": "2023-06-20T00:47:22.303789Z",
     "iopub.status.idle": "2023-06-20T00:47:22.310952Z",
     "shell.execute_reply": "2023-06-20T00:47:22.310153Z"
    },
    "papermill": {
     "duration": 0.039539,
     "end_time": "2023-06-20T00:47:22.313509",
     "exception": false,
     "start_time": "2023-06-20T00:47:22.273970",
     "status": "completed"
    },
    "tags": []
   },
   "outputs": [],
   "source": [
    "df_train['EJ'] = df_train['EJ'].map({'A': 0.0, 'B': 1.0}, na_action=None)\n",
    "df_test['EJ'] = df_test['EJ'].map({'A': 0.0, 'B': 1.0}, na_action=None)"
   ]
  },
  {
   "cell_type": "code",
   "execution_count": 169,
   "id": "baa84465",
   "metadata": {
    "execution": {
     "iopub.execute_input": "2023-06-20T00:47:22.375059Z",
     "iopub.status.busy": "2023-06-20T00:47:22.374754Z",
     "iopub.status.idle": "2023-06-20T00:47:22.390901Z",
     "shell.execute_reply": "2023-06-20T00:47:22.390058Z"
    },
    "papermill": {
     "duration": 0.049542,
     "end_time": "2023-06-20T00:47:22.393194",
     "exception": false,
     "start_time": "2023-06-20T00:47:22.343652",
     "status": "completed"
    },
    "tags": []
   },
   "outputs": [
    {
     "data": {
      "text/html": [
       "<div>\n",
       "<style scoped>\n",
       "    .dataframe tbody tr th:only-of-type {\n",
       "        vertical-align: middle;\n",
       "    }\n",
       "\n",
       "    .dataframe tbody tr th {\n",
       "        vertical-align: top;\n",
       "    }\n",
       "\n",
       "    .dataframe thead th {\n",
       "        text-align: right;\n",
       "    }\n",
       "</style>\n",
       "<table border=\"1\" class=\"dataframe\">\n",
       "  <thead>\n",
       "    <tr style=\"text-align: right;\">\n",
       "      <th></th>\n",
       "      <th>Alpha</th>\n",
       "      <th>Beta</th>\n",
       "      <th>Gamma</th>\n",
       "      <th>Delta</th>\n",
       "      <th>Epsilon</th>\n",
       "      <th>times</th>\n",
       "      <th>Class</th>\n",
       "    </tr>\n",
       "    <tr>\n",
       "      <th>Id</th>\n",
       "      <th></th>\n",
       "      <th></th>\n",
       "      <th></th>\n",
       "      <th></th>\n",
       "      <th></th>\n",
       "      <th></th>\n",
       "      <th></th>\n",
       "    </tr>\n",
       "  </thead>\n",
       "  <tbody>\n",
       "    <tr>\n",
       "      <th>000ff2bfdfe9</th>\n",
       "      <td>B</td>\n",
       "      <td>C</td>\n",
       "      <td>G</td>\n",
       "      <td>D</td>\n",
       "      <td>3/19/2019</td>\n",
       "      <td>737137.0</td>\n",
       "      <td>1</td>\n",
       "    </tr>\n",
       "    <tr>\n",
       "      <th>007255e47698</th>\n",
       "      <td>A</td>\n",
       "      <td>C</td>\n",
       "      <td>M</td>\n",
       "      <td>B</td>\n",
       "      <td>Unknown</td>\n",
       "      <td>737269.0</td>\n",
       "      <td>0</td>\n",
       "    </tr>\n",
       "    <tr>\n",
       "      <th>013f2bd269f5</th>\n",
       "      <td>A</td>\n",
       "      <td>C</td>\n",
       "      <td>M</td>\n",
       "      <td>B</td>\n",
       "      <td>Unknown</td>\n",
       "      <td>737269.0</td>\n",
       "      <td>0</td>\n",
       "    </tr>\n",
       "    <tr>\n",
       "      <th>043ac50845d5</th>\n",
       "      <td>A</td>\n",
       "      <td>C</td>\n",
       "      <td>M</td>\n",
       "      <td>B</td>\n",
       "      <td>Unknown</td>\n",
       "      <td>737269.0</td>\n",
       "      <td>0</td>\n",
       "    </tr>\n",
       "    <tr>\n",
       "      <th>044fb8a146ec</th>\n",
       "      <td>D</td>\n",
       "      <td>B</td>\n",
       "      <td>F</td>\n",
       "      <td>B</td>\n",
       "      <td>3/25/2020</td>\n",
       "      <td>737509.0</td>\n",
       "      <td>2</td>\n",
       "    </tr>\n",
       "    <tr>\n",
       "      <th>...</th>\n",
       "      <td>...</td>\n",
       "      <td>...</td>\n",
       "      <td>...</td>\n",
       "      <td>...</td>\n",
       "      <td>...</td>\n",
       "      <td>...</td>\n",
       "      <td>...</td>\n",
       "    </tr>\n",
       "    <tr>\n",
       "      <th>fd3dafe738fd</th>\n",
       "      <td>A</td>\n",
       "      <td>B</td>\n",
       "      <td>M</td>\n",
       "      <td>B</td>\n",
       "      <td>9/13/2020</td>\n",
       "      <td>737681.0</td>\n",
       "      <td>0</td>\n",
       "    </tr>\n",
       "    <tr>\n",
       "      <th>fd895603f071</th>\n",
       "      <td>A</td>\n",
       "      <td>B</td>\n",
       "      <td>M</td>\n",
       "      <td>B</td>\n",
       "      <td>9/8/2020</td>\n",
       "      <td>737676.0</td>\n",
       "      <td>0</td>\n",
       "    </tr>\n",
       "    <tr>\n",
       "      <th>fd8ef6377f76</th>\n",
       "      <td>A</td>\n",
       "      <td>C</td>\n",
       "      <td>M</td>\n",
       "      <td>B</td>\n",
       "      <td>7/24/2019</td>\n",
       "      <td>737264.0</td>\n",
       "      <td>0</td>\n",
       "    </tr>\n",
       "    <tr>\n",
       "      <th>fe1942975e40</th>\n",
       "      <td>A</td>\n",
       "      <td>C</td>\n",
       "      <td>M</td>\n",
       "      <td>B</td>\n",
       "      <td>1/31/2019</td>\n",
       "      <td>737090.0</td>\n",
       "      <td>0</td>\n",
       "    </tr>\n",
       "    <tr>\n",
       "      <th>ffcca4ded3bb</th>\n",
       "      <td>A</td>\n",
       "      <td>C</td>\n",
       "      <td>M</td>\n",
       "      <td>B</td>\n",
       "      <td>Unknown</td>\n",
       "      <td>737269.0</td>\n",
       "      <td>0</td>\n",
       "    </tr>\n",
       "  </tbody>\n",
       "</table>\n",
       "<p>617 rows × 7 columns</p>\n",
       "</div>"
      ],
      "text/plain": [
       "             Alpha Beta Gamma Delta    Epsilon     times  Class\n",
       "Id                                                             \n",
       "000ff2bfdfe9     B    C     G     D  3/19/2019  737137.0      1\n",
       "007255e47698     A    C     M     B    Unknown  737269.0      0\n",
       "013f2bd269f5     A    C     M     B    Unknown  737269.0      0\n",
       "043ac50845d5     A    C     M     B    Unknown  737269.0      0\n",
       "044fb8a146ec     D    B     F     B  3/25/2020  737509.0      2\n",
       "...            ...  ...   ...   ...        ...       ...    ...\n",
       "fd3dafe738fd     A    B     M     B  9/13/2020  737681.0      0\n",
       "fd895603f071     A    B     M     B   9/8/2020  737676.0      0\n",
       "fd8ef6377f76     A    C     M     B  7/24/2019  737264.0      0\n",
       "fe1942975e40     A    C     M     B  1/31/2019  737090.0      0\n",
       "ffcca4ded3bb     A    C     M     B    Unknown  737269.0      0\n",
       "\n",
       "[617 rows x 7 columns]"
      ]
     },
     "execution_count": 169,
     "metadata": {},
     "output_type": "execute_result"
    }
   ],
   "source": [
    "greeks_df['Class'] = greeks_df['Alpha'].map({'A': 0, 'B': 1, 'D': 2, 'G': 3 }, na_action=None)\n",
    "greeks_df"
   ]
  },
  {
   "cell_type": "markdown",
   "id": "957563c3",
   "metadata": {
    "papermill": {
     "duration": 0.029049,
     "end_time": "2023-06-20T00:47:22.452044",
     "exception": false,
     "start_time": "2023-06-20T00:47:22.422995",
     "status": "completed"
    },
    "tags": []
   },
   "source": [
    "## nanをmedianに変更"
   ]
  },
  {
   "cell_type": "code",
   "execution_count": 170,
   "id": "395a97ff",
   "metadata": {
    "execution": {
     "iopub.execute_input": "2023-06-20T00:47:22.513212Z",
     "iopub.status.busy": "2023-06-20T00:47:22.512808Z",
     "iopub.status.idle": "2023-06-20T00:47:22.563239Z",
     "shell.execute_reply": "2023-06-20T00:47:22.562198Z"
    },
    "papermill": {
     "duration": 0.083401,
     "end_time": "2023-06-20T00:47:22.565312",
     "exception": false,
     "start_time": "2023-06-20T00:47:22.481911",
     "status": "completed"
    },
    "tags": []
   },
   "outputs": [
    {
     "data": {
      "text/html": [
       "<div>\n",
       "<style scoped>\n",
       "    .dataframe tbody tr th:only-of-type {\n",
       "        vertical-align: middle;\n",
       "    }\n",
       "\n",
       "    .dataframe tbody tr th {\n",
       "        vertical-align: top;\n",
       "    }\n",
       "\n",
       "    .dataframe thead th {\n",
       "        text-align: right;\n",
       "    }\n",
       "</style>\n",
       "<table border=\"1\" class=\"dataframe\">\n",
       "  <thead>\n",
       "    <tr style=\"text-align: right;\">\n",
       "      <th></th>\n",
       "      <th>AB</th>\n",
       "      <th>AF</th>\n",
       "      <th>AH</th>\n",
       "      <th>AM</th>\n",
       "      <th>AR</th>\n",
       "      <th>AX</th>\n",
       "      <th>AY</th>\n",
       "      <th>AZ</th>\n",
       "      <th>BC</th>\n",
       "      <th>BD</th>\n",
       "      <th>...</th>\n",
       "      <th>FR</th>\n",
       "      <th>FS</th>\n",
       "      <th>GB</th>\n",
       "      <th>GE</th>\n",
       "      <th>GF</th>\n",
       "      <th>GH</th>\n",
       "      <th>GI</th>\n",
       "      <th>GL</th>\n",
       "      <th>times</th>\n",
       "      <th>Class</th>\n",
       "    </tr>\n",
       "    <tr>\n",
       "      <th>Id</th>\n",
       "      <th></th>\n",
       "      <th></th>\n",
       "      <th></th>\n",
       "      <th></th>\n",
       "      <th></th>\n",
       "      <th></th>\n",
       "      <th></th>\n",
       "      <th></th>\n",
       "      <th></th>\n",
       "      <th></th>\n",
       "      <th></th>\n",
       "      <th></th>\n",
       "      <th></th>\n",
       "      <th></th>\n",
       "      <th></th>\n",
       "      <th></th>\n",
       "      <th></th>\n",
       "      <th></th>\n",
       "      <th></th>\n",
       "      <th></th>\n",
       "      <th></th>\n",
       "    </tr>\n",
       "  </thead>\n",
       "  <tbody>\n",
       "    <tr>\n",
       "      <th>000ff2bfdfe9</th>\n",
       "      <td>0.209377</td>\n",
       "      <td>3109.03329</td>\n",
       "      <td>85.200147</td>\n",
       "      <td>22.394407</td>\n",
       "      <td>8.138688</td>\n",
       "      <td>0.699861</td>\n",
       "      <td>0.025578</td>\n",
       "      <td>9.812214</td>\n",
       "      <td>5.555634</td>\n",
       "      <td>4126.58731</td>\n",
       "      <td>...</td>\n",
       "      <td>1.73855</td>\n",
       "      <td>0.094822</td>\n",
       "      <td>11.339138</td>\n",
       "      <td>72.611063</td>\n",
       "      <td>2003.810319</td>\n",
       "      <td>22.136229</td>\n",
       "      <td>69.834944</td>\n",
       "      <td>0.120343</td>\n",
       "      <td>737137.0</td>\n",
       "      <td>1</td>\n",
       "    </tr>\n",
       "    <tr>\n",
       "      <th>007255e47698</th>\n",
       "      <td>0.145282</td>\n",
       "      <td>978.76416</td>\n",
       "      <td>85.200147</td>\n",
       "      <td>36.968889</td>\n",
       "      <td>8.138688</td>\n",
       "      <td>3.632190</td>\n",
       "      <td>0.025578</td>\n",
       "      <td>13.517790</td>\n",
       "      <td>1.229900</td>\n",
       "      <td>5496.92824</td>\n",
       "      <td>...</td>\n",
       "      <td>0.49706</td>\n",
       "      <td>0.568932</td>\n",
       "      <td>9.292698</td>\n",
       "      <td>72.611063</td>\n",
       "      <td>27981.562750</td>\n",
       "      <td>29.135430</td>\n",
       "      <td>32.131996</td>\n",
       "      <td>21.978000</td>\n",
       "      <td>737269.0</td>\n",
       "      <td>0</td>\n",
       "    </tr>\n",
       "    <tr>\n",
       "      <th>013f2bd269f5</th>\n",
       "      <td>0.470030</td>\n",
       "      <td>2635.10654</td>\n",
       "      <td>85.200147</td>\n",
       "      <td>32.360553</td>\n",
       "      <td>8.138688</td>\n",
       "      <td>6.732840</td>\n",
       "      <td>0.025578</td>\n",
       "      <td>12.824570</td>\n",
       "      <td>1.229900</td>\n",
       "      <td>5135.78024</td>\n",
       "      <td>...</td>\n",
       "      <td>0.97556</td>\n",
       "      <td>1.198821</td>\n",
       "      <td>37.077772</td>\n",
       "      <td>88.609437</td>\n",
       "      <td>13676.957810</td>\n",
       "      <td>28.022851</td>\n",
       "      <td>35.192676</td>\n",
       "      <td>0.196941</td>\n",
       "      <td>737269.0</td>\n",
       "      <td>0</td>\n",
       "    </tr>\n",
       "    <tr>\n",
       "      <th>043ac50845d5</th>\n",
       "      <td>0.252107</td>\n",
       "      <td>3819.65177</td>\n",
       "      <td>120.201618</td>\n",
       "      <td>77.112203</td>\n",
       "      <td>8.138688</td>\n",
       "      <td>3.685344</td>\n",
       "      <td>0.025578</td>\n",
       "      <td>11.053708</td>\n",
       "      <td>1.229900</td>\n",
       "      <td>4169.67738</td>\n",
       "      <td>...</td>\n",
       "      <td>0.49706</td>\n",
       "      <td>0.284466</td>\n",
       "      <td>18.529584</td>\n",
       "      <td>82.416803</td>\n",
       "      <td>2094.262452</td>\n",
       "      <td>39.948656</td>\n",
       "      <td>90.493248</td>\n",
       "      <td>0.155829</td>\n",
       "      <td>737269.0</td>\n",
       "      <td>0</td>\n",
       "    </tr>\n",
       "    <tr>\n",
       "      <th>044fb8a146ec</th>\n",
       "      <td>0.380297</td>\n",
       "      <td>3733.04844</td>\n",
       "      <td>85.200147</td>\n",
       "      <td>14.103738</td>\n",
       "      <td>8.138688</td>\n",
       "      <td>3.942255</td>\n",
       "      <td>0.054810</td>\n",
       "      <td>3.396778</td>\n",
       "      <td>102.151980</td>\n",
       "      <td>5728.73412</td>\n",
       "      <td>...</td>\n",
       "      <td>48.50134</td>\n",
       "      <td>0.121914</td>\n",
       "      <td>16.408728</td>\n",
       "      <td>146.109943</td>\n",
       "      <td>8524.370502</td>\n",
       "      <td>45.381316</td>\n",
       "      <td>36.262628</td>\n",
       "      <td>0.096614</td>\n",
       "      <td>737509.0</td>\n",
       "      <td>1</td>\n",
       "    </tr>\n",
       "    <tr>\n",
       "      <th>...</th>\n",
       "      <td>...</td>\n",
       "      <td>...</td>\n",
       "      <td>...</td>\n",
       "      <td>...</td>\n",
       "      <td>...</td>\n",
       "      <td>...</td>\n",
       "      <td>...</td>\n",
       "      <td>...</td>\n",
       "      <td>...</td>\n",
       "      <td>...</td>\n",
       "      <td>...</td>\n",
       "      <td>...</td>\n",
       "      <td>...</td>\n",
       "      <td>...</td>\n",
       "      <td>...</td>\n",
       "      <td>...</td>\n",
       "      <td>...</td>\n",
       "      <td>...</td>\n",
       "      <td>...</td>\n",
       "      <td>...</td>\n",
       "      <td>...</td>\n",
       "    </tr>\n",
       "    <tr>\n",
       "      <th>fd3dafe738fd</th>\n",
       "      <td>0.149555</td>\n",
       "      <td>3130.05946</td>\n",
       "      <td>123.763599</td>\n",
       "      <td>9.513984</td>\n",
       "      <td>13.020852</td>\n",
       "      <td>3.499305</td>\n",
       "      <td>0.077343</td>\n",
       "      <td>8.545512</td>\n",
       "      <td>2.804172</td>\n",
       "      <td>4157.68439</td>\n",
       "      <td>...</td>\n",
       "      <td>1.26092</td>\n",
       "      <td>0.067730</td>\n",
       "      <td>8.967128</td>\n",
       "      <td>217.148554</td>\n",
       "      <td>8095.932828</td>\n",
       "      <td>24.640462</td>\n",
       "      <td>69.191944</td>\n",
       "      <td>21.978000</td>\n",
       "      <td>737681.0</td>\n",
       "      <td>0</td>\n",
       "    </tr>\n",
       "    <tr>\n",
       "      <th>fd895603f071</th>\n",
       "      <td>0.435846</td>\n",
       "      <td>5462.03438</td>\n",
       "      <td>85.200147</td>\n",
       "      <td>46.551007</td>\n",
       "      <td>15.973224</td>\n",
       "      <td>5.979825</td>\n",
       "      <td>0.025882</td>\n",
       "      <td>12.622906</td>\n",
       "      <td>3.777550</td>\n",
       "      <td>5654.07556</td>\n",
       "      <td>...</td>\n",
       "      <td>1.24236</td>\n",
       "      <td>0.426699</td>\n",
       "      <td>35.896418</td>\n",
       "      <td>496.994214</td>\n",
       "      <td>3085.308063</td>\n",
       "      <td>29.648928</td>\n",
       "      <td>124.808872</td>\n",
       "      <td>0.145340</td>\n",
       "      <td>737676.0</td>\n",
       "      <td>0</td>\n",
       "    </tr>\n",
       "    <tr>\n",
       "      <th>fd8ef6377f76</th>\n",
       "      <td>0.427300</td>\n",
       "      <td>2459.10720</td>\n",
       "      <td>130.138587</td>\n",
       "      <td>55.355778</td>\n",
       "      <td>10.005552</td>\n",
       "      <td>8.070549</td>\n",
       "      <td>0.025578</td>\n",
       "      <td>15.408390</td>\n",
       "      <td>1.229900</td>\n",
       "      <td>5888.87769</td>\n",
       "      <td>...</td>\n",
       "      <td>0.49706</td>\n",
       "      <td>0.067730</td>\n",
       "      <td>19.962092</td>\n",
       "      <td>128.896894</td>\n",
       "      <td>6474.652866</td>\n",
       "      <td>26.166072</td>\n",
       "      <td>119.559420</td>\n",
       "      <td>21.978000</td>\n",
       "      <td>737264.0</td>\n",
       "      <td>0</td>\n",
       "    </tr>\n",
       "    <tr>\n",
       "      <th>fe1942975e40</th>\n",
       "      <td>0.363205</td>\n",
       "      <td>1263.53524</td>\n",
       "      <td>85.200147</td>\n",
       "      <td>23.685856</td>\n",
       "      <td>8.138688</td>\n",
       "      <td>7.981959</td>\n",
       "      <td>0.025578</td>\n",
       "      <td>7.524588</td>\n",
       "      <td>1.229900</td>\n",
       "      <td>4517.86560</td>\n",
       "      <td>...</td>\n",
       "      <td>0.78764</td>\n",
       "      <td>0.670527</td>\n",
       "      <td>24.594488</td>\n",
       "      <td>72.611063</td>\n",
       "      <td>1965.343176</td>\n",
       "      <td>25.116750</td>\n",
       "      <td>37.155112</td>\n",
       "      <td>0.184622</td>\n",
       "      <td>737090.0</td>\n",
       "      <td>0</td>\n",
       "    </tr>\n",
       "    <tr>\n",
       "      <th>ffcca4ded3bb</th>\n",
       "      <td>0.482849</td>\n",
       "      <td>2672.53426</td>\n",
       "      <td>546.663930</td>\n",
       "      <td>112.006102</td>\n",
       "      <td>8.138688</td>\n",
       "      <td>3.198099</td>\n",
       "      <td>0.116928</td>\n",
       "      <td>3.396778</td>\n",
       "      <td>7.948668</td>\n",
       "      <td>2818.01707</td>\n",
       "      <td>...</td>\n",
       "      <td>1.14492</td>\n",
       "      <td>0.149006</td>\n",
       "      <td>13.673940</td>\n",
       "      <td>72.611063</td>\n",
       "      <td>6850.484442</td>\n",
       "      <td>45.745974</td>\n",
       "      <td>114.842372</td>\n",
       "      <td>21.978000</td>\n",
       "      <td>737269.0</td>\n",
       "      <td>0</td>\n",
       "    </tr>\n",
       "  </tbody>\n",
       "</table>\n",
       "<p>617 rows × 58 columns</p>\n",
       "</div>"
      ],
      "text/plain": [
       "                    AB          AF          AH          AM         AR  \\\n",
       "Id                                                                      \n",
       "000ff2bfdfe9  0.209377  3109.03329   85.200147   22.394407   8.138688   \n",
       "007255e47698  0.145282   978.76416   85.200147   36.968889   8.138688   \n",
       "013f2bd269f5  0.470030  2635.10654   85.200147   32.360553   8.138688   \n",
       "043ac50845d5  0.252107  3819.65177  120.201618   77.112203   8.138688   \n",
       "044fb8a146ec  0.380297  3733.04844   85.200147   14.103738   8.138688   \n",
       "...                ...         ...         ...         ...        ...   \n",
       "fd3dafe738fd  0.149555  3130.05946  123.763599    9.513984  13.020852   \n",
       "fd895603f071  0.435846  5462.03438   85.200147   46.551007  15.973224   \n",
       "fd8ef6377f76  0.427300  2459.10720  130.138587   55.355778  10.005552   \n",
       "fe1942975e40  0.363205  1263.53524   85.200147   23.685856   8.138688   \n",
       "ffcca4ded3bb  0.482849  2672.53426  546.663930  112.006102   8.138688   \n",
       "\n",
       "                    AX        AY         AZ          BC         BD   ...  \\\n",
       "Id                                                                   ...   \n",
       "000ff2bfdfe9  0.699861  0.025578   9.812214    5.555634  4126.58731  ...   \n",
       "007255e47698  3.632190  0.025578  13.517790    1.229900  5496.92824  ...   \n",
       "013f2bd269f5  6.732840  0.025578  12.824570    1.229900  5135.78024  ...   \n",
       "043ac50845d5  3.685344  0.025578  11.053708    1.229900  4169.67738  ...   \n",
       "044fb8a146ec  3.942255  0.054810   3.396778  102.151980  5728.73412  ...   \n",
       "...                ...       ...        ...         ...         ...  ...   \n",
       "fd3dafe738fd  3.499305  0.077343   8.545512    2.804172  4157.68439  ...   \n",
       "fd895603f071  5.979825  0.025882  12.622906    3.777550  5654.07556  ...   \n",
       "fd8ef6377f76  8.070549  0.025578  15.408390    1.229900  5888.87769  ...   \n",
       "fe1942975e40  7.981959  0.025578   7.524588    1.229900  4517.86560  ...   \n",
       "ffcca4ded3bb  3.198099  0.116928   3.396778    7.948668  2818.01707  ...   \n",
       "\n",
       "                    FR        FS         GB          GE            GF  \\\n",
       "Id                                                                      \n",
       "000ff2bfdfe9   1.73855  0.094822  11.339138   72.611063   2003.810319   \n",
       "007255e47698   0.49706  0.568932   9.292698   72.611063  27981.562750   \n",
       "013f2bd269f5   0.97556  1.198821  37.077772   88.609437  13676.957810   \n",
       "043ac50845d5   0.49706  0.284466  18.529584   82.416803   2094.262452   \n",
       "044fb8a146ec  48.50134  0.121914  16.408728  146.109943   8524.370502   \n",
       "...                ...       ...        ...         ...           ...   \n",
       "fd3dafe738fd   1.26092  0.067730   8.967128  217.148554   8095.932828   \n",
       "fd895603f071   1.24236  0.426699  35.896418  496.994214   3085.308063   \n",
       "fd8ef6377f76   0.49706  0.067730  19.962092  128.896894   6474.652866   \n",
       "fe1942975e40   0.78764  0.670527  24.594488   72.611063   1965.343176   \n",
       "ffcca4ded3bb   1.14492  0.149006  13.673940   72.611063   6850.484442   \n",
       "\n",
       "                     GH          GI         GL     times  Class  \n",
       "Id                                                               \n",
       "000ff2bfdfe9  22.136229   69.834944   0.120343  737137.0      1  \n",
       "007255e47698  29.135430   32.131996  21.978000  737269.0      0  \n",
       "013f2bd269f5  28.022851   35.192676   0.196941  737269.0      0  \n",
       "043ac50845d5  39.948656   90.493248   0.155829  737269.0      0  \n",
       "044fb8a146ec  45.381316   36.262628   0.096614  737509.0      1  \n",
       "...                 ...         ...        ...       ...    ...  \n",
       "fd3dafe738fd  24.640462   69.191944  21.978000  737681.0      0  \n",
       "fd895603f071  29.648928  124.808872   0.145340  737676.0      0  \n",
       "fd8ef6377f76  26.166072  119.559420  21.978000  737264.0      0  \n",
       "fe1942975e40  25.116750   37.155112   0.184622  737090.0      0  \n",
       "ffcca4ded3bb  45.745974  114.842372  21.978000  737269.0      0  \n",
       "\n",
       "[617 rows x 58 columns]"
      ]
     },
     "execution_count": 170,
     "metadata": {},
     "output_type": "execute_result"
    }
   ],
   "source": [
    "#　https://www.kaggle.com/competitions/icr-identify-age-related-conditions/discussion/417250\n",
    "# df_train['EL'] = df_train['EL'].fillna(df_train['EL'].mode()[0]) <-- 要検討\n",
    "\n",
    "col_mean = df_train.median(axis=0)\n",
    "# col_mean = df_train.mode().iloc[0]\n",
    "for i, colname in enumerate(df_train.columns):\n",
    "    df_train[colname].fillna(col_mean[i], inplace=True)\n",
    "df_train"
   ]
  },
  {
   "cell_type": "code",
   "execution_count": 171,
   "id": "3aca593b",
   "metadata": {
    "execution": {
     "iopub.execute_input": "2023-06-20T00:47:22.629115Z",
     "iopub.status.busy": "2023-06-20T00:47:22.628122Z",
     "iopub.status.idle": "2023-06-20T00:47:22.675404Z",
     "shell.execute_reply": "2023-06-20T00:47:22.674220Z"
    },
    "papermill": {
     "duration": 0.081789,
     "end_time": "2023-06-20T00:47:22.678529",
     "exception": false,
     "start_time": "2023-06-20T00:47:22.596740",
     "status": "completed"
    },
    "tags": []
   },
   "outputs": [
    {
     "data": {
      "text/html": [
       "<div>\n",
       "<style scoped>\n",
       "    .dataframe tbody tr th:only-of-type {\n",
       "        vertical-align: middle;\n",
       "    }\n",
       "\n",
       "    .dataframe tbody tr th {\n",
       "        vertical-align: top;\n",
       "    }\n",
       "\n",
       "    .dataframe thead th {\n",
       "        text-align: right;\n",
       "    }\n",
       "</style>\n",
       "<table border=\"1\" class=\"dataframe\">\n",
       "  <thead>\n",
       "    <tr style=\"text-align: right;\">\n",
       "      <th></th>\n",
       "      <th>AB</th>\n",
       "      <th>AF</th>\n",
       "      <th>AH</th>\n",
       "      <th>AM</th>\n",
       "      <th>AR</th>\n",
       "      <th>AX</th>\n",
       "      <th>AY</th>\n",
       "      <th>AZ</th>\n",
       "      <th>BC</th>\n",
       "      <th>BD</th>\n",
       "      <th>...</th>\n",
       "      <th>FL</th>\n",
       "      <th>FR</th>\n",
       "      <th>FS</th>\n",
       "      <th>GB</th>\n",
       "      <th>GE</th>\n",
       "      <th>GF</th>\n",
       "      <th>GH</th>\n",
       "      <th>GI</th>\n",
       "      <th>GL</th>\n",
       "      <th>times</th>\n",
       "    </tr>\n",
       "    <tr>\n",
       "      <th>Id</th>\n",
       "      <th></th>\n",
       "      <th></th>\n",
       "      <th></th>\n",
       "      <th></th>\n",
       "      <th></th>\n",
       "      <th></th>\n",
       "      <th></th>\n",
       "      <th></th>\n",
       "      <th></th>\n",
       "      <th></th>\n",
       "      <th></th>\n",
       "      <th></th>\n",
       "      <th></th>\n",
       "      <th></th>\n",
       "      <th></th>\n",
       "      <th></th>\n",
       "      <th></th>\n",
       "      <th></th>\n",
       "      <th></th>\n",
       "      <th></th>\n",
       "      <th></th>\n",
       "    </tr>\n",
       "  </thead>\n",
       "  <tbody>\n",
       "    <tr>\n",
       "      <th>00eed32682bb</th>\n",
       "      <td>0.0</td>\n",
       "      <td>0.0</td>\n",
       "      <td>0.0</td>\n",
       "      <td>0.0</td>\n",
       "      <td>0.0</td>\n",
       "      <td>0.0</td>\n",
       "      <td>0.0</td>\n",
       "      <td>0.0</td>\n",
       "      <td>0.0</td>\n",
       "      <td>0.0</td>\n",
       "      <td>...</td>\n",
       "      <td>0.0</td>\n",
       "      <td>0.0</td>\n",
       "      <td>0.0</td>\n",
       "      <td>0.0</td>\n",
       "      <td>0.0</td>\n",
       "      <td>0.0</td>\n",
       "      <td>0.0</td>\n",
       "      <td>0.0</td>\n",
       "      <td>0.0</td>\n",
       "      <td>737698.0</td>\n",
       "    </tr>\n",
       "    <tr>\n",
       "      <th>010ebe33f668</th>\n",
       "      <td>0.0</td>\n",
       "      <td>0.0</td>\n",
       "      <td>0.0</td>\n",
       "      <td>0.0</td>\n",
       "      <td>0.0</td>\n",
       "      <td>0.0</td>\n",
       "      <td>0.0</td>\n",
       "      <td>0.0</td>\n",
       "      <td>0.0</td>\n",
       "      <td>0.0</td>\n",
       "      <td>...</td>\n",
       "      <td>0.0</td>\n",
       "      <td>0.0</td>\n",
       "      <td>0.0</td>\n",
       "      <td>0.0</td>\n",
       "      <td>0.0</td>\n",
       "      <td>0.0</td>\n",
       "      <td>0.0</td>\n",
       "      <td>0.0</td>\n",
       "      <td>0.0</td>\n",
       "      <td>737698.0</td>\n",
       "    </tr>\n",
       "    <tr>\n",
       "      <th>02fa521e1838</th>\n",
       "      <td>0.0</td>\n",
       "      <td>0.0</td>\n",
       "      <td>0.0</td>\n",
       "      <td>0.0</td>\n",
       "      <td>0.0</td>\n",
       "      <td>0.0</td>\n",
       "      <td>0.0</td>\n",
       "      <td>0.0</td>\n",
       "      <td>0.0</td>\n",
       "      <td>0.0</td>\n",
       "      <td>...</td>\n",
       "      <td>0.0</td>\n",
       "      <td>0.0</td>\n",
       "      <td>0.0</td>\n",
       "      <td>0.0</td>\n",
       "      <td>0.0</td>\n",
       "      <td>0.0</td>\n",
       "      <td>0.0</td>\n",
       "      <td>0.0</td>\n",
       "      <td>0.0</td>\n",
       "      <td>737698.0</td>\n",
       "    </tr>\n",
       "    <tr>\n",
       "      <th>040e15f562a2</th>\n",
       "      <td>0.0</td>\n",
       "      <td>0.0</td>\n",
       "      <td>0.0</td>\n",
       "      <td>0.0</td>\n",
       "      <td>0.0</td>\n",
       "      <td>0.0</td>\n",
       "      <td>0.0</td>\n",
       "      <td>0.0</td>\n",
       "      <td>0.0</td>\n",
       "      <td>0.0</td>\n",
       "      <td>...</td>\n",
       "      <td>0.0</td>\n",
       "      <td>0.0</td>\n",
       "      <td>0.0</td>\n",
       "      <td>0.0</td>\n",
       "      <td>0.0</td>\n",
       "      <td>0.0</td>\n",
       "      <td>0.0</td>\n",
       "      <td>0.0</td>\n",
       "      <td>0.0</td>\n",
       "      <td>737698.0</td>\n",
       "    </tr>\n",
       "    <tr>\n",
       "      <th>046e85c7cc7f</th>\n",
       "      <td>0.0</td>\n",
       "      <td>0.0</td>\n",
       "      <td>0.0</td>\n",
       "      <td>0.0</td>\n",
       "      <td>0.0</td>\n",
       "      <td>0.0</td>\n",
       "      <td>0.0</td>\n",
       "      <td>0.0</td>\n",
       "      <td>0.0</td>\n",
       "      <td>0.0</td>\n",
       "      <td>...</td>\n",
       "      <td>0.0</td>\n",
       "      <td>0.0</td>\n",
       "      <td>0.0</td>\n",
       "      <td>0.0</td>\n",
       "      <td>0.0</td>\n",
       "      <td>0.0</td>\n",
       "      <td>0.0</td>\n",
       "      <td>0.0</td>\n",
       "      <td>0.0</td>\n",
       "      <td>737698.0</td>\n",
       "    </tr>\n",
       "  </tbody>\n",
       "</table>\n",
       "<p>5 rows × 57 columns</p>\n",
       "</div>"
      ],
      "text/plain": [
       "               AB   AF   AH   AM   AR   AX   AY   AZ   BC  BD   ...   FL   FR  \\\n",
       "Id                                                              ...             \n",
       "00eed32682bb  0.0  0.0  0.0  0.0  0.0  0.0  0.0  0.0  0.0  0.0  ...  0.0  0.0   \n",
       "010ebe33f668  0.0  0.0  0.0  0.0  0.0  0.0  0.0  0.0  0.0  0.0  ...  0.0  0.0   \n",
       "02fa521e1838  0.0  0.0  0.0  0.0  0.0  0.0  0.0  0.0  0.0  0.0  ...  0.0  0.0   \n",
       "040e15f562a2  0.0  0.0  0.0  0.0  0.0  0.0  0.0  0.0  0.0  0.0  ...  0.0  0.0   \n",
       "046e85c7cc7f  0.0  0.0  0.0  0.0  0.0  0.0  0.0  0.0  0.0  0.0  ...  0.0  0.0   \n",
       "\n",
       "               FS   GB   GE   GF   GH   GI   GL     times  \n",
       "Id                                                         \n",
       "00eed32682bb  0.0  0.0  0.0  0.0  0.0  0.0  0.0  737698.0  \n",
       "010ebe33f668  0.0  0.0  0.0  0.0  0.0  0.0  0.0  737698.0  \n",
       "02fa521e1838  0.0  0.0  0.0  0.0  0.0  0.0  0.0  737698.0  \n",
       "040e15f562a2  0.0  0.0  0.0  0.0  0.0  0.0  0.0  737698.0  \n",
       "046e85c7cc7f  0.0  0.0  0.0  0.0  0.0  0.0  0.0  737698.0  \n",
       "\n",
       "[5 rows x 57 columns]"
      ]
     },
     "execution_count": 171,
     "metadata": {},
     "output_type": "execute_result"
    }
   ],
   "source": [
    "for i, colname in enumerate(df_test.columns):\n",
    "    df_test[colname].fillna(col_mean[i], inplace=True)\n",
    "df_test"
   ]
  },
  {
   "cell_type": "markdown",
   "id": "1fc93d62",
   "metadata": {
    "papermill": {
     "duration": 0.034972,
     "end_time": "2023-06-20T00:47:22.749202",
     "exception": false,
     "start_time": "2023-06-20T00:47:22.714230",
     "status": "completed"
    },
    "tags": []
   },
   "source": [
    "### 列 BC と CL を削除\n",
    "自分のコードではCVが低下したので一旦コメントアウト\n",
    "\n",
    "https://www.kaggle.com/competitions/icr-identify-age-related-conditions/discussion/414638"
   ]
  },
  {
   "cell_type": "code",
   "execution_count": 172,
   "id": "c3601679",
   "metadata": {
    "execution": {
     "iopub.execute_input": "2023-06-20T00:47:22.813374Z",
     "iopub.status.busy": "2023-06-20T00:47:22.812348Z",
     "iopub.status.idle": "2023-06-20T00:47:22.817658Z",
     "shell.execute_reply": "2023-06-20T00:47:22.816806Z"
    },
    "papermill": {
     "duration": 0.039358,
     "end_time": "2023-06-20T00:47:22.819704",
     "exception": false,
     "start_time": "2023-06-20T00:47:22.780346",
     "status": "completed"
    },
    "tags": []
   },
   "outputs": [],
   "source": [
    "if del_BC_CL:\n",
    "    df_train = df_train.drop(['BC','CL'], axis=1)\n",
    "    df_test = df_test.drop(['BC','CL'], axis=1)"
   ]
  },
  {
   "cell_type": "markdown",
   "id": "0675a70e",
   "metadata": {
    "papermill": {
     "duration": 0.030678,
     "end_time": "2023-06-20T00:47:22.881799",
     "exception": false,
     "start_time": "2023-06-20T00:47:22.851121",
     "status": "completed"
    },
    "tags": []
   },
   "source": [
    "### smote\n",
    "今回は効果なさそうなので使わない。use_SMOTEもoff固定！！ **使うと不具合出るかも**"
   ]
  },
  {
   "cell_type": "code",
   "execution_count": 173,
   "id": "350019e2",
   "metadata": {
    "execution": {
     "iopub.execute_input": "2023-06-20T00:47:22.944366Z",
     "iopub.status.busy": "2023-06-20T00:47:22.943407Z",
     "iopub.status.idle": "2023-06-20T00:47:28.952104Z",
     "shell.execute_reply": "2023-06-20T00:47:28.951109Z"
    },
    "papermill": {
     "duration": 6.04274,
     "end_time": "2023-06-20T00:47:28.954492",
     "exception": false,
     "start_time": "2023-06-20T00:47:22.911752",
     "status": "completed"
    },
    "tags": []
   },
   "outputs": [
    {
     "data": {
      "image/png": "[encoded data removed]",
      "text/plain": [
       "<Figure size 640x480 with 1 Axes>"
      ]
     },
     "metadata": {},
     "output_type": "display_data"
    }
   ],
   "source": [
    "from imblearn.over_sampling import SMOTE\n",
    "from imblearn.combine import SMOTETomek\n",
    "\n",
    "X = df_train[df_train.columns[:-1]]\n",
    "y = df_train.Class\n",
    "sm = SMOTETomek(random_state=57)\n",
    "X_res, y_res = sm.fit_resample(X, y)\n",
    "\n",
    "from sklearn.manifold import TSNE\n",
    "pca = TSNE(n_components=2, random_state=0)\n",
    "X_reduced_tsne = pca.fit_transform(X_res)  # wineデータをPCAで次元圧縮\n",
    "plt.scatter(X_reduced_tsne[:, 0], X_reduced_tsne[:, 1],\n",
    "            c=y_res, cmap='jet', alpha=0.3)\n",
    "plt.show()\n",
    "\n",
    "if use_SMOTE:\n",
    "    X_res['Class'] = y_res\n",
    "    df_train = X_res"
   ]
  },
  {
   "cell_type": "code",
   "execution_count": 174,
   "id": "de1cd50b",
   "metadata": {
    "execution": {
     "iopub.execute_input": "2023-06-20T00:47:29.020706Z",
     "iopub.status.busy": "2023-06-20T00:47:29.020352Z",
     "iopub.status.idle": "2023-06-20T00:47:29.052809Z",
     "shell.execute_reply": "2023-06-20T00:47:29.051701Z"
    },
    "papermill": {
     "duration": 0.068213,
     "end_time": "2023-06-20T00:47:29.055263",
     "exception": false,
     "start_time": "2023-06-20T00:47:28.987050",
     "status": "completed"
    },
    "tags": []
   },
   "outputs": [
    {
     "data": {
      "text/html": [
       "<div>\n",
       "<style scoped>\n",
       "    .dataframe tbody tr th:only-of-type {\n",
       "        vertical-align: middle;\n",
       "    }\n",
       "\n",
       "    .dataframe tbody tr th {\n",
       "        vertical-align: top;\n",
       "    }\n",
       "\n",
       "    .dataframe thead th {\n",
       "        text-align: right;\n",
       "    }\n",
       "</style>\n",
       "<table border=\"1\" class=\"dataframe\">\n",
       "  <thead>\n",
       "    <tr style=\"text-align: right;\">\n",
       "      <th></th>\n",
       "      <th>AB</th>\n",
       "      <th>AF</th>\n",
       "      <th>AH</th>\n",
       "      <th>AM</th>\n",
       "      <th>AR</th>\n",
       "      <th>AX</th>\n",
       "      <th>AY</th>\n",
       "      <th>AZ</th>\n",
       "      <th>BC</th>\n",
       "      <th>BD</th>\n",
       "      <th>...</th>\n",
       "      <th>FR</th>\n",
       "      <th>FS</th>\n",
       "      <th>GB</th>\n",
       "      <th>GE</th>\n",
       "      <th>GF</th>\n",
       "      <th>GH</th>\n",
       "      <th>GI</th>\n",
       "      <th>GL</th>\n",
       "      <th>times</th>\n",
       "      <th>Class</th>\n",
       "    </tr>\n",
       "    <tr>\n",
       "      <th>Id</th>\n",
       "      <th></th>\n",
       "      <th></th>\n",
       "      <th></th>\n",
       "      <th></th>\n",
       "      <th></th>\n",
       "      <th></th>\n",
       "      <th></th>\n",
       "      <th></th>\n",
       "      <th></th>\n",
       "      <th></th>\n",
       "      <th></th>\n",
       "      <th></th>\n",
       "      <th></th>\n",
       "      <th></th>\n",
       "      <th></th>\n",
       "      <th></th>\n",
       "      <th></th>\n",
       "      <th></th>\n",
       "      <th></th>\n",
       "      <th></th>\n",
       "      <th></th>\n",
       "    </tr>\n",
       "  </thead>\n",
       "  <tbody>\n",
       "    <tr>\n",
       "      <th>000ff2bfdfe9</th>\n",
       "      <td>0.209377</td>\n",
       "      <td>3109.03329</td>\n",
       "      <td>85.200147</td>\n",
       "      <td>22.394407</td>\n",
       "      <td>8.138688</td>\n",
       "      <td>0.699861</td>\n",
       "      <td>0.025578</td>\n",
       "      <td>9.812214</td>\n",
       "      <td>5.555634</td>\n",
       "      <td>4126.58731</td>\n",
       "      <td>...</td>\n",
       "      <td>1.73855</td>\n",
       "      <td>0.094822</td>\n",
       "      <td>11.339138</td>\n",
       "      <td>72.611063</td>\n",
       "      <td>2003.810319</td>\n",
       "      <td>22.136229</td>\n",
       "      <td>69.834944</td>\n",
       "      <td>0.120343</td>\n",
       "      <td>737137.0</td>\n",
       "      <td>1</td>\n",
       "    </tr>\n",
       "    <tr>\n",
       "      <th>007255e47698</th>\n",
       "      <td>0.145282</td>\n",
       "      <td>978.76416</td>\n",
       "      <td>85.200147</td>\n",
       "      <td>36.968889</td>\n",
       "      <td>8.138688</td>\n",
       "      <td>3.632190</td>\n",
       "      <td>0.025578</td>\n",
       "      <td>13.517790</td>\n",
       "      <td>1.229900</td>\n",
       "      <td>5496.92824</td>\n",
       "      <td>...</td>\n",
       "      <td>0.49706</td>\n",
       "      <td>0.568932</td>\n",
       "      <td>9.292698</td>\n",
       "      <td>72.611063</td>\n",
       "      <td>27981.562750</td>\n",
       "      <td>29.135430</td>\n",
       "      <td>32.131996</td>\n",
       "      <td>21.978000</td>\n",
       "      <td>737269.0</td>\n",
       "      <td>0</td>\n",
       "    </tr>\n",
       "    <tr>\n",
       "      <th>013f2bd269f5</th>\n",
       "      <td>0.470030</td>\n",
       "      <td>2635.10654</td>\n",
       "      <td>85.200147</td>\n",
       "      <td>32.360553</td>\n",
       "      <td>8.138688</td>\n",
       "      <td>6.732840</td>\n",
       "      <td>0.025578</td>\n",
       "      <td>12.824570</td>\n",
       "      <td>1.229900</td>\n",
       "      <td>5135.78024</td>\n",
       "      <td>...</td>\n",
       "      <td>0.97556</td>\n",
       "      <td>1.198821</td>\n",
       "      <td>37.077772</td>\n",
       "      <td>88.609437</td>\n",
       "      <td>13676.957810</td>\n",
       "      <td>28.022851</td>\n",
       "      <td>35.192676</td>\n",
       "      <td>0.196941</td>\n",
       "      <td>737269.0</td>\n",
       "      <td>0</td>\n",
       "    </tr>\n",
       "    <tr>\n",
       "      <th>043ac50845d5</th>\n",
       "      <td>0.252107</td>\n",
       "      <td>3819.65177</td>\n",
       "      <td>120.201618</td>\n",
       "      <td>77.112203</td>\n",
       "      <td>8.138688</td>\n",
       "      <td>3.685344</td>\n",
       "      <td>0.025578</td>\n",
       "      <td>11.053708</td>\n",
       "      <td>1.229900</td>\n",
       "      <td>4169.67738</td>\n",
       "      <td>...</td>\n",
       "      <td>0.49706</td>\n",
       "      <td>0.284466</td>\n",
       "      <td>18.529584</td>\n",
       "      <td>82.416803</td>\n",
       "      <td>2094.262452</td>\n",
       "      <td>39.948656</td>\n",
       "      <td>90.493248</td>\n",
       "      <td>0.155829</td>\n",
       "      <td>737269.0</td>\n",
       "      <td>0</td>\n",
       "    </tr>\n",
       "    <tr>\n",
       "      <th>044fb8a146ec</th>\n",
       "      <td>0.380297</td>\n",
       "      <td>3733.04844</td>\n",
       "      <td>85.200147</td>\n",
       "      <td>14.103738</td>\n",
       "      <td>8.138688</td>\n",
       "      <td>3.942255</td>\n",
       "      <td>0.054810</td>\n",
       "      <td>3.396778</td>\n",
       "      <td>102.151980</td>\n",
       "      <td>5728.73412</td>\n",
       "      <td>...</td>\n",
       "      <td>48.50134</td>\n",
       "      <td>0.121914</td>\n",
       "      <td>16.408728</td>\n",
       "      <td>146.109943</td>\n",
       "      <td>8524.370502</td>\n",
       "      <td>45.381316</td>\n",
       "      <td>36.262628</td>\n",
       "      <td>0.096614</td>\n",
       "      <td>737509.0</td>\n",
       "      <td>1</td>\n",
       "    </tr>\n",
       "    <tr>\n",
       "      <th>...</th>\n",
       "      <td>...</td>\n",
       "      <td>...</td>\n",
       "      <td>...</td>\n",
       "      <td>...</td>\n",
       "      <td>...</td>\n",
       "      <td>...</td>\n",
       "      <td>...</td>\n",
       "      <td>...</td>\n",
       "      <td>...</td>\n",
       "      <td>...</td>\n",
       "      <td>...</td>\n",
       "      <td>...</td>\n",
       "      <td>...</td>\n",
       "      <td>...</td>\n",
       "      <td>...</td>\n",
       "      <td>...</td>\n",
       "      <td>...</td>\n",
       "      <td>...</td>\n",
       "      <td>...</td>\n",
       "      <td>...</td>\n",
       "      <td>...</td>\n",
       "    </tr>\n",
       "    <tr>\n",
       "      <th>fd3dafe738fd</th>\n",
       "      <td>0.149555</td>\n",
       "      <td>3130.05946</td>\n",
       "      <td>123.763599</td>\n",
       "      <td>9.513984</td>\n",
       "      <td>13.020852</td>\n",
       "      <td>3.499305</td>\n",
       "      <td>0.077343</td>\n",
       "      <td>8.545512</td>\n",
       "      <td>2.804172</td>\n",
       "      <td>4157.68439</td>\n",
       "      <td>...</td>\n",
       "      <td>1.26092</td>\n",
       "      <td>0.067730</td>\n",
       "      <td>8.967128</td>\n",
       "      <td>217.148554</td>\n",
       "      <td>8095.932828</td>\n",
       "      <td>24.640462</td>\n",
       "      <td>69.191944</td>\n",
       "      <td>21.978000</td>\n",
       "      <td>737681.0</td>\n",
       "      <td>0</td>\n",
       "    </tr>\n",
       "    <tr>\n",
       "      <th>fd895603f071</th>\n",
       "      <td>0.435846</td>\n",
       "      <td>5462.03438</td>\n",
       "      <td>85.200147</td>\n",
       "      <td>46.551007</td>\n",
       "      <td>15.973224</td>\n",
       "      <td>5.979825</td>\n",
       "      <td>0.025882</td>\n",
       "      <td>12.622906</td>\n",
       "      <td>3.777550</td>\n",
       "      <td>5654.07556</td>\n",
       "      <td>...</td>\n",
       "      <td>1.24236</td>\n",
       "      <td>0.426699</td>\n",
       "      <td>35.896418</td>\n",
       "      <td>496.994214</td>\n",
       "      <td>3085.308063</td>\n",
       "      <td>29.648928</td>\n",
       "      <td>124.808872</td>\n",
       "      <td>0.145340</td>\n",
       "      <td>737676.0</td>\n",
       "      <td>0</td>\n",
       "    </tr>\n",
       "    <tr>\n",
       "      <th>fd8ef6377f76</th>\n",
       "      <td>0.427300</td>\n",
       "      <td>2459.10720</td>\n",
       "      <td>130.138587</td>\n",
       "      <td>55.355778</td>\n",
       "      <td>10.005552</td>\n",
       "      <td>8.070549</td>\n",
       "      <td>0.025578</td>\n",
       "      <td>15.408390</td>\n",
       "      <td>1.229900</td>\n",
       "      <td>5888.87769</td>\n",
       "      <td>...</td>\n",
       "      <td>0.49706</td>\n",
       "      <td>0.067730</td>\n",
       "      <td>19.962092</td>\n",
       "      <td>128.896894</td>\n",
       "      <td>6474.652866</td>\n",
       "      <td>26.166072</td>\n",
       "      <td>119.559420</td>\n",
       "      <td>21.978000</td>\n",
       "      <td>737264.0</td>\n",
       "      <td>0</td>\n",
       "    </tr>\n",
       "    <tr>\n",
       "      <th>fe1942975e40</th>\n",
       "      <td>0.363205</td>\n",
       "      <td>1263.53524</td>\n",
       "      <td>85.200147</td>\n",
       "      <td>23.685856</td>\n",
       "      <td>8.138688</td>\n",
       "      <td>7.981959</td>\n",
       "      <td>0.025578</td>\n",
       "      <td>7.524588</td>\n",
       "      <td>1.229900</td>\n",
       "      <td>4517.86560</td>\n",
       "      <td>...</td>\n",
       "      <td>0.78764</td>\n",
       "      <td>0.670527</td>\n",
       "      <td>24.594488</td>\n",
       "      <td>72.611063</td>\n",
       "      <td>1965.343176</td>\n",
       "      <td>25.116750</td>\n",
       "      <td>37.155112</td>\n",
       "      <td>0.184622</td>\n",
       "      <td>737090.0</td>\n",
       "      <td>0</td>\n",
       "    </tr>\n",
       "    <tr>\n",
       "      <th>ffcca4ded3bb</th>\n",
       "      <td>0.482849</td>\n",
       "      <td>2672.53426</td>\n",
       "      <td>546.663930</td>\n",
       "      <td>112.006102</td>\n",
       "      <td>8.138688</td>\n",
       "      <td>3.198099</td>\n",
       "      <td>0.116928</td>\n",
       "      <td>3.396778</td>\n",
       "      <td>7.948668</td>\n",
       "      <td>2818.01707</td>\n",
       "      <td>...</td>\n",
       "      <td>1.14492</td>\n",
       "      <td>0.149006</td>\n",
       "      <td>13.673940</td>\n",
       "      <td>72.611063</td>\n",
       "      <td>6850.484442</td>\n",
       "      <td>45.745974</td>\n",
       "      <td>114.842372</td>\n",
       "      <td>21.978000</td>\n",
       "      <td>737269.0</td>\n",
       "      <td>0</td>\n",
       "    </tr>\n",
       "  </tbody>\n",
       "</table>\n",
       "<p>617 rows × 58 columns</p>\n",
       "</div>"
      ],
      "text/plain": [
       "                    AB          AF          AH          AM         AR  \\\n",
       "Id                                                                      \n",
       "000ff2bfdfe9  0.209377  3109.03329   85.200147   22.394407   8.138688   \n",
       "007255e47698  0.145282   978.76416   85.200147   36.968889   8.138688   \n",
       "013f2bd269f5  0.470030  2635.10654   85.200147   32.360553   8.138688   \n",
       "043ac50845d5  0.252107  3819.65177  120.201618   77.112203   8.138688   \n",
       "044fb8a146ec  0.380297  3733.04844   85.200147   14.103738   8.138688   \n",
       "...                ...         ...         ...         ...        ...   \n",
       "fd3dafe738fd  0.149555  3130.05946  123.763599    9.513984  13.020852   \n",
       "fd895603f071  0.435846  5462.03438   85.200147   46.551007  15.973224   \n",
       "fd8ef6377f76  0.427300  2459.10720  130.138587   55.355778  10.005552   \n",
       "fe1942975e40  0.363205  1263.53524   85.200147   23.685856   8.138688   \n",
       "ffcca4ded3bb  0.482849  2672.53426  546.663930  112.006102   8.138688   \n",
       "\n",
       "                    AX        AY         AZ          BC         BD   ...  \\\n",
       "Id                                                                   ...   \n",
       "000ff2bfdfe9  0.699861  0.025578   9.812214    5.555634  4126.58731  ...   \n",
       "007255e47698  3.632190  0.025578  13.517790    1.229900  5496.92824  ...   \n",
       "013f2bd269f5  6.732840  0.025578  12.824570    1.229900  5135.78024  ...   \n",
       "043ac50845d5  3.685344  0.025578  11.053708    1.229900  4169.67738  ...   \n",
       "044fb8a146ec  3.942255  0.054810   3.396778  102.151980  5728.73412  ...   \n",
       "...                ...       ...        ...         ...         ...  ...   \n",
       "fd3dafe738fd  3.499305  0.077343   8.545512    2.804172  4157.68439  ...   \n",
       "fd895603f071  5.979825  0.025882  12.622906    3.777550  5654.07556  ...   \n",
       "fd8ef6377f76  8.070549  0.025578  15.408390    1.229900  5888.87769  ...   \n",
       "fe1942975e40  7.981959  0.025578   7.524588    1.229900  4517.86560  ...   \n",
       "ffcca4ded3bb  3.198099  0.116928   3.396778    7.948668  2818.01707  ...   \n",
       "\n",
       "                    FR        FS         GB          GE            GF  \\\n",
       "Id                                                                      \n",
       "000ff2bfdfe9   1.73855  0.094822  11.339138   72.611063   2003.810319   \n",
       "007255e47698   0.49706  0.568932   9.292698   72.611063  27981.562750   \n",
       "013f2bd269f5   0.97556  1.198821  37.077772   88.609437  13676.957810   \n",
       "043ac50845d5   0.49706  0.284466  18.529584   82.416803   2094.262452   \n",
       "044fb8a146ec  48.50134  0.121914  16.408728  146.109943   8524.370502   \n",
       "...                ...       ...        ...         ...           ...   \n",
       "fd3dafe738fd   1.26092  0.067730   8.967128  217.148554   8095.932828   \n",
       "fd895603f071   1.24236  0.426699  35.896418  496.994214   3085.308063   \n",
       "fd8ef6377f76   0.49706  0.067730  19.962092  128.896894   6474.652866   \n",
       "fe1942975e40   0.78764  0.670527  24.594488   72.611063   1965.343176   \n",
       "ffcca4ded3bb   1.14492  0.149006  13.673940   72.611063   6850.484442   \n",
       "\n",
       "                     GH          GI         GL     times  Class  \n",
       "Id                                                               \n",
       "000ff2bfdfe9  22.136229   69.834944   0.120343  737137.0      1  \n",
       "007255e47698  29.135430   32.131996  21.978000  737269.0      0  \n",
       "013f2bd269f5  28.022851   35.192676   0.196941  737269.0      0  \n",
       "043ac50845d5  39.948656   90.493248   0.155829  737269.0      0  \n",
       "044fb8a146ec  45.381316   36.262628   0.096614  737509.0      1  \n",
       "...                 ...         ...        ...       ...    ...  \n",
       "fd3dafe738fd  24.640462   69.191944  21.978000  737681.0      0  \n",
       "fd895603f071  29.648928  124.808872   0.145340  737676.0      0  \n",
       "fd8ef6377f76  26.166072  119.559420  21.978000  737264.0      0  \n",
       "fe1942975e40  25.116750   37.155112   0.184622  737090.0      0  \n",
       "ffcca4ded3bb  45.745974  114.842372  21.978000  737269.0      0  \n",
       "\n",
       "[617 rows x 58 columns]"
      ]
     },
     "execution_count": 174,
     "metadata": {},
     "output_type": "execute_result"
    }
   ],
   "source": [
    "df_train"
   ]
  },
  {
   "cell_type": "markdown",
   "id": "9e42a0fd",
   "metadata": {},
   "source": [
    "### yeo-johnson変換"
   ]
  },
  {
   "cell_type": "code",
   "execution_count": 175,
   "id": "60aec10f",
   "metadata": {},
   "outputs": [],
   "source": [
    "# cols = df_train.columns[:-2]\n",
    "# pt = PowerTransformer(method='yeo-johnson')\n",
    "# pt.fit(df_train[cols].values)\n",
    "# df_train[cols] = pt.transform(df_train[cols].values)\n",
    "# df_test[cols] = pt.transform(df_test[cols].values)\n",
    "# \n",
    "# df_train"
   ]
  },
  {
   "cell_type": "code",
   "execution_count": null,
   "id": "94001e42",
   "metadata": {},
   "outputs": [],
   "source": []
  },
  {
   "cell_type": "code",
   "execution_count": null,
   "id": "234acafa",
   "metadata": {},
   "outputs": [],
   "source": []
  },
  {
   "cell_type": "markdown",
   "id": "967cd476",
   "metadata": {
    "papermill": {
     "duration": 0.032886,
     "end_time": "2023-06-20T00:47:29.123799",
     "exception": false,
     "start_time": "2023-06-20T00:47:29.090913",
     "status": "completed"
    },
    "tags": []
   },
   "source": [
    "## スケールを変更"
   ]
  },
  {
   "cell_type": "code",
   "execution_count": 176,
   "id": "f4bb739c",
   "metadata": {
    "execution": {
     "iopub.execute_input": "2023-06-20T00:47:29.191223Z",
     "iopub.status.busy": "2023-06-20T00:47:29.190295Z",
     "iopub.status.idle": "2023-06-20T00:47:29.253390Z",
     "shell.execute_reply": "2023-06-20T00:47:29.251313Z"
    },
    "papermill": {
     "duration": 0.098867,
     "end_time": "2023-06-20T00:47:29.255532",
     "exception": false,
     "start_time": "2023-06-20T00:47:29.156665",
     "status": "completed"
    },
    "tags": []
   },
   "outputs": [
    {
     "data": {
      "text/html": [
       "<div>\n",
       "<style scoped>\n",
       "    .dataframe tbody tr th:only-of-type {\n",
       "        vertical-align: middle;\n",
       "    }\n",
       "\n",
       "    .dataframe tbody tr th {\n",
       "        vertical-align: top;\n",
       "    }\n",
       "\n",
       "    .dataframe thead th {\n",
       "        text-align: right;\n",
       "    }\n",
       "</style>\n",
       "<table border=\"1\" class=\"dataframe\">\n",
       "  <thead>\n",
       "    <tr style=\"text-align: right;\">\n",
       "      <th></th>\n",
       "      <th>AB</th>\n",
       "      <th>AF</th>\n",
       "      <th>AH</th>\n",
       "      <th>AM</th>\n",
       "      <th>AR</th>\n",
       "      <th>AX</th>\n",
       "      <th>AY</th>\n",
       "      <th>AZ</th>\n",
       "      <th>BC</th>\n",
       "      <th>BD</th>\n",
       "      <th>...</th>\n",
       "      <th>FR</th>\n",
       "      <th>FS</th>\n",
       "      <th>GB</th>\n",
       "      <th>GE</th>\n",
       "      <th>GF</th>\n",
       "      <th>GH</th>\n",
       "      <th>GI</th>\n",
       "      <th>GL</th>\n",
       "      <th>times</th>\n",
       "      <th>Class</th>\n",
       "    </tr>\n",
       "    <tr>\n",
       "      <th>Id</th>\n",
       "      <th></th>\n",
       "      <th></th>\n",
       "      <th></th>\n",
       "      <th></th>\n",
       "      <th></th>\n",
       "      <th></th>\n",
       "      <th></th>\n",
       "      <th></th>\n",
       "      <th></th>\n",
       "      <th></th>\n",
       "      <th></th>\n",
       "      <th></th>\n",
       "      <th></th>\n",
       "      <th></th>\n",
       "      <th></th>\n",
       "      <th></th>\n",
       "      <th></th>\n",
       "      <th></th>\n",
       "      <th></th>\n",
       "      <th></th>\n",
       "      <th></th>\n",
       "    </tr>\n",
       "  </thead>\n",
       "  <tbody>\n",
       "    <tr>\n",
       "      <th>000ff2bfdfe9</th>\n",
       "      <td>-0.472222</td>\n",
       "      <td>-0.005214</td>\n",
       "      <td>0.000000</td>\n",
       "      <td>0.069272</td>\n",
       "      <td>0.000000</td>\n",
       "      <td>-1.880769</td>\n",
       "      <td>0.000000</td>\n",
       "      <td>-0.134115</td>\n",
       "      <td>1.123175</td>\n",
       "      <td>-0.463451</td>\n",
       "      <td>...</td>\n",
       "      <td>0.598571</td>\n",
       "      <td>-0.333333</td>\n",
       "      <td>-0.642283</td>\n",
       "      <td>0.000000</td>\n",
       "      <td>-0.359338</td>\n",
       "      <td>-0.716263</td>\n",
       "      <td>0.641741</td>\n",
       "      <td>-0.009952</td>\n",
       "      <td>737137.0</td>\n",
       "      <td>1</td>\n",
       "    </tr>\n",
       "    <tr>\n",
       "      <th>007255e47698</th>\n",
       "      <td>-0.680556</td>\n",
       "      <td>-0.989494</td>\n",
       "      <td>0.000000</td>\n",
       "      <td>0.611687</td>\n",
       "      <td>0.000000</td>\n",
       "      <td>-0.607692</td>\n",
       "      <td>0.000000</td>\n",
       "      <td>0.631510</td>\n",
       "      <td>0.000000</td>\n",
       "      <td>0.265382</td>\n",
       "      <td>...</td>\n",
       "      <td>-0.624571</td>\n",
       "      <td>0.681159</td>\n",
       "      <td>-0.819132</td>\n",
       "      <td>0.000000</td>\n",
       "      <td>1.240601</td>\n",
       "      <td>-0.124567</td>\n",
       "      <td>-0.197595</td>\n",
       "      <td>0.990234</td>\n",
       "      <td>737269.0</td>\n",
       "      <td>0</td>\n",
       "    </tr>\n",
       "    <tr>\n",
       "      <th>013f2bd269f5</th>\n",
       "      <td>0.375000</td>\n",
       "      <td>-0.224190</td>\n",
       "      <td>0.000000</td>\n",
       "      <td>0.440180</td>\n",
       "      <td>0.000000</td>\n",
       "      <td>0.738462</td>\n",
       "      <td>0.000000</td>\n",
       "      <td>0.488281</td>\n",
       "      <td>0.000000</td>\n",
       "      <td>0.073301</td>\n",
       "      <td>...</td>\n",
       "      <td>-0.153143</td>\n",
       "      <td>2.028986</td>\n",
       "      <td>1.581994</td>\n",
       "      <td>0.290982</td>\n",
       "      <td>0.359598</td>\n",
       "      <td>-0.218622</td>\n",
       "      <td>-0.129459</td>\n",
       "      <td>-0.006447</td>\n",
       "      <td>737269.0</td>\n",
       "      <td>0</td>\n",
       "    </tr>\n",
       "    <tr>\n",
       "      <th>043ac50845d5</th>\n",
       "      <td>-0.333333</td>\n",
       "      <td>0.323123</td>\n",
       "      <td>1.226427</td>\n",
       "      <td>2.105694</td>\n",
       "      <td>0.000000</td>\n",
       "      <td>-0.584615</td>\n",
       "      <td>0.000000</td>\n",
       "      <td>0.122396</td>\n",
       "      <td>0.000000</td>\n",
       "      <td>-0.440533</td>\n",
       "      <td>...</td>\n",
       "      <td>-0.624571</td>\n",
       "      <td>0.072464</td>\n",
       "      <td>-0.020900</td>\n",
       "      <td>0.178349</td>\n",
       "      <td>-0.353767</td>\n",
       "      <td>0.789556</td>\n",
       "      <td>1.101632</td>\n",
       "      <td>-0.008328</td>\n",
       "      <td>737269.0</td>\n",
       "      <td>0</td>\n",
       "    </tr>\n",
       "    <tr>\n",
       "      <th>044fb8a146ec</th>\n",
       "      <td>0.083333</td>\n",
       "      <td>0.283109</td>\n",
       "      <td>0.000000</td>\n",
       "      <td>-0.239281</td>\n",
       "      <td>0.000000</td>\n",
       "      <td>-0.473077</td>\n",
       "      <td>2.594595</td>\n",
       "      <td>-1.459635</td>\n",
       "      <td>26.204380</td>\n",
       "      <td>0.388671</td>\n",
       "      <td>...</td>\n",
       "      <td>46.670286</td>\n",
       "      <td>-0.275362</td>\n",
       "      <td>-0.204180</td>\n",
       "      <td>1.336815</td>\n",
       "      <td>0.042256</td>\n",
       "      <td>1.248820</td>\n",
       "      <td>-0.105640</td>\n",
       "      <td>-0.011038</td>\n",
       "      <td>737509.0</td>\n",
       "      <td>1</td>\n",
       "    </tr>\n",
       "    <tr>\n",
       "      <th>...</th>\n",
       "      <td>...</td>\n",
       "      <td>...</td>\n",
       "      <td>...</td>\n",
       "      <td>...</td>\n",
       "      <td>...</td>\n",
       "      <td>...</td>\n",
       "      <td>...</td>\n",
       "      <td>...</td>\n",
       "      <td>...</td>\n",
       "      <td>...</td>\n",
       "      <td>...</td>\n",
       "      <td>...</td>\n",
       "      <td>...</td>\n",
       "      <td>...</td>\n",
       "      <td>...</td>\n",
       "      <td>...</td>\n",
       "      <td>...</td>\n",
       "      <td>...</td>\n",
       "      <td>...</td>\n",
       "      <td>...</td>\n",
       "      <td>...</td>\n",
       "    </tr>\n",
       "    <tr>\n",
       "      <th>fd3dafe738fd</th>\n",
       "      <td>-0.666667</td>\n",
       "      <td>0.004501</td>\n",
       "      <td>1.351236</td>\n",
       "      <td>-0.410097</td>\n",
       "      <td>4.882164</td>\n",
       "      <td>-0.665385</td>\n",
       "      <td>4.594595</td>\n",
       "      <td>-0.395833</td>\n",
       "      <td>0.408759</td>\n",
       "      <td>-0.446912</td>\n",
       "      <td>...</td>\n",
       "      <td>0.128000</td>\n",
       "      <td>-0.391304</td>\n",
       "      <td>-0.847267</td>\n",
       "      <td>2.628881</td>\n",
       "      <td>0.015869</td>\n",
       "      <td>-0.504561</td>\n",
       "      <td>0.627426</td>\n",
       "      <td>0.990234</td>\n",
       "      <td>737681.0</td>\n",
       "      <td>0</td>\n",
       "    </tr>\n",
       "    <tr>\n",
       "      <th>fd895603f071</th>\n",
       "      <td>0.263889</td>\n",
       "      <td>1.081978</td>\n",
       "      <td>0.000000</td>\n",
       "      <td>0.968303</td>\n",
       "      <td>7.834536</td>\n",
       "      <td>0.411538</td>\n",
       "      <td>0.027027</td>\n",
       "      <td>0.446615</td>\n",
       "      <td>0.661496</td>\n",
       "      <td>0.348963</td>\n",
       "      <td>...</td>\n",
       "      <td>0.109714</td>\n",
       "      <td>0.376812</td>\n",
       "      <td>1.479904</td>\n",
       "      <td>7.718779</td>\n",
       "      <td>-0.292729</td>\n",
       "      <td>-0.081158</td>\n",
       "      <td>1.865560</td>\n",
       "      <td>-0.008808</td>\n",
       "      <td>737676.0</td>\n",
       "      <td>0</td>\n",
       "    </tr>\n",
       "    <tr>\n",
       "      <th>fd8ef6377f76</th>\n",
       "      <td>0.236111</td>\n",
       "      <td>-0.305510</td>\n",
       "      <td>1.574611</td>\n",
       "      <td>1.295989</td>\n",
       "      <td>1.866864</td>\n",
       "      <td>1.319231</td>\n",
       "      <td>0.000000</td>\n",
       "      <td>1.022135</td>\n",
       "      <td>0.000000</td>\n",
       "      <td>0.473846</td>\n",
       "      <td>...</td>\n",
       "      <td>-0.624571</td>\n",
       "      <td>-0.391304</td>\n",
       "      <td>0.102894</td>\n",
       "      <td>1.023740</td>\n",
       "      <td>-0.083984</td>\n",
       "      <td>-0.375590</td>\n",
       "      <td>1.748697</td>\n",
       "      <td>0.990234</td>\n",
       "      <td>737264.0</td>\n",
       "      <td>0</td>\n",
       "    </tr>\n",
       "    <tr>\n",
       "      <th>fe1942975e40</th>\n",
       "      <td>0.027778</td>\n",
       "      <td>-0.857917</td>\n",
       "      <td>0.000000</td>\n",
       "      <td>0.117335</td>\n",
       "      <td>0.000000</td>\n",
       "      <td>1.280769</td>\n",
       "      <td>0.000000</td>\n",
       "      <td>-0.606771</td>\n",
       "      <td>0.000000</td>\n",
       "      <td>-0.255345</td>\n",
       "      <td>...</td>\n",
       "      <td>-0.338286</td>\n",
       "      <td>0.898551</td>\n",
       "      <td>0.503215</td>\n",
       "      <td>0.000000</td>\n",
       "      <td>-0.361707</td>\n",
       "      <td>-0.464297</td>\n",
       "      <td>-0.085772</td>\n",
       "      <td>-0.007011</td>\n",
       "      <td>737090.0</td>\n",
       "      <td>0</td>\n",
       "    </tr>\n",
       "    <tr>\n",
       "      <th>ffcca4ded3bb</th>\n",
       "      <td>0.416667</td>\n",
       "      <td>-0.206897</td>\n",
       "      <td>16.169362</td>\n",
       "      <td>3.404334</td>\n",
       "      <td>0.000000</td>\n",
       "      <td>-0.796154</td>\n",
       "      <td>8.108108</td>\n",
       "      <td>-1.459635</td>\n",
       "      <td>1.744526</td>\n",
       "      <td>-1.159432</td>\n",
       "      <td>...</td>\n",
       "      <td>0.013714</td>\n",
       "      <td>-0.217391</td>\n",
       "      <td>-0.440514</td>\n",
       "      <td>0.000000</td>\n",
       "      <td>-0.060837</td>\n",
       "      <td>1.279648</td>\n",
       "      <td>1.643687</td>\n",
       "      <td>0.990234</td>\n",
       "      <td>737269.0</td>\n",
       "      <td>0</td>\n",
       "    </tr>\n",
       "  </tbody>\n",
       "</table>\n",
       "<p>617 rows × 58 columns</p>\n",
       "</div>"
      ],
      "text/plain": [
       "                    AB        AF         AH        AM        AR        AX  \\\n",
       "Id                                                                          \n",
       "000ff2bfdfe9 -0.472222 -0.005214   0.000000  0.069272  0.000000 -1.880769   \n",
       "007255e47698 -0.680556 -0.989494   0.000000  0.611687  0.000000 -0.607692   \n",
       "013f2bd269f5  0.375000 -0.224190   0.000000  0.440180  0.000000  0.738462   \n",
       "043ac50845d5 -0.333333  0.323123   1.226427  2.105694  0.000000 -0.584615   \n",
       "044fb8a146ec  0.083333  0.283109   0.000000 -0.239281  0.000000 -0.473077   \n",
       "...                ...       ...        ...       ...       ...       ...   \n",
       "fd3dafe738fd -0.666667  0.004501   1.351236 -0.410097  4.882164 -0.665385   \n",
       "fd895603f071  0.263889  1.081978   0.000000  0.968303  7.834536  0.411538   \n",
       "fd8ef6377f76  0.236111 -0.305510   1.574611  1.295989  1.866864  1.319231   \n",
       "fe1942975e40  0.027778 -0.857917   0.000000  0.117335  0.000000  1.280769   \n",
       "ffcca4ded3bb  0.416667 -0.206897  16.169362  3.404334  0.000000 -0.796154   \n",
       "\n",
       "                    AY        AZ         BC       BD   ...         FR  \\\n",
       "Id                                                     ...              \n",
       "000ff2bfdfe9  0.000000 -0.134115   1.123175 -0.463451  ...   0.598571   \n",
       "007255e47698  0.000000  0.631510   0.000000  0.265382  ...  -0.624571   \n",
       "013f2bd269f5  0.000000  0.488281   0.000000  0.073301  ...  -0.153143   \n",
       "043ac50845d5  0.000000  0.122396   0.000000 -0.440533  ...  -0.624571   \n",
       "044fb8a146ec  2.594595 -1.459635  26.204380  0.388671  ...  46.670286   \n",
       "...                ...       ...        ...       ...  ...        ...   \n",
       "fd3dafe738fd  4.594595 -0.395833   0.408759 -0.446912  ...   0.128000   \n",
       "fd895603f071  0.027027  0.446615   0.661496  0.348963  ...   0.109714   \n",
       "fd8ef6377f76  0.000000  1.022135   0.000000  0.473846  ...  -0.624571   \n",
       "fe1942975e40  0.000000 -0.606771   0.000000 -0.255345  ...  -0.338286   \n",
       "ffcca4ded3bb  8.108108 -1.459635   1.744526 -1.159432  ...   0.013714   \n",
       "\n",
       "                    FS        GB        GE        GF        GH        GI  \\\n",
       "Id                                                                         \n",
       "000ff2bfdfe9 -0.333333 -0.642283  0.000000 -0.359338 -0.716263  0.641741   \n",
       "007255e47698  0.681159 -0.819132  0.000000  1.240601 -0.124567 -0.197595   \n",
       "013f2bd269f5  2.028986  1.581994  0.290982  0.359598 -0.218622 -0.129459   \n",
       "043ac50845d5  0.072464 -0.020900  0.178349 -0.353767  0.789556  1.101632   \n",
       "044fb8a146ec -0.275362 -0.204180  1.336815  0.042256  1.248820 -0.105640   \n",
       "...                ...       ...       ...       ...       ...       ...   \n",
       "fd3dafe738fd -0.391304 -0.847267  2.628881  0.015869 -0.504561  0.627426   \n",
       "fd895603f071  0.376812  1.479904  7.718779 -0.292729 -0.081158  1.865560   \n",
       "fd8ef6377f76 -0.391304  0.102894  1.023740 -0.083984 -0.375590  1.748697   \n",
       "fe1942975e40  0.898551  0.503215  0.000000 -0.361707 -0.464297 -0.085772   \n",
       "ffcca4ded3bb -0.217391 -0.440514  0.000000 -0.060837  1.279648  1.643687   \n",
       "\n",
       "                    GL     times  Class  \n",
       "Id                                       \n",
       "000ff2bfdfe9 -0.009952  737137.0      1  \n",
       "007255e47698  0.990234  737269.0      0  \n",
       "013f2bd269f5 -0.006447  737269.0      0  \n",
       "043ac50845d5 -0.008328  737269.0      0  \n",
       "044fb8a146ec -0.011038  737509.0      1  \n",
       "...                ...       ...    ...  \n",
       "fd3dafe738fd  0.990234  737681.0      0  \n",
       "fd895603f071 -0.008808  737676.0      0  \n",
       "fd8ef6377f76  0.990234  737264.0      0  \n",
       "fe1942975e40 -0.007011  737090.0      0  \n",
       "ffcca4ded3bb  0.990234  737269.0      0  \n",
       "\n",
       "[617 rows x 58 columns]"
      ]
     },
     "execution_count": 176,
     "metadata": {},
     "output_type": "execute_result"
    }
   ],
   "source": [
    "df_train_noscale = df_train.copy()\n",
    "\n",
    "scaler = RobustScaler().set_output(transform=\"pandas\")\n",
    "df_train.loc[:, df_train.columns[:-2]] = scaler.fit_transform(df_train[df_train.columns[:-2]])\n",
    "df_train"
   ]
  },
  {
   "cell_type": "code",
   "execution_count": 177,
   "id": "4daf1a26",
   "metadata": {
    "execution": {
     "iopub.execute_input": "2023-06-20T00:47:29.326731Z",
     "iopub.status.busy": "2023-06-20T00:47:29.325106Z",
     "iopub.status.idle": "2023-06-20T00:47:29.479236Z",
     "shell.execute_reply": "2023-06-20T00:47:29.478361Z"
    },
    "papermill": {
     "duration": 0.191254,
     "end_time": "2023-06-20T00:47:29.481299",
     "exception": false,
     "start_time": "2023-06-20T00:47:29.290045",
     "status": "completed"
    },
    "tags": []
   },
   "outputs": [
    {
     "data": {
      "text/html": [
       "<div>\n",
       "<style scoped>\n",
       "    .dataframe tbody tr th:only-of-type {\n",
       "        vertical-align: middle;\n",
       "    }\n",
       "\n",
       "    .dataframe tbody tr th {\n",
       "        vertical-align: top;\n",
       "    }\n",
       "\n",
       "    .dataframe thead th {\n",
       "        text-align: right;\n",
       "    }\n",
       "</style>\n",
       "<table border=\"1\" class=\"dataframe\">\n",
       "  <thead>\n",
       "    <tr style=\"text-align: right;\">\n",
       "      <th></th>\n",
       "      <th>AB</th>\n",
       "      <th>AF</th>\n",
       "      <th>AH</th>\n",
       "      <th>AM</th>\n",
       "      <th>AR</th>\n",
       "      <th>AX</th>\n",
       "      <th>AY</th>\n",
       "      <th>AZ</th>\n",
       "      <th>BC</th>\n",
       "      <th>BD</th>\n",
       "      <th>...</th>\n",
       "      <th>FL</th>\n",
       "      <th>FR</th>\n",
       "      <th>FS</th>\n",
       "      <th>GB</th>\n",
       "      <th>GE</th>\n",
       "      <th>GF</th>\n",
       "      <th>GH</th>\n",
       "      <th>GI</th>\n",
       "      <th>GL</th>\n",
       "      <th>Class</th>\n",
       "    </tr>\n",
       "  </thead>\n",
       "  <tbody>\n",
       "    <tr>\n",
       "      <th>count</th>\n",
       "      <td>617.000000</td>\n",
       "      <td>617.000000</td>\n",
       "      <td>617.000000</td>\n",
       "      <td>617.000000</td>\n",
       "      <td>617.000000</td>\n",
       "      <td>617.000000</td>\n",
       "      <td>617.000000</td>\n",
       "      <td>617.000000</td>\n",
       "      <td>617.000000</td>\n",
       "      <td>617.000000</td>\n",
       "      <td>...</td>\n",
       "      <td>617.000000</td>\n",
       "      <td>617.000000</td>\n",
       "      <td>617.000000</td>\n",
       "      <td>617.000000</td>\n",
       "      <td>617.000000</td>\n",
       "      <td>617.000000</td>\n",
       "      <td>617.000000</td>\n",
       "      <td>617.000000</td>\n",
       "      <td>617.000000</td>\n",
       "      <td>617.000000</td>\n",
       "    </tr>\n",
       "    <tr>\n",
       "      <th>mean</th>\n",
       "      <td>0.398141</td>\n",
       "      <td>0.176360</td>\n",
       "      <td>1.171166</td>\n",
       "      <td>0.686109</td>\n",
       "      <td>1.989554</td>\n",
       "      <td>0.223008</td>\n",
       "      <td>3.083622</td>\n",
       "      <td>0.021721</td>\n",
       "      <td>1.771618</td>\n",
       "      <td>0.187443</td>\n",
       "      <td>...</td>\n",
       "      <td>0.395963</td>\n",
       "      <td>2.367394</td>\n",
       "      <td>0.364503</td>\n",
       "      <td>0.168810</td>\n",
       "      <td>1.074996</td>\n",
       "      <td>0.421349</td>\n",
       "      <td>0.074458</td>\n",
       "      <td>0.213190</td>\n",
       "      <td>0.374303</td>\n",
       "      <td>0.175041</td>\n",
       "    </tr>\n",
       "    <tr>\n",
       "      <th>std</th>\n",
       "      <td>1.522442</td>\n",
       "      <td>1.062852</td>\n",
       "      <td>4.479386</td>\n",
       "      <td>2.595063</td>\n",
       "      <td>10.518877</td>\n",
       "      <td>1.107824</td>\n",
       "      <td>36.996129</td>\n",
       "      <td>0.898906</td>\n",
       "      <td>16.920572</td>\n",
       "      <td>1.606932</td>\n",
       "      <td>...</td>\n",
       "      <td>1.894317</td>\n",
       "      <td>49.440342</td>\n",
       "      <td>2.788738</td>\n",
       "      <td>0.863479</td>\n",
       "      <td>2.622407</td>\n",
       "      <td>1.191926</td>\n",
       "      <td>0.833899</td>\n",
       "      <td>0.807352</td>\n",
       "      <td>0.472412</td>\n",
       "      <td>0.380310</td>\n",
       "    </tr>\n",
       "    <tr>\n",
       "      <th>min</th>\n",
       "      <td>-0.888889</td>\n",
       "      <td>-1.352741</td>\n",
       "      <td>0.000000</td>\n",
       "      <td>-0.645920</td>\n",
       "      <td>0.000000</td>\n",
       "      <td>-1.880769</td>\n",
       "      <td>0.000000</td>\n",
       "      <td>-1.459635</td>\n",
       "      <td>0.000000</td>\n",
       "      <td>-1.757455</td>\n",
       "      <td>...</td>\n",
       "      <td>-0.470789</td>\n",
       "      <td>-0.624571</td>\n",
       "      <td>-0.391304</td>\n",
       "      <td>-1.267685</td>\n",
       "      <td>0.000000</td>\n",
       "      <td>-0.481947</td>\n",
       "      <td>-1.790186</td>\n",
       "      <td>-0.892929</td>\n",
       "      <td>-0.015407</td>\n",
       "      <td>0.000000</td>\n",
       "    </tr>\n",
       "    <tr>\n",
       "      <th>25%</th>\n",
       "      <td>-0.333333</td>\n",
       "      <td>-0.426455</td>\n",
       "      <td>0.000000</td>\n",
       "      <td>-0.307515</td>\n",
       "      <td>0.000000</td>\n",
       "      <td>-0.392308</td>\n",
       "      <td>0.000000</td>\n",
       "      <td>-0.481771</td>\n",
       "      <td>0.000000</td>\n",
       "      <td>-0.447966</td>\n",
       "      <td>...</td>\n",
       "      <td>-0.470789</td>\n",
       "      <td>-0.624571</td>\n",
       "      <td>-0.391304</td>\n",
       "      <td>-0.409164</td>\n",
       "      <td>0.000000</td>\n",
       "      <td>-0.310363</td>\n",
       "      <td>-0.471217</td>\n",
       "      <td>-0.400630</td>\n",
       "      <td>-0.009766</td>\n",
       "      <td>0.000000</td>\n",
       "    </tr>\n",
       "    <tr>\n",
       "      <th>50%</th>\n",
       "      <td>0.000000</td>\n",
       "      <td>0.000000</td>\n",
       "      <td>0.000000</td>\n",
       "      <td>0.000000</td>\n",
       "      <td>0.000000</td>\n",
       "      <td>0.000000</td>\n",
       "      <td>0.000000</td>\n",
       "      <td>0.000000</td>\n",
       "      <td>0.000000</td>\n",
       "      <td>0.000000</td>\n",
       "      <td>...</td>\n",
       "      <td>0.000000</td>\n",
       "      <td>0.000000</td>\n",
       "      <td>0.000000</td>\n",
       "      <td>0.000000</td>\n",
       "      <td>0.000000</td>\n",
       "      <td>0.000000</td>\n",
       "      <td>0.000000</td>\n",
       "      <td>0.000000</td>\n",
       "      <td>0.000000</td>\n",
       "      <td>0.000000</td>\n",
       "    </tr>\n",
       "    <tr>\n",
       "      <th>75%</th>\n",
       "      <td>0.666667</td>\n",
       "      <td>0.573545</td>\n",
       "      <td>1.000000</td>\n",
       "      <td>0.692485</td>\n",
       "      <td>0.000000</td>\n",
       "      <td>0.607692</td>\n",
       "      <td>1.000000</td>\n",
       "      <td>0.518229</td>\n",
       "      <td>1.000000</td>\n",
       "      <td>0.552034</td>\n",
       "      <td>...</td>\n",
       "      <td>0.529211</td>\n",
       "      <td>0.375429</td>\n",
       "      <td>0.608696</td>\n",
       "      <td>0.590836</td>\n",
       "      <td>1.000000</td>\n",
       "      <td>0.689637</td>\n",
       "      <td>0.528783</td>\n",
       "      <td>0.599370</td>\n",
       "      <td>0.990234</td>\n",
       "      <td>0.000000</td>\n",
       "    </tr>\n",
       "    <tr>\n",
       "      <th>max</th>\n",
       "      <td>18.875000</td>\n",
       "      <td>11.813503</td>\n",
       "      <td>63.944004</td>\n",
       "      <td>22.701706</td>\n",
       "      <td>170.804946</td>\n",
       "      <td>14.430769</td>\n",
       "      <td>913.351351</td>\n",
       "      <td>5.890625</td>\n",
       "      <td>379.728102</td>\n",
       "      <td>25.562747</td>\n",
       "      <td>...</td>\n",
       "      <td>22.246434</td>\n",
       "      <td>1224.725143</td>\n",
       "      <td>66.579710</td>\n",
       "      <td>10.111736</td>\n",
       "      <td>25.913517</td>\n",
       "      <td>8.373109</td>\n",
       "      <td>4.277760</td>\n",
       "      <td>3.343430</td>\n",
       "      <td>0.990234</td>\n",
       "      <td>1.000000</td>\n",
       "    </tr>\n",
       "  </tbody>\n",
       "</table>\n",
       "<p>8 rows × 57 columns</p>\n",
       "</div>"
      ],
      "text/plain": [
       "               AB          AF          AH          AM          AR          AX  \\\n",
       "count  617.000000  617.000000  617.000000  617.000000  617.000000  617.000000   \n",
       "mean     0.398141    0.176360    1.171166    0.686109    1.989554    0.223008   \n",
       "std      1.522442    1.062852    4.479386    2.595063   10.518877    1.107824   \n",
       "min     -0.888889   -1.352741    0.000000   -0.645920    0.000000   -1.880769   \n",
       "25%     -0.333333   -0.426455    0.000000   -0.307515    0.000000   -0.392308   \n",
       "50%      0.000000    0.000000    0.000000    0.000000    0.000000    0.000000   \n",
       "75%      0.666667    0.573545    1.000000    0.692485    0.000000    0.607692   \n",
       "max     18.875000   11.813503   63.944004   22.701706  170.804946   14.430769   \n",
       "\n",
       "               AY          AZ          BC         BD   ...          FL  \\\n",
       "count  617.000000  617.000000  617.000000  617.000000  ...  617.000000   \n",
       "mean     3.083622    0.021721    1.771618    0.187443  ...    0.395963   \n",
       "std     36.996129    0.898906   16.920572    1.606932  ...    1.894317   \n",
       "min      0.000000   -1.459635    0.000000   -1.757455  ...   -0.470789   \n",
       "25%      0.000000   -0.481771    0.000000   -0.447966  ...   -0.470789   \n",
       "50%      0.000000    0.000000    0.000000    0.000000  ...    0.000000   \n",
       "75%      1.000000    0.518229    1.000000    0.552034  ...    0.529211   \n",
       "max    913.351351    5.890625  379.728102   25.562747  ...   22.246434   \n",
       "\n",
       "                FR          FS          GB          GE          GF  \\\n",
       "count   617.000000  617.000000  617.000000  617.000000  617.000000   \n",
       "mean      2.367394    0.364503    0.168810    1.074996    0.421349   \n",
       "std      49.440342    2.788738    0.863479    2.622407    1.191926   \n",
       "min      -0.624571   -0.391304   -1.267685    0.000000   -0.481947   \n",
       "25%      -0.624571   -0.391304   -0.409164    0.000000   -0.310363   \n",
       "50%       0.000000    0.000000    0.000000    0.000000    0.000000   \n",
       "75%       0.375429    0.608696    0.590836    1.000000    0.689637   \n",
       "max    1224.725143   66.579710   10.111736   25.913517    8.373109   \n",
       "\n",
       "               GH          GI          GL       Class  \n",
       "count  617.000000  617.000000  617.000000  617.000000  \n",
       "mean     0.074458    0.213190    0.374303    0.175041  \n",
       "std      0.833899    0.807352    0.472412    0.380310  \n",
       "min     -1.790186   -0.892929   -0.015407    0.000000  \n",
       "25%     -0.471217   -0.400630   -0.009766    0.000000  \n",
       "50%      0.000000    0.000000    0.000000    0.000000  \n",
       "75%      0.528783    0.599370    0.990234    0.000000  \n",
       "max      4.277760    3.343430    0.990234    1.000000  \n",
       "\n",
       "[8 rows x 57 columns]"
      ]
     },
     "execution_count": 177,
     "metadata": {},
     "output_type": "execute_result"
    }
   ],
   "source": [
    "df_train.describe()"
   ]
  },
  {
   "cell_type": "code",
   "execution_count": 178,
   "id": "be901de4",
   "metadata": {
    "execution": {
     "iopub.execute_input": "2023-06-20T00:47:29.553216Z",
     "iopub.status.busy": "2023-06-20T00:47:29.552834Z",
     "iopub.status.idle": "2023-06-20T00:47:29.581384Z",
     "shell.execute_reply": "2023-06-20T00:47:29.580555Z"
    },
    "papermill": {
     "duration": 0.067669,
     "end_time": "2023-06-20T00:47:29.583843",
     "exception": false,
     "start_time": "2023-06-20T00:47:29.516174",
     "status": "completed"
    },
    "tags": []
   },
   "outputs": [
    {
     "data": {
      "text/html": [
       "<div>\n",
       "<style scoped>\n",
       "    .dataframe tbody tr th:only-of-type {\n",
       "        vertical-align: middle;\n",
       "    }\n",
       "\n",
       "    .dataframe tbody tr th {\n",
       "        vertical-align: top;\n",
       "    }\n",
       "\n",
       "    .dataframe thead th {\n",
       "        text-align: right;\n",
       "    }\n",
       "</style>\n",
       "<table border=\"1\" class=\"dataframe\">\n",
       "  <thead>\n",
       "    <tr style=\"text-align: right;\">\n",
       "      <th></th>\n",
       "      <th>AB</th>\n",
       "      <th>AF</th>\n",
       "      <th>AH</th>\n",
       "      <th>AM</th>\n",
       "      <th>AR</th>\n",
       "      <th>AX</th>\n",
       "      <th>AY</th>\n",
       "      <th>AZ</th>\n",
       "      <th>BC</th>\n",
       "      <th>BD</th>\n",
       "      <th>...</th>\n",
       "      <th>FL</th>\n",
       "      <th>FR</th>\n",
       "      <th>FS</th>\n",
       "      <th>GB</th>\n",
       "      <th>GE</th>\n",
       "      <th>GF</th>\n",
       "      <th>GH</th>\n",
       "      <th>GI</th>\n",
       "      <th>GL</th>\n",
       "      <th>times</th>\n",
       "    </tr>\n",
       "    <tr>\n",
       "      <th>Id</th>\n",
       "      <th></th>\n",
       "      <th></th>\n",
       "      <th></th>\n",
       "      <th></th>\n",
       "      <th></th>\n",
       "      <th></th>\n",
       "      <th></th>\n",
       "      <th></th>\n",
       "      <th></th>\n",
       "      <th></th>\n",
       "      <th></th>\n",
       "      <th></th>\n",
       "      <th></th>\n",
       "      <th></th>\n",
       "      <th></th>\n",
       "      <th></th>\n",
       "      <th></th>\n",
       "      <th></th>\n",
       "      <th></th>\n",
       "      <th></th>\n",
       "      <th></th>\n",
       "    </tr>\n",
       "  </thead>\n",
       "  <tbody>\n",
       "    <tr>\n",
       "      <th>00eed32682bb</th>\n",
       "      <td>-1.152778</td>\n",
       "      <td>-1.441727</td>\n",
       "      <td>-2.985352</td>\n",
       "      <td>-0.764177</td>\n",
       "      <td>-8.138688</td>\n",
       "      <td>-2.184615</td>\n",
       "      <td>-2.27027</td>\n",
       "      <td>-2.161458</td>\n",
       "      <td>-0.319343</td>\n",
       "      <td>-2.658231</td>\n",
       "      <td>...</td>\n",
       "      <td>-0.499355</td>\n",
       "      <td>-1.114286</td>\n",
       "      <td>-0.536232</td>\n",
       "      <td>-1.622186</td>\n",
       "      <td>-1.320667</td>\n",
       "      <td>-0.48275</td>\n",
       "      <td>-2.587606</td>\n",
       "      <td>-0.912912</td>\n",
       "      <td>-0.015459</td>\n",
       "      <td>737698.0</td>\n",
       "    </tr>\n",
       "    <tr>\n",
       "      <th>010ebe33f668</th>\n",
       "      <td>-1.152778</td>\n",
       "      <td>-1.441727</td>\n",
       "      <td>-2.985352</td>\n",
       "      <td>-0.764177</td>\n",
       "      <td>-8.138688</td>\n",
       "      <td>-2.184615</td>\n",
       "      <td>-2.27027</td>\n",
       "      <td>-2.161458</td>\n",
       "      <td>-0.319343</td>\n",
       "      <td>-2.658231</td>\n",
       "      <td>...</td>\n",
       "      <td>-0.499355</td>\n",
       "      <td>-1.114286</td>\n",
       "      <td>-0.536232</td>\n",
       "      <td>-1.622186</td>\n",
       "      <td>-1.320667</td>\n",
       "      <td>-0.48275</td>\n",
       "      <td>-2.587606</td>\n",
       "      <td>-0.912912</td>\n",
       "      <td>-0.015459</td>\n",
       "      <td>737698.0</td>\n",
       "    </tr>\n",
       "    <tr>\n",
       "      <th>02fa521e1838</th>\n",
       "      <td>-1.152778</td>\n",
       "      <td>-1.441727</td>\n",
       "      <td>-2.985352</td>\n",
       "      <td>-0.764177</td>\n",
       "      <td>-8.138688</td>\n",
       "      <td>-2.184615</td>\n",
       "      <td>-2.27027</td>\n",
       "      <td>-2.161458</td>\n",
       "      <td>-0.319343</td>\n",
       "      <td>-2.658231</td>\n",
       "      <td>...</td>\n",
       "      <td>-0.499355</td>\n",
       "      <td>-1.114286</td>\n",
       "      <td>-0.536232</td>\n",
       "      <td>-1.622186</td>\n",
       "      <td>-1.320667</td>\n",
       "      <td>-0.48275</td>\n",
       "      <td>-2.587606</td>\n",
       "      <td>-0.912912</td>\n",
       "      <td>-0.015459</td>\n",
       "      <td>737698.0</td>\n",
       "    </tr>\n",
       "    <tr>\n",
       "      <th>040e15f562a2</th>\n",
       "      <td>-1.152778</td>\n",
       "      <td>-1.441727</td>\n",
       "      <td>-2.985352</td>\n",
       "      <td>-0.764177</td>\n",
       "      <td>-8.138688</td>\n",
       "      <td>-2.184615</td>\n",
       "      <td>-2.27027</td>\n",
       "      <td>-2.161458</td>\n",
       "      <td>-0.319343</td>\n",
       "      <td>-2.658231</td>\n",
       "      <td>...</td>\n",
       "      <td>-0.499355</td>\n",
       "      <td>-1.114286</td>\n",
       "      <td>-0.536232</td>\n",
       "      <td>-1.622186</td>\n",
       "      <td>-1.320667</td>\n",
       "      <td>-0.48275</td>\n",
       "      <td>-2.587606</td>\n",
       "      <td>-0.912912</td>\n",
       "      <td>-0.015459</td>\n",
       "      <td>737698.0</td>\n",
       "    </tr>\n",
       "    <tr>\n",
       "      <th>046e85c7cc7f</th>\n",
       "      <td>-1.152778</td>\n",
       "      <td>-1.441727</td>\n",
       "      <td>-2.985352</td>\n",
       "      <td>-0.764177</td>\n",
       "      <td>-8.138688</td>\n",
       "      <td>-2.184615</td>\n",
       "      <td>-2.27027</td>\n",
       "      <td>-2.161458</td>\n",
       "      <td>-0.319343</td>\n",
       "      <td>-2.658231</td>\n",
       "      <td>...</td>\n",
       "      <td>-0.499355</td>\n",
       "      <td>-1.114286</td>\n",
       "      <td>-0.536232</td>\n",
       "      <td>-1.622186</td>\n",
       "      <td>-1.320667</td>\n",
       "      <td>-0.48275</td>\n",
       "      <td>-2.587606</td>\n",
       "      <td>-0.912912</td>\n",
       "      <td>-0.015459</td>\n",
       "      <td>737698.0</td>\n",
       "    </tr>\n",
       "  </tbody>\n",
       "</table>\n",
       "<p>5 rows × 57 columns</p>\n",
       "</div>"
      ],
      "text/plain": [
       "                    AB        AF        AH        AM        AR        AX  \\\n",
       "Id                                                                         \n",
       "00eed32682bb -1.152778 -1.441727 -2.985352 -0.764177 -8.138688 -2.184615   \n",
       "010ebe33f668 -1.152778 -1.441727 -2.985352 -0.764177 -8.138688 -2.184615   \n",
       "02fa521e1838 -1.152778 -1.441727 -2.985352 -0.764177 -8.138688 -2.184615   \n",
       "040e15f562a2 -1.152778 -1.441727 -2.985352 -0.764177 -8.138688 -2.184615   \n",
       "046e85c7cc7f -1.152778 -1.441727 -2.985352 -0.764177 -8.138688 -2.184615   \n",
       "\n",
       "                   AY        AZ        BC       BD   ...        FL        FR  \\\n",
       "Id                                                   ...                       \n",
       "00eed32682bb -2.27027 -2.161458 -0.319343 -2.658231  ... -0.499355 -1.114286   \n",
       "010ebe33f668 -2.27027 -2.161458 -0.319343 -2.658231  ... -0.499355 -1.114286   \n",
       "02fa521e1838 -2.27027 -2.161458 -0.319343 -2.658231  ... -0.499355 -1.114286   \n",
       "040e15f562a2 -2.27027 -2.161458 -0.319343 -2.658231  ... -0.499355 -1.114286   \n",
       "046e85c7cc7f -2.27027 -2.161458 -0.319343 -2.658231  ... -0.499355 -1.114286   \n",
       "\n",
       "                    FS        GB        GE       GF        GH        GI  \\\n",
       "Id                                                                        \n",
       "00eed32682bb -0.536232 -1.622186 -1.320667 -0.48275 -2.587606 -0.912912   \n",
       "010ebe33f668 -0.536232 -1.622186 -1.320667 -0.48275 -2.587606 -0.912912   \n",
       "02fa521e1838 -0.536232 -1.622186 -1.320667 -0.48275 -2.587606 -0.912912   \n",
       "040e15f562a2 -0.536232 -1.622186 -1.320667 -0.48275 -2.587606 -0.912912   \n",
       "046e85c7cc7f -0.536232 -1.622186 -1.320667 -0.48275 -2.587606 -0.912912   \n",
       "\n",
       "                    GL     times  \n",
       "Id                                \n",
       "00eed32682bb -0.015459  737698.0  \n",
       "010ebe33f668 -0.015459  737698.0  \n",
       "02fa521e1838 -0.015459  737698.0  \n",
       "040e15f562a2 -0.015459  737698.0  \n",
       "046e85c7cc7f -0.015459  737698.0  \n",
       "\n",
       "[5 rows x 57 columns]"
      ]
     },
     "execution_count": 178,
     "metadata": {},
     "output_type": "execute_result"
    }
   ],
   "source": [
    "df_test_noscale = df_test.copy()\n",
    "\n",
    "df_test.loc[:,df_test.columns[:-1]] = scaler.transform(df_test[df_test.columns[:-1]])\n",
    "df_test"
   ]
  },
  {
   "cell_type": "code",
   "execution_count": 179,
   "id": "95756971",
   "metadata": {
    "execution": {
     "iopub.execute_input": "2023-06-20T00:47:29.654014Z",
     "iopub.status.busy": "2023-06-20T00:47:29.653154Z",
     "iopub.status.idle": "2023-06-20T00:47:29.659020Z",
     "shell.execute_reply": "2023-06-20T00:47:29.658110Z"
    },
    "papermill": {
     "duration": 0.043466,
     "end_time": "2023-06-20T00:47:29.661401",
     "exception": false,
     "start_time": "2023-06-20T00:47:29.617935",
     "status": "completed"
    },
    "tags": []
   },
   "outputs": [],
   "source": [
    "df_train['times'] = df_train.times.astype(int)\n",
    "df_test['times'] = df_test.times.astype(int)"
   ]
  },
  {
   "cell_type": "markdown",
   "id": "9023be2c",
   "metadata": {},
   "source": [
    "## select columns"
   ]
  },
  {
   "cell_type": "code",
   "execution_count": 180,
   "id": "95d31b66",
   "metadata": {},
   "outputs": [],
   "source": [
    "# cols_train = ['AH', 'CC', 'GI', 'BQ', 'GH', 'DE', 'BR', 'EP', 'EL', 'CL', 'CD ', 'AM', 'EU', 'FI', 'EE', 'CU', 'DU', 'GL', 'DL', 'DV',\"Class\"]\n",
    "# cols_test = ['AH', 'CC', 'GI', 'BQ', 'GH', 'DE', 'BR', 'EP', 'EL', 'CL', 'CD ', 'AM', 'EU', 'FI', 'EE', 'CU', 'DU', 'GL', 'DL', 'DV']\n",
    "# df_train = df_train[cols_train]\n",
    "# df_test = df_test[cols_test]\n",
    "# df_test"
   ]
  },
  {
   "cell_type": "markdown",
   "id": "37818210",
   "metadata": {
    "papermill": {
     "duration": 0.033446,
     "end_time": "2023-06-20T00:47:29.797313",
     "exception": false,
     "start_time": "2023-06-20T00:47:29.763867",
     "status": "completed"
    },
    "tags": []
   },
   "source": [
    "# PyTorch"
   ]
  },
  {
   "cell_type": "code",
   "execution_count": 181,
   "id": "37e877eb",
   "metadata": {
    "execution": {
     "iopub.execute_input": "2023-06-20T00:47:29.867103Z",
     "iopub.status.busy": "2023-06-20T00:47:29.866476Z",
     "iopub.status.idle": "2023-06-20T00:47:29.873172Z",
     "shell.execute_reply": "2023-06-20T00:47:29.872175Z"
    },
    "papermill": {
     "duration": 0.043987,
     "end_time": "2023-06-20T00:47:29.875151",
     "exception": false,
     "start_time": "2023-06-20T00:47:29.831164",
     "status": "completed"
    },
    "tags": []
   },
   "outputs": [
    {
     "data": {
      "text/plain": [
       "dict_items([('__module__', '__main__'), ('TRAIN_BATCHSIZE', 64), ('VALID_BATCHSIZE', 200), ('learning_rate', 0.0005), ('num_epochs', 3000), ('seed', 57), ('__dict__', <attribute '__dict__' of 'cfg' objects>), ('__weakref__', <attribute '__weakref__' of 'cfg' objects>), ('__doc__', None)])"
      ]
     },
     "execution_count": 181,
     "metadata": {},
     "output_type": "execute_result"
    }
   ],
   "source": [
    "class cfg :\n",
    "    TRAIN_BATCHSIZE = 64\n",
    "    VALID_BATCHSIZE = 200\n",
    "    learning_rate = 0.0005\n",
    "    num_epochs = 3000\n",
    "    seed = seed\n",
    "    \n",
    "cfg.__dict__.items()"
   ]
  },
  {
   "cell_type": "code",
   "execution_count": 182,
   "id": "95ea3045",
   "metadata": {
    "execution": {
     "iopub.execute_input": "2023-06-20T00:47:29.946594Z",
     "iopub.status.busy": "2023-06-20T00:47:29.945394Z",
     "iopub.status.idle": "2023-06-20T00:47:29.950835Z",
     "shell.execute_reply": "2023-06-20T00:47:29.949714Z"
    },
    "papermill": {
     "duration": 0.044124,
     "end_time": "2023-06-20T00:47:29.953301",
     "exception": false,
     "start_time": "2023-06-20T00:47:29.909177",
     "status": "completed"
    },
    "tags": []
   },
   "outputs": [],
   "source": [
    "# np.random.normal(loc=0, scale=0.1, size=56).astype(np.float32) > 0"
   ]
  },
  {
   "cell_type": "markdown",
   "id": "e6b8c108",
   "metadata": {
    "papermill": {
     "duration": 0.034554,
     "end_time": "2023-06-20T00:47:30.023169",
     "exception": false,
     "start_time": "2023-06-20T00:47:29.988615",
     "status": "completed"
    },
    "tags": []
   },
   "source": [
    "### dataset/dataloader"
   ]
  },
  {
   "cell_type": "code",
   "execution_count": 183,
   "id": "d491e6a2",
   "metadata": {
    "execution": {
     "iopub.execute_input": "2023-06-20T00:47:30.093503Z",
     "iopub.status.busy": "2023-06-20T00:47:30.092519Z",
     "iopub.status.idle": "2023-06-20T00:47:30.183219Z",
     "shell.execute_reply": "2023-06-20T00:47:30.182108Z"
    },
    "papermill": {
     "duration": 0.128297,
     "end_time": "2023-06-20T00:47:30.185459",
     "exception": false,
     "start_time": "2023-06-20T00:47:30.057162",
     "status": "completed"
    },
    "tags": []
   },
   "outputs": [
    {
     "data": {
      "text/plain": [
       "(tensor([-4.9183e-01, -3.3110e-03, -1.4946e-03,  6.2440e-02, -1.5397e-02,\n",
       "         -1.8930e+00,  5.1653e-03, -1.3802e-01,  1.1203e+00, -4.6047e-01,\n",
       "          3.3900e-01, -1.9893e-01,  1.0004e+00,  3.5169e-01, -2.0590e-03,\n",
       "          9.9468e-02, -4.5462e-01, -1.6200e+00, -5.0199e-01, -3.9709e-01,\n",
       "          5.5791e-03, -2.4719e+00, -1.9625e+00, -9.3386e-02, -5.5177e-03,\n",
       "          8.4968e-01, -4.8620e-02,  1.2999e-02, -5.4431e-01, -6.4421e-01,\n",
       "         -3.6809e-01,  4.5463e-01,  4.8268e+00,  4.0351e-03,  6.9435e-02,\n",
       "         -1.8309e-01, -2.7154e-01, -7.0219e-02,  3.6926e+00,  0.0000e+00,\n",
       "         -5.5400e-01,  7.4109e-03, -4.1817e-01, -7.2731e-01,  1.8301e+00,\n",
       "          2.8658e-01, -2.1414e+00,  7.0937e-01,  6.0845e-01, -3.3935e-01,\n",
       "         -6.3193e-01,  1.3469e-02, -3.5103e-01, -7.1732e-01,  6.4770e-01,\n",
       "         -1.7755e-03]),\n",
       " 1)"
      ]
     },
     "execution_count": 183,
     "metadata": {},
     "output_type": "execute_result"
    }
   ],
   "source": [
    "class MyDataset(Dataset):\n",
    "    def __init__(self, df, is_train=False):\n",
    "        super().__init__()\n",
    "        self.df = df\n",
    "        self.is_train = is_train\n",
    "        \n",
    "        self.noise_mean = 0 \n",
    "        self.noise_std = 0.01\n",
    "        self.th = 0.5\n",
    "        self.mask = np.array([1 if e != \"EJ\" else 0 for e in df_train.columns])[:-2].astype(np.float32)\n",
    "        \n",
    "        X = df[df.columns[:-2]]\n",
    "        y = df.Class\n",
    "        self.X = X\n",
    "        self.y = y\n",
    "#         sm = SMOTETomek(random_state=57)\n",
    "#         X_res, y_res = sm.fit_resample(X, y)\n",
    "#         self.X = X_res\n",
    "#         self.y = y_res\n",
    "        \n",
    "    # ここで取り出すデータを指定している\n",
    "    def __getitem__(\n",
    "        self,\n",
    "        index\n",
    "    ) :\n",
    "#         print(index, self.df.iloc[index])\n",
    "      \n",
    "#         data = torch.Tensor(self.df.iloc[index, :-2].to_numpy())\n",
    "#         label = self.df.Class[index]\n",
    "        data = torch.Tensor(self.X.iloc[index, : ].to_numpy())\n",
    "        label = y_res[index]\n",
    "    \n",
    "        # データ拡張（0, 0.05)の正規分布ノイズを付加\n",
    "        if self.is_train and random.random() < self.th:\n",
    "#             m2 = np.random.normal(loc=self.noise_mean, scale=self.noise_std, size=self.mask.shape).astype(np.float32) > 0\n",
    "            data += self.mask * np.random.normal(loc=self.noise_mean, scale=self.noise_std, size=self.mask.shape).astype(np.float32)        \n",
    "        \n",
    "        return data, label\n",
    "\n",
    "    # この method がないと DataLoader を呼び出す際にエラーを吐かれる\n",
    "    def __len__(self) -> int:\n",
    "        return len(self.df)\n",
    "    \n",
    "dat = MyDataset(df_train, is_train=True)\n",
    "dat[0]"
   ]
  },
  {
   "cell_type": "markdown",
   "id": "683427d1",
   "metadata": {
    "papermill": {
     "duration": 0.034089,
     "end_time": "2023-06-20T00:47:30.254675",
     "exception": false,
     "start_time": "2023-06-20T00:47:30.220586",
     "status": "completed"
    },
    "tags": []
   },
   "source": [
    "### model"
   ]
  },
  {
   "cell_type": "code",
   "execution_count": 184,
   "id": "09b59626",
   "metadata": {
    "execution": {
     "iopub.execute_input": "2023-06-20T00:47:30.324937Z",
     "iopub.status.busy": "2023-06-20T00:47:30.324595Z",
     "iopub.status.idle": "2023-06-20T00:47:30.337599Z",
     "shell.execute_reply": "2023-06-20T00:47:30.336704Z"
    },
    "papermill": {
     "duration": 0.051083,
     "end_time": "2023-06-20T00:47:30.339604",
     "exception": false,
     "start_time": "2023-06-20T00:47:30.288521",
     "status": "completed"
    },
    "tags": []
   },
   "outputs": [],
   "source": [
    "\"\"\"\n",
    "margin: 通常、2クラス分類ではmarginの値は0.2から0.5の範囲で設定されます。\n",
    "    この範囲内での値の選択は、同じクラスの特徴ベクトルを近くに、異なるクラスの\n",
    "    特徴ベクトルを遠くに分離する効果を持ちます。具体的な値は実験によって調整する\n",
    "    必要がありますが、一般的には0.3や0.4が試されることが多いです。\n",
    "scale: 2クラス分類の場合、scaleの値は一般的に10から30程度が使用されます。\n",
    "    値が大きいほど、クラス分類の確信度が高まりますが、適切な値はデータセットやタスクに\n",
    "    依存します。一般的な出発点としては、10や20を試してみることができます。\n",
    "\"\"\"\n",
    "class ArcMarginProduct(nn.Module):\n",
    "    def __init__(self, in_features, out_features, s=30.0, m=0.50, easy_margin=False):\n",
    "        super(ArcMarginProduct, self).__init__()\n",
    "        self.in_features = in_features\n",
    "        self.out_features = out_features\n",
    "        self.s = s\n",
    "        self.m = m\n",
    "        self.weight = nn.Parameter(torch.FloatTensor(out_features, in_features))\n",
    "        nn.init.xavier_uniform_(self.weight)\n",
    "\n",
    "        self.easy_margin = easy_margin\n",
    "        self.cos_m = math.cos(m)\n",
    "        self.sin_m = math.sin(m)\n",
    "        self.th = math.cos(math.pi - m)\n",
    "        self.mm = math.sin(math.pi - m) * m\n",
    "\n",
    "    def forward(self, input, train, label=False):\n",
    "        # --------------------------- cos(theta) & phi(theta) ---------------------------\n",
    "        cosine = F.linear(F.normalize(input), F.normalize(self.weight))\n",
    "        sine = torch.sqrt((1.0 - torch.pow(cosine, 2)).clamp(0, 1))\n",
    "        phi = cosine * self.cos_m - sine * self.sin_m\n",
    "        if self.easy_margin:\n",
    "            phi = torch.where(cosine > 0, phi, cosine)\n",
    "        else:\n",
    "            phi = torch.where(cosine > self.th, phi, cosine - self.mm)\n",
    "        if train:\n",
    "            one_hot = torch.zeros(cosine.size())\n",
    "            if device == \"cpu\":\n",
    "                one_hot.scatter_(1, label.view(-1, 1).long(), 1)\n",
    "            else:\n",
    "                one_hot = torch.zeros(cosine.size(), device='cuda')\n",
    "                one_hot.scatter_(1, label.cuda().view(-1, 1).long(), 1)\n",
    "            output = (one_hot * phi) + ((1.0 - one_hot) * cosine)  # you can use torch.where if your torch.__version__ is 0.4\n",
    "        else:\n",
    "            output = cosine\n",
    "        output *= self.s\n",
    "\n",
    "        return output"
   ]
  },
  {
   "cell_type": "code",
   "execution_count": 185,
   "id": "ba3d9468",
   "metadata": {
    "execution": {
     "iopub.execute_input": "2023-06-20T00:47:30.410680Z",
     "iopub.status.busy": "2023-06-20T00:47:30.409273Z",
     "iopub.status.idle": "2023-06-20T00:47:30.418502Z",
     "shell.execute_reply": "2023-06-20T00:47:30.417660Z"
    },
    "papermill": {
     "duration": 0.046431,
     "end_time": "2023-06-20T00:47:30.420511",
     "exception": false,
     "start_time": "2023-06-20T00:47:30.374080",
     "status": "completed"
    },
    "tags": []
   },
   "outputs": [],
   "source": [
    "class MyModel(nn.Module):\n",
    "    def __init__(self, input_dim, output_dim, hidden_dim=128, last_hidden_dim=64):\n",
    "        super(MyModel, self).__init__()\n",
    "\n",
    "#         self.bn1 = nn.BatchNorm1d(input_dim)\n",
    "        self.bn2 = nn.BatchNorm1d(hidden_dim)\n",
    "        self.bn3 = nn.BatchNorm1d(last_hidden_dim)\n",
    "        self.fc1 = nn.Linear(input_dim, hidden_dim)\n",
    "        self.fc2 = nn.Linear(hidden_dim, last_hidden_dim)\n",
    "        self.arcface = ArcMarginProduct(last_hidden_dim, output_dim, s = 10, m = 0.1)\n",
    "        \n",
    "        self.dropout01 = nn.Dropout(0.1)\n",
    "        self.dropout05 = nn.Dropout(0.5)\n",
    "\n",
    "    def forward(self, x, labels):\n",
    "#         x = self.bn1(x)\n",
    "        x = self.dropout01(x)\n",
    "        x = F.mish(self.bn2(self.fc1(x)))\n",
    "        x = self.dropout05(x)\n",
    "        x = F.mish(self.bn3(self.fc2(x)))\n",
    "        if self.training:\n",
    "            logits = self.arcface(x, self.training, labels)\n",
    "        else:\n",
    "            logits = self.arcface(x, self.training)\n",
    "        return logits, x"
   ]
  },
  {
   "cell_type": "code",
   "execution_count": 186,
   "id": "dd4552ec",
   "metadata": {
    "execution": {
     "iopub.execute_input": "2023-06-20T00:47:30.491157Z",
     "iopub.status.busy": "2023-06-20T00:47:30.490285Z",
     "iopub.status.idle": "2023-06-20T00:47:30.497455Z",
     "shell.execute_reply": "2023-06-20T00:47:30.496665Z"
    },
    "papermill": {
     "duration": 0.044665,
     "end_time": "2023-06-20T00:47:30.499459",
     "exception": false,
     "start_time": "2023-06-20T00:47:30.454794",
     "status": "completed"
    },
    "tags": []
   },
   "outputs": [],
   "source": [
    "# def balanced_log_loss(y_true, y_pred):\n",
    "#     y_pred = y_pred.astype('float64')\n",
    "#     y_pred = np.clip(y_pred, 1e-15, 1-1e-15)\n",
    "#     nc = np.bincount(y_true)\n",
    "#     w0, w1 = 1/(nc[0]/y_true.shape[0]), 1/(nc[1]/y_true.shape[0])\n",
    "#     balanced_log_loss_score = (-w0/nc[0]*(np.sum(np.where(y_true==0,1,0) * np.log(1-y_pred))) - w1/nc[1]*(np.sum(np.where(y_true!=0,1,0) * np.log(y_pred)))) / (w0+w1)\n",
    "#     return balanced_log_loss_score\n",
    "\n",
    "from sklearn.metrics import log_loss\n",
    "def balanced_log_loss(y_true, y_pred):\n",
    "    y_pred = y_pred.astype('float64')    \n",
    "    nc = np.bincount(y_true)\n",
    "    return log_loss(y_true, y_pred, sample_weight = 1/nc[y_true], eps=1e-15)"
   ]
  },
  {
   "cell_type": "code",
   "execution_count": 187,
   "id": "b30ab1c0",
   "metadata": {
    "execution": {
     "iopub.execute_input": "2023-06-20T00:47:30.571858Z",
     "iopub.status.busy": "2023-06-20T00:47:30.571312Z",
     "iopub.status.idle": "2023-06-20T00:47:30.576906Z",
     "shell.execute_reply": "2023-06-20T00:47:30.576008Z"
    },
    "papermill": {
     "duration": 0.04497,
     "end_time": "2023-06-20T00:47:30.578862",
     "exception": false,
     "start_time": "2023-06-20T00:47:30.533892",
     "status": "completed"
    },
    "tags": []
   },
   "outputs": [],
   "source": [
    "def seed_everything(seed: int):\n",
    "    random.seed(seed)\n",
    "    os.environ['PYTHONHASHSEED'] = str(seed)\n",
    "    np.random.seed(seed)\n",
    "    torch.manual_seed(seed)\n",
    "    torch.cuda.manual_seed(seed)\n",
    "    torch.backends.cudnn.deterministic = True\n",
    "    torch.backends.cudnn.benchmark = True\n",
    "    \n",
    "# criterion = F.cross_entropy"
   ]
  },
  {
   "cell_type": "code",
   "execution_count": 188,
   "id": "851919b8",
   "metadata": {
    "execution": {
     "iopub.execute_input": "2023-06-20T00:47:30.649170Z",
     "iopub.status.busy": "2023-06-20T00:47:30.648401Z",
     "iopub.status.idle": "2023-06-20T00:47:30.663224Z",
     "shell.execute_reply": "2023-06-20T00:47:30.662159Z"
    },
    "papermill": {
     "duration": 0.052015,
     "end_time": "2023-06-20T00:47:30.665142",
     "exception": false,
     "start_time": "2023-06-20T00:47:30.613127",
     "status": "completed"
    },
    "tags": []
   },
   "outputs": [
    {
     "data": {
      "text/plain": [
       "tensor([0.1750, 0.8250])"
      ]
     },
     "execution_count": 188,
     "metadata": {},
     "output_type": "execute_result"
    }
   ],
   "source": [
    "balance = torch.Tensor([len(df_train)/sum(df_train.Class == i) for i in range(len(df_train.Class.unique()))])\n",
    "balance /= sum(balance)\n",
    "balance"
   ]
  },
  {
   "cell_type": "markdown",
   "id": "edb558f3",
   "metadata": {
    "papermill": {
     "duration": 0.034389,
     "end_time": "2023-06-20T00:47:30.733572",
     "exception": false,
     "start_time": "2023-06-20T00:47:30.699183",
     "status": "completed"
    },
    "tags": []
   },
   "source": [
    "### train"
   ]
  },
  {
   "cell_type": "code",
   "execution_count": 189,
   "id": "0d6aca1d",
   "metadata": {
    "execution": {
     "iopub.execute_input": "2023-06-20T00:47:30.804196Z",
     "iopub.status.busy": "2023-06-20T00:47:30.803286Z",
     "iopub.status.idle": "2023-06-20T00:47:30.807889Z",
     "shell.execute_reply": "2023-06-20T00:47:30.807070Z"
    },
    "papermill": {
     "duration": 0.042113,
     "end_time": "2023-06-20T00:47:30.809855",
     "exception": false,
     "start_time": "2023-06-20T00:47:30.767742",
     "status": "completed"
    },
    "tags": []
   },
   "outputs": [],
   "source": [
    "from tqdm import tqdm"
   ]
  },
  {
   "cell_type": "code",
   "execution_count": 190,
   "id": "ed62659c",
   "metadata": {
    "execution": {
     "iopub.execute_input": "2023-06-20T00:47:30.879892Z",
     "iopub.status.busy": "2023-06-20T00:47:30.879332Z",
     "iopub.status.idle": "2023-06-20T00:47:30.894195Z",
     "shell.execute_reply": "2023-06-20T00:47:30.893344Z"
    },
    "papermill": {
     "duration": 0.052164,
     "end_time": "2023-06-20T00:47:30.896125",
     "exception": false,
     "start_time": "2023-06-20T00:47:30.843961",
     "status": "completed"
    },
    "tags": []
   },
   "outputs": [],
   "source": [
    "def train(fold, train_dataloader,valid_dataloader, input_dim, output_dim, total_epoch = None):\n",
    "    best_score = 10**18\n",
    "    best_epoch = -1\n",
    "    model = MyModel(input_dim, output_dim).to(device)\n",
    "\n",
    "    optimizer = optim.Adam(model.parameters(), lr=cfg.learning_rate)\n",
    "#     criterion = nn.CrossEntropyLoss().to(device)\n",
    "    criterion = nn.CrossEntropyLoss(weight=balance).to(device)\n",
    "    \n",
    "    if total_epoch is None:\n",
    "        total_epoch = cfg.num_epochs\n",
    "    \n",
    "    with tqdm(total=total_epoch) as pbar:\n",
    "        for epoch in range(total_epoch):\n",
    "            y_true = []\n",
    "            y_pred = []    \n",
    "\n",
    "            model.train()  # モデルを訓練モードに設定\n",
    "            total_loss = 0.0\n",
    "            for batch in train_dataloader:\n",
    "                inputs, labels = batch\n",
    "                inputs = inputs.to(device)\n",
    "                labels = labels.to(device)\n",
    "                optimizer.zero_grad()  # 勾配の初期化\n",
    "                # フォワード処理\n",
    "                outputs, _ = model(inputs, labels)      \n",
    "                # 損失の計算\n",
    "                loss = criterion(outputs, labels)\n",
    "                # バックワード処理\n",
    "                loss.backward()\n",
    "                # パラメータの更新\n",
    "                optimizer.step()\n",
    "                total_loss += loss.detach().item()\n",
    "            avg_train_loss = total_loss / len(train_dataloader)\n",
    "\n",
    "            model.eval()  # モデルをvalidモードに設定\n",
    "            total_loss = 0.0\n",
    "\n",
    "\n",
    "            for batch in valid_dataloader:\n",
    "                inputs, labels = batch\n",
    "                inputs = inputs.to(device)\n",
    "                labels = labels.to(device)\n",
    "                with torch.no_grad():\n",
    "                    outputs, _ = model(inputs, labels)     \n",
    "                loss = criterion(outputs, labels)\n",
    "                total_loss += loss.detach().item()\n",
    "                y_true += (labels.detach().tolist())\n",
    "                y_pred += (1 - F.softmax(outputs, dim=1)[:, 0]).detach().tolist()\n",
    "            avg_valid_loss = total_loss / len(valid_dataloader)\n",
    "\n",
    "            y_true = np.array(y_true)\n",
    "            y_pred = np.array(y_pred)\n",
    "            score = balanced_log_loss(y_true, y_pred)\n",
    "\n",
    "            pbar.set_postfix(train=avg_train_loss, valid=avg_valid_loss, score=score, best_score=best_score, best_epoch=best_epoch)\n",
    "            pbar.update(1)\n",
    "    #         if (epoch+1)%100 == 0:\n",
    "    #             tqdm.write(\"test\")\n",
    "    #             print(f\"Epoch {epoch+1}/{cfg.num_epochs}, train Loss: {avg_train_loss:.4f}\",\n",
    "    #                   f\" : valid Loss: {avg_valid_loss:.4f}, score = {score}\")\n",
    "            if epoch > 100 and best_score > score:\n",
    "#                 print(f\"Epoch {epoch+1}/{cfg.num_epochs}, train Loss: {avg_train_loss:.4f}\",\n",
    "#                       f\" : valid Loss: {avg_valid_loss:.4f}, score = {score} Saved.\", f\"model_weight_fold{fold}.pth\")\n",
    "                last_file = f\"model_weight_fold{fold}.pth\"\n",
    "                best_score = min(best_score, score)\n",
    "                best_epoch = epoch+1\n",
    "                torch.save(model.state_dict(), f\"model_weight_fold{fold}.pth\")\n",
    "\n",
    "    torch.save(model.state_dict(), f\"model_weight_last_fold{fold}.pth\")\n",
    "\n",
    "    return best_score\n"
   ]
  },
  {
   "cell_type": "code",
   "execution_count": 191,
   "id": "8d8f2556",
   "metadata": {
    "execution": {
     "iopub.execute_input": "2023-06-20T00:47:30.967791Z",
     "iopub.status.busy": "2023-06-20T00:47:30.966890Z",
     "iopub.status.idle": "2023-06-20T00:47:30.982018Z",
     "shell.execute_reply": "2023-06-20T00:47:30.981170Z"
    },
    "papermill": {
     "duration": 0.053307,
     "end_time": "2023-06-20T00:47:30.984190",
     "exception": false,
     "start_time": "2023-06-20T00:47:30.930883",
     "status": "completed"
    },
    "tags": []
   },
   "outputs": [],
   "source": [
    "seed_everything(cfg.seed)\n",
    "\n",
    "kf = StratifiedKFold(n_splits=5, shuffle=True, random_state=seed)\n",
    "\n",
    "num = 0\n",
    "score = 0\n",
    "is_train = True\n",
    "\n",
    "# timesは入れない！！！！\n",
    "input_dim = len(df_train.columns)-2\n",
    "output_dim = len(df_train.Class.unique())\n",
    "\n",
    "if torch_train:\n",
    "    for num, (train_idx, valid_idx) in enumerate(kf.split(df_train, greeks_df.Class)):\n",
    "#         if num != 4 : continue\n",
    "        train_df = df_train.iloc[train_idx]\n",
    "        valid_df = df_train.iloc[valid_idx]\n",
    "        train_dataset = MyDataset(train_df, is_train=is_train)\n",
    "        valid_dataset = MyDataset(valid_df)\n",
    "        train_dataloader = DataLoader(train_dataset, batch_size=cfg.TRAIN_BATCHSIZE, shuffle=True)\n",
    "        valid_dataloader = DataLoader(valid_dataset, batch_size=cfg.VALID_BATCHSIZE, shuffle=False)\n",
    "\n",
    "        print(f\"Fold{num}\")\n",
    "        score += train(num, train_dataloader, valid_dataloader, input_dim, output_dim)\n",
    "\n",
    "        num+=1\n",
    "\n",
    "    print(score/5)"
   ]
  },
  {
   "cell_type": "markdown",
   "id": "c1175cac",
   "metadata": {
    "papermill": {
     "duration": 0.034086,
     "end_time": "2023-06-20T00:47:31.052914",
     "exception": false,
     "start_time": "2023-06-20T00:47:31.018828",
     "status": "completed"
    },
    "tags": []
   },
   "source": [
    "Fold0\n",
    "100%|██████████| 1000/1000 [04:09<00:00,  4.00it/s, best_epoch=951, best_score=0.352, score=0.618, train=0.451, valid=0.517] \n",
    "Fold1\n",
    "100%|██████████| 1000/1000 [12:18<00:00,  1.35it/s, best_epoch=767, best_score=0.422, score=0.583, train=0.438, valid=0.42]   \n",
    "Fold2\n",
    "100%|██████████| 1000/1000 [08:43<00:00,  1.91it/s, best_epoch=442, best_score=0.461, score=0.931, train=0.445, valid=0.6]   \n",
    "Fold3\n",
    "100%|██████████| 1000/1000 [06:26<00:00,  2.58it/s, best_epoch=752, best_score=0.342, score=0.513, train=0.473, valid=0.385] \n",
    "Fold4\n",
    "100%|██████████| 1000/1000 [05:14<00:00,  3.18it/s, best_epoch=984, best_score=0.254, score=0.318, train=0.437, valid=0.307] \n",
    "0.36624119001847333"
   ]
  },
  {
   "cell_type": "markdown",
   "id": "e544b43e",
   "metadata": {
    "papermill": {
     "duration": 0.034236,
     "end_time": "2023-06-20T00:47:31.121522",
     "exception": false,
     "start_time": "2023-06-20T00:47:31.087286",
     "status": "completed"
    },
    "tags": []
   },
   "source": [
    "### train/single model"
   ]
  },
  {
   "cell_type": "code",
   "execution_count": 192,
   "id": "d0bba986",
   "metadata": {
    "execution": {
     "iopub.execute_input": "2023-06-20T00:47:31.191673Z",
     "iopub.status.busy": "2023-06-20T00:47:31.191099Z",
     "iopub.status.idle": "2023-06-20T00:47:31.197940Z",
     "shell.execute_reply": "2023-06-20T00:47:31.196985Z"
    },
    "papermill": {
     "duration": 0.044213,
     "end_time": "2023-06-20T00:47:31.199937",
     "exception": false,
     "start_time": "2023-06-20T00:47:31.155724",
     "status": "completed"
    },
    "tags": []
   },
   "outputs": [],
   "source": [
    "if torch_train:\n",
    "    # 全てのデータを利用して学習 train=valid\n",
    "    train_dataset = MyDataset(df_train, is_train=is_train)\n",
    "    valid_dataset = MyDataset(df_train)\n",
    "    train_dataloader = DataLoader(train_dataset, batch_size=cfg.TRAIN_BATCHSIZE, shuffle=True)\n",
    "    valid_dataloader = DataLoader(valid_dataset, batch_size=cfg.VALID_BATCHSIZE, shuffle=False)\n",
    "\n",
    "    num = 100\n",
    "    seed_everything(cfg.seed * num)\n",
    "\n",
    "    print(f\"Fold{num}\")\n",
    "    score = train(num, train_dataloader, valid_dataloader, input_dim, output_dim, total_epoch=1000)\n",
    "\n",
    "    print(score)"
   ]
  },
  {
   "cell_type": "code",
   "execution_count": 193,
   "id": "c152746d",
   "metadata": {
    "execution": {
     "iopub.execute_input": "2023-06-20T00:47:31.270207Z",
     "iopub.status.busy": "2023-06-20T00:47:31.269897Z",
     "iopub.status.idle": "2023-06-20T00:47:31.276368Z",
     "shell.execute_reply": "2023-06-20T00:47:31.275436Z"
    },
    "papermill": {
     "duration": 0.04378,
     "end_time": "2023-06-20T00:47:31.278374",
     "exception": false,
     "start_time": "2023-06-20T00:47:31.234594",
     "status": "completed"
    },
    "tags": []
   },
   "outputs": [],
   "source": [
    "if torch_train:\n",
    "    # 全てのデータを利用して学習 train=valid\n",
    "    train_dataset = MyDataset(df_train, is_train=is_train)\n",
    "    valid_dataset = MyDataset(df_train)\n",
    "    train_dataloader = DataLoader(train_dataset, batch_size=cfg.TRAIN_BATCHSIZE, shuffle=True)\n",
    "    valid_dataloader = DataLoader(valid_dataset, batch_size=cfg.VALID_BATCHSIZE, shuffle=False)\n",
    "\n",
    "    num = 101\n",
    "    seed_everything(cfg.seed * num)\n",
    "    print(f\"Fold{num}\")\n",
    "    score = train(num, train_dataloader, valid_dataloader, input_dim, output_dim, total_epoch=2000)\n",
    "\n",
    "    print(score)"
   ]
  },
  {
   "cell_type": "markdown",
   "id": "e76554df",
   "metadata": {
    "papermill": {
     "duration": 0.034593,
     "end_time": "2023-06-20T00:47:31.347273",
     "exception": false,
     "start_time": "2023-06-20T00:47:31.312680",
     "status": "completed"
    },
    "tags": []
   },
   "source": [
    "### 予測用の関数等の定義"
   ]
  },
  {
   "cell_type": "code",
   "execution_count": 194,
   "id": "b84b26d2",
   "metadata": {
    "execution": {
     "iopub.execute_input": "2023-06-20T00:47:31.417368Z",
     "iopub.status.busy": "2023-06-20T00:47:31.417042Z",
     "iopub.status.idle": "2023-06-20T00:47:34.614894Z",
     "shell.execute_reply": "2023-06-20T00:47:34.613496Z"
    },
    "papermill": {
     "duration": 3.235744,
     "end_time": "2023-06-20T00:47:34.617184",
     "exception": false,
     "start_time": "2023-06-20T00:47:31.381440",
     "status": "completed"
    },
    "tags": []
   },
   "outputs": [
    {
     "name": "stdout",
     "output_type": "stream",
     "text": [
      "../input/icr-pycaret-dataset/model_weight_fold0.pth\n",
      "../input/icr-pycaret-dataset/model_weight_fold1.pth\n",
      "../input/icr-pycaret-dataset/model_weight_fold2.pth\n",
      "../input/icr-pycaret-dataset/model_weight_fold3.pth\n",
      "../input/icr-pycaret-dataset/model_weight_fold4.pth\n"
     ]
    }
   ],
   "source": [
    "nn_models = []\n",
    "for i in range(5):\n",
    "    model = MyModel(input_dim, output_dim)\n",
    "    if torch_train:\n",
    "        print(f'model_weight_fold{i}.pth')\n",
    "        model.load_state_dict(torch.load(f'model_weight_fold{i}.pth', map_location=torch.device('cpu')))\n",
    "    else:\n",
    "        print(f'../input/icr-pycaret-dataset/model_weight_fold{i}.pth')\n",
    "        model.load_state_dict(torch.load(f'../input/icr-pycaret-dataset/model_weight_fold{i}.pth', map_location=torch.device('cpu')))\n",
    "        \n",
    "    model.to(device)\n",
    "    model.eval()  ## torch.nn.Module.eval\n",
    "    nn_models.append(model)"
   ]
  },
  {
   "cell_type": "code",
   "execution_count": 195,
   "id": "4ff6f37b",
   "metadata": {
    "execution": {
     "iopub.execute_input": "2023-06-20T00:47:34.689535Z",
     "iopub.status.busy": "2023-06-20T00:47:34.688703Z",
     "iopub.status.idle": "2023-06-20T00:47:34.714503Z",
     "shell.execute_reply": "2023-06-20T00:47:34.713366Z"
    },
    "papermill": {
     "duration": 0.063243,
     "end_time": "2023-06-20T00:47:34.716512",
     "exception": false,
     "start_time": "2023-06-20T00:47:34.653269",
     "status": "completed"
    },
    "tags": []
   },
   "outputs": [
    {
     "name": "stdout",
     "output_type": "stream",
     "text": [
      "../input/icr-pycaret-dataset/model_weight_fold100.pth\n",
      "../input/icr-pycaret-dataset/model_weight_fold101.pth\n"
     ]
    }
   ],
   "source": [
    "nn_single_model = []\n",
    "for i in range(100, 102):\n",
    "    model = MyModel(input_dim, output_dim)\n",
    "    if torch_train:\n",
    "        print(f'model_weight_fold{i}.pth')\n",
    "        model.load_state_dict(torch.load(f'model_weight_fold{i}.pth', map_location=torch.device('cpu')))\n",
    "    else:\n",
    "        print(f'../input/icr-pycaret-dataset/model_weight_fold{i}.pth')\n",
    "        model.load_state_dict(torch.load(f'../input/icr-pycaret-dataset/model_weight_fold{i}.pth', map_location=torch.device('cpu')))\n",
    "        \n",
    "    model.to(device)\n",
    "    model.eval()  ## torch.nn.Module.eval\n",
    "    nn_single_model.append(model)"
   ]
  },
  {
   "cell_type": "code",
   "execution_count": 196,
   "id": "3204c50f",
   "metadata": {
    "execution": {
     "iopub.execute_input": "2023-06-20T00:47:34.787786Z",
     "iopub.status.busy": "2023-06-20T00:47:34.786981Z",
     "iopub.status.idle": "2023-06-20T00:47:34.794139Z",
     "shell.execute_reply": "2023-06-20T00:47:34.793286Z"
    },
    "papermill": {
     "duration": 0.045039,
     "end_time": "2023-06-20T00:47:34.796155",
     "exception": false,
     "start_time": "2023-06-20T00:47:34.751116",
     "status": "completed"
    },
    "tags": []
   },
   "outputs": [],
   "source": [
    "def nn_predict_proba(X, models):\n",
    "    preds = []\n",
    "    features = []\n",
    "    X = X.to(device)\n",
    "    for model in models:\n",
    "        with torch.no_grad():\n",
    "            pred, feature = model(X, None)\n",
    "        pred = F.softmax(pred, dim=1).cpu().detach().numpy()\n",
    "\n",
    "        if len(preds) == 0:\n",
    "            preds = pred\n",
    "            features = feature\n",
    "        else:\n",
    "            preds += pred\n",
    "            features += feature\n",
    "\n",
    "    preds = preds/len(models)\n",
    "    feature /= len(models)\n",
    "    return preds, feature"
   ]
  },
  {
   "cell_type": "code",
   "execution_count": null,
   "id": "c00e7030",
   "metadata": {
    "papermill": {
     "duration": 0.034475,
     "end_time": "2023-06-20T00:47:34.865295",
     "exception": false,
     "start_time": "2023-06-20T00:47:34.830820",
     "status": "completed"
    },
    "tags": []
   },
   "outputs": [],
   "source": []
  },
  {
   "cell_type": "code",
   "execution_count": null,
   "id": "454caad1",
   "metadata": {
    "papermill": {
     "duration": 0.034879,
     "end_time": "2023-06-20T00:47:34.934472",
     "exception": false,
     "start_time": "2023-06-20T00:47:34.899593",
     "status": "completed"
    },
    "tags": []
   },
   "outputs": [],
   "source": []
  },
  {
   "cell_type": "code",
   "execution_count": 197,
   "id": "66a5a8ca",
   "metadata": {
    "execution": {
     "iopub.execute_input": "2023-06-20T00:47:35.005998Z",
     "iopub.status.busy": "2023-06-20T00:47:35.005093Z",
     "iopub.status.idle": "2023-06-20T00:47:36.881944Z",
     "shell.execute_reply": "2023-06-20T00:47:36.881070Z"
    },
    "papermill": {
     "duration": 1.915913,
     "end_time": "2023-06-20T00:47:36.884393",
     "exception": false,
     "start_time": "2023-06-20T00:47:34.968480",
     "status": "completed"
    },
    "scrolled": true,
    "tags": []
   },
   "outputs": [
    {
     "data": {
      "text/plain": [
       "(array([[3.8089111e-02, 9.6191090e-01],\n",
       "        [9.9950773e-01, 4.9224746e-04],\n",
       "        [8.9125758e-01, 1.0874239e-01],\n",
       "        ...,\n",
       "        [9.9776018e-01, 2.2397940e-03],\n",
       "        [9.8534364e-01, 1.4656347e-02],\n",
       "        [9.9723184e-01, 2.7681391e-03]], dtype=float32),\n",
       " tensor([[ 0.0571,  0.0363,  0.0070,  ..., -0.0358,  0.0234,  0.0622],\n",
       "         [ 0.0075,  0.0537,  0.0257,  ..., -0.0362, -0.0006,  0.0049],\n",
       "         [ 0.0284,  0.0392,  0.0142,  ..., -0.0392,  0.0060,  0.0432],\n",
       "         ...,\n",
       "         [ 0.0094,  0.0549,  0.0282,  ..., -0.0390,  0.0016,  0.0182],\n",
       "         [ 0.0244,  0.0454,  0.0180,  ..., -0.0381,  0.0148,  0.0198],\n",
       "         [ 0.0420,  0.0294, -0.0055,  ..., -0.0411,  0.0092,  0.0129]]))"
      ]
     },
     "execution_count": 197,
     "metadata": {},
     "output_type": "execute_result"
    }
   ],
   "source": [
    "X = torch.Tensor(df_train[df_train.columns[:-2]].to_numpy())\n",
    "y = df_train.Class\n",
    "\n",
    "preds, features = nn_predict_proba(X, nn_models)\n",
    "preds, features"
   ]
  },
  {
   "cell_type": "code",
   "execution_count": 198,
   "id": "f897ffeb",
   "metadata": {
    "execution": {
     "iopub.execute_input": "2023-06-20T00:47:36.956839Z",
     "iopub.status.busy": "2023-06-20T00:47:36.955986Z",
     "iopub.status.idle": "2023-06-20T00:47:36.963524Z",
     "shell.execute_reply": "2023-06-20T00:47:36.962405Z"
    },
    "papermill": {
     "duration": 0.04544,
     "end_time": "2023-06-20T00:47:36.965518",
     "exception": false,
     "start_time": "2023-06-20T00:47:36.920078",
     "status": "completed"
    },
    "tags": []
   },
   "outputs": [
    {
     "data": {
      "text/plain": [
       "0.1171958512181134"
      ]
     },
     "execution_count": 198,
     "metadata": {},
     "output_type": "execute_result"
    }
   ],
   "source": [
    "balanced_log_loss(y, preds[:, 1])"
   ]
  },
  {
   "cell_type": "code",
   "execution_count": 199,
   "id": "b8f7a945",
   "metadata": {
    "execution": {
     "iopub.execute_input": "2023-06-20T00:47:37.037946Z",
     "iopub.status.busy": "2023-06-20T00:47:37.037160Z",
     "iopub.status.idle": "2023-06-20T00:47:37.060714Z",
     "shell.execute_reply": "2023-06-20T00:47:37.059568Z"
    },
    "papermill": {
     "duration": 0.062236,
     "end_time": "2023-06-20T00:47:37.062780",
     "exception": false,
     "start_time": "2023-06-20T00:47:37.000544",
     "status": "completed"
    },
    "tags": []
   },
   "outputs": [
    {
     "name": "stdout",
     "output_type": "stream",
     "text": [
      "Fold0 0.23968630513096645\n",
      "Fold1 0.13940624779741514\n",
      "Fold2 0.48201105283591733\n",
      "Fold3 0.25245653082519326\n",
      "Fold4 0.4537879877942637\n"
     ]
    }
   ],
   "source": [
    "kf = StratifiedKFold(n_splits=5, shuffle=True, random_state=seed)\n",
    "\n",
    "for idx, (train_idx, valid_idx) in enumerate(kf.split(df_train, greeks_df.Class)):\n",
    "    valid_df = df_train.iloc[valid_idx]\n",
    "    \n",
    "    X = torch.Tensor(valid_df[valid_df.columns[:-2]].to_numpy()).to(device)\n",
    "    y = valid_df.Class\n",
    "    with torch.no_grad():\n",
    "        pred, _ = nn_models[idx](X, None)\n",
    "    pred = F.softmax(pred, dim=1).detach().cpu().numpy()\n",
    "    score = balanced_log_loss(y, pred[:, 1])\n",
    "    print(f\"Fold{idx}\", score)"
   ]
  },
  {
   "cell_type": "code",
   "execution_count": 200,
   "id": "d91e696b",
   "metadata": {
    "execution": {
     "iopub.execute_input": "2023-06-20T00:47:37.135062Z",
     "iopub.status.busy": "2023-06-20T00:47:37.134247Z",
     "iopub.status.idle": "2023-06-20T00:47:37.145030Z",
     "shell.execute_reply": "2023-06-20T00:47:37.144022Z"
    },
    "papermill": {
     "duration": 0.048582,
     "end_time": "2023-06-20T00:47:37.146973",
     "exception": false,
     "start_time": "2023-06-20T00:47:37.098391",
     "status": "completed"
    },
    "tags": []
   },
   "outputs": [
    {
     "data": {
      "text/plain": [
       "0.06488931013387277"
      ]
     },
     "execution_count": 200,
     "metadata": {},
     "output_type": "execute_result"
    }
   ],
   "source": [
    "# single model\n",
    "X = torch.Tensor(df_train[df_train.columns[:-2]].to_numpy())\n",
    "y = df_train.Class\n",
    "\n",
    "preds, features = nn_predict_proba(X, nn_single_model)\n",
    "balanced_log_loss(y, preds[:, 1])"
   ]
  },
  {
   "cell_type": "markdown",
   "id": "e84563eb",
   "metadata": {
    "papermill": {
     "duration": 0.035523,
     "end_time": "2023-06-20T00:47:37.218098",
     "exception": false,
     "start_time": "2023-06-20T00:47:37.182575",
     "status": "completed"
    },
    "tags": []
   },
   "source": [
    "# LightGBM/XGBoost/CatBoost"
   ]
  },
  {
   "cell_type": "code",
   "execution_count": 201,
   "id": "a619e39b",
   "metadata": {
    "execution": {
     "iopub.execute_input": "2023-06-20T00:47:37.289946Z",
     "iopub.status.busy": "2023-06-20T00:47:37.289621Z",
     "iopub.status.idle": "2023-06-20T00:47:37.297611Z",
     "shell.execute_reply": "2023-06-20T00:47:37.296696Z"
    },
    "papermill": {
     "duration": 0.046185,
     "end_time": "2023-06-20T00:47:37.299571",
     "exception": false,
     "start_time": "2023-06-20T00:47:37.253386",
     "status": "completed"
    },
    "tags": []
   },
   "outputs": [
    {
     "data": {
      "text/plain": [
       "617"
      ]
     },
     "execution_count": 201,
     "metadata": {},
     "output_type": "execute_result"
    }
   ],
   "source": [
    "classes_weights = compute_sample_weight(\n",
    "    class_weight='balanced',\n",
    "    y=df_train.Class\n",
    ")\n",
    "len(classes_weights)"
   ]
  },
  {
   "cell_type": "code",
   "execution_count": 202,
   "id": "29c08aa0",
   "metadata": {},
   "outputs": [
    {
     "data": {
      "text/plain": [
       "array([2.85648148, 0.60609037, 0.60609037, 0.60609037, 2.85648148,\n",
       "       0.60609037, 0.60609037, 0.60609037, 0.60609037, 0.60609037])"
      ]
     },
     "execution_count": 202,
     "metadata": {},
     "output_type": "execute_result"
    }
   ],
   "source": [
    "classes_weights[classes_weights == max(classes_weights)]*=positive_weight\n",
    "classes_weights[:10]"
   ]
  },
  {
   "cell_type": "code",
   "execution_count": 203,
   "id": "7327e06f",
   "metadata": {},
   "outputs": [
    {
     "data": {
      "text/plain": [
       "array([5.71296296, 0.60609037, 0.60609037, 0.60609037, 5.71296296,\n",
       "       0.60609037, 0.60609037, 0.60609037, 0.60609037, 0.60609037])"
      ]
     },
     "execution_count": 203,
     "metadata": {},
     "output_type": "execute_result"
    }
   ],
   "source": [
    "classes_weights2 = compute_sample_weight(\n",
    "    class_weight='balanced',\n",
    "    y=df_train.Class\n",
    ")\n",
    "classes_weights2[classes_weights2 == max(classes_weights2)]*=positive_weight2\n",
    "classes_weights2[:10]"
   ]
  },
  {
   "cell_type": "code",
   "execution_count": 204,
   "id": "116d5d37",
   "metadata": {
    "execution": {
     "iopub.execute_input": "2023-06-20T00:47:37.373551Z",
     "iopub.status.busy": "2023-06-20T00:47:37.372652Z",
     "iopub.status.idle": "2023-06-20T00:47:37.379996Z",
     "shell.execute_reply": "2023-06-20T00:47:37.379210Z"
    },
    "papermill": {
     "duration": 0.046395,
     "end_time": "2023-06-20T00:47:37.381944",
     "exception": false,
     "start_time": "2023-06-20T00:47:37.335549",
     "status": "completed"
    },
    "tags": []
   },
   "outputs": [],
   "source": [
    "def balanced_log_loss(y_true, y_pred):\n",
    "    y_pred = np.clip(y_pred, 1e-15, 1-1e-15)\n",
    "    nc = np.bincount(y_true)\n",
    "    w0, w1 = 1/(nc[0]/y_true.shape[0]), 1/(nc[1]/y_true.shape[0])\n",
    "    balanced_log_loss_score = (-w0/nc[0]*(np.sum(np.where(y_true==0,1,0) * np.log(1-y_pred))) - w1/nc[1]*(np.sum(np.where(y_true!=0,1,0) * np.log(y_pred)))) / (w0+w1)\n",
    "    return balanced_log_loss_score\n",
    "\n",
    "from sklearn.metrics import log_loss\n",
    "def balanced_log_loss(y_true, y_pred):\n",
    "    nc = np.bincount(y_true)\n",
    "    return log_loss(y_true, y_pred, sample_weight = 1/nc[y_true], eps=1e-15)\n",
    "\n",
    "# 独自の評価関数をスコアリング関数に変換\n",
    "balanced_log_loss_scorer = make_scorer(balanced_log_loss, greater_is_better=False)"
   ]
  },
  {
   "cell_type": "markdown",
   "id": "765060c4",
   "metadata": {
    "papermill": {
     "duration": 0.035083,
     "end_time": "2023-06-20T00:47:37.452362",
     "exception": false,
     "start_time": "2023-06-20T00:47:37.417279",
     "status": "completed"
    },
    "tags": []
   },
   "source": [
    "## optuna"
   ]
  },
  {
   "cell_type": "code",
   "execution_count": 205,
   "id": "e1f76cd4",
   "metadata": {
    "execution": {
     "iopub.execute_input": "2023-06-20T00:47:37.525606Z",
     "iopub.status.busy": "2023-06-20T00:47:37.525247Z",
     "iopub.status.idle": "2023-06-20T00:47:37.539487Z",
     "shell.execute_reply": "2023-06-20T00:47:37.538570Z"
    },
    "papermill": {
     "duration": 0.053741,
     "end_time": "2023-06-20T00:47:37.541463",
     "exception": false,
     "start_time": "2023-06-20T00:47:37.487722",
     "status": "completed"
    },
    "tags": []
   },
   "outputs": [],
   "source": [
    "# 初期設定値\n",
    "# lgbm_params = {'n_estimators': 880,\n",
    "#  'reg_alpha': 1.1,\n",
    "#  'reg_lambda': 57.800000000000004,\n",
    "#  'num_leaves': 7,\n",
    "#  'min_child_samples': 54,\n",
    "#  'colsample_bytree': 0.8,\n",
    "#  'subsample': 0.5,\n",
    "#  'subsample_freq': 2}\n",
    "\n",
    "# lgbm_params = {'n_estimators': 1130,\n",
    "#  'reg_alpha': 0.0,\n",
    "#  'reg_lambda': 86.60000000000001,\n",
    "#  'num_leaves': 28,\n",
    "#  'min_child_samples': 26,\n",
    "#  'colsample_bytree': 0.8,\n",
    "#  'subsample': 0.6,\n",
    "#  'subsample_freq': 1}\n",
    "\n",
    "lgbm_params = {'n_estimators': 1480,\n",
    " 'reg_alpha': 0.1,\n",
    " 'reg_lambda': 9.600000000000001,\n",
    " 'num_leaves': 48,\n",
    " 'min_child_samples': 11,\n",
    " 'colsample_bytree': 0.7,\n",
    " 'subsample': 0.8,\n",
    " 'subsample_freq': 1}\n",
    "\n",
    "# lgbm_params_2 = {'n_estimators': 620,\n",
    "#  'reg_alpha': 0.1,\n",
    "#  'reg_lambda': 55.2,\n",
    "#  'num_leaves': 46,\n",
    "#  'min_child_samples': 40,\n",
    "#  'colsample_bytree': 1.0,\n",
    "#  'subsample': 0.5,\n",
    "#  'subsample_freq': 1}\n",
    "    \n",
    "# lgbm_params_2 = {'n_estimators': 850,\n",
    "#  'reg_alpha': 1.7000000000000002,\n",
    "#  'reg_lambda': 11.200000000000001,\n",
    "#  'num_leaves': 4,\n",
    "#  'min_child_samples': 23,\n",
    "#  'colsample_bytree': 0.6,\n",
    "#  'subsample': 0.9,\n",
    "#  'subsample_freq': 2}\n",
    "\n",
    "lgbm_params_2 = {'n_estimators': 1260,\n",
    " 'reg_alpha': 0.0,\n",
    " 'reg_lambda': 5.0,\n",
    " 'num_leaves': 45,\n",
    " 'min_child_samples': 21,\n",
    " 'colsample_bytree': 0.9,\n",
    " 'subsample': 0.9,\n",
    " 'subsample_freq': 2}\n",
    "    \n",
    "# xgb_params = {'n_estimators': 700,\n",
    "#  'max_depth': 3,\n",
    "#  'learning_rate': 0.03560016067885742,\n",
    "#  'subsample': 0.7408505704121144,\n",
    "#  'colsample_bytree': 0.5705779083310649,\n",
    "#  'gamma': 0.5286651204230014}\n",
    "# xgb_params = {'n_estimators': 1000,\n",
    "#  'max_depth': 3,\n",
    "#  'learning_rate': 0.1543150953351635,\n",
    "#  'subsample': 0.528008233404971,\n",
    "#  'colsample_bytree': 0.9851329877303666,\n",
    "#  'reg_alpha': 3.8000000000000003,\n",
    "#  'reg_lambda': 39.7,\n",
    "#  'gamma': 0.017381355558751747}\n",
    "\n",
    "# xgb_params = {'n_estimators': 500,\n",
    "#  'max_depth': 3,\n",
    "#  'learning_rate': 0.10793305053505592,\n",
    "#  'subsample': 0.8369256864343991,\n",
    "#  'colsample_bytree': 0.7520464672724583,\n",
    "#  'reg_alpha': 0.0,\n",
    "#  'reg_lambda': 37.0,\n",
    "#  'gamma': 0.015813647736160532}\n",
    "\n",
    "xgb_params = {'n_estimators': 1100,\n",
    " 'max_depth': 10,\n",
    " 'learning_rate': 0.15614514347924224,\n",
    " 'subsample': 0.5914988686475774,\n",
    " 'colsample_bytree': 0.6908905550987483,\n",
    " 'reg_alpha': 0.0,\n",
    " 'reg_lambda': 25.8,\n",
    " 'gamma': 0.01968681003733401}\n",
    "\n",
    "# xgb_params_2 = {'n_estimators': 1100,\n",
    "#  'max_depth': 3,\n",
    "#  'learning_rate': 0.14518639775016545,\n",
    "#  'subsample': 0.5084553487981508,\n",
    "#  'colsample_bytree': 0.8331982072851236,\n",
    "#  'reg_alpha': 2.6,\n",
    "#  'reg_lambda': 44.800000000000004,\n",
    "#  'gamma': 0.0011795489621245533}\n",
    "   \n",
    "    \n",
    "# xgb_params_2 = {'n_estimators': 400,\n",
    "#  'max_depth': 3,\n",
    "#  'learning_rate': 0.29902645074397594,\n",
    "#  'subsample': 0.7735383359613076,\n",
    "#  'colsample_bytree': 0.7336849557739112,\n",
    "#  'reg_alpha': 0.0,\n",
    "#  'reg_lambda': 49.0,\n",
    "#  'gamma': 0.008816865972010722}\n",
    "\n",
    "xgb_params_2 = {'n_estimators': 1400,\n",
    " 'max_depth': 6,\n",
    " 'learning_rate': 0.11874831982593327,\n",
    " 'subsample': 0.6511990698691976,\n",
    " 'colsample_bytree': 0.6701953578639556,\n",
    " 'reg_alpha': 0.0,\n",
    " 'reg_lambda': 29.6,\n",
    " 'gamma': 0.0011405697665625514}\n",
    "    \n",
    "# cb_params = {'iterations': 95,\n",
    "#  'depth': 4,\n",
    "#  'learning_rate': 0.10210645995422828,\n",
    "#  'random_strength': 3,\n",
    "#  'bagging_temperature': 0.034248653596267484,\n",
    "#  'od_wait': 50}\n",
    "\n",
    "cb_params = {'iterations': 289,\n",
    " 'depth': 4,\n",
    " 'learning_rate': 0.18768446152569845,\n",
    " 'random_strength': 10,\n",
    " 'bagging_temperature': 20.487227440664658,\n",
    " 'od_wait': 22}\n",
    "\n",
    "# cb_params_2 = {'iterations': 182,\n",
    "#  'depth': 4,\n",
    "#  'learning_rate': 0.094658662671199,\n",
    "#  'random_strength': 81,\n",
    "#  'bagging_temperature': 0.02984516823532346,\n",
    "#  'od_wait': 33}\n",
    "\n",
    "cb_params_2 = {'iterations': 250,\n",
    " 'depth': 4,\n",
    " 'learning_rate': 0.1406204176910051,\n",
    " 'random_strength': 69,\n",
    " 'bagging_temperature': 0.02944175723888104,\n",
    " 'od_wait': 40}\n",
    "\n",
    "# rf_params = {'criterion': 'entropy',\n",
    "#  'bootstrap': False,\n",
    "#  'max_depth': 208,\n",
    "#  'max_features': 'sqrt',\n",
    "#  'max_leaf_nodes': 12,\n",
    "#  'n_estimators': 204,\n",
    "#  'min_samples_split': 4,\n",
    "#  'min_samples_leaf': 8}\n",
    "\n",
    "rf_params= {'criterion': 'entropy',\n",
    " 'bootstrap': False,\n",
    " 'max_depth': 745,\n",
    " 'max_features': 'sqrt',\n",
    " 'max_leaf_nodes': 153,\n",
    " 'n_estimators': 169,\n",
    " 'min_samples_split': 4,\n",
    " 'min_samples_leaf': 7}\n",
    "\n",
    "# スタッキング用\n",
    "lgbm_params2 = {'n_estimators': 370,\n",
    " 'reg_alpha': 21.3,\n",
    " 'reg_lambda': 0.5,\n",
    " 'num_leaves': 12,\n",
    " 'min_child_samples': 25,\n",
    " 'colsample_bytree': 0.5,\n",
    " 'subsample': 0.6,\n",
    " 'subsample_freq': 0}  "
   ]
  },
  {
   "cell_type": "markdown",
   "id": "7709c430",
   "metadata": {
    "papermill": {
     "duration": 0.036435,
     "end_time": "2023-06-20T00:47:37.613510",
     "exception": false,
     "start_time": "2023-06-20T00:47:37.577075",
     "status": "completed"
    },
    "tags": []
   },
   "source": [
    "### lightGBM"
   ]
  },
  {
   "cell_type": "code",
   "execution_count": 206,
   "id": "203c39cb",
   "metadata": {
    "execution": {
     "iopub.execute_input": "2023-06-20T00:47:37.686469Z",
     "iopub.status.busy": "2023-06-20T00:47:37.685712Z",
     "iopub.status.idle": "2023-06-20T00:47:37.697706Z",
     "shell.execute_reply": "2023-06-20T00:47:37.696792Z"
    },
    "papermill": {
     "duration": 0.051214,
     "end_time": "2023-06-20T00:47:37.699640",
     "exception": false,
     "start_time": "2023-06-20T00:47:37.648426",
     "status": "completed"
    },
    "tags": []
   },
   "outputs": [],
   "source": [
    "\n",
    "def obj_lgbm(trial):\n",
    "    params = {\n",
    "        'boosting_type':'gbdt',\n",
    "        'class_weight':'balanced',\n",
    "        'n_estimators': trial.suggest_int('n_estimators', 100, 2000, step=10),\n",
    "        'reg_alpha': trial.suggest_float('reg_alpha', 0, 100, step=0.1),\n",
    "        'reg_lambda': trial.suggest_float('reg_lambda', 0, 100, step=0.1),\n",
    "        'num_leaves': trial.suggest_int('num_leaves', 2, 64, step=1),\n",
    "        'min_child_samples': trial.suggest_int('min_child_samples', 8, 64, step=1),\n",
    "        'colsample_bytree': trial.suggest_float('colsample_bytree', 0.5, 1.0, step=0.1),\n",
    "        'subsample': trial.suggest_float('subsample', 0.5, 1.0, step=0.1),\n",
    "        'subsample_freq': trial.suggest_int('subsample_freq', 0, 3, step=1),\n",
    "    }\n",
    "    \n",
    "    \n",
    "    model = LGBMClassifier(**params)\n",
    "    \n",
    "    kf = StratifiedKFold(n_splits=5, shuffle=True, random_state=seed)\n",
    "\n",
    "    score = 0\n",
    "    for train_idx, valid_idx in kf.split(df_train, greeks_df.Class):\n",
    "        train_df = df_train.iloc[train_idx]\n",
    "        valid_df = df_train.iloc[valid_idx]\n",
    "        X_train, y_train = train_df[train_df.columns[:-1]], train_df.Class\n",
    "        X_valid, y_valid = valid_df[valid_df.columns[:-1]], valid_df.Class\n",
    "\n",
    "        weights = classes_weights[train_idx]\n",
    "        model.fit(X_train, y_train, sample_weight=weights, \n",
    "#                   eval_set=(X_valid, y_valid), eval_metric=lgb_metric,\n",
    "#                   callbacks=[\n",
    "#                       lightgbm.early_stopping(stopping_rounds=50, verbose=False),\n",
    "#                       lightgbm.log_evaluation(-1),],\n",
    "                 )\n",
    "        y_pred = model.predict_proba(X_valid)\n",
    "        if use_new_pred:\n",
    "            y_pred = calc_new_pred(y_pred)\n",
    "\n",
    "        loss = balanced_log_loss(y_valid, y_pred[:, 1])\n",
    "        score += loss\n",
    "\n",
    "    return score/5"
   ]
  },
  {
   "cell_type": "code",
   "execution_count": 207,
   "id": "f786f626",
   "metadata": {},
   "outputs": [],
   "source": [
    "# def obj_lgbm(trial):\n",
    "#     params = {\n",
    "#         'random_state': trial.suggest_int('random_state', 1, 100, step=1),\n",
    "#         'n' : trial.suggest_int('n', 1, len(df_train.columns)-1, step=1),\n",
    "#         'axis': 1\n",
    "#     }\n",
    "    \n",
    "    \n",
    "#     model = LGBMClassifier(**lgbm_params)\n",
    "    \n",
    "#     kf = StratifiedKFold(n_splits=5, shuffle=True, random_state=seed)\n",
    "\n",
    "#     score = 0\n",
    "#     df_sel = df_train[df_train.columns[:-1]].sample(**params)\n",
    "#     df_sel['Class'] = df_train.Class\n",
    "        \n",
    "#     for train_idx, valid_idx in kf.split(df_sel, greeks_df.Class):\n",
    "#         train_df = df_sel.iloc[train_idx]\n",
    "#         valid_df = df_sel.iloc[valid_idx]\n",
    "#         X_train, y_train = train_df[train_df.columns[:-1]], train_df.Class\n",
    "#         X_valid, y_valid = valid_df[valid_df.columns[:-1]], valid_df.Class\n",
    "        \n",
    "#         weights = classes_weights[train_idx]\n",
    "#         model.fit(X_train, y_train, sample_weight=weights, \n",
    "# #                   eval_set=(X_valid, y_valid), eval_metric=lgb_metric,\n",
    "# #                   callbacks=[\n",
    "# #                       lightgbm.early_stopping(stopping_rounds=50, verbose=False),\n",
    "# #                       lightgbm.log_evaluation(-1),],\n",
    "#                  )\n",
    "#         y_pred = model.predict_proba(X_valid)\n",
    "#         if use_new_pred:\n",
    "#             y_pred = calc_new_pred(y_pred)\n",
    "\n",
    "#         loss = balanced_log_loss(y_valid, y_pred[:, 1])\n",
    "#         score += loss\n",
    "\n",
    "#     return score/5"
   ]
  },
  {
   "cell_type": "code",
   "execution_count": 208,
   "id": "5949f0c3",
   "metadata": {
    "scrolled": true
   },
   "outputs": [
    {
     "data": {
      "text/plain": [
       "{'n_estimators': 1480,\n",
       " 'reg_alpha': 0.1,\n",
       " 'reg_lambda': 9.600000000000001,\n",
       " 'num_leaves': 48,\n",
       " 'min_child_samples': 11,\n",
       " 'colsample_bytree': 0.7,\n",
       " 'subsample': 0.8,\n",
       " 'subsample_freq': 1}"
      ]
     },
     "execution_count": 208,
     "metadata": {},
     "output_type": "execute_result"
    }
   ],
   "source": [
    "# do_opt = False\n",
    "if do_opt :\n",
    "    print(\"----\")\n",
    "    study = optuna.create_study(sampler=optuna.samplers.TPESampler(seed=seed))#direction='minimize')\n",
    "    study.enqueue_trial(lgbm_params)\n",
    "    study.optimize(obj_lgbm, n_trials=200)\n",
    "    lgbm_params = dict(study.best_trial.params.items())\n",
    "lgbm_params"
   ]
  },
  {
   "cell_type": "code",
   "execution_count": 209,
   "id": "5ebd4c45",
   "metadata": {
    "scrolled": true
   },
   "outputs": [
    {
     "data": {
      "text/plain": [
       "{'n_estimators': 1260,\n",
       " 'reg_alpha': 0.0,\n",
       " 'reg_lambda': 5.0,\n",
       " 'num_leaves': 45,\n",
       " 'min_child_samples': 21,\n",
       " 'colsample_bytree': 0.9,\n",
       " 'subsample': 0.9,\n",
       " 'subsample_freq': 2}"
      ]
     },
     "execution_count": 209,
     "metadata": {},
     "output_type": "execute_result"
    }
   ],
   "source": [
    "if do_opt :\n",
    "    study = optuna.create_study(sampler=optuna.samplers.TPESampler(seed=seed+1))#direction='minimize')\n",
    "    study.enqueue_trial(lgbm_params2)\n",
    "    study.optimize(obj_lgbm, n_trials=200)\n",
    "    lgbm_params_2 = dict(study.best_trial.params.items())\n",
    "lgbm_params_2"
   ]
  },
  {
   "cell_type": "code",
   "execution_count": 210,
   "id": "c56f2b08",
   "metadata": {},
   "outputs": [],
   "source": [
    "params = {\n",
    "    'random_state': 17,\n",
    "    'n' : 49,\n",
    "    'axis': 1\n",
    "}   \n",
    "df_sel = df_train[df_train.columns[:-1]].sample(**params)\n",
    "lgb_selected = df_sel.columns\n",
    "lgb_selected\n",
    "lgb_selected = ['DH', 'CC', 'EH', 'BD ', 'CW ', 'FI', 'FC', 'times', 'AB', 'GB', 'DE',\n",
    "       'DA', 'EU', 'EB', 'CU', 'BZ', 'GI', 'BP', 'CR', 'BC', 'DV', 'CF', 'CH',\n",
    "       'EL', 'BR', 'GL', 'BQ', 'AH', 'GE', 'EG', 'AX', 'DI', 'DU', 'EP', 'DL',\n",
    "       'EE', 'DF', 'GH', 'AM', 'DY', 'BN', 'CD ', 'AF', 'AZ', 'FD ', 'CL',\n",
    "       'EJ', 'AR', 'DN']"
   ]
  },
  {
   "cell_type": "code",
   "execution_count": null,
   "id": "97591584",
   "metadata": {},
   "outputs": [],
   "source": []
  },
  {
   "cell_type": "markdown",
   "id": "bd2bd037",
   "metadata": {
    "papermill": {
     "duration": 0.034659,
     "end_time": "2023-06-20T00:47:37.851377",
     "exception": false,
     "start_time": "2023-06-20T00:47:37.816718",
     "status": "completed"
    },
    "tags": []
   },
   "source": [
    "### xgboost"
   ]
  },
  {
   "cell_type": "code",
   "execution_count": 211,
   "id": "608b7fd7",
   "metadata": {
    "execution": {
     "iopub.execute_input": "2023-06-20T00:47:37.924335Z",
     "iopub.status.busy": "2023-06-20T00:47:37.923364Z",
     "iopub.status.idle": "2023-06-20T00:47:37.935059Z",
     "shell.execute_reply": "2023-06-20T00:47:37.934222Z"
    },
    "papermill": {
     "duration": 0.050122,
     "end_time": "2023-06-20T00:47:37.937032",
     "exception": false,
     "start_time": "2023-06-20T00:47:37.886910",
     "status": "completed"
    },
    "tags": []
   },
   "outputs": [],
   "source": [
    "def obj_xgb(trial):\n",
    "    params = {\n",
    "        'n_estimators': trial.suggest_int('n_estimators', 100, 1500, step=100),\n",
    "        'max_depth': trial.suggest_int('max_depth', 3, 10),\n",
    "        'learning_rate': trial.suggest_float('learning_rate', 0.001, 0.3, log=True),\n",
    "        'subsample': trial.suggest_float('subsample', 0.5, 1.0),\n",
    "        'colsample_bytree': trial.suggest_float('colsample_bytree', 0.5, 1.0),\n",
    "        'reg_alpha': trial.suggest_float('reg_alpha', 0, 100, step=0.1),\n",
    "        'reg_lambda': trial.suggest_float('reg_lambda', 0, 100, step=0.1),\n",
    "        'gamma': trial.suggest_float('gamma', 0.001, 1.0, log=True),\n",
    "        'objective': 'binary:logistic', \n",
    "        'eval_metric': 'logloss', \n",
    "        'seed': 42\n",
    "    }\n",
    "\n",
    "    model = XGBClassifier(**params)\n",
    "    \n",
    "    kf = StratifiedKFold(n_splits=5, shuffle=True, random_state=seed)\n",
    "\n",
    "    score = 0\n",
    "    for train_idx, valid_idx in kf.split(df_train, greeks_df.Class):\n",
    "        train_df = df_train.iloc[train_idx]\n",
    "        valid_df = df_train.iloc[valid_idx]\n",
    "        X_train, y_train = train_df[train_df.columns[:-1]], train_df.Class\n",
    "        X_valid, y_valid = valid_df[valid_df.columns[:-1]], valid_df.Class\n",
    "\n",
    "        weights = classes_weights[train_idx]\n",
    "        model.fit(X_train, y_train, sample_weight=weights)\n",
    "        y_pred = model.predict_proba(X_valid)\n",
    "        if use_new_pred:\n",
    "            y_pred = calc_new_pred(y_pred)\n",
    "\n",
    "        loss = balanced_log_loss(y_valid, y_pred[:, 1])\n",
    "        score += loss\n",
    "\n",
    "    return score/5\n",
    "    \n",
    "\n",
    "# if do_opt :    \n",
    "#     study = optuna.create_study(sampler=optuna.samplers.TPESampler(seed=seed))#direction='minimize')\n",
    "# #     study.enqueue_trial(xgb_params)\n",
    "#     study.optimize(obj_xgb, n_trials=200)"
   ]
  },
  {
   "cell_type": "code",
   "execution_count": 212,
   "id": "a2943db0",
   "metadata": {
    "execution": {
     "iopub.execute_input": "2023-06-20T00:47:38.009309Z",
     "iopub.status.busy": "2023-06-20T00:47:38.008493Z",
     "iopub.status.idle": "2023-06-20T00:47:38.015896Z",
     "shell.execute_reply": "2023-06-20T00:47:38.014594Z"
    },
    "papermill": {
     "duration": 0.045916,
     "end_time": "2023-06-20T00:47:38.018162",
     "exception": false,
     "start_time": "2023-06-20T00:47:37.972246",
     "status": "completed"
    },
    "scrolled": true,
    "tags": []
   },
   "outputs": [
    {
     "data": {
      "text/plain": [
       "{'n_estimators': 1100,\n",
       " 'max_depth': 10,\n",
       " 'learning_rate': 0.15614514347924224,\n",
       " 'subsample': 0.5914988686475774,\n",
       " 'colsample_bytree': 0.6908905550987483,\n",
       " 'reg_alpha': 0.0,\n",
       " 'reg_lambda': 25.8,\n",
       " 'gamma': 0.01968681003733401}"
      ]
     },
     "execution_count": 212,
     "metadata": {},
     "output_type": "execute_result"
    }
   ],
   "source": [
    "# 0.16646757594509132\n",
    "if do_opt :\n",
    "    study = optuna.create_study(sampler=optuna.samplers.TPESampler(seed=seed))#direction='minimize')\n",
    "    study.optimize(obj_xgb, n_trials=200)\n",
    "    xgb_params = dict(study.best_trial.params.items())\n",
    "xgb_params"
   ]
  },
  {
   "cell_type": "code",
   "execution_count": 213,
   "id": "e1dc60c7",
   "metadata": {
    "scrolled": true
   },
   "outputs": [
    {
     "data": {
      "text/plain": [
       "{'n_estimators': 1400,\n",
       " 'max_depth': 6,\n",
       " 'learning_rate': 0.11874831982593327,\n",
       " 'subsample': 0.6511990698691976,\n",
       " 'colsample_bytree': 0.6701953578639556,\n",
       " 'reg_alpha': 0.0,\n",
       " 'reg_lambda': 29.6,\n",
       " 'gamma': 0.0011405697665625514}"
      ]
     },
     "execution_count": 213,
     "metadata": {},
     "output_type": "execute_result"
    }
   ],
   "source": [
    "if do_opt :\n",
    "    study = optuna.create_study(sampler=optuna.samplers.TPESampler(seed=seed+1))#direction='minimize')\n",
    "    study.optimize(obj_xgb, n_trials=200)\n",
    "    xgb_params_2 = dict(study.best_trial.params.items())\n",
    "xgb_params_2"
   ]
  },
  {
   "cell_type": "markdown",
   "id": "9fe987db",
   "metadata": {
    "papermill": {
     "duration": 0.035082,
     "end_time": "2023-06-20T00:47:38.089671",
     "exception": false,
     "start_time": "2023-06-20T00:47:38.054589",
     "status": "completed"
    },
    "tags": []
   },
   "source": [
    "### catboost"
   ]
  },
  {
   "cell_type": "code",
   "execution_count": 214,
   "id": "b655b61e",
   "metadata": {
    "execution": {
     "iopub.execute_input": "2023-06-20T00:47:38.163706Z",
     "iopub.status.busy": "2023-06-20T00:47:38.163303Z",
     "iopub.status.idle": "2023-06-20T00:47:38.174704Z",
     "shell.execute_reply": "2023-06-20T00:47:38.173828Z"
    },
    "papermill": {
     "duration": 0.051439,
     "end_time": "2023-06-20T00:47:38.176668",
     "exception": false,
     "start_time": "2023-06-20T00:47:38.125229",
     "status": "completed"
    },
    "tags": []
   },
   "outputs": [],
   "source": [
    "def obj_cb(trial):\n",
    "    params = {\n",
    "        'iterations' : trial.suggest_int('iterations', 50, 300),                         \n",
    "        'depth' : trial.suggest_int('depth', 4, 10),                                       \n",
    "        'learning_rate' : trial.suggest_float('learning_rate', 0.01, 0.2, log=True),               \n",
    "        'random_strength' :trial.suggest_int('random_strength', 0, 100),                       \n",
    "        'bagging_temperature' :trial.suggest_float('bagging_temperature', 0.01, 100.00, log=True), \n",
    "#         'od_type': trial.suggest_categorical('od_type', ['IncToDec', 'Iter']),\n",
    "        'od_wait' :trial.suggest_int('od_wait', 10, 50)\n",
    "    }\n",
    "\n",
    "    \n",
    "    if use_GPU:\n",
    "        model = CatBoostClassifier(**cb_params, task_type=\"GPU\",\n",
    "                                   use_best_model=True)\n",
    "    else:\n",
    "        model = CatBoostClassifier(**params,\n",
    "                                  use_best_model=True)\n",
    "    \n",
    "    kf = StratifiedKFold(n_splits=5, shuffle=True, random_state=seed)\n",
    "\n",
    "    score = 0\n",
    "    for train_idx, valid_idx in kf.split(df_train, greeks_df.Class):\n",
    "        train_df = df_train.iloc[train_idx]\n",
    "        valid_df = df_train.iloc[valid_idx]\n",
    "        X_train, y_train = train_df[train_df.columns[:-1]], train_df.Class\n",
    "        X_valid, y_valid = valid_df[valid_df.columns[:-1]], valid_df.Class\n",
    "\n",
    "        weights = classes_weights[train_idx]\n",
    "        model.fit(X_train, y_train, logging_level=\"Silent\", sample_weight=weights,\n",
    "                 eval_set=(X_valid, y_valid))\n",
    "        y_pred = model.predict_proba(X_valid)\n",
    "        if use_new_pred:\n",
    "            y_pred = calc_new_pred(y_pred)\n",
    "\n",
    "        loss = balanced_log_loss(y_valid, y_pred[:, 1])\n",
    "        score += loss\n",
    "\n",
    "    return score/5\n",
    "\n",
    "# if do_opt :\n",
    "#     study = optuna.create_study(sampler=optuna.samplers.TPESampler(seed=seed))#direction='minimize')\n",
    "# #     study.enqueue_trial(cb_params)\n",
    "#     study.optimize(obj_cb, n_trials=100)"
   ]
  },
  {
   "cell_type": "code",
   "execution_count": 215,
   "id": "1fc783da",
   "metadata": {
    "execution": {
     "iopub.execute_input": "2023-06-20T00:47:38.249442Z",
     "iopub.status.busy": "2023-06-20T00:47:38.248646Z",
     "iopub.status.idle": "2023-06-20T00:47:38.255897Z",
     "shell.execute_reply": "2023-06-20T00:47:38.254998Z"
    },
    "papermill": {
     "duration": 0.045834,
     "end_time": "2023-06-20T00:47:38.257872",
     "exception": false,
     "start_time": "2023-06-20T00:47:38.212038",
     "status": "completed"
    },
    "tags": []
   },
   "outputs": [],
   "source": [
    "# # 0.3161876744027021\n",
    "# if do_opt :\n",
    "#     cb_params = dict(study.best_trial.params.items())\n",
    "# cb_params"
   ]
  },
  {
   "cell_type": "code",
   "execution_count": 216,
   "id": "373ae676",
   "metadata": {
    "papermill": {
     "duration": 0.035019,
     "end_time": "2023-06-20T00:47:38.328629",
     "exception": false,
     "start_time": "2023-06-20T00:47:38.293610",
     "status": "completed"
    },
    "scrolled": true,
    "tags": []
   },
   "outputs": [
    {
     "data": {
      "text/plain": [
       "{'iterations': 289,\n",
       " 'depth': 4,\n",
       " 'learning_rate': 0.18768446152569845,\n",
       " 'random_strength': 10,\n",
       " 'bagging_temperature': 20.487227440664658,\n",
       " 'od_wait': 22}"
      ]
     },
     "execution_count": 216,
     "metadata": {},
     "output_type": "execute_result"
    }
   ],
   "source": [
    "if do_opt :\n",
    "    study = optuna.create_study(sampler=optuna.samplers.TPESampler(seed=seed))#direction='minimize')\n",
    "    study.optimize(obj_cb, n_trials=100)\n",
    "    cb_params = dict(study.best_trial.params.items())\n",
    "cb_params"
   ]
  },
  {
   "cell_type": "code",
   "execution_count": 217,
   "id": "c296d683",
   "metadata": {
    "scrolled": true
   },
   "outputs": [
    {
     "data": {
      "text/plain": [
       "{'iterations': 250,\n",
       " 'depth': 4,\n",
       " 'learning_rate': 0.1406204176910051,\n",
       " 'random_strength': 69,\n",
       " 'bagging_temperature': 0.02944175723888104,\n",
       " 'od_wait': 40}"
      ]
     },
     "execution_count": 217,
     "metadata": {},
     "output_type": "execute_result"
    }
   ],
   "source": [
    "if do_opt :\n",
    "    study = optuna.create_study(sampler=optuna.samplers.TPESampler(seed=seed+1))#direction='minimize')\n",
    "    study.optimize(obj_cb, n_trials=100)\n",
    "    cb_params_2 = dict(study.best_trial.params.items())\n",
    "cb_params_2"
   ]
  },
  {
   "cell_type": "code",
   "execution_count": null,
   "id": "c1db43ed",
   "metadata": {},
   "outputs": [],
   "source": []
  },
  {
   "cell_type": "markdown",
   "id": "45059cc1",
   "metadata": {
    "papermill": {
     "duration": 0.035295,
     "end_time": "2023-06-20T00:47:38.399695",
     "exception": false,
     "start_time": "2023-06-20T00:47:38.364400",
     "status": "completed"
    },
    "tags": []
   },
   "source": [
    "### random forest"
   ]
  },
  {
   "cell_type": "code",
   "execution_count": 218,
   "id": "eb1d3322",
   "metadata": {
    "execution": {
     "iopub.execute_input": "2023-06-20T00:47:38.479074Z",
     "iopub.status.busy": "2023-06-20T00:47:38.478442Z",
     "iopub.status.idle": "2023-06-20T00:47:38.489733Z",
     "shell.execute_reply": "2023-06-20T00:47:38.488824Z"
    },
    "papermill": {
     "duration": 0.051571,
     "end_time": "2023-06-20T00:47:38.491758",
     "exception": false,
     "start_time": "2023-06-20T00:47:38.440187",
     "status": "completed"
    },
    "scrolled": true,
    "tags": []
   },
   "outputs": [],
   "source": [
    "def obj_rf(trial):\n",
    "    params = {\n",
    "        'criterion' :trial.suggest_categorical('criterion', ['gini', 'log_loss', 'entropy']),\n",
    "        'bootstrap' : trial.suggest_categorical('bootstrap',[True, False]),\n",
    "        'max_depth' : trial.suggest_int('max_depth', 1, 1000),\n",
    "        'max_features' : trial.suggest_categorical('max_features', ['sqrt', 'log2', None]),\n",
    "        'max_leaf_nodes' : trial.suggest_int('max_leaf_nodes', 2, 300),\n",
    "        'n_estimators' :  trial.suggest_int('n_estimators', 5, 300),\n",
    "        'min_samples_split' : trial.suggest_int('min_samples_split',2,5),\n",
    "        'min_samples_leaf' : trial.suggest_int('min_samples_leaf',1,10) ,      \n",
    "    }\n",
    "    \n",
    "    \n",
    "    model = RandomForestClassifier(**params)\n",
    "    \n",
    "    kf = StratifiedKFold(n_splits=5, shuffle=True, random_state=seed)\n",
    "\n",
    "    score = 0\n",
    "    for train_idx, valid_idx in kf.split(df_train, greeks_df.Class):\n",
    "        train_df = df_train.iloc[train_idx]\n",
    "        valid_df = df_train.iloc[valid_idx]\n",
    "        X_train, y_train = train_df[train_df.columns[:-1]], train_df.Class\n",
    "        X_valid, y_valid = valid_df[valid_df.columns[:-1]], valid_df.Class\n",
    "\n",
    "        weights = classes_weights[train_idx]\n",
    "        model.fit(X_train, y_train, sample_weight=weights)\n",
    "        y_pred = model.predict_proba(X_valid)\n",
    "        loss = balanced_log_loss(y_valid, y_pred[:, 1])\n",
    "        score += loss\n",
    "\n",
    "    return score/5\n",
    "        \n",
    "if do_opt :    \n",
    "    study = optuna.create_study(sampler=optuna.samplers.TPESampler(seed=seed))#direction='minimize')\n",
    "    study.enqueue_trial(rf_params)\n",
    "    study.optimize(obj_rf, n_trials=200)"
   ]
  },
  {
   "cell_type": "code",
   "execution_count": 219,
   "id": "c0c60fc9",
   "metadata": {
    "execution": {
     "iopub.execute_input": "2023-06-20T00:47:38.567939Z",
     "iopub.status.busy": "2023-06-20T00:47:38.567106Z",
     "iopub.status.idle": "2023-06-20T00:47:38.574233Z",
     "shell.execute_reply": "2023-06-20T00:47:38.573173Z"
    },
    "papermill": {
     "duration": 0.04575,
     "end_time": "2023-06-20T00:47:38.576217",
     "exception": false,
     "start_time": "2023-06-20T00:47:38.530467",
     "status": "completed"
    },
    "tags": []
   },
   "outputs": [
    {
     "data": {
      "text/plain": [
       "{'criterion': 'entropy',\n",
       " 'bootstrap': False,\n",
       " 'max_depth': 745,\n",
       " 'max_features': 'sqrt',\n",
       " 'max_leaf_nodes': 153,\n",
       " 'n_estimators': 169,\n",
       " 'min_samples_split': 4,\n",
       " 'min_samples_leaf': 7}"
      ]
     },
     "execution_count": 219,
     "metadata": {},
     "output_type": "execute_result"
    }
   ],
   "source": [
    "if do_opt :\n",
    "    rf_params = dict(study.best_trial.params.items())\n",
    "rf_params"
   ]
  },
  {
   "cell_type": "code",
   "execution_count": 220,
   "id": "f7a292bd",
   "metadata": {
    "execution": {
     "iopub.execute_input": "2023-06-20T00:47:38.652661Z",
     "iopub.status.busy": "2023-06-20T00:47:38.650964Z",
     "iopub.status.idle": "2023-06-20T00:47:38.658091Z",
     "shell.execute_reply": "2023-06-20T00:47:38.657190Z"
    },
    "papermill": {
     "duration": 0.045558,
     "end_time": "2023-06-20T00:47:38.660042",
     "exception": false,
     "start_time": "2023-06-20T00:47:38.614484",
     "status": "completed"
    },
    "tags": []
   },
   "outputs": [
    {
     "data": {
      "text/plain": [
       "\"\\nlgbm_params = {'n_estimators': 600,\\n 'reg_alpha': 2.8000000000000003,\\n 'reg_lambda': 12.4,\\n 'num_leaves': 41}\\n \\nxgb_params = {'n_estimators': 800,\\n 'max_depth': 4,\\n 'learning_rate': 0.07321832691960338,\\n 'subsample': 0.7576690053727902,\\n 'colsample_bytree': 0.7481165187056286,\\n 'gamma': 0.4338012239235796}\\n \\ncb_params = {'iterations': 114,\\n 'depth': 4,\\n 'learning_rate': 0.08433020501242801,\\n 'random_strength': 1,\\n 'bagging_temperature': 0.1111714827952525,\\n 'od_wait': 23}\\n\""
      ]
     },
     "execution_count": 220,
     "metadata": {},
     "output_type": "execute_result"
    }
   ],
   "source": [
    "\"\"\"\n",
    "lgbm_params = {'n_estimators': 600,\n",
    " 'reg_alpha': 2.8000000000000003,\n",
    " 'reg_lambda': 12.4,\n",
    " 'num_leaves': 41}\n",
    " \n",
    "xgb_params = {'n_estimators': 800,\n",
    " 'max_depth': 4,\n",
    " 'learning_rate': 0.07321832691960338,\n",
    " 'subsample': 0.7576690053727902,\n",
    " 'colsample_bytree': 0.7481165187056286,\n",
    " 'gamma': 0.4338012239235796}\n",
    " \n",
    "cb_params = {'iterations': 114,\n",
    " 'depth': 4,\n",
    " 'learning_rate': 0.08433020501242801,\n",
    " 'random_strength': 1,\n",
    " 'bagging_temperature': 0.1111714827952525,\n",
    " 'od_wait': 23}\n",
    "\"\"\""
   ]
  },
  {
   "cell_type": "code",
   "execution_count": 221,
   "id": "87244ca5",
   "metadata": {
    "execution": {
     "iopub.execute_input": "2023-06-20T00:47:38.733904Z",
     "iopub.status.busy": "2023-06-20T00:47:38.733002Z",
     "iopub.status.idle": "2023-06-20T00:47:38.738283Z",
     "shell.execute_reply": "2023-06-20T00:47:38.737516Z"
    },
    "papermill": {
     "duration": 0.043862,
     "end_time": "2023-06-20T00:47:38.740204",
     "exception": false,
     "start_time": "2023-06-20T00:47:38.696342",
     "status": "completed"
    },
    "tags": []
   },
   "outputs": [],
   "source": [
    "# lgb = LGBMClassifier(boosting_type='gbdt', class_weight='balanced', colsample_bytree=1.0,\n",
    "#                 importance_type='split', learning_rate=0.1, max_depth=-1,\n",
    "#                 min_child_samples=20, min_child_weight=0.001, min_split_gain=0.0,\n",
    "#                 n_estimators=100, n_jobs=-1, num_leaves=31, objective=\"binary\",\n",
    "#                 random_state=42, reg_alpha=0.0, reg_lambda=0.0, silent='warn',\n",
    "#                 subsample=1.0, subsample_for_bin=200000, subsample_freq=0)\n",
    "# xgb = XGBClassifier(base_score=None, booster='gbtree', callbacks=None,\n",
    "#                colsample_bylevel=None, colsample_bynode=None,\n",
    "#                colsample_bytree=None, early_stopping_rounds=None,\n",
    "#                enable_categorical=False, eval_metric=None, feature_types=None,\n",
    "#                gamma=None, gpu_id=None, grow_policy=None, importance_type=None,\n",
    "#                interaction_constraints=None, learning_rate=None, max_bin=None,\n",
    "#                max_cat_threshold=None, max_cat_to_onehot=None,\n",
    "#                max_delta_step=None, max_depth=None, max_leaves=None,\n",
    "#                min_child_weight=None, monotone_constraints=None,\n",
    "#                n_estimators=100, n_jobs=-1, num_parallel_tree=None,\n",
    "#                objective='binary:logistic', predictor=None)\n",
    "\n",
    "# cb = CatBoostClassifier()\n",
    "# tab = TabPFNClassifier(N_ensemble_configurations=64)"
   ]
  },
  {
   "cell_type": "code",
   "execution_count": null,
   "id": "9b39f016",
   "metadata": {
    "papermill": {
     "duration": 0.035762,
     "end_time": "2023-06-20T00:47:38.812319",
     "exception": false,
     "start_time": "2023-06-20T00:47:38.776557",
     "status": "completed"
    },
    "tags": []
   },
   "outputs": [],
   "source": []
  },
  {
   "cell_type": "code",
   "execution_count": null,
   "id": "de21df5b",
   "metadata": {
    "papermill": {
     "duration": 0.035987,
     "end_time": "2023-06-20T00:47:38.883923",
     "exception": false,
     "start_time": "2023-06-20T00:47:38.847936",
     "status": "completed"
    },
    "tags": []
   },
   "outputs": [],
   "source": []
  },
  {
   "cell_type": "code",
   "execution_count": 222,
   "id": "2db59d0e",
   "metadata": {
    "execution": {
     "iopub.execute_input": "2023-06-20T00:47:38.956903Z",
     "iopub.status.busy": "2023-06-20T00:47:38.956537Z",
     "iopub.status.idle": "2023-06-20T00:47:39.751559Z",
     "shell.execute_reply": "2023-06-20T00:47:39.750110Z"
    },
    "papermill": {
     "duration": 0.834829,
     "end_time": "2023-06-20T00:47:39.754212",
     "exception": false,
     "start_time": "2023-06-20T00:47:38.919383",
     "status": "completed"
    },
    "tags": []
   },
   "outputs": [
    {
     "name": "stdout",
     "output_type": "stream",
     "text": [
      "Loading model that can be used for inference only\n",
      "Using a Transformer with 25.82 M parameters\n",
      "Loading model that can be used for inference only\n",
      "Using a Transformer with 25.82 M parameters\n"
     ]
    }
   ],
   "source": [
    "lgb = LGBMClassifier(boosting_type='gbdt', class_weight='balanced', **lgbm_params)\n",
    "lgb2 = LGBMClassifier(boosting_type='gbdt', class_weight='balanced', **lgbm_params_2)\n",
    "\n",
    "xgb = XGBClassifier(\n",
    "    objective = 'binary:logistic', \n",
    "    eval_metric = 'logloss', \n",
    "    **xgb_params,\n",
    ")\n",
    "\n",
    "xgb2 = XGBClassifier(\n",
    "    objective = 'binary:logistic', \n",
    "    eval_metric = 'logloss', \n",
    "    **xgb_params_2,\n",
    ")\n",
    "\n",
    "\n",
    "rf = RandomForestClassifier(**rf_params)\n",
    "\n",
    "if use_GPU:\n",
    "    cb = CatBoostClassifier(**cb_params, task_type=\"GPU\")\n",
    "    cb2 = CatBoostClassifier(**cb_params_2, task_type=\"GPU\")\n",
    "\n",
    "    tab = TabPFNClassifier(N_ensemble_configurations=64, device='cuda:0')\n",
    "    tab2 = TabPFNClassifier(N_ensemble_configurations=32, device='cuda:0')\n",
    "else:\n",
    "    cb = CatBoostClassifier(**cb_params)\n",
    "    cb2 = CatBoostClassifier(**cb_params_2)\n",
    "\n",
    "    tab = TabPFNClassifier(N_ensemble_configurations=64)\n",
    "    tab2 = TabPFNClassifier(N_ensemble_configurations=32)\n",
    "\n",
    "# knn = KNeighborsClassifier(n_neighbors=64, metric='euclidean')\n",
    "knn = KNeighborsClassifier(n_neighbors=109, metric='cosine')\n",
    "knn2 = KNeighborsClassifier(n_neighbors=109, metric='cosine')"
   ]
  },
  {
   "cell_type": "code",
   "execution_count": 223,
   "id": "1bb8a7e9",
   "metadata": {
    "papermill": {
     "duration": 0.043152,
     "end_time": "2023-06-20T00:47:39.834631",
     "exception": false,
     "start_time": "2023-06-20T00:47:39.791479",
     "status": "completed"
    },
    "scrolled": false,
    "tags": []
   },
   "outputs": [],
   "source": [
    "# def obj_knn(trial):\n",
    "#     params = {\n",
    "#         'size' : trial.suggest_int('size', 8, 400),\n",
    "#     }\n",
    "    \n",
    "\n",
    "#     kf = StratifiedKFold(n_splits=5, shuffle=True, random_state=seed)\n",
    "# #     kf = MultilabelStratifiedKFold(n_splits=5 , shuffle=True, random_state=seed)\n",
    "#     score = 0\n",
    "    \n",
    "#     knn = KNeighborsClassifier(n_neighbors=params['size'], metric='cosine')\n",
    "\n",
    "    \n",
    "#     for idx, (train_idx, valid_idx) in enumerate(kf.split(df_train, greeks_df.Class)):\n",
    "#         train_df = df_train.iloc[train_idx]\n",
    "#         valid_df = df_train.iloc[valid_idx]\n",
    "#         X_train, y_train = train_df[train_df.columns[:-1]], train_df.Class\n",
    "#         X_valid, y_valid = valid_df[valid_df.columns[:-1]], valid_df.Class\n",
    "\n",
    "#         weights = classes_weights[train_idx]\n",
    "#         weights2 = classes_weights2[train_idx]\n",
    "\n",
    "\n",
    "#         X = torch.Tensor(train_df[valid_df.columns[:-2]].to_numpy()).to(device)\n",
    "#         with torch.no_grad():\n",
    "#             _, features_train = nn_models[idx](X, None)\n",
    "\n",
    "#         X = torch.Tensor(valid_df[valid_df.columns[:-2]].to_numpy()).to(device)\n",
    "#         with torch.no_grad():\n",
    "#             y_nn, features_valid = nn_models[idx](X, None)\n",
    "#         y_nn = F.softmax(y_nn, dim=1).cpu().detach().numpy()   \n",
    "\n",
    "#         features_train = features_train.detach().cpu().numpy()\n",
    "#         features_valid = features_valid.detach().cpu().numpy()\n",
    "#         X_train2 = features_train #np.hstack([X_train.to_numpy(), features_train])\n",
    "#         X_valid2 = features_valid #np.hstack([X_valid.to_numpy(), features_valid])\n",
    "#         knn.fit(X_train2, y_train)\n",
    "#         y_xxx = knn.predict_proba(X_valid2)\n",
    "#         y_xxx = calc_new_pred(y_xxx)\n",
    "        \n",
    "        \n",
    "#         e_loss = balanced_log_loss(y_valid, y_xxx[:, 1])\n",
    "    \n",
    "#         score += e_loss \n",
    "\n",
    "#     return score/5\n",
    "    \n",
    "    \n",
    "# study = optuna.create_study(sampler=optuna.samplers.TPESampler(seed=seed))#direction='minimize')\n",
    "# study.optimize(obj_knn, n_trials=100)\n",
    "# study.best_trial.params.items()"
   ]
  },
  {
   "cell_type": "markdown",
   "id": "b5575989",
   "metadata": {
    "papermill": {
     "duration": 0.037714,
     "end_time": "2023-06-20T00:47:39.911646",
     "exception": false,
     "start_time": "2023-06-20T00:47:39.873932",
     "status": "completed"
    },
    "tags": []
   },
   "source": [
    "## calc cv (5 fold)"
   ]
  },
  {
   "cell_type": "code",
   "execution_count": null,
   "id": "d3e12dce",
   "metadata": {
    "execution": {
     "iopub.execute_input": "2023-06-20T00:47:39.995239Z",
     "iopub.status.busy": "2023-06-20T00:47:39.994879Z",
     "iopub.status.idle": "2023-06-20T00:49:44.202213Z",
     "shell.execute_reply": "2023-06-20T00:49:44.200740Z"
    },
    "papermill": {
     "duration": 124.25495,
     "end_time": "2023-06-20T00:49:44.204534",
     "exception": false,
     "start_time": "2023-06-20T00:47:39.949584",
     "status": "completed"
    },
    "tags": []
   },
   "outputs": [
    {
     "name": "stdout",
     "output_type": "stream",
     "text": [
      "lgbm..\n",
      "lgbm2..\n",
      "xgboost..\n",
      "xgboost2..\n",
      "catboost..\n",
      "catboost2..\n",
      "random forest..\n",
      "nn...\n",
      "xxx..\n",
      "xxx2..\n",
      "TabPFN..\n",
      "TabPFN2..\n",
      "[83 17] 124\n",
      "lgb 0.16835540867561327 lgb2 0.1535024596800222 xgb 0.17088064476228415 xgb2 0.143713988459658 catboost 0.21710906912063002 catboost2 0.22629431886151213 rf 0.3344033091885107 nn 0.23968630312729433 xxx 0.19266077691574432 xxx2 0.19266077691574432 TabPFN 0.21797924773745186 TabPFN2 0.22729486858159112\n",
      "--> ensamble 0.15111167634861147\n",
      "lgbm..\n",
      "lgbm2..\n",
      "xgboost..\n",
      "xgboost2..\n",
      "catboost..\n",
      "catboost2..\n",
      "random forest..\n",
      "nn...\n",
      "xxx..\n",
      "xxx2..\n",
      "TabPFN..\n",
      "TabPFN2..\n",
      "[87 14] 124\n",
      "lgb 0.18238045298882097 lgb2 0.15019513557065844 xgb 0.2619309160117373 xgb2 0.23984001143061034 catboost 0.22794509950475303 catboost2 0.2295513170260254 rf 0.3208901275034312 nn 0.13940624795623566 xxx 0.1738178476185251 xxx2 0.1738178476185251 TabPFN 0.165400886997788 TabPFN2 0.14095345252746164\n",
      "--> ensamble 0.08504765046786876\n",
      "lgbm..\n",
      "lgbm2..\n",
      "xgboost..\n",
      "xgboost2..\n",
      "catboost..\n",
      "catboost2..\n",
      "random forest..\n",
      "nn...\n",
      "xxx..\n",
      "xxx2..\n",
      "TabPFN..\n",
      "TabPFN2..\n",
      "[77 14] 123\n",
      "lgb 0.38864140601729946 lgb2 0.47550542865695294 xgb 0.39821530377765274 xgb2 0.44581028874218914 catboost 0.5434620730820949 catboost2 0.46233566077084126 rf 0.4409933453658723 nn 0.48201105096902713 xxx 0.3535024958992311 xxx2 0.3535024958992311 TabPFN 0.46016310024081225 TabPFN2 0.5374576709312681\n",
      "--> ensamble 1.1958173966381944\n",
      "lgbm..\n",
      "lgbm2..\n",
      "xgboost..\n",
      "xgboost2..\n",
      "catboost..\n",
      "catboost2..\n",
      "random forest..\n",
      "nn...\n",
      "xxx..\n",
      "xxx2..\n",
      "TabPFN..\n",
      "TabPFN2..\n",
      "[77 14] 123\n",
      "lgb 0.16503391816109128 lgb2 0.1787198494515087 xgb 0.1502602264021179 xgb2 0.15680721395823122 catboost 0.21766319589090583 catboost2 0.15878765958397167 rf 0.3396493476003981 nn 0.25245653216028496 xxx 0.22006825733984853 xxx2 0.22006825733984853 TabPFN 0.20923155724310302 TabPFN2 0.20008611154653208\n",
      "--> ensamble 0.09712168242128871\n",
      "lgbm..\n",
      "lgbm2..\n",
      "xgboost..\n",
      "xgboost2..\n",
      "catboost..\n",
      "catboost2..\n",
      "random forest..\n",
      "nn...\n",
      "xxx..\n",
      "xxx2..\n",
      "TabPFN..\n"
     ]
    }
   ],
   "source": [
    "# a = [4.7, 3.9, 0.0, 0.0, 0.0, 2.4, 0.0]\n",
    "a = [2, 2, 0.0, 0.0, 0.0, 1, 0.5]\n",
    "# a = [3.9, 0, 0, 0.0, 0.0, 0.9, 0.5]\n",
    "# a = [4.7, 0.8, 0.5, 0.0, 0.0, 2.2, 0.1]\n",
    "# a = [1.8, 0.7, 0.0, 0.0, 0.0, 1.0, 0]\n",
    "a = [1.1, 1.4, 0.0, 0.0, 0.0, 1.0, 0.1]\n",
    "# a = [2.0, 1.9, 0, 0.0, 0.0, 0.9, 0.5]\n",
    "a = [2.0, 1.4, 0.0, 0.0, 0.0, 1.4, 0.2]\n",
    "a = [1.7, 1.6, 0.5, 0.0, 0.0, 0.4, 0.0]\n",
    "# a = [1.7, 1.6, 0.5, 0.0, 0.0, 0.8, 0.4]\n",
    "\n",
    "inf = 10**10\n",
    "\n",
    "# best_model = {\n",
    "#     'lgb': [inf, None],\n",
    "#     'lgb2': [inf, None],\n",
    "#     'xgb' : [inf, None],\n",
    "#     'xgb2' : [inf, None],\n",
    "#     'cb' : [inf, None],\n",
    "#     'cb2' : [inf, None],\n",
    "#     'rf' : [inf, None],\n",
    "#     'knn' :[inf, None],\n",
    "#     'knn2' :[inf, None],\n",
    "#     'tab' : [inf, None],    \n",
    "#     'tab2' : [inf, None],    \n",
    "# }\n",
    "\n",
    "def check_best(score, model, cur_best) :\n",
    "    best_score, best_model = cur_best[0], cur_best[1]\n",
    "    if best_score > score :\n",
    "        best_model = model\n",
    "    return [best_score, best_model]\n",
    "\n",
    "if check_CV:\n",
    "    kf = StratifiedKFold(n_splits=5, shuffle=True, random_state=seed)\n",
    "#     kf = MultilabelStratifiedKFold(n_splits=5 , shuffle=True, random_state=seed)\n",
    "    score = 0\n",
    "    \n",
    "    \n",
    "    y_preds = []\n",
    "    y_true = []\n",
    "    y_len = []\n",
    "    \n",
    "    y_results = [[] for _ in range(len(a))]\n",
    "    y_valids = []\n",
    "    \n",
    "    for idx, (train_idx, valid_idx) in enumerate(kf.split(df_train, greeks_df.Class)):\n",
    "        train_df = df_train.iloc[train_idx]\n",
    "        valid_df = df_train.iloc[valid_idx]\n",
    "        X_train, y_train = train_df[train_df.columns[:-1]], train_df.Class\n",
    "        X_valid, y_valid = valid_df[valid_df.columns[:-1]], valid_df.Class\n",
    "\n",
    "    #     # SMOTETomek\n",
    "    #     if use_SMOTE:\n",
    "    #         sm = SMOTETomek(random_state=57)\n",
    "    #         X_train, y_train = sm.fit_resample(X_train, y_train)\n",
    "    #         weights = compute_sample_weight(class_weight='balanced',y=y_train)                              \n",
    "    #     else:\n",
    "        weights = classes_weights[train_idx]\n",
    "        weights2 = classes_weights2[train_idx]\n",
    "\n",
    "\n",
    "        print(\"lgbm..\")\n",
    "        lgb.fit(X_train[lgb_selected], y_train, sample_weight=weights)\n",
    "        y_lgb = lgb.predict_proba(X_valid[lgb_selected])\n",
    "        print(\"lgbm2..\")\n",
    "        lgb2.fit(X_train, y_train, sample_weight=weights2)\n",
    "        y_lgb2 = lgb2.predict_proba(X_valid)\n",
    "        \n",
    "        print(\"xgboost..\")    \n",
    "        xgb.fit(X_train[lgb_selected], y_train, sample_weight=weights)\n",
    "        y_xgb = xgb.predict_proba(X_valid[lgb_selected])\n",
    "        print(\"xgboost2..\")    \n",
    "        xgb2.fit(X_train, y_train, sample_weight=weights2)\n",
    "        y_xgb2 = xgb2.predict_proba(X_valid)\n",
    "        \n",
    "        \n",
    "        print(\"catboost..\")\n",
    "        cb.fit(X_train[lgb_selected], y_train, logging_level=\"Silent\", sample_weight=weights)\n",
    "        y_cb = cb.predict_proba(X_valid[lgb_selected])\n",
    "        print(\"catboost2..\")\n",
    "        cb2.fit(X_train, y_train, logging_level=\"Silent\", sample_weight=weights2)\n",
    "        y_cb2 = cb2.predict_proba(X_valid)\n",
    "        \n",
    "        \n",
    "        print(\"random forest..\")\n",
    "        rf.fit(X_train, y_train, sample_weight=weights)\n",
    "        y_rf = rf.predict_proba(X_valid)\n",
    "        \n",
    "        print(\"nn...\")\n",
    "        X = torch.Tensor(train_df[valid_df.columns[:-2]].to_numpy()).to(device)\n",
    "        with torch.no_grad():\n",
    "            _, features_train = nn_models[idx](X, None)\n",
    "\n",
    "        X = torch.Tensor(valid_df[valid_df.columns[:-2]].to_numpy()).to(device)\n",
    "        with torch.no_grad():\n",
    "            y_nn, features_valid = nn_models[idx](X, None)\n",
    "        y_nn = F.softmax(y_nn, dim=1).cpu().detach().numpy()   \n",
    "\n",
    "        print(\"xxx..\")\n",
    "        features_train = features_train.detach().cpu().numpy()\n",
    "        features_valid = features_valid.detach().cpu().numpy()\n",
    "        X_train2 = features_train #np.hstack([X_train.to_numpy(), features_train])\n",
    "        X_valid2 = features_valid #np.hstack([X_valid.to_numpy(), features_valid])\n",
    "        knn.fit(X_train2, y_train)\n",
    "        y_xxx = knn.predict_proba(X_valid2)\n",
    "        y_xxx = calc_new_pred(y_xxx)\n",
    "\n",
    "        print(\"xxx2..\")\n",
    "        knn2.fit(X_train2, y_train)#, sample_weight=weights)\n",
    "        y_xxx2 = knn2.predict_proba(X_valid2)\n",
    "        y_xxx2 = calc_new_pred(y_xxx2)\n",
    "        \n",
    "        # ------ noscale data\n",
    "        train_df = df_train_noscale.iloc[train_idx]\n",
    "        valid_df = df_train_noscale.iloc[valid_idx]\n",
    "        X_train, y_train = train_df[train_df.columns[:-1]], train_df.Class\n",
    "        X_valid, y_valid = valid_df[valid_df.columns[:-1]], valid_df.Class\n",
    "        print(\"TabPFN..\")\n",
    "        tab.fit(X_train[lgb_selected], y_train)\n",
    "        y_tab = tab.predict_proba(X_valid[lgb_selected])\n",
    "        y_tab = calc_new_pred(y_tab)\n",
    "        print(\"TabPFN2..\")\n",
    "        tab2.fit(X_train, y_train)\n",
    "        y_tab2 = tab2.predict_proba(X_valid)\n",
    "        y_tab2 = calc_new_pred(y_tab2)\n",
    "        \n",
    "        lgb_loss = balanced_log_loss(y_valid, y_lgb[:, 1])\n",
    "        lgb2_loss = balanced_log_loss(y_valid, y_lgb2[:, 1])\n",
    "        \n",
    "        xgb_loss = balanced_log_loss(y_valid, y_xgb[:, 1])\n",
    "        xgb2_loss = balanced_log_loss(y_valid, y_xgb2[:, 1])\n",
    "\n",
    "        cb_loss = balanced_log_loss(y_valid, y_cb[:, 1])\n",
    "        cb2_loss = balanced_log_loss(y_valid, y_cb2[:, 1])\n",
    "        \n",
    "    \n",
    "        rf_loss = balanced_log_loss(y_valid, y_rf[:, 1])\n",
    "        nn_loss = balanced_log_loss(y_valid, y_nn[:, 1])\n",
    "\n",
    "        xxx_loss = balanced_log_loss(y_valid, y_xxx[:, 1])\n",
    "        xxx2_loss = balanced_log_loss(y_valid, y_xxx2[:, 1])\n",
    "\n",
    "        tab_loss = balanced_log_loss(y_valid, y_tab[:, 1])\n",
    "        tab2_loss = balanced_log_loss(y_valid, y_tab2[:, 1])\n",
    "        \n",
    "        #-----\n",
    "#         best_model['lgb'] = check_best(lgb_loss, lgb, best_model['lgb']) \n",
    "#         best_model['lgb2'] = check_best(lgb2_loss, lgb2, best_model['lgb2'])\n",
    "\n",
    "#         best_model['xgb'] = check_best(xgb_loss, xgb, best_model['xgb'])\n",
    "#         best_model['xgb2'] = check_best(xgb2_loss, xgb2, best_model['xgb2']) \n",
    "\n",
    "#         best_model['cb'] = check_best(cb_loss, cb, best_model['cb']) \n",
    "#         best_model['cb2'] = check_best(cb2_loss, cb2, best_model['cb2']) \n",
    "\n",
    "#         best_model['rf'] = check_best(rf_loss, rf, best_model['rf']) \n",
    "\n",
    "#         best_model['knn'] = check_best(xxx_loss, knn, best_model['knn']) \n",
    "#         best_model['knn2'] = check_best(xxx2_loss, knn2, best_model['knn2']) \n",
    "\n",
    "#         best_model['tab'] = check_best(tab_loss, tab, best_model['tab']) \n",
    "#         best_model['tab2'] = check_best(tab2_loss, tab2, best_model['tab2']) \n",
    "\n",
    "        #-----\n",
    "        \n",
    "        \n",
    "#         pred = ((y_lgb + y_xgb + y_cb)/3 + y_rf + y_nn + y_tab)/4\n",
    "        #       b   r.   nn. k  tab\n",
    "\n",
    "        y_results[0].append((y_lgb + y_lgb2)/2)\n",
    "        y_results[1].append((y_xgb + y_xgb2)/2)\n",
    "        y_results[2].append((y_cb + y_cb2)/2)\n",
    "        y_results[3].append(y_rf)\n",
    "        y_results[4].append(y_nn)\n",
    "        y_results[5].append((y_xxx + y_xxx2)/2)\n",
    "        y_results[6].append((y_tab + y_tab2)/2)\n",
    "        y_valids.append(y_valid)\n",
    "    \n",
    "        pred = ((y_lgb + y_lgb2)/2*a[0] +\n",
    "                (y_xgb + y_xgb2)/2*a[1] +\n",
    "                (y_cb + y_cb2)/2*a[2] + \n",
    "                y_rf * a[3] + \n",
    "                y_nn * a[4] +\n",
    "                (y_xxx + y_xxx2)/2*a[5] + \n",
    "                (y_tab + y_tab2)/2*a[6]\n",
    "               )/sum(a)\n",
    "        \n",
    "        \n",
    "#         pred = (\n",
    "#         y_results[0][-1]*a[0] + \n",
    "#         y_results[1][-1]*a[1] + \n",
    "#         y_results[2][-1]*a[2] + \n",
    "#         y_results[3][-1]*a[3] + \n",
    "#         y_results[4][-1]*a[4] +\n",
    "#         y_results[5][-1]*a[5] + \n",
    "#         y_results[6][-1]*a[6]\n",
    "#         )/sum(a)\n",
    "#         pred = calc_new_pred(pred)\n",
    "        \n",
    "#         if use_new_pred:\n",
    "#             pred = calc_new_pred(pred)\n",
    "\n",
    "        y_len.append(len(valid_df))\n",
    "        if len(y_preds) == 0 :\n",
    "            y_preds = np.concatenate([(y_lgb + y_lgb2)/2,(y_xgb + y_xgb2)/2,(y_cb + y_cb2)/2, \n",
    "                                      y_rf, y_nn, (y_xxx + y_xxx2)/2,\n",
    "                                      (y_tab + y_tab2)/2], axis=1)\n",
    "            y_true = y_valid.to_numpy()\n",
    "        else:\n",
    "            y_preds = np.vstack([y_preds, np.concatenate([(y_lgb + y_lgb2)/2,(y_xgb + y_xgb2)/2,(y_cb + y_cb2)/2,\n",
    "                                                          y_rf, y_nn, (y_xxx + y_xxx2)/2,\n",
    "                                                          (y_tab + y_tab2)/2], axis=1)])\n",
    "            y_true = np.hstack([y_true, y_valid.to_numpy()])\n",
    "            \n",
    "           \n",
    "        p0 = pred[:, 0]\n",
    "#         p0 = sigmoid((p0-0.5)*5.4)\n",
    "        p0 = sigmoid((p0-0.5)*6.98)\n",
    "        p0 = (p0 - min(p0))/(max(p0)-min(p0)+1e-15)\n",
    "    \n",
    "        p0[p0 > 0.99] = 1\n",
    "        p0[p0 < 0.01] = 0\n",
    "\n",
    "#         p0 = np.clip(p0, 0.0001, 0.9999)\n",
    "\n",
    "    \n",
    "        pred[:,1] = 1-p0\n",
    "        pred[:,0] = p0            \n",
    "        \n",
    "\n",
    "        # 　前もモデルが同じ選択の場合は、正解とする\n",
    "        th9 = 0.6\n",
    "#         sel = (y_lgb > th9)&(y_lgb2 > th9)&(y_xgb > th9)&(y_xgb2 > th9)&(y_cb > th9)&(y_cb2 > th9)&\\\n",
    "#                 (y_rf > th9)&(y_nn > th9)&(y_xxx > th9)&(y_xxx2 > th9)&(y_tab > th9)&(y_tab > th9)\n",
    "        sel = (y_lgb > th9)&(y_lgb2 > th9)&(y_xgb > th9)&(y_xgb2 > th9)&(y_cb > th9)&(y_cb2 > th9)&\\\n",
    "                (y_nn > th9)&(y_xxx > th9)&(y_xxx2 > th9)&(y_tab > th9)&(y_tab > th9)\n",
    "        pred[sel[:, 0], 0] = 1\n",
    "        pred[sel[:, 1], 1] = 1\n",
    "        print(sel.sum(axis=0), len(sel))\n",
    "        \n",
    "        \n",
    "        if use_new_pred:\n",
    "            pred = calc_new_pred(pred)\n",
    "         \n",
    "        e_loss = balanced_log_loss(y_valid, pred[:, 1])\n",
    "        score += e_loss \n",
    "        print(\"lgb\", lgb_loss, \"lgb2\", lgb2_loss,\n",
    "              \"xgb\", xgb_loss, \"xgb2\", xgb2_loss, \n",
    "              \"catboost\", cb_loss, \"catboost2\", cb2_loss, \n",
    "              \"rf\", rf_loss,\n",
    "              \"nn\", nn_loss, \n",
    "              \"xxx\", xxx_loss, \"xxx2\", xxx2_loss, \n",
    "              \"TabPFN\", tab_loss,  \"TabPFN2\", tab2_loss)\n",
    "        print(\"--> ensamble\", e_loss)\n",
    "\n",
    "    print(score/5)\n",
    "    \n",
    "#0.1259729315189732\n",
    "#0.1284580855726015"
   ]
  },
  {
   "cell_type": "code",
   "execution_count": null,
   "id": "146ed733",
   "metadata": {},
   "outputs": [],
   "source": []
  },
  {
   "cell_type": "code",
   "execution_count": 1,
   "id": "59c2213a",
   "metadata": {},
   "outputs": [],
   "source": [
    "#0.11548808843815825\n",
    "#0.11473594813363204\n",
    "#0.112908310460935  knn single model(xxx and xxx2 are same)\n",
    "# balanced logloss fix 0.19263174592322857"
   ]
  },
  {
   "cell_type": "code",
   "execution_count": 638,
   "id": "68c1a176",
   "metadata": {},
   "outputs": [],
   "source": [
    "# weight x2 0.1190407658629042\n",
    "# weight x3 0.11765156785760085\n",
    "# weight x4 0.11633615775844705\n",
    "# weight x5 0.11546517994697347\n",
    "# weight x6 0.11587610229074743\n",
    "# 0.12169594436591682 -> 0.11825007231068611(sel5)\n",
    "# 0.14-(0.12169594436591682-0.11825007231068611)　0.12146115354690076"
   ]
  },
  {
   "cell_type": "code",
   "execution_count": 351,
   "id": "86f5ddfb",
   "metadata": {
    "scrolled": false
   },
   "outputs": [],
   "source": [
    "# def obj_alpha(trial):\n",
    "#     x = trial.suggest_float('a', 0, 1, step=0.01)\n",
    "#     y = trial.suggest_float('b', 0, 20, step=0.1)\n",
    "    \n",
    "#     score = 0\n",
    "#     for i in range(5):\n",
    "#         pred = (\n",
    "#         y_results[0][i]*a[0] + \n",
    "#         y_results[1][i]*a[1] + \n",
    "#         y_results[2][i]*a[2] + \n",
    "#         y_results[3][i]*a[3] + \n",
    "#         y_results[4][i]*a[4] +\n",
    "#         y_results[5][i]*a[5] + \n",
    "#         y_results[6][i]*a[6]\n",
    "#         )/sum(a)\n",
    "# #         pred = calc_new_pred(pred)\n",
    "        \n",
    "#         p0 = pred[:, 0]\n",
    "#         p0 = sigmoid((p0-x)*y)\n",
    "#         p0 = (p0 - min(p0))/(max(p0)-min(p0)+1e-15)\n",
    "\n",
    "#         pred[:,1] = 1-p0\n",
    "#         pred[:,0] = p0\n",
    "\n",
    "#         p0[p0 > 0.99] = 1\n",
    "#         p0[p0 < 0.01] = 0\n",
    "\n",
    "        \n",
    "#         if use_new_pred:\n",
    "#             pred = calc_new_pred(pred)\n",
    "\n",
    "        \n",
    "#         e_loss = balanced_log_loss(y_valids[i], pred[:, 1])\n",
    "#         score += e_loss \n",
    "\n",
    "#     return score/5\n",
    "\n",
    "\n",
    "# study = optuna.create_study(sampler=optuna.samplers.TPESampler(seed=cfg.seed))#direction='minimize')\n",
    "# study.enqueue_trial({'a0': 4.9, 'a1': 4.4, 'a2': 0.0, 'a3': 0.0, 'a4': 0.7000000000000001, 'a5': 2.0, 'a6': 0.0})\n",
    "# study.optimize(obj_alpha, n_trials=500)\n",
    "# print(study.best_trial.params)\n",
    "# list(study.best_trial.params.values())"
   ]
  },
  {
   "cell_type": "code",
   "execution_count": null,
   "id": "55365a5a",
   "metadata": {
    "execution": {
     "iopub.execute_input": "2023-06-20T00:49:44.286078Z",
     "iopub.status.busy": "2023-06-20T00:49:44.285757Z",
     "iopub.status.idle": "2023-06-20T00:49:44.290483Z",
     "shell.execute_reply": "2023-06-20T00:49:44.289598Z"
    },
    "papermill": {
     "duration": 0.047525,
     "end_time": "2023-06-20T00:49:44.292545",
     "exception": false,
     "start_time": "2023-06-20T00:49:44.245020",
     "status": "completed"
    },
    "scrolled": false,
    "tags": []
   },
   "outputs": [],
   "source": [
    "# def obj_alpha(trial):\n",
    "#     a = [\n",
    "#         trial.suggest_float('a0', 0, 2, step=0.1),\n",
    "#         trial.suggest_float('a1', 0, 2, step=0.1),\n",
    "#         trial.suggest_float('a2', 0, 2, step=0.1),\n",
    "#         trial.suggest_float('a3', 0, 1, step=0.1),\n",
    "#         trial.suggest_float('a4', 0, 2, step=0.1),\n",
    "#         trial.suggest_float('a5', 0, 5, step=0.1),\n",
    "#         trial.suggest_float('a6', 0, 5, step=0.1),\n",
    "#         ]\n",
    "    \n",
    "#     score = 0\n",
    "#     for i in range(5):\n",
    "#         pred = (\n",
    "#         y_results[0][i]*a[0] + \n",
    "#         y_results[1][i]*a[1] + \n",
    "#         y_results[2][i]*a[2] + \n",
    "#         y_results[3][i]*a[3] + \n",
    "#         y_results[4][i]*a[4] +\n",
    "#         y_results[5][i]*a[5] + \n",
    "#         y_results[6][i]*a[6]\n",
    "#         )/sum(a)\n",
    "# #         pred = calc_new_pred(pred)\n",
    "        \n",
    "#         p0 = pred[:, 0]\n",
    "#         p0 = sigmoid((p0-0.5)*5.4)\n",
    "#         p0 = (p0 - min(p0))/(max(p0)-min(p0)+1e-15)\n",
    "\n",
    "#         pred[:,1] = 1-p0\n",
    "#         pred[:,0] = p0\n",
    "        \n",
    "#         if use_new_pred:\n",
    "#             pred = calc_new_pred(pred)\n",
    "\n",
    "        \n",
    "#         e_loss = balanced_log_loss(y_valids[i], pred[:, 1])\n",
    "#         score += e_loss \n",
    "\n",
    "#     return score/5\n",
    "\n",
    "\n",
    "# study = optuna.create_study(sampler=optuna.samplers.TPESampler(seed=cfg.seed))#direction='minimize')\n",
    "# study.enqueue_trial({'a0': 4.9, 'a1': 4.4, 'a2': 0.0, 'a3': 0.0, 'a4': 0.7000000000000001, 'a5': 2.0, 'a6': 0.0})\n",
    "# study.optimize(obj_alpha, n_trials=500)\n",
    "# print(study.best_trial.params)\n",
    "# list(study.best_trial.params.values())"
   ]
  },
  {
   "cell_type": "code",
   "execution_count": 348,
   "id": "1efa9060",
   "metadata": {},
   "outputs": [
    {
     "data": {
      "text/plain": [
       "[<matplotlib.lines.Line2D at 0xffff2e4b5ee0>]"
      ]
     },
     "execution_count": 348,
     "metadata": {},
     "output_type": "execute_result"
    },
    {
     "data": {
      "image/png": "[encoded data removed]",
      "text/plain": [
       "<Figure size 640x480 with 1 Axes>"
      ]
     },
     "metadata": {},
     "output_type": "display_data"
    }
   ],
   "source": [
    "def sigmoid(x):\n",
    "    return 1/ (1 + np.exp(-x))\n",
    "\n",
    "p0 = pred[:, 0]\n",
    "p0 = np.array([i/100 for i in range(101)])\n",
    "p0 = sigmoid((p0-0.41)*5.4)\n",
    "plt.plot(p0)\n",
    "\n",
    "p0 = (p0 - min(p0))/(max(p0)-min(p0))\n",
    "p0 = np.clip(p0, 0.0001, 0.9999)\n",
    "plt.plot(p0)"
   ]
  },
  {
   "cell_type": "code",
   "execution_count": 715,
   "id": "e8324f5b",
   "metadata": {},
   "outputs": [
    {
     "data": {
      "text/plain": [
       "[<matplotlib.lines.Line2D at 0xffff1d76aeb0>]"
      ]
     },
     "execution_count": 715,
     "metadata": {},
     "output_type": "execute_result"
    },
    {
     "data": {
      "image/png": "[encoded data removed]",
      "text/plain": [
       "<Figure size 640x480 with 1 Axes>"
      ]
     },
     "metadata": {},
     "output_type": "display_data"
    }
   ],
   "source": [
    "def sigmoid(x):\n",
    "    return 1/ (1 + np.exp(-x))\n",
    "\n",
    "p0 = pred[:, 0]\n",
    "p0 = np.array([i/100 for i in range(101)])\n",
    "p0 = sigmoid((p0-0.5)*5.4)\n",
    "plt.plot(p0)\n",
    "\n",
    "p0 = (p0 - min(p0))/(max(p0)-min(p0))\n",
    "p0 = np.clip(p0, 0.0001, 0.9999)\n",
    "plt.plot(p0)"
   ]
  },
  {
   "cell_type": "markdown",
   "id": "b3a4d39c",
   "metadata": {
    "papermill": {
     "duration": 0.039129,
     "end_time": "2023-06-20T00:49:44.371010",
     "exception": false,
     "start_time": "2023-06-20T00:49:44.331881",
     "status": "completed"
    },
    "tags": []
   },
   "source": [
    "```\n",
    "0.15246577482271312 -rf -knn -nn -tab (boostingのみ)\n",
    "0.16141317621791187 -rf -knn -nn (boosting + tab)\n",
    "0.14603296764550358 -rf -knn -tab (boosting + nn)\n",
    "0.15962857016383242 -rf -nn -tab (boosting + knn)\n",
    "0.19880100002949805 -rf -nn -knn -tab\n",
    "0.1549086996071109 -rf\n",
    "0.14709787098787236 -rf -knn\n",
    "0.15552694031836586 -rf -xgb -cb\n",
    "0.1676103909764996 -rf -lgb -cb\n",
    "\n",
    "\n",
    "0.1486103472662918  a = 1, 0, 1.5, 0, 0.5\n",
    "0.14573619761609635 a = 1, 0, 1, 0, 0.5\n",
    "0.14555721433280364 a = 2, 0, 1, 0.2, 1.5\n",
    "0.1446640534808395  a = 2, 0, 1, 0, 1 \n",
    "0.14443877195214577 a = 2, 0, 1, 0.2, 1\n",
    "0.1440592210659078  a = 2, 0, 1, 0.2, 0.8 \n",
    "0.14362643242934164 a = 2, 0, 1, 0.2, 0.8 lgbm2を見直し\n",
    "0.14405701359512002 ↑でKFoldの分割をgreeks.alphaにしたバージョン  !! nnがリークしている !!\n",
    "0.13302360008161757 a = [2.1, 0.0, 4.0, 0.0, 0.0] ★★Currently Best CV <- !! nnがリークしている !!\n",
    "\n",
    "nnを再学習(greeks.alphaでfoldに分割)\n",
    "0.14495478908894055 a = [3.3, 0.0, 0.0, 0.5, 0.7]\n",
    "0.14516239372852643 a = [3.9, 0.0, 0.0, 0.9, 0.5]\n",
    "0.13448841870323322 a = [3.9, 0.0, 0.0, 0.9, 0.5] lightGBMの再学習（optunaで探索時にcalc_new_predをするようにした）LV1.6\n",
    "0.1320047117991178  a = [3.9, 0.0, 0.0, 0.9, 0.5] positive_weight = 2.0  LB1.7\n",
    "0.12654137375083563 -> predを補正（１）\n",
    "\n",
    "\n",
    "InvalidParameterError: The 'metric' parameter of KNeighborsClassifier must be a str among {'sokalsneath', 'minkowski', 'wminkowski', 'yule', 'jaccard', 'chebyshev', 'seuclidean', 'hamming', 'cosine', 'cityblock', 'rogerstanimoto', 'kulsinski', 'dice', 'correlation', 'sqeuclidean', 'l1', 'precomputed', 'mahalanobis', 'sokalmichener', 'p', 'haversine', 'euclidean', 'nan_euclidean', 'pyfunc', 'manhattan', 'infinity', 'matching', 'russellrao', 'l2', 'braycurtis', 'canberra'} or a callable. Got 'xxx' instead.\n",
    "```"
   ]
  },
  {
   "cell_type": "code",
   "execution_count": 644,
   "id": "e42e3f0f",
   "metadata": {
    "execution": {
     "iopub.execute_input": "2023-06-20T00:49:44.452813Z",
     "iopub.status.busy": "2023-06-20T00:49:44.452303Z",
     "iopub.status.idle": "2023-06-20T00:49:44.457812Z",
     "shell.execute_reply": "2023-06-20T00:49:44.456779Z"
    },
    "papermill": {
     "duration": 0.049053,
     "end_time": "2023-06-20T00:49:44.460100",
     "exception": false,
     "start_time": "2023-06-20T00:49:44.411047",
     "status": "completed"
    },
    "tags": []
   },
   "outputs": [],
   "source": [
    "# print(\"lgbm2..\")\n",
    "\n",
    "\n",
    "\n",
    "# def obj_lgbm(trial):\n",
    "#     params = {\n",
    "#         'boosting_type':'gbdt',\n",
    "#         'class_weight':'balanced',\n",
    "#         'n_estimators': trial.suggest_int('n_estimators', 100, 1000, step=10),\n",
    "#         'reg_alpha': trial.suggest_float('reg_alpha', 0, 100, step=0.1),\n",
    "#         'reg_lambda': trial.suggest_float('reg_lambda', 0, 100, step=0.1),\n",
    "#         'num_leaves': trial.suggest_int('num_leaves', 2, 64, step=1),\n",
    "#         'min_child_samples': trial.suggest_int('min_child_samples', 8, 64, step=1),\n",
    "#         'colsample_bytree': trial.suggest_float('colsample_bytree', 0.5, 1.0, step=0.1),\n",
    "#         'subsample': trial.suggest_float('subsample', 0.5, 1.0, step=0.1),\n",
    "#         'subsample_freq': trial.suggest_int('subsample_freq', 0, 3, step=1),\n",
    "#     }\n",
    "    \n",
    "#     lgb2 = LGBMClassifier(**params)\n",
    "#     lgb2.fit(X_train2, y_train, sample_weight=weights)\n",
    "#     y_lgb2 = lgb2.predict_proba(X_valid2)\n",
    "#     lgb2_loss = balanced_log_loss(y_valid, y_lgb2[:, 1])\n",
    "#     return lgb2_loss\n",
    "        \n",
    "\n",
    "# study = optuna.create_study(sampler=optuna.samplers.TPESampler(seed=42))#direction='minimize')\n",
    "# study.enqueue_trial(lgbm_params2)\n",
    "# study.optimize(obj_lgbm, n_trials=100)\n",
    "\n",
    "# lgbm_params2 = dict(study.best_trial.params.items())\n",
    "# lgbm_params2"
   ]
  },
  {
   "cell_type": "code",
   "execution_count": 645,
   "id": "aa0756b7",
   "metadata": {
    "execution": {
     "iopub.execute_input": "2023-06-20T00:49:44.540127Z",
     "iopub.status.busy": "2023-06-20T00:49:44.539829Z",
     "iopub.status.idle": "2023-06-20T00:49:44.545679Z",
     "shell.execute_reply": "2023-06-20T00:49:44.544821Z"
    },
    "papermill": {
     "duration": 0.04855,
     "end_time": "2023-06-20T00:49:44.548034",
     "exception": false,
     "start_time": "2023-06-20T00:49:44.499484",
     "status": "completed"
    },
    "tags": []
   },
   "outputs": [
    {
     "data": {
      "text/plain": [
       "[124, 124, 123, 123, 123]"
      ]
     },
     "execution_count": 645,
     "metadata": {},
     "output_type": "execute_result"
    }
   ],
   "source": [
    "y_len"
   ]
  },
  {
   "cell_type": "markdown",
   "id": "bbf33f02",
   "metadata": {
    "papermill": {
     "duration": 0.040283,
     "end_time": "2023-06-20T00:49:44.629439",
     "exception": false,
     "start_time": "2023-06-20T00:49:44.589156",
     "status": "completed"
    },
    "tags": []
   },
   "source": [
    "### スタッキング（２段目）\n",
    "\n",
    "2段目は、各FOLDのvalidデータを用いて学習させる。こうしないとリークする可能性がありそうなので。"
   ]
  },
  {
   "cell_type": "code",
   "execution_count": 646,
   "id": "0d197971",
   "metadata": {
    "execution": {
     "iopub.execute_input": "2023-06-20T00:49:44.711569Z",
     "iopub.status.busy": "2023-06-20T00:49:44.709920Z",
     "iopub.status.idle": "2023-06-20T00:49:44.723024Z",
     "shell.execute_reply": "2023-06-20T00:49:44.722111Z"
    },
    "papermill": {
     "duration": 0.056211,
     "end_time": "2023-06-20T00:49:44.725261",
     "exception": false,
     "start_time": "2023-06-20T00:49:44.669050",
     "status": "completed"
    },
    "tags": []
   },
   "outputs": [],
   "source": [
    "# Optuna\n",
    "\n",
    "def obj_lgbm2(trial):\n",
    "    params = {\n",
    "        'boosting_type':'gbdt',\n",
    "        'class_weight':'balanced',\n",
    "        'n_estimators': trial.suggest_int('n_estimators', 100, 1000, step=10),\n",
    "        'reg_alpha': trial.suggest_float('reg_alpha', 0, 100, step=0.1),\n",
    "        'reg_lambda': trial.suggest_float('reg_lambda', 0, 100, step=0.1),\n",
    "        'num_leaves': trial.suggest_int('num_leaves', 2, 64, step=1),\n",
    "        'min_child_samples': trial.suggest_int('min_child_samples', 8, 64, step=1),\n",
    "        'colsample_bytree': trial.suggest_float('colsample_bytree', 0.5, 1.0, step=0.1),\n",
    "        'subsample': trial.suggest_float('subsample', 0.5, 1.0, step=0.1),\n",
    "        'subsample_freq': trial.suggest_int('subsample_freq', 0, 3, step=1),\n",
    "    }\n",
    "    \n",
    "    lgb_2 = LGBMClassifier(**params)\n",
    "\n",
    "    \n",
    "    score = 0\n",
    "    start = 0\n",
    "    for idx, size in enumerate(y_len):\n",
    "        valid_idx = [False for _ in range(len(y_preds))]\n",
    "        for i in range(start, start+size):\n",
    "            valid_idx[i] = True\n",
    "        train_idx = list(map(lambda x: not x, valid_idx))\n",
    "        X_train, y_train = y_preds[train_idx], y_true[train_idx]\n",
    "        X_valid, y_valid = y_preds[valid_idx], y_true[valid_idx]\n",
    "        lgb_2.fit(X_train, y_train)\n",
    "        pred2 = lgb_2.predict_proba(X_valid)\n",
    "        s = balanced_log_loss(y_valid, pred2[:, 1])\n",
    "#         print(f\"fold{idx} = {s}\")\n",
    "        start += size\n",
    "        score += s\n",
    "    \n",
    "    return score/5\n",
    "      \n",
    "    \n",
    "lgbm_params_2 = {'n_estimators': 400,\n",
    " 'reg_alpha': 6.2,\n",
    " 'reg_lambda': 22.900000000000002,\n",
    " 'num_leaves': 30,\n",
    " 'min_child_samples': 45,\n",
    " 'colsample_bytree': 0.5,\n",
    " 'subsample': 0.8,\n",
    " 'subsample_freq': 1}\n",
    "\n",
    "# do_opt = True\n",
    "if do_opt :\n",
    "    study = optuna.create_study(sampler=optuna.samplers.TPESampler(seed=42))#direction='minimize')\n",
    "    study.enqueue_trial(lgbm_params_2)\n",
    "    study.optimize(obj_lgbm2, n_trials=200)"
   ]
  },
  {
   "cell_type": "code",
   "execution_count": 647,
   "id": "27b51367",
   "metadata": {
    "execution": {
     "iopub.execute_input": "2023-06-20T00:49:44.806369Z",
     "iopub.status.busy": "2023-06-20T00:49:44.806058Z",
     "iopub.status.idle": "2023-06-20T00:49:44.812283Z",
     "shell.execute_reply": "2023-06-20T00:49:44.811439Z"
    },
    "papermill": {
     "duration": 0.049173,
     "end_time": "2023-06-20T00:49:44.814671",
     "exception": false,
     "start_time": "2023-06-20T00:49:44.765498",
     "status": "completed"
    },
    "tags": []
   },
   "outputs": [
    {
     "data": {
      "text/plain": [
       "{'n_estimators': 400,\n",
       " 'reg_alpha': 6.2,\n",
       " 'reg_lambda': 22.900000000000002,\n",
       " 'num_leaves': 30,\n",
       " 'min_child_samples': 45,\n",
       " 'colsample_bytree': 0.5,\n",
       " 'subsample': 0.8,\n",
       " 'subsample_freq': 1}"
      ]
     },
     "execution_count": 647,
     "metadata": {},
     "output_type": "execute_result"
    }
   ],
   "source": [
    "if do_opt :\n",
    "    lgbm_params_2 = dict(study.best_trial.params.items())\n",
    "lgbm_params_2"
   ]
  },
  {
   "cell_type": "code",
   "execution_count": 648,
   "id": "1b9386bf",
   "metadata": {
    "execution": {
     "iopub.execute_input": "2023-06-20T00:49:44.902856Z",
     "iopub.status.busy": "2023-06-20T00:49:44.902547Z",
     "iopub.status.idle": "2023-06-20T00:49:45.152659Z",
     "shell.execute_reply": "2023-06-20T00:49:45.151616Z"
    },
    "papermill": {
     "duration": 0.300618,
     "end_time": "2023-06-20T00:49:45.154988",
     "exception": false,
     "start_time": "2023-06-20T00:49:44.854370",
     "status": "completed"
    },
    "tags": []
   },
   "outputs": [
    {
     "name": "stdout",
     "output_type": "stream",
     "text": [
      "fold0 = 0.19355672942016813\n",
      "fold1 = 0.13357843713796247\n",
      "fold2 = 0.3615008447797392\n",
      "fold3 = 0.12238808616017154\n",
      "fold4 = 0.1367715855963619\n",
      "5fold average =  0.18955913661888063\n"
     ]
    }
   ],
   "source": [
    "from sklearn.linear_model import LogisticRegression\n",
    "\n",
    "if check_CV:\n",
    "\n",
    "    lgb_2 = LGBMClassifier(boosting_type='gbdt', class_weight='balanced', **lgbm_params_2)\n",
    "#     lgb_2 = LogisticRegression()\n",
    "    \n",
    "    score = 0\n",
    "    start = 0\n",
    "    for idx, size in enumerate(y_len):\n",
    "        valid_idx = [False for _ in range(len(y_preds))]\n",
    "        for i in range(start, start+size):\n",
    "            valid_idx[i] = True\n",
    "        train_idx = list(map(lambda x: not x, valid_idx))\n",
    "        X_train, y_train = y_preds[train_idx], y_true[train_idx]\n",
    "        X_valid, y_valid = y_preds[valid_idx], y_true[valid_idx]\n",
    "        lgb_2.fit(X_train, y_train)\n",
    "        pred2 = lgb_2.predict_proba(X_valid)\n",
    "        s = balanced_log_loss(y_valid, pred2[:, 1])\n",
    "        print(f\"fold{idx} = {s}\")\n",
    "        start += size\n",
    "        score += s\n",
    "    \n",
    "    print(\"5fold average = \", score/5)"
   ]
  },
  {
   "cell_type": "code",
   "execution_count": 649,
   "id": "65f4e72e",
   "metadata": {
    "execution": {
     "iopub.execute_input": "2023-06-20T00:49:45.240769Z",
     "iopub.status.busy": "2023-06-20T00:49:45.240392Z",
     "iopub.status.idle": "2023-06-20T00:49:45.305789Z",
     "shell.execute_reply": "2023-06-20T00:49:45.304455Z"
    },
    "papermill": {
     "duration": 0.109103,
     "end_time": "2023-06-20T00:49:45.307928",
     "exception": false,
     "start_time": "2023-06-20T00:49:45.198825",
     "status": "completed"
    },
    "tags": []
   },
   "outputs": [
    {
     "name": "stdout",
     "output_type": "stream",
     "text": [
      "0.1348843447178267\n"
     ]
    }
   ],
   "source": [
    "lgb_2.fit(y_preds, y_true)\n",
    "pred2 = lgb_2.predict_proba(y_preds)\n",
    "print(balanced_log_loss(y_true, pred2[:, 1]))"
   ]
  },
  {
   "cell_type": "code",
   "execution_count": null,
   "id": "ca8649b1",
   "metadata": {
    "papermill": {
     "duration": 0.040167,
     "end_time": "2023-06-20T00:49:45.388699",
     "exception": false,
     "start_time": "2023-06-20T00:49:45.348532",
     "status": "completed"
    },
    "tags": []
   },
   "outputs": [],
   "source": []
  },
  {
   "cell_type": "markdown",
   "id": "4f0f761c",
   "metadata": {
    "papermill": {
     "duration": 0.041537,
     "end_time": "2023-06-20T00:49:45.470564",
     "exception": false,
     "start_time": "2023-06-20T00:49:45.429027",
     "status": "completed"
    },
    "tags": []
   },
   "source": [
    "## fit models(final parameter)\n",
    "\n",
    "なぜか、5foldで作成したモデルだと性能が下がる傾向があった。testデータにtrainデータが**リークしている可能性**がありそうな気もするが、とりあえず、各予測器をパラメータを決めたあと、train全体で作成しなおし。"
   ]
  },
  {
   "cell_type": "code",
   "execution_count": 92,
   "id": "e81da729",
   "metadata": {
    "execution": {
     "iopub.execute_input": "2023-06-20T00:49:45.553529Z",
     "iopub.status.busy": "2023-06-20T00:49:45.553065Z",
     "iopub.status.idle": "2023-06-20T00:49:45.559342Z",
     "shell.execute_reply": "2023-06-20T00:49:45.558501Z"
    },
    "papermill": {
     "duration": 0.050356,
     "end_time": "2023-06-20T00:49:45.561571",
     "exception": false,
     "start_time": "2023-06-20T00:49:45.511215",
     "status": "completed"
    },
    "tags": []
   },
   "outputs": [],
   "source": [
    "X = df_train[df_train.columns[:-1]]\n",
    "y = df_train.Class"
   ]
  },
  {
   "cell_type": "code",
   "execution_count": 93,
   "id": "2d76dc34",
   "metadata": {
    "execution": {
     "iopub.execute_input": "2023-06-20T00:49:45.645664Z",
     "iopub.status.busy": "2023-06-20T00:49:45.644831Z",
     "iopub.status.idle": "2023-06-20T00:49:46.380096Z",
     "shell.execute_reply": "2023-06-20T00:49:46.379169Z"
    },
    "papermill": {
     "duration": 0.778462,
     "end_time": "2023-06-20T00:49:46.382107",
     "exception": false,
     "start_time": "2023-06-20T00:49:45.603645",
     "status": "completed"
    },
    "tags": []
   },
   "outputs": [
    {
     "data": {
      "text/plain": [
       "0.03154220509278746"
      ]
     },
     "execution_count": 93,
     "metadata": {},
     "output_type": "execute_result"
    }
   ],
   "source": [
    "lgb.fit(X[lgb_selected], y, sample_weight=classes_weights)\n",
    "y_lgb = lgb.predict_proba(X[lgb_selected])\n",
    "balanced_log_loss(y, y_lgb[:, 1])"
   ]
  },
  {
   "cell_type": "code",
   "execution_count": 94,
   "id": "aa9c3f12",
   "metadata": {},
   "outputs": [],
   "source": [
    "# pd.DataFrame(lgb.feature_importances_, index = X.columns, columns=['importance']).sort_values('importance', ascending=False)"
   ]
  },
  {
   "cell_type": "code",
   "execution_count": 95,
   "id": "50cbcf29",
   "metadata": {
    "execution": {
     "iopub.execute_input": "2023-06-20T00:49:46.466719Z",
     "iopub.status.busy": "2023-06-20T00:49:46.464992Z",
     "iopub.status.idle": "2023-06-20T00:49:46.900312Z",
     "shell.execute_reply": "2023-06-20T00:49:46.899268Z"
    },
    "papermill": {
     "duration": 0.479667,
     "end_time": "2023-06-20T00:49:46.902565",
     "exception": false,
     "start_time": "2023-06-20T00:49:46.422898",
     "status": "completed"
    },
    "tags": []
   },
   "outputs": [
    {
     "data": {
      "text/plain": [
       "0.016083272063705648"
      ]
     },
     "execution_count": 95,
     "metadata": {},
     "output_type": "execute_result"
    }
   ],
   "source": [
    "lgb2.fit(X, y, sample_weight=classes_weights2)\n",
    "y_lgb2 = lgb2.predict_proba(X)\n",
    "balanced_log_loss(y, y_lgb2[:, 1])"
   ]
  },
  {
   "cell_type": "code",
   "execution_count": 96,
   "id": "89a602a0",
   "metadata": {
    "execution": {
     "iopub.execute_input": "2023-06-20T00:49:46.989920Z",
     "iopub.status.busy": "2023-06-20T00:49:46.989587Z",
     "iopub.status.idle": "2023-06-20T00:49:48.190531Z",
     "shell.execute_reply": "2023-06-20T00:49:48.189490Z"
    },
    "papermill": {
     "duration": 1.248526,
     "end_time": "2023-06-20T00:49:48.193290",
     "exception": false,
     "start_time": "2023-06-20T00:49:46.944764",
     "status": "completed"
    },
    "tags": []
   },
   "outputs": [
    {
     "data": {
      "text/plain": [
       "0.03131612647639843"
      ]
     },
     "execution_count": 96,
     "metadata": {},
     "output_type": "execute_result"
    }
   ],
   "source": [
    "xgb.fit(X[lgb_selected], y, sample_weight=classes_weights)\n",
    "y_xgb = xgb.predict_proba(X[lgb_selected])\n",
    "balanced_log_loss(y, y_xgb[:, 1])"
   ]
  },
  {
   "cell_type": "code",
   "execution_count": 97,
   "id": "e303051d",
   "metadata": {
    "execution": {
     "iopub.execute_input": "2023-06-20T00:49:48.279472Z",
     "iopub.status.busy": "2023-06-20T00:49:48.279119Z",
     "iopub.status.idle": "2023-06-20T00:49:49.171143Z",
     "shell.execute_reply": "2023-06-20T00:49:49.170003Z"
    },
    "papermill": {
     "duration": 0.93689,
     "end_time": "2023-06-20T00:49:49.174104",
     "exception": false,
     "start_time": "2023-06-20T00:49:48.237214",
     "status": "completed"
    },
    "tags": []
   },
   "outputs": [
    {
     "data": {
      "text/plain": [
       "0.012021721417978868"
      ]
     },
     "execution_count": 97,
     "metadata": {},
     "output_type": "execute_result"
    }
   ],
   "source": [
    "xgb2.fit(X, y, sample_weight=classes_weights2)\n",
    "y_xgb2 = xgb2.predict_proba(X)\n",
    "balanced_log_loss(y, y_xgb2[:, 1])"
   ]
  },
  {
   "cell_type": "code",
   "execution_count": 98,
   "id": "e2c35b8f",
   "metadata": {
    "execution": {
     "iopub.execute_input": "2023-06-20T00:49:49.262561Z",
     "iopub.status.busy": "2023-06-20T00:49:49.262191Z",
     "iopub.status.idle": "2023-06-20T00:49:49.997409Z",
     "shell.execute_reply": "2023-06-20T00:49:49.996407Z"
    },
    "papermill": {
     "duration": 0.780753,
     "end_time": "2023-06-20T00:49:50.000109",
     "exception": false,
     "start_time": "2023-06-20T00:49:49.219356",
     "status": "completed"
    },
    "tags": []
   },
   "outputs": [
    {
     "data": {
      "text/plain": [
       "0.06306930967301219"
      ]
     },
     "execution_count": 98,
     "metadata": {},
     "output_type": "execute_result"
    }
   ],
   "source": [
    "cb.fit(X[lgb_selected], y, logging_level=\"Silent\", sample_weight=classes_weights)\n",
    "y_cb = cb.predict_proba(X[lgb_selected])\n",
    "balanced_log_loss(y, y_cb[:, 1])"
   ]
  },
  {
   "cell_type": "code",
   "execution_count": 99,
   "id": "3d1dc7b4",
   "metadata": {
    "execution": {
     "iopub.execute_input": "2023-06-20T00:49:50.113102Z",
     "iopub.status.busy": "2023-06-20T00:49:50.112704Z",
     "iopub.status.idle": "2023-06-20T00:49:51.655979Z",
     "shell.execute_reply": "2023-06-20T00:49:51.655128Z"
    },
    "papermill": {
     "duration": 1.601694,
     "end_time": "2023-06-20T00:49:51.658127",
     "exception": false,
     "start_time": "2023-06-20T00:49:50.056433",
     "status": "completed"
    },
    "tags": []
   },
   "outputs": [
    {
     "data": {
      "text/plain": [
       "0.02892682900031287"
      ]
     },
     "execution_count": 99,
     "metadata": {},
     "output_type": "execute_result"
    }
   ],
   "source": [
    "cb2.fit(X, y, logging_level=\"Silent\", sample_weight=classes_weights2)\n",
    "y_cb2 = cb2.predict_proba(X)\n",
    "balanced_log_loss(y, y_cb2[:, 1])"
   ]
  },
  {
   "cell_type": "code",
   "execution_count": 100,
   "id": "6065fb62",
   "metadata": {
    "execution": {
     "iopub.execute_input": "2023-06-20T00:49:51.770112Z",
     "iopub.status.busy": "2023-06-20T00:49:51.769753Z",
     "iopub.status.idle": "2023-06-20T00:49:53.028791Z",
     "shell.execute_reply": "2023-06-20T00:49:53.027724Z"
    },
    "papermill": {
     "duration": 1.319526,
     "end_time": "2023-06-20T00:49:53.033005",
     "exception": false,
     "start_time": "2023-06-20T00:49:51.713479",
     "status": "completed"
    },
    "tags": []
   },
   "outputs": [
    {
     "data": {
      "text/plain": [
       "0.22755199606209128"
      ]
     },
     "execution_count": 100,
     "metadata": {},
     "output_type": "execute_result"
    }
   ],
   "source": [
    "rf.fit(X, y, sample_weight=classes_weights)\n",
    "y_rf = rf.predict_proba(X)\n",
    "balanced_log_loss(y, y_rf[:, 1])"
   ]
  },
  {
   "cell_type": "code",
   "execution_count": null,
   "id": "ff702717",
   "metadata": {
    "papermill": {
     "duration": 0.060387,
     "end_time": "2023-06-20T00:49:53.155644",
     "exception": false,
     "start_time": "2023-06-20T00:49:53.095257",
     "status": "completed"
    },
    "tags": []
   },
   "outputs": [],
   "source": []
  },
  {
   "cell_type": "code",
   "execution_count": 101,
   "id": "654c66cf",
   "metadata": {
    "execution": {
     "iopub.execute_input": "2023-06-20T00:49:53.279679Z",
     "iopub.status.busy": "2023-06-20T00:49:53.279124Z",
     "iopub.status.idle": "2023-06-20T00:49:53.296672Z",
     "shell.execute_reply": "2023-06-20T00:49:53.295904Z"
    },
    "papermill": {
     "duration": 0.08331,
     "end_time": "2023-06-20T00:49:53.299068",
     "exception": false,
     "start_time": "2023-06-20T00:49:53.215758",
     "status": "completed"
    },
    "tags": []
   },
   "outputs": [
    {
     "data": {
      "text/plain": [
       "0.05946373794864732"
      ]
     },
     "execution_count": 101,
     "metadata": {},
     "output_type": "execute_result"
    }
   ],
   "source": [
    "XX = torch.Tensor(X[X.columns[:-1]].to_numpy()).to(device)\n",
    "y_nn, features = nn_predict_proba(XX, nn_single_model)\n",
    "features = features.detach().cpu().numpy()\n",
    "balanced_log_loss(y, y_nn[:, 1])"
   ]
  },
  {
   "cell_type": "code",
   "execution_count": 102,
   "id": "66814aa8",
   "metadata": {
    "execution": {
     "iopub.execute_input": "2023-06-20T00:49:53.428946Z",
     "iopub.status.busy": "2023-06-20T00:49:53.428554Z",
     "iopub.status.idle": "2023-06-20T00:49:53.462479Z",
     "shell.execute_reply": "2023-06-20T00:49:53.461632Z"
    },
    "papermill": {
     "duration": 0.09822,
     "end_time": "2023-06-20T00:49:53.465464",
     "exception": false,
     "start_time": "2023-06-20T00:49:53.367244",
     "status": "completed"
    },
    "tags": []
   },
   "outputs": [
    {
     "data": {
      "text/plain": [
       "0.06407877867652399"
      ]
     },
     "execution_count": 102,
     "metadata": {},
     "output_type": "execute_result"
    }
   ],
   "source": [
    "knn.fit(features, y)#, sample_weight=weights)\n",
    "y_xxx = knn.predict_proba(features)\n",
    "y_xxx = calc_new_pred(y_xxx)\n",
    "balanced_log_loss(y, y_xxx[:, 1])"
   ]
  },
  {
   "cell_type": "code",
   "execution_count": 103,
   "id": "04b51a5f",
   "metadata": {
    "execution": {
     "iopub.execute_input": "2023-06-20T00:49:53.683521Z",
     "iopub.status.busy": "2023-06-20T00:49:53.682960Z",
     "iopub.status.idle": "2023-06-20T00:49:53.749981Z",
     "shell.execute_reply": "2023-06-20T00:49:53.749006Z"
    },
    "papermill": {
     "duration": 0.152374,
     "end_time": "2023-06-20T00:49:53.752665",
     "exception": false,
     "start_time": "2023-06-20T00:49:53.600291",
     "status": "completed"
    },
    "tags": []
   },
   "outputs": [
    {
     "data": {
      "text/plain": [
       "0.11483733921281679"
      ]
     },
     "execution_count": 103,
     "metadata": {},
     "output_type": "execute_result"
    }
   ],
   "source": [
    "knn2.fit(features, y)#, sample_weight=weights)\n",
    "y_xxx2 = knn2.predict_proba(features)\n",
    "y_xxx2 = calc_new_pred(y_xxx2)\n",
    "balanced_log_loss(y, y_xxx2[:, 1])"
   ]
  },
  {
   "cell_type": "code",
   "execution_count": null,
   "id": "6d3acb37",
   "metadata": {
    "papermill": {
     "duration": 0.060845,
     "end_time": "2023-06-20T00:49:53.911743",
     "exception": false,
     "start_time": "2023-06-20T00:49:53.850898",
     "status": "completed"
    },
    "tags": []
   },
   "outputs": [],
   "source": []
  },
  {
   "cell_type": "code",
   "execution_count": 104,
   "id": "450d8938",
   "metadata": {
    "execution": {
     "iopub.execute_input": "2023-06-20T00:49:54.033248Z",
     "iopub.status.busy": "2023-06-20T00:49:54.032832Z",
     "iopub.status.idle": "2023-06-20T00:49:54.039917Z",
     "shell.execute_reply": "2023-06-20T00:49:54.038487Z"
    },
    "papermill": {
     "duration": 0.074737,
     "end_time": "2023-06-20T00:49:54.046758",
     "exception": false,
     "start_time": "2023-06-20T00:49:53.972021",
     "status": "completed"
    },
    "tags": []
   },
   "outputs": [],
   "source": [
    "# tabpfnには正則化する前のデータを入力する\n",
    "X = df_train_noscale[df_train.columns[:-1]]\n",
    "y = df_train_noscale.Class"
   ]
  },
  {
   "cell_type": "code",
   "execution_count": 105,
   "id": "2d9bdc8b",
   "metadata": {
    "execution": {
     "iopub.execute_input": "2023-06-20T00:49:54.150850Z",
     "iopub.status.busy": "2023-06-20T00:49:54.150473Z",
     "iopub.status.idle": "2023-06-20T00:49:55.495707Z",
     "shell.execute_reply": "2023-06-20T00:49:55.494349Z"
    },
    "papermill": {
     "duration": 1.398046,
     "end_time": "2023-06-20T00:49:55.498104",
     "exception": false,
     "start_time": "2023-06-20T00:49:54.100058",
     "status": "completed"
    },
    "tags": []
   },
   "outputs": [
    {
     "data": {
      "text/plain": [
       "0.02135530545694102"
      ]
     },
     "execution_count": 105,
     "metadata": {},
     "output_type": "execute_result"
    }
   ],
   "source": [
    "tab.fit(X[lgb_selected], y)\n",
    "y_tab = tab.predict_proba(X[lgb_selected])\n",
    "y_tab = calc_new_pred(y_tab) # <- ここに入れるのは良いかも\n",
    "balanced_log_loss(y, y_tab[:, 1])"
   ]
  },
  {
   "cell_type": "code",
   "execution_count": 106,
   "id": "8bcfa51c",
   "metadata": {
    "execution": {
     "iopub.execute_input": "2023-06-20T00:49:55.585350Z",
     "iopub.status.busy": "2023-06-20T00:49:55.584967Z",
     "iopub.status.idle": "2023-06-20T00:49:56.448304Z",
     "shell.execute_reply": "2023-06-20T00:49:56.447355Z"
    },
    "papermill": {
     "duration": 0.909251,
     "end_time": "2023-06-20T00:49:56.450367",
     "exception": false,
     "start_time": "2023-06-20T00:49:55.541116",
     "status": "completed"
    },
    "tags": []
   },
   "outputs": [
    {
     "data": {
      "text/plain": [
       "0.01976604610976799"
      ]
     },
     "execution_count": 106,
     "metadata": {},
     "output_type": "execute_result"
    }
   ],
   "source": [
    "tab2.fit(X, y)\n",
    "y_tab2 = tab2.predict_proba(X)\n",
    "y_tab2 = calc_new_pred(y_tab2) # <- ここに入れるのは良いかも\n",
    "balanced_log_loss(y, y_tab2[:, 1])"
   ]
  },
  {
   "cell_type": "code",
   "execution_count": 107,
   "id": "a5c41c4b",
   "metadata": {
    "execution": {
     "iopub.execute_input": "2023-06-20T00:49:56.539149Z",
     "iopub.status.busy": "2023-06-20T00:49:56.538830Z",
     "iopub.status.idle": "2023-06-20T00:49:56.549165Z",
     "shell.execute_reply": "2023-06-20T00:49:56.548088Z"
    },
    "papermill": {
     "duration": 0.056744,
     "end_time": "2023-06-20T00:49:56.551478",
     "exception": false,
     "start_time": "2023-06-20T00:49:56.494734",
     "status": "completed"
    },
    "tags": []
   },
   "outputs": [
    {
     "data": {
      "text/plain": [
       "0.031098063055656374"
      ]
     },
     "execution_count": 107,
     "metadata": {},
     "output_type": "execute_result"
    }
   ],
   "source": [
    "pred = ((y_lgb + y_lgb2)/2*a[0] +\n",
    "        (y_xgb + y_xgb2)/2*a[1] +\n",
    "        (y_cb + y_cb2)/2*a[2] + \n",
    "        y_rf * a[3] + \n",
    "        y_nn * a[4] +\n",
    "        (y_xxx + y_xxx2)/2*a[5] + \n",
    "        (y_tab + y_tab2)/2*a[6]\n",
    "       )/sum(a)\n",
    "\n",
    "balanced_log_loss(y,pred[:, 1])"
   ]
  },
  {
   "cell_type": "code",
   "execution_count": 108,
   "id": "23976d26",
   "metadata": {
    "execution": {
     "iopub.execute_input": "2023-06-20T00:49:56.642414Z",
     "iopub.status.busy": "2023-06-20T00:49:56.642053Z",
     "iopub.status.idle": "2023-06-20T00:49:56.652608Z",
     "shell.execute_reply": "2023-06-20T00:49:56.651688Z"
    },
    "papermill": {
     "duration": 0.059293,
     "end_time": "2023-06-20T00:49:56.655021",
     "exception": false,
     "start_time": "2023-06-20T00:49:56.595728",
     "status": "completed"
    },
    "tags": []
   },
   "outputs": [
    {
     "data": {
      "text/plain": [
       "0.041068861543201766"
      ]
     },
     "execution_count": 108,
     "metadata": {},
     "output_type": "execute_result"
    }
   ],
   "source": [
    "pred = calc_new_pred(pred)\n",
    "balanced_log_loss(y, pred[:, 1])"
   ]
  },
  {
   "cell_type": "code",
   "execution_count": 114,
   "id": "aaa80144",
   "metadata": {
    "execution": {
     "iopub.execute_input": "2023-06-20T00:49:56.744318Z",
     "iopub.status.busy": "2023-06-20T00:49:56.743991Z",
     "iopub.status.idle": "2023-06-20T00:49:56.758608Z",
     "shell.execute_reply": "2023-06-20T00:49:56.757652Z"
    },
    "papermill": {
     "duration": 0.060442,
     "end_time": "2023-06-20T00:49:56.760728",
     "exception": false,
     "start_time": "2023-06-20T00:49:56.700286",
     "status": "completed"
    },
    "tags": []
   },
   "outputs": [
    {
     "data": {
      "text/plain": [
       "0.7761175964561097"
      ]
     },
     "execution_count": 114,
     "metadata": {},
     "output_type": "execute_result"
    }
   ],
   "source": [
    "y_preds = np.concatenate([(y_lgb + y_lgb2)/2,(y_xgb + y_xgb2)/2, (y_cb + y_cb2)/2, y_rf, y_nn,  \n",
    "                          (y_xxx + y_xxx)/2, (y_tab + y_tab2)/2], axis=1)\n",
    "pred2 = lgb_2.predict_proba(y_preds)\n",
    "balanced_log_loss(y, pred2[:, 1])"
   ]
  },
  {
   "cell_type": "code",
   "execution_count": 115,
   "id": "bc6e834d",
   "metadata": {
    "execution": {
     "iopub.execute_input": "2023-06-20T00:49:56.850458Z",
     "iopub.status.busy": "2023-06-20T00:49:56.850048Z",
     "iopub.status.idle": "2023-06-20T00:49:56.858562Z",
     "shell.execute_reply": "2023-06-20T00:49:56.857464Z"
    },
    "papermill": {
     "duration": 0.057009,
     "end_time": "2023-06-20T00:49:56.860945",
     "exception": false,
     "start_time": "2023-06-20T00:49:56.803936",
     "status": "completed"
    },
    "tags": []
   },
   "outputs": [
    {
     "data": {
      "text/plain": [
       "0.6974668492395428"
      ]
     },
     "execution_count": 115,
     "metadata": {},
     "output_type": "execute_result"
    }
   ],
   "source": [
    "pred2 = calc_new_pred(pred2)\n",
    "balanced_log_loss(y, pred2[:, 1])"
   ]
  },
  {
   "cell_type": "code",
   "execution_count": 116,
   "id": "7999a441",
   "metadata": {},
   "outputs": [],
   "source": [
    "# result = pd.DataFrame(y_lgb[:,1], columns=['lgb'])\n",
    "# result['lgb2'] = y_lgb2[:, 1]\n",
    "# result['xgb'] = y_xgb[:, 1]\n",
    "# result['xgb2'] = y_xgb2[:, 1]\n",
    "# result['cb'] = y_cb[:, 1]\n",
    "# result['cb2'] = y_cb2[:, 1]\n",
    "# result['rf'] = y_rf[:, 1]\n",
    "# result['nn'] = y_nn[:, 1]\n",
    "# result['knn'] = y_xxx[:, 1]\n",
    "# result['knn2'] = y_xxx2[:, 1]\n",
    "# result['tab'] = y_tab[:, 1]\n",
    "# result['tab2'] = y_tab2[:, 1]\n",
    "# sns.heatmap(result.corr(), vmax=1, vmin=0.9, center=0.95)\n",
    "# result.corr()"
   ]
  },
  {
   "cell_type": "code",
   "execution_count": 117,
   "id": "dc920ef6",
   "metadata": {},
   "outputs": [
    {
     "data": {
      "text/html": [
       "<div>\n",
       "<style scoped>\n",
       "    .dataframe tbody tr th:only-of-type {\n",
       "        vertical-align: middle;\n",
       "    }\n",
       "\n",
       "    .dataframe tbody tr th {\n",
       "        vertical-align: top;\n",
       "    }\n",
       "\n",
       "    .dataframe thead th {\n",
       "        text-align: right;\n",
       "    }\n",
       "</style>\n",
       "<table border=\"1\" class=\"dataframe\">\n",
       "  <thead>\n",
       "    <tr style=\"text-align: right;\">\n",
       "      <th></th>\n",
       "      <th>lgb</th>\n",
       "      <th>xgb</th>\n",
       "      <th>cb</th>\n",
       "      <th>rf</th>\n",
       "      <th>nn</th>\n",
       "      <th>knn</th>\n",
       "      <th>tab</th>\n",
       "    </tr>\n",
       "  </thead>\n",
       "  <tbody>\n",
       "    <tr>\n",
       "      <th>lgb</th>\n",
       "      <td>1.000000</td>\n",
       "      <td>0.979021</td>\n",
       "      <td>0.984106</td>\n",
       "      <td>0.939389</td>\n",
       "      <td>0.955816</td>\n",
       "      <td>0.920379</td>\n",
       "      <td>0.976583</td>\n",
       "    </tr>\n",
       "    <tr>\n",
       "      <th>xgb</th>\n",
       "      <td>0.979021</td>\n",
       "      <td>1.000000</td>\n",
       "      <td>0.994851</td>\n",
       "      <td>0.894280</td>\n",
       "      <td>0.953514</td>\n",
       "      <td>0.923129</td>\n",
       "      <td>0.991098</td>\n",
       "    </tr>\n",
       "    <tr>\n",
       "      <th>cb</th>\n",
       "      <td>0.984106</td>\n",
       "      <td>0.994851</td>\n",
       "      <td>1.000000</td>\n",
       "      <td>0.915717</td>\n",
       "      <td>0.959258</td>\n",
       "      <td>0.929392</td>\n",
       "      <td>0.989560</td>\n",
       "    </tr>\n",
       "    <tr>\n",
       "      <th>rf</th>\n",
       "      <td>0.939389</td>\n",
       "      <td>0.894280</td>\n",
       "      <td>0.915717</td>\n",
       "      <td>1.000000</td>\n",
       "      <td>0.902686</td>\n",
       "      <td>0.873275</td>\n",
       "      <td>0.898787</td>\n",
       "    </tr>\n",
       "    <tr>\n",
       "      <th>nn</th>\n",
       "      <td>0.955816</td>\n",
       "      <td>0.953514</td>\n",
       "      <td>0.959258</td>\n",
       "      <td>0.902686</td>\n",
       "      <td>1.000000</td>\n",
       "      <td>0.965623</td>\n",
       "      <td>0.968624</td>\n",
       "    </tr>\n",
       "    <tr>\n",
       "      <th>knn</th>\n",
       "      <td>0.920379</td>\n",
       "      <td>0.923129</td>\n",
       "      <td>0.929392</td>\n",
       "      <td>0.873275</td>\n",
       "      <td>0.965623</td>\n",
       "      <td>1.000000</td>\n",
       "      <td>0.943758</td>\n",
       "    </tr>\n",
       "    <tr>\n",
       "      <th>tab</th>\n",
       "      <td>0.976583</td>\n",
       "      <td>0.991098</td>\n",
       "      <td>0.989560</td>\n",
       "      <td>0.898787</td>\n",
       "      <td>0.968624</td>\n",
       "      <td>0.943758</td>\n",
       "      <td>1.000000</td>\n",
       "    </tr>\n",
       "  </tbody>\n",
       "</table>\n",
       "</div>"
      ],
      "text/plain": [
       "          lgb       xgb        cb        rf        nn       knn       tab\n",
       "lgb  1.000000  0.979021  0.984106  0.939389  0.955816  0.920379  0.976583\n",
       "xgb  0.979021  1.000000  0.994851  0.894280  0.953514  0.923129  0.991098\n",
       "cb   0.984106  0.994851  1.000000  0.915717  0.959258  0.929392  0.989560\n",
       "rf   0.939389  0.894280  0.915717  1.000000  0.902686  0.873275  0.898787\n",
       "nn   0.955816  0.953514  0.959258  0.902686  1.000000  0.965623  0.968624\n",
       "knn  0.920379  0.923129  0.929392  0.873275  0.965623  1.000000  0.943758\n",
       "tab  0.976583  0.991098  0.989560  0.898787  0.968624  0.943758  1.000000"
      ]
     },
     "execution_count": 117,
     "metadata": {},
     "output_type": "execute_result"
    },
    {
     "data": {
      "image/png": "[encoded data removed]",
      "text/plain": [
       "<Figure size 640x480 with 2 Axes>"
      ]
     },
     "metadata": {},
     "output_type": "display_data"
    }
   ],
   "source": [
    "result = pd.DataFrame((y_lgb[:,1]+y_lgb2[:, 1])/2, columns=['lgb'])\n",
    "result['xgb'] = (y_xgb[:, 1] + y_xgb2[:, 1])/2\n",
    "result['cb'] = (y_cb[:, 1] + y_cb2[:, 1])/2\n",
    "result['rf'] = y_rf[:, 1]\n",
    "result['nn'] = y_nn[:, 1]\n",
    "result['knn'] = (y_xxx[:, 1] + y_xxx2[:, 1])/2\n",
    "result['tab'] = (y_tab[:, 1] + y_tab2[:, 1])/2\n",
    "\n",
    "corr = result.corr()\n",
    "ma, mi = corr.max().max(), corr.min().min()\n",
    "sns.heatmap(corr, vmax=ma, vmin=mi, center=(mi+ma)/2)\n",
    "corr"
   ]
  },
  {
   "cell_type": "markdown",
   "id": "521d212d",
   "metadata": {
    "papermill": {
     "duration": 0.043066,
     "end_time": "2023-06-20T00:49:56.949291",
     "exception": false,
     "start_time": "2023-06-20T00:49:56.906225",
     "status": "completed"
    },
    "tags": []
   },
   "source": [
    "# infer"
   ]
  },
  {
   "cell_type": "code",
   "execution_count": 127,
   "id": "1ec45ffb",
   "metadata": {
    "execution": {
     "iopub.execute_input": "2023-06-20T00:49:57.039502Z",
     "iopub.status.busy": "2023-06-20T00:49:57.039129Z",
     "iopub.status.idle": "2023-06-20T00:49:58.721501Z",
     "shell.execute_reply": "2023-06-20T00:49:58.720365Z"
    },
    "papermill": {
     "duration": 1.730704,
     "end_time": "2023-06-20T00:49:58.723701",
     "exception": false,
     "start_time": "2023-06-20T00:49:56.992997",
     "status": "completed"
    },
    "tags": []
   },
   "outputs": [
    {
     "name": "stdout",
     "output_type": "stream",
     "text": [
      "[[0.34160243 0.65839757]\n",
      " [0.34160243 0.65839757]\n",
      " [0.34160243 0.65839757]\n",
      " [0.34160243 0.65839757]\n",
      " [0.34160243 0.65839757]]\n"
     ]
    },
    {
     "data": {
      "text/plain": [
       "array([[0., 1.],\n",
       "       [0., 1.],\n",
       "       [0., 1.],\n",
       "       [0., 1.],\n",
       "       [0., 1.]])"
      ]
     },
     "execution_count": 127,
     "metadata": {},
     "output_type": "execute_result"
    }
   ],
   "source": [
    "pred_lgb = lgb.predict_proba(df_test[lgb_selected])\n",
    "pred_xgb = xgb.predict_proba(df_test[lgb_selected])\n",
    "pred_cb = cb.predict_proba(df_test[lgb_selected])\n",
    "\n",
    "pred_lgb2 = lgb2.predict_proba(df_test)\n",
    "pred_xgb2 = xgb2.predict_proba(df_test)\n",
    "pred_cb2 = cb2.predict_proba(df_test)\n",
    "\n",
    "pred_rf = rf.predict_proba(df_test)\n",
    "\n",
    "XX = torch.Tensor(df_test[df_test.columns[:-1]].to_numpy()).to(device)\n",
    "pred_nn, pred_features = nn_predict_proba(XX, nn_single_model)\n",
    "pred_features = pred_features.detach().cpu().numpy()\n",
    "\n",
    "pred_xxx = knn.predict_proba(pred_features)\n",
    "pred_xxx = calc_new_pred(pred_xxx)\n",
    "pred_xxx2 = knn2.predict_proba(pred_features)\n",
    "pred_xxx2 = calc_new_pred(pred_xxx2)\n",
    "\n",
    "pred_tab = tab.predict_proba(df_test_noscale[lgb_selected])\n",
    "pred_tab = calc_new_pred(pred_tab)\n",
    "pred_tab2 = tab2.predict_proba(df_test_noscale)\n",
    "pred_tab2 = calc_new_pred(pred_tab2)\n",
    "\n",
    "pred_lgb = (pred_lgb + pred_lgb2)/2\n",
    "pred_xgb = (pred_xgb + pred_xgb2)/2\n",
    "pred_cb = (pred_cb + pred_cb2)/2\n",
    "pred_xxx = (pred_xxx+pred_xxx)/2\n",
    "pred_tab = (pred_tab + pred_tab2)/2\n",
    "\n",
    "pred = (\n",
    "    pred_lgb * a[0] + \n",
    "    pred_xgb * a[1] + \n",
    "    pred_cb  * a[2] + \n",
    "    pred_rf  * a[3] + \n",
    "    pred_nn  * a[4] + \n",
    "    pred_xxx * a[5] + \n",
    "    pred_tab * a[6] ) /sum(a)\n",
    "\n",
    "\n",
    "print(pred)\n",
    "\n",
    "# preds = np.concatenate([pred_lgb,pred_xgb, pred_cb,\n",
    "#                         pred_rf, pred_nn, pred_xxx, pred_tab], axis=1)\n",
    "# pred = lgb_2.predict_proba(preds)\n",
    "\n",
    "# if use_new_pred:\n",
    "#     pred = calc_new_pred(pred)\n",
    "    \n",
    "p0 = pred[:, 0]\n",
    "p0 = sigmoid((p0-0.5)*5.4)\n",
    "p0 = (p0 - min(p0))/(max(p0)-min(p0)+1e-15)\n",
    "\n",
    "p0[p0 > 0.99] = 1\n",
    "p0[p0 < 0.01] = 0\n",
    "\n",
    "pred[:,1] = 1-p0\n",
    "pred[:,0] = p0\n",
    "\n",
    "if use_new_pred:\n",
    "    pred = calc_new_pred(pred)\n",
    "\n",
    "pred"
   ]
  },
  {
   "cell_type": "code",
   "execution_count": 119,
   "id": "c37bab9b",
   "metadata": {
    "execution": {
     "iopub.execute_input": "2023-06-20T00:49:58.816094Z",
     "iopub.status.busy": "2023-06-20T00:49:58.815752Z",
     "iopub.status.idle": "2023-06-20T00:49:58.828292Z",
     "shell.execute_reply": "2023-06-20T00:49:58.827403Z"
    },
    "papermill": {
     "duration": 0.059496,
     "end_time": "2023-06-20T00:49:58.830514",
     "exception": false,
     "start_time": "2023-06-20T00:49:58.771018",
     "status": "completed"
    },
    "tags": []
   },
   "outputs": [],
   "source": [
    "submission = pd.read_csv('../input/icr-identify-age-related-conditions/sample_submission.csv')\n",
    "submission['class_0'] = pred[:,0]\n",
    "submission['class_1'] = pred[:,1]"
   ]
  },
  {
   "cell_type": "code",
   "execution_count": 120,
   "id": "98efb05d",
   "metadata": {
    "execution": {
     "iopub.execute_input": "2023-06-20T00:49:58.920360Z",
     "iopub.status.busy": "2023-06-20T00:49:58.919504Z",
     "iopub.status.idle": "2023-06-20T00:49:58.934177Z",
     "shell.execute_reply": "2023-06-20T00:49:58.933170Z"
    },
    "papermill": {
     "duration": 0.062464,
     "end_time": "2023-06-20T00:49:58.936536",
     "exception": false,
     "start_time": "2023-06-20T00:49:58.874072",
     "status": "completed"
    },
    "tags": []
   },
   "outputs": [
    {
     "data": {
      "text/html": [
       "<div>\n",
       "<style scoped>\n",
       "    .dataframe tbody tr th:only-of-type {\n",
       "        vertical-align: middle;\n",
       "    }\n",
       "\n",
       "    .dataframe tbody tr th {\n",
       "        vertical-align: top;\n",
       "    }\n",
       "\n",
       "    .dataframe thead th {\n",
       "        text-align: right;\n",
       "    }\n",
       "</style>\n",
       "<table border=\"1\" class=\"dataframe\">\n",
       "  <thead>\n",
       "    <tr style=\"text-align: right;\">\n",
       "      <th></th>\n",
       "      <th>Id</th>\n",
       "      <th>class_0</th>\n",
       "      <th>class_1</th>\n",
       "    </tr>\n",
       "  </thead>\n",
       "  <tbody>\n",
       "    <tr>\n",
       "      <th>0</th>\n",
       "      <td>00eed32682bb</td>\n",
       "      <td>0.0</td>\n",
       "      <td>1.0</td>\n",
       "    </tr>\n",
       "    <tr>\n",
       "      <th>1</th>\n",
       "      <td>010ebe33f668</td>\n",
       "      <td>0.0</td>\n",
       "      <td>1.0</td>\n",
       "    </tr>\n",
       "    <tr>\n",
       "      <th>2</th>\n",
       "      <td>02fa521e1838</td>\n",
       "      <td>0.0</td>\n",
       "      <td>1.0</td>\n",
       "    </tr>\n",
       "    <tr>\n",
       "      <th>3</th>\n",
       "      <td>040e15f562a2</td>\n",
       "      <td>0.0</td>\n",
       "      <td>1.0</td>\n",
       "    </tr>\n",
       "    <tr>\n",
       "      <th>4</th>\n",
       "      <td>046e85c7cc7f</td>\n",
       "      <td>0.0</td>\n",
       "      <td>1.0</td>\n",
       "    </tr>\n",
       "  </tbody>\n",
       "</table>\n",
       "</div>"
      ],
      "text/plain": [
       "             Id  class_0  class_1\n",
       "0  00eed32682bb      0.0      1.0\n",
       "1  010ebe33f668      0.0      1.0\n",
       "2  02fa521e1838      0.0      1.0\n",
       "3  040e15f562a2      0.0      1.0\n",
       "4  046e85c7cc7f      0.0      1.0"
      ]
     },
     "execution_count": 120,
     "metadata": {},
     "output_type": "execute_result"
    }
   ],
   "source": [
    "submission.to_csv('submission.csv', index=False)\n",
    "submission"
   ]
  },
  {
   "cell_type": "code",
   "execution_count": null,
   "id": "ff5d0ce3",
   "metadata": {
    "papermill": {
     "duration": 0.044549,
     "end_time": "2023-06-20T00:49:59.027625",
     "exception": false,
     "start_time": "2023-06-20T00:49:58.983076",
     "status": "completed"
    },
    "tags": []
   },
   "outputs": [],
   "source": []
  },
  {
   "cell_type": "markdown",
   "id": "571e35d5",
   "metadata": {
    "papermill": {
     "duration": 0.043324,
     "end_time": "2023-06-20T00:49:59.114599",
     "exception": false,
     "start_time": "2023-06-20T00:49:59.071275",
     "status": "completed"
    },
    "tags": []
   },
   "source": [
    "### 間違った場合のペナルティをチェック"
   ]
  },
  {
   "cell_type": "code",
   "execution_count": 485,
   "id": "f2737cb4",
   "metadata": {},
   "outputs": [],
   "source": [
    "# from sklearn.metrics import log_loss\n",
    "# def balanced_log_loss(y_true, y_pred):\n",
    "#     nc = np.bincount(y_true)\n",
    "#     return log_loss(y_true, y_pred, sample_weight = 1/nc[y_true], eps=1e-15)"
   ]
  },
  {
   "cell_type": "code",
   "execution_count": 263,
   "id": "04f5e23a",
   "metadata": {},
   "outputs": [
    {
     "name": "stdout",
     "output_type": "stream",
     "text": [
      "26 130\n",
      "17.402232720502806\n"
     ]
    }
   ],
   "source": [
    "one =   26\n",
    "zero =  130\n",
    "print(one, zero)\n",
    "y = np.array([1 for _ in range(one)] + [0 for _ in range(zero)])\n",
    "x = np.array([0 for _ in range(one+zero)])\n",
    "x[-1] = 1\n",
    "print(balanced_log_loss(y, x))"
   ]
  },
  {
   "cell_type": "code",
   "execution_count": 264,
   "id": "3dbe17a8",
   "metadata": {
    "execution": {
     "iopub.execute_input": "2023-06-20T00:49:59.204089Z",
     "iopub.status.busy": "2023-06-20T00:49:59.203172Z",
     "iopub.status.idle": "2023-06-20T00:49:59.208293Z",
     "shell.execute_reply": "2023-06-20T00:49:59.207462Z"
    },
    "papermill": {
     "duration": 0.051913,
     "end_time": "2023-06-20T00:49:59.210333",
     "exception": false,
     "start_time": "2023-06-20T00:49:59.158420",
     "status": "completed"
    },
    "scrolled": false,
    "tags": []
   },
   "outputs": [
    {
     "name": "stdout",
     "output_type": "stream",
     "text": [
      "26 130\n",
      "156:0 --> 17.269388197455342\n",
      "155:1 --> 16.605180959091676\n",
      "154:2 --> 15.940973720728008\n",
      "153:3 --> 15.27676648236434\n",
      "152:4 --> 14.612559244000675\n",
      "151:5 --> 13.948352005637007\n",
      "150:6 --> 13.28414476727334\n",
      "149:7 --> 12.619937528909674\n",
      "148:8 --> 11.955730290546006\n",
      "147:9 --> 11.291523052182338\n",
      "146:10 --> 10.627315813818672\n",
      "145:11 --> 9.963108575455006\n",
      "144:12 --> 9.298901337091339\n",
      "143:13 --> 8.634694098727671\n",
      "142:14 --> 7.970486860364004\n",
      "141:15 --> 7.306279622000337\n",
      "140:16 --> 6.64207238363667\n",
      "139:17 --> 5.977865145273004\n",
      "138:18 --> 5.313657906909336\n",
      "137:19 --> 4.649450668545669\n",
      "136:20 --> 3.985243430182003\n",
      "135:21 --> 3.321036191818336\n",
      "134:22 --> 2.6568289534546694\n",
      "133:23 --> 1.992621715091002\n",
      "132:24 --> 1.328414476727335\n",
      "131:25 --> 0.664207238363668\n",
      "130:26 --> 9.992007221626413e-16\n",
      "129:27 --> 0.1328445230474659\n",
      "128:28 --> 0.26568904609493077\n",
      "127:29 --> 0.3985335691423957\n",
      "126:30 --> 0.5313780921898605\n",
      "125:31 --> 0.6642226152373255\n",
      "124:32 --> 0.7970671382847904\n",
      "123:33 --> 0.9299116613322552\n",
      "122:34 --> 1.06275618437972\n",
      "121:35 --> 1.1956007074271848\n",
      "120:36 --> 1.32844523047465\n",
      "119:37 --> 1.4612897535221148\n",
      "118:38 --> 1.5941342765695798\n",
      "117:39 --> 1.7269787996170447\n",
      "116:40 --> 1.8598233226645096\n",
      "115:41 --> 1.9926678457119744\n",
      "114:42 --> 2.12551236875944\n",
      "113:43 --> 2.2583568918069044\n",
      "112:44 --> 2.3912014148543697\n",
      "111:45 --> 2.5240459379018345\n",
      "110:46 --> 2.6568904609492994\n",
      "109:47 --> 2.7897349839967642\n",
      "108:48 --> 2.922579507044229\n",
      "107:49 --> 3.055424030091694\n",
      "106:50 --> 3.188268553139159\n",
      "105:51 --> 3.3211130761866237\n",
      "104:52 --> 3.4539575992340885\n",
      "103:53 --> 3.5868021222815534\n",
      "102:54 --> 3.7196466453290182\n",
      "101:55 --> 3.852491168376483\n",
      "100:56 --> 3.985335691423948\n",
      "99:57 --> 4.118180214471413\n",
      "98:58 --> 4.251024737518877\n",
      "97:59 --> 4.3838692605663425\n",
      "96:60 --> 4.516713783613807\n",
      "95:61 --> 4.649558306661271\n",
      "94:62 --> 4.782402829708737\n",
      "93:63 --> 4.915247352756202\n",
      "92:64 --> 5.048091875803666\n",
      "91:65 --> 5.180936398851132\n",
      "90:66 --> 5.313780921898596\n",
      "89:67 --> 5.446625444946061\n",
      "88:68 --> 5.579469967993527\n",
      "87:69 --> 5.712314491040991\n",
      "86:70 --> 5.8451590140884555\n",
      "85:71 --> 5.978003537135921\n",
      "84:72 --> 6.110848060183386\n",
      "83:73 --> 6.243692583230851\n",
      "82:74 --> 6.376537106278316\n",
      "81:75 --> 6.509381629325781\n",
      "80:76 --> 6.6422261523732455\n",
      "79:77 --> 6.775070675420711\n",
      "78:78 --> 6.907915198468176\n",
      "77:79 --> 7.040759721515641\n",
      "76:80 --> 7.173604244563105\n",
      "75:81 --> 7.30644876761057\n",
      "74:82 --> 7.439293290658036\n",
      "73:83 --> 7.5721378137055\n",
      "72:84 --> 7.704982336752965\n",
      "71:85 --> 7.83782685980043\n",
      "70:86 --> 7.970671382847895\n",
      "69:87 --> 8.10351590589536\n",
      "68:88 --> 8.236360428942824\n",
      "67:89 --> 8.36920495199029\n",
      "66:90 --> 8.502049475037754\n",
      "65:91 --> 8.63489399808522\n",
      "64:92 --> 8.767738521132685\n",
      "63:93 --> 8.900583044180149\n",
      "62:94 --> 9.033427567227614\n",
      "61:95 --> 9.16627209027508\n",
      "60:96 --> 9.299116613322544\n",
      "59:97 --> 9.43196113637001\n",
      "58:98 --> 9.564805659417473\n",
      "57:99 --> 9.697650182464939\n",
      "56:100 --> 9.830494705512404\n",
      "55:101 --> 9.96333922855987\n",
      "54:102 --> 10.096183751607335\n",
      "53:103 --> 10.229028274654798\n",
      "52:104 --> 10.361872797702263\n",
      "51:105 --> 10.494717320749729\n",
      "50:106 --> 10.627561843797192\n",
      "49:107 --> 10.760406366844657\n",
      "48:108 --> 10.893250889892123\n",
      "47:109 --> 11.026095412939588\n",
      "46:110 --> 11.158939935987053\n",
      "45:111 --> 11.291784459034517\n",
      "44:112 --> 11.424628982081982\n",
      "43:113 --> 11.557473505129447\n",
      "42:114 --> 11.690318028176911\n",
      "41:115 --> 11.823162551224376\n",
      "40:116 --> 11.956007074271842\n",
      "39:117 --> 12.088851597319307\n",
      "38:118 --> 12.221696120366772\n",
      "37:119 --> 12.354540643414236\n",
      "36:120 --> 12.487385166461701\n",
      "35:121 --> 12.620229689509166\n",
      "34:122 --> 12.75307421255663\n",
      "33:123 --> 12.885918735604095\n",
      "32:124 --> 13.01876325865156\n",
      "31:125 --> 13.151607781699026\n",
      "30:126 --> 13.284452304746491\n",
      "29:127 --> 13.417296827793955\n",
      "28:128 --> 13.55014135084142\n",
      "27:129 --> 13.682985873888885\n",
      "26:130 --> 13.815830396936349\n",
      "25:131 --> 13.948674919983816\n",
      "24:132 --> 14.08151944303128\n",
      "23:133 --> 14.214363966078745\n",
      "22:134 --> 14.34720848912621\n",
      "21:135 --> 14.480053012173673\n",
      "20:136 --> 14.612897535221139\n",
      "19:137 --> 14.745742058268604\n",
      "18:138 --> 14.878586581316068\n",
      "17:139 --> 15.011431104363535\n",
      "16:140 --> 15.144275627410998\n",
      "15:141 --> 15.277120150458462\n",
      "14:142 --> 15.409964673505929\n",
      "13:143 --> 15.542809196553392\n",
      "12:144 --> 15.675653719600858\n",
      "11:145 --> 15.808498242648323\n",
      "10:146 --> 15.941342765695786\n",
      "9:147 --> 16.074187288743254\n",
      "8:148 --> 16.207031811790717\n",
      "7:149 --> 16.33987633483818\n",
      "6:150 --> 16.472720857885648\n",
      "5:151 --> 16.60556538093311\n",
      "4:152 --> 16.738409903980575\n",
      "3:153 --> 16.871254427028042\n",
      "2:154 --> 17.00409895007551\n",
      "1:155 --> 17.136943473122972\n",
      "0:156 --> 17.269787996170436\n"
     ]
    }
   ],
   "source": [
    "# one = sum(train_df.Class == 1)\n",
    "# zero = sum(train_df.Class == 0)\n",
    "# print(one, zero, one/(one+zero))\n",
    "one = 26#int(1000*one/(one+zero))\n",
    "zero = 130\n",
    "print(one, zero)\n",
    "y = np.array([1 for _ in range(one)] + [0 for _ in range(zero)])\n",
    "for i in range(one+zero+1):\n",
    "    x = np.array([1 for _ in range(i)] + [0 for _ in range(one+zero-i)])\n",
    "    print(f\"{one+zero-i}:{i} -->\",  balanced_log_loss(y, x))"
   ]
  },
  {
   "cell_type": "code",
   "execution_count": null,
   "id": "26c48134",
   "metadata": {
    "execution": {
     "iopub.execute_input": "2023-06-20T00:49:59.302449Z",
     "iopub.status.busy": "2023-06-20T00:49:59.301584Z",
     "iopub.status.idle": "2023-06-20T00:49:59.306376Z",
     "shell.execute_reply": "2023-06-20T00:49:59.305550Z"
    },
    "papermill": {
     "duration": 0.054342,
     "end_time": "2023-06-20T00:49:59.308325",
     "exception": false,
     "start_time": "2023-06-20T00:49:59.253983",
     "status": "completed"
    },
    "tags": []
   },
   "outputs": [],
   "source": [
    "# one = sum(train_df.Class == 1)\n",
    "# zero = sum(train_df.Class == 0)\n",
    "# y = np.array([1 for _ in range(one)] + [0 for _ in range(zero)])\n",
    "# for i in range(zero):\n",
    "#     x = np.array([1 for _ in range(one+i)] + [0 for _ in range(zero-i)])\n",
    "#     print(round(sum(x==0)/zero, 3), \"-->\",  balanced_log_loss(y, x))"
   ]
  },
  {
   "cell_type": "code",
   "execution_count": 329,
   "id": "310a484f",
   "metadata": {
    "papermill": {
     "duration": 0.044412,
     "end_time": "2023-06-20T00:49:59.397369",
     "exception": false,
     "start_time": "2023-06-20T00:49:59.352957",
     "status": "completed"
    },
    "tags": []
   },
   "outputs": [
    {
     "name": "stdout",
     "output_type": "stream",
     "text": [
      "0.00553234754715061\n"
     ]
    }
   ],
   "source": [
    "# x = np.array([1.0 for _ in range(one)] + [0.0 for _ in range(zero)])\n",
    "# x[0] = 0.75#zero/(one+zero)\n",
    "# y = np.array([1 for _ in range(one)] + [0 for _ in range(zero)])\n",
    "# print(balanced_log_loss(y, x))"
   ]
  },
  {
   "cell_type": "code",
   "execution_count": null,
   "id": "0035e155",
   "metadata": {},
   "outputs": [],
   "source": []
  },
  {
   "cell_type": "code",
   "execution_count": null,
   "id": "4bcc0a97",
   "metadata": {},
   "outputs": [],
   "source": []
  }
 ],
 "metadata": {
  "kernelspec": {
   "display_name": "Python 3 (ipykernel)",
   "language": "python",
   "name": "python3"
  },
  "language_info": {
   "codemirror_mode": {
    "name": "ipython",
    "version": 3
   },
   "file_extension": ".py",
   "mimetype": "text/x-python",
   "name": "python",
   "nbconvert_exporter": "python",
   "pygments_lexer": "ipython3",
   "version": "3.8.10"
  },
  "papermill": {
   "default_parameters": {},
   "duration": 194.8842,
   "end_time": "2023-06-20T00:50:01.370371",
   "environment_variables": {},
   "exception": null,
   "input_path": "__notebook__.ipynb",
   "output_path": "__notebook__.ipynb",
   "parameters": {},
   "start_time": "2023-06-20T00:46:46.486171",
   "version": "2.4.0"
  }
 },
 "nbformat": 4,
 "nbformat_minor": 5
}
