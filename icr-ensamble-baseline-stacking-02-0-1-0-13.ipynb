{
 "cells": [
  {
   "cell_type": "code",
   "execution_count": 1,
   "id": "c4f41127",
   "metadata": {
    "_cell_guid": "31f75959-9343-421a-84e0-f556ff86f2da",
    "_uuid": "87bf43e7-b608-4e1f-a245-29d8ed317ed3",
    "execution": {
     "iopub.execute_input": "2023-08-08T14:10:14.888737Z",
     "iopub.status.busy": "2023-08-08T14:10:14.887950Z",
     "iopub.status.idle": "2023-08-08T14:10:32.611658Z",
     "shell.execute_reply": "2023-08-08T14:10:32.610325Z"
    },
    "jupyter": {
     "outputs_hidden": false
    },
    "papermill": {
     "duration": 17.783076,
     "end_time": "2023-08-08T14:10:32.614239",
     "exception": false,
     "start_time": "2023-08-08T14:10:14.831163",
     "status": "completed"
    },
    "tags": []
   },
   "outputs": [],
   "source": [
    "# !pip install tabpfn --no-index --find-links=file:///kaggle/input/pip-packages-icr/pip-packages\n",
    "# !mkdir -p /opt/conda/lib/python3.10/site-packages/tabpfn/models_diff\n",
    "# !cp /kaggle/input/pip-packages-icr/pip-packages/prior_diff_real_checkpoint_n_0_epoch_100.cpkt /opt/conda/lib/python3.10/site-packages/tabpfn/models_diff/"
   ]
  },
  {
   "cell_type": "code",
   "execution_count": 2,
   "id": "e8cb5946",
   "metadata": {},
   "outputs": [
    {
     "data": {
      "text/html": [
       "<style>\n",
       "    div#notebook-container    { width: 95%; }\n",
       "    div#menubar-container     { width: 95%; }\n",
       "    div#maintoolbar-container { width: 99%; }\n",
       "</style>\n"
      ],
      "text/plain": [
       "<IPython.core.display.HTML object>"
      ]
     },
     "metadata": {},
     "output_type": "display_data"
    }
   ],
   "source": [
    "%%HTML\n",
    "<style>\n",
    "    div#notebook-container    { width: 95%; }\n",
    "    div#menubar-container     { width: 95%; }\n",
    "    div#maintoolbar-container { width: 99%; }\n",
    "</style>"
   ]
  },
  {
   "cell_type": "code",
   "execution_count": 181,
   "id": "fb6b8e4f",
   "metadata": {
    "_cell_guid": "e2f97e78-3a3f-4f86-b66e-245866e0a5c1",
    "_uuid": "56019221-d72b-477c-8f96-29096b775619",
    "execution": {
     "iopub.execute_input": "2023-08-08T14:10:32.726770Z",
     "iopub.status.busy": "2023-08-08T14:10:32.725805Z",
     "iopub.status.idle": "2023-08-08T14:10:32.731573Z",
     "shell.execute_reply": "2023-08-08T14:10:32.730648Z"
    },
    "jupyter": {
     "outputs_hidden": false
    },
    "papermill": {
     "duration": 0.063355,
     "end_time": "2023-08-08T14:10:32.733699",
     "exception": false,
     "start_time": "2023-08-08T14:10:32.670344",
     "status": "completed"
    },
    "tags": []
   },
   "outputs": [],
   "source": [
    "# import numpy as np\n",
    "# import pandas as pd\n",
    "# from sklearn.preprocessing import LabelEncoder,normalize\n",
    "# from sklearn.ensemble import GradientBoostingClassifier,RandomForestClassifier\n",
    "# from sklearn.metrics import accuracy_score\n",
    "# from sklearn.impute import SimpleImputer\n",
    "# import imblearn\n",
    "# from imblearn.over_sampling import RandomOverSampler\n",
    "# from imblearn.under_sampling import RandomUnderSampler\n",
    "# import xgboost\n",
    "# import inspect\n",
    "# from collections import defaultdict\n",
    "# from tabpfn import TabPFNClassifier\n",
    "# import warnings\n",
    "# warnings.filterwarnings('ignore')"
   ]
  },
  {
   "cell_type": "code",
   "execution_count": 182,
   "id": "07479c05",
   "metadata": {
    "_cell_guid": "50f4fd74-65b8-4f8e-8c39-93b2a9f3f7fc",
    "_uuid": "d6142814-d94d-4973-8356-c442f87ee181",
    "execution": {
     "iopub.execute_input": "2023-08-08T14:10:32.842286Z",
     "iopub.status.busy": "2023-08-08T14:10:32.841595Z",
     "iopub.status.idle": "2023-08-08T14:10:32.845745Z",
     "shell.execute_reply": "2023-08-08T14:10:32.844853Z"
    },
    "jupyter": {
     "outputs_hidden": false
    },
    "papermill": {
     "duration": 0.06117,
     "end_time": "2023-08-08T14:10:32.847776",
     "exception": false,
     "start_time": "2023-08-08T14:10:32.786606",
     "status": "completed"
    },
    "tags": []
   },
   "outputs": [],
   "source": [
    "# train = pd.read_csv('/kaggle/input/icr-identify-age-related-conditions/train.csv')\n",
    "# test = pd.read_csv('/kaggle/input/icr-identify-age-related-conditions/test.csv')\n",
    "# sample = pd.read_csv('/kaggle/input/icr-identify-age-related-conditions/sample_submission.csv')\n",
    "# greeks = pd.read_csv('/kaggle/input/icr-identify-age-related-conditions/greeks.csv')"
   ]
  },
  {
   "cell_type": "code",
   "execution_count": 183,
   "id": "950bccff",
   "metadata": {
    "_cell_guid": "a33e68fd-a4ef-43bd-a70b-adc349b03110",
    "_uuid": "bd9bfe17-d7af-4e51-ba34-28c7ed65b1f3",
    "execution": {
     "iopub.execute_input": "2023-08-08T14:10:32.958361Z",
     "iopub.status.busy": "2023-08-08T14:10:32.957500Z",
     "iopub.status.idle": "2023-08-08T14:10:32.962167Z",
     "shell.execute_reply": "2023-08-08T14:10:32.961243Z"
    },
    "jupyter": {
     "outputs_hidden": false
    },
    "papermill": {
     "duration": 0.061919,
     "end_time": "2023-08-08T14:10:32.964204",
     "exception": false,
     "start_time": "2023-08-08T14:10:32.902285",
     "status": "completed"
    },
    "tags": []
   },
   "outputs": [],
   "source": [
    "# first_category = train.EJ.unique()[0]\n",
    "# train.EJ = train.EJ.eq(first_category).astype('int')\n",
    "# test.EJ = test.EJ.eq(first_category).astype('int')"
   ]
  },
  {
   "cell_type": "code",
   "execution_count": 184,
   "id": "ea93f421",
   "metadata": {
    "_cell_guid": "fbc95b25-3b01-40b2-b8d3-ca9dc0c9c959",
    "_uuid": "800de2ee-ea93-4014-bd92-e1ca9a8a51dc",
    "execution": {
     "iopub.execute_input": "2023-08-08T14:10:33.085137Z",
     "iopub.status.busy": "2023-08-08T14:10:33.084274Z",
     "iopub.status.idle": "2023-08-08T14:10:33.089093Z",
     "shell.execute_reply": "2023-08-08T14:10:33.088109Z"
    },
    "jupyter": {
     "outputs_hidden": false
    },
    "papermill": {
     "duration": 0.062714,
     "end_time": "2023-08-08T14:10:33.091349",
     "exception": false,
     "start_time": "2023-08-08T14:10:33.028635",
     "status": "completed"
    },
    "tags": []
   },
   "outputs": [],
   "source": [
    "# train.EJ"
   ]
  },
  {
   "cell_type": "code",
   "execution_count": 185,
   "id": "63933c96",
   "metadata": {
    "_cell_guid": "3fcb822d-bad6-4070-b3ff-e9e99f5f8d4d",
    "_uuid": "e5dcdb9e-87fd-4162-a058-fbdbd7f9a283",
    "execution": {
     "iopub.execute_input": "2023-08-08T14:10:33.205398Z",
     "iopub.status.busy": "2023-08-08T14:10:33.205066Z",
     "iopub.status.idle": "2023-08-08T14:10:33.209704Z",
     "shell.execute_reply": "2023-08-08T14:10:33.208585Z"
    },
    "jupyter": {
     "outputs_hidden": false
    },
    "papermill": {
     "duration": 0.066277,
     "end_time": "2023-08-08T14:10:33.212048",
     "exception": false,
     "start_time": "2023-08-08T14:10:33.145771",
     "status": "completed"
    },
    "tags": []
   },
   "outputs": [],
   "source": [
    "# def random_under_sampler(df):\n",
    "#     # Calculate the number of samples for each label. \n",
    "#     neg, pos = np.bincount(df['Class'])\n",
    "\n",
    "#     # Choose the samples with class label `1`.\n",
    "#     one_df = df.loc[df['Class'] == 1] \n",
    "#     # Choose the samples with class label `0`.\n",
    "#     zero_df = df.loc[df['Class'] == 0]\n",
    "#     # Select `pos` number of negative samples.\n",
    "#     # This makes sure that we have equal number of samples for each label.\n",
    "#     zero_df = zero_df.sample(n=pos)\n",
    "\n",
    "#     # Join both label dataframes.\n",
    "#     undersampled_df = pd.concat([zero_df, one_df])\n",
    "\n",
    "#     # Shuffle the data and return\n",
    "#     return undersampled_df.sample(frac = 1)"
   ]
  },
  {
   "cell_type": "code",
   "execution_count": 186,
   "id": "9d5ea95e",
   "metadata": {
    "_cell_guid": "ce877cb4-2853-4b35-bcfc-a0e8cc1b51f8",
    "_uuid": "f4d6e2f3-d2d2-4253-9b7b-b84151a7cac6",
    "execution": {
     "iopub.execute_input": "2023-08-08T14:10:33.366359Z",
     "iopub.status.busy": "2023-08-08T14:10:33.365943Z",
     "iopub.status.idle": "2023-08-08T14:10:33.370616Z",
     "shell.execute_reply": "2023-08-08T14:10:33.369717Z"
    },
    "jupyter": {
     "outputs_hidden": false
    },
    "papermill": {
     "duration": 0.106131,
     "end_time": "2023-08-08T14:10:33.373461",
     "exception": false,
     "start_time": "2023-08-08T14:10:33.267330",
     "status": "completed"
    },
    "tags": []
   },
   "outputs": [],
   "source": [
    "# train_good = random_under_sampler(train)"
   ]
  },
  {
   "cell_type": "code",
   "execution_count": 187,
   "id": "ce22da57",
   "metadata": {
    "_cell_guid": "cff875c0-c01f-435d-b81b-7929cf4082ca",
    "_uuid": "90bc0df9-4d7b-4461-80cd-5e35debd7a93",
    "execution": {
     "iopub.execute_input": "2023-08-08T14:10:33.482641Z",
     "iopub.status.busy": "2023-08-08T14:10:33.481877Z",
     "iopub.status.idle": "2023-08-08T14:10:33.486599Z",
     "shell.execute_reply": "2023-08-08T14:10:33.485663Z"
    },
    "jupyter": {
     "outputs_hidden": false
    },
    "papermill": {
     "duration": 0.061042,
     "end_time": "2023-08-08T14:10:33.488855",
     "exception": false,
     "start_time": "2023-08-08T14:10:33.427813",
     "status": "completed"
    },
    "tags": []
   },
   "outputs": [],
   "source": [
    "# train_good.shape"
   ]
  },
  {
   "cell_type": "code",
   "execution_count": 188,
   "id": "4c48ba11",
   "metadata": {
    "_cell_guid": "1a7b3c85-456e-4d77-a288-5b873e932666",
    "_uuid": "b47ae776-d033-4eb8-8b95-9763c7414d38",
    "execution": {
     "iopub.execute_input": "2023-08-08T14:10:33.601581Z",
     "iopub.status.busy": "2023-08-08T14:10:33.601087Z",
     "iopub.status.idle": "2023-08-08T14:10:33.605750Z",
     "shell.execute_reply": "2023-08-08T14:10:33.604869Z"
    },
    "jupyter": {
     "outputs_hidden": false
    },
    "papermill": {
     "duration": 0.063984,
     "end_time": "2023-08-08T14:10:33.608047",
     "exception": false,
     "start_time": "2023-08-08T14:10:33.544063",
     "status": "completed"
    },
    "tags": []
   },
   "outputs": [],
   "source": [
    "# sum(train_good.Class == 1)"
   ]
  },
  {
   "cell_type": "code",
   "execution_count": 189,
   "id": "fbd12960",
   "metadata": {
    "_cell_guid": "72440601-3609-420f-91a2-e911b28d33cd",
    "_uuid": "770b69de-0afd-4b53-acc2-33914e28f1c5",
    "execution": {
     "iopub.execute_input": "2023-08-08T14:10:33.720950Z",
     "iopub.status.busy": "2023-08-08T14:10:33.720657Z",
     "iopub.status.idle": "2023-08-08T14:10:33.724655Z",
     "shell.execute_reply": "2023-08-08T14:10:33.723771Z"
    },
    "jupyter": {
     "outputs_hidden": false
    },
    "papermill": {
     "duration": 0.063442,
     "end_time": "2023-08-08T14:10:33.726545",
     "exception": false,
     "start_time": "2023-08-08T14:10:33.663103",
     "status": "completed"
    },
    "tags": []
   },
   "outputs": [],
   "source": [
    "# predictor_columns = [n for n in train.columns if n != 'Class' and n != 'Id']\n",
    "# x= train[predictor_columns]\n",
    "# y = train['Class']"
   ]
  },
  {
   "cell_type": "code",
   "execution_count": 190,
   "id": "90e463b8",
   "metadata": {
    "_cell_guid": "8ad4415c-8111-4319-b99c-2ee0a07b47b5",
    "_uuid": "0d9e0680-6962-47aa-85d4-d390d9f9fec0",
    "execution": {
     "iopub.execute_input": "2023-08-08T14:10:33.838764Z",
     "iopub.status.busy": "2023-08-08T14:10:33.838407Z",
     "iopub.status.idle": "2023-08-08T14:10:33.842734Z",
     "shell.execute_reply": "2023-08-08T14:10:33.841754Z"
    },
    "jupyter": {
     "outputs_hidden": false
    },
    "papermill": {
     "duration": 0.061028,
     "end_time": "2023-08-08T14:10:33.844756",
     "exception": false,
     "start_time": "2023-08-08T14:10:33.783728",
     "status": "completed"
    },
    "tags": []
   },
   "outputs": [],
   "source": [
    "# from sklearn.model_selection import KFold as KF, GridSearchCV\n",
    "# cv_outer = KF(n_splits = 10, shuffle=True, random_state=42)\n",
    "# cv_inner = KF(n_splits = 5, shuffle=True, random_state=42)"
   ]
  },
  {
   "cell_type": "code",
   "execution_count": 191,
   "id": "51c916c9",
   "metadata": {
    "_cell_guid": "07412d01-f80c-413c-9d29-daeec8a94fbd",
    "_uuid": "4d9e537a-4eb8-4a92-8dd2-505a85e3698c",
    "execution": {
     "iopub.execute_input": "2023-08-08T14:10:33.956460Z",
     "iopub.status.busy": "2023-08-08T14:10:33.956174Z",
     "iopub.status.idle": "2023-08-08T14:10:33.961045Z",
     "shell.execute_reply": "2023-08-08T14:10:33.960035Z"
    },
    "jupyter": {
     "outputs_hidden": false
    },
    "papermill": {
     "duration": 0.063986,
     "end_time": "2023-08-08T14:10:33.963079",
     "exception": false,
     "start_time": "2023-08-08T14:10:33.899093",
     "status": "completed"
    },
    "tags": []
   },
   "outputs": [],
   "source": [
    "# def balanced_log_loss(y_true, y_pred):\n",
    "#     # y_true: correct labels 0, 1\n",
    "#     # y_pred: predicted probabilities of class=1\n",
    "#     # calculate the number of observations for each class\n",
    "#     N_0 = np.sum(1 - y_true)\n",
    "#     N_1 = np.sum(y_true)\n",
    "#     # calculate the weights for each class to balance classes\n",
    "#     w_0 = 1 / N_0\n",
    "#     w_1 = 1 / N_1\n",
    "#     # calculate the predicted probabilities for each class\n",
    "#     p_1 = np.clip(y_pred, 1e-15, 1 - 1e-15)\n",
    "#     p_0 = 1 - p_1\n",
    "#     # calculate the summed log loss for each class\n",
    "#     log_loss_0 = -np.sum((1 - y_true) * np.log(p_0))\n",
    "#     log_loss_1 = -np.sum(y_true * np.log(p_1))\n",
    "#     # calculate the weighted summed logarithmic loss\n",
    "#     # (factgor of 2 included to give same result as LL with balanced input)\n",
    "#     balanced_log_loss = 2*(w_0 * log_loss_0 + w_1 * log_loss_1) / (w_0 + w_1)\n",
    "#     # return the average log loss\n",
    "#     return balanced_log_loss/(N_0+N_1)"
   ]
  },
  {
   "cell_type": "code",
   "execution_count": 192,
   "id": "0260c9e1",
   "metadata": {
    "_cell_guid": "274e8b7d-9a6c-493f-83b3-1c3d590a4e6a",
    "_uuid": "0c6d4a17-916c-47e7-9d0d-b344f3983c59",
    "execution": {
     "iopub.execute_input": "2023-08-08T14:10:34.071520Z",
     "iopub.status.busy": "2023-08-08T14:10:34.071240Z",
     "iopub.status.idle": "2023-08-08T14:10:34.076391Z",
     "shell.execute_reply": "2023-08-08T14:10:34.075466Z"
    },
    "jupyter": {
     "outputs_hidden": false
    },
    "papermill": {
     "duration": 0.062097,
     "end_time": "2023-08-08T14:10:34.078387",
     "exception": false,
     "start_time": "2023-08-08T14:10:34.016290",
     "status": "completed"
    },
    "tags": []
   },
   "outputs": [],
   "source": [
    "# class Ensemble():\n",
    "#     def __init__(self):\n",
    "#         self.imputer = SimpleImputer(missing_values=np.nan, strategy='median')\n",
    "\n",
    "#         self.classifiers =[xgboost.XGBClassifier(n_estimators=100,max_depth=3,learning_rate=0.2,subsample=0.9,colsample_bytree=0.85),\n",
    "#                            xgboost.XGBClassifier(),\n",
    "#                            TabPFNClassifier(N_ensemble_configurations=24),\n",
    "#                           TabPFNClassifier(N_ensemble_configurations=64)]\n",
    "    \n",
    "#     def fit(self,X,y):\n",
    "#         y = y.values\n",
    "#         unique_classes, y = np.unique(y, return_inverse=True)\n",
    "#         self.classes_ = unique_classes\n",
    "#         first_category = X.EJ.unique()[0]\n",
    "#         X.EJ = X.EJ.eq(first_category).astype('int')\n",
    "#         X = self.imputer.fit_transform(X)\n",
    "# #         X = normalize(X,axis=0)\n",
    "#         for classifier in self.classifiers:\n",
    "#             if classifier==self.classifiers[2] or classifier==self.classifiers[3]:\n",
    "#                 classifier.fit(X,y,overwrite_warning =True)\n",
    "#             else :\n",
    "#                 classifier.fit(X, y)\n",
    "     \n",
    "#     def predict_proba(self, x):\n",
    "#         x = self.imputer.transform(x)\n",
    "# #         x = normalize(x,axis=0)\n",
    "#         probabilities = np.stack([classifier.predict_proba(x) for classifier in self.classifiers])\n",
    "#         averaged_probabilities = np.mean(probabilities, axis=0)\n",
    "#         class_0_est_instances = averaged_probabilities[:, 0].sum()\n",
    "#         others_est_instances = averaged_probabilities[:, 1:].sum()\n",
    "#         # Weighted probabilities based on class imbalance\n",
    "#         new_probabilities = averaged_probabilities * np.array([[1/(class_0_est_instances if i==0 else others_est_instances) for i in range(averaged_probabilities.shape[1])]])\n",
    "#         return new_probabilities / np.sum(new_probabilities, axis=1, keepdims=1)"
   ]
  },
  {
   "cell_type": "code",
   "execution_count": 193,
   "id": "ffd59f9f",
   "metadata": {
    "_cell_guid": "fc3a0f99-40ec-4304-aecf-4aa1d88a18b8",
    "_uuid": "1912de5d-fe98-43ee-b797-bd6248bfe606",
    "execution": {
     "iopub.execute_input": "2023-08-08T14:10:34.193602Z",
     "iopub.status.busy": "2023-08-08T14:10:34.192713Z",
     "iopub.status.idle": "2023-08-08T14:10:34.196961Z",
     "shell.execute_reply": "2023-08-08T14:10:34.196034Z"
    },
    "jupyter": {
     "outputs_hidden": false
    },
    "papermill": {
     "duration": 0.062323,
     "end_time": "2023-08-08T14:10:34.199144",
     "exception": false,
     "start_time": "2023-08-08T14:10:34.136821",
     "status": "completed"
    },
    "tags": []
   },
   "outputs": [],
   "source": [
    "# from tqdm.notebook import tqdm"
   ]
  },
  {
   "cell_type": "code",
   "execution_count": 194,
   "id": "6f68ab2a",
   "metadata": {
    "_cell_guid": "76586014-99f1-4c48-a5f1-aa0d0304de48",
    "_uuid": "cc4ad9a1-8f79-4b3c-bed2-36b1ce1b49b2",
    "execution": {
     "iopub.execute_input": "2023-08-08T14:10:34.320988Z",
     "iopub.status.busy": "2023-08-08T14:10:34.320079Z",
     "iopub.status.idle": "2023-08-08T14:10:34.325600Z",
     "shell.execute_reply": "2023-08-08T14:10:34.324718Z"
    },
    "jupyter": {
     "outputs_hidden": false
    },
    "papermill": {
     "duration": 0.067212,
     "end_time": "2023-08-08T14:10:34.327641",
     "exception": false,
     "start_time": "2023-08-08T14:10:34.260429",
     "status": "completed"
    },
    "tags": []
   },
   "outputs": [],
   "source": [
    "# def training(model, x,y,y_meta):\n",
    "#     outer_results = list()\n",
    "#     best_loss = np.inf\n",
    "#     split = 0\n",
    "#     splits = 5\n",
    "#     for train_idx,val_idx in tqdm(cv_inner.split(x), total = splits):\n",
    "#         split+=1\n",
    "#         x_train, x_val = x.iloc[train_idx],x.iloc[val_idx]\n",
    "#         y_train, y_val = y_meta.iloc[train_idx], y.iloc[val_idx]\n",
    "                \n",
    "#         model.fit(x_train, y_train)\n",
    "#         y_pred = model.predict_proba(x_val)\n",
    "#         probabilities = np.concatenate((y_pred[:,:1], np.sum(y_pred[:,1:], 1, keepdims=True)), axis=1)\n",
    "#         p0 = probabilities[:,:1]\n",
    "#         p0[p0 > 0.86] = 1\n",
    "#         p0[p0 < 0.14] = 0\n",
    "#         y_p = np.empty((y_pred.shape[0],))\n",
    "#         for i in range(y_pred.shape[0]):\n",
    "#             if p0[i]>=0.5:\n",
    "#                 y_p[i]= False\n",
    "#             else :\n",
    "#                 y_p[i]=True\n",
    "#         y_p = y_p.astype(int)\n",
    "#         loss = balanced_log_loss(y_val,y_p)\n",
    "\n",
    "#         if loss<best_loss:\n",
    "#             best_model = model\n",
    "#             best_loss = loss\n",
    "#             print('best_model_saved')\n",
    "#         outer_results.append(loss)\n",
    "#         print('>val_loss=%.5f, split = %.1f' % (loss,split))\n",
    "#     print('LOSS: %.5f' % (np.mean(outer_results)))\n",
    "#     return best_model"
   ]
  },
  {
   "cell_type": "code",
   "execution_count": 195,
   "id": "7bbcc626",
   "metadata": {
    "_cell_guid": "fbecc591-3056-4a86-9738-dd448920979e",
    "_uuid": "bfc5037f-de7d-4165-929a-5ea138725ff3",
    "execution": {
     "iopub.execute_input": "2023-08-08T14:10:34.435569Z",
     "iopub.status.busy": "2023-08-08T14:10:34.435271Z",
     "iopub.status.idle": "2023-08-08T14:10:34.439300Z",
     "shell.execute_reply": "2023-08-08T14:10:34.438269Z"
    },
    "jupyter": {
     "outputs_hidden": false
    },
    "papermill": {
     "duration": 0.060496,
     "end_time": "2023-08-08T14:10:34.441407",
     "exception": false,
     "start_time": "2023-08-08T14:10:34.380911",
     "status": "completed"
    },
    "tags": []
   },
   "outputs": [],
   "source": [
    "# from datetime import datetime\n",
    "# times = greeks.Epsilon.copy()\n",
    "# times[greeks.Epsilon != 'Unknown'] = greeks.Epsilon[greeks.Epsilon != 'Unknown'].map(lambda x: datetime.strptime(x,'%m/%d/%Y').toordinal())\n",
    "# times[greeks.Epsilon == 'Unknown'] = np.nan"
   ]
  },
  {
   "cell_type": "code",
   "execution_count": 196,
   "id": "ffcdbe97",
   "metadata": {
    "_cell_guid": "c20e03b2-bce3-4c5d-af6b-6cee61c148af",
    "_uuid": "5b7595ce-6bbe-4339-b868-dadc2be95d80",
    "execution": {
     "iopub.execute_input": "2023-08-08T14:10:34.550063Z",
     "iopub.status.busy": "2023-08-08T14:10:34.549724Z",
     "iopub.status.idle": "2023-08-08T14:10:34.553779Z",
     "shell.execute_reply": "2023-08-08T14:10:34.552822Z"
    },
    "jupyter": {
     "outputs_hidden": false
    },
    "papermill": {
     "duration": 0.060956,
     "end_time": "2023-08-08T14:10:34.555716",
     "exception": false,
     "start_time": "2023-08-08T14:10:34.494760",
     "status": "completed"
    },
    "tags": []
   },
   "outputs": [],
   "source": [
    "# train_pred_and_time = pd.concat((train, times), axis=1)\n",
    "# test_predictors = test[predictor_columns]\n",
    "# first_category = test_predictors.EJ.unique()[0]\n",
    "# test_predictors.EJ = test_predictors.EJ.eq(first_category).astype('int')\n",
    "# test_pred_and_time = np.concatenate((test_predictors, np.zeros((len(test_predictors), 1)) + train_pred_and_time.Epsilon.max() + 1), axis=1)"
   ]
  },
  {
   "cell_type": "code",
   "execution_count": 197,
   "id": "92841c74",
   "metadata": {
    "_cell_guid": "63aa28e8-c18f-4797-b723-d5525333e038",
    "_uuid": "c78078e7-700c-4416-9a52-8ea87d8d03d1",
    "execution": {
     "iopub.execute_input": "2023-08-08T14:10:34.663368Z",
     "iopub.status.busy": "2023-08-08T14:10:34.663083Z",
     "iopub.status.idle": "2023-08-08T14:10:34.667093Z",
     "shell.execute_reply": "2023-08-08T14:10:34.666200Z"
    },
    "jupyter": {
     "outputs_hidden": false
    },
    "papermill": {
     "duration": 0.060911,
     "end_time": "2023-08-08T14:10:34.669200",
     "exception": false,
     "start_time": "2023-08-08T14:10:34.608289",
     "status": "completed"
    },
    "tags": []
   },
   "outputs": [],
   "source": [
    "# ros = RandomOverSampler(random_state=42)\n",
    "\n",
    "# train_ros, y_ros = ros.fit_resample(train_pred_and_time, greeks.Alpha)\n",
    "# print('Original dataset shape')\n",
    "# print(greeks.Alpha.value_counts())\n",
    "# print('Resample dataset shape')\n",
    "# print( y_ros.value_counts())"
   ]
  },
  {
   "cell_type": "code",
   "execution_count": 198,
   "id": "cf20ea1c",
   "metadata": {
    "_cell_guid": "4c452740-be77-406b-ac3e-bea93d008560",
    "_uuid": "133caac5-38d7-4f3b-b312-4f7787be1f88",
    "execution": {
     "iopub.execute_input": "2023-08-08T14:10:34.777463Z",
     "iopub.status.busy": "2023-08-08T14:10:34.776583Z",
     "iopub.status.idle": "2023-08-08T14:10:34.780800Z",
     "shell.execute_reply": "2023-08-08T14:10:34.780021Z"
    },
    "jupyter": {
     "outputs_hidden": false
    },
    "papermill": {
     "duration": 0.060702,
     "end_time": "2023-08-08T14:10:34.782791",
     "exception": false,
     "start_time": "2023-08-08T14:10:34.722089",
     "status": "completed"
    },
    "tags": []
   },
   "outputs": [],
   "source": [
    "# x_ros = train_ros.drop(['Class', 'Id'],axis=1)\n",
    "# y_ = train_ros.Class"
   ]
  },
  {
   "cell_type": "code",
   "execution_count": 199,
   "id": "1f021542",
   "metadata": {
    "_cell_guid": "71fabd16-da65-4798-90e9-371d43ea09ed",
    "_uuid": "cc53f9f8-afcc-4151-86fd-642aab4c80f1",
    "execution": {
     "iopub.execute_input": "2023-08-08T14:10:34.891836Z",
     "iopub.status.busy": "2023-08-08T14:10:34.891070Z",
     "iopub.status.idle": "2023-08-08T14:10:34.895299Z",
     "shell.execute_reply": "2023-08-08T14:10:34.894475Z"
    },
    "jupyter": {
     "outputs_hidden": false
    },
    "papermill": {
     "duration": 0.061809,
     "end_time": "2023-08-08T14:10:34.897248",
     "exception": false,
     "start_time": "2023-08-08T14:10:34.835439",
     "status": "completed"
    },
    "tags": []
   },
   "outputs": [],
   "source": [
    "# yt = Ensemble()"
   ]
  },
  {
   "cell_type": "code",
   "execution_count": 200,
   "id": "0459ac2a",
   "metadata": {
    "_cell_guid": "c2dc1ef2-33be-454e-87eb-d705e9e6785b",
    "_uuid": "d0d367c2-2274-430f-8fe6-47360dad6202",
    "execution": {
     "iopub.execute_input": "2023-08-08T14:10:35.006118Z",
     "iopub.status.busy": "2023-08-08T14:10:35.005575Z",
     "iopub.status.idle": "2023-08-08T14:10:35.009582Z",
     "shell.execute_reply": "2023-08-08T14:10:35.008635Z"
    },
    "jupyter": {
     "outputs_hidden": false
    },
    "papermill": {
     "duration": 0.062106,
     "end_time": "2023-08-08T14:10:35.011716",
     "exception": false,
     "start_time": "2023-08-08T14:10:34.949610",
     "status": "completed"
    },
    "tags": []
   },
   "outputs": [],
   "source": [
    "# m = training(yt,x_ros,y_,y_ros)"
   ]
  },
  {
   "cell_type": "code",
   "execution_count": 201,
   "id": "3445a6af",
   "metadata": {
    "_cell_guid": "f9a2dd74-cda0-4c51-8d73-ecee34570e6e",
    "_uuid": "882c7683-abcd-47f6-8322-60682a576777",
    "execution": {
     "iopub.execute_input": "2023-08-08T14:10:35.127548Z",
     "iopub.status.busy": "2023-08-08T14:10:35.126637Z",
     "iopub.status.idle": "2023-08-08T14:10:35.131328Z",
     "shell.execute_reply": "2023-08-08T14:10:35.130496Z"
    },
    "jupyter": {
     "outputs_hidden": false
    },
    "papermill": {
     "duration": 0.065966,
     "end_time": "2023-08-08T14:10:35.133220",
     "exception": false,
     "start_time": "2023-08-08T14:10:35.067254",
     "status": "completed"
    },
    "tags": []
   },
   "outputs": [],
   "source": [
    "# y_.value_counts()/y_.shape[0]"
   ]
  },
  {
   "cell_type": "code",
   "execution_count": 202,
   "id": "58bde967",
   "metadata": {
    "_cell_guid": "bac355ea-b0a7-4456-a21e-6c52c07b3616",
    "_uuid": "7a81d633-66db-4215-a8fa-4fdeb51e0cb5",
    "execution": {
     "iopub.execute_input": "2023-08-08T14:10:35.247304Z",
     "iopub.status.busy": "2023-08-08T14:10:35.246963Z",
     "iopub.status.idle": "2023-08-08T14:10:35.250957Z",
     "shell.execute_reply": "2023-08-08T14:10:35.250056Z"
    },
    "jupyter": {
     "outputs_hidden": false
    },
    "papermill": {
     "duration": 0.066491,
     "end_time": "2023-08-08T14:10:35.252904",
     "exception": false,
     "start_time": "2023-08-08T14:10:35.186413",
     "status": "completed"
    },
    "tags": []
   },
   "outputs": [],
   "source": [
    "# y_pred = m.predict_proba(test_pred_and_time)\n",
    "# probabilities = np.concatenate((y_pred[:,:1], np.sum(y_pred[:,1:], 1, keepdims=True)), axis=1)\n",
    "# p0 = probabilities[:,:1]\n",
    "# p0[p0 > 0.59] = 1 \n",
    "# p0[p0 < 0.28] = 0"
   ]
  },
  {
   "cell_type": "code",
   "execution_count": 203,
   "id": "941d1921",
   "metadata": {
    "_cell_guid": "a8219644-c6ef-4658-b8d2-77e68efb3214",
    "_uuid": "3df8f460-a564-45e9-a2e0-1e0c4f9e8925",
    "execution": {
     "iopub.execute_input": "2023-08-08T14:10:35.364358Z",
     "iopub.status.busy": "2023-08-08T14:10:35.363555Z",
     "iopub.status.idle": "2023-08-08T14:10:35.368029Z",
     "shell.execute_reply": "2023-08-08T14:10:35.367117Z"
    },
    "jupyter": {
     "outputs_hidden": false
    },
    "papermill": {
     "duration": 0.063955,
     "end_time": "2023-08-08T14:10:35.370294",
     "exception": false,
     "start_time": "2023-08-08T14:10:35.306339",
     "status": "completed"
    },
    "tags": []
   },
   "outputs": [],
   "source": [
    "# submission0 = pd.DataFrame(test[\"Id\"], columns=[\"Id\"])\n",
    "# submission0[\"class_0\"] = p0\n",
    "# submission0[\"class_1\"] = 1 - p0\n",
    "# submission0.to_csv('submission0.csv', index=False)"
   ]
  },
  {
   "cell_type": "code",
   "execution_count": 204,
   "id": "b30002db",
   "metadata": {
    "_cell_guid": "5dfe565e-5677-47c4-a1b9-bbde74c2c6f4",
    "_uuid": "e1e14d11-e40e-4baf-bada-6d3e5e27a40e",
    "execution": {
     "iopub.execute_input": "2023-08-08T14:10:35.483825Z",
     "iopub.status.busy": "2023-08-08T14:10:35.483368Z",
     "iopub.status.idle": "2023-08-08T14:10:35.487996Z",
     "shell.execute_reply": "2023-08-08T14:10:35.486929Z"
    },
    "jupyter": {
     "outputs_hidden": false
    },
    "papermill": {
     "duration": 0.063851,
     "end_time": "2023-08-08T14:10:35.490253",
     "exception": false,
     "start_time": "2023-08-08T14:10:35.426402",
     "status": "completed"
    },
    "tags": []
   },
   "outputs": [],
   "source": [
    "# submission_df = pd.read_csv('submission0.csv')\n",
    "# submission_df"
   ]
  },
  {
   "cell_type": "code",
   "execution_count": 205,
   "id": "1c5ab628",
   "metadata": {
    "_cell_guid": "f313e8cb-6c67-4f9b-a0cd-13178e4262c7",
    "_uuid": "df23fe19-5cab-4dfd-8ae1-1b948a2943b4",
    "execution": {
     "iopub.execute_input": "2023-08-08T14:10:35.597450Z",
     "iopub.status.busy": "2023-08-08T14:10:35.597133Z",
     "iopub.status.idle": "2023-08-08T14:10:35.601390Z",
     "shell.execute_reply": "2023-08-08T14:10:35.600436Z"
    },
    "jupyter": {
     "outputs_hidden": false
    },
    "papermill": {
     "duration": 0.059666,
     "end_time": "2023-08-08T14:10:35.603379",
     "exception": false,
     "start_time": "2023-08-08T14:10:35.543713",
     "status": "completed"
    },
    "tags": []
   },
   "outputs": [],
   "source": [
    "#  [code] {\"papermill\":{\"duration\":0.053794,\"end_time\":\"2023-07-17T00:44:08.971667\",\"exception\":false,\"start_time\":\"2023-07-17T00:44:08.917873\",\"status\":\"completed\"},\"tags\":[],\"jupyter\":{\"outputs_hidden\":false}}"
   ]
  },
  {
   "cell_type": "code",
   "execution_count": 206,
   "id": "99937f75",
   "metadata": {
    "execution": {
     "iopub.execute_input": "2023-08-08T14:10:35.710204Z",
     "iopub.status.busy": "2023-08-08T14:10:35.709899Z",
     "iopub.status.idle": "2023-08-08T14:10:43.375499Z",
     "shell.execute_reply": "2023-08-08T14:10:43.374491Z"
    },
    "papermill": {
     "duration": 7.72265,
     "end_time": "2023-08-08T14:10:43.378214",
     "exception": false,
     "start_time": "2023-08-08T14:10:35.655564",
     "status": "completed"
    },
    "tags": []
   },
   "outputs": [],
   "source": [
    "import numpy as np\n",
    "import pandas as pd\n",
    "import matplotlib.pyplot as plt\n",
    "import seaborn as sns\n",
    "import random\n",
    "import os\n",
    "from copy import deepcopy\n",
    "from functools import partial\n",
    "import random\n",
    "import gc\n",
    "\n",
    "# Import sklearn classes for model selection, cross validation, and performance evaluation\n",
    "from sklearn.base import BaseEstimator, TransformerMixin\n",
    "from sklearn.model_selection import train_test_split\n",
    "from sklearn.model_selection import StratifiedKFold, KFold\n",
    "from sklearn.metrics import roc_auc_score, accuracy_score, log_loss\n",
    "from sklearn.preprocessing import StandardScaler, MinMaxScaler\n",
    "import seaborn as sns\n",
    "from category_encoders import OneHotEncoder, OrdinalEncoder, CountEncoder\n",
    "from imblearn.under_sampling import RandomUnderSampler\n",
    "\n",
    "# Import libraries for Hypertuning\n",
    "import optuna\n",
    "\n",
    "# Import libraries for gradient boosting\n",
    "import xgboost as xgb\n",
    "import lightgbm as lgb\n",
    "import xgboost as xgb\n",
    "import lightgbm as lgb\n",
    "from sklearn.ensemble import RandomForestClassifier, HistGradientBoostingClassifier, GradientBoostingClassifier, AdaBoostClassifier\n",
    "from imblearn.ensemble import BalancedRandomForestClassifier\n",
    "from sklearn.impute import KNNImputer\n",
    "from sklearn.pipeline import Pipeline\n",
    "from sklearn.svm import NuSVC, SVC\n",
    "from sklearn.neighbors import KNeighborsClassifier\n",
    "from sklearn.linear_model import LogisticRegressionCV, LogisticRegression\n",
    "from sklearn.neural_network import MLPClassifier\n",
    "from sklearn.gaussian_process import GaussianProcessClassifier\n",
    "from sklearn.gaussian_process.kernels import RBF\n",
    "from catboost import CatBoost, CatBoostRegressor, CatBoostClassifier\n",
    "from catboost import Pool\n",
    "\n",
    "# Suppress warnings\n",
    "import warnings\n",
    "warnings.filterwarnings(\"ignore\", category=UserWarning)\n",
    "warnings.filterwarnings(\"ignore\", category=FutureWarning)"
   ]
  },
  {
   "cell_type": "code",
   "execution_count": 207,
   "id": "480bd44c",
   "metadata": {
    "execution": {
     "iopub.execute_input": "2023-08-08T14:10:43.492553Z",
     "iopub.status.busy": "2023-08-08T14:10:43.491593Z",
     "iopub.status.idle": "2023-08-08T14:10:43.562652Z",
     "shell.execute_reply": "2023-08-08T14:10:43.561729Z"
    },
    "papermill": {
     "duration": 0.12929,
     "end_time": "2023-08-08T14:10:43.564915",
     "exception": false,
     "start_time": "2023-08-08T14:10:43.435625",
     "status": "completed"
    },
    "tags": []
   },
   "outputs": [],
   "source": [
    "filepath = '../input/icr-identify-age-related-conditions'\n",
    "df_train = pd.read_csv(os.path.join(filepath, 'train.csv'), index_col=[0])\n",
    "df_test = pd.read_csv(os.path.join(filepath, 'test.csv'), index_col=[0])\n",
    "greeks = pd.read_csv('../input/icr-identify-age-related-conditions/greeks.csv')\n",
    "\n",
    "df_train['EJ'] = df_train['EJ'].replace({'A': 0, 'B': 1})\n",
    "df_test['EJ']  = df_test['EJ'].replace({'A': 0, 'B': 1})\n",
    "\n",
    "data = pd.concat([df_train, greeks.set_index('Id')], axis=1)\n",
    "target_col = 'Class'"
   ]
  },
  {
   "cell_type": "code",
   "execution_count": 208,
   "id": "396b8861",
   "metadata": {
    "execution": {
     "iopub.execute_input": "2023-08-08T14:10:43.675520Z",
     "iopub.status.busy": "2023-08-08T14:10:43.674789Z",
     "iopub.status.idle": "2023-08-08T14:10:43.760391Z",
     "shell.execute_reply": "2023-08-08T14:10:43.758036Z"
    },
    "papermill": {
     "duration": 0.14425,
     "end_time": "2023-08-08T14:10:43.763592",
     "exception": false,
     "start_time": "2023-08-08T14:10:43.619342",
     "status": "completed"
    },
    "tags": []
   },
   "outputs": [
    {
     "name": "stdout",
     "output_type": "stream",
     "text": [
      "X_train shape :(617, 54) , y_train shape :(617,)\n",
      "X_test shape :(5, 54)\n"
     ]
    },
    {
     "data": {
      "text/html": [
       "<div>\n",
       "<style scoped>\n",
       "    .dataframe tbody tr th:only-of-type {\n",
       "        vertical-align: middle;\n",
       "    }\n",
       "\n",
       "    .dataframe tbody tr th {\n",
       "        vertical-align: top;\n",
       "    }\n",
       "\n",
       "    .dataframe thead th {\n",
       "        text-align: right;\n",
       "    }\n",
       "</style>\n",
       "<table border=\"1\" class=\"dataframe\">\n",
       "  <thead>\n",
       "    <tr style=\"text-align: right;\">\n",
       "      <th></th>\n",
       "      <th>AB</th>\n",
       "      <th>AF</th>\n",
       "      <th>AH</th>\n",
       "      <th>AM</th>\n",
       "      <th>AR</th>\n",
       "      <th>AX</th>\n",
       "      <th>AY</th>\n",
       "      <th>AZ</th>\n",
       "      <th>BD</th>\n",
       "      <th>BN</th>\n",
       "      <th>...</th>\n",
       "      <th>FI</th>\n",
       "      <th>FL</th>\n",
       "      <th>FR</th>\n",
       "      <th>FS</th>\n",
       "      <th>GB</th>\n",
       "      <th>GE</th>\n",
       "      <th>GF</th>\n",
       "      <th>GH</th>\n",
       "      <th>GI</th>\n",
       "      <th>GL</th>\n",
       "    </tr>\n",
       "  </thead>\n",
       "  <tbody>\n",
       "    <tr>\n",
       "      <th>0</th>\n",
       "      <td>-0.572153</td>\n",
       "      <td>-0.170975</td>\n",
       "      <td>-0.261669</td>\n",
       "      <td>-0.237889</td>\n",
       "      <td>-0.189295</td>\n",
       "      <td>-1.900558</td>\n",
       "      <td>-0.083417</td>\n",
       "      <td>-0.173502</td>\n",
       "      <td>-0.405383</td>\n",
       "      <td>0.339209</td>\n",
       "      <td>...</td>\n",
       "      <td>-2.226608</td>\n",
       "      <td>0.162355</td>\n",
       "      <td>-0.035806</td>\n",
       "      <td>-0.250462</td>\n",
       "      <td>-0.940094</td>\n",
       "      <td>-0.410260</td>\n",
       "      <td>-0.655511</td>\n",
       "      <td>-0.948991</td>\n",
       "      <td>0.531241</td>\n",
       "      <td>-0.815091</td>\n",
       "    </tr>\n",
       "    <tr>\n",
       "      <th>1</th>\n",
       "      <td>-0.709105</td>\n",
       "      <td>-1.097801</td>\n",
       "      <td>-0.261669</td>\n",
       "      <td>-0.028701</td>\n",
       "      <td>-0.189295</td>\n",
       "      <td>-0.750457</td>\n",
       "      <td>-0.083417</td>\n",
       "      <td>0.678919</td>\n",
       "      <td>0.048541</td>\n",
       "      <td>-0.575174</td>\n",
       "      <td>...</td>\n",
       "      <td>0.084542</td>\n",
       "      <td>-0.457909</td>\n",
       "      <td>-0.060566</td>\n",
       "      <td>0.113034</td>\n",
       "      <td>-1.145070</td>\n",
       "      <td>-0.410260</td>\n",
       "      <td>0.687893</td>\n",
       "      <td>-0.238862</td>\n",
       "      <td>-0.509218</td>\n",
       "      <td>1.303181</td>\n",
       "    </tr>\n",
       "    <tr>\n",
       "      <th>2</th>\n",
       "      <td>-0.015212</td>\n",
       "      <td>-0.377169</td>\n",
       "      <td>-0.261669</td>\n",
       "      <td>-0.094845</td>\n",
       "      <td>-0.189295</td>\n",
       "      <td>0.465662</td>\n",
       "      <td>-0.083417</td>\n",
       "      <td>0.519453</td>\n",
       "      <td>-0.071089</td>\n",
       "      <td>1.456789</td>\n",
       "      <td>...</td>\n",
       "      <td>0.517060</td>\n",
       "      <td>0.198170</td>\n",
       "      <td>-0.051023</td>\n",
       "      <td>0.595966</td>\n",
       "      <td>1.637944</td>\n",
       "      <td>-0.299210</td>\n",
       "      <td>-0.051850</td>\n",
       "      <td>-0.351743</td>\n",
       "      <td>-0.424754</td>\n",
       "      <td>-0.807668</td>\n",
       "    </tr>\n",
       "    <tr>\n",
       "      <th>3</th>\n",
       "      <td>-0.480851</td>\n",
       "      <td>0.138196</td>\n",
       "      <td>0.012347</td>\n",
       "      <td>0.547477</td>\n",
       "      <td>-0.189295</td>\n",
       "      <td>-0.729610</td>\n",
       "      <td>-0.083417</td>\n",
       "      <td>0.112088</td>\n",
       "      <td>-0.391109</td>\n",
       "      <td>0.644004</td>\n",
       "      <td>...</td>\n",
       "      <td>1.617160</td>\n",
       "      <td>0.059978</td>\n",
       "      <td>-0.060566</td>\n",
       "      <td>-0.105064</td>\n",
       "      <td>-0.219883</td>\n",
       "      <td>-0.342195</td>\n",
       "      <td>-0.650833</td>\n",
       "      <td>0.858232</td>\n",
       "      <td>1.101332</td>\n",
       "      <td>-0.811652</td>\n",
       "    </tr>\n",
       "    <tr>\n",
       "      <th>4</th>\n",
       "      <td>-0.206946</td>\n",
       "      <td>0.100517</td>\n",
       "      <td>-0.261669</td>\n",
       "      <td>-0.356885</td>\n",
       "      <td>-0.189295</td>\n",
       "      <td>-0.628845</td>\n",
       "      <td>-0.013229</td>\n",
       "      <td>-1.649292</td>\n",
       "      <td>0.125327</td>\n",
       "      <td>0.745602</td>\n",
       "      <td>...</td>\n",
       "      <td>1.212850</td>\n",
       "      <td>0.236779</td>\n",
       "      <td>0.896815</td>\n",
       "      <td>-0.229691</td>\n",
       "      <td>-0.432313</td>\n",
       "      <td>0.099920</td>\n",
       "      <td>-0.318309</td>\n",
       "      <td>1.409422</td>\n",
       "      <td>-0.395228</td>\n",
       "      <td>-0.817391</td>\n",
       "    </tr>\n",
       "  </tbody>\n",
       "</table>\n",
       "<p>5 rows × 54 columns</p>\n",
       "</div>"
      ],
      "text/plain": [
       "         AB        AF        AH        AM        AR        AX        AY  \\\n",
       "0 -0.572153 -0.170975 -0.261669 -0.237889 -0.189295 -1.900558 -0.083417   \n",
       "1 -0.709105 -1.097801 -0.261669 -0.028701 -0.189295 -0.750457 -0.083417   \n",
       "2 -0.015212 -0.377169 -0.261669 -0.094845 -0.189295  0.465662 -0.083417   \n",
       "3 -0.480851  0.138196  0.012347  0.547477 -0.189295 -0.729610 -0.083417   \n",
       "4 -0.206946  0.100517 -0.261669 -0.356885 -0.189295 -0.628845 -0.013229   \n",
       "\n",
       "         AZ       BD         BN  ...        FI        FL        FR        FS  \\\n",
       "0 -0.173502 -0.405383  0.339209  ... -2.226608  0.162355 -0.035806 -0.250462   \n",
       "1  0.678919  0.048541 -0.575174  ...  0.084542 -0.457909 -0.060566  0.113034   \n",
       "2  0.519453 -0.071089  1.456789  ...  0.517060  0.198170 -0.051023  0.595966   \n",
       "3  0.112088 -0.391109  0.644004  ...  1.617160  0.059978 -0.060566 -0.105064   \n",
       "4 -1.649292  0.125327  0.745602  ...  1.212850  0.236779  0.896815 -0.229691   \n",
       "\n",
       "         GB        GE        GF        GH        GI        GL  \n",
       "0 -0.940094 -0.410260 -0.655511 -0.948991  0.531241 -0.815091  \n",
       "1 -1.145070 -0.410260  0.687893 -0.238862 -0.509218  1.303181  \n",
       "2  1.637944 -0.299210 -0.051850 -0.351743 -0.424754 -0.807668  \n",
       "3 -0.219883 -0.342195 -0.650833  0.858232  1.101332 -0.811652  \n",
       "4 -0.432313  0.099920 -0.318309  1.409422 -0.395228 -0.817391  \n",
       "\n",
       "[5 rows x 54 columns]"
      ]
     },
     "execution_count": 208,
     "metadata": {},
     "output_type": "execute_result"
    }
   ],
   "source": [
    "df_train = pd.read_csv(os.path.join(filepath, 'train.csv'), index_col=[0])\n",
    "df_test = pd.read_csv(os.path.join(filepath, 'test.csv'), index_col=[0])\n",
    "df_train['EJ'] = df_train['EJ'].replace({'A': 0, 'B': 1})\n",
    "df_test['EJ']  = df_test['EJ'].replace({'A': 0, 'B': 1})\n",
    "target_col = 'Class'\n",
    "\n",
    "X_train = df_train.drop([f'{target_col}'],axis=1).reset_index(drop=True)\n",
    "y_train = df_train[f'{target_col}'].reset_index(drop=True)\n",
    "X_test = df_test.reset_index(drop=True)\n",
    "\n",
    "drop_cols = ['BC', 'CL']\n",
    "X_train.drop(drop_cols, axis=1, inplace=True)\n",
    "X_test.drop(drop_cols, axis=1, inplace=True)\n",
    "\n",
    "numeric_columns = [_ for _ in X_train.columns if _ not in ['EJ']]\n",
    "sc = StandardScaler() # MinMaxScaler or StandardScaler\n",
    "X_train[numeric_columns] = sc.fit_transform(X_train[numeric_columns])\n",
    "X_test[numeric_columns] = sc.transform(X_test[numeric_columns])\n",
    "\n",
    "print(f\"X_train shape :{X_train.shape} , y_train shape :{y_train.shape}\")\n",
    "print(f\"X_test shape :{X_test.shape}\")\n",
    "\n",
    "# Delete the train and test dataframes to free up memory\n",
    "del df_train, df_test\n",
    "\n",
    "X_train.head(5)"
   ]
  },
  {
   "cell_type": "code",
   "execution_count": 209,
   "id": "aa7f327e",
   "metadata": {
    "execution": {
     "iopub.execute_input": "2023-08-08T14:10:43.888727Z",
     "iopub.status.busy": "2023-08-08T14:10:43.888355Z",
     "iopub.status.idle": "2023-08-08T14:10:43.894697Z",
     "shell.execute_reply": "2023-08-08T14:10:43.894044Z"
    },
    "papermill": {
     "duration": 0.066138,
     "end_time": "2023-08-08T14:10:43.896595",
     "exception": false,
     "start_time": "2023-08-08T14:10:43.830457",
     "status": "completed"
    },
    "tags": []
   },
   "outputs": [],
   "source": [
    "scale_pos_weight = len(y_train[y_train == 0]) / len(y_train[y_train == 1])\n",
    "\n",
    "class_weight_0 = 1.0\n",
    "class_weight_1 = 1.0 / scale_pos_weight\n",
    "\n",
    "class_weights_cat = [class_weight_0, class_weight_1]\n",
    "\n",
    "class_weights_lgb = {0: class_weight_0, 1: class_weight_1}"
   ]
  },
  {
   "cell_type": "code",
   "execution_count": 210,
   "id": "739974df",
   "metadata": {
    "execution": {
     "iopub.execute_input": "2023-08-08T14:10:44.012635Z",
     "iopub.status.busy": "2023-08-08T14:10:44.012346Z",
     "iopub.status.idle": "2023-08-08T14:10:44.048273Z",
     "shell.execute_reply": "2023-08-08T14:10:44.047316Z"
    },
    "papermill": {
     "duration": 0.095864,
     "end_time": "2023-08-08T14:10:44.050521",
     "exception": false,
     "start_time": "2023-08-08T14:10:43.954657",
     "status": "completed"
    },
    "tags": []
   },
   "outputs": [],
   "source": [
    "class Splitter:\n",
    "    def __init__(self, kfold=True, n_splits=5, greeks=pd.DataFrame()):\n",
    "        self.n_splits = n_splits\n",
    "        self.kfold = kfold\n",
    "        self.greeks = greeks\n",
    "\n",
    "    def split_data(self, X, y, random_state_list):\n",
    "        if self.kfold == 'skf':\n",
    "            for random_state in random_state_list:\n",
    "                kf = StratifiedKFold(n_splits=self.n_splits, random_state=random_state, shuffle=True)\n",
    "                for train_index, val_index in kf.split(X, y):\n",
    "                    if type(X) is np.ndarray:\n",
    "                        X_train, X_val = X[train_index], X[val_index]\n",
    "                        y_train, y_val = y[train_index], y[val_index]\n",
    "                    else:\n",
    "                        X_train, X_val = X.iloc[train_index], X.iloc[val_index]\n",
    "                        y_train, y_val = y.iloc[train_index], y.iloc[val_index]\n",
    "                    yield X_train, X_val, y_train, y_val\n",
    "        else:\n",
    "            raise ValueError(f\"Invalid kfold: Must be True\")\n",
    "\n",
    "class Classifier:\n",
    "    def __init__(self, n_estimators=100, device=\"cpu\", random_state=0):\n",
    "        self.n_estimators = n_estimators\n",
    "        self.device = device\n",
    "        self.random_state = random_state\n",
    "        self.models = self._define_model()\n",
    "        self.models_name = list(self._define_model().keys())\n",
    "        self.len_models = len(self.models)\n",
    "        \n",
    "    def _define_model(self):\n",
    "        \n",
    "        xgb_params = {\n",
    "            'n_estimators': self.n_estimators,\n",
    "            'learning_rate': 0.413327571405248,\n",
    "            'booster': 'gbtree',\n",
    "            'lambda': 0.0000263894617720096,\n",
    "            'alpha': 0.000463768723479341,\n",
    "            'subsample': 0.237467672874133,\n",
    "            'colsample_bytree': 0.618829300507829,\n",
    "            'max_depth': 5,\n",
    "            'min_child_weight': 9,\n",
    "            'eta': 2.09477807126539E-06,\n",
    "            'gamma': 0.000847289463422307,\n",
    "            'grow_policy': 'depthwise',\n",
    "            'n_jobs': -1,\n",
    "            'objective': 'binary:logistic',\n",
    "            'eval_metric': 'logloss',\n",
    "            'verbosity': 0,\n",
    "            'random_state': self.random_state,\n",
    "        }\n",
    "        if self.device == 'gpu':\n",
    "            xgb_params['tree_method'] = 'gpu_hist'\n",
    "            xgb_params['predictor'] = 'gpu_predictor'\n",
    "        \n",
    "        lgb_params = {\n",
    "            'n_estimators': self.n_estimators,\n",
    "            'objective': 'binary',\n",
    "            'boosting_type': 'gbdt',\n",
    "            'learning_rate': 0.005,\n",
    "            'num_leaves': 5,\n",
    "            'colsample_bytree': 0.50,\n",
    "            'subsample': 0.80,\n",
    "            'reg_alpha': 2, \n",
    "            'reg_lambda': 4,\n",
    "            'n_jobs': -1,\n",
    "            'is_unbalance':True,\n",
    "            'device': self.device,\n",
    "            'random_state': self.random_state\n",
    "        }\n",
    "        lgb1_params = {\n",
    "            'n_estimators': self.n_estimators,\n",
    "            'learning_rate': 0.190197487721534,\n",
    "            'reg_alpha': 0.00749112221417973,\n",
    "            'reg_lambda': 0.000548118227209224,\n",
    "            'num_leaves': 17,\n",
    "            'colsample_bytree': 0.547257860506146,\n",
    "            'subsample': 0.592628085686409,\n",
    "            'subsample_freq': 2,\n",
    "            'min_child_samples': 64,\n",
    "            'objective': 'binary',\n",
    "            #'metric': 'binary_error',\n",
    "            'boosting_type': 'gbdt',\n",
    "            'is_unbalance':True,\n",
    "            'device': self.device,\n",
    "            'random_state': self.random_state\n",
    "        } \n",
    "        lgb2_params = {\n",
    "            'n_estimators': self.n_estimators,\n",
    "            'learning_rate': 0.181326407627473,\n",
    "            'reg_alpha': 0.000030864084239014,\n",
    "            'reg_lambda': 0.0000395714763869486,\n",
    "            'num_leaves': 122,\n",
    "            'colsample_bytree': 0.75076596295323,\n",
    "            'subsample': 0.6303245788342,\n",
    "            'subsample_freq': 3,\n",
    "            'min_child_samples': 72,\n",
    "            'objective': 'binary',\n",
    "            #'metric': 'binary_error',\n",
    "            'boosting_type': 'gbdt',\n",
    "            'is_unbalance':True,\n",
    "            'device': self.device,\n",
    "            'random_state': self.random_state\n",
    "        } \n",
    "        cat_params = {\n",
    "            'iterations': self.n_estimators,\n",
    "            'colsample_bylevel': 0.0513276895988184,\n",
    "            'depth': 2,\n",
    "            'learning_rate': 0.0256579773375401,\n",
    "            'l2_leaf_reg': 8.22319805476255,\n",
    "            'random_strength': 0.11327724457066,\n",
    "            'od_type': \"Iter\", \n",
    "            'od_wait': 72,\n",
    "            'bootstrap_type': \"Bayesian\",\n",
    "            'grow_policy': 'SymmetricTree',\n",
    "            'bagging_temperature': 9.58737431845122,\n",
    "            #'eval_metric': 'Logloss',\n",
    "            #'loss_function': 'Logloss',\n",
    "            'auto_class_weights': 'Balanced',\n",
    "            'task_type': self.device.upper(),\n",
    "            'random_state': self.random_state\n",
    "        }\n",
    "        \n",
    "        hist_params = {\n",
    "            'l2_regularization': 0.01,\n",
    "            'early_stopping': True,\n",
    "            'learning_rate': 0.01,\n",
    "            'max_iter': self.n_estimators,\n",
    "            'max_depth': 4,\n",
    "            'max_bins': 255,\n",
    "            'min_samples_leaf': 10,\n",
    "            'max_leaf_nodes':10,\n",
    "            'class_weight':'balanced',\n",
    "            'random_state': self.random_state\n",
    "        }\n",
    "        \n",
    "        xgb_optuna1 = {\n",
    "            'n_estimators': 900,\n",
    "            'learning_rate': 0.09641232707445854,\n",
    "            'booster': 'gbtree',\n",
    "            'lambda': 4.666002223704784,\n",
    "            'alpha': 3.708175990751336,\n",
    "            'subsample': 0.6100174145229473,\n",
    "            'colsample_bytree': 0.5506821152321051,\n",
    "            'max_depth': 7,\n",
    "            'min_child_weight': 3,\n",
    "            'eta': 1.740374368661041,\n",
    "            'gamma': 0.007427363662926455,\n",
    "            'grow_policy': 'depthwise',\n",
    "            'objective': 'binary:logistic',\n",
    "            'eval_metric': 'logloss',\n",
    "            'verbosity': 0,\n",
    "            'random_state': self.random_state,\n",
    "            'scale_pos_weight': scale_pos_weight\n",
    "        }\n",
    "        \n",
    "        xgb_optuna2 = {\n",
    "            'n_estimators': 650,\n",
    "            'learning_rate': 0.012208383405206188,\n",
    "            'booster': 'gbtree',\n",
    "            'lambda': 0.009968756668882757,\n",
    "            'alpha': 0.02666266827121168,\n",
    "            'subsample': 0.7097814108897231,\n",
    "            'colsample_bytree': 0.7946945784285216,\n",
    "            'max_depth': 3,\n",
    "            'min_child_weight': 4,\n",
    "            'eta': 0.5480204506554545,\n",
    "            'gamma': 0.8788654128774149,\n",
    "            'scale_pos_weight': 4.71,\n",
    "            'objective': 'binary:logistic',\n",
    "            'eval_metric': 'logloss',\n",
    "            'verbosity': 0,\n",
    "            'random_state': self.random_state,\n",
    "            'scale_pos_weight': scale_pos_weight\n",
    "        }\n",
    "\n",
    "        xgb_params = {\n",
    "            'n_estimators': self.n_estimators,\n",
    "            'learning_rate': 0.413327571405248,\n",
    "            'booster': 'gbtree',\n",
    "            'lambda': 0.0000263894617720096,\n",
    "            'alpha': 0.000463768723479341,\n",
    "            'subsample': 0.237467672874133,\n",
    "            'colsample_bytree': 0.618829300507829,\n",
    "            'max_depth': 5,\n",
    "            'min_child_weight': 9,\n",
    "            'eta': 2.09477807126539E-06,\n",
    "            'gamma': 0.000847289463422307,\n",
    "            'grow_policy': 'depthwise',\n",
    "            'n_jobs': -1,\n",
    "            'objective': 'binary:logistic',\n",
    "            'eval_metric': 'logloss',\n",
    "            'scale_pos_weight': scale_pos_weight,\n",
    "            'verbosity': 0,\n",
    "            'random_state': self.random_state,\n",
    "            \n",
    "        }\n",
    "        \n",
    "        xgb_params2 = {\n",
    "            'colsample_bytree': 0.5646751146007976,\n",
    "            'gamma': 7.788727238356553e-06,\n",
    "            'learning_rate': 0.1419865761603358,\n",
    "            'max_bin': 824,\n",
    "            'min_child_weight': 1,\n",
    "            'random_state': 811996,\n",
    "            'reg_alpha': 1.6259583347890365e-07,\n",
    "            'reg_lambda': 2.110691851528507e-08,\n",
    "            'subsample': 0.879020578464637,\n",
    "            'objective': 'binary:logistic',\n",
    "            'eval_metric': 'logloss',\n",
    "            'max_depth': 3,\n",
    "            'n_jobs': -1,\n",
    "            'verbosity': 0,\n",
    "            'random_state': self.random_state,\n",
    "            'scale_pos_weight': scale_pos_weight\n",
    "        }\n",
    "        \n",
    "        xgb_params3 = {\n",
    "            'random_state': self.random_state,\n",
    "            'colsample_bytree': 0.4836462317215041,\n",
    "            'eta': 0.05976752607337169,\n",
    "            'gamma': 1,\n",
    "            'lambda': 0.2976432557733288,\n",
    "            'max_depth': 6,\n",
    "            'min_child_weight': 1,\n",
    "            'n_estimators': 550,\n",
    "            'objective': 'binary:logistic',\n",
    "            'scale_pos_weight': 4.260162886376033,\n",
    "            'subsample': 0.7119282378433924,\n",
    "        }\n",
    "        \n",
    "        xgb_params4 = {\n",
    "            'colsample_bytree': 0.8757972257439255,\n",
    "            'gamma': 0.11135738771999848,\n",
    "            'max_depth': 7,\n",
    "            'min_child_weight': 3,\n",
    "            'reg_alpha': 0.4833998914998038,\n",
    "            'reg_lambda': 0.006223568555619563,\n",
    "            'scale_pos_weight': 8,\n",
    "            'subsample': 0.7056434340275685,\n",
    "            'random_state': self.random_state\n",
    "        }\n",
    "        \n",
    "        xgb_params5 = {\n",
    "            'max_depth': 5, \n",
    "            'min_child_weight': 2.934487833919741,\n",
    "            'learning_rate': 0.11341944575807082, \n",
    "            'subsample': 0.9045063514419968,\n",
    "            'gamma': 0.4329153382843715,\n",
    "            'colsample_bytree': 0.38872702868412506,\n",
    "            'colsample_bylevel': 0.8321880031718571,\n",
    "            'colsample_bynode': 0.802355707802605,\n",
    "            'random_state': self.random_state\n",
    "       }\n",
    "        \n",
    "        if self.device == 'gpu':\n",
    "            xgb_params['tree_method'] = 'gpu_hist'\n",
    "            xgb_params['predictor'] = 'gpu_predictor'\n",
    "        models = {\n",
    "            'xgb': xgb.XGBClassifier(**xgb_params),\n",
    "            'lgb': lgb.LGBMClassifier(**lgb_params),\n",
    "            'lgb1': lgb.LGBMClassifier(**lgb1_params),\n",
    "            'lgb2': lgb.LGBMClassifier(**lgb2_params),\n",
    "            'hgb': HistGradientBoostingClassifier(**hist_params),\n",
    "            'cat': CatBoostClassifier(**cat_params),\n",
    "            'xgb01': xgb.XGBClassifier(**xgb_optuna1),\n",
    "            'xgb02': xgb.XGBClassifier(**xgb_optuna2),\n",
    "            'xgb1': xgb.XGBClassifier(**xgb_params),\n",
    "            'xgb2': xgb.XGBClassifier(**xgb_params2),\n",
    "            'xgb3': xgb.XGBClassifier(**xgb_params3),\n",
    "            'xgb5': xgb.XGBClassifier(**xgb_params5),\n",
    "            #add some models with default params to \"simplify\" ensemble\n",
    "            #'svc': SVC(random_state=self.random_state, probability=True),\n",
    "            #'brf': BalancedRandomForestClassifier(random_state=self.random_state),\n",
    "            #'lr': LogisticRegression(random_state=self.random_state)\n",
    "        }\n",
    "        \n",
    "        return models"
   ]
  },
  {
   "cell_type": "code",
   "execution_count": null,
   "id": "da236212",
   "metadata": {},
   "outputs": [],
   "source": []
  },
  {
   "cell_type": "code",
   "execution_count": 211,
   "id": "a41a29a2",
   "metadata": {
    "execution": {
     "iopub.execute_input": "2023-08-08T14:10:44.165398Z",
     "iopub.status.busy": "2023-08-08T14:10:44.164464Z",
     "iopub.status.idle": "2023-08-08T14:10:44.172761Z",
     "shell.execute_reply": "2023-08-08T14:10:44.171924Z"
    },
    "papermill": {
     "duration": 0.068096,
     "end_time": "2023-08-08T14:10:44.174841",
     "exception": false,
     "start_time": "2023-08-08T14:10:44.106745",
     "status": "completed"
    },
    "tags": []
   },
   "outputs": [],
   "source": [
    "def calc_log_loss_weight(y_true):\n",
    "    nc = np.bincount(y_true)\n",
    "    w0, w1 = 1/(nc[0]/y_true.shape[0]), 1/(nc[1]/y_true.shape[0])\n",
    "    return w0, w1\n",
    "\n",
    "def balanced_log_loss(y_true, y_pred):\n",
    "    y_pred = np.clip(y_pred, 1e-15, 1-1e-15)\n",
    "    nc = np.bincount(y_true)\n",
    "    w0, w1 = 1/(nc[0]/y_true.shape[0]), 1/(nc[1]/y_true.shape[0])\n",
    "    balanced_log_loss_score = (-w0/nc[0]*(np.sum(np.where(y_true==0,1,0) * np.log(1-y_pred))) - w1/nc[1]*(np.sum(np.where(y_true!=0,1,0) * np.log(y_pred)))) / (w0+w1)\n",
    "    return balanced_log_loss_score"
   ]
  },
  {
   "cell_type": "code",
   "execution_count": 212,
   "id": "68437df9",
   "metadata": {
    "execution": {
     "iopub.execute_input": "2023-08-08T14:10:44.288618Z",
     "iopub.status.busy": "2023-08-08T14:10:44.288294Z",
     "iopub.status.idle": "2023-08-08T14:10:44.299983Z",
     "shell.execute_reply": "2023-08-08T14:10:44.298935Z"
    },
    "papermill": {
     "duration": 0.072664,
     "end_time": "2023-08-08T14:10:44.301880",
     "exception": false,
     "start_time": "2023-08-08T14:10:44.229216",
     "status": "completed"
    },
    "tags": []
   },
   "outputs": [],
   "source": [
    "class OptunaWeights:\n",
    "    def __init__(self, random_state, n_trials=3000):\n",
    "        self.study = None\n",
    "        self.weights = None\n",
    "        self.random_state = random_state\n",
    "        self.n_trials = n_trials\n",
    "\n",
    "    def _objective(self, trial, y_true, y_preds):\n",
    "        # Define the weights for the predictions from each model\n",
    "        weights = [trial.suggest_float(f\"weight{n}\", 1e-14, 1) for n in range(len(y_preds))]\n",
    "\n",
    "        # Calculate the weighted prediction\n",
    "        weighted_pred = np.average(np.array(y_preds).T, axis=1, weights=weights)\n",
    "\n",
    "        # Calculate the score for the weighted prediction\n",
    "        # score = log_loss(y_true, weighted_pred)\n",
    "        score = balanced_log_loss(y_true, weighted_pred)\n",
    "        return score\n",
    "\n",
    "    def fit(self, y_true, y_preds):\n",
    "        optuna.logging.set_verbosity(optuna.logging.ERROR)\n",
    "        sampler = optuna.samplers.CmaEsSampler(seed=self.random_state)\n",
    "        pruner = optuna.pruners.HyperbandPruner()\n",
    "        self.study = optuna.create_study(sampler=sampler, pruner=pruner, study_name=\"OptunaWeights\", direction='minimize')\n",
    "        objective_partial = partial(self._objective, y_true=y_true, y_preds=y_preds)\n",
    "        self.study.optimize(objective_partial, n_trials=self.n_trials)\n",
    "        self.weights = [self.study.best_params[f\"weight{n}\"] for n in range(len(y_preds))]\n",
    "\n",
    "    def predict(self, y_preds):\n",
    "        assert self.weights is not None, 'OptunaWeights error, must be fitted before predict'\n",
    "        weighted_pred = np.average(np.array(y_preds).T, axis=1, weights=self.weights)\n",
    "        return weighted_pred\n",
    "\n",
    "    def fit_predict(self, y_true, y_preds):\n",
    "        self.fit(y_true, y_preds)\n",
    "        return self.predict(y_preds)\n",
    "    \n",
    "    def weights(self):\n",
    "        return self.weights"
   ]
  },
  {
   "cell_type": "code",
   "execution_count": 213,
   "id": "e94ac454",
   "metadata": {
    "execution": {
     "iopub.execute_input": "2023-08-08T14:10:44.415024Z",
     "iopub.status.busy": "2023-08-08T14:10:44.414689Z",
     "iopub.status.idle": "2023-08-08T14:42:55.289612Z",
     "shell.execute_reply": "2023-08-08T14:42:55.288572Z"
    },
    "papermill": {
     "duration": 1931.010916,
     "end_time": "2023-08-08T14:42:55.369439",
     "exception": false,
     "start_time": "2023-08-08T14:10:44.358523",
     "status": "completed"
    },
    "scrolled": false,
    "tags": []
   },
   "outputs": [
    {
     "name": "stdout",
     "output_type": "stream",
     "text": [
      "12\n",
      "xgb [FOLD-0 SEED-5304] BalancedLogLoss score: 0.18445\n",
      "lgb [FOLD-0 SEED-5304] BalancedLogLoss score: 0.08824\n",
      "lgb1 [FOLD-0 SEED-5304] BalancedLogLoss score: 0.09791\n",
      "lgb2 [FOLD-0 SEED-5304] BalancedLogLoss score: 0.12440\n",
      "hgb [FOLD-0 SEED-5304] BalancedLogLoss score: 0.42115\n",
      "cat [FOLD-0 SEED-5304] BalancedLogLoss score: 0.08407\n",
      "xgb01 [FOLD-0 SEED-5304] BalancedLogLoss score: 0.12104\n",
      "xgb02 [FOLD-0 SEED-5304] BalancedLogLoss score: 0.14857\n",
      "xgb1 [FOLD-0 SEED-5304] BalancedLogLoss score: 0.18445\n",
      "xgb2 [FOLD-0 SEED-5304] BalancedLogLoss score: 0.12780\n",
      "xgb3 [FOLD-0 SEED-5304] BalancedLogLoss score: 0.15935\n",
      "xgb5 [FOLD-0 SEED-5304] BalancedLogLoss score: 0.15631\n",
      "--> Ensemble [FOLD-0 SEED-5304] BalancedLogLoss score 0.08398\n",
      "12\n",
      "xgb [FOLD-1 SEED-5304] BalancedLogLoss score: 0.44174\n",
      "lgb [FOLD-1 SEED-5304] BalancedLogLoss score: 0.33739\n",
      "lgb1 [FOLD-1 SEED-5304] BalancedLogLoss score: 0.30729\n",
      "lgb2 [FOLD-1 SEED-5304] BalancedLogLoss score: 0.28585\n",
      "hgb [FOLD-1 SEED-5304] BalancedLogLoss score: 0.63976\n",
      "cat [FOLD-1 SEED-5304] BalancedLogLoss score: 0.57073\n",
      "xgb01 [FOLD-1 SEED-5304] BalancedLogLoss score: 0.48641\n",
      "xgb02 [FOLD-1 SEED-5304] BalancedLogLoss score: 0.49453\n",
      "xgb1 [FOLD-1 SEED-5304] BalancedLogLoss score: 0.44174\n",
      "xgb2 [FOLD-1 SEED-5304] BalancedLogLoss score: 0.47566\n",
      "xgb3 [FOLD-1 SEED-5304] BalancedLogLoss score: 0.58736\n",
      "xgb5 [FOLD-1 SEED-5304] BalancedLogLoss score: 0.53742\n",
      "--> Ensemble [FOLD-1 SEED-5304] BalancedLogLoss score 0.29874\n",
      "12\n",
      "xgb [FOLD-2 SEED-5304] BalancedLogLoss score: 0.13162\n",
      "lgb [FOLD-2 SEED-5304] BalancedLogLoss score: 0.13871\n",
      "lgb1 [FOLD-2 SEED-5304] BalancedLogLoss score: 0.08841\n",
      "lgb2 [FOLD-2 SEED-5304] BalancedLogLoss score: 0.09249\n",
      "hgb [FOLD-2 SEED-5304] BalancedLogLoss score: 0.37466\n",
      "cat [FOLD-2 SEED-5304] BalancedLogLoss score: 0.12821\n",
      "xgb01 [FOLD-2 SEED-5304] BalancedLogLoss score: 0.10833\n",
      "xgb02 [FOLD-2 SEED-5304] BalancedLogLoss score: 0.13457\n",
      "xgb1 [FOLD-2 SEED-5304] BalancedLogLoss score: 0.13162\n",
      "xgb2 [FOLD-2 SEED-5304] BalancedLogLoss score: 0.15728\n",
      "xgb3 [FOLD-2 SEED-5304] BalancedLogLoss score: 0.14164\n",
      "xgb5 [FOLD-2 SEED-5304] BalancedLogLoss score: 0.28304\n",
      "--> Ensemble [FOLD-2 SEED-5304] BalancedLogLoss score 0.08583\n",
      "12\n",
      "xgb [FOLD-3 SEED-5304] BalancedLogLoss score: 0.48323\n",
      "lgb [FOLD-3 SEED-5304] BalancedLogLoss score: 0.28471\n",
      "lgb1 [FOLD-3 SEED-5304] BalancedLogLoss score: 0.34034\n",
      "lgb2 [FOLD-3 SEED-5304] BalancedLogLoss score: 0.33433\n",
      "hgb [FOLD-3 SEED-5304] BalancedLogLoss score: 0.49102\n",
      "cat [FOLD-3 SEED-5304] BalancedLogLoss score: 0.43997\n",
      "xgb01 [FOLD-3 SEED-5304] BalancedLogLoss score: 0.33819\n",
      "xgb02 [FOLD-3 SEED-5304] BalancedLogLoss score: 0.29972\n",
      "xgb1 [FOLD-3 SEED-5304] BalancedLogLoss score: 0.48323\n",
      "xgb2 [FOLD-3 SEED-5304] BalancedLogLoss score: 0.35669\n",
      "xgb3 [FOLD-3 SEED-5304] BalancedLogLoss score: 0.50419\n",
      "xgb5 [FOLD-3 SEED-5304] BalancedLogLoss score: 0.53504\n",
      "--> Ensemble [FOLD-3 SEED-5304] BalancedLogLoss score 0.29379\n",
      "12\n",
      "xgb [FOLD-4 SEED-5304] BalancedLogLoss score: 0.39637\n",
      "lgb [FOLD-4 SEED-5304] BalancedLogLoss score: 0.38990\n",
      "lgb1 [FOLD-4 SEED-5304] BalancedLogLoss score: 0.25258\n",
      "lgb2 [FOLD-4 SEED-5304] BalancedLogLoss score: 0.32865\n",
      "hgb [FOLD-4 SEED-5304] BalancedLogLoss score: 0.55431\n",
      "cat [FOLD-4 SEED-5304] BalancedLogLoss score: 0.41645\n",
      "xgb01 [FOLD-4 SEED-5304] BalancedLogLoss score: 0.46120\n",
      "xgb02 [FOLD-4 SEED-5304] BalancedLogLoss score: 0.39746\n",
      "xgb1 [FOLD-4 SEED-5304] BalancedLogLoss score: 0.39637\n",
      "xgb2 [FOLD-4 SEED-5304] BalancedLogLoss score: 0.46987\n",
      "xgb3 [FOLD-4 SEED-5304] BalancedLogLoss score: 0.48627\n",
      "xgb5 [FOLD-4 SEED-5304] BalancedLogLoss score: 0.53905\n",
      "--> Ensemble [FOLD-4 SEED-5304] BalancedLogLoss score 0.25698\n",
      "12\n",
      "xgb [FOLD-0 SEED-8330] BalancedLogLoss score: 0.40253\n",
      "lgb [FOLD-0 SEED-8330] BalancedLogLoss score: 0.42834\n",
      "lgb1 [FOLD-0 SEED-8330] BalancedLogLoss score: 0.41232\n",
      "lgb2 [FOLD-0 SEED-8330] BalancedLogLoss score: 0.45201\n",
      "hgb [FOLD-0 SEED-8330] BalancedLogLoss score: 0.62180\n",
      "cat [FOLD-0 SEED-8330] BalancedLogLoss score: 0.44805\n",
      "xgb01 [FOLD-0 SEED-8330] BalancedLogLoss score: 0.44321\n",
      "xgb02 [FOLD-0 SEED-8330] BalancedLogLoss score: 0.43544\n",
      "xgb1 [FOLD-0 SEED-8330] BalancedLogLoss score: 0.40253\n",
      "xgb2 [FOLD-0 SEED-8330] BalancedLogLoss score: 0.41893\n",
      "xgb3 [FOLD-0 SEED-8330] BalancedLogLoss score: 0.64534\n",
      "xgb5 [FOLD-0 SEED-8330] BalancedLogLoss score: 0.58057\n",
      "--> Ensemble [FOLD-0 SEED-8330] BalancedLogLoss score 0.33759\n",
      "12\n",
      "xgb [FOLD-1 SEED-8330] BalancedLogLoss score: 0.51913\n",
      "lgb [FOLD-1 SEED-8330] BalancedLogLoss score: 0.34974\n",
      "lgb1 [FOLD-1 SEED-8330] BalancedLogLoss score: 0.31039\n",
      "lgb2 [FOLD-1 SEED-8330] BalancedLogLoss score: 0.42327\n",
      "hgb [FOLD-1 SEED-8330] BalancedLogLoss score: 0.55722\n",
      "cat [FOLD-1 SEED-8330] BalancedLogLoss score: 0.44311\n",
      "xgb01 [FOLD-1 SEED-8330] BalancedLogLoss score: 0.41173\n",
      "xgb02 [FOLD-1 SEED-8330] BalancedLogLoss score: 0.35160\n",
      "xgb1 [FOLD-1 SEED-8330] BalancedLogLoss score: 0.51913\n",
      "xgb2 [FOLD-1 SEED-8330] BalancedLogLoss score: 0.41951\n",
      "xgb3 [FOLD-1 SEED-8330] BalancedLogLoss score: 0.53070\n",
      "xgb5 [FOLD-1 SEED-8330] BalancedLogLoss score: 0.49235\n",
      "--> Ensemble [FOLD-1 SEED-8330] BalancedLogLoss score 0.31168\n",
      "12\n",
      "xgb [FOLD-2 SEED-8330] BalancedLogLoss score: 0.21743\n",
      "lgb [FOLD-2 SEED-8330] BalancedLogLoss score: 0.12412\n",
      "lgb1 [FOLD-2 SEED-8330] BalancedLogLoss score: 0.20023\n",
      "lgb2 [FOLD-2 SEED-8330] BalancedLogLoss score: 0.14138\n",
      "hgb [FOLD-2 SEED-8330] BalancedLogLoss score: 0.34210\n",
      "cat [FOLD-2 SEED-8330] BalancedLogLoss score: 0.22705\n",
      "xgb01 [FOLD-2 SEED-8330] BalancedLogLoss score: 0.17550\n",
      "xgb02 [FOLD-2 SEED-8330] BalancedLogLoss score: 0.13205\n",
      "xgb1 [FOLD-2 SEED-8330] BalancedLogLoss score: 0.21743\n",
      "xgb2 [FOLD-2 SEED-8330] BalancedLogLoss score: 0.09810\n",
      "xgb3 [FOLD-2 SEED-8330] BalancedLogLoss score: 0.18688\n",
      "xgb5 [FOLD-2 SEED-8330] BalancedLogLoss score: 0.26231\n",
      "--> Ensemble [FOLD-2 SEED-8330] BalancedLogLoss score 0.10799\n",
      "12\n",
      "xgb [FOLD-3 SEED-8330] BalancedLogLoss score: 0.33102\n",
      "lgb [FOLD-3 SEED-8330] BalancedLogLoss score: 0.18843\n",
      "lgb1 [FOLD-3 SEED-8330] BalancedLogLoss score: 0.20598\n",
      "lgb2 [FOLD-3 SEED-8330] BalancedLogLoss score: 0.20684\n",
      "hgb [FOLD-3 SEED-8330] BalancedLogLoss score: 0.47816\n",
      "cat [FOLD-3 SEED-8330] BalancedLogLoss score: 0.23916\n",
      "xgb01 [FOLD-3 SEED-8330] BalancedLogLoss score: 0.19257\n",
      "xgb02 [FOLD-3 SEED-8330] BalancedLogLoss score: 0.19712\n",
      "xgb1 [FOLD-3 SEED-8330] BalancedLogLoss score: 0.33102\n",
      "xgb2 [FOLD-3 SEED-8330] BalancedLogLoss score: 0.19421\n",
      "xgb3 [FOLD-3 SEED-8330] BalancedLogLoss score: 0.24717\n",
      "xgb5 [FOLD-3 SEED-8330] BalancedLogLoss score: 0.44348\n",
      "--> Ensemble [FOLD-3 SEED-8330] BalancedLogLoss score 0.18130\n",
      "12\n",
      "xgb [FOLD-4 SEED-8330] BalancedLogLoss score: 0.14413\n",
      "lgb [FOLD-4 SEED-8330] BalancedLogLoss score: 0.20211\n",
      "lgb1 [FOLD-4 SEED-8330] BalancedLogLoss score: 0.20222\n",
      "lgb2 [FOLD-4 SEED-8330] BalancedLogLoss score: 0.23190\n",
      "hgb [FOLD-4 SEED-8330] BalancedLogLoss score: 0.43655\n",
      "cat [FOLD-4 SEED-8330] BalancedLogLoss score: 0.31014\n",
      "xgb01 [FOLD-4 SEED-8330] BalancedLogLoss score: 0.29105\n",
      "xgb02 [FOLD-4 SEED-8330] BalancedLogLoss score: 0.25364\n",
      "xgb1 [FOLD-4 SEED-8330] BalancedLogLoss score: 0.14413\n",
      "xgb2 [FOLD-4 SEED-8330] BalancedLogLoss score: 0.24265\n",
      "xgb3 [FOLD-4 SEED-8330] BalancedLogLoss score: 0.35747\n",
      "xgb5 [FOLD-4 SEED-8330] BalancedLogLoss score: 0.35133\n",
      "--> Ensemble [FOLD-4 SEED-8330] BalancedLogLoss score 0.13786\n",
      "12\n",
      "xgb [FOLD-0 SEED-138] BalancedLogLoss score: 0.28636\n",
      "lgb [FOLD-0 SEED-138] BalancedLogLoss score: 0.27978\n",
      "lgb1 [FOLD-0 SEED-138] BalancedLogLoss score: 0.26162\n",
      "lgb2 [FOLD-0 SEED-138] BalancedLogLoss score: 0.22437\n",
      "hgb [FOLD-0 SEED-138] BalancedLogLoss score: 0.42541\n",
      "cat [FOLD-0 SEED-138] BalancedLogLoss score: 0.29915\n",
      "xgb01 [FOLD-0 SEED-138] BalancedLogLoss score: 0.27667\n",
      "xgb02 [FOLD-0 SEED-138] BalancedLogLoss score: 0.25625\n",
      "xgb1 [FOLD-0 SEED-138] BalancedLogLoss score: 0.28636\n",
      "xgb2 [FOLD-0 SEED-138] BalancedLogLoss score: 0.41324\n",
      "xgb3 [FOLD-0 SEED-138] BalancedLogLoss score: 0.35524\n",
      "xgb5 [FOLD-0 SEED-138] BalancedLogLoss score: 0.38354\n",
      "--> Ensemble [FOLD-0 SEED-138] BalancedLogLoss score 0.22095\n",
      "12\n",
      "xgb [FOLD-1 SEED-138] BalancedLogLoss score: 0.40310\n",
      "lgb [FOLD-1 SEED-138] BalancedLogLoss score: 0.12766\n",
      "lgb1 [FOLD-1 SEED-138] BalancedLogLoss score: 0.14253\n",
      "lgb2 [FOLD-1 SEED-138] BalancedLogLoss score: 0.13801\n",
      "hgb [FOLD-1 SEED-138] BalancedLogLoss score: 0.34056\n"
     ]
    },
    {
     "name": "stdout",
     "output_type": "stream",
     "text": [
      "cat [FOLD-1 SEED-138] BalancedLogLoss score: 0.17392\n",
      "xgb01 [FOLD-1 SEED-138] BalancedLogLoss score: 0.13678\n",
      "xgb02 [FOLD-1 SEED-138] BalancedLogLoss score: 0.13513\n",
      "xgb1 [FOLD-1 SEED-138] BalancedLogLoss score: 0.40310\n",
      "xgb2 [FOLD-1 SEED-138] BalancedLogLoss score: 0.08614\n",
      "xgb3 [FOLD-1 SEED-138] BalancedLogLoss score: 0.12779\n",
      "xgb5 [FOLD-1 SEED-138] BalancedLogLoss score: 0.28304\n",
      "--> Ensemble [FOLD-1 SEED-138] BalancedLogLoss score 0.09388\n",
      "12\n",
      "xgb [FOLD-2 SEED-138] BalancedLogLoss score: 0.35487\n",
      "lgb [FOLD-2 SEED-138] BalancedLogLoss score: 0.31658\n",
      "lgb1 [FOLD-2 SEED-138] BalancedLogLoss score: 0.35647\n",
      "lgb2 [FOLD-2 SEED-138] BalancedLogLoss score: 0.28975\n",
      "hgb [FOLD-2 SEED-138] BalancedLogLoss score: 0.54371\n",
      "cat [FOLD-2 SEED-138] BalancedLogLoss score: 0.40003\n",
      "xgb01 [FOLD-2 SEED-138] BalancedLogLoss score: 0.35706\n",
      "xgb02 [FOLD-2 SEED-138] BalancedLogLoss score: 0.34867\n",
      "xgb1 [FOLD-2 SEED-138] BalancedLogLoss score: 0.35487\n",
      "xgb2 [FOLD-2 SEED-138] BalancedLogLoss score: 0.39980\n",
      "xgb3 [FOLD-2 SEED-138] BalancedLogLoss score: 0.44862\n",
      "xgb5 [FOLD-2 SEED-138] BalancedLogLoss score: 0.47301\n",
      "--> Ensemble [FOLD-2 SEED-138] BalancedLogLoss score 0.26623\n",
      "12\n",
      "xgb [FOLD-3 SEED-138] BalancedLogLoss score: 0.26675\n",
      "lgb [FOLD-3 SEED-138] BalancedLogLoss score: 0.19571\n",
      "lgb1 [FOLD-3 SEED-138] BalancedLogLoss score: 0.22858\n",
      "lgb2 [FOLD-3 SEED-138] BalancedLogLoss score: 0.26969\n",
      "hgb [FOLD-3 SEED-138] BalancedLogLoss score: 0.48728\n",
      "cat [FOLD-3 SEED-138] BalancedLogLoss score: 0.31533\n",
      "xgb01 [FOLD-3 SEED-138] BalancedLogLoss score: 0.24837\n",
      "xgb02 [FOLD-3 SEED-138] BalancedLogLoss score: 0.23298\n",
      "xgb1 [FOLD-3 SEED-138] BalancedLogLoss score: 0.26675\n",
      "xgb2 [FOLD-3 SEED-138] BalancedLogLoss score: 0.21160\n",
      "xgb3 [FOLD-3 SEED-138] BalancedLogLoss score: 0.28152\n",
      "xgb5 [FOLD-3 SEED-138] BalancedLogLoss score: 0.39831\n",
      "--> Ensemble [FOLD-3 SEED-138] BalancedLogLoss score 0.20201\n",
      "12\n",
      "xgb [FOLD-4 SEED-138] BalancedLogLoss score: 0.51594\n",
      "lgb [FOLD-4 SEED-138] BalancedLogLoss score: 0.30524\n",
      "lgb1 [FOLD-4 SEED-138] BalancedLogLoss score: 0.28157\n",
      "lgb2 [FOLD-4 SEED-138] BalancedLogLoss score: 0.27418\n",
      "hgb [FOLD-4 SEED-138] BalancedLogLoss score: 0.38402\n",
      "cat [FOLD-4 SEED-138] BalancedLogLoss score: 0.38695\n",
      "xgb01 [FOLD-4 SEED-138] BalancedLogLoss score: 0.27847\n",
      "xgb02 [FOLD-4 SEED-138] BalancedLogLoss score: 0.29578\n",
      "xgb1 [FOLD-4 SEED-138] BalancedLogLoss score: 0.51594\n",
      "xgb2 [FOLD-4 SEED-138] BalancedLogLoss score: 0.36220\n",
      "xgb3 [FOLD-4 SEED-138] BalancedLogLoss score: 0.39818\n",
      "xgb5 [FOLD-4 SEED-138] BalancedLogLoss score: 0.53592\n",
      "--> Ensemble [FOLD-4 SEED-138] BalancedLogLoss score 0.25595\n",
      "12\n",
      "xgb [FOLD-0 SEED-4340] BalancedLogLoss score: 0.34584\n",
      "lgb [FOLD-0 SEED-4340] BalancedLogLoss score: 0.22192\n",
      "lgb1 [FOLD-0 SEED-4340] BalancedLogLoss score: 0.22839\n",
      "lgb2 [FOLD-0 SEED-4340] BalancedLogLoss score: 0.35702\n",
      "hgb [FOLD-0 SEED-4340] BalancedLogLoss score: 0.54011\n",
      "cat [FOLD-0 SEED-4340] BalancedLogLoss score: 0.39400\n",
      "xgb01 [FOLD-0 SEED-4340] BalancedLogLoss score: 0.30447\n",
      "xgb02 [FOLD-0 SEED-4340] BalancedLogLoss score: 0.23667\n",
      "xgb1 [FOLD-0 SEED-4340] BalancedLogLoss score: 0.34584\n",
      "xgb2 [FOLD-0 SEED-4340] BalancedLogLoss score: 0.33940\n",
      "xgb3 [FOLD-0 SEED-4340] BalancedLogLoss score: 0.36968\n",
      "xgb5 [FOLD-0 SEED-4340] BalancedLogLoss score: 0.42042\n",
      "--> Ensemble [FOLD-0 SEED-4340] BalancedLogLoss score 0.21595\n",
      "12\n",
      "xgb [FOLD-1 SEED-4340] BalancedLogLoss score: 0.47968\n",
      "lgb [FOLD-1 SEED-4340] BalancedLogLoss score: 0.35092\n",
      "lgb1 [FOLD-1 SEED-4340] BalancedLogLoss score: 0.30309\n",
      "lgb2 [FOLD-1 SEED-4340] BalancedLogLoss score: 0.24436\n",
      "hgb [FOLD-1 SEED-4340] BalancedLogLoss score: 0.53648\n",
      "cat [FOLD-1 SEED-4340] BalancedLogLoss score: 0.38660\n",
      "xgb01 [FOLD-1 SEED-4340] BalancedLogLoss score: 0.32105\n",
      "xgb02 [FOLD-1 SEED-4340] BalancedLogLoss score: 0.36148\n",
      "xgb1 [FOLD-1 SEED-4340] BalancedLogLoss score: 0.47968\n",
      "xgb2 [FOLD-1 SEED-4340] BalancedLogLoss score: 0.46181\n",
      "xgb3 [FOLD-1 SEED-4340] BalancedLogLoss score: 0.44615\n",
      "xgb5 [FOLD-1 SEED-4340] BalancedLogLoss score: 0.51119\n",
      "--> Ensemble [FOLD-1 SEED-4340] BalancedLogLoss score 0.27099\n",
      "12\n",
      "xgb [FOLD-2 SEED-4340] BalancedLogLoss score: 0.35164\n",
      "lgb [FOLD-2 SEED-4340] BalancedLogLoss score: 0.28813\n",
      "lgb1 [FOLD-2 SEED-4340] BalancedLogLoss score: 0.18689\n",
      "lgb2 [FOLD-2 SEED-4340] BalancedLogLoss score: 0.29567\n",
      "hgb [FOLD-2 SEED-4340] BalancedLogLoss score: 0.41775\n",
      "cat [FOLD-2 SEED-4340] BalancedLogLoss score: 0.35172\n",
      "xgb01 [FOLD-2 SEED-4340] BalancedLogLoss score: 0.37554\n",
      "xgb02 [FOLD-2 SEED-4340] BalancedLogLoss score: 0.29058\n",
      "xgb1 [FOLD-2 SEED-4340] BalancedLogLoss score: 0.35164\n",
      "xgb2 [FOLD-2 SEED-4340] BalancedLogLoss score: 0.35162\n",
      "xgb3 [FOLD-2 SEED-4340] BalancedLogLoss score: 0.34352\n",
      "xgb5 [FOLD-2 SEED-4340] BalancedLogLoss score: 0.48819\n",
      "--> Ensemble [FOLD-2 SEED-4340] BalancedLogLoss score 0.18733\n",
      "12\n",
      "xgb [FOLD-3 SEED-4340] BalancedLogLoss score: 0.20216\n",
      "lgb [FOLD-3 SEED-4340] BalancedLogLoss score: 0.14126\n",
      "lgb1 [FOLD-3 SEED-4340] BalancedLogLoss score: 0.23743\n",
      "lgb2 [FOLD-3 SEED-4340] BalancedLogLoss score: 0.11868\n",
      "hgb [FOLD-3 SEED-4340] BalancedLogLoss score: 0.44711\n",
      "cat [FOLD-3 SEED-4340] BalancedLogLoss score: 0.14065\n",
      "xgb01 [FOLD-3 SEED-4340] BalancedLogLoss score: 0.14815\n",
      "xgb02 [FOLD-3 SEED-4340] BalancedLogLoss score: 0.16296\n",
      "xgb1 [FOLD-3 SEED-4340] BalancedLogLoss score: 0.20216\n",
      "xgb2 [FOLD-3 SEED-4340] BalancedLogLoss score: 0.18338\n",
      "xgb3 [FOLD-3 SEED-4340] BalancedLogLoss score: 0.20242\n",
      "xgb5 [FOLD-3 SEED-4340] BalancedLogLoss score: 0.29753\n",
      "--> Ensemble [FOLD-3 SEED-4340] BalancedLogLoss score 0.12974\n",
      "12\n",
      "xgb [FOLD-4 SEED-4340] BalancedLogLoss score: 0.36936\n",
      "lgb [FOLD-4 SEED-4340] BalancedLogLoss score: 0.22523\n",
      "lgb1 [FOLD-4 SEED-4340] BalancedLogLoss score: 0.28084\n",
      "lgb2 [FOLD-4 SEED-4340] BalancedLogLoss score: 0.27119\n",
      "hgb [FOLD-4 SEED-4340] BalancedLogLoss score: 0.41117\n",
      "cat [FOLD-4 SEED-4340] BalancedLogLoss score: 0.33673\n",
      "xgb01 [FOLD-4 SEED-4340] BalancedLogLoss score: 0.23789\n",
      "xgb02 [FOLD-4 SEED-4340] BalancedLogLoss score: 0.24746\n",
      "xgb1 [FOLD-4 SEED-4340] BalancedLogLoss score: 0.36936\n",
      "xgb2 [FOLD-4 SEED-4340] BalancedLogLoss score: 0.23890\n",
      "xgb3 [FOLD-4 SEED-4340] BalancedLogLoss score: 0.29888\n",
      "xgb5 [FOLD-4 SEED-4340] BalancedLogLoss score: 0.37604\n",
      "--> Ensemble [FOLD-4 SEED-4340] BalancedLogLoss score 0.22767\n",
      "12\n",
      "xgb [FOLD-0 SEED-2536] BalancedLogLoss score: 0.32412\n",
      "lgb [FOLD-0 SEED-2536] BalancedLogLoss score: 0.15434\n",
      "lgb1 [FOLD-0 SEED-2536] BalancedLogLoss score: 0.20923\n",
      "lgb2 [FOLD-0 SEED-2536] BalancedLogLoss score: 0.22466\n",
      "hgb [FOLD-0 SEED-2536] BalancedLogLoss score: 0.39042\n",
      "cat [FOLD-0 SEED-2536] BalancedLogLoss score: 0.27693\n",
      "xgb01 [FOLD-0 SEED-2536] BalancedLogLoss score: 0.23530\n",
      "xgb02 [FOLD-0 SEED-2536] BalancedLogLoss score: 0.19453\n",
      "xgb1 [FOLD-0 SEED-2536] BalancedLogLoss score: 0.32412\n",
      "xgb2 [FOLD-0 SEED-2536] BalancedLogLoss score: 0.24745\n",
      "xgb3 [FOLD-0 SEED-2536] BalancedLogLoss score: 0.23116\n",
      "xgb5 [FOLD-0 SEED-2536] BalancedLogLoss score: 0.40837\n",
      "--> Ensemble [FOLD-0 SEED-2536] BalancedLogLoss score 0.17199\n",
      "12\n",
      "xgb [FOLD-1 SEED-2536] BalancedLogLoss score: 0.17953\n",
      "lgb [FOLD-1 SEED-2536] BalancedLogLoss score: 0.28308\n",
      "lgb1 [FOLD-1 SEED-2536] BalancedLogLoss score: 0.26374\n",
      "lgb2 [FOLD-1 SEED-2536] BalancedLogLoss score: 0.28395\n",
      "hgb [FOLD-1 SEED-2536] BalancedLogLoss score: 0.42373\n",
      "cat [FOLD-1 SEED-2536] BalancedLogLoss score: 0.34107\n",
      "xgb01 [FOLD-1 SEED-2536] BalancedLogLoss score: 0.31570\n",
      "xgb02 [FOLD-1 SEED-2536] BalancedLogLoss score: 0.28252\n",
      "xgb1 [FOLD-1 SEED-2536] BalancedLogLoss score: 0.17953\n",
      "xgb2 [FOLD-1 SEED-2536] BalancedLogLoss score: 0.29532\n",
      "xgb3 [FOLD-1 SEED-2536] BalancedLogLoss score: 0.28908\n",
      "xgb5 [FOLD-1 SEED-2536] BalancedLogLoss score: 0.43413\n",
      "--> Ensemble [FOLD-1 SEED-2536] BalancedLogLoss score 0.17949\n",
      "12\n",
      "xgb [FOLD-2 SEED-2536] BalancedLogLoss score: 0.29639\n",
      "lgb [FOLD-2 SEED-2536] BalancedLogLoss score: 0.18609\n",
      "lgb1 [FOLD-2 SEED-2536] BalancedLogLoss score: 0.17724\n",
      "lgb2 [FOLD-2 SEED-2536] BalancedLogLoss score: 0.17737\n",
      "hgb [FOLD-2 SEED-2536] BalancedLogLoss score: 0.45415\n",
      "cat [FOLD-2 SEED-2536] BalancedLogLoss score: 0.28631\n",
      "xgb01 [FOLD-2 SEED-2536] BalancedLogLoss score: 0.19274\n",
      "xgb02 [FOLD-2 SEED-2536] BalancedLogLoss score: 0.18078\n",
      "xgb1 [FOLD-2 SEED-2536] BalancedLogLoss score: 0.29639\n",
      "xgb2 [FOLD-2 SEED-2536] BalancedLogLoss score: 0.17856\n",
      "xgb3 [FOLD-2 SEED-2536] BalancedLogLoss score: 0.29977\n",
      "xgb5 [FOLD-2 SEED-2536] BalancedLogLoss score: 0.29268\n"
     ]
    },
    {
     "name": "stdout",
     "output_type": "stream",
     "text": [
      "--> Ensemble [FOLD-2 SEED-2536] BalancedLogLoss score 0.16673\n",
      "12\n",
      "xgb [FOLD-3 SEED-2536] BalancedLogLoss score: 0.42578\n",
      "lgb [FOLD-3 SEED-2536] BalancedLogLoss score: 0.28425\n",
      "lgb1 [FOLD-3 SEED-2536] BalancedLogLoss score: 0.33294\n",
      "lgb2 [FOLD-3 SEED-2536] BalancedLogLoss score: 0.34093\n",
      "hgb [FOLD-3 SEED-2536] BalancedLogLoss score: 0.53569\n",
      "cat [FOLD-3 SEED-2536] BalancedLogLoss score: 0.43999\n",
      "xgb01 [FOLD-3 SEED-2536] BalancedLogLoss score: 0.29758\n",
      "xgb02 [FOLD-3 SEED-2536] BalancedLogLoss score: 0.36378\n",
      "xgb1 [FOLD-3 SEED-2536] BalancedLogLoss score: 0.42578\n",
      "xgb2 [FOLD-3 SEED-2536] BalancedLogLoss score: 0.39113\n",
      "xgb3 [FOLD-3 SEED-2536] BalancedLogLoss score: 0.48545\n",
      "xgb5 [FOLD-3 SEED-2536] BalancedLogLoss score: 0.53917\n",
      "--> Ensemble [FOLD-3 SEED-2536] BalancedLogLoss score 0.28359\n",
      "12\n",
      "xgb [FOLD-4 SEED-2536] BalancedLogLoss score: 0.28639\n",
      "lgb [FOLD-4 SEED-2536] BalancedLogLoss score: 0.37191\n",
      "lgb1 [FOLD-4 SEED-2536] BalancedLogLoss score: 0.36659\n",
      "lgb2 [FOLD-4 SEED-2536] BalancedLogLoss score: 0.31421\n",
      "hgb [FOLD-4 SEED-2536] BalancedLogLoss score: 0.54991\n",
      "cat [FOLD-4 SEED-2536] BalancedLogLoss score: 0.36656\n",
      "xgb01 [FOLD-4 SEED-2536] BalancedLogLoss score: 0.37235\n",
      "xgb02 [FOLD-4 SEED-2536] BalancedLogLoss score: 0.35842\n",
      "xgb1 [FOLD-4 SEED-2536] BalancedLogLoss score: 0.28639\n",
      "xgb2 [FOLD-4 SEED-2536] BalancedLogLoss score: 0.41299\n",
      "xgb3 [FOLD-4 SEED-2536] BalancedLogLoss score: 0.40827\n",
      "xgb5 [FOLD-4 SEED-2536] BalancedLogLoss score: 0.42230\n",
      "--> Ensemble [FOLD-4 SEED-2536] BalancedLogLoss score 0.25635\n",
      "CPU times: user 13min 51s, sys: 5min 11s, total: 19min 2s\n",
      "Wall time: 9min 57s\n"
     ]
    }
   ],
   "source": [
    "%%time\n",
    "\n",
    "kfold = 'skf'\n",
    "n_splits = 5\n",
    "n_reapts = 5\n",
    "random_state = 71\n",
    "n_estimators = 99999\n",
    "early_stopping_rounds = 1000\n",
    "verbose = False\n",
    "device = 'cpu'\n",
    "\n",
    "# Fix seed\n",
    "random.seed(random_state)\n",
    "random_state_list = random.sample(range(9999), n_reapts)\n",
    "\n",
    "# Initialize an array for storing test predictions\n",
    "classifier = Classifier(n_estimators, device, random_state)\n",
    "test_predss = np.zeros((X_test.shape[0]))\n",
    "oof_predss = np.zeros((X_train.shape[0], n_reapts))\n",
    "ensemble_score, ensemble_score_ = [], []\n",
    "weights = []\n",
    "oof_each_predss = []\n",
    "oof_each_preds = np.zeros((X_train.shape[0], classifier.len_models))\n",
    "test_each_predss = []\n",
    "test_each_preds = np.zeros((X_test.shape[0], classifier.len_models))\n",
    "trained_models = {'xgb':[], 'cat':[]}\n",
    "score_dict = dict(zip(classifier.models_name, [[] for _ in range(classifier.len_models)]))\n",
    "\n",
    "splitter = Splitter(kfold=kfold, n_splits=n_splits, greeks=greeks.iloc[:,1:-1])\n",
    "for i, (X_train_, X_val, y_train_, y_val) in enumerate(splitter.split_data(X_train, y_train, random_state_list=random_state_list)):\n",
    "    n = i % n_splits\n",
    "    m = i // n_splits\n",
    "            \n",
    "    # Get a set of classifier models\n",
    "    classifier = Classifier(n_estimators, device, random_state_list[m])\n",
    "    models = classifier.models\n",
    "    print(len(models))\n",
    "    \n",
    "    # Initialize lists to store oof and test predictions for each base model\n",
    "    oof_preds = []\n",
    "    test_preds = []\n",
    "    \n",
    "    # Loop over each base model and fit it to the training data, evaluate on validation data, and store predictions\n",
    "    for name, model in models.items():\n",
    "        if ('xgb' in name) or ('lgb' in name) or ('cat' in name):\n",
    "            train_w0, train_w1 = calc_log_loss_weight(y_train_)\n",
    "            valid_w0, valid_w1 = calc_log_loss_weight(y_val)\n",
    "            if 'xgb' in name:\n",
    "                model.fit(\n",
    "                    X_train_, y_train_, sample_weight=y_train_.map({0: train_w0, 1: train_w1}), \n",
    "                    eval_set=[(X_val, y_val)], sample_weight_eval_set=[y_val.map({0: valid_w0, 1: valid_w1})],\n",
    "                    early_stopping_rounds=early_stopping_rounds, verbose=verbose)\n",
    "            elif 'lgb' in name:\n",
    "                model.fit(\n",
    "                    X_train_, y_train_, sample_weight=y_train_.map({0: train_w0, 1: train_w1}), \n",
    "                    eval_set=[(X_val, y_val)], eval_sample_weight=[y_val.map({0: valid_w0, 1: valid_w1})],\n",
    "                    early_stopping_rounds=early_stopping_rounds, verbose=verbose)\n",
    "            elif 'cat' in name:\n",
    "                model.fit(\n",
    "                    Pool(X_train_, y_train_, weight=y_train_.map({0: train_w0, 1: train_w1})), \n",
    "                    eval_set=Pool(X_val, y_val, weight=y_val.map({0: valid_w0, 1: valid_w1})), \n",
    "                    early_stopping_rounds=early_stopping_rounds, verbose=verbose)\n",
    "        else:\n",
    "            model.fit(X_train_, y_train_)\n",
    "            \n",
    "        if name in trained_models.keys():\n",
    "            trained_models[f'{name}'].append(deepcopy(model))\n",
    "        \n",
    "        test_pred = model.predict_proba(X_test)[:, 1].reshape(-1)\n",
    "        y_val_pred = model.predict_proba(X_val)[:, 1].reshape(-1)\n",
    "        \n",
    "        score = balanced_log_loss(y_val, y_val_pred)\n",
    "        score_dict[name].append(score)\n",
    "        print(f'{name} [FOLD-{n} SEED-{random_state_list[m]}] BalancedLogLoss score: {score:.5f}')\n",
    "        \n",
    "        oof_preds.append(y_val_pred)\n",
    "        test_preds.append(test_pred)\n",
    "    \n",
    "    # Use Optuna to find the best ensemble weights\n",
    "    optweights = OptunaWeights(random_state=random_state_list[m])\n",
    "    y_val_pred = optweights.fit_predict(y_val.values, oof_preds)\n",
    "    \n",
    "    score = balanced_log_loss(y_val, y_val_pred)\n",
    "    score_ = roc_auc_score(y_val, y_val_pred)\n",
    "    print(f'--> Ensemble [FOLD-{n} SEED-{random_state_list[m]}] BalancedLogLoss score {score:.5f}')\n",
    "    ensemble_score.append(score)\n",
    "    ensemble_score_.append(score_)\n",
    "    weights.append(optweights.weights)\n",
    "    \n",
    "    # Predict to X_test by the best ensemble weights\n",
    "    test_predss += optweights.predict(test_preds) / (n_splits * len(random_state_list))\n",
    "    oof_predss[X_val.index, m] += optweights.predict(oof_preds)\n",
    "    oof_each_preds[X_val.index] = np.stack(oof_preds).T\n",
    "    test_each_preds += np.array(test_preds).T / n_splits\n",
    "    if n == (n_splits - 1):\n",
    "        oof_each_predss.append(oof_each_preds)\n",
    "        oof_each_preds = np.zeros((X_train.shape[0], classifier.len_models))\n",
    "        test_each_predss.append(test_each_preds)\n",
    "        test_each_preds = np.zeros((X_test.shape[0], classifier.len_models))\n",
    "    \n",
    "    gc.collect()\n",
    "    \n",
    "oof_each_predss = np.mean(np.array(oof_each_predss), axis=0)\n",
    "test_each_predss = np.mean(np.array(test_each_predss), axis=0)\n",
    "oof_each_predss = np.concatenate([oof_each_predss, np.mean(oof_predss, axis=1).reshape(-1, 1)], axis=1)\n",
    "test_each_predss = np.concatenate([test_each_predss, test_predss.reshape(-1, 1)], axis=1)"
   ]
  },
  {
   "cell_type": "code",
   "execution_count": 37,
   "id": "620dfd29",
   "metadata": {
    "execution": {
     "iopub.execute_input": "2023-08-08T14:42:55.527742Z",
     "iopub.status.busy": "2023-08-08T14:42:55.526734Z",
     "iopub.status.idle": "2023-08-08T14:43:00.521276Z",
     "shell.execute_reply": "2023-08-08T14:43:00.520363Z"
    },
    "papermill": {
     "duration": 5.077426,
     "end_time": "2023-08-08T14:43:00.523758",
     "exception": false,
     "start_time": "2023-08-08T14:42:55.446332",
     "status": "completed"
    },
    "tags": []
   },
   "outputs": [
    {
     "name": "stdout",
     "output_type": "stream",
     "text": [
      "CPU times: user 4.24 s, sys: 243 ms, total: 4.49 s\n",
      "Wall time: 1.18 s\n"
     ]
    }
   ],
   "source": [
    "%%time\n",
    "\n",
    "stack_test_predss = np.zeros((X_test.shape[0]))\n",
    "stack_scores = []\n",
    "stack_models = []\n",
    "splitter = Splitter(kfold=kfold, n_splits=n_splits, greeks=greeks.iloc[:,1:-1])\n",
    "for i, (X_train_, X_val, y_train_, y_val) in enumerate(splitter.split_data(oof_each_predss, y_train, random_state_list=random_state_list)):\n",
    "    n = i % n_splits\n",
    "    m = i // n_splits\n",
    "    \n",
    "    classifier = Classifier(n_estimators, device, random_state_list[m])\n",
    "    models = classifier.models\n",
    "    model = models['lgb1']\n",
    "    \n",
    "    train_w0, train_w1 = calc_log_loss_weight(y_train_)\n",
    "    valid_w0, valid_w1 = calc_log_loss_weight(y_val)\n",
    "    \n",
    "    model.fit(\n",
    "        X_train_, y_train_, sample_weight=y_train_.map({0: train_w0, 1: train_w1}), \n",
    "        eval_set=[(X_val, y_val)], eval_sample_weight=[y_val.map({0: valid_w0, 1: valid_w1})],\n",
    "        early_stopping_rounds=early_stopping_rounds, verbose=verbose)\n",
    "    \n",
    "    test_pred = model.predict_proba(test_each_predss)[:, 1].reshape(-1)\n",
    "    y_val_pred = model.predict_proba(X_val)[:, 1].reshape(-1)\n",
    "\n",
    "    score = balanced_log_loss(y_val, y_val_pred)\n",
    "    stack_scores.append(score)\n",
    "    stack_models.append(deepcopy(model))\n",
    "    \n",
    "    stack_test_predss += test_pred / (n_splits * len(random_state_list))"
   ]
  },
  {
   "cell_type": "code",
   "execution_count": 174,
   "id": "3e9e82e9",
   "metadata": {},
   "outputs": [
    {
     "data": {
      "text/plain": [
       "(617, 13)"
      ]
     },
     "execution_count": 174,
     "metadata": {},
     "output_type": "execute_result"
    }
   ],
   "source": []
  },
  {
   "cell_type": "code",
   "execution_count": 38,
   "id": "c17937b6",
   "metadata": {
    "execution": {
     "iopub.execute_input": "2023-08-08T14:43:00.685531Z",
     "iopub.status.busy": "2023-08-08T14:43:00.685191Z",
     "iopub.status.idle": "2023-08-08T14:43:00.697926Z",
     "shell.execute_reply": "2023-08-08T14:43:00.696769Z"
    },
    "papermill": {
     "duration": 0.097483,
     "end_time": "2023-08-08T14:43:00.700190",
     "exception": false,
     "start_time": "2023-08-08T14:43:00.602707",
     "status": "completed"
    },
    "tags": []
   },
   "outputs": [
    {
     "name": "stdout",
     "output_type": "stream",
     "text": [
      "Ensemble BalancedLogLoss score 0.20898 ± 0.07299\n",
      "--- Model Weights ---\n",
      "xgb: 0.15219 ± 0.27951\n",
      "lgb: 0.42402 ± 0.39402\n",
      "lgb1: 0.52359 ± 0.42086\n",
      "lgb2: 0.33940 ± 0.40705\n",
      "hgb: 0.00381 ± 0.00701\n",
      "cat: 0.06867 ± 0.22195\n",
      "xgb01: 0.11613 ± 0.24560\n",
      "xgb02: 0.15788 ± 0.25046\n",
      "xgb1: 0.17038 ± 0.29837\n",
      "xgb2: 0.23398 ± 0.36788\n",
      "xgb3: 0.01105 ± 0.01762\n",
      "xgb5: 0.00438 ± 0.00652\n",
      "\n",
      "Stacking BalancedLogLoss score 0.15824 ± 0.07428\n",
      "\n"
     ]
    }
   ],
   "source": [
    "# Calculate the mean LogLoss score of the ensemble\n",
    "mean_score = np.mean(ensemble_score)\n",
    "std_score = np.std(ensemble_score)\n",
    "print(f'Ensemble BalancedLogLoss score {mean_score:.5f} ± {std_score:.5f}')\n",
    "# Print the mean and standard deviation of the ensemble weights for each model\n",
    "print('--- Model Weights ---')\n",
    "mean_weights = np.mean(weights, axis=0)\n",
    "std_weights = np.std(weights, axis=0)\n",
    "for name, mean_weight, std_weight in zip(models.keys(), mean_weights, std_weights):\n",
    "    print(f'{name}: {mean_weight:.5f} ± {std_weight:.5f}')\n",
    "print('')\n",
    "\n",
    "# Calculate the mean LogLoss score of the ensemble\n",
    "mean_score = np.mean(stack_scores)\n",
    "std_score = np.std(stack_scores)\n",
    "print(f'Stacking BalancedLogLoss score {mean_score:.5f} ± {std_score:.5f}\\n')\n",
    "\n",
    "# weight_dict = dict(zip(list(score_dict.keys()), np.array(weights).T.tolist()))\n",
    "# plot_score_from_dict(weight_dict, title='Model Weights', ascending=False)\n",
    "normalize = [((weight - np.min(weight)) / (np.max(weight) - np.min(weight))).tolist() for weight in weights]\n",
    "weight_dict = dict(zip(list(score_dict.keys()), np.array(normalize).T.tolist()))\n",
    "#plot_score_from_dict(weight_dict, title='Model Weights (Normalize 0 to 1)', ascending=False)"
   ]
  },
  {
   "cell_type": "code",
   "execution_count": 39,
   "id": "cc4dedde",
   "metadata": {
    "execution": {
     "iopub.execute_input": "2023-08-08T14:43:00.868340Z",
     "iopub.status.busy": "2023-08-08T14:43:00.867954Z",
     "iopub.status.idle": "2023-08-08T14:43:00.885704Z",
     "shell.execute_reply": "2023-08-08T14:43:00.884723Z"
    },
    "papermill": {
     "duration": 0.103389,
     "end_time": "2023-08-08T14:43:00.888310",
     "exception": false,
     "start_time": "2023-08-08T14:43:00.784921",
     "status": "completed"
    },
    "tags": []
   },
   "outputs": [],
   "source": [
    "submission1 = pd.read_csv(os.path.join(filepath, 'sample_submission.csv'))\n",
    "\n",
    "submission1['class_1'] = stack_test_predss\n",
    "submission1['class_0'] = 1 - stack_test_predss\n",
    "#sub.to_csv('submission.csv', index=False)\n",
    "#sub"
   ]
  },
  {
   "cell_type": "markdown",
   "id": "299ff8fd",
   "metadata": {
    "_cell_guid": "cbb68d12-0aea-4ae2-ab95-89ad91bc64e8",
    "_uuid": "1f345cc7-52d7-4cf8-aabd-911987829914",
    "papermill": {
     "duration": 0.080197,
     "end_time": "2023-08-08T14:43:01.058274",
     "exception": false,
     "start_time": "2023-08-08T14:43:00.978077",
     "status": "completed"
    },
    "tags": []
   },
   "source": [
    "### for kaggle notebook"
   ]
  },
  {
   "cell_type": "code",
   "execution_count": 40,
   "id": "3899b577",
   "metadata": {
    "_cell_guid": "288e1b7a-eb8c-447f-9903-65ccab09257e",
    "_uuid": "1fefe9dc-80f8-4a7a-b5eb-8668cb347313",
    "execution": {
     "iopub.execute_input": "2023-08-08T14:43:01.217419Z",
     "iopub.status.busy": "2023-08-08T14:43:01.217067Z",
     "iopub.status.idle": "2023-08-08T14:43:01.221291Z",
     "shell.execute_reply": "2023-08-08T14:43:01.220305Z"
    },
    "jupyter": {
     "outputs_hidden": false
    },
    "papermill": {
     "duration": 0.084944,
     "end_time": "2023-08-08T14:43:01.223271",
     "exception": false,
     "start_time": "2023-08-08T14:43:01.138327",
     "status": "completed"
    },
    "tags": []
   },
   "outputs": [],
   "source": [
    "# !pip install tabpfn --no-index --find-links=file:///kaggle/input/pip-packages-icr/pip-packages\n",
    "# !mkdir -p /opt/conda/lib/python3.10/site-packages/tabpfn/models_diff\n",
    "# !cp /kaggle/input/pip-packages-icr/pip-packages/prior_diff_real_checkpoint_n_0_epoch_100.cpkt /opt/conda/lib/python3.10/site-packages/tabpfn/models_diff/"
   ]
  },
  {
   "cell_type": "code",
   "execution_count": 41,
   "id": "4c2ad202",
   "metadata": {
    "_cell_guid": "981b0730-e331-4c4f-be64-5cc3b2fe1886",
    "_uuid": "e961fe8e-c87b-407b-bd9d-e9172e9849f1",
    "execution": {
     "iopub.execute_input": "2023-08-08T14:43:01.388882Z",
     "iopub.status.busy": "2023-08-08T14:43:01.387882Z",
     "iopub.status.idle": "2023-08-08T14:43:01.392630Z",
     "shell.execute_reply": "2023-08-08T14:43:01.391576Z"
    },
    "jupyter": {
     "outputs_hidden": false
    },
    "papermill": {
     "duration": 0.09117,
     "end_time": "2023-08-08T14:43:01.394674",
     "exception": false,
     "start_time": "2023-08-08T14:43:01.303504",
     "status": "completed"
    },
    "tags": []
   },
   "outputs": [],
   "source": [
    "# %%HTML\n",
    "# <style>\n",
    "#     div#notebook-container    { width: 95%; }\n",
    "#     div#menubar-container     { width: 95%; }\n",
    "#     div#maintoolbar-container { width: 99%; }\n",
    "# </style>"
   ]
  },
  {
   "cell_type": "code",
   "execution_count": 42,
   "id": "7f3d04b2",
   "metadata": {
    "_cell_guid": "ad62c80c-2008-4bbd-90d4-002918abee3e",
    "_uuid": "263f332b-9ee2-4da5-b783-1ed7983bece7",
    "execution": {
     "iopub.execute_input": "2023-08-08T14:43:01.559993Z",
     "iopub.status.busy": "2023-08-08T14:43:01.559011Z",
     "iopub.status.idle": "2023-08-08T14:43:01.563849Z",
     "shell.execute_reply": "2023-08-08T14:43:01.562955Z"
    },
    "jupyter": {
     "outputs_hidden": false
    },
    "papermill": {
     "duration": 0.088215,
     "end_time": "2023-08-08T14:43:01.565736",
     "exception": false,
     "start_time": "2023-08-08T14:43:01.477521",
     "status": "completed"
    },
    "tags": []
   },
   "outputs": [],
   "source": [
    "# !pip install lightgbm\n",
    "# !pip install catboost\n",
    "# !pip install xgboost\n",
    "# !pip install tabpfn\n",
    "# !pip install seaborn\n",
    "# !pip install optuna"
   ]
  },
  {
   "cell_type": "code",
   "execution_count": 43,
   "id": "319c3cb2",
   "metadata": {
    "_cell_guid": "37d6ac3c-7937-4866-a051-ca1994968bf5",
    "_uuid": "18bbb495-5bd3-47c8-8a75-da2b91032585",
    "execution": {
     "iopub.execute_input": "2023-08-08T14:43:01.728303Z",
     "iopub.status.busy": "2023-08-08T14:43:01.727347Z",
     "iopub.status.idle": "2023-08-08T14:43:01.734330Z",
     "shell.execute_reply": "2023-08-08T14:43:01.733467Z"
    },
    "jupyter": {
     "outputs_hidden": false
    },
    "papermill": {
     "duration": 0.091154,
     "end_time": "2023-08-08T14:43:01.736408",
     "exception": false,
     "start_time": "2023-08-08T14:43:01.645254",
     "status": "completed"
    },
    "tags": []
   },
   "outputs": [],
   "source": [
    "import datetime as dt\n",
    "import pandas as pd\n",
    "import numpy as np\n",
    "from sklearn.metrics import make_scorer\n",
    "from sklearn import metrics\n",
    "from sklearn.preprocessing import RobustScaler\n",
    "from sklearn.utils.class_weight import compute_sample_weight\n",
    "from sklearn.model_selection import StratifiedKFold\n",
    "\n",
    "import lightgbm\n",
    "import optuna\n",
    "\n",
    "import matplotlib.pyplot as plt\n",
    "import seaborn as sns\n",
    "from datetime import date, datetime\n",
    "import warnings\n",
    "warnings.filterwarnings(\"ignore\")"
   ]
  },
  {
   "cell_type": "code",
   "execution_count": 44,
   "id": "5544bf5b",
   "metadata": {
    "_cell_guid": "d2c0fdcc-2bef-4180-8f96-06da5337a189",
    "_uuid": "5860f3f8-ad99-4650-97d8-3a415baf8596",
    "execution": {
     "iopub.execute_input": "2023-08-08T14:43:01.896355Z",
     "iopub.status.busy": "2023-08-08T14:43:01.895548Z",
     "iopub.status.idle": "2023-08-08T14:43:07.812082Z",
     "shell.execute_reply": "2023-08-08T14:43:07.811040Z"
    },
    "jupyter": {
     "outputs_hidden": false
    },
    "papermill": {
     "duration": 5.999133,
     "end_time": "2023-08-08T14:43:07.814520",
     "exception": false,
     "start_time": "2023-08-08T14:43:01.815387",
     "status": "completed"
    },
    "tags": []
   },
   "outputs": [],
   "source": [
    "#from tabpfn import TabPFNClassifier\n",
    "from tabpfn.scripts.transformer_prediction_interface import TabPFNClassifier\n",
    "from lightgbm import LGBMClassifier\n",
    "from xgboost import XGBClassifier\n",
    "from catboost import CatBoostClassifier\n",
    "from sklearn.ensemble import RandomForestClassifier\n",
    "from sklearn.neighbors import KNeighborsClassifier\n",
    "from sklearn.preprocessing import PowerTransformer"
   ]
  },
  {
   "cell_type": "code",
   "execution_count": 45,
   "id": "fa4ed6f1",
   "metadata": {
    "_cell_guid": "f0255671-29cf-4e0f-a270-2650a0215569",
    "_uuid": "ff423897-ad4a-4420-8cf9-a329f0d0e302",
    "execution": {
     "iopub.execute_input": "2023-08-08T14:43:07.979791Z",
     "iopub.status.busy": "2023-08-08T14:43:07.979045Z",
     "iopub.status.idle": "2023-08-08T14:43:07.985039Z",
     "shell.execute_reply": "2023-08-08T14:43:07.983837Z"
    },
    "jupyter": {
     "outputs_hidden": false
    },
    "papermill": {
     "duration": 0.090288,
     "end_time": "2023-08-08T14:43:07.987045",
     "exception": false,
     "start_time": "2023-08-08T14:43:07.896757",
     "status": "completed"
    },
    "tags": []
   },
   "outputs": [],
   "source": [
    "import torch\n",
    "import torch.nn as nn\n",
    "import torch.optim as optim\n",
    "import torch.nn.functional as F\n",
    "from torch.utils.data import Dataset, DataLoader\n",
    "\n",
    "import random, os\n",
    "import math"
   ]
  },
  {
   "cell_type": "code",
   "execution_count": 46,
   "id": "713ed9f2",
   "metadata": {
    "_cell_guid": "622100b3-5c16-4e3e-9043-adba47920af1",
    "_uuid": "561507da-d8e0-4df5-80fb-b64c4dff231a",
    "execution": {
     "iopub.execute_input": "2023-08-08T14:43:08.154591Z",
     "iopub.status.busy": "2023-08-08T14:43:08.154246Z",
     "iopub.status.idle": "2023-08-08T14:43:08.196343Z",
     "shell.execute_reply": "2023-08-08T14:43:08.195396Z"
    },
    "jupyter": {
     "outputs_hidden": false
    },
    "papermill": {
     "duration": 0.1293,
     "end_time": "2023-08-08T14:43:08.198505",
     "exception": false,
     "start_time": "2023-08-08T14:43:08.069205",
     "status": "completed"
    },
    "tags": []
   },
   "outputs": [],
   "source": [
    "# https://github.com/trent-b/iterative-stratification\n",
    "# I copied it from the above github.\n",
    "import numpy as np\n",
    "\n",
    "from sklearn.utils import check_random_state\n",
    "from sklearn.utils.validation import _num_samples, check_array\n",
    "from sklearn.utils.multiclass import type_of_target\n",
    "\n",
    "from sklearn.model_selection._split import _BaseKFold, _RepeatedSplits, \\\n",
    "    BaseShuffleSplit, _validate_shuffle_split\n",
    "\n",
    "\n",
    "def IterativeStratification(labels, r, random_state):\n",
    "    \"\"\"This function implements the Iterative Stratification algorithm described\n",
    "    in the following paper:\n",
    "    Sechidis K., Tsoumakas G., Vlahavas I. (2011) On the Stratification of\n",
    "    Multi-Label Data. In: Gunopulos D., Hofmann T., Malerba D., Vazirgiannis M.\n",
    "    (eds) Machine Learning and Knowledge Discovery in Databases. ECML PKDD\n",
    "    2011. Lecture Notes in Computer Science, vol 6913. Springer, Berlin,\n",
    "    Heidelberg.\n",
    "    \"\"\"\n",
    "\n",
    "    n_samples = labels.shape[0]\n",
    "    test_folds = np.zeros(n_samples, dtype=int)\n",
    "\n",
    "    # Calculate the desired number of examples at each subset\n",
    "    c_folds = r * n_samples\n",
    "\n",
    "    # Calculate the desired number of examples of each label at each subset\n",
    "    c_folds_labels = np.outer(r, labels.sum(axis=0))\n",
    "\n",
    "    labels_not_processed_mask = np.ones(n_samples, dtype=bool)\n",
    "\n",
    "    while np.any(labels_not_processed_mask):\n",
    "        # Find the label with the fewest (but at least one) remaining examples,\n",
    "        # breaking ties randomly\n",
    "        num_labels = labels[labels_not_processed_mask].sum(axis=0)\n",
    "\n",
    "        # Handle case where only all-zero labels are left by distributing\n",
    "        # across all folds as evenly as possible (not in original algorithm but\n",
    "        # mentioned in the text). (By handling this case separately, some\n",
    "        # code redundancy is introduced; however, this approach allows for\n",
    "        # decreased execution time when there are a relatively large number\n",
    "        # of all-zero labels.)\n",
    "        if num_labels.sum() == 0:\n",
    "            sample_idxs = np.where(labels_not_processed_mask)[0]\n",
    "\n",
    "            for sample_idx in sample_idxs:\n",
    "                fold_idx = np.where(c_folds == c_folds.max())[0]\n",
    "\n",
    "                if fold_idx.shape[0] > 1:\n",
    "                    fold_idx = fold_idx[random_state.choice(fold_idx.shape[0])]\n",
    "\n",
    "                test_folds[sample_idx] = fold_idx\n",
    "                c_folds[fold_idx] -= 1\n",
    "\n",
    "            break\n",
    "\n",
    "        label_idx = np.where(num_labels == num_labels[np.nonzero(num_labels)].min())[0]\n",
    "        if label_idx.shape[0] > 1:\n",
    "            label_idx = label_idx[random_state.choice(label_idx.shape[0])]\n",
    "\n",
    "        sample_idxs = np.where(np.logical_and(labels[:, label_idx].flatten(), labels_not_processed_mask))[0]\n",
    "\n",
    "        for sample_idx in sample_idxs:\n",
    "            # Find the subset(s) with the largest number of desired examples\n",
    "            # for this label, breaking ties by considering the largest number\n",
    "            # of desired examples, breaking further ties randomly\n",
    "            label_folds = c_folds_labels[:, label_idx]\n",
    "            fold_idx = np.where(label_folds == label_folds.max())[0]\n",
    "\n",
    "            if fold_idx.shape[0] > 1:\n",
    "                temp_fold_idx = np.where(c_folds[fold_idx] ==\n",
    "                                         c_folds[fold_idx].max())[0]\n",
    "                fold_idx = fold_idx[temp_fold_idx]\n",
    "\n",
    "                if temp_fold_idx.shape[0] > 1:\n",
    "                    fold_idx = fold_idx[random_state.choice(temp_fold_idx.shape[0])]\n",
    "\n",
    "            test_folds[sample_idx] = fold_idx\n",
    "            labels_not_processed_mask[sample_idx] = False\n",
    "\n",
    "            # Update desired number of examples\n",
    "            c_folds_labels[fold_idx, labels[sample_idx]] -= 1\n",
    "            c_folds[fold_idx] -= 1\n",
    "\n",
    "    return test_folds\n",
    "\n",
    "\n",
    "class MultilabelStratifiedKFold(_BaseKFold):\n",
    "    \"\"\"Multilabel stratified K-Folds cross-validator\n",
    "    Provides train/test indices to split multilabel data into train/test sets.\n",
    "    This cross-validation object is a variation of KFold that returns\n",
    "    stratified folds for multilabel data. The folds are made by preserving\n",
    "    the percentage of samples for each label.\n",
    "    Parameters\n",
    "    ----------\n",
    "    n_splits : int, default=3\n",
    "        Number of folds. Must be at least 2.\n",
    "    shuffle : boolean, optional\n",
    "        Whether to shuffle each stratification of the data before splitting\n",
    "        into batches.\n",
    "    random_state : int, RandomState instance or None, optional, default=None\n",
    "        If int, random_state is the seed used by the random number generator;\n",
    "        If RandomState instance, random_state is the random number generator;\n",
    "        If None, the random number generator is the RandomState instance used\n",
    "        by `np.random`. Unlike StratifiedKFold that only uses random_state\n",
    "        when ``shuffle`` == True, this multilabel implementation\n",
    "        always uses the random_state since the iterative stratification\n",
    "        algorithm breaks ties randomly.\n",
    "    Examples\n",
    "    --------\n",
    "    >>> from iterstrat.ml_stratifiers import MultilabelStratifiedKFold\n",
    "    >>> import numpy as np\n",
    "    >>> X = np.array([[1,2], [3,4], [1,2], [3,4], [1,2], [3,4], [1,2], [3,4]])\n",
    "    >>> y = np.array([[0,0], [0,0], [0,1], [0,1], [1,1], [1,1], [1,0], [1,0]])\n",
    "    >>> mskf = MultilabelStratifiedKFold(n_splits=2, random_state=0)\n",
    "    >>> mskf.get_n_splits(X, y)\n",
    "    2\n",
    "    >>> print(mskf)  # doctest: +NORMALIZE_WHITESPACE\n",
    "    MultilabelStratifiedKFold(n_splits=2, random_state=0, shuffle=False)\n",
    "    >>> for train_index, test_index in mskf.split(X, y):\n",
    "    ...    print(\"TRAIN:\", train_index, \"TEST:\", test_index)\n",
    "    ...    X_train, X_test = X[train_index], X[test_index]\n",
    "    ...    y_train, y_test = y[train_index], y[test_index]\n",
    "    TRAIN: [0 3 4 6] TEST: [1 2 5 7]\n",
    "    TRAIN: [1 2 5 7] TEST: [0 3 4 6]\n",
    "    Notes\n",
    "    -----\n",
    "    Train and test sizes may be slightly different in each fold.\n",
    "    See also\n",
    "    --------\n",
    "    RepeatedMultilabelStratifiedKFold: Repeats Multilabel Stratified K-Fold\n",
    "    n times.\n",
    "    \"\"\"\n",
    "\n",
    "    def __init__(self, n_splits=3, *, shuffle=False, random_state=None):\n",
    "        super(MultilabelStratifiedKFold, self).__init__(n_splits=n_splits, shuffle=shuffle, random_state=random_state)\n",
    "\n",
    "    def _make_test_folds(self, X, y):\n",
    "        y = np.asarray(y, dtype=bool)\n",
    "        type_of_target_y = type_of_target(y)\n",
    "\n",
    "        if type_of_target_y != 'multilabel-indicator':\n",
    "            raise ValueError(\n",
    "                'Supported target type is: multilabel-indicator. Got {!r} instead.'.format(type_of_target_y))\n",
    "\n",
    "        num_samples = y.shape[0]\n",
    "\n",
    "        rng = check_random_state(self.random_state)\n",
    "        indices = np.arange(num_samples)\n",
    "\n",
    "        if self.shuffle:\n",
    "            rng.shuffle(indices)\n",
    "            y = y[indices]\n",
    "\n",
    "        r = np.asarray([1 / self.n_splits] * self.n_splits)\n",
    "\n",
    "        test_folds = IterativeStratification(labels=y, r=r, random_state=rng)\n",
    "\n",
    "        return test_folds[np.argsort(indices)]\n",
    "\n",
    "    def _iter_test_masks(self, X=None, y=None, groups=None):\n",
    "        test_folds = self._make_test_folds(X, y)\n",
    "        for i in range(self.n_splits):\n",
    "            yield test_folds == i\n",
    "\n",
    "    def split(self, X, y, groups=None):\n",
    "        \"\"\"Generate indices to split data into training and test set.\n",
    "        Parameters\n",
    "        ----------\n",
    "        X : array-like, shape (n_samples, n_features)\n",
    "            Training data, where n_samples is the number of samples\n",
    "            and n_features is the number of features.\n",
    "            Note that providing ``y`` is sufficient to generate the splits and\n",
    "            hence ``np.zeros(n_samples)`` may be used as a placeholder for\n",
    "            ``X`` instead of actual training data.\n",
    "        y : array-like, shape (n_samples, n_labels)\n",
    "            The target variable for supervised learning problems.\n",
    "            Multilabel stratification is done based on the y labels.\n",
    "        groups : object\n",
    "            Always ignored, exists for compatibility.\n",
    "        Returns\n",
    "        -------\n",
    "        train : ndarray\n",
    "            The training set indices for that split.\n",
    "        test : ndarray\n",
    "            The testing set indices for that split.\n",
    "        Notes\n",
    "        -----\n",
    "        Randomized CV splitters may return different results for each call of\n",
    "        split. You can make the results identical by setting ``random_state``\n",
    "        to an integer.\n",
    "        \"\"\"\n",
    "        y = check_array(y, ensure_2d=False, dtype=None)\n",
    "        return super(MultilabelStratifiedKFold, self).split(X, y, groups)\n",
    "\n",
    "\n",
    "class RepeatedMultilabelStratifiedKFold(_RepeatedSplits):\n",
    "    \"\"\"Repeated Multilabel Stratified K-Fold cross validator.\n",
    "    Repeats Mulilabel Stratified K-Fold n times with different randomization\n",
    "    in each repetition.\n",
    "    Parameters\n",
    "    ----------\n",
    "    n_splits : int, default=5\n",
    "        Number of folds. Must be at least 2.\n",
    "    n_repeats : int, default=10\n",
    "        Number of times cross-validator needs to be repeated.\n",
    "    random_state : None, int or RandomState, default=None\n",
    "        Random state to be used to generate random state for each\n",
    "        repetition as well as randomly breaking ties within the iterative\n",
    "        stratification algorithm.\n",
    "    Examples\n",
    "    --------\n",
    "    >>> from iterstrat.ml_stratifiers import RepeatedMultilabelStratifiedKFold\n",
    "    >>> import numpy as np\n",
    "    >>> X = np.array([[1,2], [3,4], [1,2], [3,4], [1,2], [3,4], [1,2], [3,4]])\n",
    "    >>> y = np.array([[0,0], [0,0], [0,1], [0,1], [1,1], [1,1], [1,0], [1,0]])\n",
    "    >>> rmskf = RepeatedMultilabelStratifiedKFold(n_splits=2, n_repeats=2,\n",
    "    ...     random_state=0)\n",
    "    >>> for train_index, test_index in rmskf.split(X, y):\n",
    "    ...     print(\"TRAIN:\", train_index, \"TEST:\", test_index)\n",
    "    ...     X_train, X_test = X[train_index], X[test_index]\n",
    "    ...     y_train, y_test = y[train_index], y[test_index]\n",
    "    ...\n",
    "    TRAIN: [0 3 4 6] TEST: [1 2 5 7]\n",
    "    TRAIN: [1 2 5 7] TEST: [0 3 4 6]\n",
    "    TRAIN: [0 1 4 5] TEST: [2 3 6 7]\n",
    "    TRAIN: [2 3 6 7] TEST: [0 1 4 5]\n",
    "    See also\n",
    "    --------\n",
    "    RepeatedStratifiedKFold: Repeats (Non-multilabel) Stratified K-Fold\n",
    "    n times.\n",
    "    \"\"\"\n",
    "    def __init__(self, n_splits=5, *, n_repeats=10, random_state=None):\n",
    "        super(RepeatedMultilabelStratifiedKFold, self).__init__(\n",
    "            MultilabelStratifiedKFold, n_repeats=n_repeats, random_state=random_state,\n",
    "            n_splits=n_splits)\n",
    "\n",
    "\n",
    "class MultilabelStratifiedShuffleSplit(BaseShuffleSplit):\n",
    "    \"\"\"Multilabel Stratified ShuffleSplit cross-validator\n",
    "    Provides train/test indices to split data into train/test sets.\n",
    "    This cross-validation object is a merge of MultilabelStratifiedKFold and\n",
    "    ShuffleSplit, which returns stratified randomized folds for multilabel\n",
    "    data. The folds are made by preserving the percentage of each label.\n",
    "    Note: like the ShuffleSplit strategy, multilabel stratified random splits\n",
    "    do not guarantee that all folds will be different, although this is\n",
    "    still very likely for sizeable datasets.\n",
    "    Parameters\n",
    "    ----------\n",
    "    n_splits : int, default 10\n",
    "        Number of re-shuffling & splitting iterations.\n",
    "    test_size : float, int, None, optional\n",
    "        If float, should be between 0.0 and 1.0 and represent the proportion\n",
    "        of the dataset to include in the test split. If int, represents the\n",
    "        absolute number of test samples. If None, the value is set to the\n",
    "        complement of the train size. By default, the value is set to 0.1.\n",
    "        The default will change in version 0.21. It will remain 0.1 only\n",
    "        if ``train_size`` is unspecified, otherwise it will complement\n",
    "        the specified ``train_size``.\n",
    "    train_size : float, int, or None, default is None\n",
    "        If float, should be between 0.0 and 1.0 and represent the\n",
    "        proportion of the dataset to include in the train split. If\n",
    "        int, represents the absolute number of train samples. If None,\n",
    "        the value is automatically set to the complement of the test size.\n",
    "    random_state : int, RandomState instance or None, optional (default=None)\n",
    "        If int, random_state is the seed used by the random number generator;\n",
    "        If RandomState instance, random_state is the random number generator;\n",
    "        If None, the random number generator is the RandomState instance used\n",
    "        by `np.random`. Unlike StratifiedShuffleSplit that only uses\n",
    "        random_state when ``shuffle`` == True, this multilabel implementation\n",
    "        always uses the random_state since the iterative stratification\n",
    "        algorithm breaks ties randomly.\n",
    "    Examples\n",
    "    --------\n",
    "    >>> from iterstrat.ml_stratifiers import MultilabelStratifiedShuffleSplit\n",
    "    >>> import numpy as np\n",
    "    >>> X = np.array([[1,2], [3,4], [1,2], [3,4], [1,2], [3,4], [1,2], [3,4]])\n",
    "    >>> y = np.array([[0,0], [0,0], [0,1], [0,1], [1,1], [1,1], [1,0], [1,0]])\n",
    "    >>> msss = MultilabelStratifiedShuffleSplit(n_splits=3, test_size=0.5,\n",
    "    ...    random_state=0)\n",
    "    >>> msss.get_n_splits(X, y)\n",
    "    3\n",
    "    >>> print(mss)       # doctest: +ELLIPSIS\n",
    "    MultilabelStratifiedShuffleSplit(n_splits=3, random_state=0, test_size=0.5,\n",
    "                                     train_size=None)\n",
    "    >>> for train_index, test_index in msss.split(X, y):\n",
    "    ...    print(\"TRAIN:\", train_index, \"TEST:\", test_index)\n",
    "    ...    X_train, X_test = X[train_index], X[test_index]\n",
    "    ...    y_train, y_test = y[train_index], y[test_index]\n",
    "    TRAIN: [1 2 5 7] TEST: [0 3 4 6]\n",
    "    TRAIN: [2 3 6 7] TEST: [0 1 4 5]\n",
    "    TRAIN: [1 2 5 6] TEST: [0 3 4 7]\n",
    "    Notes\n",
    "    -----\n",
    "    Train and test sizes may be slightly different from desired due to the\n",
    "    preference of stratification over perfectly sized folds.\n",
    "    \"\"\"\n",
    "\n",
    "    def __init__(self, n_splits=10, *, test_size=\"default\", train_size=None,\n",
    "                 random_state=None):\n",
    "        super(MultilabelStratifiedShuffleSplit, self).__init__(\n",
    "            n_splits=n_splits, test_size=test_size, train_size=train_size, random_state=random_state)\n",
    "\n",
    "    def _iter_indices(self, X, y, groups=None):\n",
    "        n_samples = _num_samples(X)\n",
    "        y = check_array(y, ensure_2d=False, dtype=None)\n",
    "        y = np.asarray(y, dtype=bool)\n",
    "        type_of_target_y = type_of_target(y)\n",
    "\n",
    "        if type_of_target_y != 'multilabel-indicator':\n",
    "            raise ValueError(\n",
    "                'Supported target type is: multilabel-indicator. Got {!r} instead.'.format(\n",
    "                    type_of_target_y))\n",
    "\n",
    "        n_train, n_test = _validate_shuffle_split(n_samples, self.test_size,\n",
    "                                                  self.train_size)\n",
    "\n",
    "        n_samples = y.shape[0]\n",
    "        rng = check_random_state(self.random_state)\n",
    "        y_orig = y.copy()\n",
    "\n",
    "        r = np.array([n_train, n_test]) / (n_train + n_test)\n",
    "\n",
    "        for _ in range(self.n_splits):\n",
    "            indices = np.arange(n_samples)\n",
    "            rng.shuffle(indices)\n",
    "            y = y_orig[indices]\n",
    "\n",
    "            test_folds = IterativeStratification(labels=y, r=r, random_state=rng)\n",
    "\n",
    "            test_idx = test_folds[np.argsort(indices)] == 1\n",
    "            test = np.where(test_idx)[0]\n",
    "            train = np.where(~test_idx)[0]\n",
    "\n",
    "            yield train, test\n",
    "\n",
    "    def split(self, X, y, groups=None):\n",
    "        \"\"\"Generate indices to split data into training and test set.\n",
    "        Parameters\n",
    "        ----------\n",
    "        X : array-like, shape (n_samples, n_features)\n",
    "            Training data, where n_samples is the number of samples\n",
    "            and n_features is the number of features.\n",
    "            Note that providing ``y`` is sufficient to generate the splits and\n",
    "            hence ``np.zeros(n_samples)`` may be used as a placeholder for\n",
    "            ``X`` instead of actual training data.\n",
    "        y : array-like, shape (n_samples, n_labels)\n",
    "            The target variable for supervised learning problems.\n",
    "            Multilabel stratification is done based on the y labels.\n",
    "        groups : object\n",
    "            Always ignored, exists for compatibility.\n",
    "        Returns\n",
    "        -------\n",
    "        train : ndarray\n",
    "            The training set indices for that split.\n",
    "        test : ndarray\n",
    "            The testing set indices for that split.\n",
    "        Notes\n",
    "        -----\n",
    "        Randomized CV splitters may return different results for each call of\n",
    "        split. You can make the results identical by setting ``random_state``\n",
    "        to an integer.\n",
    "        \"\"\"\n",
    "        y = check_array(y, ensure_2d=False, dtype=None)\n",
    "        return super(MultilabelStratifiedShuffleSplit, self).split(X, y, groups)"
   ]
  },
  {
   "cell_type": "markdown",
   "id": "12c3f107",
   "metadata": {
    "_cell_guid": "514cd5cd-a06b-4eab-93fc-69e85fa5edb8",
    "_uuid": "92b2d025-808c-4d2c-a9e6-776f30e15504",
    "papermill": {
     "duration": 0.079772,
     "end_time": "2023-08-08T14:43:08.357719",
     "exception": false,
     "start_time": "2023-08-08T14:43:08.277947",
     "status": "completed"
    },
    "tags": []
   },
   "source": [
    "# Flags"
   ]
  },
  {
   "cell_type": "code",
   "execution_count": 47,
   "id": "c8472a03",
   "metadata": {
    "_cell_guid": "d3c50596-e920-420e-88a0-378e32af166d",
    "_uuid": "98891503-7f26-479e-b9ea-d8ee8abe0782",
    "execution": {
     "iopub.execute_input": "2023-08-08T14:43:08.517491Z",
     "iopub.status.busy": "2023-08-08T14:43:08.516446Z",
     "iopub.status.idle": "2023-08-08T14:43:08.522857Z",
     "shell.execute_reply": "2023-08-08T14:43:08.521939Z"
    },
    "jupyter": {
     "outputs_hidden": false
    },
    "papermill": {
     "duration": 0.088873,
     "end_time": "2023-08-08T14:43:08.524778",
     "exception": false,
     "start_time": "2023-08-08T14:43:08.435905",
     "status": "completed"
    },
    "tags": []
   },
   "outputs": [],
   "source": [
    "# SMOTEをTrueにすると、5FOLDの結果にリークが発生しているように見えるのでCVがあてにならなくなりそう\n",
    "use_SMOTE = False\n",
    "check_CV = True\n",
    "del_BC_CL = False\n",
    "do_opt = False\n",
    "use_new_pred = True\n",
    "\n",
    "use_GPU = False\n",
    "\n",
    "positive_weight  = 2.0\n",
    "positive_weight2 = 2.0\n",
    "\n",
    "# 学習ループを行う・行わない（Pytorch部分）\n",
    "torch_train = False\n",
    "\n",
    "# use fold best\n",
    "use_best_fold = False\n",
    "\n",
    "seed = 57"
   ]
  },
  {
   "cell_type": "code",
   "execution_count": 48,
   "id": "1dcc8040",
   "metadata": {
    "_cell_guid": "55251480-607e-41fa-9454-e21c28d087af",
    "_uuid": "7431215c-44f9-4a14-a3bd-2adc0e2aa9ba",
    "execution": {
     "iopub.execute_input": "2023-08-08T14:43:08.688760Z",
     "iopub.status.busy": "2023-08-08T14:43:08.687634Z",
     "iopub.status.idle": "2023-08-08T14:43:08.695512Z",
     "shell.execute_reply": "2023-08-08T14:43:08.694555Z"
    },
    "jupyter": {
     "outputs_hidden": false
    },
    "papermill": {
     "duration": 0.092573,
     "end_time": "2023-08-08T14:43:08.697788",
     "exception": false,
     "start_time": "2023-08-08T14:43:08.605215",
     "status": "completed"
    },
    "tags": []
   },
   "outputs": [
    {
     "data": {
      "text/plain": [
       "(False, 'cpu')"
      ]
     },
     "execution_count": 48,
     "metadata": {},
     "output_type": "execute_result"
    }
   ],
   "source": [
    "device = \"cuda\" if torch.cuda.is_available() else \"cpu\"\n",
    "\n",
    "if device == \"cuda\":\n",
    "    use_GPU = True\n",
    "use_GPU, device"
   ]
  },
  {
   "cell_type": "markdown",
   "id": "cb03fe7e",
   "metadata": {
    "_cell_guid": "9d4181f8-6105-42c5-9145-596051c68363",
    "_uuid": "2745ddf2-00de-4724-bd39-20315f23daf8",
    "papermill": {
     "duration": 0.077303,
     "end_time": "2023-08-08T14:43:08.854916",
     "exception": false,
     "start_time": "2023-08-08T14:43:08.777613",
     "status": "completed"
    },
    "tags": []
   },
   "source": [
    "# Functions"
   ]
  },
  {
   "cell_type": "code",
   "execution_count": 49,
   "id": "73b3a246",
   "metadata": {
    "_cell_guid": "3eb0afe1-563f-4a97-8fd8-7fde0c051db3",
    "_uuid": "7be9f439-210f-4aac-aefa-2688ee259433",
    "execution": {
     "iopub.execute_input": "2023-08-08T14:43:09.013710Z",
     "iopub.status.busy": "2023-08-08T14:43:09.013338Z",
     "iopub.status.idle": "2023-08-08T14:43:09.019999Z",
     "shell.execute_reply": "2023-08-08T14:43:09.019045Z"
    },
    "jupyter": {
     "outputs_hidden": false
    },
    "papermill": {
     "duration": 0.090034,
     "end_time": "2023-08-08T14:43:09.022129",
     "exception": false,
     "start_time": "2023-08-08T14:43:08.932095",
     "status": "completed"
    },
    "tags": []
   },
   "outputs": [],
   "source": [
    "def calc_new_pred(pred):\n",
    "    class_0_est_instances = pred[:,0].sum()\n",
    "    others_est_instances = pred[:,1:].sum()\n",
    "    \n",
    "    if class_0_est_instances == 0 or others_est_instances == 0 :\n",
    "        return pred\n",
    "    # we reweight the probs, since the loss is also balanced like this\n",
    "    # our models out of the box optimize CE\n",
    "    # with these changes they optimize balanced CE\n",
    "    new_p = pred * np.array([[1/(class_0_est_instances if i==0 else others_est_instances) for i in range(pred.shape[1])]])\n",
    "    return new_p / np.sum(new_p,axis=1,keepdims=1)"
   ]
  },
  {
   "cell_type": "code",
   "execution_count": 50,
   "id": "a55dd91c",
   "metadata": {
    "_cell_guid": "36718a99-0bee-42ae-ac6f-8694fc2ddc4e",
    "_uuid": "4fcffba0-8f52-471c-9438-c9092f5714d6",
    "execution": {
     "iopub.execute_input": "2023-08-08T14:43:09.182917Z",
     "iopub.status.busy": "2023-08-08T14:43:09.182082Z",
     "iopub.status.idle": "2023-08-08T14:43:09.187090Z",
     "shell.execute_reply": "2023-08-08T14:43:09.186216Z"
    },
    "jupyter": {
     "outputs_hidden": false
    },
    "papermill": {
     "duration": 0.088215,
     "end_time": "2023-08-08T14:43:09.189131",
     "exception": false,
     "start_time": "2023-08-08T14:43:09.100916",
     "status": "completed"
    },
    "tags": []
   },
   "outputs": [],
   "source": [
    "def sigmoid(x):\n",
    "    return 1/ (1 + np.exp(-x))"
   ]
  },
  {
   "cell_type": "code",
   "execution_count": 51,
   "id": "5d1b91f6",
   "metadata": {
    "_cell_guid": "ae47a254-33fc-4c6c-ad8a-ee4eb286ce9d",
    "_uuid": "c6ce7fa8-4c28-4e29-9c1f-4cdbd13b4516",
    "execution": {
     "iopub.execute_input": "2023-08-08T14:43:09.347607Z",
     "iopub.status.busy": "2023-08-08T14:43:09.346670Z",
     "iopub.status.idle": "2023-08-08T14:43:09.356124Z",
     "shell.execute_reply": "2023-08-08T14:43:09.355235Z"
    },
    "jupyter": {
     "outputs_hidden": false
    },
    "papermill": {
     "duration": 0.090995,
     "end_time": "2023-08-08T14:43:09.358090",
     "exception": false,
     "start_time": "2023-08-08T14:43:09.267095",
     "status": "completed"
    },
    "tags": []
   },
   "outputs": [],
   "source": [
    "def competition_log_loss(y_true, y_pred):\n",
    "    N_0 = np.sum(1 - y_true)\n",
    "    N_1 = np.sum(y_true)\n",
    "    p_1 = np.clip(y_pred, 1e-15, 1 - 1e-15)\n",
    "    p_0 = 1 - p_1\n",
    "    log_loss_0 = -np.sum((1 - y_true) * np.log(p_0)) / N_0\n",
    "    log_loss_1 = -np.sum(y_true * np.log(p_1)) / N_1\n",
    "    return (log_loss_0 + log_loss_1)/2\n",
    "\n",
    "def __balanced_log_loss(y_true, y_pred):\n",
    "    N_0 = np.sum(1 - y_true)\n",
    "    N_1 = np.sum(y_true)\n",
    "    p_1 = np.clip(y_pred, 1e-15, 1 - 1e-15)\n",
    "    p_0 = 1 - p_1\n",
    "    log_loss_0 = -np.sum((1 - y_true) * np.log(p_0))\n",
    "    log_loss_1 = -np.sum(y_true * np.log(p_1))\n",
    "    w_0 = 1 / N_0\n",
    "    w_1 = 1 / N_1\n",
    "    balanced_log_loss = 2*(w_0 * log_loss_0 + w_1 * log_loss_1) / (w_0 + w_1)\n",
    "    return balanced_log_loss/(N_0+N_1)\n",
    "\n",
    "def lgb_metric(y_true, y_pred):\n",
    "    return 'balanced_log_loss', __balanced_log_loss(y_true, y_pred), False"
   ]
  },
  {
   "cell_type": "markdown",
   "id": "ecf5a5da",
   "metadata": {
    "_cell_guid": "0c8be8a3-1d6d-4d06-a79e-236c140e27fb",
    "_uuid": "96a2b910-8172-4c0a-9e36-938012e94ead",
    "papermill": {
     "duration": 0.081082,
     "end_time": "2023-08-08T14:43:09.518255",
     "exception": false,
     "start_time": "2023-08-08T14:43:09.437173",
     "status": "completed"
    },
    "tags": []
   },
   "source": [
    "# Read DATAS"
   ]
  },
  {
   "cell_type": "code",
   "execution_count": 52,
   "id": "0782a88e",
   "metadata": {
    "_cell_guid": "3f99e573-21b8-4187-acce-3a0d0859ddc1",
    "_uuid": "3c82fe05-d135-4126-b0be-b2dc488a9100",
    "execution": {
     "iopub.execute_input": "2023-08-08T14:43:09.680971Z",
     "iopub.status.busy": "2023-08-08T14:43:09.679956Z",
     "iopub.status.idle": "2023-08-08T14:43:09.751573Z",
     "shell.execute_reply": "2023-08-08T14:43:09.750455Z"
    },
    "jupyter": {
     "outputs_hidden": false
    },
    "papermill": {
     "duration": 0.154145,
     "end_time": "2023-08-08T14:43:09.753940",
     "exception": false,
     "start_time": "2023-08-08T14:43:09.599795",
     "status": "completed"
    },
    "tags": []
   },
   "outputs": [],
   "source": [
    "df = pd.read_csv(\"../input/icr-identify-age-related-conditions/train.csv\", index_col=[0])\n",
    "greeks_df = pd.read_csv(\"../input/icr-identify-age-related-conditions/greeks.csv\", index_col=[0])\n",
    "\n",
    "# マジック（Epsilonを入れる）　🌟\n",
    "times = greeks_df.Epsilon.copy()\n",
    "times[greeks_df.Epsilon != 'Unknown'] = greeks_df.Epsilon[greeks_df.Epsilon != 'Unknown'].map(lambda x: datetime.strptime(x,'%m/%d/%Y').toordinal())\n",
    "times[greeks_df.Epsilon == 'Unknown'] = greeks_df.Epsilon[greeks_df.Epsilon != 'Unknown'].map(lambda x: datetime.strptime(x,'%m/%d/%Y').toordinal()).median()\n",
    "greeks_df['times'] = times\n",
    "df = df.merge(greeks_df['times'], left_index = True, right_index = True, how='left')\n",
    "new_order = df.columns.to_list()\n",
    "new_order[-2], new_order[-1] = new_order[-1], new_order[-2]\n",
    "df_train = df.reindex(columns=new_order)\n",
    "del df"
   ]
  },
  {
   "cell_type": "code",
   "execution_count": 53,
   "id": "6ff16e82",
   "metadata": {
    "_cell_guid": "bd6a4d3f-c6ae-4c93-a525-6b0d7e356903",
    "_uuid": "9a84612e-d2ed-4857-a07c-9bafb5bc1954",
    "execution": {
     "iopub.execute_input": "2023-08-08T14:43:09.918827Z",
     "iopub.status.busy": "2023-08-08T14:43:09.917939Z",
     "iopub.status.idle": "2023-08-08T14:43:09.922489Z",
     "shell.execute_reply": "2023-08-08T14:43:09.921484Z"
    },
    "jupyter": {
     "outputs_hidden": false
    },
    "papermill": {
     "duration": 0.08621,
     "end_time": "2023-08-08T14:43:09.924481",
     "exception": false,
     "start_time": "2023-08-08T14:43:09.838271",
     "status": "completed"
    },
    "tags": []
   },
   "outputs": [],
   "source": [
    "# # 2020-01-01より前を除外\n",
    "# sel = greeks_df.Epsilon != \"Unknown\"\n",
    "# greeks_df.loc[~sel, 'Epsilon'] = dt.datetime(1900,1,1)\n",
    "# greeks_df.loc[sel, 'Epsilon'] = pd.to_datetime(greeks_df.loc[sel, 'Epsilon'],  format='%m/%d/%Y')\n",
    "# df_train = df_train[greeks_df.Epsilon > dt.datetime(2020,1,1)]\n",
    "# greeks_df = greeks_df[greeks_df.Epsilon > dt.datetime(2020,1,1)]\n",
    "# df_train"
   ]
  },
  {
   "cell_type": "code",
   "execution_count": 54,
   "id": "175912ee",
   "metadata": {
    "_cell_guid": "7069de10-a682-4622-bc65-d88cbd541bae",
    "_uuid": "5224d0d9-b82c-41b4-ab04-f06c1325de2d",
    "execution": {
     "iopub.execute_input": "2023-08-08T14:43:10.087844Z",
     "iopub.status.busy": "2023-08-08T14:43:10.086911Z",
     "iopub.status.idle": "2023-08-08T14:43:10.130596Z",
     "shell.execute_reply": "2023-08-08T14:43:10.129370Z"
    },
    "jupyter": {
     "outputs_hidden": false
    },
    "papermill": {
     "duration": 0.128219,
     "end_time": "2023-08-08T14:43:10.133509",
     "exception": false,
     "start_time": "2023-08-08T14:43:10.005290",
     "status": "completed"
    },
    "tags": []
   },
   "outputs": [
    {
     "data": {
      "text/html": [
       "<div>\n",
       "<style scoped>\n",
       "    .dataframe tbody tr th:only-of-type {\n",
       "        vertical-align: middle;\n",
       "    }\n",
       "\n",
       "    .dataframe tbody tr th {\n",
       "        vertical-align: top;\n",
       "    }\n",
       "\n",
       "    .dataframe thead th {\n",
       "        text-align: right;\n",
       "    }\n",
       "</style>\n",
       "<table border=\"1\" class=\"dataframe\">\n",
       "  <thead>\n",
       "    <tr style=\"text-align: right;\">\n",
       "      <th></th>\n",
       "      <th>AB</th>\n",
       "      <th>AF</th>\n",
       "      <th>AH</th>\n",
       "      <th>AM</th>\n",
       "      <th>AR</th>\n",
       "      <th>AX</th>\n",
       "      <th>AY</th>\n",
       "      <th>AZ</th>\n",
       "      <th>BC</th>\n",
       "      <th>BD</th>\n",
       "      <th>...</th>\n",
       "      <th>FL</th>\n",
       "      <th>FR</th>\n",
       "      <th>FS</th>\n",
       "      <th>GB</th>\n",
       "      <th>GE</th>\n",
       "      <th>GF</th>\n",
       "      <th>GH</th>\n",
       "      <th>GI</th>\n",
       "      <th>GL</th>\n",
       "      <th>times</th>\n",
       "    </tr>\n",
       "    <tr>\n",
       "      <th>Id</th>\n",
       "      <th></th>\n",
       "      <th></th>\n",
       "      <th></th>\n",
       "      <th></th>\n",
       "      <th></th>\n",
       "      <th></th>\n",
       "      <th></th>\n",
       "      <th></th>\n",
       "      <th></th>\n",
       "      <th></th>\n",
       "      <th></th>\n",
       "      <th></th>\n",
       "      <th></th>\n",
       "      <th></th>\n",
       "      <th></th>\n",
       "      <th></th>\n",
       "      <th></th>\n",
       "      <th></th>\n",
       "      <th></th>\n",
       "      <th></th>\n",
       "      <th></th>\n",
       "    </tr>\n",
       "  </thead>\n",
       "  <tbody>\n",
       "    <tr>\n",
       "      <th>00eed32682bb</th>\n",
       "      <td>0.0</td>\n",
       "      <td>0.0</td>\n",
       "      <td>0.0</td>\n",
       "      <td>0.0</td>\n",
       "      <td>0.0</td>\n",
       "      <td>0.0</td>\n",
       "      <td>0.0</td>\n",
       "      <td>0.0</td>\n",
       "      <td>0.0</td>\n",
       "      <td>0.0</td>\n",
       "      <td>...</td>\n",
       "      <td>0.0</td>\n",
       "      <td>0.0</td>\n",
       "      <td>0.0</td>\n",
       "      <td>0.0</td>\n",
       "      <td>0.0</td>\n",
       "      <td>0.0</td>\n",
       "      <td>0.0</td>\n",
       "      <td>0.0</td>\n",
       "      <td>0.0</td>\n",
       "      <td>737698.0</td>\n",
       "    </tr>\n",
       "    <tr>\n",
       "      <th>010ebe33f668</th>\n",
       "      <td>0.0</td>\n",
       "      <td>0.0</td>\n",
       "      <td>0.0</td>\n",
       "      <td>0.0</td>\n",
       "      <td>0.0</td>\n",
       "      <td>0.0</td>\n",
       "      <td>0.0</td>\n",
       "      <td>0.0</td>\n",
       "      <td>0.0</td>\n",
       "      <td>0.0</td>\n",
       "      <td>...</td>\n",
       "      <td>0.0</td>\n",
       "      <td>0.0</td>\n",
       "      <td>0.0</td>\n",
       "      <td>0.0</td>\n",
       "      <td>0.0</td>\n",
       "      <td>0.0</td>\n",
       "      <td>0.0</td>\n",
       "      <td>0.0</td>\n",
       "      <td>0.0</td>\n",
       "      <td>737698.0</td>\n",
       "    </tr>\n",
       "    <tr>\n",
       "      <th>02fa521e1838</th>\n",
       "      <td>0.0</td>\n",
       "      <td>0.0</td>\n",
       "      <td>0.0</td>\n",
       "      <td>0.0</td>\n",
       "      <td>0.0</td>\n",
       "      <td>0.0</td>\n",
       "      <td>0.0</td>\n",
       "      <td>0.0</td>\n",
       "      <td>0.0</td>\n",
       "      <td>0.0</td>\n",
       "      <td>...</td>\n",
       "      <td>0.0</td>\n",
       "      <td>0.0</td>\n",
       "      <td>0.0</td>\n",
       "      <td>0.0</td>\n",
       "      <td>0.0</td>\n",
       "      <td>0.0</td>\n",
       "      <td>0.0</td>\n",
       "      <td>0.0</td>\n",
       "      <td>0.0</td>\n",
       "      <td>737698.0</td>\n",
       "    </tr>\n",
       "    <tr>\n",
       "      <th>040e15f562a2</th>\n",
       "      <td>0.0</td>\n",
       "      <td>0.0</td>\n",
       "      <td>0.0</td>\n",
       "      <td>0.0</td>\n",
       "      <td>0.0</td>\n",
       "      <td>0.0</td>\n",
       "      <td>0.0</td>\n",
       "      <td>0.0</td>\n",
       "      <td>0.0</td>\n",
       "      <td>0.0</td>\n",
       "      <td>...</td>\n",
       "      <td>0.0</td>\n",
       "      <td>0.0</td>\n",
       "      <td>0.0</td>\n",
       "      <td>0.0</td>\n",
       "      <td>0.0</td>\n",
       "      <td>0.0</td>\n",
       "      <td>0.0</td>\n",
       "      <td>0.0</td>\n",
       "      <td>0.0</td>\n",
       "      <td>737698.0</td>\n",
       "    </tr>\n",
       "    <tr>\n",
       "      <th>046e85c7cc7f</th>\n",
       "      <td>0.0</td>\n",
       "      <td>0.0</td>\n",
       "      <td>0.0</td>\n",
       "      <td>0.0</td>\n",
       "      <td>0.0</td>\n",
       "      <td>0.0</td>\n",
       "      <td>0.0</td>\n",
       "      <td>0.0</td>\n",
       "      <td>0.0</td>\n",
       "      <td>0.0</td>\n",
       "      <td>...</td>\n",
       "      <td>0.0</td>\n",
       "      <td>0.0</td>\n",
       "      <td>0.0</td>\n",
       "      <td>0.0</td>\n",
       "      <td>0.0</td>\n",
       "      <td>0.0</td>\n",
       "      <td>0.0</td>\n",
       "      <td>0.0</td>\n",
       "      <td>0.0</td>\n",
       "      <td>737698.0</td>\n",
       "    </tr>\n",
       "  </tbody>\n",
       "</table>\n",
       "<p>5 rows × 57 columns</p>\n",
       "</div>"
      ],
      "text/plain": [
       "               AB   AF   AH   AM   AR   AX   AY   AZ   BC  BD   ...   FL   FR  \\\n",
       "Id                                                              ...             \n",
       "00eed32682bb  0.0  0.0  0.0  0.0  0.0  0.0  0.0  0.0  0.0  0.0  ...  0.0  0.0   \n",
       "010ebe33f668  0.0  0.0  0.0  0.0  0.0  0.0  0.0  0.0  0.0  0.0  ...  0.0  0.0   \n",
       "02fa521e1838  0.0  0.0  0.0  0.0  0.0  0.0  0.0  0.0  0.0  0.0  ...  0.0  0.0   \n",
       "040e15f562a2  0.0  0.0  0.0  0.0  0.0  0.0  0.0  0.0  0.0  0.0  ...  0.0  0.0   \n",
       "046e85c7cc7f  0.0  0.0  0.0  0.0  0.0  0.0  0.0  0.0  0.0  0.0  ...  0.0  0.0   \n",
       "\n",
       "               FS   GB   GE   GF   GH   GI   GL     times  \n",
       "Id                                                         \n",
       "00eed32682bb  0.0  0.0  0.0  0.0  0.0  0.0  0.0  737698.0  \n",
       "010ebe33f668  0.0  0.0  0.0  0.0  0.0  0.0  0.0  737698.0  \n",
       "02fa521e1838  0.0  0.0  0.0  0.0  0.0  0.0  0.0  737698.0  \n",
       "040e15f562a2  0.0  0.0  0.0  0.0  0.0  0.0  0.0  737698.0  \n",
       "046e85c7cc7f  0.0  0.0  0.0  0.0  0.0  0.0  0.0  737698.0  \n",
       "\n",
       "[5 rows x 57 columns]"
      ]
     },
     "execution_count": 54,
     "metadata": {},
     "output_type": "execute_result"
    }
   ],
   "source": [
    "df_test = pd.read_csv(\"../input/icr-identify-age-related-conditions/test.csv\", index_col=[0])\n",
    "df_test['times'] = times.max()+1\n",
    "df_test"
   ]
  },
  {
   "cell_type": "code",
   "execution_count": 55,
   "id": "b86a9265",
   "metadata": {
    "_cell_guid": "43c4db68-f7cf-4280-bd33-def8f97998d3",
    "_uuid": "39f9bdcc-509c-4e97-95e6-1c174bb83af8",
    "execution": {
     "iopub.execute_input": "2023-08-08T14:43:10.297026Z",
     "iopub.status.busy": "2023-08-08T14:43:10.296201Z",
     "iopub.status.idle": "2023-08-08T14:43:10.303691Z",
     "shell.execute_reply": "2023-08-08T14:43:10.302798Z"
    },
    "jupyter": {
     "outputs_hidden": false
    },
    "papermill": {
     "duration": 0.088396,
     "end_time": "2023-08-08T14:43:10.305827",
     "exception": false,
     "start_time": "2023-08-08T14:43:10.217431",
     "status": "completed"
    },
    "tags": []
   },
   "outputs": [],
   "source": [
    "df_train['EJ'] = df_train['EJ'].map({'A': 0.0, 'B': 1.0}, na_action=None)\n",
    "df_test['EJ'] = df_test['EJ'].map({'A': 0.0, 'B': 1.0}, na_action=None)"
   ]
  },
  {
   "cell_type": "code",
   "execution_count": 56,
   "id": "fa1d2f34",
   "metadata": {
    "_cell_guid": "e3c62ded-ec5b-40d3-88fb-3bac19336360",
    "_uuid": "6684bf92-fc8e-4151-8ed3-3c16980a6a0e",
    "execution": {
     "iopub.execute_input": "2023-08-08T14:43:10.463902Z",
     "iopub.status.busy": "2023-08-08T14:43:10.463094Z",
     "iopub.status.idle": "2023-08-08T14:43:10.479688Z",
     "shell.execute_reply": "2023-08-08T14:43:10.478648Z"
    },
    "jupyter": {
     "outputs_hidden": false
    },
    "papermill": {
     "duration": 0.097891,
     "end_time": "2023-08-08T14:43:10.481888",
     "exception": false,
     "start_time": "2023-08-08T14:43:10.383997",
     "status": "completed"
    },
    "tags": []
   },
   "outputs": [
    {
     "data": {
      "text/html": [
       "<div>\n",
       "<style scoped>\n",
       "    .dataframe tbody tr th:only-of-type {\n",
       "        vertical-align: middle;\n",
       "    }\n",
       "\n",
       "    .dataframe tbody tr th {\n",
       "        vertical-align: top;\n",
       "    }\n",
       "\n",
       "    .dataframe thead th {\n",
       "        text-align: right;\n",
       "    }\n",
       "</style>\n",
       "<table border=\"1\" class=\"dataframe\">\n",
       "  <thead>\n",
       "    <tr style=\"text-align: right;\">\n",
       "      <th></th>\n",
       "      <th>Alpha</th>\n",
       "      <th>Beta</th>\n",
       "      <th>Gamma</th>\n",
       "      <th>Delta</th>\n",
       "      <th>Epsilon</th>\n",
       "      <th>times</th>\n",
       "      <th>Class</th>\n",
       "    </tr>\n",
       "    <tr>\n",
       "      <th>Id</th>\n",
       "      <th></th>\n",
       "      <th></th>\n",
       "      <th></th>\n",
       "      <th></th>\n",
       "      <th></th>\n",
       "      <th></th>\n",
       "      <th></th>\n",
       "    </tr>\n",
       "  </thead>\n",
       "  <tbody>\n",
       "    <tr>\n",
       "      <th>000ff2bfdfe9</th>\n",
       "      <td>B</td>\n",
       "      <td>C</td>\n",
       "      <td>G</td>\n",
       "      <td>D</td>\n",
       "      <td>3/19/2019</td>\n",
       "      <td>737137.0</td>\n",
       "      <td>1</td>\n",
       "    </tr>\n",
       "    <tr>\n",
       "      <th>007255e47698</th>\n",
       "      <td>A</td>\n",
       "      <td>C</td>\n",
       "      <td>M</td>\n",
       "      <td>B</td>\n",
       "      <td>Unknown</td>\n",
       "      <td>737269.0</td>\n",
       "      <td>0</td>\n",
       "    </tr>\n",
       "    <tr>\n",
       "      <th>013f2bd269f5</th>\n",
       "      <td>A</td>\n",
       "      <td>C</td>\n",
       "      <td>M</td>\n",
       "      <td>B</td>\n",
       "      <td>Unknown</td>\n",
       "      <td>737269.0</td>\n",
       "      <td>0</td>\n",
       "    </tr>\n",
       "    <tr>\n",
       "      <th>043ac50845d5</th>\n",
       "      <td>A</td>\n",
       "      <td>C</td>\n",
       "      <td>M</td>\n",
       "      <td>B</td>\n",
       "      <td>Unknown</td>\n",
       "      <td>737269.0</td>\n",
       "      <td>0</td>\n",
       "    </tr>\n",
       "    <tr>\n",
       "      <th>044fb8a146ec</th>\n",
       "      <td>D</td>\n",
       "      <td>B</td>\n",
       "      <td>F</td>\n",
       "      <td>B</td>\n",
       "      <td>3/25/2020</td>\n",
       "      <td>737509.0</td>\n",
       "      <td>2</td>\n",
       "    </tr>\n",
       "    <tr>\n",
       "      <th>...</th>\n",
       "      <td>...</td>\n",
       "      <td>...</td>\n",
       "      <td>...</td>\n",
       "      <td>...</td>\n",
       "      <td>...</td>\n",
       "      <td>...</td>\n",
       "      <td>...</td>\n",
       "    </tr>\n",
       "    <tr>\n",
       "      <th>fd3dafe738fd</th>\n",
       "      <td>A</td>\n",
       "      <td>B</td>\n",
       "      <td>M</td>\n",
       "      <td>B</td>\n",
       "      <td>9/13/2020</td>\n",
       "      <td>737681.0</td>\n",
       "      <td>0</td>\n",
       "    </tr>\n",
       "    <tr>\n",
       "      <th>fd895603f071</th>\n",
       "      <td>A</td>\n",
       "      <td>B</td>\n",
       "      <td>M</td>\n",
       "      <td>B</td>\n",
       "      <td>9/8/2020</td>\n",
       "      <td>737676.0</td>\n",
       "      <td>0</td>\n",
       "    </tr>\n",
       "    <tr>\n",
       "      <th>fd8ef6377f76</th>\n",
       "      <td>A</td>\n",
       "      <td>C</td>\n",
       "      <td>M</td>\n",
       "      <td>B</td>\n",
       "      <td>7/24/2019</td>\n",
       "      <td>737264.0</td>\n",
       "      <td>0</td>\n",
       "    </tr>\n",
       "    <tr>\n",
       "      <th>fe1942975e40</th>\n",
       "      <td>A</td>\n",
       "      <td>C</td>\n",
       "      <td>M</td>\n",
       "      <td>B</td>\n",
       "      <td>1/31/2019</td>\n",
       "      <td>737090.0</td>\n",
       "      <td>0</td>\n",
       "    </tr>\n",
       "    <tr>\n",
       "      <th>ffcca4ded3bb</th>\n",
       "      <td>A</td>\n",
       "      <td>C</td>\n",
       "      <td>M</td>\n",
       "      <td>B</td>\n",
       "      <td>Unknown</td>\n",
       "      <td>737269.0</td>\n",
       "      <td>0</td>\n",
       "    </tr>\n",
       "  </tbody>\n",
       "</table>\n",
       "<p>617 rows × 7 columns</p>\n",
       "</div>"
      ],
      "text/plain": [
       "             Alpha Beta Gamma Delta    Epsilon     times  Class\n",
       "Id                                                             \n",
       "000ff2bfdfe9     B    C     G     D  3/19/2019  737137.0      1\n",
       "007255e47698     A    C     M     B    Unknown  737269.0      0\n",
       "013f2bd269f5     A    C     M     B    Unknown  737269.0      0\n",
       "043ac50845d5     A    C     M     B    Unknown  737269.0      0\n",
       "044fb8a146ec     D    B     F     B  3/25/2020  737509.0      2\n",
       "...            ...  ...   ...   ...        ...       ...    ...\n",
       "fd3dafe738fd     A    B     M     B  9/13/2020  737681.0      0\n",
       "fd895603f071     A    B     M     B   9/8/2020  737676.0      0\n",
       "fd8ef6377f76     A    C     M     B  7/24/2019  737264.0      0\n",
       "fe1942975e40     A    C     M     B  1/31/2019  737090.0      0\n",
       "ffcca4ded3bb     A    C     M     B    Unknown  737269.0      0\n",
       "\n",
       "[617 rows x 7 columns]"
      ]
     },
     "execution_count": 56,
     "metadata": {},
     "output_type": "execute_result"
    }
   ],
   "source": [
    "greeks_df['Class'] = greeks_df['Alpha'].map({'A': 0, 'B': 1, 'D': 2, 'G': 3 }, na_action=None)\n",
    "greeks_df"
   ]
  },
  {
   "cell_type": "markdown",
   "id": "9de69b04",
   "metadata": {
    "_cell_guid": "d7b1ffe0-6636-4d1d-a4a5-a723bf0428d7",
    "_uuid": "a11c528c-aced-4a91-98f6-96e4a0b1cac9",
    "papermill": {
     "duration": 0.078981,
     "end_time": "2023-08-08T14:43:10.643993",
     "exception": false,
     "start_time": "2023-08-08T14:43:10.565012",
     "status": "completed"
    },
    "tags": []
   },
   "source": [
    "## nanをmedianに変更"
   ]
  },
  {
   "cell_type": "code",
   "execution_count": 57,
   "id": "6b9b56d1",
   "metadata": {
    "_cell_guid": "0e3a0994-9af2-409c-9baf-eda872f4b0b8",
    "_uuid": "8fd05b36-2d2e-4a43-a0d3-2172f99f364f",
    "execution": {
     "iopub.execute_input": "2023-08-08T14:43:10.805819Z",
     "iopub.status.busy": "2023-08-08T14:43:10.804698Z",
     "iopub.status.idle": "2023-08-08T14:43:10.853884Z",
     "shell.execute_reply": "2023-08-08T14:43:10.852992Z"
    },
    "jupyter": {
     "outputs_hidden": false
    },
    "papermill": {
     "duration": 0.132252,
     "end_time": "2023-08-08T14:43:10.855923",
     "exception": false,
     "start_time": "2023-08-08T14:43:10.723671",
     "status": "completed"
    },
    "tags": []
   },
   "outputs": [
    {
     "data": {
      "text/html": [
       "<div>\n",
       "<style scoped>\n",
       "    .dataframe tbody tr th:only-of-type {\n",
       "        vertical-align: middle;\n",
       "    }\n",
       "\n",
       "    .dataframe tbody tr th {\n",
       "        vertical-align: top;\n",
       "    }\n",
       "\n",
       "    .dataframe thead th {\n",
       "        text-align: right;\n",
       "    }\n",
       "</style>\n",
       "<table border=\"1\" class=\"dataframe\">\n",
       "  <thead>\n",
       "    <tr style=\"text-align: right;\">\n",
       "      <th></th>\n",
       "      <th>AB</th>\n",
       "      <th>AF</th>\n",
       "      <th>AH</th>\n",
       "      <th>AM</th>\n",
       "      <th>AR</th>\n",
       "      <th>AX</th>\n",
       "      <th>AY</th>\n",
       "      <th>AZ</th>\n",
       "      <th>BC</th>\n",
       "      <th>BD</th>\n",
       "      <th>...</th>\n",
       "      <th>FR</th>\n",
       "      <th>FS</th>\n",
       "      <th>GB</th>\n",
       "      <th>GE</th>\n",
       "      <th>GF</th>\n",
       "      <th>GH</th>\n",
       "      <th>GI</th>\n",
       "      <th>GL</th>\n",
       "      <th>times</th>\n",
       "      <th>Class</th>\n",
       "    </tr>\n",
       "    <tr>\n",
       "      <th>Id</th>\n",
       "      <th></th>\n",
       "      <th></th>\n",
       "      <th></th>\n",
       "      <th></th>\n",
       "      <th></th>\n",
       "      <th></th>\n",
       "      <th></th>\n",
       "      <th></th>\n",
       "      <th></th>\n",
       "      <th></th>\n",
       "      <th></th>\n",
       "      <th></th>\n",
       "      <th></th>\n",
       "      <th></th>\n",
       "      <th></th>\n",
       "      <th></th>\n",
       "      <th></th>\n",
       "      <th></th>\n",
       "      <th></th>\n",
       "      <th></th>\n",
       "      <th></th>\n",
       "    </tr>\n",
       "  </thead>\n",
       "  <tbody>\n",
       "    <tr>\n",
       "      <th>000ff2bfdfe9</th>\n",
       "      <td>0.209377</td>\n",
       "      <td>3109.03329</td>\n",
       "      <td>85.200147</td>\n",
       "      <td>22.394407</td>\n",
       "      <td>8.138688</td>\n",
       "      <td>0.699861</td>\n",
       "      <td>0.025578</td>\n",
       "      <td>9.812214</td>\n",
       "      <td>5.555634</td>\n",
       "      <td>4126.58731</td>\n",
       "      <td>...</td>\n",
       "      <td>1.73855</td>\n",
       "      <td>0.094822</td>\n",
       "      <td>11.339138</td>\n",
       "      <td>72.611063</td>\n",
       "      <td>2003.810319</td>\n",
       "      <td>22.136229</td>\n",
       "      <td>69.834944</td>\n",
       "      <td>0.120343</td>\n",
       "      <td>737137.0</td>\n",
       "      <td>1</td>\n",
       "    </tr>\n",
       "    <tr>\n",
       "      <th>007255e47698</th>\n",
       "      <td>0.145282</td>\n",
       "      <td>978.76416</td>\n",
       "      <td>85.200147</td>\n",
       "      <td>36.968889</td>\n",
       "      <td>8.138688</td>\n",
       "      <td>3.632190</td>\n",
       "      <td>0.025578</td>\n",
       "      <td>13.517790</td>\n",
       "      <td>1.229900</td>\n",
       "      <td>5496.92824</td>\n",
       "      <td>...</td>\n",
       "      <td>0.49706</td>\n",
       "      <td>0.568932</td>\n",
       "      <td>9.292698</td>\n",
       "      <td>72.611063</td>\n",
       "      <td>27981.562750</td>\n",
       "      <td>29.135430</td>\n",
       "      <td>32.131996</td>\n",
       "      <td>21.978000</td>\n",
       "      <td>737269.0</td>\n",
       "      <td>0</td>\n",
       "    </tr>\n",
       "    <tr>\n",
       "      <th>013f2bd269f5</th>\n",
       "      <td>0.470030</td>\n",
       "      <td>2635.10654</td>\n",
       "      <td>85.200147</td>\n",
       "      <td>32.360553</td>\n",
       "      <td>8.138688</td>\n",
       "      <td>6.732840</td>\n",
       "      <td>0.025578</td>\n",
       "      <td>12.824570</td>\n",
       "      <td>1.229900</td>\n",
       "      <td>5135.78024</td>\n",
       "      <td>...</td>\n",
       "      <td>0.97556</td>\n",
       "      <td>1.198821</td>\n",
       "      <td>37.077772</td>\n",
       "      <td>88.609437</td>\n",
       "      <td>13676.957810</td>\n",
       "      <td>28.022851</td>\n",
       "      <td>35.192676</td>\n",
       "      <td>0.196941</td>\n",
       "      <td>737269.0</td>\n",
       "      <td>0</td>\n",
       "    </tr>\n",
       "    <tr>\n",
       "      <th>043ac50845d5</th>\n",
       "      <td>0.252107</td>\n",
       "      <td>3819.65177</td>\n",
       "      <td>120.201618</td>\n",
       "      <td>77.112203</td>\n",
       "      <td>8.138688</td>\n",
       "      <td>3.685344</td>\n",
       "      <td>0.025578</td>\n",
       "      <td>11.053708</td>\n",
       "      <td>1.229900</td>\n",
       "      <td>4169.67738</td>\n",
       "      <td>...</td>\n",
       "      <td>0.49706</td>\n",
       "      <td>0.284466</td>\n",
       "      <td>18.529584</td>\n",
       "      <td>82.416803</td>\n",
       "      <td>2094.262452</td>\n",
       "      <td>39.948656</td>\n",
       "      <td>90.493248</td>\n",
       "      <td>0.155829</td>\n",
       "      <td>737269.0</td>\n",
       "      <td>0</td>\n",
       "    </tr>\n",
       "    <tr>\n",
       "      <th>044fb8a146ec</th>\n",
       "      <td>0.380297</td>\n",
       "      <td>3733.04844</td>\n",
       "      <td>85.200147</td>\n",
       "      <td>14.103738</td>\n",
       "      <td>8.138688</td>\n",
       "      <td>3.942255</td>\n",
       "      <td>0.054810</td>\n",
       "      <td>3.396778</td>\n",
       "      <td>102.151980</td>\n",
       "      <td>5728.73412</td>\n",
       "      <td>...</td>\n",
       "      <td>48.50134</td>\n",
       "      <td>0.121914</td>\n",
       "      <td>16.408728</td>\n",
       "      <td>146.109943</td>\n",
       "      <td>8524.370502</td>\n",
       "      <td>45.381316</td>\n",
       "      <td>36.262628</td>\n",
       "      <td>0.096614</td>\n",
       "      <td>737509.0</td>\n",
       "      <td>1</td>\n",
       "    </tr>\n",
       "    <tr>\n",
       "      <th>...</th>\n",
       "      <td>...</td>\n",
       "      <td>...</td>\n",
       "      <td>...</td>\n",
       "      <td>...</td>\n",
       "      <td>...</td>\n",
       "      <td>...</td>\n",
       "      <td>...</td>\n",
       "      <td>...</td>\n",
       "      <td>...</td>\n",
       "      <td>...</td>\n",
       "      <td>...</td>\n",
       "      <td>...</td>\n",
       "      <td>...</td>\n",
       "      <td>...</td>\n",
       "      <td>...</td>\n",
       "      <td>...</td>\n",
       "      <td>...</td>\n",
       "      <td>...</td>\n",
       "      <td>...</td>\n",
       "      <td>...</td>\n",
       "      <td>...</td>\n",
       "    </tr>\n",
       "    <tr>\n",
       "      <th>fd3dafe738fd</th>\n",
       "      <td>0.149555</td>\n",
       "      <td>3130.05946</td>\n",
       "      <td>123.763599</td>\n",
       "      <td>9.513984</td>\n",
       "      <td>13.020852</td>\n",
       "      <td>3.499305</td>\n",
       "      <td>0.077343</td>\n",
       "      <td>8.545512</td>\n",
       "      <td>2.804172</td>\n",
       "      <td>4157.68439</td>\n",
       "      <td>...</td>\n",
       "      <td>1.26092</td>\n",
       "      <td>0.067730</td>\n",
       "      <td>8.967128</td>\n",
       "      <td>217.148554</td>\n",
       "      <td>8095.932828</td>\n",
       "      <td>24.640462</td>\n",
       "      <td>69.191944</td>\n",
       "      <td>21.978000</td>\n",
       "      <td>737681.0</td>\n",
       "      <td>0</td>\n",
       "    </tr>\n",
       "    <tr>\n",
       "      <th>fd895603f071</th>\n",
       "      <td>0.435846</td>\n",
       "      <td>5462.03438</td>\n",
       "      <td>85.200147</td>\n",
       "      <td>46.551007</td>\n",
       "      <td>15.973224</td>\n",
       "      <td>5.979825</td>\n",
       "      <td>0.025882</td>\n",
       "      <td>12.622906</td>\n",
       "      <td>3.777550</td>\n",
       "      <td>5654.07556</td>\n",
       "      <td>...</td>\n",
       "      <td>1.24236</td>\n",
       "      <td>0.426699</td>\n",
       "      <td>35.896418</td>\n",
       "      <td>496.994214</td>\n",
       "      <td>3085.308063</td>\n",
       "      <td>29.648928</td>\n",
       "      <td>124.808872</td>\n",
       "      <td>0.145340</td>\n",
       "      <td>737676.0</td>\n",
       "      <td>0</td>\n",
       "    </tr>\n",
       "    <tr>\n",
       "      <th>fd8ef6377f76</th>\n",
       "      <td>0.427300</td>\n",
       "      <td>2459.10720</td>\n",
       "      <td>130.138587</td>\n",
       "      <td>55.355778</td>\n",
       "      <td>10.005552</td>\n",
       "      <td>8.070549</td>\n",
       "      <td>0.025578</td>\n",
       "      <td>15.408390</td>\n",
       "      <td>1.229900</td>\n",
       "      <td>5888.87769</td>\n",
       "      <td>...</td>\n",
       "      <td>0.49706</td>\n",
       "      <td>0.067730</td>\n",
       "      <td>19.962092</td>\n",
       "      <td>128.896894</td>\n",
       "      <td>6474.652866</td>\n",
       "      <td>26.166072</td>\n",
       "      <td>119.559420</td>\n",
       "      <td>21.978000</td>\n",
       "      <td>737264.0</td>\n",
       "      <td>0</td>\n",
       "    </tr>\n",
       "    <tr>\n",
       "      <th>fe1942975e40</th>\n",
       "      <td>0.363205</td>\n",
       "      <td>1263.53524</td>\n",
       "      <td>85.200147</td>\n",
       "      <td>23.685856</td>\n",
       "      <td>8.138688</td>\n",
       "      <td>7.981959</td>\n",
       "      <td>0.025578</td>\n",
       "      <td>7.524588</td>\n",
       "      <td>1.229900</td>\n",
       "      <td>4517.86560</td>\n",
       "      <td>...</td>\n",
       "      <td>0.78764</td>\n",
       "      <td>0.670527</td>\n",
       "      <td>24.594488</td>\n",
       "      <td>72.611063</td>\n",
       "      <td>1965.343176</td>\n",
       "      <td>25.116750</td>\n",
       "      <td>37.155112</td>\n",
       "      <td>0.184622</td>\n",
       "      <td>737090.0</td>\n",
       "      <td>0</td>\n",
       "    </tr>\n",
       "    <tr>\n",
       "      <th>ffcca4ded3bb</th>\n",
       "      <td>0.482849</td>\n",
       "      <td>2672.53426</td>\n",
       "      <td>546.663930</td>\n",
       "      <td>112.006102</td>\n",
       "      <td>8.138688</td>\n",
       "      <td>3.198099</td>\n",
       "      <td>0.116928</td>\n",
       "      <td>3.396778</td>\n",
       "      <td>7.948668</td>\n",
       "      <td>2818.01707</td>\n",
       "      <td>...</td>\n",
       "      <td>1.14492</td>\n",
       "      <td>0.149006</td>\n",
       "      <td>13.673940</td>\n",
       "      <td>72.611063</td>\n",
       "      <td>6850.484442</td>\n",
       "      <td>45.745974</td>\n",
       "      <td>114.842372</td>\n",
       "      <td>21.978000</td>\n",
       "      <td>737269.0</td>\n",
       "      <td>0</td>\n",
       "    </tr>\n",
       "  </tbody>\n",
       "</table>\n",
       "<p>617 rows × 58 columns</p>\n",
       "</div>"
      ],
      "text/plain": [
       "                    AB          AF          AH          AM         AR  \\\n",
       "Id                                                                      \n",
       "000ff2bfdfe9  0.209377  3109.03329   85.200147   22.394407   8.138688   \n",
       "007255e47698  0.145282   978.76416   85.200147   36.968889   8.138688   \n",
       "013f2bd269f5  0.470030  2635.10654   85.200147   32.360553   8.138688   \n",
       "043ac50845d5  0.252107  3819.65177  120.201618   77.112203   8.138688   \n",
       "044fb8a146ec  0.380297  3733.04844   85.200147   14.103738   8.138688   \n",
       "...                ...         ...         ...         ...        ...   \n",
       "fd3dafe738fd  0.149555  3130.05946  123.763599    9.513984  13.020852   \n",
       "fd895603f071  0.435846  5462.03438   85.200147   46.551007  15.973224   \n",
       "fd8ef6377f76  0.427300  2459.10720  130.138587   55.355778  10.005552   \n",
       "fe1942975e40  0.363205  1263.53524   85.200147   23.685856   8.138688   \n",
       "ffcca4ded3bb  0.482849  2672.53426  546.663930  112.006102   8.138688   \n",
       "\n",
       "                    AX        AY         AZ          BC         BD   ...  \\\n",
       "Id                                                                   ...   \n",
       "000ff2bfdfe9  0.699861  0.025578   9.812214    5.555634  4126.58731  ...   \n",
       "007255e47698  3.632190  0.025578  13.517790    1.229900  5496.92824  ...   \n",
       "013f2bd269f5  6.732840  0.025578  12.824570    1.229900  5135.78024  ...   \n",
       "043ac50845d5  3.685344  0.025578  11.053708    1.229900  4169.67738  ...   \n",
       "044fb8a146ec  3.942255  0.054810   3.396778  102.151980  5728.73412  ...   \n",
       "...                ...       ...        ...         ...         ...  ...   \n",
       "fd3dafe738fd  3.499305  0.077343   8.545512    2.804172  4157.68439  ...   \n",
       "fd895603f071  5.979825  0.025882  12.622906    3.777550  5654.07556  ...   \n",
       "fd8ef6377f76  8.070549  0.025578  15.408390    1.229900  5888.87769  ...   \n",
       "fe1942975e40  7.981959  0.025578   7.524588    1.229900  4517.86560  ...   \n",
       "ffcca4ded3bb  3.198099  0.116928   3.396778    7.948668  2818.01707  ...   \n",
       "\n",
       "                    FR        FS         GB          GE            GF  \\\n",
       "Id                                                                      \n",
       "000ff2bfdfe9   1.73855  0.094822  11.339138   72.611063   2003.810319   \n",
       "007255e47698   0.49706  0.568932   9.292698   72.611063  27981.562750   \n",
       "013f2bd269f5   0.97556  1.198821  37.077772   88.609437  13676.957810   \n",
       "043ac50845d5   0.49706  0.284466  18.529584   82.416803   2094.262452   \n",
       "044fb8a146ec  48.50134  0.121914  16.408728  146.109943   8524.370502   \n",
       "...                ...       ...        ...         ...           ...   \n",
       "fd3dafe738fd   1.26092  0.067730   8.967128  217.148554   8095.932828   \n",
       "fd895603f071   1.24236  0.426699  35.896418  496.994214   3085.308063   \n",
       "fd8ef6377f76   0.49706  0.067730  19.962092  128.896894   6474.652866   \n",
       "fe1942975e40   0.78764  0.670527  24.594488   72.611063   1965.343176   \n",
       "ffcca4ded3bb   1.14492  0.149006  13.673940   72.611063   6850.484442   \n",
       "\n",
       "                     GH          GI         GL     times  Class  \n",
       "Id                                                               \n",
       "000ff2bfdfe9  22.136229   69.834944   0.120343  737137.0      1  \n",
       "007255e47698  29.135430   32.131996  21.978000  737269.0      0  \n",
       "013f2bd269f5  28.022851   35.192676   0.196941  737269.0      0  \n",
       "043ac50845d5  39.948656   90.493248   0.155829  737269.0      0  \n",
       "044fb8a146ec  45.381316   36.262628   0.096614  737509.0      1  \n",
       "...                 ...         ...        ...       ...    ...  \n",
       "fd3dafe738fd  24.640462   69.191944  21.978000  737681.0      0  \n",
       "fd895603f071  29.648928  124.808872   0.145340  737676.0      0  \n",
       "fd8ef6377f76  26.166072  119.559420  21.978000  737264.0      0  \n",
       "fe1942975e40  25.116750   37.155112   0.184622  737090.0      0  \n",
       "ffcca4ded3bb  45.745974  114.842372  21.978000  737269.0      0  \n",
       "\n",
       "[617 rows x 58 columns]"
      ]
     },
     "execution_count": 57,
     "metadata": {},
     "output_type": "execute_result"
    }
   ],
   "source": [
    "#　https://www.kaggle.com/competitions/icr-identify-age-related-conditions/discussion/417250\n",
    "# df_train['EL'] = df_train['EL'].fillna(df_train['EL'].mode()[0]) <-- 要検討\n",
    "\n",
    "col_mean = df_train.median(axis=0)\n",
    "# col_mean = df_train.mode().iloc[0]\n",
    "for i, colname in enumerate(df_train.columns):\n",
    "    df_train[colname].fillna(col_mean[i], inplace=True)\n",
    "df_train"
   ]
  },
  {
   "cell_type": "code",
   "execution_count": 58,
   "id": "3b81a6d1",
   "metadata": {
    "_cell_guid": "b1b41949-084e-420d-af99-cdcfed745e79",
    "_uuid": "b5fc80b3-1d75-43ba-be3a-df2638fa2e6a",
    "execution": {
     "iopub.execute_input": "2023-08-08T14:43:11.022478Z",
     "iopub.status.busy": "2023-08-08T14:43:11.022146Z",
     "iopub.status.idle": "2023-08-08T14:43:11.075787Z",
     "shell.execute_reply": "2023-08-08T14:43:11.074479Z"
    },
    "jupyter": {
     "outputs_hidden": false
    },
    "papermill": {
     "duration": 0.140438,
     "end_time": "2023-08-08T14:43:11.078913",
     "exception": false,
     "start_time": "2023-08-08T14:43:10.938475",
     "status": "completed"
    },
    "tags": []
   },
   "outputs": [
    {
     "data": {
      "text/html": [
       "<div>\n",
       "<style scoped>\n",
       "    .dataframe tbody tr th:only-of-type {\n",
       "        vertical-align: middle;\n",
       "    }\n",
       "\n",
       "    .dataframe tbody tr th {\n",
       "        vertical-align: top;\n",
       "    }\n",
       "\n",
       "    .dataframe thead th {\n",
       "        text-align: right;\n",
       "    }\n",
       "</style>\n",
       "<table border=\"1\" class=\"dataframe\">\n",
       "  <thead>\n",
       "    <tr style=\"text-align: right;\">\n",
       "      <th></th>\n",
       "      <th>AB</th>\n",
       "      <th>AF</th>\n",
       "      <th>AH</th>\n",
       "      <th>AM</th>\n",
       "      <th>AR</th>\n",
       "      <th>AX</th>\n",
       "      <th>AY</th>\n",
       "      <th>AZ</th>\n",
       "      <th>BC</th>\n",
       "      <th>BD</th>\n",
       "      <th>...</th>\n",
       "      <th>FL</th>\n",
       "      <th>FR</th>\n",
       "      <th>FS</th>\n",
       "      <th>GB</th>\n",
       "      <th>GE</th>\n",
       "      <th>GF</th>\n",
       "      <th>GH</th>\n",
       "      <th>GI</th>\n",
       "      <th>GL</th>\n",
       "      <th>times</th>\n",
       "    </tr>\n",
       "    <tr>\n",
       "      <th>Id</th>\n",
       "      <th></th>\n",
       "      <th></th>\n",
       "      <th></th>\n",
       "      <th></th>\n",
       "      <th></th>\n",
       "      <th></th>\n",
       "      <th></th>\n",
       "      <th></th>\n",
       "      <th></th>\n",
       "      <th></th>\n",
       "      <th></th>\n",
       "      <th></th>\n",
       "      <th></th>\n",
       "      <th></th>\n",
       "      <th></th>\n",
       "      <th></th>\n",
       "      <th></th>\n",
       "      <th></th>\n",
       "      <th></th>\n",
       "      <th></th>\n",
       "      <th></th>\n",
       "    </tr>\n",
       "  </thead>\n",
       "  <tbody>\n",
       "    <tr>\n",
       "      <th>00eed32682bb</th>\n",
       "      <td>0.0</td>\n",
       "      <td>0.0</td>\n",
       "      <td>0.0</td>\n",
       "      <td>0.0</td>\n",
       "      <td>0.0</td>\n",
       "      <td>0.0</td>\n",
       "      <td>0.0</td>\n",
       "      <td>0.0</td>\n",
       "      <td>0.0</td>\n",
       "      <td>0.0</td>\n",
       "      <td>...</td>\n",
       "      <td>0.0</td>\n",
       "      <td>0.0</td>\n",
       "      <td>0.0</td>\n",
       "      <td>0.0</td>\n",
       "      <td>0.0</td>\n",
       "      <td>0.0</td>\n",
       "      <td>0.0</td>\n",
       "      <td>0.0</td>\n",
       "      <td>0.0</td>\n",
       "      <td>737698.0</td>\n",
       "    </tr>\n",
       "    <tr>\n",
       "      <th>010ebe33f668</th>\n",
       "      <td>0.0</td>\n",
       "      <td>0.0</td>\n",
       "      <td>0.0</td>\n",
       "      <td>0.0</td>\n",
       "      <td>0.0</td>\n",
       "      <td>0.0</td>\n",
       "      <td>0.0</td>\n",
       "      <td>0.0</td>\n",
       "      <td>0.0</td>\n",
       "      <td>0.0</td>\n",
       "      <td>...</td>\n",
       "      <td>0.0</td>\n",
       "      <td>0.0</td>\n",
       "      <td>0.0</td>\n",
       "      <td>0.0</td>\n",
       "      <td>0.0</td>\n",
       "      <td>0.0</td>\n",
       "      <td>0.0</td>\n",
       "      <td>0.0</td>\n",
       "      <td>0.0</td>\n",
       "      <td>737698.0</td>\n",
       "    </tr>\n",
       "    <tr>\n",
       "      <th>02fa521e1838</th>\n",
       "      <td>0.0</td>\n",
       "      <td>0.0</td>\n",
       "      <td>0.0</td>\n",
       "      <td>0.0</td>\n",
       "      <td>0.0</td>\n",
       "      <td>0.0</td>\n",
       "      <td>0.0</td>\n",
       "      <td>0.0</td>\n",
       "      <td>0.0</td>\n",
       "      <td>0.0</td>\n",
       "      <td>...</td>\n",
       "      <td>0.0</td>\n",
       "      <td>0.0</td>\n",
       "      <td>0.0</td>\n",
       "      <td>0.0</td>\n",
       "      <td>0.0</td>\n",
       "      <td>0.0</td>\n",
       "      <td>0.0</td>\n",
       "      <td>0.0</td>\n",
       "      <td>0.0</td>\n",
       "      <td>737698.0</td>\n",
       "    </tr>\n",
       "    <tr>\n",
       "      <th>040e15f562a2</th>\n",
       "      <td>0.0</td>\n",
       "      <td>0.0</td>\n",
       "      <td>0.0</td>\n",
       "      <td>0.0</td>\n",
       "      <td>0.0</td>\n",
       "      <td>0.0</td>\n",
       "      <td>0.0</td>\n",
       "      <td>0.0</td>\n",
       "      <td>0.0</td>\n",
       "      <td>0.0</td>\n",
       "      <td>...</td>\n",
       "      <td>0.0</td>\n",
       "      <td>0.0</td>\n",
       "      <td>0.0</td>\n",
       "      <td>0.0</td>\n",
       "      <td>0.0</td>\n",
       "      <td>0.0</td>\n",
       "      <td>0.0</td>\n",
       "      <td>0.0</td>\n",
       "      <td>0.0</td>\n",
       "      <td>737698.0</td>\n",
       "    </tr>\n",
       "    <tr>\n",
       "      <th>046e85c7cc7f</th>\n",
       "      <td>0.0</td>\n",
       "      <td>0.0</td>\n",
       "      <td>0.0</td>\n",
       "      <td>0.0</td>\n",
       "      <td>0.0</td>\n",
       "      <td>0.0</td>\n",
       "      <td>0.0</td>\n",
       "      <td>0.0</td>\n",
       "      <td>0.0</td>\n",
       "      <td>0.0</td>\n",
       "      <td>...</td>\n",
       "      <td>0.0</td>\n",
       "      <td>0.0</td>\n",
       "      <td>0.0</td>\n",
       "      <td>0.0</td>\n",
       "      <td>0.0</td>\n",
       "      <td>0.0</td>\n",
       "      <td>0.0</td>\n",
       "      <td>0.0</td>\n",
       "      <td>0.0</td>\n",
       "      <td>737698.0</td>\n",
       "    </tr>\n",
       "  </tbody>\n",
       "</table>\n",
       "<p>5 rows × 57 columns</p>\n",
       "</div>"
      ],
      "text/plain": [
       "               AB   AF   AH   AM   AR   AX   AY   AZ   BC  BD   ...   FL   FR  \\\n",
       "Id                                                              ...             \n",
       "00eed32682bb  0.0  0.0  0.0  0.0  0.0  0.0  0.0  0.0  0.0  0.0  ...  0.0  0.0   \n",
       "010ebe33f668  0.0  0.0  0.0  0.0  0.0  0.0  0.0  0.0  0.0  0.0  ...  0.0  0.0   \n",
       "02fa521e1838  0.0  0.0  0.0  0.0  0.0  0.0  0.0  0.0  0.0  0.0  ...  0.0  0.0   \n",
       "040e15f562a2  0.0  0.0  0.0  0.0  0.0  0.0  0.0  0.0  0.0  0.0  ...  0.0  0.0   \n",
       "046e85c7cc7f  0.0  0.0  0.0  0.0  0.0  0.0  0.0  0.0  0.0  0.0  ...  0.0  0.0   \n",
       "\n",
       "               FS   GB   GE   GF   GH   GI   GL     times  \n",
       "Id                                                         \n",
       "00eed32682bb  0.0  0.0  0.0  0.0  0.0  0.0  0.0  737698.0  \n",
       "010ebe33f668  0.0  0.0  0.0  0.0  0.0  0.0  0.0  737698.0  \n",
       "02fa521e1838  0.0  0.0  0.0  0.0  0.0  0.0  0.0  737698.0  \n",
       "040e15f562a2  0.0  0.0  0.0  0.0  0.0  0.0  0.0  737698.0  \n",
       "046e85c7cc7f  0.0  0.0  0.0  0.0  0.0  0.0  0.0  737698.0  \n",
       "\n",
       "[5 rows x 57 columns]"
      ]
     },
     "execution_count": 58,
     "metadata": {},
     "output_type": "execute_result"
    }
   ],
   "source": [
    "for i, colname in enumerate(df_test.columns):\n",
    "    df_test[colname].fillna(col_mean[i], inplace=True)\n",
    "df_test"
   ]
  },
  {
   "cell_type": "markdown",
   "id": "77f3349a",
   "metadata": {
    "_cell_guid": "241cfe0e-8d2e-4d78-b04e-712cff57b97a",
    "_uuid": "c2963db8-a14a-469a-8fd9-3e286446e950",
    "papermill": {
     "duration": 0.088275,
     "end_time": "2023-08-08T14:43:11.267941",
     "exception": false,
     "start_time": "2023-08-08T14:43:11.179666",
     "status": "completed"
    },
    "tags": []
   },
   "source": [
    "### 列 BC と CL を削除\n",
    "自分のコードではCVが低下したので一旦コメントアウト\n",
    "\n",
    "https://www.kaggle.com/competitions/icr-identify-age-related-conditions/discussion/414638"
   ]
  },
  {
   "cell_type": "code",
   "execution_count": 59,
   "id": "391b0df5",
   "metadata": {
    "_cell_guid": "c33866cc-0d1b-4039-9518-3cab50c335b3",
    "_uuid": "8d9975f9-8c18-4137-bee7-cd26b1b9ca59",
    "execution": {
     "iopub.execute_input": "2023-08-08T14:43:11.432781Z",
     "iopub.status.busy": "2023-08-08T14:43:11.432375Z",
     "iopub.status.idle": "2023-08-08T14:43:11.437667Z",
     "shell.execute_reply": "2023-08-08T14:43:11.436709Z"
    },
    "jupyter": {
     "outputs_hidden": false
    },
    "papermill": {
     "duration": 0.08771,
     "end_time": "2023-08-08T14:43:11.439857",
     "exception": false,
     "start_time": "2023-08-08T14:43:11.352147",
     "status": "completed"
    },
    "tags": []
   },
   "outputs": [],
   "source": [
    "if del_BC_CL:\n",
    "    df_train = df_train.drop(['BC','CL'], axis=1)\n",
    "    df_test = df_test.drop(['BC','CL'], axis=1)"
   ]
  },
  {
   "cell_type": "markdown",
   "id": "a991ecd0",
   "metadata": {
    "_cell_guid": "5a08b839-3f4b-4052-a58e-4db043269e3c",
    "_uuid": "bbfbf46f-0496-4610-8c7b-ebd141049e04",
    "papermill": {
     "duration": 0.083869,
     "end_time": "2023-08-08T14:43:11.606555",
     "exception": false,
     "start_time": "2023-08-08T14:43:11.522686",
     "status": "completed"
    },
    "tags": []
   },
   "source": [
    "### smote\n",
    "今回は効果なさそうなので使わない。use_SMOTEもoff固定！！ **使うと不具合出るかも**"
   ]
  },
  {
   "cell_type": "code",
   "execution_count": 60,
   "id": "6c7a6161",
   "metadata": {
    "_cell_guid": "dfcbbacf-0140-4a87-9b2c-ba2e98f400f0",
    "_uuid": "a1a93d25-5fdd-4039-83ad-d29db16114e6",
    "execution": {
     "iopub.execute_input": "2023-08-08T14:43:11.770540Z",
     "iopub.status.busy": "2023-08-08T14:43:11.770201Z",
     "iopub.status.idle": "2023-08-08T14:43:17.759290Z",
     "shell.execute_reply": "2023-08-08T14:43:17.758350Z"
    },
    "jupyter": {
     "outputs_hidden": false
    },
    "papermill": {
     "duration": 6.076429,
     "end_time": "2023-08-08T14:43:17.762697",
     "exception": false,
     "start_time": "2023-08-08T14:43:11.686268",
     "status": "completed"
    },
    "tags": []
   },
   "outputs": [
    {
     "data": {
      "image/png": "[encoded data removed]",
      "text/plain": [
       "<Figure size 640x480 with 1 Axes>"
      ]
     },
     "metadata": {},
     "output_type": "display_data"
    }
   ],
   "source": [
    "from imblearn.over_sampling import SMOTE\n",
    "from imblearn.combine import SMOTETomek\n",
    "\n",
    "X = df_train[df_train.columns[:-1]]\n",
    "y = df_train.Class\n",
    "sm = SMOTETomek(random_state=57)\n",
    "X_res, y_res = sm.fit_resample(X, y)\n",
    "\n",
    "from sklearn.manifold import TSNE\n",
    "pca = TSNE(n_components=2, random_state=0)\n",
    "X_reduced_tsne = pca.fit_transform(X_res)  # wineデータをPCAで次元圧縮\n",
    "plt.scatter(X_reduced_tsne[:, 0], X_reduced_tsne[:, 1],\n",
    "            c=y_res, cmap='jet', alpha=0.3)\n",
    "plt.show()\n",
    "\n",
    "if use_SMOTE:\n",
    "    X_res['Class'] = y_res\n",
    "    df_train = X_res"
   ]
  },
  {
   "cell_type": "code",
   "execution_count": 61,
   "id": "cbb95cf7",
   "metadata": {
    "_cell_guid": "077c1c14-65a8-48a7-bc38-f4daef3f66bd",
    "_uuid": "feb11d3f-902a-4147-b9ae-9fdf4e6bccd7",
    "execution": {
     "iopub.execute_input": "2023-08-08T14:43:17.942584Z",
     "iopub.status.busy": "2023-08-08T14:43:17.942223Z",
     "iopub.status.idle": "2023-08-08T14:43:17.975570Z",
     "shell.execute_reply": "2023-08-08T14:43:17.974594Z"
    },
    "jupyter": {
     "outputs_hidden": false
    },
    "papermill": {
     "duration": 0.123263,
     "end_time": "2023-08-08T14:43:17.978093",
     "exception": false,
     "start_time": "2023-08-08T14:43:17.854830",
     "status": "completed"
    },
    "tags": []
   },
   "outputs": [
    {
     "data": {
      "text/html": [
       "<div>\n",
       "<style scoped>\n",
       "    .dataframe tbody tr th:only-of-type {\n",
       "        vertical-align: middle;\n",
       "    }\n",
       "\n",
       "    .dataframe tbody tr th {\n",
       "        vertical-align: top;\n",
       "    }\n",
       "\n",
       "    .dataframe thead th {\n",
       "        text-align: right;\n",
       "    }\n",
       "</style>\n",
       "<table border=\"1\" class=\"dataframe\">\n",
       "  <thead>\n",
       "    <tr style=\"text-align: right;\">\n",
       "      <th></th>\n",
       "      <th>AB</th>\n",
       "      <th>AF</th>\n",
       "      <th>AH</th>\n",
       "      <th>AM</th>\n",
       "      <th>AR</th>\n",
       "      <th>AX</th>\n",
       "      <th>AY</th>\n",
       "      <th>AZ</th>\n",
       "      <th>BC</th>\n",
       "      <th>BD</th>\n",
       "      <th>...</th>\n",
       "      <th>FR</th>\n",
       "      <th>FS</th>\n",
       "      <th>GB</th>\n",
       "      <th>GE</th>\n",
       "      <th>GF</th>\n",
       "      <th>GH</th>\n",
       "      <th>GI</th>\n",
       "      <th>GL</th>\n",
       "      <th>times</th>\n",
       "      <th>Class</th>\n",
       "    </tr>\n",
       "    <tr>\n",
       "      <th>Id</th>\n",
       "      <th></th>\n",
       "      <th></th>\n",
       "      <th></th>\n",
       "      <th></th>\n",
       "      <th></th>\n",
       "      <th></th>\n",
       "      <th></th>\n",
       "      <th></th>\n",
       "      <th></th>\n",
       "      <th></th>\n",
       "      <th></th>\n",
       "      <th></th>\n",
       "      <th></th>\n",
       "      <th></th>\n",
       "      <th></th>\n",
       "      <th></th>\n",
       "      <th></th>\n",
       "      <th></th>\n",
       "      <th></th>\n",
       "      <th></th>\n",
       "      <th></th>\n",
       "    </tr>\n",
       "  </thead>\n",
       "  <tbody>\n",
       "    <tr>\n",
       "      <th>000ff2bfdfe9</th>\n",
       "      <td>0.209377</td>\n",
       "      <td>3109.03329</td>\n",
       "      <td>85.200147</td>\n",
       "      <td>22.394407</td>\n",
       "      <td>8.138688</td>\n",
       "      <td>0.699861</td>\n",
       "      <td>0.025578</td>\n",
       "      <td>9.812214</td>\n",
       "      <td>5.555634</td>\n",
       "      <td>4126.58731</td>\n",
       "      <td>...</td>\n",
       "      <td>1.73855</td>\n",
       "      <td>0.094822</td>\n",
       "      <td>11.339138</td>\n",
       "      <td>72.611063</td>\n",
       "      <td>2003.810319</td>\n",
       "      <td>22.136229</td>\n",
       "      <td>69.834944</td>\n",
       "      <td>0.120343</td>\n",
       "      <td>737137.0</td>\n",
       "      <td>1</td>\n",
       "    </tr>\n",
       "    <tr>\n",
       "      <th>007255e47698</th>\n",
       "      <td>0.145282</td>\n",
       "      <td>978.76416</td>\n",
       "      <td>85.200147</td>\n",
       "      <td>36.968889</td>\n",
       "      <td>8.138688</td>\n",
       "      <td>3.632190</td>\n",
       "      <td>0.025578</td>\n",
       "      <td>13.517790</td>\n",
       "      <td>1.229900</td>\n",
       "      <td>5496.92824</td>\n",
       "      <td>...</td>\n",
       "      <td>0.49706</td>\n",
       "      <td>0.568932</td>\n",
       "      <td>9.292698</td>\n",
       "      <td>72.611063</td>\n",
       "      <td>27981.562750</td>\n",
       "      <td>29.135430</td>\n",
       "      <td>32.131996</td>\n",
       "      <td>21.978000</td>\n",
       "      <td>737269.0</td>\n",
       "      <td>0</td>\n",
       "    </tr>\n",
       "    <tr>\n",
       "      <th>013f2bd269f5</th>\n",
       "      <td>0.470030</td>\n",
       "      <td>2635.10654</td>\n",
       "      <td>85.200147</td>\n",
       "      <td>32.360553</td>\n",
       "      <td>8.138688</td>\n",
       "      <td>6.732840</td>\n",
       "      <td>0.025578</td>\n",
       "      <td>12.824570</td>\n",
       "      <td>1.229900</td>\n",
       "      <td>5135.78024</td>\n",
       "      <td>...</td>\n",
       "      <td>0.97556</td>\n",
       "      <td>1.198821</td>\n",
       "      <td>37.077772</td>\n",
       "      <td>88.609437</td>\n",
       "      <td>13676.957810</td>\n",
       "      <td>28.022851</td>\n",
       "      <td>35.192676</td>\n",
       "      <td>0.196941</td>\n",
       "      <td>737269.0</td>\n",
       "      <td>0</td>\n",
       "    </tr>\n",
       "    <tr>\n",
       "      <th>043ac50845d5</th>\n",
       "      <td>0.252107</td>\n",
       "      <td>3819.65177</td>\n",
       "      <td>120.201618</td>\n",
       "      <td>77.112203</td>\n",
       "      <td>8.138688</td>\n",
       "      <td>3.685344</td>\n",
       "      <td>0.025578</td>\n",
       "      <td>11.053708</td>\n",
       "      <td>1.229900</td>\n",
       "      <td>4169.67738</td>\n",
       "      <td>...</td>\n",
       "      <td>0.49706</td>\n",
       "      <td>0.284466</td>\n",
       "      <td>18.529584</td>\n",
       "      <td>82.416803</td>\n",
       "      <td>2094.262452</td>\n",
       "      <td>39.948656</td>\n",
       "      <td>90.493248</td>\n",
       "      <td>0.155829</td>\n",
       "      <td>737269.0</td>\n",
       "      <td>0</td>\n",
       "    </tr>\n",
       "    <tr>\n",
       "      <th>044fb8a146ec</th>\n",
       "      <td>0.380297</td>\n",
       "      <td>3733.04844</td>\n",
       "      <td>85.200147</td>\n",
       "      <td>14.103738</td>\n",
       "      <td>8.138688</td>\n",
       "      <td>3.942255</td>\n",
       "      <td>0.054810</td>\n",
       "      <td>3.396778</td>\n",
       "      <td>102.151980</td>\n",
       "      <td>5728.73412</td>\n",
       "      <td>...</td>\n",
       "      <td>48.50134</td>\n",
       "      <td>0.121914</td>\n",
       "      <td>16.408728</td>\n",
       "      <td>146.109943</td>\n",
       "      <td>8524.370502</td>\n",
       "      <td>45.381316</td>\n",
       "      <td>36.262628</td>\n",
       "      <td>0.096614</td>\n",
       "      <td>737509.0</td>\n",
       "      <td>1</td>\n",
       "    </tr>\n",
       "    <tr>\n",
       "      <th>...</th>\n",
       "      <td>...</td>\n",
       "      <td>...</td>\n",
       "      <td>...</td>\n",
       "      <td>...</td>\n",
       "      <td>...</td>\n",
       "      <td>...</td>\n",
       "      <td>...</td>\n",
       "      <td>...</td>\n",
       "      <td>...</td>\n",
       "      <td>...</td>\n",
       "      <td>...</td>\n",
       "      <td>...</td>\n",
       "      <td>...</td>\n",
       "      <td>...</td>\n",
       "      <td>...</td>\n",
       "      <td>...</td>\n",
       "      <td>...</td>\n",
       "      <td>...</td>\n",
       "      <td>...</td>\n",
       "      <td>...</td>\n",
       "      <td>...</td>\n",
       "    </tr>\n",
       "    <tr>\n",
       "      <th>fd3dafe738fd</th>\n",
       "      <td>0.149555</td>\n",
       "      <td>3130.05946</td>\n",
       "      <td>123.763599</td>\n",
       "      <td>9.513984</td>\n",
       "      <td>13.020852</td>\n",
       "      <td>3.499305</td>\n",
       "      <td>0.077343</td>\n",
       "      <td>8.545512</td>\n",
       "      <td>2.804172</td>\n",
       "      <td>4157.68439</td>\n",
       "      <td>...</td>\n",
       "      <td>1.26092</td>\n",
       "      <td>0.067730</td>\n",
       "      <td>8.967128</td>\n",
       "      <td>217.148554</td>\n",
       "      <td>8095.932828</td>\n",
       "      <td>24.640462</td>\n",
       "      <td>69.191944</td>\n",
       "      <td>21.978000</td>\n",
       "      <td>737681.0</td>\n",
       "      <td>0</td>\n",
       "    </tr>\n",
       "    <tr>\n",
       "      <th>fd895603f071</th>\n",
       "      <td>0.435846</td>\n",
       "      <td>5462.03438</td>\n",
       "      <td>85.200147</td>\n",
       "      <td>46.551007</td>\n",
       "      <td>15.973224</td>\n",
       "      <td>5.979825</td>\n",
       "      <td>0.025882</td>\n",
       "      <td>12.622906</td>\n",
       "      <td>3.777550</td>\n",
       "      <td>5654.07556</td>\n",
       "      <td>...</td>\n",
       "      <td>1.24236</td>\n",
       "      <td>0.426699</td>\n",
       "      <td>35.896418</td>\n",
       "      <td>496.994214</td>\n",
       "      <td>3085.308063</td>\n",
       "      <td>29.648928</td>\n",
       "      <td>124.808872</td>\n",
       "      <td>0.145340</td>\n",
       "      <td>737676.0</td>\n",
       "      <td>0</td>\n",
       "    </tr>\n",
       "    <tr>\n",
       "      <th>fd8ef6377f76</th>\n",
       "      <td>0.427300</td>\n",
       "      <td>2459.10720</td>\n",
       "      <td>130.138587</td>\n",
       "      <td>55.355778</td>\n",
       "      <td>10.005552</td>\n",
       "      <td>8.070549</td>\n",
       "      <td>0.025578</td>\n",
       "      <td>15.408390</td>\n",
       "      <td>1.229900</td>\n",
       "      <td>5888.87769</td>\n",
       "      <td>...</td>\n",
       "      <td>0.49706</td>\n",
       "      <td>0.067730</td>\n",
       "      <td>19.962092</td>\n",
       "      <td>128.896894</td>\n",
       "      <td>6474.652866</td>\n",
       "      <td>26.166072</td>\n",
       "      <td>119.559420</td>\n",
       "      <td>21.978000</td>\n",
       "      <td>737264.0</td>\n",
       "      <td>0</td>\n",
       "    </tr>\n",
       "    <tr>\n",
       "      <th>fe1942975e40</th>\n",
       "      <td>0.363205</td>\n",
       "      <td>1263.53524</td>\n",
       "      <td>85.200147</td>\n",
       "      <td>23.685856</td>\n",
       "      <td>8.138688</td>\n",
       "      <td>7.981959</td>\n",
       "      <td>0.025578</td>\n",
       "      <td>7.524588</td>\n",
       "      <td>1.229900</td>\n",
       "      <td>4517.86560</td>\n",
       "      <td>...</td>\n",
       "      <td>0.78764</td>\n",
       "      <td>0.670527</td>\n",
       "      <td>24.594488</td>\n",
       "      <td>72.611063</td>\n",
       "      <td>1965.343176</td>\n",
       "      <td>25.116750</td>\n",
       "      <td>37.155112</td>\n",
       "      <td>0.184622</td>\n",
       "      <td>737090.0</td>\n",
       "      <td>0</td>\n",
       "    </tr>\n",
       "    <tr>\n",
       "      <th>ffcca4ded3bb</th>\n",
       "      <td>0.482849</td>\n",
       "      <td>2672.53426</td>\n",
       "      <td>546.663930</td>\n",
       "      <td>112.006102</td>\n",
       "      <td>8.138688</td>\n",
       "      <td>3.198099</td>\n",
       "      <td>0.116928</td>\n",
       "      <td>3.396778</td>\n",
       "      <td>7.948668</td>\n",
       "      <td>2818.01707</td>\n",
       "      <td>...</td>\n",
       "      <td>1.14492</td>\n",
       "      <td>0.149006</td>\n",
       "      <td>13.673940</td>\n",
       "      <td>72.611063</td>\n",
       "      <td>6850.484442</td>\n",
       "      <td>45.745974</td>\n",
       "      <td>114.842372</td>\n",
       "      <td>21.978000</td>\n",
       "      <td>737269.0</td>\n",
       "      <td>0</td>\n",
       "    </tr>\n",
       "  </tbody>\n",
       "</table>\n",
       "<p>617 rows × 58 columns</p>\n",
       "</div>"
      ],
      "text/plain": [
       "                    AB          AF          AH          AM         AR  \\\n",
       "Id                                                                      \n",
       "000ff2bfdfe9  0.209377  3109.03329   85.200147   22.394407   8.138688   \n",
       "007255e47698  0.145282   978.76416   85.200147   36.968889   8.138688   \n",
       "013f2bd269f5  0.470030  2635.10654   85.200147   32.360553   8.138688   \n",
       "043ac50845d5  0.252107  3819.65177  120.201618   77.112203   8.138688   \n",
       "044fb8a146ec  0.380297  3733.04844   85.200147   14.103738   8.138688   \n",
       "...                ...         ...         ...         ...        ...   \n",
       "fd3dafe738fd  0.149555  3130.05946  123.763599    9.513984  13.020852   \n",
       "fd895603f071  0.435846  5462.03438   85.200147   46.551007  15.973224   \n",
       "fd8ef6377f76  0.427300  2459.10720  130.138587   55.355778  10.005552   \n",
       "fe1942975e40  0.363205  1263.53524   85.200147   23.685856   8.138688   \n",
       "ffcca4ded3bb  0.482849  2672.53426  546.663930  112.006102   8.138688   \n",
       "\n",
       "                    AX        AY         AZ          BC         BD   ...  \\\n",
       "Id                                                                   ...   \n",
       "000ff2bfdfe9  0.699861  0.025578   9.812214    5.555634  4126.58731  ...   \n",
       "007255e47698  3.632190  0.025578  13.517790    1.229900  5496.92824  ...   \n",
       "013f2bd269f5  6.732840  0.025578  12.824570    1.229900  5135.78024  ...   \n",
       "043ac50845d5  3.685344  0.025578  11.053708    1.229900  4169.67738  ...   \n",
       "044fb8a146ec  3.942255  0.054810   3.396778  102.151980  5728.73412  ...   \n",
       "...                ...       ...        ...         ...         ...  ...   \n",
       "fd3dafe738fd  3.499305  0.077343   8.545512    2.804172  4157.68439  ...   \n",
       "fd895603f071  5.979825  0.025882  12.622906    3.777550  5654.07556  ...   \n",
       "fd8ef6377f76  8.070549  0.025578  15.408390    1.229900  5888.87769  ...   \n",
       "fe1942975e40  7.981959  0.025578   7.524588    1.229900  4517.86560  ...   \n",
       "ffcca4ded3bb  3.198099  0.116928   3.396778    7.948668  2818.01707  ...   \n",
       "\n",
       "                    FR        FS         GB          GE            GF  \\\n",
       "Id                                                                      \n",
       "000ff2bfdfe9   1.73855  0.094822  11.339138   72.611063   2003.810319   \n",
       "007255e47698   0.49706  0.568932   9.292698   72.611063  27981.562750   \n",
       "013f2bd269f5   0.97556  1.198821  37.077772   88.609437  13676.957810   \n",
       "043ac50845d5   0.49706  0.284466  18.529584   82.416803   2094.262452   \n",
       "044fb8a146ec  48.50134  0.121914  16.408728  146.109943   8524.370502   \n",
       "...                ...       ...        ...         ...           ...   \n",
       "fd3dafe738fd   1.26092  0.067730   8.967128  217.148554   8095.932828   \n",
       "fd895603f071   1.24236  0.426699  35.896418  496.994214   3085.308063   \n",
       "fd8ef6377f76   0.49706  0.067730  19.962092  128.896894   6474.652866   \n",
       "fe1942975e40   0.78764  0.670527  24.594488   72.611063   1965.343176   \n",
       "ffcca4ded3bb   1.14492  0.149006  13.673940   72.611063   6850.484442   \n",
       "\n",
       "                     GH          GI         GL     times  Class  \n",
       "Id                                                               \n",
       "000ff2bfdfe9  22.136229   69.834944   0.120343  737137.0      1  \n",
       "007255e47698  29.135430   32.131996  21.978000  737269.0      0  \n",
       "013f2bd269f5  28.022851   35.192676   0.196941  737269.0      0  \n",
       "043ac50845d5  39.948656   90.493248   0.155829  737269.0      0  \n",
       "044fb8a146ec  45.381316   36.262628   0.096614  737509.0      1  \n",
       "...                 ...         ...        ...       ...    ...  \n",
       "fd3dafe738fd  24.640462   69.191944  21.978000  737681.0      0  \n",
       "fd895603f071  29.648928  124.808872   0.145340  737676.0      0  \n",
       "fd8ef6377f76  26.166072  119.559420  21.978000  737264.0      0  \n",
       "fe1942975e40  25.116750   37.155112   0.184622  737090.0      0  \n",
       "ffcca4ded3bb  45.745974  114.842372  21.978000  737269.0      0  \n",
       "\n",
       "[617 rows x 58 columns]"
      ]
     },
     "execution_count": 61,
     "metadata": {},
     "output_type": "execute_result"
    }
   ],
   "source": [
    "df_train"
   ]
  },
  {
   "cell_type": "markdown",
   "id": "66c26ffa",
   "metadata": {
    "_cell_guid": "7b1ceb9b-205a-40ed-a414-7cc201eb8714",
    "_uuid": "555fd58e-036a-4cc6-b281-719b23c7a06a",
    "papermill": {
     "duration": 0.087218,
     "end_time": "2023-08-08T14:43:18.155956",
     "exception": false,
     "start_time": "2023-08-08T14:43:18.068738",
     "status": "completed"
    },
    "tags": []
   },
   "source": [
    "### yeo-johnson変換"
   ]
  },
  {
   "cell_type": "code",
   "execution_count": 62,
   "id": "54a08f5b",
   "metadata": {
    "_cell_guid": "71d76b30-05b4-45cd-983a-bde8a2c8ce17",
    "_uuid": "6a4daf98-2d03-4e72-a5d1-4e5efaf9dde7",
    "execution": {
     "iopub.execute_input": "2023-08-08T14:43:18.325349Z",
     "iopub.status.busy": "2023-08-08T14:43:18.324287Z",
     "iopub.status.idle": "2023-08-08T14:43:18.329112Z",
     "shell.execute_reply": "2023-08-08T14:43:18.328148Z"
    },
    "jupyter": {
     "outputs_hidden": false
    },
    "papermill": {
     "duration": 0.092252,
     "end_time": "2023-08-08T14:43:18.331164",
     "exception": false,
     "start_time": "2023-08-08T14:43:18.238912",
     "status": "completed"
    },
    "tags": []
   },
   "outputs": [],
   "source": [
    "# cols = df_train.columns[:-2]\n",
    "# pt = PowerTransformer(method='yeo-johnson')\n",
    "# pt.fit(df_train[cols].values)\n",
    "# df_train[cols] = pt.transform(df_train[cols].values)\n",
    "# df_test[cols] = pt.transform(df_test[cols].values)\n",
    "# \n",
    "# df_train"
   ]
  },
  {
   "cell_type": "code",
   "execution_count": null,
   "id": "8be315fc",
   "metadata": {
    "_cell_guid": "e3674635-7ae1-4a4c-8805-0565ca5675f4",
    "_uuid": "3ecc6b04-7375-4899-a8ee-1892eee04f99",
    "jupyter": {
     "outputs_hidden": false
    },
    "papermill": {
     "duration": 0.082489,
     "end_time": "2023-08-08T14:43:18.494485",
     "exception": false,
     "start_time": "2023-08-08T14:43:18.411996",
     "status": "completed"
    },
    "tags": []
   },
   "outputs": [],
   "source": []
  },
  {
   "cell_type": "code",
   "execution_count": null,
   "id": "f71c52e5",
   "metadata": {
    "_cell_guid": "eaa23e59-82b1-4ac0-b5c4-7a316080dc9e",
    "_uuid": "df2bd827-a5a1-4304-9cd7-3c5fba1b748f",
    "jupyter": {
     "outputs_hidden": false
    },
    "papermill": {
     "duration": 0.082772,
     "end_time": "2023-08-08T14:43:18.665344",
     "exception": false,
     "start_time": "2023-08-08T14:43:18.582572",
     "status": "completed"
    },
    "tags": []
   },
   "outputs": [],
   "source": []
  },
  {
   "cell_type": "markdown",
   "id": "b8c12197",
   "metadata": {
    "_cell_guid": "8fe271d6-7a53-46ac-ae11-620ce21052fb",
    "_uuid": "f5c70810-75b6-404c-b7e9-0f4a000a7dc8",
    "papermill": {
     "duration": 0.083775,
     "end_time": "2023-08-08T14:43:18.833120",
     "exception": false,
     "start_time": "2023-08-08T14:43:18.749345",
     "status": "completed"
    },
    "tags": []
   },
   "source": [
    "## スケールを変更"
   ]
  },
  {
   "cell_type": "code",
   "execution_count": 63,
   "id": "b638169f",
   "metadata": {
    "_cell_guid": "9f07581a-c54a-483e-9b1d-bef82285b27c",
    "_uuid": "4348979c-a06a-494d-be37-eedd7c6499fd",
    "execution": {
     "iopub.execute_input": "2023-08-08T14:43:18.998450Z",
     "iopub.status.busy": "2023-08-08T14:43:18.998080Z",
     "iopub.status.idle": "2023-08-08T14:43:19.064608Z",
     "shell.execute_reply": "2023-08-08T14:43:19.063416Z"
    },
    "jupyter": {
     "outputs_hidden": false
    },
    "papermill": {
     "duration": 0.153968,
     "end_time": "2023-08-08T14:43:19.067462",
     "exception": false,
     "start_time": "2023-08-08T14:43:18.913494",
     "status": "completed"
    },
    "tags": []
   },
   "outputs": [
    {
     "data": {
      "text/html": [
       "<div>\n",
       "<style scoped>\n",
       "    .dataframe tbody tr th:only-of-type {\n",
       "        vertical-align: middle;\n",
       "    }\n",
       "\n",
       "    .dataframe tbody tr th {\n",
       "        vertical-align: top;\n",
       "    }\n",
       "\n",
       "    .dataframe thead th {\n",
       "        text-align: right;\n",
       "    }\n",
       "</style>\n",
       "<table border=\"1\" class=\"dataframe\">\n",
       "  <thead>\n",
       "    <tr style=\"text-align: right;\">\n",
       "      <th></th>\n",
       "      <th>AB</th>\n",
       "      <th>AF</th>\n",
       "      <th>AH</th>\n",
       "      <th>AM</th>\n",
       "      <th>AR</th>\n",
       "      <th>AX</th>\n",
       "      <th>AY</th>\n",
       "      <th>AZ</th>\n",
       "      <th>BC</th>\n",
       "      <th>BD</th>\n",
       "      <th>...</th>\n",
       "      <th>FR</th>\n",
       "      <th>FS</th>\n",
       "      <th>GB</th>\n",
       "      <th>GE</th>\n",
       "      <th>GF</th>\n",
       "      <th>GH</th>\n",
       "      <th>GI</th>\n",
       "      <th>GL</th>\n",
       "      <th>times</th>\n",
       "      <th>Class</th>\n",
       "    </tr>\n",
       "    <tr>\n",
       "      <th>Id</th>\n",
       "      <th></th>\n",
       "      <th></th>\n",
       "      <th></th>\n",
       "      <th></th>\n",
       "      <th></th>\n",
       "      <th></th>\n",
       "      <th></th>\n",
       "      <th></th>\n",
       "      <th></th>\n",
       "      <th></th>\n",
       "      <th></th>\n",
       "      <th></th>\n",
       "      <th></th>\n",
       "      <th></th>\n",
       "      <th></th>\n",
       "      <th></th>\n",
       "      <th></th>\n",
       "      <th></th>\n",
       "      <th></th>\n",
       "      <th></th>\n",
       "      <th></th>\n",
       "    </tr>\n",
       "  </thead>\n",
       "  <tbody>\n",
       "    <tr>\n",
       "      <th>000ff2bfdfe9</th>\n",
       "      <td>-0.472222</td>\n",
       "      <td>-0.005214</td>\n",
       "      <td>0.000000</td>\n",
       "      <td>0.069272</td>\n",
       "      <td>0.000000</td>\n",
       "      <td>-1.880769</td>\n",
       "      <td>0.000000</td>\n",
       "      <td>-0.134115</td>\n",
       "      <td>1.123175</td>\n",
       "      <td>-0.463451</td>\n",
       "      <td>...</td>\n",
       "      <td>0.598571</td>\n",
       "      <td>-0.333333</td>\n",
       "      <td>-0.642283</td>\n",
       "      <td>0.000000</td>\n",
       "      <td>-0.359338</td>\n",
       "      <td>-0.716263</td>\n",
       "      <td>0.641741</td>\n",
       "      <td>-0.009952</td>\n",
       "      <td>737137.0</td>\n",
       "      <td>1</td>\n",
       "    </tr>\n",
       "    <tr>\n",
       "      <th>007255e47698</th>\n",
       "      <td>-0.680556</td>\n",
       "      <td>-0.989494</td>\n",
       "      <td>0.000000</td>\n",
       "      <td>0.611687</td>\n",
       "      <td>0.000000</td>\n",
       "      <td>-0.607692</td>\n",
       "      <td>0.000000</td>\n",
       "      <td>0.631510</td>\n",
       "      <td>0.000000</td>\n",
       "      <td>0.265382</td>\n",
       "      <td>...</td>\n",
       "      <td>-0.624571</td>\n",
       "      <td>0.681159</td>\n",
       "      <td>-0.819132</td>\n",
       "      <td>0.000000</td>\n",
       "      <td>1.240601</td>\n",
       "      <td>-0.124567</td>\n",
       "      <td>-0.197595</td>\n",
       "      <td>0.990234</td>\n",
       "      <td>737269.0</td>\n",
       "      <td>0</td>\n",
       "    </tr>\n",
       "    <tr>\n",
       "      <th>013f2bd269f5</th>\n",
       "      <td>0.375000</td>\n",
       "      <td>-0.224190</td>\n",
       "      <td>0.000000</td>\n",
       "      <td>0.440180</td>\n",
       "      <td>0.000000</td>\n",
       "      <td>0.738462</td>\n",
       "      <td>0.000000</td>\n",
       "      <td>0.488281</td>\n",
       "      <td>0.000000</td>\n",
       "      <td>0.073301</td>\n",
       "      <td>...</td>\n",
       "      <td>-0.153143</td>\n",
       "      <td>2.028986</td>\n",
       "      <td>1.581994</td>\n",
       "      <td>0.290982</td>\n",
       "      <td>0.359598</td>\n",
       "      <td>-0.218622</td>\n",
       "      <td>-0.129459</td>\n",
       "      <td>-0.006447</td>\n",
       "      <td>737269.0</td>\n",
       "      <td>0</td>\n",
       "    </tr>\n",
       "    <tr>\n",
       "      <th>043ac50845d5</th>\n",
       "      <td>-0.333333</td>\n",
       "      <td>0.323123</td>\n",
       "      <td>1.226427</td>\n",
       "      <td>2.105694</td>\n",
       "      <td>0.000000</td>\n",
       "      <td>-0.584615</td>\n",
       "      <td>0.000000</td>\n",
       "      <td>0.122396</td>\n",
       "      <td>0.000000</td>\n",
       "      <td>-0.440533</td>\n",
       "      <td>...</td>\n",
       "      <td>-0.624571</td>\n",
       "      <td>0.072464</td>\n",
       "      <td>-0.020900</td>\n",
       "      <td>0.178349</td>\n",
       "      <td>-0.353767</td>\n",
       "      <td>0.789556</td>\n",
       "      <td>1.101632</td>\n",
       "      <td>-0.008328</td>\n",
       "      <td>737269.0</td>\n",
       "      <td>0</td>\n",
       "    </tr>\n",
       "    <tr>\n",
       "      <th>044fb8a146ec</th>\n",
       "      <td>0.083333</td>\n",
       "      <td>0.283109</td>\n",
       "      <td>0.000000</td>\n",
       "      <td>-0.239281</td>\n",
       "      <td>0.000000</td>\n",
       "      <td>-0.473077</td>\n",
       "      <td>2.594595</td>\n",
       "      <td>-1.459635</td>\n",
       "      <td>26.204380</td>\n",
       "      <td>0.388671</td>\n",
       "      <td>...</td>\n",
       "      <td>46.670286</td>\n",
       "      <td>-0.275362</td>\n",
       "      <td>-0.204180</td>\n",
       "      <td>1.336815</td>\n",
       "      <td>0.042256</td>\n",
       "      <td>1.248820</td>\n",
       "      <td>-0.105640</td>\n",
       "      <td>-0.011038</td>\n",
       "      <td>737509.0</td>\n",
       "      <td>1</td>\n",
       "    </tr>\n",
       "    <tr>\n",
       "      <th>...</th>\n",
       "      <td>...</td>\n",
       "      <td>...</td>\n",
       "      <td>...</td>\n",
       "      <td>...</td>\n",
       "      <td>...</td>\n",
       "      <td>...</td>\n",
       "      <td>...</td>\n",
       "      <td>...</td>\n",
       "      <td>...</td>\n",
       "      <td>...</td>\n",
       "      <td>...</td>\n",
       "      <td>...</td>\n",
       "      <td>...</td>\n",
       "      <td>...</td>\n",
       "      <td>...</td>\n",
       "      <td>...</td>\n",
       "      <td>...</td>\n",
       "      <td>...</td>\n",
       "      <td>...</td>\n",
       "      <td>...</td>\n",
       "      <td>...</td>\n",
       "    </tr>\n",
       "    <tr>\n",
       "      <th>fd3dafe738fd</th>\n",
       "      <td>-0.666667</td>\n",
       "      <td>0.004501</td>\n",
       "      <td>1.351236</td>\n",
       "      <td>-0.410097</td>\n",
       "      <td>4.882164</td>\n",
       "      <td>-0.665385</td>\n",
       "      <td>4.594595</td>\n",
       "      <td>-0.395833</td>\n",
       "      <td>0.408759</td>\n",
       "      <td>-0.446912</td>\n",
       "      <td>...</td>\n",
       "      <td>0.128000</td>\n",
       "      <td>-0.391304</td>\n",
       "      <td>-0.847267</td>\n",
       "      <td>2.628881</td>\n",
       "      <td>0.015869</td>\n",
       "      <td>-0.504561</td>\n",
       "      <td>0.627426</td>\n",
       "      <td>0.990234</td>\n",
       "      <td>737681.0</td>\n",
       "      <td>0</td>\n",
       "    </tr>\n",
       "    <tr>\n",
       "      <th>fd895603f071</th>\n",
       "      <td>0.263889</td>\n",
       "      <td>1.081978</td>\n",
       "      <td>0.000000</td>\n",
       "      <td>0.968303</td>\n",
       "      <td>7.834536</td>\n",
       "      <td>0.411538</td>\n",
       "      <td>0.027027</td>\n",
       "      <td>0.446615</td>\n",
       "      <td>0.661496</td>\n",
       "      <td>0.348963</td>\n",
       "      <td>...</td>\n",
       "      <td>0.109714</td>\n",
       "      <td>0.376812</td>\n",
       "      <td>1.479904</td>\n",
       "      <td>7.718779</td>\n",
       "      <td>-0.292729</td>\n",
       "      <td>-0.081158</td>\n",
       "      <td>1.865560</td>\n",
       "      <td>-0.008808</td>\n",
       "      <td>737676.0</td>\n",
       "      <td>0</td>\n",
       "    </tr>\n",
       "    <tr>\n",
       "      <th>fd8ef6377f76</th>\n",
       "      <td>0.236111</td>\n",
       "      <td>-0.305510</td>\n",
       "      <td>1.574611</td>\n",
       "      <td>1.295989</td>\n",
       "      <td>1.866864</td>\n",
       "      <td>1.319231</td>\n",
       "      <td>0.000000</td>\n",
       "      <td>1.022135</td>\n",
       "      <td>0.000000</td>\n",
       "      <td>0.473846</td>\n",
       "      <td>...</td>\n",
       "      <td>-0.624571</td>\n",
       "      <td>-0.391304</td>\n",
       "      <td>0.102894</td>\n",
       "      <td>1.023740</td>\n",
       "      <td>-0.083984</td>\n",
       "      <td>-0.375590</td>\n",
       "      <td>1.748697</td>\n",
       "      <td>0.990234</td>\n",
       "      <td>737264.0</td>\n",
       "      <td>0</td>\n",
       "    </tr>\n",
       "    <tr>\n",
       "      <th>fe1942975e40</th>\n",
       "      <td>0.027778</td>\n",
       "      <td>-0.857917</td>\n",
       "      <td>0.000000</td>\n",
       "      <td>0.117335</td>\n",
       "      <td>0.000000</td>\n",
       "      <td>1.280769</td>\n",
       "      <td>0.000000</td>\n",
       "      <td>-0.606771</td>\n",
       "      <td>0.000000</td>\n",
       "      <td>-0.255345</td>\n",
       "      <td>...</td>\n",
       "      <td>-0.338286</td>\n",
       "      <td>0.898551</td>\n",
       "      <td>0.503215</td>\n",
       "      <td>0.000000</td>\n",
       "      <td>-0.361707</td>\n",
       "      <td>-0.464297</td>\n",
       "      <td>-0.085772</td>\n",
       "      <td>-0.007011</td>\n",
       "      <td>737090.0</td>\n",
       "      <td>0</td>\n",
       "    </tr>\n",
       "    <tr>\n",
       "      <th>ffcca4ded3bb</th>\n",
       "      <td>0.416667</td>\n",
       "      <td>-0.206897</td>\n",
       "      <td>16.169362</td>\n",
       "      <td>3.404334</td>\n",
       "      <td>0.000000</td>\n",
       "      <td>-0.796154</td>\n",
       "      <td>8.108108</td>\n",
       "      <td>-1.459635</td>\n",
       "      <td>1.744526</td>\n",
       "      <td>-1.159432</td>\n",
       "      <td>...</td>\n",
       "      <td>0.013714</td>\n",
       "      <td>-0.217391</td>\n",
       "      <td>-0.440514</td>\n",
       "      <td>0.000000</td>\n",
       "      <td>-0.060837</td>\n",
       "      <td>1.279648</td>\n",
       "      <td>1.643687</td>\n",
       "      <td>0.990234</td>\n",
       "      <td>737269.0</td>\n",
       "      <td>0</td>\n",
       "    </tr>\n",
       "  </tbody>\n",
       "</table>\n",
       "<p>617 rows × 58 columns</p>\n",
       "</div>"
      ],
      "text/plain": [
       "                    AB        AF         AH        AM        AR        AX  \\\n",
       "Id                                                                          \n",
       "000ff2bfdfe9 -0.472222 -0.005214   0.000000  0.069272  0.000000 -1.880769   \n",
       "007255e47698 -0.680556 -0.989494   0.000000  0.611687  0.000000 -0.607692   \n",
       "013f2bd269f5  0.375000 -0.224190   0.000000  0.440180  0.000000  0.738462   \n",
       "043ac50845d5 -0.333333  0.323123   1.226427  2.105694  0.000000 -0.584615   \n",
       "044fb8a146ec  0.083333  0.283109   0.000000 -0.239281  0.000000 -0.473077   \n",
       "...                ...       ...        ...       ...       ...       ...   \n",
       "fd3dafe738fd -0.666667  0.004501   1.351236 -0.410097  4.882164 -0.665385   \n",
       "fd895603f071  0.263889  1.081978   0.000000  0.968303  7.834536  0.411538   \n",
       "fd8ef6377f76  0.236111 -0.305510   1.574611  1.295989  1.866864  1.319231   \n",
       "fe1942975e40  0.027778 -0.857917   0.000000  0.117335  0.000000  1.280769   \n",
       "ffcca4ded3bb  0.416667 -0.206897  16.169362  3.404334  0.000000 -0.796154   \n",
       "\n",
       "                    AY        AZ         BC       BD   ...         FR  \\\n",
       "Id                                                     ...              \n",
       "000ff2bfdfe9  0.000000 -0.134115   1.123175 -0.463451  ...   0.598571   \n",
       "007255e47698  0.000000  0.631510   0.000000  0.265382  ...  -0.624571   \n",
       "013f2bd269f5  0.000000  0.488281   0.000000  0.073301  ...  -0.153143   \n",
       "043ac50845d5  0.000000  0.122396   0.000000 -0.440533  ...  -0.624571   \n",
       "044fb8a146ec  2.594595 -1.459635  26.204380  0.388671  ...  46.670286   \n",
       "...                ...       ...        ...       ...  ...        ...   \n",
       "fd3dafe738fd  4.594595 -0.395833   0.408759 -0.446912  ...   0.128000   \n",
       "fd895603f071  0.027027  0.446615   0.661496  0.348963  ...   0.109714   \n",
       "fd8ef6377f76  0.000000  1.022135   0.000000  0.473846  ...  -0.624571   \n",
       "fe1942975e40  0.000000 -0.606771   0.000000 -0.255345  ...  -0.338286   \n",
       "ffcca4ded3bb  8.108108 -1.459635   1.744526 -1.159432  ...   0.013714   \n",
       "\n",
       "                    FS        GB        GE        GF        GH        GI  \\\n",
       "Id                                                                         \n",
       "000ff2bfdfe9 -0.333333 -0.642283  0.000000 -0.359338 -0.716263  0.641741   \n",
       "007255e47698  0.681159 -0.819132  0.000000  1.240601 -0.124567 -0.197595   \n",
       "013f2bd269f5  2.028986  1.581994  0.290982  0.359598 -0.218622 -0.129459   \n",
       "043ac50845d5  0.072464 -0.020900  0.178349 -0.353767  0.789556  1.101632   \n",
       "044fb8a146ec -0.275362 -0.204180  1.336815  0.042256  1.248820 -0.105640   \n",
       "...                ...       ...       ...       ...       ...       ...   \n",
       "fd3dafe738fd -0.391304 -0.847267  2.628881  0.015869 -0.504561  0.627426   \n",
       "fd895603f071  0.376812  1.479904  7.718779 -0.292729 -0.081158  1.865560   \n",
       "fd8ef6377f76 -0.391304  0.102894  1.023740 -0.083984 -0.375590  1.748697   \n",
       "fe1942975e40  0.898551  0.503215  0.000000 -0.361707 -0.464297 -0.085772   \n",
       "ffcca4ded3bb -0.217391 -0.440514  0.000000 -0.060837  1.279648  1.643687   \n",
       "\n",
       "                    GL     times  Class  \n",
       "Id                                       \n",
       "000ff2bfdfe9 -0.009952  737137.0      1  \n",
       "007255e47698  0.990234  737269.0      0  \n",
       "013f2bd269f5 -0.006447  737269.0      0  \n",
       "043ac50845d5 -0.008328  737269.0      0  \n",
       "044fb8a146ec -0.011038  737509.0      1  \n",
       "...                ...       ...    ...  \n",
       "fd3dafe738fd  0.990234  737681.0      0  \n",
       "fd895603f071 -0.008808  737676.0      0  \n",
       "fd8ef6377f76  0.990234  737264.0      0  \n",
       "fe1942975e40 -0.007011  737090.0      0  \n",
       "ffcca4ded3bb  0.990234  737269.0      0  \n",
       "\n",
       "[617 rows x 58 columns]"
      ]
     },
     "execution_count": 63,
     "metadata": {},
     "output_type": "execute_result"
    }
   ],
   "source": [
    "df_train_noscale = df_train.copy()\n",
    "\n",
    "scaler = RobustScaler().set_output(transform=\"pandas\")\n",
    "df_train.loc[:, df_train.columns[:-2]] = scaler.fit_transform(df_train[df_train.columns[:-2]])\n",
    "df_train"
   ]
  },
  {
   "cell_type": "code",
   "execution_count": 64,
   "id": "9becdc12",
   "metadata": {
    "_cell_guid": "1caa967c-b9d0-43c7-b918-b7eb7da6d63a",
    "_uuid": "d8b2d4d6-fe9f-4c55-a3df-0b2999a21a18",
    "execution": {
     "iopub.execute_input": "2023-08-08T14:43:19.247097Z",
     "iopub.status.busy": "2023-08-08T14:43:19.246188Z",
     "iopub.status.idle": "2023-08-08T14:43:19.397082Z",
     "shell.execute_reply": "2023-08-08T14:43:19.396030Z"
    },
    "jupyter": {
     "outputs_hidden": false
    },
    "papermill": {
     "duration": 0.24007,
     "end_time": "2023-08-08T14:43:19.399671",
     "exception": false,
     "start_time": "2023-08-08T14:43:19.159601",
     "status": "completed"
    },
    "tags": []
   },
   "outputs": [
    {
     "data": {
      "text/html": [
       "<div>\n",
       "<style scoped>\n",
       "    .dataframe tbody tr th:only-of-type {\n",
       "        vertical-align: middle;\n",
       "    }\n",
       "\n",
       "    .dataframe tbody tr th {\n",
       "        vertical-align: top;\n",
       "    }\n",
       "\n",
       "    .dataframe thead th {\n",
       "        text-align: right;\n",
       "    }\n",
       "</style>\n",
       "<table border=\"1\" class=\"dataframe\">\n",
       "  <thead>\n",
       "    <tr style=\"text-align: right;\">\n",
       "      <th></th>\n",
       "      <th>AB</th>\n",
       "      <th>AF</th>\n",
       "      <th>AH</th>\n",
       "      <th>AM</th>\n",
       "      <th>AR</th>\n",
       "      <th>AX</th>\n",
       "      <th>AY</th>\n",
       "      <th>AZ</th>\n",
       "      <th>BC</th>\n",
       "      <th>BD</th>\n",
       "      <th>...</th>\n",
       "      <th>FL</th>\n",
       "      <th>FR</th>\n",
       "      <th>FS</th>\n",
       "      <th>GB</th>\n",
       "      <th>GE</th>\n",
       "      <th>GF</th>\n",
       "      <th>GH</th>\n",
       "      <th>GI</th>\n",
       "      <th>GL</th>\n",
       "      <th>Class</th>\n",
       "    </tr>\n",
       "  </thead>\n",
       "  <tbody>\n",
       "    <tr>\n",
       "      <th>count</th>\n",
       "      <td>617.000000</td>\n",
       "      <td>617.000000</td>\n",
       "      <td>617.000000</td>\n",
       "      <td>617.000000</td>\n",
       "      <td>617.000000</td>\n",
       "      <td>617.000000</td>\n",
       "      <td>617.000000</td>\n",
       "      <td>617.000000</td>\n",
       "      <td>617.000000</td>\n",
       "      <td>617.000000</td>\n",
       "      <td>...</td>\n",
       "      <td>617.000000</td>\n",
       "      <td>617.000000</td>\n",
       "      <td>617.000000</td>\n",
       "      <td>617.000000</td>\n",
       "      <td>617.000000</td>\n",
       "      <td>617.000000</td>\n",
       "      <td>617.000000</td>\n",
       "      <td>617.000000</td>\n",
       "      <td>617.000000</td>\n",
       "      <td>617.000000</td>\n",
       "    </tr>\n",
       "    <tr>\n",
       "      <th>mean</th>\n",
       "      <td>0.398141</td>\n",
       "      <td>0.176360</td>\n",
       "      <td>1.171166</td>\n",
       "      <td>0.686109</td>\n",
       "      <td>1.989554</td>\n",
       "      <td>0.223008</td>\n",
       "      <td>3.083622</td>\n",
       "      <td>0.021721</td>\n",
       "      <td>1.771618</td>\n",
       "      <td>0.187443</td>\n",
       "      <td>...</td>\n",
       "      <td>0.395963</td>\n",
       "      <td>2.367394</td>\n",
       "      <td>0.364503</td>\n",
       "      <td>0.168810</td>\n",
       "      <td>1.074996</td>\n",
       "      <td>0.421349</td>\n",
       "      <td>0.074458</td>\n",
       "      <td>0.213190</td>\n",
       "      <td>0.374303</td>\n",
       "      <td>0.175041</td>\n",
       "    </tr>\n",
       "    <tr>\n",
       "      <th>std</th>\n",
       "      <td>1.522442</td>\n",
       "      <td>1.062852</td>\n",
       "      <td>4.479386</td>\n",
       "      <td>2.595063</td>\n",
       "      <td>10.518877</td>\n",
       "      <td>1.107824</td>\n",
       "      <td>36.996129</td>\n",
       "      <td>0.898906</td>\n",
       "      <td>16.920572</td>\n",
       "      <td>1.606932</td>\n",
       "      <td>...</td>\n",
       "      <td>1.894317</td>\n",
       "      <td>49.440342</td>\n",
       "      <td>2.788738</td>\n",
       "      <td>0.863479</td>\n",
       "      <td>2.622407</td>\n",
       "      <td>1.191926</td>\n",
       "      <td>0.833899</td>\n",
       "      <td>0.807352</td>\n",
       "      <td>0.472412</td>\n",
       "      <td>0.380310</td>\n",
       "    </tr>\n",
       "    <tr>\n",
       "      <th>min</th>\n",
       "      <td>-0.888889</td>\n",
       "      <td>-1.352741</td>\n",
       "      <td>0.000000</td>\n",
       "      <td>-0.645920</td>\n",
       "      <td>0.000000</td>\n",
       "      <td>-1.880769</td>\n",
       "      <td>0.000000</td>\n",
       "      <td>-1.459635</td>\n",
       "      <td>0.000000</td>\n",
       "      <td>-1.757455</td>\n",
       "      <td>...</td>\n",
       "      <td>-0.470789</td>\n",
       "      <td>-0.624571</td>\n",
       "      <td>-0.391304</td>\n",
       "      <td>-1.267685</td>\n",
       "      <td>0.000000</td>\n",
       "      <td>-0.481947</td>\n",
       "      <td>-1.790186</td>\n",
       "      <td>-0.892929</td>\n",
       "      <td>-0.015407</td>\n",
       "      <td>0.000000</td>\n",
       "    </tr>\n",
       "    <tr>\n",
       "      <th>25%</th>\n",
       "      <td>-0.333333</td>\n",
       "      <td>-0.426455</td>\n",
       "      <td>0.000000</td>\n",
       "      <td>-0.307515</td>\n",
       "      <td>0.000000</td>\n",
       "      <td>-0.392308</td>\n",
       "      <td>0.000000</td>\n",
       "      <td>-0.481771</td>\n",
       "      <td>0.000000</td>\n",
       "      <td>-0.447966</td>\n",
       "      <td>...</td>\n",
       "      <td>-0.470789</td>\n",
       "      <td>-0.624571</td>\n",
       "      <td>-0.391304</td>\n",
       "      <td>-0.409164</td>\n",
       "      <td>0.000000</td>\n",
       "      <td>-0.310363</td>\n",
       "      <td>-0.471217</td>\n",
       "      <td>-0.400630</td>\n",
       "      <td>-0.009766</td>\n",
       "      <td>0.000000</td>\n",
       "    </tr>\n",
       "    <tr>\n",
       "      <th>50%</th>\n",
       "      <td>0.000000</td>\n",
       "      <td>0.000000</td>\n",
       "      <td>0.000000</td>\n",
       "      <td>0.000000</td>\n",
       "      <td>0.000000</td>\n",
       "      <td>0.000000</td>\n",
       "      <td>0.000000</td>\n",
       "      <td>0.000000</td>\n",
       "      <td>0.000000</td>\n",
       "      <td>0.000000</td>\n",
       "      <td>...</td>\n",
       "      <td>0.000000</td>\n",
       "      <td>0.000000</td>\n",
       "      <td>0.000000</td>\n",
       "      <td>0.000000</td>\n",
       "      <td>0.000000</td>\n",
       "      <td>0.000000</td>\n",
       "      <td>0.000000</td>\n",
       "      <td>0.000000</td>\n",
       "      <td>0.000000</td>\n",
       "      <td>0.000000</td>\n",
       "    </tr>\n",
       "    <tr>\n",
       "      <th>75%</th>\n",
       "      <td>0.666667</td>\n",
       "      <td>0.573545</td>\n",
       "      <td>1.000000</td>\n",
       "      <td>0.692485</td>\n",
       "      <td>0.000000</td>\n",
       "      <td>0.607692</td>\n",
       "      <td>1.000000</td>\n",
       "      <td>0.518229</td>\n",
       "      <td>1.000000</td>\n",
       "      <td>0.552034</td>\n",
       "      <td>...</td>\n",
       "      <td>0.529211</td>\n",
       "      <td>0.375429</td>\n",
       "      <td>0.608696</td>\n",
       "      <td>0.590836</td>\n",
       "      <td>1.000000</td>\n",
       "      <td>0.689637</td>\n",
       "      <td>0.528783</td>\n",
       "      <td>0.599370</td>\n",
       "      <td>0.990234</td>\n",
       "      <td>0.000000</td>\n",
       "    </tr>\n",
       "    <tr>\n",
       "      <th>max</th>\n",
       "      <td>18.875000</td>\n",
       "      <td>11.813503</td>\n",
       "      <td>63.944004</td>\n",
       "      <td>22.701706</td>\n",
       "      <td>170.804946</td>\n",
       "      <td>14.430769</td>\n",
       "      <td>913.351351</td>\n",
       "      <td>5.890625</td>\n",
       "      <td>379.728102</td>\n",
       "      <td>25.562747</td>\n",
       "      <td>...</td>\n",
       "      <td>22.246434</td>\n",
       "      <td>1224.725143</td>\n",
       "      <td>66.579710</td>\n",
       "      <td>10.111736</td>\n",
       "      <td>25.913517</td>\n",
       "      <td>8.373109</td>\n",
       "      <td>4.277760</td>\n",
       "      <td>3.343430</td>\n",
       "      <td>0.990234</td>\n",
       "      <td>1.000000</td>\n",
       "    </tr>\n",
       "  </tbody>\n",
       "</table>\n",
       "<p>8 rows × 57 columns</p>\n",
       "</div>"
      ],
      "text/plain": [
       "               AB          AF          AH          AM          AR          AX  \\\n",
       "count  617.000000  617.000000  617.000000  617.000000  617.000000  617.000000   \n",
       "mean     0.398141    0.176360    1.171166    0.686109    1.989554    0.223008   \n",
       "std      1.522442    1.062852    4.479386    2.595063   10.518877    1.107824   \n",
       "min     -0.888889   -1.352741    0.000000   -0.645920    0.000000   -1.880769   \n",
       "25%     -0.333333   -0.426455    0.000000   -0.307515    0.000000   -0.392308   \n",
       "50%      0.000000    0.000000    0.000000    0.000000    0.000000    0.000000   \n",
       "75%      0.666667    0.573545    1.000000    0.692485    0.000000    0.607692   \n",
       "max     18.875000   11.813503   63.944004   22.701706  170.804946   14.430769   \n",
       "\n",
       "               AY          AZ          BC         BD   ...          FL  \\\n",
       "count  617.000000  617.000000  617.000000  617.000000  ...  617.000000   \n",
       "mean     3.083622    0.021721    1.771618    0.187443  ...    0.395963   \n",
       "std     36.996129    0.898906   16.920572    1.606932  ...    1.894317   \n",
       "min      0.000000   -1.459635    0.000000   -1.757455  ...   -0.470789   \n",
       "25%      0.000000   -0.481771    0.000000   -0.447966  ...   -0.470789   \n",
       "50%      0.000000    0.000000    0.000000    0.000000  ...    0.000000   \n",
       "75%      1.000000    0.518229    1.000000    0.552034  ...    0.529211   \n",
       "max    913.351351    5.890625  379.728102   25.562747  ...   22.246434   \n",
       "\n",
       "                FR          FS          GB          GE          GF  \\\n",
       "count   617.000000  617.000000  617.000000  617.000000  617.000000   \n",
       "mean      2.367394    0.364503    0.168810    1.074996    0.421349   \n",
       "std      49.440342    2.788738    0.863479    2.622407    1.191926   \n",
       "min      -0.624571   -0.391304   -1.267685    0.000000   -0.481947   \n",
       "25%      -0.624571   -0.391304   -0.409164    0.000000   -0.310363   \n",
       "50%       0.000000    0.000000    0.000000    0.000000    0.000000   \n",
       "75%       0.375429    0.608696    0.590836    1.000000    0.689637   \n",
       "max    1224.725143   66.579710   10.111736   25.913517    8.373109   \n",
       "\n",
       "               GH          GI          GL       Class  \n",
       "count  617.000000  617.000000  617.000000  617.000000  \n",
       "mean     0.074458    0.213190    0.374303    0.175041  \n",
       "std      0.833899    0.807352    0.472412    0.380310  \n",
       "min     -1.790186   -0.892929   -0.015407    0.000000  \n",
       "25%     -0.471217   -0.400630   -0.009766    0.000000  \n",
       "50%      0.000000    0.000000    0.000000    0.000000  \n",
       "75%      0.528783    0.599370    0.990234    0.000000  \n",
       "max      4.277760    3.343430    0.990234    1.000000  \n",
       "\n",
       "[8 rows x 57 columns]"
      ]
     },
     "execution_count": 64,
     "metadata": {},
     "output_type": "execute_result"
    }
   ],
   "source": [
    "df_train.describe()"
   ]
  },
  {
   "cell_type": "code",
   "execution_count": 65,
   "id": "3a6d35db",
   "metadata": {
    "_cell_guid": "f3e660db-fe21-4d7c-9a12-5d580a10e5e8",
    "_uuid": "1dfacef9-1883-400e-a0af-5bca5ef0954c",
    "execution": {
     "iopub.execute_input": "2023-08-08T14:43:19.572698Z",
     "iopub.status.busy": "2023-08-08T14:43:19.571730Z",
     "iopub.status.idle": "2023-08-08T14:43:19.603156Z",
     "shell.execute_reply": "2023-08-08T14:43:19.602029Z"
    },
    "jupyter": {
     "outputs_hidden": false
    },
    "papermill": {
     "duration": 0.118791,
     "end_time": "2023-08-08T14:43:19.605369",
     "exception": false,
     "start_time": "2023-08-08T14:43:19.486578",
     "status": "completed"
    },
    "tags": []
   },
   "outputs": [
    {
     "data": {
      "text/html": [
       "<div>\n",
       "<style scoped>\n",
       "    .dataframe tbody tr th:only-of-type {\n",
       "        vertical-align: middle;\n",
       "    }\n",
       "\n",
       "    .dataframe tbody tr th {\n",
       "        vertical-align: top;\n",
       "    }\n",
       "\n",
       "    .dataframe thead th {\n",
       "        text-align: right;\n",
       "    }\n",
       "</style>\n",
       "<table border=\"1\" class=\"dataframe\">\n",
       "  <thead>\n",
       "    <tr style=\"text-align: right;\">\n",
       "      <th></th>\n",
       "      <th>AB</th>\n",
       "      <th>AF</th>\n",
       "      <th>AH</th>\n",
       "      <th>AM</th>\n",
       "      <th>AR</th>\n",
       "      <th>AX</th>\n",
       "      <th>AY</th>\n",
       "      <th>AZ</th>\n",
       "      <th>BC</th>\n",
       "      <th>BD</th>\n",
       "      <th>...</th>\n",
       "      <th>FL</th>\n",
       "      <th>FR</th>\n",
       "      <th>FS</th>\n",
       "      <th>GB</th>\n",
       "      <th>GE</th>\n",
       "      <th>GF</th>\n",
       "      <th>GH</th>\n",
       "      <th>GI</th>\n",
       "      <th>GL</th>\n",
       "      <th>times</th>\n",
       "    </tr>\n",
       "    <tr>\n",
       "      <th>Id</th>\n",
       "      <th></th>\n",
       "      <th></th>\n",
       "      <th></th>\n",
       "      <th></th>\n",
       "      <th></th>\n",
       "      <th></th>\n",
       "      <th></th>\n",
       "      <th></th>\n",
       "      <th></th>\n",
       "      <th></th>\n",
       "      <th></th>\n",
       "      <th></th>\n",
       "      <th></th>\n",
       "      <th></th>\n",
       "      <th></th>\n",
       "      <th></th>\n",
       "      <th></th>\n",
       "      <th></th>\n",
       "      <th></th>\n",
       "      <th></th>\n",
       "      <th></th>\n",
       "    </tr>\n",
       "  </thead>\n",
       "  <tbody>\n",
       "    <tr>\n",
       "      <th>00eed32682bb</th>\n",
       "      <td>-1.152778</td>\n",
       "      <td>-1.441727</td>\n",
       "      <td>-2.985352</td>\n",
       "      <td>-0.764177</td>\n",
       "      <td>-8.138688</td>\n",
       "      <td>-2.184615</td>\n",
       "      <td>-2.27027</td>\n",
       "      <td>-2.161458</td>\n",
       "      <td>-0.319343</td>\n",
       "      <td>-2.658231</td>\n",
       "      <td>...</td>\n",
       "      <td>-0.499355</td>\n",
       "      <td>-1.114286</td>\n",
       "      <td>-0.536232</td>\n",
       "      <td>-1.622186</td>\n",
       "      <td>-1.320667</td>\n",
       "      <td>-0.48275</td>\n",
       "      <td>-2.587606</td>\n",
       "      <td>-0.912912</td>\n",
       "      <td>-0.015459</td>\n",
       "      <td>737698.0</td>\n",
       "    </tr>\n",
       "    <tr>\n",
       "      <th>010ebe33f668</th>\n",
       "      <td>-1.152778</td>\n",
       "      <td>-1.441727</td>\n",
       "      <td>-2.985352</td>\n",
       "      <td>-0.764177</td>\n",
       "      <td>-8.138688</td>\n",
       "      <td>-2.184615</td>\n",
       "      <td>-2.27027</td>\n",
       "      <td>-2.161458</td>\n",
       "      <td>-0.319343</td>\n",
       "      <td>-2.658231</td>\n",
       "      <td>...</td>\n",
       "      <td>-0.499355</td>\n",
       "      <td>-1.114286</td>\n",
       "      <td>-0.536232</td>\n",
       "      <td>-1.622186</td>\n",
       "      <td>-1.320667</td>\n",
       "      <td>-0.48275</td>\n",
       "      <td>-2.587606</td>\n",
       "      <td>-0.912912</td>\n",
       "      <td>-0.015459</td>\n",
       "      <td>737698.0</td>\n",
       "    </tr>\n",
       "    <tr>\n",
       "      <th>02fa521e1838</th>\n",
       "      <td>-1.152778</td>\n",
       "      <td>-1.441727</td>\n",
       "      <td>-2.985352</td>\n",
       "      <td>-0.764177</td>\n",
       "      <td>-8.138688</td>\n",
       "      <td>-2.184615</td>\n",
       "      <td>-2.27027</td>\n",
       "      <td>-2.161458</td>\n",
       "      <td>-0.319343</td>\n",
       "      <td>-2.658231</td>\n",
       "      <td>...</td>\n",
       "      <td>-0.499355</td>\n",
       "      <td>-1.114286</td>\n",
       "      <td>-0.536232</td>\n",
       "      <td>-1.622186</td>\n",
       "      <td>-1.320667</td>\n",
       "      <td>-0.48275</td>\n",
       "      <td>-2.587606</td>\n",
       "      <td>-0.912912</td>\n",
       "      <td>-0.015459</td>\n",
       "      <td>737698.0</td>\n",
       "    </tr>\n",
       "    <tr>\n",
       "      <th>040e15f562a2</th>\n",
       "      <td>-1.152778</td>\n",
       "      <td>-1.441727</td>\n",
       "      <td>-2.985352</td>\n",
       "      <td>-0.764177</td>\n",
       "      <td>-8.138688</td>\n",
       "      <td>-2.184615</td>\n",
       "      <td>-2.27027</td>\n",
       "      <td>-2.161458</td>\n",
       "      <td>-0.319343</td>\n",
       "      <td>-2.658231</td>\n",
       "      <td>...</td>\n",
       "      <td>-0.499355</td>\n",
       "      <td>-1.114286</td>\n",
       "      <td>-0.536232</td>\n",
       "      <td>-1.622186</td>\n",
       "      <td>-1.320667</td>\n",
       "      <td>-0.48275</td>\n",
       "      <td>-2.587606</td>\n",
       "      <td>-0.912912</td>\n",
       "      <td>-0.015459</td>\n",
       "      <td>737698.0</td>\n",
       "    </tr>\n",
       "    <tr>\n",
       "      <th>046e85c7cc7f</th>\n",
       "      <td>-1.152778</td>\n",
       "      <td>-1.441727</td>\n",
       "      <td>-2.985352</td>\n",
       "      <td>-0.764177</td>\n",
       "      <td>-8.138688</td>\n",
       "      <td>-2.184615</td>\n",
       "      <td>-2.27027</td>\n",
       "      <td>-2.161458</td>\n",
       "      <td>-0.319343</td>\n",
       "      <td>-2.658231</td>\n",
       "      <td>...</td>\n",
       "      <td>-0.499355</td>\n",
       "      <td>-1.114286</td>\n",
       "      <td>-0.536232</td>\n",
       "      <td>-1.622186</td>\n",
       "      <td>-1.320667</td>\n",
       "      <td>-0.48275</td>\n",
       "      <td>-2.587606</td>\n",
       "      <td>-0.912912</td>\n",
       "      <td>-0.015459</td>\n",
       "      <td>737698.0</td>\n",
       "    </tr>\n",
       "  </tbody>\n",
       "</table>\n",
       "<p>5 rows × 57 columns</p>\n",
       "</div>"
      ],
      "text/plain": [
       "                    AB        AF        AH        AM        AR        AX  \\\n",
       "Id                                                                         \n",
       "00eed32682bb -1.152778 -1.441727 -2.985352 -0.764177 -8.138688 -2.184615   \n",
       "010ebe33f668 -1.152778 -1.441727 -2.985352 -0.764177 -8.138688 -2.184615   \n",
       "02fa521e1838 -1.152778 -1.441727 -2.985352 -0.764177 -8.138688 -2.184615   \n",
       "040e15f562a2 -1.152778 -1.441727 -2.985352 -0.764177 -8.138688 -2.184615   \n",
       "046e85c7cc7f -1.152778 -1.441727 -2.985352 -0.764177 -8.138688 -2.184615   \n",
       "\n",
       "                   AY        AZ        BC       BD   ...        FL        FR  \\\n",
       "Id                                                   ...                       \n",
       "00eed32682bb -2.27027 -2.161458 -0.319343 -2.658231  ... -0.499355 -1.114286   \n",
       "010ebe33f668 -2.27027 -2.161458 -0.319343 -2.658231  ... -0.499355 -1.114286   \n",
       "02fa521e1838 -2.27027 -2.161458 -0.319343 -2.658231  ... -0.499355 -1.114286   \n",
       "040e15f562a2 -2.27027 -2.161458 -0.319343 -2.658231  ... -0.499355 -1.114286   \n",
       "046e85c7cc7f -2.27027 -2.161458 -0.319343 -2.658231  ... -0.499355 -1.114286   \n",
       "\n",
       "                    FS        GB        GE       GF        GH        GI  \\\n",
       "Id                                                                        \n",
       "00eed32682bb -0.536232 -1.622186 -1.320667 -0.48275 -2.587606 -0.912912   \n",
       "010ebe33f668 -0.536232 -1.622186 -1.320667 -0.48275 -2.587606 -0.912912   \n",
       "02fa521e1838 -0.536232 -1.622186 -1.320667 -0.48275 -2.587606 -0.912912   \n",
       "040e15f562a2 -0.536232 -1.622186 -1.320667 -0.48275 -2.587606 -0.912912   \n",
       "046e85c7cc7f -0.536232 -1.622186 -1.320667 -0.48275 -2.587606 -0.912912   \n",
       "\n",
       "                    GL     times  \n",
       "Id                                \n",
       "00eed32682bb -0.015459  737698.0  \n",
       "010ebe33f668 -0.015459  737698.0  \n",
       "02fa521e1838 -0.015459  737698.0  \n",
       "040e15f562a2 -0.015459  737698.0  \n",
       "046e85c7cc7f -0.015459  737698.0  \n",
       "\n",
       "[5 rows x 57 columns]"
      ]
     },
     "execution_count": 65,
     "metadata": {},
     "output_type": "execute_result"
    }
   ],
   "source": [
    "df_test_noscale = df_test.copy()\n",
    "\n",
    "df_test.loc[:,df_test.columns[:-1]] = scaler.transform(df_test[df_test.columns[:-1]])\n",
    "df_test"
   ]
  },
  {
   "cell_type": "code",
   "execution_count": 66,
   "id": "c7cc6c4f",
   "metadata": {
    "_cell_guid": "e4c9adff-0519-41f6-9cb0-9cea29902d4d",
    "_uuid": "734b7fac-d9a4-4176-be66-9e31744acff3",
    "execution": {
     "iopub.execute_input": "2023-08-08T14:43:19.782755Z",
     "iopub.status.busy": "2023-08-08T14:43:19.781881Z",
     "iopub.status.idle": "2023-08-08T14:43:19.787991Z",
     "shell.execute_reply": "2023-08-08T14:43:19.787016Z"
    },
    "jupyter": {
     "outputs_hidden": false
    },
    "papermill": {
     "duration": 0.095718,
     "end_time": "2023-08-08T14:43:19.790214",
     "exception": false,
     "start_time": "2023-08-08T14:43:19.694496",
     "status": "completed"
    },
    "tags": []
   },
   "outputs": [],
   "source": [
    "df_train['times'] = df_train.times.astype(int)\n",
    "df_test['times'] = df_test.times.astype(int)"
   ]
  },
  {
   "cell_type": "markdown",
   "id": "c7c17672",
   "metadata": {
    "_cell_guid": "04a342f4-ed80-416a-8193-6e74b9d39ac1",
    "_uuid": "bac201b9-ccf7-4bc7-9f07-adf0933950ad",
    "papermill": {
     "duration": 0.095656,
     "end_time": "2023-08-08T14:43:19.976326",
     "exception": false,
     "start_time": "2023-08-08T14:43:19.880670",
     "status": "completed"
    },
    "tags": []
   },
   "source": [
    "## select columns"
   ]
  },
  {
   "cell_type": "code",
   "execution_count": 67,
   "id": "98403a19",
   "metadata": {
    "_cell_guid": "83abe36e-cc00-4745-9bda-963f2e4d5cf5",
    "_uuid": "4024c430-b9ad-4818-97d3-1f44e94e4dff",
    "execution": {
     "iopub.execute_input": "2023-08-08T14:43:20.159593Z",
     "iopub.status.busy": "2023-08-08T14:43:20.159227Z",
     "iopub.status.idle": "2023-08-08T14:43:20.163611Z",
     "shell.execute_reply": "2023-08-08T14:43:20.162572Z"
    },
    "jupyter": {
     "outputs_hidden": false
    },
    "papermill": {
     "duration": 0.096476,
     "end_time": "2023-08-08T14:43:20.165874",
     "exception": false,
     "start_time": "2023-08-08T14:43:20.069398",
     "status": "completed"
    },
    "tags": []
   },
   "outputs": [],
   "source": [
    "# cols_train = ['AH', 'CC', 'GI', 'BQ', 'GH', 'DE', 'BR', 'EP', 'EL', 'CL', 'CD ', 'AM', 'EU', 'FI', 'EE', 'CU', 'DU', 'GL', 'DL', 'DV',\"Class\"]\n",
    "# cols_test = ['AH', 'CC', 'GI', 'BQ', 'GH', 'DE', 'BR', 'EP', 'EL', 'CL', 'CD ', 'AM', 'EU', 'FI', 'EE', 'CU', 'DU', 'GL', 'DL', 'DV']\n",
    "# df_train = df_train[cols_train]\n",
    "# df_test = df_test[cols_test]\n",
    "# df_test"
   ]
  },
  {
   "cell_type": "markdown",
   "id": "47cc275d",
   "metadata": {
    "_cell_guid": "06f15f80-b668-413b-b8cb-91c8304e959b",
    "_uuid": "5328d615-6c1d-415d-83ea-057d36b39a57",
    "papermill": {
     "duration": 0.088733,
     "end_time": "2023-08-08T14:43:20.343305",
     "exception": false,
     "start_time": "2023-08-08T14:43:20.254572",
     "status": "completed"
    },
    "tags": []
   },
   "source": [
    "# PyTorch"
   ]
  },
  {
   "cell_type": "code",
   "execution_count": 68,
   "id": "c09b960f",
   "metadata": {
    "_cell_guid": "0ca1a1d0-5b33-4675-8c8d-c5d07382c7c9",
    "_uuid": "905367bd-3cbb-40a1-ab9a-4cfb6eca3bbd",
    "execution": {
     "iopub.execute_input": "2023-08-08T14:43:20.525430Z",
     "iopub.status.busy": "2023-08-08T14:43:20.524443Z",
     "iopub.status.idle": "2023-08-08T14:43:20.532445Z",
     "shell.execute_reply": "2023-08-08T14:43:20.531264Z"
    },
    "jupyter": {
     "outputs_hidden": false
    },
    "papermill": {
     "duration": 0.104485,
     "end_time": "2023-08-08T14:43:20.534617",
     "exception": false,
     "start_time": "2023-08-08T14:43:20.430132",
     "status": "completed"
    },
    "tags": []
   },
   "outputs": [
    {
     "data": {
      "text/plain": [
       "dict_items([('__module__', '__main__'), ('TRAIN_BATCHSIZE', 64), ('VALID_BATCHSIZE', 200), ('learning_rate', 0.0005), ('num_epochs', 3000), ('seed', 57), ('__dict__', <attribute '__dict__' of 'cfg' objects>), ('__weakref__', <attribute '__weakref__' of 'cfg' objects>), ('__doc__', None)])"
      ]
     },
     "execution_count": 68,
     "metadata": {},
     "output_type": "execute_result"
    }
   ],
   "source": [
    "class cfg :\n",
    "    TRAIN_BATCHSIZE = 64\n",
    "    VALID_BATCHSIZE = 200\n",
    "    learning_rate = 0.0005\n",
    "    num_epochs = 3000\n",
    "    seed = seed\n",
    "    \n",
    "cfg.__dict__.items()"
   ]
  },
  {
   "cell_type": "code",
   "execution_count": 69,
   "id": "542421f0",
   "metadata": {
    "_cell_guid": "07dd0f40-16d8-4610-9238-a722c1b20450",
    "_uuid": "d55bf72f-2c55-4a18-99b2-a99e989f26a6",
    "execution": {
     "iopub.execute_input": "2023-08-08T14:43:20.707233Z",
     "iopub.status.busy": "2023-08-08T14:43:20.706364Z",
     "iopub.status.idle": "2023-08-08T14:43:20.711204Z",
     "shell.execute_reply": "2023-08-08T14:43:20.710242Z"
    },
    "jupyter": {
     "outputs_hidden": false
    },
    "papermill": {
     "duration": 0.094207,
     "end_time": "2023-08-08T14:43:20.713263",
     "exception": false,
     "start_time": "2023-08-08T14:43:20.619056",
     "status": "completed"
    },
    "tags": []
   },
   "outputs": [],
   "source": [
    "# np.random.normal(loc=0, scale=0.1, size=56).astype(np.float32) > 0"
   ]
  },
  {
   "cell_type": "markdown",
   "id": "ba2bd952",
   "metadata": {
    "_cell_guid": "ceb5ded8-8267-4482-a2bd-30f3d511dd93",
    "_uuid": "9b539a2b-e35e-4102-aaa8-d2d3667a0fa3",
    "papermill": {
     "duration": 0.084742,
     "end_time": "2023-08-08T14:43:20.889249",
     "exception": false,
     "start_time": "2023-08-08T14:43:20.804507",
     "status": "completed"
    },
    "tags": []
   },
   "source": [
    "### dataset/dataloader"
   ]
  },
  {
   "cell_type": "code",
   "execution_count": 70,
   "id": "20055e0c",
   "metadata": {
    "_cell_guid": "0c2cb569-bb4a-45c9-b9d1-a9dc273d7de3",
    "_uuid": "17ec3732-28eb-49a7-915a-2cc15fed1858",
    "execution": {
     "iopub.execute_input": "2023-08-08T14:43:21.057522Z",
     "iopub.status.busy": "2023-08-08T14:43:21.057169Z",
     "iopub.status.idle": "2023-08-08T14:43:21.222998Z",
     "shell.execute_reply": "2023-08-08T14:43:21.221891Z"
    },
    "jupyter": {
     "outputs_hidden": false
    },
    "papermill": {
     "duration": 0.252487,
     "end_time": "2023-08-08T14:43:21.225027",
     "exception": false,
     "start_time": "2023-08-08T14:43:20.972540",
     "status": "completed"
    },
    "tags": []
   },
   "outputs": [
    {
     "data": {
      "text/plain": [
       "(tensor([-0.4722, -0.0052,  0.0000,  0.0693,  0.0000, -1.8808,  0.0000, -0.1341,\n",
       "          1.1232, -0.4635,  0.3333, -0.2009,  0.9814,  0.3569,  0.0000,  0.0865,\n",
       "         -0.4587, -1.6082, -0.5025, -0.4000,  0.0000, -2.4523, -1.9588, -0.0841,\n",
       "          0.0060,  0.8481, -0.0374,  0.0000, -0.5625, -0.6463, -0.3687,  0.4565,\n",
       "          4.8193,  0.0000,  0.0799, -0.1885, -0.2781, -0.0763,  3.6883,  0.0000,\n",
       "         -0.5421,  0.0000, -0.4203, -0.7452,  1.8316,  0.3070, -2.1252,  0.7041,\n",
       "          0.5986, -0.3333, -0.6423,  0.0000, -0.3593, -0.7163,  0.6417, -0.0100]),\n",
       " 1)"
      ]
     },
     "execution_count": 70,
     "metadata": {},
     "output_type": "execute_result"
    }
   ],
   "source": [
    "class MyDataset(Dataset):\n",
    "    def __init__(self, df, is_train=False):\n",
    "        super().__init__()\n",
    "        self.df = df\n",
    "        self.is_train = is_train\n",
    "        \n",
    "        self.noise_mean = 0 \n",
    "        self.noise_std = 0.01\n",
    "        self.th = 0.5\n",
    "        self.mask = np.array([1 if e != \"EJ\" else 0 for e in df_train.columns])[:-2].astype(np.float32)\n",
    "        \n",
    "        X = df[df.columns[:-2]]\n",
    "        y = df.Class\n",
    "        self.X = X\n",
    "        self.y = y\n",
    "#         sm = SMOTETomek(random_state=57)\n",
    "#         X_res, y_res = sm.fit_resample(X, y)\n",
    "#         self.X = X_res\n",
    "#         self.y = y_res\n",
    "        \n",
    "    # ここで取り出すデータを指定している\n",
    "    def __getitem__(\n",
    "        self,\n",
    "        index\n",
    "    ) :\n",
    "#         print(index, self.df.iloc[index])\n",
    "      \n",
    "#         data = torch.Tensor(self.df.iloc[index, :-2].to_numpy())\n",
    "#         label = self.df.Class[index]\n",
    "        data = torch.Tensor(self.X.iloc[index, : ].to_numpy())\n",
    "        label = y_res[index]\n",
    "    \n",
    "        # データ拡張（0, 0.05)の正規分布ノイズを付加\n",
    "        if self.is_train and random.random() < self.th:\n",
    "#             m2 = np.random.normal(loc=self.noise_mean, scale=self.noise_std, size=self.mask.shape).astype(np.float32) > 0\n",
    "            data += self.mask * np.random.normal(loc=self.noise_mean, scale=self.noise_std, size=self.mask.shape).astype(np.float32)        \n",
    "        \n",
    "        return data, label\n",
    "\n",
    "    # この method がないと DataLoader を呼び出す際にエラーを吐かれる\n",
    "    def __len__(self) -> int:\n",
    "        return len(self.df)\n",
    "    \n",
    "dat = MyDataset(df_train, is_train=True)\n",
    "dat[0]"
   ]
  },
  {
   "cell_type": "markdown",
   "id": "2d1e52ca",
   "metadata": {
    "_cell_guid": "3cec9905-bd2b-4a3d-9c44-77c4aa5c5da7",
    "_uuid": "38ce75ac-34a4-4130-958f-64da4406e9f7",
    "papermill": {
     "duration": 0.085881,
     "end_time": "2023-08-08T14:43:21.394052",
     "exception": false,
     "start_time": "2023-08-08T14:43:21.308171",
     "status": "completed"
    },
    "tags": []
   },
   "source": [
    "### model"
   ]
  },
  {
   "cell_type": "code",
   "execution_count": 71,
   "id": "ea1d3b3f",
   "metadata": {
    "_cell_guid": "6c58801e-8b33-49dd-994b-01a69da257c5",
    "_uuid": "9fac7982-aa79-4960-905e-c5bf1bf133a0",
    "execution": {
     "iopub.execute_input": "2023-08-08T14:43:21.563555Z",
     "iopub.status.busy": "2023-08-08T14:43:21.562739Z",
     "iopub.status.idle": "2023-08-08T14:43:21.575583Z",
     "shell.execute_reply": "2023-08-08T14:43:21.574807Z"
    },
    "jupyter": {
     "outputs_hidden": false
    },
    "papermill": {
     "duration": 0.100592,
     "end_time": "2023-08-08T14:43:21.577696",
     "exception": false,
     "start_time": "2023-08-08T14:43:21.477104",
     "status": "completed"
    },
    "tags": []
   },
   "outputs": [],
   "source": [
    "\"\"\"\n",
    "margin: 通常、2クラス分類ではmarginの値は0.2から0.5の範囲で設定されます。\n",
    "    この範囲内での値の選択は、同じクラスの特徴ベクトルを近くに、異なるクラスの\n",
    "    特徴ベクトルを遠くに分離する効果を持ちます。具体的な値は実験によって調整する\n",
    "    必要がありますが、一般的には0.3や0.4が試されることが多いです。\n",
    "scale: 2クラス分類の場合、scaleの値は一般的に10から30程度が使用されます。\n",
    "    値が大きいほど、クラス分類の確信度が高まりますが、適切な値はデータセットやタスクに\n",
    "    依存します。一般的な出発点としては、10や20を試してみることができます。\n",
    "\"\"\"\n",
    "class ArcMarginProduct(nn.Module):\n",
    "    def __init__(self, in_features, out_features, s=30.0, m=0.50, easy_margin=False):\n",
    "        super(ArcMarginProduct, self).__init__()\n",
    "        self.in_features = in_features\n",
    "        self.out_features = out_features\n",
    "        self.s = s\n",
    "        self.m = m\n",
    "        self.weight = nn.Parameter(torch.FloatTensor(out_features, in_features))\n",
    "        nn.init.xavier_uniform_(self.weight)\n",
    "\n",
    "        self.easy_margin = easy_margin\n",
    "        self.cos_m = math.cos(m)\n",
    "        self.sin_m = math.sin(m)\n",
    "        self.th = math.cos(math.pi - m)\n",
    "        self.mm = math.sin(math.pi - m) * m\n",
    "\n",
    "    def forward(self, input, train, label=False):\n",
    "        # --------------------------- cos(theta) & phi(theta) ---------------------------\n",
    "        cosine = F.linear(F.normalize(input), F.normalize(self.weight))\n",
    "        sine = torch.sqrt((1.0 - torch.pow(cosine, 2)).clamp(0, 1))\n",
    "        phi = cosine * self.cos_m - sine * self.sin_m\n",
    "        if self.easy_margin:\n",
    "            phi = torch.where(cosine > 0, phi, cosine)\n",
    "        else:\n",
    "            phi = torch.where(cosine > self.th, phi, cosine - self.mm)\n",
    "        if train:\n",
    "            one_hot = torch.zeros(cosine.size())\n",
    "            if device == \"cpu\":\n",
    "                one_hot.scatter_(1, label.view(-1, 1).long(), 1)\n",
    "            else:\n",
    "                one_hot = torch.zeros(cosine.size(), device='cuda')\n",
    "                one_hot.scatter_(1, label.cuda().view(-1, 1).long(), 1)\n",
    "            output = (one_hot * phi) + ((1.0 - one_hot) * cosine)  # you can use torch.where if your torch.__version__ is 0.4\n",
    "        else:\n",
    "            output = cosine\n",
    "        output *= self.s\n",
    "\n",
    "        return output"
   ]
  },
  {
   "cell_type": "code",
   "execution_count": 72,
   "id": "1987d1c3",
   "metadata": {
    "_cell_guid": "9d6e5c07-7184-4b8b-8d53-d69269103681",
    "_uuid": "e9cd37d1-26e0-45ea-88b5-bf284cb6228b",
    "execution": {
     "iopub.execute_input": "2023-08-08T14:43:21.751545Z",
     "iopub.status.busy": "2023-08-08T14:43:21.750831Z",
     "iopub.status.idle": "2023-08-08T14:43:21.760880Z",
     "shell.execute_reply": "2023-08-08T14:43:21.760020Z"
    },
    "jupyter": {
     "outputs_hidden": false
    },
    "papermill": {
     "duration": 0.103688,
     "end_time": "2023-08-08T14:43:21.764616",
     "exception": false,
     "start_time": "2023-08-08T14:43:21.660928",
     "status": "completed"
    },
    "tags": []
   },
   "outputs": [],
   "source": [
    "class MyModel(nn.Module):\n",
    "    def __init__(self, input_dim, output_dim, hidden_dim=128, last_hidden_dim=64):\n",
    "        super(MyModel, self).__init__()\n",
    "\n",
    "#         self.bn1 = nn.BatchNorm1d(input_dim)\n",
    "        self.bn2 = nn.BatchNorm1d(hidden_dim)\n",
    "        self.bn3 = nn.BatchNorm1d(last_hidden_dim)\n",
    "        self.fc1 = nn.Linear(input_dim, hidden_dim)\n",
    "        self.fc2 = nn.Linear(hidden_dim, last_hidden_dim)\n",
    "        self.arcface = ArcMarginProduct(last_hidden_dim, output_dim, s = 10, m = 0.1)\n",
    "        \n",
    "        self.dropout01 = nn.Dropout(0.1)\n",
    "        self.dropout05 = nn.Dropout(0.5)\n",
    "\n",
    "    def forward(self, x, labels):\n",
    "#         x = self.bn1(x)\n",
    "        x = self.dropout01(x)\n",
    "        x = F.mish(self.bn2(self.fc1(x)))\n",
    "        x = self.dropout05(x)\n",
    "        x = F.mish(self.bn3(self.fc2(x)))\n",
    "        if self.training:\n",
    "            logits = self.arcface(x, self.training, labels)\n",
    "        else:\n",
    "            logits = self.arcface(x, self.training)\n",
    "        return logits, x"
   ]
  },
  {
   "cell_type": "code",
   "execution_count": 73,
   "id": "13a92360",
   "metadata": {
    "_cell_guid": "5f5a2a8b-7a8c-4eb6-ac10-3b296e967f62",
    "_uuid": "e5bdde1a-7659-499f-9e6b-dbc6ccc16d91",
    "execution": {
     "iopub.execute_input": "2023-08-08T14:43:21.936583Z",
     "iopub.status.busy": "2023-08-08T14:43:21.935758Z",
     "iopub.status.idle": "2023-08-08T14:43:21.941791Z",
     "shell.execute_reply": "2023-08-08T14:43:21.940895Z"
    },
    "jupyter": {
     "outputs_hidden": false
    },
    "papermill": {
     "duration": 0.092947,
     "end_time": "2023-08-08T14:43:21.943831",
     "exception": false,
     "start_time": "2023-08-08T14:43:21.850884",
     "status": "completed"
    },
    "tags": []
   },
   "outputs": [],
   "source": [
    "# def balanced_log_loss(y_true, y_pred):\n",
    "#     y_pred = y_pred.astype('float64')\n",
    "#     y_pred = np.clip(y_pred, 1e-15, 1-1e-15)\n",
    "#     nc = np.bincount(y_true)\n",
    "#     w0, w1 = 1/(nc[0]/y_true.shape[0]), 1/(nc[1]/y_true.shape[0])\n",
    "#     balanced_log_loss_score = (-w0/nc[0]*(np.sum(np.where(y_true==0,1,0) * np.log(1-y_pred))) - w1/nc[1]*(np.sum(np.where(y_true!=0,1,0) * np.log(y_pred)))) / (w0+w1)\n",
    "#     return balanced_log_loss_score\n",
    "\n",
    "from sklearn.metrics import log_loss\n",
    "def balanced_log_loss(y_true, y_pred):\n",
    "    y_pred = y_pred.astype('float64')    \n",
    "    nc = np.bincount(y_true)\n",
    "    return log_loss(y_true, y_pred, sample_weight = 1/nc[y_true], eps=1e-15)"
   ]
  },
  {
   "cell_type": "code",
   "execution_count": 74,
   "id": "d09c5103",
   "metadata": {
    "_cell_guid": "f7f4a426-b80c-40bd-8bf7-eeb61189d03c",
    "_uuid": "6bf90484-7990-4e40-8a6f-9e6c8c4f9597",
    "execution": {
     "iopub.execute_input": "2023-08-08T14:43:22.112962Z",
     "iopub.status.busy": "2023-08-08T14:43:22.112614Z",
     "iopub.status.idle": "2023-08-08T14:43:22.118355Z",
     "shell.execute_reply": "2023-08-08T14:43:22.117362Z"
    },
    "jupyter": {
     "outputs_hidden": false
    },
    "papermill": {
     "duration": 0.093692,
     "end_time": "2023-08-08T14:43:22.120420",
     "exception": false,
     "start_time": "2023-08-08T14:43:22.026728",
     "status": "completed"
    },
    "tags": []
   },
   "outputs": [],
   "source": [
    "def seed_everything(seed: int):\n",
    "    random.seed(seed)\n",
    "    os.environ['PYTHONHASHSEED'] = str(seed)\n",
    "    np.random.seed(seed)\n",
    "    torch.manual_seed(seed)\n",
    "    torch.cuda.manual_seed(seed)\n",
    "    torch.backends.cudnn.deterministic = True\n",
    "    torch.backends.cudnn.benchmark = True\n",
    "    \n",
    "# criterion = F.cross_entropy"
   ]
  },
  {
   "cell_type": "code",
   "execution_count": 75,
   "id": "5d56771e",
   "metadata": {
    "_cell_guid": "5ed1c0aa-fd39-4152-a0a7-211002c19106",
    "_uuid": "869f16e4-a1a7-4a89-a9ec-693cb88ab03b",
    "execution": {
     "iopub.execute_input": "2023-08-08T14:43:22.342569Z",
     "iopub.status.busy": "2023-08-08T14:43:22.342174Z",
     "iopub.status.idle": "2023-08-08T14:43:22.368220Z",
     "shell.execute_reply": "2023-08-08T14:43:22.367211Z"
    },
    "jupyter": {
     "outputs_hidden": false
    },
    "papermill": {
     "duration": 0.164094,
     "end_time": "2023-08-08T14:43:22.370307",
     "exception": false,
     "start_time": "2023-08-08T14:43:22.206213",
     "status": "completed"
    },
    "tags": []
   },
   "outputs": [
    {
     "data": {
      "text/plain": [
       "tensor([0.1750, 0.8250])"
      ]
     },
     "execution_count": 75,
     "metadata": {},
     "output_type": "execute_result"
    }
   ],
   "source": [
    "balance = torch.Tensor([len(df_train)/sum(df_train.Class == i) for i in range(len(df_train.Class.unique()))])\n",
    "balance /= sum(balance)\n",
    "balance"
   ]
  },
  {
   "cell_type": "markdown",
   "id": "74d1a39b",
   "metadata": {
    "_cell_guid": "b6b1d166-c706-487d-ac6c-6f31a2cfaf36",
    "_uuid": "9c2d8c8a-3ca9-421c-a349-9eb169b1519c",
    "papermill": {
     "duration": 0.083158,
     "end_time": "2023-08-08T14:43:22.538168",
     "exception": false,
     "start_time": "2023-08-08T14:43:22.455010",
     "status": "completed"
    },
    "tags": []
   },
   "source": [
    "### train"
   ]
  },
  {
   "cell_type": "code",
   "execution_count": 76,
   "id": "c2c958d3",
   "metadata": {
    "_cell_guid": "5c23691e-608b-4b26-852b-6c573770b7af",
    "_uuid": "2e28cb88-1f40-4b69-833f-d9fffe39d01a",
    "execution": {
     "iopub.execute_input": "2023-08-08T14:43:22.705262Z",
     "iopub.status.busy": "2023-08-08T14:43:22.704896Z",
     "iopub.status.idle": "2023-08-08T14:43:22.709277Z",
     "shell.execute_reply": "2023-08-08T14:43:22.708277Z"
    },
    "jupyter": {
     "outputs_hidden": false
    },
    "papermill": {
     "duration": 0.090156,
     "end_time": "2023-08-08T14:43:22.711344",
     "exception": false,
     "start_time": "2023-08-08T14:43:22.621188",
     "status": "completed"
    },
    "tags": []
   },
   "outputs": [],
   "source": [
    "from tqdm import tqdm"
   ]
  },
  {
   "cell_type": "code",
   "execution_count": 77,
   "id": "8f4bee36",
   "metadata": {
    "_cell_guid": "5b5e2402-e7d1-49ab-813d-d15e42d4f739",
    "_uuid": "82d6e79d-b6d8-4cca-922d-b2c7fbcaae4a",
    "execution": {
     "iopub.execute_input": "2023-08-08T14:43:22.884367Z",
     "iopub.status.busy": "2023-08-08T14:43:22.883549Z",
     "iopub.status.idle": "2023-08-08T14:43:22.903209Z",
     "shell.execute_reply": "2023-08-08T14:43:22.902003Z"
    },
    "jupyter": {
     "outputs_hidden": false
    },
    "papermill": {
     "duration": 0.108904,
     "end_time": "2023-08-08T14:43:22.905896",
     "exception": false,
     "start_time": "2023-08-08T14:43:22.796992",
     "status": "completed"
    },
    "tags": []
   },
   "outputs": [],
   "source": [
    "def train(fold, train_dataloader,valid_dataloader, input_dim, output_dim, total_epoch = None):\n",
    "    best_score = 10**18\n",
    "    best_epoch = -1\n",
    "    model = MyModel(input_dim, output_dim).to(device)\n",
    "\n",
    "    optimizer = optim.Adam(model.parameters(), lr=cfg.learning_rate)\n",
    "#     criterion = nn.CrossEntropyLoss().to(device)\n",
    "    criterion = nn.CrossEntropyLoss(weight=balance).to(device)\n",
    "    \n",
    "    if total_epoch is None:\n",
    "        total_epoch = cfg.num_epochs\n",
    "    \n",
    "    with tqdm(total=total_epoch) as pbar:\n",
    "        for epoch in range(total_epoch):\n",
    "            y_true = []\n",
    "            y_pred = []    \n",
    "\n",
    "            model.train()  # モデルを訓練モードに設定\n",
    "            total_loss = 0.0\n",
    "            for batch in train_dataloader:\n",
    "                inputs, labels = batch\n",
    "                inputs = inputs.to(device)\n",
    "                labels = labels.to(device)\n",
    "                optimizer.zero_grad()  # 勾配の初期化\n",
    "                # フォワード処理\n",
    "                outputs, _ = model(inputs, labels)      \n",
    "                # 損失の計算\n",
    "                loss = criterion(outputs, labels)\n",
    "                # バックワード処理\n",
    "                loss.backward()\n",
    "                # パラメータの更新\n",
    "                optimizer.step()\n",
    "                total_loss += loss.detach().item()\n",
    "            avg_train_loss = total_loss / len(train_dataloader)\n",
    "\n",
    "            model.eval()  # モデルをvalidモードに設定\n",
    "            total_loss = 0.0\n",
    "\n",
    "\n",
    "            for batch in valid_dataloader:\n",
    "                inputs, labels = batch\n",
    "                inputs = inputs.to(device)\n",
    "                labels = labels.to(device)\n",
    "                with torch.no_grad():\n",
    "                    outputs, _ = model(inputs, labels)     \n",
    "                loss = criterion(outputs, labels)\n",
    "                total_loss += loss.detach().item()\n",
    "                y_true += (labels.detach().tolist())\n",
    "                y_pred += (1 - F.softmax(outputs, dim=1)[:, 0]).detach().tolist()\n",
    "            avg_valid_loss = total_loss / len(valid_dataloader)\n",
    "\n",
    "            y_true = np.array(y_true)\n",
    "            y_pred = np.array(y_pred)\n",
    "            score = balanced_log_loss(y_true, y_pred)\n",
    "\n",
    "            pbar.set_postfix(train=avg_train_loss, valid=avg_valid_loss, score=score, best_score=best_score, best_epoch=best_epoch)\n",
    "            pbar.update(1)\n",
    "    #         if (epoch+1)%100 == 0:\n",
    "    #             tqdm.write(\"test\")\n",
    "    #             print(f\"Epoch {epoch+1}/{cfg.num_epochs}, train Loss: {avg_train_loss:.4f}\",\n",
    "    #                   f\" : valid Loss: {avg_valid_loss:.4f}, score = {score}\")\n",
    "            if epoch > 100 and best_score > score:\n",
    "#                 print(f\"Epoch {epoch+1}/{cfg.num_epochs}, train Loss: {avg_train_loss:.4f}\",\n",
    "#                       f\" : valid Loss: {avg_valid_loss:.4f}, score = {score} Saved.\", f\"model_weight_fold{fold}.pth\")\n",
    "                last_file = f\"model_weight_fold{fold}.pth\"\n",
    "                best_score = min(best_score, score)\n",
    "                best_epoch = epoch+1\n",
    "                torch.save(model.state_dict(), f\"model_weight_fold{fold}.pth\")\n",
    "\n",
    "    torch.save(model.state_dict(), f\"model_weight_last_fold{fold}.pth\")\n",
    "\n",
    "    return best_score"
   ]
  },
  {
   "cell_type": "code",
   "execution_count": 78,
   "id": "88a13114",
   "metadata": {
    "_cell_guid": "44456c20-5e92-49f2-a7f5-8ce3ac010f78",
    "_uuid": "5a8b8910-6834-49d3-9d1a-8921456af2e9",
    "execution": {
     "iopub.execute_input": "2023-08-08T14:43:23.085164Z",
     "iopub.status.busy": "2023-08-08T14:43:23.084237Z",
     "iopub.status.idle": "2023-08-08T14:43:23.101706Z",
     "shell.execute_reply": "2023-08-08T14:43:23.100747Z"
    },
    "jupyter": {
     "outputs_hidden": false
    },
    "papermill": {
     "duration": 0.109967,
     "end_time": "2023-08-08T14:43:23.103895",
     "exception": false,
     "start_time": "2023-08-08T14:43:22.993928",
     "status": "completed"
    },
    "tags": []
   },
   "outputs": [],
   "source": [
    "seed_everything(cfg.seed)\n",
    "\n",
    "kf = StratifiedKFold(n_splits=5, shuffle=True, random_state=seed)\n",
    "\n",
    "num = 0\n",
    "score = 0\n",
    "is_train = True\n",
    "\n",
    "# timesは入れない！！！！\n",
    "input_dim = len(df_train.columns)-2\n",
    "output_dim = len(df_train.Class.unique())\n",
    "\n",
    "if torch_train:\n",
    "    for num, (train_idx, valid_idx) in enumerate(kf.split(df_train, greeks_df.Class)):\n",
    "#         if num != 4 : continue\n",
    "        train_df = df_train.iloc[train_idx]\n",
    "        valid_df = df_train.iloc[valid_idx]\n",
    "        train_dataset = MyDataset(train_df, is_train=is_train)\n",
    "        valid_dataset = MyDataset(valid_df)\n",
    "        train_dataloader = DataLoader(train_dataset, batch_size=cfg.TRAIN_BATCHSIZE, shuffle=True)\n",
    "        valid_dataloader = DataLoader(valid_dataset, batch_size=cfg.VALID_BATCHSIZE, shuffle=False)\n",
    "\n",
    "        print(f\"Fold{num}\")\n",
    "        score += train(num, train_dataloader, valid_dataloader, input_dim, output_dim)\n",
    "\n",
    "        num+=1\n",
    "\n",
    "    print(score/5)"
   ]
  },
  {
   "cell_type": "markdown",
   "id": "48df68f2",
   "metadata": {
    "_cell_guid": "d15a74b3-01fc-45b9-a706-36130bae700f",
    "_uuid": "6004af42-8cf4-4499-bc35-e0b7a286b8c2",
    "papermill": {
     "duration": 0.090297,
     "end_time": "2023-08-08T14:43:23.281699",
     "exception": false,
     "start_time": "2023-08-08T14:43:23.191402",
     "status": "completed"
    },
    "tags": []
   },
   "source": [
    "Fold0\n",
    "100%|██████████| 1000/1000 [04:09<00:00,  4.00it/s, best_epoch=951, best_score=0.352, score=0.618, train=0.451, valid=0.517] \n",
    "Fold1\n",
    "100%|██████████| 1000/1000 [12:18<00:00,  1.35it/s, best_epoch=767, best_score=0.422, score=0.583, train=0.438, valid=0.42]   \n",
    "Fold2\n",
    "100%|██████████| 1000/1000 [08:43<00:00,  1.91it/s, best_epoch=442, best_score=0.461, score=0.931, train=0.445, valid=0.6]   \n",
    "Fold3\n",
    "100%|██████████| 1000/1000 [06:26<00:00,  2.58it/s, best_epoch=752, best_score=0.342, score=0.513, train=0.473, valid=0.385] \n",
    "Fold4\n",
    "100%|██████████| 1000/1000 [05:14<00:00,  3.18it/s, best_epoch=984, best_score=0.254, score=0.318, train=0.437, valid=0.307] \n",
    "0.36624119001847333"
   ]
  },
  {
   "cell_type": "markdown",
   "id": "5c5e9f5a",
   "metadata": {
    "_cell_guid": "65f12724-bc70-4e84-b216-9835b4c14183",
    "_uuid": "a52dc9f3-e500-42ec-b000-f6529d7586c5",
    "papermill": {
     "duration": 0.086772,
     "end_time": "2023-08-08T14:43:23.495618",
     "exception": false,
     "start_time": "2023-08-08T14:43:23.408846",
     "status": "completed"
    },
    "tags": []
   },
   "source": [
    "### train/single model"
   ]
  },
  {
   "cell_type": "code",
   "execution_count": 79,
   "id": "76e69112",
   "metadata": {
    "_cell_guid": "392d9e9d-e93a-4c62-b4e8-1f7efab5e3b9",
    "_uuid": "a06fa76d-a9b2-4c22-9d25-ced87880ac52",
    "execution": {
     "iopub.execute_input": "2023-08-08T14:43:23.669048Z",
     "iopub.status.busy": "2023-08-08T14:43:23.668653Z",
     "iopub.status.idle": "2023-08-08T14:43:23.674949Z",
     "shell.execute_reply": "2023-08-08T14:43:23.674009Z"
    },
    "jupyter": {
     "outputs_hidden": false
    },
    "papermill": {
     "duration": 0.095733,
     "end_time": "2023-08-08T14:43:23.676880",
     "exception": false,
     "start_time": "2023-08-08T14:43:23.581147",
     "status": "completed"
    },
    "tags": []
   },
   "outputs": [],
   "source": [
    "if torch_train:\n",
    "    # 全てのデータを利用して学習 train=valid\n",
    "    train_dataset = MyDataset(df_train, is_train=is_train)\n",
    "    valid_dataset = MyDataset(df_train)\n",
    "    train_dataloader = DataLoader(train_dataset, batch_size=cfg.TRAIN_BATCHSIZE, shuffle=True)\n",
    "    valid_dataloader = DataLoader(valid_dataset, batch_size=cfg.VALID_BATCHSIZE, shuffle=False)\n",
    "\n",
    "    num = 100\n",
    "    seed_everything(cfg.seed * num)\n",
    "\n",
    "    print(f\"Fold{num}\")\n",
    "    score = train(num, train_dataloader, valid_dataloader, input_dim, output_dim, total_epoch=1000)\n",
    "\n",
    "    print(score)"
   ]
  },
  {
   "cell_type": "code",
   "execution_count": 80,
   "id": "2d624cb9",
   "metadata": {
    "_cell_guid": "4b3b9c80-f561-4a36-88f2-9559fbe290d8",
    "_uuid": "8e6d6548-ec82-4ad8-ab5b-9adfd0899728",
    "execution": {
     "iopub.execute_input": "2023-08-08T14:43:23.849431Z",
     "iopub.status.busy": "2023-08-08T14:43:23.848832Z",
     "iopub.status.idle": "2023-08-08T14:43:23.855950Z",
     "shell.execute_reply": "2023-08-08T14:43:23.855101Z"
    },
    "jupyter": {
     "outputs_hidden": false
    },
    "papermill": {
     "duration": 0.095873,
     "end_time": "2023-08-08T14:43:23.857949",
     "exception": false,
     "start_time": "2023-08-08T14:43:23.762076",
     "status": "completed"
    },
    "tags": []
   },
   "outputs": [],
   "source": [
    "if torch_train:\n",
    "    # 全てのデータを利用して学習 train=valid\n",
    "    train_dataset = MyDataset(df_train, is_train=is_train)\n",
    "    valid_dataset = MyDataset(df_train)\n",
    "    train_dataloader = DataLoader(train_dataset, batch_size=cfg.TRAIN_BATCHSIZE, shuffle=True)\n",
    "    valid_dataloader = DataLoader(valid_dataset, batch_size=cfg.VALID_BATCHSIZE, shuffle=False)\n",
    "\n",
    "    num = 101\n",
    "    seed_everything(cfg.seed * num)\n",
    "    print(f\"Fold{num}\")\n",
    "    score = train(num, train_dataloader, valid_dataloader, input_dim, output_dim, total_epoch=2000)\n",
    "\n",
    "    print(score)"
   ]
  },
  {
   "cell_type": "markdown",
   "id": "6f35d35d",
   "metadata": {
    "_cell_guid": "f58faecf-c559-4d9f-9dfe-b55bde4776dc",
    "_uuid": "19fb6e1e-56f2-46b2-8600-184cbcfaa476",
    "papermill": {
     "duration": 0.084798,
     "end_time": "2023-08-08T14:43:24.027594",
     "exception": false,
     "start_time": "2023-08-08T14:43:23.942796",
     "status": "completed"
    },
    "tags": []
   },
   "source": [
    "### 予測用の関数等の定義"
   ]
  },
  {
   "cell_type": "code",
   "execution_count": 81,
   "id": "917a9bba",
   "metadata": {
    "_cell_guid": "a03825b9-9151-4dd8-993e-60b5fd747553",
    "_uuid": "56ac7051-7701-448d-8f3b-0794eafeac42",
    "execution": {
     "iopub.execute_input": "2023-08-08T14:43:24.199417Z",
     "iopub.status.busy": "2023-08-08T14:43:24.199082Z",
     "iopub.status.idle": "2023-08-08T14:43:29.246536Z",
     "shell.execute_reply": "2023-08-08T14:43:29.245470Z"
    },
    "jupyter": {
     "outputs_hidden": false
    },
    "papermill": {
     "duration": 5.135178,
     "end_time": "2023-08-08T14:43:29.248963",
     "exception": false,
     "start_time": "2023-08-08T14:43:24.113785",
     "status": "completed"
    },
    "tags": []
   },
   "outputs": [
    {
     "name": "stdout",
     "output_type": "stream",
     "text": [
      "../input/icr-pycaret-dataset/model_weight_fold0.pth\n",
      "../input/icr-pycaret-dataset/model_weight_fold1.pth\n",
      "../input/icr-pycaret-dataset/model_weight_fold2.pth\n",
      "../input/icr-pycaret-dataset/model_weight_fold3.pth\n",
      "../input/icr-pycaret-dataset/model_weight_fold4.pth\n"
     ]
    }
   ],
   "source": [
    "nn_models = []\n",
    "for i in range(5):\n",
    "    model = MyModel(input_dim, output_dim)\n",
    "    if torch_train:\n",
    "        print(f'model_weight_fold{i}.pth')\n",
    "        model.load_state_dict(torch.load(f'model_weight_fold{i}.pth', map_location=torch.device('cpu')))\n",
    "    else:\n",
    "        print(f'../input/icr-pycaret-dataset/model_weight_fold{i}.pth')\n",
    "        model.load_state_dict(torch.load(f'../input/icr-pycaret-dataset/model_weight_fold{i}.pth', map_location=torch.device('cpu')))\n",
    "        \n",
    "    model.to(device)\n",
    "    \n",
    "    model.eval()  ## torch.nn.Module.eval\n",
    "    nn_models.append(model)"
   ]
  },
  {
   "cell_type": "code",
   "execution_count": 82,
   "id": "a5e3e85f",
   "metadata": {
    "_cell_guid": "e0fd190c-ea3a-42ce-935f-56106286c0e9",
    "_uuid": "e6c00f80-7cbb-42ac-820f-0da20dac18e8",
    "execution": {
     "iopub.execute_input": "2023-08-08T14:43:29.427176Z",
     "iopub.status.busy": "2023-08-08T14:43:29.425525Z",
     "iopub.status.idle": "2023-08-08T14:43:29.501007Z",
     "shell.execute_reply": "2023-08-08T14:43:29.499665Z"
    },
    "jupyter": {
     "outputs_hidden": false
    },
    "papermill": {
     "duration": 0.166183,
     "end_time": "2023-08-08T14:43:29.503295",
     "exception": false,
     "start_time": "2023-08-08T14:43:29.337112",
     "status": "completed"
    },
    "tags": []
   },
   "outputs": [
    {
     "name": "stdout",
     "output_type": "stream",
     "text": [
      "../input/icr-pycaret-dataset/model_weight_fold0-2.pth\n",
      "../input/icr-pycaret-dataset/model_weight_fold1-2.pth\n",
      "../input/icr-pycaret-dataset/model_weight_fold2-2.pth\n",
      "../input/icr-pycaret-dataset/model_weight_fold3-2.pth\n",
      "../input/icr-pycaret-dataset/model_weight_fold4-2.pth\n"
     ]
    }
   ],
   "source": [
    "nn_models2 = []\n",
    "for i in range(5):\n",
    "    model = MyModel(input_dim, output_dim)\n",
    "    if torch_train:\n",
    "        print(f'model_weight_fold{i}-2.pth')\n",
    "        model.load_state_dict(torch.load(f'model_weight_fold{i}-2.pth', map_location=torch.device('cpu')))\n",
    "    else:\n",
    "        print(f'../input/icr-pycaret-dataset/model_weight_fold{i}-2.pth')\n",
    "        model.load_state_dict(torch.load(f'../input/icr-pycaret-dataset/model_weight_fold{i}-2.pth', map_location=torch.device('cpu')))\n",
    "        \n",
    "    model.to(device)\n",
    "    model.eval()  ## torch.nn.Module.eval\n",
    "    nn_models2.append(model)"
   ]
  },
  {
   "cell_type": "code",
   "execution_count": 83,
   "id": "0abc65f2",
   "metadata": {
    "_cell_guid": "fc7a82b0-535a-4557-85f3-8252a9f52ecc",
    "_uuid": "0ee6f35c-1852-4239-b8e2-3352bbefda4d",
    "execution": {
     "iopub.execute_input": "2023-08-08T14:43:29.680297Z",
     "iopub.status.busy": "2023-08-08T14:43:29.679452Z",
     "iopub.status.idle": "2023-08-08T14:43:29.714642Z",
     "shell.execute_reply": "2023-08-08T14:43:29.713051Z"
    },
    "jupyter": {
     "outputs_hidden": false
    },
    "papermill": {
     "duration": 0.125367,
     "end_time": "2023-08-08T14:43:29.716729",
     "exception": false,
     "start_time": "2023-08-08T14:43:29.591362",
     "status": "completed"
    },
    "tags": []
   },
   "outputs": [
    {
     "name": "stdout",
     "output_type": "stream",
     "text": [
      "../input/icr-pycaret-dataset/model_weight_fold100.pth\n",
      "../input/icr-pycaret-dataset/model_weight_fold101.pth\n"
     ]
    }
   ],
   "source": [
    "nn_single_model = []\n",
    "for i in range(100, 102):\n",
    "    model = MyModel(input_dim, output_dim)\n",
    "    if torch_train:\n",
    "        print(f'model_weight_fold{i}.pth')\n",
    "        model.load_state_dict(torch.load(f'model_weight_fold{i}.pth', map_location=torch.device('cpu')))\n",
    "    else:\n",
    "        print(f'../input/icr-pycaret-dataset/model_weight_fold{i}.pth')\n",
    "        model.load_state_dict(torch.load(f'../input/icr-pycaret-dataset/model_weight_fold{i}.pth', map_location=torch.device('cpu')))\n",
    "        \n",
    "    model.to(device)\n",
    "    model.eval()  ## torch.nn.Module.eval\n",
    "    nn_single_model.append(model)"
   ]
  },
  {
   "cell_type": "code",
   "execution_count": 84,
   "id": "c6c8a788",
   "metadata": {
    "_cell_guid": "9460d93c-c559-43e3-a003-20b4c5ca878c",
    "_uuid": "fe862293-055a-434a-a36a-e2e9ea3ebe2b",
    "execution": {
     "iopub.execute_input": "2023-08-08T14:43:29.896814Z",
     "iopub.status.busy": "2023-08-08T14:43:29.895830Z",
     "iopub.status.idle": "2023-08-08T14:43:29.932790Z",
     "shell.execute_reply": "2023-08-08T14:43:29.931226Z"
    },
    "jupyter": {
     "outputs_hidden": false
    },
    "papermill": {
     "duration": 0.129497,
     "end_time": "2023-08-08T14:43:29.935006",
     "exception": false,
     "start_time": "2023-08-08T14:43:29.805509",
     "status": "completed"
    },
    "tags": []
   },
   "outputs": [
    {
     "name": "stdout",
     "output_type": "stream",
     "text": [
      "../input/icr-pycaret-dataset/model_weight_fold100-2.pth\n",
      "../input/icr-pycaret-dataset/model_weight_fold101-2.pth\n"
     ]
    }
   ],
   "source": [
    "nn_single_model2 = []\n",
    "for i in range(100, 102):\n",
    "    model = MyModel(input_dim, output_dim)\n",
    "    if torch_train:\n",
    "        print(f'model_weight_fold{i}-2.pth')\n",
    "        model.load_state_dict(torch.load(f'model_weight_fold{i}-2.pth', map_location=torch.device('cpu')))\n",
    "    else:\n",
    "        print(f'../input/icr-pycaret-dataset/model_weight_fold{i}-2.pth')\n",
    "        model.load_state_dict(torch.load(f'../input/icr-pycaret-dataset/model_weight_fold{i}-2.pth', map_location=torch.device('cpu')))\n",
    "        \n",
    "    model.to(device)\n",
    "    model.eval()  ## torch.nn.Module.eval\n",
    "    nn_single_model2.append(model)"
   ]
  },
  {
   "cell_type": "code",
   "execution_count": 85,
   "id": "4d68b7ba",
   "metadata": {
    "_cell_guid": "bf28d7f5-43e4-47d3-8431-1d774f1b2868",
    "_uuid": "0f8c2ac8-c45d-4e17-867d-100a65637824",
    "execution": {
     "iopub.execute_input": "2023-08-08T14:43:30.109333Z",
     "iopub.status.busy": "2023-08-08T14:43:30.108422Z",
     "iopub.status.idle": "2023-08-08T14:43:30.116055Z",
     "shell.execute_reply": "2023-08-08T14:43:30.115136Z"
    },
    "jupyter": {
     "outputs_hidden": false
    },
    "papermill": {
     "duration": 0.097868,
     "end_time": "2023-08-08T14:43:30.118136",
     "exception": false,
     "start_time": "2023-08-08T14:43:30.020268",
     "status": "completed"
    },
    "tags": []
   },
   "outputs": [],
   "source": [
    "def nn_predict_proba(X, models):\n",
    "    preds = []\n",
    "    features = []\n",
    "    X = X.to(device)\n",
    "    for model in models:\n",
    "        with torch.no_grad():\n",
    "            pred, feature = model(X, None)\n",
    "        pred = F.softmax(pred, dim=1).cpu().detach().numpy()\n",
    "\n",
    "        if len(preds) == 0:\n",
    "            preds = pred\n",
    "            features = feature\n",
    "        else:\n",
    "            preds += pred\n",
    "            features += feature\n",
    "\n",
    "    preds = preds/len(models)\n",
    "    feature /= len(models)\n",
    "    return preds, feature"
   ]
  },
  {
   "cell_type": "code",
   "execution_count": null,
   "id": "6ae68993",
   "metadata": {
    "_cell_guid": "603a3cec-d722-472c-b0c6-abf88cb18e71",
    "_uuid": "d7889173-c577-449b-b75a-af45bd999440",
    "jupyter": {
     "outputs_hidden": false
    },
    "papermill": {
     "duration": 0.08453,
     "end_time": "2023-08-08T14:43:30.288492",
     "exception": false,
     "start_time": "2023-08-08T14:43:30.203962",
     "status": "completed"
    },
    "tags": []
   },
   "outputs": [],
   "source": []
  },
  {
   "cell_type": "code",
   "execution_count": null,
   "id": "9b87a921",
   "metadata": {
    "_cell_guid": "de594f3b-62aa-4b0f-b5f2-e7b45cf1fed1",
    "_uuid": "2fa7a9de-3bac-4df0-8e6d-c6487d0a5eb5",
    "jupyter": {
     "outputs_hidden": false
    },
    "papermill": {
     "duration": 0.083446,
     "end_time": "2023-08-08T14:43:30.456246",
     "exception": false,
     "start_time": "2023-08-08T14:43:30.372800",
     "status": "completed"
    },
    "tags": []
   },
   "outputs": [],
   "source": []
  },
  {
   "cell_type": "code",
   "execution_count": 86,
   "id": "1a6ada13",
   "metadata": {
    "_cell_guid": "ff811ca6-4ecf-453f-aef6-8bfe4a28ac8e",
    "_uuid": "54c9e5a8-4cce-4a1f-be47-82c82a74949c",
    "execution": {
     "iopub.execute_input": "2023-08-08T14:43:30.634994Z",
     "iopub.status.busy": "2023-08-08T14:43:30.634619Z",
     "iopub.status.idle": "2023-08-08T14:43:34.623927Z",
     "shell.execute_reply": "2023-08-08T14:43:34.622878Z"
    },
    "jupyter": {
     "outputs_hidden": false
    },
    "papermill": {
     "duration": 4.080786,
     "end_time": "2023-08-08T14:43:34.626376",
     "exception": false,
     "start_time": "2023-08-08T14:43:30.545590",
     "status": "completed"
    },
    "scrolled": true,
    "tags": []
   },
   "outputs": [
    {
     "data": {
      "text/plain": [
       "(array([[3.8089111e-02, 9.6191090e-01],\n",
       "        [9.9950773e-01, 4.9224746e-04],\n",
       "        [8.9125758e-01, 1.0874239e-01],\n",
       "        ...,\n",
       "        [9.9776018e-01, 2.2397940e-03],\n",
       "        [9.8534364e-01, 1.4656347e-02],\n",
       "        [9.9723184e-01, 2.7681391e-03]], dtype=float32),\n",
       " tensor([[ 0.0571,  0.0363,  0.0070,  ..., -0.0358,  0.0234,  0.0622],\n",
       "         [ 0.0075,  0.0537,  0.0257,  ..., -0.0362, -0.0006,  0.0049],\n",
       "         [ 0.0284,  0.0392,  0.0142,  ..., -0.0392,  0.0060,  0.0432],\n",
       "         ...,\n",
       "         [ 0.0094,  0.0549,  0.0282,  ..., -0.0390,  0.0016,  0.0182],\n",
       "         [ 0.0244,  0.0454,  0.0180,  ..., -0.0381,  0.0148,  0.0198],\n",
       "         [ 0.0420,  0.0294, -0.0055,  ..., -0.0411,  0.0092,  0.0129]]))"
      ]
     },
     "execution_count": 86,
     "metadata": {},
     "output_type": "execute_result"
    }
   ],
   "source": [
    "X = torch.Tensor(df_train[df_train.columns[:-2]].to_numpy())\n",
    "y = df_train.Class\n",
    "\n",
    "preds, features = nn_predict_proba(X, nn_models)\n",
    "preds, features"
   ]
  },
  {
   "cell_type": "code",
   "execution_count": 87,
   "id": "d0fbfd56",
   "metadata": {
    "_cell_guid": "8abe196f-09b3-4de7-aa04-1cdc9c7b32ea",
    "_uuid": "aeb5466c-7b32-4208-be22-b38cde517972",
    "execution": {
     "iopub.execute_input": "2023-08-08T14:43:34.807059Z",
     "iopub.status.busy": "2023-08-08T14:43:34.806650Z",
     "iopub.status.idle": "2023-08-08T14:43:34.816231Z",
     "shell.execute_reply": "2023-08-08T14:43:34.815248Z"
    },
    "jupyter": {
     "outputs_hidden": false
    },
    "papermill": {
     "duration": 0.103871,
     "end_time": "2023-08-08T14:43:34.818147",
     "exception": false,
     "start_time": "2023-08-08T14:43:34.714276",
     "status": "completed"
    },
    "tags": []
   },
   "outputs": [
    {
     "data": {
      "text/plain": [
       "0.1171958512181134"
      ]
     },
     "execution_count": 87,
     "metadata": {},
     "output_type": "execute_result"
    }
   ],
   "source": [
    "balanced_log_loss(y, preds[:, 1])"
   ]
  },
  {
   "cell_type": "code",
   "execution_count": 88,
   "id": "cc2b50bb",
   "metadata": {
    "_cell_guid": "2a82144b-b411-4aa1-9704-28810c96dd15",
    "_uuid": "457ece7a-b8b5-49eb-90a0-363209d9755e",
    "execution": {
     "iopub.execute_input": "2023-08-08T14:43:34.992195Z",
     "iopub.status.busy": "2023-08-08T14:43:34.991379Z",
     "iopub.status.idle": "2023-08-08T14:43:35.018160Z",
     "shell.execute_reply": "2023-08-08T14:43:35.017018Z"
    },
    "jupyter": {
     "outputs_hidden": false
    },
    "papermill": {
     "duration": 0.115301,
     "end_time": "2023-08-08T14:43:35.020191",
     "exception": false,
     "start_time": "2023-08-08T14:43:34.904890",
     "status": "completed"
    },
    "tags": []
   },
   "outputs": [
    {
     "name": "stdout",
     "output_type": "stream",
     "text": [
      "Fold0 0.23968630513096645\n",
      "Fold1 0.13940624779741514\n",
      "Fold2 0.48201105283591733\n",
      "Fold3 0.25245653082519326\n",
      "Fold4 0.4537879877942637\n"
     ]
    }
   ],
   "source": [
    "kf = StratifiedKFold(n_splits=5, shuffle=True, random_state=seed)\n",
    "\n",
    "for idx, (train_idx, valid_idx) in enumerate(kf.split(df_train, greeks_df.Class)):\n",
    "    valid_df = df_train.iloc[valid_idx]\n",
    "    \n",
    "    X = torch.Tensor(valid_df[valid_df.columns[:-2]].to_numpy()).to(device)\n",
    "    y = valid_df.Class\n",
    "    with torch.no_grad():\n",
    "        pred, _ = nn_models[idx](X, None)\n",
    "    pred = F.softmax(pred, dim=1).detach().cpu().numpy()\n",
    "    score = balanced_log_loss(y, pred[:, 1])\n",
    "    print(f\"Fold{idx}\", score)"
   ]
  },
  {
   "cell_type": "code",
   "execution_count": 89,
   "id": "69fdaef6",
   "metadata": {
    "_cell_guid": "71f0b3ff-89b2-4cfc-9a88-6d2e06040353",
    "_uuid": "bdc0bd63-8559-4246-b35f-059b3cdaee56",
    "execution": {
     "iopub.execute_input": "2023-08-08T14:43:35.202382Z",
     "iopub.status.busy": "2023-08-08T14:43:35.201481Z",
     "iopub.status.idle": "2023-08-08T14:43:35.215196Z",
     "shell.execute_reply": "2023-08-08T14:43:35.214133Z"
    },
    "jupyter": {
     "outputs_hidden": false
    },
    "papermill": {
     "duration": 0.102943,
     "end_time": "2023-08-08T14:43:35.217301",
     "exception": false,
     "start_time": "2023-08-08T14:43:35.114358",
     "status": "completed"
    },
    "tags": []
   },
   "outputs": [
    {
     "data": {
      "text/plain": [
       "0.06488931013387277"
      ]
     },
     "execution_count": 89,
     "metadata": {},
     "output_type": "execute_result"
    }
   ],
   "source": [
    "# single model\n",
    "X = torch.Tensor(df_train[df_train.columns[:-2]].to_numpy())\n",
    "y = df_train.Class\n",
    "\n",
    "preds, features = nn_predict_proba(X, nn_single_model)\n",
    "balanced_log_loss(y, preds[:, 1])"
   ]
  },
  {
   "cell_type": "markdown",
   "id": "3c560368",
   "metadata": {
    "_cell_guid": "0b3be489-12d0-4b75-ab19-1a7607573126",
    "_uuid": "fd5cb673-133c-485f-a228-98343e70fd80",
    "papermill": {
     "duration": 0.085819,
     "end_time": "2023-08-08T14:43:35.389588",
     "exception": false,
     "start_time": "2023-08-08T14:43:35.303769",
     "status": "completed"
    },
    "tags": []
   },
   "source": [
    "# LightGBM/XGBoost/CatBoost"
   ]
  },
  {
   "cell_type": "code",
   "execution_count": 90,
   "id": "fb284028",
   "metadata": {
    "_cell_guid": "58a44691-90f4-4268-bc34-708270758c67",
    "_uuid": "357b579f-e41c-492c-b8b4-ca78b052446a",
    "execution": {
     "iopub.execute_input": "2023-08-08T14:43:35.569442Z",
     "iopub.status.busy": "2023-08-08T14:43:35.569069Z",
     "iopub.status.idle": "2023-08-08T14:43:35.577685Z",
     "shell.execute_reply": "2023-08-08T14:43:35.576581Z"
    },
    "jupyter": {
     "outputs_hidden": false
    },
    "papermill": {
     "duration": 0.100723,
     "end_time": "2023-08-08T14:43:35.579887",
     "exception": false,
     "start_time": "2023-08-08T14:43:35.479164",
     "status": "completed"
    },
    "tags": []
   },
   "outputs": [
    {
     "data": {
      "text/plain": [
       "617"
      ]
     },
     "execution_count": 90,
     "metadata": {},
     "output_type": "execute_result"
    }
   ],
   "source": [
    "classes_weights = compute_sample_weight(\n",
    "    class_weight='balanced',\n",
    "    y=df_train.Class\n",
    ")\n",
    "len(classes_weights)"
   ]
  },
  {
   "cell_type": "code",
   "execution_count": 91,
   "id": "e1e79b03",
   "metadata": {
    "_cell_guid": "40c1509b-833d-4ce2-b79e-83c6ba1c2b33",
    "_uuid": "ffc18214-107a-4529-a77d-3d6b679d39e5",
    "execution": {
     "iopub.execute_input": "2023-08-08T14:43:35.757429Z",
     "iopub.status.busy": "2023-08-08T14:43:35.756828Z",
     "iopub.status.idle": "2023-08-08T14:43:35.764743Z",
     "shell.execute_reply": "2023-08-08T14:43:35.763638Z"
    },
    "jupyter": {
     "outputs_hidden": false
    },
    "papermill": {
     "duration": 0.097696,
     "end_time": "2023-08-08T14:43:35.766856",
     "exception": false,
     "start_time": "2023-08-08T14:43:35.669160",
     "status": "completed"
    },
    "tags": []
   },
   "outputs": [
    {
     "data": {
      "text/plain": [
       "array([5.71296296, 0.60609037, 0.60609037, 0.60609037, 5.71296296,\n",
       "       0.60609037, 0.60609037, 0.60609037, 0.60609037, 0.60609037])"
      ]
     },
     "execution_count": 91,
     "metadata": {},
     "output_type": "execute_result"
    }
   ],
   "source": [
    "classes_weights[classes_weights == max(classes_weights)]*=positive_weight\n",
    "classes_weights[:10]"
   ]
  },
  {
   "cell_type": "code",
   "execution_count": 92,
   "id": "ab5851ef",
   "metadata": {
    "_cell_guid": "afca19f6-e493-4342-bdcb-4b01868300e1",
    "_uuid": "e50da243-d4da-4dca-abea-fa6f3c464bb3",
    "execution": {
     "iopub.execute_input": "2023-08-08T14:43:35.952252Z",
     "iopub.status.busy": "2023-08-08T14:43:35.951437Z",
     "iopub.status.idle": "2023-08-08T14:43:35.960182Z",
     "shell.execute_reply": "2023-08-08T14:43:35.959160Z"
    },
    "jupyter": {
     "outputs_hidden": false
    },
    "papermill": {
     "duration": 0.097767,
     "end_time": "2023-08-08T14:43:35.962308",
     "exception": false,
     "start_time": "2023-08-08T14:43:35.864541",
     "status": "completed"
    },
    "tags": []
   },
   "outputs": [
    {
     "data": {
      "text/plain": [
       "array([5.71296296, 0.60609037, 0.60609037, 0.60609037, 5.71296296,\n",
       "       0.60609037, 0.60609037, 0.60609037, 0.60609037, 0.60609037])"
      ]
     },
     "execution_count": 92,
     "metadata": {},
     "output_type": "execute_result"
    }
   ],
   "source": [
    "classes_weights2 = compute_sample_weight(\n",
    "    class_weight='balanced',\n",
    "    y=df_train.Class\n",
    ")\n",
    "classes_weights2[classes_weights2 == max(classes_weights2)]*=positive_weight2\n",
    "classes_weights2[:10]"
   ]
  },
  {
   "cell_type": "code",
   "execution_count": 93,
   "id": "9d384e74",
   "metadata": {
    "_cell_guid": "1c0b47de-90c4-4328-ac7b-035f06410595",
    "_uuid": "a3619b34-fea2-43bb-81bd-0d457d4df57f",
    "execution": {
     "iopub.execute_input": "2023-08-08T14:43:36.189182Z",
     "iopub.status.busy": "2023-08-08T14:43:36.188758Z",
     "iopub.status.idle": "2023-08-08T14:43:36.196647Z",
     "shell.execute_reply": "2023-08-08T14:43:36.195658Z"
    },
    "jupyter": {
     "outputs_hidden": false
    },
    "papermill": {
     "duration": 0.145557,
     "end_time": "2023-08-08T14:43:36.198702",
     "exception": false,
     "start_time": "2023-08-08T14:43:36.053145",
     "status": "completed"
    },
    "tags": []
   },
   "outputs": [],
   "source": [
    "def balanced_log_loss(y_true, y_pred):\n",
    "    y_pred = np.clip(y_pred, 1e-15, 1-1e-15)\n",
    "    nc = np.bincount(y_true)\n",
    "    w0, w1 = 1/(nc[0]/y_true.shape[0]), 1/(nc[1]/y_true.shape[0])\n",
    "    balanced_log_loss_score = (-w0/nc[0]*(np.sum(np.where(y_true==0,1,0) * np.log(1-y_pred))) - w1/nc[1]*(np.sum(np.where(y_true!=0,1,0) * np.log(y_pred)))) / (w0+w1)\n",
    "    return balanced_log_loss_score\n",
    "\n",
    "from sklearn.metrics import log_loss\n",
    "def balanced_log_loss(y_true, y_pred):\n",
    "    nc = np.bincount(y_true)\n",
    "    return log_loss(y_true, y_pred, sample_weight = 1/nc[y_true], eps=1e-15)\n",
    "\n",
    "# 独自の評価関数をスコアリング関数に変換\n",
    "balanced_log_loss_scorer = make_scorer(balanced_log_loss, greater_is_better=False)"
   ]
  },
  {
   "cell_type": "markdown",
   "id": "b845bdbe",
   "metadata": {
    "_cell_guid": "28e8bbc1-9240-4290-a5e0-30e7eb67a783",
    "_uuid": "f745c439-6668-455c-ad82-68f35f1b0f35",
    "papermill": {
     "duration": 0.086716,
     "end_time": "2023-08-08T14:43:36.371680",
     "exception": false,
     "start_time": "2023-08-08T14:43:36.284964",
     "status": "completed"
    },
    "tags": []
   },
   "source": [
    "## optuna"
   ]
  },
  {
   "cell_type": "code",
   "execution_count": 94,
   "id": "7c67b3c9",
   "metadata": {
    "_cell_guid": "a750546a-409f-470e-8534-6115aba5f617",
    "_uuid": "ffda6442-a20d-425d-9eed-f0936ba8a6b1",
    "execution": {
     "iopub.execute_input": "2023-08-08T14:43:36.544682Z",
     "iopub.status.busy": "2023-08-08T14:43:36.543924Z",
     "iopub.status.idle": "2023-08-08T14:43:36.558184Z",
     "shell.execute_reply": "2023-08-08T14:43:36.557272Z"
    },
    "jupyter": {
     "outputs_hidden": false
    },
    "papermill": {
     "duration": 0.102931,
     "end_time": "2023-08-08T14:43:36.560198",
     "exception": false,
     "start_time": "2023-08-08T14:43:36.457267",
     "status": "completed"
    },
    "tags": []
   },
   "outputs": [],
   "source": [
    "# 初期設定値\n",
    "# lgbm_params = {'n_estimators': 880,\n",
    "#  'reg_alpha': 1.1,\n",
    "#  'reg_lambda': 57.800000000000004,\n",
    "#  'num_leaves': 7,\n",
    "#  'min_child_samples': 54,\n",
    "#  'colsample_bytree': 0.8,\n",
    "#  'subsample': 0.5,\n",
    "#  'subsample_freq': 2}\n",
    "\n",
    "# lgbm_params = {'n_estimators': 1130,\n",
    "#  'reg_alpha': 0.0,\n",
    "#  'reg_lambda': 86.60000000000001,\n",
    "#  'num_leaves': 28,\n",
    "#  'min_child_samples': 26,\n",
    "#  'colsample_bytree': 0.8,\n",
    "#  'subsample': 0.6,\n",
    "#  'subsample_freq': 1}\n",
    "\n",
    "lgbm_params = {'n_estimators': 1480,\n",
    " 'reg_alpha': 0.1,\n",
    " 'reg_lambda': 9.600000000000001,\n",
    " 'num_leaves': 48,\n",
    " 'min_child_samples': 11,\n",
    " 'colsample_bytree': 0.7,\n",
    " 'subsample': 0.8,\n",
    " 'subsample_freq': 1}\n",
    "\n",
    "# lgbm_params_2 = {'n_estimators': 620,\n",
    "#  'reg_alpha': 0.1,\n",
    "#  'reg_lambda': 55.2,\n",
    "#  'num_leaves': 46,\n",
    "#  'min_child_samples': 40,\n",
    "#  'colsample_bytree': 1.0,\n",
    "#  'subsample': 0.5,\n",
    "#  'subsample_freq': 1}\n",
    "    \n",
    "# lgbm_params_2 = {'n_estimators': 850,\n",
    "#  'reg_alpha': 1.7000000000000002,\n",
    "#  'reg_lambda': 11.200000000000001,\n",
    "#  'num_leaves': 4,\n",
    "#  'min_child_samples': 23,\n",
    "#  'colsample_bytree': 0.6,\n",
    "#  'subsample': 0.9,\n",
    "#  'subsample_freq': 2}\n",
    "\n",
    "lgbm_params_2 = {'n_estimators': 1260,\n",
    " 'reg_alpha': 0.0,\n",
    " 'reg_lambda': 5.0,\n",
    " 'num_leaves': 45,\n",
    " 'min_child_samples': 21,\n",
    " 'colsample_bytree': 0.9,\n",
    " 'subsample': 0.9,\n",
    " 'subsample_freq': 2}\n",
    "    \n",
    "# xgb_params = {'n_estimators': 700,\n",
    "#  'max_depth': 3,\n",
    "#  'learning_rate': 0.03560016067885742,\n",
    "#  'subsample': 0.7408505704121144,\n",
    "#  'colsample_bytree': 0.5705779083310649,\n",
    "#  'gamma': 0.5286651204230014}\n",
    "# xgb_params = {'n_estimators': 1000,\n",
    "#  'max_depth': 3,\n",
    "#  'learning_rate': 0.1543150953351635,\n",
    "#  'subsample': 0.528008233404971,\n",
    "#  'colsample_bytree': 0.9851329877303666,\n",
    "#  'reg_alpha': 3.8000000000000003,\n",
    "#  'reg_lambda': 39.7,\n",
    "#  'gamma': 0.017381355558751747}\n",
    "\n",
    "# xgb_params = {'n_estimators': 500,\n",
    "#  'max_depth': 3,\n",
    "#  'learning_rate': 0.10793305053505592,\n",
    "#  'subsample': 0.8369256864343991,\n",
    "#  'colsample_bytree': 0.7520464672724583,\n",
    "#  'reg_alpha': 0.0,\n",
    "#  'reg_lambda': 37.0,\n",
    "#  'gamma': 0.015813647736160532}\n",
    "\n",
    "xgb_params = {'n_estimators': 1100,\n",
    " 'max_depth': 10,\n",
    " 'learning_rate': 0.15614514347924224,\n",
    " 'subsample': 0.5914988686475774,\n",
    " 'colsample_bytree': 0.6908905550987483,\n",
    " 'reg_alpha': 0.0,\n",
    " 'reg_lambda': 25.8,\n",
    " 'gamma': 0.01968681003733401}\n",
    "\n",
    "# xgb_params_2 = {'n_estimators': 1100,\n",
    "#  'max_depth': 3,\n",
    "#  'learning_rate': 0.14518639775016545,\n",
    "#  'subsample': 0.5084553487981508,\n",
    "#  'colsample_bytree': 0.8331982072851236,\n",
    "#  'reg_alpha': 2.6,\n",
    "#  'reg_lambda': 44.800000000000004,\n",
    "#  'gamma': 0.0011795489621245533}\n",
    "   \n",
    "    \n",
    "# xgb_params_2 = {'n_estimators': 400,\n",
    "#  'max_depth': 3,\n",
    "#  'learning_rate': 0.29902645074397594,\n",
    "#  'subsample': 0.7735383359613076,\n",
    "#  'colsample_bytree': 0.7336849557739112,\n",
    "#  'reg_alpha': 0.0,\n",
    "#  'reg_lambda': 49.0,\n",
    "#  'gamma': 0.008816865972010722}\n",
    "\n",
    "xgb_params_2 = {'n_estimators': 1400,\n",
    " 'max_depth': 6,\n",
    " 'learning_rate': 0.11874831982593327,\n",
    " 'subsample': 0.6511990698691976,\n",
    " 'colsample_bytree': 0.6701953578639556,\n",
    " 'reg_alpha': 0.0,\n",
    " 'reg_lambda': 29.6,\n",
    " 'gamma': 0.0011405697665625514}\n",
    "    \n",
    "# cb_params = {'iterations': 95,\n",
    "#  'depth': 4,\n",
    "#  'learning_rate': 0.10210645995422828,\n",
    "#  'random_strength': 3,\n",
    "#  'bagging_temperature': 0.034248653596267484,\n",
    "#  'od_wait': 50}\n",
    "\n",
    "cb_params = {'iterations': 289,\n",
    " 'depth': 4,\n",
    " 'learning_rate': 0.18768446152569845,\n",
    " 'random_strength': 10,\n",
    " 'bagging_temperature': 20.487227440664658,\n",
    " 'od_wait': 22}\n",
    "\n",
    "# cb_params_2 = {'iterations': 182,\n",
    "#  'depth': 4,\n",
    "#  'learning_rate': 0.094658662671199,\n",
    "#  'random_strength': 81,\n",
    "#  'bagging_temperature': 0.02984516823532346,\n",
    "#  'od_wait': 33}\n",
    "\n",
    "cb_params_2 = {'iterations': 250,\n",
    " 'depth': 4,\n",
    " 'learning_rate': 0.1406204176910051,\n",
    " 'random_strength': 69,\n",
    " 'bagging_temperature': 0.02944175723888104,\n",
    " 'od_wait': 40}\n",
    "\n",
    "# rf_params = {'criterion': 'entropy',\n",
    "#  'bootstrap': False,\n",
    "#  'max_depth': 208,\n",
    "#  'max_features': 'sqrt',\n",
    "#  'max_leaf_nodes': 12,\n",
    "#  'n_estimators': 204,\n",
    "#  'min_samples_split': 4,\n",
    "#  'min_samples_leaf': 8}\n",
    "\n",
    "rf_params= {'criterion': 'entropy',\n",
    " 'bootstrap': False,\n",
    " 'max_depth': 745,\n",
    " 'max_features': 'sqrt',\n",
    " 'max_leaf_nodes': 153,\n",
    " 'n_estimators': 169,\n",
    " 'min_samples_split': 4,\n",
    " 'min_samples_leaf': 7}\n",
    "\n",
    "# スタッキング用\n",
    "lgbm_params2 = {'n_estimators': 370,\n",
    " 'reg_alpha': 21.3,\n",
    " 'reg_lambda': 0.5,\n",
    " 'num_leaves': 12,\n",
    " 'min_child_samples': 25,\n",
    " 'colsample_bytree': 0.5,\n",
    " 'subsample': 0.6,\n",
    " 'subsample_freq': 0}"
   ]
  },
  {
   "cell_type": "markdown",
   "id": "aa12ec62",
   "metadata": {
    "_cell_guid": "5b41b58d-3a21-4fbe-9534-d1a181163aed",
    "_uuid": "43612604-5833-4177-8748-bfaa67df005c",
    "papermill": {
     "duration": 0.086116,
     "end_time": "2023-08-08T14:43:36.733029",
     "exception": false,
     "start_time": "2023-08-08T14:43:36.646913",
     "status": "completed"
    },
    "tags": []
   },
   "source": [
    "### lightGBM"
   ]
  },
  {
   "cell_type": "code",
   "execution_count": 95,
   "id": "7dd0ced8",
   "metadata": {
    "_cell_guid": "23c0edb4-a7ac-4d2c-b0b9-ffa36b88e6a4",
    "_uuid": "e89a5a35-e284-4b61-8f5f-a369ec484779",
    "execution": {
     "iopub.execute_input": "2023-08-08T14:43:36.909843Z",
     "iopub.status.busy": "2023-08-08T14:43:36.909486Z",
     "iopub.status.idle": "2023-08-08T14:43:36.920844Z",
     "shell.execute_reply": "2023-08-08T14:43:36.920006Z"
    },
    "jupyter": {
     "outputs_hidden": false
    },
    "papermill": {
     "duration": 0.101136,
     "end_time": "2023-08-08T14:43:36.922927",
     "exception": false,
     "start_time": "2023-08-08T14:43:36.821791",
     "status": "completed"
    },
    "tags": []
   },
   "outputs": [],
   "source": [
    "\n",
    "def obj_lgbm(trial):\n",
    "    params = {\n",
    "        'boosting_type':'gbdt',\n",
    "        'class_weight':'balanced',\n",
    "        'n_estimators': trial.suggest_int('n_estimators', 100, 2000, step=10),\n",
    "        'reg_alpha': trial.suggest_float('reg_alpha', 0, 100, step=0.1),\n",
    "        'reg_lambda': trial.suggest_float('reg_lambda', 0, 100, step=0.1),\n",
    "        'num_leaves': trial.suggest_int('num_leaves', 2, 64, step=1),\n",
    "        'min_child_samples': trial.suggest_int('min_child_samples', 8, 64, step=1),\n",
    "        'colsample_bytree': trial.suggest_float('colsample_bytree', 0.5, 1.0, step=0.1),\n",
    "        'subsample': trial.suggest_float('subsample', 0.5, 1.0, step=0.1),\n",
    "        'subsample_freq': trial.suggest_int('subsample_freq', 0, 3, step=1),\n",
    "    }\n",
    "    \n",
    "    \n",
    "    model = LGBMClassifier(**params)\n",
    "    \n",
    "    kf = StratifiedKFold(n_splits=5, shuffle=True, random_state=seed)\n",
    "\n",
    "    score = 0\n",
    "    for train_idx, valid_idx in kf.split(df_train, greeks_df.Class):\n",
    "        train_df = df_train.iloc[train_idx]\n",
    "        valid_df = df_train.iloc[valid_idx]\n",
    "        X_train, y_train = train_df[train_df.columns[:-1]], train_df.Class\n",
    "        X_valid, y_valid = valid_df[valid_df.columns[:-1]], valid_df.Class\n",
    "\n",
    "        weights = classes_weights[train_idx]\n",
    "        model.fit(X_train, y_train, sample_weight=weights, \n",
    "#                   eval_set=(X_valid, y_valid), eval_metric=lgb_metric,\n",
    "#                   callbacks=[\n",
    "#                       lightgbm.early_stopping(stopping_rounds=50, verbose=False),\n",
    "#                       lightgbm.log_evaluation(-1),],\n",
    "                 )\n",
    "        y_pred = model.predict_proba(X_valid)\n",
    "        if use_new_pred:\n",
    "            y_pred = calc_new_pred(y_pred)\n",
    "\n",
    "        loss = balanced_log_loss(y_valid, y_pred[:, 1])\n",
    "        score += loss\n",
    "\n",
    "    return score/5"
   ]
  },
  {
   "cell_type": "code",
   "execution_count": 96,
   "id": "822199ec",
   "metadata": {
    "_cell_guid": "338d1e64-f9c0-40e0-ac00-5b47b18a4d46",
    "_uuid": "ad17bc33-47ba-4040-accc-9cb1ee8b82aa",
    "execution": {
     "iopub.execute_input": "2023-08-08T14:43:37.097335Z",
     "iopub.status.busy": "2023-08-08T14:43:37.096415Z",
     "iopub.status.idle": "2023-08-08T14:43:37.102442Z",
     "shell.execute_reply": "2023-08-08T14:43:37.101522Z"
    },
    "jupyter": {
     "outputs_hidden": false
    },
    "papermill": {
     "duration": 0.094577,
     "end_time": "2023-08-08T14:43:37.104644",
     "exception": false,
     "start_time": "2023-08-08T14:43:37.010067",
     "status": "completed"
    },
    "tags": []
   },
   "outputs": [],
   "source": [
    "# def obj_lgbm(trial):\n",
    "#     params = {\n",
    "#         'random_state': trial.suggest_int('random_state', 1, 100, step=1),\n",
    "#         'n' : trial.suggest_int('n', 1, len(df_train.columns)-1, step=1),\n",
    "#         'axis': 1\n",
    "#     }\n",
    "    \n",
    "    \n",
    "#     model = LGBMClassifier(**lgbm_params)\n",
    "    \n",
    "#     kf = StratifiedKFold(n_splits=5, shuffle=True, random_state=seed)\n",
    "\n",
    "#     score = 0\n",
    "#     df_sel = df_train[df_train.columns[:-1]].sample(**params)\n",
    "#     df_sel['Class'] = df_train.Class\n",
    "        \n",
    "#     for train_idx, valid_idx in kf.split(df_sel, greeks_df.Class):\n",
    "#         train_df = df_sel.iloc[train_idx]\n",
    "#         valid_df = df_sel.iloc[valid_idx]\n",
    "#         X_train, y_train = train_df[train_df.columns[:-1]], train_df.Class\n",
    "#         X_valid, y_valid = valid_df[valid_df.columns[:-1]], valid_df.Class\n",
    "        \n",
    "#         weights = classes_weights[train_idx]\n",
    "#         model.fit(X_train, y_train, sample_weight=weights, \n",
    "# #                   eval_set=(X_valid, y_valid), eval_metric=lgb_metric,\n",
    "# #                   callbacks=[\n",
    "# #                       lightgbm.early_stopping(stopping_rounds=50, verbose=False),\n",
    "# #                       lightgbm.log_evaluation(-1),],\n",
    "#                  )\n",
    "#         y_pred = model.predict_proba(X_valid)\n",
    "#         if use_new_pred:\n",
    "#             y_pred = calc_new_pred(y_pred)\n",
    "\n",
    "#         loss = balanced_log_loss(y_valid, y_pred[:, 1])\n",
    "#         score += loss\n",
    "\n",
    "#     return score/5"
   ]
  },
  {
   "cell_type": "code",
   "execution_count": 97,
   "id": "1d87f36d",
   "metadata": {
    "_cell_guid": "29fa0757-5563-4a79-bd1d-ae86aad18890",
    "_uuid": "93bd672d-953a-4d52-a9dc-43c25d7212d3",
    "execution": {
     "iopub.execute_input": "2023-08-08T14:43:37.278613Z",
     "iopub.status.busy": "2023-08-08T14:43:37.278301Z",
     "iopub.status.idle": "2023-08-08T14:43:37.285851Z",
     "shell.execute_reply": "2023-08-08T14:43:37.285010Z"
    },
    "jupyter": {
     "outputs_hidden": false
    },
    "papermill": {
     "duration": 0.095811,
     "end_time": "2023-08-08T14:43:37.287926",
     "exception": false,
     "start_time": "2023-08-08T14:43:37.192115",
     "status": "completed"
    },
    "scrolled": true,
    "tags": []
   },
   "outputs": [
    {
     "data": {
      "text/plain": [
       "{'n_estimators': 1480,\n",
       " 'reg_alpha': 0.1,\n",
       " 'reg_lambda': 9.600000000000001,\n",
       " 'num_leaves': 48,\n",
       " 'min_child_samples': 11,\n",
       " 'colsample_bytree': 0.7,\n",
       " 'subsample': 0.8,\n",
       " 'subsample_freq': 1}"
      ]
     },
     "execution_count": 97,
     "metadata": {},
     "output_type": "execute_result"
    }
   ],
   "source": [
    "# do_opt = False\n",
    "if do_opt :\n",
    "    print(\"----\")\n",
    "    study = optuna.create_study(sampler=optuna.samplers.TPESampler(seed=seed))#direction='minimize')\n",
    "    study.enqueue_trial(lgbm_params)\n",
    "    study.optimize(obj_lgbm, n_trials=200)\n",
    "    lgbm_params = dict(study.best_trial.params.items())\n",
    "lgbm_params"
   ]
  },
  {
   "cell_type": "code",
   "execution_count": 98,
   "id": "90dd0e0c",
   "metadata": {
    "_cell_guid": "3750e6c4-88c5-48d8-868e-a013a35b74d8",
    "_uuid": "8bdfdf54-6b12-4061-8a70-b61aa8c71364",
    "execution": {
     "iopub.execute_input": "2023-08-08T14:43:37.469427Z",
     "iopub.status.busy": "2023-08-08T14:43:37.468457Z",
     "iopub.status.idle": "2023-08-08T14:43:37.477166Z",
     "shell.execute_reply": "2023-08-08T14:43:37.476168Z"
    },
    "jupyter": {
     "outputs_hidden": false
    },
    "papermill": {
     "duration": 0.101336,
     "end_time": "2023-08-08T14:43:37.479098",
     "exception": false,
     "start_time": "2023-08-08T14:43:37.377762",
     "status": "completed"
    },
    "scrolled": true,
    "tags": []
   },
   "outputs": [
    {
     "data": {
      "text/plain": [
       "{'n_estimators': 1260,\n",
       " 'reg_alpha': 0.0,\n",
       " 'reg_lambda': 5.0,\n",
       " 'num_leaves': 45,\n",
       " 'min_child_samples': 21,\n",
       " 'colsample_bytree': 0.9,\n",
       " 'subsample': 0.9,\n",
       " 'subsample_freq': 2}"
      ]
     },
     "execution_count": 98,
     "metadata": {},
     "output_type": "execute_result"
    }
   ],
   "source": [
    "if do_opt :\n",
    "    study = optuna.create_study(sampler=optuna.samplers.TPESampler(seed=seed+1))#direction='minimize')\n",
    "    study.enqueue_trial(lgbm_params2)\n",
    "    study.optimize(obj_lgbm, n_trials=200)\n",
    "    lgbm_params_2 = dict(study.best_trial.params.items())\n",
    "lgbm_params_2"
   ]
  },
  {
   "cell_type": "code",
   "execution_count": 99,
   "id": "feac8772",
   "metadata": {
    "_cell_guid": "f0132c5d-9cb1-4200-896c-1d1c284ac0f7",
    "_uuid": "e6e908f8-66dd-40b8-a970-f878e4977a52",
    "execution": {
     "iopub.execute_input": "2023-08-08T14:43:37.658847Z",
     "iopub.status.busy": "2023-08-08T14:43:37.658029Z",
     "iopub.status.idle": "2023-08-08T14:43:37.667167Z",
     "shell.execute_reply": "2023-08-08T14:43:37.666119Z"
    },
    "jupyter": {
     "outputs_hidden": false
    },
    "papermill": {
     "duration": 0.101075,
     "end_time": "2023-08-08T14:43:37.669588",
     "exception": false,
     "start_time": "2023-08-08T14:43:37.568513",
     "status": "completed"
    },
    "tags": []
   },
   "outputs": [],
   "source": [
    "params = {\n",
    "    'random_state': 17,\n",
    "    'n' : 49,\n",
    "    'axis': 1\n",
    "}   \n",
    "df_sel = df_train[df_train.columns[:-1]].sample(**params)\n",
    "lgb_selected = df_sel.columns\n",
    "lgb_selected\n",
    "lgb_selected = ['DH', 'CC', 'EH', 'BD ', 'CW ', 'FI', 'FC', 'times', 'AB', 'GB', 'DE',\n",
    "       'DA', 'EU', 'EB', 'CU', 'BZ', 'GI', 'BP', 'CR', 'BC', 'DV', 'CF', 'CH',\n",
    "       'EL', 'BR', 'GL', 'BQ', 'AH', 'GE', 'EG', 'AX', 'DI', 'DU', 'EP', 'DL',\n",
    "       'EE', 'DF', 'GH', 'AM', 'DY', 'BN', 'CD ', 'AF', 'AZ', 'FD ', 'CL',\n",
    "       'EJ', 'AR', 'DN']"
   ]
  },
  {
   "cell_type": "code",
   "execution_count": 100,
   "id": "024d6854",
   "metadata": {
    "_cell_guid": "f57f8015-df55-4b91-add3-9f8e5665eb1e",
    "_uuid": "169a125d-8d8e-40b8-b33a-e3a133f31f6d",
    "execution": {
     "iopub.execute_input": "2023-08-08T14:43:37.849798Z",
     "iopub.status.busy": "2023-08-08T14:43:37.849457Z",
     "iopub.status.idle": "2023-08-08T14:43:37.854083Z",
     "shell.execute_reply": "2023-08-08T14:43:37.852963Z"
    },
    "jupyter": {
     "outputs_hidden": false
    },
    "papermill": {
     "duration": 0.097385,
     "end_time": "2023-08-08T14:43:37.856111",
     "exception": false,
     "start_time": "2023-08-08T14:43:37.758726",
     "status": "completed"
    },
    "tags": []
   },
   "outputs": [],
   "source": [
    "# # ['AR', 'CL', 'CS', 'DV', 'EP']\n",
    "# # ['BC', 'BD ', 'BZ']\n",
    "# # ['DU', 'EH', 'FD ']\n",
    "# lgb_selected = ['DH', 'CC', 'CW ', 'FI', 'FC', 'times', 'AB', 'GB', 'DE',\n",
    "#        'DA', 'EU', 'EB', 'CU', 'GI', 'BP', 'CR', 'BC', 'CF', 'CH',\n",
    "#        'EL', 'BR', 'GL', 'BQ', 'AH', 'GE', 'EG', 'AX', 'DI', 'DU', 'DL',\n",
    "#        'EE', 'DF', 'GH', 'AM', 'DY', 'BN', 'CD ', 'AF', 'AZ', \n",
    "#        'EJ', 'AR', 'DN']"
   ]
  },
  {
   "cell_type": "markdown",
   "id": "d0096beb",
   "metadata": {
    "_cell_guid": "2c74dadd-a636-478c-a14b-18f85f5265ed",
    "_uuid": "b1ecaafe-d6b5-4644-b340-f654fbf94fa9",
    "papermill": {
     "duration": 0.093646,
     "end_time": "2023-08-08T14:43:38.037388",
     "exception": false,
     "start_time": "2023-08-08T14:43:37.943742",
     "status": "completed"
    },
    "tags": []
   },
   "source": [
    "### xgboost"
   ]
  },
  {
   "cell_type": "code",
   "execution_count": 101,
   "id": "589fd959",
   "metadata": {
    "_cell_guid": "3dc8e6cb-44d8-4530-bdfa-e8a120a9ccea",
    "_uuid": "041cce00-9885-46ad-9e7a-fdfd09e87131",
    "execution": {
     "iopub.execute_input": "2023-08-08T14:43:38.232313Z",
     "iopub.status.busy": "2023-08-08T14:43:38.231909Z",
     "iopub.status.idle": "2023-08-08T14:43:38.244321Z",
     "shell.execute_reply": "2023-08-08T14:43:38.243375Z"
    },
    "jupyter": {
     "outputs_hidden": false
    },
    "papermill": {
     "duration": 0.112381,
     "end_time": "2023-08-08T14:43:38.246464",
     "exception": false,
     "start_time": "2023-08-08T14:43:38.134083",
     "status": "completed"
    },
    "tags": []
   },
   "outputs": [],
   "source": [
    "def obj_xgb(trial):\n",
    "    params = {\n",
    "        'n_estimators': trial.suggest_int('n_estimators', 100, 1500, step=100),\n",
    "        'max_depth': trial.suggest_int('max_depth', 3, 10),\n",
    "        'learning_rate': trial.suggest_float('learning_rate', 0.001, 0.3, log=True),\n",
    "        'subsample': trial.suggest_float('subsample', 0.5, 1.0),\n",
    "        'colsample_bytree': trial.suggest_float('colsample_bytree', 0.5, 1.0),\n",
    "        'reg_alpha': trial.suggest_float('reg_alpha', 0, 100, step=0.1),\n",
    "        'reg_lambda': trial.suggest_float('reg_lambda', 0, 100, step=0.1),\n",
    "        'gamma': trial.suggest_float('gamma', 0.001, 1.0, log=True),\n",
    "        'objective': 'binary:logistic', \n",
    "        'eval_metric': 'logloss', \n",
    "        'seed': 42\n",
    "    }\n",
    "\n",
    "    model = XGBClassifier(**params)\n",
    "    \n",
    "    kf = StratifiedKFold(n_splits=5, shuffle=True, random_state=seed)\n",
    "\n",
    "    score = 0\n",
    "    for train_idx, valid_idx in kf.split(df_train, greeks_df.Class):\n",
    "        train_df = df_train.iloc[train_idx]\n",
    "        valid_df = df_train.iloc[valid_idx]\n",
    "        X_train, y_train = train_df[train_df.columns[:-1]], train_df.Class\n",
    "        X_valid, y_valid = valid_df[valid_df.columns[:-1]], valid_df.Class\n",
    "\n",
    "        weights = classes_weights[train_idx]\n",
    "        model.fit(X_train, y_train, sample_weight=weights)\n",
    "        y_pred = model.predict_proba(X_valid)\n",
    "        if use_new_pred:\n",
    "            y_pred = calc_new_pred(y_pred)\n",
    "\n",
    "        loss = balanced_log_loss(y_valid, y_pred[:, 1])\n",
    "        score += loss\n",
    "\n",
    "    return score/5\n",
    "    \n",
    "\n",
    "# if do_opt :    \n",
    "#     study = optuna.create_study(sampler=optuna.samplers.TPESampler(seed=seed))#direction='minimize')\n",
    "# #     study.enqueue_trial(xgb_params)\n",
    "#     study.optimize(obj_xgb, n_trials=200)"
   ]
  },
  {
   "cell_type": "code",
   "execution_count": 102,
   "id": "a78b3843",
   "metadata": {
    "_cell_guid": "96d18d52-d145-4072-936a-e88cb9364704",
    "_uuid": "8cf03e76-be11-4106-93f8-2a41a337ba76",
    "execution": {
     "iopub.execute_input": "2023-08-08T14:43:38.424593Z",
     "iopub.status.busy": "2023-08-08T14:43:38.423721Z",
     "iopub.status.idle": "2023-08-08T14:43:38.431793Z",
     "shell.execute_reply": "2023-08-08T14:43:38.430822Z"
    },
    "jupyter": {
     "outputs_hidden": false
    },
    "papermill": {
     "duration": 0.097316,
     "end_time": "2023-08-08T14:43:38.433815",
     "exception": false,
     "start_time": "2023-08-08T14:43:38.336499",
     "status": "completed"
    },
    "scrolled": true,
    "tags": []
   },
   "outputs": [
    {
     "data": {
      "text/plain": [
       "{'n_estimators': 1100,\n",
       " 'max_depth': 10,\n",
       " 'learning_rate': 0.15614514347924224,\n",
       " 'subsample': 0.5914988686475774,\n",
       " 'colsample_bytree': 0.6908905550987483,\n",
       " 'reg_alpha': 0.0,\n",
       " 'reg_lambda': 25.8,\n",
       " 'gamma': 0.01968681003733401}"
      ]
     },
     "execution_count": 102,
     "metadata": {},
     "output_type": "execute_result"
    }
   ],
   "source": [
    "# 0.16646757594509132\n",
    "if do_opt :\n",
    "    study = optuna.create_study(sampler=optuna.samplers.TPESampler(seed=seed))#direction='minimize')\n",
    "    study.optimize(obj_xgb, n_trials=200)\n",
    "    xgb_params = dict(study.best_trial.params.items())\n",
    "xgb_params"
   ]
  },
  {
   "cell_type": "code",
   "execution_count": 103,
   "id": "0fb3b7d2",
   "metadata": {
    "_cell_guid": "d5da8b75-4068-4603-988b-ebe915532dc7",
    "_uuid": "706c03f5-ee89-44ed-87fe-d18f5eae1037",
    "execution": {
     "iopub.execute_input": "2023-08-08T14:43:38.609827Z",
     "iopub.status.busy": "2023-08-08T14:43:38.608824Z",
     "iopub.status.idle": "2023-08-08T14:43:38.616886Z",
     "shell.execute_reply": "2023-08-08T14:43:38.615921Z"
    },
    "jupyter": {
     "outputs_hidden": false
    },
    "papermill": {
     "duration": 0.097908,
     "end_time": "2023-08-08T14:43:38.618841",
     "exception": false,
     "start_time": "2023-08-08T14:43:38.520933",
     "status": "completed"
    },
    "scrolled": true,
    "tags": []
   },
   "outputs": [
    {
     "data": {
      "text/plain": [
       "{'n_estimators': 1400,\n",
       " 'max_depth': 6,\n",
       " 'learning_rate': 0.11874831982593327,\n",
       " 'subsample': 0.6511990698691976,\n",
       " 'colsample_bytree': 0.6701953578639556,\n",
       " 'reg_alpha': 0.0,\n",
       " 'reg_lambda': 29.6,\n",
       " 'gamma': 0.0011405697665625514}"
      ]
     },
     "execution_count": 103,
     "metadata": {},
     "output_type": "execute_result"
    }
   ],
   "source": [
    "if do_opt :\n",
    "    study = optuna.create_study(sampler=optuna.samplers.TPESampler(seed=seed+1))#direction='minimize')\n",
    "    study.optimize(obj_xgb, n_trials=200)\n",
    "    xgb_params_2 = dict(study.best_trial.params.items())\n",
    "xgb_params_2"
   ]
  },
  {
   "cell_type": "markdown",
   "id": "ff57d88e",
   "metadata": {
    "_cell_guid": "6a435f8e-af2c-409e-82bf-2f0040e750b4",
    "_uuid": "0572bf52-36fa-4c24-8db2-f4bb876f4d3d",
    "papermill": {
     "duration": 0.086925,
     "end_time": "2023-08-08T14:43:38.791961",
     "exception": false,
     "start_time": "2023-08-08T14:43:38.705036",
     "status": "completed"
    },
    "tags": []
   },
   "source": [
    "### catboost"
   ]
  },
  {
   "cell_type": "code",
   "execution_count": 104,
   "id": "c9c9f939",
   "metadata": {
    "_cell_guid": "92fe430a-3918-4f42-b108-47d688cdc680",
    "_uuid": "eac45966-37fd-4ddf-8bff-9b86e5c96cd8",
    "execution": {
     "iopub.execute_input": "2023-08-08T14:43:38.970858Z",
     "iopub.status.busy": "2023-08-08T14:43:38.969878Z",
     "iopub.status.idle": "2023-08-08T14:43:38.981579Z",
     "shell.execute_reply": "2023-08-08T14:43:38.980673Z"
    },
    "jupyter": {
     "outputs_hidden": false
    },
    "papermill": {
     "duration": 0.101867,
     "end_time": "2023-08-08T14:43:38.983854",
     "exception": false,
     "start_time": "2023-08-08T14:43:38.881987",
     "status": "completed"
    },
    "tags": []
   },
   "outputs": [],
   "source": [
    "def obj_cb(trial):\n",
    "    params = {\n",
    "        'iterations' : trial.suggest_int('iterations', 50, 300),                         \n",
    "        'depth' : trial.suggest_int('depth', 4, 10),                                       \n",
    "        'learning_rate' : trial.suggest_float('learning_rate', 0.01, 0.2, log=True),               \n",
    "        'random_strength' :trial.suggest_int('random_strength', 0, 100),                       \n",
    "        'bagging_temperature' :trial.suggest_float('bagging_temperature', 0.01, 100.00, log=True), \n",
    "#         'od_type': trial.suggest_categorical('od_type', ['IncToDec', 'Iter']),\n",
    "        'od_wait' :trial.suggest_int('od_wait', 10, 50)\n",
    "    }\n",
    "\n",
    "    \n",
    "    if use_GPU:\n",
    "        model = CatBoostClassifier(**cb_params, task_type=\"GPU\",\n",
    "                                   use_best_model=True)\n",
    "    else:\n",
    "        model = CatBoostClassifier(**params,\n",
    "                                  use_best_model=True)\n",
    "    \n",
    "    kf = StratifiedKFold(n_splits=5, shuffle=True, random_state=seed)\n",
    "\n",
    "    score = 0\n",
    "    for train_idx, valid_idx in kf.split(df_train, greeks_df.Class):\n",
    "        train_df = df_train.iloc[train_idx]\n",
    "        valid_df = df_train.iloc[valid_idx]\n",
    "        X_train, y_train = train_df[train_df.columns[:-1]], train_df.Class\n",
    "        X_valid, y_valid = valid_df[valid_df.columns[:-1]], valid_df.Class\n",
    "\n",
    "        weights = classes_weights[train_idx]\n",
    "        model.fit(X_train, y_train, logging_level=\"Silent\", sample_weight=weights,\n",
    "                 eval_set=(X_valid, y_valid))\n",
    "        y_pred = model.predict_proba(X_valid)\n",
    "        if use_new_pred:\n",
    "            y_pred = calc_new_pred(y_pred)\n",
    "\n",
    "        loss = balanced_log_loss(y_valid, y_pred[:, 1])\n",
    "        score += loss\n",
    "\n",
    "    return score/5\n",
    "\n",
    "# if do_opt :\n",
    "#     study = optuna.create_study(sampler=optuna.samplers.TPESampler(seed=seed))#direction='minimize')\n",
    "# #     study.enqueue_trial(cb_params)\n",
    "#     study.optimize(obj_cb, n_trials=100)"
   ]
  },
  {
   "cell_type": "code",
   "execution_count": 105,
   "id": "57fbf496",
   "metadata": {
    "_cell_guid": "5b138430-1f31-4d65-9cf9-007361268190",
    "_uuid": "603d92d5-7a0f-4ac3-8abc-59ea1d45dabb",
    "execution": {
     "iopub.execute_input": "2023-08-08T14:43:39.162581Z",
     "iopub.status.busy": "2023-08-08T14:43:39.161707Z",
     "iopub.status.idle": "2023-08-08T14:43:39.167262Z",
     "shell.execute_reply": "2023-08-08T14:43:39.166358Z"
    },
    "jupyter": {
     "outputs_hidden": false
    },
    "papermill": {
     "duration": 0.098017,
     "end_time": "2023-08-08T14:43:39.169348",
     "exception": false,
     "start_time": "2023-08-08T14:43:39.071331",
     "status": "completed"
    },
    "tags": []
   },
   "outputs": [],
   "source": [
    "# # 0.3161876744027021\n",
    "# if do_opt :\n",
    "#     cb_params = dict(study.best_trial.params.items())\n",
    "# cb_params"
   ]
  },
  {
   "cell_type": "code",
   "execution_count": 106,
   "id": "0c7ccfaf",
   "metadata": {
    "_cell_guid": "05f58717-8b4f-406a-a385-353797a258a2",
    "_uuid": "9d0a774a-ac56-439d-b641-ebddf47ed48e",
    "execution": {
     "iopub.execute_input": "2023-08-08T14:43:39.343061Z",
     "iopub.status.busy": "2023-08-08T14:43:39.342692Z",
     "iopub.status.idle": "2023-08-08T14:43:39.351022Z",
     "shell.execute_reply": "2023-08-08T14:43:39.350002Z"
    },
    "jupyter": {
     "outputs_hidden": false
    },
    "papermill": {
     "duration": 0.097319,
     "end_time": "2023-08-08T14:43:39.353009",
     "exception": false,
     "start_time": "2023-08-08T14:43:39.255690",
     "status": "completed"
    },
    "scrolled": true,
    "tags": []
   },
   "outputs": [
    {
     "data": {
      "text/plain": [
       "{'iterations': 289,\n",
       " 'depth': 4,\n",
       " 'learning_rate': 0.18768446152569845,\n",
       " 'random_strength': 10,\n",
       " 'bagging_temperature': 20.487227440664658,\n",
       " 'od_wait': 22}"
      ]
     },
     "execution_count": 106,
     "metadata": {},
     "output_type": "execute_result"
    }
   ],
   "source": [
    "if do_opt :\n",
    "    study = optuna.create_study(sampler=optuna.samplers.TPESampler(seed=seed))#direction='minimize')\n",
    "    study.optimize(obj_cb, n_trials=100)\n",
    "    cb_params = dict(study.best_trial.params.items())\n",
    "cb_params"
   ]
  },
  {
   "cell_type": "code",
   "execution_count": 107,
   "id": "48945094",
   "metadata": {
    "_cell_guid": "ff10acc4-b4b4-4bb6-882e-48a7648c753e",
    "_uuid": "0825433b-e99d-4565-b4b3-0d7c82078266",
    "execution": {
     "iopub.execute_input": "2023-08-08T14:43:39.529495Z",
     "iopub.status.busy": "2023-08-08T14:43:39.528522Z",
     "iopub.status.idle": "2023-08-08T14:43:39.537131Z",
     "shell.execute_reply": "2023-08-08T14:43:39.536040Z"
    },
    "jupyter": {
     "outputs_hidden": false
    },
    "papermill": {
     "duration": 0.100071,
     "end_time": "2023-08-08T14:43:39.539327",
     "exception": false,
     "start_time": "2023-08-08T14:43:39.439256",
     "status": "completed"
    },
    "scrolled": true,
    "tags": []
   },
   "outputs": [
    {
     "data": {
      "text/plain": [
       "{'iterations': 250,\n",
       " 'depth': 4,\n",
       " 'learning_rate': 0.1406204176910051,\n",
       " 'random_strength': 69,\n",
       " 'bagging_temperature': 0.02944175723888104,\n",
       " 'od_wait': 40}"
      ]
     },
     "execution_count": 107,
     "metadata": {},
     "output_type": "execute_result"
    }
   ],
   "source": [
    "if do_opt :\n",
    "    study = optuna.create_study(sampler=optuna.samplers.TPESampler(seed=seed+1))#direction='minimize')\n",
    "    study.optimize(obj_cb, n_trials=100)\n",
    "    cb_params_2 = dict(study.best_trial.params.items())\n",
    "cb_params_2"
   ]
  },
  {
   "cell_type": "code",
   "execution_count": null,
   "id": "722dfa17",
   "metadata": {
    "_cell_guid": "78521178-c86e-4cdc-b140-5a2ca1ee7215",
    "_uuid": "ebff8d11-44cb-4b66-b137-42487a87b04a",
    "jupyter": {
     "outputs_hidden": false
    },
    "papermill": {
     "duration": 0.088731,
     "end_time": "2023-08-08T14:43:39.717109",
     "exception": false,
     "start_time": "2023-08-08T14:43:39.628378",
     "status": "completed"
    },
    "tags": []
   },
   "outputs": [],
   "source": []
  },
  {
   "cell_type": "markdown",
   "id": "f92430b4",
   "metadata": {
    "_cell_guid": "fc61db32-7250-4ffa-9332-b0277da1466f",
    "_uuid": "777f5e9a-1c3a-425d-a171-07f8926ee2a5",
    "papermill": {
     "duration": 0.092151,
     "end_time": "2023-08-08T14:43:39.903816",
     "exception": false,
     "start_time": "2023-08-08T14:43:39.811665",
     "status": "completed"
    },
    "tags": []
   },
   "source": [
    "### random forest"
   ]
  },
  {
   "cell_type": "code",
   "execution_count": 108,
   "id": "7a9126f5",
   "metadata": {
    "_cell_guid": "7f7b0f5d-8570-44fd-b0c1-1b64361484af",
    "_uuid": "39c61b8b-69b7-4a17-9913-2ee5909721f9",
    "execution": {
     "iopub.execute_input": "2023-08-08T14:43:40.077619Z",
     "iopub.status.busy": "2023-08-08T14:43:40.077269Z",
     "iopub.status.idle": "2023-08-08T14:43:40.087947Z",
     "shell.execute_reply": "2023-08-08T14:43:40.086857Z"
    },
    "jupyter": {
     "outputs_hidden": false
    },
    "papermill": {
     "duration": 0.100726,
     "end_time": "2023-08-08T14:43:40.090672",
     "exception": false,
     "start_time": "2023-08-08T14:43:39.989946",
     "status": "completed"
    },
    "scrolled": true,
    "tags": []
   },
   "outputs": [],
   "source": [
    "def obj_rf(trial):\n",
    "    params = {\n",
    "        'criterion' :trial.suggest_categorical('criterion', ['gini', 'log_loss', 'entropy']),\n",
    "        'bootstrap' : trial.suggest_categorical('bootstrap',[True, False]),\n",
    "        'max_depth' : trial.suggest_int('max_depth', 1, 1000),\n",
    "        'max_features' : trial.suggest_categorical('max_features', ['sqrt', 'log2', None]),\n",
    "        'max_leaf_nodes' : trial.suggest_int('max_leaf_nodes', 2, 300),\n",
    "        'n_estimators' :  trial.suggest_int('n_estimators', 5, 300),\n",
    "        'min_samples_split' : trial.suggest_int('min_samples_split',2,5),\n",
    "        'min_samples_leaf' : trial.suggest_int('min_samples_leaf',1,10) ,      \n",
    "    }\n",
    "    \n",
    "    \n",
    "    model = RandomForestClassifier(**params)\n",
    "    \n",
    "    kf = StratifiedKFold(n_splits=5, shuffle=True, random_state=seed)\n",
    "\n",
    "    score = 0\n",
    "    for train_idx, valid_idx in kf.split(df_train, greeks_df.Class):\n",
    "        train_df = df_train.iloc[train_idx]\n",
    "        valid_df = df_train.iloc[valid_idx]\n",
    "        X_train, y_train = train_df[train_df.columns[:-1]], train_df.Class\n",
    "        X_valid, y_valid = valid_df[valid_df.columns[:-1]], valid_df.Class\n",
    "\n",
    "        weights = classes_weights[train_idx]\n",
    "        model.fit(X_train, y_train, sample_weight=weights)\n",
    "        y_pred = model.predict_proba(X_valid)\n",
    "        loss = balanced_log_loss(y_valid, y_pred[:, 1])\n",
    "        score += loss\n",
    "\n",
    "    return score/5\n",
    "        \n",
    "if do_opt :    \n",
    "    study = optuna.create_study(sampler=optuna.samplers.TPESampler(seed=seed))#direction='minimize')\n",
    "    study.enqueue_trial(rf_params)\n",
    "    study.optimize(obj_rf, n_trials=200)"
   ]
  },
  {
   "cell_type": "code",
   "execution_count": 109,
   "id": "0a4d7872",
   "metadata": {
    "_cell_guid": "991963c7-efd8-40fc-b062-d5e5cd5c325b",
    "_uuid": "4bfd7f08-8f7e-4d02-a0ee-cb4e4055b5c5",
    "execution": {
     "iopub.execute_input": "2023-08-08T14:43:40.270044Z",
     "iopub.status.busy": "2023-08-08T14:43:40.269701Z",
     "iopub.status.idle": "2023-08-08T14:43:40.276191Z",
     "shell.execute_reply": "2023-08-08T14:43:40.275337Z"
    },
    "jupyter": {
     "outputs_hidden": false
    },
    "papermill": {
     "duration": 0.096336,
     "end_time": "2023-08-08T14:43:40.278056",
     "exception": false,
     "start_time": "2023-08-08T14:43:40.181720",
     "status": "completed"
    },
    "tags": []
   },
   "outputs": [
    {
     "data": {
      "text/plain": [
       "{'criterion': 'entropy',\n",
       " 'bootstrap': False,\n",
       " 'max_depth': 745,\n",
       " 'max_features': 'sqrt',\n",
       " 'max_leaf_nodes': 153,\n",
       " 'n_estimators': 169,\n",
       " 'min_samples_split': 4,\n",
       " 'min_samples_leaf': 7}"
      ]
     },
     "execution_count": 109,
     "metadata": {},
     "output_type": "execute_result"
    }
   ],
   "source": [
    "if do_opt :\n",
    "    rf_params = dict(study.best_trial.params.items())\n",
    "rf_params"
   ]
  },
  {
   "cell_type": "code",
   "execution_count": 110,
   "id": "e47632b6",
   "metadata": {
    "_cell_guid": "89a8a48f-1be9-4e86-9147-9813f9947ad1",
    "_uuid": "08a880f9-cd25-477b-b5d3-9b384d57be37",
    "execution": {
     "iopub.execute_input": "2023-08-08T14:43:40.453041Z",
     "iopub.status.busy": "2023-08-08T14:43:40.452228Z",
     "iopub.status.idle": "2023-08-08T14:43:40.458923Z",
     "shell.execute_reply": "2023-08-08T14:43:40.458032Z"
    },
    "jupyter": {
     "outputs_hidden": false
    },
    "papermill": {
     "duration": 0.095992,
     "end_time": "2023-08-08T14:43:40.460926",
     "exception": false,
     "start_time": "2023-08-08T14:43:40.364934",
     "status": "completed"
    },
    "tags": []
   },
   "outputs": [
    {
     "data": {
      "text/plain": [
       "\"\\nlgbm_params = {'n_estimators': 600,\\n 'reg_alpha': 2.8000000000000003,\\n 'reg_lambda': 12.4,\\n 'num_leaves': 41}\\n \\nxgb_params = {'n_estimators': 800,\\n 'max_depth': 4,\\n 'learning_rate': 0.07321832691960338,\\n 'subsample': 0.7576690053727902,\\n 'colsample_bytree': 0.7481165187056286,\\n 'gamma': 0.4338012239235796}\\n \\ncb_params = {'iterations': 114,\\n 'depth': 4,\\n 'learning_rate': 0.08433020501242801,\\n 'random_strength': 1,\\n 'bagging_temperature': 0.1111714827952525,\\n 'od_wait': 23}\\n\""
      ]
     },
     "execution_count": 110,
     "metadata": {},
     "output_type": "execute_result"
    }
   ],
   "source": [
    "\"\"\"\n",
    "lgbm_params = {'n_estimators': 600,\n",
    " 'reg_alpha': 2.8000000000000003,\n",
    " 'reg_lambda': 12.4,\n",
    " 'num_leaves': 41}\n",
    " \n",
    "xgb_params = {'n_estimators': 800,\n",
    " 'max_depth': 4,\n",
    " 'learning_rate': 0.07321832691960338,\n",
    " 'subsample': 0.7576690053727902,\n",
    " 'colsample_bytree': 0.7481165187056286,\n",
    " 'gamma': 0.4338012239235796}\n",
    " \n",
    "cb_params = {'iterations': 114,\n",
    " 'depth': 4,\n",
    " 'learning_rate': 0.08433020501242801,\n",
    " 'random_strength': 1,\n",
    " 'bagging_temperature': 0.1111714827952525,\n",
    " 'od_wait': 23}\n",
    "\"\"\""
   ]
  },
  {
   "cell_type": "code",
   "execution_count": 111,
   "id": "c2c93def",
   "metadata": {
    "_cell_guid": "ff778bca-b3a0-4ee4-99ab-15f6b96bd6a1",
    "_uuid": "222e8aca-dbf7-444b-80bc-8b149da0f07f",
    "execution": {
     "iopub.execute_input": "2023-08-08T14:43:40.647493Z",
     "iopub.status.busy": "2023-08-08T14:43:40.646728Z",
     "iopub.status.idle": "2023-08-08T14:43:40.652205Z",
     "shell.execute_reply": "2023-08-08T14:43:40.651335Z"
    },
    "jupyter": {
     "outputs_hidden": false
    },
    "papermill": {
     "duration": 0.103599,
     "end_time": "2023-08-08T14:43:40.654389",
     "exception": false,
     "start_time": "2023-08-08T14:43:40.550790",
     "status": "completed"
    },
    "tags": []
   },
   "outputs": [],
   "source": [
    "# lgb = LGBMClassifier(boosting_type='gbdt', class_weight='balanced', colsample_bytree=1.0,\n",
    "#                 importance_type='split', learning_rate=0.1, max_depth=-1,\n",
    "#                 min_child_samples=20, min_child_weight=0.001, min_split_gain=0.0,\n",
    "#                 n_estimators=100, n_jobs=-1, num_leaves=31, objective=\"binary\",\n",
    "#                 random_state=42, reg_alpha=0.0, reg_lambda=0.0, silent='warn',\n",
    "#                 subsample=1.0, subsample_for_bin=200000, subsample_freq=0)\n",
    "# xgb = XGBClassifier(base_score=None, booster='gbtree', callbacks=None,\n",
    "#                colsample_bylevel=None, colsample_bynode=None,\n",
    "#                colsample_bytree=None, early_stopping_rounds=None,\n",
    "#                enable_categorical=False, eval_metric=None, feature_types=None,\n",
    "#                gamma=None, gpu_id=None, grow_policy=None, importance_type=None,\n",
    "#                interaction_constraints=None, learning_rate=None, max_bin=None,\n",
    "#                max_cat_threshold=None, max_cat_to_onehot=None,\n",
    "#                max_delta_step=None, max_depth=None, max_leaves=None,\n",
    "#                min_child_weight=None, monotone_constraints=None,\n",
    "#                n_estimators=100, n_jobs=-1, num_parallel_tree=None,\n",
    "#                objective='binary:logistic', predictor=None)\n",
    "\n",
    "# cb = CatBoostClassifier()\n",
    "# tab = TabPFNClassifier(N_ensemble_configurations=64)"
   ]
  },
  {
   "cell_type": "code",
   "execution_count": null,
   "id": "67f887b4",
   "metadata": {
    "_cell_guid": "8e1df95f-15af-4984-8f85-94c62bb27660",
    "_uuid": "3e48bb1f-ae7a-458c-8194-4c1becf08a7b",
    "jupyter": {
     "outputs_hidden": false
    },
    "papermill": {
     "duration": 0.086749,
     "end_time": "2023-08-08T14:43:40.828304",
     "exception": false,
     "start_time": "2023-08-08T14:43:40.741555",
     "status": "completed"
    },
    "tags": []
   },
   "outputs": [],
   "source": []
  },
  {
   "cell_type": "code",
   "execution_count": 112,
   "id": "8e6949c2",
   "metadata": {
    "_cell_guid": "c186aafb-3202-431d-b836-2780fd41b4bb",
    "_uuid": "37b1d755-bff5-46f3-a9a3-315e203ef1fe",
    "execution": {
     "iopub.execute_input": "2023-08-08T14:43:41.006320Z",
     "iopub.status.busy": "2023-08-08T14:43:41.005654Z",
     "iopub.status.idle": "2023-08-08T14:43:41.010807Z",
     "shell.execute_reply": "2023-08-08T14:43:41.009929Z"
    },
    "jupyter": {
     "outputs_hidden": false
    },
    "papermill": {
     "duration": 0.095584,
     "end_time": "2023-08-08T14:43:41.012766",
     "exception": false,
     "start_time": "2023-08-08T14:43:40.917182",
     "status": "completed"
    },
    "tags": []
   },
   "outputs": [],
   "source": [
    "from sklearn.ensemble import RandomForestClassifier, AdaBoostClassifier"
   ]
  },
  {
   "cell_type": "code",
   "execution_count": 113,
   "id": "e1ca0a46",
   "metadata": {
    "_cell_guid": "45da3d16-e985-4b2a-991d-572c42dd69bb",
    "_uuid": "9e742320-5406-4c95-8f30-0402ba3a65f6",
    "execution": {
     "iopub.execute_input": "2023-08-08T14:43:41.188061Z",
     "iopub.status.busy": "2023-08-08T14:43:41.187732Z",
     "iopub.status.idle": "2023-08-08T14:43:41.940581Z",
     "shell.execute_reply": "2023-08-08T14:43:41.939126Z"
    },
    "jupyter": {
     "outputs_hidden": false
    },
    "papermill": {
     "duration": 0.84406,
     "end_time": "2023-08-08T14:43:41.942784",
     "exception": false,
     "start_time": "2023-08-08T14:43:41.098724",
     "status": "completed"
    },
    "tags": []
   },
   "outputs": [
    {
     "name": "stdout",
     "output_type": "stream",
     "text": [
      "Loading model that can be used for inference only\n",
      "Using a Transformer with 25.82 M parameters\n",
      "Loading model that can be used for inference only\n",
      "Using a Transformer with 25.82 M parameters\n"
     ]
    }
   ],
   "source": [
    "lgb = LGBMClassifier(boosting_type='gbdt', class_weight='balanced', **lgbm_params)\n",
    "lgb2 = LGBMClassifier(boosting_type='gbdt', class_weight='balanced', **lgbm_params_2)\n",
    "\n",
    "xgb = XGBClassifier(\n",
    "    objective = 'binary:logistic', \n",
    "    eval_metric = 'logloss', \n",
    "    **xgb_params,\n",
    ")\n",
    "\n",
    "xgb2 = XGBClassifier(\n",
    "    objective = 'binary:logistic', \n",
    "    eval_metric = 'logloss', \n",
    "    **xgb_params_2,\n",
    ")\n",
    "\n",
    "\n",
    "rf = RandomForestClassifier(**rf_params)\n",
    "# rf = AdaBoostClassifier()\n",
    "\n",
    "if use_GPU:\n",
    "    cb = CatBoostClassifier(**cb_params, task_type=\"GPU\")\n",
    "    cb2 = CatBoostClassifier(**cb_params_2, task_type=\"GPU\")\n",
    "\n",
    "    tab = TabPFNClassifier(N_ensemble_configurations=64, device='cuda:0')\n",
    "    tab2 = TabPFNClassifier(N_ensemble_configurations=32, device='cuda:0')\n",
    "else:\n",
    "    cb = CatBoostClassifier(**cb_params)\n",
    "    cb2 = CatBoostClassifier(**cb_params_2)\n",
    "\n",
    "    tab = TabPFNClassifier(N_ensemble_configurations=32)\n",
    "    tab2 = TabPFNClassifier(N_ensemble_configurations=32)\n",
    "\n",
    "# knn = KNeighborsClassifier(n_neighbors=64, metric='euclidean')\n",
    "knn = KNeighborsClassifier(n_neighbors=109, metric='cosine')\n",
    "knn2 = KNeighborsClassifier(n_neighbors=109, metric='cosine')"
   ]
  },
  {
   "cell_type": "code",
   "execution_count": 114,
   "id": "2776228e",
   "metadata": {
    "_cell_guid": "b53bd098-6c90-473c-a139-606e26d851ae",
    "_uuid": "302d8bdb-f663-4a74-a2e3-04a64fcbaca1",
    "execution": {
     "iopub.execute_input": "2023-08-08T14:43:42.123034Z",
     "iopub.status.busy": "2023-08-08T14:43:42.122657Z",
     "iopub.status.idle": "2023-08-08T14:43:42.130058Z",
     "shell.execute_reply": "2023-08-08T14:43:42.129176Z"
    },
    "jupyter": {
     "outputs_hidden": false
    },
    "papermill": {
     "duration": 0.099744,
     "end_time": "2023-08-08T14:43:42.132230",
     "exception": false,
     "start_time": "2023-08-08T14:43:42.032486",
     "status": "completed"
    },
    "tags": []
   },
   "outputs": [],
   "source": [
    "# def obj_knn(trial):\n",
    "#     params = {\n",
    "#         'size' : trial.suggest_int('size', 8, 400),\n",
    "#     }\n",
    "    \n",
    "\n",
    "#     kf = StratifiedKFold(n_splits=5, shuffle=True, random_state=seed)\n",
    "# #     kf = MultilabelStratifiedKFold(n_splits=5 , shuffle=True, random_state=seed)\n",
    "#     score = 0\n",
    "    \n",
    "#     knn = KNeighborsClassifier(n_neighbors=params['size'], metric='cosine')\n",
    "\n",
    "    \n",
    "#     for idx, (train_idx, valid_idx) in enumerate(kf.split(df_train, greeks_df.Class)):\n",
    "#         train_df = df_train.iloc[train_idx]\n",
    "#         valid_df = df_train.iloc[valid_idx]\n",
    "#         X_train, y_train = train_df[train_df.columns[:-1]], train_df.Class\n",
    "#         X_valid, y_valid = valid_df[valid_df.columns[:-1]], valid_df.Class\n",
    "\n",
    "#         weights = classes_weights[train_idx]\n",
    "#         weights2 = classes_weights2[train_idx]\n",
    "\n",
    "\n",
    "#         X = torch.Tensor(train_df[valid_df.columns[:-2]].to_numpy()).to(device)\n",
    "#         with torch.no_grad():\n",
    "#             _, features_train = nn_models[idx](X, None)\n",
    "\n",
    "#         X = torch.Tensor(valid_df[valid_df.columns[:-2]].to_numpy()).to(device)\n",
    "#         with torch.no_grad():\n",
    "#             y_nn, features_valid = nn_models[idx](X, None)\n",
    "#         y_nn = F.softmax(y_nn, dim=1).cpu().detach().numpy()   \n",
    "\n",
    "#         features_train = features_train.detach().cpu().numpy()\n",
    "#         features_valid = features_valid.detach().cpu().numpy()\n",
    "#         X_train2 = features_train #np.hstack([X_train.to_numpy(), features_train])\n",
    "#         X_valid2 = features_valid #np.hstack([X_valid.to_numpy(), features_valid])\n",
    "#         knn.fit(X_train2, y_train)\n",
    "#         y_xxx = knn.predict_proba(X_valid2)\n",
    "#         y_xxx = calc_new_pred(y_xxx)\n",
    "        \n",
    "        \n",
    "#         e_loss = balanced_log_loss(y_valid, y_xxx[:, 1])\n",
    "    \n",
    "#         score += e_loss \n",
    "\n",
    "#     return score/5\n",
    "    \n",
    "    \n",
    "# study = optuna.create_study(sampler=optuna.samplers.TPESampler(seed=seed))#direction='minimize')\n",
    "# study.optimize(obj_knn, n_trials=100)\n",
    "# study.best_trial.params.items()"
   ]
  },
  {
   "cell_type": "markdown",
   "id": "5fc19bc7",
   "metadata": {
    "_cell_guid": "3997e710-290d-40b4-9dbe-96a95666009d",
    "_uuid": "bd35c769-aa6c-430a-b815-7876ada3d623",
    "papermill": {
     "duration": 0.088984,
     "end_time": "2023-08-08T14:43:42.310127",
     "exception": false,
     "start_time": "2023-08-08T14:43:42.221143",
     "status": "completed"
    },
    "tags": []
   },
   "source": [
    "## calc cv (5 fold)"
   ]
  },
  {
   "cell_type": "code",
   "execution_count": null,
   "id": "315f303a",
   "metadata": {
    "_cell_guid": "b1aa40f6-005e-40d2-97ce-3bdb40f4f578",
    "_uuid": "c766c61f-d476-42c3-b82d-793e383c1c36",
    "jupyter": {
     "outputs_hidden": false
    },
    "papermill": {
     "duration": 0.085503,
     "end_time": "2023-08-08T14:43:42.483526",
     "exception": false,
     "start_time": "2023-08-08T14:43:42.398023",
     "status": "completed"
    },
    "tags": []
   },
   "outputs": [],
   "source": []
  },
  {
   "cell_type": "code",
   "execution_count": 115,
   "id": "f6a70c20",
   "metadata": {
    "_cell_guid": "00ccf211-013e-44e8-be1e-3cbae32fd44a",
    "_uuid": "09df8a5e-8871-4c54-a64b-4661a6024bb8",
    "execution": {
     "iopub.execute_input": "2023-08-08T14:43:42.660728Z",
     "iopub.status.busy": "2023-08-08T14:43:42.660357Z",
     "iopub.status.idle": "2023-08-08T14:46:10.143259Z",
     "shell.execute_reply": "2023-08-08T14:46:10.141845Z"
    },
    "jupyter": {
     "outputs_hidden": false
    },
    "papermill": {
     "duration": 147.575761,
     "end_time": "2023-08-08T14:46:10.145865",
     "exception": false,
     "start_time": "2023-08-08T14:43:42.570104",
     "status": "completed"
    },
    "tags": []
   },
   "outputs": [
    {
     "name": "stdout",
     "output_type": "stream",
     "text": [
      "lgbm..\n",
      "lgbm2..\n",
      "xgboost..\n",
      "xgboost2..\n",
      "catboost..\n",
      "catboost2..\n",
      "random forest..\n",
      "nn...\n",
      "xxx..\n",
      "nn2...\n",
      "xxx2..\n",
      "TabPFN..\n",
      "TabPFN2..\n",
      "lgb 0.17050281690721633 lgb2 0.1535024596800222 xgb 0.15750251890338945 xgb2 0.143713988459658 catboost 0.20928058007148373 catboost2 0.22629431886151213 rf 0.3176250533199889 nn 0.23968630312729433 nn2 0.22852036537318957 xxx 0.19266077691574432 xxx2 0.2680504324822319 TabPFN 0.21790737950410624 TabPFN2 0.22729486858159112\n",
      "--> ensamble 0.15696087125220032\n",
      "lgbm..\n",
      "lgbm2..\n",
      "xgboost..\n",
      "xgboost2..\n",
      "catboost..\n",
      "catboost2..\n",
      "random forest..\n",
      "nn...\n",
      "xxx..\n",
      "nn2...\n",
      "xxx2..\n",
      "TabPFN..\n",
      "TabPFN2..\n",
      "lgb 0.13751203597993283 lgb2 0.15019513557065844 xgb 0.20907228122790283 xgb2 0.23984001143061034 catboost 0.2225526884474645 catboost2 0.2295513170260254 rf 0.3047051385761836 nn 0.13940624795623566 nn2 0.22242247961197964 xxx 0.1738178476185251 xxx2 0.17314624691553987 TabPFN 0.1668181893374958 TabPFN2 0.14095345252746164\n",
      "--> ensamble 0.06625801343956021\n",
      "lgbm..\n",
      "lgbm2..\n",
      "xgboost..\n",
      "xgboost2..\n",
      "catboost..\n",
      "catboost2..\n",
      "random forest..\n",
      "nn...\n",
      "xxx..\n",
      "nn2...\n",
      "xxx2..\n",
      "TabPFN..\n",
      "TabPFN2..\n",
      "lgb 0.38950803296190156 lgb2 0.47550542865695294 xgb 0.3723610984521102 xgb2 0.44581028874218914 catboost 0.48588196702902053 catboost2 0.46233566077084126 rf 0.4254573196050562 nn 0.48201105096902713 nn2 0.3493207611891093 xxx 0.3535024958992311 xxx2 1.071105245730895 TabPFN 0.4564303330596103 TabPFN2 0.5374576709312681\n",
      "--> ensamble 0.2602161001590619\n",
      "lgbm..\n",
      "lgbm2..\n",
      "xgboost..\n",
      "xgboost2..\n",
      "catboost..\n",
      "catboost2..\n",
      "random forest..\n",
      "nn...\n",
      "xxx..\n",
      "nn2...\n",
      "xxx2..\n",
      "TabPFN..\n",
      "TabPFN2..\n",
      "lgb 0.1431243648304632 lgb2 0.1787198494515087 xgb 0.1335780820326559 xgb2 0.15680721395823122 catboost 0.17940924942321063 catboost2 0.15878765958397167 rf 0.3222413257635569 nn 0.25245653216028496 nn2 0.2636487992199529 xxx 0.22006825733984853 xxx2 0.22043171062415423 TabPFN 0.20968639896350635 TabPFN2 0.20008611154653208\n",
      "--> ensamble 0.09956555417029231\n",
      "lgbm..\n",
      "lgbm2..\n",
      "xgboost..\n",
      "xgboost2..\n",
      "catboost..\n",
      "catboost2..\n",
      "random forest..\n",
      "nn...\n",
      "xxx..\n",
      "nn2...\n",
      "xxx2..\n",
      "TabPFN..\n",
      "TabPFN2..\n",
      "lgb 0.07210105684595217 lgb2 0.06299814106907531 xgb 0.1078328613742223 xgb2 0.09770805530065976 catboost 0.10936874526961797 catboost2 0.08766280293400205 rf 0.2798415879247454 nn 0.453787988282085 nn2 0.18642405598025066 xxx 0.4385940310976634 xxx2 0.2862005145616208 TabPFN 0.24705220608323514 TabPFN2 0.21672476854066813\n",
      "--> ensamble 0.10986118544905617\n",
      "0.1385723448940342\n"
     ]
    }
   ],
   "source": [
    "a = [0.2, 1.8, 1.9, 1.3, 0.2, 0.0, 0.0, 0.0, 0.0, 0.3, 0.1, 0.0, 0.0]\n",
    "a = [1.81, 1.79, 1.42, 0.92, 0.28, 0.13, 0.0, 0.07, 0.23, 0.25, 0.04, 0.07, 0.04]\n",
    "a = [1.95, 1.91, 1.85, 1.36, 0.18, 0.25, 0.06, 0.09, 0.03, 0.0, 1.4, 0.06, 0.03]\n",
    "\n",
    "xxx_alpha, xxx_th0, xxx_th1 =  6.0, 0.66, 0.96\n",
    "\n",
    "def check_best(score, model, cur_best) :\n",
    "    best_score, best_model = cur_best[0], cur_best[1]\n",
    "    if best_score > score :\n",
    "        best_model = model\n",
    "        best_score = score\n",
    "    return [best_score, best_model]\n",
    "\n",
    "inf = 10**10\n",
    "\n",
    "best_model = {\n",
    "    'lgb': [inf, None],\n",
    "    'lgb2': [inf, None],\n",
    "    'xgb' : [inf, None],\n",
    "    'xgb2' : [inf, None],\n",
    "    'cb' : [inf, None],\n",
    "    'cb2' : [inf, None],\n",
    "    'rf' : [inf, None],\n",
    "    'knn' :[inf, None],\n",
    "    'knn2' :[inf, None],\n",
    "    'tab' : [inf, None],    \n",
    "    'tab2' : [inf, None],    \n",
    "}\n",
    "\n",
    "if check_CV:\n",
    "    kf = StratifiedKFold(n_splits=5, shuffle=True, random_state=seed)\n",
    "#     kf = MultilabelStratifiedKFold(n_splits=5 , shuffle=True, random_state=seed)\n",
    "    score = 0\n",
    "    \n",
    "    \n",
    "    y_preds = []\n",
    "    y_true = []\n",
    "    y_len = []\n",
    "    \n",
    "    y_results = [[] for _ in range(5)]\n",
    "    y_valids = []\n",
    "    \n",
    "    for idx, (train_idx, valid_idx) in enumerate(kf.split(df_train, greeks_df.Class)):\n",
    "        train_df = df_train.iloc[train_idx]\n",
    "        valid_df = df_train.iloc[valid_idx]\n",
    "        X_train, y_train = train_df[train_df.columns[:-1]], train_df.Class\n",
    "        X_valid, y_valid = valid_df[valid_df.columns[:-1]], valid_df.Class\n",
    "\n",
    "    #     # SMOTETomek\n",
    "    #     if use_SMOTE:\n",
    "    #         sm = SMOTETomek(random_state=57)\n",
    "    #         X_train, y_train = sm.fit_resample(X_train, y_train)\n",
    "    #         weights = compute_sample_weight(class_weight='balanced',y=y_train)                              \n",
    "    #     else:\n",
    "        weights = classes_weights[train_idx]\n",
    "        weights2 = classes_weights2[train_idx]\n",
    "\n",
    "\n",
    "        print(\"lgbm..\")\n",
    "        lgb.fit(X_train[lgb_selected], y_train, sample_weight=weights)\n",
    "        y_lgb = lgb.predict_proba(X_valid[lgb_selected])\n",
    "        print(\"lgbm2..\")\n",
    "        lgb2.fit(X_train, y_train, sample_weight=weights2)\n",
    "        y_lgb2 = lgb2.predict_proba(X_valid)\n",
    "        \n",
    "        print(\"xgboost..\")    \n",
    "        xgb.fit(X_train[lgb_selected], y_train, sample_weight=weights)\n",
    "        y_xgb = xgb.predict_proba(X_valid[lgb_selected])\n",
    "        print(\"xgboost2..\")    \n",
    "        xgb2.fit(X_train, y_train, sample_weight=weights2)\n",
    "        y_xgb2 = xgb2.predict_proba(X_valid)\n",
    "        \n",
    "        \n",
    "        print(\"catboost..\")\n",
    "        cb.fit(X_train[lgb_selected], y_train, logging_level=\"Silent\", sample_weight=weights)\n",
    "        y_cb = cb.predict_proba(X_valid[lgb_selected])\n",
    "        print(\"catboost2..\")\n",
    "        cb2.fit(X_train, y_train, logging_level=\"Silent\", sample_weight=weights2)\n",
    "        y_cb2 = cb2.predict_proba(X_valid)\n",
    "        \n",
    "        \n",
    "        \n",
    "        print(\"random forest..\")\n",
    "        rf.fit(X_train, y_train, sample_weight=weights)\n",
    "        y_rf = rf.predict_proba(X_valid)\n",
    "        \n",
    "\n",
    "        print(\"nn...\")\n",
    "        X = torch.Tensor(train_df[valid_df.columns[:-2]].to_numpy()).to(device)\n",
    "        with torch.no_grad():\n",
    "            _, features_train = nn_models[idx](X, None)\n",
    "\n",
    "        X = torch.Tensor(valid_df[valid_df.columns[:-2]].to_numpy()).to(device)\n",
    "        with torch.no_grad():\n",
    "            y_nn, features_valid = nn_models[idx](X, None)\n",
    "        y_nn = F.softmax(y_nn, dim=1).cpu().detach().numpy()   \n",
    "\n",
    "        print(\"xxx..\")\n",
    "        features_train = features_train.detach().cpu().numpy()\n",
    "        features_valid = features_valid.detach().cpu().numpy()\n",
    "        X_train2 = features_train #np.hstack([X_train.to_numpy(), features_train])\n",
    "        X_valid2 = features_valid #np.hstack([X_valid.to_numpy(), features_valid])\n",
    "        knn.fit(X_train2, y_train)\n",
    "        y_xxx = knn.predict_proba(X_valid2)\n",
    "        y_xxx = calc_new_pred(y_xxx)\n",
    "\n",
    "        \n",
    "#         print(\"xxx2..\")\n",
    "#         knn2.fit(X_train2, y_train)#, sample_weight=weights)\n",
    "#         y_xxx2 = knn2.predict_proba(X_valid2)\n",
    "#         y_xxx2 = calc_new_pred(y_xxx2)\n",
    "\n",
    "        print(\"nn2...\")\n",
    "        X = torch.Tensor(train_df[valid_df.columns[:-2]].to_numpy()).to(device)\n",
    "        with torch.no_grad():\n",
    "            _, features_train = nn_models2[idx](X, None)\n",
    "\n",
    "        X = torch.Tensor(valid_df[valid_df.columns[:-2]].to_numpy()).to(device)\n",
    "        with torch.no_grad():\n",
    "            y_nn2, features_valid = nn_models2[idx](X, None)\n",
    "        y_nn2 = F.softmax(y_nn2, dim=1).cpu().detach().numpy()    \n",
    "        \n",
    "        print(\"xxx2..\")\n",
    "        features_train = features_train.detach().cpu().numpy()\n",
    "        features_valid = features_valid.detach().cpu().numpy()\n",
    "        X_train2 = features_train #np.hstack([X_train.to_numpy(), features_train])\n",
    "        X_valid2 = features_valid #np.hstack([X_valid.to_numpy(), features_valid])\n",
    "        knn2.fit(X_train2, y_train)#, sample_weight=weights)\n",
    "        y_xxx2 = knn2.predict_proba(X_valid2)\n",
    "        y_xxx2 = calc_new_pred(y_xxx2)\n",
    "        \n",
    "        # ------ noscale data\n",
    "        train_df = df_train_noscale.iloc[train_idx]\n",
    "        valid_df = df_train_noscale.iloc[valid_idx]\n",
    "        X_train, y_train = train_df[train_df.columns[:-1]], train_df.Class\n",
    "        X_valid, y_valid = valid_df[valid_df.columns[:-1]], valid_df.Class\n",
    "        print(\"TabPFN..\")\n",
    "        tab.fit(X_train[lgb_selected], y_train)\n",
    "        y_tab = tab.predict_proba(X_valid[lgb_selected])\n",
    "        y_tab = calc_new_pred(y_tab)\n",
    "        print(\"TabPFN2..\")\n",
    "        tab2.fit(X_train, y_train)\n",
    "        y_tab2 = tab2.predict_proba(X_valid)\n",
    "        y_tab2 = calc_new_pred(y_tab2)\n",
    "        \n",
    "        lgb_loss = balanced_log_loss(y_valid, y_lgb[:, 1])\n",
    "        lgb2_loss = balanced_log_loss(y_valid, y_lgb2[:, 1])\n",
    "        \n",
    "        xgb_loss = balanced_log_loss(y_valid, y_xgb[:, 1])\n",
    "        xgb2_loss = balanced_log_loss(y_valid, y_xgb2[:, 1])\n",
    "\n",
    "        cb_loss = balanced_log_loss(y_valid, y_cb[:, 1])\n",
    "        cb2_loss = balanced_log_loss(y_valid, y_cb2[:, 1])\n",
    "        \n",
    "    \n",
    "        rf_loss = balanced_log_loss(y_valid, y_rf[:, 1])\n",
    "        nn_loss = balanced_log_loss(y_valid, y_nn[:, 1])\n",
    "        nn2_loss = balanced_log_loss(y_valid, y_nn2[:, 1])\n",
    "\n",
    "        xxx_loss = balanced_log_loss(y_valid, y_xxx[:, 1])\n",
    "        xxx2_loss = balanced_log_loss(y_valid, y_xxx2[:, 1])\n",
    "\n",
    "        tab_loss = balanced_log_loss(y_valid, y_tab[:, 1])\n",
    "        tab2_loss = balanced_log_loss(y_valid, y_tab2[:, 1])\n",
    "        \n",
    "        #-------------------------------------------\n",
    "        best_model['lgb'] = check_best(lgb_loss, lgb, best_model['lgb']) \n",
    "        best_model['lgb2'] = check_best(lgb2_loss, lgb2, best_model['lgb2'])\n",
    "\n",
    "        best_model['xgb'] = check_best(xgb_loss, xgb, best_model['xgb'])\n",
    "        best_model['xgb2'] = check_best(xgb2_loss, xgb2, best_model['xgb2']) \n",
    "\n",
    "        best_model['cb'] = check_best(cb_loss, cb, best_model['cb']) \n",
    "        best_model['cb2'] = check_best(cb2_loss, cb2, best_model['cb2']) \n",
    "\n",
    "        best_model['rf'] = check_best(rf_loss, rf, best_model['rf']) \n",
    "\n",
    "        best_model['knn'] = check_best(xxx_loss, knn, best_model['knn']) \n",
    "        best_model['knn2'] = check_best(xxx2_loss, knn2, best_model['knn2']) \n",
    "\n",
    "        best_model['tab'] = check_best(tab_loss, tab, best_model['tab']) \n",
    "        best_model['tab2'] = check_best(tab2_loss, tab2, best_model['tab2']) \n",
    "        #-------------------------------------------\n",
    "\n",
    "\n",
    "#         pred = ((y_lgb + y_xgb + y_cb)/3 + y_rf + y_nn + y_tab)/4\n",
    "        #       b   r.   nn. k  tab\n",
    "\n",
    "        y_results[idx].append(y_lgb)\n",
    "        y_results[idx].append(y_lgb2)\n",
    "        y_results[idx].append(y_xgb)\n",
    "        y_results[idx].append(y_xgb2)\n",
    "        y_results[idx].append(y_cb)\n",
    "        y_results[idx].append(y_cb2)\n",
    "        y_results[idx].append(y_rf)\n",
    "        y_results[idx].append(y_nn)\n",
    "        y_results[idx].append(y_nn2)\n",
    "        y_results[idx].append(y_xxx)\n",
    "        y_results[idx].append(y_xxx2)\n",
    "        y_results[idx].append(y_tab)\n",
    "        y_results[idx].append(y_tab2)\n",
    "        y_valids.append(y_valid)\n",
    "    \n",
    "        pred = (\n",
    "            y_lgb * a[0] + \n",
    "            y_lgb2* a[1] + \n",
    "            y_xgb * a[2] + \n",
    "            y_xgb2 * a[3] + \n",
    "            y_cb * a[4] + \n",
    "            y_cb2 * a[5] + \n",
    "            y_rf * a[6] + \n",
    "            y_nn * a[7] + \n",
    "            y_nn2 * a[8] + \n",
    "            y_xxx * a[9] + \n",
    "            y_xxx2 * a[10] +\n",
    "            y_tab * a[11] +\n",
    "            y_tab2 * a[12]) /sum(a)\n",
    "\n",
    "                       \n",
    "        p0 = pred[:, 0]\n",
    "        p0 = sigmoid((p0-0.5)*xxx_alpha)\n",
    "#         p0 = sigmoid((p0-0.5)*6.98)\n",
    "        p0 = (p0 - min(p0))/(max(p0)-min(p0)+1e-15)\n",
    "\n",
    "#         p0 = np.clip(p0, 0.0001, 0.9999)\n",
    "#         p0[p0 > 0.99] = 1\n",
    "#         p0[p0 < 0.01] = 0\n",
    "                \n",
    "\n",
    "        # 　全モデルが同じ選択の場合は、正解とする(y_rf除く)\n",
    "        th_c0 = xxx_th0\n",
    "        sel0 = (y_lgb > th_c0)&(y_lgb2 > th_c0)&(y_xgb > th_c0)&(y_xgb2 > th_c0)&(y_cb > th_c0)&(y_cb2 > th_c0)&\\\n",
    "                (y_nn > th_c0)&(y_xxx > th_c0)&(y_xxx > th_c0)&(y_tab > th_c0)&(y_tab > th_c0)\n",
    "        th_c1 = xxx_th1\n",
    "        sel1 = (y_lgb > th_c1)&(y_lgb2 > th_c1)&(y_xgb > th_c1)&(y_xgb2 > th_c1)&(y_cb > th_c1)&(y_cb2 > th_c1)&\\\n",
    "                (y_nn > th_c1)&(y_xxx > th_c1)&(y_xxx > th_c1)&(y_tab > th_c1)&(y_tab > th_c1)\n",
    "        p0[sel0[:, 0]] = 1\n",
    "        p0[sel1[:, 1]] = 0\n",
    "\n",
    "        pred[:,1] = 1-p0\n",
    "        pred[:,0] = p0            \n",
    "        \n",
    "        if use_new_pred:\n",
    "            pred = calc_new_pred(pred)\n",
    "\n",
    "        \n",
    "        y_len.append(len(valid_df))\n",
    "        if len(y_preds) == 0 :\n",
    "            y_preds = np.concatenate([y_lgb, y_lgb2, y_xgb ,y_xgb2, y_cb, y_cb2, \n",
    "                                      y_rf, y_nn, y_nn2,  y_xxx, y_xxx2, y_tab, y_tab2, pred], axis=1)\n",
    "            y_true = y_valid.to_numpy()\n",
    "        else:\n",
    "            y_preds = np.vstack([y_preds, np.concatenate([y_lgb, y_lgb2, y_xgb ,y_xgb2, y_cb, y_cb2, \n",
    "                                      y_rf, y_nn, y_nn2,  y_xxx, y_xxx2, y_tab, y_tab2, pred], axis=1)])\n",
    "            y_true = np.hstack([y_true, y_valid.to_numpy()])\n",
    "       \n",
    "         \n",
    "        e_loss = balanced_log_loss(y_valid, pred[:, 1])\n",
    "        score += e_loss \n",
    "        print(\"lgb\", lgb_loss, \"lgb2\", lgb2_loss,\n",
    "              \"xgb\", xgb_loss, \"xgb2\", xgb2_loss, \n",
    "              \"catboost\", cb_loss, \"catboost2\", cb2_loss, \n",
    "              \"rf\", rf_loss,\n",
    "              \"nn\", nn_loss, \"nn2\", nn2_loss, \n",
    "              \"xxx\", xxx_loss, \"xxx2\", xxx2_loss, \n",
    "              \"TabPFN\", tab_loss,  \"TabPFN2\", tab2_loss)\n",
    "        print(\"--> ensamble\", e_loss)\n",
    "\n",
    "    print(score/5)\n",
    "    \n",
    "#0.1259729315189732\n",
    "#0.1284580855726015"
   ]
  },
  {
   "cell_type": "code",
   "execution_count": 116,
   "id": "e0776499",
   "metadata": {
    "_cell_guid": "6a0b34e2-6a3a-4eb3-8e9c-397b24b90bcb",
    "_uuid": "4929cb7b-1f45-4d59-827a-107a05a4c10f",
    "execution": {
     "iopub.execute_input": "2023-08-08T14:46:10.337043Z",
     "iopub.status.busy": "2023-08-08T14:46:10.335502Z",
     "iopub.status.idle": "2023-08-08T14:46:10.340874Z",
     "shell.execute_reply": "2023-08-08T14:46:10.340015Z"
    },
    "jupyter": {
     "outputs_hidden": false
    },
    "papermill": {
     "duration": 0.099433,
     "end_time": "2023-08-08T14:46:10.342849",
     "exception": false,
     "start_time": "2023-08-08T14:46:10.243416",
     "status": "completed"
    },
    "tags": []
   },
   "outputs": [],
   "source": [
    "#0.1385192201624788"
   ]
  },
  {
   "cell_type": "code",
   "execution_count": 117,
   "id": "ebbc9c0a",
   "metadata": {
    "_cell_guid": "9cf10314-eaec-44d0-b4c5-ba2aeba79441",
    "_uuid": "89c22f84-219c-4d00-823c-b06a1f532041",
    "execution": {
     "iopub.execute_input": "2023-08-08T14:46:10.525169Z",
     "iopub.status.busy": "2023-08-08T14:46:10.523467Z",
     "iopub.status.idle": "2023-08-08T14:46:10.542932Z",
     "shell.execute_reply": "2023-08-08T14:46:10.541928Z"
    },
    "jupyter": {
     "outputs_hidden": false
    },
    "papermill": {
     "duration": 0.114083,
     "end_time": "2023-08-08T14:46:10.545348",
     "exception": false,
     "start_time": "2023-08-08T14:46:10.431265",
     "status": "completed"
    },
    "tags": []
   },
   "outputs": [
    {
     "data": {
      "text/plain": [
       "{'lgb': [0.07210105684595217,\n",
       "  LGBMClassifier(class_weight='balanced', colsample_bytree=0.7,\n",
       "                 min_child_samples=11, n_estimators=1480, num_leaves=48,\n",
       "                 reg_alpha=0.1, reg_lambda=9.600000000000001, subsample=0.8,\n",
       "                 subsample_freq=1)],\n",
       " 'lgb2': [0.06299814106907531,\n",
       "  LGBMClassifier(class_weight='balanced', colsample_bytree=0.9,\n",
       "                 min_child_samples=21, n_estimators=1260, num_leaves=45,\n",
       "                 reg_lambda=5.0, subsample=0.9, subsample_freq=2)],\n",
       " 'xgb': [0.1078328613742223,\n",
       "  XGBClassifier(base_score=None, booster=None, callbacks=None,\n",
       "                colsample_bylevel=None, colsample_bynode=None,\n",
       "                colsample_bytree=0.6908905550987483, early_stopping_rounds=None,\n",
       "                enable_categorical=False, eval_metric='logloss',\n",
       "                feature_types=None, gamma=0.01968681003733401, gpu_id=None,\n",
       "                grow_policy=None, importance_type=None,\n",
       "                interaction_constraints=None, learning_rate=0.15614514347924224,\n",
       "                max_bin=None, max_cat_threshold=None, max_cat_to_onehot=None,\n",
       "                max_delta_step=None, max_depth=10, max_leaves=None,\n",
       "                min_child_weight=None, missing=nan, monotone_constraints=None,\n",
       "                n_estimators=1100, n_jobs=None, num_parallel_tree=None,\n",
       "                predictor=None, random_state=None, ...)],\n",
       " 'xgb2': [0.09770805530065976,\n",
       "  XGBClassifier(base_score=None, booster=None, callbacks=None,\n",
       "                colsample_bylevel=None, colsample_bynode=None,\n",
       "                colsample_bytree=0.6701953578639556, early_stopping_rounds=None,\n",
       "                enable_categorical=False, eval_metric='logloss',\n",
       "                feature_types=None, gamma=0.0011405697665625514, gpu_id=None,\n",
       "                grow_policy=None, importance_type=None,\n",
       "                interaction_constraints=None, learning_rate=0.11874831982593327,\n",
       "                max_bin=None, max_cat_threshold=None, max_cat_to_onehot=None,\n",
       "                max_delta_step=None, max_depth=6, max_leaves=None,\n",
       "                min_child_weight=None, missing=nan, monotone_constraints=None,\n",
       "                n_estimators=1400, n_jobs=None, num_parallel_tree=None,\n",
       "                predictor=None, random_state=None, ...)],\n",
       " 'cb': [0.10936874526961797,\n",
       "  <catboost.core.CatBoostClassifier at 0xffff2075cbe0>],\n",
       " 'cb2': [0.08766280293400205,\n",
       "  <catboost.core.CatBoostClassifier at 0xffff2075c6d0>],\n",
       " 'rf': [0.2798415879247454,\n",
       "  RandomForestClassifier(bootstrap=False, criterion='entropy', max_depth=745,\n",
       "                         max_leaf_nodes=153, min_samples_leaf=7,\n",
       "                         min_samples_split=4, n_estimators=169)],\n",
       " 'knn': [0.1738178476185251,\n",
       "  KNeighborsClassifier(metric='cosine', n_neighbors=109)],\n",
       " 'knn2': [0.17314624691553987,\n",
       "  KNeighborsClassifier(metric='cosine', n_neighbors=109)],\n",
       " 'tab': [0.1668181893374958, TabPFNClassifier(N_ensemble_configurations=32)],\n",
       " 'tab2': [0.14095345252746164, TabPFNClassifier(N_ensemble_configurations=32)]}"
      ]
     },
     "execution_count": 117,
     "metadata": {},
     "output_type": "execute_result"
    }
   ],
   "source": [
    "best_model"
   ]
  },
  {
   "cell_type": "code",
   "execution_count": 118,
   "id": "b4cbbde0",
   "metadata": {
    "_cell_guid": "55f2ebb2-cdf3-46d2-a53b-27b64bda45c5",
    "_uuid": "118563be-ff12-4122-8667-ef9a269ff1d7",
    "execution": {
     "iopub.execute_input": "2023-08-08T14:46:10.776378Z",
     "iopub.status.busy": "2023-08-08T14:46:10.774196Z",
     "iopub.status.idle": "2023-08-08T14:46:10.779935Z",
     "shell.execute_reply": "2023-08-08T14:46:10.779017Z"
    },
    "jupyter": {
     "outputs_hidden": false
    },
    "papermill": {
     "duration": 0.145773,
     "end_time": "2023-08-08T14:46:10.781951",
     "exception": false,
     "start_time": "2023-08-08T14:46:10.636178",
     "status": "completed"
    },
    "tags": []
   },
   "outputs": [],
   "source": [
    "# weight x2 0.1190407658629042\n",
    "# weight x3 0.11765156785760085\n",
    "# weight x4 0.11633615775844705\n",
    "# weight x5 0.11546517994697347\n",
    "# weight x6 0.11587610229074743\n",
    "# 0.12169594436591682 -> 0.11825007231068611(sel5)\n",
    "# 0.14-(0.12169594436591682-0.11825007231068611)　0.12146115354690076"
   ]
  },
  {
   "cell_type": "code",
   "execution_count": 119,
   "id": "11b0b91f",
   "metadata": {
    "_cell_guid": "2691a05b-413b-4a63-b0e6-1d5ddf6e4130",
    "_uuid": "bb0ab9ee-9a0c-4589-b2b1-ff9541809a84",
    "execution": {
     "iopub.execute_input": "2023-08-08T14:46:10.963393Z",
     "iopub.status.busy": "2023-08-08T14:46:10.963082Z",
     "iopub.status.idle": "2023-08-08T14:46:10.969597Z",
     "shell.execute_reply": "2023-08-08T14:46:10.968691Z"
    },
    "jupyter": {
     "outputs_hidden": false
    },
    "papermill": {
     "duration": 0.098577,
     "end_time": "2023-08-08T14:46:10.971523",
     "exception": false,
     "start_time": "2023-08-08T14:46:10.872946",
     "status": "completed"
    },
    "tags": []
   },
   "outputs": [
    {
     "data": {
      "text/plain": [
       "((124, 2), (124,))"
      ]
     },
     "execution_count": 119,
     "metadata": {},
     "output_type": "execute_result"
    }
   ],
   "source": [
    "y_results[0][2].shape, y_valids[0].shape"
   ]
  },
  {
   "cell_type": "code",
   "execution_count": 120,
   "id": "7ed16ada",
   "metadata": {
    "_cell_guid": "37586915-155b-4e16-befa-7f5b97b7dc50",
    "_uuid": "47d6673c-26c8-4592-8441-86eacdaa194b",
    "execution": {
     "iopub.execute_input": "2023-08-08T14:46:11.155527Z",
     "iopub.status.busy": "2023-08-08T14:46:11.155188Z",
     "iopub.status.idle": "2023-08-08T14:46:11.165549Z",
     "shell.execute_reply": "2023-08-08T14:46:11.164556Z"
    },
    "jupyter": {
     "outputs_hidden": false
    },
    "papermill": {
     "duration": 0.106471,
     "end_time": "2023-08-08T14:46:11.167637",
     "exception": false,
     "start_time": "2023-08-08T14:46:11.061166",
     "status": "completed"
    },
    "tags": []
   },
   "outputs": [],
   "source": [
    "# def obj_alpha(trial):\n",
    "#     a = [\n",
    "#         trial.suggest_float('a0', 0, 2, step=0.01),\n",
    "#         trial.suggest_float('a1', 0, 2, step=0.01),\n",
    "#         trial.suggest_float('a2', 0, 2, step=0.01),\n",
    "#         trial.suggest_float('a3', 0, 2, step=0.01),\n",
    "#         trial.suggest_float('a4', 0, 2, step=0.01),\n",
    "#         trial.suggest_float('a5', 0, 2, step=0.01),\n",
    "#         trial.suggest_float('a6', 0, 2, step=0.01),\n",
    "#         trial.suggest_float('a7', 0, 2, step=0.01),\n",
    "#         trial.suggest_float('a8', 0, 2, step=0.01),\n",
    "#         trial.suggest_float('a9', 0, 2, step=0.01),\n",
    "#         trial.suggest_float('a10', 0, 2, step=0.01),\n",
    "#         trial.suggest_float('a11', 0, 2, step=0.01),\n",
    "#         trial.suggest_float('a12', 0, 2, step=0.01),\n",
    "#         ]\n",
    "#     alpha = trial.suggest_float('alpha', 1, 7, step=0.1)\n",
    "#     th0 = trial.suggest_float('th0', 0.50, 0.99, step=0.01)\n",
    "#     th1 = trial.suggest_float('th1', 0.50, 0.99, step=0.01)\n",
    "    \n",
    "    \n",
    "#     score = 0\n",
    "#     for i in range(5):\n",
    "#         y_lgb, y_lgb2, y_xgb, y_xgb2, y_cb, y_cb2, y_rf, y_nn, y_nn2, y_xxx, y_xxx2, y_tab, y_tab2 = y_results[i]\n",
    "#         y_valid = y_valids[i]\n",
    "        \n",
    "        \n",
    "#         lgb_loss = balanced_log_loss(y_valid, y_lgb[:, 1])\n",
    "#         lgb2_loss = balanced_log_loss(y_valid, y_lgb2[:, 1])\n",
    "        \n",
    "#         xgb_loss = balanced_log_loss(y_valid, y_xgb[:, 1])\n",
    "#         xgb2_loss = balanced_log_loss(y_valid, y_xgb2[:, 1])\n",
    "\n",
    "#         cb_loss = balanced_log_loss(y_valid, y_cb[:, 1])\n",
    "#         cb2_loss = balanced_log_loss(y_valid, y_cb2[:, 1])\n",
    "        \n",
    "    \n",
    "#         rf_loss = balanced_log_loss(y_valid, y_rf[:, 1])\n",
    "#         nn_loss = balanced_log_loss(y_valid, y_nn[:, 1])\n",
    "#         nn2_loss = balanced_log_loss(y_valid, y_nn2[:, 1])\n",
    "\n",
    "#         xxx_loss = balanced_log_loss(y_valid, y_xxx[:, 1])\n",
    "#         xxx2_loss = balanced_log_loss(y_valid, y_xxx2[:, 1])\n",
    "\n",
    "#         tab_loss = balanced_log_loss(y_valid, y_tab[:, 1])\n",
    "#         tab2_loss = balanced_log_loss(y_valid, y_tab2[:, 1])\n",
    "        \n",
    "#         pred = (\n",
    "#             y_lgb * a[0] + \n",
    "#             y_lgb2* a[1] + \n",
    "#             y_xgb * a[2] + \n",
    "#             y_xgb2 * a[3] + \n",
    "#             y_cb * a[4] + \n",
    "#             y_cb2 * a[5] + \n",
    "#             y_rf * a[6] + \n",
    "#             y_nn * a[7] + \n",
    "#             y_nn2 * a[8] + \n",
    "#             y_xxx * a[9] + \n",
    "#             y_xxx2 * a[10] +\n",
    "#             y_tab * a[11] +\n",
    "#             y_tab2 * a[12]) /sum(a)\n",
    "\n",
    "                       \n",
    "#         p0 = pred[:, 0]\n",
    "#         p0 = sigmoid((p0-0.5)*alpha)\n",
    "# #         p0 = sigmoid((p0-0.5)*6.98)\n",
    "#         p0 = (p0 - min(p0))/(max(p0)-min(p0)+1e-15)\n",
    "\n",
    "# #         p0 = np.clip(p0, 0.0001, 0.9999)\n",
    "# #         p0[p0 > 0.99] = 1\n",
    "# #         p0[p0 < 0.01] = 0\n",
    "                \n",
    "\n",
    "#         # 　全モデルが同じ選択の場合は、正解とする(y_rf除く)\n",
    "#         th_c0 = th0\n",
    "#         sel0 = (y_lgb > th_c0)&(y_lgb2 > th_c0)&(y_xgb > th_c0)&(y_xgb2 > th_c0)&(y_cb > th_c0)&(y_cb2 > th_c0)&\\\n",
    "#                 (y_nn > th_c0)&(y_xxx > th_c0)&(y_xxx > th_c0)&(y_tab > th_c0)&(y_tab > th_c0)\n",
    "#         th_c1 = th1\n",
    "#         sel1 = (y_lgb > th_c1)&(y_lgb2 > th_c1)&(y_xgb > th_c1)&(y_xgb2 > th_c1)&(y_cb > th_c1)&(y_cb2 > th_c1)&\\\n",
    "#                 (y_nn > th_c1)&(y_xxx > th_c1)&(y_xxx > th_c1)&(y_tab > th_c1)&(y_tab > th_c1)\n",
    "#         p0[sel0[:, 0]] = 1\n",
    "#         p0[sel1[:, 1]] = 0\n",
    "\n",
    "#         pred[:,1] = 1-p0\n",
    "#         pred[:,0] = p0            \n",
    "        \n",
    "#         if use_new_pred:\n",
    "#             pred = calc_new_pred(pred)\n",
    "       \n",
    "         \n",
    "#         e_loss = balanced_log_loss(y_valid, pred[:, 1])\n",
    "#         score += e_loss \n",
    "# #         print(a)\n",
    "# #         print(\"lgb\", lgb_loss, \"lgb2\", lgb2_loss,\n",
    "# #               \"xgb\", xgb_loss, \"xgb2\", xgb2_loss, \n",
    "# #               \"catboost\", cb_loss, \"catboost2\", cb2_loss, \n",
    "# #               \"rf\", rf_loss,\n",
    "# #               \"nn\", nn_loss, \"nn2\", nn2_loss, \n",
    "# #               \"xxx\", xxx_loss, \"xxx2\", xxx2_loss, \n",
    "# #               \"TabPFN\", tab_loss,  \"TabPFN2\", tab2_loss)\n",
    "# #         print(\"--> ensamble\", e_loss)       \n",
    "# #         score = max(score, e_loss*5)\n",
    "\n",
    "#     return score/5\n",
    "\n",
    "\n",
    "# study = optuna.create_study(sampler=optuna.samplers.TPESampler(seed=cfg.seed))#direction='minimize')\n",
    "# # study.enqueue_trial({'a0': 0.75, 'a1': 0.75, 'a2': 1.0, 'a3': 1.0, 'a4': 0, 'a5': 0, 'a6': 0, 'a7': 0, 'a8': 0, 'a9': 0, 'a10': 0.3, 'a11': 0.0, 'a12': 0.0 , 'alpha': 5.4, 'th0': 0.75, 'th1': 0.95})\n",
    "# study.enqueue_trial({'a0': 0.6, 'a1': 1.3, 'a2': 1.72, 'a3': 1.46, 'a4': 0.12, 'a5': 0.48, 'a6': 0.04, 'a7': 0.05, 'a8': 0.6, 'a9': 0.13, 'a10': 0.41000000000000003, 'a11': 0.0, 'a12': 0.2, 'alpha': 5.1, 'th0': 0.67, 'th1': 0.97})\n",
    "# study.enqueue_trial({'a0': 0.75, 'a1': 0.75, 'a2': 1.0, 'a3': 1.0, 'a4': 0, 'a5': 0, 'a6': 0, 'a7': 0, 'a8': 0, 'a9': 0.1, 'a10': 0.3, 'a11': 0.1, 'a12': 0.1 , 'alpha': 5.4, 'th0': 0.75, 'th1': 0.95})\n",
    "# study.enqueue_trial({'a0': 0.9400000000000001, 'a1': 1.54, 'a2': 1.52, 'a3': 1.74, 'a4': 0.25, 'a5': 1.5, 'a6': 0.25, 'a7': 0.56, 'a8': 0.35000000000000003, 'a9': 0.0, 'a10': 0.99, 'a11': 0.37, 'a12': 0.06, 'alpha': 5.8, 'th0': 0.66, 'th1': 0.9500000000000001})\n",
    "# study.enqueue_trial({'a0': 0.9400000000000001, 'a1': 1.54, 'a2': 1.52, 'a3': 1.74, 'a4': 0.25, 'a5': 1.5, 'a6': 0.25, 'a7': 0.56, 'a8': 0.35000000000000003, 'a9': 0.0, 'a10': 0.99, 'a11': 0.37, 'a12': 0.06, 'alpha': 5.8, 'th0': 0.66, 'th1': 0.9500000000000001})\n",
    "# study.enqueue_trial({'a0': 1.61, 'a1': 1.75, 'a2': 1.84, 'a3': 1.07, 'a4': 1.16, 'a5': 0.09, 'a6': 0.1, 'a7': 0.06, 'a8': 0.26, 'a9': 0.04, 'a10': 0.75, 'a11': 0.04, 'a12': 0.05, 'alpha': 5.0, 'th0': 0.74, 'th1': 0.98})\n",
    "# study.enqueue_trial({'a0': 1.6500000000000001, 'a1': 1.49, 'a2': 1.96, 'a3': 1.85, 'a4': 0.61, 'a5': 0.14, 'a6': 0.44, 'a7': 0.0, 'a8': 0.08, 'a9': 0.04, 'a10': 1.1400000000000001, 'a11': 0.04, 'a12': 0.03, 'alpha': 5.6000000000000005, 'th0': 0.66, 'th1': 0.99})\n",
    "# study.enqueue_trial({'a0': 1.95, 'a1': 1.9100000000000001, 'a2': 1.85, 'a3': 1.36, 'a4': 0.18, 'a5': 0.25, 'a6': 0.06, 'a7': 0.09, 'a8': 0.03, 'a9': 0.0, 'a10': 1.4000000000000001, 'a11': 0.06, 'a12': 0.03, 'alpha': 6.0, 'th0': 0.66, 'th1': 0.96})\n",
    "# study.optimize(obj_alpha, n_trials=500)\n",
    "# print(study.best_trial.params)\n",
    "# list(study.best_trial.params.values())\n",
    "\n",
    "# # gb 0.17050281690721633 lgb2 0.1535024596800222 xgb 0.15750251890338945 xgb2 0.143713988459658 \n",
    "# # catboost 0.20928058007148373 catboost2 0.22629431886151213 rf 0.3231658739569935 \n",
    "# # nn 0.23968630312729433 nn2 0.22852036537318957 xxx 0.19266077691574432 xxx2 0.2680504324822319 \n",
    "# # TabPFN 0.21797924773745186 TabPFN2 0.22729486858159112\n",
    "# # --> ensamble 0.1609478495445408"
   ]
  },
  {
   "cell_type": "code",
   "execution_count": 121,
   "id": "c7dcdbee",
   "metadata": {
    "_cell_guid": "b5139af5-d97c-4197-a3b9-f3d166122d6b",
    "_uuid": "111cbf81-7cc8-43c4-8e3c-a78ceed810fa",
    "execution": {
     "iopub.execute_input": "2023-08-08T14:46:11.349780Z",
     "iopub.status.busy": "2023-08-08T14:46:11.348278Z",
     "iopub.status.idle": "2023-08-08T14:46:11.579838Z",
     "shell.execute_reply": "2023-08-08T14:46:11.578932Z"
    },
    "jupyter": {
     "outputs_hidden": false
    },
    "papermill": {
     "duration": 0.324178,
     "end_time": "2023-08-08T14:46:11.581936",
     "exception": false,
     "start_time": "2023-08-08T14:46:11.257758",
     "status": "completed"
    },
    "tags": []
   },
   "outputs": [
    {
     "data": {
      "text/plain": [
       "[<matplotlib.lines.Line2D at 0xffff1fd8f8e0>]"
      ]
     },
     "execution_count": 121,
     "metadata": {},
     "output_type": "execute_result"
    },
    {
     "data": {
      "image/png": "[encoded data removed]",
      "text/plain": [
       "<Figure size 640x480 with 1 Axes>"
      ]
     },
     "metadata": {},
     "output_type": "display_data"
    }
   ],
   "source": [
    "def sigmoid(x):\n",
    "    return 1/ (1 + np.exp(-x))\n",
    "\n",
    "p0 = pred[:, 0]\n",
    "p0 = np.array([i/100 for i in range(101)])\n",
    "p0 = sigmoid((p0-0.5)*5.4)\n",
    "plt.plot(p0)\n",
    "\n",
    "p0 = (p0 - min(p0))/(max(p0)-min(p0))\n",
    "p0 = np.clip(p0, 0.0001, 0.9999)\n",
    "plt.plot(p0)"
   ]
  },
  {
   "cell_type": "markdown",
   "id": "d922197f",
   "metadata": {
    "_cell_guid": "f20bf4a5-2f45-43da-aa76-21cca975f06f",
    "_uuid": "01539754-958a-4bec-8e4f-c17ce64e88b8",
    "papermill": {
     "duration": 0.090344,
     "end_time": "2023-08-08T14:46:11.767948",
     "exception": false,
     "start_time": "2023-08-08T14:46:11.677604",
     "status": "completed"
    },
    "tags": []
   },
   "source": [
    "```\n",
    "0.15246577482271312 -rf -knn -nn -tab (boostingのみ)\n",
    "0.16141317621791187 -rf -knn -nn (boosting + tab)\n",
    "0.14603296764550358 -rf -knn -tab (boosting + nn)\n",
    "0.15962857016383242 -rf -nn -tab (boosting + knn)\n",
    "0.19880100002949805 -rf -nn -knn -tab\n",
    "0.1549086996071109 -rf\n",
    "0.14709787098787236 -rf -knn\n",
    "0.15552694031836586 -rf -xgb -cb\n",
    "0.1676103909764996 -rf -lgb -cb\n",
    "\n",
    "\n",
    "0.1486103472662918  a = 1, 0, 1.5, 0, 0.5\n",
    "0.14573619761609635 a = 1, 0, 1, 0, 0.5\n",
    "0.14555721433280364 a = 2, 0, 1, 0.2, 1.5\n",
    "0.1446640534808395  a = 2, 0, 1, 0, 1 \n",
    "0.14443877195214577 a = 2, 0, 1, 0.2, 1\n",
    "0.1440592210659078  a = 2, 0, 1, 0.2, 0.8 \n",
    "0.14362643242934164 a = 2, 0, 1, 0.2, 0.8 lgbm2を見直し\n",
    "0.14405701359512002 ↑でKFoldの分割をgreeks.alphaにしたバージョン  !! nnがリークしている !!\n",
    "0.13302360008161757 a = [2.1, 0.0, 4.0, 0.0, 0.0] ★★Currently Best CV <- !! nnがリークしている !!\n",
    "\n",
    "nnを再学習(greeks.alphaでfoldに分割)\n",
    "0.14495478908894055 a = [3.3, 0.0, 0.0, 0.5, 0.7]\n",
    "0.14516239372852643 a = [3.9, 0.0, 0.0, 0.9, 0.5]\n",
    "0.13448841870323322 a = [3.9, 0.0, 0.0, 0.9, 0.5] lightGBMの再学習（optunaで探索時にcalc_new_predをするようにした）LV1.6\n",
    "0.1320047117991178  a = [3.9, 0.0, 0.0, 0.9, 0.5] positive_weight = 2.0  LB1.7\n",
    "0.12654137375083563 -> predを補正（１）\n",
    "\n",
    "\n",
    "InvalidParameterError: The 'metric' parameter of KNeighborsClassifier must be a str among {'sokalsneath', 'minkowski', 'wminkowski', 'yule', 'jaccard', 'chebyshev', 'seuclidean', 'hamming', 'cosine', 'cityblock', 'rogerstanimoto', 'kulsinski', 'dice', 'correlation', 'sqeuclidean', 'l1', 'precomputed', 'mahalanobis', 'sokalmichener', 'p', 'haversine', 'euclidean', 'nan_euclidean', 'pyfunc', 'manhattan', 'infinity', 'matching', 'russellrao', 'l2', 'braycurtis', 'canberra'} or a callable. Got 'xxx' instead.\n",
    "```"
   ]
  },
  {
   "cell_type": "code",
   "execution_count": 122,
   "id": "065b0eb8",
   "metadata": {
    "_cell_guid": "b32c12e6-639a-424e-9037-798101b2798e",
    "_uuid": "cba7dcb9-62c0-44b2-826c-ec9a84016ab9",
    "execution": {
     "iopub.execute_input": "2023-08-08T14:46:11.949820Z",
     "iopub.status.busy": "2023-08-08T14:46:11.949465Z",
     "iopub.status.idle": "2023-08-08T14:46:11.955131Z",
     "shell.execute_reply": "2023-08-08T14:46:11.954007Z"
    },
    "jupyter": {
     "outputs_hidden": false
    },
    "papermill": {
     "duration": 0.098988,
     "end_time": "2023-08-08T14:46:11.957060",
     "exception": false,
     "start_time": "2023-08-08T14:46:11.858072",
     "status": "completed"
    },
    "tags": []
   },
   "outputs": [],
   "source": [
    "# print(\"lgbm2..\")\n",
    "\n",
    "\n",
    "\n",
    "# def obj_lgbm(trial):\n",
    "#     params = {\n",
    "#         'boosting_type':'gbdt',\n",
    "#         'class_weight':'balanced',\n",
    "#         'n_estimators': trial.suggest_int('n_estimators', 100, 1000, step=10),\n",
    "#         'reg_alpha': trial.suggest_float('reg_alpha', 0, 100, step=0.1),\n",
    "#         'reg_lambda': trial.suggest_float('reg_lambda', 0, 100, step=0.1),\n",
    "#         'num_leaves': trial.suggest_int('num_leaves', 2, 64, step=1),\n",
    "#         'min_child_samples': trial.suggest_int('min_child_samples', 8, 64, step=1),\n",
    "#         'colsample_bytree': trial.suggest_float('colsample_bytree', 0.5, 1.0, step=0.1),\n",
    "#         'subsample': trial.suggest_float('subsample', 0.5, 1.0, step=0.1),\n",
    "#         'subsample_freq': trial.suggest_int('subsample_freq', 0, 3, step=1),\n",
    "#     }\n",
    "    \n",
    "#     lgb2 = LGBMClassifier(**params)\n",
    "#     lgb2.fit(X_train2, y_train, sample_weight=weights)\n",
    "#     y_lgb2 = lgb2.predict_proba(X_valid2)\n",
    "#     lgb2_loss = balanced_log_loss(y_valid, y_lgb2[:, 1])\n",
    "#     return lgb2_loss\n",
    "        \n",
    "\n",
    "# study = optuna.create_study(sampler=optuna.samplers.TPESampler(seed=42))#direction='minimize')\n",
    "# study.enqueue_trial(lgbm_params2)\n",
    "# study.optimize(obj_lgbm, n_trials=100)\n",
    "\n",
    "# lgbm_params2 = dict(study.best_trial.params.items())\n",
    "# lgbm_params2"
   ]
  },
  {
   "cell_type": "code",
   "execution_count": 123,
   "id": "680880f9",
   "metadata": {
    "_cell_guid": "730a6904-14c9-4a71-88bc-f05b8cf56767",
    "_uuid": "1fd70af2-95e1-494f-bb85-7bb94c5da5fe",
    "execution": {
     "iopub.execute_input": "2023-08-08T14:46:12.141435Z",
     "iopub.status.busy": "2023-08-08T14:46:12.141120Z",
     "iopub.status.idle": "2023-08-08T14:46:12.147036Z",
     "shell.execute_reply": "2023-08-08T14:46:12.146142Z"
    },
    "jupyter": {
     "outputs_hidden": false
    },
    "papermill": {
     "duration": 0.10211,
     "end_time": "2023-08-08T14:46:12.149115",
     "exception": false,
     "start_time": "2023-08-08T14:46:12.047005",
     "status": "completed"
    },
    "tags": []
   },
   "outputs": [
    {
     "data": {
      "text/plain": [
       "[124, 124, 123, 123, 123]"
      ]
     },
     "execution_count": 123,
     "metadata": {},
     "output_type": "execute_result"
    }
   ],
   "source": [
    "y_len"
   ]
  },
  {
   "cell_type": "code",
   "execution_count": 124,
   "id": "fd99b596",
   "metadata": {
    "_cell_guid": "74ecb778-1095-4530-93c7-291f7dc36f0e",
    "_uuid": "e69ded89-a93f-4577-b243-cfe108184861",
    "execution": {
     "iopub.execute_input": "2023-08-08T14:46:12.346161Z",
     "iopub.status.busy": "2023-08-08T14:46:12.345211Z",
     "iopub.status.idle": "2023-08-08T14:46:12.352780Z",
     "shell.execute_reply": "2023-08-08T14:46:12.351625Z"
    },
    "jupyter": {
     "outputs_hidden": false
    },
    "papermill": {
     "duration": 0.114304,
     "end_time": "2023-08-08T14:46:12.355732",
     "exception": false,
     "start_time": "2023-08-08T14:46:12.241428",
     "status": "completed"
    },
    "tags": []
   },
   "outputs": [
    {
     "data": {
      "text/plain": [
       "(617, 28)"
      ]
     },
     "execution_count": 124,
     "metadata": {},
     "output_type": "execute_result"
    }
   ],
   "source": [
    "y_preds.shape"
   ]
  },
  {
   "cell_type": "markdown",
   "id": "9a7c3cec",
   "metadata": {
    "_cell_guid": "c9a14422-4fd6-435e-b61c-a2867960f24d",
    "_uuid": "da5f270d-bb70-4a03-9649-9b444570c057",
    "papermill": {
     "duration": 0.095771,
     "end_time": "2023-08-08T14:46:12.555204",
     "exception": false,
     "start_time": "2023-08-08T14:46:12.459433",
     "status": "completed"
    },
    "tags": []
   },
   "source": [
    "### スタッキング（２段目）\n",
    "\n",
    "2段目は、各FOLDのvalidデータを用いて学習させる。こうしないとリークする可能性がありそうなので。"
   ]
  },
  {
   "cell_type": "code",
   "execution_count": 125,
   "id": "7f0e34f6",
   "metadata": {
    "_cell_guid": "b9610f61-27a0-499c-ae93-84685fa7b189",
    "_uuid": "9579d208-d1ee-46ae-b0ee-47e3b9470778",
    "execution": {
     "iopub.execute_input": "2023-08-08T14:46:12.744646Z",
     "iopub.status.busy": "2023-08-08T14:46:12.744264Z",
     "iopub.status.idle": "2023-08-08T14:46:12.758995Z",
     "shell.execute_reply": "2023-08-08T14:46:12.758160Z"
    },
    "jupyter": {
     "outputs_hidden": false
    },
    "papermill": {
     "duration": 0.110175,
     "end_time": "2023-08-08T14:46:12.761117",
     "exception": false,
     "start_time": "2023-08-08T14:46:12.650942",
     "status": "completed"
    },
    "tags": []
   },
   "outputs": [],
   "source": [
    "# Optuna\n",
    "\n",
    "def obj_lgbm2(trial):\n",
    "    params = {\n",
    "        'boosting_type':'gbdt',\n",
    "        'class_weight':'balanced',\n",
    "        'n_estimators': trial.suggest_int('n_estimators', 100, 2000, step=10),\n",
    "        'reg_alpha': trial.suggest_float('reg_alpha', 0, 100, step=0.1),\n",
    "        'reg_lambda': trial.suggest_float('reg_lambda', 0, 100, step=0.1),\n",
    "        'num_leaves': trial.suggest_int('num_leaves', 2, 64, step=1),\n",
    "        'min_child_samples': trial.suggest_int('min_child_samples', 8, 64, step=1),\n",
    "        'colsample_bytree': trial.suggest_float('colsample_bytree', 0.5, 1.0, step=0.1),\n",
    "        'subsample': trial.suggest_float('subsample', 0.5, 1.0, step=0.1),\n",
    "        'subsample_freq': trial.suggest_int('subsample_freq', 0, 3, step=1),\n",
    "    }\n",
    "    \n",
    "    lgb_2 = LGBMClassifier(**params)\n",
    "\n",
    "    \n",
    "    score = 0\n",
    "    start = 0\n",
    "    for idx, size in enumerate(y_len):\n",
    "        valid_idx = [False for _ in range(len(y_preds))]\n",
    "        for i in range(start, start+size):\n",
    "            valid_idx[i] = True\n",
    "        train_idx = list(map(lambda x: not x, valid_idx))\n",
    "        X_train, y_train = y_preds[train_idx], y_true[train_idx]\n",
    "        X_valid, y_valid = y_preds[valid_idx], y_true[valid_idx]\n",
    "        lgb_2.fit(X_train, y_train)\n",
    "        pred2 = lgb_2.predict_proba(X_valid)\n",
    "        \n",
    "        pred = X_valid[:, -2:]\n",
    "\n",
    "        pred2 = (pred + pred2)/2\n",
    "#         pred2 = lgb_2.predict(X_valid)\n",
    "#         pred2 = pred2.clip(0,1)\n",
    "#         print(pred2)\n",
    "        \n",
    "#         p0 = pred2[:, 0]\n",
    "#         p0 = sigmoid((p0-0.5)*5.4)\n",
    "#         p0 = (p0 - min(p0))/(max(p0)-min(p0)+1e-15)\n",
    "\n",
    "#         p0[p0 > 0.99] = 1\n",
    "#         p0[p0 < 0.01] = 0\n",
    "                \n",
    "#         pred2[:,1] = 1-p0\n",
    "#         pred2[:,0] = p0            \n",
    "#         if use_new_pred:\n",
    "#             pred2 = calc_new_pred(pred2)\n",
    "\n",
    "        s = balanced_log_loss(y_valid, pred2[:, 1])       \n",
    "#         s = balanced_log_loss(y_valid, pred2)       \n",
    "        \n",
    "#         print(f\"fold{idx} = {s}\")\n",
    "        start += size\n",
    "        score += s    \n",
    "    \n",
    "#     score = 0\n",
    "#     start = 0\n",
    "#     for idx, size in enumerate(y_len):\n",
    "#         valid_idx = [False for _ in range(len(y_preds))]\n",
    "#         for i in range(start, start+size):\n",
    "#             valid_idx[i] = True\n",
    "#         train_idx = list(map(lambda x: not x, valid_idx))\n",
    "#         X_train, y_train = y_preds[train_idx], y_true[train_idx]\n",
    "#         X_valid, y_valid = y_preds[valid_idx], y_true[valid_idx]\n",
    "#         lgb_2.fit(X_train, y_train)\n",
    "#         pred2 = lgb_2.predict_proba(X_valid)\n",
    "#         s = balanced_log_loss(y_valid, pred2[:, 1])\n",
    "# #         print(f\"fold{idx} = {s}\")\n",
    "#         start += size\n",
    "#         score += s\n",
    "    \n",
    "    return score/5\n",
    "      \n",
    "    \n",
    "lgbm_params_2 = {'n_estimators': 680,\n",
    " 'reg_alpha': 0.0,\n",
    " 'reg_lambda': 92.80000000000001,\n",
    " 'num_leaves': 61,\n",
    " 'min_child_samples': 62,\n",
    " 'colsample_bytree': 1.0,\n",
    " 'subsample': 0.7,\n",
    " 'subsample_freq': 0}\n",
    "\n",
    "# do_opt = False\n",
    "if do_opt :\n",
    "    study = optuna.create_study(sampler=optuna.samplers.TPESampler(seed=42))#direction='minimize')\n",
    "    study.enqueue_trial(lgbm_params_2)\n",
    "    study.optimize(obj_lgbm2, n_trials=200)"
   ]
  },
  {
   "cell_type": "code",
   "execution_count": 126,
   "id": "6d5f7133",
   "metadata": {
    "_cell_guid": "ab453cc1-5cc4-4293-b770-138fa4f4c502",
    "_uuid": "fae455c7-3853-4517-a7c2-0387ae4fd15b",
    "execution": {
     "iopub.execute_input": "2023-08-08T14:46:12.944850Z",
     "iopub.status.busy": "2023-08-08T14:46:12.944009Z",
     "iopub.status.idle": "2023-08-08T14:46:12.951221Z",
     "shell.execute_reply": "2023-08-08T14:46:12.950272Z"
    },
    "jupyter": {
     "outputs_hidden": false
    },
    "papermill": {
     "duration": 0.100742,
     "end_time": "2023-08-08T14:46:12.953162",
     "exception": false,
     "start_time": "2023-08-08T14:46:12.852420",
     "status": "completed"
    },
    "tags": []
   },
   "outputs": [
    {
     "data": {
      "text/plain": [
       "{'n_estimators': 680,\n",
       " 'reg_alpha': 0.0,\n",
       " 'reg_lambda': 92.80000000000001,\n",
       " 'num_leaves': 61,\n",
       " 'min_child_samples': 62,\n",
       " 'colsample_bytree': 1.0,\n",
       " 'subsample': 0.7,\n",
       " 'subsample_freq': 0}"
      ]
     },
     "execution_count": 126,
     "metadata": {},
     "output_type": "execute_result"
    }
   ],
   "source": [
    "if do_opt :\n",
    "    lgbm_params_2 = dict(study.best_trial.params.items())\n",
    "lgbm_params_2"
   ]
  },
  {
   "cell_type": "code",
   "execution_count": 127,
   "id": "60572684",
   "metadata": {
    "_cell_guid": "0656e57d-2282-4e9d-bb54-aa397355e5f6",
    "_uuid": "d1828027-1c6d-4959-a00e-57554e5858bc",
    "execution": {
     "iopub.execute_input": "2023-08-08T14:46:13.146381Z",
     "iopub.status.busy": "2023-08-08T14:46:13.145509Z",
     "iopub.status.idle": "2023-08-08T14:46:14.243322Z",
     "shell.execute_reply": "2023-08-08T14:46:14.242145Z"
    },
    "jupyter": {
     "outputs_hidden": false
    },
    "papermill": {
     "duration": 1.195264,
     "end_time": "2023-08-08T14:46:14.245815",
     "exception": false,
     "start_time": "2023-08-08T14:46:13.050551",
     "status": "completed"
    },
    "tags": []
   },
   "outputs": [
    {
     "name": "stdout",
     "output_type": "stream",
     "text": [
      "fold0 = 0.14708560540167367\n",
      "fold1 = 0.07063193423907885\n",
      "fold2 = 0.28231849347623583\n",
      "fold3 = 0.09448504106684781\n",
      "fold4 = 0.0883558800348916\n",
      "5fold average =  0.13657539084374556\n"
     ]
    }
   ],
   "source": [
    "from sklearn.linear_model import LogisticRegression\n",
    "from sklearn.linear_model import Ridge, Lasso\n",
    "\n",
    "\n",
    "if check_CV:\n",
    "\n",
    "    lgb_2 = LGBMClassifier(boosting_type='gbdt', class_weight='balanced', **lgbm_params_2)\n",
    "#     lgb_2 = LogisticRegression()\n",
    "#     lgb_2 = Lasso()\n",
    "    \n",
    "    score = 0\n",
    "    start = 0\n",
    "    for idx, size in enumerate(y_len):\n",
    "        valid_idx = [False for _ in range(len(y_preds))]\n",
    "        for i in range(start, start+size):\n",
    "            valid_idx[i] = True\n",
    "        train_idx = list(map(lambda x: not x, valid_idx))\n",
    "        X_train, y_train = y_preds[train_idx], y_true[train_idx]\n",
    "        X_valid, y_valid = y_preds[valid_idx], y_true[valid_idx]\n",
    "        lgb_2.fit(X_train, y_train)\n",
    "        pred2 = lgb_2.predict_proba(X_valid)\n",
    "        \n",
    "        pred = X_valid[:, -2:]\n",
    "\n",
    "        pred2 = (pred + pred2)/2\n",
    "#         pred2 = lgb_2.predict(X_valid)\n",
    "#         pred2 = pred2.clip(0,1)\n",
    "#         print(pred2)\n",
    "        \n",
    "#         p0 = pred2[:, 0]\n",
    "#         p0 = sigmoid((p0-0.5)*5.4)\n",
    "#         p0 = (p0 - min(p0))/(max(p0)-min(p0)+1e-15)\n",
    "\n",
    "#         p0[p0 > 0.99] = 1\n",
    "#         p0[p0 < 0.01] = 0\n",
    "                \n",
    "#         pred2[:,1] = 1-p0\n",
    "#         pred2[:,0] = p0            \n",
    "#         if use_new_pred:\n",
    "#             pred2 = calc_new_pred(pred2)\n",
    "\n",
    "        s = balanced_log_loss(y_valid, pred2[:, 1])       \n",
    "#         s = balanced_log_loss(y_valid, pred2)       \n",
    "        \n",
    "        print(f\"fold{idx} = {s}\")\n",
    "        start += size\n",
    "        score += s\n",
    "    \n",
    "    print(\"5fold average = \", score/5)"
   ]
  },
  {
   "cell_type": "code",
   "execution_count": null,
   "id": "44ed2329",
   "metadata": {
    "_cell_guid": "85add69b-7e98-4bb1-ab5e-73a7b3420238",
    "_uuid": "a61f8948-5f6f-4c4c-8767-5b9e208f5e5a",
    "jupyter": {
     "outputs_hidden": false
    },
    "papermill": {
     "duration": 0.094923,
     "end_time": "2023-08-08T14:46:14.436316",
     "exception": false,
     "start_time": "2023-08-08T14:46:14.341393",
     "status": "completed"
    },
    "tags": []
   },
   "outputs": [],
   "source": []
  },
  {
   "cell_type": "code",
   "execution_count": 128,
   "id": "2fd1d373",
   "metadata": {
    "_cell_guid": "88f935f2-6886-4306-8b49-0decd0c5fe74",
    "_uuid": "229f8ff8-5181-430f-8cdf-62a73083917c",
    "execution": {
     "iopub.execute_input": "2023-08-08T14:46:14.626852Z",
     "iopub.status.busy": "2023-08-08T14:46:14.625828Z",
     "iopub.status.idle": "2023-08-08T14:46:14.901423Z",
     "shell.execute_reply": "2023-08-08T14:46:14.900051Z"
    },
    "jupyter": {
     "outputs_hidden": false
    },
    "papermill": {
     "duration": 0.373071,
     "end_time": "2023-08-08T14:46:14.903475",
     "exception": false,
     "start_time": "2023-08-08T14:46:14.530404",
     "status": "completed"
    },
    "tags": []
   },
   "outputs": [
    {
     "name": "stdout",
     "output_type": "stream",
     "text": [
      "0.06303335425212848\n"
     ]
    }
   ],
   "source": [
    "lgb_2.fit(y_preds, y_true)\n",
    "pred2 = lgb_2.predict_proba(y_preds)\n",
    "print(balanced_log_loss(y_true, pred2[:, 1]))"
   ]
  },
  {
   "cell_type": "code",
   "execution_count": null,
   "id": "c6f0f279",
   "metadata": {
    "_cell_guid": "38e81ec3-77aa-42ed-b200-f6d394fe7d4d",
    "_uuid": "d4d5781f-e015-4d72-86af-3b53e734e6ef",
    "jupyter": {
     "outputs_hidden": false
    },
    "papermill": {
     "duration": 0.091452,
     "end_time": "2023-08-08T14:46:15.088498",
     "exception": false,
     "start_time": "2023-08-08T14:46:14.997046",
     "status": "completed"
    },
    "tags": []
   },
   "outputs": [],
   "source": []
  },
  {
   "cell_type": "markdown",
   "id": "d75e4001",
   "metadata": {
    "_cell_guid": "8bec41af-6ead-45a2-bd10-6e7854946533",
    "_uuid": "90105b23-f7c5-4bed-82b5-95edae816ccf",
    "papermill": {
     "duration": 0.091654,
     "end_time": "2023-08-08T14:46:15.274857",
     "exception": false,
     "start_time": "2023-08-08T14:46:15.183203",
     "status": "completed"
    },
    "tags": []
   },
   "source": [
    "## fit models(final parameter)\n",
    "\n",
    "なぜか、5foldで作成したモデルだと性能が下がる傾向があった。testデータにtrainデータが**リークしている可能性**がありそうな気もするが、とりあえず、各予測器をパラメータを決めたあと、train全体で作成しなおし。"
   ]
  },
  {
   "cell_type": "code",
   "execution_count": 129,
   "id": "c30868aa",
   "metadata": {
    "_cell_guid": "7278cfc6-c581-49f5-86f0-435702f30c7c",
    "_uuid": "eeea6c46-f171-439a-90bb-68c531e5d0c1",
    "execution": {
     "iopub.execute_input": "2023-08-08T14:46:15.462170Z",
     "iopub.status.busy": "2023-08-08T14:46:15.461808Z",
     "iopub.status.idle": "2023-08-08T14:46:15.469288Z",
     "shell.execute_reply": "2023-08-08T14:46:15.468207Z"
    },
    "jupyter": {
     "outputs_hidden": false
    },
    "papermill": {
     "duration": 0.10353,
     "end_time": "2023-08-08T14:46:15.471433",
     "exception": false,
     "start_time": "2023-08-08T14:46:15.367903",
     "status": "completed"
    },
    "tags": []
   },
   "outputs": [],
   "source": [
    "X = df_train[df_train.columns[:-1]]\n",
    "y = df_train.Class"
   ]
  },
  {
   "cell_type": "code",
   "execution_count": null,
   "id": "fdb70740",
   "metadata": {
    "_cell_guid": "d5845baa-006f-4231-95ad-f8fbffb93eff",
    "_uuid": "f9d64ea7-9ec2-4dfb-b8fd-af18f477a23e",
    "jupyter": {
     "outputs_hidden": false
    },
    "papermill": {
     "duration": 0.095191,
     "end_time": "2023-08-08T14:46:15.659485",
     "exception": false,
     "start_time": "2023-08-08T14:46:15.564294",
     "status": "completed"
    },
    "tags": []
   },
   "outputs": [],
   "source": []
  },
  {
   "cell_type": "code",
   "execution_count": 130,
   "id": "3031edfe",
   "metadata": {
    "_cell_guid": "53e37e7b-2f9c-4513-8348-8634f1e19f96",
    "_uuid": "1262a98b-23ab-437a-a8d9-b6260eb43dc2",
    "execution": {
     "iopub.execute_input": "2023-08-08T14:46:15.847145Z",
     "iopub.status.busy": "2023-08-08T14:46:15.846786Z",
     "iopub.status.idle": "2023-08-08T14:46:17.577016Z",
     "shell.execute_reply": "2023-08-08T14:46:17.575923Z"
    },
    "jupyter": {
     "outputs_hidden": false
    },
    "papermill": {
     "duration": 1.826835,
     "end_time": "2023-08-08T14:46:17.579876",
     "exception": false,
     "start_time": "2023-08-08T14:46:15.753041",
     "status": "completed"
    },
    "tags": []
   },
   "outputs": [
    {
     "data": {
      "text/plain": [
       "0.0027684815466312916"
      ]
     },
     "execution_count": 130,
     "metadata": {},
     "output_type": "execute_result"
    }
   ],
   "source": [
    "if use_best_fold :\n",
    "    lgb = best_model['lgb'][1]\n",
    "else:\n",
    "    lgb.fit(X[lgb_selected], y, sample_weight=classes_weights)\n",
    "    \n",
    "y_lgb = lgb.predict_proba(X[lgb_selected])\n",
    "balanced_log_loss(y, y_lgb[:, 1])"
   ]
  },
  {
   "cell_type": "code",
   "execution_count": 131,
   "id": "124f353c",
   "metadata": {
    "_cell_guid": "8a4761a1-b205-44bf-8b6e-0846babd0a44",
    "_uuid": "30f230b5-125e-4872-9b2e-9dc95cc4981d",
    "execution": {
     "iopub.execute_input": "2023-08-08T14:46:17.787012Z",
     "iopub.status.busy": "2023-08-08T14:46:17.786276Z",
     "iopub.status.idle": "2023-08-08T14:46:17.791326Z",
     "shell.execute_reply": "2023-08-08T14:46:17.790383Z"
    },
    "jupyter": {
     "outputs_hidden": false
    },
    "papermill": {
     "duration": 0.11098,
     "end_time": "2023-08-08T14:46:17.793451",
     "exception": false,
     "start_time": "2023-08-08T14:46:17.682471",
     "status": "completed"
    },
    "tags": []
   },
   "outputs": [],
   "source": [
    "# pd.DataFrame(lgb.feature_importances_, index = X.columns, columns=['importance']).sort_values('importance', ascending=False)"
   ]
  },
  {
   "cell_type": "code",
   "execution_count": 132,
   "id": "4e84bfb7",
   "metadata": {
    "_cell_guid": "724b5322-7427-4f9e-b887-73308b234f5a",
    "_uuid": "39b19ae4-e0b7-4508-8bca-cde271ec602c",
    "execution": {
     "iopub.execute_input": "2023-08-08T14:46:17.995035Z",
     "iopub.status.busy": "2023-08-08T14:46:17.994643Z",
     "iopub.status.idle": "2023-08-08T14:46:19.529927Z",
     "shell.execute_reply": "2023-08-08T14:46:19.528919Z"
    },
    "jupyter": {
     "outputs_hidden": false
    },
    "papermill": {
     "duration": 1.635565,
     "end_time": "2023-08-08T14:46:19.532096",
     "exception": false,
     "start_time": "2023-08-08T14:46:17.896531",
     "status": "completed"
    },
    "tags": []
   },
   "outputs": [
    {
     "data": {
      "text/plain": [
       "0.0011411118324830122"
      ]
     },
     "execution_count": 132,
     "metadata": {},
     "output_type": "execute_result"
    }
   ],
   "source": [
    "if use_best_fold:\n",
    "    lgb2 = best_model['lgb2'][1]\n",
    "else:\n",
    "    lgb2.fit(X, y, sample_weight=classes_weights2)\n",
    "y_lgb2 = lgb2.predict_proba(X)\n",
    "balanced_log_loss(y, y_lgb2[:, 1])"
   ]
  },
  {
   "cell_type": "code",
   "execution_count": 133,
   "id": "9f0d6606",
   "metadata": {
    "_cell_guid": "84d1e5ac-55c3-42e8-8300-54cb4695f53e",
    "_uuid": "9ed4b26c-11c0-4523-a8b0-4dcd016f8568",
    "execution": {
     "iopub.execute_input": "2023-08-08T14:46:19.725446Z",
     "iopub.status.busy": "2023-08-08T14:46:19.724794Z",
     "iopub.status.idle": "2023-08-08T14:46:21.527504Z",
     "shell.execute_reply": "2023-08-08T14:46:21.526679Z"
    },
    "jupyter": {
     "outputs_hidden": false
    },
    "papermill": {
     "duration": 1.900668,
     "end_time": "2023-08-08T14:46:21.529864",
     "exception": false,
     "start_time": "2023-08-08T14:46:19.629196",
     "status": "completed"
    },
    "tags": []
   },
   "outputs": [
    {
     "data": {
      "text/plain": [
       "0.010782710147828162"
      ]
     },
     "execution_count": 133,
     "metadata": {},
     "output_type": "execute_result"
    }
   ],
   "source": [
    "if use_best_fold:\n",
    "    xgb = best_model['xgb'][1]\n",
    "else: \n",
    "    xgb.fit(X[lgb_selected], y, sample_weight=classes_weights)\n",
    "y_xgb = xgb.predict_proba(X[lgb_selected])\n",
    "balanced_log_loss(y, y_xgb[:, 1])"
   ]
  },
  {
   "cell_type": "code",
   "execution_count": 134,
   "id": "cd50b40f",
   "metadata": {
    "_cell_guid": "1c2a7bfd-064e-48a4-a272-0942f2029927",
    "_uuid": "64b34c14-35a7-4cf2-b33d-191a909bc410",
    "execution": {
     "iopub.execute_input": "2023-08-08T14:46:21.729525Z",
     "iopub.status.busy": "2023-08-08T14:46:21.729189Z",
     "iopub.status.idle": "2023-08-08T14:46:24.481080Z",
     "shell.execute_reply": "2023-08-08T14:46:24.480259Z"
    },
    "jupyter": {
     "outputs_hidden": false
    },
    "papermill": {
     "duration": 2.851738,
     "end_time": "2023-08-08T14:46:24.483177",
     "exception": false,
     "start_time": "2023-08-08T14:46:21.631439",
     "status": "completed"
    },
    "tags": []
   },
   "outputs": [
    {
     "data": {
      "text/plain": [
       "0.009406157393156136"
      ]
     },
     "execution_count": 134,
     "metadata": {},
     "output_type": "execute_result"
    }
   ],
   "source": [
    "if use_best_fold:\n",
    "    xgb2 = best_model['xgb2'][1]\n",
    "else:\n",
    "    xgb2.fit(X, y, sample_weight=classes_weights2)\n",
    "y_xgb2 = xgb2.predict_proba(X)\n",
    "balanced_log_loss(y, y_xgb2[:, 1])"
   ]
  },
  {
   "cell_type": "code",
   "execution_count": 135,
   "id": "1bef137b",
   "metadata": {
    "_cell_guid": "a8853382-c587-416f-bce9-6f550a0b581b",
    "_uuid": "40f3e6c5-07ae-48a4-9971-93b7af6c9eba",
    "execution": {
     "iopub.execute_input": "2023-08-08T14:46:24.671381Z",
     "iopub.status.busy": "2023-08-08T14:46:24.671052Z",
     "iopub.status.idle": "2023-08-08T14:46:36.907173Z",
     "shell.execute_reply": "2023-08-08T14:46:36.905724Z"
    },
    "jupyter": {
     "outputs_hidden": false
    },
    "papermill": {
     "duration": 12.330664,
     "end_time": "2023-08-08T14:46:36.909794",
     "exception": false,
     "start_time": "2023-08-08T14:46:24.579130",
     "status": "completed"
    },
    "tags": []
   },
   "outputs": [
    {
     "data": {
      "text/plain": [
       "0.008054847147595887"
      ]
     },
     "execution_count": 135,
     "metadata": {},
     "output_type": "execute_result"
    }
   ],
   "source": [
    "if use_best_fold:\n",
    "    cb = best_model['cb'][1]\n",
    "else:\n",
    "    cb.fit(X[lgb_selected], y, logging_level=\"Silent\", sample_weight=classes_weights)\n",
    "y_cb = cb.predict_proba(X[lgb_selected])\n",
    "balanced_log_loss(y, y_cb[:, 1])"
   ]
  },
  {
   "cell_type": "code",
   "execution_count": 136,
   "id": "5cd6c1d9",
   "metadata": {
    "_cell_guid": "5458d33b-d573-4f32-98a9-5492e1526d42",
    "_uuid": "39fd9a51-9c1e-4c14-9224-7e034d4b27ee",
    "execution": {
     "iopub.execute_input": "2023-08-08T14:46:37.436534Z",
     "iopub.status.busy": "2023-08-08T14:46:37.435949Z",
     "iopub.status.idle": "2023-08-08T14:46:45.402882Z",
     "shell.execute_reply": "2023-08-08T14:46:45.401629Z"
    },
    "jupyter": {
     "outputs_hidden": false
    },
    "papermill": {
     "duration": 8.227778,
     "end_time": "2023-08-08T14:46:45.405168",
     "exception": false,
     "start_time": "2023-08-08T14:46:37.177390",
     "status": "completed"
    },
    "tags": []
   },
   "outputs": [
    {
     "data": {
      "text/plain": [
       "0.01049371670355281"
      ]
     },
     "execution_count": 136,
     "metadata": {},
     "output_type": "execute_result"
    }
   ],
   "source": [
    "if use_best_fold:\n",
    "    cb2 =  best_model['cb2'][1]\n",
    "else:\n",
    "    cb2.fit(X, y, logging_level=\"Silent\", sample_weight=classes_weights2)\n",
    "y_cb2 = cb2.predict_proba(X)\n",
    "balanced_log_loss(y, y_cb2[:, 1])"
   ]
  },
  {
   "cell_type": "code",
   "execution_count": 137,
   "id": "f99472aa",
   "metadata": {
    "_cell_guid": "ddcba527-6a5c-4083-9e06-7d279a2e4534",
    "_uuid": "f5aabb72-7694-4a8c-8590-2ba9f8616368",
    "execution": {
     "iopub.execute_input": "2023-08-08T14:46:45.760590Z",
     "iopub.status.busy": "2023-08-08T14:46:45.760113Z",
     "iopub.status.idle": "2023-08-08T14:46:46.787958Z",
     "shell.execute_reply": "2023-08-08T14:46:46.786915Z"
    },
    "jupyter": {
     "outputs_hidden": false
    },
    "papermill": {
     "duration": 1.158854,
     "end_time": "2023-08-08T14:46:46.790161",
     "exception": false,
     "start_time": "2023-08-08T14:46:45.631307",
     "status": "completed"
    },
    "tags": []
   },
   "outputs": [
    {
     "data": {
      "text/plain": [
       "0.0973662917000987"
      ]
     },
     "execution_count": 137,
     "metadata": {},
     "output_type": "execute_result"
    }
   ],
   "source": [
    "if use_best_fold:\n",
    "    rf = best_model['rf'][1]\n",
    "else:\n",
    "    rf.fit(X, y, sample_weight=classes_weights)\n",
    "y_rf = rf.predict_proba(X)\n",
    "balanced_log_loss(y, y_rf[:, 1])"
   ]
  },
  {
   "cell_type": "code",
   "execution_count": null,
   "id": "9e238cf6",
   "metadata": {
    "_cell_guid": "65a0eafc-e7c9-4138-ba7b-af5ce2c364ee",
    "_uuid": "2dc1fdb3-95b5-4db8-b6a4-237a1f48ec05",
    "jupyter": {
     "outputs_hidden": false
    },
    "papermill": {
     "duration": 0.092272,
     "end_time": "2023-08-08T14:46:46.978734",
     "exception": false,
     "start_time": "2023-08-08T14:46:46.886462",
     "status": "completed"
    },
    "tags": []
   },
   "outputs": [],
   "source": []
  },
  {
   "cell_type": "code",
   "execution_count": 138,
   "id": "7d23315a",
   "metadata": {
    "_cell_guid": "e957d36b-46c2-4279-870a-31458db7bbf4",
    "_uuid": "8ecb1f89-5261-4524-ab3c-91d5d9929a32",
    "execution": {
     "iopub.execute_input": "2023-08-08T14:46:47.167668Z",
     "iopub.status.busy": "2023-08-08T14:46:47.167273Z",
     "iopub.status.idle": "2023-08-08T14:46:47.181117Z",
     "shell.execute_reply": "2023-08-08T14:46:47.180125Z"
    },
    "jupyter": {
     "outputs_hidden": false
    },
    "papermill": {
     "duration": 0.112085,
     "end_time": "2023-08-08T14:46:47.183237",
     "exception": false,
     "start_time": "2023-08-08T14:46:47.071152",
     "status": "completed"
    },
    "tags": []
   },
   "outputs": [
    {
     "data": {
      "text/plain": [
       "0.06488931036212349"
      ]
     },
     "execution_count": 138,
     "metadata": {},
     "output_type": "execute_result"
    }
   ],
   "source": [
    "XX = torch.Tensor(X[X.columns[:-1]].to_numpy()).to(device)\n",
    "y_nn, features = nn_predict_proba(XX, nn_single_model)\n",
    "features = features.detach().cpu().numpy()\n",
    "balanced_log_loss(y, y_nn[:, 1])"
   ]
  },
  {
   "cell_type": "code",
   "execution_count": 139,
   "id": "fe2de7cc",
   "metadata": {
    "_cell_guid": "8ebf0aa3-364c-4b82-aaf9-d8cff47761a4",
    "_uuid": "12425216-fbac-40f5-bddb-8f42eeeae56d",
    "execution": {
     "iopub.execute_input": "2023-08-08T14:46:47.369848Z",
     "iopub.status.busy": "2023-08-08T14:46:47.369539Z",
     "iopub.status.idle": "2023-08-08T14:46:47.409570Z",
     "shell.execute_reply": "2023-08-08T14:46:47.408603Z"
    },
    "jupyter": {
     "outputs_hidden": false
    },
    "papermill": {
     "duration": 0.136924,
     "end_time": "2023-08-08T14:46:47.412597",
     "exception": false,
     "start_time": "2023-08-08T14:46:47.275673",
     "status": "completed"
    },
    "tags": []
   },
   "outputs": [
    {
     "data": {
      "text/plain": [
       "0.10552234001369916"
      ]
     },
     "execution_count": 139,
     "metadata": {},
     "output_type": "execute_result"
    }
   ],
   "source": [
    "if use_best_fold:\n",
    "    knn = best_model['knn'][1]\n",
    "else:\n",
    "    knn.fit(features, y)#, sample_weight=weights)\n",
    "y_xxx = knn.predict_proba(features)\n",
    "y_xxx = calc_new_pred(y_xxx)\n",
    "balanced_log_loss(y, y_xxx[:, 1])"
   ]
  },
  {
   "cell_type": "code",
   "execution_count": 140,
   "id": "dfacd04e",
   "metadata": {
    "_cell_guid": "3ea2def8-d43d-440f-9e3d-69e9ef9ca5cf",
    "_uuid": "594052d8-9039-403b-b91f-4b6a5b31b112",
    "execution": {
     "iopub.execute_input": "2023-08-08T14:46:47.654712Z",
     "iopub.status.busy": "2023-08-08T14:46:47.654339Z",
     "iopub.status.idle": "2023-08-08T14:46:47.668924Z",
     "shell.execute_reply": "2023-08-08T14:46:47.667956Z"
    },
    "jupyter": {
     "outputs_hidden": false
    },
    "papermill": {
     "duration": 0.112625,
     "end_time": "2023-08-08T14:46:47.671265",
     "exception": false,
     "start_time": "2023-08-08T14:46:47.558640",
     "status": "completed"
    },
    "tags": []
   },
   "outputs": [
    {
     "data": {
      "text/plain": [
       "0.09350692310282017"
      ]
     },
     "execution_count": 140,
     "metadata": {},
     "output_type": "execute_result"
    }
   ],
   "source": [
    "XX = torch.Tensor(X[X.columns[:-1]].to_numpy()).to(device)\n",
    "y_nn2, features = nn_predict_proba(XX, nn_single_model2)\n",
    "features = features.detach().cpu().numpy()\n",
    "balanced_log_loss(y, y_nn2[:, 1])"
   ]
  },
  {
   "cell_type": "code",
   "execution_count": 141,
   "id": "1c16df93",
   "metadata": {
    "_cell_guid": "e6b4b52c-2b6a-44fc-9e0b-723edf628caf",
    "_uuid": "513d414d-7140-4d67-8131-4d8e80558e88",
    "execution": {
     "iopub.execute_input": "2023-08-08T14:46:47.867609Z",
     "iopub.status.busy": "2023-08-08T14:46:47.865686Z",
     "iopub.status.idle": "2023-08-08T14:46:47.913237Z",
     "shell.execute_reply": "2023-08-08T14:46:47.911840Z"
    },
    "jupyter": {
     "outputs_hidden": false
    },
    "papermill": {
     "duration": 0.15248,
     "end_time": "2023-08-08T14:46:47.916520",
     "exception": false,
     "start_time": "2023-08-08T14:46:47.764040",
     "status": "completed"
    },
    "tags": []
   },
   "outputs": [
    {
     "data": {
      "text/plain": [
       "0.13315951710796178"
      ]
     },
     "execution_count": 141,
     "metadata": {},
     "output_type": "execute_result"
    }
   ],
   "source": [
    "if use_best_fold:\n",
    "    knn2 = best_model['knn2'][1]\n",
    "else:\n",
    "    knn2.fit(features, y)#, sample_weight=weights)\n",
    "y_xxx2 = knn2.predict_proba(features)\n",
    "y_xxx2 = calc_new_pred(y_xxx2)\n",
    "balanced_log_loss(y, y_xxx2[:, 1])"
   ]
  },
  {
   "cell_type": "code",
   "execution_count": null,
   "id": "3d6fbd58",
   "metadata": {
    "_cell_guid": "c57d05ca-1912-4d73-ae41-b2e6c4c9b53a",
    "_uuid": "4ade90d5-c251-4340-83dd-492c8672dfcd",
    "jupyter": {
     "outputs_hidden": false
    },
    "papermill": {
     "duration": 0.103678,
     "end_time": "2023-08-08T14:46:48.173737",
     "exception": false,
     "start_time": "2023-08-08T14:46:48.070059",
     "status": "completed"
    },
    "tags": []
   },
   "outputs": [],
   "source": []
  },
  {
   "cell_type": "code",
   "execution_count": 142,
   "id": "e2244eba",
   "metadata": {
    "_cell_guid": "96a4847a-a047-4fbf-978a-ad03b7c07622",
    "_uuid": "41007a35-22c3-4998-b5ee-e6eb38de88b9",
    "execution": {
     "iopub.execute_input": "2023-08-08T14:46:48.366915Z",
     "iopub.status.busy": "2023-08-08T14:46:48.366525Z",
     "iopub.status.idle": "2023-08-08T14:46:48.372919Z",
     "shell.execute_reply": "2023-08-08T14:46:48.371835Z"
    },
    "jupyter": {
     "outputs_hidden": false
    },
    "papermill": {
     "duration": 0.104406,
     "end_time": "2023-08-08T14:46:48.375414",
     "exception": false,
     "start_time": "2023-08-08T14:46:48.271008",
     "status": "completed"
    },
    "tags": []
   },
   "outputs": [],
   "source": [
    "# tabpfnには正則化する前のデータを入力する\n",
    "X = df_train_noscale[df_train.columns[:-1]]\n",
    "y = df_train_noscale.Class"
   ]
  },
  {
   "cell_type": "code",
   "execution_count": 143,
   "id": "eda6fceb",
   "metadata": {
    "_cell_guid": "b773df88-59ce-4168-b90a-05fe669e835e",
    "_uuid": "6eac832d-1345-4780-b30d-2dbf21cae82e",
    "execution": {
     "iopub.execute_input": "2023-08-08T14:46:48.624429Z",
     "iopub.status.busy": "2023-08-08T14:46:48.624063Z",
     "iopub.status.idle": "2023-08-08T14:46:50.799162Z",
     "shell.execute_reply": "2023-08-08T14:46:50.798033Z"
    },
    "jupyter": {
     "outputs_hidden": false
    },
    "papermill": {
     "duration": 2.277067,
     "end_time": "2023-08-08T14:46:50.801599",
     "exception": false,
     "start_time": "2023-08-08T14:46:48.524532",
     "status": "completed"
    },
    "tags": []
   },
   "outputs": [
    {
     "data": {
      "text/plain": [
       "0.034971710037471536"
      ]
     },
     "execution_count": 143,
     "metadata": {},
     "output_type": "execute_result"
    }
   ],
   "source": [
    "if use_best_fold:\n",
    "    tab = best_model['tab'][1]\n",
    "else:\n",
    "    tab.fit(X[lgb_selected], y)\n",
    "y_tab = tab.predict_proba(X[lgb_selected])\n",
    "y_tab = calc_new_pred(y_tab) # <- ここに入れるのは良いかも\n",
    "balanced_log_loss(y, y_tab[:, 1])"
   ]
  },
  {
   "cell_type": "code",
   "execution_count": 144,
   "id": "a55bdd53",
   "metadata": {
    "_cell_guid": "43b09bd7-564b-420a-8879-183f30ee8d9b",
    "_uuid": "fdc3f113-b5ee-4ada-ba1d-ece7741e34ae",
    "execution": {
     "iopub.execute_input": "2023-08-08T14:46:51.000754Z",
     "iopub.status.busy": "2023-08-08T14:46:51.000398Z",
     "iopub.status.idle": "2023-08-08T14:46:52.293507Z",
     "shell.execute_reply": "2023-08-08T14:46:52.292540Z"
    },
    "jupyter": {
     "outputs_hidden": false
    },
    "papermill": {
     "duration": 1.393277,
     "end_time": "2023-08-08T14:46:52.295799",
     "exception": false,
     "start_time": "2023-08-08T14:46:50.902522",
     "status": "completed"
    },
    "tags": []
   },
   "outputs": [
    {
     "data": {
      "text/plain": [
       "0.0317666374675501"
      ]
     },
     "execution_count": 144,
     "metadata": {},
     "output_type": "execute_result"
    }
   ],
   "source": [
    "if use_best_fold:\n",
    "    tab2 = best_model['tab2'][1]\n",
    "else:\n",
    "    tab2.fit(X, y)\n",
    "y_tab2 = tab2.predict_proba(X)\n",
    "y_tab2 = calc_new_pred(y_tab2) # <- ここに入れるのは良いかも\n",
    "balanced_log_loss(y, y_tab2[:, 1])"
   ]
  },
  {
   "cell_type": "code",
   "execution_count": 145,
   "id": "fe02ef57",
   "metadata": {
    "_cell_guid": "c06f582a-2144-4fc6-ab71-6b476529134b",
    "_uuid": "e41b2f71-fa51-4a87-acf2-0d245d1dbea1",
    "execution": {
     "iopub.execute_input": "2023-08-08T14:46:52.491523Z",
     "iopub.status.busy": "2023-08-08T14:46:52.490560Z",
     "iopub.status.idle": "2023-08-08T14:46:52.501757Z",
     "shell.execute_reply": "2023-08-08T14:46:52.500757Z"
    },
    "jupyter": {
     "outputs_hidden": false
    },
    "papermill": {
     "duration": 0.108791,
     "end_time": "2023-08-08T14:46:52.503753",
     "exception": false,
     "start_time": "2023-08-08T14:46:52.394962",
     "status": "completed"
    },
    "tags": []
   },
   "outputs": [
    {
     "data": {
      "text/plain": [
       "0.12274061552771373"
      ]
     },
     "execution_count": 145,
     "metadata": {},
     "output_type": "execute_result"
    }
   ],
   "source": [
    "pred = ((y_lgb + y_lgb2)/2*a[0] +\n",
    "        (y_xgb + y_xgb2)/2*a[1] +\n",
    "        (y_cb + y_cb2)/2*a[2] + \n",
    "        y_xxx2 * a[3] + \n",
    "        y_nn * a[4] +\n",
    "        y_xxx *a[5] + \n",
    "        (y_tab + y_tab2)/2*a[6]\n",
    "       )/sum(a)\n",
    "\n",
    "balanced_log_loss(y,pred[:, 1])"
   ]
  },
  {
   "cell_type": "code",
   "execution_count": 146,
   "id": "e41a0664",
   "metadata": {
    "_cell_guid": "3b6832e0-7d18-4726-b2e1-e30a65e101a5",
    "_uuid": "8319de72-4c14-4f18-8818-d99fd17a022e",
    "execution": {
     "iopub.execute_input": "2023-08-08T14:46:52.691312Z",
     "iopub.status.busy": "2023-08-08T14:46:52.691010Z",
     "iopub.status.idle": "2023-08-08T14:46:52.700024Z",
     "shell.execute_reply": "2023-08-08T14:46:52.699035Z"
    },
    "jupyter": {
     "outputs_hidden": false
    },
    "papermill": {
     "duration": 0.104229,
     "end_time": "2023-08-08T14:46:52.701929",
     "exception": false,
     "start_time": "2023-08-08T14:46:52.597700",
     "status": "completed"
    },
    "tags": []
   },
   "outputs": [
    {
     "data": {
      "text/plain": [
       "0.0598740054481277"
      ]
     },
     "execution_count": 146,
     "metadata": {},
     "output_type": "execute_result"
    }
   ],
   "source": [
    "pred = calc_new_pred(pred)\n",
    "balanced_log_loss(y, pred[:, 1])"
   ]
  },
  {
   "cell_type": "code",
   "execution_count": 147,
   "id": "1fe2382a",
   "metadata": {
    "_cell_guid": "6dbeb067-411c-4e12-ac9d-92817f7c2ac4",
    "_uuid": "56889c0d-4aaa-4323-83c0-e262c99bc655",
    "execution": {
     "iopub.execute_input": "2023-08-08T14:46:52.891627Z",
     "iopub.status.busy": "2023-08-08T14:46:52.890823Z",
     "iopub.status.idle": "2023-08-08T14:46:52.912892Z",
     "shell.execute_reply": "2023-08-08T14:46:52.911928Z"
    },
    "jupyter": {
     "outputs_hidden": false
    },
    "papermill": {
     "duration": 0.120248,
     "end_time": "2023-08-08T14:46:52.914887",
     "exception": false,
     "start_time": "2023-08-08T14:46:52.794639",
     "status": "completed"
    },
    "tags": []
   },
   "outputs": [
    {
     "data": {
      "text/plain": [
       "0.013218655046703484"
      ]
     },
     "execution_count": 147,
     "metadata": {},
     "output_type": "execute_result"
    }
   ],
   "source": [
    "y_preds = np.concatenate([y_lgb, y_lgb2, y_xgb ,y_xgb2, y_cb, y_cb2, \n",
    "                                      y_rf, y_nn, y_nn2,  y_xxx, y_xxx2, y_tab, y_tab2, pred], axis=1)\n",
    "pred2 = lgb_2.predict_proba(y_preds)\n",
    "balanced_log_loss(y, pred2[:, 1])"
   ]
  },
  {
   "cell_type": "code",
   "execution_count": 148,
   "id": "a90ab842",
   "metadata": {
    "_cell_guid": "6eaa0547-635f-41f6-86f3-15320ba095e7",
    "_uuid": "f990fa3b-c03f-4b99-a227-6a65846a2071",
    "execution": {
     "iopub.execute_input": "2023-08-08T14:46:53.134276Z",
     "iopub.status.busy": "2023-08-08T14:46:53.133267Z",
     "iopub.status.idle": "2023-08-08T14:46:53.142927Z",
     "shell.execute_reply": "2023-08-08T14:46:53.141951Z"
    },
    "jupyter": {
     "outputs_hidden": false
    },
    "papermill": {
     "duration": 0.133803,
     "end_time": "2023-08-08T14:46:53.144929",
     "exception": false,
     "start_time": "2023-08-08T14:46:53.011126",
     "status": "completed"
    },
    "tags": []
   },
   "outputs": [
    {
     "data": {
      "text/plain": [
       "0.0348458013918857"
      ]
     },
     "execution_count": 148,
     "metadata": {},
     "output_type": "execute_result"
    }
   ],
   "source": [
    "pred2 = calc_new_pred(pred2)\n",
    "balanced_log_loss(y, pred2[:, 1])"
   ]
  },
  {
   "cell_type": "code",
   "execution_count": 149,
   "id": "069c7b9f",
   "metadata": {
    "_cell_guid": "611f39a6-1b35-4c12-9eb8-715fb3dfe73b",
    "_uuid": "52be72b0-daac-4097-a88f-a8dbc42deff1",
    "execution": {
     "iopub.execute_input": "2023-08-08T14:46:53.382338Z",
     "iopub.status.busy": "2023-08-08T14:46:53.381939Z",
     "iopub.status.idle": "2023-08-08T14:46:53.386850Z",
     "shell.execute_reply": "2023-08-08T14:46:53.385880Z"
    },
    "jupyter": {
     "outputs_hidden": false
    },
    "papermill": {
     "duration": 0.149094,
     "end_time": "2023-08-08T14:46:53.388896",
     "exception": false,
     "start_time": "2023-08-08T14:46:53.239802",
     "status": "completed"
    },
    "tags": []
   },
   "outputs": [],
   "source": [
    "# result = pd.DataFrame(y_lgb[:,1], columns=['lgb'])\n",
    "# result['lgb2'] = y_lgb2[:, 1]\n",
    "# result['xgb'] = y_xgb[:, 1]\n",
    "# result['xgb2'] = y_xgb2[:, 1]\n",
    "# result['cb'] = y_cb[:, 1]\n",
    "# result['cb2'] = y_cb2[:, 1]\n",
    "# result['rf'] = y_rf[:, 1]\n",
    "# result['nn'] = y_nn[:, 1]\n",
    "# result['knn'] = y_xxx[:, 1]\n",
    "# result['knn2'] = y_xxx2[:, 1]\n",
    "# result['tab'] = y_tab[:, 1]\n",
    "# result['tab2'] = y_tab2[:, 1]\n",
    "# sns.heatmap(result.corr(), vmax=1, vmin=0.9, center=0.95)\n",
    "# result.corr()"
   ]
  },
  {
   "cell_type": "code",
   "execution_count": 150,
   "id": "f65fcec2",
   "metadata": {
    "_cell_guid": "e7b0a36e-6437-4202-b4fb-0826a42d8a13",
    "_uuid": "b9bceaeb-c6c6-4131-a211-67ceb096a58b",
    "execution": {
     "iopub.execute_input": "2023-08-08T14:46:53.579890Z",
     "iopub.status.busy": "2023-08-08T14:46:53.579561Z",
     "iopub.status.idle": "2023-08-08T14:46:53.965867Z",
     "shell.execute_reply": "2023-08-08T14:46:53.964867Z"
    },
    "jupyter": {
     "outputs_hidden": false
    },
    "papermill": {
     "duration": 0.484877,
     "end_time": "2023-08-08T14:46:53.967836",
     "exception": false,
     "start_time": "2023-08-08T14:46:53.482959",
     "status": "completed"
    },
    "tags": []
   },
   "outputs": [
    {
     "data": {
      "text/html": [
       "<div>\n",
       "<style scoped>\n",
       "    .dataframe tbody tr th:only-of-type {\n",
       "        vertical-align: middle;\n",
       "    }\n",
       "\n",
       "    .dataframe tbody tr th {\n",
       "        vertical-align: top;\n",
       "    }\n",
       "\n",
       "    .dataframe thead th {\n",
       "        text-align: right;\n",
       "    }\n",
       "</style>\n",
       "<table border=\"1\" class=\"dataframe\">\n",
       "  <thead>\n",
       "    <tr style=\"text-align: right;\">\n",
       "      <th></th>\n",
       "      <th>lgb</th>\n",
       "      <th>xgb</th>\n",
       "      <th>cb</th>\n",
       "      <th>rf</th>\n",
       "      <th>nn</th>\n",
       "      <th>knn</th>\n",
       "      <th>knn2</th>\n",
       "      <th>tab</th>\n",
       "      <th>tab2</th>\n",
       "    </tr>\n",
       "  </thead>\n",
       "  <tbody>\n",
       "    <tr>\n",
       "      <th>lgb</th>\n",
       "      <td>1.000000</td>\n",
       "      <td>0.998823</td>\n",
       "      <td>0.999388</td>\n",
       "      <td>0.950136</td>\n",
       "      <td>0.936487</td>\n",
       "      <td>0.892353</td>\n",
       "      <td>0.854907</td>\n",
       "      <td>0.981603</td>\n",
       "      <td>0.984422</td>\n",
       "    </tr>\n",
       "    <tr>\n",
       "      <th>xgb</th>\n",
       "      <td>0.998823</td>\n",
       "      <td>1.000000</td>\n",
       "      <td>0.999410</td>\n",
       "      <td>0.960881</td>\n",
       "      <td>0.945814</td>\n",
       "      <td>0.901453</td>\n",
       "      <td>0.862305</td>\n",
       "      <td>0.986863</td>\n",
       "      <td>0.989175</td>\n",
       "    </tr>\n",
       "    <tr>\n",
       "      <th>cb</th>\n",
       "      <td>0.999388</td>\n",
       "      <td>0.999410</td>\n",
       "      <td>1.000000</td>\n",
       "      <td>0.956558</td>\n",
       "      <td>0.942551</td>\n",
       "      <td>0.899500</td>\n",
       "      <td>0.860092</td>\n",
       "      <td>0.984959</td>\n",
       "      <td>0.987425</td>\n",
       "    </tr>\n",
       "    <tr>\n",
       "      <th>rf</th>\n",
       "      <td>0.950136</td>\n",
       "      <td>0.960881</td>\n",
       "      <td>0.956558</td>\n",
       "      <td>1.000000</td>\n",
       "      <td>0.951268</td>\n",
       "      <td>0.912985</td>\n",
       "      <td>0.866386</td>\n",
       "      <td>0.969813</td>\n",
       "      <td>0.970160</td>\n",
       "    </tr>\n",
       "    <tr>\n",
       "      <th>nn</th>\n",
       "      <td>0.936487</td>\n",
       "      <td>0.945814</td>\n",
       "      <td>0.942551</td>\n",
       "      <td>0.951268</td>\n",
       "      <td>1.000000</td>\n",
       "      <td>0.957873</td>\n",
       "      <td>0.910108</td>\n",
       "      <td>0.967886</td>\n",
       "      <td>0.968778</td>\n",
       "    </tr>\n",
       "    <tr>\n",
       "      <th>knn</th>\n",
       "      <td>0.892353</td>\n",
       "      <td>0.901453</td>\n",
       "      <td>0.899500</td>\n",
       "      <td>0.912985</td>\n",
       "      <td>0.957873</td>\n",
       "      <td>1.000000</td>\n",
       "      <td>0.893161</td>\n",
       "      <td>0.932635</td>\n",
       "      <td>0.931421</td>\n",
       "    </tr>\n",
       "    <tr>\n",
       "      <th>knn2</th>\n",
       "      <td>0.854907</td>\n",
       "      <td>0.862305</td>\n",
       "      <td>0.860092</td>\n",
       "      <td>0.866386</td>\n",
       "      <td>0.910108</td>\n",
       "      <td>0.893161</td>\n",
       "      <td>1.000000</td>\n",
       "      <td>0.886406</td>\n",
       "      <td>0.887238</td>\n",
       "    </tr>\n",
       "    <tr>\n",
       "      <th>tab</th>\n",
       "      <td>0.981603</td>\n",
       "      <td>0.986863</td>\n",
       "      <td>0.984959</td>\n",
       "      <td>0.969813</td>\n",
       "      <td>0.967886</td>\n",
       "      <td>0.932635</td>\n",
       "      <td>0.886406</td>\n",
       "      <td>1.000000</td>\n",
       "      <td>0.998505</td>\n",
       "    </tr>\n",
       "    <tr>\n",
       "      <th>tab2</th>\n",
       "      <td>0.984422</td>\n",
       "      <td>0.989175</td>\n",
       "      <td>0.987425</td>\n",
       "      <td>0.970160</td>\n",
       "      <td>0.968778</td>\n",
       "      <td>0.931421</td>\n",
       "      <td>0.887238</td>\n",
       "      <td>0.998505</td>\n",
       "      <td>1.000000</td>\n",
       "    </tr>\n",
       "  </tbody>\n",
       "</table>\n",
       "</div>"
      ],
      "text/plain": [
       "           lgb       xgb        cb        rf        nn       knn      knn2  \\\n",
       "lgb   1.000000  0.998823  0.999388  0.950136  0.936487  0.892353  0.854907   \n",
       "xgb   0.998823  1.000000  0.999410  0.960881  0.945814  0.901453  0.862305   \n",
       "cb    0.999388  0.999410  1.000000  0.956558  0.942551  0.899500  0.860092   \n",
       "rf    0.950136  0.960881  0.956558  1.000000  0.951268  0.912985  0.866386   \n",
       "nn    0.936487  0.945814  0.942551  0.951268  1.000000  0.957873  0.910108   \n",
       "knn   0.892353  0.901453  0.899500  0.912985  0.957873  1.000000  0.893161   \n",
       "knn2  0.854907  0.862305  0.860092  0.866386  0.910108  0.893161  1.000000   \n",
       "tab   0.981603  0.986863  0.984959  0.969813  0.967886  0.932635  0.886406   \n",
       "tab2  0.984422  0.989175  0.987425  0.970160  0.968778  0.931421  0.887238   \n",
       "\n",
       "           tab      tab2  \n",
       "lgb   0.981603  0.984422  \n",
       "xgb   0.986863  0.989175  \n",
       "cb    0.984959  0.987425  \n",
       "rf    0.969813  0.970160  \n",
       "nn    0.967886  0.968778  \n",
       "knn   0.932635  0.931421  \n",
       "knn2  0.886406  0.887238  \n",
       "tab   1.000000  0.998505  \n",
       "tab2  0.998505  1.000000  "
      ]
     },
     "execution_count": 150,
     "metadata": {},
     "output_type": "execute_result"
    },
    {
     "data": {
      "image/png": "[encoded data removed]",
      "text/plain": [
       "<Figure size 640x480 with 2 Axes>"
      ]
     },
     "metadata": {},
     "output_type": "display_data"
    }
   ],
   "source": [
    "result = pd.DataFrame((y_lgb[:,1]+y_lgb2[:, 1])/2, columns=['lgb'])\n",
    "result['xgb'] = (y_xgb[:, 1] + y_xgb2[:, 1])/2\n",
    "result['cb'] = (y_cb[:, 1] + y_cb2[:, 1])/2\n",
    "result['rf'] = y_rf[:, 1]\n",
    "result['nn'] = y_nn[:, 1]\n",
    "result['knn'] = y_xxx[:, 1]\n",
    "result['knn2'] = y_xxx2[:, 1]\n",
    "result['tab'] = y_tab[:, 1]\n",
    "result['tab2'] = y_tab2[:, 1]\n",
    "\n",
    "corr = result.corr()\n",
    "ma, mi = corr.max().max(), corr.min().min()\n",
    "sns.heatmap(corr, vmax=ma, vmin=mi, center=(mi+ma)/2)\n",
    "corr"
   ]
  },
  {
   "cell_type": "markdown",
   "id": "b31e05fb",
   "metadata": {
    "_cell_guid": "bcc333fe-ccdb-4aa1-b10e-a4a6f672695a",
    "_uuid": "c870c812-1a5b-416d-b811-43aae5dd031a",
    "papermill": {
     "duration": 0.100874,
     "end_time": "2023-08-08T14:46:54.164223",
     "exception": false,
     "start_time": "2023-08-08T14:46:54.063349",
     "status": "completed"
    },
    "tags": []
   },
   "source": [
    "# infer"
   ]
  },
  {
   "cell_type": "code",
   "execution_count": 151,
   "id": "10fbd598",
   "metadata": {
    "_cell_guid": "c370d57f-0d16-4430-a64a-f66eccb456d7",
    "_uuid": "113259cd-f953-4b4c-b0f2-ea2efa4929c8",
    "execution": {
     "iopub.execute_input": "2023-08-08T14:46:54.359884Z",
     "iopub.status.busy": "2023-08-08T14:46:54.358905Z",
     "iopub.status.idle": "2023-08-08T14:46:56.827269Z",
     "shell.execute_reply": "2023-08-08T14:46:56.826317Z"
    },
    "jupyter": {
     "outputs_hidden": false
    },
    "papermill": {
     "duration": 2.567313,
     "end_time": "2023-08-08T14:46:56.829641",
     "exception": false,
     "start_time": "2023-08-08T14:46:54.262328",
     "status": "completed"
    },
    "tags": []
   },
   "outputs": [
    {
     "data": {
      "text/plain": [
       "array([[0., 1.],\n",
       "       [0., 1.],\n",
       "       [0., 1.],\n",
       "       [0., 1.],\n",
       "       [0., 1.]])"
      ]
     },
     "execution_count": 151,
     "metadata": {},
     "output_type": "execute_result"
    }
   ],
   "source": [
    "pred_lgb = lgb.predict_proba(df_test[lgb_selected])\n",
    "pred_xgb = xgb.predict_proba(df_test[lgb_selected])\n",
    "pred_cb = cb.predict_proba(df_test[lgb_selected])\n",
    "\n",
    "pred_lgb2 = lgb2.predict_proba(df_test)\n",
    "pred_xgb2 = xgb2.predict_proba(df_test)\n",
    "pred_cb2 = cb2.predict_proba(df_test)\n",
    "\n",
    "pred_rf = rf.predict_proba(df_test)\n",
    "\n",
    "XX = torch.Tensor(df_test[df_test.columns[:-1]].to_numpy()).to(device)\n",
    "pred_nn, pred_features = nn_predict_proba(XX, nn_single_model)\n",
    "pred_features = pred_features.detach().cpu().numpy()\n",
    "\n",
    "pred_xxx = knn.predict_proba(pred_features)\n",
    "pred_xxx = calc_new_pred(pred_xxx)\n",
    "\n",
    "XX = torch.Tensor(df_test[df_test.columns[:-1]].to_numpy()).to(device)\n",
    "pred_nn2, pred_features = nn_predict_proba(XX, nn_single_model2)\n",
    "pred_features = pred_features.detach().cpu().numpy()\n",
    "\n",
    "pred_xxx2 = knn2.predict_proba(pred_features)\n",
    "pred_xxx2 = calc_new_pred(pred_xxx2)\n",
    "\n",
    "pred_tab = tab.predict_proba(df_test_noscale[lgb_selected])\n",
    "pred_tab = calc_new_pred(pred_tab)\n",
    "pred_tab2 = tab2.predict_proba(df_test_noscale)\n",
    "pred_tab2 = calc_new_pred(pred_tab2)\n",
    "\n",
    "\n",
    "# 　全モデルが同じ選択の場合は、正解とする(y_rf除く)ーーーーーーーーーー\n",
    "th_c0 = xxx_th0\n",
    "sel0 = (pred_lgb > th_c0)&(pred_lgb2 > th_c0)&(pred_xgb > th_c0)&(pred_xgb2 > th_c0)&(pred_cb > th_c0)&(pred_cb2 > th_c0)&\\\n",
    "        (pred_nn > th_c0)&(pred_xxx > th_c0)&(pred_xxx > th_c0)&(pred_tab > th_c0)&(pred_tab2 > th_c0)\n",
    "th_c1 = xxx_th1\n",
    "sel1 = (pred_lgb > th_c1)&(pred_lgb2 > th_c1)&(pred_xgb > th_c1)&(pred_xgb2 > th_c1)&(pred_cb > th_c1)&(pred_cb2 > th_c1)&\\\n",
    "        (pred_nn > th_c1)&(pred_xxx > th_c1)&(pred_xxx > th_c1)&(pred_tab > th_c1)&(pred_tab2 > th_c1)\n",
    "#ーーーーーーーーーーーーーーーーーーーーーーーーーーーーーーーーーーー\n",
    "\n",
    "\n",
    "\n",
    "\n",
    "pred = (\n",
    "    pred_lgb * a[0] + \n",
    "    pred_lgb2 * a[1] + \n",
    "    pred_xgb * a[2] + \n",
    "    pred_xgb2 * a[3] + \n",
    "    pred_cb  * a[4] + \n",
    "    pred_cb2  * a[5] + \n",
    "    pred_rf  * a[6] + \n",
    "    pred_nn  * a[7] + \n",
    "    pred_nn2  * a[8] + \n",
    "    pred_xxx * a[9] + \n",
    "    pred_xxx2 * a[10] + \n",
    "    pred_tab * a[11] + \n",
    "    pred_tab2 * a[12] ) /sum(a)\n",
    "\n",
    "# print(pred)\n",
    "    \n",
    "p0 = pred[:, 0]\n",
    "p0 = sigmoid((p0-0.5)*xxx_alpha)\n",
    "p0 = (p0 - min(p0))/(max(p0)-min(p0)+1e-15)\n",
    "\n",
    "p0[p0 > 0.99] = 1\n",
    "p0[p0 < 0.01] = 0\n",
    "\n",
    "# 　全モデルが同じ選択の場合は、正解とする(y_rf除く)ーーーーーーーーーー\n",
    "p0[sel0[:, 0]] = 1\n",
    "p0[sel1[:, 1]] = 0\n",
    "#ーーーーーーーーーーーーーーーーーーーーーーーーーーーーーーーーーーー\n",
    "\n",
    "pred[:,1] = 1-p0\n",
    "pred[:,0] = p0      \n",
    "\n",
    "\n",
    "if use_new_pred:\n",
    "    pred = calc_new_pred(pred)\n",
    "    \n",
    "    \n",
    "pred2 = np.concatenate([pred_lgb, pred_lgb2, pred_xgb ,pred_xgb2, pred_cb, pred_cb2, \n",
    "                                      pred_rf, pred_nn, pred_nn2,  pred_xxx, pred_xxx2, pred_tab, pred_tab2, pred], axis=1)\n",
    "pred2 = lgb_2.predict_proba(pred2)\n",
    "\n",
    "# pred = (pred + pred2)/2\n",
    "pred"
   ]
  },
  {
   "cell_type": "code",
   "execution_count": 152,
   "id": "3e0bd299",
   "metadata": {
    "_cell_guid": "fb6c735d-f831-4461-a0f5-2f335cacbb73",
    "_uuid": "32831714-94eb-4f14-9f44-8231a24d8912",
    "execution": {
     "iopub.execute_input": "2023-08-08T14:46:57.023257Z",
     "iopub.status.busy": "2023-08-08T14:46:57.022895Z",
     "iopub.status.idle": "2023-08-08T14:46:57.027036Z",
     "shell.execute_reply": "2023-08-08T14:46:57.026041Z"
    },
    "jupyter": {
     "outputs_hidden": false
    },
    "papermill": {
     "duration": 0.101756,
     "end_time": "2023-08-08T14:46:57.029149",
     "exception": false,
     "start_time": "2023-08-08T14:46:56.927393",
     "status": "completed"
    },
    "tags": []
   },
   "outputs": [],
   "source": [
    "# if use_new_pred:\n",
    "#     pred = calc_new_pred(pred)\n",
    "# pred"
   ]
  },
  {
   "cell_type": "code",
   "execution_count": 153,
   "id": "033b6daa",
   "metadata": {
    "_cell_guid": "3b0a43d9-c23a-41b3-b951-350358d11813",
    "_uuid": "512a64af-7332-44ee-83b4-5de4b269c537",
    "execution": {
     "iopub.execute_input": "2023-08-08T14:46:57.223224Z",
     "iopub.status.busy": "2023-08-08T14:46:57.222491Z",
     "iopub.status.idle": "2023-08-08T14:46:57.232873Z",
     "shell.execute_reply": "2023-08-08T14:46:57.232030Z"
    },
    "jupyter": {
     "outputs_hidden": false
    },
    "papermill": {
     "duration": 0.109223,
     "end_time": "2023-08-08T14:46:57.235024",
     "exception": false,
     "start_time": "2023-08-08T14:46:57.125801",
     "status": "completed"
    },
    "tags": []
   },
   "outputs": [],
   "source": [
    "submission0 = pd.read_csv('../input/icr-identify-age-related-conditions/sample_submission.csv')\n",
    "submission0['class_0'] = pred[:,0]\n",
    "submission0['class_1'] = pred[:,1]"
   ]
  },
  {
   "cell_type": "code",
   "execution_count": 154,
   "id": "a62786ae",
   "metadata": {
    "execution": {
     "iopub.execute_input": "2023-08-08T14:46:57.426312Z",
     "iopub.status.busy": "2023-08-08T14:46:57.425481Z",
     "iopub.status.idle": "2023-08-08T14:46:57.430208Z",
     "shell.execute_reply": "2023-08-08T14:46:57.429327Z"
    },
    "papermill": {
     "duration": 0.102211,
     "end_time": "2023-08-08T14:46:57.432188",
     "exception": false,
     "start_time": "2023-08-08T14:46:57.329977",
     "status": "completed"
    },
    "tags": []
   },
   "outputs": [],
   "source": [
    "# submission['class_0'] = (submission['class_0'] + submission0['class_0'])/2\n",
    "# submission['class_1'] = (submission['class_1'] + submission0['class_1'])/2\n",
    "# submission.head()"
   ]
  },
  {
   "cell_type": "code",
   "execution_count": 155,
   "id": "85684eff",
   "metadata": {
    "execution": {
     "iopub.execute_input": "2023-08-08T14:46:57.631223Z",
     "iopub.status.busy": "2023-08-08T14:46:57.630861Z",
     "iopub.status.idle": "2023-08-08T14:46:57.646364Z",
     "shell.execute_reply": "2023-08-08T14:46:57.645358Z"
    },
    "papermill": {
     "duration": 0.119136,
     "end_time": "2023-08-08T14:46:57.648766",
     "exception": false,
     "start_time": "2023-08-08T14:46:57.529630",
     "status": "completed"
    },
    "tags": []
   },
   "outputs": [
    {
     "data": {
      "text/html": [
       "<div>\n",
       "<style scoped>\n",
       "    .dataframe tbody tr th:only-of-type {\n",
       "        vertical-align: middle;\n",
       "    }\n",
       "\n",
       "    .dataframe tbody tr th {\n",
       "        vertical-align: top;\n",
       "    }\n",
       "\n",
       "    .dataframe thead th {\n",
       "        text-align: right;\n",
       "    }\n",
       "</style>\n",
       "<table border=\"1\" class=\"dataframe\">\n",
       "  <thead>\n",
       "    <tr style=\"text-align: right;\">\n",
       "      <th></th>\n",
       "      <th>Id</th>\n",
       "      <th>class_0</th>\n",
       "      <th>class_1</th>\n",
       "    </tr>\n",
       "  </thead>\n",
       "  <tbody>\n",
       "    <tr>\n",
       "      <th>0</th>\n",
       "      <td>00eed32682bb</td>\n",
       "      <td>0.302384</td>\n",
       "      <td>0.697616</td>\n",
       "    </tr>\n",
       "    <tr>\n",
       "      <th>1</th>\n",
       "      <td>010ebe33f668</td>\n",
       "      <td>0.302384</td>\n",
       "      <td>0.697616</td>\n",
       "    </tr>\n",
       "    <tr>\n",
       "      <th>2</th>\n",
       "      <td>02fa521e1838</td>\n",
       "      <td>0.302384</td>\n",
       "      <td>0.697616</td>\n",
       "    </tr>\n",
       "    <tr>\n",
       "      <th>3</th>\n",
       "      <td>040e15f562a2</td>\n",
       "      <td>0.302384</td>\n",
       "      <td>0.697616</td>\n",
       "    </tr>\n",
       "    <tr>\n",
       "      <th>4</th>\n",
       "      <td>046e85c7cc7f</td>\n",
       "      <td>0.302384</td>\n",
       "      <td>0.697616</td>\n",
       "    </tr>\n",
       "  </tbody>\n",
       "</table>\n",
       "</div>"
      ],
      "text/plain": [
       "             Id   class_0   class_1\n",
       "0  00eed32682bb  0.302384  0.697616\n",
       "1  010ebe33f668  0.302384  0.697616\n",
       "2  02fa521e1838  0.302384  0.697616\n",
       "3  040e15f562a2  0.302384  0.697616\n",
       "4  046e85c7cc7f  0.302384  0.697616"
      ]
     },
     "execution_count": 155,
     "metadata": {},
     "output_type": "execute_result"
    }
   ],
   "source": [
    "submission = pd.read_csv('../input/icr-identify-age-related-conditions/sample_submission.csv')\n",
    "submission['class_0'] = (submission0['class_0'] + submission1['class_0'])/2\n",
    "submission['class_1'] = (submission0['class_1'] + submission1['class_1'])/2\n",
    "submission.head()"
   ]
  },
  {
   "cell_type": "code",
   "execution_count": 217,
   "id": "9c15ba8b",
   "metadata": {
    "execution": {
     "iopub.execute_input": "2023-08-08T14:46:57.856588Z",
     "iopub.status.busy": "2023-08-08T14:46:57.856236Z",
     "iopub.status.idle": "2023-08-08T14:46:57.862446Z",
     "shell.execute_reply": "2023-08-08T14:46:57.861426Z"
    },
    "papermill": {
     "duration": 0.1098,
     "end_time": "2023-08-08T14:46:57.864624",
     "exception": false,
     "start_time": "2023-08-08T14:46:57.754824",
     "status": "completed"
    },
    "tags": []
   },
   "outputs": [],
   "source": [
    "p1 = submission['class_0'].to_numpy()\n",
    "p0 = submission0['class_0'].to_numpy()\n",
    "sel1 = (p0 == 1)\n",
    "sel0 = (p0 == 0)\n",
    "p1[sel1] = 1\n",
    "p1[sel0] = 0\n",
    "submission['class_0'] = p1\n",
    "submission['class_1'] = 1 - p1"
   ]
  },
  {
   "cell_type": "code",
   "execution_count": 157,
   "id": "1982b16e",
   "metadata": {
    "execution": {
     "iopub.execute_input": "2023-08-08T14:46:58.072246Z",
     "iopub.status.busy": "2023-08-08T14:46:58.070475Z",
     "iopub.status.idle": "2023-08-08T14:46:58.075618Z",
     "shell.execute_reply": "2023-08-08T14:46:58.074666Z"
    },
    "papermill": {
     "duration": 0.105567,
     "end_time": "2023-08-08T14:46:58.077671",
     "exception": false,
     "start_time": "2023-08-08T14:46:57.972104",
     "status": "completed"
    },
    "tags": []
   },
   "outputs": [],
   "source": [
    "# submission['class_0'] = (submission['class_0'] + submission1['class_0'] + submission0['class_0'])/3\n",
    "# submission['class_1'] = (submission['class_1'] + submission1['class_1'] + submission0['class_1'])/3\n",
    "# submission.head()"
   ]
  },
  {
   "cell_type": "code",
   "execution_count": 158,
   "id": "ed5fd236",
   "metadata": {
    "_cell_guid": "c2039547-ed49-4d6a-ae3c-41e1c2ea5335",
    "_uuid": "1ee160de-6455-4da4-b7a5-73efd3a09593",
    "execution": {
     "iopub.execute_input": "2023-08-08T14:46:58.275423Z",
     "iopub.status.busy": "2023-08-08T14:46:58.274759Z",
     "iopub.status.idle": "2023-08-08T14:46:58.290219Z",
     "shell.execute_reply": "2023-08-08T14:46:58.289258Z"
    },
    "jupyter": {
     "outputs_hidden": false
    },
    "papermill": {
     "duration": 0.115004,
     "end_time": "2023-08-08T14:46:58.292222",
     "exception": false,
     "start_time": "2023-08-08T14:46:58.177218",
     "status": "completed"
    },
    "tags": []
   },
   "outputs": [
    {
     "data": {
      "text/html": [
       "<div>\n",
       "<style scoped>\n",
       "    .dataframe tbody tr th:only-of-type {\n",
       "        vertical-align: middle;\n",
       "    }\n",
       "\n",
       "    .dataframe tbody tr th {\n",
       "        vertical-align: top;\n",
       "    }\n",
       "\n",
       "    .dataframe thead th {\n",
       "        text-align: right;\n",
       "    }\n",
       "</style>\n",
       "<table border=\"1\" class=\"dataframe\">\n",
       "  <thead>\n",
       "    <tr style=\"text-align: right;\">\n",
       "      <th></th>\n",
       "      <th>Id</th>\n",
       "      <th>class_0</th>\n",
       "      <th>class_1</th>\n",
       "    </tr>\n",
       "  </thead>\n",
       "  <tbody>\n",
       "    <tr>\n",
       "      <th>0</th>\n",
       "      <td>00eed32682bb</td>\n",
       "      <td>0.0</td>\n",
       "      <td>1.0</td>\n",
       "    </tr>\n",
       "    <tr>\n",
       "      <th>1</th>\n",
       "      <td>010ebe33f668</td>\n",
       "      <td>0.0</td>\n",
       "      <td>1.0</td>\n",
       "    </tr>\n",
       "    <tr>\n",
       "      <th>2</th>\n",
       "      <td>02fa521e1838</td>\n",
       "      <td>0.0</td>\n",
       "      <td>1.0</td>\n",
       "    </tr>\n",
       "    <tr>\n",
       "      <th>3</th>\n",
       "      <td>040e15f562a2</td>\n",
       "      <td>0.0</td>\n",
       "      <td>1.0</td>\n",
       "    </tr>\n",
       "    <tr>\n",
       "      <th>4</th>\n",
       "      <td>046e85c7cc7f</td>\n",
       "      <td>0.0</td>\n",
       "      <td>1.0</td>\n",
       "    </tr>\n",
       "  </tbody>\n",
       "</table>\n",
       "</div>"
      ],
      "text/plain": [
       "             Id  class_0  class_1\n",
       "0  00eed32682bb      0.0      1.0\n",
       "1  010ebe33f668      0.0      1.0\n",
       "2  02fa521e1838      0.0      1.0\n",
       "3  040e15f562a2      0.0      1.0\n",
       "4  046e85c7cc7f      0.0      1.0"
      ]
     },
     "execution_count": 158,
     "metadata": {},
     "output_type": "execute_result"
    }
   ],
   "source": [
    "submission.to_csv('submission.csv', index=False)\n",
    "submission"
   ]
  },
  {
   "cell_type": "code",
   "execution_count": null,
   "id": "75ac2634",
   "metadata": {
    "_cell_guid": "38ca2254-0c1b-4162-9279-b29761158003",
    "_uuid": "71297f8b-af40-4a66-b75d-10376a7c92df",
    "jupyter": {
     "outputs_hidden": false
    },
    "papermill": {
     "duration": 0.095349,
     "end_time": "2023-08-08T14:46:58.486956",
     "exception": false,
     "start_time": "2023-08-08T14:46:58.391607",
     "status": "completed"
    },
    "tags": []
   },
   "outputs": [],
   "source": []
  }
 ],
 "metadata": {
  "kernelspec": {
   "display_name": "Python 3 (ipykernel)",
   "language": "python",
   "name": "python3"
  },
  "language_info": {
   "codemirror_mode": {
    "name": "ipython",
    "version": 3
   },
   "file_extension": ".py",
   "mimetype": "text/x-python",
   "name": "python",
   "nbconvert_exporter": "python",
   "pygments_lexer": "ipython3",
   "version": "3.8.10"
  },
  "papermill": {
   "default_parameters": {},
   "duration": 2221.352509,
   "end_time": "2023-08-08T14:47:01.464165",
   "environment_variables": {},
   "exception": null,
   "input_path": "__notebook__.ipynb",
   "output_path": "__notebook__.ipynb",
   "parameters": {},
   "start_time": "2023-08-08T14:10:00.111656",
   "version": "2.4.0"
  }
 },
 "nbformat": 4,
 "nbformat_minor": 5
}
