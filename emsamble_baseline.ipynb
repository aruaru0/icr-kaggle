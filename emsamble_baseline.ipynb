{
 "cells": [
  {
   "cell_type": "code",
   "execution_count": 2,
   "id": "f850a771",
   "metadata": {},
   "outputs": [],
   "source": [
    "!pip install lightgbm\n",
    "!pip install catboost\n",
    "!pip install xgboost\n",
    "!pip install tabpfn\n",
    "!pip install seaborn\n",
    "!pip install optuna"
   ]
  },
  {
   "cell_type": "code",
   "execution_count": 3,
   "id": "d499dc9e",
   "metadata": {},
   "outputs": [],
   "source": [
    "import pandas as pd\n",
    "import numpy as np\n",
    "from sklearn.metrics import make_scorer\n",
    "from sklearn import metrics\n",
    "from sklearn.preprocessing import RobustScaler\n",
    "from sklearn.utils.class_weight import compute_sample_weight\n",
    "from sklearn.model_selection import StratifiedKFold\n",
    "\n",
    "import optuna\n",
    "\n",
    "import matplotlib.pyplot as plt\n",
    "import seaborn as sns\n",
    "from datetime import date, datetime\n",
    "import warnings\n",
    "warnings.filterwarnings(\"ignore\")"
   ]
  },
  {
   "cell_type": "code",
   "execution_count": 4,
   "id": "751490a4",
   "metadata": {},
   "outputs": [],
   "source": [
    "#from tabpfn import TabPFNClassifier\n",
    "from tabpfn.scripts.transformer_prediction_interface import TabPFNClassifier\n",
    "from lightgbm import LGBMClassifier\n",
    "from xgboost import XGBClassifier\n",
    "from catboost import CatBoostClassifier"
   ]
  },
  {
   "cell_type": "markdown",
   "id": "07bf5930",
   "metadata": {},
   "source": [
    "# Read DATAS"
   ]
  },
  {
   "cell_type": "code",
   "execution_count": 5,
   "id": "d53c0aa7",
   "metadata": {},
   "outputs": [],
   "source": [
    "df = pd.read_csv(\"../input/icr-identify-age-related-conditions/train.csv\", index_col=[0])\n",
    "greeks_df = pd.read_csv(\"../input/icr-identify-age-related-conditions/greeks.csv\", index_col=[0])\n",
    "\n",
    "# マジック（Epsilonを入れる）　🌟\n",
    "times = greeks_df.Epsilon.copy()\n",
    "times[greeks_df.Epsilon != 'Unknown'] = greeks_df.Epsilon[greeks_df.Epsilon != 'Unknown'].map(lambda x: datetime.strptime(x,'%m/%d/%Y').toordinal())\n",
    "times[greeks_df.Epsilon == 'Unknown'] = greeks_df.Epsilon[greeks_df.Epsilon != 'Unknown'].map(lambda x: datetime.strptime(x,'%m/%d/%Y').toordinal()).median()\n",
    "greeks_df['times'] = times\n",
    "df = df.merge(greeks_df['times'], left_index = True, right_index = True, how='left')\n",
    "new_order = df.columns.to_list()\n",
    "new_order[-2], new_order[-1] = new_order[-1], new_order[-2]\n",
    "df_train = df.reindex(columns=new_order)\n",
    "del df"
   ]
  },
  {
   "cell_type": "code",
   "execution_count": 6,
   "id": "194e1834",
   "metadata": {},
   "outputs": [],
   "source": [
    "df_test = pd.read_csv(\"../input/icr-identify-age-related-conditions/test.csv\", index_col=[0])\n",
    "df_test['times'] = times.max()+1\n",
    "df_test"
   ]
  },
  {
   "cell_type": "code",
   "execution_count": 7,
   "id": "632d84d4",
   "metadata": {},
   "outputs": [],
   "source": [
    "df_train['EJ'] = df_train['EJ'].map({'A': 0.0, 'B': 1.0}, na_action=None)\n",
    "df_test['EJ'] = df_test['EJ'].map({'A': 0.0, 'B': 1.0}, na_action=None)"
   ]
  },
  {
   "cell_type": "markdown",
   "id": "edae5cae",
   "metadata": {},
   "source": [
    "## nanをmedianに変更"
   ]
  },
  {
   "cell_type": "code",
   "execution_count": 8,
   "id": "03ee18f0",
   "metadata": {},
   "outputs": [],
   "source": [
    "col_mean = df_train.median(axis=0)\n",
    "for i, colname in enumerate(df_train.columns):\n",
    "    df_train[colname].fillna(col_mean[i], inplace=True)\n",
    "df_train"
   ]
  },
  {
   "cell_type": "code",
   "execution_count": 9,
   "id": "83554852",
   "metadata": {},
   "outputs": [],
   "source": [
    "for i, colname in enumerate(df_test.columns):\n",
    "    df_test[colname].fillna(col_mean[i], inplace=True)\n",
    "df_test"
   ]
  },
  {
   "cell_type": "markdown",
   "id": "7f2a42b8",
   "metadata": {},
   "source": [
    "## スケールを変更"
   ]
  },
  {
   "cell_type": "code",
   "execution_count": 10,
   "id": "8ff30661",
   "metadata": {},
   "outputs": [],
   "source": [
    "df_train_noscale = df_train.copy()\n",
    "\n",
    "scaler = RobustScaler().set_output(transform=\"pandas\")\n",
    "df_train.loc[:, df_train.columns[:-2]] = scaler.fit_transform(df_train[df_train.columns[:-2]])\n",
    "df_train"
   ]
  },
  {
   "cell_type": "code",
   "execution_count": 11,
   "id": "f1f0d809",
   "metadata": {},
   "outputs": [],
   "source": [
    "df_test_noscale = df_test.copy()\n",
    "\n",
    "df_test.loc[:,df_test.columns[:-1]] = scaler.transform(df_test[df_test.columns[:-1]])\n",
    "df_test"
   ]
  },
  {
   "cell_type": "code",
   "execution_count": 12,
   "id": "a113b5a8",
   "metadata": {},
   "outputs": [],
   "source": [
    "df_train['times'] = df_train.times.astype(int)\n",
    "df_test['times'] = df_test.times.astype(int)"
   ]
  },
  {
   "cell_type": "markdown",
   "id": "612971c5",
   "metadata": {},
   "source": [
    "# LightGBM/XGBoost/CatBoost"
   ]
  },
  {
   "cell_type": "code",
   "execution_count": 13,
   "id": "3c20d42b",
   "metadata": {},
   "outputs": [],
   "source": [
    "classes_weights = compute_sample_weight(\n",
    "    class_weight='balanced',\n",
    "    y=df_train.Class\n",
    ")"
   ]
  },
  {
   "cell_type": "code",
   "execution_count": 14,
   "id": "ff97ea85",
   "metadata": {},
   "outputs": [],
   "source": [
    "def balanced_log_loss(y_true, y_pred):\n",
    "    y_pred = np.clip(y_pred, 1e-15, 1-1e-15)\n",
    "    nc = np.bincount(y_true)\n",
    "    w0, w1 = 1/(nc[0]/y_true.shape[0]), 1/(nc[1]/y_true.shape[0])\n",
    "    balanced_log_loss_score = (-w0/nc[0]*(np.sum(np.where(y_true==0,1,0) * np.log(1-y_pred))) - w1/nc[1]*(np.sum(np.where(y_true!=0,1,0) * np.log(y_pred)))) / (w0+w1)\n",
    "    return balanced_log_loss_score\n",
    "\n",
    "# 独自の評価関数をスコアリング関数に変換\n",
    "balanced_log_loss_scorer = make_scorer(balanced_log_loss, greater_is_better=False)"
   ]
  },
  {
   "cell_type": "markdown",
   "id": "a19315c3",
   "metadata": {},
   "source": [
    "## optuna"
   ]
  },
  {
   "cell_type": "code",
   "execution_count": 15,
   "id": "757d83e6",
   "metadata": {},
   "outputs": [],
   "source": [
    "do_opt = False\n",
    "\n",
    "lgbm_params = {'n_estimators': 590,\n",
    " 'reg_alpha': 3.3000000000000003,\n",
    " 'reg_lambda': 36.4,\n",
    " 'num_leaves': 25,\n",
    " 'min_child_samples': 40,\n",
    " 'colsample_bytree': 0.7,\n",
    " 'subsample': 0.9,\n",
    " 'subsample_freq': 1}\n",
    " \n",
    "xgb_params = {'n_estimators': 700,\n",
    " 'max_depth': 3,\n",
    " 'learning_rate': 0.03560016067885742,\n",
    " 'subsample': 0.7408505704121144,\n",
    " 'colsample_bytree': 0.5705779083310649,\n",
    " 'gamma': 0.5286651204230014}\n",
    " \n",
    "cb_params = {'iterations': 114,\n",
    " 'depth': 4,\n",
    " 'learning_rate': 0.08433020501242801,\n",
    " 'random_strength': 1,\n",
    " 'bagging_temperature': 0.1111714827952525,\n",
    " 'od_wait': 23}"
   ]
  },
  {
   "cell_type": "markdown",
   "id": "6f125c04",
   "metadata": {},
   "source": [
    "### lightGBM"
   ]
  },
  {
   "cell_type": "code",
   "execution_count": 16,
   "id": "c14dda3e",
   "metadata": {
    "scrolled": false
   },
   "outputs": [],
   "source": [
    "seed = 57\n",
    "\n",
    "def obj_lgbm(trial):\n",
    "    params = {\n",
    "        'boosting_type':'gbdt',\n",
    "        'class_weight':'balanced',\n",
    "        'n_estimators': trial.suggest_int('n_estimators', 100, 1000, step=10),\n",
    "        'reg_alpha': trial.suggest_float('reg_alpha', 0, 100, step=0.1),\n",
    "        'reg_lambda': trial.suggest_float('reg_lambda', 0, 100, step=0.1),\n",
    "        'num_leaves': trial.suggest_int('num_leaves', 2, 64, step=1),\n",
    "        'min_child_samples': trial.suggest_int('min_child_samples', 8, 64, step=1),\n",
    "        'colsample_bytree': trial.suggest_float('colsample_bytree', 0.5, 1.0, step=0.1),\n",
    "        'subsample': trial.suggest_float('subsample', 0.5, 1.0, step=0.1),\n",
    "        'subsample_freq': trial.suggest_int('subsample_freq', 0, 3, step=1),\n",
    "    }\n",
    "    \n",
    "    model = LGBMClassifier(**params)\n",
    "    \n",
    "    kf = StratifiedKFold(n_splits=5, shuffle=True, random_state=seed)\n",
    "\n",
    "    score = 0\n",
    "    for train_idx, valid_idx in kf.split(df_train, df_train.Class):\n",
    "        train_df = df_train.iloc[train_idx]\n",
    "        valid_df = df_train.iloc[valid_idx]\n",
    "        X_train, y_train = train_df[train_df.columns[:-1]], train_df.Class\n",
    "        X_valid, y_valid = valid_df[valid_df.columns[:-1]], valid_df.Class\n",
    "\n",
    "        weights = classes_weights[train_idx]\n",
    "        model.fit(X_train, y_train, sample_weight=weights)\n",
    "        y_pred = model.predict_proba(X_valid)\n",
    "        loss = balanced_log_loss(y_valid, y_pred[:, 1])\n",
    "        score += loss\n",
    "\n",
    "    return score/5\n",
    "        \n",
    "\n",
    "if do_opt :\n",
    "    study = optuna.create_study(sampler=optuna.samplers.TPESampler(seed=42))#direction='minimize')\n",
    "    study.enqueue_trial(lgbm_params)\n",
    "    study.optimize(obj_lgbm, n_trials=100)"
   ]
  },
  {
   "cell_type": "code",
   "execution_count": 17,
   "id": "c0fbc38f",
   "metadata": {
    "scrolled": true
   },
   "outputs": [],
   "source": [
    "#0.18265121471197596\n",
    "if do_opt :\n",
    "    lgbm_params = dict(study.best_trial.params.items())\n",
    "lgbm_params"
   ]
  },
  {
   "cell_type": "code",
   "execution_count": 18,
   "id": "0784f8a2",
   "metadata": {
    "scrolled": false
   },
   "outputs": [],
   "source": [
    "def obj_xgb(trial):\n",
    "    params = {\n",
    "        'n_estimators': trial.suggest_int('n_estimators', 100, 1000, step=100),\n",
    "        'max_depth': trial.suggest_int('max_depth', 3, 10),\n",
    "        'learning_rate': trial.suggest_float('learning_rate', 0.001, 0.1, log=True),\n",
    "        'subsample': trial.suggest_float('subsample', 0.5, 1.0),\n",
    "        'colsample_bytree': trial.suggest_float('colsample_bytree', 0.5, 1.0),\n",
    "        'gamma': trial.suggest_float('gamma', 0.001, 1.0, log=True),\n",
    "        'objective': 'binary:logistic', \n",
    "        'eval_metric': 'logloss', \n",
    "    }\n",
    "\n",
    "    model = XGBClassifier(**params)\n",
    "    \n",
    "    kf = StratifiedKFold(n_splits=5, shuffle=True, random_state=seed)\n",
    "\n",
    "    score = 0\n",
    "    for train_idx, valid_idx in kf.split(df_train, df_train.Class):\n",
    "        train_df = df_train.iloc[train_idx]\n",
    "        valid_df = df_train.iloc[valid_idx]\n",
    "        X_train, y_train = train_df[train_df.columns[:-1]], train_df.Class\n",
    "        X_valid, y_valid = valid_df[valid_df.columns[:-1]], valid_df.Class\n",
    "\n",
    "        weights = classes_weights[train_idx]\n",
    "        model.fit(X_train, y_train, sample_weight=weights)\n",
    "        y_pred = model.predict_proba(X_valid)\n",
    "        loss = balanced_log_loss(y_valid, y_pred[:, 1])\n",
    "        score += loss\n",
    "\n",
    "    return score/5\n",
    "        \n",
    "if do_opt :    \n",
    "    study = optuna.create_study(sampler=optuna.samplers.TPESampler(seed=42))#direction='minimize')\n",
    "    study.enqueue_trial(xgb_params)\n",
    "    study.optimize(obj_xgb, n_trials=100)"
   ]
  },
  {
   "cell_type": "code",
   "execution_count": 19,
   "id": "205d8044",
   "metadata": {},
   "outputs": [],
   "source": [
    "if do_opt :\n",
    "    xgb_params = dict(study.best_trial.params.items())\n",
    "\n",
    "xgb_params"
   ]
  },
  {
   "cell_type": "code",
   "execution_count": 20,
   "id": "1b493c1e",
   "metadata": {
    "scrolled": false
   },
   "outputs": [],
   "source": [
    "def obj_cb(trial):\n",
    "    params = {\n",
    "        'iterations' : trial.suggest_int('iterations', 50, 300),                         \n",
    "        'depth' : trial.suggest_int('depth', 4, 10),                                       \n",
    "        'learning_rate' : trial.suggest_float('learning_rate', 0.01, 0.3, log=True),               \n",
    "        'random_strength' :trial.suggest_int('random_strength', 0, 100),                       \n",
    "        'bagging_temperature' :trial.suggest_float('bagging_temperature', 0.01, 100.00, log=True), \n",
    "#         'od_type': trial.suggest_categorical('od_type', ['IncToDec', 'Iter']),\n",
    "        'od_wait' :trial.suggest_int('od_wait', 10, 50)\n",
    "    }\n",
    "\n",
    "    model = CatBoostClassifier(**params)\n",
    "    \n",
    "    kf = StratifiedKFold(n_splits=5, shuffle=True, random_state=seed)\n",
    "\n",
    "    score = 0\n",
    "    for train_idx, valid_idx in kf.split(df_train, df_train.Class):\n",
    "        train_df = df_train.iloc[train_idx]\n",
    "        valid_df = df_train.iloc[valid_idx]\n",
    "        X_train, y_train = train_df[train_df.columns[:-1]], train_df.Class\n",
    "        X_valid, y_valid = valid_df[valid_df.columns[:-1]], valid_df.Class\n",
    "\n",
    "        weights = classes_weights[train_idx]\n",
    "        model.fit(X_train, y_train, logging_level=\"Silent\", sample_weight=weights)\n",
    "        y_pred = model.predict_proba(X_valid)\n",
    "        loss = balanced_log_loss(y_valid, y_pred[:, 1])\n",
    "        score += loss\n",
    "\n",
    "    return score/5\n",
    "        \n",
    "if do_opt :\n",
    "    study = optuna.create_study(sampler=optuna.samplers.TPESampler(seed=42))#direction='minimize')\n",
    "    study.enqueue_trial(cb_params)\n",
    "    study.optimize(obj_cb, n_trials=50)"
   ]
  },
  {
   "cell_type": "code",
   "execution_count": 21,
   "id": "6ba60a16",
   "metadata": {},
   "outputs": [],
   "source": [
    "if do_opt :\n",
    "    cb_params = dict(study.best_trial.params.items())\n",
    "cb_params"
   ]
  },
  {
   "cell_type": "code",
   "execution_count": 22,
   "id": "72bd607d",
   "metadata": {},
   "outputs": [],
   "source": [
    "\"\"\"\n",
    "lgbm_params = {'n_estimators': 600,\n",
    " 'reg_alpha': 2.8000000000000003,\n",
    " 'reg_lambda': 12.4,\n",
    " 'num_leaves': 41}\n",
    " \n",
    "xgb_params = {'n_estimators': 800,\n",
    " 'max_depth': 4,\n",
    " 'learning_rate': 0.07321832691960338,\n",
    " 'subsample': 0.7576690053727902,\n",
    " 'colsample_bytree': 0.7481165187056286,\n",
    " 'gamma': 0.4338012239235796}\n",
    " \n",
    "cb_params = {'iterations': 114,\n",
    " 'depth': 4,\n",
    " 'learning_rate': 0.08433020501242801,\n",
    " 'random_strength': 1,\n",
    " 'bagging_temperature': 0.1111714827952525,\n",
    " 'od_wait': 23}\n",
    "\"\"\""
   ]
  },
  {
   "cell_type": "code",
   "execution_count": 23,
   "id": "a82cbf2f",
   "metadata": {},
   "outputs": [],
   "source": [
    "# lgb = LGBMClassifier(boosting_type='gbdt', class_weight='balanced', colsample_bytree=1.0,\n",
    "#                 importance_type='split', learning_rate=0.1, max_depth=-1,\n",
    "#                 min_child_samples=20, min_child_weight=0.001, min_split_gain=0.0,\n",
    "#                 n_estimators=100, n_jobs=-1, num_leaves=31, objective=\"binary\",\n",
    "#                 random_state=42, reg_alpha=0.0, reg_lambda=0.0, silent='warn',\n",
    "#                 subsample=1.0, subsample_for_bin=200000, subsample_freq=0)\n",
    "# xgb = XGBClassifier(base_score=None, booster='gbtree', callbacks=None,\n",
    "#                colsample_bylevel=None, colsample_bynode=None,\n",
    "#                colsample_bytree=None, early_stopping_rounds=None,\n",
    "#                enable_categorical=False, eval_metric=None, feature_types=None,\n",
    "#                gamma=None, gpu_id=None, grow_policy=None, importance_type=None,\n",
    "#                interaction_constraints=None, learning_rate=None, max_bin=None,\n",
    "#                max_cat_threshold=None, max_cat_to_onehot=None,\n",
    "#                max_delta_step=None, max_depth=None, max_leaves=None,\n",
    "#                min_child_weight=None, monotone_constraints=None,\n",
    "#                n_estimators=100, n_jobs=-1, num_parallel_tree=None,\n",
    "#                objective='binary:logistic', predictor=None)\n",
    "\n",
    "# cb = CatBoostClassifier()\n",
    "# tab = TabPFNClassifier(N_ensemble_configurations=64)"
   ]
  },
  {
   "cell_type": "code",
   "execution_count": null,
   "id": "0bf93863",
   "metadata": {},
   "outputs": [],
   "source": []
  },
  {
   "cell_type": "code",
   "execution_count": null,
   "id": "f34ecf87",
   "metadata": {},
   "outputs": [],
   "source": []
  },
  {
   "cell_type": "code",
   "execution_count": 24,
   "id": "65cc3259",
   "metadata": {},
   "outputs": [],
   "source": [
    "lgb = LGBMClassifier(boosting_type='gbdt', class_weight='balanced', **lgbm_params)\n",
    "xgb = XGBClassifier(\n",
    "    objective = 'binary:logistic', \n",
    "    eval_metric = 'logloss', \n",
    "    **xgb_params,\n",
    ")\n",
    "\n",
    "cb = CatBoostClassifier(**cb_params)\n",
    "tab = TabPFNClassifier(N_ensemble_configurations=64)"
   ]
  },
  {
   "cell_type": "markdown",
   "id": "c2f3fc5c",
   "metadata": {},
   "source": [
    "## calc cv (5 fold)"
   ]
  },
  {
   "cell_type": "code",
   "execution_count": 25,
   "id": "176bce8d",
   "metadata": {},
   "outputs": [],
   "source": [
    "seed = 57\n",
    "kf = StratifiedKFold(n_splits=5, shuffle=True, random_state=seed)\n",
    "\n",
    "score = 0\n",
    "for train_idx, valid_idx in kf.split(df_train, df_train.Class):\n",
    "    train_df = df_train.iloc[train_idx]\n",
    "    valid_df = df_train.iloc[valid_idx]\n",
    "    X_train, y_train = train_df[train_df.columns[:-1]], train_df.Class\n",
    "    X_valid, y_valid = valid_df[valid_df.columns[:-1]], valid_df.Class\n",
    "\n",
    "    weights = classes_weights[train_idx]\n",
    "#     weights = compute_sample_weight(class_weight='balanced',y=y_train)                              \n",
    "\n",
    "    print(\"lgbm..\")\n",
    "    lgb.fit(X_train, y_train, sample_weight=weights)\n",
    "    y_lgb = lgb.predict_proba(X_valid)\n",
    "    print(\"xgboost..\")    \n",
    "    xgb.fit(X_train, y_train, sample_weight=weights)\n",
    "    y_xgb = xgb.predict_proba(X_valid)\n",
    "    print(\"catboost..\")\n",
    "    cb.fit(X_train, y_train, logging_level=\"Silent\", sample_weight=weights)\n",
    "    y_cb = cb.predict_proba(X_valid)\n",
    "\n",
    "    \n",
    "    train_df = df_train_noscale.iloc[train_idx]\n",
    "    valid_df = df_train_noscale.iloc[valid_idx]\n",
    "    X_train, y_train = train_df[train_df.columns[:-1]], train_df.Class\n",
    "    X_valid, y_valid = valid_df[valid_df.columns[:-1]], valid_df.Class\n",
    "    \n",
    "    print(\"TabPFN..\")\n",
    "    tab.fit(X_train, y_train)\n",
    "    y_tab = tab.predict_proba(X_valid)\n",
    "\n",
    "    lgb_loss = balanced_log_loss(y_valid, y_lgb[:, 1])\n",
    "    xgb_loss = balanced_log_loss(y_valid, y_xgb[:, 1])\n",
    "    cb_loss = balanced_log_loss(y_valid, y_cb[:, 1])\n",
    "    tab_loss = balanced_log_loss(y_valid, y_tab[:, 1])\n",
    "    score +=  balanced_log_loss(y_valid, ((y_lgb + y_xgb + y_cb + y_tab)/4)[:, 1])\n",
    "    print(\"lgb\", lgb_loss, \"xgb\", xgb_loss, \"catboost\", cb_loss, \"TabPFN\", tab_loss, \"ensamble\",  \n",
    "          balanced_log_loss(y_valid, ((y_lgb + y_xgb + y_cb + y_tab)/4)[:, 1]))\n",
    "    \n",
    "score/5"
   ]
  },
  {
   "cell_type": "code",
   "execution_count": null,
   "id": "82253d32",
   "metadata": {},
   "outputs": [],
   "source": [
    "# display(df_train)\n",
    "# display(df_train_noscale)"
   ]
  },
  {
   "cell_type": "markdown",
   "id": "fc4b926b",
   "metadata": {},
   "source": [
    "## fit models(final parameter)"
   ]
  },
  {
   "cell_type": "code",
   "execution_count": null,
   "id": "77690d6b",
   "metadata": {},
   "outputs": [],
   "source": [
    "X = df_train[df_train.columns[:-1]]\n",
    "y = df_train.Class"
   ]
  },
  {
   "cell_type": "code",
   "execution_count": null,
   "id": "ecd739e8",
   "metadata": {},
   "outputs": [],
   "source": [
    "lgb.fit(X, y, sample_weight=classes_weights)\n",
    "y_lgb = lgb.predict_proba(X)"
   ]
  },
  {
   "cell_type": "code",
   "execution_count": null,
   "id": "7646b437",
   "metadata": {},
   "outputs": [],
   "source": [
    "xgb.fit(X, y, sample_weight=classes_weights)\n",
    "y_xgb = xgb.predict_proba(X)"
   ]
  },
  {
   "cell_type": "code",
   "execution_count": null,
   "id": "14f27212",
   "metadata": {
    "scrolled": false
   },
   "outputs": [],
   "source": [
    "cb.fit(X, y, logging_level=\"Silent\", sample_weight=classes_weights)\n",
    "y_cb = cb.predict_proba(X)"
   ]
  },
  {
   "cell_type": "code",
   "execution_count": null,
   "id": "33bd9bde",
   "metadata": {},
   "outputs": [],
   "source": [
    "# tabpfnには正則化する前のデータを入力する\n",
    "X = df_train_noscale[df_train.columns[:-1]]\n",
    "y = df_train_noscale.Class"
   ]
  },
  {
   "cell_type": "code",
   "execution_count": null,
   "id": "be66f3a5",
   "metadata": {
    "scrolled": false
   },
   "outputs": [],
   "source": [
    "tab.fit(X, y)\n",
    "y_tab = tab.predict_proba(X)"
   ]
  },
  {
   "cell_type": "code",
   "execution_count": null,
   "id": "e33e79d9",
   "metadata": {},
   "outputs": [],
   "source": [
    "balanced_log_loss(y, ((y_lgb + y_xgb + y_cb + y_tab)/4)[:, 1])"
   ]
  },
  {
   "cell_type": "markdown",
   "id": "65ebacc5",
   "metadata": {},
   "source": [
    "# infer"
   ]
  },
  {
   "cell_type": "code",
   "execution_count": null,
   "id": "c16f6d1a",
   "metadata": {},
   "outputs": [],
   "source": [
    "pred_lgb = lgb.predict_proba(df_test)\n",
    "pred_xgb = xgb.predict_proba(df_test)\n",
    "pred_cb = cb.predict_proba(df_test)\n",
    "pred_tab = tab.predict_proba(df_test)\n",
    "pred = (pred_lgb + pred_xgb + pred_cb + pred_tab)/4\n",
    "pred"
   ]
  },
  {
   "cell_type": "code",
   "execution_count": null,
   "id": "fd9bb700",
   "metadata": {},
   "outputs": [],
   "source": [
    "submission = pd.read_csv('../input/icr-identify-age-related-conditions/sample_submission.csv')\n",
    "submission['class_0'] = pred[:,0]\n",
    "submission['class_1'] = pred[:,1]"
   ]
  },
  {
   "cell_type": "code",
   "execution_count": null,
   "id": "77fba518",
   "metadata": {},
   "outputs": [],
   "source": [
    "submission.to_csv('submission.csv', index=False)\n",
    "submission"
   ]
  },
  {
   "cell_type": "code",
   "execution_count": null,
   "id": "9f8ac053",
   "metadata": {},
   "outputs": [],
   "source": []
  },
  {
   "cell_type": "code",
   "execution_count": null,
   "id": "b075dd8d",
   "metadata": {},
   "outputs": [],
   "source": []
  },
  {
   "cell_type": "code",
   "execution_count": null,
   "id": "cc933dff",
   "metadata": {},
   "outputs": [],
   "source": []
  }
 ],
 "metadata": {
  "kernelspec": {
   "display_name": "Python 3 (ipykernel)",
   "language": "python",
   "name": "python3"
  },
  "language_info": {
   "codemirror_mode": {
    "name": "ipython",
    "version": 3
   },
   "file_extension": ".py",
   "mimetype": "text/x-python",
   "name": "python",
   "nbconvert_exporter": "python",
   "pygments_lexer": "ipython3",
   "version": "3.8.10"
  }
 },
 "nbformat": 4,
 "nbformat_minor": 5
}
