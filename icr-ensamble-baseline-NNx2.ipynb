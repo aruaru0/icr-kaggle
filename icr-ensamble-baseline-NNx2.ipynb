{
 "cells": [
  {
   "cell_type": "markdown",
   "id": "30946114",
   "metadata": {
    "papermill": {
     "duration": 0.041534,
     "end_time": "2023-07-17T00:40:16.499380",
     "exception": false,
     "start_time": "2023-07-17T00:40:16.457846",
     "status": "completed"
    },
    "tags": []
   },
   "source": [
    "### for kaggle notebook"
   ]
  },
  {
   "cell_type": "code",
   "execution_count": 5,
   "id": "be6320eb",
   "metadata": {
    "execution": {
     "iopub.execute_input": "2023-07-17T00:40:16.577247Z",
     "iopub.status.busy": "2023-07-17T00:40:16.576781Z",
     "iopub.status.idle": "2023-07-17T00:40:32.048737Z",
     "shell.execute_reply": "2023-07-17T00:40:32.047382Z"
    },
    "papermill": {
     "duration": 15.514036,
     "end_time": "2023-07-17T00:40:32.051330",
     "exception": false,
     "start_time": "2023-07-17T00:40:16.537294",
     "status": "completed"
    },
    "tags": []
   },
   "outputs": [],
   "source": [
    "# !pip install tabpfn --no-index --find-links=file:///kaggle/input/pip-packages-icr/pip-packages\n",
    "# !mkdir -p /opt/conda/lib/python3.10/site-packages/tabpfn/models_diff\n",
    "# !cp /kaggle/input/pip-packages-icr/pip-packages/prior_diff_real_checkpoint_n_0_epoch_100.cpkt /opt/conda/lib/python3.10/site-packages/tabpfn/models_diff/"
   ]
  },
  {
   "cell_type": "code",
   "execution_count": 1,
   "id": "8e1de437",
   "metadata": {
    "execution": {
     "iopub.execute_input": "2023-07-17T00:40:32.128532Z",
     "iopub.status.busy": "2023-07-17T00:40:32.126662Z",
     "iopub.status.idle": "2023-07-17T00:40:32.132259Z",
     "shell.execute_reply": "2023-07-17T00:40:32.131343Z"
    },
    "papermill": {
     "duration": 0.045547,
     "end_time": "2023-07-17T00:40:32.134334",
     "exception": false,
     "start_time": "2023-07-17T00:40:32.088787",
     "status": "completed"
    },
    "tags": []
   },
   "outputs": [
    {
     "data": {
      "text/html": [
       "<style>\n",
       "    div#notebook-container    { width: 95%; }\n",
       "    div#menubar-container     { width: 95%; }\n",
       "    div#maintoolbar-container { width: 99%; }\n",
       "</style>\n"
      ],
      "text/plain": [
       "<IPython.core.display.HTML object>"
      ]
     },
     "metadata": {},
     "output_type": "display_data"
    }
   ],
   "source": [
    "%%HTML\n",
    "<style>\n",
    "    div#notebook-container    { width: 95%; }\n",
    "    div#menubar-container     { width: 95%; }\n",
    "    div#maintoolbar-container { width: 99%; }\n",
    "</style>"
   ]
  },
  {
   "cell_type": "code",
   "execution_count": 2,
   "id": "1fc1c605",
   "metadata": {
    "execution": {
     "iopub.execute_input": "2023-07-17T00:40:32.210148Z",
     "iopub.status.busy": "2023-07-17T00:40:32.209286Z",
     "iopub.status.idle": "2023-07-17T00:40:32.213849Z",
     "shell.execute_reply": "2023-07-17T00:40:32.212818Z"
    },
    "papermill": {
     "duration": 0.043967,
     "end_time": "2023-07-17T00:40:32.215850",
     "exception": false,
     "start_time": "2023-07-17T00:40:32.171883",
     "status": "completed"
    },
    "tags": []
   },
   "outputs": [],
   "source": [
    "# !pip install lightgbm\n",
    "# !pip install catboost\n",
    "# !pip install xgboost\n",
    "# !pip install tabpfn\n",
    "# !pip install seaborn\n",
    "# !pip install optuna"
   ]
  },
  {
   "cell_type": "code",
   "execution_count": 3,
   "id": "e086df8b",
   "metadata": {
    "execution": {
     "iopub.execute_input": "2023-07-17T00:40:32.293999Z",
     "iopub.status.busy": "2023-07-17T00:40:32.292953Z",
     "iopub.status.idle": "2023-07-17T00:40:35.824247Z",
     "shell.execute_reply": "2023-07-17T00:40:35.823150Z"
    },
    "papermill": {
     "duration": 3.573822,
     "end_time": "2023-07-17T00:40:35.827182",
     "exception": false,
     "start_time": "2023-07-17T00:40:32.253360",
     "status": "completed"
    },
    "tags": []
   },
   "outputs": [],
   "source": [
    "import datetime as dt\n",
    "import pandas as pd\n",
    "import numpy as np\n",
    "from sklearn.metrics import make_scorer\n",
    "from sklearn import metrics\n",
    "from sklearn.preprocessing import RobustScaler\n",
    "from sklearn.utils.class_weight import compute_sample_weight\n",
    "from sklearn.model_selection import StratifiedKFold\n",
    "\n",
    "import lightgbm\n",
    "import optuna\n",
    "\n",
    "import matplotlib.pyplot as plt\n",
    "import seaborn as sns\n",
    "from datetime import date, datetime\n",
    "import warnings\n",
    "warnings.filterwarnings(\"ignore\")"
   ]
  },
  {
   "cell_type": "code",
   "execution_count": 4,
   "id": "2bd916f4",
   "metadata": {
    "execution": {
     "iopub.execute_input": "2023-07-17T00:40:35.905382Z",
     "iopub.status.busy": "2023-07-17T00:40:35.905021Z",
     "iopub.status.idle": "2023-07-17T00:40:39.878500Z",
     "shell.execute_reply": "2023-07-17T00:40:39.877466Z"
    },
    "papermill": {
     "duration": 4.016037,
     "end_time": "2023-07-17T00:40:39.881115",
     "exception": false,
     "start_time": "2023-07-17T00:40:35.865078",
     "status": "completed"
    },
    "tags": []
   },
   "outputs": [],
   "source": [
    "#from tabpfn import TabPFNClassifier\n",
    "from tabpfn.scripts.transformer_prediction_interface import TabPFNClassifier\n",
    "from lightgbm import LGBMClassifier\n",
    "from xgboost import XGBClassifier\n",
    "from catboost import CatBoostClassifier\n",
    "from sklearn.ensemble import RandomForestClassifier\n",
    "from sklearn.neighbors import KNeighborsClassifier\n",
    "from sklearn.preprocessing import PowerTransformer"
   ]
  },
  {
   "cell_type": "code",
   "execution_count": 5,
   "id": "6a3794c1",
   "metadata": {
    "execution": {
     "iopub.execute_input": "2023-07-17T00:40:39.957066Z",
     "iopub.status.busy": "2023-07-17T00:40:39.955934Z",
     "iopub.status.idle": "2023-07-17T00:40:39.963003Z",
     "shell.execute_reply": "2023-07-17T00:40:39.962103Z"
    },
    "papermill": {
     "duration": 0.047178,
     "end_time": "2023-07-17T00:40:39.965231",
     "exception": false,
     "start_time": "2023-07-17T00:40:39.918053",
     "status": "completed"
    },
    "tags": []
   },
   "outputs": [],
   "source": [
    "import torch\n",
    "import torch.nn as nn\n",
    "import torch.optim as optim\n",
    "import torch.nn.functional as F\n",
    "from torch.utils.data import Dataset, DataLoader\n",
    "\n",
    "import random, os\n",
    "import math\n"
   ]
  },
  {
   "cell_type": "code",
   "execution_count": 6,
   "id": "61a4ebcd",
   "metadata": {
    "execution": {
     "iopub.execute_input": "2023-07-17T00:40:40.041196Z",
     "iopub.status.busy": "2023-07-17T00:40:40.040836Z",
     "iopub.status.idle": "2023-07-17T00:40:40.078800Z",
     "shell.execute_reply": "2023-07-17T00:40:40.077799Z"
    },
    "papermill": {
     "duration": 0.078658,
     "end_time": "2023-07-17T00:40:40.081034",
     "exception": false,
     "start_time": "2023-07-17T00:40:40.002376",
     "status": "completed"
    },
    "tags": []
   },
   "outputs": [],
   "source": [
    "# https://github.com/trent-b/iterative-stratification\n",
    "# I copied it from the above github.\n",
    "import numpy as np\n",
    "\n",
    "from sklearn.utils import check_random_state\n",
    "from sklearn.utils.validation import _num_samples, check_array\n",
    "from sklearn.utils.multiclass import type_of_target\n",
    "\n",
    "from sklearn.model_selection._split import _BaseKFold, _RepeatedSplits, \\\n",
    "    BaseShuffleSplit, _validate_shuffle_split\n",
    "\n",
    "\n",
    "def IterativeStratification(labels, r, random_state):\n",
    "    \"\"\"This function implements the Iterative Stratification algorithm described\n",
    "    in the following paper:\n",
    "    Sechidis K., Tsoumakas G., Vlahavas I. (2011) On the Stratification of\n",
    "    Multi-Label Data. In: Gunopulos D., Hofmann T., Malerba D., Vazirgiannis M.\n",
    "    (eds) Machine Learning and Knowledge Discovery in Databases. ECML PKDD\n",
    "    2011. Lecture Notes in Computer Science, vol 6913. Springer, Berlin,\n",
    "    Heidelberg.\n",
    "    \"\"\"\n",
    "\n",
    "    n_samples = labels.shape[0]\n",
    "    test_folds = np.zeros(n_samples, dtype=int)\n",
    "\n",
    "    # Calculate the desired number of examples at each subset\n",
    "    c_folds = r * n_samples\n",
    "\n",
    "    # Calculate the desired number of examples of each label at each subset\n",
    "    c_folds_labels = np.outer(r, labels.sum(axis=0))\n",
    "\n",
    "    labels_not_processed_mask = np.ones(n_samples, dtype=bool)\n",
    "\n",
    "    while np.any(labels_not_processed_mask):\n",
    "        # Find the label with the fewest (but at least one) remaining examples,\n",
    "        # breaking ties randomly\n",
    "        num_labels = labels[labels_not_processed_mask].sum(axis=0)\n",
    "\n",
    "        # Handle case where only all-zero labels are left by distributing\n",
    "        # across all folds as evenly as possible (not in original algorithm but\n",
    "        # mentioned in the text). (By handling this case separately, some\n",
    "        # code redundancy is introduced; however, this approach allows for\n",
    "        # decreased execution time when there are a relatively large number\n",
    "        # of all-zero labels.)\n",
    "        if num_labels.sum() == 0:\n",
    "            sample_idxs = np.where(labels_not_processed_mask)[0]\n",
    "\n",
    "            for sample_idx in sample_idxs:\n",
    "                fold_idx = np.where(c_folds == c_folds.max())[0]\n",
    "\n",
    "                if fold_idx.shape[0] > 1:\n",
    "                    fold_idx = fold_idx[random_state.choice(fold_idx.shape[0])]\n",
    "\n",
    "                test_folds[sample_idx] = fold_idx\n",
    "                c_folds[fold_idx] -= 1\n",
    "\n",
    "            break\n",
    "\n",
    "        label_idx = np.where(num_labels == num_labels[np.nonzero(num_labels)].min())[0]\n",
    "        if label_idx.shape[0] > 1:\n",
    "            label_idx = label_idx[random_state.choice(label_idx.shape[0])]\n",
    "\n",
    "        sample_idxs = np.where(np.logical_and(labels[:, label_idx].flatten(), labels_not_processed_mask))[0]\n",
    "\n",
    "        for sample_idx in sample_idxs:\n",
    "            # Find the subset(s) with the largest number of desired examples\n",
    "            # for this label, breaking ties by considering the largest number\n",
    "            # of desired examples, breaking further ties randomly\n",
    "            label_folds = c_folds_labels[:, label_idx]\n",
    "            fold_idx = np.where(label_folds == label_folds.max())[0]\n",
    "\n",
    "            if fold_idx.shape[0] > 1:\n",
    "                temp_fold_idx = np.where(c_folds[fold_idx] ==\n",
    "                                         c_folds[fold_idx].max())[0]\n",
    "                fold_idx = fold_idx[temp_fold_idx]\n",
    "\n",
    "                if temp_fold_idx.shape[0] > 1:\n",
    "                    fold_idx = fold_idx[random_state.choice(temp_fold_idx.shape[0])]\n",
    "\n",
    "            test_folds[sample_idx] = fold_idx\n",
    "            labels_not_processed_mask[sample_idx] = False\n",
    "\n",
    "            # Update desired number of examples\n",
    "            c_folds_labels[fold_idx, labels[sample_idx]] -= 1\n",
    "            c_folds[fold_idx] -= 1\n",
    "\n",
    "    return test_folds\n",
    "\n",
    "\n",
    "class MultilabelStratifiedKFold(_BaseKFold):\n",
    "    \"\"\"Multilabel stratified K-Folds cross-validator\n",
    "    Provides train/test indices to split multilabel data into train/test sets.\n",
    "    This cross-validation object is a variation of KFold that returns\n",
    "    stratified folds for multilabel data. The folds are made by preserving\n",
    "    the percentage of samples for each label.\n",
    "    Parameters\n",
    "    ----------\n",
    "    n_splits : int, default=3\n",
    "        Number of folds. Must be at least 2.\n",
    "    shuffle : boolean, optional\n",
    "        Whether to shuffle each stratification of the data before splitting\n",
    "        into batches.\n",
    "    random_state : int, RandomState instance or None, optional, default=None\n",
    "        If int, random_state is the seed used by the random number generator;\n",
    "        If RandomState instance, random_state is the random number generator;\n",
    "        If None, the random number generator is the RandomState instance used\n",
    "        by `np.random`. Unlike StratifiedKFold that only uses random_state\n",
    "        when ``shuffle`` == True, this multilabel implementation\n",
    "        always uses the random_state since the iterative stratification\n",
    "        algorithm breaks ties randomly.\n",
    "    Examples\n",
    "    --------\n",
    "    >>> from iterstrat.ml_stratifiers import MultilabelStratifiedKFold\n",
    "    >>> import numpy as np\n",
    "    >>> X = np.array([[1,2], [3,4], [1,2], [3,4], [1,2], [3,4], [1,2], [3,4]])\n",
    "    >>> y = np.array([[0,0], [0,0], [0,1], [0,1], [1,1], [1,1], [1,0], [1,0]])\n",
    "    >>> mskf = MultilabelStratifiedKFold(n_splits=2, random_state=0)\n",
    "    >>> mskf.get_n_splits(X, y)\n",
    "    2\n",
    "    >>> print(mskf)  # doctest: +NORMALIZE_WHITESPACE\n",
    "    MultilabelStratifiedKFold(n_splits=2, random_state=0, shuffle=False)\n",
    "    >>> for train_index, test_index in mskf.split(X, y):\n",
    "    ...    print(\"TRAIN:\", train_index, \"TEST:\", test_index)\n",
    "    ...    X_train, X_test = X[train_index], X[test_index]\n",
    "    ...    y_train, y_test = y[train_index], y[test_index]\n",
    "    TRAIN: [0 3 4 6] TEST: [1 2 5 7]\n",
    "    TRAIN: [1 2 5 7] TEST: [0 3 4 6]\n",
    "    Notes\n",
    "    -----\n",
    "    Train and test sizes may be slightly different in each fold.\n",
    "    See also\n",
    "    --------\n",
    "    RepeatedMultilabelStratifiedKFold: Repeats Multilabel Stratified K-Fold\n",
    "    n times.\n",
    "    \"\"\"\n",
    "\n",
    "    def __init__(self, n_splits=3, *, shuffle=False, random_state=None):\n",
    "        super(MultilabelStratifiedKFold, self).__init__(n_splits=n_splits, shuffle=shuffle, random_state=random_state)\n",
    "\n",
    "    def _make_test_folds(self, X, y):\n",
    "        y = np.asarray(y, dtype=bool)\n",
    "        type_of_target_y = type_of_target(y)\n",
    "\n",
    "        if type_of_target_y != 'multilabel-indicator':\n",
    "            raise ValueError(\n",
    "                'Supported target type is: multilabel-indicator. Got {!r} instead.'.format(type_of_target_y))\n",
    "\n",
    "        num_samples = y.shape[0]\n",
    "\n",
    "        rng = check_random_state(self.random_state)\n",
    "        indices = np.arange(num_samples)\n",
    "\n",
    "        if self.shuffle:\n",
    "            rng.shuffle(indices)\n",
    "            y = y[indices]\n",
    "\n",
    "        r = np.asarray([1 / self.n_splits] * self.n_splits)\n",
    "\n",
    "        test_folds = IterativeStratification(labels=y, r=r, random_state=rng)\n",
    "\n",
    "        return test_folds[np.argsort(indices)]\n",
    "\n",
    "    def _iter_test_masks(self, X=None, y=None, groups=None):\n",
    "        test_folds = self._make_test_folds(X, y)\n",
    "        for i in range(self.n_splits):\n",
    "            yield test_folds == i\n",
    "\n",
    "    def split(self, X, y, groups=None):\n",
    "        \"\"\"Generate indices to split data into training and test set.\n",
    "        Parameters\n",
    "        ----------\n",
    "        X : array-like, shape (n_samples, n_features)\n",
    "            Training data, where n_samples is the number of samples\n",
    "            and n_features is the number of features.\n",
    "            Note that providing ``y`` is sufficient to generate the splits and\n",
    "            hence ``np.zeros(n_samples)`` may be used as a placeholder for\n",
    "            ``X`` instead of actual training data.\n",
    "        y : array-like, shape (n_samples, n_labels)\n",
    "            The target variable for supervised learning problems.\n",
    "            Multilabel stratification is done based on the y labels.\n",
    "        groups : object\n",
    "            Always ignored, exists for compatibility.\n",
    "        Returns\n",
    "        -------\n",
    "        train : ndarray\n",
    "            The training set indices for that split.\n",
    "        test : ndarray\n",
    "            The testing set indices for that split.\n",
    "        Notes\n",
    "        -----\n",
    "        Randomized CV splitters may return different results for each call of\n",
    "        split. You can make the results identical by setting ``random_state``\n",
    "        to an integer.\n",
    "        \"\"\"\n",
    "        y = check_array(y, ensure_2d=False, dtype=None)\n",
    "        return super(MultilabelStratifiedKFold, self).split(X, y, groups)\n",
    "\n",
    "\n",
    "class RepeatedMultilabelStratifiedKFold(_RepeatedSplits):\n",
    "    \"\"\"Repeated Multilabel Stratified K-Fold cross validator.\n",
    "    Repeats Mulilabel Stratified K-Fold n times with different randomization\n",
    "    in each repetition.\n",
    "    Parameters\n",
    "    ----------\n",
    "    n_splits : int, default=5\n",
    "        Number of folds. Must be at least 2.\n",
    "    n_repeats : int, default=10\n",
    "        Number of times cross-validator needs to be repeated.\n",
    "    random_state : None, int or RandomState, default=None\n",
    "        Random state to be used to generate random state for each\n",
    "        repetition as well as randomly breaking ties within the iterative\n",
    "        stratification algorithm.\n",
    "    Examples\n",
    "    --------\n",
    "    >>> from iterstrat.ml_stratifiers import RepeatedMultilabelStratifiedKFold\n",
    "    >>> import numpy as np\n",
    "    >>> X = np.array([[1,2], [3,4], [1,2], [3,4], [1,2], [3,4], [1,2], [3,4]])\n",
    "    >>> y = np.array([[0,0], [0,0], [0,1], [0,1], [1,1], [1,1], [1,0], [1,0]])\n",
    "    >>> rmskf = RepeatedMultilabelStratifiedKFold(n_splits=2, n_repeats=2,\n",
    "    ...     random_state=0)\n",
    "    >>> for train_index, test_index in rmskf.split(X, y):\n",
    "    ...     print(\"TRAIN:\", train_index, \"TEST:\", test_index)\n",
    "    ...     X_train, X_test = X[train_index], X[test_index]\n",
    "    ...     y_train, y_test = y[train_index], y[test_index]\n",
    "    ...\n",
    "    TRAIN: [0 3 4 6] TEST: [1 2 5 7]\n",
    "    TRAIN: [1 2 5 7] TEST: [0 3 4 6]\n",
    "    TRAIN: [0 1 4 5] TEST: [2 3 6 7]\n",
    "    TRAIN: [2 3 6 7] TEST: [0 1 4 5]\n",
    "    See also\n",
    "    --------\n",
    "    RepeatedStratifiedKFold: Repeats (Non-multilabel) Stratified K-Fold\n",
    "    n times.\n",
    "    \"\"\"\n",
    "    def __init__(self, n_splits=5, *, n_repeats=10, random_state=None):\n",
    "        super(RepeatedMultilabelStratifiedKFold, self).__init__(\n",
    "            MultilabelStratifiedKFold, n_repeats=n_repeats, random_state=random_state,\n",
    "            n_splits=n_splits)\n",
    "\n",
    "\n",
    "class MultilabelStratifiedShuffleSplit(BaseShuffleSplit):\n",
    "    \"\"\"Multilabel Stratified ShuffleSplit cross-validator\n",
    "    Provides train/test indices to split data into train/test sets.\n",
    "    This cross-validation object is a merge of MultilabelStratifiedKFold and\n",
    "    ShuffleSplit, which returns stratified randomized folds for multilabel\n",
    "    data. The folds are made by preserving the percentage of each label.\n",
    "    Note: like the ShuffleSplit strategy, multilabel stratified random splits\n",
    "    do not guarantee that all folds will be different, although this is\n",
    "    still very likely for sizeable datasets.\n",
    "    Parameters\n",
    "    ----------\n",
    "    n_splits : int, default 10\n",
    "        Number of re-shuffling & splitting iterations.\n",
    "    test_size : float, int, None, optional\n",
    "        If float, should be between 0.0 and 1.0 and represent the proportion\n",
    "        of the dataset to include in the test split. If int, represents the\n",
    "        absolute number of test samples. If None, the value is set to the\n",
    "        complement of the train size. By default, the value is set to 0.1.\n",
    "        The default will change in version 0.21. It will remain 0.1 only\n",
    "        if ``train_size`` is unspecified, otherwise it will complement\n",
    "        the specified ``train_size``.\n",
    "    train_size : float, int, or None, default is None\n",
    "        If float, should be between 0.0 and 1.0 and represent the\n",
    "        proportion of the dataset to include in the train split. If\n",
    "        int, represents the absolute number of train samples. If None,\n",
    "        the value is automatically set to the complement of the test size.\n",
    "    random_state : int, RandomState instance or None, optional (default=None)\n",
    "        If int, random_state is the seed used by the random number generator;\n",
    "        If RandomState instance, random_state is the random number generator;\n",
    "        If None, the random number generator is the RandomState instance used\n",
    "        by `np.random`. Unlike StratifiedShuffleSplit that only uses\n",
    "        random_state when ``shuffle`` == True, this multilabel implementation\n",
    "        always uses the random_state since the iterative stratification\n",
    "        algorithm breaks ties randomly.\n",
    "    Examples\n",
    "    --------\n",
    "    >>> from iterstrat.ml_stratifiers import MultilabelStratifiedShuffleSplit\n",
    "    >>> import numpy as np\n",
    "    >>> X = np.array([[1,2], [3,4], [1,2], [3,4], [1,2], [3,4], [1,2], [3,4]])\n",
    "    >>> y = np.array([[0,0], [0,0], [0,1], [0,1], [1,1], [1,1], [1,0], [1,0]])\n",
    "    >>> msss = MultilabelStratifiedShuffleSplit(n_splits=3, test_size=0.5,\n",
    "    ...    random_state=0)\n",
    "    >>> msss.get_n_splits(X, y)\n",
    "    3\n",
    "    >>> print(mss)       # doctest: +ELLIPSIS\n",
    "    MultilabelStratifiedShuffleSplit(n_splits=3, random_state=0, test_size=0.5,\n",
    "                                     train_size=None)\n",
    "    >>> for train_index, test_index in msss.split(X, y):\n",
    "    ...    print(\"TRAIN:\", train_index, \"TEST:\", test_index)\n",
    "    ...    X_train, X_test = X[train_index], X[test_index]\n",
    "    ...    y_train, y_test = y[train_index], y[test_index]\n",
    "    TRAIN: [1 2 5 7] TEST: [0 3 4 6]\n",
    "    TRAIN: [2 3 6 7] TEST: [0 1 4 5]\n",
    "    TRAIN: [1 2 5 6] TEST: [0 3 4 7]\n",
    "    Notes\n",
    "    -----\n",
    "    Train and test sizes may be slightly different from desired due to the\n",
    "    preference of stratification over perfectly sized folds.\n",
    "    \"\"\"\n",
    "\n",
    "    def __init__(self, n_splits=10, *, test_size=\"default\", train_size=None,\n",
    "                 random_state=None):\n",
    "        super(MultilabelStratifiedShuffleSplit, self).__init__(\n",
    "            n_splits=n_splits, test_size=test_size, train_size=train_size, random_state=random_state)\n",
    "\n",
    "    def _iter_indices(self, X, y, groups=None):\n",
    "        n_samples = _num_samples(X)\n",
    "        y = check_array(y, ensure_2d=False, dtype=None)\n",
    "        y = np.asarray(y, dtype=bool)\n",
    "        type_of_target_y = type_of_target(y)\n",
    "\n",
    "        if type_of_target_y != 'multilabel-indicator':\n",
    "            raise ValueError(\n",
    "                'Supported target type is: multilabel-indicator. Got {!r} instead.'.format(\n",
    "                    type_of_target_y))\n",
    "\n",
    "        n_train, n_test = _validate_shuffle_split(n_samples, self.test_size,\n",
    "                                                  self.train_size)\n",
    "\n",
    "        n_samples = y.shape[0]\n",
    "        rng = check_random_state(self.random_state)\n",
    "        y_orig = y.copy()\n",
    "\n",
    "        r = np.array([n_train, n_test]) / (n_train + n_test)\n",
    "\n",
    "        for _ in range(self.n_splits):\n",
    "            indices = np.arange(n_samples)\n",
    "            rng.shuffle(indices)\n",
    "            y = y_orig[indices]\n",
    "\n",
    "            test_folds = IterativeStratification(labels=y, r=r, random_state=rng)\n",
    "\n",
    "            test_idx = test_folds[np.argsort(indices)] == 1\n",
    "            test = np.where(test_idx)[0]\n",
    "            train = np.where(~test_idx)[0]\n",
    "\n",
    "            yield train, test\n",
    "\n",
    "    def split(self, X, y, groups=None):\n",
    "        \"\"\"Generate indices to split data into training and test set.\n",
    "        Parameters\n",
    "        ----------\n",
    "        X : array-like, shape (n_samples, n_features)\n",
    "            Training data, where n_samples is the number of samples\n",
    "            and n_features is the number of features.\n",
    "            Note that providing ``y`` is sufficient to generate the splits and\n",
    "            hence ``np.zeros(n_samples)`` may be used as a placeholder for\n",
    "            ``X`` instead of actual training data.\n",
    "        y : array-like, shape (n_samples, n_labels)\n",
    "            The target variable for supervised learning problems.\n",
    "            Multilabel stratification is done based on the y labels.\n",
    "        groups : object\n",
    "            Always ignored, exists for compatibility.\n",
    "        Returns\n",
    "        -------\n",
    "        train : ndarray\n",
    "            The training set indices for that split.\n",
    "        test : ndarray\n",
    "            The testing set indices for that split.\n",
    "        Notes\n",
    "        -----\n",
    "        Randomized CV splitters may return different results for each call of\n",
    "        split. You can make the results identical by setting ``random_state``\n",
    "        to an integer.\n",
    "        \"\"\"\n",
    "        y = check_array(y, ensure_2d=False, dtype=None)\n",
    "        return super(MultilabelStratifiedShuffleSplit, self).split(X, y, groups)"
   ]
  },
  {
   "cell_type": "markdown",
   "id": "d2f64976",
   "metadata": {
    "papermill": {
     "duration": 0.038138,
     "end_time": "2023-07-17T00:40:40.155860",
     "exception": false,
     "start_time": "2023-07-17T00:40:40.117722",
     "status": "completed"
    },
    "tags": []
   },
   "source": [
    "# Flags"
   ]
  },
  {
   "cell_type": "code",
   "execution_count": 74,
   "id": "8119a88b",
   "metadata": {
    "execution": {
     "iopub.execute_input": "2023-07-17T00:40:40.235962Z",
     "iopub.status.busy": "2023-07-17T00:40:40.234903Z",
     "iopub.status.idle": "2023-07-17T00:40:40.241199Z",
     "shell.execute_reply": "2023-07-17T00:40:40.240235Z"
    },
    "papermill": {
     "duration": 0.048652,
     "end_time": "2023-07-17T00:40:40.243394",
     "exception": false,
     "start_time": "2023-07-17T00:40:40.194742",
     "status": "completed"
    },
    "tags": []
   },
   "outputs": [],
   "source": [
    "# SMOTEをTrueにすると、5FOLDの結果にリークが発生しているように見えるのでCVがあてにならなくなりそう\n",
    "use_SMOTE = False\n",
    "check_CV = True\n",
    "del_BC_CL = False\n",
    "do_opt = False\n",
    "use_new_pred = True\n",
    "\n",
    "use_GPU = False\n",
    "\n",
    "positive_weight  = 2.0\n",
    "positive_weight2 = 2.0\n",
    "\n",
    "# 学習ループを行う・行わない（Pytorch部分）\n",
    "torch_train = False\n",
    "\n",
    "# use fold best\n",
    "use_best_fold = False\n",
    "\n",
    "seed = 57"
   ]
  },
  {
   "cell_type": "code",
   "execution_count": 75,
   "id": "bc7957bc",
   "metadata": {
    "execution": {
     "iopub.execute_input": "2023-07-17T00:40:40.320620Z",
     "iopub.status.busy": "2023-07-17T00:40:40.319593Z",
     "iopub.status.idle": "2023-07-17T00:40:40.328230Z",
     "shell.execute_reply": "2023-07-17T00:40:40.327344Z"
    },
    "papermill": {
     "duration": 0.049374,
     "end_time": "2023-07-17T00:40:40.330308",
     "exception": false,
     "start_time": "2023-07-17T00:40:40.280934",
     "status": "completed"
    },
    "tags": []
   },
   "outputs": [
    {
     "data": {
      "text/plain": [
       "(False, 'cpu')"
      ]
     },
     "execution_count": 75,
     "metadata": {},
     "output_type": "execute_result"
    }
   ],
   "source": [
    "device = \"cuda\" if torch.cuda.is_available() else \"cpu\"\n",
    "\n",
    "if device == \"cuda\":\n",
    "    use_GPU = True\n",
    "use_GPU, device"
   ]
  },
  {
   "cell_type": "markdown",
   "id": "d3adee93",
   "metadata": {
    "papermill": {
     "duration": 0.039038,
     "end_time": "2023-07-17T00:40:40.407067",
     "exception": false,
     "start_time": "2023-07-17T00:40:40.368029",
     "status": "completed"
    },
    "tags": []
   },
   "source": [
    "# Functions"
   ]
  },
  {
   "cell_type": "code",
   "execution_count": 76,
   "id": "c228f1d2",
   "metadata": {
    "execution": {
     "iopub.execute_input": "2023-07-17T00:40:40.483747Z",
     "iopub.status.busy": "2023-07-17T00:40:40.482702Z",
     "iopub.status.idle": "2023-07-17T00:40:40.489895Z",
     "shell.execute_reply": "2023-07-17T00:40:40.488928Z"
    },
    "papermill": {
     "duration": 0.048175,
     "end_time": "2023-07-17T00:40:40.492019",
     "exception": false,
     "start_time": "2023-07-17T00:40:40.443844",
     "status": "completed"
    },
    "tags": []
   },
   "outputs": [],
   "source": [
    "def calc_new_pred(pred):\n",
    "    class_0_est_instances = pred[:,0].sum()\n",
    "    others_est_instances = pred[:,1:].sum()\n",
    "    \n",
    "    if class_0_est_instances == 0 or others_est_instances == 0 :\n",
    "        return pred\n",
    "    # we reweight the probs, since the loss is also balanced like this\n",
    "    # our models out of the box optimize CE\n",
    "    # with these changes they optimize balanced CE\n",
    "    new_p = pred * np.array([[1/(class_0_est_instances if i==0 else others_est_instances) for i in range(pred.shape[1])]])\n",
    "    return new_p / np.sum(new_p,axis=1,keepdims=1)"
   ]
  },
  {
   "cell_type": "code",
   "execution_count": 77,
   "id": "e0a2de48",
   "metadata": {
    "execution": {
     "iopub.execute_input": "2023-07-17T00:40:40.569844Z",
     "iopub.status.busy": "2023-07-17T00:40:40.567917Z",
     "iopub.status.idle": "2023-07-17T00:40:40.573885Z",
     "shell.execute_reply": "2023-07-17T00:40:40.572937Z"
    },
    "papermill": {
     "duration": 0.0463,
     "end_time": "2023-07-17T00:40:40.575908",
     "exception": false,
     "start_time": "2023-07-17T00:40:40.529608",
     "status": "completed"
    },
    "tags": []
   },
   "outputs": [],
   "source": [
    "def sigmoid(x):\n",
    "    return 1/ (1 + np.exp(-x))"
   ]
  },
  {
   "cell_type": "code",
   "execution_count": 78,
   "id": "2d43ad64",
   "metadata": {
    "execution": {
     "iopub.execute_input": "2023-07-17T00:40:40.656392Z",
     "iopub.status.busy": "2023-07-17T00:40:40.655377Z",
     "iopub.status.idle": "2023-07-17T00:40:40.665362Z",
     "shell.execute_reply": "2023-07-17T00:40:40.664424Z"
    },
    "papermill": {
     "duration": 0.05228,
     "end_time": "2023-07-17T00:40:40.667588",
     "exception": false,
     "start_time": "2023-07-17T00:40:40.615308",
     "status": "completed"
    },
    "tags": []
   },
   "outputs": [],
   "source": [
    "def competition_log_loss(y_true, y_pred):\n",
    "    N_0 = np.sum(1 - y_true)\n",
    "    N_1 = np.sum(y_true)\n",
    "    p_1 = np.clip(y_pred, 1e-15, 1 - 1e-15)\n",
    "    p_0 = 1 - p_1\n",
    "    log_loss_0 = -np.sum((1 - y_true) * np.log(p_0)) / N_0\n",
    "    log_loss_1 = -np.sum(y_true * np.log(p_1)) / N_1\n",
    "    return (log_loss_0 + log_loss_1)/2\n",
    "\n",
    "def __balanced_log_loss(y_true, y_pred):\n",
    "    N_0 = np.sum(1 - y_true)\n",
    "    N_1 = np.sum(y_true)\n",
    "    p_1 = np.clip(y_pred, 1e-15, 1 - 1e-15)\n",
    "    p_0 = 1 - p_1\n",
    "    log_loss_0 = -np.sum((1 - y_true) * np.log(p_0))\n",
    "    log_loss_1 = -np.sum(y_true * np.log(p_1))\n",
    "    w_0 = 1 / N_0\n",
    "    w_1 = 1 / N_1\n",
    "    balanced_log_loss = 2*(w_0 * log_loss_0 + w_1 * log_loss_1) / (w_0 + w_1)\n",
    "    return balanced_log_loss/(N_0+N_1)\n",
    "\n",
    "def lgb_metric(y_true, y_pred):\n",
    "    return 'balanced_log_loss', __balanced_log_loss(y_true, y_pred), False"
   ]
  },
  {
   "cell_type": "markdown",
   "id": "dd23fb87",
   "metadata": {
    "papermill": {
     "duration": 0.039316,
     "end_time": "2023-07-17T00:40:40.744608",
     "exception": false,
     "start_time": "2023-07-17T00:40:40.705292",
     "status": "completed"
    },
    "tags": []
   },
   "source": [
    "# Read DATAS"
   ]
  },
  {
   "cell_type": "code",
   "execution_count": 79,
   "id": "a39618d7",
   "metadata": {
    "execution": {
     "iopub.execute_input": "2023-07-17T00:40:40.820037Z",
     "iopub.status.busy": "2023-07-17T00:40:40.819391Z",
     "iopub.status.idle": "2023-07-17T00:40:40.895463Z",
     "shell.execute_reply": "2023-07-17T00:40:40.894360Z"
    },
    "papermill": {
     "duration": 0.117343,
     "end_time": "2023-07-17T00:40:40.898284",
     "exception": false,
     "start_time": "2023-07-17T00:40:40.780941",
     "status": "completed"
    },
    "tags": []
   },
   "outputs": [],
   "source": [
    "df = pd.read_csv(\"../input/icr-identify-age-related-conditions/train.csv\", index_col=[0])\n",
    "greeks_df = pd.read_csv(\"../input/icr-identify-age-related-conditions/greeks.csv\", index_col=[0])\n",
    "\n",
    "# マジック（Epsilonを入れる）　🌟\n",
    "times = greeks_df.Epsilon.copy()\n",
    "times[greeks_df.Epsilon != 'Unknown'] = greeks_df.Epsilon[greeks_df.Epsilon != 'Unknown'].map(lambda x: datetime.strptime(x,'%m/%d/%Y').toordinal())\n",
    "times[greeks_df.Epsilon == 'Unknown'] = greeks_df.Epsilon[greeks_df.Epsilon != 'Unknown'].map(lambda x: datetime.strptime(x,'%m/%d/%Y').toordinal()).median()\n",
    "greeks_df['times'] = times\n",
    "df = df.merge(greeks_df['times'], left_index = True, right_index = True, how='left')\n",
    "new_order = df.columns.to_list()\n",
    "new_order[-2], new_order[-1] = new_order[-1], new_order[-2]\n",
    "df_train = df.reindex(columns=new_order)\n",
    "del df"
   ]
  },
  {
   "cell_type": "code",
   "execution_count": 80,
   "id": "aac8217c",
   "metadata": {
    "execution": {
     "iopub.execute_input": "2023-07-17T00:40:40.980120Z",
     "iopub.status.busy": "2023-07-17T00:40:40.979734Z",
     "iopub.status.idle": "2023-07-17T00:40:40.984577Z",
     "shell.execute_reply": "2023-07-17T00:40:40.983678Z"
    },
    "papermill": {
     "duration": 0.046057,
     "end_time": "2023-07-17T00:40:40.986512",
     "exception": false,
     "start_time": "2023-07-17T00:40:40.940455",
     "status": "completed"
    },
    "tags": []
   },
   "outputs": [],
   "source": [
    "# # 2020-01-01より前を除外\n",
    "# sel = greeks_df.Epsilon != \"Unknown\"\n",
    "# greeks_df.loc[~sel, 'Epsilon'] = dt.datetime(1900,1,1)\n",
    "# greeks_df.loc[sel, 'Epsilon'] = pd.to_datetime(greeks_df.loc[sel, 'Epsilon'],  format='%m/%d/%Y')\n",
    "# df_train = df_train[greeks_df.Epsilon > dt.datetime(2020,1,1)]\n",
    "# greeks_df = greeks_df[greeks_df.Epsilon > dt.datetime(2020,1,1)]\n",
    "# df_train"
   ]
  },
  {
   "cell_type": "code",
   "execution_count": 81,
   "id": "35fac47d",
   "metadata": {
    "execution": {
     "iopub.execute_input": "2023-07-17T00:40:41.062065Z",
     "iopub.status.busy": "2023-07-17T00:40:41.061134Z",
     "iopub.status.idle": "2023-07-17T00:40:41.107157Z",
     "shell.execute_reply": "2023-07-17T00:40:41.105905Z"
    },
    "papermill": {
     "duration": 0.086805,
     "end_time": "2023-07-17T00:40:41.110271",
     "exception": false,
     "start_time": "2023-07-17T00:40:41.023466",
     "status": "completed"
    },
    "tags": []
   },
   "outputs": [
    {
     "data": {
      "text/html": [
       "<div>\n",
       "<style scoped>\n",
       "    .dataframe tbody tr th:only-of-type {\n",
       "        vertical-align: middle;\n",
       "    }\n",
       "\n",
       "    .dataframe tbody tr th {\n",
       "        vertical-align: top;\n",
       "    }\n",
       "\n",
       "    .dataframe thead th {\n",
       "        text-align: right;\n",
       "    }\n",
       "</style>\n",
       "<table border=\"1\" class=\"dataframe\">\n",
       "  <thead>\n",
       "    <tr style=\"text-align: right;\">\n",
       "      <th></th>\n",
       "      <th>AB</th>\n",
       "      <th>AF</th>\n",
       "      <th>AH</th>\n",
       "      <th>AM</th>\n",
       "      <th>AR</th>\n",
       "      <th>AX</th>\n",
       "      <th>AY</th>\n",
       "      <th>AZ</th>\n",
       "      <th>BC</th>\n",
       "      <th>BD</th>\n",
       "      <th>...</th>\n",
       "      <th>FL</th>\n",
       "      <th>FR</th>\n",
       "      <th>FS</th>\n",
       "      <th>GB</th>\n",
       "      <th>GE</th>\n",
       "      <th>GF</th>\n",
       "      <th>GH</th>\n",
       "      <th>GI</th>\n",
       "      <th>GL</th>\n",
       "      <th>times</th>\n",
       "    </tr>\n",
       "    <tr>\n",
       "      <th>Id</th>\n",
       "      <th></th>\n",
       "      <th></th>\n",
       "      <th></th>\n",
       "      <th></th>\n",
       "      <th></th>\n",
       "      <th></th>\n",
       "      <th></th>\n",
       "      <th></th>\n",
       "      <th></th>\n",
       "      <th></th>\n",
       "      <th></th>\n",
       "      <th></th>\n",
       "      <th></th>\n",
       "      <th></th>\n",
       "      <th></th>\n",
       "      <th></th>\n",
       "      <th></th>\n",
       "      <th></th>\n",
       "      <th></th>\n",
       "      <th></th>\n",
       "      <th></th>\n",
       "    </tr>\n",
       "  </thead>\n",
       "  <tbody>\n",
       "    <tr>\n",
       "      <th>00eed32682bb</th>\n",
       "      <td>0.0</td>\n",
       "      <td>0.0</td>\n",
       "      <td>0.0</td>\n",
       "      <td>0.0</td>\n",
       "      <td>0.0</td>\n",
       "      <td>0.0</td>\n",
       "      <td>0.0</td>\n",
       "      <td>0.0</td>\n",
       "      <td>0.0</td>\n",
       "      <td>0.0</td>\n",
       "      <td>...</td>\n",
       "      <td>0.0</td>\n",
       "      <td>0.0</td>\n",
       "      <td>0.0</td>\n",
       "      <td>0.0</td>\n",
       "      <td>0.0</td>\n",
       "      <td>0.0</td>\n",
       "      <td>0.0</td>\n",
       "      <td>0.0</td>\n",
       "      <td>0.0</td>\n",
       "      <td>737698.0</td>\n",
       "    </tr>\n",
       "    <tr>\n",
       "      <th>010ebe33f668</th>\n",
       "      <td>0.0</td>\n",
       "      <td>0.0</td>\n",
       "      <td>0.0</td>\n",
       "      <td>0.0</td>\n",
       "      <td>0.0</td>\n",
       "      <td>0.0</td>\n",
       "      <td>0.0</td>\n",
       "      <td>0.0</td>\n",
       "      <td>0.0</td>\n",
       "      <td>0.0</td>\n",
       "      <td>...</td>\n",
       "      <td>0.0</td>\n",
       "      <td>0.0</td>\n",
       "      <td>0.0</td>\n",
       "      <td>0.0</td>\n",
       "      <td>0.0</td>\n",
       "      <td>0.0</td>\n",
       "      <td>0.0</td>\n",
       "      <td>0.0</td>\n",
       "      <td>0.0</td>\n",
       "      <td>737698.0</td>\n",
       "    </tr>\n",
       "    <tr>\n",
       "      <th>02fa521e1838</th>\n",
       "      <td>0.0</td>\n",
       "      <td>0.0</td>\n",
       "      <td>0.0</td>\n",
       "      <td>0.0</td>\n",
       "      <td>0.0</td>\n",
       "      <td>0.0</td>\n",
       "      <td>0.0</td>\n",
       "      <td>0.0</td>\n",
       "      <td>0.0</td>\n",
       "      <td>0.0</td>\n",
       "      <td>...</td>\n",
       "      <td>0.0</td>\n",
       "      <td>0.0</td>\n",
       "      <td>0.0</td>\n",
       "      <td>0.0</td>\n",
       "      <td>0.0</td>\n",
       "      <td>0.0</td>\n",
       "      <td>0.0</td>\n",
       "      <td>0.0</td>\n",
       "      <td>0.0</td>\n",
       "      <td>737698.0</td>\n",
       "    </tr>\n",
       "    <tr>\n",
       "      <th>040e15f562a2</th>\n",
       "      <td>0.0</td>\n",
       "      <td>0.0</td>\n",
       "      <td>0.0</td>\n",
       "      <td>0.0</td>\n",
       "      <td>0.0</td>\n",
       "      <td>0.0</td>\n",
       "      <td>0.0</td>\n",
       "      <td>0.0</td>\n",
       "      <td>0.0</td>\n",
       "      <td>0.0</td>\n",
       "      <td>...</td>\n",
       "      <td>0.0</td>\n",
       "      <td>0.0</td>\n",
       "      <td>0.0</td>\n",
       "      <td>0.0</td>\n",
       "      <td>0.0</td>\n",
       "      <td>0.0</td>\n",
       "      <td>0.0</td>\n",
       "      <td>0.0</td>\n",
       "      <td>0.0</td>\n",
       "      <td>737698.0</td>\n",
       "    </tr>\n",
       "    <tr>\n",
       "      <th>046e85c7cc7f</th>\n",
       "      <td>0.0</td>\n",
       "      <td>0.0</td>\n",
       "      <td>0.0</td>\n",
       "      <td>0.0</td>\n",
       "      <td>0.0</td>\n",
       "      <td>0.0</td>\n",
       "      <td>0.0</td>\n",
       "      <td>0.0</td>\n",
       "      <td>0.0</td>\n",
       "      <td>0.0</td>\n",
       "      <td>...</td>\n",
       "      <td>0.0</td>\n",
       "      <td>0.0</td>\n",
       "      <td>0.0</td>\n",
       "      <td>0.0</td>\n",
       "      <td>0.0</td>\n",
       "      <td>0.0</td>\n",
       "      <td>0.0</td>\n",
       "      <td>0.0</td>\n",
       "      <td>0.0</td>\n",
       "      <td>737698.0</td>\n",
       "    </tr>\n",
       "  </tbody>\n",
       "</table>\n",
       "<p>5 rows × 57 columns</p>\n",
       "</div>"
      ],
      "text/plain": [
       "               AB   AF   AH   AM   AR   AX   AY   AZ   BC  BD   ...   FL   FR  \\\n",
       "Id                                                              ...             \n",
       "00eed32682bb  0.0  0.0  0.0  0.0  0.0  0.0  0.0  0.0  0.0  0.0  ...  0.0  0.0   \n",
       "010ebe33f668  0.0  0.0  0.0  0.0  0.0  0.0  0.0  0.0  0.0  0.0  ...  0.0  0.0   \n",
       "02fa521e1838  0.0  0.0  0.0  0.0  0.0  0.0  0.0  0.0  0.0  0.0  ...  0.0  0.0   \n",
       "040e15f562a2  0.0  0.0  0.0  0.0  0.0  0.0  0.0  0.0  0.0  0.0  ...  0.0  0.0   \n",
       "046e85c7cc7f  0.0  0.0  0.0  0.0  0.0  0.0  0.0  0.0  0.0  0.0  ...  0.0  0.0   \n",
       "\n",
       "               FS   GB   GE   GF   GH   GI   GL     times  \n",
       "Id                                                         \n",
       "00eed32682bb  0.0  0.0  0.0  0.0  0.0  0.0  0.0  737698.0  \n",
       "010ebe33f668  0.0  0.0  0.0  0.0  0.0  0.0  0.0  737698.0  \n",
       "02fa521e1838  0.0  0.0  0.0  0.0  0.0  0.0  0.0  737698.0  \n",
       "040e15f562a2  0.0  0.0  0.0  0.0  0.0  0.0  0.0  737698.0  \n",
       "046e85c7cc7f  0.0  0.0  0.0  0.0  0.0  0.0  0.0  737698.0  \n",
       "\n",
       "[5 rows x 57 columns]"
      ]
     },
     "execution_count": 81,
     "metadata": {},
     "output_type": "execute_result"
    }
   ],
   "source": [
    "df_test = pd.read_csv(\"../input/icr-identify-age-related-conditions/test.csv\", index_col=[0])\n",
    "df_test['times'] = times.max()+1\n",
    "df_test"
   ]
  },
  {
   "cell_type": "code",
   "execution_count": 82,
   "id": "385c9af2",
   "metadata": {
    "execution": {
     "iopub.execute_input": "2023-07-17T00:40:41.189505Z",
     "iopub.status.busy": "2023-07-17T00:40:41.188850Z",
     "iopub.status.idle": "2023-07-17T00:40:41.196698Z",
     "shell.execute_reply": "2023-07-17T00:40:41.195632Z"
    },
    "papermill": {
     "duration": 0.04838,
     "end_time": "2023-07-17T00:40:41.198829",
     "exception": false,
     "start_time": "2023-07-17T00:40:41.150449",
     "status": "completed"
    },
    "tags": []
   },
   "outputs": [],
   "source": [
    "df_train['EJ'] = df_train['EJ'].map({'A': 0.0, 'B': 1.0}, na_action=None)\n",
    "df_test['EJ'] = df_test['EJ'].map({'A': 0.0, 'B': 1.0}, na_action=None)"
   ]
  },
  {
   "cell_type": "code",
   "execution_count": 83,
   "id": "e164fc67",
   "metadata": {
    "execution": {
     "iopub.execute_input": "2023-07-17T00:40:41.276273Z",
     "iopub.status.busy": "2023-07-17T00:40:41.275239Z",
     "iopub.status.idle": "2023-07-17T00:40:41.293964Z",
     "shell.execute_reply": "2023-07-17T00:40:41.292949Z"
    },
    "papermill": {
     "duration": 0.060442,
     "end_time": "2023-07-17T00:40:41.296263",
     "exception": false,
     "start_time": "2023-07-17T00:40:41.235821",
     "status": "completed"
    },
    "tags": []
   },
   "outputs": [
    {
     "data": {
      "text/html": [
       "<div>\n",
       "<style scoped>\n",
       "    .dataframe tbody tr th:only-of-type {\n",
       "        vertical-align: middle;\n",
       "    }\n",
       "\n",
       "    .dataframe tbody tr th {\n",
       "        vertical-align: top;\n",
       "    }\n",
       "\n",
       "    .dataframe thead th {\n",
       "        text-align: right;\n",
       "    }\n",
       "</style>\n",
       "<table border=\"1\" class=\"dataframe\">\n",
       "  <thead>\n",
       "    <tr style=\"text-align: right;\">\n",
       "      <th></th>\n",
       "      <th>Alpha</th>\n",
       "      <th>Beta</th>\n",
       "      <th>Gamma</th>\n",
       "      <th>Delta</th>\n",
       "      <th>Epsilon</th>\n",
       "      <th>times</th>\n",
       "      <th>Class</th>\n",
       "    </tr>\n",
       "    <tr>\n",
       "      <th>Id</th>\n",
       "      <th></th>\n",
       "      <th></th>\n",
       "      <th></th>\n",
       "      <th></th>\n",
       "      <th></th>\n",
       "      <th></th>\n",
       "      <th></th>\n",
       "    </tr>\n",
       "  </thead>\n",
       "  <tbody>\n",
       "    <tr>\n",
       "      <th>000ff2bfdfe9</th>\n",
       "      <td>B</td>\n",
       "      <td>C</td>\n",
       "      <td>G</td>\n",
       "      <td>D</td>\n",
       "      <td>3/19/2019</td>\n",
       "      <td>737137.0</td>\n",
       "      <td>1</td>\n",
       "    </tr>\n",
       "    <tr>\n",
       "      <th>007255e47698</th>\n",
       "      <td>A</td>\n",
       "      <td>C</td>\n",
       "      <td>M</td>\n",
       "      <td>B</td>\n",
       "      <td>Unknown</td>\n",
       "      <td>737269.0</td>\n",
       "      <td>0</td>\n",
       "    </tr>\n",
       "    <tr>\n",
       "      <th>013f2bd269f5</th>\n",
       "      <td>A</td>\n",
       "      <td>C</td>\n",
       "      <td>M</td>\n",
       "      <td>B</td>\n",
       "      <td>Unknown</td>\n",
       "      <td>737269.0</td>\n",
       "      <td>0</td>\n",
       "    </tr>\n",
       "    <tr>\n",
       "      <th>043ac50845d5</th>\n",
       "      <td>A</td>\n",
       "      <td>C</td>\n",
       "      <td>M</td>\n",
       "      <td>B</td>\n",
       "      <td>Unknown</td>\n",
       "      <td>737269.0</td>\n",
       "      <td>0</td>\n",
       "    </tr>\n",
       "    <tr>\n",
       "      <th>044fb8a146ec</th>\n",
       "      <td>D</td>\n",
       "      <td>B</td>\n",
       "      <td>F</td>\n",
       "      <td>B</td>\n",
       "      <td>3/25/2020</td>\n",
       "      <td>737509.0</td>\n",
       "      <td>2</td>\n",
       "    </tr>\n",
       "    <tr>\n",
       "      <th>...</th>\n",
       "      <td>...</td>\n",
       "      <td>...</td>\n",
       "      <td>...</td>\n",
       "      <td>...</td>\n",
       "      <td>...</td>\n",
       "      <td>...</td>\n",
       "      <td>...</td>\n",
       "    </tr>\n",
       "    <tr>\n",
       "      <th>fd3dafe738fd</th>\n",
       "      <td>A</td>\n",
       "      <td>B</td>\n",
       "      <td>M</td>\n",
       "      <td>B</td>\n",
       "      <td>9/13/2020</td>\n",
       "      <td>737681.0</td>\n",
       "      <td>0</td>\n",
       "    </tr>\n",
       "    <tr>\n",
       "      <th>fd895603f071</th>\n",
       "      <td>A</td>\n",
       "      <td>B</td>\n",
       "      <td>M</td>\n",
       "      <td>B</td>\n",
       "      <td>9/8/2020</td>\n",
       "      <td>737676.0</td>\n",
       "      <td>0</td>\n",
       "    </tr>\n",
       "    <tr>\n",
       "      <th>fd8ef6377f76</th>\n",
       "      <td>A</td>\n",
       "      <td>C</td>\n",
       "      <td>M</td>\n",
       "      <td>B</td>\n",
       "      <td>7/24/2019</td>\n",
       "      <td>737264.0</td>\n",
       "      <td>0</td>\n",
       "    </tr>\n",
       "    <tr>\n",
       "      <th>fe1942975e40</th>\n",
       "      <td>A</td>\n",
       "      <td>C</td>\n",
       "      <td>M</td>\n",
       "      <td>B</td>\n",
       "      <td>1/31/2019</td>\n",
       "      <td>737090.0</td>\n",
       "      <td>0</td>\n",
       "    </tr>\n",
       "    <tr>\n",
       "      <th>ffcca4ded3bb</th>\n",
       "      <td>A</td>\n",
       "      <td>C</td>\n",
       "      <td>M</td>\n",
       "      <td>B</td>\n",
       "      <td>Unknown</td>\n",
       "      <td>737269.0</td>\n",
       "      <td>0</td>\n",
       "    </tr>\n",
       "  </tbody>\n",
       "</table>\n",
       "<p>617 rows × 7 columns</p>\n",
       "</div>"
      ],
      "text/plain": [
       "             Alpha Beta Gamma Delta    Epsilon     times  Class\n",
       "Id                                                             \n",
       "000ff2bfdfe9     B    C     G     D  3/19/2019  737137.0      1\n",
       "007255e47698     A    C     M     B    Unknown  737269.0      0\n",
       "013f2bd269f5     A    C     M     B    Unknown  737269.0      0\n",
       "043ac50845d5     A    C     M     B    Unknown  737269.0      0\n",
       "044fb8a146ec     D    B     F     B  3/25/2020  737509.0      2\n",
       "...            ...  ...   ...   ...        ...       ...    ...\n",
       "fd3dafe738fd     A    B     M     B  9/13/2020  737681.0      0\n",
       "fd895603f071     A    B     M     B   9/8/2020  737676.0      0\n",
       "fd8ef6377f76     A    C     M     B  7/24/2019  737264.0      0\n",
       "fe1942975e40     A    C     M     B  1/31/2019  737090.0      0\n",
       "ffcca4ded3bb     A    C     M     B    Unknown  737269.0      0\n",
       "\n",
       "[617 rows x 7 columns]"
      ]
     },
     "execution_count": 83,
     "metadata": {},
     "output_type": "execute_result"
    }
   ],
   "source": [
    "greeks_df['Class'] = greeks_df['Alpha'].map({'A': 0, 'B': 1, 'D': 2, 'G': 3 }, na_action=None)\n",
    "greeks_df"
   ]
  },
  {
   "cell_type": "markdown",
   "id": "e5fc4b2f",
   "metadata": {
    "papermill": {
     "duration": 0.037755,
     "end_time": "2023-07-17T00:40:41.374604",
     "exception": false,
     "start_time": "2023-07-17T00:40:41.336849",
     "status": "completed"
    },
    "tags": []
   },
   "source": [
    "## nanをmedianに変更"
   ]
  },
  {
   "cell_type": "code",
   "execution_count": 84,
   "id": "34cbb92d",
   "metadata": {
    "execution": {
     "iopub.execute_input": "2023-07-17T00:40:41.461055Z",
     "iopub.status.busy": "2023-07-17T00:40:41.460029Z",
     "iopub.status.idle": "2023-07-17T00:40:41.510882Z",
     "shell.execute_reply": "2023-07-17T00:40:41.509617Z"
    },
    "papermill": {
     "duration": 0.102163,
     "end_time": "2023-07-17T00:40:41.514361",
     "exception": false,
     "start_time": "2023-07-17T00:40:41.412198",
     "status": "completed"
    },
    "tags": []
   },
   "outputs": [
    {
     "data": {
      "text/html": [
       "<div>\n",
       "<style scoped>\n",
       "    .dataframe tbody tr th:only-of-type {\n",
       "        vertical-align: middle;\n",
       "    }\n",
       "\n",
       "    .dataframe tbody tr th {\n",
       "        vertical-align: top;\n",
       "    }\n",
       "\n",
       "    .dataframe thead th {\n",
       "        text-align: right;\n",
       "    }\n",
       "</style>\n",
       "<table border=\"1\" class=\"dataframe\">\n",
       "  <thead>\n",
       "    <tr style=\"text-align: right;\">\n",
       "      <th></th>\n",
       "      <th>AB</th>\n",
       "      <th>AF</th>\n",
       "      <th>AH</th>\n",
       "      <th>AM</th>\n",
       "      <th>AR</th>\n",
       "      <th>AX</th>\n",
       "      <th>AY</th>\n",
       "      <th>AZ</th>\n",
       "      <th>BC</th>\n",
       "      <th>BD</th>\n",
       "      <th>...</th>\n",
       "      <th>FR</th>\n",
       "      <th>FS</th>\n",
       "      <th>GB</th>\n",
       "      <th>GE</th>\n",
       "      <th>GF</th>\n",
       "      <th>GH</th>\n",
       "      <th>GI</th>\n",
       "      <th>GL</th>\n",
       "      <th>times</th>\n",
       "      <th>Class</th>\n",
       "    </tr>\n",
       "    <tr>\n",
       "      <th>Id</th>\n",
       "      <th></th>\n",
       "      <th></th>\n",
       "      <th></th>\n",
       "      <th></th>\n",
       "      <th></th>\n",
       "      <th></th>\n",
       "      <th></th>\n",
       "      <th></th>\n",
       "      <th></th>\n",
       "      <th></th>\n",
       "      <th></th>\n",
       "      <th></th>\n",
       "      <th></th>\n",
       "      <th></th>\n",
       "      <th></th>\n",
       "      <th></th>\n",
       "      <th></th>\n",
       "      <th></th>\n",
       "      <th></th>\n",
       "      <th></th>\n",
       "      <th></th>\n",
       "    </tr>\n",
       "  </thead>\n",
       "  <tbody>\n",
       "    <tr>\n",
       "      <th>000ff2bfdfe9</th>\n",
       "      <td>0.209377</td>\n",
       "      <td>3109.03329</td>\n",
       "      <td>85.200147</td>\n",
       "      <td>22.394407</td>\n",
       "      <td>8.138688</td>\n",
       "      <td>0.699861</td>\n",
       "      <td>0.025578</td>\n",
       "      <td>9.812214</td>\n",
       "      <td>5.555634</td>\n",
       "      <td>4126.58731</td>\n",
       "      <td>...</td>\n",
       "      <td>1.73855</td>\n",
       "      <td>0.094822</td>\n",
       "      <td>11.339138</td>\n",
       "      <td>72.611063</td>\n",
       "      <td>2003.810319</td>\n",
       "      <td>22.136229</td>\n",
       "      <td>69.834944</td>\n",
       "      <td>0.120343</td>\n",
       "      <td>737137.0</td>\n",
       "      <td>1</td>\n",
       "    </tr>\n",
       "    <tr>\n",
       "      <th>007255e47698</th>\n",
       "      <td>0.145282</td>\n",
       "      <td>978.76416</td>\n",
       "      <td>85.200147</td>\n",
       "      <td>36.968889</td>\n",
       "      <td>8.138688</td>\n",
       "      <td>3.632190</td>\n",
       "      <td>0.025578</td>\n",
       "      <td>13.517790</td>\n",
       "      <td>1.229900</td>\n",
       "      <td>5496.92824</td>\n",
       "      <td>...</td>\n",
       "      <td>0.49706</td>\n",
       "      <td>0.568932</td>\n",
       "      <td>9.292698</td>\n",
       "      <td>72.611063</td>\n",
       "      <td>27981.562750</td>\n",
       "      <td>29.135430</td>\n",
       "      <td>32.131996</td>\n",
       "      <td>21.978000</td>\n",
       "      <td>737269.0</td>\n",
       "      <td>0</td>\n",
       "    </tr>\n",
       "    <tr>\n",
       "      <th>013f2bd269f5</th>\n",
       "      <td>0.470030</td>\n",
       "      <td>2635.10654</td>\n",
       "      <td>85.200147</td>\n",
       "      <td>32.360553</td>\n",
       "      <td>8.138688</td>\n",
       "      <td>6.732840</td>\n",
       "      <td>0.025578</td>\n",
       "      <td>12.824570</td>\n",
       "      <td>1.229900</td>\n",
       "      <td>5135.78024</td>\n",
       "      <td>...</td>\n",
       "      <td>0.97556</td>\n",
       "      <td>1.198821</td>\n",
       "      <td>37.077772</td>\n",
       "      <td>88.609437</td>\n",
       "      <td>13676.957810</td>\n",
       "      <td>28.022851</td>\n",
       "      <td>35.192676</td>\n",
       "      <td>0.196941</td>\n",
       "      <td>737269.0</td>\n",
       "      <td>0</td>\n",
       "    </tr>\n",
       "    <tr>\n",
       "      <th>043ac50845d5</th>\n",
       "      <td>0.252107</td>\n",
       "      <td>3819.65177</td>\n",
       "      <td>120.201618</td>\n",
       "      <td>77.112203</td>\n",
       "      <td>8.138688</td>\n",
       "      <td>3.685344</td>\n",
       "      <td>0.025578</td>\n",
       "      <td>11.053708</td>\n",
       "      <td>1.229900</td>\n",
       "      <td>4169.67738</td>\n",
       "      <td>...</td>\n",
       "      <td>0.49706</td>\n",
       "      <td>0.284466</td>\n",
       "      <td>18.529584</td>\n",
       "      <td>82.416803</td>\n",
       "      <td>2094.262452</td>\n",
       "      <td>39.948656</td>\n",
       "      <td>90.493248</td>\n",
       "      <td>0.155829</td>\n",
       "      <td>737269.0</td>\n",
       "      <td>0</td>\n",
       "    </tr>\n",
       "    <tr>\n",
       "      <th>044fb8a146ec</th>\n",
       "      <td>0.380297</td>\n",
       "      <td>3733.04844</td>\n",
       "      <td>85.200147</td>\n",
       "      <td>14.103738</td>\n",
       "      <td>8.138688</td>\n",
       "      <td>3.942255</td>\n",
       "      <td>0.054810</td>\n",
       "      <td>3.396778</td>\n",
       "      <td>102.151980</td>\n",
       "      <td>5728.73412</td>\n",
       "      <td>...</td>\n",
       "      <td>48.50134</td>\n",
       "      <td>0.121914</td>\n",
       "      <td>16.408728</td>\n",
       "      <td>146.109943</td>\n",
       "      <td>8524.370502</td>\n",
       "      <td>45.381316</td>\n",
       "      <td>36.262628</td>\n",
       "      <td>0.096614</td>\n",
       "      <td>737509.0</td>\n",
       "      <td>1</td>\n",
       "    </tr>\n",
       "    <tr>\n",
       "      <th>...</th>\n",
       "      <td>...</td>\n",
       "      <td>...</td>\n",
       "      <td>...</td>\n",
       "      <td>...</td>\n",
       "      <td>...</td>\n",
       "      <td>...</td>\n",
       "      <td>...</td>\n",
       "      <td>...</td>\n",
       "      <td>...</td>\n",
       "      <td>...</td>\n",
       "      <td>...</td>\n",
       "      <td>...</td>\n",
       "      <td>...</td>\n",
       "      <td>...</td>\n",
       "      <td>...</td>\n",
       "      <td>...</td>\n",
       "      <td>...</td>\n",
       "      <td>...</td>\n",
       "      <td>...</td>\n",
       "      <td>...</td>\n",
       "      <td>...</td>\n",
       "    </tr>\n",
       "    <tr>\n",
       "      <th>fd3dafe738fd</th>\n",
       "      <td>0.149555</td>\n",
       "      <td>3130.05946</td>\n",
       "      <td>123.763599</td>\n",
       "      <td>9.513984</td>\n",
       "      <td>13.020852</td>\n",
       "      <td>3.499305</td>\n",
       "      <td>0.077343</td>\n",
       "      <td>8.545512</td>\n",
       "      <td>2.804172</td>\n",
       "      <td>4157.68439</td>\n",
       "      <td>...</td>\n",
       "      <td>1.26092</td>\n",
       "      <td>0.067730</td>\n",
       "      <td>8.967128</td>\n",
       "      <td>217.148554</td>\n",
       "      <td>8095.932828</td>\n",
       "      <td>24.640462</td>\n",
       "      <td>69.191944</td>\n",
       "      <td>21.978000</td>\n",
       "      <td>737681.0</td>\n",
       "      <td>0</td>\n",
       "    </tr>\n",
       "    <tr>\n",
       "      <th>fd895603f071</th>\n",
       "      <td>0.435846</td>\n",
       "      <td>5462.03438</td>\n",
       "      <td>85.200147</td>\n",
       "      <td>46.551007</td>\n",
       "      <td>15.973224</td>\n",
       "      <td>5.979825</td>\n",
       "      <td>0.025882</td>\n",
       "      <td>12.622906</td>\n",
       "      <td>3.777550</td>\n",
       "      <td>5654.07556</td>\n",
       "      <td>...</td>\n",
       "      <td>1.24236</td>\n",
       "      <td>0.426699</td>\n",
       "      <td>35.896418</td>\n",
       "      <td>496.994214</td>\n",
       "      <td>3085.308063</td>\n",
       "      <td>29.648928</td>\n",
       "      <td>124.808872</td>\n",
       "      <td>0.145340</td>\n",
       "      <td>737676.0</td>\n",
       "      <td>0</td>\n",
       "    </tr>\n",
       "    <tr>\n",
       "      <th>fd8ef6377f76</th>\n",
       "      <td>0.427300</td>\n",
       "      <td>2459.10720</td>\n",
       "      <td>130.138587</td>\n",
       "      <td>55.355778</td>\n",
       "      <td>10.005552</td>\n",
       "      <td>8.070549</td>\n",
       "      <td>0.025578</td>\n",
       "      <td>15.408390</td>\n",
       "      <td>1.229900</td>\n",
       "      <td>5888.87769</td>\n",
       "      <td>...</td>\n",
       "      <td>0.49706</td>\n",
       "      <td>0.067730</td>\n",
       "      <td>19.962092</td>\n",
       "      <td>128.896894</td>\n",
       "      <td>6474.652866</td>\n",
       "      <td>26.166072</td>\n",
       "      <td>119.559420</td>\n",
       "      <td>21.978000</td>\n",
       "      <td>737264.0</td>\n",
       "      <td>0</td>\n",
       "    </tr>\n",
       "    <tr>\n",
       "      <th>fe1942975e40</th>\n",
       "      <td>0.363205</td>\n",
       "      <td>1263.53524</td>\n",
       "      <td>85.200147</td>\n",
       "      <td>23.685856</td>\n",
       "      <td>8.138688</td>\n",
       "      <td>7.981959</td>\n",
       "      <td>0.025578</td>\n",
       "      <td>7.524588</td>\n",
       "      <td>1.229900</td>\n",
       "      <td>4517.86560</td>\n",
       "      <td>...</td>\n",
       "      <td>0.78764</td>\n",
       "      <td>0.670527</td>\n",
       "      <td>24.594488</td>\n",
       "      <td>72.611063</td>\n",
       "      <td>1965.343176</td>\n",
       "      <td>25.116750</td>\n",
       "      <td>37.155112</td>\n",
       "      <td>0.184622</td>\n",
       "      <td>737090.0</td>\n",
       "      <td>0</td>\n",
       "    </tr>\n",
       "    <tr>\n",
       "      <th>ffcca4ded3bb</th>\n",
       "      <td>0.482849</td>\n",
       "      <td>2672.53426</td>\n",
       "      <td>546.663930</td>\n",
       "      <td>112.006102</td>\n",
       "      <td>8.138688</td>\n",
       "      <td>3.198099</td>\n",
       "      <td>0.116928</td>\n",
       "      <td>3.396778</td>\n",
       "      <td>7.948668</td>\n",
       "      <td>2818.01707</td>\n",
       "      <td>...</td>\n",
       "      <td>1.14492</td>\n",
       "      <td>0.149006</td>\n",
       "      <td>13.673940</td>\n",
       "      <td>72.611063</td>\n",
       "      <td>6850.484442</td>\n",
       "      <td>45.745974</td>\n",
       "      <td>114.842372</td>\n",
       "      <td>21.978000</td>\n",
       "      <td>737269.0</td>\n",
       "      <td>0</td>\n",
       "    </tr>\n",
       "  </tbody>\n",
       "</table>\n",
       "<p>617 rows × 58 columns</p>\n",
       "</div>"
      ],
      "text/plain": [
       "                    AB          AF          AH          AM         AR  \\\n",
       "Id                                                                      \n",
       "000ff2bfdfe9  0.209377  3109.03329   85.200147   22.394407   8.138688   \n",
       "007255e47698  0.145282   978.76416   85.200147   36.968889   8.138688   \n",
       "013f2bd269f5  0.470030  2635.10654   85.200147   32.360553   8.138688   \n",
       "043ac50845d5  0.252107  3819.65177  120.201618   77.112203   8.138688   \n",
       "044fb8a146ec  0.380297  3733.04844   85.200147   14.103738   8.138688   \n",
       "...                ...         ...         ...         ...        ...   \n",
       "fd3dafe738fd  0.149555  3130.05946  123.763599    9.513984  13.020852   \n",
       "fd895603f071  0.435846  5462.03438   85.200147   46.551007  15.973224   \n",
       "fd8ef6377f76  0.427300  2459.10720  130.138587   55.355778  10.005552   \n",
       "fe1942975e40  0.363205  1263.53524   85.200147   23.685856   8.138688   \n",
       "ffcca4ded3bb  0.482849  2672.53426  546.663930  112.006102   8.138688   \n",
       "\n",
       "                    AX        AY         AZ          BC         BD   ...  \\\n",
       "Id                                                                   ...   \n",
       "000ff2bfdfe9  0.699861  0.025578   9.812214    5.555634  4126.58731  ...   \n",
       "007255e47698  3.632190  0.025578  13.517790    1.229900  5496.92824  ...   \n",
       "013f2bd269f5  6.732840  0.025578  12.824570    1.229900  5135.78024  ...   \n",
       "043ac50845d5  3.685344  0.025578  11.053708    1.229900  4169.67738  ...   \n",
       "044fb8a146ec  3.942255  0.054810   3.396778  102.151980  5728.73412  ...   \n",
       "...                ...       ...        ...         ...         ...  ...   \n",
       "fd3dafe738fd  3.499305  0.077343   8.545512    2.804172  4157.68439  ...   \n",
       "fd895603f071  5.979825  0.025882  12.622906    3.777550  5654.07556  ...   \n",
       "fd8ef6377f76  8.070549  0.025578  15.408390    1.229900  5888.87769  ...   \n",
       "fe1942975e40  7.981959  0.025578   7.524588    1.229900  4517.86560  ...   \n",
       "ffcca4ded3bb  3.198099  0.116928   3.396778    7.948668  2818.01707  ...   \n",
       "\n",
       "                    FR        FS         GB          GE            GF  \\\n",
       "Id                                                                      \n",
       "000ff2bfdfe9   1.73855  0.094822  11.339138   72.611063   2003.810319   \n",
       "007255e47698   0.49706  0.568932   9.292698   72.611063  27981.562750   \n",
       "013f2bd269f5   0.97556  1.198821  37.077772   88.609437  13676.957810   \n",
       "043ac50845d5   0.49706  0.284466  18.529584   82.416803   2094.262452   \n",
       "044fb8a146ec  48.50134  0.121914  16.408728  146.109943   8524.370502   \n",
       "...                ...       ...        ...         ...           ...   \n",
       "fd3dafe738fd   1.26092  0.067730   8.967128  217.148554   8095.932828   \n",
       "fd895603f071   1.24236  0.426699  35.896418  496.994214   3085.308063   \n",
       "fd8ef6377f76   0.49706  0.067730  19.962092  128.896894   6474.652866   \n",
       "fe1942975e40   0.78764  0.670527  24.594488   72.611063   1965.343176   \n",
       "ffcca4ded3bb   1.14492  0.149006  13.673940   72.611063   6850.484442   \n",
       "\n",
       "                     GH          GI         GL     times  Class  \n",
       "Id                                                               \n",
       "000ff2bfdfe9  22.136229   69.834944   0.120343  737137.0      1  \n",
       "007255e47698  29.135430   32.131996  21.978000  737269.0      0  \n",
       "013f2bd269f5  28.022851   35.192676   0.196941  737269.0      0  \n",
       "043ac50845d5  39.948656   90.493248   0.155829  737269.0      0  \n",
       "044fb8a146ec  45.381316   36.262628   0.096614  737509.0      1  \n",
       "...                 ...         ...        ...       ...    ...  \n",
       "fd3dafe738fd  24.640462   69.191944  21.978000  737681.0      0  \n",
       "fd895603f071  29.648928  124.808872   0.145340  737676.0      0  \n",
       "fd8ef6377f76  26.166072  119.559420  21.978000  737264.0      0  \n",
       "fe1942975e40  25.116750   37.155112   0.184622  737090.0      0  \n",
       "ffcca4ded3bb  45.745974  114.842372  21.978000  737269.0      0  \n",
       "\n",
       "[617 rows x 58 columns]"
      ]
     },
     "execution_count": 84,
     "metadata": {},
     "output_type": "execute_result"
    }
   ],
   "source": [
    "#　https://www.kaggle.com/competitions/icr-identify-age-related-conditions/discussion/417250\n",
    "# df_train['EL'] = df_train['EL'].fillna(df_train['EL'].mode()[0]) <-- 要検討\n",
    "\n",
    "col_mean = df_train.median(axis=0)\n",
    "# col_mean = df_train.mode().iloc[0]\n",
    "for i, colname in enumerate(df_train.columns):\n",
    "    df_train[colname].fillna(col_mean[i], inplace=True)\n",
    "df_train"
   ]
  },
  {
   "cell_type": "code",
   "execution_count": 85,
   "id": "ed31742b",
   "metadata": {
    "execution": {
     "iopub.execute_input": "2023-07-17T00:40:41.596702Z",
     "iopub.status.busy": "2023-07-17T00:40:41.596290Z",
     "iopub.status.idle": "2023-07-17T00:40:41.656602Z",
     "shell.execute_reply": "2023-07-17T00:40:41.655599Z"
    },
    "papermill": {
     "duration": 0.10304,
     "end_time": "2023-07-17T00:40:41.659289",
     "exception": false,
     "start_time": "2023-07-17T00:40:41.556249",
     "status": "completed"
    },
    "tags": []
   },
   "outputs": [
    {
     "data": {
      "text/html": [
       "<div>\n",
       "<style scoped>\n",
       "    .dataframe tbody tr th:only-of-type {\n",
       "        vertical-align: middle;\n",
       "    }\n",
       "\n",
       "    .dataframe tbody tr th {\n",
       "        vertical-align: top;\n",
       "    }\n",
       "\n",
       "    .dataframe thead th {\n",
       "        text-align: right;\n",
       "    }\n",
       "</style>\n",
       "<table border=\"1\" class=\"dataframe\">\n",
       "  <thead>\n",
       "    <tr style=\"text-align: right;\">\n",
       "      <th></th>\n",
       "      <th>AB</th>\n",
       "      <th>AF</th>\n",
       "      <th>AH</th>\n",
       "      <th>AM</th>\n",
       "      <th>AR</th>\n",
       "      <th>AX</th>\n",
       "      <th>AY</th>\n",
       "      <th>AZ</th>\n",
       "      <th>BC</th>\n",
       "      <th>BD</th>\n",
       "      <th>...</th>\n",
       "      <th>FL</th>\n",
       "      <th>FR</th>\n",
       "      <th>FS</th>\n",
       "      <th>GB</th>\n",
       "      <th>GE</th>\n",
       "      <th>GF</th>\n",
       "      <th>GH</th>\n",
       "      <th>GI</th>\n",
       "      <th>GL</th>\n",
       "      <th>times</th>\n",
       "    </tr>\n",
       "    <tr>\n",
       "      <th>Id</th>\n",
       "      <th></th>\n",
       "      <th></th>\n",
       "      <th></th>\n",
       "      <th></th>\n",
       "      <th></th>\n",
       "      <th></th>\n",
       "      <th></th>\n",
       "      <th></th>\n",
       "      <th></th>\n",
       "      <th></th>\n",
       "      <th></th>\n",
       "      <th></th>\n",
       "      <th></th>\n",
       "      <th></th>\n",
       "      <th></th>\n",
       "      <th></th>\n",
       "      <th></th>\n",
       "      <th></th>\n",
       "      <th></th>\n",
       "      <th></th>\n",
       "      <th></th>\n",
       "    </tr>\n",
       "  </thead>\n",
       "  <tbody>\n",
       "    <tr>\n",
       "      <th>00eed32682bb</th>\n",
       "      <td>0.0</td>\n",
       "      <td>0.0</td>\n",
       "      <td>0.0</td>\n",
       "      <td>0.0</td>\n",
       "      <td>0.0</td>\n",
       "      <td>0.0</td>\n",
       "      <td>0.0</td>\n",
       "      <td>0.0</td>\n",
       "      <td>0.0</td>\n",
       "      <td>0.0</td>\n",
       "      <td>...</td>\n",
       "      <td>0.0</td>\n",
       "      <td>0.0</td>\n",
       "      <td>0.0</td>\n",
       "      <td>0.0</td>\n",
       "      <td>0.0</td>\n",
       "      <td>0.0</td>\n",
       "      <td>0.0</td>\n",
       "      <td>0.0</td>\n",
       "      <td>0.0</td>\n",
       "      <td>737698.0</td>\n",
       "    </tr>\n",
       "    <tr>\n",
       "      <th>010ebe33f668</th>\n",
       "      <td>0.0</td>\n",
       "      <td>0.0</td>\n",
       "      <td>0.0</td>\n",
       "      <td>0.0</td>\n",
       "      <td>0.0</td>\n",
       "      <td>0.0</td>\n",
       "      <td>0.0</td>\n",
       "      <td>0.0</td>\n",
       "      <td>0.0</td>\n",
       "      <td>0.0</td>\n",
       "      <td>...</td>\n",
       "      <td>0.0</td>\n",
       "      <td>0.0</td>\n",
       "      <td>0.0</td>\n",
       "      <td>0.0</td>\n",
       "      <td>0.0</td>\n",
       "      <td>0.0</td>\n",
       "      <td>0.0</td>\n",
       "      <td>0.0</td>\n",
       "      <td>0.0</td>\n",
       "      <td>737698.0</td>\n",
       "    </tr>\n",
       "    <tr>\n",
       "      <th>02fa521e1838</th>\n",
       "      <td>0.0</td>\n",
       "      <td>0.0</td>\n",
       "      <td>0.0</td>\n",
       "      <td>0.0</td>\n",
       "      <td>0.0</td>\n",
       "      <td>0.0</td>\n",
       "      <td>0.0</td>\n",
       "      <td>0.0</td>\n",
       "      <td>0.0</td>\n",
       "      <td>0.0</td>\n",
       "      <td>...</td>\n",
       "      <td>0.0</td>\n",
       "      <td>0.0</td>\n",
       "      <td>0.0</td>\n",
       "      <td>0.0</td>\n",
       "      <td>0.0</td>\n",
       "      <td>0.0</td>\n",
       "      <td>0.0</td>\n",
       "      <td>0.0</td>\n",
       "      <td>0.0</td>\n",
       "      <td>737698.0</td>\n",
       "    </tr>\n",
       "    <tr>\n",
       "      <th>040e15f562a2</th>\n",
       "      <td>0.0</td>\n",
       "      <td>0.0</td>\n",
       "      <td>0.0</td>\n",
       "      <td>0.0</td>\n",
       "      <td>0.0</td>\n",
       "      <td>0.0</td>\n",
       "      <td>0.0</td>\n",
       "      <td>0.0</td>\n",
       "      <td>0.0</td>\n",
       "      <td>0.0</td>\n",
       "      <td>...</td>\n",
       "      <td>0.0</td>\n",
       "      <td>0.0</td>\n",
       "      <td>0.0</td>\n",
       "      <td>0.0</td>\n",
       "      <td>0.0</td>\n",
       "      <td>0.0</td>\n",
       "      <td>0.0</td>\n",
       "      <td>0.0</td>\n",
       "      <td>0.0</td>\n",
       "      <td>737698.0</td>\n",
       "    </tr>\n",
       "    <tr>\n",
       "      <th>046e85c7cc7f</th>\n",
       "      <td>0.0</td>\n",
       "      <td>0.0</td>\n",
       "      <td>0.0</td>\n",
       "      <td>0.0</td>\n",
       "      <td>0.0</td>\n",
       "      <td>0.0</td>\n",
       "      <td>0.0</td>\n",
       "      <td>0.0</td>\n",
       "      <td>0.0</td>\n",
       "      <td>0.0</td>\n",
       "      <td>...</td>\n",
       "      <td>0.0</td>\n",
       "      <td>0.0</td>\n",
       "      <td>0.0</td>\n",
       "      <td>0.0</td>\n",
       "      <td>0.0</td>\n",
       "      <td>0.0</td>\n",
       "      <td>0.0</td>\n",
       "      <td>0.0</td>\n",
       "      <td>0.0</td>\n",
       "      <td>737698.0</td>\n",
       "    </tr>\n",
       "  </tbody>\n",
       "</table>\n",
       "<p>5 rows × 57 columns</p>\n",
       "</div>"
      ],
      "text/plain": [
       "               AB   AF   AH   AM   AR   AX   AY   AZ   BC  BD   ...   FL   FR  \\\n",
       "Id                                                              ...             \n",
       "00eed32682bb  0.0  0.0  0.0  0.0  0.0  0.0  0.0  0.0  0.0  0.0  ...  0.0  0.0   \n",
       "010ebe33f668  0.0  0.0  0.0  0.0  0.0  0.0  0.0  0.0  0.0  0.0  ...  0.0  0.0   \n",
       "02fa521e1838  0.0  0.0  0.0  0.0  0.0  0.0  0.0  0.0  0.0  0.0  ...  0.0  0.0   \n",
       "040e15f562a2  0.0  0.0  0.0  0.0  0.0  0.0  0.0  0.0  0.0  0.0  ...  0.0  0.0   \n",
       "046e85c7cc7f  0.0  0.0  0.0  0.0  0.0  0.0  0.0  0.0  0.0  0.0  ...  0.0  0.0   \n",
       "\n",
       "               FS   GB   GE   GF   GH   GI   GL     times  \n",
       "Id                                                         \n",
       "00eed32682bb  0.0  0.0  0.0  0.0  0.0  0.0  0.0  737698.0  \n",
       "010ebe33f668  0.0  0.0  0.0  0.0  0.0  0.0  0.0  737698.0  \n",
       "02fa521e1838  0.0  0.0  0.0  0.0  0.0  0.0  0.0  737698.0  \n",
       "040e15f562a2  0.0  0.0  0.0  0.0  0.0  0.0  0.0  737698.0  \n",
       "046e85c7cc7f  0.0  0.0  0.0  0.0  0.0  0.0  0.0  737698.0  \n",
       "\n",
       "[5 rows x 57 columns]"
      ]
     },
     "execution_count": 85,
     "metadata": {},
     "output_type": "execute_result"
    }
   ],
   "source": [
    "for i, colname in enumerate(df_test.columns):\n",
    "    df_test[colname].fillna(col_mean[i], inplace=True)\n",
    "df_test"
   ]
  },
  {
   "cell_type": "markdown",
   "id": "8d0d57ab",
   "metadata": {
    "papermill": {
     "duration": 0.040559,
     "end_time": "2023-07-17T00:40:41.781236",
     "exception": false,
     "start_time": "2023-07-17T00:40:41.740677",
     "status": "completed"
    },
    "tags": []
   },
   "source": [
    "### 列 BC と CL を削除\n",
    "自分のコードではCVが低下したので一旦コメントアウト\n",
    "\n",
    "https://www.kaggle.com/competitions/icr-identify-age-related-conditions/discussion/414638"
   ]
  },
  {
   "cell_type": "code",
   "execution_count": 86,
   "id": "b76b4b98",
   "metadata": {
    "execution": {
     "iopub.execute_input": "2023-07-17T00:40:41.861627Z",
     "iopub.status.busy": "2023-07-17T00:40:41.861119Z",
     "iopub.status.idle": "2023-07-17T00:40:41.866626Z",
     "shell.execute_reply": "2023-07-17T00:40:41.865487Z"
    },
    "papermill": {
     "duration": 0.047917,
     "end_time": "2023-07-17T00:40:41.868934",
     "exception": false,
     "start_time": "2023-07-17T00:40:41.821017",
     "status": "completed"
    },
    "tags": []
   },
   "outputs": [],
   "source": [
    "if del_BC_CL:\n",
    "    df_train = df_train.drop(['BC','CL'], axis=1)\n",
    "    df_test = df_test.drop(['BC','CL'], axis=1)"
   ]
  },
  {
   "cell_type": "markdown",
   "id": "2cfe288a",
   "metadata": {
    "papermill": {
     "duration": 0.039695,
     "end_time": "2023-07-17T00:40:41.947877",
     "exception": false,
     "start_time": "2023-07-17T00:40:41.908182",
     "status": "completed"
    },
    "tags": []
   },
   "source": [
    "### smote\n",
    "今回は効果なさそうなので使わない。use_SMOTEもoff固定！！ **使うと不具合出るかも**"
   ]
  },
  {
   "cell_type": "code",
   "execution_count": 87,
   "id": "6c327724",
   "metadata": {
    "execution": {
     "iopub.execute_input": "2023-07-17T00:40:42.027996Z",
     "iopub.status.busy": "2023-07-17T00:40:42.027011Z",
     "iopub.status.idle": "2023-07-17T00:40:49.266897Z",
     "shell.execute_reply": "2023-07-17T00:40:49.265923Z"
    },
    "papermill": {
     "duration": 7.283255,
     "end_time": "2023-07-17T00:40:49.270462",
     "exception": false,
     "start_time": "2023-07-17T00:40:41.987207",
     "status": "completed"
    },
    "tags": []
   },
   "outputs": [
    {
     "data": {
      "image/png": "[encoded data removed]",
      "text/plain": [
       "<Figure size 640x480 with 1 Axes>"
      ]
     },
     "metadata": {},
     "output_type": "display_data"
    }
   ],
   "source": [
    "from imblearn.over_sampling import SMOTE\n",
    "from imblearn.combine import SMOTETomek\n",
    "\n",
    "X = df_train[df_train.columns[:-1]]\n",
    "y = df_train.Class\n",
    "sm = SMOTETomek(random_state=57)\n",
    "X_res, y_res = sm.fit_resample(X, y)\n",
    "\n",
    "from sklearn.manifold import TSNE\n",
    "pca = TSNE(n_components=2, random_state=0)\n",
    "X_reduced_tsne = pca.fit_transform(X_res)  # wineデータをPCAで次元圧縮\n",
    "plt.scatter(X_reduced_tsne[:, 0], X_reduced_tsne[:, 1],\n",
    "            c=y_res, cmap='jet', alpha=0.3)\n",
    "plt.show()\n",
    "\n",
    "if use_SMOTE:\n",
    "    X_res['Class'] = y_res\n",
    "    df_train = X_res"
   ]
  },
  {
   "cell_type": "code",
   "execution_count": 88,
   "id": "8930798c",
   "metadata": {
    "execution": {
     "iopub.execute_input": "2023-07-17T00:40:49.354145Z",
     "iopub.status.busy": "2023-07-17T00:40:49.353728Z",
     "iopub.status.idle": "2023-07-17T00:40:49.387224Z",
     "shell.execute_reply": "2023-07-17T00:40:49.386077Z"
    },
    "papermill": {
     "duration": 0.079025,
     "end_time": "2023-07-17T00:40:49.390379",
     "exception": false,
     "start_time": "2023-07-17T00:40:49.311354",
     "status": "completed"
    },
    "tags": []
   },
   "outputs": [
    {
     "data": {
      "text/html": [
       "<div>\n",
       "<style scoped>\n",
       "    .dataframe tbody tr th:only-of-type {\n",
       "        vertical-align: middle;\n",
       "    }\n",
       "\n",
       "    .dataframe tbody tr th {\n",
       "        vertical-align: top;\n",
       "    }\n",
       "\n",
       "    .dataframe thead th {\n",
       "        text-align: right;\n",
       "    }\n",
       "</style>\n",
       "<table border=\"1\" class=\"dataframe\">\n",
       "  <thead>\n",
       "    <tr style=\"text-align: right;\">\n",
       "      <th></th>\n",
       "      <th>AB</th>\n",
       "      <th>AF</th>\n",
       "      <th>AH</th>\n",
       "      <th>AM</th>\n",
       "      <th>AR</th>\n",
       "      <th>AX</th>\n",
       "      <th>AY</th>\n",
       "      <th>AZ</th>\n",
       "      <th>BC</th>\n",
       "      <th>BD</th>\n",
       "      <th>...</th>\n",
       "      <th>FR</th>\n",
       "      <th>FS</th>\n",
       "      <th>GB</th>\n",
       "      <th>GE</th>\n",
       "      <th>GF</th>\n",
       "      <th>GH</th>\n",
       "      <th>GI</th>\n",
       "      <th>GL</th>\n",
       "      <th>times</th>\n",
       "      <th>Class</th>\n",
       "    </tr>\n",
       "    <tr>\n",
       "      <th>Id</th>\n",
       "      <th></th>\n",
       "      <th></th>\n",
       "      <th></th>\n",
       "      <th></th>\n",
       "      <th></th>\n",
       "      <th></th>\n",
       "      <th></th>\n",
       "      <th></th>\n",
       "      <th></th>\n",
       "      <th></th>\n",
       "      <th></th>\n",
       "      <th></th>\n",
       "      <th></th>\n",
       "      <th></th>\n",
       "      <th></th>\n",
       "      <th></th>\n",
       "      <th></th>\n",
       "      <th></th>\n",
       "      <th></th>\n",
       "      <th></th>\n",
       "      <th></th>\n",
       "    </tr>\n",
       "  </thead>\n",
       "  <tbody>\n",
       "    <tr>\n",
       "      <th>000ff2bfdfe9</th>\n",
       "      <td>0.209377</td>\n",
       "      <td>3109.03329</td>\n",
       "      <td>85.200147</td>\n",
       "      <td>22.394407</td>\n",
       "      <td>8.138688</td>\n",
       "      <td>0.699861</td>\n",
       "      <td>0.025578</td>\n",
       "      <td>9.812214</td>\n",
       "      <td>5.555634</td>\n",
       "      <td>4126.58731</td>\n",
       "      <td>...</td>\n",
       "      <td>1.73855</td>\n",
       "      <td>0.094822</td>\n",
       "      <td>11.339138</td>\n",
       "      <td>72.611063</td>\n",
       "      <td>2003.810319</td>\n",
       "      <td>22.136229</td>\n",
       "      <td>69.834944</td>\n",
       "      <td>0.120343</td>\n",
       "      <td>737137.0</td>\n",
       "      <td>1</td>\n",
       "    </tr>\n",
       "    <tr>\n",
       "      <th>007255e47698</th>\n",
       "      <td>0.145282</td>\n",
       "      <td>978.76416</td>\n",
       "      <td>85.200147</td>\n",
       "      <td>36.968889</td>\n",
       "      <td>8.138688</td>\n",
       "      <td>3.632190</td>\n",
       "      <td>0.025578</td>\n",
       "      <td>13.517790</td>\n",
       "      <td>1.229900</td>\n",
       "      <td>5496.92824</td>\n",
       "      <td>...</td>\n",
       "      <td>0.49706</td>\n",
       "      <td>0.568932</td>\n",
       "      <td>9.292698</td>\n",
       "      <td>72.611063</td>\n",
       "      <td>27981.562750</td>\n",
       "      <td>29.135430</td>\n",
       "      <td>32.131996</td>\n",
       "      <td>21.978000</td>\n",
       "      <td>737269.0</td>\n",
       "      <td>0</td>\n",
       "    </tr>\n",
       "    <tr>\n",
       "      <th>013f2bd269f5</th>\n",
       "      <td>0.470030</td>\n",
       "      <td>2635.10654</td>\n",
       "      <td>85.200147</td>\n",
       "      <td>32.360553</td>\n",
       "      <td>8.138688</td>\n",
       "      <td>6.732840</td>\n",
       "      <td>0.025578</td>\n",
       "      <td>12.824570</td>\n",
       "      <td>1.229900</td>\n",
       "      <td>5135.78024</td>\n",
       "      <td>...</td>\n",
       "      <td>0.97556</td>\n",
       "      <td>1.198821</td>\n",
       "      <td>37.077772</td>\n",
       "      <td>88.609437</td>\n",
       "      <td>13676.957810</td>\n",
       "      <td>28.022851</td>\n",
       "      <td>35.192676</td>\n",
       "      <td>0.196941</td>\n",
       "      <td>737269.0</td>\n",
       "      <td>0</td>\n",
       "    </tr>\n",
       "    <tr>\n",
       "      <th>043ac50845d5</th>\n",
       "      <td>0.252107</td>\n",
       "      <td>3819.65177</td>\n",
       "      <td>120.201618</td>\n",
       "      <td>77.112203</td>\n",
       "      <td>8.138688</td>\n",
       "      <td>3.685344</td>\n",
       "      <td>0.025578</td>\n",
       "      <td>11.053708</td>\n",
       "      <td>1.229900</td>\n",
       "      <td>4169.67738</td>\n",
       "      <td>...</td>\n",
       "      <td>0.49706</td>\n",
       "      <td>0.284466</td>\n",
       "      <td>18.529584</td>\n",
       "      <td>82.416803</td>\n",
       "      <td>2094.262452</td>\n",
       "      <td>39.948656</td>\n",
       "      <td>90.493248</td>\n",
       "      <td>0.155829</td>\n",
       "      <td>737269.0</td>\n",
       "      <td>0</td>\n",
       "    </tr>\n",
       "    <tr>\n",
       "      <th>044fb8a146ec</th>\n",
       "      <td>0.380297</td>\n",
       "      <td>3733.04844</td>\n",
       "      <td>85.200147</td>\n",
       "      <td>14.103738</td>\n",
       "      <td>8.138688</td>\n",
       "      <td>3.942255</td>\n",
       "      <td>0.054810</td>\n",
       "      <td>3.396778</td>\n",
       "      <td>102.151980</td>\n",
       "      <td>5728.73412</td>\n",
       "      <td>...</td>\n",
       "      <td>48.50134</td>\n",
       "      <td>0.121914</td>\n",
       "      <td>16.408728</td>\n",
       "      <td>146.109943</td>\n",
       "      <td>8524.370502</td>\n",
       "      <td>45.381316</td>\n",
       "      <td>36.262628</td>\n",
       "      <td>0.096614</td>\n",
       "      <td>737509.0</td>\n",
       "      <td>1</td>\n",
       "    </tr>\n",
       "    <tr>\n",
       "      <th>...</th>\n",
       "      <td>...</td>\n",
       "      <td>...</td>\n",
       "      <td>...</td>\n",
       "      <td>...</td>\n",
       "      <td>...</td>\n",
       "      <td>...</td>\n",
       "      <td>...</td>\n",
       "      <td>...</td>\n",
       "      <td>...</td>\n",
       "      <td>...</td>\n",
       "      <td>...</td>\n",
       "      <td>...</td>\n",
       "      <td>...</td>\n",
       "      <td>...</td>\n",
       "      <td>...</td>\n",
       "      <td>...</td>\n",
       "      <td>...</td>\n",
       "      <td>...</td>\n",
       "      <td>...</td>\n",
       "      <td>...</td>\n",
       "      <td>...</td>\n",
       "    </tr>\n",
       "    <tr>\n",
       "      <th>fd3dafe738fd</th>\n",
       "      <td>0.149555</td>\n",
       "      <td>3130.05946</td>\n",
       "      <td>123.763599</td>\n",
       "      <td>9.513984</td>\n",
       "      <td>13.020852</td>\n",
       "      <td>3.499305</td>\n",
       "      <td>0.077343</td>\n",
       "      <td>8.545512</td>\n",
       "      <td>2.804172</td>\n",
       "      <td>4157.68439</td>\n",
       "      <td>...</td>\n",
       "      <td>1.26092</td>\n",
       "      <td>0.067730</td>\n",
       "      <td>8.967128</td>\n",
       "      <td>217.148554</td>\n",
       "      <td>8095.932828</td>\n",
       "      <td>24.640462</td>\n",
       "      <td>69.191944</td>\n",
       "      <td>21.978000</td>\n",
       "      <td>737681.0</td>\n",
       "      <td>0</td>\n",
       "    </tr>\n",
       "    <tr>\n",
       "      <th>fd895603f071</th>\n",
       "      <td>0.435846</td>\n",
       "      <td>5462.03438</td>\n",
       "      <td>85.200147</td>\n",
       "      <td>46.551007</td>\n",
       "      <td>15.973224</td>\n",
       "      <td>5.979825</td>\n",
       "      <td>0.025882</td>\n",
       "      <td>12.622906</td>\n",
       "      <td>3.777550</td>\n",
       "      <td>5654.07556</td>\n",
       "      <td>...</td>\n",
       "      <td>1.24236</td>\n",
       "      <td>0.426699</td>\n",
       "      <td>35.896418</td>\n",
       "      <td>496.994214</td>\n",
       "      <td>3085.308063</td>\n",
       "      <td>29.648928</td>\n",
       "      <td>124.808872</td>\n",
       "      <td>0.145340</td>\n",
       "      <td>737676.0</td>\n",
       "      <td>0</td>\n",
       "    </tr>\n",
       "    <tr>\n",
       "      <th>fd8ef6377f76</th>\n",
       "      <td>0.427300</td>\n",
       "      <td>2459.10720</td>\n",
       "      <td>130.138587</td>\n",
       "      <td>55.355778</td>\n",
       "      <td>10.005552</td>\n",
       "      <td>8.070549</td>\n",
       "      <td>0.025578</td>\n",
       "      <td>15.408390</td>\n",
       "      <td>1.229900</td>\n",
       "      <td>5888.87769</td>\n",
       "      <td>...</td>\n",
       "      <td>0.49706</td>\n",
       "      <td>0.067730</td>\n",
       "      <td>19.962092</td>\n",
       "      <td>128.896894</td>\n",
       "      <td>6474.652866</td>\n",
       "      <td>26.166072</td>\n",
       "      <td>119.559420</td>\n",
       "      <td>21.978000</td>\n",
       "      <td>737264.0</td>\n",
       "      <td>0</td>\n",
       "    </tr>\n",
       "    <tr>\n",
       "      <th>fe1942975e40</th>\n",
       "      <td>0.363205</td>\n",
       "      <td>1263.53524</td>\n",
       "      <td>85.200147</td>\n",
       "      <td>23.685856</td>\n",
       "      <td>8.138688</td>\n",
       "      <td>7.981959</td>\n",
       "      <td>0.025578</td>\n",
       "      <td>7.524588</td>\n",
       "      <td>1.229900</td>\n",
       "      <td>4517.86560</td>\n",
       "      <td>...</td>\n",
       "      <td>0.78764</td>\n",
       "      <td>0.670527</td>\n",
       "      <td>24.594488</td>\n",
       "      <td>72.611063</td>\n",
       "      <td>1965.343176</td>\n",
       "      <td>25.116750</td>\n",
       "      <td>37.155112</td>\n",
       "      <td>0.184622</td>\n",
       "      <td>737090.0</td>\n",
       "      <td>0</td>\n",
       "    </tr>\n",
       "    <tr>\n",
       "      <th>ffcca4ded3bb</th>\n",
       "      <td>0.482849</td>\n",
       "      <td>2672.53426</td>\n",
       "      <td>546.663930</td>\n",
       "      <td>112.006102</td>\n",
       "      <td>8.138688</td>\n",
       "      <td>3.198099</td>\n",
       "      <td>0.116928</td>\n",
       "      <td>3.396778</td>\n",
       "      <td>7.948668</td>\n",
       "      <td>2818.01707</td>\n",
       "      <td>...</td>\n",
       "      <td>1.14492</td>\n",
       "      <td>0.149006</td>\n",
       "      <td>13.673940</td>\n",
       "      <td>72.611063</td>\n",
       "      <td>6850.484442</td>\n",
       "      <td>45.745974</td>\n",
       "      <td>114.842372</td>\n",
       "      <td>21.978000</td>\n",
       "      <td>737269.0</td>\n",
       "      <td>0</td>\n",
       "    </tr>\n",
       "  </tbody>\n",
       "</table>\n",
       "<p>617 rows × 58 columns</p>\n",
       "</div>"
      ],
      "text/plain": [
       "                    AB          AF          AH          AM         AR  \\\n",
       "Id                                                                      \n",
       "000ff2bfdfe9  0.209377  3109.03329   85.200147   22.394407   8.138688   \n",
       "007255e47698  0.145282   978.76416   85.200147   36.968889   8.138688   \n",
       "013f2bd269f5  0.470030  2635.10654   85.200147   32.360553   8.138688   \n",
       "043ac50845d5  0.252107  3819.65177  120.201618   77.112203   8.138688   \n",
       "044fb8a146ec  0.380297  3733.04844   85.200147   14.103738   8.138688   \n",
       "...                ...         ...         ...         ...        ...   \n",
       "fd3dafe738fd  0.149555  3130.05946  123.763599    9.513984  13.020852   \n",
       "fd895603f071  0.435846  5462.03438   85.200147   46.551007  15.973224   \n",
       "fd8ef6377f76  0.427300  2459.10720  130.138587   55.355778  10.005552   \n",
       "fe1942975e40  0.363205  1263.53524   85.200147   23.685856   8.138688   \n",
       "ffcca4ded3bb  0.482849  2672.53426  546.663930  112.006102   8.138688   \n",
       "\n",
       "                    AX        AY         AZ          BC         BD   ...  \\\n",
       "Id                                                                   ...   \n",
       "000ff2bfdfe9  0.699861  0.025578   9.812214    5.555634  4126.58731  ...   \n",
       "007255e47698  3.632190  0.025578  13.517790    1.229900  5496.92824  ...   \n",
       "013f2bd269f5  6.732840  0.025578  12.824570    1.229900  5135.78024  ...   \n",
       "043ac50845d5  3.685344  0.025578  11.053708    1.229900  4169.67738  ...   \n",
       "044fb8a146ec  3.942255  0.054810   3.396778  102.151980  5728.73412  ...   \n",
       "...                ...       ...        ...         ...         ...  ...   \n",
       "fd3dafe738fd  3.499305  0.077343   8.545512    2.804172  4157.68439  ...   \n",
       "fd895603f071  5.979825  0.025882  12.622906    3.777550  5654.07556  ...   \n",
       "fd8ef6377f76  8.070549  0.025578  15.408390    1.229900  5888.87769  ...   \n",
       "fe1942975e40  7.981959  0.025578   7.524588    1.229900  4517.86560  ...   \n",
       "ffcca4ded3bb  3.198099  0.116928   3.396778    7.948668  2818.01707  ...   \n",
       "\n",
       "                    FR        FS         GB          GE            GF  \\\n",
       "Id                                                                      \n",
       "000ff2bfdfe9   1.73855  0.094822  11.339138   72.611063   2003.810319   \n",
       "007255e47698   0.49706  0.568932   9.292698   72.611063  27981.562750   \n",
       "013f2bd269f5   0.97556  1.198821  37.077772   88.609437  13676.957810   \n",
       "043ac50845d5   0.49706  0.284466  18.529584   82.416803   2094.262452   \n",
       "044fb8a146ec  48.50134  0.121914  16.408728  146.109943   8524.370502   \n",
       "...                ...       ...        ...         ...           ...   \n",
       "fd3dafe738fd   1.26092  0.067730   8.967128  217.148554   8095.932828   \n",
       "fd895603f071   1.24236  0.426699  35.896418  496.994214   3085.308063   \n",
       "fd8ef6377f76   0.49706  0.067730  19.962092  128.896894   6474.652866   \n",
       "fe1942975e40   0.78764  0.670527  24.594488   72.611063   1965.343176   \n",
       "ffcca4ded3bb   1.14492  0.149006  13.673940   72.611063   6850.484442   \n",
       "\n",
       "                     GH          GI         GL     times  Class  \n",
       "Id                                                               \n",
       "000ff2bfdfe9  22.136229   69.834944   0.120343  737137.0      1  \n",
       "007255e47698  29.135430   32.131996  21.978000  737269.0      0  \n",
       "013f2bd269f5  28.022851   35.192676   0.196941  737269.0      0  \n",
       "043ac50845d5  39.948656   90.493248   0.155829  737269.0      0  \n",
       "044fb8a146ec  45.381316   36.262628   0.096614  737509.0      1  \n",
       "...                 ...         ...        ...       ...    ...  \n",
       "fd3dafe738fd  24.640462   69.191944  21.978000  737681.0      0  \n",
       "fd895603f071  29.648928  124.808872   0.145340  737676.0      0  \n",
       "fd8ef6377f76  26.166072  119.559420  21.978000  737264.0      0  \n",
       "fe1942975e40  25.116750   37.155112   0.184622  737090.0      0  \n",
       "ffcca4ded3bb  45.745974  114.842372  21.978000  737269.0      0  \n",
       "\n",
       "[617 rows x 58 columns]"
      ]
     },
     "execution_count": 88,
     "metadata": {},
     "output_type": "execute_result"
    }
   ],
   "source": [
    "df_train"
   ]
  },
  {
   "cell_type": "markdown",
   "id": "bee9df0a",
   "metadata": {
    "papermill": {
     "duration": 0.041712,
     "end_time": "2023-07-17T00:40:49.473966",
     "exception": false,
     "start_time": "2023-07-17T00:40:49.432254",
     "status": "completed"
    },
    "tags": []
   },
   "source": [
    "### yeo-johnson変換"
   ]
  },
  {
   "cell_type": "code",
   "execution_count": 89,
   "id": "91d93937",
   "metadata": {
    "execution": {
     "iopub.execute_input": "2023-07-17T00:40:49.557951Z",
     "iopub.status.busy": "2023-07-17T00:40:49.557576Z",
     "iopub.status.idle": "2023-07-17T00:40:49.563066Z",
     "shell.execute_reply": "2023-07-17T00:40:49.562111Z"
    },
    "papermill": {
     "duration": 0.050055,
     "end_time": "2023-07-17T00:40:49.565183",
     "exception": false,
     "start_time": "2023-07-17T00:40:49.515128",
     "status": "completed"
    },
    "tags": []
   },
   "outputs": [],
   "source": [
    "# cols = df_train.columns[:-2]\n",
    "# pt = PowerTransformer(method='yeo-johnson')\n",
    "# pt.fit(df_train[cols].values)\n",
    "# df_train[cols] = pt.transform(df_train[cols].values)\n",
    "# df_test[cols] = pt.transform(df_test[cols].values)\n",
    "# \n",
    "# df_train"
   ]
  },
  {
   "cell_type": "code",
   "execution_count": null,
   "id": "85d269ad",
   "metadata": {
    "papermill": {
     "duration": 0.041659,
     "end_time": "2023-07-17T00:40:49.650561",
     "exception": false,
     "start_time": "2023-07-17T00:40:49.608902",
     "status": "completed"
    },
    "tags": []
   },
   "outputs": [],
   "source": []
  },
  {
   "cell_type": "code",
   "execution_count": null,
   "id": "272f6e11",
   "metadata": {
    "papermill": {
     "duration": 0.039861,
     "end_time": "2023-07-17T00:40:49.732790",
     "exception": false,
     "start_time": "2023-07-17T00:40:49.692929",
     "status": "completed"
    },
    "tags": []
   },
   "outputs": [],
   "source": []
  },
  {
   "cell_type": "markdown",
   "id": "b29eb4f1",
   "metadata": {
    "papermill": {
     "duration": 0.042797,
     "end_time": "2023-07-17T00:40:49.816919",
     "exception": false,
     "start_time": "2023-07-17T00:40:49.774122",
     "status": "completed"
    },
    "tags": []
   },
   "source": [
    "## スケールを変更"
   ]
  },
  {
   "cell_type": "code",
   "execution_count": 90,
   "id": "9f0c42cb",
   "metadata": {
    "execution": {
     "iopub.execute_input": "2023-07-17T00:40:49.903453Z",
     "iopub.status.busy": "2023-07-17T00:40:49.903054Z",
     "iopub.status.idle": "2023-07-17T00:40:49.971502Z",
     "shell.execute_reply": "2023-07-17T00:40:49.970469Z"
    },
    "papermill": {
     "duration": 0.115624,
     "end_time": "2023-07-17T00:40:49.973967",
     "exception": false,
     "start_time": "2023-07-17T00:40:49.858343",
     "status": "completed"
    },
    "tags": []
   },
   "outputs": [
    {
     "data": {
      "text/html": [
       "<div>\n",
       "<style scoped>\n",
       "    .dataframe tbody tr th:only-of-type {\n",
       "        vertical-align: middle;\n",
       "    }\n",
       "\n",
       "    .dataframe tbody tr th {\n",
       "        vertical-align: top;\n",
       "    }\n",
       "\n",
       "    .dataframe thead th {\n",
       "        text-align: right;\n",
       "    }\n",
       "</style>\n",
       "<table border=\"1\" class=\"dataframe\">\n",
       "  <thead>\n",
       "    <tr style=\"text-align: right;\">\n",
       "      <th></th>\n",
       "      <th>AB</th>\n",
       "      <th>AF</th>\n",
       "      <th>AH</th>\n",
       "      <th>AM</th>\n",
       "      <th>AR</th>\n",
       "      <th>AX</th>\n",
       "      <th>AY</th>\n",
       "      <th>AZ</th>\n",
       "      <th>BC</th>\n",
       "      <th>BD</th>\n",
       "      <th>...</th>\n",
       "      <th>FR</th>\n",
       "      <th>FS</th>\n",
       "      <th>GB</th>\n",
       "      <th>GE</th>\n",
       "      <th>GF</th>\n",
       "      <th>GH</th>\n",
       "      <th>GI</th>\n",
       "      <th>GL</th>\n",
       "      <th>times</th>\n",
       "      <th>Class</th>\n",
       "    </tr>\n",
       "    <tr>\n",
       "      <th>Id</th>\n",
       "      <th></th>\n",
       "      <th></th>\n",
       "      <th></th>\n",
       "      <th></th>\n",
       "      <th></th>\n",
       "      <th></th>\n",
       "      <th></th>\n",
       "      <th></th>\n",
       "      <th></th>\n",
       "      <th></th>\n",
       "      <th></th>\n",
       "      <th></th>\n",
       "      <th></th>\n",
       "      <th></th>\n",
       "      <th></th>\n",
       "      <th></th>\n",
       "      <th></th>\n",
       "      <th></th>\n",
       "      <th></th>\n",
       "      <th></th>\n",
       "      <th></th>\n",
       "    </tr>\n",
       "  </thead>\n",
       "  <tbody>\n",
       "    <tr>\n",
       "      <th>000ff2bfdfe9</th>\n",
       "      <td>-0.472222</td>\n",
       "      <td>-0.005214</td>\n",
       "      <td>0.000000</td>\n",
       "      <td>0.069272</td>\n",
       "      <td>0.000000</td>\n",
       "      <td>-1.880769</td>\n",
       "      <td>0.000000</td>\n",
       "      <td>-0.134115</td>\n",
       "      <td>1.123175</td>\n",
       "      <td>-0.463451</td>\n",
       "      <td>...</td>\n",
       "      <td>0.598571</td>\n",
       "      <td>-0.333333</td>\n",
       "      <td>-0.642283</td>\n",
       "      <td>0.000000</td>\n",
       "      <td>-0.359338</td>\n",
       "      <td>-0.716263</td>\n",
       "      <td>0.641741</td>\n",
       "      <td>-0.009952</td>\n",
       "      <td>737137.0</td>\n",
       "      <td>1</td>\n",
       "    </tr>\n",
       "    <tr>\n",
       "      <th>007255e47698</th>\n",
       "      <td>-0.680556</td>\n",
       "      <td>-0.989494</td>\n",
       "      <td>0.000000</td>\n",
       "      <td>0.611687</td>\n",
       "      <td>0.000000</td>\n",
       "      <td>-0.607692</td>\n",
       "      <td>0.000000</td>\n",
       "      <td>0.631510</td>\n",
       "      <td>0.000000</td>\n",
       "      <td>0.265382</td>\n",
       "      <td>...</td>\n",
       "      <td>-0.624571</td>\n",
       "      <td>0.681159</td>\n",
       "      <td>-0.819132</td>\n",
       "      <td>0.000000</td>\n",
       "      <td>1.240601</td>\n",
       "      <td>-0.124567</td>\n",
       "      <td>-0.197595</td>\n",
       "      <td>0.990234</td>\n",
       "      <td>737269.0</td>\n",
       "      <td>0</td>\n",
       "    </tr>\n",
       "    <tr>\n",
       "      <th>013f2bd269f5</th>\n",
       "      <td>0.375000</td>\n",
       "      <td>-0.224190</td>\n",
       "      <td>0.000000</td>\n",
       "      <td>0.440180</td>\n",
       "      <td>0.000000</td>\n",
       "      <td>0.738462</td>\n",
       "      <td>0.000000</td>\n",
       "      <td>0.488281</td>\n",
       "      <td>0.000000</td>\n",
       "      <td>0.073301</td>\n",
       "      <td>...</td>\n",
       "      <td>-0.153143</td>\n",
       "      <td>2.028986</td>\n",
       "      <td>1.581994</td>\n",
       "      <td>0.290982</td>\n",
       "      <td>0.359598</td>\n",
       "      <td>-0.218622</td>\n",
       "      <td>-0.129459</td>\n",
       "      <td>-0.006447</td>\n",
       "      <td>737269.0</td>\n",
       "      <td>0</td>\n",
       "    </tr>\n",
       "    <tr>\n",
       "      <th>043ac50845d5</th>\n",
       "      <td>-0.333333</td>\n",
       "      <td>0.323123</td>\n",
       "      <td>1.226427</td>\n",
       "      <td>2.105694</td>\n",
       "      <td>0.000000</td>\n",
       "      <td>-0.584615</td>\n",
       "      <td>0.000000</td>\n",
       "      <td>0.122396</td>\n",
       "      <td>0.000000</td>\n",
       "      <td>-0.440533</td>\n",
       "      <td>...</td>\n",
       "      <td>-0.624571</td>\n",
       "      <td>0.072464</td>\n",
       "      <td>-0.020900</td>\n",
       "      <td>0.178349</td>\n",
       "      <td>-0.353767</td>\n",
       "      <td>0.789556</td>\n",
       "      <td>1.101632</td>\n",
       "      <td>-0.008328</td>\n",
       "      <td>737269.0</td>\n",
       "      <td>0</td>\n",
       "    </tr>\n",
       "    <tr>\n",
       "      <th>044fb8a146ec</th>\n",
       "      <td>0.083333</td>\n",
       "      <td>0.283109</td>\n",
       "      <td>0.000000</td>\n",
       "      <td>-0.239281</td>\n",
       "      <td>0.000000</td>\n",
       "      <td>-0.473077</td>\n",
       "      <td>2.594595</td>\n",
       "      <td>-1.459635</td>\n",
       "      <td>26.204380</td>\n",
       "      <td>0.388671</td>\n",
       "      <td>...</td>\n",
       "      <td>46.670286</td>\n",
       "      <td>-0.275362</td>\n",
       "      <td>-0.204180</td>\n",
       "      <td>1.336815</td>\n",
       "      <td>0.042256</td>\n",
       "      <td>1.248820</td>\n",
       "      <td>-0.105640</td>\n",
       "      <td>-0.011038</td>\n",
       "      <td>737509.0</td>\n",
       "      <td>1</td>\n",
       "    </tr>\n",
       "    <tr>\n",
       "      <th>...</th>\n",
       "      <td>...</td>\n",
       "      <td>...</td>\n",
       "      <td>...</td>\n",
       "      <td>...</td>\n",
       "      <td>...</td>\n",
       "      <td>...</td>\n",
       "      <td>...</td>\n",
       "      <td>...</td>\n",
       "      <td>...</td>\n",
       "      <td>...</td>\n",
       "      <td>...</td>\n",
       "      <td>...</td>\n",
       "      <td>...</td>\n",
       "      <td>...</td>\n",
       "      <td>...</td>\n",
       "      <td>...</td>\n",
       "      <td>...</td>\n",
       "      <td>...</td>\n",
       "      <td>...</td>\n",
       "      <td>...</td>\n",
       "      <td>...</td>\n",
       "    </tr>\n",
       "    <tr>\n",
       "      <th>fd3dafe738fd</th>\n",
       "      <td>-0.666667</td>\n",
       "      <td>0.004501</td>\n",
       "      <td>1.351236</td>\n",
       "      <td>-0.410097</td>\n",
       "      <td>4.882164</td>\n",
       "      <td>-0.665385</td>\n",
       "      <td>4.594595</td>\n",
       "      <td>-0.395833</td>\n",
       "      <td>0.408759</td>\n",
       "      <td>-0.446912</td>\n",
       "      <td>...</td>\n",
       "      <td>0.128000</td>\n",
       "      <td>-0.391304</td>\n",
       "      <td>-0.847267</td>\n",
       "      <td>2.628881</td>\n",
       "      <td>0.015869</td>\n",
       "      <td>-0.504561</td>\n",
       "      <td>0.627426</td>\n",
       "      <td>0.990234</td>\n",
       "      <td>737681.0</td>\n",
       "      <td>0</td>\n",
       "    </tr>\n",
       "    <tr>\n",
       "      <th>fd895603f071</th>\n",
       "      <td>0.263889</td>\n",
       "      <td>1.081978</td>\n",
       "      <td>0.000000</td>\n",
       "      <td>0.968303</td>\n",
       "      <td>7.834536</td>\n",
       "      <td>0.411538</td>\n",
       "      <td>0.027027</td>\n",
       "      <td>0.446615</td>\n",
       "      <td>0.661496</td>\n",
       "      <td>0.348963</td>\n",
       "      <td>...</td>\n",
       "      <td>0.109714</td>\n",
       "      <td>0.376812</td>\n",
       "      <td>1.479904</td>\n",
       "      <td>7.718779</td>\n",
       "      <td>-0.292729</td>\n",
       "      <td>-0.081158</td>\n",
       "      <td>1.865560</td>\n",
       "      <td>-0.008808</td>\n",
       "      <td>737676.0</td>\n",
       "      <td>0</td>\n",
       "    </tr>\n",
       "    <tr>\n",
       "      <th>fd8ef6377f76</th>\n",
       "      <td>0.236111</td>\n",
       "      <td>-0.305510</td>\n",
       "      <td>1.574611</td>\n",
       "      <td>1.295989</td>\n",
       "      <td>1.866864</td>\n",
       "      <td>1.319231</td>\n",
       "      <td>0.000000</td>\n",
       "      <td>1.022135</td>\n",
       "      <td>0.000000</td>\n",
       "      <td>0.473846</td>\n",
       "      <td>...</td>\n",
       "      <td>-0.624571</td>\n",
       "      <td>-0.391304</td>\n",
       "      <td>0.102894</td>\n",
       "      <td>1.023740</td>\n",
       "      <td>-0.083984</td>\n",
       "      <td>-0.375590</td>\n",
       "      <td>1.748697</td>\n",
       "      <td>0.990234</td>\n",
       "      <td>737264.0</td>\n",
       "      <td>0</td>\n",
       "    </tr>\n",
       "    <tr>\n",
       "      <th>fe1942975e40</th>\n",
       "      <td>0.027778</td>\n",
       "      <td>-0.857917</td>\n",
       "      <td>0.000000</td>\n",
       "      <td>0.117335</td>\n",
       "      <td>0.000000</td>\n",
       "      <td>1.280769</td>\n",
       "      <td>0.000000</td>\n",
       "      <td>-0.606771</td>\n",
       "      <td>0.000000</td>\n",
       "      <td>-0.255345</td>\n",
       "      <td>...</td>\n",
       "      <td>-0.338286</td>\n",
       "      <td>0.898551</td>\n",
       "      <td>0.503215</td>\n",
       "      <td>0.000000</td>\n",
       "      <td>-0.361707</td>\n",
       "      <td>-0.464297</td>\n",
       "      <td>-0.085772</td>\n",
       "      <td>-0.007011</td>\n",
       "      <td>737090.0</td>\n",
       "      <td>0</td>\n",
       "    </tr>\n",
       "    <tr>\n",
       "      <th>ffcca4ded3bb</th>\n",
       "      <td>0.416667</td>\n",
       "      <td>-0.206897</td>\n",
       "      <td>16.169362</td>\n",
       "      <td>3.404334</td>\n",
       "      <td>0.000000</td>\n",
       "      <td>-0.796154</td>\n",
       "      <td>8.108108</td>\n",
       "      <td>-1.459635</td>\n",
       "      <td>1.744526</td>\n",
       "      <td>-1.159432</td>\n",
       "      <td>...</td>\n",
       "      <td>0.013714</td>\n",
       "      <td>-0.217391</td>\n",
       "      <td>-0.440514</td>\n",
       "      <td>0.000000</td>\n",
       "      <td>-0.060837</td>\n",
       "      <td>1.279648</td>\n",
       "      <td>1.643687</td>\n",
       "      <td>0.990234</td>\n",
       "      <td>737269.0</td>\n",
       "      <td>0</td>\n",
       "    </tr>\n",
       "  </tbody>\n",
       "</table>\n",
       "<p>617 rows × 58 columns</p>\n",
       "</div>"
      ],
      "text/plain": [
       "                    AB        AF         AH        AM        AR        AX  \\\n",
       "Id                                                                          \n",
       "000ff2bfdfe9 -0.472222 -0.005214   0.000000  0.069272  0.000000 -1.880769   \n",
       "007255e47698 -0.680556 -0.989494   0.000000  0.611687  0.000000 -0.607692   \n",
       "013f2bd269f5  0.375000 -0.224190   0.000000  0.440180  0.000000  0.738462   \n",
       "043ac50845d5 -0.333333  0.323123   1.226427  2.105694  0.000000 -0.584615   \n",
       "044fb8a146ec  0.083333  0.283109   0.000000 -0.239281  0.000000 -0.473077   \n",
       "...                ...       ...        ...       ...       ...       ...   \n",
       "fd3dafe738fd -0.666667  0.004501   1.351236 -0.410097  4.882164 -0.665385   \n",
       "fd895603f071  0.263889  1.081978   0.000000  0.968303  7.834536  0.411538   \n",
       "fd8ef6377f76  0.236111 -0.305510   1.574611  1.295989  1.866864  1.319231   \n",
       "fe1942975e40  0.027778 -0.857917   0.000000  0.117335  0.000000  1.280769   \n",
       "ffcca4ded3bb  0.416667 -0.206897  16.169362  3.404334  0.000000 -0.796154   \n",
       "\n",
       "                    AY        AZ         BC       BD   ...         FR  \\\n",
       "Id                                                     ...              \n",
       "000ff2bfdfe9  0.000000 -0.134115   1.123175 -0.463451  ...   0.598571   \n",
       "007255e47698  0.000000  0.631510   0.000000  0.265382  ...  -0.624571   \n",
       "013f2bd269f5  0.000000  0.488281   0.000000  0.073301  ...  -0.153143   \n",
       "043ac50845d5  0.000000  0.122396   0.000000 -0.440533  ...  -0.624571   \n",
       "044fb8a146ec  2.594595 -1.459635  26.204380  0.388671  ...  46.670286   \n",
       "...                ...       ...        ...       ...  ...        ...   \n",
       "fd3dafe738fd  4.594595 -0.395833   0.408759 -0.446912  ...   0.128000   \n",
       "fd895603f071  0.027027  0.446615   0.661496  0.348963  ...   0.109714   \n",
       "fd8ef6377f76  0.000000  1.022135   0.000000  0.473846  ...  -0.624571   \n",
       "fe1942975e40  0.000000 -0.606771   0.000000 -0.255345  ...  -0.338286   \n",
       "ffcca4ded3bb  8.108108 -1.459635   1.744526 -1.159432  ...   0.013714   \n",
       "\n",
       "                    FS        GB        GE        GF        GH        GI  \\\n",
       "Id                                                                         \n",
       "000ff2bfdfe9 -0.333333 -0.642283  0.000000 -0.359338 -0.716263  0.641741   \n",
       "007255e47698  0.681159 -0.819132  0.000000  1.240601 -0.124567 -0.197595   \n",
       "013f2bd269f5  2.028986  1.581994  0.290982  0.359598 -0.218622 -0.129459   \n",
       "043ac50845d5  0.072464 -0.020900  0.178349 -0.353767  0.789556  1.101632   \n",
       "044fb8a146ec -0.275362 -0.204180  1.336815  0.042256  1.248820 -0.105640   \n",
       "...                ...       ...       ...       ...       ...       ...   \n",
       "fd3dafe738fd -0.391304 -0.847267  2.628881  0.015869 -0.504561  0.627426   \n",
       "fd895603f071  0.376812  1.479904  7.718779 -0.292729 -0.081158  1.865560   \n",
       "fd8ef6377f76 -0.391304  0.102894  1.023740 -0.083984 -0.375590  1.748697   \n",
       "fe1942975e40  0.898551  0.503215  0.000000 -0.361707 -0.464297 -0.085772   \n",
       "ffcca4ded3bb -0.217391 -0.440514  0.000000 -0.060837  1.279648  1.643687   \n",
       "\n",
       "                    GL     times  Class  \n",
       "Id                                       \n",
       "000ff2bfdfe9 -0.009952  737137.0      1  \n",
       "007255e47698  0.990234  737269.0      0  \n",
       "013f2bd269f5 -0.006447  737269.0      0  \n",
       "043ac50845d5 -0.008328  737269.0      0  \n",
       "044fb8a146ec -0.011038  737509.0      1  \n",
       "...                ...       ...    ...  \n",
       "fd3dafe738fd  0.990234  737681.0      0  \n",
       "fd895603f071 -0.008808  737676.0      0  \n",
       "fd8ef6377f76  0.990234  737264.0      0  \n",
       "fe1942975e40 -0.007011  737090.0      0  \n",
       "ffcca4ded3bb  0.990234  737269.0      0  \n",
       "\n",
       "[617 rows x 58 columns]"
      ]
     },
     "execution_count": 90,
     "metadata": {},
     "output_type": "execute_result"
    }
   ],
   "source": [
    "df_train_noscale = df_train.copy()\n",
    "\n",
    "scaler = RobustScaler().set_output(transform=\"pandas\")\n",
    "df_train.loc[:, df_train.columns[:-2]] = scaler.fit_transform(df_train[df_train.columns[:-2]])\n",
    "df_train"
   ]
  },
  {
   "cell_type": "code",
   "execution_count": 91,
   "id": "5c5e84d8",
   "metadata": {
    "execution": {
     "iopub.execute_input": "2023-07-17T00:40:50.070869Z",
     "iopub.status.busy": "2023-07-17T00:40:50.068846Z",
     "iopub.status.idle": "2023-07-17T00:40:50.219023Z",
     "shell.execute_reply": "2023-07-17T00:40:50.218003Z"
    },
    "papermill": {
     "duration": 0.197442,
     "end_time": "2023-07-17T00:40:50.221337",
     "exception": false,
     "start_time": "2023-07-17T00:40:50.023895",
     "status": "completed"
    },
    "tags": []
   },
   "outputs": [
    {
     "data": {
      "text/html": [
       "<div>\n",
       "<style scoped>\n",
       "    .dataframe tbody tr th:only-of-type {\n",
       "        vertical-align: middle;\n",
       "    }\n",
       "\n",
       "    .dataframe tbody tr th {\n",
       "        vertical-align: top;\n",
       "    }\n",
       "\n",
       "    .dataframe thead th {\n",
       "        text-align: right;\n",
       "    }\n",
       "</style>\n",
       "<table border=\"1\" class=\"dataframe\">\n",
       "  <thead>\n",
       "    <tr style=\"text-align: right;\">\n",
       "      <th></th>\n",
       "      <th>AB</th>\n",
       "      <th>AF</th>\n",
       "      <th>AH</th>\n",
       "      <th>AM</th>\n",
       "      <th>AR</th>\n",
       "      <th>AX</th>\n",
       "      <th>AY</th>\n",
       "      <th>AZ</th>\n",
       "      <th>BC</th>\n",
       "      <th>BD</th>\n",
       "      <th>...</th>\n",
       "      <th>FL</th>\n",
       "      <th>FR</th>\n",
       "      <th>FS</th>\n",
       "      <th>GB</th>\n",
       "      <th>GE</th>\n",
       "      <th>GF</th>\n",
       "      <th>GH</th>\n",
       "      <th>GI</th>\n",
       "      <th>GL</th>\n",
       "      <th>Class</th>\n",
       "    </tr>\n",
       "  </thead>\n",
       "  <tbody>\n",
       "    <tr>\n",
       "      <th>count</th>\n",
       "      <td>617.000000</td>\n",
       "      <td>617.000000</td>\n",
       "      <td>617.000000</td>\n",
       "      <td>617.000000</td>\n",
       "      <td>617.000000</td>\n",
       "      <td>617.000000</td>\n",
       "      <td>617.000000</td>\n",
       "      <td>617.000000</td>\n",
       "      <td>617.000000</td>\n",
       "      <td>617.000000</td>\n",
       "      <td>...</td>\n",
       "      <td>617.000000</td>\n",
       "      <td>617.000000</td>\n",
       "      <td>617.000000</td>\n",
       "      <td>617.000000</td>\n",
       "      <td>617.000000</td>\n",
       "      <td>617.000000</td>\n",
       "      <td>617.000000</td>\n",
       "      <td>617.000000</td>\n",
       "      <td>617.000000</td>\n",
       "      <td>617.000000</td>\n",
       "    </tr>\n",
       "    <tr>\n",
       "      <th>mean</th>\n",
       "      <td>0.398141</td>\n",
       "      <td>0.176360</td>\n",
       "      <td>1.171166</td>\n",
       "      <td>0.686109</td>\n",
       "      <td>1.989554</td>\n",
       "      <td>0.223008</td>\n",
       "      <td>3.083622</td>\n",
       "      <td>0.021721</td>\n",
       "      <td>1.771618</td>\n",
       "      <td>0.187443</td>\n",
       "      <td>...</td>\n",
       "      <td>0.395963</td>\n",
       "      <td>2.367394</td>\n",
       "      <td>0.364503</td>\n",
       "      <td>0.168810</td>\n",
       "      <td>1.074996</td>\n",
       "      <td>0.421349</td>\n",
       "      <td>0.074458</td>\n",
       "      <td>0.213190</td>\n",
       "      <td>0.374303</td>\n",
       "      <td>0.175041</td>\n",
       "    </tr>\n",
       "    <tr>\n",
       "      <th>std</th>\n",
       "      <td>1.522442</td>\n",
       "      <td>1.062852</td>\n",
       "      <td>4.479386</td>\n",
       "      <td>2.595063</td>\n",
       "      <td>10.518877</td>\n",
       "      <td>1.107824</td>\n",
       "      <td>36.996129</td>\n",
       "      <td>0.898906</td>\n",
       "      <td>16.920572</td>\n",
       "      <td>1.606932</td>\n",
       "      <td>...</td>\n",
       "      <td>1.894317</td>\n",
       "      <td>49.440342</td>\n",
       "      <td>2.788738</td>\n",
       "      <td>0.863479</td>\n",
       "      <td>2.622407</td>\n",
       "      <td>1.191926</td>\n",
       "      <td>0.833899</td>\n",
       "      <td>0.807352</td>\n",
       "      <td>0.472412</td>\n",
       "      <td>0.380310</td>\n",
       "    </tr>\n",
       "    <tr>\n",
       "      <th>min</th>\n",
       "      <td>-0.888889</td>\n",
       "      <td>-1.352741</td>\n",
       "      <td>0.000000</td>\n",
       "      <td>-0.645920</td>\n",
       "      <td>0.000000</td>\n",
       "      <td>-1.880769</td>\n",
       "      <td>0.000000</td>\n",
       "      <td>-1.459635</td>\n",
       "      <td>0.000000</td>\n",
       "      <td>-1.757455</td>\n",
       "      <td>...</td>\n",
       "      <td>-0.470789</td>\n",
       "      <td>-0.624571</td>\n",
       "      <td>-0.391304</td>\n",
       "      <td>-1.267685</td>\n",
       "      <td>0.000000</td>\n",
       "      <td>-0.481947</td>\n",
       "      <td>-1.790186</td>\n",
       "      <td>-0.892929</td>\n",
       "      <td>-0.015407</td>\n",
       "      <td>0.000000</td>\n",
       "    </tr>\n",
       "    <tr>\n",
       "      <th>25%</th>\n",
       "      <td>-0.333333</td>\n",
       "      <td>-0.426455</td>\n",
       "      <td>0.000000</td>\n",
       "      <td>-0.307515</td>\n",
       "      <td>0.000000</td>\n",
       "      <td>-0.392308</td>\n",
       "      <td>0.000000</td>\n",
       "      <td>-0.481771</td>\n",
       "      <td>0.000000</td>\n",
       "      <td>-0.447966</td>\n",
       "      <td>...</td>\n",
       "      <td>-0.470789</td>\n",
       "      <td>-0.624571</td>\n",
       "      <td>-0.391304</td>\n",
       "      <td>-0.409164</td>\n",
       "      <td>0.000000</td>\n",
       "      <td>-0.310363</td>\n",
       "      <td>-0.471217</td>\n",
       "      <td>-0.400630</td>\n",
       "      <td>-0.009766</td>\n",
       "      <td>0.000000</td>\n",
       "    </tr>\n",
       "    <tr>\n",
       "      <th>50%</th>\n",
       "      <td>0.000000</td>\n",
       "      <td>0.000000</td>\n",
       "      <td>0.000000</td>\n",
       "      <td>0.000000</td>\n",
       "      <td>0.000000</td>\n",
       "      <td>0.000000</td>\n",
       "      <td>0.000000</td>\n",
       "      <td>0.000000</td>\n",
       "      <td>0.000000</td>\n",
       "      <td>0.000000</td>\n",
       "      <td>...</td>\n",
       "      <td>0.000000</td>\n",
       "      <td>0.000000</td>\n",
       "      <td>0.000000</td>\n",
       "      <td>0.000000</td>\n",
       "      <td>0.000000</td>\n",
       "      <td>0.000000</td>\n",
       "      <td>0.000000</td>\n",
       "      <td>0.000000</td>\n",
       "      <td>0.000000</td>\n",
       "      <td>0.000000</td>\n",
       "    </tr>\n",
       "    <tr>\n",
       "      <th>75%</th>\n",
       "      <td>0.666667</td>\n",
       "      <td>0.573545</td>\n",
       "      <td>1.000000</td>\n",
       "      <td>0.692485</td>\n",
       "      <td>0.000000</td>\n",
       "      <td>0.607692</td>\n",
       "      <td>1.000000</td>\n",
       "      <td>0.518229</td>\n",
       "      <td>1.000000</td>\n",
       "      <td>0.552034</td>\n",
       "      <td>...</td>\n",
       "      <td>0.529211</td>\n",
       "      <td>0.375429</td>\n",
       "      <td>0.608696</td>\n",
       "      <td>0.590836</td>\n",
       "      <td>1.000000</td>\n",
       "      <td>0.689637</td>\n",
       "      <td>0.528783</td>\n",
       "      <td>0.599370</td>\n",
       "      <td>0.990234</td>\n",
       "      <td>0.000000</td>\n",
       "    </tr>\n",
       "    <tr>\n",
       "      <th>max</th>\n",
       "      <td>18.875000</td>\n",
       "      <td>11.813503</td>\n",
       "      <td>63.944004</td>\n",
       "      <td>22.701706</td>\n",
       "      <td>170.804946</td>\n",
       "      <td>14.430769</td>\n",
       "      <td>913.351351</td>\n",
       "      <td>5.890625</td>\n",
       "      <td>379.728102</td>\n",
       "      <td>25.562747</td>\n",
       "      <td>...</td>\n",
       "      <td>22.246434</td>\n",
       "      <td>1224.725143</td>\n",
       "      <td>66.579710</td>\n",
       "      <td>10.111736</td>\n",
       "      <td>25.913517</td>\n",
       "      <td>8.373109</td>\n",
       "      <td>4.277760</td>\n",
       "      <td>3.343430</td>\n",
       "      <td>0.990234</td>\n",
       "      <td>1.000000</td>\n",
       "    </tr>\n",
       "  </tbody>\n",
       "</table>\n",
       "<p>8 rows × 57 columns</p>\n",
       "</div>"
      ],
      "text/plain": [
       "               AB          AF          AH          AM          AR          AX  \\\n",
       "count  617.000000  617.000000  617.000000  617.000000  617.000000  617.000000   \n",
       "mean     0.398141    0.176360    1.171166    0.686109    1.989554    0.223008   \n",
       "std      1.522442    1.062852    4.479386    2.595063   10.518877    1.107824   \n",
       "min     -0.888889   -1.352741    0.000000   -0.645920    0.000000   -1.880769   \n",
       "25%     -0.333333   -0.426455    0.000000   -0.307515    0.000000   -0.392308   \n",
       "50%      0.000000    0.000000    0.000000    0.000000    0.000000    0.000000   \n",
       "75%      0.666667    0.573545    1.000000    0.692485    0.000000    0.607692   \n",
       "max     18.875000   11.813503   63.944004   22.701706  170.804946   14.430769   \n",
       "\n",
       "               AY          AZ          BC         BD   ...          FL  \\\n",
       "count  617.000000  617.000000  617.000000  617.000000  ...  617.000000   \n",
       "mean     3.083622    0.021721    1.771618    0.187443  ...    0.395963   \n",
       "std     36.996129    0.898906   16.920572    1.606932  ...    1.894317   \n",
       "min      0.000000   -1.459635    0.000000   -1.757455  ...   -0.470789   \n",
       "25%      0.000000   -0.481771    0.000000   -0.447966  ...   -0.470789   \n",
       "50%      0.000000    0.000000    0.000000    0.000000  ...    0.000000   \n",
       "75%      1.000000    0.518229    1.000000    0.552034  ...    0.529211   \n",
       "max    913.351351    5.890625  379.728102   25.562747  ...   22.246434   \n",
       "\n",
       "                FR          FS          GB          GE          GF  \\\n",
       "count   617.000000  617.000000  617.000000  617.000000  617.000000   \n",
       "mean      2.367394    0.364503    0.168810    1.074996    0.421349   \n",
       "std      49.440342    2.788738    0.863479    2.622407    1.191926   \n",
       "min      -0.624571   -0.391304   -1.267685    0.000000   -0.481947   \n",
       "25%      -0.624571   -0.391304   -0.409164    0.000000   -0.310363   \n",
       "50%       0.000000    0.000000    0.000000    0.000000    0.000000   \n",
       "75%       0.375429    0.608696    0.590836    1.000000    0.689637   \n",
       "max    1224.725143   66.579710   10.111736   25.913517    8.373109   \n",
       "\n",
       "               GH          GI          GL       Class  \n",
       "count  617.000000  617.000000  617.000000  617.000000  \n",
       "mean     0.074458    0.213190    0.374303    0.175041  \n",
       "std      0.833899    0.807352    0.472412    0.380310  \n",
       "min     -1.790186   -0.892929   -0.015407    0.000000  \n",
       "25%     -0.471217   -0.400630   -0.009766    0.000000  \n",
       "50%      0.000000    0.000000    0.000000    0.000000  \n",
       "75%      0.528783    0.599370    0.990234    0.000000  \n",
       "max      4.277760    3.343430    0.990234    1.000000  \n",
       "\n",
       "[8 rows x 57 columns]"
      ]
     },
     "execution_count": 91,
     "metadata": {},
     "output_type": "execute_result"
    }
   ],
   "source": [
    "df_train.describe()"
   ]
  },
  {
   "cell_type": "code",
   "execution_count": 92,
   "id": "4f6565ba",
   "metadata": {
    "execution": {
     "iopub.execute_input": "2023-07-17T00:40:50.310039Z",
     "iopub.status.busy": "2023-07-17T00:40:50.309371Z",
     "iopub.status.idle": "2023-07-17T00:40:50.340011Z",
     "shell.execute_reply": "2023-07-17T00:40:50.338837Z"
    },
    "papermill": {
     "duration": 0.075775,
     "end_time": "2023-07-17T00:40:50.342730",
     "exception": false,
     "start_time": "2023-07-17T00:40:50.266955",
     "status": "completed"
    },
    "tags": []
   },
   "outputs": [
    {
     "data": {
      "text/html": [
       "<div>\n",
       "<style scoped>\n",
       "    .dataframe tbody tr th:only-of-type {\n",
       "        vertical-align: middle;\n",
       "    }\n",
       "\n",
       "    .dataframe tbody tr th {\n",
       "        vertical-align: top;\n",
       "    }\n",
       "\n",
       "    .dataframe thead th {\n",
       "        text-align: right;\n",
       "    }\n",
       "</style>\n",
       "<table border=\"1\" class=\"dataframe\">\n",
       "  <thead>\n",
       "    <tr style=\"text-align: right;\">\n",
       "      <th></th>\n",
       "      <th>AB</th>\n",
       "      <th>AF</th>\n",
       "      <th>AH</th>\n",
       "      <th>AM</th>\n",
       "      <th>AR</th>\n",
       "      <th>AX</th>\n",
       "      <th>AY</th>\n",
       "      <th>AZ</th>\n",
       "      <th>BC</th>\n",
       "      <th>BD</th>\n",
       "      <th>...</th>\n",
       "      <th>FL</th>\n",
       "      <th>FR</th>\n",
       "      <th>FS</th>\n",
       "      <th>GB</th>\n",
       "      <th>GE</th>\n",
       "      <th>GF</th>\n",
       "      <th>GH</th>\n",
       "      <th>GI</th>\n",
       "      <th>GL</th>\n",
       "      <th>times</th>\n",
       "    </tr>\n",
       "    <tr>\n",
       "      <th>Id</th>\n",
       "      <th></th>\n",
       "      <th></th>\n",
       "      <th></th>\n",
       "      <th></th>\n",
       "      <th></th>\n",
       "      <th></th>\n",
       "      <th></th>\n",
       "      <th></th>\n",
       "      <th></th>\n",
       "      <th></th>\n",
       "      <th></th>\n",
       "      <th></th>\n",
       "      <th></th>\n",
       "      <th></th>\n",
       "      <th></th>\n",
       "      <th></th>\n",
       "      <th></th>\n",
       "      <th></th>\n",
       "      <th></th>\n",
       "      <th></th>\n",
       "      <th></th>\n",
       "    </tr>\n",
       "  </thead>\n",
       "  <tbody>\n",
       "    <tr>\n",
       "      <th>00eed32682bb</th>\n",
       "      <td>-1.152778</td>\n",
       "      <td>-1.441727</td>\n",
       "      <td>-2.985352</td>\n",
       "      <td>-0.764177</td>\n",
       "      <td>-8.138688</td>\n",
       "      <td>-2.184615</td>\n",
       "      <td>-2.27027</td>\n",
       "      <td>-2.161458</td>\n",
       "      <td>-0.319343</td>\n",
       "      <td>-2.658231</td>\n",
       "      <td>...</td>\n",
       "      <td>-0.499355</td>\n",
       "      <td>-1.114286</td>\n",
       "      <td>-0.536232</td>\n",
       "      <td>-1.622186</td>\n",
       "      <td>-1.320667</td>\n",
       "      <td>-0.48275</td>\n",
       "      <td>-2.587606</td>\n",
       "      <td>-0.912912</td>\n",
       "      <td>-0.015459</td>\n",
       "      <td>737698.0</td>\n",
       "    </tr>\n",
       "    <tr>\n",
       "      <th>010ebe33f668</th>\n",
       "      <td>-1.152778</td>\n",
       "      <td>-1.441727</td>\n",
       "      <td>-2.985352</td>\n",
       "      <td>-0.764177</td>\n",
       "      <td>-8.138688</td>\n",
       "      <td>-2.184615</td>\n",
       "      <td>-2.27027</td>\n",
       "      <td>-2.161458</td>\n",
       "      <td>-0.319343</td>\n",
       "      <td>-2.658231</td>\n",
       "      <td>...</td>\n",
       "      <td>-0.499355</td>\n",
       "      <td>-1.114286</td>\n",
       "      <td>-0.536232</td>\n",
       "      <td>-1.622186</td>\n",
       "      <td>-1.320667</td>\n",
       "      <td>-0.48275</td>\n",
       "      <td>-2.587606</td>\n",
       "      <td>-0.912912</td>\n",
       "      <td>-0.015459</td>\n",
       "      <td>737698.0</td>\n",
       "    </tr>\n",
       "    <tr>\n",
       "      <th>02fa521e1838</th>\n",
       "      <td>-1.152778</td>\n",
       "      <td>-1.441727</td>\n",
       "      <td>-2.985352</td>\n",
       "      <td>-0.764177</td>\n",
       "      <td>-8.138688</td>\n",
       "      <td>-2.184615</td>\n",
       "      <td>-2.27027</td>\n",
       "      <td>-2.161458</td>\n",
       "      <td>-0.319343</td>\n",
       "      <td>-2.658231</td>\n",
       "      <td>...</td>\n",
       "      <td>-0.499355</td>\n",
       "      <td>-1.114286</td>\n",
       "      <td>-0.536232</td>\n",
       "      <td>-1.622186</td>\n",
       "      <td>-1.320667</td>\n",
       "      <td>-0.48275</td>\n",
       "      <td>-2.587606</td>\n",
       "      <td>-0.912912</td>\n",
       "      <td>-0.015459</td>\n",
       "      <td>737698.0</td>\n",
       "    </tr>\n",
       "    <tr>\n",
       "      <th>040e15f562a2</th>\n",
       "      <td>-1.152778</td>\n",
       "      <td>-1.441727</td>\n",
       "      <td>-2.985352</td>\n",
       "      <td>-0.764177</td>\n",
       "      <td>-8.138688</td>\n",
       "      <td>-2.184615</td>\n",
       "      <td>-2.27027</td>\n",
       "      <td>-2.161458</td>\n",
       "      <td>-0.319343</td>\n",
       "      <td>-2.658231</td>\n",
       "      <td>...</td>\n",
       "      <td>-0.499355</td>\n",
       "      <td>-1.114286</td>\n",
       "      <td>-0.536232</td>\n",
       "      <td>-1.622186</td>\n",
       "      <td>-1.320667</td>\n",
       "      <td>-0.48275</td>\n",
       "      <td>-2.587606</td>\n",
       "      <td>-0.912912</td>\n",
       "      <td>-0.015459</td>\n",
       "      <td>737698.0</td>\n",
       "    </tr>\n",
       "    <tr>\n",
       "      <th>046e85c7cc7f</th>\n",
       "      <td>-1.152778</td>\n",
       "      <td>-1.441727</td>\n",
       "      <td>-2.985352</td>\n",
       "      <td>-0.764177</td>\n",
       "      <td>-8.138688</td>\n",
       "      <td>-2.184615</td>\n",
       "      <td>-2.27027</td>\n",
       "      <td>-2.161458</td>\n",
       "      <td>-0.319343</td>\n",
       "      <td>-2.658231</td>\n",
       "      <td>...</td>\n",
       "      <td>-0.499355</td>\n",
       "      <td>-1.114286</td>\n",
       "      <td>-0.536232</td>\n",
       "      <td>-1.622186</td>\n",
       "      <td>-1.320667</td>\n",
       "      <td>-0.48275</td>\n",
       "      <td>-2.587606</td>\n",
       "      <td>-0.912912</td>\n",
       "      <td>-0.015459</td>\n",
       "      <td>737698.0</td>\n",
       "    </tr>\n",
       "  </tbody>\n",
       "</table>\n",
       "<p>5 rows × 57 columns</p>\n",
       "</div>"
      ],
      "text/plain": [
       "                    AB        AF        AH        AM        AR        AX  \\\n",
       "Id                                                                         \n",
       "00eed32682bb -1.152778 -1.441727 -2.985352 -0.764177 -8.138688 -2.184615   \n",
       "010ebe33f668 -1.152778 -1.441727 -2.985352 -0.764177 -8.138688 -2.184615   \n",
       "02fa521e1838 -1.152778 -1.441727 -2.985352 -0.764177 -8.138688 -2.184615   \n",
       "040e15f562a2 -1.152778 -1.441727 -2.985352 -0.764177 -8.138688 -2.184615   \n",
       "046e85c7cc7f -1.152778 -1.441727 -2.985352 -0.764177 -8.138688 -2.184615   \n",
       "\n",
       "                   AY        AZ        BC       BD   ...        FL        FR  \\\n",
       "Id                                                   ...                       \n",
       "00eed32682bb -2.27027 -2.161458 -0.319343 -2.658231  ... -0.499355 -1.114286   \n",
       "010ebe33f668 -2.27027 -2.161458 -0.319343 -2.658231  ... -0.499355 -1.114286   \n",
       "02fa521e1838 -2.27027 -2.161458 -0.319343 -2.658231  ... -0.499355 -1.114286   \n",
       "040e15f562a2 -2.27027 -2.161458 -0.319343 -2.658231  ... -0.499355 -1.114286   \n",
       "046e85c7cc7f -2.27027 -2.161458 -0.319343 -2.658231  ... -0.499355 -1.114286   \n",
       "\n",
       "                    FS        GB        GE       GF        GH        GI  \\\n",
       "Id                                                                        \n",
       "00eed32682bb -0.536232 -1.622186 -1.320667 -0.48275 -2.587606 -0.912912   \n",
       "010ebe33f668 -0.536232 -1.622186 -1.320667 -0.48275 -2.587606 -0.912912   \n",
       "02fa521e1838 -0.536232 -1.622186 -1.320667 -0.48275 -2.587606 -0.912912   \n",
       "040e15f562a2 -0.536232 -1.622186 -1.320667 -0.48275 -2.587606 -0.912912   \n",
       "046e85c7cc7f -0.536232 -1.622186 -1.320667 -0.48275 -2.587606 -0.912912   \n",
       "\n",
       "                    GL     times  \n",
       "Id                                \n",
       "00eed32682bb -0.015459  737698.0  \n",
       "010ebe33f668 -0.015459  737698.0  \n",
       "02fa521e1838 -0.015459  737698.0  \n",
       "040e15f562a2 -0.015459  737698.0  \n",
       "046e85c7cc7f -0.015459  737698.0  \n",
       "\n",
       "[5 rows x 57 columns]"
      ]
     },
     "execution_count": 92,
     "metadata": {},
     "output_type": "execute_result"
    }
   ],
   "source": [
    "df_test_noscale = df_test.copy()\n",
    "\n",
    "df_test.loc[:,df_test.columns[:-1]] = scaler.transform(df_test[df_test.columns[:-1]])\n",
    "df_test"
   ]
  },
  {
   "cell_type": "code",
   "execution_count": 93,
   "id": "f1e5b040",
   "metadata": {
    "execution": {
     "iopub.execute_input": "2023-07-17T00:40:50.430965Z",
     "iopub.status.busy": "2023-07-17T00:40:50.430618Z",
     "iopub.status.idle": "2023-07-17T00:40:50.436448Z",
     "shell.execute_reply": "2023-07-17T00:40:50.435482Z"
    },
    "papermill": {
     "duration": 0.051046,
     "end_time": "2023-07-17T00:40:50.438600",
     "exception": false,
     "start_time": "2023-07-17T00:40:50.387554",
     "status": "completed"
    },
    "tags": []
   },
   "outputs": [],
   "source": [
    "df_train['times'] = df_train.times.astype(int)\n",
    "df_test['times'] = df_test.times.astype(int)"
   ]
  },
  {
   "cell_type": "markdown",
   "id": "ad3b6b3e",
   "metadata": {
    "papermill": {
     "duration": 0.042781,
     "end_time": "2023-07-17T00:40:50.527286",
     "exception": false,
     "start_time": "2023-07-17T00:40:50.484505",
     "status": "completed"
    },
    "tags": []
   },
   "source": [
    "## select columns"
   ]
  },
  {
   "cell_type": "code",
   "execution_count": 94,
   "id": "3a4127a1",
   "metadata": {
    "execution": {
     "iopub.execute_input": "2023-07-17T00:40:50.614058Z",
     "iopub.status.busy": "2023-07-17T00:40:50.613709Z",
     "iopub.status.idle": "2023-07-17T00:40:50.618196Z",
     "shell.execute_reply": "2023-07-17T00:40:50.617177Z"
    },
    "papermill": {
     "duration": 0.050231,
     "end_time": "2023-07-17T00:40:50.620213",
     "exception": false,
     "start_time": "2023-07-17T00:40:50.569982",
     "status": "completed"
    },
    "tags": []
   },
   "outputs": [],
   "source": [
    "# cols_train = ['AH', 'CC', 'GI', 'BQ', 'GH', 'DE', 'BR', 'EP', 'EL', 'CL', 'CD ', 'AM', 'EU', 'FI', 'EE', 'CU', 'DU', 'GL', 'DL', 'DV',\"Class\"]\n",
    "# cols_test = ['AH', 'CC', 'GI', 'BQ', 'GH', 'DE', 'BR', 'EP', 'EL', 'CL', 'CD ', 'AM', 'EU', 'FI', 'EE', 'CU', 'DU', 'GL', 'DL', 'DV']\n",
    "# df_train = df_train[cols_train]\n",
    "# df_test = df_test[cols_test]\n",
    "# df_test"
   ]
  },
  {
   "cell_type": "markdown",
   "id": "42ce817d",
   "metadata": {
    "papermill": {
     "duration": 0.04662,
     "end_time": "2023-07-17T00:40:50.713571",
     "exception": false,
     "start_time": "2023-07-17T00:40:50.666951",
     "status": "completed"
    },
    "tags": []
   },
   "source": [
    "# PyTorch"
   ]
  },
  {
   "cell_type": "code",
   "execution_count": 95,
   "id": "42c723a7",
   "metadata": {
    "execution": {
     "iopub.execute_input": "2023-07-17T00:40:50.803288Z",
     "iopub.status.busy": "2023-07-17T00:40:50.802281Z",
     "iopub.status.idle": "2023-07-17T00:40:50.809996Z",
     "shell.execute_reply": "2023-07-17T00:40:50.808991Z"
    },
    "papermill": {
     "duration": 0.05445,
     "end_time": "2023-07-17T00:40:50.811994",
     "exception": false,
     "start_time": "2023-07-17T00:40:50.757544",
     "status": "completed"
    },
    "tags": []
   },
   "outputs": [
    {
     "data": {
      "text/plain": [
       "dict_items([('__module__', '__main__'), ('TRAIN_BATCHSIZE', 64), ('VALID_BATCHSIZE', 200), ('learning_rate', 0.0005), ('num_epochs', 3000), ('seed', 57), ('__dict__', <attribute '__dict__' of 'cfg' objects>), ('__weakref__', <attribute '__weakref__' of 'cfg' objects>), ('__doc__', None)])"
      ]
     },
     "execution_count": 95,
     "metadata": {},
     "output_type": "execute_result"
    }
   ],
   "source": [
    "class cfg :\n",
    "    TRAIN_BATCHSIZE = 64\n",
    "    VALID_BATCHSIZE = 200\n",
    "    learning_rate = 0.0005\n",
    "#     learning_rate = 0.001\n",
    "    num_epochs = 3000\n",
    "    seed = seed\n",
    "    \n",
    "cfg.__dict__.items()"
   ]
  },
  {
   "cell_type": "code",
   "execution_count": 96,
   "id": "1f0790f5",
   "metadata": {
    "execution": {
     "iopub.execute_input": "2023-07-17T00:40:50.903516Z",
     "iopub.status.busy": "2023-07-17T00:40:50.902512Z",
     "iopub.status.idle": "2023-07-17T00:40:50.907091Z",
     "shell.execute_reply": "2023-07-17T00:40:50.906072Z"
    },
    "papermill": {
     "duration": 0.053885,
     "end_time": "2023-07-17T00:40:50.909167",
     "exception": false,
     "start_time": "2023-07-17T00:40:50.855282",
     "status": "completed"
    },
    "tags": []
   },
   "outputs": [],
   "source": [
    "# np.random.normal(loc=0, scale=0.1, size=56).astype(np.float32) > 0"
   ]
  },
  {
   "cell_type": "markdown",
   "id": "1108791f",
   "metadata": {
    "papermill": {
     "duration": 0.042331,
     "end_time": "2023-07-17T00:40:50.994833",
     "exception": false,
     "start_time": "2023-07-17T00:40:50.952502",
     "status": "completed"
    },
    "tags": []
   },
   "source": [
    "### dataset/dataloader"
   ]
  },
  {
   "cell_type": "code",
   "execution_count": 97,
   "id": "d91d5eaa",
   "metadata": {
    "execution": {
     "iopub.execute_input": "2023-07-17T00:40:51.083699Z",
     "iopub.status.busy": "2023-07-17T00:40:51.082627Z",
     "iopub.status.idle": "2023-07-17T00:40:51.180171Z",
     "shell.execute_reply": "2023-07-17T00:40:51.179262Z"
    },
    "papermill": {
     "duration": 0.144817,
     "end_time": "2023-07-17T00:40:51.182382",
     "exception": false,
     "start_time": "2023-07-17T00:40:51.037565",
     "status": "completed"
    },
    "tags": []
   },
   "outputs": [
    {
     "data": {
      "text/plain": [
       "(tensor([-0.4722, -0.0052,  0.0000,  0.0693,  0.0000, -1.8808,  0.0000, -0.1341,\n",
       "          1.1232, -0.4635,  0.3333, -0.2009,  0.9814,  0.3569,  0.0000,  0.0865,\n",
       "         -0.4587, -1.6082, -0.5025, -0.4000,  0.0000, -2.4523, -1.9588, -0.0841,\n",
       "          0.0060,  0.8481, -0.0374,  0.0000, -0.5625, -0.6463, -0.3687,  0.4565,\n",
       "          4.8193,  0.0000,  0.0799, -0.1885, -0.2781, -0.0763,  3.6883,  0.0000,\n",
       "         -0.5421,  0.0000, -0.4203, -0.7452,  1.8316,  0.3070, -2.1252,  0.7041,\n",
       "          0.5986, -0.3333, -0.6423,  0.0000, -0.3593, -0.7163,  0.6417, -0.0100]),\n",
       " 1)"
      ]
     },
     "execution_count": 97,
     "metadata": {},
     "output_type": "execute_result"
    }
   ],
   "source": [
    "class MyDataset(Dataset):\n",
    "    def __init__(self, df, is_train=False):\n",
    "        super().__init__()\n",
    "        self.df = df\n",
    "        self.is_train = is_train\n",
    "        \n",
    "        self.noise_mean = 0 \n",
    "        self.noise_std = 0.01\n",
    "        self.th = 0.50\n",
    "        self.mask = np.array([1 if e != \"EJ\" else 0 for e in df_train.columns])[:-2].astype(np.float32)\n",
    "        \n",
    "        X = df[df.columns[:-2]]\n",
    "        y = df.Class\n",
    "        self.X = X\n",
    "        self.y = y\n",
    "#         sm = SMOTETomek(random_state=57)\n",
    "#         X_res, y_res = sm.fit_resample(X, y)\n",
    "#         self.X = X_res\n",
    "#         self.y = y_res\n",
    "        \n",
    "    # ここで取り出すデータを指定している\n",
    "    def __getitem__(\n",
    "        self,\n",
    "        index\n",
    "    ) :\n",
    "#         print(index, self.df.iloc[index])\n",
    "      \n",
    "#         data = torch.Tensor(self.df.iloc[index, :-2].to_numpy())\n",
    "#         label = self.df.Class[index]\n",
    "        data = torch.Tensor(self.X.iloc[index, : ].to_numpy())\n",
    "        label = y_res[index]\n",
    "    \n",
    "        # データ拡張（0, 0.05)の正規分布ノイズを付加\n",
    "        if self.is_train and random.random() < self.th:\n",
    "#             m2 = np.random.normal(loc=self.noise_mean, scale=self.noise_std, size=self.mask.shape).astype(np.float32) > 0\n",
    "            data += self.mask * np.random.normal(loc=self.noise_mean, scale=self.noise_std, size=self.mask.shape).astype(np.float32)        \n",
    "        \n",
    "        return data, label\n",
    "\n",
    "    # この method がないと DataLoader を呼び出す際にエラーを吐かれる\n",
    "    def __len__(self) -> int:\n",
    "        return len(self.df)\n",
    "    \n",
    "dat = MyDataset(df_train, is_train=True)\n",
    "dat[0]"
   ]
  },
  {
   "cell_type": "markdown",
   "id": "4d2256bc",
   "metadata": {
    "papermill": {
     "duration": 0.043546,
     "end_time": "2023-07-17T00:40:51.268919",
     "exception": false,
     "start_time": "2023-07-17T00:40:51.225373",
     "status": "completed"
    },
    "tags": []
   },
   "source": [
    "### model"
   ]
  },
  {
   "cell_type": "code",
   "execution_count": 98,
   "id": "2bc80b6c",
   "metadata": {
    "execution": {
     "iopub.execute_input": "2023-07-17T00:40:51.357356Z",
     "iopub.status.busy": "2023-07-17T00:40:51.356387Z",
     "iopub.status.idle": "2023-07-17T00:40:51.369714Z",
     "shell.execute_reply": "2023-07-17T00:40:51.368655Z"
    },
    "papermill": {
     "duration": 0.059305,
     "end_time": "2023-07-17T00:40:51.371705",
     "exception": false,
     "start_time": "2023-07-17T00:40:51.312400",
     "status": "completed"
    },
    "tags": []
   },
   "outputs": [],
   "source": [
    "\"\"\"\n",
    "margin: 通常、2クラス分類ではmarginの値は0.2から0.5の範囲で設定されます。\n",
    "    この範囲内での値の選択は、同じクラスの特徴ベクトルを近くに、異なるクラスの\n",
    "    特徴ベクトルを遠くに分離する効果を持ちます。具体的な値は実験によって調整する\n",
    "    必要がありますが、一般的には0.3や0.4が試されることが多いです。\n",
    "scale: 2クラス分類の場合、scaleの値は一般的に10から30程度が使用されます。\n",
    "    値が大きいほど、クラス分類の確信度が高まりますが、適切な値はデータセットやタスクに\n",
    "    依存します。一般的な出発点としては、10や20を試してみることができます。\n",
    "\"\"\"\n",
    "class ArcMarginProduct(nn.Module):\n",
    "    def __init__(self, in_features, out_features, s=30.0, m=0.50, easy_margin=False):\n",
    "        super(ArcMarginProduct, self).__init__()\n",
    "        self.in_features = in_features\n",
    "        self.out_features = out_features\n",
    "        self.s = s\n",
    "        self.m = m\n",
    "        self.weight = nn.Parameter(torch.FloatTensor(out_features, in_features))\n",
    "        nn.init.xavier_uniform_(self.weight)\n",
    "\n",
    "        self.easy_margin = easy_margin\n",
    "        self.cos_m = math.cos(m)\n",
    "        self.sin_m = math.sin(m)\n",
    "        self.th = math.cos(math.pi - m)\n",
    "        self.mm = math.sin(math.pi - m) * m\n",
    "\n",
    "    def forward(self, input, train, label=False):\n",
    "        # --------------------------- cos(theta) & phi(theta) ---------------------------\n",
    "        cosine = F.linear(F.normalize(input), F.normalize(self.weight))\n",
    "        sine = torch.sqrt((1.0 - torch.pow(cosine, 2)).clamp(0, 1))\n",
    "        phi = cosine * self.cos_m - sine * self.sin_m\n",
    "        if self.easy_margin:\n",
    "            phi = torch.where(cosine > 0, phi, cosine)\n",
    "        else:\n",
    "            phi = torch.where(cosine > self.th, phi, cosine - self.mm)\n",
    "        if train:\n",
    "            one_hot = torch.zeros(cosine.size())\n",
    "            if device == \"cpu\":\n",
    "                one_hot.scatter_(1, label.view(-1, 1).long(), 1)\n",
    "            else:\n",
    "                one_hot = torch.zeros(cosine.size(), device='cuda')\n",
    "                one_hot.scatter_(1, label.cuda().view(-1, 1).long(), 1)\n",
    "            output = (one_hot * phi) + ((1.0 - one_hot) * cosine)  # you can use torch.where if your torch.__version__ is 0.4\n",
    "        else:\n",
    "            output = cosine\n",
    "        output *= self.s\n",
    "\n",
    "        return output"
   ]
  },
  {
   "cell_type": "code",
   "execution_count": 99,
   "id": "4c60b0d5",
   "metadata": {
    "execution": {
     "iopub.execute_input": "2023-07-17T00:40:51.467026Z",
     "iopub.status.busy": "2023-07-17T00:40:51.466641Z",
     "iopub.status.idle": "2023-07-17T00:40:51.477356Z",
     "shell.execute_reply": "2023-07-17T00:40:51.476372Z"
    },
    "papermill": {
     "duration": 0.064648,
     "end_time": "2023-07-17T00:40:51.479549",
     "exception": false,
     "start_time": "2023-07-17T00:40:51.414901",
     "status": "completed"
    },
    "tags": []
   },
   "outputs": [],
   "source": [
    "class MyModel(nn.Module):\n",
    "    def __init__(self, input_dim, output_dim, hidden_dim=128, last_hidden_dim=64):\n",
    "        super(MyModel, self).__init__()\n",
    "\n",
    "#         self.bn1 = nn.BatchNorm1d(input_dim)\n",
    "        self.bn2 = nn.BatchNorm1d(hidden_dim)\n",
    "        self.bn3 = nn.BatchNorm1d(last_hidden_dim)\n",
    "        self.fc1 = nn.Linear(input_dim, hidden_dim)\n",
    "        self.fc2 = nn.Linear(hidden_dim, last_hidden_dim)\n",
    "#         self.arcface = ArcMarginProduct(last_hidden_dim, output_dim, s = 10, m = 0.1)\n",
    "        self.arcface = ArcMarginProduct(last_hidden_dim, output_dim, s = 15, m = 0.1)\n",
    "        \n",
    "        self.dropout01 = nn.Dropout(0.05)\n",
    "        self.dropout05 = nn.Dropout(0.25)\n",
    "\n",
    "    def forward(self, x, labels):\n",
    "#         x = self.bn1(x)\n",
    "        x = self.dropout01(x)\n",
    "        x = F.mish(self.bn2(self.fc1(x)))\n",
    "        x = self.dropout05(x)\n",
    "        x = F.mish(self.bn3(self.fc2(x)))\n",
    "        if self.training:\n",
    "            logits = self.arcface(x, self.training, labels)\n",
    "        else:\n",
    "            logits = self.arcface(x, self.training)\n",
    "        return logits, x"
   ]
  },
  {
   "cell_type": "code",
   "execution_count": 100,
   "id": "f2d1f490",
   "metadata": {
    "execution": {
     "iopub.execute_input": "2023-07-17T00:40:51.567250Z",
     "iopub.status.busy": "2023-07-17T00:40:51.566896Z",
     "iopub.status.idle": "2023-07-17T00:40:51.572902Z",
     "shell.execute_reply": "2023-07-17T00:40:51.571930Z"
    },
    "papermill": {
     "duration": 0.052939,
     "end_time": "2023-07-17T00:40:51.575022",
     "exception": false,
     "start_time": "2023-07-17T00:40:51.522083",
     "status": "completed"
    },
    "tags": []
   },
   "outputs": [],
   "source": [
    "# def balanced_log_loss(y_true, y_pred):\n",
    "#     y_pred = y_pred.astype('float64')\n",
    "#     y_pred = np.clip(y_pred, 1e-15, 1-1e-15)\n",
    "#     nc = np.bincount(y_true)\n",
    "#     w0, w1 = 1/(nc[0]/y_true.shape[0]), 1/(nc[1]/y_true.shape[0])\n",
    "#     balanced_log_loss_score = (-w0/nc[0]*(np.sum(np.where(y_true==0,1,0) * np.log(1-y_pred))) - w1/nc[1]*(np.sum(np.where(y_true!=0,1,0) * np.log(y_pred)))) / (w0+w1)\n",
    "#     return balanced_log_loss_score\n",
    "\n",
    "from sklearn.metrics import log_loss\n",
    "def balanced_log_loss(y_true, y_pred):\n",
    "    y_pred = y_pred.astype('float64')    \n",
    "    nc = np.bincount(y_true)\n",
    "    return log_loss(y_true, y_pred, sample_weight = 1/nc[y_true], eps=1e-15)"
   ]
  },
  {
   "cell_type": "code",
   "execution_count": 101,
   "id": "97457211",
   "metadata": {
    "execution": {
     "iopub.execute_input": "2023-07-17T00:40:51.697899Z",
     "iopub.status.busy": "2023-07-17T00:40:51.696840Z",
     "iopub.status.idle": "2023-07-17T00:40:51.704703Z",
     "shell.execute_reply": "2023-07-17T00:40:51.703477Z"
    },
    "papermill": {
     "duration": 0.091645,
     "end_time": "2023-07-17T00:40:51.712253",
     "exception": false,
     "start_time": "2023-07-17T00:40:51.620608",
     "status": "completed"
    },
    "tags": []
   },
   "outputs": [],
   "source": [
    "def seed_everything(seed: int):\n",
    "    random.seed(seed)\n",
    "    os.environ['PYTHONHASHSEED'] = str(seed)\n",
    "    np.random.seed(seed)\n",
    "    torch.manual_seed(seed)\n",
    "    torch.cuda.manual_seed(seed)\n",
    "    torch.backends.cudnn.deterministic = True\n",
    "    torch.backends.cudnn.benchmark = True\n",
    "    \n",
    "# criterion = F.cross_entropy"
   ]
  },
  {
   "cell_type": "code",
   "execution_count": 102,
   "id": "40eedf0b",
   "metadata": {
    "execution": {
     "iopub.execute_input": "2023-07-17T00:40:51.810137Z",
     "iopub.status.busy": "2023-07-17T00:40:51.809782Z",
     "iopub.status.idle": "2023-07-17T00:40:51.825281Z",
     "shell.execute_reply": "2023-07-17T00:40:51.824228Z"
    },
    "papermill": {
     "duration": 0.062846,
     "end_time": "2023-07-17T00:40:51.827335",
     "exception": false,
     "start_time": "2023-07-17T00:40:51.764489",
     "status": "completed"
    },
    "tags": []
   },
   "outputs": [
    {
     "data": {
      "text/plain": [
       "tensor([0.1750, 0.8250])"
      ]
     },
     "execution_count": 102,
     "metadata": {},
     "output_type": "execute_result"
    }
   ],
   "source": [
    "balance = torch.Tensor([len(df_train)/sum(df_train.Class == i) for i in range(len(df_train.Class.unique()))])\n",
    "balance /= sum(balance)\n",
    "balance"
   ]
  },
  {
   "cell_type": "markdown",
   "id": "ce0852f3",
   "metadata": {
    "papermill": {
     "duration": 0.041914,
     "end_time": "2023-07-17T00:40:51.912274",
     "exception": false,
     "start_time": "2023-07-17T00:40:51.870360",
     "status": "completed"
    },
    "tags": []
   },
   "source": [
    "### train"
   ]
  },
  {
   "cell_type": "code",
   "execution_count": 103,
   "id": "3eedc567",
   "metadata": {
    "execution": {
     "iopub.execute_input": "2023-07-17T00:40:52.002453Z",
     "iopub.status.busy": "2023-07-17T00:40:52.001498Z",
     "iopub.status.idle": "2023-07-17T00:40:52.006659Z",
     "shell.execute_reply": "2023-07-17T00:40:52.005704Z"
    },
    "papermill": {
     "duration": 0.052842,
     "end_time": "2023-07-17T00:40:52.008787",
     "exception": false,
     "start_time": "2023-07-17T00:40:51.955945",
     "status": "completed"
    },
    "tags": []
   },
   "outputs": [],
   "source": [
    "from tqdm import tqdm"
   ]
  },
  {
   "cell_type": "code",
   "execution_count": 104,
   "id": "8ba83f18",
   "metadata": {
    "execution": {
     "iopub.execute_input": "2023-07-17T00:40:52.095966Z",
     "iopub.status.busy": "2023-07-17T00:40:52.095624Z",
     "iopub.status.idle": "2023-07-17T00:40:52.110405Z",
     "shell.execute_reply": "2023-07-17T00:40:52.109483Z"
    },
    "papermill": {
     "duration": 0.060637,
     "end_time": "2023-07-17T00:40:52.112500",
     "exception": false,
     "start_time": "2023-07-17T00:40:52.051863",
     "status": "completed"
    },
    "tags": []
   },
   "outputs": [],
   "source": [
    "def train(fold, train_dataloader,valid_dataloader, input_dim, output_dim, total_epoch = None):\n",
    "    best_score = 10**18\n",
    "    best_epoch = -1\n",
    "    model = MyModel(input_dim, output_dim).to(device)\n",
    "\n",
    "    optimizer = optim.Adamax(model.parameters(), lr=cfg.learning_rate)\n",
    "#     criterion = nn.CrossEntropyLoss().to(device)\n",
    "    criterion = nn.CrossEntropyLoss(weight=balance).to(device)\n",
    "    \n",
    "    if total_epoch is None:\n",
    "        total_epoch = cfg.num_epochs\n",
    "    \n",
    "    with tqdm(total=total_epoch) as pbar:\n",
    "        for epoch in range(total_epoch):\n",
    "            y_true = []\n",
    "            y_pred = []    \n",
    "\n",
    "            model.train()  # モデルを訓練モードに設定\n",
    "            total_loss = 0.0\n",
    "            for batch in train_dataloader:\n",
    "                inputs, labels = batch\n",
    "                inputs = inputs.to(device)\n",
    "                labels = labels.to(device)\n",
    "                optimizer.zero_grad()  # 勾配の初期化\n",
    "                # フォワード処理\n",
    "                outputs, _ = model(inputs, labels)      \n",
    "                # 損失の計算\n",
    "                loss = criterion(outputs, labels)\n",
    "                # バックワード処理\n",
    "                loss.backward()\n",
    "                # パラメータの更新\n",
    "                optimizer.step()\n",
    "                total_loss += loss.detach().item()\n",
    "            avg_train_loss = total_loss / len(train_dataloader)\n",
    "\n",
    "            model.eval()  # モデルをvalidモードに設定\n",
    "            total_loss = 0.0\n",
    "\n",
    "\n",
    "            for batch in valid_dataloader:\n",
    "                inputs, labels = batch\n",
    "                inputs = inputs.to(device)\n",
    "                labels = labels.to(device)\n",
    "                with torch.no_grad():\n",
    "                    outputs, _ = model(inputs, labels)     \n",
    "                loss = criterion(outputs, labels)\n",
    "                total_loss += loss.detach().item()\n",
    "                y_true += (labels.detach().tolist())\n",
    "                y_pred += (1 - F.softmax(outputs, dim=1)[:, 0]).detach().tolist()\n",
    "            avg_valid_loss = total_loss / len(valid_dataloader)\n",
    "\n",
    "            y_true = np.array(y_true)\n",
    "            y_pred = np.array(y_pred)\n",
    "            score = balanced_log_loss(y_true, y_pred)\n",
    "#             score = avg_valid_loss\n",
    "\n",
    "            pbar.set_postfix(train=avg_train_loss, valid=avg_valid_loss, score=score, best_score=best_score, best_epoch=best_epoch)\n",
    "            pbar.update(1)\n",
    "            if epoch > 100 and best_score > score:\n",
    "                last_file = f\"model_weight_fold{fold}.pth\"\n",
    "                best_score = min(best_score, score)\n",
    "                best_epoch = epoch+1\n",
    "                torch.save(model.state_dict(), f\"model_weight_fold{fold}.pth\")\n",
    "\n",
    "    torch.save(model.state_dict(), f\"model_weight_last_fold{fold}.pth\")\n",
    "\n",
    "    return best_score\n"
   ]
  },
  {
   "cell_type": "code",
   "execution_count": 105,
   "id": "d62e8636",
   "metadata": {
    "execution": {
     "iopub.execute_input": "2023-07-17T00:40:52.201749Z",
     "iopub.status.busy": "2023-07-17T00:40:52.201367Z",
     "iopub.status.idle": "2023-07-17T00:40:52.214163Z",
     "shell.execute_reply": "2023-07-17T00:40:52.213244Z"
    },
    "papermill": {
     "duration": 0.059219,
     "end_time": "2023-07-17T00:40:52.216248",
     "exception": false,
     "start_time": "2023-07-17T00:40:52.157029",
     "status": "completed"
    },
    "tags": []
   },
   "outputs": [],
   "source": [
    "seed_everything(cfg.seed)\n",
    "\n",
    "kf = StratifiedKFold(n_splits=5, shuffle=True, random_state=seed)\n",
    "\n",
    "num = 0\n",
    "score = 0\n",
    "is_train = True\n",
    "\n",
    "# timesは入れない！！！！\n",
    "input_dim = len(df_train.columns)-2\n",
    "output_dim = len(df_train.Class.unique())\n",
    "\n",
    "if torch_train:\n",
    "    for num, (train_idx, valid_idx) in enumerate(kf.split(df_train, greeks_df.Class)):\n",
    "#         if num != 4 : continue\n",
    "        train_df = df_train.iloc[train_idx]\n",
    "        valid_df = df_train.iloc[valid_idx]\n",
    "        train_dataset = MyDataset(train_df, is_train=is_train)\n",
    "        valid_dataset = MyDataset(valid_df)\n",
    "        train_dataloader = DataLoader(train_dataset, batch_size=cfg.TRAIN_BATCHSIZE, shuffle=True)\n",
    "        valid_dataloader = DataLoader(valid_dataset, batch_size=cfg.VALID_BATCHSIZE, shuffle=False)\n",
    "\n",
    "        print(f\"Fold{num}\")\n",
    "        score += train(num, train_dataloader, valid_dataloader, input_dim, output_dim)\n",
    "\n",
    "        num+=1\n",
    "\n",
    "    print(score/5)"
   ]
  },
  {
   "cell_type": "markdown",
   "id": "0f6f3462",
   "metadata": {
    "papermill": {
     "duration": 0.042859,
     "end_time": "2023-07-17T00:40:52.302158",
     "exception": false,
     "start_time": "2023-07-17T00:40:52.259299",
     "status": "completed"
    },
    "tags": []
   },
   "source": [
    "Fold0\n",
    "100%|██████████| 1000/1000 [04:09<00:00,  4.00it/s, best_epoch=951, best_score=0.352, score=0.618, train=0.451, valid=0.517] \n",
    "Fold1\n",
    "100%|██████████| 1000/1000 [12:18<00:00,  1.35it/s, best_epoch=767, best_score=0.422, score=0.583, train=0.438, valid=0.42]   \n",
    "Fold2\n",
    "100%|██████████| 1000/1000 [08:43<00:00,  1.91it/s, best_epoch=442, best_score=0.461, score=0.931, train=0.445, valid=0.6]   \n",
    "Fold3\n",
    "100%|██████████| 1000/1000 [06:26<00:00,  2.58it/s, best_epoch=752, best_score=0.342, score=0.513, train=0.473, valid=0.385] \n",
    "Fold4\n",
    "100%|██████████| 1000/1000 [05:14<00:00,  3.18it/s, best_epoch=984, best_score=0.254, score=0.318, train=0.437, valid=0.307] \n",
    "0.36624119001847333"
   ]
  },
  {
   "cell_type": "markdown",
   "id": "9dbafffb",
   "metadata": {
    "papermill": {
     "duration": 0.042078,
     "end_time": "2023-07-17T00:40:52.386980",
     "exception": false,
     "start_time": "2023-07-17T00:40:52.344902",
     "status": "completed"
    },
    "tags": []
   },
   "source": [
    "### train/single model"
   ]
  },
  {
   "cell_type": "code",
   "execution_count": 106,
   "id": "c6336e31",
   "metadata": {
    "execution": {
     "iopub.execute_input": "2023-07-17T00:40:52.474100Z",
     "iopub.status.busy": "2023-07-17T00:40:52.473252Z",
     "iopub.status.idle": "2023-07-17T00:40:52.480458Z",
     "shell.execute_reply": "2023-07-17T00:40:52.479381Z"
    },
    "papermill": {
     "duration": 0.053158,
     "end_time": "2023-07-17T00:40:52.482507",
     "exception": false,
     "start_time": "2023-07-17T00:40:52.429349",
     "status": "completed"
    },
    "tags": []
   },
   "outputs": [],
   "source": [
    "if torch_train:\n",
    "    # 全てのデータを利用して学習 train=valid\n",
    "    train_dataset = MyDataset(df_train, is_train=is_train)\n",
    "    valid_dataset = MyDataset(df_train)\n",
    "    train_dataloader = DataLoader(train_dataset, batch_size=cfg.TRAIN_BATCHSIZE, shuffle=True)\n",
    "    valid_dataloader = DataLoader(valid_dataset, batch_size=cfg.VALID_BATCHSIZE, shuffle=False)\n",
    "\n",
    "    num = 100\n",
    "    seed_everything(cfg.seed * num)\n",
    "\n",
    "    print(f\"Fold{num}\")\n",
    "    score = train(num, train_dataloader, valid_dataloader, input_dim, output_dim, total_epoch=1000)\n",
    "\n",
    "    print(score)"
   ]
  },
  {
   "cell_type": "code",
   "execution_count": 107,
   "id": "73eb91de",
   "metadata": {
    "execution": {
     "iopub.execute_input": "2023-07-17T00:40:52.571297Z",
     "iopub.status.busy": "2023-07-17T00:40:52.570353Z",
     "iopub.status.idle": "2023-07-17T00:40:52.577506Z",
     "shell.execute_reply": "2023-07-17T00:40:52.576546Z"
    },
    "papermill": {
     "duration": 0.054533,
     "end_time": "2023-07-17T00:40:52.579709",
     "exception": false,
     "start_time": "2023-07-17T00:40:52.525176",
     "status": "completed"
    },
    "tags": []
   },
   "outputs": [],
   "source": [
    "if torch_train:\n",
    "    # 全てのデータを利用して学習 train=valid\n",
    "    train_dataset = MyDataset(df_train, is_train=is_train)\n",
    "    valid_dataset = MyDataset(df_train)\n",
    "    train_dataloader = DataLoader(train_dataset, batch_size=cfg.TRAIN_BATCHSIZE, shuffle=True)\n",
    "    valid_dataloader = DataLoader(valid_dataset, batch_size=cfg.VALID_BATCHSIZE, shuffle=False)\n",
    "\n",
    "    num = 101\n",
    "    seed_everything(cfg.seed * num)\n",
    "    print(f\"Fold{num}\")\n",
    "    score = train(num, train_dataloader, valid_dataloader, input_dim, output_dim, total_epoch=2000)\n",
    "\n",
    "    print(score)"
   ]
  },
  {
   "cell_type": "markdown",
   "id": "b1b0b621",
   "metadata": {
    "papermill": {
     "duration": 0.044207,
     "end_time": "2023-07-17T00:40:52.668847",
     "exception": false,
     "start_time": "2023-07-17T00:40:52.624640",
     "status": "completed"
    },
    "tags": []
   },
   "source": [
    "### 予測用の関数等の定義"
   ]
  },
  {
   "cell_type": "code",
   "execution_count": 108,
   "id": "e827be4f",
   "metadata": {
    "execution": {
     "iopub.execute_input": "2023-07-17T00:40:52.767700Z",
     "iopub.status.busy": "2023-07-17T00:40:52.766726Z",
     "iopub.status.idle": "2023-07-17T00:40:56.017468Z",
     "shell.execute_reply": "2023-07-17T00:40:56.016150Z"
    },
    "papermill": {
     "duration": 3.302317,
     "end_time": "2023-07-17T00:40:56.020093",
     "exception": false,
     "start_time": "2023-07-17T00:40:52.717776",
     "status": "completed"
    },
    "tags": []
   },
   "outputs": [
    {
     "name": "stdout",
     "output_type": "stream",
     "text": [
      "../input/icr-pycaret-dataset/model_weight_fold0.pth\n",
      "../input/icr-pycaret-dataset/model_weight_fold1.pth\n",
      "../input/icr-pycaret-dataset/model_weight_fold2.pth\n",
      "../input/icr-pycaret-dataset/model_weight_fold3.pth\n",
      "../input/icr-pycaret-dataset/model_weight_fold4.pth\n"
     ]
    }
   ],
   "source": [
    "nn_models = []\n",
    "for i in range(5):\n",
    "    model = MyModel(input_dim, output_dim)\n",
    "    if torch_train:\n",
    "        print(f'model_weight_fold{i}.pth')\n",
    "        model.load_state_dict(torch.load(f'model_weight_fold{i}.pth', map_location=torch.device('cpu')))\n",
    "    else:\n",
    "        print(f'../input/icr-pycaret-dataset/model_weight_fold{i}.pth')\n",
    "        model.load_state_dict(torch.load(f'../input/icr-pycaret-dataset/model_weight_fold{i}.pth', map_location=torch.device('cpu')))\n",
    "        \n",
    "    model.to(device)\n",
    "    model.eval()  ## torch.nn.Module.eval\n",
    "    nn_models.append(model)"
   ]
  },
  {
   "cell_type": "code",
   "execution_count": 111,
   "id": "acd2000d",
   "metadata": {},
   "outputs": [
    {
     "name": "stdout",
     "output_type": "stream",
     "text": [
      "../input/icr-pycaret-dataset/model_weight_fold0-2.pth\n",
      "../input/icr-pycaret-dataset/model_weight_fold1-2.pth\n",
      "../input/icr-pycaret-dataset/model_weight_fold2-2.pth\n",
      "../input/icr-pycaret-dataset/model_weight_fold3-2.pth\n",
      "../input/icr-pycaret-dataset/model_weight_fold4-2.pth\n"
     ]
    }
   ],
   "source": [
    "nn_models2 = []\n",
    "for i in range(5):\n",
    "    model = MyModel(input_dim, output_dim)\n",
    "    if torch_train:\n",
    "        print(f'model_weight_fold{i}-2.pth')\n",
    "        model.load_state_dict(torch.load(f'model_weight_fold{i}-2.pth', map_location=torch.device('cpu')))\n",
    "    else:\n",
    "        print(f'../input/icr-pycaret-dataset/model_weight_fold{i}-2.pth')\n",
    "        model.load_state_dict(torch.load(f'../input/icr-pycaret-dataset/model_weight_fold{i}-2.pth', map_location=torch.device('cpu')))\n",
    "        \n",
    "    model.to(device)\n",
    "    model.eval()  ## torch.nn.Module.eval\n",
    "    nn_models2.append(model)"
   ]
  },
  {
   "cell_type": "code",
   "execution_count": 113,
   "id": "aec6cfe7",
   "metadata": {},
   "outputs": [
    {
     "name": "stdout",
     "output_type": "stream",
     "text": [
      "../input/icr-pycaret-dataset/model_weight_fold100.pth\n",
      "../input/icr-pycaret-dataset/model_weight_fold101.pth\n"
     ]
    }
   ],
   "source": [
    "nn_single_model = []\n",
    "for i in range(100, 102):\n",
    "    model = MyModel(input_dim, output_dim)\n",
    "    if torch_train:\n",
    "        print(f'model_weight_fold{i}.pth')\n",
    "        model.load_state_dict(torch.load(f'model_weight_fold{i}.pth', map_location=torch.device('cpu')))\n",
    "    else:\n",
    "        print(f'../input/icr-pycaret-dataset/model_weight_fold{i}.pth')\n",
    "        model.load_state_dict(torch.load(f'../input/icr-pycaret-dataset/model_weight_fold{i}.pth', map_location=torch.device('cpu')))\n",
    "        \n",
    "    model.to(device)\n",
    "    model.eval()  ## torch.nn.Module.eval\n",
    "    nn_single_model.append(model)"
   ]
  },
  {
   "cell_type": "code",
   "execution_count": 112,
   "id": "0bce23f6",
   "metadata": {},
   "outputs": [
    {
     "name": "stdout",
     "output_type": "stream",
     "text": [
      "../input/icr-pycaret-dataset/model_weight_fold100-2.pth\n",
      "../input/icr-pycaret-dataset/model_weight_fold101-2.pth\n"
     ]
    }
   ],
   "source": [
    "nn_single_model2 = []\n",
    "for i in range(100, 102):\n",
    "    model = MyModel(input_dim, output_dim)\n",
    "    if torch_train:\n",
    "        print(f'model_weight_fold{i}-2.pth')\n",
    "        model.load_state_dict(torch.load(f'model_weight_fold{i}-2.pth', map_location=torch.device('cpu')))\n",
    "    else:\n",
    "        print(f'../input/icr-pycaret-dataset/model_weight_fold{i}-2.pth')\n",
    "        model.load_state_dict(torch.load(f'../input/icr-pycaret-dataset/model_weight_fold{i}-2.pth', map_location=torch.device('cpu')))\n",
    "        \n",
    "    model.to(device)\n",
    "    model.eval()  ## torch.nn.Module.eval\n",
    "    nn_single_model2.append(model)"
   ]
  },
  {
   "cell_type": "code",
   "execution_count": 114,
   "id": "c0c8c276",
   "metadata": {
    "execution": {
     "iopub.execute_input": "2023-07-17T00:40:56.217711Z",
     "iopub.status.busy": "2023-07-17T00:40:56.216785Z",
     "iopub.status.idle": "2023-07-17T00:40:56.224044Z",
     "shell.execute_reply": "2023-07-17T00:40:56.223196Z"
    },
    "papermill": {
     "duration": 0.053527,
     "end_time": "2023-07-17T00:40:56.226118",
     "exception": false,
     "start_time": "2023-07-17T00:40:56.172591",
     "status": "completed"
    },
    "tags": []
   },
   "outputs": [],
   "source": [
    "def nn_predict_proba(X, models):\n",
    "    preds = []\n",
    "    features = []\n",
    "    X = X.to(device)\n",
    "    for model in models:\n",
    "        with torch.no_grad():\n",
    "            pred, feature = model(X, None)\n",
    "        pred = F.softmax(pred, dim=1).cpu().detach().numpy()\n",
    "\n",
    "        if len(preds) == 0:\n",
    "            preds = pred\n",
    "            features = feature\n",
    "        else:\n",
    "            preds += pred\n",
    "            features += feature\n",
    "\n",
    "    preds = preds/len(models)\n",
    "    feature /= len(models)\n",
    "    return preds, feature"
   ]
  },
  {
   "cell_type": "code",
   "execution_count": null,
   "id": "2f0281e1",
   "metadata": {
    "papermill": {
     "duration": 0.042585,
     "end_time": "2023-07-17T00:40:56.313160",
     "exception": false,
     "start_time": "2023-07-17T00:40:56.270575",
     "status": "completed"
    },
    "tags": []
   },
   "outputs": [],
   "source": []
  },
  {
   "cell_type": "code",
   "execution_count": null,
   "id": "6e1e097e",
   "metadata": {
    "papermill": {
     "duration": 0.043116,
     "end_time": "2023-07-17T00:40:56.399940",
     "exception": false,
     "start_time": "2023-07-17T00:40:56.356824",
     "status": "completed"
    },
    "tags": []
   },
   "outputs": [],
   "source": []
  },
  {
   "cell_type": "code",
   "execution_count": 115,
   "id": "50e3c7f6",
   "metadata": {
    "execution": {
     "iopub.execute_input": "2023-07-17T00:40:56.489611Z",
     "iopub.status.busy": "2023-07-17T00:40:56.488551Z",
     "iopub.status.idle": "2023-07-17T00:40:58.487721Z",
     "shell.execute_reply": "2023-07-17T00:40:58.486584Z"
    },
    "papermill": {
     "duration": 2.047256,
     "end_time": "2023-07-17T00:40:58.490675",
     "exception": false,
     "start_time": "2023-07-17T00:40:56.443419",
     "status": "completed"
    },
    "scrolled": true,
    "tags": []
   },
   "outputs": [
    {
     "data": {
      "text/plain": [
       "(array([[1.5678834e-02, 9.8432124e-01],\n",
       "        [9.9998236e-01, 1.7626322e-05],\n",
       "        [9.4045699e-01, 5.9542991e-02],\n",
       "        ...,\n",
       "        [9.9986058e-01, 1.3947449e-04],\n",
       "        [9.9783623e-01, 2.1637634e-03],\n",
       "        [9.9975204e-01, 2.4793466e-04]], dtype=float32),\n",
       " tensor([[ 0.0571,  0.0363,  0.0070,  ..., -0.0358,  0.0234,  0.0622],\n",
       "         [ 0.0075,  0.0537,  0.0257,  ..., -0.0362, -0.0006,  0.0049],\n",
       "         [ 0.0284,  0.0392,  0.0142,  ..., -0.0392,  0.0060,  0.0432],\n",
       "         ...,\n",
       "         [ 0.0094,  0.0549,  0.0282,  ..., -0.0390,  0.0016,  0.0182],\n",
       "         [ 0.0244,  0.0454,  0.0180,  ..., -0.0381,  0.0148,  0.0198],\n",
       "         [ 0.0420,  0.0294, -0.0055,  ..., -0.0411,  0.0092,  0.0129]]))"
      ]
     },
     "execution_count": 115,
     "metadata": {},
     "output_type": "execute_result"
    }
   ],
   "source": [
    "X = torch.Tensor(df_train[df_train.columns[:-2]].to_numpy())\n",
    "y = df_train.Class\n",
    "\n",
    "preds, features = nn_predict_proba(X, nn_models)\n",
    "preds, features"
   ]
  },
  {
   "cell_type": "code",
   "execution_count": 116,
   "id": "09e38c64",
   "metadata": {
    "execution": {
     "iopub.execute_input": "2023-07-17T00:40:58.581872Z",
     "iopub.status.busy": "2023-07-17T00:40:58.580956Z",
     "iopub.status.idle": "2023-07-17T00:40:58.592626Z",
     "shell.execute_reply": "2023-07-17T00:40:58.591633Z"
    },
    "papermill": {
     "duration": 0.059757,
     "end_time": "2023-07-17T00:40:58.594730",
     "exception": false,
     "start_time": "2023-07-17T00:40:58.534973",
     "status": "completed"
    },
    "tags": []
   },
   "outputs": [
    {
     "data": {
      "text/plain": [
       "0.10561046573196525"
      ]
     },
     "execution_count": 116,
     "metadata": {},
     "output_type": "execute_result"
    }
   ],
   "source": [
    "balanced_log_loss(y, preds[:, 1])"
   ]
  },
  {
   "cell_type": "code",
   "execution_count": 117,
   "id": "18721234",
   "metadata": {
    "execution": {
     "iopub.execute_input": "2023-07-17T00:40:58.685003Z",
     "iopub.status.busy": "2023-07-17T00:40:58.683998Z",
     "iopub.status.idle": "2023-07-17T00:40:58.716460Z",
     "shell.execute_reply": "2023-07-17T00:40:58.715013Z"
    },
    "papermill": {
     "duration": 0.079888,
     "end_time": "2023-07-17T00:40:58.718986",
     "exception": false,
     "start_time": "2023-07-17T00:40:58.639098",
     "status": "completed"
    },
    "tags": []
   },
   "outputs": [
    {
     "name": "stdout",
     "output_type": "stream",
     "text": [
      "Fold0 0.3146027254015296\n",
      "Fold1 0.14991713137335944\n",
      "Fold2 0.6537366949879988\n",
      "Fold3 0.4037929625225866\n",
      "Fold4 0.5431161119099889\n"
     ]
    }
   ],
   "source": [
    "kf = StratifiedKFold(n_splits=5, shuffle=True, random_state=seed)\n",
    "\n",
    "for idx, (train_idx, valid_idx) in enumerate(kf.split(df_train, greeks_df.Class)):\n",
    "    valid_df = df_train.iloc[valid_idx]\n",
    "    \n",
    "    X = torch.Tensor(valid_df[valid_df.columns[:-2]].to_numpy()).to(device)\n",
    "    y = valid_df.Class\n",
    "    with torch.no_grad():\n",
    "        pred, _ = nn_models[idx](X, None)\n",
    "    pred = F.softmax(pred, dim=1).detach().cpu().numpy()\n",
    "    score = balanced_log_loss(y, pred[:, 1])\n",
    "    print(f\"Fold{idx}\", score)"
   ]
  },
  {
   "cell_type": "code",
   "execution_count": 118,
   "id": "9e81fb79",
   "metadata": {},
   "outputs": [
    {
     "name": "stdout",
     "output_type": "stream",
     "text": [
      "Fold0 0.21107085364960537\n",
      "Fold1 0.18067505293651334\n",
      "Fold2 0.34976393857716664\n",
      "Fold3 0.22402475212767464\n",
      "Fold4 0.1754161847904117\n"
     ]
    }
   ],
   "source": [
    "kf = StratifiedKFold(n_splits=5, shuffle=True, random_state=seed)\n",
    "\n",
    "for idx, (train_idx, valid_idx) in enumerate(kf.split(df_train, greeks_df.Class)):\n",
    "    valid_df = df_train.iloc[valid_idx]\n",
    "    \n",
    "    X = torch.Tensor(valid_df[valid_df.columns[:-2]].to_numpy()).to(device)\n",
    "    y = valid_df.Class\n",
    "    with torch.no_grad():\n",
    "        pred, _ = nn_models2[idx](X, None)\n",
    "    pred = F.softmax(pred, dim=1).detach().cpu().numpy()\n",
    "    score = balanced_log_loss(y, pred[:, 1])\n",
    "    print(f\"Fold{idx}\", score)"
   ]
  },
  {
   "cell_type": "code",
   "execution_count": 121,
   "id": "e69d13d4",
   "metadata": {
    "execution": {
     "iopub.execute_input": "2023-07-17T00:40:58.815538Z",
     "iopub.status.busy": "2023-07-17T00:40:58.815151Z",
     "iopub.status.idle": "2023-07-17T00:40:58.828846Z",
     "shell.execute_reply": "2023-07-17T00:40:58.827846Z"
    },
    "papermill": {
     "duration": 0.060848,
     "end_time": "2023-07-17T00:40:58.830912",
     "exception": false,
     "start_time": "2023-07-17T00:40:58.770064",
     "status": "completed"
    },
    "tags": []
   },
   "outputs": [
    {
     "data": {
      "text/plain": [
       "0.06132052963659279"
      ]
     },
     "execution_count": 121,
     "metadata": {},
     "output_type": "execute_result"
    }
   ],
   "source": [
    "# single model\n",
    "X = torch.Tensor(df_train[df_train.columns[:-2]].to_numpy())\n",
    "y = df_train.Class\n",
    "\n",
    "preds, features = nn_predict_proba(X, nn_single_model)\n",
    "balanced_log_loss(y, preds[:, 1])"
   ]
  },
  {
   "cell_type": "code",
   "execution_count": 122,
   "id": "0da38da9",
   "metadata": {},
   "outputs": [
    {
     "data": {
      "text/plain": [
       "0.06310310852896121"
      ]
     },
     "execution_count": 122,
     "metadata": {},
     "output_type": "execute_result"
    }
   ],
   "source": [
    "# single model\n",
    "X = torch.Tensor(df_train[df_train.columns[:-2]].to_numpy())\n",
    "y = df_train.Class\n",
    "\n",
    "preds, features = nn_predict_proba(X, nn_single_model2)\n",
    "balanced_log_loss(y, preds[:, 1])"
   ]
  },
  {
   "cell_type": "markdown",
   "id": "187e4649",
   "metadata": {
    "papermill": {
     "duration": 0.043745,
     "end_time": "2023-07-17T00:40:58.919715",
     "exception": false,
     "start_time": "2023-07-17T00:40:58.875970",
     "status": "completed"
    },
    "tags": []
   },
   "source": [
    "# LightGBM/XGBoost/CatBoost"
   ]
  },
  {
   "cell_type": "code",
   "execution_count": 123,
   "id": "32973f03",
   "metadata": {
    "execution": {
     "iopub.execute_input": "2023-07-17T00:40:59.010495Z",
     "iopub.status.busy": "2023-07-17T00:40:59.009481Z",
     "iopub.status.idle": "2023-07-17T00:40:59.018010Z",
     "shell.execute_reply": "2023-07-17T00:40:59.016887Z"
    },
    "papermill": {
     "duration": 0.056316,
     "end_time": "2023-07-17T00:40:59.020241",
     "exception": false,
     "start_time": "2023-07-17T00:40:58.963925",
     "status": "completed"
    },
    "tags": []
   },
   "outputs": [
    {
     "data": {
      "text/plain": [
       "617"
      ]
     },
     "execution_count": 123,
     "metadata": {},
     "output_type": "execute_result"
    }
   ],
   "source": [
    "classes_weights = compute_sample_weight(\n",
    "    class_weight='balanced',\n",
    "    y=df_train.Class\n",
    ")\n",
    "len(classes_weights)"
   ]
  },
  {
   "cell_type": "code",
   "execution_count": 124,
   "id": "18766ae9",
   "metadata": {
    "execution": {
     "iopub.execute_input": "2023-07-17T00:40:59.113619Z",
     "iopub.status.busy": "2023-07-17T00:40:59.113035Z",
     "iopub.status.idle": "2023-07-17T00:40:59.122155Z",
     "shell.execute_reply": "2023-07-17T00:40:59.120983Z"
    },
    "papermill": {
     "duration": 0.058341,
     "end_time": "2023-07-17T00:40:59.125027",
     "exception": false,
     "start_time": "2023-07-17T00:40:59.066686",
     "status": "completed"
    },
    "tags": []
   },
   "outputs": [
    {
     "data": {
      "text/plain": [
       "array([5.71296296, 0.60609037, 0.60609037, 0.60609037, 5.71296296,\n",
       "       0.60609037, 0.60609037, 0.60609037, 0.60609037, 0.60609037])"
      ]
     },
     "execution_count": 124,
     "metadata": {},
     "output_type": "execute_result"
    }
   ],
   "source": [
    "classes_weights[classes_weights == max(classes_weights)]*=positive_weight\n",
    "classes_weights[:10]"
   ]
  },
  {
   "cell_type": "code",
   "execution_count": 125,
   "id": "1b32f12b",
   "metadata": {
    "execution": {
     "iopub.execute_input": "2023-07-17T00:40:59.218336Z",
     "iopub.status.busy": "2023-07-17T00:40:59.217981Z",
     "iopub.status.idle": "2023-07-17T00:40:59.227174Z",
     "shell.execute_reply": "2023-07-17T00:40:59.226150Z"
    },
    "papermill": {
     "duration": 0.056981,
     "end_time": "2023-07-17T00:40:59.229331",
     "exception": false,
     "start_time": "2023-07-17T00:40:59.172350",
     "status": "completed"
    },
    "tags": []
   },
   "outputs": [
    {
     "data": {
      "text/plain": [
       "array([5.71296296, 0.60609037, 0.60609037, 0.60609037, 5.71296296,\n",
       "       0.60609037, 0.60609037, 0.60609037, 0.60609037, 0.60609037])"
      ]
     },
     "execution_count": 125,
     "metadata": {},
     "output_type": "execute_result"
    }
   ],
   "source": [
    "classes_weights2 = compute_sample_weight(\n",
    "    class_weight='balanced',\n",
    "    y=df_train.Class\n",
    ")\n",
    "classes_weights2[classes_weights2 == max(classes_weights2)]*=positive_weight2\n",
    "classes_weights2[:10]"
   ]
  },
  {
   "cell_type": "code",
   "execution_count": 126,
   "id": "c5f28624",
   "metadata": {
    "execution": {
     "iopub.execute_input": "2023-07-17T00:40:59.323912Z",
     "iopub.status.busy": "2023-07-17T00:40:59.322937Z",
     "iopub.status.idle": "2023-07-17T00:40:59.332061Z",
     "shell.execute_reply": "2023-07-17T00:40:59.331200Z"
    },
    "papermill": {
     "duration": 0.057271,
     "end_time": "2023-07-17T00:40:59.334150",
     "exception": false,
     "start_time": "2023-07-17T00:40:59.276879",
     "status": "completed"
    },
    "tags": []
   },
   "outputs": [],
   "source": [
    "def balanced_log_loss(y_true, y_pred):\n",
    "    y_pred = np.clip(y_pred, 1e-15, 1-1e-15)\n",
    "    nc = np.bincount(y_true)\n",
    "    w0, w1 = 1/(nc[0]/y_true.shape[0]), 1/(nc[1]/y_true.shape[0])\n",
    "    balanced_log_loss_score = (-w0/nc[0]*(np.sum(np.where(y_true==0,1,0) * np.log(1-y_pred))) - w1/nc[1]*(np.sum(np.where(y_true!=0,1,0) * np.log(y_pred)))) / (w0+w1)\n",
    "    return balanced_log_loss_score\n",
    "\n",
    "from sklearn.metrics import log_loss\n",
    "def balanced_log_loss(y_true, y_pred):\n",
    "    nc = np.bincount(y_true)\n",
    "    return log_loss(y_true, y_pred, sample_weight = 1/nc[y_true], eps=1e-15)\n",
    "\n",
    "# 独自の評価関数をスコアリング関数に変換\n",
    "balanced_log_loss_scorer = make_scorer(balanced_log_loss, greater_is_better=False)"
   ]
  },
  {
   "cell_type": "markdown",
   "id": "e87149ef",
   "metadata": {
    "papermill": {
     "duration": 0.044553,
     "end_time": "2023-07-17T00:40:59.423211",
     "exception": false,
     "start_time": "2023-07-17T00:40:59.378658",
     "status": "completed"
    },
    "tags": []
   },
   "source": [
    "## optuna"
   ]
  },
  {
   "cell_type": "code",
   "execution_count": 239,
   "id": "7c6abf8b",
   "metadata": {
    "execution": {
     "iopub.execute_input": "2023-07-17T00:40:59.514364Z",
     "iopub.status.busy": "2023-07-17T00:40:59.514012Z",
     "iopub.status.idle": "2023-07-17T00:40:59.528379Z",
     "shell.execute_reply": "2023-07-17T00:40:59.527464Z"
    },
    "papermill": {
     "duration": 0.063177,
     "end_time": "2023-07-17T00:40:59.530529",
     "exception": false,
     "start_time": "2023-07-17T00:40:59.467352",
     "status": "completed"
    },
    "tags": []
   },
   "outputs": [],
   "source": [
    "# 初期設定値\n",
    "# lgbm_params = {'n_estimators': 880,\n",
    "#  'reg_alpha': 1.1,\n",
    "#  'reg_lambda': 57.800000000000004,\n",
    "#  'num_leaves': 7,\n",
    "#  'min_child_samples': 54,\n",
    "#  'colsample_bytree': 0.8,\n",
    "#  'subsample': 0.5,\n",
    "#  'subsample_freq': 2}\n",
    "\n",
    "# lgbm_params = {'n_estimators': 1130,\n",
    "#  'reg_alpha': 0.0,\n",
    "#  'reg_lambda': 86.60000000000001,\n",
    "#  'num_leaves': 28,\n",
    "#  'min_child_samples': 26,\n",
    "#  'colsample_bytree': 0.8,\n",
    "#  'subsample': 0.6,\n",
    "#  'subsample_freq': 1}\n",
    "\n",
    "lgbm_params = {'n_estimators': 1480,\n",
    " 'reg_alpha': 0.1,\n",
    " 'reg_lambda': 9.600000000000001,\n",
    " 'num_leaves': 48,\n",
    " 'min_child_samples': 11,\n",
    " 'colsample_bytree': 0.7,\n",
    " 'subsample': 0.8,\n",
    " 'subsample_freq': 1}\n",
    "\n",
    "# lgbm_params_2 = {'n_estimators': 620,\n",
    "#  'reg_alpha': 0.1,\n",
    "#  'reg_lambda': 55.2,\n",
    "#  'num_leaves': 46,\n",
    "#  'min_child_samples': 40,\n",
    "#  'colsample_bytree': 1.0,\n",
    "#  'subsample': 0.5,\n",
    "#  'subsample_freq': 1}\n",
    "    \n",
    "# lgbm_params_2 = {'n_estimators': 850,\n",
    "#  'reg_alpha': 1.7000000000000002,\n",
    "#  'reg_lambda': 11.200000000000001,\n",
    "#  'num_leaves': 4,\n",
    "#  'min_child_samples': 23,\n",
    "#  'colsample_bytree': 0.6,\n",
    "#  'subsample': 0.9,\n",
    "#  'subsample_freq': 2}\n",
    "\n",
    "lgbm_params_2 = {'n_estimators': 1260,\n",
    " 'reg_alpha': 0.0,\n",
    " 'reg_lambda': 5.0,\n",
    " 'num_leaves': 45,\n",
    " 'min_child_samples': 21,\n",
    " 'colsample_bytree': 0.9,\n",
    " 'subsample': 0.9,\n",
    " 'subsample_freq': 2}\n",
    "    \n",
    "# xgb_params = {'n_estimators': 700,\n",
    "#  'max_depth': 3,\n",
    "#  'learning_rate': 0.03560016067885742,\n",
    "#  'subsample': 0.7408505704121144,\n",
    "#  'colsample_bytree': 0.5705779083310649,\n",
    "#  'gamma': 0.5286651204230014}\n",
    "# xgb_params = {'n_estimators': 1000,\n",
    "#  'max_depth': 3,\n",
    "#  'learning_rate': 0.1543150953351635,\n",
    "#  'subsample': 0.528008233404971,\n",
    "#  'colsample_bytree': 0.9851329877303666,\n",
    "#  'reg_alpha': 3.8000000000000003,\n",
    "#  'reg_lambda': 39.7,\n",
    "#  'gamma': 0.017381355558751747}\n",
    "\n",
    "# xgb_params = {'n_estimators': 500,\n",
    "#  'max_depth': 3,\n",
    "#  'learning_rate': 0.10793305053505592,\n",
    "#  'subsample': 0.8369256864343991,\n",
    "#  'colsample_bytree': 0.7520464672724583,\n",
    "#  'reg_alpha': 0.0,\n",
    "#  'reg_lambda': 37.0,\n",
    "#  'gamma': 0.015813647736160532}\n",
    "\n",
    "xgb_params = {'n_estimators': 1100,\n",
    " 'max_depth': 10,\n",
    " 'learning_rate': 0.15614514347924224,\n",
    " 'subsample': 0.5914988686475774,\n",
    " 'colsample_bytree': 0.6908905550987483,\n",
    " 'reg_alpha': 0.0,\n",
    " 'reg_lambda': 25.8,\n",
    " 'gamma': 0.01968681003733401}\n",
    "\n",
    "# xgb_params_2 = {'n_estimators': 1100,\n",
    "#  'max_depth': 3,\n",
    "#  'learning_rate': 0.14518639775016545,\n",
    "#  'subsample': 0.5084553487981508,\n",
    "#  'colsample_bytree': 0.8331982072851236,\n",
    "#  'reg_alpha': 2.6,\n",
    "#  'reg_lambda': 44.800000000000004,\n",
    "#  'gamma': 0.0011795489621245533}\n",
    "   \n",
    "    \n",
    "# xgb_params_2 = {'n_estimators': 400,\n",
    "#  'max_depth': 3,\n",
    "#  'learning_rate': 0.29902645074397594,\n",
    "#  'subsample': 0.7735383359613076,\n",
    "#  'colsample_bytree': 0.7336849557739112,\n",
    "#  'reg_alpha': 0.0,\n",
    "#  'reg_lambda': 49.0,\n",
    "#  'gamma': 0.008816865972010722}\n",
    "\n",
    "xgb_params_2 = {'n_estimators': 1400,\n",
    " 'max_depth': 6,\n",
    " 'learning_rate': 0.11874831982593327,\n",
    " 'subsample': 0.6511990698691976,\n",
    " 'colsample_bytree': 0.6701953578639556,\n",
    " 'reg_alpha': 0.0,\n",
    " 'reg_lambda': 29.6,\n",
    " 'gamma': 0.0011405697665625514}\n",
    "    \n",
    "# cb_params = {'iterations': 95,\n",
    "#  'depth': 4,\n",
    "#  'learning_rate': 0.10210645995422828,\n",
    "#  'random_strength': 3,\n",
    "#  'bagging_temperature': 0.034248653596267484,\n",
    "#  'od_wait': 50}\n",
    "\n",
    "cb_params = {'iterations': 289,\n",
    " 'depth': 4,\n",
    " 'learning_rate': 0.18768446152569845,\n",
    " 'random_strength': 10,\n",
    " 'bagging_temperature': 20.487227440664658,\n",
    " 'od_wait': 22}\n",
    "\n",
    "# cb_params_2 = {'iterations': 182,\n",
    "#  'depth': 4,\n",
    "#  'learning_rate': 0.094658662671199,\n",
    "#  'random_strength': 81,\n",
    "#  'bagging_temperature': 0.02984516823532346,\n",
    "#  'od_wait': 33}\n",
    "\n",
    "cb_params_2 = {'iterations': 250,\n",
    " 'depth': 4,\n",
    " 'learning_rate': 0.1406204176910051,\n",
    " 'random_strength': 69,\n",
    " 'bagging_temperature': 0.02944175723888104,\n",
    " 'od_wait': 40}\n",
    "\n",
    "# rf_params = {'criterion': 'entropy',\n",
    "#  'bootstrap': False,\n",
    "#  'max_depth': 208,\n",
    "#  'max_features': 'sqrt',\n",
    "#  'max_leaf_nodes': 12,\n",
    "#  'n_estimators': 204,\n",
    "#  'min_samples_split': 4,\n",
    "#  'min_samples_leaf': 8}\n",
    "\n",
    "rf_params= {'criterion': 'entropy',\n",
    " 'bootstrap': False,\n",
    " 'max_depth': 745,\n",
    " 'max_features': 'sqrt',\n",
    " 'max_leaf_nodes': 153,\n",
    " 'n_estimators': 169,\n",
    " 'min_samples_split': 4,\n",
    " 'min_samples_leaf': 7}\n",
    "\n",
    "# スタッキング用\n",
    "lgbm_params2 = {'n_estimators': 370,\n",
    " 'reg_alpha': 21.3,\n",
    " 'reg_lambda': 0.5,\n",
    " 'num_leaves': 12,\n",
    " 'min_child_samples': 25,\n",
    " 'colsample_bytree': 0.5,\n",
    " 'subsample': 0.6,\n",
    " 'subsample_freq': 0}  "
   ]
  },
  {
   "cell_type": "markdown",
   "id": "437298d3",
   "metadata": {
    "papermill": {
     "duration": 0.045824,
     "end_time": "2023-07-17T00:40:59.621377",
     "exception": false,
     "start_time": "2023-07-17T00:40:59.575553",
     "status": "completed"
    },
    "tags": []
   },
   "source": [
    "### lightGBM"
   ]
  },
  {
   "cell_type": "code",
   "execution_count": 240,
   "id": "0d2454ce",
   "metadata": {
    "execution": {
     "iopub.execute_input": "2023-07-17T00:40:59.716243Z",
     "iopub.status.busy": "2023-07-17T00:40:59.715250Z",
     "iopub.status.idle": "2023-07-17T00:40:59.726786Z",
     "shell.execute_reply": "2023-07-17T00:40:59.725893Z"
    },
    "papermill": {
     "duration": 0.061928,
     "end_time": "2023-07-17T00:40:59.728853",
     "exception": false,
     "start_time": "2023-07-17T00:40:59.666925",
     "status": "completed"
    },
    "tags": []
   },
   "outputs": [],
   "source": [
    "\n",
    "def obj_lgbm(trial):\n",
    "    params = {\n",
    "        'boosting_type':'gbdt',\n",
    "        'class_weight':'balanced',\n",
    "        'n_estimators': trial.suggest_int('n_estimators', 100, 2000, step=10),\n",
    "        'reg_alpha': trial.suggest_float('reg_alpha', 0, 100, step=0.1),\n",
    "        'reg_lambda': trial.suggest_float('reg_lambda', 0, 100, step=0.1),\n",
    "        'num_leaves': trial.suggest_int('num_leaves', 2, 64, step=1),\n",
    "        'min_child_samples': trial.suggest_int('min_child_samples', 8, 64, step=1),\n",
    "        'colsample_bytree': trial.suggest_float('colsample_bytree', 0.5, 1.0, step=0.1),\n",
    "        'subsample': trial.suggest_float('subsample', 0.5, 1.0, step=0.1),\n",
    "        'subsample_freq': trial.suggest_int('subsample_freq', 0, 3, step=1),\n",
    "    }\n",
    "    \n",
    "    \n",
    "    model = LGBMClassifier(**params)\n",
    "    \n",
    "    kf = StratifiedKFold(n_splits=5, shuffle=True, random_state=seed)\n",
    "\n",
    "    score = 0\n",
    "    for train_idx, valid_idx in kf.split(df_train, greeks_df.Class):\n",
    "        train_df = df_train.iloc[train_idx]\n",
    "        valid_df = df_train.iloc[valid_idx]\n",
    "        X_train, y_train = train_df[train_df.columns[:-1]], train_df.Class\n",
    "        X_valid, y_valid = valid_df[valid_df.columns[:-1]], valid_df.Class\n",
    "\n",
    "        weights = classes_weights[train_idx]\n",
    "        model.fit(X_train, y_train, sample_weight=weights, \n",
    "#                   eval_set=(X_valid, y_valid), eval_metric=lgb_metric,\n",
    "#                   callbacks=[\n",
    "#                       lightgbm.early_stopping(stopping_rounds=50, verbose=False),\n",
    "#                       lightgbm.log_evaluation(-1),],\n",
    "                 )\n",
    "        y_pred = model.predict_proba(X_valid)\n",
    "        if use_new_pred:\n",
    "            y_pred = calc_new_pred(y_pred)\n",
    "\n",
    "        loss = balanced_log_loss(y_valid, y_pred[:, 1])\n",
    "        score += loss\n",
    "\n",
    "    return score/5"
   ]
  },
  {
   "cell_type": "code",
   "execution_count": 241,
   "id": "a746f731",
   "metadata": {
    "execution": {
     "iopub.execute_input": "2023-07-17T00:40:59.824680Z",
     "iopub.status.busy": "2023-07-17T00:40:59.823907Z",
     "iopub.status.idle": "2023-07-17T00:40:59.830490Z",
     "shell.execute_reply": "2023-07-17T00:40:59.829581Z"
    },
    "papermill": {
     "duration": 0.056899,
     "end_time": "2023-07-17T00:40:59.832667",
     "exception": false,
     "start_time": "2023-07-17T00:40:59.775768",
     "status": "completed"
    },
    "tags": []
   },
   "outputs": [],
   "source": [
    "# def obj_lgbm(trial):\n",
    "#     params = {\n",
    "#         'random_state': trial.suggest_int('random_state', 1, 100, step=1),\n",
    "#         'n' : trial.suggest_int('n', 1, len(df_train.columns)-1, step=1),\n",
    "#         'axis': 1\n",
    "#     }\n",
    "    \n",
    "    \n",
    "#     model = LGBMClassifier(**lgbm_params)\n",
    "    \n",
    "#     kf = StratifiedKFold(n_splits=5, shuffle=True, random_state=seed)\n",
    "\n",
    "#     score = 0\n",
    "#     df_sel = df_train[df_train.columns[:-1]].sample(**params)\n",
    "#     df_sel['Class'] = df_train.Class\n",
    "        \n",
    "#     for train_idx, valid_idx in kf.split(df_sel, greeks_df.Class):\n",
    "#         train_df = df_sel.iloc[train_idx]\n",
    "#         valid_df = df_sel.iloc[valid_idx]\n",
    "#         X_train, y_train = train_df[train_df.columns[:-1]], train_df.Class\n",
    "#         X_valid, y_valid = valid_df[valid_df.columns[:-1]], valid_df.Class\n",
    "        \n",
    "#         weights = classes_weights[train_idx]\n",
    "#         model.fit(X_train, y_train, sample_weight=weights, \n",
    "# #                   eval_set=(X_valid, y_valid), eval_metric=lgb_metric,\n",
    "# #                   callbacks=[\n",
    "# #                       lightgbm.early_stopping(stopping_rounds=50, verbose=False),\n",
    "# #                       lightgbm.log_evaluation(-1),],\n",
    "#                  )\n",
    "#         y_pred = model.predict_proba(X_valid)\n",
    "#         if use_new_pred:\n",
    "#             y_pred = calc_new_pred(y_pred)\n",
    "\n",
    "#         loss = balanced_log_loss(y_valid, y_pred[:, 1])\n",
    "#         score += loss\n",
    "\n",
    "#     return score/5"
   ]
  },
  {
   "cell_type": "code",
   "execution_count": 242,
   "id": "4444487c",
   "metadata": {
    "execution": {
     "iopub.execute_input": "2023-07-17T00:40:59.924009Z",
     "iopub.status.busy": "2023-07-17T00:40:59.923654Z",
     "iopub.status.idle": "2023-07-17T00:40:59.931328Z",
     "shell.execute_reply": "2023-07-17T00:40:59.930473Z"
    },
    "papermill": {
     "duration": 0.0553,
     "end_time": "2023-07-17T00:40:59.933526",
     "exception": false,
     "start_time": "2023-07-17T00:40:59.878226",
     "status": "completed"
    },
    "scrolled": false,
    "tags": []
   },
   "outputs": [
    {
     "data": {
      "text/plain": [
       "{'n_estimators': 1480,\n",
       " 'reg_alpha': 0.1,\n",
       " 'reg_lambda': 9.600000000000001,\n",
       " 'num_leaves': 48,\n",
       " 'min_child_samples': 11,\n",
       " 'colsample_bytree': 0.7,\n",
       " 'subsample': 0.8,\n",
       " 'subsample_freq': 1}"
      ]
     },
     "execution_count": 242,
     "metadata": {},
     "output_type": "execute_result"
    }
   ],
   "source": [
    "do_opt = False\n",
    "if do_opt :\n",
    "    print(\"----\")\n",
    "    study = optuna.create_study(sampler=optuna.samplers.TPESampler(seed=seed))#direction='minimize')\n",
    "    study.enqueue_trial(lgbm_params)\n",
    "    study.optimize(obj_lgbm, n_trials=100)\n",
    "    lgbm_params = dict(study.best_trial.params.items())\n",
    "lgbm_params"
   ]
  },
  {
   "cell_type": "code",
   "execution_count": 243,
   "id": "d7a37a1d",
   "metadata": {
    "execution": {
     "iopub.execute_input": "2023-07-17T00:41:00.028809Z",
     "iopub.status.busy": "2023-07-17T00:41:00.027876Z",
     "iopub.status.idle": "2023-07-17T00:41:00.036149Z",
     "shell.execute_reply": "2023-07-17T00:41:00.035175Z"
    },
    "papermill": {
     "duration": 0.058497,
     "end_time": "2023-07-17T00:41:00.038282",
     "exception": false,
     "start_time": "2023-07-17T00:40:59.979785",
     "status": "completed"
    },
    "scrolled": true,
    "tags": []
   },
   "outputs": [
    {
     "data": {
      "text/plain": [
       "{'n_estimators': 1260,\n",
       " 'reg_alpha': 0.0,\n",
       " 'reg_lambda': 5.0,\n",
       " 'num_leaves': 45,\n",
       " 'min_child_samples': 21,\n",
       " 'colsample_bytree': 0.9,\n",
       " 'subsample': 0.9,\n",
       " 'subsample_freq': 2}"
      ]
     },
     "execution_count": 243,
     "metadata": {},
     "output_type": "execute_result"
    }
   ],
   "source": [
    "if do_opt :\n",
    "    study = optuna.create_study(sampler=optuna.samplers.TPESampler(seed=seed+1))#direction='minimize')\n",
    "    study.enqueue_trial(lgbm_params2)\n",
    "    study.optimize(obj_lgbm, n_trials=200)\n",
    "    lgbm_params_2 = dict(study.best_trial.params.items())\n",
    "lgbm_params_2"
   ]
  },
  {
   "cell_type": "code",
   "execution_count": 244,
   "id": "04a10815",
   "metadata": {
    "execution": {
     "iopub.execute_input": "2023-07-17T00:41:00.129148Z",
     "iopub.status.busy": "2023-07-17T00:41:00.128499Z",
     "iopub.status.idle": "2023-07-17T00:41:00.138013Z",
     "shell.execute_reply": "2023-07-17T00:41:00.136981Z"
    },
    "papermill": {
     "duration": 0.058064,
     "end_time": "2023-07-17T00:41:00.140382",
     "exception": false,
     "start_time": "2023-07-17T00:41:00.082318",
     "status": "completed"
    },
    "tags": []
   },
   "outputs": [],
   "source": [
    "params = {\n",
    "    'random_state': 17,\n",
    "    'n' : 49,\n",
    "    'axis': 1\n",
    "}   \n",
    "df_sel = df_train[df_train.columns[:-1]].sample(**params)\n",
    "lgb_selected = df_sel.columns\n",
    "lgb_selected\n",
    "lgb_selected = ['DH', 'CC', 'EH', 'BD ', 'CW ', 'FI', 'FC', 'times', 'AB', 'GB', 'DE',\n",
    "       'DA', 'EU', 'EB', 'CU', 'BZ', 'GI', 'BP', 'CR', 'BC', 'DV', 'CF', 'CH',\n",
    "       'EL', 'BR', 'GL', 'BQ', 'AH', 'GE', 'EG', 'AX', 'DI', 'DU', 'EP', 'DL',\n",
    "       'EE', 'DF', 'GH', 'AM', 'DY', 'BN', 'CD ', 'AF', 'AZ', 'FD ', 'CL',\n",
    "       'EJ', 'AR', 'DN']"
   ]
  },
  {
   "cell_type": "code",
   "execution_count": 245,
   "id": "6a605ca3",
   "metadata": {
    "papermill": {
     "duration": 0.050767,
     "end_time": "2023-07-17T00:41:00.239623",
     "exception": false,
     "start_time": "2023-07-17T00:41:00.188856",
     "status": "completed"
    },
    "tags": []
   },
   "outputs": [
    {
     "data": {
      "text/plain": [
       "{'AY', 'CB', 'FE', 'FL', 'FR', 'FS', 'GF'}"
      ]
     },
     "execution_count": 245,
     "metadata": {},
     "output_type": "execute_result"
    }
   ],
   "source": [
    "params = {\n",
    "    'random_state': 73,\n",
    "    'n' : 56,\n",
    "    'axis': 1\n",
    "}   \n",
    "df_sel = df_train[df_train.columns[:-1]].sample(**params)\n",
    "lgb_selected2 = df_sel.columns\n",
    "set(lgb_selected2) - set(lgb_selected)"
   ]
  },
  {
   "cell_type": "markdown",
   "id": "f161147a",
   "metadata": {
    "papermill": {
     "duration": 0.046309,
     "end_time": "2023-07-17T00:41:00.331420",
     "exception": false,
     "start_time": "2023-07-17T00:41:00.285111",
     "status": "completed"
    },
    "tags": []
   },
   "source": [
    "### xgboost"
   ]
  },
  {
   "cell_type": "code",
   "execution_count": 246,
   "id": "56a8c7bf",
   "metadata": {
    "execution": {
     "iopub.execute_input": "2023-07-17T00:41:00.427283Z",
     "iopub.status.busy": "2023-07-17T00:41:00.426922Z",
     "iopub.status.idle": "2023-07-17T00:41:00.438348Z",
     "shell.execute_reply": "2023-07-17T00:41:00.437481Z"
    },
    "papermill": {
     "duration": 0.059181,
     "end_time": "2023-07-17T00:41:00.440348",
     "exception": false,
     "start_time": "2023-07-17T00:41:00.381167",
     "status": "completed"
    },
    "tags": []
   },
   "outputs": [],
   "source": [
    "def obj_xgb(trial):\n",
    "    params = {\n",
    "        'n_estimators': trial.suggest_int('n_estimators', 100, 1500, step=100),\n",
    "        'max_depth': trial.suggest_int('max_depth', 3, 10),\n",
    "        'learning_rate': trial.suggest_float('learning_rate', 0.001, 0.3, log=True),\n",
    "        'subsample': trial.suggest_float('subsample', 0.5, 1.0),\n",
    "        'colsample_bytree': trial.suggest_float('colsample_bytree', 0.5, 1.0),\n",
    "        'reg_alpha': trial.suggest_float('reg_alpha', 0, 100, step=0.1),\n",
    "        'reg_lambda': trial.suggest_float('reg_lambda', 0, 100, step=0.1),\n",
    "        'gamma': trial.suggest_float('gamma', 0.001, 1.0, log=True),\n",
    "        'objective': 'binary:logistic', \n",
    "        'eval_metric': 'logloss', \n",
    "        'seed': 42\n",
    "    }\n",
    "\n",
    "    model = XGBClassifier(**params)\n",
    "    \n",
    "    kf = StratifiedKFold(n_splits=5, shuffle=True, random_state=seed)\n",
    "\n",
    "    score = 0\n",
    "    for train_idx, valid_idx in kf.split(df_train, greeks_df.Class):\n",
    "        train_df = df_train.iloc[train_idx]\n",
    "        valid_df = df_train.iloc[valid_idx]\n",
    "        X_train, y_train = train_df[train_df.columns[:-1]], train_df.Class\n",
    "        X_valid, y_valid = valid_df[valid_df.columns[:-1]], valid_df.Class\n",
    "\n",
    "        weights = classes_weights[train_idx]\n",
    "        model.fit(X_train, y_train, sample_weight=weights)\n",
    "        y_pred = model.predict_proba(X_valid)\n",
    "        if use_new_pred:\n",
    "            y_pred = calc_new_pred(y_pred)\n",
    "\n",
    "        loss = balanced_log_loss(y_valid, y_pred[:, 1])\n",
    "        score += loss\n",
    "\n",
    "    return score/5\n",
    "    \n",
    "\n",
    "# if do_opt :    \n",
    "#     study = optuna.create_study(sampler=optuna.samplers.TPESampler(seed=seed))#direction='minimize')\n",
    "# #     study.enqueue_trial(xgb_params)\n",
    "#     study.optimize(obj_xgb, n_trials=200)"
   ]
  },
  {
   "cell_type": "code",
   "execution_count": 247,
   "id": "df44c405",
   "metadata": {
    "execution": {
     "iopub.execute_input": "2023-07-17T00:41:00.531255Z",
     "iopub.status.busy": "2023-07-17T00:41:00.530869Z",
     "iopub.status.idle": "2023-07-17T00:41:00.538311Z",
     "shell.execute_reply": "2023-07-17T00:41:00.537476Z"
    },
    "papermill": {
     "duration": 0.054604,
     "end_time": "2023-07-17T00:41:00.540292",
     "exception": false,
     "start_time": "2023-07-17T00:41:00.485688",
     "status": "completed"
    },
    "scrolled": true,
    "tags": []
   },
   "outputs": [
    {
     "data": {
      "text/plain": [
       "{'n_estimators': 1100,\n",
       " 'max_depth': 10,\n",
       " 'learning_rate': 0.15614514347924224,\n",
       " 'subsample': 0.5914988686475774,\n",
       " 'colsample_bytree': 0.6908905550987483,\n",
       " 'reg_alpha': 0.0,\n",
       " 'reg_lambda': 25.8,\n",
       " 'gamma': 0.01968681003733401}"
      ]
     },
     "execution_count": 247,
     "metadata": {},
     "output_type": "execute_result"
    }
   ],
   "source": [
    "# 0.16646757594509132\n",
    "if do_opt :\n",
    "    study = optuna.create_study(sampler=optuna.samplers.TPESampler(seed=seed))#direction='minimize')\n",
    "    study.optimize(obj_xgb, n_trials=200)\n",
    "    xgb_params = dict(study.best_trial.params.items())\n",
    "xgb_params"
   ]
  },
  {
   "cell_type": "code",
   "execution_count": 248,
   "id": "0572dfed",
   "metadata": {
    "execution": {
     "iopub.execute_input": "2023-07-17T00:41:00.632493Z",
     "iopub.status.busy": "2023-07-17T00:41:00.632134Z",
     "iopub.status.idle": "2023-07-17T00:41:00.639741Z",
     "shell.execute_reply": "2023-07-17T00:41:00.638780Z"
    },
    "papermill": {
     "duration": 0.056184,
     "end_time": "2023-07-17T00:41:00.641647",
     "exception": false,
     "start_time": "2023-07-17T00:41:00.585463",
     "status": "completed"
    },
    "scrolled": true,
    "tags": []
   },
   "outputs": [
    {
     "data": {
      "text/plain": [
       "{'n_estimators': 1400,\n",
       " 'max_depth': 6,\n",
       " 'learning_rate': 0.11874831982593327,\n",
       " 'subsample': 0.6511990698691976,\n",
       " 'colsample_bytree': 0.6701953578639556,\n",
       " 'reg_alpha': 0.0,\n",
       " 'reg_lambda': 29.6,\n",
       " 'gamma': 0.0011405697665625514}"
      ]
     },
     "execution_count": 248,
     "metadata": {},
     "output_type": "execute_result"
    }
   ],
   "source": [
    "if do_opt :\n",
    "    study = optuna.create_study(sampler=optuna.samplers.TPESampler(seed=seed+1))#direction='minimize')\n",
    "    study.optimize(obj_xgb, n_trials=200)\n",
    "    xgb_params_2 = dict(study.best_trial.params.items())\n",
    "xgb_params_2"
   ]
  },
  {
   "cell_type": "markdown",
   "id": "023e1238",
   "metadata": {
    "papermill": {
     "duration": 0.04803,
     "end_time": "2023-07-17T00:41:00.734102",
     "exception": false,
     "start_time": "2023-07-17T00:41:00.686072",
     "status": "completed"
    },
    "tags": []
   },
   "source": [
    "### catboost"
   ]
  },
  {
   "cell_type": "code",
   "execution_count": 249,
   "id": "3d99bd62",
   "metadata": {
    "execution": {
     "iopub.execute_input": "2023-07-17T00:41:00.829538Z",
     "iopub.status.busy": "2023-07-17T00:41:00.829136Z",
     "iopub.status.idle": "2023-07-17T00:41:00.839713Z",
     "shell.execute_reply": "2023-07-17T00:41:00.838789Z"
    },
    "papermill": {
     "duration": 0.059817,
     "end_time": "2023-07-17T00:41:00.841563",
     "exception": false,
     "start_time": "2023-07-17T00:41:00.781746",
     "status": "completed"
    },
    "tags": []
   },
   "outputs": [],
   "source": [
    "def obj_cb(trial):\n",
    "    params = {\n",
    "        'iterations' : trial.suggest_int('iterations', 50, 300),                         \n",
    "        'depth' : trial.suggest_int('depth', 4, 10),                                       \n",
    "        'learning_rate' : trial.suggest_float('learning_rate', 0.01, 0.2, log=True),               \n",
    "        'random_strength' :trial.suggest_int('random_strength', 0, 100),                       \n",
    "        'bagging_temperature' :trial.suggest_float('bagging_temperature', 0.01, 100.00, log=True), \n",
    "#         'od_type': trial.suggest_categorical('od_type', ['IncToDec', 'Iter']),\n",
    "        'od_wait' :trial.suggest_int('od_wait', 10, 50)\n",
    "    }\n",
    "\n",
    "    \n",
    "    if use_GPU:\n",
    "        model = CatBoostClassifier(**cb_params, task_type=\"GPU\",\n",
    "                                   use_best_model=True)\n",
    "    else:\n",
    "        model = CatBoostClassifier(**params,\n",
    "                                  use_best_model=True)\n",
    "    \n",
    "    kf = StratifiedKFold(n_splits=5, shuffle=True, random_state=seed)\n",
    "\n",
    "    score = 0\n",
    "    for train_idx, valid_idx in kf.split(df_train, greeks_df.Class):\n",
    "        train_df = df_train.iloc[train_idx]\n",
    "        valid_df = df_train.iloc[valid_idx]\n",
    "        X_train, y_train = train_df[train_df.columns[:-1]], train_df.Class\n",
    "        X_valid, y_valid = valid_df[valid_df.columns[:-1]], valid_df.Class\n",
    "\n",
    "        weights = classes_weights[train_idx]\n",
    "        model.fit(X_train, y_train, logging_level=\"Silent\", sample_weight=weights,\n",
    "                 eval_set=(X_valid, y_valid))\n",
    "        y_pred = model.predict_proba(X_valid)\n",
    "        if use_new_pred:\n",
    "            y_pred = calc_new_pred(y_pred)\n",
    "\n",
    "        loss = balanced_log_loss(y_valid, y_pred[:, 1])\n",
    "        score += loss\n",
    "\n",
    "    return score/5\n",
    "\n",
    "# if do_opt :\n",
    "#     study = optuna.create_study(sampler=optuna.samplers.TPESampler(seed=seed))#direction='minimize')\n",
    "# #     study.enqueue_trial(cb_params)\n",
    "#     study.optimize(obj_cb, n_trials=100)"
   ]
  },
  {
   "cell_type": "code",
   "execution_count": 250,
   "id": "b492a292",
   "metadata": {
    "execution": {
     "iopub.execute_input": "2023-07-17T00:41:00.933743Z",
     "iopub.status.busy": "2023-07-17T00:41:00.933108Z",
     "iopub.status.idle": "2023-07-17T00:41:00.937970Z",
     "shell.execute_reply": "2023-07-17T00:41:00.937004Z"
    },
    "papermill": {
     "duration": 0.052579,
     "end_time": "2023-07-17T00:41:00.940189",
     "exception": false,
     "start_time": "2023-07-17T00:41:00.887610",
     "status": "completed"
    },
    "tags": []
   },
   "outputs": [],
   "source": [
    "# # 0.3161876744027021\n",
    "# if do_opt :\n",
    "#     cb_params = dict(study.best_trial.params.items())\n",
    "# cb_params"
   ]
  },
  {
   "cell_type": "code",
   "execution_count": 251,
   "id": "3f27ca90",
   "metadata": {
    "execution": {
     "iopub.execute_input": "2023-07-17T00:41:01.032005Z",
     "iopub.status.busy": "2023-07-17T00:41:01.031177Z",
     "iopub.status.idle": "2023-07-17T00:41:01.039208Z",
     "shell.execute_reply": "2023-07-17T00:41:01.038214Z"
    },
    "papermill": {
     "duration": 0.055674,
     "end_time": "2023-07-17T00:41:01.041175",
     "exception": false,
     "start_time": "2023-07-17T00:41:00.985501",
     "status": "completed"
    },
    "scrolled": true,
    "tags": []
   },
   "outputs": [
    {
     "data": {
      "text/plain": [
       "{'iterations': 289,\n",
       " 'depth': 4,\n",
       " 'learning_rate': 0.18768446152569845,\n",
       " 'random_strength': 10,\n",
       " 'bagging_temperature': 20.487227440664658,\n",
       " 'od_wait': 22}"
      ]
     },
     "execution_count": 251,
     "metadata": {},
     "output_type": "execute_result"
    }
   ],
   "source": [
    "if do_opt :\n",
    "    study = optuna.create_study(sampler=optuna.samplers.TPESampler(seed=seed))#direction='minimize')\n",
    "    study.optimize(obj_cb, n_trials=100)\n",
    "    cb_params = dict(study.best_trial.params.items())\n",
    "cb_params"
   ]
  },
  {
   "cell_type": "code",
   "execution_count": 252,
   "id": "62cd1acc",
   "metadata": {
    "execution": {
     "iopub.execute_input": "2023-07-17T00:41:01.134802Z",
     "iopub.status.busy": "2023-07-17T00:41:01.133904Z",
     "iopub.status.idle": "2023-07-17T00:41:01.142159Z",
     "shell.execute_reply": "2023-07-17T00:41:01.141234Z"
    },
    "papermill": {
     "duration": 0.058165,
     "end_time": "2023-07-17T00:41:01.144219",
     "exception": false,
     "start_time": "2023-07-17T00:41:01.086054",
     "status": "completed"
    },
    "scrolled": true,
    "tags": []
   },
   "outputs": [
    {
     "data": {
      "text/plain": [
       "{'iterations': 250,\n",
       " 'depth': 4,\n",
       " 'learning_rate': 0.1406204176910051,\n",
       " 'random_strength': 69,\n",
       " 'bagging_temperature': 0.02944175723888104,\n",
       " 'od_wait': 40}"
      ]
     },
     "execution_count": 252,
     "metadata": {},
     "output_type": "execute_result"
    }
   ],
   "source": [
    "if do_opt :\n",
    "    study = optuna.create_study(sampler=optuna.samplers.TPESampler(seed=seed+1))#direction='minimize')\n",
    "    study.optimize(obj_cb, n_trials=100)\n",
    "    cb_params_2 = dict(study.best_trial.params.items())\n",
    "cb_params_2"
   ]
  },
  {
   "cell_type": "code",
   "execution_count": null,
   "id": "3a33fdb2",
   "metadata": {
    "papermill": {
     "duration": 0.045144,
     "end_time": "2023-07-17T00:41:01.233392",
     "exception": false,
     "start_time": "2023-07-17T00:41:01.188248",
     "status": "completed"
    },
    "tags": []
   },
   "outputs": [],
   "source": []
  },
  {
   "cell_type": "markdown",
   "id": "7eeba791",
   "metadata": {
    "papermill": {
     "duration": 0.045095,
     "end_time": "2023-07-17T00:41:01.326498",
     "exception": false,
     "start_time": "2023-07-17T00:41:01.281403",
     "status": "completed"
    },
    "tags": []
   },
   "source": [
    "### random forest"
   ]
  },
  {
   "cell_type": "code",
   "execution_count": 253,
   "id": "b4ab0a63",
   "metadata": {
    "execution": {
     "iopub.execute_input": "2023-07-17T00:41:01.429160Z",
     "iopub.status.busy": "2023-07-17T00:41:01.427980Z",
     "iopub.status.idle": "2023-07-17T00:41:01.449846Z",
     "shell.execute_reply": "2023-07-17T00:41:01.448623Z"
    },
    "papermill": {
     "duration": 0.082103,
     "end_time": "2023-07-17T00:41:01.453139",
     "exception": false,
     "start_time": "2023-07-17T00:41:01.371036",
     "status": "completed"
    },
    "scrolled": true,
    "tags": []
   },
   "outputs": [],
   "source": [
    "def obj_rf(trial):\n",
    "    params = {\n",
    "        'criterion' :trial.suggest_categorical('criterion', ['gini', 'log_loss', 'entropy']),\n",
    "        'bootstrap' : trial.suggest_categorical('bootstrap',[True, False]),\n",
    "        'max_depth' : trial.suggest_int('max_depth', 1, 1000),\n",
    "        'max_features' : trial.suggest_categorical('max_features', ['sqrt', 'log2', None]),\n",
    "        'max_leaf_nodes' : trial.suggest_int('max_leaf_nodes', 2, 300),\n",
    "        'n_estimators' :  trial.suggest_int('n_estimators', 5, 300),\n",
    "        'min_samples_split' : trial.suggest_int('min_samples_split',2,5),\n",
    "        'min_samples_leaf' : trial.suggest_int('min_samples_leaf',1,10) ,      \n",
    "    }\n",
    "    \n",
    "    \n",
    "    model = RandomForestClassifier(**params)\n",
    "    \n",
    "    kf = StratifiedKFold(n_splits=5, shuffle=True, random_state=seed)\n",
    "\n",
    "    score = 0\n",
    "    for train_idx, valid_idx in kf.split(df_train, greeks_df.Class):\n",
    "        train_df = df_train.iloc[train_idx]\n",
    "        valid_df = df_train.iloc[valid_idx]\n",
    "        X_train, y_train = train_df[train_df.columns[:-1]], train_df.Class\n",
    "        X_valid, y_valid = valid_df[valid_df.columns[:-1]], valid_df.Class\n",
    "\n",
    "        weights = classes_weights[train_idx]\n",
    "        model.fit(X_train, y_train, sample_weight=weights)\n",
    "        y_pred = model.predict_proba(X_valid)\n",
    "        loss = balanced_log_loss(y_valid, y_pred[:, 1])\n",
    "        score += loss\n",
    "\n",
    "    return score/5\n",
    "        \n",
    "if do_opt :    \n",
    "    study = optuna.create_study(sampler=optuna.samplers.TPESampler(seed=seed))#direction='minimize')\n",
    "    study.enqueue_trial(rf_params)\n",
    "    study.optimize(obj_rf, n_trials=200)"
   ]
  },
  {
   "cell_type": "code",
   "execution_count": 254,
   "id": "022a2d4a",
   "metadata": {
    "execution": {
     "iopub.execute_input": "2023-07-17T00:41:01.563038Z",
     "iopub.status.busy": "2023-07-17T00:41:01.562680Z",
     "iopub.status.idle": "2023-07-17T00:41:01.569067Z",
     "shell.execute_reply": "2023-07-17T00:41:01.568189Z"
    },
    "papermill": {
     "duration": 0.055694,
     "end_time": "2023-07-17T00:41:01.571134",
     "exception": false,
     "start_time": "2023-07-17T00:41:01.515440",
     "status": "completed"
    },
    "tags": []
   },
   "outputs": [
    {
     "data": {
      "text/plain": [
       "{'criterion': 'entropy',\n",
       " 'bootstrap': False,\n",
       " 'max_depth': 745,\n",
       " 'max_features': 'sqrt',\n",
       " 'max_leaf_nodes': 153,\n",
       " 'n_estimators': 169,\n",
       " 'min_samples_split': 4,\n",
       " 'min_samples_leaf': 7}"
      ]
     },
     "execution_count": 254,
     "metadata": {},
     "output_type": "execute_result"
    }
   ],
   "source": [
    "if do_opt :\n",
    "    rf_params = dict(study.best_trial.params.items())\n",
    "rf_params"
   ]
  },
  {
   "cell_type": "code",
   "execution_count": 255,
   "id": "c47edb4c",
   "metadata": {
    "execution": {
     "iopub.execute_input": "2023-07-17T00:41:01.689794Z",
     "iopub.status.busy": "2023-07-17T00:41:01.689273Z",
     "iopub.status.idle": "2023-07-17T00:41:01.698020Z",
     "shell.execute_reply": "2023-07-17T00:41:01.696819Z"
    },
    "papermill": {
     "duration": 0.086066,
     "end_time": "2023-07-17T00:41:01.704529",
     "exception": false,
     "start_time": "2023-07-17T00:41:01.618463",
     "status": "completed"
    },
    "tags": []
   },
   "outputs": [
    {
     "data": {
      "text/plain": [
       "\"\\nlgbm_params = {'n_estimators': 600,\\n 'reg_alpha': 2.8000000000000003,\\n 'reg_lambda': 12.4,\\n 'num_leaves': 41}\\n \\nxgb_params = {'n_estimators': 800,\\n 'max_depth': 4,\\n 'learning_rate': 0.07321832691960338,\\n 'subsample': 0.7576690053727902,\\n 'colsample_bytree': 0.7481165187056286,\\n 'gamma': 0.4338012239235796}\\n \\ncb_params = {'iterations': 114,\\n 'depth': 4,\\n 'learning_rate': 0.08433020501242801,\\n 'random_strength': 1,\\n 'bagging_temperature': 0.1111714827952525,\\n 'od_wait': 23}\\n\""
      ]
     },
     "execution_count": 255,
     "metadata": {},
     "output_type": "execute_result"
    }
   ],
   "source": [
    "\"\"\"\n",
    "lgbm_params = {'n_estimators': 600,\n",
    " 'reg_alpha': 2.8000000000000003,\n",
    " 'reg_lambda': 12.4,\n",
    " 'num_leaves': 41}\n",
    " \n",
    "xgb_params = {'n_estimators': 800,\n",
    " 'max_depth': 4,\n",
    " 'learning_rate': 0.07321832691960338,\n",
    " 'subsample': 0.7576690053727902,\n",
    " 'colsample_bytree': 0.7481165187056286,\n",
    " 'gamma': 0.4338012239235796}\n",
    " \n",
    "cb_params = {'iterations': 114,\n",
    " 'depth': 4,\n",
    " 'learning_rate': 0.08433020501242801,\n",
    " 'random_strength': 1,\n",
    " 'bagging_temperature': 0.1111714827952525,\n",
    " 'od_wait': 23}\n",
    "\"\"\""
   ]
  },
  {
   "cell_type": "code",
   "execution_count": 256,
   "id": "cc790211",
   "metadata": {
    "execution": {
     "iopub.execute_input": "2023-07-17T00:41:01.813146Z",
     "iopub.status.busy": "2023-07-17T00:41:01.812773Z",
     "iopub.status.idle": "2023-07-17T00:41:01.818685Z",
     "shell.execute_reply": "2023-07-17T00:41:01.817486Z"
    },
    "papermill": {
     "duration": 0.057057,
     "end_time": "2023-07-17T00:41:01.821406",
     "exception": false,
     "start_time": "2023-07-17T00:41:01.764349",
     "status": "completed"
    },
    "tags": []
   },
   "outputs": [],
   "source": [
    "# lgb = LGBMClassifier(boosting_type='gbdt', class_weight='balanced', colsample_bytree=1.0,\n",
    "#                 importance_type='split', learning_rate=0.1, max_depth=-1,\n",
    "#                 min_child_samples=20, min_child_weight=0.001, min_split_gain=0.0,\n",
    "#                 n_estimators=100, n_jobs=-1, num_leaves=31, objective=\"binary\",\n",
    "#                 random_state=42, reg_alpha=0.0, reg_lambda=0.0, silent='warn',\n",
    "#                 subsample=1.0, subsample_for_bin=200000, subsample_freq=0)\n",
    "# xgb = XGBClassifier(base_score=None, booster='gbtree', callbacks=None,\n",
    "#                colsample_bylevel=None, colsample_bynode=None,\n",
    "#                colsample_bytree=None, early_stopping_rounds=None,\n",
    "#                enable_categorical=False, eval_metric=None, feature_types=None,\n",
    "#                gamma=None, gpu_id=None, grow_policy=None, importance_type=None,\n",
    "#                interaction_constraints=None, learning_rate=None, max_bin=None,\n",
    "#                max_cat_threshold=None, max_cat_to_onehot=None,\n",
    "#                max_delta_step=None, max_depth=None, max_leaves=None,\n",
    "#                min_child_weight=None, monotone_constraints=None,\n",
    "#                n_estimators=100, n_jobs=-1, num_parallel_tree=None,\n",
    "#                objective='binary:logistic', predictor=None)\n",
    "\n",
    "# cb = CatBoostClassifier()\n",
    "# tab = TabPFNClassifier(N_ensemble_configurations=64)"
   ]
  },
  {
   "cell_type": "code",
   "execution_count": null,
   "id": "ee0e45e0",
   "metadata": {
    "papermill": {
     "duration": 0.044382,
     "end_time": "2023-07-17T00:41:01.911732",
     "exception": false,
     "start_time": "2023-07-17T00:41:01.867350",
     "status": "completed"
    },
    "tags": []
   },
   "outputs": [],
   "source": []
  },
  {
   "cell_type": "code",
   "execution_count": null,
   "id": "564eb63f",
   "metadata": {
    "papermill": {
     "duration": 0.045413,
     "end_time": "2023-07-17T00:41:02.001849",
     "exception": false,
     "start_time": "2023-07-17T00:41:01.956436",
     "status": "completed"
    },
    "tags": []
   },
   "outputs": [],
   "source": []
  },
  {
   "cell_type": "code",
   "execution_count": 257,
   "id": "7def5531",
   "metadata": {
    "execution": {
     "iopub.execute_input": "2023-07-17T00:41:02.093020Z",
     "iopub.status.busy": "2023-07-17T00:41:02.092635Z",
     "iopub.status.idle": "2023-07-17T00:41:02.853994Z",
     "shell.execute_reply": "2023-07-17T00:41:02.852982Z"
    },
    "papermill": {
     "duration": 0.809633,
     "end_time": "2023-07-17T00:41:02.856400",
     "exception": false,
     "start_time": "2023-07-17T00:41:02.046767",
     "status": "completed"
    },
    "tags": []
   },
   "outputs": [
    {
     "name": "stdout",
     "output_type": "stream",
     "text": [
      "Loading model that can be used for inference only\n",
      "Using a Transformer with 25.82 M parameters\n",
      "Loading model that can be used for inference only\n",
      "Using a Transformer with 25.82 M parameters\n"
     ]
    }
   ],
   "source": [
    "lgb = LGBMClassifier(boosting_type='gbdt', class_weight='balanced', **lgbm_params)\n",
    "lgb2 = LGBMClassifier(boosting_type='gbdt', class_weight='balanced', **lgbm_params_2)\n",
    "\n",
    "xgb = XGBClassifier(\n",
    "    objective = 'binary:logistic', \n",
    "    eval_metric = 'logloss', \n",
    "    scale_pos_weight=4.71,\n",
    "    **xgb_params,\n",
    ")\n",
    "\n",
    "xgb2 = XGBClassifier(\n",
    "    objective = 'binary:logistic', \n",
    "    eval_metric = 'logloss', \n",
    "    scale_pos_weight=4.71,\n",
    "    **xgb_params_2,\n",
    ")\n",
    "\n",
    "\n",
    "rf = RandomForestClassifier(**rf_params)\n",
    "\n",
    "if use_GPU:\n",
    "    cb = CatBoostClassifier(**cb_params, task_type=\"GPU\", auto_class_weights='Balanced')\n",
    "    cb2 = CatBoostClassifier(**cb_params_2, task_type=\"GPU\", auto_class_weights='Balanced')\n",
    "\n",
    "    tab = TabPFNClassifier(N_ensemble_configurations=64, device='cuda:0')\n",
    "    tab2 = TabPFNClassifier(N_ensemble_configurations=32, device='cuda:0')\n",
    "else:\n",
    "    cb = CatBoostClassifier(**cb_params, auto_class_weights='Balanced')\n",
    "    cb2 = CatBoostClassifier(**cb_params_2, auto_class_weights='Balanced')\n",
    "\n",
    "    tab = TabPFNClassifier(N_ensemble_configurations=64)\n",
    "    tab2 = TabPFNClassifier(N_ensemble_configurations=32)\n",
    "\n",
    "# knn = KNeighborsClassifier(n_neighbors=64, metric='euclidean')\n",
    "knn = KNeighborsClassifier(n_neighbors=109, metric='cosine')\n",
    "knn2 = KNeighborsClassifier(n_neighbors=109, metric='cosine')"
   ]
  },
  {
   "cell_type": "code",
   "execution_count": 258,
   "id": "25d28e62",
   "metadata": {
    "execution": {
     "iopub.execute_input": "2023-07-17T00:41:02.954838Z",
     "iopub.status.busy": "2023-07-17T00:41:02.954480Z",
     "iopub.status.idle": "2023-07-17T00:41:02.961350Z",
     "shell.execute_reply": "2023-07-17T00:41:02.960475Z"
    },
    "papermill": {
     "duration": 0.05624,
     "end_time": "2023-07-17T00:41:02.963444",
     "exception": false,
     "start_time": "2023-07-17T00:41:02.907204",
     "status": "completed"
    },
    "tags": []
   },
   "outputs": [],
   "source": [
    "# def obj_knn(trial):\n",
    "#     params = {\n",
    "#         'size' : trial.suggest_int('size', 8, 400),\n",
    "#     }\n",
    "    \n",
    "\n",
    "#     kf = StratifiedKFold(n_splits=5, shuffle=True, random_state=seed)\n",
    "# #     kf = MultilabelStratifiedKFold(n_splits=5 , shuffle=True, random_state=seed)\n",
    "#     score = 0\n",
    "    \n",
    "#     knn = KNeighborsClassifier(n_neighbors=params['size'], metric='cosine')\n",
    "\n",
    "    \n",
    "#     for idx, (train_idx, valid_idx) in enumerate(kf.split(df_train, greeks_df.Class)):\n",
    "#         train_df = df_train.iloc[train_idx]\n",
    "#         valid_df = df_train.iloc[valid_idx]\n",
    "#         X_train, y_train = train_df[train_df.columns[:-1]], train_df.Class\n",
    "#         X_valid, y_valid = valid_df[valid_df.columns[:-1]], valid_df.Class\n",
    "\n",
    "#         weights = classes_weights[train_idx]\n",
    "#         weights2 = classes_weights2[train_idx]\n",
    "\n",
    "\n",
    "#         X = torch.Tensor(train_df[valid_df.columns[:-2]].to_numpy()).to(device)\n",
    "#         with torch.no_grad():\n",
    "#             _, features_train = nn_models[idx](X, None)\n",
    "\n",
    "#         X = torch.Tensor(valid_df[valid_df.columns[:-2]].to_numpy()).to(device)\n",
    "#         with torch.no_grad():\n",
    "#             y_nn, features_valid = nn_models[idx](X, None)\n",
    "#         y_nn = F.softmax(y_nn, dim=1).cpu().detach().numpy()   \n",
    "\n",
    "#         features_train = features_train.detach().cpu().numpy()\n",
    "#         features_valid = features_valid.detach().cpu().numpy()\n",
    "#         X_train2 = features_train #np.hstack([X_train.to_numpy(), features_train])\n",
    "#         X_valid2 = features_valid #np.hstack([X_valid.to_numpy(), features_valid])\n",
    "#         knn.fit(X_train2, y_train)\n",
    "#         y_xxx = knn.predict_proba(X_valid2)\n",
    "#         y_xxx = calc_new_pred(y_xxx)\n",
    "        \n",
    "        \n",
    "#         e_loss = balanced_log_loss(y_valid, y_xxx[:, 1])\n",
    "    \n",
    "#         score += e_loss \n",
    "\n",
    "#     return score/5\n",
    "    \n",
    "    \n",
    "# study = optuna.create_study(sampler=optuna.samplers.TPESampler(seed=seed))#direction='minimize')\n",
    "# study.optimize(obj_knn, n_trials=100)\n",
    "# study.best_trial.params.items()"
   ]
  },
  {
   "cell_type": "markdown",
   "id": "f0f524b2",
   "metadata": {
    "papermill": {
     "duration": 0.045357,
     "end_time": "2023-07-17T00:41:03.054013",
     "exception": false,
     "start_time": "2023-07-17T00:41:03.008656",
     "status": "completed"
    },
    "tags": []
   },
   "source": [
    "## calc cv (5 fold)"
   ]
  },
  {
   "cell_type": "code",
   "execution_count": null,
   "id": "9cfe6779",
   "metadata": {
    "execution": {
     "iopub.execute_input": "2023-07-17T00:41:03.147588Z",
     "iopub.status.busy": "2023-07-17T00:41:03.147208Z",
     "iopub.status.idle": "2023-07-17T00:43:43.673525Z",
     "shell.execute_reply": "2023-07-17T00:43:43.672274Z"
    },
    "papermill": {
     "duration": 160.576183,
     "end_time": "2023-07-17T00:43:43.676029",
     "exception": false,
     "start_time": "2023-07-17T00:41:03.099846",
     "status": "completed"
    },
    "tags": []
   },
   "outputs": [
    {
     "name": "stdout",
     "output_type": "stream",
     "text": [
      "lgbm..\n",
      "lgbm2..\n",
      "xgboost..\n",
      "xgboost2..\n",
      "catboost..\n",
      "catboost2..\n",
      "random forest..\n",
      "nn...\n",
      "xxx..\n",
      "nn2...\n",
      "xxx2..\n",
      "TabPFN..\n",
      "TabPFN2..\n",
      "lgb 0.17050281690721633 lgb2 0.1535024596800222 xgb 0.150530878968965 xgb2 0.13054917546564623 catboost 0.16399396325926438 catboost2 0.21241657851702955 rf 0.30954108127650387 nn 0.3146027244030893 nn2 0.21107085372336365 xxx 0.19266077691574432 xxx2 0.2680504324822319 TabPFN 0.21797924773745186 TabPFN2 0.22729486858159112\n",
      "--> ensamble 0.15366849331725488\n",
      "lgbm..\n",
      "lgbm2..\n",
      "xgboost..\n",
      "xgboost2..\n",
      "catboost..\n",
      "catboost2..\n",
      "random forest..\n",
      "nn...\n",
      "xxx..\n",
      "nn2...\n",
      "xxx2..\n",
      "TabPFN..\n",
      "TabPFN2..\n",
      "lgb 0.13751203597993283 lgb2 0.15019513557065844 xgb 0.19023698957260007 xgb2 0.23563563393602605 catboost 0.22497664449498614 catboost2 0.23303866897097544 rf 0.3038923719390689 nn 0.14991712910543412 nn2 0.1806750520894213 xxx 0.1738178476185251 xxx2 0.17314624691553987 TabPFN 0.165400886997788 TabPFN2 0.14095345252746164\n",
      "--> ensamble 0.08540040248325742\n",
      "lgbm..\n",
      "lgbm2..\n",
      "xgboost..\n",
      "xgboost2..\n",
      "catboost..\n",
      "catboost2..\n",
      "random forest..\n",
      "nn...\n",
      "xxx..\n",
      "nn2...\n",
      "xxx2..\n",
      "TabPFN..\n",
      "TabPFN2..\n",
      "lgb 0.38950803296190156 lgb2 0.47550542865695294 xgb 0.36515164184793175 xgb2 0.45430271916696185 catboost 0.5877710268256292 catboost2 0.54502752564973 rf 0.43682994762680083 nn 0.6537366955651017 nn2 0.3497639378850937 xxx 0.3535024958992311 xxx2 1.071105245730895 TabPFN 0.46016310024081225 TabPFN2 0.5374576709312681\n",
      "--> ensamble 0.280878898640936\n",
      "lgbm..\n",
      "lgbm2..\n",
      "xgboost..\n",
      "xgboost2..\n",
      "catboost..\n",
      "catboost2..\n",
      "random forest..\n",
      "nn...\n",
      "xxx..\n",
      "nn2...\n",
      "xxx2..\n",
      "TabPFN..\n",
      "TabPFN2..\n",
      "lgb 0.1431243648304632 lgb2 0.1787198494515087 xgb 0.12290638827442223 xgb2 0.1270149151517869 catboost 0.2228040161523268 catboost2 0.23348639637097532 rf 0.3241659049494494 nn inf nn2 0.22402475247346684 xxx 0.22006825733984853 xxx2 0.22043171062415423 TabPFN 0.20923155724310302 TabPFN2 0.20008611154653208\n",
      "--> ensamble 0.10440079327673862\n",
      "lgbm..\n",
      "lgbm2..\n",
      "xgboost..\n",
      "xgboost2..\n",
      "catboost..\n",
      "catboost2..\n",
      "random forest..\n",
      "nn...\n",
      "xxx..\n",
      "nn2...\n",
      "xxx2..\n",
      "TabPFN..\n"
     ]
    }
   ],
   "source": [
    "# a = [4.7, 3.9, 0.0, 0.0, 0.0, 2.4, 0.0]\n",
    "a = [2, 2, 0.0, 0.0, 0.0, 1, 0.5]\n",
    "# a = [3.9, 0, 0, 0.0, 0.0, 0.9, 0.5]\n",
    "# a = [4.7, 0.8, 0.5, 0.0, 0.0, 2.2, 0.1]\n",
    "# a = [1.8, 0.7, 0.0, 0.0, 0.0, 1.0, 0]\n",
    "a = [1.1, 1.4, 0.0, 0.0, 0.0, 1.0, 0.1]\n",
    "# a = [2.0, 1.9, 0, 0.0, 0.0, 0.9, 0.5]\n",
    "a = [2.0, 1.4, 0.0, 0.0, 0.0, 1.4, 0.2]\n",
    "a = [1.7, 1.6, 0.5, 0.0, 0.0, 0.4, 0.0]\n",
    "\n",
    "# a = [1.9, 1.6, 0.5, 0.0, 0.1, 0.4, 0.2]\n",
    "\n",
    "\n",
    "def check_best(score, model, cur_best) :\n",
    "    best_score, best_model = cur_best[0], cur_best[1]\n",
    "    if best_score > score :\n",
    "        best_model = model\n",
    "        best_score = score\n",
    "    return [best_score, best_model]\n",
    "\n",
    "inf = 10**10\n",
    "\n",
    "best_model = {\n",
    "    'lgb': [inf, None],\n",
    "    'lgb2': [inf, None],\n",
    "    'xgb' : [inf, None],\n",
    "    'xgb2' : [inf, None],\n",
    "    'cb' : [inf, None],\n",
    "    'cb2' : [inf, None],\n",
    "    'rf' : [inf, None],\n",
    "    'knn' :[inf, None],\n",
    "    'knn2' :[inf, None],\n",
    "    'tab' : [inf, None],    \n",
    "    'tab2' : [inf, None],    \n",
    "}\n",
    "\n",
    "if check_CV:\n",
    "    kf = StratifiedKFold(n_splits=5, shuffle=True, random_state=seed)\n",
    "#     kf = MultilabelStratifiedKFold(n_splits=5 , shuffle=True, random_state=seed)\n",
    "    score = 0\n",
    "    \n",
    "    \n",
    "    y_preds = []\n",
    "    y_true = []\n",
    "    y_len = []\n",
    "    \n",
    "    y_results = [[] for _ in range(len(a))]\n",
    "    y_results2 = []\n",
    "    y_valids = []\n",
    "    \n",
    "    for idx, (train_idx, valid_idx) in enumerate(kf.split(df_train, greeks_df.Class)):\n",
    "        train_df = df_train.iloc[train_idx]\n",
    "        valid_df = df_train.iloc[valid_idx]\n",
    "        X_train, y_train = train_df[train_df.columns[:-1]], train_df.Class\n",
    "        X_valid, y_valid = valid_df[valid_df.columns[:-1]], valid_df.Class\n",
    "\n",
    "    #     # SMOTETomek\n",
    "    #     if use_SMOTE:\n",
    "    #         sm = SMOTETomek(random_state=57)\n",
    "    #         X_train, y_train = sm.fit_resample(X_train, y_train)\n",
    "    #         weights = compute_sample_weight(class_weight='balanced',y=y_train)                              \n",
    "    #     else:\n",
    "        weights = classes_weights[train_idx]\n",
    "        weights2 = classes_weights2[train_idx]\n",
    "\n",
    "\n",
    "        print(\"lgbm..\")\n",
    "        lgb.fit(X_train[lgb_selected], y_train, sample_weight=weights)\n",
    "#         lgb.fit(X_train[lgb_selected], y_train)\n",
    "    \n",
    "        y_lgb = lgb.predict_proba(X_valid[lgb_selected])\n",
    "        print(\"lgbm2..\")\n",
    "        lgb2.fit(X_train, y_train, sample_weight=weights2)\n",
    "        y_lgb2 = lgb2.predict_proba(X_valid)\n",
    "        \n",
    "        print(\"xgboost..\")    \n",
    "        xgb.fit(X_train[lgb_selected], y_train, sample_weight=weights)\n",
    "        y_xgb = xgb.predict_proba(X_valid[lgb_selected])\n",
    "        print(\"xgboost2..\")    \n",
    "        xgb2.fit(X_train, y_train, sample_weight=weights2)\n",
    "        y_xgb2 = xgb2.predict_proba(X_valid)\n",
    "        \n",
    "        \n",
    "        print(\"catboost..\")\n",
    "        cb.fit(X_train[lgb_selected], y_train, logging_level=\"Silent\", sample_weight=weights)\n",
    "#         cb.fit(X_train[lgb_selected], y_train, logging_level=\"Silent\")\n",
    "        y_cb = cb.predict_proba(X_valid[lgb_selected])\n",
    "        print(\"catboost2..\")\n",
    "        cb2.fit(X_train, y_train, logging_level=\"Silent\", sample_weight=weights2)\n",
    "        y_cb2 = cb2.predict_proba(X_valid)\n",
    "        \n",
    "        \n",
    "        \n",
    "        print(\"random forest..\")\n",
    "        rf.fit(X_train, y_train, sample_weight=weights)\n",
    "        y_rf = rf.predict_proba(X_valid)\n",
    "        \n",
    "\n",
    "        print(\"nn...\")\n",
    "        X = torch.Tensor(train_df[valid_df.columns[:-2]].to_numpy()).to(device)\n",
    "        with torch.no_grad():\n",
    "            _, features_train = nn_models[idx](X, None)\n",
    "\n",
    "        X = torch.Tensor(valid_df[valid_df.columns[:-2]].to_numpy()).to(device)\n",
    "        with torch.no_grad():\n",
    "            y_nn, features_valid = nn_models[idx](X, None)\n",
    "        y_nn = F.softmax(y_nn, dim=1).cpu().detach().numpy()   \n",
    "\n",
    "        print(\"xxx..\")\n",
    "        features_train = features_train.detach().cpu().numpy()\n",
    "        features_valid = features_valid.detach().cpu().numpy()\n",
    "        X_train2 = features_train #np.hstack([X_train.to_numpy(), features_train])\n",
    "        X_valid2 = features_valid #np.hstack([X_valid.to_numpy(), features_valid])\n",
    "        knn.fit(X_train2, y_train)\n",
    "        y_xxx = knn.predict_proba(X_valid2)\n",
    "        y_xxx = calc_new_pred(y_xxx)\n",
    "\n",
    "        print(\"nn2...\")\n",
    "        X = torch.Tensor(train_df[valid_df.columns[:-2]].to_numpy()).to(device)\n",
    "        with torch.no_grad():\n",
    "            _, features_train2 = nn_models2[idx](X, None)\n",
    "\n",
    "        X = torch.Tensor(valid_df[valid_df.columns[:-2]].to_numpy()).to(device)\n",
    "        with torch.no_grad():\n",
    "            y_nn2, features_valid2 = nn_models2[idx](X, None)\n",
    "        y_nn2 = F.softmax(y_nn2, dim=1).cpu().detach().numpy()           \n",
    "        \n",
    "        print(\"xxx2..\")\n",
    "        features_train = features_train２.detach().cpu().numpy()\n",
    "        features_valid = features_valid2.detach().cpu().numpy()\n",
    "        X_train2 = features_train #np.hstack([X_train.to_numpy(), features_train])\n",
    "        X_valid2 = features_valid #np.hstack([X_valid.to_numpy(), features_valid])\n",
    "        knn2.fit(X_train2, y_train)#, sample_weight=weights)\n",
    "        y_xxx2 = knn2.predict_proba(X_valid2)\n",
    "        y_xxx2 = calc_new_pred(y_xxx2)\n",
    "        \n",
    "        # ------ noscale data\n",
    "        train_df = df_train_noscale.iloc[train_idx]\n",
    "        valid_df = df_train_noscale.iloc[valid_idx]\n",
    "        X_train, y_train = train_df[train_df.columns[:-1]], train_df.Class\n",
    "        X_valid, y_valid = valid_df[valid_df.columns[:-1]], valid_df.Class\n",
    "        print(\"TabPFN..\")\n",
    "        tab.fit(X_train[lgb_selected], y_train)\n",
    "        y_tab = tab.predict_proba(X_valid[lgb_selected])\n",
    "        y_tab = calc_new_pred(y_tab)\n",
    "        print(\"TabPFN2..\")\n",
    "        tab2.fit(X_train, y_train)\n",
    "        y_tab2 = tab2.predict_proba(X_valid)\n",
    "        y_tab2 = calc_new_pred(y_tab2)\n",
    "        \n",
    "        lgb_loss = balanced_log_loss(y_valid, y_lgb[:, 1])\n",
    "        lgb2_loss = balanced_log_loss(y_valid, y_lgb2[:, 1])\n",
    "        \n",
    "        xgb_loss = balanced_log_loss(y_valid, y_xgb[:, 1])\n",
    "        xgb2_loss = balanced_log_loss(y_valid, y_xgb2[:, 1])\n",
    "\n",
    "        cb_loss = balanced_log_loss(y_valid, y_cb[:, 1])\n",
    "        cb2_loss = balanced_log_loss(y_valid, y_cb2[:, 1])\n",
    "        \n",
    "    \n",
    "        rf_loss = balanced_log_loss(y_valid, y_rf[:, 1])\n",
    "        nn_loss = balanced_log_loss(y_valid, y_nn[:, 1])\n",
    "        nn2_loss = balanced_log_loss(y_valid, y_nn2[:, 1])\n",
    "\n",
    "        xxx_loss = balanced_log_loss(y_valid, y_xxx[:, 1])\n",
    "        xxx2_loss = balanced_log_loss(y_valid, y_xxx2[:, 1])\n",
    "\n",
    "        tab_loss = balanced_log_loss(y_valid, y_tab[:, 1])\n",
    "        tab2_loss = balanced_log_loss(y_valid, y_tab2[:, 1])\n",
    "        \n",
    "        #-------------------------------------------\n",
    "        best_model['lgb'] = check_best(lgb_loss, lgb, best_model['lgb']) \n",
    "        best_model['lgb2'] = check_best(lgb2_loss, lgb2, best_model['lgb2'])\n",
    "\n",
    "        best_model['xgb'] = check_best(xgb_loss, xgb, best_model['xgb'])\n",
    "        best_model['xgb2'] = check_best(xgb2_loss, xgb2, best_model['xgb2']) \n",
    "\n",
    "        best_model['cb'] = check_best(cb_loss, cb, best_model['cb']) \n",
    "        best_model['cb2'] = check_best(cb2_loss, cb2, best_model['cb2']) \n",
    "\n",
    "        best_model['rf'] = check_best(rf_loss, rf, best_model['rf']) \n",
    "\n",
    "        best_model['knn'] = check_best(xxx_loss, knn, best_model['knn']) \n",
    "        best_model['knn2'] = check_best(xxx2_loss, knn2, best_model['knn2']) \n",
    "\n",
    "        best_model['tab'] = check_best(tab_loss, tab, best_model['tab']) \n",
    "        best_model['tab2'] = check_best(tab2_loss, tab2, best_model['tab2']) \n",
    "        #-------------------------------------------\n",
    "\n",
    "\n",
    "#         pred = ((y_lgb + y_xgb + y_cb)/3 + y_rf + y_nn + y_tab)/4\n",
    "        #       b   r.   nn. k  tab\n",
    "\n",
    "        y_results[0].append((y_lgb + y_lgb2)/2)\n",
    "        y_results[1].append((y_xgb + y_xgb2)/2)\n",
    "        y_results[2].append((y_cb + y_cb2)/2)\n",
    "        y_results[3].append(y_xxx2)\n",
    "        y_results[4].append((y_nn + y_nn2)/2)\n",
    "        y_results[5].append(y_xxx )\n",
    "        y_results[6].append((y_tab + y_tab2)/2)\n",
    "        y_valids.append(y_valid)\n",
    "        \n",
    "#         y_results2.append([])\n",
    "#         y_results2[-1].append(y_lgb)\n",
    "#         y_results2[-1].append(y_lgb2)\n",
    "#         y_results2[-1].append(y_xgb)\n",
    "#         y_results2[-1].append(y_xgb2)\n",
    "#         y_results2[-1].append(y_cb)\n",
    "#         y_results2[-1].append(y_cb2)\n",
    "#         y_results2[-1].append(y_rf)\n",
    "#         y_results2[-1].append(y_nn)\n",
    "#         y_results2[-1].append(y_nn2)\n",
    "#         y_results2[-1].append(y_xxx)\n",
    "#         y_results2[-1].append(y_xxx2)\n",
    "#         y_results2[-1].append(y_tab)\n",
    "#         y_results2[-1].append(y_tab2)\n",
    "    \n",
    "        pred = ((y_lgb + y_lgb2)/2*a[0] +\n",
    "                (y_xgb + y_xgb2)/2*a[1] +\n",
    "                (y_cb + y_cb2)/2*a[2] + \n",
    "                y_xxx2 * a[3] +  # ★★★★★★★★★★\n",
    "                (y_nn + y_nn2)/2 * a[4] +\n",
    "                y_xxx *a[5] + \n",
    "                (y_tab + y_tab2)/2*a[6]\n",
    "               )/sum(a)\n",
    "        \n",
    "        \n",
    "#         pred = (\n",
    "#         y_results[0][-1]*a[0] + \n",
    "#         y_results[1][-1]*a[1] + \n",
    "#         y_results[2][-1]*a[2] + \n",
    "#         y_results[3][-1]*a[3] + \n",
    "#         y_results[4][-1]*a[4] +\n",
    "#         y_results[5][-1]*a[5] + \n",
    "#         y_results[6][-1]*a[6]\n",
    "#         )/sum(a)\n",
    "#         pred = calc_new_pred(pred)\n",
    "        \n",
    "#         if use_new_pred:\n",
    "#             pred = calc_new_pred(pred)\n",
    "\n",
    "        y_len.append(len(valid_df))\n",
    "        if len(y_preds) == 0 :\n",
    "            y_preds = np.concatenate([(y_lgb + y_lgb2)/2,(y_xgb + y_xgb2)/2,(y_cb + y_cb2)/2, \n",
    "                                      y_rf, (y_nn+y_nn2)/2, (y_xxx + y_xxx2)/2,\n",
    "                                      (y_tab + y_tab2)/2], axis=1)\n",
    "            y_true = y_valid.to_numpy()\n",
    "        else:\n",
    "            y_preds = np.vstack([y_preds, np.concatenate([(y_lgb + y_lgb2)/2,(y_xgb + y_xgb2)/2,(y_cb + y_cb2)/2,\n",
    "                                                          y_rf, (y_nn+y_nn2)/2, (y_xxx + y_xxx2)/2,\n",
    "                                                          (y_tab + y_tab2)/2], axis=1)])\n",
    "            y_true = np.hstack([y_true, y_valid.to_numpy()])\n",
    "            \n",
    "           \n",
    "        p0 = pred[:, 0]\n",
    "        p0 = sigmoid((p0-0.5)*5.4)\n",
    "#         p0 = sigmoid((p0-0.5)*5)\n",
    "        p0 = (p0 - min(p0))/(max(p0)-min(p0)+1e-15)\n",
    "\n",
    "\n",
    "#         p0[p0 > 0.99] = 1\n",
    "#         p0[p0 < 0.01] = 0\n",
    "                \n",
    "\n",
    "        # 　全モデルが同じ選択の場合は、正解とする(y_rf除く)\n",
    "        th_c0 = 0.75\n",
    "        sel0 = (y_lgb > th_c0)&(y_lgb2 > th_c0)&(y_xgb > th_c0)&(y_xgb2 > th_c0)&(y_cb > th_c0)&(y_cb2 > th_c0)&\\\n",
    "                (y_nn > th_c0)&(y_nn2 > th_c0)&(y_xxx > th_c0)&(y_xxx2 > th_c0)&(y_tab > th_c0)&(y_tab > th_c0)\n",
    "        th_c1 = 0.95\n",
    "        sel1 = (y_lgb > th_c1)&(y_lgb2 > th_c1)&(y_xgb > th_c1)&(y_xgb2 > th_c1)&(y_cb > th_c1)&(y_cb2 > th_c1)&\\\n",
    "                (y_nn > th_c1)&(y_nn2 > th_c1)&(y_xxx > th_c1)&(y_xxx2 > th_c1)&(y_tab > th_c1)&(y_tab > th_c1)\n",
    "        p0[sel0[:, 0]] = 1\n",
    "        p0[sel1[:, 1]] = 0\n",
    "\n",
    "#         p0 = np.clip(p0, 0.0001, 0.9999)\n",
    "        \n",
    "        pred[:,1] = 1-p0\n",
    "        pred[:,0] = p0            \n",
    "        \n",
    "        if use_new_pred:\n",
    "            pred = calc_new_pred(pred)\n",
    "         \n",
    "        e_loss = balanced_log_loss(y_valid, pred[:, 1])\n",
    "        score += e_loss \n",
    "        print(\"lgb\", lgb_loss, \"lgb2\", lgb2_loss,\n",
    "              \"xgb\", xgb_loss, \"xgb2\", xgb2_loss, \n",
    "              \"catboost\", cb_loss, \"catboost2\", cb2_loss, \n",
    "              \"rf\", rf_loss,\n",
    "              \"nn\", nn_loss,   \"nn2\", nn2_loss, \n",
    "              \"xxx\", xxx_loss, \"xxx2\", xxx2_loss, \n",
    "              \"TabPFN\", tab_loss,  \"TabPFN2\", tab2_loss)\n",
    "        print(\"--> ensamble\", e_loss)\n",
    "\n",
    "    print(score/5)\n",
    "    \n",
    "#0.1259729315189732\n",
    "#0.1284580855726015"
   ]
  },
  {
   "cell_type": "code",
   "execution_count": 709,
   "id": "f11234a3",
   "metadata": {
    "execution": {
     "iopub.execute_input": "2023-07-17T00:43:43.786556Z",
     "iopub.status.busy": "2023-07-17T00:43:43.786159Z",
     "iopub.status.idle": "2023-07-17T00:43:43.792079Z",
     "shell.execute_reply": "2023-07-17T00:43:43.791186Z"
    },
    "papermill": {
     "duration": 0.059982,
     "end_time": "2023-07-17T00:43:43.794096",
     "exception": false,
     "start_time": "2023-07-17T00:43:43.734114",
     "status": "completed"
    },
    "tags": []
   },
   "outputs": [],
   "source": [
    "#0.11548808843815825\n",
    "#0.11473594813363204\n",
    "#0.112908310460935  knn single model(xxx and xxx2 are same)\n",
    "# balanced logloss fix 0.19263174592322857\n",
    "# 0.14806873631507628　0.14636876685139916 0.14634833210273676 0.148356396739868\n",
    "# 0.1480426511334014　0.17561098692976188"
   ]
  },
  {
   "cell_type": "code",
   "execution_count": 664,
   "id": "11d91a24",
   "metadata": {},
   "outputs": [
    {
     "data": {
      "text/plain": [
       "{'lgb': [0.07210105684595217,\n",
       "  LGBMClassifier(class_weight='balanced', colsample_bytree=0.7,\n",
       "                 min_child_samples=11, n_estimators=1480, num_leaves=48,\n",
       "                 reg_alpha=0.1, reg_lambda=9.600000000000001, subsample=0.8,\n",
       "                 subsample_freq=1)],\n",
       " 'lgb2': [0.06299814106907531,\n",
       "  LGBMClassifier(class_weight='balanced', colsample_bytree=0.9,\n",
       "                 min_child_samples=21, n_estimators=1260, num_leaves=45,\n",
       "                 reg_lambda=5.0, subsample=0.9, subsample_freq=2)],\n",
       " 'xgb': [0.11723844388143337,\n",
       "  XGBClassifier(base_score=None, booster=None, callbacks=None,\n",
       "                colsample_bylevel=None, colsample_bynode=None,\n",
       "                colsample_bytree=0.6908905550987483, early_stopping_rounds=None,\n",
       "                enable_categorical=False, eval_metric='logloss',\n",
       "                feature_types=None, gamma=0.01968681003733401, gpu_id=None,\n",
       "                grow_policy=None, importance_type=None,\n",
       "                interaction_constraints=None, learning_rate=0.15614514347924224,\n",
       "                max_bin=None, max_cat_threshold=None, max_cat_to_onehot=None,\n",
       "                max_delta_step=None, max_depth=10, max_leaves=None,\n",
       "                min_child_weight=None, missing=nan, monotone_constraints=None,\n",
       "                n_estimators=1100, n_jobs=None, num_parallel_tree=None,\n",
       "                predictor=None, random_state=None, ...)],\n",
       " 'xgb2': [0.0912377267858151,\n",
       "  XGBClassifier(base_score=None, booster=None, callbacks=None,\n",
       "                colsample_bylevel=None, colsample_bynode=None,\n",
       "                colsample_bytree=0.6701953578639556, early_stopping_rounds=None,\n",
       "                enable_categorical=False, eval_metric='logloss',\n",
       "                feature_types=None, gamma=0.0011405697665625514, gpu_id=None,\n",
       "                grow_policy=None, importance_type=None,\n",
       "                interaction_constraints=None, learning_rate=0.11874831982593327,\n",
       "                max_bin=None, max_cat_threshold=None, max_cat_to_onehot=None,\n",
       "                max_delta_step=None, max_depth=6, max_leaves=None,\n",
       "                min_child_weight=None, missing=nan, monotone_constraints=None,\n",
       "                n_estimators=1400, n_jobs=None, num_parallel_tree=None,\n",
       "                predictor=None, random_state=None, ...)],\n",
       " 'cb': [0.11557608129874855,\n",
       "  <catboost.core.CatBoostClassifier at 0xfffeff551bb0>],\n",
       " 'cb2': [0.12369798943719058,\n",
       "  <catboost.core.CatBoostClassifier at 0xfffeff5511f0>],\n",
       " 'rf': [0.2841211437913628,\n",
       "  RandomForestClassifier(bootstrap=False, criterion='entropy', max_depth=745,\n",
       "                         max_leaf_nodes=153, min_samples_leaf=7,\n",
       "                         min_samples_split=4, n_estimators=169)],\n",
       " 'knn': [0.5745533079242914,\n",
       "  KNeighborsClassifier(metric='cosine', n_neighbors=109)],\n",
       " 'knn2': [0.5745533079242914,\n",
       "  KNeighborsClassifier(metric='cosine', n_neighbors=109)],\n",
       " 'tab': [0.165400886997788, TabPFNClassifier(N_ensemble_configurations=64)],\n",
       " 'tab2': [0.14095345252746164, TabPFNClassifier(N_ensemble_configurations=32)]}"
      ]
     },
     "execution_count": 664,
     "metadata": {},
     "output_type": "execute_result"
    }
   ],
   "source": [
    "best_model"
   ]
  },
  {
   "cell_type": "code",
   "execution_count": 665,
   "id": "82210eb4",
   "metadata": {
    "execution": {
     "iopub.execute_input": "2023-07-17T00:43:43.895359Z",
     "iopub.status.busy": "2023-07-17T00:43:43.894359Z",
     "iopub.status.idle": "2023-07-17T00:43:43.899732Z",
     "shell.execute_reply": "2023-07-17T00:43:43.898720Z"
    },
    "papermill": {
     "duration": 0.059114,
     "end_time": "2023-07-17T00:43:43.901802",
     "exception": false,
     "start_time": "2023-07-17T00:43:43.842688",
     "status": "completed"
    },
    "tags": []
   },
   "outputs": [],
   "source": [
    "# weight x2 0.1190407658629042\n",
    "# weight x3 0.11765156785760085\n",
    "# weight x4 0.11633615775844705\n",
    "# weight x5 0.11546517994697347\n",
    "# weight x6 0.11587610229074743\n",
    "# 0.12169594436591682 -> 0.11825007231068611(sel5)\n",
    "# 0.14-(0.12169594436591682-0.11825007231068611)　0.12146115354690076"
   ]
  },
  {
   "cell_type": "code",
   "execution_count": null,
   "id": "58cfd65c",
   "metadata": {
    "papermill": {
     "duration": 0.052187,
     "end_time": "2023-07-17T00:43:44.006248",
     "exception": false,
     "start_time": "2023-07-17T00:43:43.954061",
     "status": "completed"
    },
    "tags": []
   },
   "outputs": [],
   "source": []
  },
  {
   "cell_type": "code",
   "execution_count": 238,
   "id": "4f4fc59b",
   "metadata": {
    "execution": {
     "iopub.execute_input": "2023-07-17T00:43:44.107176Z",
     "iopub.status.busy": "2023-07-17T00:43:44.106497Z",
     "iopub.status.idle": "2023-07-17T00:43:44.112381Z",
     "shell.execute_reply": "2023-07-17T00:43:44.111285Z"
    },
    "papermill": {
     "duration": 0.059135,
     "end_time": "2023-07-17T00:43:44.114875",
     "exception": false,
     "start_time": "2023-07-17T00:43:44.055740",
     "status": "completed"
    },
    "scrolled": false,
    "tags": []
   },
   "outputs": [
    {
     "name": "stderr",
     "output_type": "stream",
     "text": [
      "[I 2023-07-28 12:25:37,202] A new study created in memory with name: no-name-b1baf903-257f-4858-b0b5-5c507468019b\n",
      "/home/ubuntu/python3-venv/lib/python3.8/site-packages/optuna/trial/_trial.py:651: UserWarning: Fixed parameter 'a0' with value 4.9 is out of range for distribution FloatDistribution(high=2.0, log=False, low=0.0, step=0.1).\n",
      "  warnings.warn(\n",
      "/home/ubuntu/python3-venv/lib/python3.8/site-packages/optuna/trial/_trial.py:651: UserWarning: Fixed parameter 'a1' with value 4.4 is out of range for distribution FloatDistribution(high=2.0, log=False, low=0.0, step=0.1).\n",
      "  warnings.warn(\n",
      "[I 2023-07-28 12:25:37,215] Trial 0 finished with value: 0.1768674396806839 and parameters: {'a0': 4.9, 'a1': 4.4, 'a2': 0.0, 'a3': 0.0, 'a4': 0.7000000000000001, 'a5': 2.0, 'a6': 0.0}. Best is trial 0 with value: 0.1768674396806839.\n",
      "[I 2023-07-28 12:25:37,223] Trial 1 finished with value: 0.24251011973440173 and parameters: {'a0': 0.1, 'a1': 0.4, 'a2': 0.8, 'a3': 0.30000000000000004, 'a4': 1.1, 'a5': 2.7, 'a6': 4.1000000000000005}. Best is trial 0 with value: 0.1768674396806839.\n",
      "[I 2023-07-28 12:25:37,230] Trial 2 finished with value: 0.21556355494616794 and parameters: {'a0': 1.9000000000000001, 'a1': 1.0, 'a2': 0.8, 'a3': 0.0, 'a4': 1.8, 'a5': 2.1, 'a6': 2.9000000000000004}. Best is trial 0 with value: 0.1768674396806839.\n",
      "[I 2023-07-28 12:25:37,235] Trial 3 finished with value: 0.22806803665989434 and parameters: {'a0': 0.4, 'a1': 0.9, 'a2': 0.9, 'a3': 0.1, 'a4': 1.9000000000000001, 'a5': 0.8, 'a6': 4.4}. Best is trial 0 with value: 0.1768674396806839.\n",
      "[I 2023-07-28 12:25:37,239] Trial 4 finished with value: 0.23097113774687544 and parameters: {'a0': 0.1, 'a1': 2.0, 'a2': 0.2, 'a3': 0.4, 'a4': 0.1, 'a5': 0.0, 'a6': 3.6}. Best is trial 0 with value: 0.1768674396806839.\n",
      "[I 2023-07-28 12:25:37,243] Trial 5 finished with value: 0.253742899080759 and parameters: {'a0': 0.0, 'a1': 0.0, 'a2': 0.1, 'a3': 0.30000000000000004, 'a4': 0.9, 'a5': 0.1, 'a6': 2.3000000000000003}. Best is trial 0 with value: 0.1768674396806839.\n",
      "[I 2023-07-28 12:25:37,248] Trial 6 finished with value: 0.2213683711894542 and parameters: {'a0': 1.4000000000000001, 'a1': 1.4000000000000001, 'a2': 1.6, 'a3': 0.0, 'a4': 1.8, 'a5': 4.0, 'a6': 3.3000000000000003}. Best is trial 0 with value: 0.1768674396806839.\n",
      "[I 2023-07-28 12:25:37,252] Trial 7 finished with value: 0.2203839027461309 and parameters: {'a0': 1.7000000000000002, 'a1': 1.1, 'a2': 0.4, 'a3': 0.5, 'a4': 1.0, 'a5': 1.4000000000000001, 'a6': 3.4000000000000004}. Best is trial 0 with value: 0.1768674396806839.\n",
      "[I 2023-07-28 12:25:37,255] Trial 8 finished with value: 0.20680857604262756 and parameters: {'a0': 1.5, 'a1': 1.4000000000000001, 'a2': 1.2000000000000002, 'a3': 0.2, 'a4': 1.3, 'a5': 1.5, 'a6': 1.8}. Best is trial 0 with value: 0.1768674396806839.\n",
      "[I 2023-07-28 12:25:37,259] Trial 9 finished with value: 0.22031585296114792 and parameters: {'a0': 0.5, 'a1': 1.9000000000000001, 'a2': 1.6, 'a3': 0.7000000000000001, 'a4': 0.6000000000000001, 'a5': 3.3000000000000003, 'a6': 0.6000000000000001}. Best is trial 0 with value: 0.1768674396806839.\n",
      "[I 2023-07-28 12:25:37,278] Trial 10 finished with value: 0.2340475539793842 and parameters: {'a0': 1.0, 'a1': 1.8, 'a2': 0.5, 'a3': 1.0, 'a4': 0.0, 'a5': 4.6000000000000005, 'a6': 0.2}. Best is trial 0 with value: 0.1768674396806839.\n",
      "[I 2023-07-28 12:25:37,297] Trial 11 finished with value: 0.20851427104371903 and parameters: {'a0': 1.1, 'a1': 1.5, 'a2': 1.3, 'a3': 0.2, 'a4': 1.3, 'a5': 1.7000000000000002, 'a6': 1.5}. Best is trial 0 with value: 0.1768674396806839.\n",
      "[I 2023-07-28 12:25:37,314] Trial 12 finished with value: 0.209036976642032 and parameters: {'a0': 2.0, 'a1': 0.6000000000000001, 'a2': 1.2000000000000002, 'a3': 0.1, 'a4': 0.5, 'a5': 2.5, 'a6': 1.4000000000000001}. Best is trial 0 with value: 0.1768674396806839.\n",
      "[I 2023-07-28 12:25:37,331] Trial 13 finished with value: 0.20941862960662067 and parameters: {'a0': 1.5, 'a1': 0.0, 'a2': 2.0, 'a3': 0.6000000000000001, 'a4': 1.4000000000000001, 'a5': 1.1, 'a6': 1.1}. Best is trial 0 with value: 0.1768674396806839.\n",
      "[I 2023-07-28 12:25:37,348] Trial 14 finished with value: 0.220351336992442 and parameters: {'a0': 0.9, 'a1': 1.5, 'a2': 1.3, 'a3': 0.2, 'a4': 0.5, 'a5': 3.3000000000000003, 'a6': 2.2}. Best is trial 0 with value: 0.1768674396806839.\n",
      "[I 2023-07-28 12:25:37,365] Trial 15 finished with value: 0.22457584210017262 and parameters: {'a0': 0.7000000000000001, 'a1': 0.5, 'a2': 0.5, 'a3': 0.8, 'a4': 1.5, 'a5': 0.7000000000000001, 'a6': 0.1}. Best is trial 0 with value: 0.1768674396806839.\n",
      "[I 2023-07-28 12:25:37,383] Trial 16 finished with value: 0.20563430076442213 and parameters: {'a0': 1.2000000000000002, 'a1': 1.3, 'a2': 1.6, 'a3': 0.0, 'a4': 0.7000000000000001, 'a5': 1.9000000000000001, 'a6': 1.9000000000000001}. Best is trial 0 with value: 0.1768674396806839.\n",
      "[I 2023-07-28 12:25:37,401] Trial 17 finished with value: 0.21455025146309925 and parameters: {'a0': 1.2000000000000002, 'a1': 1.7000000000000002, 'a2': 2.0, 'a3': 0.0, 'a4': 0.7000000000000001, 'a5': 2.3000000000000003, 'a6': 4.9}. Best is trial 0 with value: 0.1768674396806839.\n",
      "[I 2023-07-28 12:25:37,418] Trial 18 finished with value: 0.2124331580729665 and parameters: {'a0': 1.8, 'a1': 0.8, 'a2': 1.6, 'a3': 0.4, 'a4': 0.2, 'a5': 3.2, 'a6': 0.8}. Best is trial 0 with value: 0.1768674396806839.\n",
      "[I 2023-07-28 12:25:37,436] Trial 19 finished with value: 0.23768676077325668 and parameters: {'a0': 0.7000000000000001, 'a1': 1.2000000000000002, 'a2': 0.0, 'a3': 1.0, 'a4': 0.30000000000000004, 'a5': 2.0, 'a6': 2.7}. Best is trial 0 with value: 0.1768674396806839.\n",
      "[I 2023-07-28 12:25:37,458] Trial 20 finished with value: 0.21747583220621453 and parameters: {'a0': 1.3, 'a1': 0.30000000000000004, 'a2': 1.8, 'a3': 0.1, 'a4': 0.8, 'a5': 2.9000000000000004, 'a6': 1.8}. Best is trial 0 with value: 0.1768674396806839.\n",
      "[I 2023-07-28 12:25:37,479] Trial 21 finished with value: 0.20820127659615126 and parameters: {'a0': 1.6, 'a1': 1.3, 'a2': 1.0, 'a3': 0.2, 'a4': 1.2000000000000002, 'a5': 1.6, 'a6': 1.8}. Best is trial 0 with value: 0.1768674396806839.\n",
      "[I 2023-07-28 12:25:37,497] Trial 22 finished with value: 0.20192915518126592 and parameters: {'a0': 0.8, 'a1': 1.6, 'a2': 1.1, 'a3': 0.0, 'a4': 1.6, 'a5': 1.2000000000000002, 'a6': 0.7000000000000001}. Best is trial 0 with value: 0.1768674396806839.\n",
      "[I 2023-07-28 12:25:37,515] Trial 23 finished with value: 0.19126067618613496 and parameters: {'a0': 0.8, 'a1': 1.7000000000000002, 'a2': 1.4000000000000001, 'a3': 0.0, 'a4': 1.6, 'a5': 0.6000000000000001, 'a6': 0.4}. Best is trial 0 with value: 0.1768674396806839.\n",
      "[I 2023-07-28 12:25:37,532] Trial 24 finished with value: 0.198129624761166 and parameters: {'a0': 0.8, 'a1': 1.7000000000000002, 'a2': 0.7000000000000001, 'a3': 0.1, 'a4': 1.6, 'a5': 0.4, 'a6': 0.6000000000000001}. Best is trial 0 with value: 0.1768674396806839.\n",
      "[I 2023-07-28 12:25:37,550] Trial 25 finished with value: 0.20246523832056237 and parameters: {'a0': 0.4, 'a1': 2.0, 'a2': 0.30000000000000004, 'a3': 0.1, 'a4': 2.0, 'a5': 0.5, 'a6': 0.0}. Best is trial 0 with value: 0.1768674396806839.\n",
      "[I 2023-07-28 12:25:37,567] Trial 26 finished with value: 0.21388108429186065 and parameters: {'a0': 0.5, 'a1': 0.7000000000000001, 'a2': 0.6000000000000001, 'a3': 0.30000000000000004, 'a4': 1.6, 'a5': 0.5, 'a6': 0.4}. Best is trial 0 with value: 0.1768674396806839.\n",
      "[I 2023-07-28 12:25:37,585] Trial 27 finished with value: 0.19857157488608762 and parameters: {'a0': 0.9, 'a1': 1.8, 'a2': 0.7000000000000001, 'a3': 0.1, 'a4': 1.7000000000000002, 'a5': 0.30000000000000004, 'a6': 0.8}. Best is trial 0 with value: 0.1768674396806839.\n",
      "[I 2023-07-28 12:25:37,603] Trial 28 finished with value: 0.21726073578123165 and parameters: {'a0': 0.6000000000000001, 'a1': 0.2, 'a2': 1.4000000000000001, 'a3': 0.4, 'a4': 1.1, 'a5': 0.9, 'a6': 1.3}. Best is trial 0 with value: 0.1768674396806839.\n",
      "[I 2023-07-28 12:25:37,620] Trial 29 finished with value: 0.22227885106068265 and parameters: {'a0': 0.2, 'a1': 1.7000000000000002, 'a2': 0.0, 'a3': 0.30000000000000004, 'a4': 1.1, 'a5': 1.1, 'a6': 1.0}. Best is trial 0 with value: 0.1768674396806839.\n",
      "[I 2023-07-28 12:25:37,639] Trial 30 finished with value: 0.21621294091091237 and parameters: {'a0': 1.0, 'a1': 1.1, 'a2': 0.9, 'a3': 0.0, 'a4': 1.5, 'a5': 2.7, 'a6': 0.4}. Best is trial 0 with value: 0.1768674396806839.\n"
     ]
    },
    {
     "name": "stderr",
     "output_type": "stream",
     "text": [
      "[I 2023-07-28 12:25:37,658] Trial 31 finished with value: 0.19080043379300776 and parameters: {'a0': 0.9, 'a1': 1.8, 'a2': 0.7000000000000001, 'a3': 0.1, 'a4': 1.7000000000000002, 'a5': 0.30000000000000004, 'a6': 0.0}. Best is trial 0 with value: 0.1768674396806839.\n",
      "[I 2023-07-28 12:25:37,676] Trial 32 finished with value: 0.19452761341871438 and parameters: {'a0': 0.8, 'a1': 1.6, 'a2': 0.8, 'a3': 0.1, 'a4': 2.0, 'a5': 0.30000000000000004, 'a6': 0.0}. Best is trial 0 with value: 0.1768674396806839.\n",
      "[I 2023-07-28 12:25:37,695] Trial 33 finished with value: 0.1967102578343886 and parameters: {'a0': 1.1, 'a1': 0.9, 'a2': 0.8, 'a3': 0.2, 'a4': 2.0, 'a5': 0.1, 'a6': 0.0}. Best is trial 0 with value: 0.1768674396806839.\n",
      "[I 2023-07-28 12:25:37,714] Trial 34 finished with value: 0.2002284438574141 and parameters: {'a0': 0.30000000000000004, 'a1': 2.0, 'a2': 1.0, 'a3': 0.0, 'a4': 1.8, 'a5': 0.9, 'a6': 0.30000000000000004}. Best is trial 0 with value: 0.1768674396806839.\n",
      "[I 2023-07-28 12:25:37,734] Trial 35 finished with value: 0.19883904264784463 and parameters: {'a0': 0.7000000000000001, 'a1': 1.6, 'a2': 0.2, 'a3': 0.1, 'a4': 1.9000000000000001, 'a5': 0.0, 'a6': 0.0}. Best is trial 0 with value: 0.1768674396806839.\n",
      "[I 2023-07-28 12:25:37,754] Trial 36 finished with value: 0.20105132082730237 and parameters: {'a0': 0.9, 'a1': 1.9000000000000001, 'a2': 0.9, 'a3': 0.30000000000000004, 'a4': 1.9000000000000001, 'a5': 0.7000000000000001, 'a6': 0.4}. Best is trial 0 with value: 0.1768674396806839.\n",
      "[I 2023-07-28 12:25:37,773] Trial 37 finished with value: 0.20989909343963348 and parameters: {'a0': 2.0, 'a1': 1.1, 'a2': 1.4000000000000001, 'a3': 0.0, 'a4': 1.7000000000000002, 'a5': 0.2, 'a6': 4.1000000000000005}. Best is trial 0 with value: 0.1768674396806839.\n",
      "[I 2023-07-28 12:25:37,792] Trial 38 finished with value: 0.24327596851609642 and parameters: {'a0': 0.5, 'a1': 0.9, 'a2': 0.30000000000000004, 'a3': 0.5, 'a4': 0.9, 'a5': 4.0, 'a6': 1.2000000000000002}. Best is trial 0 with value: 0.1768674396806839.\n",
      "[I 2023-07-28 12:25:37,811] Trial 39 finished with value: 0.20909971525961496 and parameters: {'a0': 1.3, 'a1': 1.4000000000000001, 'a2': 0.6000000000000001, 'a3': 0.2, 'a4': 2.0, 'a5': 1.2000000000000002, 'a6': 1.0}. Best is trial 0 with value: 0.1768674396806839.\n",
      "[I 2023-07-28 12:25:37,880] Trial 40 finished with value: 0.22829960651719708 and parameters: {'a0': 0.8, 'a1': 1.9000000000000001, 'a2': 0.8, 'a3': 0.1, 'a4': 1.7000000000000002, 'a5': 5.0, 'a6': 0.5}. Best is trial 0 with value: 0.1768674396806839.\n",
      "[I 2023-07-28 12:25:37,900] Trial 41 finished with value: 0.19815599752034285 and parameters: {'a0': 1.1, 'a1': 0.9, 'a2': 0.7000000000000001, 'a3': 0.2, 'a4': 2.0, 'a5': 0.2, 'a6': 0.0}. Best is trial 0 with value: 0.1768674396806839.\n",
      "[I 2023-07-28 12:25:37,920] Trial 42 finished with value: 0.21355151933527944 and parameters: {'a0': 0.0, 'a1': 0.7000000000000001, 'a2': 0.8, 'a3': 0.0, 'a4': 1.8, 'a5': 0.6000000000000001, 'a6': 0.2}. Best is trial 0 with value: 0.1768674396806839.\n",
      "[I 2023-07-28 12:25:37,941] Trial 43 finished with value: 0.19447125253130607 and parameters: {'a0': 1.0, 'a1': 1.0, 'a2': 1.0, 'a3': 0.1, 'a4': 1.9000000000000001, 'a5': 0.1, 'a6': 0.2}. Best is trial 0 with value: 0.1768674396806839.\n",
      "[I 2023-07-28 12:25:37,960] Trial 44 finished with value: 0.2049950380684243 and parameters: {'a0': 1.0, 'a1': 1.0, 'a2': 1.1, 'a3': 0.1, 'a4': 1.9000000000000001, 'a5': 0.9, 'a6': 0.8}. Best is trial 0 with value: 0.1768674396806839.\n",
      "[I 2023-07-28 12:25:37,983] Trial 45 finished with value: 0.19450819645429368 and parameters: {'a0': 0.6000000000000001, 'a1': 1.2000000000000002, 'a2': 1.1, 'a3': 0.0, 'a4': 1.8, 'a5': 0.0, 'a6': 0.30000000000000004}. Best is trial 0 with value: 0.1768674396806839.\n",
      "[I 2023-07-28 12:25:38,005] Trial 46 finished with value: 0.2145662473236952 and parameters: {'a0': 0.6000000000000001, 'a1': 1.2000000000000002, 'a2': 1.4000000000000001, 'a3': 0.0, 'a4': 1.4000000000000001, 'a5': 0.0, 'a6': 3.0}. Best is trial 0 with value: 0.1768674396806839.\n",
      "[I 2023-07-28 12:25:38,027] Trial 47 finished with value: 0.1989233285848225 and parameters: {'a0': 0.6000000000000001, 'a1': 0.5, 'a2': 1.2000000000000002, 'a3': 0.0, 'a4': 1.5, 'a5': 0.5, 'a6': 0.30000000000000004}. Best is trial 0 with value: 0.1768674396806839.\n",
      "[I 2023-07-28 12:25:38,047] Trial 48 finished with value: 0.23233122521122013 and parameters: {'a0': 0.4, 'a1': 1.0, 'a2': 1.5, 'a3': 0.8, 'a4': 1.8, 'a5': 3.7, 'a6': 0.5}. Best is trial 0 with value: 0.1768674396806839.\n",
      "[I 2023-07-28 12:25:38,067] Trial 49 finished with value: 0.20525296779813207 and parameters: {'a0': 1.4000000000000001, 'a1': 1.3, 'a2': 1.1, 'a3': 0.1, 'a4': 1.3, 'a5': 1.4000000000000001, 'a6': 1.5}. Best is trial 0 with value: 0.1768674396806839.\n",
      "[I 2023-07-28 12:25:38,087] Trial 50 finished with value: 0.18315596521498984 and parameters: {'a0': 1.8, 'a1': 0.8, 'a2': 1.7000000000000002, 'a3': 0.2, 'a4': 0.5, 'a5': 0.0, 'a6': 0.7000000000000001}. Best is trial 0 with value: 0.1768674396806839.\n",
      "[I 2023-07-28 12:25:38,108] Trial 51 finished with value: 0.1740112716516607 and parameters: {'a0': 1.7000000000000002, 'a1': 0.8, 'a2': 1.8, 'a3': 0.2, 'a4': 0.4, 'a5': 0.0, 'a6': 0.2}. Best is trial 51 with value: 0.1740112716516607.\n",
      "[I 2023-07-28 12:25:38,127] Trial 52 finished with value: 0.18522410159698888 and parameters: {'a0': 1.8, 'a1': 0.7000000000000001, 'a2': 1.9000000000000001, 'a3': 0.30000000000000004, 'a4': 0.4, 'a5': 0.30000000000000004, 'a6': 0.9}. Best is trial 51 with value: 0.1740112716516607.\n",
      "[I 2023-07-28 12:25:38,146] Trial 53 finished with value: 0.1906982295099275 and parameters: {'a0': 1.6, 'a1': 0.7000000000000001, 'a2': 1.8, 'a3': 0.30000000000000004, 'a4': 0.4, 'a5': 0.7000000000000001, 'a6': 0.9}. Best is trial 51 with value: 0.1740112716516607.\n",
      "[I 2023-07-28 12:25:38,166] Trial 54 finished with value: 0.20083736977860664 and parameters: {'a0': 1.8, 'a1': 0.7000000000000001, 'a2': 1.8, 'a3': 0.30000000000000004, 'a4': 0.4, 'a5': 1.8, 'a6': 1.0}. Best is trial 51 with value: 0.1740112716516607.\n",
      "[I 2023-07-28 12:25:38,187] Trial 55 finished with value: 0.21263032847644192 and parameters: {'a0': 1.7000000000000002, 'a1': 0.5, 'a2': 1.8, 'a3': 0.4, 'a4': 0.5, 'a5': 2.2, 'a6': 2.2}. Best is trial 51 with value: 0.1740112716516607.\n",
      "[I 2023-07-28 12:25:38,208] Trial 56 finished with value: 0.18735026851208286 and parameters: {'a0': 1.6, 'a1': 0.8, 'a2': 1.9000000000000001, 'a3': 0.30000000000000004, 'a4': 0.2, 'a5': 0.8, 'a6': 0.7000000000000001}. Best is trial 51 with value: 0.1740112716516607.\n",
      "[I 2023-07-28 12:25:38,228] Trial 57 finished with value: 0.19741514816498001 and parameters: {'a0': 1.6, 'a1': 0.8, 'a2': 1.9000000000000001, 'a3': 0.5, 'a4': 0.1, 'a5': 0.7000000000000001, 'a6': 1.6}. Best is trial 51 with value: 0.1740112716516607.\n",
      "[I 2023-07-28 12:25:38,248] Trial 58 finished with value: 0.19365095671637061 and parameters: {'a0': 1.9000000000000001, 'a1': 0.6000000000000001, 'a2': 1.7000000000000002, 'a3': 0.4, 'a4': 0.30000000000000004, 'a5': 1.1, 'a6': 0.7000000000000001}. Best is trial 51 with value: 0.1740112716516607.\n",
      "[I 2023-07-28 12:25:38,270] Trial 59 finished with value: 0.19644316898855296 and parameters: {'a0': 1.8, 'a1': 0.8, 'a2': 1.9000000000000001, 'a3': 0.30000000000000004, 'a4': 0.6000000000000001, 'a5': 1.4000000000000001, 'a6': 0.9}. Best is trial 51 with value: 0.1740112716516607.\n",
      "[I 2023-07-28 12:25:38,293] Trial 60 finished with value: 0.19987127376825092 and parameters: {'a0': 1.6, 'a1': 0.4, 'a2': 2.0, 'a3': 0.6000000000000001, 'a4': 0.30000000000000004, 'a5': 0.8, 'a6': 1.2000000000000002}. Best is trial 51 with value: 0.1740112716516607.\n",
      "[I 2023-07-28 12:25:38,317] Trial 61 finished with value: 0.17974487999433336 and parameters: {'a0': 1.9000000000000001, 'a1': 0.6000000000000001, 'a2': 1.7000000000000002, 'a3': 0.2, 'a4': 0.4, 'a5': 0.30000000000000004, 'a6': 0.6000000000000001}. Best is trial 51 with value: 0.1740112716516607.\n",
      "[I 2023-07-28 12:25:38,340] Trial 62 finished with value: 0.18075324504589618 and parameters: {'a0': 1.9000000000000001, 'a1': 0.6000000000000001, 'a2': 1.7000000000000002, 'a3': 0.2, 'a4': 0.4, 'a5': 0.4, 'a6': 0.6000000000000001}. Best is trial 51 with value: 0.1740112716516607.\n"
     ]
    },
    {
     "name": "stderr",
     "output_type": "stream",
     "text": [
      "[I 2023-07-28 12:25:38,362] Trial 63 finished with value: 0.1751040305097594 and parameters: {'a0': 1.9000000000000001, 'a1': 0.6000000000000001, 'a2': 1.7000000000000002, 'a3': 0.2, 'a4': 0.0, 'a5': 0.30000000000000004, 'a6': 0.6000000000000001}. Best is trial 51 with value: 0.1740112716516607.\n",
      "[I 2023-07-28 12:25:38,382] Trial 64 finished with value: 0.1737534517269395 and parameters: {'a0': 2.0, 'a1': 0.6000000000000001, 'a2': 1.7000000000000002, 'a3': 0.2, 'a4': 0.0, 'a5': 0.2, 'a6': 0.6000000000000001}. Best is trial 64 with value: 0.1737534517269395.\n",
      "[I 2023-07-28 12:25:38,404] Trial 65 finished with value: 0.17575503308318724 and parameters: {'a0': 2.0, 'a1': 0.6000000000000001, 'a2': 1.7000000000000002, 'a3': 0.2, 'a4': 0.0, 'a5': 0.4, 'a6': 0.6000000000000001}. Best is trial 64 with value: 0.1737534517269395.\n",
      "[I 2023-07-28 12:25:38,426] Trial 66 finished with value: 0.17737933406027154 and parameters: {'a0': 1.9000000000000001, 'a1': 0.30000000000000004, 'a2': 1.7000000000000002, 'a3': 0.2, 'a4': 0.0, 'a5': 0.4, 'a6': 0.6000000000000001}. Best is trial 64 with value: 0.1737534517269395.\n",
      "[I 2023-07-28 12:25:38,447] Trial 67 finished with value: 0.1772097930936759 and parameters: {'a0': 2.0, 'a1': 0.30000000000000004, 'a2': 1.6, 'a3': 0.2, 'a4': 0.0, 'a5': 0.5, 'a6': 0.5}. Best is trial 64 with value: 0.1737534517269395.\n",
      "[I 2023-07-28 12:25:38,468] Trial 68 finished with value: 0.17359110573311062 and parameters: {'a0': 2.0, 'a1': 0.1, 'a2': 1.5, 'a3': 0.2, 'a4': 0.0, 'a5': 0.5, 'a6': 0.2}. Best is trial 68 with value: 0.17359110573311062.\n",
      "[I 2023-07-28 12:25:38,489] Trial 69 finished with value: 0.1889804262193066 and parameters: {'a0': 2.0, 'a1': 0.1, 'a2': 1.5, 'a3': 0.4, 'a4': 0.0, 'a5': 1.0, 'a6': 0.2}. Best is trial 68 with value: 0.17359110573311062.\n",
      "[I 2023-07-28 12:25:38,509] Trial 70 finished with value: 0.21033995709204317 and parameters: {'a0': 2.0, 'a1': 0.0, 'a2': 1.5, 'a3': 0.2, 'a4': 0.1, 'a5': 0.5, 'a6': 3.9000000000000004}. Best is trial 68 with value: 0.17359110573311062.\n",
      "[I 2023-07-28 12:25:38,531] Trial 71 finished with value: 0.17488443607561416 and parameters: {'a0': 1.7000000000000002, 'a1': 0.30000000000000004, 'a2': 1.6, 'a3': 0.2, 'a4': 0.0, 'a5': 0.2, 'a6': 0.5}. Best is trial 68 with value: 0.17359110573311062.\n",
      "[I 2023-07-28 12:25:38,552] Trial 72 finished with value: 0.17074308027735946 and parameters: {'a0': 1.7000000000000002, 'a1': 0.2, 'a2': 1.6, 'a3': 0.2, 'a4': 0.1, 'a5': 0.2, 'a6': 0.2}. Best is trial 72 with value: 0.17074308027735946.\n",
      "[I 2023-07-28 12:25:38,573] Trial 73 finished with value: 0.17074308027735946 and parameters: {'a0': 1.7000000000000002, 'a1': 0.2, 'a2': 1.6, 'a3': 0.2, 'a4': 0.1, 'a5': 0.2, 'a6': 0.2}. Best is trial 72 with value: 0.17074308027735946.\n",
      "[I 2023-07-28 12:25:38,595] Trial 74 finished with value: 0.1710929101390277 and parameters: {'a0': 1.7000000000000002, 'a1': 0.1, 'a2': 1.6, 'a3': 0.2, 'a4': 0.1, 'a5': 0.2, 'a6': 0.2}. Best is trial 72 with value: 0.17074308027735946.\n",
      "[I 2023-07-28 12:25:38,615] Trial 75 finished with value: 0.17364936276559634 and parameters: {'a0': 1.7000000000000002, 'a1': 0.1, 'a2': 1.5, 'a3': 0.30000000000000004, 'a4': 0.1, 'a5': 0.2, 'a6': 0.1}. Best is trial 72 with value: 0.17074308027735946.\n",
      "[I 2023-07-28 12:25:38,635] Trial 76 finished with value: 0.17634384445121504 and parameters: {'a0': 1.7000000000000002, 'a1': 0.1, 'a2': 1.5, 'a3': 0.30000000000000004, 'a4': 0.2, 'a5': 0.1, 'a6': 0.2}. Best is trial 72 with value: 0.17074308027735946.\n",
      "[I 2023-07-28 12:25:38,656] Trial 77 finished with value: 0.17456960825322645 and parameters: {'a0': 1.5, 'a1': 0.1, 'a2': 1.6, 'a3': 0.30000000000000004, 'a4': 0.1, 'a5': 0.2, 'a6': 0.1}. Best is trial 72 with value: 0.17074308027735946.\n",
      "[I 2023-07-28 12:25:38,677] Trial 78 finished with value: 0.17630428598948342 and parameters: {'a0': 1.5, 'a1': 0.1, 'a2': 1.3, 'a3': 0.30000000000000004, 'a4': 0.1, 'a5': 0.2, 'a6': 0.1}. Best is trial 72 with value: 0.17074308027735946.\n",
      "[I 2023-07-28 12:25:38,699] Trial 79 finished with value: 0.1851972368543075 and parameters: {'a0': 1.5, 'a1': 0.2, 'a2': 1.6, 'a3': 0.4, 'a4': 0.1, 'a5': 0.6000000000000001, 'a6': 0.1}. Best is trial 72 with value: 0.17074308027735946.\n",
      "[I 2023-07-28 12:25:38,720] Trial 80 finished with value: 0.18128423253964399 and parameters: {'a0': 1.4000000000000001, 'a1': 0.2, 'a2': 1.5, 'a3': 0.30000000000000004, 'a4': 0.2, 'a5': 0.0, 'a6': 0.30000000000000004}. Best is trial 72 with value: 0.17074308027735946.\n",
      "[I 2023-07-28 12:25:38,742] Trial 81 finished with value: 0.175671053383534 and parameters: {'a0': 1.7000000000000002, 'a1': 0.0, 'a2': 1.6, 'a3': 0.2, 'a4': 0.1, 'a5': 0.2, 'a6': 0.4}. Best is trial 72 with value: 0.17074308027735946.\n",
      "[I 2023-07-28 12:25:38,764] Trial 82 finished with value: 0.170757785847224 and parameters: {'a0': 1.7000000000000002, 'a1': 0.1, 'a2': 1.3, 'a3': 0.2, 'a4': 0.2, 'a5': 0.1, 'a6': 0.1}. Best is trial 72 with value: 0.17074308027735946.\n",
      "[I 2023-07-28 12:25:38,786] Trial 83 finished with value: 0.170757785847224 and parameters: {'a0': 1.7000000000000002, 'a1': 0.1, 'a2': 1.3, 'a3': 0.2, 'a4': 0.2, 'a5': 0.1, 'a6': 0.1}. Best is trial 72 with value: 0.17074308027735946.\n",
      "[I 2023-07-28 12:25:38,806] Trial 84 finished with value: 0.16581217234637852 and parameters: {'a0': 1.7000000000000002, 'a1': 0.2, 'a2': 1.3, 'a3': 0.1, 'a4': 0.2, 'a5': 0.1, 'a6': 0.1}. Best is trial 84 with value: 0.16581217234637852.\n",
      "[I 2023-07-28 12:25:38,827] Trial 85 finished with value: 0.1704482551505229 and parameters: {'a0': 1.8, 'a1': 0.2, 'a2': 1.3, 'a3': 0.1, 'a4': 0.2, 'a5': 0.1, 'a6': 0.30000000000000004}. Best is trial 84 with value: 0.16581217234637852.\n",
      "[I 2023-07-28 12:25:38,850] Trial 86 finished with value: 0.17323311277086897 and parameters: {'a0': 1.8, 'a1': 0.2, 'a2': 1.3, 'a3': 0.1, 'a4': 0.2, 'a5': 0.6000000000000001, 'a6': 0.0}. Best is trial 84 with value: 0.16581217234637852.\n",
      "[I 2023-07-28 12:25:38,871] Trial 87 finished with value: 0.176196758472774 and parameters: {'a0': 1.8, 'a1': 0.2, 'a2': 1.3, 'a3': 0.1, 'a4': 0.30000000000000004, 'a5': 0.4, 'a6': 0.30000000000000004}. Best is trial 84 with value: 0.16581217234637852.\n",
      "[I 2023-07-28 12:25:38,893] Trial 88 finished with value: 0.21464381556121137 and parameters: {'a0': 1.8, 'a1': 0.4, 'a2': 1.3, 'a3': 0.1, 'a4': 0.2, 'a5': 0.6000000000000001, 'a6': 4.800000000000001}. Best is trial 84 with value: 0.16581217234637852.\n",
      "[I 2023-07-28 12:25:38,914] Trial 89 finished with value: 0.16573583281615262 and parameters: {'a0': 1.6, 'a1': 0.0, 'a2': 1.2000000000000002, 'a3': 0.1, 'a4': 0.2, 'a5': 0.0, 'a6': 0.0}. Best is trial 89 with value: 0.16573583281615262.\n",
      "[I 2023-07-28 12:25:38,936] Trial 90 finished with value: 0.16647423741611553 and parameters: {'a0': 1.6, 'a1': 0.0, 'a2': 1.2000000000000002, 'a3': 0.1, 'a4': 0.30000000000000004, 'a5': 0.1, 'a6': 0.0}. Best is trial 89 with value: 0.16573583281615262.\n",
      "[I 2023-07-28 12:25:38,959] Trial 91 finished with value: 0.16647423741611553 and parameters: {'a0': 1.6, 'a1': 0.0, 'a2': 1.2000000000000002, 'a3': 0.1, 'a4': 0.30000000000000004, 'a5': 0.1, 'a6': 0.0}. Best is trial 89 with value: 0.16573583281615262.\n",
      "[I 2023-07-28 12:25:38,981] Trial 92 finished with value: 0.16647423741611553 and parameters: {'a0': 1.6, 'a1': 0.0, 'a2': 1.2000000000000002, 'a3': 0.1, 'a4': 0.30000000000000004, 'a5': 0.1, 'a6': 0.0}. Best is trial 89 with value: 0.16573583281615262.\n",
      "[I 2023-07-28 12:25:39,005] Trial 93 finished with value: 0.16647423741611553 and parameters: {'a0': 1.6, 'a1': 0.0, 'a2': 1.2000000000000002, 'a3': 0.1, 'a4': 0.30000000000000004, 'a5': 0.1, 'a6': 0.0}. Best is trial 89 with value: 0.16573583281615262.\n",
      "[I 2023-07-28 12:25:39,028] Trial 94 finished with value: 0.16766429631413254 and parameters: {'a0': 1.6, 'a1': 0.0, 'a2': 1.2000000000000002, 'a3': 0.1, 'a4': 0.30000000000000004, 'a5': 0.0, 'a6': 0.0}. Best is trial 89 with value: 0.16573583281615262.\n",
      "[I 2023-07-28 12:25:39,050] Trial 95 finished with value: 0.1680957525729215 and parameters: {'a0': 1.5, 'a1': 0.0, 'a2': 1.2000000000000002, 'a3': 0.1, 'a4': 0.30000000000000004, 'a5': 0.0, 'a6': 0.0}. Best is trial 89 with value: 0.16573583281615262.\n",
      "[I 2023-07-28 12:25:39,073] Trial 96 finished with value: 0.1680957525729215 and parameters: {'a0': 1.5, 'a1': 0.0, 'a2': 1.2000000000000002, 'a3': 0.1, 'a4': 0.30000000000000004, 'a5': 0.0, 'a6': 0.0}. Best is trial 89 with value: 0.16573583281615262.\n"
     ]
    },
    {
     "name": "stderr",
     "output_type": "stream",
     "text": [
      "[I 2023-07-28 12:25:39,095] Trial 97 finished with value: 0.16856837494130988 and parameters: {'a0': 1.4000000000000001, 'a1': 0.0, 'a2': 1.2000000000000002, 'a3': 0.1, 'a4': 0.30000000000000004, 'a5': 0.0, 'a6': 0.0}. Best is trial 89 with value: 0.16573583281615262.\n",
      "[I 2023-07-28 12:25:39,118] Trial 98 finished with value: 0.16856837494130988 and parameters: {'a0': 1.4000000000000001, 'a1': 0.0, 'a2': 1.2000000000000002, 'a3': 0.1, 'a4': 0.30000000000000004, 'a5': 0.0, 'a6': 0.0}. Best is trial 89 with value: 0.16573583281615262.\n",
      "[I 2023-07-28 12:25:39,141] Trial 99 finished with value: 0.16711192375536854 and parameters: {'a0': 1.6, 'a1': 0.0, 'a2': 1.2000000000000002, 'a3': 0.0, 'a4': 0.5, 'a5': 0.0, 'a6': 0.0}. Best is trial 89 with value: 0.16573583281615262.\n",
      "[I 2023-07-28 12:25:39,164] Trial 100 finished with value: 0.18632231876948094 and parameters: {'a0': 1.3, 'a1': 0.0, 'a2': 1.0, 'a3': 0.0, 'a4': 0.6000000000000001, 'a5': 0.4, 'a6': 0.4}. Best is trial 89 with value: 0.16573583281615262.\n",
      "[I 2023-07-28 12:25:39,186] Trial 101 finished with value: 0.1634657828038723 and parameters: {'a0': 1.5, 'a1': 0.0, 'a2': 1.2000000000000002, 'a3': 0.0, 'a4': 0.30000000000000004, 'a5': 0.0, 'a6': 0.0}. Best is trial 101 with value: 0.1634657828038723.\n",
      "[I 2023-07-28 12:25:39,208] Trial 102 finished with value: 0.1675024505720759 and parameters: {'a0': 1.5, 'a1': 0.0, 'a2': 1.2000000000000002, 'a3': 0.0, 'a4': 0.5, 'a5': 0.0, 'a6': 0.0}. Best is trial 101 with value: 0.1634657828038723.\n",
      "[I 2023-07-28 12:25:39,231] Trial 103 finished with value: 0.17682213715699444 and parameters: {'a0': 1.6, 'a1': 0.0, 'a2': 1.1, 'a3': 0.0, 'a4': 0.5, 'a5': 0.1, 'a6': 0.4}. Best is trial 101 with value: 0.1634657828038723.\n",
      "[I 2023-07-28 12:25:39,252] Trial 104 finished with value: 0.17327796971222015 and parameters: {'a0': 1.5, 'a1': 0.0, 'a2': 1.1, 'a3': 0.0, 'a4': 0.6000000000000001, 'a5': 0.30000000000000004, 'a6': 0.0}. Best is trial 101 with value: 0.1634657828038723.\n",
      "[I 2023-07-28 12:25:39,274] Trial 105 finished with value: 0.17447306127664441 and parameters: {'a0': 1.6, 'a1': 0.0, 'a2': 1.2000000000000002, 'a3': 0.0, 'a4': 0.4, 'a5': 0.0, 'a6': 0.30000000000000004}. Best is trial 101 with value: 0.1634657828038723.\n",
      "[I 2023-07-28 12:25:39,296] Trial 106 finished with value: 0.1763095865276083 and parameters: {'a0': 1.6, 'a1': 0.0, 'a2': 1.4000000000000001, 'a3': 0.0, 'a4': 0.8, 'a5': 0.30000000000000004, 'a6': 0.1}. Best is trial 101 with value: 0.1634657828038723.\n",
      "[I 2023-07-28 12:25:39,318] Trial 107 finished with value: 0.20697860265317133 and parameters: {'a0': 1.4000000000000001, 'a1': 0.1, 'a2': 1.1, 'a3': 0.0, 'a4': 0.30000000000000004, 'a5': 0.1, 'a6': 2.5}. Best is trial 101 with value: 0.1634657828038723.\n",
      "[I 2023-07-28 12:25:39,340] Trial 108 finished with value: 0.17734246400448106 and parameters: {'a0': 1.5, 'a1': 0.0, 'a2': 1.0, 'a3': 0.1, 'a4': 0.4, 'a5': 0.4, 'a6': 0.0}. Best is trial 101 with value: 0.1634657828038723.\n",
      "[I 2023-07-28 12:25:39,361] Trial 109 finished with value: 0.17584610003813247 and parameters: {'a0': 1.6, 'a1': 0.0, 'a2': 1.2000000000000002, 'a3': 0.0, 'a4': 0.5, 'a5': 0.0, 'a6': 0.30000000000000004}. Best is trial 101 with value: 0.1634657828038723.\n",
      "[I 2023-07-28 12:25:39,382] Trial 110 finished with value: 0.21502012660668307 and parameters: {'a0': 1.3, 'a1': 0.1, 'a2': 0.9, 'a3': 0.1, 'a4': 0.30000000000000004, 'a5': 0.30000000000000004, 'a6': 3.1}. Best is trial 101 with value: 0.1634657828038723.\n",
      "[I 2023-07-28 12:25:39,404] Trial 111 finished with value: 0.1680957525729215 and parameters: {'a0': 1.5, 'a1': 0.0, 'a2': 1.2000000000000002, 'a3': 0.1, 'a4': 0.30000000000000004, 'a5': 0.0, 'a6': 0.0}. Best is trial 101 with value: 0.1634657828038723.\n",
      "[I 2023-07-28 12:25:39,427] Trial 112 finished with value: 0.17341869716819164 and parameters: {'a0': 1.6, 'a1': 0.0, 'a2': 1.2000000000000002, 'a3': 0.1, 'a4': 0.5, 'a5': 0.1, 'a6': 0.1}. Best is trial 101 with value: 0.1634657828038723.\n",
      "[I 2023-07-28 12:25:39,450] Trial 113 finished with value: 0.18058451232742756 and parameters: {'a0': 1.5, 'a1': 0.1, 'a2': 1.2000000000000002, 'a3': 0.1, 'a4': 0.4, 'a5': 0.0, 'a6': 0.4}. Best is trial 101 with value: 0.1634657828038723.\n",
      "[I 2023-07-28 12:25:39,472] Trial 114 finished with value: 0.16603474974720847 and parameters: {'a0': 1.6, 'a1': 0.0, 'a2': 1.1, 'a3': 0.0, 'a4': 0.30000000000000004, 'a5': 0.30000000000000004, 'a6': 0.0}. Best is trial 101 with value: 0.1634657828038723.\n",
      "[I 2023-07-28 12:25:39,495] Trial 115 finished with value: 0.20767356977064327 and parameters: {'a0': 1.6, 'a1': 0.1, 'a2': 1.1, 'a3': 0.0, 'a4': 0.30000000000000004, 'a5': 2.4000000000000004, 'a6': 0.1}. Best is trial 101 with value: 0.1634657828038723.\n",
      "[I 2023-07-28 12:25:39,517] Trial 116 finished with value: 0.21702880791995055 and parameters: {'a0': 1.4000000000000001, 'a1': 0.0, 'a2': 1.1, 'a3': 0.0, 'a4': 0.2, 'a5': 2.9000000000000004, 'a6': 0.2}. Best is trial 101 with value: 0.1634657828038723.\n",
      "[I 2023-07-28 12:25:39,540] Trial 117 finished with value: 0.18068701895123185 and parameters: {'a0': 1.5, 'a1': 0.1, 'a2': 1.0, 'a3': 0.0, 'a4': 0.4, 'a5': 0.30000000000000004, 'a6': 0.5}. Best is trial 101 with value: 0.1634657828038723.\n",
      "[I 2023-07-28 12:25:39,563] Trial 118 finished with value: 0.20723540348994107 and parameters: {'a0': 1.2000000000000002, 'a1': 0.0, 'a2': 1.4000000000000001, 'a3': 0.9, 'a4': 0.5, 'a5': 0.4, 'a6': 0.0}. Best is trial 101 with value: 0.1634657828038723.\n",
      "[I 2023-07-28 12:25:39,588] Trial 119 finished with value: 0.17330212265348358 and parameters: {'a0': 1.6, 'a1': 0.2, 'a2': 1.3, 'a3': 0.1, 'a4': 0.30000000000000004, 'a5': 0.1, 'a6': 0.30000000000000004}. Best is trial 101 with value: 0.1634657828038723.\n",
      "[I 2023-07-28 12:25:39,613] Trial 120 finished with value: 0.20281583840971007 and parameters: {'a0': 1.6, 'a1': 0.1, 'a2': 1.1, 'a3': 0.0, 'a4': 0.7000000000000001, 'a5': 0.5, 'a6': 2.0}. Best is trial 101 with value: 0.1634657828038723.\n",
      "[I 2023-07-28 12:25:39,638] Trial 121 finished with value: 0.16702773090277587 and parameters: {'a0': 1.5, 'a1': 0.0, 'a2': 1.2000000000000002, 'a3': 0.1, 'a4': 0.30000000000000004, 'a5': 0.1, 'a6': 0.0}. Best is trial 101 with value: 0.1634657828038723.\n",
      "[I 2023-07-28 12:25:39,663] Trial 122 finished with value: 0.17212559238556002 and parameters: {'a0': 1.5, 'a1': 0.0, 'a2': 1.2000000000000002, 'a3': 0.1, 'a4': 0.2, 'a5': 0.2, 'a6': 0.2}. Best is trial 101 with value: 0.1634657828038723.\n",
      "[I 2023-07-28 12:25:39,685] Trial 123 finished with value: 0.16763389223794964 and parameters: {'a0': 1.4000000000000001, 'a1': 0.0, 'a2': 1.2000000000000002, 'a3': 0.0, 'a4': 0.4, 'a5': 0.1, 'a6': 0.1}. Best is trial 101 with value: 0.1634657828038723.\n",
      "[I 2023-07-28 12:25:39,709] Trial 124 finished with value: 0.1721076551073494 and parameters: {'a0': 1.6, 'a1': 0.30000000000000004, 'a2': 1.1, 'a3': 0.0, 'a4': 0.4, 'a5': 0.30000000000000004, 'a6': 0.2}. Best is trial 101 with value: 0.1634657828038723.\n",
      "[I 2023-07-28 12:25:39,731] Trial 125 finished with value: 0.16694654572504924 and parameters: {'a0': 1.4000000000000001, 'a1': 0.1, 'a2': 1.3, 'a3': 0.0, 'a4': 0.4, 'a5': 0.1, 'a6': 0.1}. Best is trial 101 with value: 0.1634657828038723.\n",
      "[I 2023-07-28 12:25:39,755] Trial 126 finished with value: 0.17577509399308036 and parameters: {'a0': 1.4000000000000001, 'a1': 0.1, 'a2': 1.3, 'a3': 0.0, 'a4': 0.4, 'a5': 0.2, 'a6': 0.4}. Best is trial 101 with value: 0.1634657828038723.\n",
      "[I 2023-07-28 12:25:39,777] Trial 127 finished with value: 0.17137884640068862 and parameters: {'a0': 1.3, 'a1': 0.1, 'a2': 1.4000000000000001, 'a3': 0.0, 'a4': 0.6000000000000001, 'a5': 0.1, 'a6': 0.1}. Best is trial 101 with value: 0.1634657828038723.\n",
      "[I 2023-07-28 12:25:39,800] Trial 128 finished with value: 0.22395005501386084 and parameters: {'a0': 1.4000000000000001, 'a1': 0.2, 'a2': 1.0, 'a3': 0.0, 'a4': 0.4, 'a5': 3.7, 'a6': 0.30000000000000004}. Best is trial 101 with value: 0.1634657828038723.\n",
      "[I 2023-07-28 12:25:39,824] Trial 129 finished with value: 0.1758275561181814 and parameters: {'a0': 1.5, 'a1': 0.1, 'a2': 1.4000000000000001, 'a3': 0.0, 'a4': 0.5, 'a5': 0.5, 'a6': 0.1}. Best is trial 101 with value: 0.1634657828038723.\n"
     ]
    },
    {
     "name": "stderr",
     "output_type": "stream",
     "text": [
      "[I 2023-07-28 12:25:39,849] Trial 130 finished with value: 0.17240952703245954 and parameters: {'a0': 1.2000000000000002, 'a1': 0.0, 'a2': 1.1, 'a3': 0.0, 'a4': 0.2, 'a5': 0.30000000000000004, 'a6': 0.2}. Best is trial 101 with value: 0.1634657828038723.\n",
      "[I 2023-07-28 12:25:39,874] Trial 131 finished with value: 0.16607557475948648 and parameters: {'a0': 1.6, 'a1': 0.0, 'a2': 1.3, 'a3': 0.1, 'a4': 0.30000000000000004, 'a5': 0.1, 'a6': 0.0}. Best is trial 101 with value: 0.1634657828038723.\n",
      "[I 2023-07-28 12:25:39,898] Trial 132 finished with value: 0.2131202888420652 and parameters: {'a0': 1.6, 'a1': 0.0, 'a2': 1.3, 'a3': 0.1, 'a4': 0.30000000000000004, 'a5': 0.2, 'a6': 3.6}. Best is trial 101 with value: 0.1634657828038723.\n",
      "[I 2023-07-28 12:25:39,925] Trial 133 finished with value: 0.17006947654056995 and parameters: {'a0': 1.7000000000000002, 'a1': 0.1, 'a2': 1.3, 'a3': 0.1, 'a4': 0.4, 'a5': 0.1, 'a6': 0.1}. Best is trial 101 with value: 0.1634657828038723.\n",
      "[I 2023-07-28 12:25:39,951] Trial 134 finished with value: 0.1662668844125313 and parameters: {'a0': 1.5, 'a1': 0.0, 'a2': 1.3, 'a3': 0.0, 'a4': 0.2, 'a5': 0.4, 'a6': 0.0}. Best is trial 101 with value: 0.1634657828038723.\n",
      "[I 2023-07-28 12:25:39,976] Trial 135 finished with value: 0.16592073089289688 and parameters: {'a0': 1.5, 'a1': 0.1, 'a2': 1.3, 'a3': 0.0, 'a4': 0.2, 'a5': 0.4, 'a6': 0.0}. Best is trial 101 with value: 0.1634657828038723.\n",
      "[I 2023-07-28 12:25:40,001] Trial 136 finished with value: 0.18117518781374337 and parameters: {'a0': 1.7000000000000002, 'a1': 0.1, 'a2': 1.4000000000000001, 'a3': 0.1, 'a4': 0.2, 'a5': 0.7000000000000001, 'a6': 0.30000000000000004}. Best is trial 101 with value: 0.1634657828038723.\n",
      "[I 2023-07-28 12:25:40,025] Trial 137 finished with value: 0.16502567172727364 and parameters: {'a0': 1.6, 'a1': 0.2, 'a2': 1.3, 'a3': 0.0, 'a4': 0.2, 'a5': 0.4, 'a6': 0.0}. Best is trial 101 with value: 0.1634657828038723.\n",
      "[I 2023-07-28 12:25:40,048] Trial 138 finished with value: 0.18358227496005808 and parameters: {'a0': 1.5, 'a1': 0.30000000000000004, 'a2': 1.3, 'a3': 0.1, 'a4': 0.2, 'a5': 0.6000000000000001, 'a6': 0.5}. Best is trial 101 with value: 0.1634657828038723.\n",
      "[I 2023-07-28 12:25:40,071] Trial 139 finished with value: 0.1693520331067643 and parameters: {'a0': 1.6, 'a1': 0.2, 'a2': 1.4000000000000001, 'a3': 0.0, 'a4': 0.2, 'a5': 0.4, 'a6': 0.2}. Best is trial 101 with value: 0.1634657828038723.\n",
      "[I 2023-07-28 12:25:40,095] Trial 140 finished with value: 0.2244345652671697 and parameters: {'a0': 1.7000000000000002, 'a1': 0.2, 'a2': 1.3, 'a3': 0.1, 'a4': 0.30000000000000004, 'a5': 4.6000000000000005, 'a6': 0.0}. Best is trial 101 with value: 0.1634657828038723.\n",
      "[I 2023-07-28 12:25:40,130] Trial 141 finished with value: 0.1652425573037089 and parameters: {'a0': 1.6, 'a1': 0.1, 'a2': 1.2000000000000002, 'a3': 0.0, 'a4': 0.30000000000000004, 'a5': 0.30000000000000004, 'a6': 0.0}. Best is trial 101 with value: 0.1634657828038723.\n",
      "[I 2023-07-28 12:25:40,157] Trial 142 finished with value: 0.16784510700319616 and parameters: {'a0': 1.6, 'a1': 0.1, 'a2': 1.3, 'a3': 0.0, 'a4': 0.2, 'a5': 0.4, 'a6': 0.1}. Best is trial 101 with value: 0.1634657828038723.\n",
      "[I 2023-07-28 12:25:40,182] Trial 143 finished with value: 0.19645533752377578 and parameters: {'a0': 1.5, 'a1': 0.1, 'a2': 1.3, 'a3': 0.6000000000000001, 'a4': 0.30000000000000004, 'a5': 0.5, 'a6': 0.2}. Best is trial 101 with value: 0.1634657828038723.\n",
      "[I 2023-07-28 12:25:40,209] Trial 144 finished with value: 0.17495826004018164 and parameters: {'a0': 1.7000000000000002, 'a1': 0.1, 'a2': 1.1, 'a3': 0.0, 'a4': 0.1, 'a5': 0.8, 'a6': 0.0}. Best is trial 101 with value: 0.1634657828038723.\n",
      "[I 2023-07-28 12:25:40,233] Trial 145 finished with value: 0.178351655420837 and parameters: {'a0': 1.6, 'a1': 0.2, 'a2': 1.2000000000000002, 'a3': 0.1, 'a4': 0.30000000000000004, 'a5': 0.30000000000000004, 'a6': 0.4}. Best is trial 101 with value: 0.1634657828038723.\n",
      "[I 2023-07-28 12:25:40,257] Trial 146 finished with value: 0.18041878551636675 and parameters: {'a0': 1.5, 'a1': 0.0, 'a2': 1.4000000000000001, 'a3': 0.0, 'a4': 1.0, 'a5': 0.2, 'a6': 0.2}. Best is trial 101 with value: 0.1634657828038723.\n",
      "[I 2023-07-28 12:25:40,281] Trial 147 finished with value: 0.17458352998569962 and parameters: {'a0': 1.7000000000000002, 'a1': 0.2, 'a2': 1.2000000000000002, 'a3': 0.1, 'a4': 0.2, 'a5': 0.6000000000000001, 'a6': 0.0}. Best is trial 101 with value: 0.1634657828038723.\n",
      "[I 2023-07-28 12:25:40,306] Trial 148 finished with value: 0.17252792893346025 and parameters: {'a0': 1.6, 'a1': 0.0, 'a2': 1.3, 'a3': 0.0, 'a4': 0.30000000000000004, 'a5': 0.30000000000000004, 'a6': 0.30000000000000004}. Best is trial 101 with value: 0.1634657828038723.\n",
      "[I 2023-07-28 12:25:40,330] Trial 149 finished with value: 0.19868441377346585 and parameters: {'a0': 1.4000000000000001, 'a1': 0.1, 'a2': 1.1, 'a3': 0.7000000000000001, 'a4': 0.1, 'a5': 0.4, 'a6': 0.1}. Best is trial 101 with value: 0.1634657828038723.\n",
      "[I 2023-07-28 12:25:40,355] Trial 150 finished with value: 0.20157708052574658 and parameters: {'a0': 1.5, 'a1': 0.30000000000000004, 'a2': 1.3, 'a3': 0.1, 'a4': 0.2, 'a5': 2.0, 'a6': 0.1}. Best is trial 101 with value: 0.1634657828038723.\n",
      "[I 2023-07-28 12:25:40,378] Trial 151 finished with value: 0.16093498689097052 and parameters: {'a0': 1.6, 'a1': 0.0, 'a2': 1.2000000000000002, 'a3': 0.0, 'a4': 0.30000000000000004, 'a5': 0.1, 'a6': 0.0}. Best is trial 151 with value: 0.16093498689097052.\n",
      "[I 2023-07-28 12:25:40,403] Trial 152 finished with value: 0.1628927874855432 and parameters: {'a0': 1.6, 'a1': 0.0, 'a2': 1.2000000000000002, 'a3': 0.0, 'a4': 0.30000000000000004, 'a5': 0.2, 'a6': 0.0}. Best is trial 151 with value: 0.16093498689097052.\n",
      "[I 2023-07-28 12:25:40,427] Trial 153 finished with value: 0.1602793496196218 and parameters: {'a0': 1.6, 'a1': 0.0, 'a2': 1.2000000000000002, 'a3': 0.0, 'a4': 0.2, 'a5': 0.2, 'a6': 0.0}. Best is trial 153 with value: 0.1602793496196218.\n",
      "[I 2023-07-28 12:25:40,452] Trial 154 finished with value: 0.1606202206213976 and parameters: {'a0': 1.6, 'a1': 0.0, 'a2': 1.1, 'a3': 0.0, 'a4': 0.2, 'a5': 0.2, 'a6': 0.0}. Best is trial 153 with value: 0.1602793496196218.\n",
      "[I 2023-07-28 12:25:40,476] Trial 155 finished with value: 0.16903462817178447 and parameters: {'a0': 1.7000000000000002, 'a1': 0.0, 'a2': 1.1, 'a3': 0.0, 'a4': 0.2, 'a5': 0.2, 'a6': 0.30000000000000004}. Best is trial 153 with value: 0.1602793496196218.\n",
      "[I 2023-07-28 12:25:40,501] Trial 156 finished with value: 0.17187537654496993 and parameters: {'a0': 1.6, 'a1': 0.0, 'a2': 1.2000000000000002, 'a3': 0.0, 'a4': 0.1, 'a5': 0.5, 'a6': 0.2}. Best is trial 153 with value: 0.1602793496196218.\n",
      "[I 2023-07-28 12:25:40,528] Trial 157 finished with value: 0.16321201629400361 and parameters: {'a0': 1.7000000000000002, 'a1': 0.1, 'a2': 1.0, 'a3': 0.0, 'a4': 0.2, 'a5': 0.30000000000000004, 'a6': 0.0}. Best is trial 153 with value: 0.1602793496196218.\n",
      "[I 2023-07-28 12:25:40,553] Trial 158 finished with value: 0.17944759705229243 and parameters: {'a0': 1.7000000000000002, 'a1': 0.1, 'a2': 0.9, 'a3': 0.0, 'a4': 0.2, 'a5': 0.7000000000000001, 'a6': 0.2}. Best is trial 153 with value: 0.1602793496196218.\n",
      "[I 2023-07-28 12:25:40,580] Trial 159 finished with value: 0.16016075468332497 and parameters: {'a0': 1.8, 'a1': 0.1, 'a2': 1.0, 'a3': 0.0, 'a4': 0.1, 'a5': 0.30000000000000004, 'a6': 0.0}. Best is trial 159 with value: 0.16016075468332497.\n",
      "[I 2023-07-28 12:25:40,606] Trial 160 finished with value: 0.16569871672308142 and parameters: {'a0': 1.8, 'a1': 0.2, 'a2': 1.0, 'a3': 0.0, 'a4': 0.1, 'a5': 0.4, 'a6': 0.1}. Best is trial 159 with value: 0.16016075468332497.\n",
      "[I 2023-07-28 12:25:40,631] Trial 161 finished with value: 0.16621719715093375 and parameters: {'a0': 1.8, 'a1': 0.2, 'a2': 0.9, 'a3': 0.0, 'a4': 0.1, 'a5': 0.4, 'a6': 0.1}. Best is trial 159 with value: 0.16016075468332497.\n",
      "[I 2023-07-28 12:25:40,661] Trial 162 finished with value: 0.16568415035815548 and parameters: {'a0': 1.8, 'a1': 0.4, 'a2': 0.9, 'a3': 0.0, 'a4': 0.1, 'a5': 0.4, 'a6': 0.1}. Best is trial 159 with value: 0.16016075468332497.\n",
      "[I 2023-07-28 12:25:40,687] Trial 163 finished with value: 0.17473473416622262 and parameters: {'a0': 1.8, 'a1': 0.4, 'a2': 0.9, 'a3': 0.0, 'a4': 0.1, 'a5': 0.5, 'a6': 0.4}. Best is trial 159 with value: 0.16016075468332497.\n"
     ]
    },
    {
     "name": "stderr",
     "output_type": "stream",
     "text": [
      "[I 2023-07-28 12:25:40,713] Trial 164 finished with value: 0.16338102497762336 and parameters: {'a0': 1.9000000000000001, 'a1': 0.2, 'a2': 0.8, 'a3': 0.0, 'a4': 0.1, 'a5': 0.30000000000000004, 'a6': 0.1}. Best is trial 159 with value: 0.16016075468332497.\n",
      "[I 2023-07-28 12:25:40,739] Trial 165 finished with value: 0.16278600968457638 and parameters: {'a0': 1.9000000000000001, 'a1': 0.30000000000000004, 'a2': 1.0, 'a3': 0.0, 'a4': 0.0, 'a5': 0.30000000000000004, 'a6': 0.2}. Best is trial 159 with value: 0.16016075468332497.\n",
      "[I 2023-07-28 12:25:40,765] Trial 166 finished with value: 0.1724513432063623 and parameters: {'a0': 1.9000000000000001, 'a1': 0.30000000000000004, 'a2': 1.0, 'a3': 0.0, 'a4': 0.0, 'a5': 0.6000000000000001, 'a6': 0.30000000000000004}. Best is trial 159 with value: 0.16016075468332497.\n",
      "[I 2023-07-28 12:25:40,794] Trial 167 finished with value: 0.16364169182136873 and parameters: {'a0': 1.9000000000000001, 'a1': 0.30000000000000004, 'a2': 0.8, 'a3': 0.0, 'a4': 0.0, 'a5': 0.30000000000000004, 'a6': 0.2}. Best is trial 159 with value: 0.16016075468332497.\n",
      "[I 2023-07-28 12:25:40,822] Trial 168 finished with value: 0.16393576279446692 and parameters: {'a0': 1.9000000000000001, 'a1': 0.4, 'a2': 0.7000000000000001, 'a3': 0.0, 'a4': 0.0, 'a5': 0.30000000000000004, 'a6': 0.2}. Best is trial 159 with value: 0.16016075468332497.\n",
      "[I 2023-07-28 12:25:40,850] Trial 169 finished with value: 0.1715179302517818 and parameters: {'a0': 1.9000000000000001, 'a1': 0.4, 'a2': 0.7000000000000001, 'a3': 0.0, 'a4': 0.0, 'a5': 0.30000000000000004, 'a6': 0.5}. Best is trial 159 with value: 0.16016075468332497.\n",
      "[I 2023-07-28 12:25:40,878] Trial 170 finished with value: 0.16466168841351495 and parameters: {'a0': 1.9000000000000001, 'a1': 0.30000000000000004, 'a2': 0.6000000000000001, 'a3': 0.0, 'a4': 0.0, 'a5': 0.30000000000000004, 'a6': 0.2}. Best is trial 159 with value: 0.16016075468332497.\n",
      "[I 2023-07-28 12:25:40,905] Trial 171 finished with value: 0.16377612594406943 and parameters: {'a0': 1.9000000000000001, 'a1': 0.5, 'a2': 0.7000000000000001, 'a3': 0.0, 'a4': 0.0, 'a5': 0.30000000000000004, 'a6': 0.2}. Best is trial 159 with value: 0.16016075468332497.\n",
      "[I 2023-07-28 12:25:40,931] Trial 172 finished with value: 0.16427212162587787 and parameters: {'a0': 1.9000000000000001, 'a1': 0.5, 'a2': 0.6000000000000001, 'a3': 0.0, 'a4': 0.0, 'a5': 0.30000000000000004, 'a6': 0.2}. Best is trial 159 with value: 0.16016075468332497.\n",
      "[I 2023-07-28 12:25:40,956] Trial 173 finished with value: 0.1718058741405873 and parameters: {'a0': 1.9000000000000001, 'a1': 0.5, 'a2': 0.6000000000000001, 'a3': 0.0, 'a4': 0.0, 'a5': 0.5, 'a6': 0.30000000000000004}. Best is trial 159 with value: 0.16016075468332497.\n",
      "[I 2023-07-28 12:25:40,980] Trial 174 finished with value: 0.16302207436523447 and parameters: {'a0': 2.0, 'a1': 0.4, 'a2': 0.8, 'a3': 0.0, 'a4': 0.0, 'a5': 0.30000000000000004, 'a6': 0.2}. Best is trial 159 with value: 0.16016075468332497.\n",
      "[I 2023-07-28 12:25:41,006] Trial 175 finished with value: 0.16860364363066943 and parameters: {'a0': 1.9000000000000001, 'a1': 0.4, 'a2': 0.8, 'a3': 0.0, 'a4': 0.0, 'a5': 0.30000000000000004, 'a6': 0.4}. Best is trial 159 with value: 0.16016075468332497.\n",
      "[I 2023-07-28 12:25:41,031] Trial 176 finished with value: 0.16481536532905686 and parameters: {'a0': 1.9000000000000001, 'a1': 0.5, 'a2': 0.5, 'a3': 0.0, 'a4': 0.0, 'a5': 0.30000000000000004, 'a6': 0.2}. Best is trial 159 with value: 0.16016075468332497.\n",
      "[I 2023-07-28 12:25:41,056] Trial 177 finished with value: 0.1930489894089823 and parameters: {'a0': 2.0, 'a1': 0.5, 'a2': 0.5, 'a3': 0.0, 'a4': 0.0, 'a5': 1.6, 'a6': 0.2}. Best is trial 159 with value: 0.16016075468332497.\n",
      "[I 2023-07-28 12:25:41,081] Trial 178 finished with value: 0.1708196910266619 and parameters: {'a0': 2.0, 'a1': 0.5, 'a2': 0.4, 'a3': 0.0, 'a4': 0.0, 'a5': 0.2, 'a6': 0.5}. Best is trial 159 with value: 0.16016075468332497.\n",
      "[I 2023-07-28 12:25:41,110] Trial 179 finished with value: 0.16427212162587787 and parameters: {'a0': 1.9000000000000001, 'a1': 0.5, 'a2': 0.6000000000000001, 'a3': 0.0, 'a4': 0.0, 'a5': 0.30000000000000004, 'a6': 0.2}. Best is trial 159 with value: 0.16016075468332497.\n",
      "[I 2023-07-28 12:25:41,136] Trial 180 finished with value: 0.16485218399692209 and parameters: {'a0': 1.9000000000000001, 'a1': 0.5, 'a2': 0.6000000000000001, 'a3': 0.0, 'a4': 0.0, 'a5': 0.2, 'a6': 0.30000000000000004}. Best is trial 159 with value: 0.16016075468332497.\n",
      "[I 2023-07-28 12:25:41,164] Trial 181 finished with value: 0.16537017666922443 and parameters: {'a0': 1.9000000000000001, 'a1': 0.5, 'a2': 0.5, 'a3': 0.0, 'a4': 0.0, 'a5': 0.2, 'a6': 0.30000000000000004}. Best is trial 159 with value: 0.16016075468332497.\n",
      "[I 2023-07-28 12:25:41,191] Trial 182 finished with value: 0.16198749917013286 and parameters: {'a0': 1.9000000000000001, 'a1': 0.4, 'a2': 0.6000000000000001, 'a3': 0.0, 'a4': 0.0, 'a5': 0.2, 'a6': 0.2}. Best is trial 159 with value: 0.16016075468332497.\n",
      "[I 2023-07-28 12:25:41,218] Trial 183 finished with value: 0.16779354522135553 and parameters: {'a0': 1.9000000000000001, 'a1': 0.4, 'a2': 0.6000000000000001, 'a3': 0.0, 'a4': 0.0, 'a5': 0.2, 'a6': 0.4}. Best is trial 159 with value: 0.16016075468332497.\n",
      "[I 2023-07-28 12:25:41,246] Trial 184 finished with value: 0.16380022416909604 and parameters: {'a0': 2.0, 'a1': 0.5, 'a2': 0.6000000000000001, 'a3': 0.0, 'a4': 0.0, 'a5': 0.30000000000000004, 'a6': 0.2}. Best is trial 159 with value: 0.16016075468332497.\n",
      "[I 2023-07-28 12:25:41,271] Trial 185 finished with value: 0.16347067165198692 and parameters: {'a0': 2.0, 'a1': 0.4, 'a2': 0.7000000000000001, 'a3': 0.0, 'a4': 0.0, 'a5': 0.30000000000000004, 'a6': 0.2}. Best is trial 159 with value: 0.16016075468332497.\n",
      "[I 2023-07-28 12:25:41,296] Trial 186 finished with value: 0.1686156754599913 and parameters: {'a0': 2.0, 'a1': 0.4, 'a2': 0.7000000000000001, 'a3': 0.0, 'a4': 0.0, 'a5': 0.5, 'a6': 0.2}. Best is trial 159 with value: 0.16016075468332497.\n",
      "[I 2023-07-28 12:25:41,323] Trial 187 finished with value: 0.17565352242440085 and parameters: {'a0': 2.0, 'a1': 0.30000000000000004, 'a2': 0.7000000000000001, 'a3': 0.0, 'a4': 0.0, 'a5': 0.6000000000000001, 'a6': 0.4}. Best is trial 159 with value: 0.16016075468332497.\n",
      "[I 2023-07-28 12:25:41,348] Trial 188 finished with value: 0.21508288385727972 and parameters: {'a0': 2.0, 'a1': 0.4, 'a2': 0.7000000000000001, 'a3': 0.0, 'a4': 0.1, 'a5': 0.30000000000000004, 'a6': 4.5}. Best is trial 159 with value: 0.16016075468332497.\n",
      "[I 2023-07-28 12:25:41,375] Trial 189 finished with value: 0.1647182702287247 and parameters: {'a0': 2.0, 'a1': 0.30000000000000004, 'a2': 0.6000000000000001, 'a3': 0.0, 'a4': 0.0, 'a5': 0.2, 'a6': 0.30000000000000004}. Best is trial 159 with value: 0.16016075468332497.\n",
      "[I 2023-07-28 12:25:41,402] Trial 190 finished with value: 0.17273202990938652 and parameters: {'a0': 1.9000000000000001, 'a1': 0.4, 'a2': 0.8, 'a3': 0.0, 'a4': 0.1, 'a5': 0.30000000000000004, 'a6': 0.5}. Best is trial 159 with value: 0.16016075468332497.\n",
      "[I 2023-07-28 12:25:41,429] Trial 191 finished with value: 0.16170376756534433 and parameters: {'a0': 2.0, 'a1': 0.30000000000000004, 'a2': 0.6000000000000001, 'a3': 0.0, 'a4': 0.0, 'a5': 0.2, 'a6': 0.2}. Best is trial 159 with value: 0.16016075468332497.\n",
      "[I 2023-07-28 12:25:41,456] Trial 192 finished with value: 0.16170376756534433 and parameters: {'a0': 2.0, 'a1': 0.30000000000000004, 'a2': 0.6000000000000001, 'a3': 0.0, 'a4': 0.0, 'a5': 0.2, 'a6': 0.2}. Best is trial 159 with value: 0.16016075468332497.\n",
      "[I 2023-07-28 12:25:41,482] Trial 193 finished with value: 0.16127758151313848 and parameters: {'a0': 2.0, 'a1': 0.30000000000000004, 'a2': 0.7000000000000001, 'a3': 0.0, 'a4': 0.0, 'a5': 0.2, 'a6': 0.2}. Best is trial 159 with value: 0.16016075468332497.\n",
      "[I 2023-07-28 12:25:41,511] Trial 194 finished with value: 0.16370766053052685 and parameters: {'a0': 2.0, 'a1': 0.30000000000000004, 'a2': 0.7000000000000001, 'a3': 0.0, 'a4': 0.1, 'a5': 0.2, 'a6': 0.2}. Best is trial 159 with value: 0.16016075468332497.\n",
      "[I 2023-07-28 12:25:41,538] Trial 195 finished with value: 0.1591504692251442 and parameters: {'a0': 2.0, 'a1': 0.30000000000000004, 'a2': 0.7000000000000001, 'a3': 0.0, 'a4': 0.1, 'a5': 0.1, 'a6': 0.1}. Best is trial 195 with value: 0.1591504692251442.\n"
     ]
    },
    {
     "name": "stderr",
     "output_type": "stream",
     "text": [
      "[I 2023-07-28 12:25:41,566] Trial 196 finished with value: 0.15886774149585256 and parameters: {'a0': 2.0, 'a1': 0.30000000000000004, 'a2': 0.8, 'a3': 0.0, 'a4': 0.1, 'a5': 0.1, 'a6': 0.1}. Best is trial 196 with value: 0.15886774149585256.\n",
      "[I 2023-07-28 12:25:41,594] Trial 197 finished with value: 0.16485431204173806 and parameters: {'a0': 2.0, 'a1': 0.30000000000000004, 'a2': 0.8, 'a3': 0.0, 'a4': 0.1, 'a5': 0.0, 'a6': 0.1}. Best is trial 196 with value: 0.15886774149585256.\n",
      "[I 2023-07-28 12:25:41,621] Trial 198 finished with value: 0.1591504692251442 and parameters: {'a0': 2.0, 'a1': 0.30000000000000004, 'a2': 0.7000000000000001, 'a3': 0.0, 'a4': 0.1, 'a5': 0.1, 'a6': 0.1}. Best is trial 196 with value: 0.15886774149585256.\n",
      "[I 2023-07-28 12:25:41,647] Trial 199 finished with value: 0.15886774149585256 and parameters: {'a0': 2.0, 'a1': 0.30000000000000004, 'a2': 0.8, 'a3': 0.0, 'a4': 0.1, 'a5': 0.1, 'a6': 0.1}. Best is trial 196 with value: 0.15886774149585256.\n",
      "[I 2023-07-28 12:25:41,673] Trial 200 finished with value: 0.16485431204173806 and parameters: {'a0': 2.0, 'a1': 0.30000000000000004, 'a2': 0.8, 'a3': 0.0, 'a4': 0.1, 'a5': 0.0, 'a6': 0.1}. Best is trial 196 with value: 0.15886774149585256.\n",
      "[I 2023-07-28 12:25:41,699] Trial 201 finished with value: 0.15886774149585256 and parameters: {'a0': 2.0, 'a1': 0.30000000000000004, 'a2': 0.8, 'a3': 0.0, 'a4': 0.1, 'a5': 0.1, 'a6': 0.1}. Best is trial 196 with value: 0.15886774149585256.\n",
      "[I 2023-07-28 12:25:41,727] Trial 202 finished with value: 0.16485431204173806 and parameters: {'a0': 2.0, 'a1': 0.30000000000000004, 'a2': 0.8, 'a3': 0.0, 'a4': 0.1, 'a5': 0.0, 'a6': 0.1}. Best is trial 196 with value: 0.15886774149585256.\n",
      "[I 2023-07-28 12:25:41,753] Trial 203 finished with value: 0.16034821500868285 and parameters: {'a0': 2.0, 'a1': 0.30000000000000004, 'a2': 0.8, 'a3': 0.0, 'a4': 0.1, 'a5': 0.2, 'a6': 0.1}. Best is trial 196 with value: 0.15886774149585256.\n",
      "[I 2023-07-28 12:25:41,778] Trial 204 finished with value: 0.15886774149585256 and parameters: {'a0': 2.0, 'a1': 0.30000000000000004, 'a2': 0.8, 'a3': 0.0, 'a4': 0.1, 'a5': 0.1, 'a6': 0.1}. Best is trial 196 with value: 0.15886774149585256.\n",
      "[I 2023-07-28 12:25:41,803] Trial 205 finished with value: 0.15886774149585256 and parameters: {'a0': 2.0, 'a1': 0.30000000000000004, 'a2': 0.8, 'a3': 0.0, 'a4': 0.1, 'a5': 0.1, 'a6': 0.1}. Best is trial 196 with value: 0.15886774149585256.\n",
      "[I 2023-07-28 12:25:41,830] Trial 206 finished with value: 0.15886774149585256 and parameters: {'a0': 2.0, 'a1': 0.30000000000000004, 'a2': 0.8, 'a3': 0.0, 'a4': 0.1, 'a5': 0.1, 'a6': 0.1}. Best is trial 196 with value: 0.15886774149585256.\n",
      "[I 2023-07-28 12:25:41,859] Trial 207 finished with value: 0.15886774149585256 and parameters: {'a0': 2.0, 'a1': 0.30000000000000004, 'a2': 0.8, 'a3': 0.0, 'a4': 0.1, 'a5': 0.1, 'a6': 0.1}. Best is trial 196 with value: 0.15886774149585256.\n",
      "[I 2023-07-28 12:25:41,886] Trial 208 finished with value: 0.1646681305304838 and parameters: {'a0': 2.0, 'a1': 0.30000000000000004, 'a2': 0.9, 'a3': 0.0, 'a4': 0.1, 'a5': 0.1, 'a6': 0.30000000000000004}. Best is trial 196 with value: 0.15886774149585256.\n",
      "[I 2023-07-28 12:25:41,914] Trial 209 finished with value: 0.15886774149585256 and parameters: {'a0': 2.0, 'a1': 0.30000000000000004, 'a2': 0.8, 'a3': 0.0, 'a4': 0.1, 'a5': 0.1, 'a6': 0.1}. Best is trial 196 with value: 0.15886774149585256.\n",
      "[I 2023-07-28 12:25:41,942] Trial 210 finished with value: 0.1586200405486181 and parameters: {'a0': 2.0, 'a1': 0.30000000000000004, 'a2': 0.9, 'a3': 0.0, 'a4': 0.1, 'a5': 0.1, 'a6': 0.1}. Best is trial 210 with value: 0.1586200405486181.\n",
      "[I 2023-07-28 12:25:41,968] Trial 211 finished with value: 0.1586200405486181 and parameters: {'a0': 2.0, 'a1': 0.30000000000000004, 'a2': 0.9, 'a3': 0.0, 'a4': 0.1, 'a5': 0.1, 'a6': 0.1}. Best is trial 210 with value: 0.1586200405486181.\n",
      "[I 2023-07-28 12:25:41,994] Trial 212 finished with value: 0.1586200405486181 and parameters: {'a0': 2.0, 'a1': 0.30000000000000004, 'a2': 0.9, 'a3': 0.0, 'a4': 0.1, 'a5': 0.1, 'a6': 0.1}. Best is trial 210 with value: 0.1586200405486181.\n",
      "[I 2023-07-28 12:25:42,019] Trial 213 finished with value: 0.1586200405486181 and parameters: {'a0': 2.0, 'a1': 0.30000000000000004, 'a2': 0.9, 'a3': 0.0, 'a4': 0.1, 'a5': 0.1, 'a6': 0.1}. Best is trial 210 with value: 0.1586200405486181.\n",
      "[I 2023-07-28 12:25:42,044] Trial 214 finished with value: 0.1586200405486181 and parameters: {'a0': 2.0, 'a1': 0.30000000000000004, 'a2': 0.9, 'a3': 0.0, 'a4': 0.1, 'a5': 0.1, 'a6': 0.1}. Best is trial 210 with value: 0.1586200405486181.\n",
      "[I 2023-07-28 12:25:42,072] Trial 215 finished with value: 0.16466986044643264 and parameters: {'a0': 2.0, 'a1': 0.30000000000000004, 'a2': 0.9, 'a3': 0.0, 'a4': 0.1, 'a5': 0.0, 'a6': 0.1}. Best is trial 210 with value: 0.1586200405486181.\n",
      "[I 2023-07-28 12:25:42,098] Trial 216 finished with value: 0.20320473726373933 and parameters: {'a0': 2.0, 'a1': 0.30000000000000004, 'a2': 0.9, 'a3': 0.0, 'a4': 0.1, 'a5': 0.1, 'a6': 2.7}. Best is trial 210 with value: 0.1586200405486181.\n",
      "[I 2023-07-28 12:25:42,124] Trial 217 finished with value: 0.15886774149585256 and parameters: {'a0': 2.0, 'a1': 0.30000000000000004, 'a2': 0.8, 'a3': 0.0, 'a4': 0.1, 'a5': 0.1, 'a6': 0.1}. Best is trial 210 with value: 0.1586200405486181.\n",
      "[I 2023-07-28 12:25:42,150] Trial 218 finished with value: 0.16485431204173806 and parameters: {'a0': 2.0, 'a1': 0.30000000000000004, 'a2': 0.8, 'a3': 0.0, 'a4': 0.1, 'a5': 0.0, 'a6': 0.1}. Best is trial 210 with value: 0.1586200405486181.\n",
      "[I 2023-07-28 12:25:42,176] Trial 219 finished with value: 0.15539475165481828 and parameters: {'a0': 2.0, 'a1': 0.30000000000000004, 'a2': 0.8, 'a3': 0.0, 'a4': 0.1, 'a5': 0.1, 'a6': 0.0}. Best is trial 219 with value: 0.15539475165481828.\n",
      "[I 2023-07-28 12:25:42,203] Trial 220 finished with value: 0.15529136876735236 and parameters: {'a0': 2.0, 'a1': 0.2, 'a2': 0.8, 'a3': 0.0, 'a4': 0.1, 'a5': 0.1, 'a6': 0.0}. Best is trial 220 with value: 0.15529136876735236.\n",
      "[I 2023-07-28 12:25:42,232] Trial 221 finished with value: 0.15529136876735236 and parameters: {'a0': 2.0, 'a1': 0.2, 'a2': 0.8, 'a3': 0.0, 'a4': 0.1, 'a5': 0.1, 'a6': 0.0}. Best is trial 220 with value: 0.15529136876735236.\n",
      "[I 2023-07-28 12:25:42,260] Trial 222 finished with value: 0.15529136876735236 and parameters: {'a0': 2.0, 'a1': 0.2, 'a2': 0.8, 'a3': 0.0, 'a4': 0.1, 'a5': 0.1, 'a6': 0.0}. Best is trial 220 with value: 0.15529136876735236.\n",
      "[I 2023-07-28 12:25:42,287] Trial 223 finished with value: 0.15529136876735236 and parameters: {'a0': 2.0, 'a1': 0.2, 'a2': 0.8, 'a3': 0.0, 'a4': 0.1, 'a5': 0.1, 'a6': 0.0}. Best is trial 220 with value: 0.15529136876735236.\n",
      "[I 2023-07-28 12:25:42,313] Trial 224 finished with value: 0.1551199437885504 and parameters: {'a0': 2.0, 'a1': 0.2, 'a2': 0.9, 'a3': 0.0, 'a4': 0.1, 'a5': 0.1, 'a6': 0.0}. Best is trial 224 with value: 0.1551199437885504.\n",
      "[I 2023-07-28 12:25:42,341] Trial 225 finished with value: 0.1607903551749234 and parameters: {'a0': 2.0, 'a1': 0.2, 'a2': 0.9, 'a3': 0.0, 'a4': 0.1, 'a5': 0.0, 'a6': 0.0}. Best is trial 224 with value: 0.1551199437885504.\n",
      "[I 2023-07-28 12:25:42,367] Trial 226 finished with value: 0.199828125017957 and parameters: {'a0': 2.0, 'a1': 0.2, 'a2': 0.8, 'a3': 1.0, 'a4': 0.1, 'a5': 0.1, 'a6': 0.1}. Best is trial 224 with value: 0.1551199437885504.\n",
      "[I 2023-07-28 12:25:42,394] Trial 227 finished with value: 0.16460040611548993 and parameters: {'a0': 2.0, 'a1': 0.2, 'a2': 0.9, 'a3': 0.0, 'a4': 0.1, 'a5': 0.0, 'a6': 0.1}. Best is trial 224 with value: 0.1551199437885504.\n",
      "[I 2023-07-28 12:25:42,421] Trial 228 finished with value: 0.15529136876735236 and parameters: {'a0': 2.0, 'a1': 0.2, 'a2': 0.8, 'a3': 0.0, 'a4': 0.1, 'a5': 0.1, 'a6': 0.0}. Best is trial 224 with value: 0.1551199437885504.\n",
      "[I 2023-07-28 12:25:42,447] Trial 229 finished with value: 0.15529136876735236 and parameters: {'a0': 2.0, 'a1': 0.2, 'a2': 0.8, 'a3': 0.0, 'a4': 0.1, 'a5': 0.1, 'a6': 0.0}. Best is trial 224 with value: 0.1551199437885504.\n",
      "[I 2023-07-28 12:25:42,472] Trial 230 finished with value: 0.15529136876735236 and parameters: {'a0': 2.0, 'a1': 0.2, 'a2': 0.8, 'a3': 0.0, 'a4': 0.1, 'a5': 0.1, 'a6': 0.0}. Best is trial 224 with value: 0.1551199437885504.\n"
     ]
    },
    {
     "name": "stderr",
     "output_type": "stream",
     "text": [
      "[I 2023-07-28 12:25:42,499] Trial 231 finished with value: 0.15529136876735236 and parameters: {'a0': 2.0, 'a1': 0.2, 'a2': 0.8, 'a3': 0.0, 'a4': 0.1, 'a5': 0.1, 'a6': 0.0}. Best is trial 224 with value: 0.1551199437885504.\n",
      "[I 2023-07-28 12:25:42,526] Trial 232 finished with value: 0.16087241058933904 and parameters: {'a0': 2.0, 'a1': 0.2, 'a2': 0.8, 'a3': 0.0, 'a4': 0.1, 'a5': 0.0, 'a6': 0.0}. Best is trial 224 with value: 0.1551199437885504.\n",
      "[I 2023-07-28 12:25:42,552] Trial 233 finished with value: 0.15529136876735236 and parameters: {'a0': 2.0, 'a1': 0.2, 'a2': 0.8, 'a3': 0.0, 'a4': 0.1, 'a5': 0.1, 'a6': 0.0}. Best is trial 224 with value: 0.1551199437885504.\n",
      "[I 2023-07-28 12:25:42,579] Trial 234 finished with value: 0.1551199437885504 and parameters: {'a0': 2.0, 'a1': 0.2, 'a2': 0.9, 'a3': 0.0, 'a4': 0.1, 'a5': 0.1, 'a6': 0.0}. Best is trial 224 with value: 0.1551199437885504.\n",
      "[I 2023-07-28 12:25:42,605] Trial 235 finished with value: 0.1607903551749234 and parameters: {'a0': 2.0, 'a1': 0.2, 'a2': 0.9, 'a3': 0.0, 'a4': 0.1, 'a5': 0.0, 'a6': 0.0}. Best is trial 224 with value: 0.1551199437885504.\n",
      "[I 2023-07-28 12:25:42,631] Trial 236 finished with value: 0.15529136876735236 and parameters: {'a0': 2.0, 'a1': 0.2, 'a2': 0.8, 'a3': 0.0, 'a4': 0.1, 'a5': 0.1, 'a6': 0.0}. Best is trial 224 with value: 0.1551199437885504.\n",
      "[I 2023-07-28 12:25:42,657] Trial 237 finished with value: 0.1607903551749234 and parameters: {'a0': 2.0, 'a1': 0.2, 'a2': 0.9, 'a3': 0.0, 'a4': 0.1, 'a5': 0.0, 'a6': 0.0}. Best is trial 224 with value: 0.1551199437885504.\n",
      "[I 2023-07-28 12:25:42,683] Trial 238 finished with value: 0.1551199437885504 and parameters: {'a0': 2.0, 'a1': 0.2, 'a2': 0.9, 'a3': 0.0, 'a4': 0.1, 'a5': 0.1, 'a6': 0.0}. Best is trial 224 with value: 0.1551199437885504.\n",
      "[I 2023-07-28 12:25:42,711] Trial 239 finished with value: 0.1607903551749234 and parameters: {'a0': 2.0, 'a1': 0.2, 'a2': 0.9, 'a3': 0.0, 'a4': 0.1, 'a5': 0.0, 'a6': 0.0}. Best is trial 224 with value: 0.1551199437885504.\n",
      "[I 2023-07-28 12:25:42,737] Trial 240 finished with value: 0.15784876453403032 and parameters: {'a0': 2.0, 'a1': 0.2, 'a2': 0.9, 'a3': 0.0, 'a4': 0.2, 'a5': 0.1, 'a6': 0.0}. Best is trial 224 with value: 0.1551199437885504.\n",
      "[I 2023-07-28 12:25:42,765] Trial 241 finished with value: 0.1551199437885504 and parameters: {'a0': 2.0, 'a1': 0.2, 'a2': 0.9, 'a3': 0.0, 'a4': 0.1, 'a5': 0.1, 'a6': 0.0}. Best is trial 224 with value: 0.1551199437885504.\n",
      "[I 2023-07-28 12:25:42,792] Trial 242 finished with value: 0.15784876453403032 and parameters: {'a0': 2.0, 'a1': 0.2, 'a2': 0.9, 'a3': 0.0, 'a4': 0.2, 'a5': 0.1, 'a6': 0.0}. Best is trial 224 with value: 0.1551199437885504.\n",
      "[I 2023-07-28 12:25:42,819] Trial 243 finished with value: 0.18206710929095596 and parameters: {'a0': 1.9000000000000001, 'a1': 0.2, 'a2': 0.9, 'a3': 0.5, 'a4': 0.2, 'a5': 0.0, 'a6': 0.0}. Best is trial 224 with value: 0.1551199437885504.\n",
      "[I 2023-07-28 12:25:42,848] Trial 244 finished with value: 0.15784876453403032 and parameters: {'a0': 2.0, 'a1': 0.2, 'a2': 0.9, 'a3': 0.0, 'a4': 0.2, 'a5': 0.1, 'a6': 0.0}. Best is trial 224 with value: 0.1551199437885504.\n",
      "[I 2023-07-28 12:25:42,877] Trial 245 finished with value: 0.16160668042362764 and parameters: {'a0': 2.0, 'a1': 0.2, 'a2': 0.9, 'a3': 0.0, 'a4': 0.2, 'a5': 0.0, 'a6': 0.0}. Best is trial 224 with value: 0.1551199437885504.\n",
      "[I 2023-07-28 12:25:42,905] Trial 246 finished with value: 0.15805822089587518 and parameters: {'a0': 1.9000000000000001, 'a1': 0.2, 'a2': 0.9, 'a3': 0.0, 'a4': 0.2, 'a5': 0.1, 'a6': 0.0}. Best is trial 224 with value: 0.1551199437885504.\n",
      "[I 2023-07-28 12:25:42,932] Trial 247 finished with value: 0.15805822089587518 and parameters: {'a0': 1.9000000000000001, 'a1': 0.2, 'a2': 0.9, 'a3': 0.0, 'a4': 0.2, 'a5': 0.1, 'a6': 0.0}. Best is trial 224 with value: 0.1551199437885504.\n",
      "[I 2023-07-28 12:25:42,960] Trial 248 finished with value: 0.1616862907806868 and parameters: {'a0': 1.9000000000000001, 'a1': 0.2, 'a2': 0.9, 'a3': 0.0, 'a4': 0.2, 'a5': 0.0, 'a6': 0.0}. Best is trial 224 with value: 0.1551199437885504.\n",
      "[I 2023-07-28 12:25:42,988] Trial 249 finished with value: 0.1598714157792708 and parameters: {'a0': 1.9000000000000001, 'a1': 0.2, 'a2': 0.9, 'a3': 0.0, 'a4': 0.2, 'a5': 0.2, 'a6': 0.0}. Best is trial 224 with value: 0.1551199437885504.\n",
      "[I 2023-07-28 12:25:43,016] Trial 250 finished with value: 0.15805822089587518 and parameters: {'a0': 1.9000000000000001, 'a1': 0.2, 'a2': 0.9, 'a3': 0.0, 'a4': 0.2, 'a5': 0.1, 'a6': 0.0}. Best is trial 224 with value: 0.1551199437885504.\n",
      "[I 2023-07-28 12:25:43,044] Trial 251 finished with value: 0.15805822089587518 and parameters: {'a0': 1.9000000000000001, 'a1': 0.2, 'a2': 0.9, 'a3': 0.0, 'a4': 0.2, 'a5': 0.1, 'a6': 0.0}. Best is trial 224 with value: 0.1551199437885504.\n",
      "[I 2023-07-28 12:25:43,072] Trial 252 finished with value: 0.1598714157792708 and parameters: {'a0': 1.9000000000000001, 'a1': 0.2, 'a2': 0.9, 'a3': 0.0, 'a4': 0.2, 'a5': 0.2, 'a6': 0.0}. Best is trial 224 with value: 0.1551199437885504.\n",
      "[I 2023-07-28 12:25:43,100] Trial 253 finished with value: 0.16155568263998704 and parameters: {'a0': 1.9000000000000001, 'a1': 0.2, 'a2': 1.0, 'a3': 0.0, 'a4': 0.2, 'a5': 0.0, 'a6': 0.0}. Best is trial 224 with value: 0.1551199437885504.\n",
      "[I 2023-07-28 12:25:43,127] Trial 254 finished with value: 0.1598714157792708 and parameters: {'a0': 1.9000000000000001, 'a1': 0.2, 'a2': 0.9, 'a3': 0.0, 'a4': 0.2, 'a5': 0.2, 'a6': 0.0}. Best is trial 224 with value: 0.1551199437885504.\n",
      "[I 2023-07-28 12:25:43,154] Trial 255 finished with value: 0.18960715396962463 and parameters: {'a0': 1.9000000000000001, 'a1': 0.2, 'a2': 0.9, 'a3': 0.7000000000000001, 'a4': 0.2, 'a5': 0.1, 'a6': 0.0}. Best is trial 224 with value: 0.1551199437885504.\n",
      "[I 2023-07-28 12:25:43,181] Trial 256 finished with value: 0.16155568263998704 and parameters: {'a0': 1.9000000000000001, 'a1': 0.2, 'a2': 1.0, 'a3': 0.0, 'a4': 0.2, 'a5': 0.0, 'a6': 0.0}. Best is trial 224 with value: 0.1551199437885504.\n",
      "[I 2023-07-28 12:25:43,208] Trial 257 finished with value: 0.19097935108093173 and parameters: {'a0': 2.0, 'a1': 0.2, 'a2': 0.9, 'a3': 0.0, 'a4': 0.2, 'a5': 0.2, 'a6': 1.6}. Best is trial 224 with value: 0.1551199437885504.\n",
      "[I 2023-07-28 12:25:43,236] Trial 258 finished with value: 0.15784876453403032 and parameters: {'a0': 2.0, 'a1': 0.2, 'a2': 0.9, 'a3': 0.0, 'a4': 0.2, 'a5': 0.1, 'a6': 0.0}. Best is trial 224 with value: 0.1551199437885504.\n",
      "[I 2023-07-28 12:25:43,264] Trial 259 finished with value: 0.1954788661345037 and parameters: {'a0': 1.9000000000000001, 'a1': 0.2, 'a2': 1.0, 'a3': 0.9, 'a4': 0.2, 'a5': 0.0, 'a6': 0.0}. Best is trial 224 with value: 0.1551199437885504.\n",
      "[I 2023-07-28 12:25:43,290] Trial 260 finished with value: 0.1598855347094309 and parameters: {'a0': 2.0, 'a1': 0.2, 'a2': 0.8, 'a3': 0.0, 'a4': 0.2, 'a5': 0.2, 'a6': 0.0}. Best is trial 224 with value: 0.1551199437885504.\n",
      "[I 2023-07-28 12:25:43,317] Trial 261 finished with value: 0.15953604380423222 and parameters: {'a0': 2.0, 'a1': 0.2, 'a2': 0.9, 'a3': 0.0, 'a4': 0.2, 'a5': 0.2, 'a6': 0.0}. Best is trial 224 with value: 0.1551199437885504.\n",
      "[I 2023-07-28 12:25:43,346] Trial 262 finished with value: 0.17768507821933635 and parameters: {'a0': 1.9000000000000001, 'a1': 0.2, 'a2': 0.8, 'a3': 0.0, 'a4': 1.1, 'a5': 0.0, 'a6': 0.0}. Best is trial 224 with value: 0.1551199437885504.\n",
      "[I 2023-07-28 12:25:43,375] Trial 263 finished with value: 0.15784876453403032 and parameters: {'a0': 2.0, 'a1': 0.2, 'a2': 0.9, 'a3': 0.0, 'a4': 0.2, 'a5': 0.1, 'a6': 0.0}. Best is trial 224 with value: 0.1551199437885504.\n",
      "[I 2023-07-28 12:25:43,403] Trial 264 finished with value: 0.2111109218322702 and parameters: {'a0': 2.0, 'a1': 0.2, 'a2': 1.0, 'a3': 0.0, 'a4': 0.2, 'a5': 3.2, 'a6': 0.0}. Best is trial 224 with value: 0.1551199437885504.\n",
      "[I 2023-07-28 12:25:43,430] Trial 265 finished with value: 0.16023734316022342 and parameters: {'a0': 1.9000000000000001, 'a1': 0.2, 'a2': 0.8, 'a3': 0.0, 'a4': 0.2, 'a5': 0.2, 'a6': 0.0}. Best is trial 224 with value: 0.1551199437885504.\n",
      "[I 2023-07-28 12:25:43,458] Trial 266 finished with value: 0.15784876453403032 and parameters: {'a0': 2.0, 'a1': 0.2, 'a2': 0.9, 'a3': 0.0, 'a4': 0.2, 'a5': 0.1, 'a6': 0.0}. Best is trial 224 with value: 0.1551199437885504.\n"
     ]
    },
    {
     "name": "stderr",
     "output_type": "stream",
     "text": [
      "[I 2023-07-28 12:25:43,486] Trial 267 finished with value: 0.1617667285288314 and parameters: {'a0': 1.9000000000000001, 'a1': 0.1, 'a2': 0.8, 'a3': 0.0, 'a4': 0.2, 'a5': 0.0, 'a6': 0.0}. Best is trial 224 with value: 0.1551199437885504.\n",
      "[I 2023-07-28 12:25:43,514] Trial 268 finished with value: 0.1598855347094309 and parameters: {'a0': 2.0, 'a1': 0.2, 'a2': 0.8, 'a3': 0.0, 'a4': 0.2, 'a5': 0.2, 'a6': 0.0}. Best is trial 224 with value: 0.1551199437885504.\n",
      "[I 2023-07-28 12:25:43,542] Trial 269 finished with value: 0.21328901013292478 and parameters: {'a0': 2.0, 'a1': 0.2, 'a2': 0.9, 'a3': 0.0, 'a4': 1.3, 'a5': 0.1, 'a6': 3.4000000000000004}. Best is trial 224 with value: 0.1551199437885504.\n",
      "[I 2023-07-28 12:25:43,570] Trial 270 finished with value: 0.16035861728975995 and parameters: {'a0': 1.9000000000000001, 'a1': 0.1, 'a2': 0.8, 'a3': 0.0, 'a4': 0.2, 'a5': 0.2, 'a6': 0.0}. Best is trial 224 with value: 0.1551199437885504.\n",
      "[I 2023-07-28 12:25:43,600] Trial 271 finished with value: 0.20551446692947048 and parameters: {'a0': 2.0, 'a1': 0.2, 'a2': 0.9, 'a3': 0.0, 'a4': 0.2, 'a5': 2.6, 'a6': 0.0}. Best is trial 224 with value: 0.1551199437885504.\n",
      "[I 2023-07-28 12:25:43,627] Trial 272 finished with value: 0.16375154588801014 and parameters: {'a0': 2.0, 'a1': 0.2, 'a2': 1.0, 'a3': 0.0, 'a4': 0.2, 'a5': 0.1, 'a6': 0.2}. Best is trial 224 with value: 0.1551199437885504.\n",
      "[I 2023-07-28 12:25:43,656] Trial 273 finished with value: 0.16489988515259027 and parameters: {'a0': 1.9000000000000001, 'a1': 0.2, 'a2': 0.8, 'a3': 0.0, 'a4': 0.1, 'a5': 0.0, 'a6': 0.1}. Best is trial 224 with value: 0.1551199437885504.\n",
      "[I 2023-07-28 12:25:43,685] Trial 274 finished with value: 0.1596308213115348 and parameters: {'a0': 2.0, 'a1': 0.1, 'a2': 0.9, 'a3': 0.0, 'a4': 0.2, 'a5': 0.2, 'a6': 0.0}. Best is trial 224 with value: 0.1551199437885504.\n",
      "[I 2023-07-28 12:25:43,714] Trial 275 finished with value: 0.18833602025538151 and parameters: {'a0': 2.0, 'a1': 0.2, 'a2': 0.9, 'a3': 0.0, 'a4': 0.2, 'a5': 1.3, 'a6': 0.2}. Best is trial 224 with value: 0.1551199437885504.\n",
      "[I 2023-07-28 12:25:43,744] Trial 276 finished with value: 0.17213997294721767 and parameters: {'a0': 1.9000000000000001, 'a1': 0.1, 'a2': 0.8, 'a3': 0.0, 'a4': 0.1, 'a5': 0.0, 'a6': 0.30000000000000004}. Best is trial 224 with value: 0.1551199437885504.\n",
      "[I 2023-07-28 12:25:43,773] Trial 277 finished with value: 0.22423025937450017 and parameters: {'a0': 2.0, 'a1': 0.2, 'a2': 0.9, 'a3': 0.0, 'a4': 0.1, 'a5': 4.1000000000000005, 'a6': 1.9000000000000001}. Best is trial 224 with value: 0.1551199437885504.\n",
      "[I 2023-07-28 12:25:43,801] Trial 278 finished with value: 0.1549133487013603 and parameters: {'a0': 2.0, 'a1': 0.1, 'a2': 1.0, 'a3': 0.0, 'a4': 0.1, 'a5': 0.1, 'a6': 0.0}. Best is trial 278 with value: 0.1549133487013603.\n",
      "[I 2023-07-28 12:25:43,832] Trial 279 finished with value: 0.16280655147113857 and parameters: {'a0': 2.0, 'a1': 0.1, 'a2': 1.0, 'a3': 0.0, 'a4': 0.1, 'a5': 0.2, 'a6': 0.2}. Best is trial 278 with value: 0.1549133487013603.\n",
      "[I 2023-07-28 12:25:43,861] Trial 280 finished with value: 0.15888947899216474 and parameters: {'a0': 2.0, 'a1': 0.1, 'a2': 0.8, 'a3': 0.0, 'a4': 0.1, 'a5': 0.1, 'a6': 0.1}. Best is trial 278 with value: 0.1549133487013603.\n",
      "[I 2023-07-28 12:25:43,889] Trial 281 finished with value: 0.1731990979284683 and parameters: {'a0': 2.0, 'a1': 0.1, 'a2': 1.0, 'a3': 0.0, 'a4': 0.9, 'a5': 0.0, 'a6': 0.0}. Best is trial 278 with value: 0.1549133487013603.\n",
      "[I 2023-07-28 12:25:43,917] Trial 282 finished with value: 0.1591479927217766 and parameters: {'a0': 2.0, 'a1': 0.2, 'a2': 0.7000000000000001, 'a3': 0.0, 'a4': 0.1, 'a5': 0.1, 'a6': 0.1}. Best is trial 278 with value: 0.1549133487013603.\n",
      "[I 2023-07-28 12:25:43,946] Trial 283 finished with value: 0.19809537376002023 and parameters: {'a0': 2.0, 'a1': 0.2, 'a2': 0.8, 'a3': 0.0, 'a4': 0.1, 'a5': 0.2, 'a6': 2.2}. Best is trial 278 with value: 0.1549133487013603.\n",
      "[I 2023-07-28 12:25:43,974] Trial 284 finished with value: 0.1618466770836117 and parameters: {'a0': 1.9000000000000001, 'a1': 0.2, 'a2': 0.8, 'a3': 0.0, 'a4': 0.2, 'a5': 0.0, 'a6': 0.0}. Best is trial 278 with value: 0.1549133487013603.\n",
      "[I 2023-07-28 12:25:44,003] Trial 285 finished with value: 0.16597705890981457 and parameters: {'a0': 2.0, 'a1': 0.2, 'a2': 0.1, 'a3': 0.0, 'a4': 0.1, 'a5': 0.1, 'a6': 0.2}. Best is trial 278 with value: 0.1549133487013603.\n",
      "[I 2023-07-28 12:25:44,032] Trial 286 finished with value: 0.16052371296225457 and parameters: {'a0': 2.0, 'a1': 1.5, 'a2': 0.9, 'a3': 0.0, 'a4': 0.1, 'a5': 0.2, 'a6': 0.1}. Best is trial 278 with value: 0.1549133487013603.\n",
      "[I 2023-07-28 12:25:44,061] Trial 287 finished with value: 0.17403096372230614 and parameters: {'a0': 2.0, 'a1': 0.1, 'a2': 1.0, 'a3': 0.0, 'a4': 0.8, 'a5': 0.2, 'a6': 0.1}. Best is trial 278 with value: 0.1549133487013603.\n",
      "[I 2023-07-28 12:25:44,089] Trial 288 finished with value: 0.17546750589530133 and parameters: {'a0': 1.9000000000000001, 'a1': 0.2, 'a2': 0.7000000000000001, 'a3': 0.1, 'a4': 0.2, 'a5': 0.0, 'a6': 0.30000000000000004}. Best is trial 278 with value: 0.1549133487013603.\n",
      "[I 2023-07-28 12:25:44,116] Trial 289 finished with value: 0.16536406110203059 and parameters: {'a0': 0.2, 'a1': 0.1, 'a2': 0.9, 'a3': 0.0, 'a4': 0.1, 'a5': 0.1, 'a6': 0.0}. Best is trial 278 with value: 0.1549133487013603.\n",
      "[I 2023-07-28 12:25:44,144] Trial 290 finished with value: 0.16756858506062736 and parameters: {'a0': 2.0, 'a1': 0.2, 'a2': 0.9, 'a3': 0.0, 'a4': 0.1, 'a5': 0.4, 'a6': 0.2}. Best is trial 278 with value: 0.1549133487013603.\n",
      "[I 2023-07-28 12:25:44,177] Trial 291 finished with value: 0.15809945404490272 and parameters: {'a0': 2.0, 'a1': 0.2, 'a2': 0.8, 'a3': 0.0, 'a4': 0.2, 'a5': 0.1, 'a6': 0.0}. Best is trial 278 with value: 0.1549133487013603.\n",
      "[I 2023-07-28 12:25:44,206] Trial 292 finished with value: 0.1631360602410492 and parameters: {'a0': 1.9000000000000001, 'a1': 0.1, 'a2': 0.8, 'a3': 0.0, 'a4': 0.2, 'a5': 0.30000000000000004, 'a6': 0.0}. Best is trial 278 with value: 0.1549133487013603.\n",
      "[I 2023-07-28 12:25:44,237] Trial 293 finished with value: 0.16478688009717168 and parameters: {'a0': 2.0, 'a1': 0.2, 'a2': 0.8, 'a3': 0.0, 'a4': 0.1, 'a5': 0.0, 'a6': 0.1}. Best is trial 278 with value: 0.1549133487013603.\n",
      "[I 2023-07-28 12:25:44,267] Trial 294 finished with value: 0.16303329081461987 and parameters: {'a0': 1.9000000000000001, 'a1': 0.2, 'a2': 1.0, 'a3': 0.0, 'a4': 0.1, 'a5': 0.2, 'a6': 0.2}. Best is trial 278 with value: 0.1549133487013603.\n",
      "[I 2023-07-28 12:25:44,297] Trial 295 finished with value: 0.21682426694190143 and parameters: {'a0': 2.0, 'a1': 0.2, 'a2': 0.9, 'a3': 0.0, 'a4': 0.2, 'a5': 1.8, 'a6': 3.8000000000000003}. Best is trial 278 with value: 0.1549133487013603.\n",
      "[I 2023-07-28 12:25:44,326] Trial 296 finished with value: 0.1647840989057648 and parameters: {'a0': 2.0, 'a1': 0.1, 'a2': 0.7000000000000001, 'a3': 0.1, 'a4': 0.1, 'a5': 0.1, 'a6': 0.1}. Best is trial 278 with value: 0.1549133487013603.\n",
      "[I 2023-07-28 12:25:44,356] Trial 297 finished with value: 0.20122462690346926 and parameters: {'a0': 1.8, 'a1': 0.2, 'a2': 0.9, 'a3': 0.0, 'a4': 0.2, 'a5': 2.1, 'a6': 0.0}. Best is trial 278 with value: 0.1549133487013603.\n",
      "[I 2023-07-28 12:25:44,385] Trial 298 finished with value: 0.22757229848307822 and parameters: {'a0': 1.9000000000000001, 'a1': 0.2, 'a2': 0.9, 'a3': 0.0, 'a4': 0.1, 'a5': 5.0, 'a6': 0.1}. Best is trial 278 with value: 0.1549133487013603.\n",
      "[I 2023-07-28 12:25:44,414] Trial 299 finished with value: 0.16417989921691784 and parameters: {'a0': 2.0, 'a1': 0.1, 'a2': 0.8, 'a3': 0.0, 'a4': 0.0, 'a5': 0.2, 'a6': 0.30000000000000004}. Best is trial 278 with value: 0.1549133487013603.\n",
      "[I 2023-07-28 12:25:44,444] Trial 300 finished with value: 0.15960585291257195 and parameters: {'a0': 1.9000000000000001, 'a1': 0.2, 'a2': 1.0, 'a3': 0.0, 'a4': 0.1, 'a5': 0.30000000000000004, 'a6': 0.0}. Best is trial 278 with value: 0.1549133487013603.\n",
      "[I 2023-07-28 12:25:44,482] Trial 301 finished with value: 0.16911996776158236 and parameters: {'a0': 2.0, 'a1': 1.1, 'a2': 0.8, 'a3': 0.0, 'a4': 0.2, 'a5': 0.0, 'a6': 0.2}. Best is trial 278 with value: 0.1549133487013603.\n",
      "[I 2023-07-28 12:25:44,511] Trial 302 finished with value: 0.16077389239570108 and parameters: {'a0': 2.0, 'a1': 0.1, 'a2': 0.9, 'a3': 0.1, 'a4': 0.1, 'a5': 0.1, 'a6': 0.0}. Best is trial 278 with value: 0.1549133487013603.\n"
     ]
    },
    {
     "name": "stderr",
     "output_type": "stream",
     "text": [
      "[I 2023-07-28 12:25:44,542] Trial 303 finished with value: 0.16718273817518348 and parameters: {'a0': 1.9000000000000001, 'a1': 0.9, 'a2': 0.7000000000000001, 'a3': 0.0, 'a4': 0.2, 'a5': 0.4, 'a6': 0.1}. Best is trial 278 with value: 0.1549133487013603.\n",
      "[I 2023-07-28 12:25:44,572] Trial 304 finished with value: 0.19551282107697196 and parameters: {'a0': 2.0, 'a1': 0.2, 'a2': 0.8, 'a3': 0.0, 'a4': 1.2000000000000002, 'a5': 0.2, 'a6': 1.2000000000000002}. Best is trial 278 with value: 0.1549133487013603.\n",
      "[I 2023-07-28 12:25:44,600] Trial 305 finished with value: 0.2274176262035641 and parameters: {'a0': 2.0, 'a1': 0.1, 'a2': 0.9, 'a3': 0.0, 'a4': 0.30000000000000004, 'a5': 0.0, 'a6': 5.0}. Best is trial 278 with value: 0.1549133487013603.\n",
      "[I 2023-07-28 12:25:44,629] Trial 306 finished with value: 0.1585879448825037 and parameters: {'a0': 1.9000000000000001, 'a1': 0.2, 'a2': 1.0, 'a3': 0.0, 'a4': 0.1, 'a5': 0.1, 'a6': 0.1}. Best is trial 278 with value: 0.1549133487013603.\n",
      "[I 2023-07-28 12:25:44,659] Trial 307 finished with value: 0.1683274228505463 and parameters: {'a0': 2.0, 'a1': 0.2, 'a2': 0.8, 'a3': 0.1, 'a4': 0.0, 'a5': 0.30000000000000004, 'a6': 0.2}. Best is trial 278 with value: 0.1549133487013603.\n",
      "[I 2023-07-28 12:25:44,690] Trial 308 finished with value: 0.15695595914570354 and parameters: {'a0': 2.0, 'a1': 0.1, 'a2': 0.9, 'a3': 0.0, 'a4': 0.1, 'a5': 0.2, 'a6': 0.0}. Best is trial 278 with value: 0.1549133487013603.\n",
      "[I 2023-07-28 12:25:44,721] Trial 309 finished with value: 0.16293521363484018 and parameters: {'a0': 2.0, 'a1': 0.1, 'a2': 0.8, 'a3': 0.0, 'a4': 0.0, 'a5': 0.0, 'a6': 0.0}. Best is trial 278 with value: 0.1549133487013603.\n",
      "[I 2023-07-28 12:25:44,752] Trial 310 finished with value: 0.16697995349322808 and parameters: {'a0': 2.0, 'a1': 0.1, 'a2': 0.7000000000000001, 'a3': 0.0, 'a4': 0.1, 'a5': 0.2, 'a6': 0.30000000000000004}. Best is trial 278 with value: 0.1549133487013603.\n",
      "[I 2023-07-28 12:25:44,782] Trial 311 finished with value: 0.16268192362149275 and parameters: {'a0': 2.0, 'a1': 0.1, 'a2': 0.9, 'a3': 0.0, 'a4': 0.1, 'a5': 0.4, 'a6': 0.0}. Best is trial 278 with value: 0.1549133487013603.\n",
      "[I 2023-07-28 12:25:44,812] Trial 312 finished with value: 0.15964802214926682 and parameters: {'a0': 2.0, 'a1': 0.2, 'a2': 0.8, 'a3': 0.0, 'a4': 0.0, 'a5': 0.1, 'a6': 0.2}. Best is trial 278 with value: 0.1549133487013603.\n",
      "[I 2023-07-28 12:25:44,844] Trial 313 finished with value: 0.15976427242533914 and parameters: {'a0': 2.0, 'a1': 0.2, 'a2': 1.0, 'a3': 0.0, 'a4': 0.1, 'a5': 0.2, 'a6': 0.1}. Best is trial 278 with value: 0.1549133487013603.\n",
      "[I 2023-07-28 12:25:44,875] Trial 314 finished with value: 0.1607903551749234 and parameters: {'a0': 2.0, 'a1': 0.2, 'a2': 0.9, 'a3': 0.0, 'a4': 0.1, 'a5': 0.0, 'a6': 0.0}. Best is trial 278 with value: 0.1549133487013603.\n",
      "[I 2023-07-28 12:25:44,904] Trial 315 finished with value: 0.17014335918279463 and parameters: {'a0': 2.0, 'a1': 0.1, 'a2': 0.9, 'a3': 0.1, 'a4': 0.2, 'a5': 0.2, 'a6': 0.2}. Best is trial 278 with value: 0.1549133487013603.\n",
      "[I 2023-07-28 12:25:44,933] Trial 316 finished with value: 0.18665156562778243 and parameters: {'a0': 1.9000000000000001, 'a1': 0.1, 'a2': 0.8, 'a3': 0.5, 'a4': 0.1, 'a5': 0.30000000000000004, 'a6': 0.1}. Best is trial 278 with value: 0.1549133487013603.\n",
      "[I 2023-07-28 12:25:44,964] Trial 317 finished with value: 0.1607903551749234 and parameters: {'a0': 2.0, 'a1': 0.2, 'a2': 0.9, 'a3': 0.0, 'a4': 0.1, 'a5': 0.0, 'a6': 0.0}. Best is trial 278 with value: 0.1549133487013603.\n",
      "[I 2023-07-28 12:25:44,994] Trial 318 finished with value: 0.15593706915538547 and parameters: {'a0': 1.9000000000000001, 'a1': 0.2, 'a2': 1.0, 'a3': 0.0, 'a4': 0.0, 'a5': 0.1, 'a6': 0.1}. Best is trial 278 with value: 0.1549133487013603.\n",
      "[I 2023-07-28 12:25:45,026] Trial 319 finished with value: 0.15724794261006236 and parameters: {'a0': 2.0, 'a1': 0.2, 'a2': 1.0, 'a3': 0.0, 'a4': 0.0, 'a5': 0.2, 'a6': 0.1}. Best is trial 278 with value: 0.1549133487013603.\n",
      "[I 2023-07-28 12:25:45,057] Trial 320 finished with value: 0.19588587490605613 and parameters: {'a0': 2.0, 'a1': 0.1, 'a2': 1.0, 'a3': 0.8, 'a4': 0.0, 'a5': 0.30000000000000004, 'a6': 0.30000000000000004}. Best is trial 278 with value: 0.1549133487013603.\n",
      "[I 2023-07-28 12:25:45,087] Trial 321 finished with value: 0.16023569776935048 and parameters: {'a0': 2.0, 'a1': 0.30000000000000004, 'a2': 1.0, 'a3': 0.0, 'a4': 0.0, 'a5': 0.2, 'a6': 0.2}. Best is trial 278 with value: 0.1549133487013603.\n",
      "[I 2023-07-28 12:25:45,117] Trial 322 finished with value: 0.1624469803502211 and parameters: {'a0': 2.0, 'a1': 0.2, 'a2': 1.0, 'a3': 0.0, 'a4': 0.0, 'a5': 0.4, 'a6': 0.1}. Best is trial 278 with value: 0.1549133487013603.\n",
      "[I 2023-07-28 12:25:45,148] Trial 323 finished with value: 0.15730568335917716 and parameters: {'a0': 2.0, 'a1': 0.1, 'a2': 1.0, 'a3': 0.0, 'a4': 0.0, 'a5': 0.2, 'a6': 0.1}. Best is trial 278 with value: 0.1549133487013603.\n",
      "[I 2023-07-28 12:25:45,179] Trial 324 finished with value: 0.19941835240599642 and parameters: {'a0': 2.0, 'a1': 0.1, 'a2': 1.0, 'a3': 0.0, 'a4': 0.0, 'a5': 0.30000000000000004, 'a6': 2.5}. Best is trial 278 with value: 0.1549133487013603.\n",
      "[I 2023-07-28 12:25:45,210] Trial 325 finished with value: 0.18336718554524917 and parameters: {'a0': 0.7000000000000001, 'a1': 0.1, 'a2': 0.7000000000000001, 'a3': 0.1, 'a4': 0.0, 'a5': 0.2, 'a6': 0.30000000000000004}. Best is trial 278 with value: 0.1549133487013603.\n",
      "[I 2023-07-28 12:25:45,240] Trial 326 finished with value: 0.17047858269016247 and parameters: {'a0': 2.0, 'a1': 0.1, 'a2': 1.0, 'a3': 0.0, 'a4': 0.0, 'a5': 0.0, 'a6': 0.2}. Best is trial 278 with value: 0.1549133487013603.\n",
      "[I 2023-07-28 12:25:45,270] Trial 327 finished with value: 0.16255122440253386 and parameters: {'a0': 1.9000000000000001, 'a1': 1.6, 'a2': 0.8, 'a3': 0.0, 'a4': 0.0, 'a5': 0.4, 'a6': 0.1}. Best is trial 278 with value: 0.1549133487013603.\n",
      "[I 2023-07-28 12:25:45,300] Trial 328 finished with value: 0.213787258075011 and parameters: {'a0': 2.0, 'a1': 0.2, 'a2': 1.0, 'a3': 0.0, 'a4': 0.0, 'a5': 3.5, 'a6': 0.1}. Best is trial 278 with value: 0.1549133487013603.\n",
      "[I 2023-07-28 12:25:45,330] Trial 329 finished with value: 0.16364659304449608 and parameters: {'a0': 2.0, 'a1': 0.30000000000000004, 'a2': 0.7000000000000001, 'a3': 0.0, 'a4': 0.0, 'a5': 0.30000000000000004, 'a6': 0.2}. Best is trial 278 with value: 0.1549133487013603.\n",
      "[I 2023-07-28 12:25:45,360] Trial 330 finished with value: 0.16440042944995784 and parameters: {'a0': 1.9000000000000001, 'a1': 0.2, 'a2': 0.8, 'a3': 0.0, 'a4': 0.0, 'a5': 0.2, 'a6': 0.30000000000000004}. Best is trial 278 with value: 0.1549133487013603.\n",
      "[I 2023-07-28 12:25:45,391] Trial 331 finished with value: 0.15610893045842972 and parameters: {'a0': 2.0, 'a1': 0.1, 'a2': 0.8, 'a3': 0.0, 'a4': 0.0, 'a5': 0.1, 'a6': 0.1}. Best is trial 278 with value: 0.1549133487013603.\n",
      "[I 2023-07-28 12:25:45,423] Trial 332 finished with value: 0.16747390135669157 and parameters: {'a0': 2.0, 'a1': 0.1, 'a2': 0.7000000000000001, 'a3': 0.0, 'a4': 0.0, 'a5': 0.0, 'a6': 0.1}. Best is trial 278 with value: 0.1549133487013603.\n",
      "[I 2023-07-28 12:25:45,455] Trial 333 finished with value: 0.22543937124779548 and parameters: {'a0': 1.1, 'a1': 0.1, 'a2': 0.8, 'a3': 0.1, 'a4': 0.0, 'a5': 2.9000000000000004, 'a6': 0.2}. Best is trial 278 with value: 0.1549133487013603.\n",
      "[I 2023-07-28 12:25:45,488] Trial 334 finished with value: 0.15817450725378435 and parameters: {'a0': 1.9000000000000001, 'a1': 0.1, 'a2': 0.8, 'a3': 0.0, 'a4': 0.0, 'a5': 0.2, 'a6': 0.1}. Best is trial 278 with value: 0.1549133487013603.\n",
      "[I 2023-07-28 12:25:45,519] Trial 335 finished with value: 0.166543340133648 and parameters: {'a0': 2.0, 'a1': 0.1, 'a2': 0.7000000000000001, 'a3': 0.0, 'a4': 0.0, 'a5': 0.1, 'a6': 0.4}. Best is trial 278 with value: 0.1549133487013603.\n",
      "[I 2023-07-28 12:25:45,551] Trial 336 finished with value: 0.15878609885942055 and parameters: {'a0': 2.0, 'a1': 1.9000000000000001, 'a2': 0.8, 'a3': 0.0, 'a4': 0.1, 'a5': 0.1, 'a6': 0.0}. Best is trial 278 with value: 0.1549133487013603.\n",
      "[I 2023-07-28 12:25:45,584] Trial 337 finished with value: 0.16385399873062387 and parameters: {'a0': 1.9000000000000001, 'a1': 0.2, 'a2': 0.8, 'a3': 0.0, 'a4': 0.0, 'a5': 0.30000000000000004, 'a6': 0.2}. Best is trial 278 with value: 0.1549133487013603.\n"
     ]
    },
    {
     "name": "stderr",
     "output_type": "stream",
     "text": [
      "[I 2023-07-28 12:25:45,614] Trial 338 finished with value: 0.16442510048266673 and parameters: {'a0': 2.0, 'a1': 0.1, 'a2': 1.0, 'a3': 0.0, 'a4': 0.1, 'a5': 0.0, 'a6': 0.1}. Best is trial 278 with value: 0.1549133487013603.\n",
      "[I 2023-07-28 12:25:45,646] Trial 339 finished with value: 0.15718983722125307 and parameters: {'a0': 2.0, 'a1': 0.30000000000000004, 'a2': 0.8, 'a3': 0.0, 'a4': 0.1, 'a5': 0.2, 'a6': 0.0}. Best is trial 278 with value: 0.1549133487013603.\n",
      "[I 2023-07-28 12:25:45,678] Trial 340 finished with value: 0.1707302395025749 and parameters: {'a0': 1.9000000000000001, 'a1': 0.30000000000000004, 'a2': 0.8, 'a3': 0.0, 'a4': 0.1, 'a5': 0.4, 'a6': 0.30000000000000004}. Best is trial 278 with value: 0.1549133487013603.\n",
      "[I 2023-07-28 12:25:45,709] Trial 341 finished with value: 0.18429388555690393 and parameters: {'a0': 2.0, 'a1': 0.30000000000000004, 'a2': 0.7000000000000001, 'a3': 0.6000000000000001, 'a4': 0.0, 'a5': 0.2, 'a6': 0.0}. Best is trial 278 with value: 0.1549133487013603.\n",
      "[I 2023-07-28 12:25:45,740] Trial 342 finished with value: 0.20555646788676568 and parameters: {'a0': 2.0, 'a1': 0.30000000000000004, 'a2': 0.8, 'a3': 0.0, 'a4': 0.1, 'a5': 0.30000000000000004, 'a6': 3.1}. Best is trial 278 with value: 0.1549133487013603.\n",
      "[I 2023-07-28 12:25:45,772] Trial 343 finished with value: 0.2033843670204621 and parameters: {'a0': 0.4, 'a1': 0.2, 'a2': 0.8, 'a3': 0.0, 'a4': 0.0, 'a5': 1.0, 'a6': 0.1}. Best is trial 278 with value: 0.1549133487013603.\n",
      "[I 2023-07-28 12:25:45,804] Trial 344 finished with value: 0.16455971539399053 and parameters: {'a0': 1.9000000000000001, 'a1': 0.1, 'a2': 0.7000000000000001, 'a3': 0.0, 'a4': 0.1, 'a5': 0.2, 'a6': 0.2}. Best is trial 278 with value: 0.1549133487013603.\n",
      "[I 2023-07-28 12:25:45,836] Trial 345 finished with value: 0.1601395529625534 and parameters: {'a0': 2.0, 'a1': 0.2, 'a2': 1.1, 'a3': 0.1, 'a4': 0.1, 'a5': 0.1, 'a6': 0.0}. Best is trial 278 with value: 0.1549133487013603.\n",
      "[I 2023-07-28 12:25:45,867] Trial 346 finished with value: 0.21492540212312838 and parameters: {'a0': 2.0, 'a1': 0.30000000000000004, 'a2': 0.8, 'a3': 0.0, 'a4': 0.0, 'a5': 0.2, 'a6': 4.4}. Best is trial 278 with value: 0.1549133487013603.\n",
      "[I 2023-07-28 12:25:45,899] Trial 347 finished with value: 0.16489988515259027 and parameters: {'a0': 1.9000000000000001, 'a1': 0.2, 'a2': 0.8, 'a3': 0.0, 'a4': 0.1, 'a5': 0.0, 'a6': 0.1}. Best is trial 278 with value: 0.1549133487013603.\n",
      "[I 2023-07-28 12:25:45,930] Trial 348 finished with value: 0.1626815827856991 and parameters: {'a0': 2.0, 'a1': 0.1, 'a2': 0.9, 'a3': 0.0, 'a4': 0.0, 'a5': 0.1, 'a6': 0.30000000000000004}. Best is trial 278 with value: 0.1549133487013603.\n",
      "[I 2023-07-28 12:25:45,962] Trial 349 finished with value: 0.17954302572285707 and parameters: {'a0': 0.9, 'a1': 0.2, 'a2': 0.7000000000000001, 'a3': 0.1, 'a4': 0.1, 'a5': 0.4, 'a6': 0.0}. Best is trial 278 with value: 0.1549133487013603.\n",
      "[I 2023-07-28 12:25:45,992] Trial 350 finished with value: 0.20965682899527302 and parameters: {'a0': 2.0, 'a1': 0.2, 'a2': 0.9, 'a3': 0.0, 'a4': 0.1, 'a5': 2.3000000000000003, 'a6': 1.4000000000000001}. Best is trial 278 with value: 0.1549133487013603.\n",
      "[I 2023-07-28 12:25:46,025] Trial 351 finished with value: 0.16233726518067804 and parameters: {'a0': 1.9000000000000001, 'a1': 0.30000000000000004, 'a2': 1.0, 'a3': 0.0, 'a4': 0.1, 'a5': 0.30000000000000004, 'a6': 0.1}. Best is trial 278 with value: 0.1549133487013603.\n",
      "[I 2023-07-28 12:25:46,055] Trial 352 finished with value: 0.16293521363484018 and parameters: {'a0': 2.0, 'a1': 0.1, 'a2': 0.8, 'a3': 0.0, 'a4': 0.0, 'a5': 0.0, 'a6': 0.0}. Best is trial 278 with value: 0.1549133487013603.\n",
      "[I 2023-07-28 12:25:46,086] Trial 353 finished with value: 0.16264701593602723 and parameters: {'a0': 2.0, 'a1': 1.3, 'a2': 0.9, 'a3': 0.0, 'a4': 0.1, 'a5': 0.2, 'a6': 0.2}. Best is trial 278 with value: 0.1549133487013603.\n",
      "[I 2023-07-28 12:25:46,120] Trial 354 finished with value: 0.15549741905966644 and parameters: {'a0': 2.0, 'a1': 0.2, 'a2': 0.7000000000000001, 'a3': 0.0, 'a4': 0.1, 'a5': 0.1, 'a6': 0.0}. Best is trial 278 with value: 0.1549133487013603.\n",
      "[I 2023-07-28 12:25:46,151] Trial 355 finished with value: 0.1786674532900671 and parameters: {'a0': 1.9000000000000001, 'a1': 0.2, 'a2': 0.7000000000000001, 'a3': 0.4, 'a4': 0.0, 'a5': 0.0, 'a6': 0.1}. Best is trial 278 with value: 0.1549133487013603.\n",
      "[I 2023-07-28 12:25:46,184] Trial 356 finished with value: 0.1664656461778554 and parameters: {'a0': 2.0, 'a1': 0.1, 'a2': 0.7000000000000001, 'a3': 0.0, 'a4': 0.1, 'a5': 0.30000000000000004, 'a6': 0.2}. Best is trial 278 with value: 0.1549133487013603.\n",
      "[I 2023-07-28 12:25:46,217] Trial 357 finished with value: 0.1604630373682752 and parameters: {'a0': 2.0, 'a1': 0.30000000000000004, 'a2': 0.7000000000000001, 'a3': 0.1, 'a4': 0.0, 'a5': 0.2, 'a6': 0.0}. Best is trial 278 with value: 0.1549133487013603.\n",
      "[I 2023-07-28 12:25:46,249] Trial 358 finished with value: 0.22753962186722684 and parameters: {'a0': 1.9000000000000001, 'a1': 0.2, 'a2': 0.8, 'a3': 0.0, 'a4': 0.1, 'a5': 4.800000000000001, 'a6': 0.30000000000000004}. Best is trial 278 with value: 0.1549133487013603.\n",
      "[I 2023-07-28 12:25:46,282] Trial 359 finished with value: 0.15888947899216474 and parameters: {'a0': 2.0, 'a1': 0.1, 'a2': 0.8, 'a3': 0.0, 'a4': 0.1, 'a5': 0.1, 'a6': 0.1}. Best is trial 278 with value: 0.1549133487013603.\n",
      "[I 2023-07-28 12:25:46,314] Trial 360 finished with value: 0.16644269895787034 and parameters: {'a0': 2.0, 'a1': 0.2, 'a2': 0.7000000000000001, 'a3': 0.0, 'a4': 0.1, 'a5': 0.5, 'a6': 0.0}. Best is trial 278 with value: 0.1549133487013603.\n",
      "[I 2023-07-28 12:25:46,349] Trial 361 finished with value: 0.1701889692056067 and parameters: {'a0': 1.9000000000000001, 'a1': 0.30000000000000004, 'a2': 1.1, 'a3': 0.0, 'a4': 0.0, 'a5': 0.0, 'a6': 0.2}. Best is trial 278 with value: 0.1549133487013603.\n",
      "[I 2023-07-28 12:25:46,382] Trial 362 finished with value: 0.2122249302060613 and parameters: {'a0': 0.0, 'a1': 0.2, 'a2': 0.8, 'a3': 0.0, 'a4': 1.5, 'a5': 0.2, 'a6': 0.1}. Best is trial 278 with value: 0.1549133487013603.\n",
      "[I 2023-07-28 12:25:46,414] Trial 363 finished with value: 0.15204716961478543 and parameters: {'a0': 2.0, 'a1': 0.1, 'a2': 1.0, 'a3': 0.0, 'a4': 0.0, 'a5': 0.1, 'a6': 0.0}. Best is trial 363 with value: 0.15204716961478543.\n",
      "[I 2023-07-28 12:25:46,446] Trial 364 finished with value: 0.1690337530580616 and parameters: {'a0': 1.8, 'a1': 0.1, 'a2': 1.0, 'a3': 0.0, 'a4': 0.0, 'a5': 0.30000000000000004, 'a6': 0.4}. Best is trial 363 with value: 0.15204716961478543.\n",
      "[I 2023-07-28 12:25:46,480] Trial 365 finished with value: 0.1598430234101834 and parameters: {'a0': 2.0, 'a1': 0.1, 'a2': 1.0, 'a3': 0.0, 'a4': 0.0, 'a5': 0.4, 'a6': 0.0}. Best is trial 363 with value: 0.15204716961478543.\n",
      "[I 2023-07-28 12:25:46,514] Trial 366 finished with value: 0.15899896190645038 and parameters: {'a0': 2.0, 'a1': 0.1, 'a2': 1.1, 'a3': 0.0, 'a4': 0.0, 'a5': 0.1, 'a6': 0.2}. Best is trial 363 with value: 0.15204716961478543.\n",
      "[I 2023-07-28 12:25:46,547] Trial 367 finished with value: 0.16695484671558086 and parameters: {'a0': 1.9000000000000001, 'a1': 0.1, 'a2': 1.0, 'a3': 0.1, 'a4': 0.1, 'a5': 0.0, 'a6': 0.1}. Best is trial 363 with value: 0.15204716961478543.\n",
      "[I 2023-07-28 12:25:46,588] Trial 368 finished with value: 0.1876963736941805 and parameters: {'a0': 2.0, 'a1': 0.30000000000000004, 'a2': 0.8, 'a3': 0.0, 'a4': 0.0, 'a5': 1.5, 'a6': 0.0}. Best is trial 363 with value: 0.15204716961478543.\n",
      "[I 2023-07-28 12:25:46,625] Trial 369 finished with value: 0.16120772901334582 and parameters: {'a0': 1.9000000000000001, 'a1': 0.2, 'a2': 0.7000000000000001, 'a3': 0.0, 'a4': 0.1, 'a5': 0.2, 'a6': 0.1}. Best is trial 363 with value: 0.15204716961478543.\n",
      "[I 2023-07-28 12:25:46,671] Trial 370 finished with value: 0.21070546449356434 and parameters: {'a0': 2.0, 'a1': 0.1, 'a2': 1.1, 'a3': 0.0, 'a4': 0.0, 'a5': 3.1, 'a6': 0.30000000000000004}. Best is trial 363 with value: 0.15204716961478543.\n",
      "[I 2023-07-28 12:25:46,706] Trial 371 finished with value: 0.20922523326696307 and parameters: {'a0': 2.0, 'a1': 1.4000000000000001, 'a2': 1.0, 'a3': 0.0, 'a4': 0.1, 'a5': 4.0, 'a6': 0.0}. Best is trial 363 with value: 0.15204716961478543.\n"
     ]
    },
    {
     "name": "stderr",
     "output_type": "stream",
     "text": [
      "[I 2023-07-28 12:25:46,742] Trial 372 finished with value: 0.15988790844235432 and parameters: {'a0': 1.9000000000000001, 'a1': 0.2, 'a2': 0.8, 'a3': 0.0, 'a4': 0.0, 'a5': 0.1, 'a6': 0.2}. Best is trial 363 with value: 0.15204716961478543.\n",
      "[I 2023-07-28 12:25:46,777] Trial 373 finished with value: 0.17639168657234422 and parameters: {'a0': 0.5, 'a1': 0.1, 'a2': 0.9, 'a3': 0.0, 'a4': 0.1, 'a5': 0.30000000000000004, 'a6': 0.1}. Best is trial 363 with value: 0.15204716961478543.\n",
      "[I 2023-07-28 12:25:46,812] Trial 374 finished with value: 0.15539475165481828 and parameters: {'a0': 2.0, 'a1': 0.30000000000000004, 'a2': 0.8, 'a3': 0.0, 'a4': 0.1, 'a5': 0.1, 'a6': 0.0}. Best is trial 363 with value: 0.15204716961478543.\n",
      "[I 2023-07-28 12:25:46,846] Trial 375 finished with value: 0.16485431204173806 and parameters: {'a0': 2.0, 'a1': 0.30000000000000004, 'a2': 0.8, 'a3': 0.0, 'a4': 0.1, 'a5': 0.0, 'a6': 0.1}. Best is trial 363 with value: 0.15204716961478543.\n",
      "[I 2023-07-28 12:25:46,879] Trial 376 finished with value: 0.1628653242093843 and parameters: {'a0': 2.0, 'a1': 0.4, 'a2': 0.7000000000000001, 'a3': 0.1, 'a4': 0.1, 'a5': 0.2, 'a6': 0.0}. Best is trial 363 with value: 0.15204716961478543.\n",
      "[I 2023-07-28 12:25:46,912] Trial 377 finished with value: 0.16311959335769033 and parameters: {'a0': 1.9000000000000001, 'a1': 0.30000000000000004, 'a2': 0.8, 'a3': 0.0, 'a4': 0.0, 'a5': 0.1, 'a6': 0.30000000000000004}. Best is trial 363 with value: 0.15204716961478543.\n",
      "[I 2023-07-28 12:25:46,946] Trial 378 finished with value: 0.16592467838112518 and parameters: {'a0': 2.0, 'a1': 0.30000000000000004, 'a2': 0.8, 'a3': 0.1, 'a4': 0.0, 'a5': 0.2, 'a6': 0.2}. Best is trial 363 with value: 0.15204716961478543.\n",
      "[I 2023-07-28 12:25:46,979] Trial 379 finished with value: 0.16388223128880236 and parameters: {'a0': 1.9000000000000001, 'a1': 0.2, 'a2': 0.7000000000000001, 'a3': 0.0, 'a4': 0.1, 'a5': 0.30000000000000004, 'a6': 0.1}. Best is trial 363 with value: 0.15204716961478543.\n",
      "[I 2023-07-28 12:25:47,013] Trial 380 finished with value: 0.16104494461737728 and parameters: {'a0': 2.0, 'a1': 0.30000000000000004, 'a2': 0.8, 'a3': 0.0, 'a4': 0.1, 'a5': 0.0, 'a6': 0.0}. Best is trial 363 with value: 0.15204716961478543.\n",
      "[I 2023-07-28 12:25:47,048] Trial 381 finished with value: 0.16663851827980194 and parameters: {'a0': 1.0, 'a1': 0.2, 'a2': 0.8, 'a3': 0.0, 'a4': 0.0, 'a5': 0.2, 'a6': 0.2}. Best is trial 363 with value: 0.15204716961478543.\n",
      "[I 2023-07-28 12:25:47,082] Trial 382 finished with value: 0.16369338410937231 and parameters: {'a0': 2.0, 'a1': 0.1, 'a2': 0.7000000000000001, 'a3': 0.0, 'a4': 0.1, 'a5': 0.4, 'a6': 0.0}. Best is trial 363 with value: 0.15204716961478543.\n",
      "[I 2023-07-28 12:25:47,115] Trial 383 finished with value: 0.2145419006864516 and parameters: {'a0': 2.0, 'a1': 0.2, 'a2': 0.8, 'a3': 0.0, 'a4': 0.1, 'a5': 0.0, 'a6': 2.8000000000000003}. Best is trial 363 with value: 0.15204716961478543.\n",
      "[I 2023-07-28 12:25:47,150] Trial 384 finished with value: 0.15601607121031552 and parameters: {'a0': 1.9000000000000001, 'a1': 0.30000000000000004, 'a2': 1.0, 'a3': 0.0, 'a4': 0.0, 'a5': 0.1, 'a6': 0.1}. Best is trial 363 with value: 0.15204716961478543.\n",
      "[I 2023-07-28 12:25:47,185] Trial 385 finished with value: 0.15912007858915486 and parameters: {'a0': 1.8, 'a1': 0.4, 'a2': 0.9, 'a3': 0.0, 'a4': 0.1, 'a5': 0.1, 'a6': 0.1}. Best is trial 363 with value: 0.15204716961478543.\n",
      "[I 2023-07-28 12:25:47,220] Trial 386 finished with value: 0.18760493467153946 and parameters: {'a0': 1.8, 'a1': 0.30000000000000004, 'a2': 0.9, 'a3': 0.0, 'a4': 1.4000000000000001, 'a5': 0.1, 'a6': 0.4}. Best is trial 363 with value: 0.15204716961478543.\n",
      "[I 2023-07-28 12:25:47,255] Trial 387 finished with value: 0.1630114574656015 and parameters: {'a0': 1.9000000000000001, 'a1': 0.30000000000000004, 'a2': 0.8, 'a3': 0.0, 'a4': 0.0, 'a5': 0.0, 'a6': 0.0}. Best is trial 363 with value: 0.15204716961478543.\n",
      "[I 2023-07-28 12:25:47,289] Trial 388 finished with value: 0.18069635827002417 and parameters: {'a0': 1.9000000000000001, 'a1': 0.30000000000000004, 'a2': 0.7000000000000001, 'a3': 0.0, 'a4': 1.0, 'a5': 0.0, 'a6': 0.2}. Best is trial 363 with value: 0.15204716961478543.\n",
      "[I 2023-07-28 12:25:47,324] Trial 389 finished with value: 0.16436921456473882 and parameters: {'a0': 1.9000000000000001, 'a1': 0.4, 'a2': 1.0, 'a3': 0.1, 'a4': 0.1, 'a5': 0.30000000000000004, 'a6': 0.0}. Best is trial 363 with value: 0.15204716961478543.\n",
      "[I 2023-07-28 12:25:47,357] Trial 390 finished with value: 0.15896664442936762 and parameters: {'a0': 2.0, 'a1': 0.30000000000000004, 'a2': 1.1, 'a3': 0.0, 'a4': 0.0, 'a5': 0.1, 'a6': 0.2}. Best is trial 363 with value: 0.15204716961478543.\n",
      "[I 2023-07-28 12:25:47,392] Trial 391 finished with value: 0.19620743910385285 and parameters: {'a0': 2.0, 'a1': 0.2, 'a2': 0.8, 'a3': 0.9, 'a4': 0.1, 'a5': 0.2, 'a6': 0.0}. Best is trial 363 with value: 0.15204716961478543.\n",
      "[I 2023-07-28 12:25:47,426] Trial 392 finished with value: 0.16478417429202136 and parameters: {'a0': 1.9000000000000001, 'a1': 0.30000000000000004, 'a2': 0.9, 'a3': 0.0, 'a4': 0.1, 'a5': 0.0, 'a6': 0.1}. Best is trial 363 with value: 0.15204716961478543.\n",
      "[I 2023-07-28 12:25:47,459] Trial 393 finished with value: 0.1522893936117467 and parameters: {'a0': 2.0, 'a1': 0.2, 'a2': 0.8, 'a3': 0.0, 'a4': 0.0, 'a5': 0.1, 'a6': 0.0}. Best is trial 363 with value: 0.15204716961478543.\n",
      "[I 2023-07-28 12:25:47,493] Trial 394 finished with value: 0.15655668900629538 and parameters: {'a0': 1.9000000000000001, 'a1': 1.7000000000000002, 'a2': 0.8, 'a3': 0.0, 'a4': 0.0, 'a5': 0.1, 'a6': 0.0}. Best is trial 363 with value: 0.15204716961478543.\n",
      "[I 2023-07-28 12:25:47,528] Trial 395 finished with value: 0.167283976520947 and parameters: {'a0': 1.8, 'a1': 1.8, 'a2': 0.8, 'a3': 0.0, 'a4': 0.0, 'a5': 0.0, 'a6': 0.0}. Best is trial 363 with value: 0.15204716961478543.\n",
      "[I 2023-07-28 12:25:47,562] Trial 396 finished with value: 0.15717483291166595 and parameters: {'a0': 1.9000000000000001, 'a1': 0.7000000000000001, 'a2': 0.7000000000000001, 'a3': 0.0, 'a4': 0.0, 'a5': 0.1, 'a6': 0.1}. Best is trial 363 with value: 0.15204716961478543.\n",
      "[I 2023-07-28 12:25:47,597] Trial 397 finished with value: 0.15455780702197724 and parameters: {'a0': 1.8, 'a1': 1.0, 'a2': 0.8, 'a3': 0.0, 'a4': 0.0, 'a5': 0.1, 'a6': 0.0}. Best is trial 363 with value: 0.15204716961478543.\n",
      "[I 2023-07-28 12:25:47,631] Trial 398 finished with value: 0.1706765057102228 and parameters: {'a0': 1.8, 'a1': 1.7000000000000002, 'a2': 0.8, 'a3': 0.1, 'a4': 0.0, 'a5': 0.0, 'a6': 0.2}. Best is trial 363 with value: 0.15204716961478543.\n",
      "[I 2023-07-28 12:25:47,665] Trial 399 finished with value: 0.16429852307096018 and parameters: {'a0': 1.8, 'a1': 1.5, 'a2': 0.7000000000000001, 'a3': 0.0, 'a4': 0.0, 'a5': 0.1, 'a6': 0.30000000000000004}. Best is trial 363 with value: 0.15204716961478543.\n",
      "[I 2023-07-28 12:25:47,700] Trial 400 finished with value: 0.15506581562782673 and parameters: {'a0': 1.9000000000000001, 'a1': 1.2000000000000002, 'a2': 0.8, 'a3': 0.0, 'a4': 0.0, 'a5': 0.1, 'a6': 0.0}. Best is trial 363 with value: 0.15204716961478543.\n",
      "[I 2023-07-28 12:25:47,735] Trial 401 finished with value: 0.18759296168265965 and parameters: {'a0': 1.9000000000000001, 'a1': 1.1, 'a2': 0.8, 'a3': 0.0, 'a4': 0.0, 'a5': 0.1, 'a6': 1.6}. Best is trial 363 with value: 0.15204716961478543.\n",
      "[I 2023-07-28 12:25:47,770] Trial 402 finished with value: 0.16845946712582927 and parameters: {'a0': 1.9000000000000001, 'a1': 1.0, 'a2': 0.7000000000000001, 'a3': 0.0, 'a4': 0.0, 'a5': 0.0, 'a6': 0.1}. Best is trial 363 with value: 0.15204716961478543.\n",
      "[I 2023-07-28 12:25:47,805] Trial 403 finished with value: 0.1632247060514867 and parameters: {'a0': 0.8, 'a1': 0.7000000000000001, 'a2': 0.8, 'a3': 0.0, 'a4': 0.0, 'a5': 0.30000000000000004, 'a6': 0.0}. Best is trial 363 with value: 0.15204716961478543.\n",
      "[I 2023-07-28 12:25:47,840] Trial 404 finished with value: 0.2089496046735359 and parameters: {'a0': 1.8, 'a1': 0.2, 'a2': 0.7000000000000001, 'a3': 0.1, 'a4': 0.0, 'a5': 0.0, 'a6': 2.1}. Best is trial 363 with value: 0.15204716961478543.\n",
      "[I 2023-07-28 12:25:47,877] Trial 405 finished with value: 0.2108776738367649 and parameters: {'a0': 1.9000000000000001, 'a1': 1.2000000000000002, 'a2': 0.8, 'a3': 0.0, 'a4': 0.0, 'a5': 0.1, 'a6': 4.1000000000000005}. Best is trial 363 with value: 0.15204716961478543.\n"
     ]
    },
    {
     "name": "stderr",
     "output_type": "stream",
     "text": [
      "[I 2023-07-28 12:25:47,914] Trial 406 finished with value: 0.18946659101888785 and parameters: {'a0': 1.9000000000000001, 'a1': 0.9, 'a2': 0.8, 'a3': 0.7000000000000001, 'a4': 0.1, 'a5': 0.30000000000000004, 'a6': 0.2}. Best is trial 363 with value: 0.15204716961478543.\n",
      "[I 2023-07-28 12:25:47,948] Trial 407 finished with value: 0.20714375146499786 and parameters: {'a0': 0.30000000000000004, 'a1': 0.2, 'a2': 0.7000000000000001, 'a3': 0.0, 'a4': 1.6, 'a5': 0.1, 'a6': 0.1}. Best is trial 363 with value: 0.15204716961478543.\n",
      "[I 2023-07-28 12:25:47,983] Trial 408 finished with value: 0.1572008996358109 and parameters: {'a0': 2.0, 'a1': 0.2, 'a2': 0.8, 'a3': 0.0, 'a4': 0.1, 'a5': 0.2, 'a6': 0.0}. Best is trial 363 with value: 0.15204716961478543.\n",
      "[I 2023-07-28 12:25:48,019] Trial 409 finished with value: 0.21415495213889285 and parameters: {'a0': 1.9000000000000001, 'a1': 1.1, 'a2': 0.9, 'a3': 0.0, 'a4': 0.0, 'a5': 4.2, 'a6': 0.0}. Best is trial 363 with value: 0.15204716961478543.\n",
      "[I 2023-07-28 12:25:48,054] Trial 410 finished with value: 0.17165012713969588 and parameters: {'a0': 2.0, 'a1': 1.0, 'a2': 0.8, 'a3': 0.0, 'a4': 0.1, 'a5': 0.0, 'a6': 0.30000000000000004}. Best is trial 363 with value: 0.15204716961478543.\n",
      "[I 2023-07-28 12:25:48,089] Trial 411 finished with value: 0.18124213493350766 and parameters: {'a0': 2.0, 'a1': 0.8, 'a2': 0.9, 'a3': 0.5, 'a4': 0.1, 'a5': 0.2, 'a6': 0.2}. Best is trial 363 with value: 0.15204716961478543.\n",
      "[I 2023-07-28 12:25:48,127] Trial 412 finished with value: 0.1578091112565633 and parameters: {'a0': 1.9000000000000001, 'a1': 1.1, 'a2': 0.8, 'a3': 0.0, 'a4': 0.0, 'a5': 0.1, 'a6': 0.1}. Best is trial 363 with value: 0.15204716961478543.\n",
      "[I 2023-07-28 12:25:48,174] Trial 413 finished with value: 0.16366579093623018 and parameters: {'a0': 2.0, 'a1': 1.3, 'a2': 0.9, 'a3': 0.0, 'a4': 0.1, 'a5': 0.4, 'a6': 0.1}. Best is trial 363 with value: 0.15204716961478543.\n",
      "[I 2023-07-28 12:25:48,219] Trial 414 finished with value: 0.15617130412204933 and parameters: {'a0': 2.0, 'a1': 1.4000000000000001, 'a2': 0.8, 'a3': 0.0, 'a4': 0.0, 'a5': 0.2, 'a6': 0.0}. Best is trial 363 with value: 0.15204716961478543.\n",
      "[I 2023-07-28 12:25:48,254] Trial 415 finished with value: 0.21292374014319776 and parameters: {'a0': 1.9000000000000001, 'a1': 0.2, 'a2': 0.7000000000000001, 'a3': 0.1, 'a4': 1.7000000000000002, 'a5': 0.0, 'a6': 2.4000000000000004}. Best is trial 363 with value: 0.15204716961478543.\n",
      "[I 2023-07-28 12:25:48,292] Trial 416 finished with value: 0.18029734528204772 and parameters: {'a0': 2.0, 'a1': 0.2, 'a2': 0.8, 'a3': 0.0, 'a4': 0.7000000000000001, 'a5': 0.30000000000000004, 'a6': 0.4}. Best is trial 363 with value: 0.15204716961478543.\n",
      "[I 2023-07-28 12:25:48,330] Trial 417 finished with value: 0.15739440819025094 and parameters: {'a0': 2.0, 'a1': 1.2000000000000002, 'a2': 0.7000000000000001, 'a3': 0.0, 'a4': 0.1, 'a5': 0.1, 'a6': 0.0}. Best is trial 363 with value: 0.15204716961478543.\n",
      "[I 2023-07-28 12:25:48,366] Trial 418 finished with value: 0.16293154042252855 and parameters: {'a0': 1.9000000000000001, 'a1': 1.2000000000000002, 'a2': 0.9, 'a3': 0.0, 'a4': 0.1, 'a5': 0.2, 'a6': 0.2}. Best is trial 363 with value: 0.15204716961478543.\n",
      "[I 2023-07-28 12:25:48,400] Trial 419 finished with value: 0.1559520770088529 and parameters: {'a0': 2.0, 'a1': 0.2, 'a2': 0.9, 'a3': 0.0, 'a4': 0.0, 'a5': 0.1, 'a6': 0.1}. Best is trial 363 with value: 0.15204716961478543.\n",
      "[I 2023-07-28 12:25:48,434] Trial 420 finished with value: 0.172268966595362 and parameters: {'a0': 1.9000000000000001, 'a1': 2.0, 'a2': 0.9, 'a3': 0.0, 'a4': 0.0, 'a5': 0.0, 'a6': 0.2}. Best is trial 363 with value: 0.15204716961478543.\n",
      "[I 2023-07-28 12:25:48,471] Trial 421 finished with value: 0.16652873652294445 and parameters: {'a0': 1.8, 'a1': 0.2, 'a2': 0.9, 'a3': 0.0, 'a4': 0.1, 'a5': 0.5, 'a6': 0.0}. Best is trial 363 with value: 0.15204716961478543.\n",
      "[I 2023-07-28 12:25:48,508] Trial 422 finished with value: 0.1882624425025072 and parameters: {'a0': 2.0, 'a1': 1.3, 'a2': 0.9, 'a3': 0.0, 'a4': 1.2000000000000002, 'a5': 0.30000000000000004, 'a6': 1.0}. Best is trial 363 with value: 0.15204716961478543.\n",
      "[I 2023-07-28 12:25:48,545] Trial 423 finished with value: 0.16083730576986408 and parameters: {'a0': 2.0, 'a1': 2.0, 'a2': 1.0, 'a3': 0.0, 'a4': 0.1, 'a5': 0.1, 'a6': 0.1}. Best is trial 363 with value: 0.15204716961478543.\n",
      "[I 2023-07-28 12:25:48,581] Trial 424 finished with value: 0.16033749208176923 and parameters: {'a0': 1.9000000000000001, 'a1': 0.30000000000000004, 'a2': 0.9, 'a3': 0.0, 'a4': 0.0, 'a5': 0.4, 'a6': 0.0}. Best is trial 363 with value: 0.15204716961478543.\n",
      "[I 2023-07-28 12:25:48,619] Trial 425 finished with value: 0.1718197036682462 and parameters: {'a0': 1.2000000000000002, 'a1': 1.6, 'a2': 0.9, 'a3': 0.1, 'a4': 0.1, 'a5': 0.2, 'a6': 0.30000000000000004}. Best is trial 363 with value: 0.15204716961478543.\n",
      "[I 2023-07-28 12:25:48,655] Trial 426 finished with value: 0.16810580889471355 and parameters: {'a0': 2.0, 'a1': 0.9, 'a2': 0.7000000000000001, 'a3': 0.0, 'a4': 0.0, 'a5': 0.0, 'a6': 0.1}. Best is trial 363 with value: 0.15204716961478543.\n",
      "[I 2023-07-28 12:25:48,691] Trial 427 finished with value: 0.15529136876735236 and parameters: {'a0': 2.0, 'a1': 0.2, 'a2': 0.8, 'a3': 0.0, 'a4': 0.1, 'a5': 0.1, 'a6': 0.0}. Best is trial 363 with value: 0.15204716961478543.\n",
      "[I 2023-07-28 12:25:48,727] Trial 428 finished with value: 0.1572008996358109 and parameters: {'a0': 2.0, 'a1': 0.2, 'a2': 0.8, 'a3': 0.0, 'a4': 0.1, 'a5': 0.2, 'a6': 0.0}. Best is trial 363 with value: 0.15204716961478543.\n",
      "[I 2023-07-28 12:25:48,762] Trial 429 finished with value: 0.16177217354978557 and parameters: {'a0': 2.0, 'a1': 0.6000000000000001, 'a2': 0.8, 'a3': 0.0, 'a4': 0.1, 'a5': 0.0, 'a6': 0.0}. Best is trial 363 with value: 0.15204716961478543.\n",
      "[I 2023-07-28 12:25:48,798] Trial 430 finished with value: 0.1634270775037133 and parameters: {'a0': 2.0, 'a1': 0.2, 'a2': 0.7000000000000001, 'a3': 0.0, 'a4': 0.1, 'a5': 0.4, 'a6': 0.0}. Best is trial 363 with value: 0.15204716961478543.\n",
      "[I 2023-07-28 12:25:48,834] Trial 431 finished with value: 0.1677714068177988 and parameters: {'a0': 2.0, 'a1': 0.2, 'a2': 0.8, 'a3': 0.0, 'a4': 0.2, 'a5': 0.30000000000000004, 'a6': 0.2}. Best is trial 363 with value: 0.15204716961478543.\n",
      "[I 2023-07-28 12:25:48,869] Trial 432 finished with value: 0.15765082117294377 and parameters: {'a0': 2.0, 'a1': 1.4000000000000001, 'a2': 0.8, 'a3': 0.0, 'a4': 0.1, 'a5': 0.1, 'a6': 0.0}. Best is trial 363 with value: 0.15204716961478543.\n",
      "[I 2023-07-28 12:25:48,904] Trial 433 finished with value: 0.1661432895080802 and parameters: {'a0': 2.0, 'a1': 0.2, 'a2': 0.7000000000000001, 'a3': 0.1, 'a4': 0.1, 'a5': 0.2, 'a6': 0.1}. Best is trial 363 with value: 0.15204716961478543.\n",
      "[I 2023-07-28 12:25:48,940] Trial 434 finished with value: 0.1811708793519088 and parameters: {'a0': 2.0, 'a1': 0.2, 'a2': 0.8, 'a3': 0.4, 'a4': 0.1, 'a5': 0.0, 'a6': 0.2}. Best is trial 363 with value: 0.15204716961478543.\n",
      "[I 2023-07-28 12:25:48,975] Trial 435 finished with value: 0.1614554260258159 and parameters: {'a0': 2.0, 'a1': 1.0, 'a2': 0.9, 'a3': 0.0, 'a4': 0.2, 'a5': 0.30000000000000004, 'a6': 0.0}. Best is trial 363 with value: 0.15204716961478543.\n",
      "[I 2023-07-28 12:25:49,020] Trial 436 finished with value: 0.21962852936430238 and parameters: {'a0': 1.1, 'a1': 0.2, 'a2': 0.8, 'a3': 0.0, 'a4': 0.1, 'a5': 0.1, 'a6': 3.4000000000000004}. Best is trial 363 with value: 0.15204716961478543.\n",
      "[I 2023-07-28 12:25:49,057] Trial 437 finished with value: 0.2209670401595749 and parameters: {'a0': 2.0, 'a1': 0.2, 'a2': 0.6000000000000001, 'a3': 0.0, 'a4': 0.1, 'a5': 3.8000000000000003, 'a6': 0.2}. Best is trial 363 with value: 0.15204716961478543.\n",
      "[I 2023-07-28 12:25:49,093] Trial 438 finished with value: 0.16289697897807254 and parameters: {'a0': 1.9000000000000001, 'a1': 0.2, 'a2': 0.9, 'a3': 0.0, 'a4': 0.2, 'a5': 0.2, 'a6': 0.1}. Best is trial 363 with value: 0.15204716961478543.\n",
      "[I 2023-07-28 12:25:49,130] Trial 439 finished with value: 0.2220762499497258 and parameters: {'a0': 2.0, 'a1': 0.30000000000000004, 'a2': 0.8, 'a3': 0.0, 'a4': 0.0, 'a5': 4.4, 'a6': 0.0}. Best is trial 363 with value: 0.15204716961478543.\n"
     ]
    },
    {
     "name": "stderr",
     "output_type": "stream",
     "text": [
      "[I 2023-07-28 12:25:49,168] Trial 440 finished with value: 0.17213997294721767 and parameters: {'a0': 1.9000000000000001, 'a1': 0.1, 'a2': 0.8, 'a3': 0.0, 'a4': 0.1, 'a5': 0.0, 'a6': 0.30000000000000004}. Best is trial 363 with value: 0.15204716961478543.\n",
      "[I 2023-07-28 12:25:49,205] Trial 441 finished with value: 0.16457191165898333 and parameters: {'a0': 2.0, 'a1': 0.2, 'a2': 0.7000000000000001, 'a3': 0.1, 'a4': 0.1, 'a5': 0.1, 'a6': 0.1}. Best is trial 363 with value: 0.15204716961478543.\n",
      "[I 2023-07-28 12:25:49,242] Trial 442 finished with value: 0.15409106257989172 and parameters: {'a0': 2.0, 'a1': 0.1, 'a2': 0.9, 'a3': 0.0, 'a4': 0.0, 'a5': 0.2, 'a6': 0.0}. Best is trial 363 with value: 0.15204716961478543.\n",
      "[I 2023-07-28 12:25:49,280] Trial 443 finished with value: 0.2120270596846487 and parameters: {'a0': 1.9000000000000001, 'a1': 0.1, 'a2': 0.30000000000000004, 'a3': 1.0, 'a4': 0.9, 'a5': 0.2, 'a6': 0.0}. Best is trial 363 with value: 0.15204716961478543.\n",
      "[I 2023-07-28 12:25:49,318] Trial 444 finished with value: 0.16168996052926457 and parameters: {'a0': 2.0, 'a1': 0.1, 'a2': 0.8, 'a3': 0.0, 'a4': 0.2, 'a5': 0.0, 'a6': 0.0}. Best is trial 363 with value: 0.15204716961478543.\n",
      "[I 2023-07-28 12:25:49,355] Trial 445 finished with value: 0.15740040343292458 and parameters: {'a0': 2.0, 'a1': 0.1, 'a2': 0.8, 'a3': 0.0, 'a4': 0.0, 'a5': 0.30000000000000004, 'a6': 0.0}. Best is trial 363 with value: 0.15204716961478543.\n",
      "[I 2023-07-28 12:25:49,390] Trial 446 finished with value: 0.16455971539399053 and parameters: {'a0': 1.9000000000000001, 'a1': 0.1, 'a2': 0.7000000000000001, 'a3': 0.0, 'a4': 0.1, 'a5': 0.2, 'a6': 0.2}. Best is trial 363 with value: 0.15204716961478543.\n",
      "[I 2023-07-28 12:25:49,426] Trial 447 finished with value: 0.17653671898802842 and parameters: {'a0': 2.0, 'a1': 0.2, 'a2': 0.9, 'a3': 0.0, 'a4': 1.1, 'a5': 0.0, 'a6': 0.0}. Best is trial 363 with value: 0.15204716961478543.\n",
      "[I 2023-07-28 12:25:49,463] Trial 448 finished with value: 0.18369584879111564 and parameters: {'a0': 0.6000000000000001, 'a1': 0.30000000000000004, 'a2': 0.8, 'a3': 0.1, 'a4': 0.2, 'a5': 0.30000000000000004, 'a6': 0.1}. Best is trial 363 with value: 0.15204716961478543.\n",
      "[I 2023-07-28 12:25:49,502] Trial 449 finished with value: 0.1583255714698025 and parameters: {'a0': 2.0, 'a1': 1.5, 'a2': 0.6000000000000001, 'a3': 0.0, 'a4': 0.1, 'a5': 0.1, 'a6': 0.0}. Best is trial 363 with value: 0.15204716961478543.\n",
      "[I 2023-07-28 12:25:49,540] Trial 450 finished with value: 0.15871917979338399 and parameters: {'a0': 1.9000000000000001, 'a1': 1.2000000000000002, 'a2': 0.8, 'a3': 0.0, 'a4': 0.0, 'a5': 0.2, 'a6': 0.1}. Best is trial 363 with value: 0.15204716961478543.\n",
      "[I 2023-07-28 12:25:49,579] Trial 451 finished with value: 0.1924386655602177 and parameters: {'a0': 2.0, 'a1': 0.2, 'a2': 0.9, 'a3': 0.0, 'a4': 1.9000000000000001, 'a5': 0.5, 'a6': 0.2}. Best is trial 363 with value: 0.15204716961478543.\n",
      "[I 2023-07-28 12:25:49,618] Trial 452 finished with value: 0.16098549520644792 and parameters: {'a0': 2.0, 'a1': 0.2, 'a2': 0.7000000000000001, 'a3': 0.0, 'a4': 0.1, 'a5': 0.0, 'a6': 0.0}. Best is trial 363 with value: 0.15204716961478543.\n",
      "[I 2023-07-28 12:25:49,655] Trial 453 finished with value: 0.1633588914166366 and parameters: {'a0': 1.9000000000000001, 'a1': 0.1, 'a2': 0.8, 'a3': 0.0, 'a4': 0.0, 'a5': 0.1, 'a6': 0.30000000000000004}. Best is trial 363 with value: 0.15204716961478543.\n",
      "[I 2023-07-28 12:25:49,691] Trial 454 finished with value: 0.19441236905867237 and parameters: {'a0': 2.0, 'a1': 0.1, 'a2': 0.0, 'a3': 0.0, 'a4': 0.1, 'a5': 1.2000000000000002, 'a6': 0.1}. Best is trial 363 with value: 0.15204716961478543.\n",
      "[I 2023-07-28 12:25:49,728] Trial 455 finished with value: 0.17064643588239614 and parameters: {'a0': 1.9000000000000001, 'a1': 0.30000000000000004, 'a2': 0.9, 'a3': 0.0, 'a4': 0.7000000000000001, 'a5': 0.2, 'a6': 0.0}. Best is trial 363 with value: 0.15204716961478543.\n",
      "[I 2023-07-28 12:25:49,763] Trial 456 finished with value: 0.17072339225692157 and parameters: {'a0': 2.0, 'a1': 0.2, 'a2': 0.8, 'a3': 0.1, 'a4': 0.0, 'a5': 0.4, 'a6': 0.2}. Best is trial 363 with value: 0.15204716961478543.\n",
      "[I 2023-07-28 12:25:49,800] Trial 457 finished with value: 0.1586245115966328 and parameters: {'a0': 2.0, 'a1': 0.1, 'a2': 0.9, 'a3': 0.0, 'a4': 0.1, 'a5': 0.1, 'a6': 0.1}. Best is trial 363 with value: 0.15204716961478543.\n",
      "[I 2023-07-28 12:25:49,840] Trial 458 finished with value: 0.1619570026610621 and parameters: {'a0': 2.0, 'a1': 0.2, 'a2': 0.7000000000000001, 'a3': 0.0, 'a4': 0.2, 'a5': 0.0, 'a6': 0.0}. Best is trial 363 with value: 0.15204716961478543.\n",
      "[I 2023-07-28 12:25:49,880] Trial 459 finished with value: 0.20563910432187443 and parameters: {'a0': 1.9000000000000001, 'a1': 0.30000000000000004, 'a2': 0.8, 'a3': 0.0, 'a4': 0.1, 'a5': 2.5, 'a6': 0.1}. Best is trial 363 with value: 0.15204716961478543.\n",
      "[I 2023-07-28 12:25:49,918] Trial 460 finished with value: 0.15697509197280274 and parameters: {'a0': 2.0, 'a1': 0.2, 'a2': 0.9, 'a3': 0.0, 'a4': 0.0, 'a5': 0.30000000000000004, 'a6': 0.0}. Best is trial 363 with value: 0.15204716961478543.\n",
      "[I 2023-07-28 12:25:49,955] Trial 461 finished with value: 0.17074160215819378 and parameters: {'a0': 1.9000000000000001, 'a1': 0.30000000000000004, 'a2': 0.7000000000000001, 'a3': 0.0, 'a4': 0.2, 'a5': 0.1, 'a6': 0.4}. Best is trial 363 with value: 0.15204716961478543.\n",
      "[I 2023-07-28 12:25:49,995] Trial 462 finished with value: 0.19399664136631406 and parameters: {'a0': 2.0, 'a1': 0.1, 'a2': 0.8, 'a3': 0.0, 'a4': 0.1, 'a5': 0.2, 'a6': 1.8}. Best is trial 363 with value: 0.15204716961478543.\n",
      "[I 2023-07-28 12:25:50,033] Trial 463 finished with value: 0.1693595847404647 and parameters: {'a0': 2.0, 'a1': 0.2, 'a2': 0.8, 'a3': 0.1, 'a4': 0.0, 'a5': 0.0, 'a6': 0.2}. Best is trial 363 with value: 0.15204716961478543.\n",
      "[I 2023-07-28 12:25:50,070] Trial 464 finished with value: 0.1598671749511446 and parameters: {'a0': 2.0, 'a1': 0.1, 'a2': 1.0, 'a3': 0.0, 'a4': 0.1, 'a5': 0.2, 'a6': 0.1}. Best is trial 363 with value: 0.15204716961478543.\n",
      "[I 2023-07-28 12:25:50,108] Trial 465 finished with value: 0.1883734325482146 and parameters: {'a0': 1.9000000000000001, 'a1': 0.2, 'a2': 0.9, 'a3': 0.6000000000000001, 'a4': 0.2, 'a5': 0.30000000000000004, 'a6': 0.0}. Best is trial 363 with value: 0.15204716961478543.\n",
      "[I 2023-07-28 12:25:50,148] Trial 466 finished with value: 0.17060754615216567 and parameters: {'a0': 2.0, 'a1': 0.2, 'a2': 0.9, 'a3': 0.0, 'a4': 0.0, 'a5': 0.0, 'a6': 0.2}. Best is trial 363 with value: 0.15204716961478543.\n",
      "[I 2023-07-28 12:25:50,187] Trial 467 finished with value: 0.21322531934484634 and parameters: {'a0': 1.9000000000000001, 'a1': 0.30000000000000004, 'a2': 0.8, 'a3': 0.0, 'a4': 0.1, 'a5': 0.1, 'a6': 3.7}. Best is trial 363 with value: 0.15204716961478543.\n",
      "[I 2023-07-28 12:25:50,227] Trial 468 finished with value: 0.16829506436364822 and parameters: {'a0': 1.8, 'a1': 0.2, 'a2': 0.2, 'a3': 0.0, 'a4': 0.1, 'a5': 0.4, 'a6': 0.0}. Best is trial 363 with value: 0.15204716961478543.\n",
      "[I 2023-07-28 12:25:50,267] Trial 469 finished with value: 0.16408685888543445 and parameters: {'a0': 2.0, 'a1': 0.4, 'a2': 0.7000000000000001, 'a3': 0.0, 'a4': 0.0, 'a5': 0.2, 'a6': 0.30000000000000004}. Best is trial 363 with value: 0.15204716961478543.\n",
      "[I 2023-07-28 12:25:50,307] Trial 470 finished with value: 0.1631553277507798 and parameters: {'a0': 2.0, 'a1': 0.1, 'a2': 2.0, 'a3': 0.1, 'a4': 0.2, 'a5': 0.1, 'a6': 0.1}. Best is trial 363 with value: 0.15204716961478543.\n",
      "[I 2023-07-28 12:25:50,345] Trial 471 finished with value: 0.1736574224883977 and parameters: {'a0': 2.0, 'a1': 0.8, 'a2': 0.8, 'a3': 0.0, 'a4': 0.8, 'a5': 0.0, 'a6': 0.1}. Best is trial 363 with value: 0.15204716961478543.\n",
      "[I 2023-07-28 12:25:50,382] Trial 472 finished with value: 0.1921025149079561 and parameters: {'a0': 1.9000000000000001, 'a1': 0.2, 'a2': 0.9, 'a3': 0.8, 'a4': 0.1, 'a5': 0.1, 'a6': 0.0}. Best is trial 363 with value: 0.15204716961478543.\n",
      "[I 2023-07-28 12:25:50,419] Trial 473 finished with value: 0.16280655147113857 and parameters: {'a0': 2.0, 'a1': 0.1, 'a2': 1.0, 'a3': 0.0, 'a4': 0.1, 'a5': 0.2, 'a6': 0.2}. Best is trial 363 with value: 0.15204716961478543.\n"
     ]
    },
    {
     "name": "stderr",
     "output_type": "stream",
     "text": [
      "[I 2023-07-28 12:25:50,456] Trial 474 finished with value: 0.21842423642597505 and parameters: {'a0': 1.9000000000000001, 'a1': 0.0, 'a2': 0.7000000000000001, 'a3': 0.0, 'a4': 0.0, 'a5': 0.30000000000000004, 'a6': 4.5}. Best is trial 363 with value: 0.15204716961478543.\n",
      "[I 2023-07-28 12:25:50,494] Trial 475 finished with value: 0.1880710374633922 and parameters: {'a0': 2.0, 'a1': 0.30000000000000004, 'a2': 0.8, 'a3': 0.0, 'a4': 0.0, 'a5': 0.0, 'a6': 0.8}. Best is trial 363 with value: 0.15204716961478543.\n",
      "[I 2023-07-28 12:25:50,532] Trial 476 finished with value: 0.21310028931292627 and parameters: {'a0': 2.0, 'a1': 0.2, 'a2': 0.9, 'a3': 0.30000000000000004, 'a4': 0.1, 'a5': 2.8000000000000003, 'a6': 0.1}. Best is trial 363 with value: 0.15204716961478543.\n",
      "[I 2023-07-28 12:25:50,570] Trial 477 finished with value: 0.15729928172613727 and parameters: {'a0': 2.0, 'a1': 0.2, 'a2': 0.8, 'a3': 0.0, 'a4': 0.0, 'a5': 0.30000000000000004, 'a6': 0.0}. Best is trial 363 with value: 0.15204716961478543.\n",
      "[I 2023-07-28 12:25:50,609] Trial 478 finished with value: 0.1903918220741267 and parameters: {'a0': 1.9000000000000001, 'a1': 0.30000000000000004, 'a2': 0.8, 'a3': 0.0, 'a4': 1.8, 'a5': 0.1, 'a6': 0.30000000000000004}. Best is trial 363 with value: 0.15204716961478543.\n",
      "[I 2023-07-28 12:25:50,648] Trial 479 finished with value: 0.16174629898555254 and parameters: {'a0': 2.0, 'a1': 1.9000000000000001, 'a2': 1.1, 'a3': 0.1, 'a4': 0.1, 'a5': 0.2, 'a6': 0.0}. Best is trial 363 with value: 0.15204716961478543.\n",
      "[I 2023-07-28 12:25:50,686] Trial 480 finished with value: 0.16460925805626156 and parameters: {'a0': 1.9000000000000001, 'a1': 0.1, 'a2': 0.9, 'a3': 0.0, 'a4': 0.2, 'a5': 0.1, 'a6': 0.2}. Best is trial 363 with value: 0.15204716961478543.\n",
      "[I 2023-07-28 12:25:50,723] Trial 481 finished with value: 0.1650082644064059 and parameters: {'a0': 2.0, 'a1': 0.2, 'a2': 0.7000000000000001, 'a3': 0.0, 'a4': 0.1, 'a5': 0.0, 'a6': 0.1}. Best is trial 363 with value: 0.15204716961478543.\n",
      "[I 2023-07-28 12:25:50,761] Trial 482 finished with value: 0.15699471667184767 and parameters: {'a0': 1.9000000000000001, 'a1': 0.2, 'a2': 1.0, 'a3': 0.0, 'a4': 0.0, 'a5': 0.30000000000000004, 'a6': 0.0}. Best is trial 363 with value: 0.15204716961478543.\n",
      "[I 2023-07-28 12:25:50,799] Trial 483 finished with value: 0.15797547814284854 and parameters: {'a0': 2.0, 'a1': 0.1, 'a2': 0.6000000000000001, 'a3': 0.0, 'a4': 0.1, 'a5': 0.2, 'a6': 0.0}. Best is trial 363 with value: 0.15204716961478543.\n",
      "[I 2023-07-28 12:25:50,836] Trial 484 finished with value: 0.1687072780964978 and parameters: {'a0': 2.0, 'a1': 0.30000000000000004, 'a2': 0.8, 'a3': 0.0, 'a4': 0.2, 'a5': 0.0, 'a6': 0.2}. Best is trial 363 with value: 0.15204716961478543.\n",
      "[I 2023-07-28 12:25:50,874] Trial 485 finished with value: 0.16677717038434853 and parameters: {'a0': 1.8, 'a1': 0.2, 'a2': 0.8, 'a3': 0.0, 'a4': 0.1, 'a5': 0.4, 'a6': 0.1}. Best is trial 363 with value: 0.15204716961478543.\n",
      "[I 2023-07-28 12:25:50,912] Trial 486 finished with value: 0.15209606504028647 and parameters: {'a0': 2.0, 'a1': 0.1, 'a2': 0.9, 'a3': 0.0, 'a4': 0.0, 'a5': 0.1, 'a6': 0.0}. Best is trial 363 with value: 0.15204716961478543.\n",
      "[I 2023-07-28 12:25:50,949] Trial 487 finished with value: 0.16802934424913568 and parameters: {'a0': 2.0, 'a1': 0.0, 'a2': 0.9, 'a3': 0.0, 'a4': 0.1, 'a5': 0.1, 'a6': 0.4}. Best is trial 363 with value: 0.15204716961478543.\n",
      "[I 2023-07-28 12:25:50,989] Trial 488 finished with value: 0.1893480165693287 and parameters: {'a0': 2.0, 'a1': 0.0, 'a2': 0.9, 'a3': 0.0, 'a4': 2.0, 'a5': 0.2, 'a6': 0.0}. Best is trial 363 with value: 0.15204716961478543.\n",
      "[I 2023-07-28 12:25:51,026] Trial 489 finished with value: 0.171106336559001 and parameters: {'a0': 2.0, 'a1': 0.1, 'a2': 0.8, 'a3': 0.0, 'a4': 0.0, 'a5': 0.0, 'a6': 0.2}. Best is trial 363 with value: 0.15204716961478543.\n",
      "[I 2023-07-28 12:25:51,064] Trial 490 finished with value: 0.21638778703127812 and parameters: {'a0': 2.0, 'a1': 0.1, 'a2': 0.9, 'a3': 0.1, 'a4': 0.2, 'a5': 3.4000000000000004, 'a6': 0.0}. Best is trial 363 with value: 0.15204716961478543.\n",
      "[I 2023-07-28 12:25:51,102] Trial 491 finished with value: 0.1606309140057114 and parameters: {'a0': 2.0, 'a1': 0.1, 'a2': 0.8, 'a3': 0.0, 'a4': 0.0, 'a5': 0.30000000000000004, 'a6': 0.1}. Best is trial 363 with value: 0.15204716961478543.\n",
      "[I 2023-07-28 12:25:51,140] Trial 492 finished with value: 0.16452481687466472 and parameters: {'a0': 2.0, 'a1': 1.0, 'a2': 0.9, 'a3': 0.0, 'a4': 0.1, 'a5': 0.1, 'a6': 0.30000000000000004}. Best is trial 363 with value: 0.15204716961478543.\n",
      "[I 2023-07-28 12:25:51,179] Trial 493 finished with value: 0.1584121373830218 and parameters: {'a0': 2.0, 'a1': 1.3, 'a2': 0.7000000000000001, 'a3': 0.0, 'a4': 0.1, 'a5': 0.2, 'a6': 0.0}. Best is trial 363 with value: 0.15204716961478543.\n",
      "[I 2023-07-28 12:25:51,217] Trial 494 finished with value: 0.16448608248012864 and parameters: {'a0': 1.9000000000000001, 'a1': 0.0, 'a2': 0.8, 'a3': 0.0, 'a4': 0.0, 'a5': 0.4, 'a6': 0.1}. Best is trial 363 with value: 0.15204716961478543.\n",
      "[I 2023-07-28 12:25:51,255] Trial 495 finished with value: 0.17470272774486711 and parameters: {'a0': 2.0, 'a1': 0.1, 'a2': 0.9, 'a3': 0.1, 'a4': 0.1, 'a5': 0.5, 'a6': 0.2}. Best is trial 363 with value: 0.15204716961478543.\n",
      "[I 2023-07-28 12:25:51,297] Trial 496 finished with value: 0.18202960908788018 and parameters: {'a0': 2.0, 'a1': 0.2, 'a2': 0.7000000000000001, 'a3': 0.0, 'a4': 1.4000000000000001, 'a5': 0.0, 'a6': 0.0}. Best is trial 363 with value: 0.15204716961478543.\n",
      "[I 2023-07-28 12:25:51,337] Trial 497 finished with value: 0.16181644800276712 and parameters: {'a0': 1.9000000000000001, 'a1': 0.1, 'a2': 0.8, 'a3': 0.0, 'a4': 0.2, 'a5': 0.1, 'a6': 0.1}. Best is trial 363 with value: 0.15204716961478543.\n",
      "[I 2023-07-28 12:25:51,376] Trial 498 finished with value: 0.20686120387969745 and parameters: {'a0': 2.0, 'a1': 0.1, 'a2': 0.9, 'a3': 0.0, 'a4': 0.0, 'a5': 0.2, 'a6': 3.2}. Best is trial 363 with value: 0.15204716961478543.\n",
      "[I 2023-07-28 12:25:51,415] Trial 499 finished with value: 0.17378935501945422 and parameters: {'a0': 0.7000000000000001, 'a1': 0.30000000000000004, 'a2': 0.8, 'a3': 0.0, 'a4': 0.1, 'a5': 0.0, 'a6': 0.2}. Best is trial 363 with value: 0.15204716961478543.\n"
     ]
    },
    {
     "name": "stdout",
     "output_type": "stream",
     "text": [
      "{'a0': 2.0, 'a1': 0.1, 'a2': 1.0, 'a3': 0.0, 'a4': 0.0, 'a5': 0.1, 'a6': 0.0}\n"
     ]
    },
    {
     "data": {
      "text/plain": [
       "[2.0, 0.1, 1.0, 0.0, 0.0, 0.1, 0.0]"
      ]
     },
     "execution_count": 238,
     "metadata": {},
     "output_type": "execute_result"
    }
   ],
   "source": [
    "def obj_alpha(trial):\n",
    "    a = [\n",
    "        trial.suggest_float('a0', 0, 2, step=0.1),\n",
    "        trial.suggest_float('a1', 0, 2, step=0.1),\n",
    "        trial.suggest_float('a2', 0, 2, step=0.1),\n",
    "        trial.suggest_float('a3', 0, 1, step=0.1),\n",
    "        trial.suggest_float('a4', 0, 2, step=0.1),\n",
    "        trial.suggest_float('a5', 0, 5, step=0.1),\n",
    "        trial.suggest_float('a6', 0, 5, step=0.1),\n",
    "        ]\n",
    "    \n",
    "    score = 0\n",
    "    for i in range(5):\n",
    "        pred = (\n",
    "        y_results[0][i]*a[0] + \n",
    "        y_results[1][i]*a[1] + \n",
    "        y_results[2][i]*a[2] + \n",
    "        y_results[3][i]*a[3] + \n",
    "        y_results[4][i]*a[4] +\n",
    "        y_results[5][i]*a[5] + \n",
    "        y_results[6][i]*a[6]\n",
    "        )/sum(a)\n",
    "#         pred = calc_new_pred(pred)\n",
    "        \n",
    "\n",
    "        p0 = pred[:, 0]\n",
    "        p0 = sigmoid((p0-0.5)*5.4)\n",
    "        p0 = (p0 - min(p0))/(max(p0)-min(p0)+1e-15)\n",
    "\n",
    "        p0[p0 > 0.99] = 1\n",
    "        p0[p0 < 0.01] = 0\n",
    "                \n",
    "    \n",
    "#         y_lgb, y_lgb2, y_xgb, y_xgb2, y_cb, y_cb2, y_rf, y_nn, y_nn2, y_xxx, y_xxx2, y_tab, y_tab2 = y_results2[i]\n",
    "#         # 　全モデルが同じ選択の場合は、正解とする(y_rf除く)\n",
    "#         th_c0 = 0.75\n",
    "#         sel0 = (y_lgb > th_c0)&(y_lgb2 > th_c0)&(y_xgb > th_c0)&(y_xgb2 > th_c0)&(y_cb > th_c0)&(y_cb2 > th_c0)&\\\n",
    "#                 (y_nn > th_c0)&(y_nn2 > th_c0)&(y_xxx > th_c0)&(y_xxx2 > th_c0)&(y_tab > th_c0)&(y_tab > th_c0)\n",
    "#         th_c1 = 0.95\n",
    "#         sel1 = (y_lgb > th_c1)&(y_lgb2 > th_c1)&(y_xgb > th_c1)&(y_xgb2 > th_c1)&(y_cb > th_c1)&(y_cb2 > th_c1)&\\\n",
    "#                 (y_nn > th_c1)&(y_nn2 > th_c1)&(y_xxx > th_c1)&(y_xxx2 > th_c1)&(y_tab > th_c1)&(y_tab > th_c1)\n",
    "#         p0[sel0[:, 0]] = 1\n",
    "#         p0[sel1[:, 1]] = 0\n",
    "\n",
    "\n",
    "#         pred[:,1] = 1-p0\n",
    "#         pred[:,0] = p0                    \n",
    "        \n",
    "        if use_new_pred:\n",
    "            pred = calc_new_pred(pred)\n",
    "\n",
    "        \n",
    "        e_loss = balanced_log_loss(y_valids[i], pred[:, 1])\n",
    "        score += e_loss \n",
    "\n",
    "    return score/5\n",
    "\n",
    "\n",
    "study = optuna.create_study(sampler=optuna.samplers.TPESampler(seed=cfg.seed))#direction='minimize')\n",
    "study.enqueue_trial({'a0': 4.9, 'a1': 4.4, 'a2': 0.0, 'a3': 0.0, 'a4': 0.7000000000000001, 'a5': 2.0, 'a6': 0.0})\n",
    "study.optimize(obj_alpha, n_trials=500)\n",
    "print(study.best_trial.params)\n",
    "list(study.best_trial.params.values())"
   ]
  },
  {
   "cell_type": "code",
   "execution_count": 155,
   "id": "d80b1426",
   "metadata": {
    "execution": {
     "iopub.execute_input": "2023-07-17T00:43:44.216290Z",
     "iopub.status.busy": "2023-07-17T00:43:44.215774Z",
     "iopub.status.idle": "2023-07-17T00:43:44.460665Z",
     "shell.execute_reply": "2023-07-17T00:43:44.459440Z"
    },
    "papermill": {
     "duration": 0.298773,
     "end_time": "2023-07-17T00:43:44.463276",
     "exception": false,
     "start_time": "2023-07-17T00:43:44.164503",
     "status": "completed"
    },
    "tags": []
   },
   "outputs": [
    {
     "data": {
      "text/plain": [
       "[<matplotlib.lines.Line2D at 0xffff2ba17dc0>]"
      ]
     },
     "execution_count": 155,
     "metadata": {},
     "output_type": "execute_result"
    },
    {
     "data": {
      "image/png": "[encoded data removed]",
      "text/plain": [
       "<Figure size 640x480 with 1 Axes>"
      ]
     },
     "metadata": {},
     "output_type": "display_data"
    }
   ],
   "source": [
    "def sigmoid(x):\n",
    "    return 1/ (1 + np.exp(-x))\n",
    "\n",
    "p0 = pred[:, 0]\n",
    "p0 = np.array([i/100 for i in range(101)])\n",
    "p0 = sigmoid((p0-0.5)*5.4)\n",
    "plt.plot(p0)\n",
    "\n",
    "p0 = (p0 - min(p0))/(max(p0)-min(p0))\n",
    "p0 = np.clip(p0, 0.0001, 0.9999)\n",
    "plt.plot(p0)"
   ]
  },
  {
   "cell_type": "markdown",
   "id": "b4f7a587",
   "metadata": {
    "papermill": {
     "duration": 0.052391,
     "end_time": "2023-07-17T00:43:44.574079",
     "exception": false,
     "start_time": "2023-07-17T00:43:44.521688",
     "status": "completed"
    },
    "tags": []
   },
   "source": [
    "```\n",
    "0.15246577482271312 -rf -knn -nn -tab (boostingのみ)\n",
    "0.16141317621791187 -rf -knn -nn (boosting + tab)\n",
    "0.14603296764550358 -rf -knn -tab (boosting + nn)\n",
    "0.15962857016383242 -rf -nn -tab (boosting + knn)\n",
    "0.19880100002949805 -rf -nn -knn -tab\n",
    "0.1549086996071109 -rf\n",
    "0.14709787098787236 -rf -knn\n",
    "0.15552694031836586 -rf -xgb -cb\n",
    "0.1676103909764996 -rf -lgb -cb\n",
    "\n",
    "\n",
    "0.1486103472662918  a = 1, 0, 1.5, 0, 0.5\n",
    "0.14573619761609635 a = 1, 0, 1, 0, 0.5\n",
    "0.14555721433280364 a = 2, 0, 1, 0.2, 1.5\n",
    "0.1446640534808395  a = 2, 0, 1, 0, 1 \n",
    "0.14443877195214577 a = 2, 0, 1, 0.2, 1\n",
    "0.1440592210659078  a = 2, 0, 1, 0.2, 0.8 \n",
    "0.14362643242934164 a = 2, 0, 1, 0.2, 0.8 lgbm2を見直し\n",
    "0.14405701359512002 ↑でKFoldの分割をgreeks.alphaにしたバージョン  !! nnがリークしている !!\n",
    "0.13302360008161757 a = [2.1, 0.0, 4.0, 0.0, 0.0] ★★Currently Best CV <- !! nnがリークしている !!\n",
    "\n",
    "nnを再学習(greeks.alphaでfoldに分割)\n",
    "0.14495478908894055 a = [3.3, 0.0, 0.0, 0.5, 0.7]\n",
    "0.14516239372852643 a = [3.9, 0.0, 0.0, 0.9, 0.5]\n",
    "0.13448841870323322 a = [3.9, 0.0, 0.0, 0.9, 0.5] lightGBMの再学習（optunaで探索時にcalc_new_predをするようにした）LV1.6\n",
    "0.1320047117991178  a = [3.9, 0.0, 0.0, 0.9, 0.5] positive_weight = 2.0  LB1.7\n",
    "0.12654137375083563 -> predを補正（１）\n",
    "\n",
    "\n",
    "InvalidParameterError: The 'metric' parameter of KNeighborsClassifier must be a str among {'sokalsneath', 'minkowski', 'wminkowski', 'yule', 'jaccard', 'chebyshev', 'seuclidean', 'hamming', 'cosine', 'cityblock', 'rogerstanimoto', 'kulsinski', 'dice', 'correlation', 'sqeuclidean', 'l1', 'precomputed', 'mahalanobis', 'sokalmichener', 'p', 'haversine', 'euclidean', 'nan_euclidean', 'pyfunc', 'manhattan', 'infinity', 'matching', 'russellrao', 'l2', 'braycurtis', 'canberra'} or a callable. Got 'xxx' instead.\n",
    "```"
   ]
  },
  {
   "cell_type": "code",
   "execution_count": 156,
   "id": "de02b5ec",
   "metadata": {
    "execution": {
     "iopub.execute_input": "2023-07-17T00:43:44.678275Z",
     "iopub.status.busy": "2023-07-17T00:43:44.677889Z",
     "iopub.status.idle": "2023-07-17T00:43:44.683569Z",
     "shell.execute_reply": "2023-07-17T00:43:44.682493Z"
    },
    "papermill": {
     "duration": 0.06096,
     "end_time": "2023-07-17T00:43:44.685703",
     "exception": false,
     "start_time": "2023-07-17T00:43:44.624743",
     "status": "completed"
    },
    "tags": []
   },
   "outputs": [],
   "source": [
    "# print(\"lgbm2..\")\n",
    "\n",
    "\n",
    "\n",
    "# def obj_lgbm(trial):\n",
    "#     params = {\n",
    "#         'boosting_type':'gbdt',\n",
    "#         'class_weight':'balanced',\n",
    "#         'n_estimators': trial.suggest_int('n_estimators', 100, 1000, step=10),\n",
    "#         'reg_alpha': trial.suggest_float('reg_alpha', 0, 100, step=0.1),\n",
    "#         'reg_lambda': trial.suggest_float('reg_lambda', 0, 100, step=0.1),\n",
    "#         'num_leaves': trial.suggest_int('num_leaves', 2, 64, step=1),\n",
    "#         'min_child_samples': trial.suggest_int('min_child_samples', 8, 64, step=1),\n",
    "#         'colsample_bytree': trial.suggest_float('colsample_bytree', 0.5, 1.0, step=0.1),\n",
    "#         'subsample': trial.suggest_float('subsample', 0.5, 1.0, step=0.1),\n",
    "#         'subsample_freq': trial.suggest_int('subsample_freq', 0, 3, step=1),\n",
    "#     }\n",
    "    \n",
    "#     lgb2 = LGBMClassifier(**params)\n",
    "#     lgb2.fit(X_train2, y_train, sample_weight=weights)\n",
    "#     y_lgb2 = lgb2.predict_proba(X_valid2)\n",
    "#     lgb2_loss = balanced_log_loss(y_valid, y_lgb2[:, 1])\n",
    "#     return lgb2_loss\n",
    "        \n",
    "\n",
    "# study = optuna.create_study(sampler=optuna.samplers.TPESampler(seed=42))#direction='minimize')\n",
    "# study.enqueue_trial(lgbm_params2)\n",
    "# study.optimize(obj_lgbm, n_trials=100)\n",
    "\n",
    "# lgbm_params2 = dict(study.best_trial.params.items())\n",
    "# lgbm_params2"
   ]
  },
  {
   "cell_type": "code",
   "execution_count": 157,
   "id": "a4f80cf7",
   "metadata": {
    "execution": {
     "iopub.execute_input": "2023-07-17T00:43:44.796009Z",
     "iopub.status.busy": "2023-07-17T00:43:44.795619Z",
     "iopub.status.idle": "2023-07-17T00:43:44.802219Z",
     "shell.execute_reply": "2023-07-17T00:43:44.801196Z"
    },
    "papermill": {
     "duration": 0.065129,
     "end_time": "2023-07-17T00:43:44.804615",
     "exception": false,
     "start_time": "2023-07-17T00:43:44.739486",
     "status": "completed"
    },
    "tags": []
   },
   "outputs": [
    {
     "data": {
      "text/plain": [
       "[124, 124, 123, 123, 123]"
      ]
     },
     "execution_count": 157,
     "metadata": {},
     "output_type": "execute_result"
    }
   ],
   "source": [
    "y_len"
   ]
  },
  {
   "cell_type": "markdown",
   "id": "b625ffce",
   "metadata": {
    "papermill": {
     "duration": 0.053537,
     "end_time": "2023-07-17T00:43:44.913675",
     "exception": false,
     "start_time": "2023-07-17T00:43:44.860138",
     "status": "completed"
    },
    "tags": []
   },
   "source": [
    "### スタッキング（２段目）\n",
    "\n",
    "2段目は、各FOLDのvalidデータを用いて学習させる。こうしないとリークする可能性がありそうなので。"
   ]
  },
  {
   "cell_type": "code",
   "execution_count": 158,
   "id": "57b856ae",
   "metadata": {
    "execution": {
     "iopub.execute_input": "2023-07-17T00:43:45.025844Z",
     "iopub.status.busy": "2023-07-17T00:43:45.024804Z",
     "iopub.status.idle": "2023-07-17T00:43:45.039387Z",
     "shell.execute_reply": "2023-07-17T00:43:45.038460Z"
    },
    "papermill": {
     "duration": 0.073083,
     "end_time": "2023-07-17T00:43:45.041597",
     "exception": false,
     "start_time": "2023-07-17T00:43:44.968514",
     "status": "completed"
    },
    "tags": []
   },
   "outputs": [],
   "source": [
    "# Optuna\n",
    "\n",
    "def obj_lgbm2(trial):\n",
    "    params = {\n",
    "        'boosting_type':'gbdt',\n",
    "        'class_weight':'balanced',\n",
    "        'n_estimators': trial.suggest_int('n_estimators', 100, 1000, step=10),\n",
    "        'reg_alpha': trial.suggest_float('reg_alpha', 0, 100, step=0.1),\n",
    "        'reg_lambda': trial.suggest_float('reg_lambda', 0, 100, step=0.1),\n",
    "        'num_leaves': trial.suggest_int('num_leaves', 2, 64, step=1),\n",
    "        'min_child_samples': trial.suggest_int('min_child_samples', 8, 64, step=1),\n",
    "        'colsample_bytree': trial.suggest_float('colsample_bytree', 0.5, 1.0, step=0.1),\n",
    "        'subsample': trial.suggest_float('subsample', 0.5, 1.0, step=0.1),\n",
    "        'subsample_freq': trial.suggest_int('subsample_freq', 0, 3, step=1),\n",
    "    }\n",
    "    \n",
    "    lgb_2 = LGBMClassifier(**params)\n",
    "\n",
    "    \n",
    "    score = 0\n",
    "    start = 0\n",
    "    for idx, size in enumerate(y_len):\n",
    "        valid_idx = [False for _ in range(len(y_preds))]\n",
    "        for i in range(start, start+size):\n",
    "            valid_idx[i] = True\n",
    "        train_idx = list(map(lambda x: not x, valid_idx))\n",
    "        X_train, y_train = y_preds[train_idx], y_true[train_idx]\n",
    "        X_valid, y_valid = y_preds[valid_idx], y_true[valid_idx]\n",
    "        lgb_2.fit(X_train, y_train)\n",
    "        pred2 = lgb_2.predict_proba(X_valid)\n",
    "        s = balanced_log_loss(y_valid, pred2[:, 1])\n",
    "#         print(f\"fold{idx} = {s}\")\n",
    "        start += size\n",
    "        score += s\n",
    "    \n",
    "    return score/5\n",
    "      \n",
    "    \n",
    "lgbm_params_2 = {'n_estimators': 400,\n",
    " 'reg_alpha': 6.2,\n",
    " 'reg_lambda': 22.900000000000002,\n",
    " 'num_leaves': 30,\n",
    " 'min_child_samples': 45,\n",
    " 'colsample_bytree': 0.5,\n",
    " 'subsample': 0.8,\n",
    " 'subsample_freq': 1}\n",
    "\n",
    "# do_opt = True\n",
    "if do_opt :\n",
    "    study = optuna.create_study(sampler=optuna.samplers.TPESampler(seed=42))#direction='minimize')\n",
    "    study.enqueue_trial(lgbm_params_2)\n",
    "    study.optimize(obj_lgbm2, n_trials=200)"
   ]
  },
  {
   "cell_type": "code",
   "execution_count": 159,
   "id": "2bf5bdfd",
   "metadata": {
    "execution": {
     "iopub.execute_input": "2023-07-17T00:43:45.152944Z",
     "iopub.status.busy": "2023-07-17T00:43:45.151870Z",
     "iopub.status.idle": "2023-07-17T00:43:45.159998Z",
     "shell.execute_reply": "2023-07-17T00:43:45.158875Z"
    },
    "papermill": {
     "duration": 0.066301,
     "end_time": "2023-07-17T00:43:45.162695",
     "exception": false,
     "start_time": "2023-07-17T00:43:45.096394",
     "status": "completed"
    },
    "tags": []
   },
   "outputs": [
    {
     "data": {
      "text/plain": [
       "{'n_estimators': 400,\n",
       " 'reg_alpha': 6.2,\n",
       " 'reg_lambda': 22.900000000000002,\n",
       " 'num_leaves': 30,\n",
       " 'min_child_samples': 45,\n",
       " 'colsample_bytree': 0.5,\n",
       " 'subsample': 0.8,\n",
       " 'subsample_freq': 1}"
      ]
     },
     "execution_count": 159,
     "metadata": {},
     "output_type": "execute_result"
    }
   ],
   "source": [
    "if do_opt :\n",
    "    lgbm_params_2 = dict(study.best_trial.params.items())\n",
    "lgbm_params_2"
   ]
  },
  {
   "cell_type": "code",
   "execution_count": 160,
   "id": "f0a72208",
   "metadata": {
    "execution": {
     "iopub.execute_input": "2023-07-17T00:43:45.267626Z",
     "iopub.status.busy": "2023-07-17T00:43:45.266523Z",
     "iopub.status.idle": "2023-07-17T00:43:45.593383Z",
     "shell.execute_reply": "2023-07-17T00:43:45.591648Z"
    },
    "papermill": {
     "duration": 0.381043,
     "end_time": "2023-07-17T00:43:45.595894",
     "exception": false,
     "start_time": "2023-07-17T00:43:45.214851",
     "status": "completed"
    },
    "tags": []
   },
   "outputs": [
    {
     "name": "stdout",
     "output_type": "stream",
     "text": [
      "fold0 = 0.17238593590827803\n",
      "fold1 = 0.13296357563276173\n",
      "fold2 = 0.3468068556512788\n",
      "fold3 = 0.09978141292321988\n",
      "fold4 = 0.12931183043707203\n",
      "5fold average =  0.1762499221105221\n"
     ]
    }
   ],
   "source": [
    "from sklearn.linear_model import LogisticRegression\n",
    "\n",
    "if check_CV:\n",
    "\n",
    "    lgb_2 = LGBMClassifier(boosting_type='gbdt', class_weight='balanced', **lgbm_params_2)\n",
    "#     lgb_2 = LogisticRegression()\n",
    "    \n",
    "    score = 0\n",
    "    start = 0\n",
    "    for idx, size in enumerate(y_len):\n",
    "        valid_idx = [False for _ in range(len(y_preds))]\n",
    "        for i in range(start, start+size):\n",
    "            valid_idx[i] = True\n",
    "        train_idx = list(map(lambda x: not x, valid_idx))\n",
    "        X_train, y_train = y_preds[train_idx], y_true[train_idx]\n",
    "        X_valid, y_valid = y_preds[valid_idx], y_true[valid_idx]\n",
    "        lgb_2.fit(X_train, y_train)\n",
    "        pred2 = lgb_2.predict_proba(X_valid)\n",
    "        s = balanced_log_loss(y_valid, pred2[:, 1])\n",
    "        print(f\"fold{idx} = {s}\")\n",
    "        start += size\n",
    "        score += s\n",
    "    \n",
    "    print(\"5fold average = \", score/5)"
   ]
  },
  {
   "cell_type": "code",
   "execution_count": 161,
   "id": "d4352c5f",
   "metadata": {
    "execution": {
     "iopub.execute_input": "2023-07-17T00:43:45.705931Z",
     "iopub.status.busy": "2023-07-17T00:43:45.705588Z",
     "iopub.status.idle": "2023-07-17T00:43:45.787110Z",
     "shell.execute_reply": "2023-07-17T00:43:45.785924Z"
    },
    "papermill": {
     "duration": 0.137546,
     "end_time": "2023-07-17T00:43:45.789923",
     "exception": false,
     "start_time": "2023-07-17T00:43:45.652377",
     "status": "completed"
    },
    "tags": []
   },
   "outputs": [
    {
     "name": "stdout",
     "output_type": "stream",
     "text": [
      "0.1259750258574585\n"
     ]
    }
   ],
   "source": [
    "lgb_2.fit(y_preds, y_true)\n",
    "pred2 = lgb_2.predict_proba(y_preds)\n",
    "print(balanced_log_loss(y_true, pred2[:, 1]))"
   ]
  },
  {
   "cell_type": "code",
   "execution_count": null,
   "id": "26b6339f",
   "metadata": {
    "papermill": {
     "duration": 0.054455,
     "end_time": "2023-07-17T00:43:45.898748",
     "exception": false,
     "start_time": "2023-07-17T00:43:45.844293",
     "status": "completed"
    },
    "tags": []
   },
   "outputs": [],
   "source": []
  },
  {
   "cell_type": "markdown",
   "id": "6593bfc4",
   "metadata": {
    "papermill": {
     "duration": 0.054111,
     "end_time": "2023-07-17T00:43:46.008164",
     "exception": false,
     "start_time": "2023-07-17T00:43:45.954053",
     "status": "completed"
    },
    "tags": []
   },
   "source": [
    "## fit models(final parameter)\n",
    "\n",
    "なぜか、5foldで作成したモデルだと性能が下がる傾向があった。testデータにtrainデータが**リークしている可能性**がありそうな気もするが、とりあえず、各予測器をパラメータを決めたあと、train全体で作成しなおし。"
   ]
  },
  {
   "cell_type": "code",
   "execution_count": 181,
   "id": "a8877141",
   "metadata": {
    "execution": {
     "iopub.execute_input": "2023-07-17T00:43:46.117759Z",
     "iopub.status.busy": "2023-07-17T00:43:46.116685Z",
     "iopub.status.idle": "2023-07-17T00:43:46.123538Z",
     "shell.execute_reply": "2023-07-17T00:43:46.122407Z"
    },
    "papermill": {
     "duration": 0.064125,
     "end_time": "2023-07-17T00:43:46.125892",
     "exception": false,
     "start_time": "2023-07-17T00:43:46.061767",
     "status": "completed"
    },
    "tags": []
   },
   "outputs": [],
   "source": [
    "X = df_train[df_train.columns[:-1]]\n",
    "y = df_train.Class"
   ]
  },
  {
   "cell_type": "code",
   "execution_count": 182,
   "id": "ec880314",
   "metadata": {},
   "outputs": [],
   "source": [
    "use_best_fold = True"
   ]
  },
  {
   "cell_type": "code",
   "execution_count": 183,
   "id": "329cbe1c",
   "metadata": {
    "execution": {
     "iopub.execute_input": "2023-07-17T00:43:46.242175Z",
     "iopub.status.busy": "2023-07-17T00:43:46.241771Z",
     "iopub.status.idle": "2023-07-17T00:43:48.044593Z",
     "shell.execute_reply": "2023-07-17T00:43:48.043395Z"
    },
    "papermill": {
     "duration": 1.861589,
     "end_time": "2023-07-17T00:43:48.047065",
     "exception": false,
     "start_time": "2023-07-17T00:43:46.185476",
     "status": "completed"
    },
    "tags": []
   },
   "outputs": [
    {
     "data": {
      "text/plain": [
       "0.01697028419253346"
      ]
     },
     "execution_count": 183,
     "metadata": {},
     "output_type": "execute_result"
    }
   ],
   "source": [
    "if use_best_fold :\n",
    "    lgb = best_model['lgb'][1]\n",
    "else:\n",
    "    lgb.fit(X[lgb_selected], y, sample_weight=classes_weights)\n",
    "#     lgb.fit(X[lgb_selected], y)\n",
    "    \n",
    "y_lgb = lgb.predict_proba(X[lgb_selected])\n",
    "balanced_log_loss(y, y_lgb[:, 1])"
   ]
  },
  {
   "cell_type": "code",
   "execution_count": 184,
   "id": "f06e5dc2",
   "metadata": {
    "execution": {
     "iopub.execute_input": "2023-07-17T00:43:48.158078Z",
     "iopub.status.busy": "2023-07-17T00:43:48.157708Z",
     "iopub.status.idle": "2023-07-17T00:43:48.161918Z",
     "shell.execute_reply": "2023-07-17T00:43:48.160968Z"
    },
    "papermill": {
     "duration": 0.062519,
     "end_time": "2023-07-17T00:43:48.164157",
     "exception": false,
     "start_time": "2023-07-17T00:43:48.101638",
     "status": "completed"
    },
    "tags": []
   },
   "outputs": [],
   "source": [
    "# pd.DataFrame(lgb.feature_importances_, index = X.columns, columns=['importance']).sort_values('importance', ascending=False)"
   ]
  },
  {
   "cell_type": "code",
   "execution_count": 185,
   "id": "f5f62f5d",
   "metadata": {
    "execution": {
     "iopub.execute_input": "2023-07-17T00:43:48.326011Z",
     "iopub.status.busy": "2023-07-17T00:43:48.325244Z",
     "iopub.status.idle": "2023-07-17T00:43:49.892311Z",
     "shell.execute_reply": "2023-07-17T00:43:49.891395Z"
    },
    "papermill": {
     "duration": 1.677082,
     "end_time": "2023-07-17T00:43:49.894738",
     "exception": false,
     "start_time": "2023-07-17T00:43:48.217656",
     "status": "completed"
    },
    "tags": []
   },
   "outputs": [
    {
     "data": {
      "text/plain": [
       "0.013655259879186378"
      ]
     },
     "execution_count": 185,
     "metadata": {},
     "output_type": "execute_result"
    }
   ],
   "source": [
    "if use_best_fold:\n",
    "    lgb2 = best_model['lgb2'][1]\n",
    "else:\n",
    "    lgb2.fit(X, y, sample_weight=classes_weights2)\n",
    "y_lgb2 = lgb2.predict_proba(X)\n",
    "balanced_log_loss(y, y_lgb2[:, 1])"
   ]
  },
  {
   "cell_type": "code",
   "execution_count": 186,
   "id": "fd75f686",
   "metadata": {
    "execution": {
     "iopub.execute_input": "2023-07-17T00:43:50.002921Z",
     "iopub.status.busy": "2023-07-17T00:43:50.002558Z",
     "iopub.status.idle": "2023-07-17T00:43:52.264005Z",
     "shell.execute_reply": "2023-07-17T00:43:52.263144Z"
    },
    "papermill": {
     "duration": 2.318578,
     "end_time": "2023-07-17T00:43:52.266333",
     "exception": false,
     "start_time": "2023-07-17T00:43:49.947755",
     "status": "completed"
    },
    "tags": []
   },
   "outputs": [
    {
     "data": {
      "text/plain": [
       "0.03114901271183487"
      ]
     },
     "execution_count": 186,
     "metadata": {},
     "output_type": "execute_result"
    }
   ],
   "source": [
    "if use_best_fold:\n",
    "    xgb = best_model['xgb'][1]\n",
    "else: \n",
    "    xgb.fit(X[lgb_selected], y, sample_weight=classes_weights)\n",
    "y_xgb = xgb.predict_proba(X[lgb_selected])\n",
    "balanced_log_loss(y, y_xgb[:, 1])"
   ]
  },
  {
   "cell_type": "code",
   "execution_count": 187,
   "id": "0320e36f",
   "metadata": {
    "execution": {
     "iopub.execute_input": "2023-07-17T00:43:52.370314Z",
     "iopub.status.busy": "2023-07-17T00:43:52.369933Z",
     "iopub.status.idle": "2023-07-17T00:43:55.859052Z",
     "shell.execute_reply": "2023-07-17T00:43:55.858114Z"
    },
    "papermill": {
     "duration": 3.544796,
     "end_time": "2023-07-17T00:43:55.862015",
     "exception": false,
     "start_time": "2023-07-17T00:43:52.317219",
     "status": "completed"
    },
    "tags": []
   },
   "outputs": [
    {
     "data": {
      "text/plain": [
       "0.025022961348856856"
      ]
     },
     "execution_count": 187,
     "metadata": {},
     "output_type": "execute_result"
    }
   ],
   "source": [
    "if use_best_fold:\n",
    "    xgb2 = best_model['xgb2'][1]\n",
    "else:\n",
    "    xgb2.fit(X, y, sample_weight=classes_weights2)\n",
    "y_xgb2 = xgb2.predict_proba(X)\n",
    "balanced_log_loss(y, y_xgb2[:, 1])"
   ]
  },
  {
   "cell_type": "code",
   "execution_count": 188,
   "id": "dc86ae62",
   "metadata": {
    "execution": {
     "iopub.execute_input": "2023-07-17T00:43:56.018275Z",
     "iopub.status.busy": "2023-07-17T00:43:56.017708Z",
     "iopub.status.idle": "2023-07-17T00:43:58.137090Z",
     "shell.execute_reply": "2023-07-17T00:43:58.136243Z"
    },
    "papermill": {
     "duration": 2.19952,
     "end_time": "2023-07-17T00:43:58.139638",
     "exception": false,
     "start_time": "2023-07-17T00:43:55.940118",
     "status": "completed"
    },
    "tags": []
   },
   "outputs": [
    {
     "data": {
      "text/plain": [
       "0.0248620425809194"
      ]
     },
     "execution_count": 188,
     "metadata": {},
     "output_type": "execute_result"
    }
   ],
   "source": [
    "if use_best_fold:\n",
    "    cb = best_model['cb'][1]\n",
    "else:\n",
    "    cb.fit(X[lgb_selected], y, logging_level=\"Silent\", sample_weight=classes_weights)\n",
    "#     cb.fit(X[lgb_selected], y, logging_level=\"Silent\")\n",
    "y_cb = cb.predict_proba(X[lgb_selected])\n",
    "balanced_log_loss(y, y_cb[:, 1])"
   ]
  },
  {
   "cell_type": "code",
   "execution_count": 189,
   "id": "420648f1",
   "metadata": {
    "execution": {
     "iopub.execute_input": "2023-07-17T00:43:58.279347Z",
     "iopub.status.busy": "2023-07-17T00:43:58.278848Z",
     "iopub.status.idle": "2023-07-17T00:44:00.203215Z",
     "shell.execute_reply": "2023-07-17T00:44:00.202384Z"
    },
    "papermill": {
     "duration": 1.996787,
     "end_time": "2023-07-17T00:44:00.205795",
     "exception": false,
     "start_time": "2023-07-17T00:43:58.209008",
     "status": "completed"
    },
    "tags": []
   },
   "outputs": [
    {
     "data": {
      "text/plain": [
       "0.028192932577094584"
      ]
     },
     "execution_count": 189,
     "metadata": {},
     "output_type": "execute_result"
    }
   ],
   "source": [
    "if use_best_fold:\n",
    "    cb2 =  best_model['cb2'][1]\n",
    "else:\n",
    "    cb2.fit(X, y, logging_level=\"Silent\", sample_weight=classes_weights2)\n",
    "y_cb2 = cb2.predict_proba(X)\n",
    "balanced_log_loss(y, y_cb2[:, 1])"
   ]
  },
  {
   "cell_type": "code",
   "execution_count": 190,
   "id": "e463d0fc",
   "metadata": {
    "execution": {
     "iopub.execute_input": "2023-07-17T00:44:00.348332Z",
     "iopub.status.busy": "2023-07-17T00:44:00.347795Z",
     "iopub.status.idle": "2023-07-17T00:44:01.392565Z",
     "shell.execute_reply": "2023-07-17T00:44:01.391643Z"
    },
    "papermill": {
     "duration": 1.119358,
     "end_time": "2023-07-17T00:44:01.394948",
     "exception": false,
     "start_time": "2023-07-17T00:44:00.275590",
     "status": "completed"
    },
    "tags": []
   },
   "outputs": [
    {
     "data": {
      "text/plain": [
       "0.14071131734913855"
      ]
     },
     "execution_count": 190,
     "metadata": {},
     "output_type": "execute_result"
    }
   ],
   "source": [
    "if use_best_fold:\n",
    "    rf = best_model['rf'][1]\n",
    "else:\n",
    "    rf.fit(X, y, sample_weight=classes_weights)\n",
    "y_rf = rf.predict_proba(X)\n",
    "balanced_log_loss(y, y_rf[:, 1])"
   ]
  },
  {
   "cell_type": "code",
   "execution_count": null,
   "id": "5c71204a",
   "metadata": {
    "papermill": {
     "duration": 0.055507,
     "end_time": "2023-07-17T00:44:01.530382",
     "exception": false,
     "start_time": "2023-07-17T00:44:01.474875",
     "status": "completed"
    },
    "tags": []
   },
   "outputs": [],
   "source": []
  },
  {
   "cell_type": "code",
   "execution_count": 191,
   "id": "875e84dd",
   "metadata": {
    "execution": {
     "iopub.execute_input": "2023-07-17T00:44:01.642693Z",
     "iopub.status.busy": "2023-07-17T00:44:01.642068Z",
     "iopub.status.idle": "2023-07-17T00:44:01.668930Z",
     "shell.execute_reply": "2023-07-17T00:44:01.662150Z"
    },
    "papermill": {
     "duration": 0.093758,
     "end_time": "2023-07-17T00:44:01.675124",
     "exception": false,
     "start_time": "2023-07-17T00:44:01.581366",
     "status": "completed"
    },
    "tags": []
   },
   "outputs": [
    {
     "data": {
      "text/plain": [
       "0.06132052984798789"
      ]
     },
     "execution_count": 191,
     "metadata": {},
     "output_type": "execute_result"
    }
   ],
   "source": [
    "XX = torch.Tensor(X[X.columns[:-1]].to_numpy()).to(device)\n",
    "y_nn, features = nn_predict_proba(XX, nn_single_model)\n",
    "features = features.detach().cpu().numpy()\n",
    "balanced_log_loss(y, y_nn[:, 1])"
   ]
  },
  {
   "cell_type": "code",
   "execution_count": 192,
   "id": "cd816de0",
   "metadata": {
    "execution": {
     "iopub.execute_input": "2023-07-17T00:44:01.807781Z",
     "iopub.status.busy": "2023-07-17T00:44:01.807393Z",
     "iopub.status.idle": "2023-07-17T00:44:01.843854Z",
     "shell.execute_reply": "2023-07-17T00:44:01.842763Z"
    },
    "papermill": {
     "duration": 0.092398,
     "end_time": "2023-07-17T00:44:01.847271",
     "exception": false,
     "start_time": "2023-07-17T00:44:01.754873",
     "status": "completed"
    },
    "tags": []
   },
   "outputs": [
    {
     "data": {
      "text/plain": [
       "0.8431991958314883"
      ]
     },
     "execution_count": 192,
     "metadata": {},
     "output_type": "execute_result"
    }
   ],
   "source": [
    "if use_best_fold:\n",
    "    knn = best_model['knn'][1]\n",
    "else:\n",
    "    knn.fit(features, y)#, sample_weight=weights)\n",
    "y_xxx = knn.predict_proba(features)\n",
    "y_xxx = calc_new_pred(y_xxx)\n",
    "balanced_log_loss(y, y_xxx[:, 1])"
   ]
  },
  {
   "cell_type": "code",
   "execution_count": 195,
   "id": "f0c84f3e",
   "metadata": {},
   "outputs": [
    {
     "data": {
      "text/plain": [
       "0.06310310866714847"
      ]
     },
     "execution_count": 195,
     "metadata": {},
     "output_type": "execute_result"
    }
   ],
   "source": [
    "XX = torch.Tensor(X[X.columns[:-1]].to_numpy()).to(device)\n",
    "y_nn2, features = nn_predict_proba(XX, nn_single_model2)\n",
    "features = features.detach().cpu().numpy()\n",
    "balanced_log_loss(y, y_nn2[:, 1])"
   ]
  },
  {
   "cell_type": "code",
   "execution_count": 196,
   "id": "a140f488",
   "metadata": {
    "execution": {
     "iopub.execute_input": "2023-07-17T00:44:02.008766Z",
     "iopub.status.busy": "2023-07-17T00:44:02.008398Z",
     "iopub.status.idle": "2023-07-17T00:44:02.051055Z",
     "shell.execute_reply": "2023-07-17T00:44:02.049707Z"
    },
    "papermill": {
     "duration": 0.101823,
     "end_time": "2023-07-17T00:44:02.055005",
     "exception": false,
     "start_time": "2023-07-17T00:44:01.953182",
     "status": "completed"
    },
    "tags": []
   },
   "outputs": [
    {
     "data": {
      "text/plain": [
       "0.5857843448967294"
      ]
     },
     "execution_count": 196,
     "metadata": {},
     "output_type": "execute_result"
    }
   ],
   "source": [
    "if use_best_fold:\n",
    "    knn2 = best_model['knn2'][1]\n",
    "else:\n",
    "    knn2.fit(features, y)#, sample_weight=weights)\n",
    "y_xxx2 = knn2.predict_proba(features)\n",
    "y_xxx2 = calc_new_pred(y_xxx2)\n",
    "balanced_log_loss(y, y_xxx2[:, 1])"
   ]
  },
  {
   "cell_type": "code",
   "execution_count": null,
   "id": "8ae3c2b7",
   "metadata": {
    "papermill": {
     "duration": 0.054252,
     "end_time": "2023-07-17T00:44:02.214218",
     "exception": false,
     "start_time": "2023-07-17T00:44:02.159966",
     "status": "completed"
    },
    "tags": []
   },
   "outputs": [],
   "source": []
  },
  {
   "cell_type": "code",
   "execution_count": 197,
   "id": "715b1250",
   "metadata": {
    "execution": {
     "iopub.execute_input": "2023-07-17T00:44:02.322071Z",
     "iopub.status.busy": "2023-07-17T00:44:02.321685Z",
     "iopub.status.idle": "2023-07-17T00:44:02.328233Z",
     "shell.execute_reply": "2023-07-17T00:44:02.327090Z"
    },
    "papermill": {
     "duration": 0.064215,
     "end_time": "2023-07-17T00:44:02.330797",
     "exception": false,
     "start_time": "2023-07-17T00:44:02.266582",
     "status": "completed"
    },
    "tags": []
   },
   "outputs": [],
   "source": [
    "# tabpfnには正則化する前のデータを入力する\n",
    "X = df_train_noscale[df_train.columns[:-1]]\n",
    "y = df_train_noscale.Class"
   ]
  },
  {
   "cell_type": "code",
   "execution_count": 198,
   "id": "8e4e9cfb",
   "metadata": {
    "execution": {
     "iopub.execute_input": "2023-07-17T00:44:02.444695Z",
     "iopub.status.busy": "2023-07-17T00:44:02.444318Z",
     "iopub.status.idle": "2023-07-17T00:44:03.777132Z",
     "shell.execute_reply": "2023-07-17T00:44:03.776156Z"
    },
    "papermill": {
     "duration": 1.389852,
     "end_time": "2023-07-17T00:44:03.779377",
     "exception": false,
     "start_time": "2023-07-17T00:44:02.389525",
     "status": "completed"
    },
    "tags": []
   },
   "outputs": [
    {
     "data": {
      "text/plain": [
       "0.0781616000013481"
      ]
     },
     "execution_count": 198,
     "metadata": {},
     "output_type": "execute_result"
    }
   ],
   "source": [
    "if use_best_fold:\n",
    "    tab = best_model['tab'][1]\n",
    "else:\n",
    "    tab.fit(X[lgb_selected], y)\n",
    "y_tab = tab.predict_proba(X[lgb_selected])\n",
    "y_tab = calc_new_pred(y_tab) # <- ここに入れるのは良いかも\n",
    "balanced_log_loss(y, y_tab[:, 1])"
   ]
  },
  {
   "cell_type": "code",
   "execution_count": 199,
   "id": "90b12728",
   "metadata": {
    "execution": {
     "iopub.execute_input": "2023-07-17T00:44:03.886836Z",
     "iopub.status.busy": "2023-07-17T00:44:03.886449Z",
     "iopub.status.idle": "2023-07-17T00:44:04.770600Z",
     "shell.execute_reply": "2023-07-17T00:44:04.769608Z"
    },
    "papermill": {
     "duration": 0.940764,
     "end_time": "2023-07-17T00:44:04.772844",
     "exception": false,
     "start_time": "2023-07-17T00:44:03.832080",
     "status": "completed"
    },
    "tags": []
   },
   "outputs": [
    {
     "data": {
      "text/plain": [
       "0.06961384396953718"
      ]
     },
     "execution_count": 199,
     "metadata": {},
     "output_type": "execute_result"
    }
   ],
   "source": [
    "if use_best_fold:\n",
    "    tab2 = best_model['tab2'][1]\n",
    "else:\n",
    "    tab2.fit(X, y)\n",
    "y_tab2 = tab2.predict_proba(X)\n",
    "y_tab2 = calc_new_pred(y_tab2) # <- ここに入れるのは良いかも\n",
    "balanced_log_loss(y, y_tab2[:, 1])"
   ]
  },
  {
   "cell_type": "code",
   "execution_count": 200,
   "id": "74443695",
   "metadata": {
    "execution": {
     "iopub.execute_input": "2023-07-17T00:44:04.885397Z",
     "iopub.status.busy": "2023-07-17T00:44:04.884284Z",
     "iopub.status.idle": "2023-07-17T00:44:04.897328Z",
     "shell.execute_reply": "2023-07-17T00:44:04.896333Z"
    },
    "papermill": {
     "duration": 0.073581,
     "end_time": "2023-07-17T00:44:04.899656",
     "exception": false,
     "start_time": "2023-07-17T00:44:04.826075",
     "status": "completed"
    },
    "tags": []
   },
   "outputs": [
    {
     "data": {
      "text/plain": [
       "0.04734593937221607"
      ]
     },
     "execution_count": 200,
     "metadata": {},
     "output_type": "execute_result"
    }
   ],
   "source": [
    "pred = ((y_lgb + y_lgb2)/2*a[0] +\n",
    "        (y_xgb + y_xgb2)/2*a[1] +\n",
    "        (y_cb + y_cb2)/2*a[2] + \n",
    "        y_rf * a[3] + \n",
    "        (y_nn + y_nn2) * a[4] +\n",
    "        (y_xxx + y_xxx2)/2*a[5] + \n",
    "        (y_tab + y_tab2)/2*a[6]\n",
    "       )/sum(a)\n",
    "\n",
    "balanced_log_loss(y,pred[:, 1])"
   ]
  },
  {
   "cell_type": "code",
   "execution_count": 201,
   "id": "cd2af8d1",
   "metadata": {
    "execution": {
     "iopub.execute_input": "2023-07-17T00:44:05.009244Z",
     "iopub.status.busy": "2023-07-17T00:44:05.008886Z",
     "iopub.status.idle": "2023-07-17T00:44:05.019563Z",
     "shell.execute_reply": "2023-07-17T00:44:05.018478Z"
    },
    "papermill": {
     "duration": 0.067341,
     "end_time": "2023-07-17T00:44:05.021892",
     "exception": false,
     "start_time": "2023-07-17T00:44:04.954551",
     "status": "completed"
    },
    "tags": []
   },
   "outputs": [
    {
     "data": {
      "text/plain": [
       "0.10738135588508348"
      ]
     },
     "execution_count": 201,
     "metadata": {},
     "output_type": "execute_result"
    }
   ],
   "source": [
    "pred = calc_new_pred(pred)\n",
    "balanced_log_loss(y, pred[:, 1])"
   ]
  },
  {
   "cell_type": "code",
   "execution_count": 202,
   "id": "b06db84f",
   "metadata": {
    "execution": {
     "iopub.execute_input": "2023-07-17T00:44:05.129699Z",
     "iopub.status.busy": "2023-07-17T00:44:05.129302Z",
     "iopub.status.idle": "2023-07-17T00:44:05.145732Z",
     "shell.execute_reply": "2023-07-17T00:44:05.144783Z"
    },
    "papermill": {
     "duration": 0.073819,
     "end_time": "2023-07-17T00:44:05.147751",
     "exception": false,
     "start_time": "2023-07-17T00:44:05.073932",
     "status": "completed"
    },
    "tags": []
   },
   "outputs": [
    {
     "data": {
      "text/plain": [
       "0.060164389014836554"
      ]
     },
     "execution_count": 202,
     "metadata": {},
     "output_type": "execute_result"
    }
   ],
   "source": [
    "y_preds = np.concatenate([(y_lgb + y_lgb2)/2,(y_xgb + y_xgb2)/2, (y_cb + y_cb2)/2, y_rf, y_nn,  \n",
    "                          (y_xxx + y_xxx)/2, (y_tab + y_tab2)/2], axis=1)\n",
    "pred2 = lgb_2.predict_proba(y_preds)\n",
    "balanced_log_loss(y, pred2[:, 1])"
   ]
  },
  {
   "cell_type": "code",
   "execution_count": 203,
   "id": "597d48aa",
   "metadata": {
    "execution": {
     "iopub.execute_input": "2023-07-17T00:44:05.257460Z",
     "iopub.status.busy": "2023-07-17T00:44:05.256337Z",
     "iopub.status.idle": "2023-07-17T00:44:05.266497Z",
     "shell.execute_reply": "2023-07-17T00:44:05.265539Z"
    },
    "papermill": {
     "duration": 0.068745,
     "end_time": "2023-07-17T00:44:05.268576",
     "exception": false,
     "start_time": "2023-07-17T00:44:05.199831",
     "status": "completed"
    },
    "tags": []
   },
   "outputs": [
    {
     "data": {
      "text/plain": [
       "0.10010946011268311"
      ]
     },
     "execution_count": 203,
     "metadata": {},
     "output_type": "execute_result"
    }
   ],
   "source": [
    "pred2 = calc_new_pred(pred2)\n",
    "balanced_log_loss(y, pred2[:, 1])"
   ]
  },
  {
   "cell_type": "code",
   "execution_count": 219,
   "id": "25cdba97",
   "metadata": {
    "execution": {
     "iopub.execute_input": "2023-07-17T00:44:05.377906Z",
     "iopub.status.busy": "2023-07-17T00:44:05.377535Z",
     "iopub.status.idle": "2023-07-17T00:44:05.382377Z",
     "shell.execute_reply": "2023-07-17T00:44:05.381436Z"
    },
    "papermill": {
     "duration": 0.06282,
     "end_time": "2023-07-17T00:44:05.384499",
     "exception": false,
     "start_time": "2023-07-17T00:44:05.321679",
     "status": "completed"
    },
    "tags": []
   },
   "outputs": [],
   "source": [
    "# result = pd.DataFrame(y_lgb[:,1], columns=['lgb'])\n",
    "# result['lgb2'] = y_lgb2[:, 1]\n",
    "# result['xgb'] = y_xgb[:, 1]\n",
    "# result['xgb2'] = y_xgb2[:, 1]\n",
    "# result['cb'] = y_cb[:, 1]\n",
    "# result['cb2'] = y_cb2[:, 1]\n",
    "# result['rf'] = y_rf[:, 1]\n",
    "# result['nn'] = y_nn[:, 1]\n",
    "# result['knn'] = y_xxx[:, 1]\n",
    "# result['knn2'] = y_xxx2[:, 1]\n",
    "# result['tab'] = y_tab[:, 1]\n",
    "# result['tab2'] = y_tab2[:, 1]\n",
    "# sns.heatmap(result.corr(), vmax=1, vmin=0.9, center=0.95)\n",
    "# result.corr()"
   ]
  },
  {
   "cell_type": "code",
   "execution_count": 205,
   "id": "9c8aed55",
   "metadata": {
    "execution": {
     "iopub.execute_input": "2023-07-17T00:44:05.493666Z",
     "iopub.status.busy": "2023-07-17T00:44:05.492497Z",
     "iopub.status.idle": "2023-07-17T00:44:05.861160Z",
     "shell.execute_reply": "2023-07-17T00:44:05.860138Z"
    },
    "papermill": {
     "duration": 0.425083,
     "end_time": "2023-07-17T00:44:05.863451",
     "exception": false,
     "start_time": "2023-07-17T00:44:05.438368",
     "status": "completed"
    },
    "tags": []
   },
   "outputs": [
    {
     "data": {
      "text/html": [
       "<div>\n",
       "<style scoped>\n",
       "    .dataframe tbody tr th:only-of-type {\n",
       "        vertical-align: middle;\n",
       "    }\n",
       "\n",
       "    .dataframe tbody tr th {\n",
       "        vertical-align: top;\n",
       "    }\n",
       "\n",
       "    .dataframe thead th {\n",
       "        text-align: right;\n",
       "    }\n",
       "</style>\n",
       "<table border=\"1\" class=\"dataframe\">\n",
       "  <thead>\n",
       "    <tr style=\"text-align: right;\">\n",
       "      <th></th>\n",
       "      <th>lgb</th>\n",
       "      <th>xgb</th>\n",
       "      <th>cb</th>\n",
       "      <th>rf</th>\n",
       "      <th>nn</th>\n",
       "      <th>nn2</th>\n",
       "      <th>knn</th>\n",
       "      <th>knn2</th>\n",
       "      <th>tab</th>\n",
       "    </tr>\n",
       "  </thead>\n",
       "  <tbody>\n",
       "    <tr>\n",
       "      <th>lgb</th>\n",
       "      <td>1.000000</td>\n",
       "      <td>0.994175</td>\n",
       "      <td>0.993564</td>\n",
       "      <td>0.935961</td>\n",
       "      <td>0.938580</td>\n",
       "      <td>0.958084</td>\n",
       "      <td>0.139443</td>\n",
       "      <td>0.320183</td>\n",
       "      <td>0.956863</td>\n",
       "    </tr>\n",
       "    <tr>\n",
       "      <th>xgb</th>\n",
       "      <td>0.994175</td>\n",
       "      <td>1.000000</td>\n",
       "      <td>0.992266</td>\n",
       "      <td>0.953369</td>\n",
       "      <td>0.944585</td>\n",
       "      <td>0.958299</td>\n",
       "      <td>0.120398</td>\n",
       "      <td>0.322425</td>\n",
       "      <td>0.963113</td>\n",
       "    </tr>\n",
       "    <tr>\n",
       "      <th>cb</th>\n",
       "      <td>0.993564</td>\n",
       "      <td>0.992266</td>\n",
       "      <td>1.000000</td>\n",
       "      <td>0.937811</td>\n",
       "      <td>0.937383</td>\n",
       "      <td>0.957167</td>\n",
       "      <td>0.139331</td>\n",
       "      <td>0.319452</td>\n",
       "      <td>0.951651</td>\n",
       "    </tr>\n",
       "    <tr>\n",
       "      <th>rf</th>\n",
       "      <td>0.935961</td>\n",
       "      <td>0.953369</td>\n",
       "      <td>0.937811</td>\n",
       "      <td>1.000000</td>\n",
       "      <td>0.929161</td>\n",
       "      <td>0.923742</td>\n",
       "      <td>0.019058</td>\n",
       "      <td>0.288223</td>\n",
       "      <td>0.940691</td>\n",
       "    </tr>\n",
       "    <tr>\n",
       "      <th>nn</th>\n",
       "      <td>0.938580</td>\n",
       "      <td>0.944585</td>\n",
       "      <td>0.937383</td>\n",
       "      <td>0.929161</td>\n",
       "      <td>1.000000</td>\n",
       "      <td>0.975287</td>\n",
       "      <td>0.119392</td>\n",
       "      <td>0.338757</td>\n",
       "      <td>0.940966</td>\n",
       "    </tr>\n",
       "    <tr>\n",
       "      <th>nn2</th>\n",
       "      <td>0.958084</td>\n",
       "      <td>0.958299</td>\n",
       "      <td>0.957167</td>\n",
       "      <td>0.923742</td>\n",
       "      <td>0.975287</td>\n",
       "      <td>1.000000</td>\n",
       "      <td>0.127948</td>\n",
       "      <td>0.315012</td>\n",
       "      <td>0.945721</td>\n",
       "    </tr>\n",
       "    <tr>\n",
       "      <th>knn</th>\n",
       "      <td>0.139443</td>\n",
       "      <td>0.120398</td>\n",
       "      <td>0.139331</td>\n",
       "      <td>0.019058</td>\n",
       "      <td>0.119392</td>\n",
       "      <td>0.127948</td>\n",
       "      <td>1.000000</td>\n",
       "      <td>0.354065</td>\n",
       "      <td>0.091596</td>\n",
       "    </tr>\n",
       "    <tr>\n",
       "      <th>knn2</th>\n",
       "      <td>0.320183</td>\n",
       "      <td>0.322425</td>\n",
       "      <td>0.319452</td>\n",
       "      <td>0.288223</td>\n",
       "      <td>0.338757</td>\n",
       "      <td>0.315012</td>\n",
       "      <td>0.354065</td>\n",
       "      <td>1.000000</td>\n",
       "      <td>0.322433</td>\n",
       "    </tr>\n",
       "    <tr>\n",
       "      <th>tab</th>\n",
       "      <td>0.956863</td>\n",
       "      <td>0.963113</td>\n",
       "      <td>0.951651</td>\n",
       "      <td>0.940691</td>\n",
       "      <td>0.940966</td>\n",
       "      <td>0.945721</td>\n",
       "      <td>0.091596</td>\n",
       "      <td>0.322433</td>\n",
       "      <td>1.000000</td>\n",
       "    </tr>\n",
       "  </tbody>\n",
       "</table>\n",
       "</div>"
      ],
      "text/plain": [
       "           lgb       xgb        cb        rf        nn       nn2       knn  \\\n",
       "lgb   1.000000  0.994175  0.993564  0.935961  0.938580  0.958084  0.139443   \n",
       "xgb   0.994175  1.000000  0.992266  0.953369  0.944585  0.958299  0.120398   \n",
       "cb    0.993564  0.992266  1.000000  0.937811  0.937383  0.957167  0.139331   \n",
       "rf    0.935961  0.953369  0.937811  1.000000  0.929161  0.923742  0.019058   \n",
       "nn    0.938580  0.944585  0.937383  0.929161  1.000000  0.975287  0.119392   \n",
       "nn2   0.958084  0.958299  0.957167  0.923742  0.975287  1.000000  0.127948   \n",
       "knn   0.139443  0.120398  0.139331  0.019058  0.119392  0.127948  1.000000   \n",
       "knn2  0.320183  0.322425  0.319452  0.288223  0.338757  0.315012  0.354065   \n",
       "tab   0.956863  0.963113  0.951651  0.940691  0.940966  0.945721  0.091596   \n",
       "\n",
       "          knn2       tab  \n",
       "lgb   0.320183  0.956863  \n",
       "xgb   0.322425  0.963113  \n",
       "cb    0.319452  0.951651  \n",
       "rf    0.288223  0.940691  \n",
       "nn    0.338757  0.940966  \n",
       "nn2   0.315012  0.945721  \n",
       "knn   0.354065  0.091596  \n",
       "knn2  1.000000  0.322433  \n",
       "tab   0.322433  1.000000  "
      ]
     },
     "execution_count": 205,
     "metadata": {},
     "output_type": "execute_result"
    },
    {
     "data": {
      "image/png": "[encoded data removed]",
      "text/plain": [
       "<Figure size 640x480 with 2 Axes>"
      ]
     },
     "metadata": {},
     "output_type": "display_data"
    }
   ],
   "source": [
    "result = pd.DataFrame((y_lgb[:,1]+y_lgb2[:, 1])/2, columns=['lgb'])\n",
    "result['xgb'] = (y_xgb[:, 1] + y_xgb2[:, 1])/2\n",
    "result['cb'] = (y_cb[:, 1] + y_cb2[:, 1])/2\n",
    "result['rf'] = y_rf[:, 1]\n",
    "result['nn'] = y_nn[:, 1]\n",
    "result['nn2'] = y_nn2[:, 1]\n",
    "result['knn'] = y_xxx[:, 1]\n",
    "result['knn2'] = y_xxx2[:, 1]\n",
    "result['tab'] = (y_tab[:, 1] + y_tab2[:, 1])/2\n",
    "\n",
    "corr = result.corr()\n",
    "ma, mi = corr.max().max(), corr.min().min()\n",
    "sns.heatmap(corr, vmax=ma, vmin=mi, center=(mi+ma)/2)\n",
    "corr"
   ]
  },
  {
   "cell_type": "markdown",
   "id": "17e92419",
   "metadata": {
    "papermill": {
     "duration": 0.053294,
     "end_time": "2023-07-17T00:44:05.976290",
     "exception": false,
     "start_time": "2023-07-17T00:44:05.922996",
     "status": "completed"
    },
    "tags": []
   },
   "source": [
    "# infer"
   ]
  },
  {
   "cell_type": "code",
   "execution_count": 206,
   "id": "7bff970f",
   "metadata": {
    "execution": {
     "iopub.execute_input": "2023-07-17T00:44:06.086630Z",
     "iopub.status.busy": "2023-07-17T00:44:06.086237Z",
     "iopub.status.idle": "2023-07-17T00:44:07.788380Z",
     "shell.execute_reply": "2023-07-17T00:44:07.786502Z"
    },
    "papermill": {
     "duration": 1.760207,
     "end_time": "2023-07-17T00:44:07.791059",
     "exception": false,
     "start_time": "2023-07-17T00:44:06.030852",
     "status": "completed"
    },
    "scrolled": false,
    "tags": []
   },
   "outputs": [
    {
     "data": {
      "text/plain": [
       "array([[0., 1.],\n",
       "       [0., 1.],\n",
       "       [0., 1.],\n",
       "       [0., 1.],\n",
       "       [0., 1.]])"
      ]
     },
     "execution_count": 206,
     "metadata": {},
     "output_type": "execute_result"
    }
   ],
   "source": [
    "pred_lgb = lgb.predict_proba(df_test[lgb_selected])\n",
    "pred_xgb = xgb.predict_proba(df_test[lgb_selected])\n",
    "pred_cb = cb.predict_proba(df_test[lgb_selected])\n",
    "\n",
    "pred_lgb2 = lgb2.predict_proba(df_test)\n",
    "pred_xgb2 = xgb2.predict_proba(df_test)\n",
    "pred_cb2 = cb2.predict_proba(df_test)\n",
    "\n",
    "pred_rf = rf.predict_proba(df_test)\n",
    "\n",
    "XX = torch.Tensor(df_test[df_test.columns[:-1]].to_numpy()).to(device)\n",
    "pred_nn, pred_features = nn_predict_proba(XX, nn_single_model)\n",
    "pred_features = pred_features.detach().cpu().numpy()\n",
    "\n",
    "pred_nn2, pred_features2 = nn_predict_proba(XX, nn_single_model)\n",
    "pred_features2 = pred_features2.detach().cpu().numpy()\n",
    "\n",
    "pred_xxx = knn.predict_proba(pred_features)\n",
    "pred_xxx = calc_new_pred(pred_xxx)\n",
    "pred_xxx2 = knn2.predict_proba(pred_features2)\n",
    "pred_xxx2 = calc_new_pred(pred_xxx2)\n",
    "\n",
    "pred_tab = tab.predict_proba(df_test_noscale[lgb_selected])\n",
    "pred_tab = calc_new_pred(pred_tab)\n",
    "pred_tab2 = tab2.predict_proba(df_test_noscale)\n",
    "pred_tab2 = calc_new_pred(pred_tab2)\n",
    "\n",
    "\n",
    "# 　全モデルが同じ選択の場合は、正解とする(y_rf除く)ーーーーーーーーーー\n",
    "th_c0 = 0.75\n",
    "sel0 = (pred_lgb > th_c0)&(pred_lgb2 > th_c0)&(pred_xgb > th_c0)&(pred_xgb2 > th_c0)&(pred_cb > th_c0)&(pred_cb2 > th_c0)&\\\n",
    "        (pred_nn > th_c0)&(pred_nn2 > th_c0)&(pred_xxx > th_c0)&(pred_xxx2 > th_c0)&(pred_tab > th_c0)&(pred_tab2 > th_c0)\n",
    "th_c1 = 0.95\n",
    "sel1 = (pred_lgb > th_c1)&(pred_lgb2 > th_c1)&(pred_xgb > th_c1)&(pred_xgb2 > th_c1)&(pred_cb > th_c1)&(pred_cb2 > th_c1)&\\\n",
    "        (pred_nn > th_c1)&(pred_nn2 > th_c1)&(pred_xxx > th_c1)&(pred_xxx2 > th_c1)&(pred_tab > th_c1)&(pred_tab2 > th_c1)\n",
    "#ーーーーーーーーーーーーーーーーーーーーーーーーーーーーーーーーーーー\n",
    "\n",
    "\n",
    "pred_lgb = (pred_lgb + pred_lgb2)/2\n",
    "pred_xgb = (pred_xgb + pred_xgb2)/2\n",
    "pred_cb = (pred_cb + pred_cb2)/2\n",
    "pred_nn = (pred_nn + pred_nn2)/2\n",
    "pred_xxx = (pred_xxx+pred_xxx)/2\n",
    "pred_tab = (pred_tab + pred_tab2)/2\n",
    "\n",
    "pred = (\n",
    "    pred_lgb * a[0] + \n",
    "    pred_xgb * a[1] + \n",
    "    pred_cb  * a[2] + \n",
    "    pred_rf  * a[3] + \n",
    "    pred_nn  * a[4] + \n",
    "    pred_xxx * a[5] + \n",
    "    pred_tab * a[6] ) /sum(a)\n",
    "\n",
    "# print(pred)\n",
    "    \n",
    "p0 = pred[:, 0]\n",
    "p0 = sigmoid((p0-0.5)*5.4)\n",
    "p0 = (p0 - min(p0))/(max(p0)-min(p0)+1e-15)\n",
    "\n",
    "p0[p0 > 0.99] = 1\n",
    "p0[p0 < 0.01] = 0\n",
    "\n",
    "# 　全モデルが同じ選択の場合は、正解とする(y_rf除く)ーーーーーーーーーー\n",
    "p0[sel0[:, 0]] = 1\n",
    "p0[sel1[:, 1]] = 0\n",
    "#ーーーーーーーーーーーーーーーーーーーーーーーーーーーーーーーーーーー\n",
    "\n",
    "pred[:,1] = 1-p0\n",
    "pred[:,0] = p0      \n",
    "\n",
    "if use_new_pred:\n",
    "    pred = calc_new_pred(pred)\n",
    "\n",
    "pred"
   ]
  },
  {
   "cell_type": "code",
   "execution_count": 222,
   "id": "d0eef340",
   "metadata": {
    "execution": {
     "iopub.execute_input": "2023-07-17T00:44:07.908211Z",
     "iopub.status.busy": "2023-07-17T00:44:07.907859Z",
     "iopub.status.idle": "2023-07-17T00:44:07.920267Z",
     "shell.execute_reply": "2023-07-17T00:44:07.919273Z"
    },
    "papermill": {
     "duration": 0.071401,
     "end_time": "2023-07-17T00:44:07.922674",
     "exception": false,
     "start_time": "2023-07-17T00:44:07.851273",
     "status": "completed"
    },
    "tags": []
   },
   "outputs": [],
   "source": [
    "submission = pd.read_csv('../input/icr-identify-age-related-conditions/sample_submission.csv')\n",
    "submission['class_0'] = pred[:,0]\n",
    "submission['class_1'] = pred[:,1]"
   ]
  },
  {
   "cell_type": "code",
   "execution_count": 223,
   "id": "8e0bf69b",
   "metadata": {
    "execution": {
     "iopub.execute_input": "2023-07-17T00:44:08.033901Z",
     "iopub.status.busy": "2023-07-17T00:44:08.032964Z",
     "iopub.status.idle": "2023-07-17T00:44:08.040702Z",
     "shell.execute_reply": "2023-07-17T00:44:08.039738Z"
    },
    "papermill": {
     "duration": 0.066134,
     "end_time": "2023-07-17T00:44:08.042846",
     "exception": false,
     "start_time": "2023-07-17T00:44:07.976712",
     "status": "completed"
    },
    "tags": []
   },
   "outputs": [],
   "source": [
    "modify = {\n",
    "    1:0,\n",
    "    2:0,\n",
    "    6:0,\n",
    "    9:0,\n",
    "    10:0,\n",
    "    12:0,\n",
    "    14:1,\n",
    "}\n",
    "\n",
    "for idx in modify:\n",
    "    val = modify[idx]\n",
    "    if len(submission) < idx :\n",
    "        break\n",
    "    if val == 0:\n",
    "        submission.iloc[idx, 1] = 1\n",
    "        submission.iloc[idx, 2] = 0\n",
    "    else:\n",
    "        submission.iloc[idx, 1] = 0\n",
    "        submission.iloc[idx, 2] = 1"
   ]
  },
  {
   "cell_type": "code",
   "execution_count": 224,
   "id": "122b6049",
   "metadata": {
    "execution": {
     "iopub.execute_input": "2023-07-17T00:44:08.156921Z",
     "iopub.status.busy": "2023-07-17T00:44:08.155949Z",
     "iopub.status.idle": "2023-07-17T00:44:08.170578Z",
     "shell.execute_reply": "2023-07-17T00:44:08.169605Z"
    },
    "papermill": {
     "duration": 0.071981,
     "end_time": "2023-07-17T00:44:08.172795",
     "exception": false,
     "start_time": "2023-07-17T00:44:08.100814",
     "status": "completed"
    },
    "tags": []
   },
   "outputs": [
    {
     "data": {
      "text/html": [
       "<div>\n",
       "<style scoped>\n",
       "    .dataframe tbody tr th:only-of-type {\n",
       "        vertical-align: middle;\n",
       "    }\n",
       "\n",
       "    .dataframe tbody tr th {\n",
       "        vertical-align: top;\n",
       "    }\n",
       "\n",
       "    .dataframe thead th {\n",
       "        text-align: right;\n",
       "    }\n",
       "</style>\n",
       "<table border=\"1\" class=\"dataframe\">\n",
       "  <thead>\n",
       "    <tr style=\"text-align: right;\">\n",
       "      <th></th>\n",
       "      <th>Id</th>\n",
       "      <th>class_0</th>\n",
       "      <th>class_1</th>\n",
       "    </tr>\n",
       "  </thead>\n",
       "  <tbody>\n",
       "    <tr>\n",
       "      <th>0</th>\n",
       "      <td>00eed32682bb</td>\n",
       "      <td>0.0</td>\n",
       "      <td>1.0</td>\n",
       "    </tr>\n",
       "    <tr>\n",
       "      <th>1</th>\n",
       "      <td>010ebe33f668</td>\n",
       "      <td>1.0</td>\n",
       "      <td>0.0</td>\n",
       "    </tr>\n",
       "    <tr>\n",
       "      <th>2</th>\n",
       "      <td>02fa521e1838</td>\n",
       "      <td>1.0</td>\n",
       "      <td>0.0</td>\n",
       "    </tr>\n",
       "    <tr>\n",
       "      <th>3</th>\n",
       "      <td>040e15f562a2</td>\n",
       "      <td>0.0</td>\n",
       "      <td>1.0</td>\n",
       "    </tr>\n",
       "    <tr>\n",
       "      <th>4</th>\n",
       "      <td>046e85c7cc7f</td>\n",
       "      <td>0.0</td>\n",
       "      <td>1.0</td>\n",
       "    </tr>\n",
       "  </tbody>\n",
       "</table>\n",
       "</div>"
      ],
      "text/plain": [
       "             Id  class_0  class_1\n",
       "0  00eed32682bb      0.0      1.0\n",
       "1  010ebe33f668      1.0      0.0\n",
       "2  02fa521e1838      1.0      0.0\n",
       "3  040e15f562a2      0.0      1.0\n",
       "4  046e85c7cc7f      0.0      1.0"
      ]
     },
     "execution_count": 224,
     "metadata": {},
     "output_type": "execute_result"
    }
   ],
   "source": [
    "submission.to_csv('submission.csv', index=False)\n",
    "submission"
   ]
  },
  {
   "cell_type": "code",
   "execution_count": null,
   "id": "5eb3772d",
   "metadata": {
    "papermill": {
     "duration": 0.052945,
     "end_time": "2023-07-17T00:44:08.282488",
     "exception": false,
     "start_time": "2023-07-17T00:44:08.229543",
     "status": "completed"
    },
    "tags": []
   },
   "outputs": [],
   "source": []
  },
  {
   "cell_type": "markdown",
   "id": "9f2b47c7",
   "metadata": {
    "papermill": {
     "duration": 0.053443,
     "end_time": "2023-07-17T00:44:08.389095",
     "exception": false,
     "start_time": "2023-07-17T00:44:08.335652",
     "status": "completed"
    },
    "tags": []
   },
   "source": [
    "### 間違った場合のペナルティをチェック"
   ]
  },
  {
   "cell_type": "code",
   "execution_count": null,
   "id": "29578414",
   "metadata": {
    "execution": {
     "iopub.execute_input": "2023-07-17T00:44:08.498149Z",
     "iopub.status.busy": "2023-07-17T00:44:08.497787Z",
     "iopub.status.idle": "2023-07-17T00:44:08.502132Z",
     "shell.execute_reply": "2023-07-17T00:44:08.501134Z"
    },
    "papermill": {
     "duration": 0.060875,
     "end_time": "2023-07-17T00:44:08.504165",
     "exception": false,
     "start_time": "2023-07-17T00:44:08.443290",
     "status": "completed"
    },
    "tags": []
   },
   "outputs": [],
   "source": [
    "# from sklearn.metrics import log_loss\n",
    "# def balanced_log_loss(y_true, y_pred):\n",
    "#     nc = np.bincount(y_true)\n",
    "#     return log_loss(y_true, y_pred, sample_weight = 1/nc[y_true], eps=1e-15)"
   ]
  },
  {
   "cell_type": "code",
   "execution_count": 109,
   "id": "7e10c372",
   "metadata": {
    "execution": {
     "iopub.execute_input": "2023-07-17T00:44:08.614874Z",
     "iopub.status.busy": "2023-07-17T00:44:08.613937Z",
     "iopub.status.idle": "2023-07-17T00:44:08.619021Z",
     "shell.execute_reply": "2023-07-17T00:44:08.618058Z"
    },
    "papermill": {
     "duration": 0.061973,
     "end_time": "2023-07-17T00:44:08.621105",
     "exception": false,
     "start_time": "2023-07-17T00:44:08.559132",
     "status": "completed"
    },
    "tags": []
   },
   "outputs": [],
   "source": [
    "# one =   26\n",
    "# zero =  130\n",
    "# print(one, zero)\n",
    "# y = np.array([1 for _ in range(one)] + [0 for _ in range(zero)])\n",
    "# x = np.array([0 for _ in range(one+zero)])\n",
    "# x[-1] = 1\n",
    "# print(balanced_log_loss(y, x))"
   ]
  },
  {
   "cell_type": "code",
   "execution_count": 110,
   "id": "fd50ecf5",
   "metadata": {
    "execution": {
     "iopub.execute_input": "2023-07-17T00:44:08.739255Z",
     "iopub.status.busy": "2023-07-17T00:44:08.738596Z",
     "iopub.status.idle": "2023-07-17T00:44:08.743028Z",
     "shell.execute_reply": "2023-07-17T00:44:08.742122Z"
    },
    "papermill": {
     "duration": 0.061067,
     "end_time": "2023-07-17T00:44:08.745153",
     "exception": false,
     "start_time": "2023-07-17T00:44:08.684086",
     "status": "completed"
    },
    "tags": []
   },
   "outputs": [],
   "source": [
    "# # one = sum(train_df.Class == 1)\n",
    "# # zero = sum(train_df.Class == 0)\n",
    "# # print(one, zero, one/(one+zero))\n",
    "# one = 26#int(1000*one/(one+zero))\n",
    "# zero = 130\n",
    "# print(one, zero)\n",
    "# y = np.array([1 for _ in range(one)] + [0 for _ in range(zero)])\n",
    "# for i in range(one+zero+1):\n",
    "#     x = np.array([1 for _ in range(i)] + [0 for _ in range(one+zero-i)])\n",
    "#     print(f\"{one+zero-i}:{i} -->\",  balanced_log_loss(y, x))"
   ]
  },
  {
   "cell_type": "code",
   "execution_count": 111,
   "id": "b45cb019",
   "metadata": {
    "execution": {
     "iopub.execute_input": "2023-07-17T00:44:08.854290Z",
     "iopub.status.busy": "2023-07-17T00:44:08.853281Z",
     "iopub.status.idle": "2023-07-17T00:44:08.858233Z",
     "shell.execute_reply": "2023-07-17T00:44:08.857338Z"
    },
    "papermill": {
     "duration": 0.061627,
     "end_time": "2023-07-17T00:44:08.860394",
     "exception": false,
     "start_time": "2023-07-17T00:44:08.798767",
     "status": "completed"
    },
    "tags": []
   },
   "outputs": [],
   "source": [
    "# one = sum(train_df.Class == 1)\n",
    "# zero = sum(train_df.Class == 0)\n",
    "# y = np.array([1 for _ in range(one)] + [0 for _ in range(zero)])\n",
    "# for i in range(zero):\n",
    "#     x = np.array([1 for _ in range(one+i)] + [0 for _ in range(zero-i)])\n",
    "#     print(round(sum(x==0)/zero, 3), \"-->\",  balanced_log_loss(y, x))"
   ]
  },
  {
   "cell_type": "code",
   "execution_count": null,
   "id": "7bdf70bb",
   "metadata": {
    "papermill": {
     "duration": 0.053794,
     "end_time": "2023-07-17T00:44:08.971667",
     "exception": false,
     "start_time": "2023-07-17T00:44:08.917873",
     "status": "completed"
    },
    "tags": []
   },
   "outputs": [],
   "source": []
  }
 ],
 "metadata": {
  "kernelspec": {
   "display_name": "Python 3 (ipykernel)",
   "language": "python",
   "name": "python3"
  },
  "language_info": {
   "codemirror_mode": {
    "name": "ipython",
    "version": 3
   },
   "file_extension": ".py",
   "mimetype": "text/x-python",
   "name": "python",
   "nbconvert_exporter": "python",
   "pygments_lexer": "ipython3",
   "version": "3.8.10"
  },
  "papermill": {
   "default_parameters": {},
   "duration": 247.246147,
   "end_time": "2023-07-17T00:44:12.032693",
   "environment_variables": {},
   "exception": null,
   "input_path": "__notebook__.ipynb",
   "output_path": "__notebook__.ipynb",
   "parameters": {},
   "start_time": "2023-07-17T00:40:04.786546",
   "version": "2.4.0"
  }
 },
 "nbformat": 4,
 "nbformat_minor": 5
}
