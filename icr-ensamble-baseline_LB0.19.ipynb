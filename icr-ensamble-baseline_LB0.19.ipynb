{
 "cells": [
  {
   "cell_type": "markdown",
   "id": "ea89187c",
   "metadata": {
    "papermill": {
     "duration": 0.025947,
     "end_time": "2023-06-15T23:55:54.316667",
     "exception": false,
     "start_time": "2023-06-15T23:55:54.290720",
     "status": "completed"
    },
    "tags": []
   },
   "source": [
    "### for kaggle notebook"
   ]
  },
  {
   "cell_type": "code",
   "execution_count": 1,
   "id": "2a47431d",
   "metadata": {
    "execution": {
     "iopub.execute_input": "2023-06-15T23:55:54.370929Z",
     "iopub.status.busy": "2023-06-15T23:55:54.370495Z",
     "iopub.status.idle": "2023-06-15T23:56:10.779497Z",
     "shell.execute_reply": "2023-06-15T23:56:10.778148Z"
    },
    "papermill": {
     "duration": 16.438927,
     "end_time": "2023-06-15T23:56:10.782021",
     "exception": false,
     "start_time": "2023-06-15T23:55:54.343094",
     "status": "completed"
    },
    "tags": []
   },
   "outputs": [
    {
     "name": "stdout",
     "output_type": "stream",
     "text": [
      "Looking in links: file:///kaggle/input/pip-packages-icr/pip-packages\r\n",
      "Processing /kaggle/input/pip-packages-icr/pip-packages/tabpfn-0.1.9-py3-none-any.whl\r\n",
      "Requirement already satisfied: pyyaml>=5.4.1 in /opt/conda/lib/python3.10/site-packages (from tabpfn) (6.0)\r\n",
      "Requirement already satisfied: scikit-learn>=0.24.2 in /opt/conda/lib/python3.10/site-packages (from tabpfn) (1.2.2)\r\n",
      "Requirement already satisfied: torch>=1.9.0 in /opt/conda/lib/python3.10/site-packages (from tabpfn) (2.0.0)\r\n",
      "Requirement already satisfied: numpy>=1.21.2 in /opt/conda/lib/python3.10/site-packages (from tabpfn) (1.23.5)\r\n",
      "Requirement already satisfied: requests>=2.23.0 in /opt/conda/lib/python3.10/site-packages (from tabpfn) (2.28.2)\r\n",
      "Requirement already satisfied: certifi>=2017.4.17 in /opt/conda/lib/python3.10/site-packages (from requests>=2.23.0->tabpfn) (2022.12.7)\r\n",
      "Requirement already satisfied: urllib3<1.27,>=1.21.1 in /opt/conda/lib/python3.10/site-packages (from requests>=2.23.0->tabpfn) (1.26.15)\r\n",
      "Requirement already satisfied: idna<4,>=2.5 in /opt/conda/lib/python3.10/site-packages (from requests>=2.23.0->tabpfn) (3.4)\r\n",
      "Requirement already satisfied: charset-normalizer<4,>=2 in /opt/conda/lib/python3.10/site-packages (from requests>=2.23.0->tabpfn) (2.1.1)\r\n",
      "Requirement already satisfied: joblib>=1.1.1 in /opt/conda/lib/python3.10/site-packages (from scikit-learn>=0.24.2->tabpfn) (1.2.0)\r\n",
      "Requirement already satisfied: scipy>=1.3.2 in /opt/conda/lib/python3.10/site-packages (from scikit-learn>=0.24.2->tabpfn) (1.9.3)\r\n",
      "Requirement already satisfied: threadpoolctl>=2.0.0 in /opt/conda/lib/python3.10/site-packages (from scikit-learn>=0.24.2->tabpfn) (3.1.0)\r\n",
      "Requirement already satisfied: jinja2 in /opt/conda/lib/python3.10/site-packages (from torch>=1.9.0->tabpfn) (3.1.2)\r\n",
      "Requirement already satisfied: typing-extensions in /opt/conda/lib/python3.10/site-packages (from torch>=1.9.0->tabpfn) (4.5.0)\r\n",
      "Requirement already satisfied: filelock in /opt/conda/lib/python3.10/site-packages (from torch>=1.9.0->tabpfn) (3.11.0)\r\n",
      "Requirement already satisfied: networkx in /opt/conda/lib/python3.10/site-packages (from torch>=1.9.0->tabpfn) (3.1)\r\n",
      "Requirement already satisfied: sympy in /opt/conda/lib/python3.10/site-packages (from torch>=1.9.0->tabpfn) (1.11.1)\r\n",
      "Requirement already satisfied: MarkupSafe>=2.0 in /opt/conda/lib/python3.10/site-packages (from jinja2->torch>=1.9.0->tabpfn) (2.1.2)\r\n",
      "Requirement already satisfied: mpmath>=0.19 in /opt/conda/lib/python3.10/site-packages (from sympy->torch>=1.9.0->tabpfn) (1.3.0)\r\n",
      "Installing collected packages: tabpfn\r\n",
      "Successfully installed tabpfn-0.1.9\r\n",
      "\u001b[33mWARNING: Running pip as the 'root' user can result in broken permissions and conflicting behaviour with the system package manager. It is recommended to use a virtual environment instead: https://pip.pypa.io/warnings/venv\u001b[0m\u001b[33m\r\n",
      "\u001b[0m"
     ]
    }
   ],
   "source": [
    "!pip install tabpfn --no-index --find-links=file:///kaggle/input/pip-packages-icr/pip-packages\n",
    "!mkdir -p /opt/conda/lib/python3.10/site-packages/tabpfn/models_diff\n",
    "!cp /kaggle/input/pip-packages-icr/pip-packages/prior_diff_real_checkpoint_n_0_epoch_100.cpkt /opt/conda/lib/python3.10/site-packages/tabpfn/models_diff/"
   ]
  },
  {
   "cell_type": "code",
   "execution_count": null,
   "id": "aa8fc905",
   "metadata": {
    "papermill": {
     "duration": 0.045771,
     "end_time": "2023-06-15T23:56:10.855737",
     "exception": false,
     "start_time": "2023-06-15T23:56:10.809966",
     "status": "completed"
    },
    "tags": []
   },
   "outputs": [],
   "source": []
  },
  {
   "cell_type": "code",
   "execution_count": 2,
   "id": "444d4091",
   "metadata": {
    "execution": {
     "iopub.execute_input": "2023-06-15T23:56:10.927125Z",
     "iopub.status.busy": "2023-06-15T23:56:10.926736Z",
     "iopub.status.idle": "2023-06-15T23:56:10.931162Z",
     "shell.execute_reply": "2023-06-15T23:56:10.930313Z"
    },
    "papermill": {
     "duration": 0.03396,
     "end_time": "2023-06-15T23:56:10.933214",
     "exception": false,
     "start_time": "2023-06-15T23:56:10.899254",
     "status": "completed"
    },
    "tags": []
   },
   "outputs": [],
   "source": [
    "# !pip install lightgbm\n",
    "# !pip install catboost\n",
    "# !pip install xgboost\n",
    "# !pip install tabpfn\n",
    "# !pip install seaborn\n",
    "# !pip install optuna"
   ]
  },
  {
   "cell_type": "code",
   "execution_count": 3,
   "id": "9b2a683a",
   "metadata": {
    "execution": {
     "iopub.execute_input": "2023-06-15T23:56:10.986376Z",
     "iopub.status.busy": "2023-06-15T23:56:10.986041Z",
     "iopub.status.idle": "2023-06-15T23:56:12.629027Z",
     "shell.execute_reply": "2023-06-15T23:56:12.628040Z"
    },
    "papermill": {
     "duration": 1.672331,
     "end_time": "2023-06-15T23:56:12.631488",
     "exception": false,
     "start_time": "2023-06-15T23:56:10.959157",
     "status": "completed"
    },
    "tags": []
   },
   "outputs": [
    {
     "name": "stderr",
     "output_type": "stream",
     "text": [
      "/opt/conda/lib/python3.10/site-packages/scipy/__init__.py:146: UserWarning: A NumPy version >=1.16.5 and <1.23.0 is required for this version of SciPy (detected version 1.23.5\n",
      "  warnings.warn(f\"A NumPy version >={np_minversion} and <{np_maxversion}\"\n"
     ]
    }
   ],
   "source": [
    "import pandas as pd\n",
    "import numpy as np\n",
    "from sklearn.metrics import make_scorer\n",
    "from sklearn import metrics\n",
    "from sklearn.preprocessing import RobustScaler\n",
    "from sklearn.utils.class_weight import compute_sample_weight\n",
    "from sklearn.model_selection import StratifiedKFold\n",
    "\n",
    "import optuna\n",
    "\n",
    "import matplotlib.pyplot as plt\n",
    "import seaborn as sns\n",
    "from datetime import date, datetime\n",
    "import warnings\n",
    "warnings.filterwarnings(\"ignore\")"
   ]
  },
  {
   "cell_type": "code",
   "execution_count": 4,
   "id": "8b65e09e",
   "metadata": {
    "execution": {
     "iopub.execute_input": "2023-06-15T23:56:12.685434Z",
     "iopub.status.busy": "2023-06-15T23:56:12.685090Z",
     "iopub.status.idle": "2023-06-15T23:56:17.903116Z",
     "shell.execute_reply": "2023-06-15T23:56:17.902135Z"
    },
    "papermill": {
     "duration": 5.247804,
     "end_time": "2023-06-15T23:56:17.905594",
     "exception": false,
     "start_time": "2023-06-15T23:56:12.657790",
     "status": "completed"
    },
    "tags": []
   },
   "outputs": [],
   "source": [
    "#from tabpfn import TabPFNClassifier\n",
    "from tabpfn.scripts.transformer_prediction_interface import TabPFNClassifier\n",
    "from lightgbm import LGBMClassifier\n",
    "from xgboost import XGBClassifier\n",
    "from catboost import CatBoostClassifier\n",
    "from sklearn.ensemble import RandomForestClassifier\n",
    "from sklearn.neighbors import KNeighborsClassifier"
   ]
  },
  {
   "cell_type": "code",
   "execution_count": 5,
   "id": "784753bd",
   "metadata": {
    "execution": {
     "iopub.execute_input": "2023-06-15T23:56:17.960316Z",
     "iopub.status.busy": "2023-06-15T23:56:17.958772Z",
     "iopub.status.idle": "2023-06-15T23:56:17.964600Z",
     "shell.execute_reply": "2023-06-15T23:56:17.963613Z"
    },
    "papermill": {
     "duration": 0.034905,
     "end_time": "2023-06-15T23:56:17.966797",
     "exception": false,
     "start_time": "2023-06-15T23:56:17.931892",
     "status": "completed"
    },
    "tags": []
   },
   "outputs": [],
   "source": [
    "import torch\n",
    "import torch.nn as nn\n",
    "import torch.optim as optim\n",
    "import torch.nn.functional as F\n",
    "from torch.utils.data import Dataset, DataLoader\n",
    "\n",
    "import random, os\n",
    "import math\n"
   ]
  },
  {
   "cell_type": "markdown",
   "id": "a499f9f3",
   "metadata": {
    "papermill": {
     "duration": 0.025563,
     "end_time": "2023-06-15T23:56:18.018357",
     "exception": false,
     "start_time": "2023-06-15T23:56:17.992794",
     "status": "completed"
    },
    "tags": []
   },
   "source": [
    "# Flags"
   ]
  },
  {
   "cell_type": "code",
   "execution_count": 6,
   "id": "f1ad5082",
   "metadata": {
    "execution": {
     "iopub.execute_input": "2023-06-15T23:56:18.072019Z",
     "iopub.status.busy": "2023-06-15T23:56:18.071087Z",
     "iopub.status.idle": "2023-06-15T23:56:18.076589Z",
     "shell.execute_reply": "2023-06-15T23:56:18.075723Z"
    },
    "papermill": {
     "duration": 0.034426,
     "end_time": "2023-06-15T23:56:18.078582",
     "exception": false,
     "start_time": "2023-06-15T23:56:18.044156",
     "status": "completed"
    },
    "tags": []
   },
   "outputs": [],
   "source": [
    "# SMOTEをTrueにすると、5FOLDの結果にリークが発生しているように見えるのでCVがあてにならなくなりそう\n",
    "use_SMOTE = False\n",
    "check_CV = True\n",
    "del_BC_CL = False\n",
    "do_opt = False\n",
    "use_new_pred = True\n",
    "\n",
    "use_GPU = False\n",
    "\n",
    "# 学習ループを行う・行わない（Pytorch部分）\n",
    "torch_train = False\n",
    "\n",
    "seed = 57"
   ]
  },
  {
   "cell_type": "code",
   "execution_count": 7,
   "id": "1fcc6c4f",
   "metadata": {
    "execution": {
     "iopub.execute_input": "2023-06-15T23:56:18.131853Z",
     "iopub.status.busy": "2023-06-15T23:56:18.131000Z",
     "iopub.status.idle": "2023-06-15T23:56:18.138331Z",
     "shell.execute_reply": "2023-06-15T23:56:18.137468Z"
    },
    "papermill": {
     "duration": 0.035921,
     "end_time": "2023-06-15T23:56:18.140318",
     "exception": false,
     "start_time": "2023-06-15T23:56:18.104397",
     "status": "completed"
    },
    "tags": []
   },
   "outputs": [
    {
     "data": {
      "text/plain": [
       "True"
      ]
     },
     "execution_count": 7,
     "metadata": {},
     "output_type": "execute_result"
    }
   ],
   "source": [
    "torch.cuda.is_available()"
   ]
  },
  {
   "cell_type": "code",
   "execution_count": 8,
   "id": "88978f5e",
   "metadata": {
    "execution": {
     "iopub.execute_input": "2023-06-15T23:56:18.194098Z",
     "iopub.status.busy": "2023-06-15T23:56:18.193201Z",
     "iopub.status.idle": "2023-06-15T23:56:18.200042Z",
     "shell.execute_reply": "2023-06-15T23:56:18.199124Z"
    },
    "papermill": {
     "duration": 0.035637,
     "end_time": "2023-06-15T23:56:18.201999",
     "exception": false,
     "start_time": "2023-06-15T23:56:18.166362",
     "status": "completed"
    },
    "tags": []
   },
   "outputs": [
    {
     "data": {
      "text/plain": [
       "(True, 'cuda')"
      ]
     },
     "execution_count": 8,
     "metadata": {},
     "output_type": "execute_result"
    }
   ],
   "source": [
    "device = \"cuda\" if torch.cuda.is_available() else \"cpu\"\n",
    "if device == \"cuda\":\n",
    "    use_GPU = True\n",
    "use_GPU, device"
   ]
  },
  {
   "cell_type": "markdown",
   "id": "9befc3bb",
   "metadata": {
    "papermill": {
     "duration": 0.025843,
     "end_time": "2023-06-15T23:56:18.253878",
     "exception": false,
     "start_time": "2023-06-15T23:56:18.228035",
     "status": "completed"
    },
    "tags": []
   },
   "source": [
    "# Functions"
   ]
  },
  {
   "cell_type": "code",
   "execution_count": 9,
   "id": "fb02eeab",
   "metadata": {
    "execution": {
     "iopub.execute_input": "2023-06-15T23:56:18.307697Z",
     "iopub.status.busy": "2023-06-15T23:56:18.307371Z",
     "iopub.status.idle": "2023-06-15T23:56:18.313791Z",
     "shell.execute_reply": "2023-06-15T23:56:18.312750Z"
    },
    "papermill": {
     "duration": 0.035692,
     "end_time": "2023-06-15T23:56:18.315811",
     "exception": false,
     "start_time": "2023-06-15T23:56:18.280119",
     "status": "completed"
    },
    "tags": []
   },
   "outputs": [],
   "source": [
    "def calc_new_pred(pred):\n",
    "    class_0_est_instances = pred[:,0].sum()\n",
    "    others_est_instances = pred[:,1:].sum()\n",
    "    \n",
    "    if class_0_est_instances == 0 or others_est_instances == 0 :\n",
    "        return pred\n",
    "    # we reweight the probs, since the loss is also balanced like this\n",
    "    # our models out of the box optimize CE\n",
    "    # with these changes they optimize balanced CE\n",
    "    new_p = pred * np.array([[1/(class_0_est_instances if i==0 else others_est_instances) for i in range(pred.shape[1])]])\n",
    "    return new_p / np.sum(new_p,axis=1,keepdims=1)"
   ]
  },
  {
   "cell_type": "markdown",
   "id": "4f80fc34",
   "metadata": {
    "papermill": {
     "duration": 0.026368,
     "end_time": "2023-06-15T23:56:18.368245",
     "exception": false,
     "start_time": "2023-06-15T23:56:18.341877",
     "status": "completed"
    },
    "tags": []
   },
   "source": [
    "# Read DATAS"
   ]
  },
  {
   "cell_type": "code",
   "execution_count": 10,
   "id": "a985ff0a",
   "metadata": {
    "execution": {
     "iopub.execute_input": "2023-06-15T23:56:18.423174Z",
     "iopub.status.busy": "2023-06-15T23:56:18.421573Z",
     "iopub.status.idle": "2023-06-15T23:56:18.493707Z",
     "shell.execute_reply": "2023-06-15T23:56:18.492783Z"
    },
    "papermill": {
     "duration": 0.101522,
     "end_time": "2023-06-15T23:56:18.495919",
     "exception": false,
     "start_time": "2023-06-15T23:56:18.394397",
     "status": "completed"
    },
    "tags": []
   },
   "outputs": [],
   "source": [
    "df = pd.read_csv(\"../input/icr-identify-age-related-conditions/train.csv\", index_col=[0])\n",
    "greeks_df = pd.read_csv(\"../input/icr-identify-age-related-conditions/greeks.csv\", index_col=[0])\n",
    "\n",
    "# マジック（Epsilonを入れる）　🌟\n",
    "times = greeks_df.Epsilon.copy()\n",
    "times[greeks_df.Epsilon != 'Unknown'] = greeks_df.Epsilon[greeks_df.Epsilon != 'Unknown'].map(lambda x: datetime.strptime(x,'%m/%d/%Y').toordinal())\n",
    "times[greeks_df.Epsilon == 'Unknown'] = greeks_df.Epsilon[greeks_df.Epsilon != 'Unknown'].map(lambda x: datetime.strptime(x,'%m/%d/%Y').toordinal()).median()\n",
    "greeks_df['times'] = times\n",
    "df = df.merge(greeks_df['times'], left_index = True, right_index = True, how='left')\n",
    "new_order = df.columns.to_list()\n",
    "new_order[-2], new_order[-1] = new_order[-1], new_order[-2]\n",
    "df_train = df.reindex(columns=new_order)\n",
    "del df"
   ]
  },
  {
   "cell_type": "code",
   "execution_count": 11,
   "id": "cd12fc9f",
   "metadata": {
    "execution": {
     "iopub.execute_input": "2023-06-15T23:56:18.551268Z",
     "iopub.status.busy": "2023-06-15T23:56:18.549712Z",
     "iopub.status.idle": "2023-06-15T23:56:18.591251Z",
     "shell.execute_reply": "2023-06-15T23:56:18.590252Z"
    },
    "papermill": {
     "duration": 0.071204,
     "end_time": "2023-06-15T23:56:18.593733",
     "exception": false,
     "start_time": "2023-06-15T23:56:18.522529",
     "status": "completed"
    },
    "tags": []
   },
   "outputs": [
    {
     "data": {
      "text/html": [
       "<div>\n",
       "<style scoped>\n",
       "    .dataframe tbody tr th:only-of-type {\n",
       "        vertical-align: middle;\n",
       "    }\n",
       "\n",
       "    .dataframe tbody tr th {\n",
       "        vertical-align: top;\n",
       "    }\n",
       "\n",
       "    .dataframe thead th {\n",
       "        text-align: right;\n",
       "    }\n",
       "</style>\n",
       "<table border=\"1\" class=\"dataframe\">\n",
       "  <thead>\n",
       "    <tr style=\"text-align: right;\">\n",
       "      <th></th>\n",
       "      <th>AB</th>\n",
       "      <th>AF</th>\n",
       "      <th>AH</th>\n",
       "      <th>AM</th>\n",
       "      <th>AR</th>\n",
       "      <th>AX</th>\n",
       "      <th>AY</th>\n",
       "      <th>AZ</th>\n",
       "      <th>BC</th>\n",
       "      <th>BD</th>\n",
       "      <th>...</th>\n",
       "      <th>FL</th>\n",
       "      <th>FR</th>\n",
       "      <th>FS</th>\n",
       "      <th>GB</th>\n",
       "      <th>GE</th>\n",
       "      <th>GF</th>\n",
       "      <th>GH</th>\n",
       "      <th>GI</th>\n",
       "      <th>GL</th>\n",
       "      <th>times</th>\n",
       "    </tr>\n",
       "    <tr>\n",
       "      <th>Id</th>\n",
       "      <th></th>\n",
       "      <th></th>\n",
       "      <th></th>\n",
       "      <th></th>\n",
       "      <th></th>\n",
       "      <th></th>\n",
       "      <th></th>\n",
       "      <th></th>\n",
       "      <th></th>\n",
       "      <th></th>\n",
       "      <th></th>\n",
       "      <th></th>\n",
       "      <th></th>\n",
       "      <th></th>\n",
       "      <th></th>\n",
       "      <th></th>\n",
       "      <th></th>\n",
       "      <th></th>\n",
       "      <th></th>\n",
       "      <th></th>\n",
       "      <th></th>\n",
       "    </tr>\n",
       "  </thead>\n",
       "  <tbody>\n",
       "    <tr>\n",
       "      <th>00eed32682bb</th>\n",
       "      <td>0.0</td>\n",
       "      <td>0.0</td>\n",
       "      <td>0.0</td>\n",
       "      <td>0.0</td>\n",
       "      <td>0.0</td>\n",
       "      <td>0.0</td>\n",
       "      <td>0.0</td>\n",
       "      <td>0.0</td>\n",
       "      <td>0.0</td>\n",
       "      <td>0.0</td>\n",
       "      <td>...</td>\n",
       "      <td>0.0</td>\n",
       "      <td>0.0</td>\n",
       "      <td>0.0</td>\n",
       "      <td>0.0</td>\n",
       "      <td>0.0</td>\n",
       "      <td>0.0</td>\n",
       "      <td>0.0</td>\n",
       "      <td>0.0</td>\n",
       "      <td>0.0</td>\n",
       "      <td>737698.0</td>\n",
       "    </tr>\n",
       "    <tr>\n",
       "      <th>010ebe33f668</th>\n",
       "      <td>0.0</td>\n",
       "      <td>0.0</td>\n",
       "      <td>0.0</td>\n",
       "      <td>0.0</td>\n",
       "      <td>0.0</td>\n",
       "      <td>0.0</td>\n",
       "      <td>0.0</td>\n",
       "      <td>0.0</td>\n",
       "      <td>0.0</td>\n",
       "      <td>0.0</td>\n",
       "      <td>...</td>\n",
       "      <td>0.0</td>\n",
       "      <td>0.0</td>\n",
       "      <td>0.0</td>\n",
       "      <td>0.0</td>\n",
       "      <td>0.0</td>\n",
       "      <td>0.0</td>\n",
       "      <td>0.0</td>\n",
       "      <td>0.0</td>\n",
       "      <td>0.0</td>\n",
       "      <td>737698.0</td>\n",
       "    </tr>\n",
       "    <tr>\n",
       "      <th>02fa521e1838</th>\n",
       "      <td>0.0</td>\n",
       "      <td>0.0</td>\n",
       "      <td>0.0</td>\n",
       "      <td>0.0</td>\n",
       "      <td>0.0</td>\n",
       "      <td>0.0</td>\n",
       "      <td>0.0</td>\n",
       "      <td>0.0</td>\n",
       "      <td>0.0</td>\n",
       "      <td>0.0</td>\n",
       "      <td>...</td>\n",
       "      <td>0.0</td>\n",
       "      <td>0.0</td>\n",
       "      <td>0.0</td>\n",
       "      <td>0.0</td>\n",
       "      <td>0.0</td>\n",
       "      <td>0.0</td>\n",
       "      <td>0.0</td>\n",
       "      <td>0.0</td>\n",
       "      <td>0.0</td>\n",
       "      <td>737698.0</td>\n",
       "    </tr>\n",
       "    <tr>\n",
       "      <th>040e15f562a2</th>\n",
       "      <td>0.0</td>\n",
       "      <td>0.0</td>\n",
       "      <td>0.0</td>\n",
       "      <td>0.0</td>\n",
       "      <td>0.0</td>\n",
       "      <td>0.0</td>\n",
       "      <td>0.0</td>\n",
       "      <td>0.0</td>\n",
       "      <td>0.0</td>\n",
       "      <td>0.0</td>\n",
       "      <td>...</td>\n",
       "      <td>0.0</td>\n",
       "      <td>0.0</td>\n",
       "      <td>0.0</td>\n",
       "      <td>0.0</td>\n",
       "      <td>0.0</td>\n",
       "      <td>0.0</td>\n",
       "      <td>0.0</td>\n",
       "      <td>0.0</td>\n",
       "      <td>0.0</td>\n",
       "      <td>737698.0</td>\n",
       "    </tr>\n",
       "    <tr>\n",
       "      <th>046e85c7cc7f</th>\n",
       "      <td>0.0</td>\n",
       "      <td>0.0</td>\n",
       "      <td>0.0</td>\n",
       "      <td>0.0</td>\n",
       "      <td>0.0</td>\n",
       "      <td>0.0</td>\n",
       "      <td>0.0</td>\n",
       "      <td>0.0</td>\n",
       "      <td>0.0</td>\n",
       "      <td>0.0</td>\n",
       "      <td>...</td>\n",
       "      <td>0.0</td>\n",
       "      <td>0.0</td>\n",
       "      <td>0.0</td>\n",
       "      <td>0.0</td>\n",
       "      <td>0.0</td>\n",
       "      <td>0.0</td>\n",
       "      <td>0.0</td>\n",
       "      <td>0.0</td>\n",
       "      <td>0.0</td>\n",
       "      <td>737698.0</td>\n",
       "    </tr>\n",
       "  </tbody>\n",
       "</table>\n",
       "<p>5 rows × 57 columns</p>\n",
       "</div>"
      ],
      "text/plain": [
       "               AB   AF   AH   AM   AR   AX   AY   AZ   BC  BD   ...   FL   FR  \\\n",
       "Id                                                              ...             \n",
       "00eed32682bb  0.0  0.0  0.0  0.0  0.0  0.0  0.0  0.0  0.0  0.0  ...  0.0  0.0   \n",
       "010ebe33f668  0.0  0.0  0.0  0.0  0.0  0.0  0.0  0.0  0.0  0.0  ...  0.0  0.0   \n",
       "02fa521e1838  0.0  0.0  0.0  0.0  0.0  0.0  0.0  0.0  0.0  0.0  ...  0.0  0.0   \n",
       "040e15f562a2  0.0  0.0  0.0  0.0  0.0  0.0  0.0  0.0  0.0  0.0  ...  0.0  0.0   \n",
       "046e85c7cc7f  0.0  0.0  0.0  0.0  0.0  0.0  0.0  0.0  0.0  0.0  ...  0.0  0.0   \n",
       "\n",
       "               FS   GB   GE   GF   GH   GI   GL     times  \n",
       "Id                                                         \n",
       "00eed32682bb  0.0  0.0  0.0  0.0  0.0  0.0  0.0  737698.0  \n",
       "010ebe33f668  0.0  0.0  0.0  0.0  0.0  0.0  0.0  737698.0  \n",
       "02fa521e1838  0.0  0.0  0.0  0.0  0.0  0.0  0.0  737698.0  \n",
       "040e15f562a2  0.0  0.0  0.0  0.0  0.0  0.0  0.0  737698.0  \n",
       "046e85c7cc7f  0.0  0.0  0.0  0.0  0.0  0.0  0.0  737698.0  \n",
       "\n",
       "[5 rows x 57 columns]"
      ]
     },
     "execution_count": 11,
     "metadata": {},
     "output_type": "execute_result"
    }
   ],
   "source": [
    "df_test = pd.read_csv(\"../input/icr-identify-age-related-conditions/test.csv\", index_col=[0])\n",
    "df_test['times'] = times.max()+1\n",
    "df_test"
   ]
  },
  {
   "cell_type": "code",
   "execution_count": 12,
   "id": "4024d6ed",
   "metadata": {
    "execution": {
     "iopub.execute_input": "2023-06-15T23:56:18.648798Z",
     "iopub.status.busy": "2023-06-15T23:56:18.648203Z",
     "iopub.status.idle": "2023-06-15T23:56:18.655596Z",
     "shell.execute_reply": "2023-06-15T23:56:18.654747Z"
    },
    "papermill": {
     "duration": 0.037254,
     "end_time": "2023-06-15T23:56:18.657625",
     "exception": false,
     "start_time": "2023-06-15T23:56:18.620371",
     "status": "completed"
    },
    "tags": []
   },
   "outputs": [],
   "source": [
    "df_train['EJ'] = df_train['EJ'].map({'A': 0.0, 'B': 1.0}, na_action=None)\n",
    "df_test['EJ'] = df_test['EJ'].map({'A': 0.0, 'B': 1.0}, na_action=None)"
   ]
  },
  {
   "cell_type": "markdown",
   "id": "7953b162",
   "metadata": {
    "papermill": {
     "duration": 0.026147,
     "end_time": "2023-06-15T23:56:18.710229",
     "exception": false,
     "start_time": "2023-06-15T23:56:18.684082",
     "status": "completed"
    },
    "tags": []
   },
   "source": [
    "## nanをmedianに変更"
   ]
  },
  {
   "cell_type": "code",
   "execution_count": 13,
   "id": "dbee534d",
   "metadata": {
    "execution": {
     "iopub.execute_input": "2023-06-15T23:56:18.764492Z",
     "iopub.status.busy": "2023-06-15T23:56:18.763898Z",
     "iopub.status.idle": "2023-06-15T23:56:18.812566Z",
     "shell.execute_reply": "2023-06-15T23:56:18.811653Z"
    },
    "papermill": {
     "duration": 0.078155,
     "end_time": "2023-06-15T23:56:18.814803",
     "exception": false,
     "start_time": "2023-06-15T23:56:18.736648",
     "status": "completed"
    },
    "tags": []
   },
   "outputs": [
    {
     "data": {
      "text/html": [
       "<div>\n",
       "<style scoped>\n",
       "    .dataframe tbody tr th:only-of-type {\n",
       "        vertical-align: middle;\n",
       "    }\n",
       "\n",
       "    .dataframe tbody tr th {\n",
       "        vertical-align: top;\n",
       "    }\n",
       "\n",
       "    .dataframe thead th {\n",
       "        text-align: right;\n",
       "    }\n",
       "</style>\n",
       "<table border=\"1\" class=\"dataframe\">\n",
       "  <thead>\n",
       "    <tr style=\"text-align: right;\">\n",
       "      <th></th>\n",
       "      <th>AB</th>\n",
       "      <th>AF</th>\n",
       "      <th>AH</th>\n",
       "      <th>AM</th>\n",
       "      <th>AR</th>\n",
       "      <th>AX</th>\n",
       "      <th>AY</th>\n",
       "      <th>AZ</th>\n",
       "      <th>BC</th>\n",
       "      <th>BD</th>\n",
       "      <th>...</th>\n",
       "      <th>FR</th>\n",
       "      <th>FS</th>\n",
       "      <th>GB</th>\n",
       "      <th>GE</th>\n",
       "      <th>GF</th>\n",
       "      <th>GH</th>\n",
       "      <th>GI</th>\n",
       "      <th>GL</th>\n",
       "      <th>times</th>\n",
       "      <th>Class</th>\n",
       "    </tr>\n",
       "    <tr>\n",
       "      <th>Id</th>\n",
       "      <th></th>\n",
       "      <th></th>\n",
       "      <th></th>\n",
       "      <th></th>\n",
       "      <th></th>\n",
       "      <th></th>\n",
       "      <th></th>\n",
       "      <th></th>\n",
       "      <th></th>\n",
       "      <th></th>\n",
       "      <th></th>\n",
       "      <th></th>\n",
       "      <th></th>\n",
       "      <th></th>\n",
       "      <th></th>\n",
       "      <th></th>\n",
       "      <th></th>\n",
       "      <th></th>\n",
       "      <th></th>\n",
       "      <th></th>\n",
       "      <th></th>\n",
       "    </tr>\n",
       "  </thead>\n",
       "  <tbody>\n",
       "    <tr>\n",
       "      <th>000ff2bfdfe9</th>\n",
       "      <td>0.209377</td>\n",
       "      <td>3109.03329</td>\n",
       "      <td>85.200147</td>\n",
       "      <td>22.394407</td>\n",
       "      <td>8.138688</td>\n",
       "      <td>0.699861</td>\n",
       "      <td>0.025578</td>\n",
       "      <td>9.812214</td>\n",
       "      <td>5.555634</td>\n",
       "      <td>4126.58731</td>\n",
       "      <td>...</td>\n",
       "      <td>1.73855</td>\n",
       "      <td>0.094822</td>\n",
       "      <td>11.339138</td>\n",
       "      <td>72.611063</td>\n",
       "      <td>2003.810319</td>\n",
       "      <td>22.136229</td>\n",
       "      <td>69.834944</td>\n",
       "      <td>0.120343</td>\n",
       "      <td>737137.0</td>\n",
       "      <td>1</td>\n",
       "    </tr>\n",
       "    <tr>\n",
       "      <th>007255e47698</th>\n",
       "      <td>0.145282</td>\n",
       "      <td>978.76416</td>\n",
       "      <td>85.200147</td>\n",
       "      <td>36.968889</td>\n",
       "      <td>8.138688</td>\n",
       "      <td>3.632190</td>\n",
       "      <td>0.025578</td>\n",
       "      <td>13.517790</td>\n",
       "      <td>1.229900</td>\n",
       "      <td>5496.92824</td>\n",
       "      <td>...</td>\n",
       "      <td>0.49706</td>\n",
       "      <td>0.568932</td>\n",
       "      <td>9.292698</td>\n",
       "      <td>72.611063</td>\n",
       "      <td>27981.562750</td>\n",
       "      <td>29.135430</td>\n",
       "      <td>32.131996</td>\n",
       "      <td>21.978000</td>\n",
       "      <td>737269.0</td>\n",
       "      <td>0</td>\n",
       "    </tr>\n",
       "    <tr>\n",
       "      <th>013f2bd269f5</th>\n",
       "      <td>0.470030</td>\n",
       "      <td>2635.10654</td>\n",
       "      <td>85.200147</td>\n",
       "      <td>32.360553</td>\n",
       "      <td>8.138688</td>\n",
       "      <td>6.732840</td>\n",
       "      <td>0.025578</td>\n",
       "      <td>12.824570</td>\n",
       "      <td>1.229900</td>\n",
       "      <td>5135.78024</td>\n",
       "      <td>...</td>\n",
       "      <td>0.97556</td>\n",
       "      <td>1.198821</td>\n",
       "      <td>37.077772</td>\n",
       "      <td>88.609437</td>\n",
       "      <td>13676.957810</td>\n",
       "      <td>28.022851</td>\n",
       "      <td>35.192676</td>\n",
       "      <td>0.196941</td>\n",
       "      <td>737269.0</td>\n",
       "      <td>0</td>\n",
       "    </tr>\n",
       "    <tr>\n",
       "      <th>043ac50845d5</th>\n",
       "      <td>0.252107</td>\n",
       "      <td>3819.65177</td>\n",
       "      <td>120.201618</td>\n",
       "      <td>77.112203</td>\n",
       "      <td>8.138688</td>\n",
       "      <td>3.685344</td>\n",
       "      <td>0.025578</td>\n",
       "      <td>11.053708</td>\n",
       "      <td>1.229900</td>\n",
       "      <td>4169.67738</td>\n",
       "      <td>...</td>\n",
       "      <td>0.49706</td>\n",
       "      <td>0.284466</td>\n",
       "      <td>18.529584</td>\n",
       "      <td>82.416803</td>\n",
       "      <td>2094.262452</td>\n",
       "      <td>39.948656</td>\n",
       "      <td>90.493248</td>\n",
       "      <td>0.155829</td>\n",
       "      <td>737269.0</td>\n",
       "      <td>0</td>\n",
       "    </tr>\n",
       "    <tr>\n",
       "      <th>044fb8a146ec</th>\n",
       "      <td>0.380297</td>\n",
       "      <td>3733.04844</td>\n",
       "      <td>85.200147</td>\n",
       "      <td>14.103738</td>\n",
       "      <td>8.138688</td>\n",
       "      <td>3.942255</td>\n",
       "      <td>0.054810</td>\n",
       "      <td>3.396778</td>\n",
       "      <td>102.151980</td>\n",
       "      <td>5728.73412</td>\n",
       "      <td>...</td>\n",
       "      <td>48.50134</td>\n",
       "      <td>0.121914</td>\n",
       "      <td>16.408728</td>\n",
       "      <td>146.109943</td>\n",
       "      <td>8524.370502</td>\n",
       "      <td>45.381316</td>\n",
       "      <td>36.262628</td>\n",
       "      <td>0.096614</td>\n",
       "      <td>737509.0</td>\n",
       "      <td>1</td>\n",
       "    </tr>\n",
       "    <tr>\n",
       "      <th>...</th>\n",
       "      <td>...</td>\n",
       "      <td>...</td>\n",
       "      <td>...</td>\n",
       "      <td>...</td>\n",
       "      <td>...</td>\n",
       "      <td>...</td>\n",
       "      <td>...</td>\n",
       "      <td>...</td>\n",
       "      <td>...</td>\n",
       "      <td>...</td>\n",
       "      <td>...</td>\n",
       "      <td>...</td>\n",
       "      <td>...</td>\n",
       "      <td>...</td>\n",
       "      <td>...</td>\n",
       "      <td>...</td>\n",
       "      <td>...</td>\n",
       "      <td>...</td>\n",
       "      <td>...</td>\n",
       "      <td>...</td>\n",
       "      <td>...</td>\n",
       "    </tr>\n",
       "    <tr>\n",
       "      <th>fd3dafe738fd</th>\n",
       "      <td>0.149555</td>\n",
       "      <td>3130.05946</td>\n",
       "      <td>123.763599</td>\n",
       "      <td>9.513984</td>\n",
       "      <td>13.020852</td>\n",
       "      <td>3.499305</td>\n",
       "      <td>0.077343</td>\n",
       "      <td>8.545512</td>\n",
       "      <td>2.804172</td>\n",
       "      <td>4157.68439</td>\n",
       "      <td>...</td>\n",
       "      <td>1.26092</td>\n",
       "      <td>0.067730</td>\n",
       "      <td>8.967128</td>\n",
       "      <td>217.148554</td>\n",
       "      <td>8095.932828</td>\n",
       "      <td>24.640462</td>\n",
       "      <td>69.191944</td>\n",
       "      <td>21.978000</td>\n",
       "      <td>737681.0</td>\n",
       "      <td>0</td>\n",
       "    </tr>\n",
       "    <tr>\n",
       "      <th>fd895603f071</th>\n",
       "      <td>0.435846</td>\n",
       "      <td>5462.03438</td>\n",
       "      <td>85.200147</td>\n",
       "      <td>46.551007</td>\n",
       "      <td>15.973224</td>\n",
       "      <td>5.979825</td>\n",
       "      <td>0.025882</td>\n",
       "      <td>12.622906</td>\n",
       "      <td>3.777550</td>\n",
       "      <td>5654.07556</td>\n",
       "      <td>...</td>\n",
       "      <td>1.24236</td>\n",
       "      <td>0.426699</td>\n",
       "      <td>35.896418</td>\n",
       "      <td>496.994214</td>\n",
       "      <td>3085.308063</td>\n",
       "      <td>29.648928</td>\n",
       "      <td>124.808872</td>\n",
       "      <td>0.145340</td>\n",
       "      <td>737676.0</td>\n",
       "      <td>0</td>\n",
       "    </tr>\n",
       "    <tr>\n",
       "      <th>fd8ef6377f76</th>\n",
       "      <td>0.427300</td>\n",
       "      <td>2459.10720</td>\n",
       "      <td>130.138587</td>\n",
       "      <td>55.355778</td>\n",
       "      <td>10.005552</td>\n",
       "      <td>8.070549</td>\n",
       "      <td>0.025578</td>\n",
       "      <td>15.408390</td>\n",
       "      <td>1.229900</td>\n",
       "      <td>5888.87769</td>\n",
       "      <td>...</td>\n",
       "      <td>0.49706</td>\n",
       "      <td>0.067730</td>\n",
       "      <td>19.962092</td>\n",
       "      <td>128.896894</td>\n",
       "      <td>6474.652866</td>\n",
       "      <td>26.166072</td>\n",
       "      <td>119.559420</td>\n",
       "      <td>21.978000</td>\n",
       "      <td>737264.0</td>\n",
       "      <td>0</td>\n",
       "    </tr>\n",
       "    <tr>\n",
       "      <th>fe1942975e40</th>\n",
       "      <td>0.363205</td>\n",
       "      <td>1263.53524</td>\n",
       "      <td>85.200147</td>\n",
       "      <td>23.685856</td>\n",
       "      <td>8.138688</td>\n",
       "      <td>7.981959</td>\n",
       "      <td>0.025578</td>\n",
       "      <td>7.524588</td>\n",
       "      <td>1.229900</td>\n",
       "      <td>4517.86560</td>\n",
       "      <td>...</td>\n",
       "      <td>0.78764</td>\n",
       "      <td>0.670527</td>\n",
       "      <td>24.594488</td>\n",
       "      <td>72.611063</td>\n",
       "      <td>1965.343176</td>\n",
       "      <td>25.116750</td>\n",
       "      <td>37.155112</td>\n",
       "      <td>0.184622</td>\n",
       "      <td>737090.0</td>\n",
       "      <td>0</td>\n",
       "    </tr>\n",
       "    <tr>\n",
       "      <th>ffcca4ded3bb</th>\n",
       "      <td>0.482849</td>\n",
       "      <td>2672.53426</td>\n",
       "      <td>546.663930</td>\n",
       "      <td>112.006102</td>\n",
       "      <td>8.138688</td>\n",
       "      <td>3.198099</td>\n",
       "      <td>0.116928</td>\n",
       "      <td>3.396778</td>\n",
       "      <td>7.948668</td>\n",
       "      <td>2818.01707</td>\n",
       "      <td>...</td>\n",
       "      <td>1.14492</td>\n",
       "      <td>0.149006</td>\n",
       "      <td>13.673940</td>\n",
       "      <td>72.611063</td>\n",
       "      <td>6850.484442</td>\n",
       "      <td>45.745974</td>\n",
       "      <td>114.842372</td>\n",
       "      <td>21.978000</td>\n",
       "      <td>737269.0</td>\n",
       "      <td>0</td>\n",
       "    </tr>\n",
       "  </tbody>\n",
       "</table>\n",
       "<p>617 rows × 58 columns</p>\n",
       "</div>"
      ],
      "text/plain": [
       "                    AB          AF          AH          AM         AR  \\\n",
       "Id                                                                      \n",
       "000ff2bfdfe9  0.209377  3109.03329   85.200147   22.394407   8.138688   \n",
       "007255e47698  0.145282   978.76416   85.200147   36.968889   8.138688   \n",
       "013f2bd269f5  0.470030  2635.10654   85.200147   32.360553   8.138688   \n",
       "043ac50845d5  0.252107  3819.65177  120.201618   77.112203   8.138688   \n",
       "044fb8a146ec  0.380297  3733.04844   85.200147   14.103738   8.138688   \n",
       "...                ...         ...         ...         ...        ...   \n",
       "fd3dafe738fd  0.149555  3130.05946  123.763599    9.513984  13.020852   \n",
       "fd895603f071  0.435846  5462.03438   85.200147   46.551007  15.973224   \n",
       "fd8ef6377f76  0.427300  2459.10720  130.138587   55.355778  10.005552   \n",
       "fe1942975e40  0.363205  1263.53524   85.200147   23.685856   8.138688   \n",
       "ffcca4ded3bb  0.482849  2672.53426  546.663930  112.006102   8.138688   \n",
       "\n",
       "                    AX        AY         AZ          BC         BD   ...  \\\n",
       "Id                                                                   ...   \n",
       "000ff2bfdfe9  0.699861  0.025578   9.812214    5.555634  4126.58731  ...   \n",
       "007255e47698  3.632190  0.025578  13.517790    1.229900  5496.92824  ...   \n",
       "013f2bd269f5  6.732840  0.025578  12.824570    1.229900  5135.78024  ...   \n",
       "043ac50845d5  3.685344  0.025578  11.053708    1.229900  4169.67738  ...   \n",
       "044fb8a146ec  3.942255  0.054810   3.396778  102.151980  5728.73412  ...   \n",
       "...                ...       ...        ...         ...         ...  ...   \n",
       "fd3dafe738fd  3.499305  0.077343   8.545512    2.804172  4157.68439  ...   \n",
       "fd895603f071  5.979825  0.025882  12.622906    3.777550  5654.07556  ...   \n",
       "fd8ef6377f76  8.070549  0.025578  15.408390    1.229900  5888.87769  ...   \n",
       "fe1942975e40  7.981959  0.025578   7.524588    1.229900  4517.86560  ...   \n",
       "ffcca4ded3bb  3.198099  0.116928   3.396778    7.948668  2818.01707  ...   \n",
       "\n",
       "                    FR        FS         GB          GE            GF  \\\n",
       "Id                                                                      \n",
       "000ff2bfdfe9   1.73855  0.094822  11.339138   72.611063   2003.810319   \n",
       "007255e47698   0.49706  0.568932   9.292698   72.611063  27981.562750   \n",
       "013f2bd269f5   0.97556  1.198821  37.077772   88.609437  13676.957810   \n",
       "043ac50845d5   0.49706  0.284466  18.529584   82.416803   2094.262452   \n",
       "044fb8a146ec  48.50134  0.121914  16.408728  146.109943   8524.370502   \n",
       "...                ...       ...        ...         ...           ...   \n",
       "fd3dafe738fd   1.26092  0.067730   8.967128  217.148554   8095.932828   \n",
       "fd895603f071   1.24236  0.426699  35.896418  496.994214   3085.308063   \n",
       "fd8ef6377f76   0.49706  0.067730  19.962092  128.896894   6474.652866   \n",
       "fe1942975e40   0.78764  0.670527  24.594488   72.611063   1965.343176   \n",
       "ffcca4ded3bb   1.14492  0.149006  13.673940   72.611063   6850.484442   \n",
       "\n",
       "                     GH          GI         GL     times  Class  \n",
       "Id                                                               \n",
       "000ff2bfdfe9  22.136229   69.834944   0.120343  737137.0      1  \n",
       "007255e47698  29.135430   32.131996  21.978000  737269.0      0  \n",
       "013f2bd269f5  28.022851   35.192676   0.196941  737269.0      0  \n",
       "043ac50845d5  39.948656   90.493248   0.155829  737269.0      0  \n",
       "044fb8a146ec  45.381316   36.262628   0.096614  737509.0      1  \n",
       "...                 ...         ...        ...       ...    ...  \n",
       "fd3dafe738fd  24.640462   69.191944  21.978000  737681.0      0  \n",
       "fd895603f071  29.648928  124.808872   0.145340  737676.0      0  \n",
       "fd8ef6377f76  26.166072  119.559420  21.978000  737264.0      0  \n",
       "fe1942975e40  25.116750   37.155112   0.184622  737090.0      0  \n",
       "ffcca4ded3bb  45.745974  114.842372  21.978000  737269.0      0  \n",
       "\n",
       "[617 rows x 58 columns]"
      ]
     },
     "execution_count": 13,
     "metadata": {},
     "output_type": "execute_result"
    }
   ],
   "source": [
    "col_mean = df_train.median(axis=0)\n",
    "for i, colname in enumerate(df_train.columns):\n",
    "    df_train[colname].fillna(col_mean[i], inplace=True)\n",
    "df_train"
   ]
  },
  {
   "cell_type": "code",
   "execution_count": 14,
   "id": "d46ffea7",
   "metadata": {
    "execution": {
     "iopub.execute_input": "2023-06-15T23:56:18.870623Z",
     "iopub.status.busy": "2023-06-15T23:56:18.870309Z",
     "iopub.status.idle": "2023-06-15T23:56:18.910519Z",
     "shell.execute_reply": "2023-06-15T23:56:18.909518Z"
    },
    "papermill": {
     "duration": 0.070658,
     "end_time": "2023-06-15T23:56:18.912920",
     "exception": false,
     "start_time": "2023-06-15T23:56:18.842262",
     "status": "completed"
    },
    "tags": []
   },
   "outputs": [
    {
     "data": {
      "text/html": [
       "<div>\n",
       "<style scoped>\n",
       "    .dataframe tbody tr th:only-of-type {\n",
       "        vertical-align: middle;\n",
       "    }\n",
       "\n",
       "    .dataframe tbody tr th {\n",
       "        vertical-align: top;\n",
       "    }\n",
       "\n",
       "    .dataframe thead th {\n",
       "        text-align: right;\n",
       "    }\n",
       "</style>\n",
       "<table border=\"1\" class=\"dataframe\">\n",
       "  <thead>\n",
       "    <tr style=\"text-align: right;\">\n",
       "      <th></th>\n",
       "      <th>AB</th>\n",
       "      <th>AF</th>\n",
       "      <th>AH</th>\n",
       "      <th>AM</th>\n",
       "      <th>AR</th>\n",
       "      <th>AX</th>\n",
       "      <th>AY</th>\n",
       "      <th>AZ</th>\n",
       "      <th>BC</th>\n",
       "      <th>BD</th>\n",
       "      <th>...</th>\n",
       "      <th>FL</th>\n",
       "      <th>FR</th>\n",
       "      <th>FS</th>\n",
       "      <th>GB</th>\n",
       "      <th>GE</th>\n",
       "      <th>GF</th>\n",
       "      <th>GH</th>\n",
       "      <th>GI</th>\n",
       "      <th>GL</th>\n",
       "      <th>times</th>\n",
       "    </tr>\n",
       "    <tr>\n",
       "      <th>Id</th>\n",
       "      <th></th>\n",
       "      <th></th>\n",
       "      <th></th>\n",
       "      <th></th>\n",
       "      <th></th>\n",
       "      <th></th>\n",
       "      <th></th>\n",
       "      <th></th>\n",
       "      <th></th>\n",
       "      <th></th>\n",
       "      <th></th>\n",
       "      <th></th>\n",
       "      <th></th>\n",
       "      <th></th>\n",
       "      <th></th>\n",
       "      <th></th>\n",
       "      <th></th>\n",
       "      <th></th>\n",
       "      <th></th>\n",
       "      <th></th>\n",
       "      <th></th>\n",
       "    </tr>\n",
       "  </thead>\n",
       "  <tbody>\n",
       "    <tr>\n",
       "      <th>00eed32682bb</th>\n",
       "      <td>0.0</td>\n",
       "      <td>0.0</td>\n",
       "      <td>0.0</td>\n",
       "      <td>0.0</td>\n",
       "      <td>0.0</td>\n",
       "      <td>0.0</td>\n",
       "      <td>0.0</td>\n",
       "      <td>0.0</td>\n",
       "      <td>0.0</td>\n",
       "      <td>0.0</td>\n",
       "      <td>...</td>\n",
       "      <td>0.0</td>\n",
       "      <td>0.0</td>\n",
       "      <td>0.0</td>\n",
       "      <td>0.0</td>\n",
       "      <td>0.0</td>\n",
       "      <td>0.0</td>\n",
       "      <td>0.0</td>\n",
       "      <td>0.0</td>\n",
       "      <td>0.0</td>\n",
       "      <td>737698.0</td>\n",
       "    </tr>\n",
       "    <tr>\n",
       "      <th>010ebe33f668</th>\n",
       "      <td>0.0</td>\n",
       "      <td>0.0</td>\n",
       "      <td>0.0</td>\n",
       "      <td>0.0</td>\n",
       "      <td>0.0</td>\n",
       "      <td>0.0</td>\n",
       "      <td>0.0</td>\n",
       "      <td>0.0</td>\n",
       "      <td>0.0</td>\n",
       "      <td>0.0</td>\n",
       "      <td>...</td>\n",
       "      <td>0.0</td>\n",
       "      <td>0.0</td>\n",
       "      <td>0.0</td>\n",
       "      <td>0.0</td>\n",
       "      <td>0.0</td>\n",
       "      <td>0.0</td>\n",
       "      <td>0.0</td>\n",
       "      <td>0.0</td>\n",
       "      <td>0.0</td>\n",
       "      <td>737698.0</td>\n",
       "    </tr>\n",
       "    <tr>\n",
       "      <th>02fa521e1838</th>\n",
       "      <td>0.0</td>\n",
       "      <td>0.0</td>\n",
       "      <td>0.0</td>\n",
       "      <td>0.0</td>\n",
       "      <td>0.0</td>\n",
       "      <td>0.0</td>\n",
       "      <td>0.0</td>\n",
       "      <td>0.0</td>\n",
       "      <td>0.0</td>\n",
       "      <td>0.0</td>\n",
       "      <td>...</td>\n",
       "      <td>0.0</td>\n",
       "      <td>0.0</td>\n",
       "      <td>0.0</td>\n",
       "      <td>0.0</td>\n",
       "      <td>0.0</td>\n",
       "      <td>0.0</td>\n",
       "      <td>0.0</td>\n",
       "      <td>0.0</td>\n",
       "      <td>0.0</td>\n",
       "      <td>737698.0</td>\n",
       "    </tr>\n",
       "    <tr>\n",
       "      <th>040e15f562a2</th>\n",
       "      <td>0.0</td>\n",
       "      <td>0.0</td>\n",
       "      <td>0.0</td>\n",
       "      <td>0.0</td>\n",
       "      <td>0.0</td>\n",
       "      <td>0.0</td>\n",
       "      <td>0.0</td>\n",
       "      <td>0.0</td>\n",
       "      <td>0.0</td>\n",
       "      <td>0.0</td>\n",
       "      <td>...</td>\n",
       "      <td>0.0</td>\n",
       "      <td>0.0</td>\n",
       "      <td>0.0</td>\n",
       "      <td>0.0</td>\n",
       "      <td>0.0</td>\n",
       "      <td>0.0</td>\n",
       "      <td>0.0</td>\n",
       "      <td>0.0</td>\n",
       "      <td>0.0</td>\n",
       "      <td>737698.0</td>\n",
       "    </tr>\n",
       "    <tr>\n",
       "      <th>046e85c7cc7f</th>\n",
       "      <td>0.0</td>\n",
       "      <td>0.0</td>\n",
       "      <td>0.0</td>\n",
       "      <td>0.0</td>\n",
       "      <td>0.0</td>\n",
       "      <td>0.0</td>\n",
       "      <td>0.0</td>\n",
       "      <td>0.0</td>\n",
       "      <td>0.0</td>\n",
       "      <td>0.0</td>\n",
       "      <td>...</td>\n",
       "      <td>0.0</td>\n",
       "      <td>0.0</td>\n",
       "      <td>0.0</td>\n",
       "      <td>0.0</td>\n",
       "      <td>0.0</td>\n",
       "      <td>0.0</td>\n",
       "      <td>0.0</td>\n",
       "      <td>0.0</td>\n",
       "      <td>0.0</td>\n",
       "      <td>737698.0</td>\n",
       "    </tr>\n",
       "  </tbody>\n",
       "</table>\n",
       "<p>5 rows × 57 columns</p>\n",
       "</div>"
      ],
      "text/plain": [
       "               AB   AF   AH   AM   AR   AX   AY   AZ   BC  BD   ...   FL   FR  \\\n",
       "Id                                                              ...             \n",
       "00eed32682bb  0.0  0.0  0.0  0.0  0.0  0.0  0.0  0.0  0.0  0.0  ...  0.0  0.0   \n",
       "010ebe33f668  0.0  0.0  0.0  0.0  0.0  0.0  0.0  0.0  0.0  0.0  ...  0.0  0.0   \n",
       "02fa521e1838  0.0  0.0  0.0  0.0  0.0  0.0  0.0  0.0  0.0  0.0  ...  0.0  0.0   \n",
       "040e15f562a2  0.0  0.0  0.0  0.0  0.0  0.0  0.0  0.0  0.0  0.0  ...  0.0  0.0   \n",
       "046e85c7cc7f  0.0  0.0  0.0  0.0  0.0  0.0  0.0  0.0  0.0  0.0  ...  0.0  0.0   \n",
       "\n",
       "               FS   GB   GE   GF   GH   GI   GL     times  \n",
       "Id                                                         \n",
       "00eed32682bb  0.0  0.0  0.0  0.0  0.0  0.0  0.0  737698.0  \n",
       "010ebe33f668  0.0  0.0  0.0  0.0  0.0  0.0  0.0  737698.0  \n",
       "02fa521e1838  0.0  0.0  0.0  0.0  0.0  0.0  0.0  737698.0  \n",
       "040e15f562a2  0.0  0.0  0.0  0.0  0.0  0.0  0.0  737698.0  \n",
       "046e85c7cc7f  0.0  0.0  0.0  0.0  0.0  0.0  0.0  737698.0  \n",
       "\n",
       "[5 rows x 57 columns]"
      ]
     },
     "execution_count": 14,
     "metadata": {},
     "output_type": "execute_result"
    }
   ],
   "source": [
    "for i, colname in enumerate(df_test.columns):\n",
    "    df_test[colname].fillna(col_mean[i], inplace=True)\n",
    "df_test"
   ]
  },
  {
   "cell_type": "markdown",
   "id": "9a6ffd87",
   "metadata": {
    "papermill": {
     "duration": 0.027197,
     "end_time": "2023-06-15T23:56:18.967798",
     "exception": false,
     "start_time": "2023-06-15T23:56:18.940601",
     "status": "completed"
    },
    "tags": []
   },
   "source": [
    "### 列 BC と CL を削除\n",
    "自分のコードではCVが低下したので一旦コメントアウト\n",
    "\n",
    "https://www.kaggle.com/competitions/icr-identify-age-related-conditions/discussion/414638"
   ]
  },
  {
   "cell_type": "code",
   "execution_count": 15,
   "id": "42230180",
   "metadata": {
    "execution": {
     "iopub.execute_input": "2023-06-15T23:56:19.024011Z",
     "iopub.status.busy": "2023-06-15T23:56:19.023680Z",
     "iopub.status.idle": "2023-06-15T23:56:19.028271Z",
     "shell.execute_reply": "2023-06-15T23:56:19.027380Z"
    },
    "papermill": {
     "duration": 0.035007,
     "end_time": "2023-06-15T23:56:19.030324",
     "exception": false,
     "start_time": "2023-06-15T23:56:18.995317",
     "status": "completed"
    },
    "tags": []
   },
   "outputs": [],
   "source": [
    "if del_BC_CL:\n",
    "    df_train = df_train.drop(['BC','CL'], axis=1)\n",
    "    df_test = df_test.drop(['BC','CL'], axis=1)"
   ]
  },
  {
   "cell_type": "markdown",
   "id": "7829d5f3",
   "metadata": {
    "papermill": {
     "duration": 0.027186,
     "end_time": "2023-06-15T23:56:19.084609",
     "exception": false,
     "start_time": "2023-06-15T23:56:19.057423",
     "status": "completed"
    },
    "tags": []
   },
   "source": [
    "### smote"
   ]
  },
  {
   "cell_type": "code",
   "execution_count": 16,
   "id": "b1381504",
   "metadata": {
    "execution": {
     "iopub.execute_input": "2023-06-15T23:56:19.141256Z",
     "iopub.status.busy": "2023-06-15T23:56:19.140334Z",
     "iopub.status.idle": "2023-06-15T23:56:25.061919Z",
     "shell.execute_reply": "2023-06-15T23:56:25.061029Z"
    },
    "papermill": {
     "duration": 5.953343,
     "end_time": "2023-06-15T23:56:25.065265",
     "exception": false,
     "start_time": "2023-06-15T23:56:19.111922",
     "status": "completed"
    },
    "tags": []
   },
   "outputs": [
    {
     "data": {
      "image/png": "[encoded data removed]",
      "text/plain": [
       "<Figure size 640x480 with 1 Axes>"
      ]
     },
     "metadata": {},
     "output_type": "display_data"
    }
   ],
   "source": [
    "from imblearn.over_sampling import SMOTE\n",
    "from imblearn.combine import SMOTETomek\n",
    "\n",
    "X = df_train[df_train.columns[:-1]]\n",
    "y = df_train.Class\n",
    "sm = SMOTETomek(random_state=57)\n",
    "X_res, y_res = sm.fit_resample(X, y)\n",
    "\n",
    "from sklearn.manifold import TSNE\n",
    "pca = TSNE(n_components=2, random_state=0)\n",
    "X_reduced_tsne = pca.fit_transform(X_res)  # wineデータをPCAで次元圧縮\n",
    "plt.scatter(X_reduced_tsne[:, 0], X_reduced_tsne[:, 1],\n",
    "            c=y_res, cmap='jet', alpha=0.3)\n",
    "plt.show()\n",
    "\n",
    "if use_SMOTE:\n",
    "    X_res['Class'] = y_res\n",
    "    df_train = X_res"
   ]
  },
  {
   "cell_type": "code",
   "execution_count": 17,
   "id": "e7006fec",
   "metadata": {
    "execution": {
     "iopub.execute_input": "2023-06-15T23:56:25.126297Z",
     "iopub.status.busy": "2023-06-15T23:56:25.125908Z",
     "iopub.status.idle": "2023-06-15T23:56:25.155756Z",
     "shell.execute_reply": "2023-06-15T23:56:25.154777Z"
    },
    "papermill": {
     "duration": 0.062601,
     "end_time": "2023-06-15T23:56:25.157720",
     "exception": false,
     "start_time": "2023-06-15T23:56:25.095119",
     "status": "completed"
    },
    "tags": []
   },
   "outputs": [
    {
     "data": {
      "text/html": [
       "<div>\n",
       "<style scoped>\n",
       "    .dataframe tbody tr th:only-of-type {\n",
       "        vertical-align: middle;\n",
       "    }\n",
       "\n",
       "    .dataframe tbody tr th {\n",
       "        vertical-align: top;\n",
       "    }\n",
       "\n",
       "    .dataframe thead th {\n",
       "        text-align: right;\n",
       "    }\n",
       "</style>\n",
       "<table border=\"1\" class=\"dataframe\">\n",
       "  <thead>\n",
       "    <tr style=\"text-align: right;\">\n",
       "      <th></th>\n",
       "      <th>AB</th>\n",
       "      <th>AF</th>\n",
       "      <th>AH</th>\n",
       "      <th>AM</th>\n",
       "      <th>AR</th>\n",
       "      <th>AX</th>\n",
       "      <th>AY</th>\n",
       "      <th>AZ</th>\n",
       "      <th>BC</th>\n",
       "      <th>BD</th>\n",
       "      <th>...</th>\n",
       "      <th>FR</th>\n",
       "      <th>FS</th>\n",
       "      <th>GB</th>\n",
       "      <th>GE</th>\n",
       "      <th>GF</th>\n",
       "      <th>GH</th>\n",
       "      <th>GI</th>\n",
       "      <th>GL</th>\n",
       "      <th>times</th>\n",
       "      <th>Class</th>\n",
       "    </tr>\n",
       "    <tr>\n",
       "      <th>Id</th>\n",
       "      <th></th>\n",
       "      <th></th>\n",
       "      <th></th>\n",
       "      <th></th>\n",
       "      <th></th>\n",
       "      <th></th>\n",
       "      <th></th>\n",
       "      <th></th>\n",
       "      <th></th>\n",
       "      <th></th>\n",
       "      <th></th>\n",
       "      <th></th>\n",
       "      <th></th>\n",
       "      <th></th>\n",
       "      <th></th>\n",
       "      <th></th>\n",
       "      <th></th>\n",
       "      <th></th>\n",
       "      <th></th>\n",
       "      <th></th>\n",
       "      <th></th>\n",
       "    </tr>\n",
       "  </thead>\n",
       "  <tbody>\n",
       "    <tr>\n",
       "      <th>000ff2bfdfe9</th>\n",
       "      <td>0.209377</td>\n",
       "      <td>3109.03329</td>\n",
       "      <td>85.200147</td>\n",
       "      <td>22.394407</td>\n",
       "      <td>8.138688</td>\n",
       "      <td>0.699861</td>\n",
       "      <td>0.025578</td>\n",
       "      <td>9.812214</td>\n",
       "      <td>5.555634</td>\n",
       "      <td>4126.58731</td>\n",
       "      <td>...</td>\n",
       "      <td>1.73855</td>\n",
       "      <td>0.094822</td>\n",
       "      <td>11.339138</td>\n",
       "      <td>72.611063</td>\n",
       "      <td>2003.810319</td>\n",
       "      <td>22.136229</td>\n",
       "      <td>69.834944</td>\n",
       "      <td>0.120343</td>\n",
       "      <td>737137.0</td>\n",
       "      <td>1</td>\n",
       "    </tr>\n",
       "    <tr>\n",
       "      <th>007255e47698</th>\n",
       "      <td>0.145282</td>\n",
       "      <td>978.76416</td>\n",
       "      <td>85.200147</td>\n",
       "      <td>36.968889</td>\n",
       "      <td>8.138688</td>\n",
       "      <td>3.632190</td>\n",
       "      <td>0.025578</td>\n",
       "      <td>13.517790</td>\n",
       "      <td>1.229900</td>\n",
       "      <td>5496.92824</td>\n",
       "      <td>...</td>\n",
       "      <td>0.49706</td>\n",
       "      <td>0.568932</td>\n",
       "      <td>9.292698</td>\n",
       "      <td>72.611063</td>\n",
       "      <td>27981.562750</td>\n",
       "      <td>29.135430</td>\n",
       "      <td>32.131996</td>\n",
       "      <td>21.978000</td>\n",
       "      <td>737269.0</td>\n",
       "      <td>0</td>\n",
       "    </tr>\n",
       "    <tr>\n",
       "      <th>013f2bd269f5</th>\n",
       "      <td>0.470030</td>\n",
       "      <td>2635.10654</td>\n",
       "      <td>85.200147</td>\n",
       "      <td>32.360553</td>\n",
       "      <td>8.138688</td>\n",
       "      <td>6.732840</td>\n",
       "      <td>0.025578</td>\n",
       "      <td>12.824570</td>\n",
       "      <td>1.229900</td>\n",
       "      <td>5135.78024</td>\n",
       "      <td>...</td>\n",
       "      <td>0.97556</td>\n",
       "      <td>1.198821</td>\n",
       "      <td>37.077772</td>\n",
       "      <td>88.609437</td>\n",
       "      <td>13676.957810</td>\n",
       "      <td>28.022851</td>\n",
       "      <td>35.192676</td>\n",
       "      <td>0.196941</td>\n",
       "      <td>737269.0</td>\n",
       "      <td>0</td>\n",
       "    </tr>\n",
       "    <tr>\n",
       "      <th>043ac50845d5</th>\n",
       "      <td>0.252107</td>\n",
       "      <td>3819.65177</td>\n",
       "      <td>120.201618</td>\n",
       "      <td>77.112203</td>\n",
       "      <td>8.138688</td>\n",
       "      <td>3.685344</td>\n",
       "      <td>0.025578</td>\n",
       "      <td>11.053708</td>\n",
       "      <td>1.229900</td>\n",
       "      <td>4169.67738</td>\n",
       "      <td>...</td>\n",
       "      <td>0.49706</td>\n",
       "      <td>0.284466</td>\n",
       "      <td>18.529584</td>\n",
       "      <td>82.416803</td>\n",
       "      <td>2094.262452</td>\n",
       "      <td>39.948656</td>\n",
       "      <td>90.493248</td>\n",
       "      <td>0.155829</td>\n",
       "      <td>737269.0</td>\n",
       "      <td>0</td>\n",
       "    </tr>\n",
       "    <tr>\n",
       "      <th>044fb8a146ec</th>\n",
       "      <td>0.380297</td>\n",
       "      <td>3733.04844</td>\n",
       "      <td>85.200147</td>\n",
       "      <td>14.103738</td>\n",
       "      <td>8.138688</td>\n",
       "      <td>3.942255</td>\n",
       "      <td>0.054810</td>\n",
       "      <td>3.396778</td>\n",
       "      <td>102.151980</td>\n",
       "      <td>5728.73412</td>\n",
       "      <td>...</td>\n",
       "      <td>48.50134</td>\n",
       "      <td>0.121914</td>\n",
       "      <td>16.408728</td>\n",
       "      <td>146.109943</td>\n",
       "      <td>8524.370502</td>\n",
       "      <td>45.381316</td>\n",
       "      <td>36.262628</td>\n",
       "      <td>0.096614</td>\n",
       "      <td>737509.0</td>\n",
       "      <td>1</td>\n",
       "    </tr>\n",
       "    <tr>\n",
       "      <th>...</th>\n",
       "      <td>...</td>\n",
       "      <td>...</td>\n",
       "      <td>...</td>\n",
       "      <td>...</td>\n",
       "      <td>...</td>\n",
       "      <td>...</td>\n",
       "      <td>...</td>\n",
       "      <td>...</td>\n",
       "      <td>...</td>\n",
       "      <td>...</td>\n",
       "      <td>...</td>\n",
       "      <td>...</td>\n",
       "      <td>...</td>\n",
       "      <td>...</td>\n",
       "      <td>...</td>\n",
       "      <td>...</td>\n",
       "      <td>...</td>\n",
       "      <td>...</td>\n",
       "      <td>...</td>\n",
       "      <td>...</td>\n",
       "      <td>...</td>\n",
       "    </tr>\n",
       "    <tr>\n",
       "      <th>fd3dafe738fd</th>\n",
       "      <td>0.149555</td>\n",
       "      <td>3130.05946</td>\n",
       "      <td>123.763599</td>\n",
       "      <td>9.513984</td>\n",
       "      <td>13.020852</td>\n",
       "      <td>3.499305</td>\n",
       "      <td>0.077343</td>\n",
       "      <td>8.545512</td>\n",
       "      <td>2.804172</td>\n",
       "      <td>4157.68439</td>\n",
       "      <td>...</td>\n",
       "      <td>1.26092</td>\n",
       "      <td>0.067730</td>\n",
       "      <td>8.967128</td>\n",
       "      <td>217.148554</td>\n",
       "      <td>8095.932828</td>\n",
       "      <td>24.640462</td>\n",
       "      <td>69.191944</td>\n",
       "      <td>21.978000</td>\n",
       "      <td>737681.0</td>\n",
       "      <td>0</td>\n",
       "    </tr>\n",
       "    <tr>\n",
       "      <th>fd895603f071</th>\n",
       "      <td>0.435846</td>\n",
       "      <td>5462.03438</td>\n",
       "      <td>85.200147</td>\n",
       "      <td>46.551007</td>\n",
       "      <td>15.973224</td>\n",
       "      <td>5.979825</td>\n",
       "      <td>0.025882</td>\n",
       "      <td>12.622906</td>\n",
       "      <td>3.777550</td>\n",
       "      <td>5654.07556</td>\n",
       "      <td>...</td>\n",
       "      <td>1.24236</td>\n",
       "      <td>0.426699</td>\n",
       "      <td>35.896418</td>\n",
       "      <td>496.994214</td>\n",
       "      <td>3085.308063</td>\n",
       "      <td>29.648928</td>\n",
       "      <td>124.808872</td>\n",
       "      <td>0.145340</td>\n",
       "      <td>737676.0</td>\n",
       "      <td>0</td>\n",
       "    </tr>\n",
       "    <tr>\n",
       "      <th>fd8ef6377f76</th>\n",
       "      <td>0.427300</td>\n",
       "      <td>2459.10720</td>\n",
       "      <td>130.138587</td>\n",
       "      <td>55.355778</td>\n",
       "      <td>10.005552</td>\n",
       "      <td>8.070549</td>\n",
       "      <td>0.025578</td>\n",
       "      <td>15.408390</td>\n",
       "      <td>1.229900</td>\n",
       "      <td>5888.87769</td>\n",
       "      <td>...</td>\n",
       "      <td>0.49706</td>\n",
       "      <td>0.067730</td>\n",
       "      <td>19.962092</td>\n",
       "      <td>128.896894</td>\n",
       "      <td>6474.652866</td>\n",
       "      <td>26.166072</td>\n",
       "      <td>119.559420</td>\n",
       "      <td>21.978000</td>\n",
       "      <td>737264.0</td>\n",
       "      <td>0</td>\n",
       "    </tr>\n",
       "    <tr>\n",
       "      <th>fe1942975e40</th>\n",
       "      <td>0.363205</td>\n",
       "      <td>1263.53524</td>\n",
       "      <td>85.200147</td>\n",
       "      <td>23.685856</td>\n",
       "      <td>8.138688</td>\n",
       "      <td>7.981959</td>\n",
       "      <td>0.025578</td>\n",
       "      <td>7.524588</td>\n",
       "      <td>1.229900</td>\n",
       "      <td>4517.86560</td>\n",
       "      <td>...</td>\n",
       "      <td>0.78764</td>\n",
       "      <td>0.670527</td>\n",
       "      <td>24.594488</td>\n",
       "      <td>72.611063</td>\n",
       "      <td>1965.343176</td>\n",
       "      <td>25.116750</td>\n",
       "      <td>37.155112</td>\n",
       "      <td>0.184622</td>\n",
       "      <td>737090.0</td>\n",
       "      <td>0</td>\n",
       "    </tr>\n",
       "    <tr>\n",
       "      <th>ffcca4ded3bb</th>\n",
       "      <td>0.482849</td>\n",
       "      <td>2672.53426</td>\n",
       "      <td>546.663930</td>\n",
       "      <td>112.006102</td>\n",
       "      <td>8.138688</td>\n",
       "      <td>3.198099</td>\n",
       "      <td>0.116928</td>\n",
       "      <td>3.396778</td>\n",
       "      <td>7.948668</td>\n",
       "      <td>2818.01707</td>\n",
       "      <td>...</td>\n",
       "      <td>1.14492</td>\n",
       "      <td>0.149006</td>\n",
       "      <td>13.673940</td>\n",
       "      <td>72.611063</td>\n",
       "      <td>6850.484442</td>\n",
       "      <td>45.745974</td>\n",
       "      <td>114.842372</td>\n",
       "      <td>21.978000</td>\n",
       "      <td>737269.0</td>\n",
       "      <td>0</td>\n",
       "    </tr>\n",
       "  </tbody>\n",
       "</table>\n",
       "<p>617 rows × 58 columns</p>\n",
       "</div>"
      ],
      "text/plain": [
       "                    AB          AF          AH          AM         AR  \\\n",
       "Id                                                                      \n",
       "000ff2bfdfe9  0.209377  3109.03329   85.200147   22.394407   8.138688   \n",
       "007255e47698  0.145282   978.76416   85.200147   36.968889   8.138688   \n",
       "013f2bd269f5  0.470030  2635.10654   85.200147   32.360553   8.138688   \n",
       "043ac50845d5  0.252107  3819.65177  120.201618   77.112203   8.138688   \n",
       "044fb8a146ec  0.380297  3733.04844   85.200147   14.103738   8.138688   \n",
       "...                ...         ...         ...         ...        ...   \n",
       "fd3dafe738fd  0.149555  3130.05946  123.763599    9.513984  13.020852   \n",
       "fd895603f071  0.435846  5462.03438   85.200147   46.551007  15.973224   \n",
       "fd8ef6377f76  0.427300  2459.10720  130.138587   55.355778  10.005552   \n",
       "fe1942975e40  0.363205  1263.53524   85.200147   23.685856   8.138688   \n",
       "ffcca4ded3bb  0.482849  2672.53426  546.663930  112.006102   8.138688   \n",
       "\n",
       "                    AX        AY         AZ          BC         BD   ...  \\\n",
       "Id                                                                   ...   \n",
       "000ff2bfdfe9  0.699861  0.025578   9.812214    5.555634  4126.58731  ...   \n",
       "007255e47698  3.632190  0.025578  13.517790    1.229900  5496.92824  ...   \n",
       "013f2bd269f5  6.732840  0.025578  12.824570    1.229900  5135.78024  ...   \n",
       "043ac50845d5  3.685344  0.025578  11.053708    1.229900  4169.67738  ...   \n",
       "044fb8a146ec  3.942255  0.054810   3.396778  102.151980  5728.73412  ...   \n",
       "...                ...       ...        ...         ...         ...  ...   \n",
       "fd3dafe738fd  3.499305  0.077343   8.545512    2.804172  4157.68439  ...   \n",
       "fd895603f071  5.979825  0.025882  12.622906    3.777550  5654.07556  ...   \n",
       "fd8ef6377f76  8.070549  0.025578  15.408390    1.229900  5888.87769  ...   \n",
       "fe1942975e40  7.981959  0.025578   7.524588    1.229900  4517.86560  ...   \n",
       "ffcca4ded3bb  3.198099  0.116928   3.396778    7.948668  2818.01707  ...   \n",
       "\n",
       "                    FR        FS         GB          GE            GF  \\\n",
       "Id                                                                      \n",
       "000ff2bfdfe9   1.73855  0.094822  11.339138   72.611063   2003.810319   \n",
       "007255e47698   0.49706  0.568932   9.292698   72.611063  27981.562750   \n",
       "013f2bd269f5   0.97556  1.198821  37.077772   88.609437  13676.957810   \n",
       "043ac50845d5   0.49706  0.284466  18.529584   82.416803   2094.262452   \n",
       "044fb8a146ec  48.50134  0.121914  16.408728  146.109943   8524.370502   \n",
       "...                ...       ...        ...         ...           ...   \n",
       "fd3dafe738fd   1.26092  0.067730   8.967128  217.148554   8095.932828   \n",
       "fd895603f071   1.24236  0.426699  35.896418  496.994214   3085.308063   \n",
       "fd8ef6377f76   0.49706  0.067730  19.962092  128.896894   6474.652866   \n",
       "fe1942975e40   0.78764  0.670527  24.594488   72.611063   1965.343176   \n",
       "ffcca4ded3bb   1.14492  0.149006  13.673940   72.611063   6850.484442   \n",
       "\n",
       "                     GH          GI         GL     times  Class  \n",
       "Id                                                               \n",
       "000ff2bfdfe9  22.136229   69.834944   0.120343  737137.0      1  \n",
       "007255e47698  29.135430   32.131996  21.978000  737269.0      0  \n",
       "013f2bd269f5  28.022851   35.192676   0.196941  737269.0      0  \n",
       "043ac50845d5  39.948656   90.493248   0.155829  737269.0      0  \n",
       "044fb8a146ec  45.381316   36.262628   0.096614  737509.0      1  \n",
       "...                 ...         ...        ...       ...    ...  \n",
       "fd3dafe738fd  24.640462   69.191944  21.978000  737681.0      0  \n",
       "fd895603f071  29.648928  124.808872   0.145340  737676.0      0  \n",
       "fd8ef6377f76  26.166072  119.559420  21.978000  737264.0      0  \n",
       "fe1942975e40  25.116750   37.155112   0.184622  737090.0      0  \n",
       "ffcca4ded3bb  45.745974  114.842372  21.978000  737269.0      0  \n",
       "\n",
       "[617 rows x 58 columns]"
      ]
     },
     "execution_count": 17,
     "metadata": {},
     "output_type": "execute_result"
    }
   ],
   "source": [
    "df_train"
   ]
  },
  {
   "cell_type": "markdown",
   "id": "72f46cb6",
   "metadata": {
    "papermill": {
     "duration": 0.029826,
     "end_time": "2023-06-15T23:56:25.217227",
     "exception": false,
     "start_time": "2023-06-15T23:56:25.187401",
     "status": "completed"
    },
    "tags": []
   },
   "source": [
    "## スケールを変更"
   ]
  },
  {
   "cell_type": "code",
   "execution_count": 18,
   "id": "e9d5d223",
   "metadata": {
    "execution": {
     "iopub.execute_input": "2023-06-15T23:56:25.278513Z",
     "iopub.status.busy": "2023-06-15T23:56:25.278166Z",
     "iopub.status.idle": "2023-06-15T23:56:25.336315Z",
     "shell.execute_reply": "2023-06-15T23:56:25.335290Z"
    },
    "papermill": {
     "duration": 0.092056,
     "end_time": "2023-06-15T23:56:25.338904",
     "exception": false,
     "start_time": "2023-06-15T23:56:25.246848",
     "status": "completed"
    },
    "tags": []
   },
   "outputs": [
    {
     "data": {
      "text/html": [
       "<div>\n",
       "<style scoped>\n",
       "    .dataframe tbody tr th:only-of-type {\n",
       "        vertical-align: middle;\n",
       "    }\n",
       "\n",
       "    .dataframe tbody tr th {\n",
       "        vertical-align: top;\n",
       "    }\n",
       "\n",
       "    .dataframe thead th {\n",
       "        text-align: right;\n",
       "    }\n",
       "</style>\n",
       "<table border=\"1\" class=\"dataframe\">\n",
       "  <thead>\n",
       "    <tr style=\"text-align: right;\">\n",
       "      <th></th>\n",
       "      <th>AB</th>\n",
       "      <th>AF</th>\n",
       "      <th>AH</th>\n",
       "      <th>AM</th>\n",
       "      <th>AR</th>\n",
       "      <th>AX</th>\n",
       "      <th>AY</th>\n",
       "      <th>AZ</th>\n",
       "      <th>BC</th>\n",
       "      <th>BD</th>\n",
       "      <th>...</th>\n",
       "      <th>FR</th>\n",
       "      <th>FS</th>\n",
       "      <th>GB</th>\n",
       "      <th>GE</th>\n",
       "      <th>GF</th>\n",
       "      <th>GH</th>\n",
       "      <th>GI</th>\n",
       "      <th>GL</th>\n",
       "      <th>times</th>\n",
       "      <th>Class</th>\n",
       "    </tr>\n",
       "    <tr>\n",
       "      <th>Id</th>\n",
       "      <th></th>\n",
       "      <th></th>\n",
       "      <th></th>\n",
       "      <th></th>\n",
       "      <th></th>\n",
       "      <th></th>\n",
       "      <th></th>\n",
       "      <th></th>\n",
       "      <th></th>\n",
       "      <th></th>\n",
       "      <th></th>\n",
       "      <th></th>\n",
       "      <th></th>\n",
       "      <th></th>\n",
       "      <th></th>\n",
       "      <th></th>\n",
       "      <th></th>\n",
       "      <th></th>\n",
       "      <th></th>\n",
       "      <th></th>\n",
       "      <th></th>\n",
       "    </tr>\n",
       "  </thead>\n",
       "  <tbody>\n",
       "    <tr>\n",
       "      <th>000ff2bfdfe9</th>\n",
       "      <td>-0.472222</td>\n",
       "      <td>-0.005214</td>\n",
       "      <td>0.000000</td>\n",
       "      <td>0.069272</td>\n",
       "      <td>0.000000</td>\n",
       "      <td>-1.880769</td>\n",
       "      <td>0.000000</td>\n",
       "      <td>-0.134115</td>\n",
       "      <td>1.123175</td>\n",
       "      <td>-0.463451</td>\n",
       "      <td>...</td>\n",
       "      <td>0.598571</td>\n",
       "      <td>-0.333333</td>\n",
       "      <td>-0.642283</td>\n",
       "      <td>0.000000</td>\n",
       "      <td>-0.359338</td>\n",
       "      <td>-0.716263</td>\n",
       "      <td>0.641741</td>\n",
       "      <td>-0.009952</td>\n",
       "      <td>737137.0</td>\n",
       "      <td>1</td>\n",
       "    </tr>\n",
       "    <tr>\n",
       "      <th>007255e47698</th>\n",
       "      <td>-0.680556</td>\n",
       "      <td>-0.989494</td>\n",
       "      <td>0.000000</td>\n",
       "      <td>0.611687</td>\n",
       "      <td>0.000000</td>\n",
       "      <td>-0.607692</td>\n",
       "      <td>0.000000</td>\n",
       "      <td>0.631510</td>\n",
       "      <td>0.000000</td>\n",
       "      <td>0.265382</td>\n",
       "      <td>...</td>\n",
       "      <td>-0.624571</td>\n",
       "      <td>0.681159</td>\n",
       "      <td>-0.819132</td>\n",
       "      <td>0.000000</td>\n",
       "      <td>1.240601</td>\n",
       "      <td>-0.124567</td>\n",
       "      <td>-0.197595</td>\n",
       "      <td>0.990234</td>\n",
       "      <td>737269.0</td>\n",
       "      <td>0</td>\n",
       "    </tr>\n",
       "    <tr>\n",
       "      <th>013f2bd269f5</th>\n",
       "      <td>0.375000</td>\n",
       "      <td>-0.224190</td>\n",
       "      <td>0.000000</td>\n",
       "      <td>0.440180</td>\n",
       "      <td>0.000000</td>\n",
       "      <td>0.738462</td>\n",
       "      <td>0.000000</td>\n",
       "      <td>0.488281</td>\n",
       "      <td>0.000000</td>\n",
       "      <td>0.073301</td>\n",
       "      <td>...</td>\n",
       "      <td>-0.153143</td>\n",
       "      <td>2.028986</td>\n",
       "      <td>1.581994</td>\n",
       "      <td>0.290982</td>\n",
       "      <td>0.359598</td>\n",
       "      <td>-0.218622</td>\n",
       "      <td>-0.129459</td>\n",
       "      <td>-0.006447</td>\n",
       "      <td>737269.0</td>\n",
       "      <td>0</td>\n",
       "    </tr>\n",
       "    <tr>\n",
       "      <th>043ac50845d5</th>\n",
       "      <td>-0.333333</td>\n",
       "      <td>0.323123</td>\n",
       "      <td>1.226427</td>\n",
       "      <td>2.105694</td>\n",
       "      <td>0.000000</td>\n",
       "      <td>-0.584615</td>\n",
       "      <td>0.000000</td>\n",
       "      <td>0.122396</td>\n",
       "      <td>0.000000</td>\n",
       "      <td>-0.440533</td>\n",
       "      <td>...</td>\n",
       "      <td>-0.624571</td>\n",
       "      <td>0.072464</td>\n",
       "      <td>-0.020900</td>\n",
       "      <td>0.178349</td>\n",
       "      <td>-0.353767</td>\n",
       "      <td>0.789556</td>\n",
       "      <td>1.101632</td>\n",
       "      <td>-0.008328</td>\n",
       "      <td>737269.0</td>\n",
       "      <td>0</td>\n",
       "    </tr>\n",
       "    <tr>\n",
       "      <th>044fb8a146ec</th>\n",
       "      <td>0.083333</td>\n",
       "      <td>0.283109</td>\n",
       "      <td>0.000000</td>\n",
       "      <td>-0.239281</td>\n",
       "      <td>0.000000</td>\n",
       "      <td>-0.473077</td>\n",
       "      <td>2.594595</td>\n",
       "      <td>-1.459635</td>\n",
       "      <td>26.204380</td>\n",
       "      <td>0.388671</td>\n",
       "      <td>...</td>\n",
       "      <td>46.670286</td>\n",
       "      <td>-0.275362</td>\n",
       "      <td>-0.204180</td>\n",
       "      <td>1.336815</td>\n",
       "      <td>0.042256</td>\n",
       "      <td>1.248820</td>\n",
       "      <td>-0.105640</td>\n",
       "      <td>-0.011038</td>\n",
       "      <td>737509.0</td>\n",
       "      <td>1</td>\n",
       "    </tr>\n",
       "    <tr>\n",
       "      <th>...</th>\n",
       "      <td>...</td>\n",
       "      <td>...</td>\n",
       "      <td>...</td>\n",
       "      <td>...</td>\n",
       "      <td>...</td>\n",
       "      <td>...</td>\n",
       "      <td>...</td>\n",
       "      <td>...</td>\n",
       "      <td>...</td>\n",
       "      <td>...</td>\n",
       "      <td>...</td>\n",
       "      <td>...</td>\n",
       "      <td>...</td>\n",
       "      <td>...</td>\n",
       "      <td>...</td>\n",
       "      <td>...</td>\n",
       "      <td>...</td>\n",
       "      <td>...</td>\n",
       "      <td>...</td>\n",
       "      <td>...</td>\n",
       "      <td>...</td>\n",
       "    </tr>\n",
       "    <tr>\n",
       "      <th>fd3dafe738fd</th>\n",
       "      <td>-0.666667</td>\n",
       "      <td>0.004501</td>\n",
       "      <td>1.351236</td>\n",
       "      <td>-0.410097</td>\n",
       "      <td>4.882164</td>\n",
       "      <td>-0.665385</td>\n",
       "      <td>4.594595</td>\n",
       "      <td>-0.395833</td>\n",
       "      <td>0.408759</td>\n",
       "      <td>-0.446912</td>\n",
       "      <td>...</td>\n",
       "      <td>0.128000</td>\n",
       "      <td>-0.391304</td>\n",
       "      <td>-0.847267</td>\n",
       "      <td>2.628881</td>\n",
       "      <td>0.015869</td>\n",
       "      <td>-0.504561</td>\n",
       "      <td>0.627426</td>\n",
       "      <td>0.990234</td>\n",
       "      <td>737681.0</td>\n",
       "      <td>0</td>\n",
       "    </tr>\n",
       "    <tr>\n",
       "      <th>fd895603f071</th>\n",
       "      <td>0.263889</td>\n",
       "      <td>1.081978</td>\n",
       "      <td>0.000000</td>\n",
       "      <td>0.968303</td>\n",
       "      <td>7.834536</td>\n",
       "      <td>0.411538</td>\n",
       "      <td>0.027027</td>\n",
       "      <td>0.446615</td>\n",
       "      <td>0.661496</td>\n",
       "      <td>0.348963</td>\n",
       "      <td>...</td>\n",
       "      <td>0.109714</td>\n",
       "      <td>0.376812</td>\n",
       "      <td>1.479904</td>\n",
       "      <td>7.718779</td>\n",
       "      <td>-0.292729</td>\n",
       "      <td>-0.081158</td>\n",
       "      <td>1.865560</td>\n",
       "      <td>-0.008808</td>\n",
       "      <td>737676.0</td>\n",
       "      <td>0</td>\n",
       "    </tr>\n",
       "    <tr>\n",
       "      <th>fd8ef6377f76</th>\n",
       "      <td>0.236111</td>\n",
       "      <td>-0.305510</td>\n",
       "      <td>1.574611</td>\n",
       "      <td>1.295989</td>\n",
       "      <td>1.866864</td>\n",
       "      <td>1.319231</td>\n",
       "      <td>0.000000</td>\n",
       "      <td>1.022135</td>\n",
       "      <td>0.000000</td>\n",
       "      <td>0.473846</td>\n",
       "      <td>...</td>\n",
       "      <td>-0.624571</td>\n",
       "      <td>-0.391304</td>\n",
       "      <td>0.102894</td>\n",
       "      <td>1.023740</td>\n",
       "      <td>-0.083984</td>\n",
       "      <td>-0.375590</td>\n",
       "      <td>1.748697</td>\n",
       "      <td>0.990234</td>\n",
       "      <td>737264.0</td>\n",
       "      <td>0</td>\n",
       "    </tr>\n",
       "    <tr>\n",
       "      <th>fe1942975e40</th>\n",
       "      <td>0.027778</td>\n",
       "      <td>-0.857917</td>\n",
       "      <td>0.000000</td>\n",
       "      <td>0.117335</td>\n",
       "      <td>0.000000</td>\n",
       "      <td>1.280769</td>\n",
       "      <td>0.000000</td>\n",
       "      <td>-0.606771</td>\n",
       "      <td>0.000000</td>\n",
       "      <td>-0.255345</td>\n",
       "      <td>...</td>\n",
       "      <td>-0.338286</td>\n",
       "      <td>0.898551</td>\n",
       "      <td>0.503215</td>\n",
       "      <td>0.000000</td>\n",
       "      <td>-0.361707</td>\n",
       "      <td>-0.464297</td>\n",
       "      <td>-0.085772</td>\n",
       "      <td>-0.007011</td>\n",
       "      <td>737090.0</td>\n",
       "      <td>0</td>\n",
       "    </tr>\n",
       "    <tr>\n",
       "      <th>ffcca4ded3bb</th>\n",
       "      <td>0.416667</td>\n",
       "      <td>-0.206897</td>\n",
       "      <td>16.169362</td>\n",
       "      <td>3.404334</td>\n",
       "      <td>0.000000</td>\n",
       "      <td>-0.796154</td>\n",
       "      <td>8.108108</td>\n",
       "      <td>-1.459635</td>\n",
       "      <td>1.744526</td>\n",
       "      <td>-1.159432</td>\n",
       "      <td>...</td>\n",
       "      <td>0.013714</td>\n",
       "      <td>-0.217391</td>\n",
       "      <td>-0.440514</td>\n",
       "      <td>0.000000</td>\n",
       "      <td>-0.060837</td>\n",
       "      <td>1.279648</td>\n",
       "      <td>1.643687</td>\n",
       "      <td>0.990234</td>\n",
       "      <td>737269.0</td>\n",
       "      <td>0</td>\n",
       "    </tr>\n",
       "  </tbody>\n",
       "</table>\n",
       "<p>617 rows × 58 columns</p>\n",
       "</div>"
      ],
      "text/plain": [
       "                    AB        AF         AH        AM        AR        AX  \\\n",
       "Id                                                                          \n",
       "000ff2bfdfe9 -0.472222 -0.005214   0.000000  0.069272  0.000000 -1.880769   \n",
       "007255e47698 -0.680556 -0.989494   0.000000  0.611687  0.000000 -0.607692   \n",
       "013f2bd269f5  0.375000 -0.224190   0.000000  0.440180  0.000000  0.738462   \n",
       "043ac50845d5 -0.333333  0.323123   1.226427  2.105694  0.000000 -0.584615   \n",
       "044fb8a146ec  0.083333  0.283109   0.000000 -0.239281  0.000000 -0.473077   \n",
       "...                ...       ...        ...       ...       ...       ...   \n",
       "fd3dafe738fd -0.666667  0.004501   1.351236 -0.410097  4.882164 -0.665385   \n",
       "fd895603f071  0.263889  1.081978   0.000000  0.968303  7.834536  0.411538   \n",
       "fd8ef6377f76  0.236111 -0.305510   1.574611  1.295989  1.866864  1.319231   \n",
       "fe1942975e40  0.027778 -0.857917   0.000000  0.117335  0.000000  1.280769   \n",
       "ffcca4ded3bb  0.416667 -0.206897  16.169362  3.404334  0.000000 -0.796154   \n",
       "\n",
       "                    AY        AZ         BC       BD   ...         FR  \\\n",
       "Id                                                     ...              \n",
       "000ff2bfdfe9  0.000000 -0.134115   1.123175 -0.463451  ...   0.598571   \n",
       "007255e47698  0.000000  0.631510   0.000000  0.265382  ...  -0.624571   \n",
       "013f2bd269f5  0.000000  0.488281   0.000000  0.073301  ...  -0.153143   \n",
       "043ac50845d5  0.000000  0.122396   0.000000 -0.440533  ...  -0.624571   \n",
       "044fb8a146ec  2.594595 -1.459635  26.204380  0.388671  ...  46.670286   \n",
       "...                ...       ...        ...       ...  ...        ...   \n",
       "fd3dafe738fd  4.594595 -0.395833   0.408759 -0.446912  ...   0.128000   \n",
       "fd895603f071  0.027027  0.446615   0.661496  0.348963  ...   0.109714   \n",
       "fd8ef6377f76  0.000000  1.022135   0.000000  0.473846  ...  -0.624571   \n",
       "fe1942975e40  0.000000 -0.606771   0.000000 -0.255345  ...  -0.338286   \n",
       "ffcca4ded3bb  8.108108 -1.459635   1.744526 -1.159432  ...   0.013714   \n",
       "\n",
       "                    FS        GB        GE        GF        GH        GI  \\\n",
       "Id                                                                         \n",
       "000ff2bfdfe9 -0.333333 -0.642283  0.000000 -0.359338 -0.716263  0.641741   \n",
       "007255e47698  0.681159 -0.819132  0.000000  1.240601 -0.124567 -0.197595   \n",
       "013f2bd269f5  2.028986  1.581994  0.290982  0.359598 -0.218622 -0.129459   \n",
       "043ac50845d5  0.072464 -0.020900  0.178349 -0.353767  0.789556  1.101632   \n",
       "044fb8a146ec -0.275362 -0.204180  1.336815  0.042256  1.248820 -0.105640   \n",
       "...                ...       ...       ...       ...       ...       ...   \n",
       "fd3dafe738fd -0.391304 -0.847267  2.628881  0.015869 -0.504561  0.627426   \n",
       "fd895603f071  0.376812  1.479904  7.718779 -0.292729 -0.081158  1.865560   \n",
       "fd8ef6377f76 -0.391304  0.102894  1.023740 -0.083984 -0.375590  1.748697   \n",
       "fe1942975e40  0.898551  0.503215  0.000000 -0.361707 -0.464297 -0.085772   \n",
       "ffcca4ded3bb -0.217391 -0.440514  0.000000 -0.060837  1.279648  1.643687   \n",
       "\n",
       "                    GL     times  Class  \n",
       "Id                                       \n",
       "000ff2bfdfe9 -0.009952  737137.0      1  \n",
       "007255e47698  0.990234  737269.0      0  \n",
       "013f2bd269f5 -0.006447  737269.0      0  \n",
       "043ac50845d5 -0.008328  737269.0      0  \n",
       "044fb8a146ec -0.011038  737509.0      1  \n",
       "...                ...       ...    ...  \n",
       "fd3dafe738fd  0.990234  737681.0      0  \n",
       "fd895603f071 -0.008808  737676.0      0  \n",
       "fd8ef6377f76  0.990234  737264.0      0  \n",
       "fe1942975e40 -0.007011  737090.0      0  \n",
       "ffcca4ded3bb  0.990234  737269.0      0  \n",
       "\n",
       "[617 rows x 58 columns]"
      ]
     },
     "execution_count": 18,
     "metadata": {},
     "output_type": "execute_result"
    }
   ],
   "source": [
    "df_train_noscale = df_train.copy()\n",
    "\n",
    "scaler = RobustScaler().set_output(transform=\"pandas\")\n",
    "df_train.loc[:, df_train.columns[:-2]] = scaler.fit_transform(df_train[df_train.columns[:-2]])\n",
    "df_train"
   ]
  },
  {
   "cell_type": "code",
   "execution_count": 19,
   "id": "43dc27c2",
   "metadata": {
    "execution": {
     "iopub.execute_input": "2023-06-15T23:56:25.402078Z",
     "iopub.status.busy": "2023-06-15T23:56:25.401752Z",
     "iopub.status.idle": "2023-06-15T23:56:25.429101Z",
     "shell.execute_reply": "2023-06-15T23:56:25.428108Z"
    },
    "papermill": {
     "duration": 0.062224,
     "end_time": "2023-06-15T23:56:25.431431",
     "exception": false,
     "start_time": "2023-06-15T23:56:25.369207",
     "status": "completed"
    },
    "tags": []
   },
   "outputs": [
    {
     "data": {
      "text/html": [
       "<div>\n",
       "<style scoped>\n",
       "    .dataframe tbody tr th:only-of-type {\n",
       "        vertical-align: middle;\n",
       "    }\n",
       "\n",
       "    .dataframe tbody tr th {\n",
       "        vertical-align: top;\n",
       "    }\n",
       "\n",
       "    .dataframe thead th {\n",
       "        text-align: right;\n",
       "    }\n",
       "</style>\n",
       "<table border=\"1\" class=\"dataframe\">\n",
       "  <thead>\n",
       "    <tr style=\"text-align: right;\">\n",
       "      <th></th>\n",
       "      <th>AB</th>\n",
       "      <th>AF</th>\n",
       "      <th>AH</th>\n",
       "      <th>AM</th>\n",
       "      <th>AR</th>\n",
       "      <th>AX</th>\n",
       "      <th>AY</th>\n",
       "      <th>AZ</th>\n",
       "      <th>BC</th>\n",
       "      <th>BD</th>\n",
       "      <th>...</th>\n",
       "      <th>FL</th>\n",
       "      <th>FR</th>\n",
       "      <th>FS</th>\n",
       "      <th>GB</th>\n",
       "      <th>GE</th>\n",
       "      <th>GF</th>\n",
       "      <th>GH</th>\n",
       "      <th>GI</th>\n",
       "      <th>GL</th>\n",
       "      <th>times</th>\n",
       "    </tr>\n",
       "    <tr>\n",
       "      <th>Id</th>\n",
       "      <th></th>\n",
       "      <th></th>\n",
       "      <th></th>\n",
       "      <th></th>\n",
       "      <th></th>\n",
       "      <th></th>\n",
       "      <th></th>\n",
       "      <th></th>\n",
       "      <th></th>\n",
       "      <th></th>\n",
       "      <th></th>\n",
       "      <th></th>\n",
       "      <th></th>\n",
       "      <th></th>\n",
       "      <th></th>\n",
       "      <th></th>\n",
       "      <th></th>\n",
       "      <th></th>\n",
       "      <th></th>\n",
       "      <th></th>\n",
       "      <th></th>\n",
       "    </tr>\n",
       "  </thead>\n",
       "  <tbody>\n",
       "    <tr>\n",
       "      <th>00eed32682bb</th>\n",
       "      <td>-1.152778</td>\n",
       "      <td>-1.441727</td>\n",
       "      <td>-2.985352</td>\n",
       "      <td>-0.764177</td>\n",
       "      <td>-8.138688</td>\n",
       "      <td>-2.184615</td>\n",
       "      <td>-2.27027</td>\n",
       "      <td>-2.161458</td>\n",
       "      <td>-0.319343</td>\n",
       "      <td>-2.658231</td>\n",
       "      <td>...</td>\n",
       "      <td>-0.499355</td>\n",
       "      <td>-1.114286</td>\n",
       "      <td>-0.536232</td>\n",
       "      <td>-1.622186</td>\n",
       "      <td>-1.320667</td>\n",
       "      <td>-0.48275</td>\n",
       "      <td>-2.587606</td>\n",
       "      <td>-0.912912</td>\n",
       "      <td>-0.015459</td>\n",
       "      <td>737698.0</td>\n",
       "    </tr>\n",
       "    <tr>\n",
       "      <th>010ebe33f668</th>\n",
       "      <td>-1.152778</td>\n",
       "      <td>-1.441727</td>\n",
       "      <td>-2.985352</td>\n",
       "      <td>-0.764177</td>\n",
       "      <td>-8.138688</td>\n",
       "      <td>-2.184615</td>\n",
       "      <td>-2.27027</td>\n",
       "      <td>-2.161458</td>\n",
       "      <td>-0.319343</td>\n",
       "      <td>-2.658231</td>\n",
       "      <td>...</td>\n",
       "      <td>-0.499355</td>\n",
       "      <td>-1.114286</td>\n",
       "      <td>-0.536232</td>\n",
       "      <td>-1.622186</td>\n",
       "      <td>-1.320667</td>\n",
       "      <td>-0.48275</td>\n",
       "      <td>-2.587606</td>\n",
       "      <td>-0.912912</td>\n",
       "      <td>-0.015459</td>\n",
       "      <td>737698.0</td>\n",
       "    </tr>\n",
       "    <tr>\n",
       "      <th>02fa521e1838</th>\n",
       "      <td>-1.152778</td>\n",
       "      <td>-1.441727</td>\n",
       "      <td>-2.985352</td>\n",
       "      <td>-0.764177</td>\n",
       "      <td>-8.138688</td>\n",
       "      <td>-2.184615</td>\n",
       "      <td>-2.27027</td>\n",
       "      <td>-2.161458</td>\n",
       "      <td>-0.319343</td>\n",
       "      <td>-2.658231</td>\n",
       "      <td>...</td>\n",
       "      <td>-0.499355</td>\n",
       "      <td>-1.114286</td>\n",
       "      <td>-0.536232</td>\n",
       "      <td>-1.622186</td>\n",
       "      <td>-1.320667</td>\n",
       "      <td>-0.48275</td>\n",
       "      <td>-2.587606</td>\n",
       "      <td>-0.912912</td>\n",
       "      <td>-0.015459</td>\n",
       "      <td>737698.0</td>\n",
       "    </tr>\n",
       "    <tr>\n",
       "      <th>040e15f562a2</th>\n",
       "      <td>-1.152778</td>\n",
       "      <td>-1.441727</td>\n",
       "      <td>-2.985352</td>\n",
       "      <td>-0.764177</td>\n",
       "      <td>-8.138688</td>\n",
       "      <td>-2.184615</td>\n",
       "      <td>-2.27027</td>\n",
       "      <td>-2.161458</td>\n",
       "      <td>-0.319343</td>\n",
       "      <td>-2.658231</td>\n",
       "      <td>...</td>\n",
       "      <td>-0.499355</td>\n",
       "      <td>-1.114286</td>\n",
       "      <td>-0.536232</td>\n",
       "      <td>-1.622186</td>\n",
       "      <td>-1.320667</td>\n",
       "      <td>-0.48275</td>\n",
       "      <td>-2.587606</td>\n",
       "      <td>-0.912912</td>\n",
       "      <td>-0.015459</td>\n",
       "      <td>737698.0</td>\n",
       "    </tr>\n",
       "    <tr>\n",
       "      <th>046e85c7cc7f</th>\n",
       "      <td>-1.152778</td>\n",
       "      <td>-1.441727</td>\n",
       "      <td>-2.985352</td>\n",
       "      <td>-0.764177</td>\n",
       "      <td>-8.138688</td>\n",
       "      <td>-2.184615</td>\n",
       "      <td>-2.27027</td>\n",
       "      <td>-2.161458</td>\n",
       "      <td>-0.319343</td>\n",
       "      <td>-2.658231</td>\n",
       "      <td>...</td>\n",
       "      <td>-0.499355</td>\n",
       "      <td>-1.114286</td>\n",
       "      <td>-0.536232</td>\n",
       "      <td>-1.622186</td>\n",
       "      <td>-1.320667</td>\n",
       "      <td>-0.48275</td>\n",
       "      <td>-2.587606</td>\n",
       "      <td>-0.912912</td>\n",
       "      <td>-0.015459</td>\n",
       "      <td>737698.0</td>\n",
       "    </tr>\n",
       "  </tbody>\n",
       "</table>\n",
       "<p>5 rows × 57 columns</p>\n",
       "</div>"
      ],
      "text/plain": [
       "                    AB        AF        AH        AM        AR        AX  \\\n",
       "Id                                                                         \n",
       "00eed32682bb -1.152778 -1.441727 -2.985352 -0.764177 -8.138688 -2.184615   \n",
       "010ebe33f668 -1.152778 -1.441727 -2.985352 -0.764177 -8.138688 -2.184615   \n",
       "02fa521e1838 -1.152778 -1.441727 -2.985352 -0.764177 -8.138688 -2.184615   \n",
       "040e15f562a2 -1.152778 -1.441727 -2.985352 -0.764177 -8.138688 -2.184615   \n",
       "046e85c7cc7f -1.152778 -1.441727 -2.985352 -0.764177 -8.138688 -2.184615   \n",
       "\n",
       "                   AY        AZ        BC       BD   ...        FL        FR  \\\n",
       "Id                                                   ...                       \n",
       "00eed32682bb -2.27027 -2.161458 -0.319343 -2.658231  ... -0.499355 -1.114286   \n",
       "010ebe33f668 -2.27027 -2.161458 -0.319343 -2.658231  ... -0.499355 -1.114286   \n",
       "02fa521e1838 -2.27027 -2.161458 -0.319343 -2.658231  ... -0.499355 -1.114286   \n",
       "040e15f562a2 -2.27027 -2.161458 -0.319343 -2.658231  ... -0.499355 -1.114286   \n",
       "046e85c7cc7f -2.27027 -2.161458 -0.319343 -2.658231  ... -0.499355 -1.114286   \n",
       "\n",
       "                    FS        GB        GE       GF        GH        GI  \\\n",
       "Id                                                                        \n",
       "00eed32682bb -0.536232 -1.622186 -1.320667 -0.48275 -2.587606 -0.912912   \n",
       "010ebe33f668 -0.536232 -1.622186 -1.320667 -0.48275 -2.587606 -0.912912   \n",
       "02fa521e1838 -0.536232 -1.622186 -1.320667 -0.48275 -2.587606 -0.912912   \n",
       "040e15f562a2 -0.536232 -1.622186 -1.320667 -0.48275 -2.587606 -0.912912   \n",
       "046e85c7cc7f -0.536232 -1.622186 -1.320667 -0.48275 -2.587606 -0.912912   \n",
       "\n",
       "                    GL     times  \n",
       "Id                                \n",
       "00eed32682bb -0.015459  737698.0  \n",
       "010ebe33f668 -0.015459  737698.0  \n",
       "02fa521e1838 -0.015459  737698.0  \n",
       "040e15f562a2 -0.015459  737698.0  \n",
       "046e85c7cc7f -0.015459  737698.0  \n",
       "\n",
       "[5 rows x 57 columns]"
      ]
     },
     "execution_count": 19,
     "metadata": {},
     "output_type": "execute_result"
    }
   ],
   "source": [
    "df_test_noscale = df_test.copy()\n",
    "\n",
    "df_test.loc[:,df_test.columns[:-1]] = scaler.transform(df_test[df_test.columns[:-1]])\n",
    "df_test"
   ]
  },
  {
   "cell_type": "code",
   "execution_count": 20,
   "id": "33785e90",
   "metadata": {
    "execution": {
     "iopub.execute_input": "2023-06-15T23:56:25.494023Z",
     "iopub.status.busy": "2023-06-15T23:56:25.493739Z",
     "iopub.status.idle": "2023-06-15T23:56:25.499582Z",
     "shell.execute_reply": "2023-06-15T23:56:25.498599Z"
    },
    "papermill": {
     "duration": 0.039777,
     "end_time": "2023-06-15T23:56:25.501661",
     "exception": false,
     "start_time": "2023-06-15T23:56:25.461884",
     "status": "completed"
    },
    "tags": []
   },
   "outputs": [],
   "source": [
    "df_train['times'] = df_train.times.astype(int)\n",
    "df_test['times'] = df_test.times.astype(int)"
   ]
  },
  {
   "cell_type": "markdown",
   "id": "84813227",
   "metadata": {
    "papermill": {
     "duration": 0.030293,
     "end_time": "2023-06-15T23:56:25.562457",
     "exception": false,
     "start_time": "2023-06-15T23:56:25.532164",
     "status": "completed"
    },
    "tags": []
   },
   "source": []
  },
  {
   "cell_type": "markdown",
   "id": "33068e31",
   "metadata": {
    "papermill": {
     "duration": 0.030235,
     "end_time": "2023-06-15T23:56:25.623001",
     "exception": false,
     "start_time": "2023-06-15T23:56:25.592766",
     "status": "completed"
    },
    "tags": []
   },
   "source": [
    "# PyTorch"
   ]
  },
  {
   "cell_type": "code",
   "execution_count": 21,
   "id": "989986c9",
   "metadata": {
    "execution": {
     "iopub.execute_input": "2023-06-15T23:56:25.685758Z",
     "iopub.status.busy": "2023-06-15T23:56:25.685414Z",
     "iopub.status.idle": "2023-06-15T23:56:25.691943Z",
     "shell.execute_reply": "2023-06-15T23:56:25.691129Z"
    },
    "papermill": {
     "duration": 0.040007,
     "end_time": "2023-06-15T23:56:25.693852",
     "exception": false,
     "start_time": "2023-06-15T23:56:25.653845",
     "status": "completed"
    },
    "tags": []
   },
   "outputs": [
    {
     "data": {
      "text/plain": [
       "dict_items([('__module__', '__main__'), ('TRAIN_BATCHSIZE', 32), ('VALID_BATCHSIZE', 200), ('learning_rate', 0.001), ('num_epochs', 1000), ('seed', 57), ('__dict__', <attribute '__dict__' of 'cfg' objects>), ('__weakref__', <attribute '__weakref__' of 'cfg' objects>), ('__doc__', None)])"
      ]
     },
     "execution_count": 21,
     "metadata": {},
     "output_type": "execute_result"
    }
   ],
   "source": [
    "class cfg :\n",
    "    TRAIN_BATCHSIZE = 32\n",
    "    VALID_BATCHSIZE = 200\n",
    "    learning_rate = 0.001\n",
    "    num_epochs = 1000\n",
    "    seed = seed\n",
    "    \n",
    "cfg.__dict__.items()"
   ]
  },
  {
   "cell_type": "markdown",
   "id": "68b8bff5",
   "metadata": {
    "papermill": {
     "duration": 0.030194,
     "end_time": "2023-06-15T23:56:25.754601",
     "exception": false,
     "start_time": "2023-06-15T23:56:25.724407",
     "status": "completed"
    },
    "tags": []
   },
   "source": [
    "### dataset/dataloader"
   ]
  },
  {
   "cell_type": "code",
   "execution_count": 22,
   "id": "d074327a",
   "metadata": {
    "execution": {
     "iopub.execute_input": "2023-06-15T23:56:25.820821Z",
     "iopub.status.busy": "2023-06-15T23:56:25.820481Z",
     "iopub.status.idle": "2023-06-15T23:56:25.826836Z",
     "shell.execute_reply": "2023-06-15T23:56:25.825896Z"
    },
    "papermill": {
     "duration": 0.043579,
     "end_time": "2023-06-15T23:56:25.828786",
     "exception": false,
     "start_time": "2023-06-15T23:56:25.785207",
     "status": "completed"
    },
    "tags": []
   },
   "outputs": [],
   "source": [
    "class MyDataset(Dataset):\n",
    "    def __init__(self, df):\n",
    "        super().__init__()\n",
    "        self.df = df\n",
    "\n",
    "    # ここで取り出すデータを指定している\n",
    "    def __getitem__(\n",
    "        self,\n",
    "        index\n",
    "    ) :\n",
    "#         print(index, self.df.iloc[index])\n",
    "        data = torch.Tensor(self.df.iloc[index, :-2].to_numpy())\n",
    "        label = self.df.Class[index]\n",
    "        \n",
    "        return data, label\n",
    "\n",
    "    # この method がないと DataLoader を呼び出す際にエラーを吐かれる\n",
    "    def __len__(self) -> int:\n",
    "        return len(self.df)"
   ]
  },
  {
   "cell_type": "markdown",
   "id": "40395997",
   "metadata": {
    "papermill": {
     "duration": 0.030745,
     "end_time": "2023-06-15T23:56:25.890048",
     "exception": false,
     "start_time": "2023-06-15T23:56:25.859303",
     "status": "completed"
    },
    "tags": []
   },
   "source": [
    "### model"
   ]
  },
  {
   "cell_type": "code",
   "execution_count": 23,
   "id": "b2c05c94",
   "metadata": {
    "execution": {
     "iopub.execute_input": "2023-06-15T23:56:25.953481Z",
     "iopub.status.busy": "2023-06-15T23:56:25.953152Z",
     "iopub.status.idle": "2023-06-15T23:56:25.965327Z",
     "shell.execute_reply": "2023-06-15T23:56:25.964458Z"
    },
    "papermill": {
     "duration": 0.046438,
     "end_time": "2023-06-15T23:56:25.967324",
     "exception": false,
     "start_time": "2023-06-15T23:56:25.920886",
     "status": "completed"
    },
    "tags": []
   },
   "outputs": [],
   "source": [
    "\"\"\"\n",
    "margin: 通常、2クラス分類ではmarginの値は0.2から0.5の範囲で設定されます。\n",
    "    この範囲内での値の選択は、同じクラスの特徴ベクトルを近くに、異なるクラスの\n",
    "    特徴ベクトルを遠くに分離する効果を持ちます。具体的な値は実験によって調整する\n",
    "    必要がありますが、一般的には0.3や0.4が試されることが多いです。\n",
    "scale: 2クラス分類の場合、scaleの値は一般的に10から30程度が使用されます。\n",
    "    値が大きいほど、クラス分類の確信度が高まりますが、適切な値はデータセットやタスクに\n",
    "    依存します。一般的な出発点としては、10や20を試してみることができます。\n",
    "\"\"\"\n",
    "class ArcMarginProduct(nn.Module):\n",
    "    def __init__(self, in_features, out_features, s=30.0, m=0.50, easy_margin=False):\n",
    "        super(ArcMarginProduct, self).__init__()\n",
    "        self.in_features = in_features\n",
    "        self.out_features = out_features\n",
    "        self.s = s\n",
    "        self.m = m\n",
    "        self.weight = nn.Parameter(torch.FloatTensor(out_features, in_features))\n",
    "        nn.init.xavier_uniform_(self.weight)\n",
    "\n",
    "        self.easy_margin = easy_margin\n",
    "        self.cos_m = math.cos(m)\n",
    "        self.sin_m = math.sin(m)\n",
    "        self.th = math.cos(math.pi - m)\n",
    "        self.mm = math.sin(math.pi - m) * m\n",
    "\n",
    "    def forward(self, input, train, label=False):\n",
    "        # --------------------------- cos(theta) & phi(theta) ---------------------------\n",
    "        cosine = F.linear(F.normalize(input), F.normalize(self.weight))\n",
    "        sine = torch.sqrt((1.0 - torch.pow(cosine, 2)).clamp(0, 1))\n",
    "        phi = cosine * self.cos_m - sine * self.sin_m\n",
    "        if self.easy_margin:\n",
    "            phi = torch.where(cosine > 0, phi, cosine)\n",
    "        else:\n",
    "            phi = torch.where(cosine > self.th, phi, cosine - self.mm)\n",
    "        if train:\n",
    "            one_hot = torch.zeros(cosine.size())\n",
    "            if device == \"cpu\":\n",
    "                one_hot.scatter_(1, label.view(-1, 1).long(), 1)\n",
    "            else:\n",
    "                one_hot = torch.zeros(cosine.size(), device='cuda')\n",
    "                one_hot.scatter_(1, label.cuda().view(-1, 1).long(), 1)\n",
    "            output = (one_hot * phi) + ((1.0 - one_hot) * cosine)  # you can use torch.where if your torch.__version__ is 0.4\n",
    "        else:\n",
    "            output = cosine\n",
    "        output *= self.s\n",
    "\n",
    "        return output"
   ]
  },
  {
   "cell_type": "code",
   "execution_count": 24,
   "id": "aabd3caa",
   "metadata": {
    "execution": {
     "iopub.execute_input": "2023-06-15T23:56:26.030496Z",
     "iopub.status.busy": "2023-06-15T23:56:26.029661Z",
     "iopub.status.idle": "2023-06-15T23:56:26.037784Z",
     "shell.execute_reply": "2023-06-15T23:56:26.036959Z"
    },
    "papermill": {
     "duration": 0.041813,
     "end_time": "2023-06-15T23:56:26.039742",
     "exception": false,
     "start_time": "2023-06-15T23:56:25.997929",
     "status": "completed"
    },
    "tags": []
   },
   "outputs": [],
   "source": [
    "class MyModel(nn.Module):\n",
    "    def __init__(self, input_dim, output_dim, hidden_dim=64, last_hidden_dim=64):\n",
    "        super(MyModel, self).__init__()\n",
    "\n",
    "#         self.bn1 = nn.BatchNorm1d(input_dim)\n",
    "        self.bn2 = nn.BatchNorm1d(hidden_dim)\n",
    "#         self.bn3 = nn.BatchNorm1d(last_hidden_dim)\n",
    "        self.fc1 = nn.Linear(input_dim, hidden_dim)\n",
    "#         self.fc2 = nn.Linear(hidden_dim, last_hidden_dim)\n",
    "        self.arcface = ArcMarginProduct(last_hidden_dim, output_dim, s = 10, m = 0.1)\n",
    "        \n",
    "        self.dropout = nn.Dropout(0.25)\n",
    "\n",
    "    def forward(self, x, labels):\n",
    "#         x = self.bn1(x)\n",
    "        x = F.mish(self.bn2(self.fc1(x)))\n",
    "        x = self.dropout(x)\n",
    "#         x = F.mish(self.bn3(self.fc2(x)))\n",
    "        x = self.dropout(x)\n",
    "        if self.training:\n",
    "            logits = self.arcface(x, self.training, labels)\n",
    "        else:\n",
    "            logits = self.arcface(x, self.training)\n",
    "        return logits, x\n"
   ]
  },
  {
   "cell_type": "code",
   "execution_count": 25,
   "id": "2a3ceb31",
   "metadata": {
    "execution": {
     "iopub.execute_input": "2023-06-15T23:56:26.103026Z",
     "iopub.status.busy": "2023-06-15T23:56:26.102212Z",
     "iopub.status.idle": "2023-06-15T23:56:26.109299Z",
     "shell.execute_reply": "2023-06-15T23:56:26.108458Z"
    },
    "papermill": {
     "duration": 0.040912,
     "end_time": "2023-06-15T23:56:26.111268",
     "exception": false,
     "start_time": "2023-06-15T23:56:26.070356",
     "status": "completed"
    },
    "tags": []
   },
   "outputs": [],
   "source": [
    "def balanced_log_loss(y_true, y_pred):\n",
    "    y_pred = y_pred.astype('float64')\n",
    "    y_pred = np.clip(y_pred, 1e-15, 1-1e-15)\n",
    "    nc = np.bincount(y_true)\n",
    "    w0, w1 = 1/(nc[0]/y_true.shape[0]), 1/(nc[1]/y_true.shape[0])\n",
    "    balanced_log_loss_score = (-w0/nc[0]*(np.sum(np.where(y_true==0,1,0) * np.log(1-y_pred))) - w1/nc[1]*(np.sum(np.where(y_true!=0,1,0) * np.log(y_pred)))) / (w0+w1)\n",
    "    return balanced_log_loss_score"
   ]
  },
  {
   "cell_type": "code",
   "execution_count": 26,
   "id": "729701fd",
   "metadata": {
    "execution": {
     "iopub.execute_input": "2023-06-15T23:56:26.179117Z",
     "iopub.status.busy": "2023-06-15T23:56:26.178756Z",
     "iopub.status.idle": "2023-06-15T23:56:26.184552Z",
     "shell.execute_reply": "2023-06-15T23:56:26.183601Z"
    },
    "papermill": {
     "duration": 0.044493,
     "end_time": "2023-06-15T23:56:26.186573",
     "exception": false,
     "start_time": "2023-06-15T23:56:26.142080",
     "status": "completed"
    },
    "tags": []
   },
   "outputs": [],
   "source": [
    "def seed_everything(seed: int):\n",
    "    random.seed(seed)\n",
    "    os.environ['PYTHONHASHSEED'] = str(seed)\n",
    "    np.random.seed(seed)\n",
    "    torch.manual_seed(seed)\n",
    "    torch.cuda.manual_seed(seed)\n",
    "    torch.backends.cudnn.deterministic = True\n",
    "    torch.backends.cudnn.benchmark = True\n",
    "    \n",
    "# criterion = F.cross_entropy"
   ]
  },
  {
   "cell_type": "code",
   "execution_count": 27,
   "id": "12e6928e",
   "metadata": {
    "execution": {
     "iopub.execute_input": "2023-06-15T23:56:26.249738Z",
     "iopub.status.busy": "2023-06-15T23:56:26.248896Z",
     "iopub.status.idle": "2023-06-15T23:56:26.344780Z",
     "shell.execute_reply": "2023-06-15T23:56:26.343913Z"
    },
    "papermill": {
     "duration": 0.12989,
     "end_time": "2023-06-15T23:56:26.347056",
     "exception": false,
     "start_time": "2023-06-15T23:56:26.217166",
     "status": "completed"
    },
    "tags": []
   },
   "outputs": [
    {
     "data": {
      "text/plain": [
       "tensor([0.1750, 0.8250])"
      ]
     },
     "execution_count": 27,
     "metadata": {},
     "output_type": "execute_result"
    }
   ],
   "source": [
    "balance = torch.Tensor([len(df_train)/sum(df_train.Class == i) for i in range(len(df_train.Class.unique()))])\n",
    "balance /= sum(balance)\n",
    "balance"
   ]
  },
  {
   "cell_type": "markdown",
   "id": "dedfb5d1",
   "metadata": {
    "papermill": {
     "duration": 0.031531,
     "end_time": "2023-06-15T23:56:26.409801",
     "exception": false,
     "start_time": "2023-06-15T23:56:26.378270",
     "status": "completed"
    },
    "tags": []
   },
   "source": [
    "### train"
   ]
  },
  {
   "cell_type": "code",
   "execution_count": 28,
   "id": "4a58a107",
   "metadata": {
    "execution": {
     "iopub.execute_input": "2023-06-15T23:56:26.472899Z",
     "iopub.status.busy": "2023-06-15T23:56:26.472565Z",
     "iopub.status.idle": "2023-06-15T23:56:26.486639Z",
     "shell.execute_reply": "2023-06-15T23:56:26.485767Z"
    },
    "papermill": {
     "duration": 0.048263,
     "end_time": "2023-06-15T23:56:26.488812",
     "exception": false,
     "start_time": "2023-06-15T23:56:26.440549",
     "status": "completed"
    },
    "tags": []
   },
   "outputs": [],
   "source": [
    "def train(fold, train_dataloader,valid_dataloader, input_dim, output_dim):\n",
    "    best_score = 10**18\n",
    "    model = MyModel(input_dim, output_dim).to(device)\n",
    "\n",
    "    optimizer = optim.Adam(model.parameters(), lr=cfg.learning_rate)\n",
    "    criterion = nn.CrossEntropyLoss(weight=balance).to(device)\n",
    "    \n",
    "    for epoch in range(cfg.num_epochs):\n",
    "        y_true = []\n",
    "        y_pred = []    \n",
    "\n",
    "        model.train()  # モデルを訓練モードに設定\n",
    "        total_loss = 0.0\n",
    "        for batch in train_dataloader:\n",
    "            inputs, labels = batch\n",
    "            inputs = inputs.to(device)\n",
    "            labels = labels.to(device)\n",
    "            optimizer.zero_grad()  # 勾配の初期化\n",
    "            # フォワード処理\n",
    "            outputs, _ = model(inputs, labels)      \n",
    "            # 損失の計算\n",
    "            loss = criterion(outputs, labels)\n",
    "            # バックワード処理\n",
    "            loss.backward()\n",
    "            # パラメータの更新\n",
    "            optimizer.step()\n",
    "            total_loss += loss.detach().item()\n",
    "        avg_train_loss = total_loss / len(train_dataloader)\n",
    "\n",
    "        model.eval()  # モデルをvalidモードに設定\n",
    "        total_loss = 0.0\n",
    "\n",
    "\n",
    "        for batch in valid_dataloader:\n",
    "            inputs, labels = batch\n",
    "            inputs = inputs.to(device)\n",
    "            labels = labels.to(device)\n",
    "            with torch.no_grad():\n",
    "                outputs, _ = model(inputs, labels)     \n",
    "            loss = criterion(outputs, labels)\n",
    "            total_loss += loss.detach().item()\n",
    "            y_true += (labels.detach().tolist())\n",
    "            y_pred += (1 - F.softmax(outputs, dim=1)[:, 0]).detach().tolist()\n",
    "        avg_valid_loss = total_loss / len(valid_dataloader)\n",
    "\n",
    "        y_true = np.array(y_true)\n",
    "        y_pred = np.array(y_pred)\n",
    "        score = balanced_log_loss(y_true, y_pred)\n",
    "\n",
    "    #     if (epoch+1)%10 == 0 or best_score > score:\n",
    "        if (epoch+1)%100 == 0:\n",
    "            print(f\"Epoch {epoch+1}/{cfg.num_epochs}, train Loss: {avg_train_loss:.4f}\",\n",
    "                  f\" : valid Loss: {avg_valid_loss:.4f}, score = {score}\")\n",
    "#         if epoch > 100 and best_score > score and avg_valid_loss > avg_train_loss:\n",
    "        if epoch > 100 and best_score > score:\n",
    "            print(f\"Epoch {epoch+1}/{cfg.num_epochs}, train Loss: {avg_train_loss:.4f}\",\n",
    "                  f\" : valid Loss: {avg_valid_loss:.4f}, score = {score} Saved.\", f\"model_weight_fold{fold}.pth\")\n",
    "            best_score = min(best_score, score)\n",
    "            torch.save(model.state_dict(), f\"model_weight_fold{fold}.pth\")\n",
    "\n",
    "    torch.save(model.state_dict(), f\"model_weight_last_fold{fold}.pth\")\n",
    "\n",
    "    return best_score\n"
   ]
  },
  {
   "cell_type": "code",
   "execution_count": 29,
   "id": "225a0960",
   "metadata": {
    "execution": {
     "iopub.execute_input": "2023-06-15T23:56:26.552330Z",
     "iopub.status.busy": "2023-06-15T23:56:26.551747Z",
     "iopub.status.idle": "2023-06-15T23:56:26.565188Z",
     "shell.execute_reply": "2023-06-15T23:56:26.564369Z"
    },
    "papermill": {
     "duration": 0.047398,
     "end_time": "2023-06-15T23:56:26.567140",
     "exception": false,
     "start_time": "2023-06-15T23:56:26.519742",
     "status": "completed"
    },
    "tags": []
   },
   "outputs": [],
   "source": [
    "seed_everything(cfg.seed)\n",
    "\n",
    "kf = StratifiedKFold(n_splits=5, shuffle=True, random_state=seed)\n",
    "\n",
    "num = 0\n",
    "score = 0\n",
    "\n",
    "# timesは入れない！！！！\n",
    "input_dim = len(df_train.columns)-2\n",
    "output_dim = len(df_train.Class.unique())\n",
    "\n",
    "if torch_train:\n",
    "    for train_idx, valid_idx in kf.split(df_train, df_train.Class):\n",
    "        train_df = df_train.iloc[train_idx]\n",
    "        valid_df = df_train.iloc[valid_idx]\n",
    "        train_dataset = MyDataset(train_df)\n",
    "        valid_dataset = MyDataset(valid_df)\n",
    "        train_dataloader = DataLoader(train_dataset, batch_size=cfg.TRAIN_BATCHSIZE, shuffle=True)\n",
    "        valid_dataloader = DataLoader(valid_dataset, batch_size=cfg.VALID_BATCHSIZE, shuffle=False)\n",
    "\n",
    "        print(f\"Fold{num}\")\n",
    "        score += train(num, train_dataloader, valid_dataloader, input_dim, output_dim)\n",
    "\n",
    "        num+=1\n",
    "\n",
    "    print(score/5)"
   ]
  },
  {
   "cell_type": "markdown",
   "id": "8226deb8",
   "metadata": {
    "papermill": {
     "duration": 0.030916,
     "end_time": "2023-06-15T23:56:26.628837",
     "exception": false,
     "start_time": "2023-06-15T23:56:26.597921",
     "status": "completed"
    },
    "tags": []
   },
   "source": [
    "### train/single model"
   ]
  },
  {
   "cell_type": "code",
   "execution_count": 30,
   "id": "9bb12775",
   "metadata": {
    "execution": {
     "iopub.execute_input": "2023-06-15T23:56:26.692577Z",
     "iopub.status.busy": "2023-06-15T23:56:26.691716Z",
     "iopub.status.idle": "2023-06-15T23:56:26.698009Z",
     "shell.execute_reply": "2023-06-15T23:56:26.697198Z"
    },
    "papermill": {
     "duration": 0.040349,
     "end_time": "2023-06-15T23:56:26.699973",
     "exception": false,
     "start_time": "2023-06-15T23:56:26.659624",
     "status": "completed"
    },
    "tags": []
   },
   "outputs": [],
   "source": [
    "if torch_train:\n",
    "    # 全てのデータを利用して学習 train=valid\n",
    "    train_dataset = MyDataset(df_train)\n",
    "    valid_dataset = MyDataset(df_train)\n",
    "    train_dataloader = DataLoader(train_dataset, batch_size=cfg.TRAIN_BATCHSIZE, shuffle=True)\n",
    "    valid_dataloader = DataLoader(valid_dataset, batch_size=cfg.VALID_BATCHSIZE, shuffle=False)\n",
    "\n",
    "    num = 100\n",
    "    print(f\"Fold{num}\")\n",
    "    score = train(num, train_dataloader, valid_dataloader, input_dim, output_dim)\n",
    "\n",
    "    print(score)"
   ]
  },
  {
   "cell_type": "code",
   "execution_count": null,
   "id": "56fb7e0f",
   "metadata": {
    "papermill": {
     "duration": 0.030588,
     "end_time": "2023-06-15T23:56:26.761281",
     "exception": false,
     "start_time": "2023-06-15T23:56:26.730693",
     "status": "completed"
    },
    "tags": []
   },
   "outputs": [],
   "source": []
  },
  {
   "cell_type": "markdown",
   "id": "190861ad",
   "metadata": {
    "papermill": {
     "duration": 0.033014,
     "end_time": "2023-06-15T23:56:26.825464",
     "exception": false,
     "start_time": "2023-06-15T23:56:26.792450",
     "status": "completed"
    },
    "tags": []
   },
   "source": [
    "### 予測用の関数等の定義"
   ]
  },
  {
   "cell_type": "code",
   "execution_count": 31,
   "id": "d2d5fb72",
   "metadata": {
    "execution": {
     "iopub.execute_input": "2023-06-15T23:56:26.888867Z",
     "iopub.status.busy": "2023-06-15T23:56:26.888520Z",
     "iopub.status.idle": "2023-06-15T23:56:29.935997Z",
     "shell.execute_reply": "2023-06-15T23:56:29.935086Z"
    },
    "papermill": {
     "duration": 3.081814,
     "end_time": "2023-06-15T23:56:29.938312",
     "exception": false,
     "start_time": "2023-06-15T23:56:26.856498",
     "status": "completed"
    },
    "tags": []
   },
   "outputs": [
    {
     "name": "stdout",
     "output_type": "stream",
     "text": [
      "../input/icr-pycaret-dataset/model_weight_fold0.pth\n",
      "../input/icr-pycaret-dataset/model_weight_fold1.pth\n",
      "../input/icr-pycaret-dataset/model_weight_fold2.pth\n",
      "../input/icr-pycaret-dataset/model_weight_fold3.pth\n",
      "../input/icr-pycaret-dataset/model_weight_fold4.pth\n"
     ]
    }
   ],
   "source": [
    "nn_models = []\n",
    "for i in range(5):\n",
    "    model = MyModel(input_dim, output_dim)\n",
    "    if torch_train:\n",
    "        print(f'model_weight_fold{i}.pth')\n",
    "        model.load_state_dict(torch.load(f'model_weight_fold{i}.pth', map_location=torch.device('cpu')))\n",
    "    else:\n",
    "        print(f'../input/icr-pycaret-dataset/model_weight_fold{i}.pth')\n",
    "        model.load_state_dict(torch.load(f'../input/icr-pycaret-dataset/model_weight_fold{i}.pth', map_location=torch.device('cpu')))\n",
    "        \n",
    "    model.to(device)\n",
    "    model.eval()  ## torch.nn.Module.eval\n",
    "    nn_models.append(model)"
   ]
  },
  {
   "cell_type": "code",
   "execution_count": 32,
   "id": "c01d0706",
   "metadata": {
    "execution": {
     "iopub.execute_input": "2023-06-15T23:56:30.002577Z",
     "iopub.status.busy": "2023-06-15T23:56:30.001982Z",
     "iopub.status.idle": "2023-06-15T23:56:30.023487Z",
     "shell.execute_reply": "2023-06-15T23:56:30.022224Z"
    },
    "papermill": {
     "duration": 0.055727,
     "end_time": "2023-06-15T23:56:30.025553",
     "exception": false,
     "start_time": "2023-06-15T23:56:29.969826",
     "status": "completed"
    },
    "tags": []
   },
   "outputs": [
    {
     "name": "stdout",
     "output_type": "stream",
     "text": [
      "../input/icr-pycaret-dataset/model_weight_fold100.pth\n",
      "../input/icr-pycaret-dataset/model_weight_fold101.pth\n"
     ]
    }
   ],
   "source": [
    "nn_single_model = []\n",
    "for i in range(100, 102):\n",
    "    model = MyModel(input_dim, output_dim)\n",
    "    if torch_train:\n",
    "        print(f'model_weight_fold{i}.pth')\n",
    "        model.load_state_dict(torch.load(f'model_weight_fold{i}.pth', map_location=torch.device('cpu')))\n",
    "    else:\n",
    "        print(f'../input/icr-pycaret-dataset/model_weight_fold{i}.pth')\n",
    "        model.load_state_dict(torch.load(f'../input/icr-pycaret-dataset/model_weight_fold{i}.pth', map_location=torch.device('cpu')))\n",
    "        \n",
    "    model.to(device)\n",
    "    model.eval()  ## torch.nn.Module.eval\n",
    "    nn_single_model.append(model)"
   ]
  },
  {
   "cell_type": "code",
   "execution_count": 33,
   "id": "b7c50836",
   "metadata": {
    "execution": {
     "iopub.execute_input": "2023-06-15T23:56:30.089771Z",
     "iopub.status.busy": "2023-06-15T23:56:30.088928Z",
     "iopub.status.idle": "2023-06-15T23:56:30.095900Z",
     "shell.execute_reply": "2023-06-15T23:56:30.095016Z"
    },
    "papermill": {
     "duration": 0.041486,
     "end_time": "2023-06-15T23:56:30.097932",
     "exception": false,
     "start_time": "2023-06-15T23:56:30.056446",
     "status": "completed"
    },
    "tags": []
   },
   "outputs": [],
   "source": [
    "def nn_predict_proba(X, models):\n",
    "    preds = []\n",
    "    features = []\n",
    "    X = X.to(device)\n",
    "    for model in models:\n",
    "        with torch.no_grad():\n",
    "            pred, feature = model(X, None)\n",
    "        pred = F.softmax(pred, dim=1).cpu().detach().numpy()\n",
    "\n",
    "        if len(preds) == 0:\n",
    "            preds = pred\n",
    "            features = feature\n",
    "        else:\n",
    "            preds += pred\n",
    "            features += feature\n",
    "\n",
    "    preds = preds/len(models)\n",
    "    feature /= len(models)\n",
    "    return preds, feature"
   ]
  },
  {
   "cell_type": "code",
   "execution_count": null,
   "id": "42b06ab5",
   "metadata": {
    "papermill": {
     "duration": 0.034785,
     "end_time": "2023-06-15T23:56:30.166164",
     "exception": false,
     "start_time": "2023-06-15T23:56:30.131379",
     "status": "completed"
    },
    "tags": []
   },
   "outputs": [],
   "source": []
  },
  {
   "cell_type": "code",
   "execution_count": null,
   "id": "a0afee2a",
   "metadata": {
    "papermill": {
     "duration": 0.030741,
     "end_time": "2023-06-15T23:56:30.227738",
     "exception": false,
     "start_time": "2023-06-15T23:56:30.196997",
     "status": "completed"
    },
    "tags": []
   },
   "outputs": [],
   "source": []
  },
  {
   "cell_type": "code",
   "execution_count": 34,
   "id": "23c3b5d8",
   "metadata": {
    "execution": {
     "iopub.execute_input": "2023-06-15T23:56:30.292037Z",
     "iopub.status.busy": "2023-06-15T23:56:30.291693Z",
     "iopub.status.idle": "2023-06-15T23:56:31.866841Z",
     "shell.execute_reply": "2023-06-15T23:56:31.865868Z"
    },
    "papermill": {
     "duration": 1.610617,
     "end_time": "2023-06-15T23:56:31.869616",
     "exception": false,
     "start_time": "2023-06-15T23:56:30.258999",
     "status": "completed"
    },
    "tags": []
   },
   "outputs": [
    {
     "data": {
      "text/plain": [
       "(array([[4.4772183e-03, 9.9552286e-01],\n",
       "        [9.9964535e-01, 3.5467843e-04],\n",
       "        [8.2214099e-01, 1.7785904e-01],\n",
       "        ...,\n",
       "        [9.9248612e-01, 7.5138994e-03],\n",
       "        [9.2955828e-01, 7.0441678e-02],\n",
       "        [9.8668289e-01, 1.3317076e-02]], dtype=float32),\n",
       " tensor([[ 0.0416, -0.0581, -0.0361,  ..., -0.0035,  0.0063, -0.0614],\n",
       "         [ 0.0286,  0.0037, -0.0404,  ...,  0.0940,  0.0950,  0.0424],\n",
       "         [ 0.0306,  0.0003, -0.0367,  ..., -0.0082,  0.0887, -0.0003],\n",
       "         ...,\n",
       "         [ 0.0256, -0.0484, -0.0360,  ...,  0.1192,  0.1003,  0.1134],\n",
       "         [ 0.0327, -0.0094, -0.0374,  ...,  0.0476,  0.1060,  0.0889],\n",
       "         [ 0.0370,  0.0405, -0.0415,  ...,  0.1965,  0.1884,  0.2494]],\n",
       "        device='cuda:0'))"
      ]
     },
     "execution_count": 34,
     "metadata": {},
     "output_type": "execute_result"
    }
   ],
   "source": [
    "X = torch.Tensor(df_train[df_train.columns[:-2]].to_numpy())\n",
    "y = df_train.Class\n",
    "\n",
    "preds, features = nn_predict_proba(X, nn_models)\n",
    "preds, features"
   ]
  },
  {
   "cell_type": "code",
   "execution_count": 35,
   "id": "dd019465",
   "metadata": {
    "execution": {
     "iopub.execute_input": "2023-06-15T23:56:31.976210Z",
     "iopub.status.busy": "2023-06-15T23:56:31.975752Z",
     "iopub.status.idle": "2023-06-15T23:56:31.986685Z",
     "shell.execute_reply": "2023-06-15T23:56:31.985861Z"
    },
    "papermill": {
     "duration": 0.059509,
     "end_time": "2023-06-15T23:56:31.989243",
     "exception": false,
     "start_time": "2023-06-15T23:56:31.929734",
     "status": "completed"
    },
    "tags": []
   },
   "outputs": [
    {
     "data": {
      "text/plain": [
       "0.12759094078087946"
      ]
     },
     "execution_count": 35,
     "metadata": {},
     "output_type": "execute_result"
    }
   ],
   "source": [
    "balanced_log_loss(y, preds[:, 1])"
   ]
  },
  {
   "cell_type": "code",
   "execution_count": 36,
   "id": "45129bda",
   "metadata": {
    "execution": {
     "iopub.execute_input": "2023-06-15T23:56:32.077986Z",
     "iopub.status.busy": "2023-06-15T23:56:32.077636Z",
     "iopub.status.idle": "2023-06-15T23:56:32.106725Z",
     "shell.execute_reply": "2023-06-15T23:56:32.105872Z"
    },
    "papermill": {
     "duration": 0.07613,
     "end_time": "2023-06-15T23:56:32.109234",
     "exception": false,
     "start_time": "2023-06-15T23:56:32.033104",
     "status": "completed"
    },
    "tags": []
   },
   "outputs": [
    {
     "name": "stdout",
     "output_type": "stream",
     "text": [
      "Fold0 0.24730987870505572\n",
      "Fold1 0.43434267361427276\n",
      "Fold2 0.12484493576161707\n",
      "Fold3 0.2934729081056158\n",
      "Fold4 0.38959120419777427\n"
     ]
    }
   ],
   "source": [
    "kf = StratifiedKFold(n_splits=5, shuffle=True, random_state=seed)\n",
    "\n",
    "for idx, (train_idx, valid_idx) in enumerate(kf.split(df_train, df_train.Class)):\n",
    "    valid_df = df_train.iloc[valid_idx]\n",
    "    \n",
    "    X = torch.Tensor(valid_df[valid_df.columns[:-2]].to_numpy()).to(device)\n",
    "    y = valid_df.Class\n",
    "    with torch.no_grad():\n",
    "        pred, _ = nn_models[idx](X, None)\n",
    "    pred = F.softmax(pred, dim=1).detach().cpu().numpy()\n",
    "    score = balanced_log_loss(y, pred[:, 1])\n",
    "    print(f\"Fold{idx}\", score)"
   ]
  },
  {
   "cell_type": "code",
   "execution_count": 37,
   "id": "bd82d773",
   "metadata": {
    "execution": {
     "iopub.execute_input": "2023-06-15T23:56:32.201709Z",
     "iopub.status.busy": "2023-06-15T23:56:32.201205Z",
     "iopub.status.idle": "2023-06-15T23:56:32.218036Z",
     "shell.execute_reply": "2023-06-15T23:56:32.214880Z"
    },
    "papermill": {
     "duration": 0.061998,
     "end_time": "2023-06-15T23:56:32.220105",
     "exception": false,
     "start_time": "2023-06-15T23:56:32.158107",
     "status": "completed"
    },
    "tags": []
   },
   "outputs": [
    {
     "data": {
      "text/plain": [
       "0.03801902868558335"
      ]
     },
     "execution_count": 37,
     "metadata": {},
     "output_type": "execute_result"
    }
   ],
   "source": [
    "# single model\n",
    "X = torch.Tensor(df_train[df_train.columns[:-2]].to_numpy())\n",
    "y = df_train.Class\n",
    "\n",
    "preds, features = nn_predict_proba(X, nn_single_model)\n",
    "balanced_log_loss(y, preds[:, 1])"
   ]
  },
  {
   "cell_type": "markdown",
   "id": "ad6407d3",
   "metadata": {
    "papermill": {
     "duration": 0.044491,
     "end_time": "2023-06-15T23:56:32.314489",
     "exception": false,
     "start_time": "2023-06-15T23:56:32.269998",
     "status": "completed"
    },
    "tags": []
   },
   "source": [
    "# LightGBM/XGBoost/CatBoost"
   ]
  },
  {
   "cell_type": "code",
   "execution_count": 38,
   "id": "0d2359f7",
   "metadata": {
    "execution": {
     "iopub.execute_input": "2023-06-15T23:56:32.406420Z",
     "iopub.status.busy": "2023-06-15T23:56:32.405506Z",
     "iopub.status.idle": "2023-06-15T23:56:32.417994Z",
     "shell.execute_reply": "2023-06-15T23:56:32.417213Z"
    },
    "papermill": {
     "duration": 0.06116,
     "end_time": "2023-06-15T23:56:32.420482",
     "exception": false,
     "start_time": "2023-06-15T23:56:32.359322",
     "status": "completed"
    },
    "tags": []
   },
   "outputs": [
    {
     "data": {
      "text/plain": [
       "617"
      ]
     },
     "execution_count": 38,
     "metadata": {},
     "output_type": "execute_result"
    }
   ],
   "source": [
    "classes_weights = compute_sample_weight(\n",
    "    class_weight='balanced',\n",
    "    y=df_train.Class\n",
    ")\n",
    "len(classes_weights)"
   ]
  },
  {
   "cell_type": "code",
   "execution_count": 39,
   "id": "535a246a",
   "metadata": {
    "execution": {
     "iopub.execute_input": "2023-06-15T23:56:32.513270Z",
     "iopub.status.busy": "2023-06-15T23:56:32.512838Z",
     "iopub.status.idle": "2023-06-15T23:56:32.523454Z",
     "shell.execute_reply": "2023-06-15T23:56:32.522653Z"
    },
    "papermill": {
     "duration": 0.059787,
     "end_time": "2023-06-15T23:56:32.526000",
     "exception": false,
     "start_time": "2023-06-15T23:56:32.466213",
     "status": "completed"
    },
    "tags": []
   },
   "outputs": [],
   "source": [
    "def balanced_log_loss(y_true, y_pred):\n",
    "    y_pred = np.clip(y_pred, 1e-15, 1-1e-15)\n",
    "    nc = np.bincount(y_true)\n",
    "    w0, w1 = 1/(nc[0]/y_true.shape[0]), 1/(nc[1]/y_true.shape[0])\n",
    "    balanced_log_loss_score = (-w0/nc[0]*(np.sum(np.where(y_true==0,1,0) * np.log(1-y_pred))) - w1/nc[1]*(np.sum(np.where(y_true!=0,1,0) * np.log(y_pred)))) / (w0+w1)\n",
    "    return balanced_log_loss_score\n",
    "\n",
    "# 独自の評価関数をスコアリング関数に変換\n",
    "balanced_log_loss_scorer = make_scorer(balanced_log_loss, greater_is_better=False)"
   ]
  },
  {
   "cell_type": "markdown",
   "id": "b2baee92",
   "metadata": {
    "papermill": {
     "duration": 0.044859,
     "end_time": "2023-06-15T23:56:32.616120",
     "exception": false,
     "start_time": "2023-06-15T23:56:32.571261",
     "status": "completed"
    },
    "tags": []
   },
   "source": [
    "## optuna"
   ]
  },
  {
   "cell_type": "code",
   "execution_count": 40,
   "id": "58e8d8e8",
   "metadata": {
    "execution": {
     "iopub.execute_input": "2023-06-15T23:56:32.708590Z",
     "iopub.status.busy": "2023-06-15T23:56:32.708186Z",
     "iopub.status.idle": "2023-06-15T23:56:32.723185Z",
     "shell.execute_reply": "2023-06-15T23:56:32.722362Z"
    },
    "papermill": {
     "duration": 0.06416,
     "end_time": "2023-06-15T23:56:32.725720",
     "exception": false,
     "start_time": "2023-06-15T23:56:32.661560",
     "status": "completed"
    },
    "tags": []
   },
   "outputs": [],
   "source": [
    "# 初期設定値\n",
    "lgbm_params = {'n_estimators': 590,\n",
    " 'reg_alpha': 3.3000000000000003,\n",
    " 'reg_lambda': 36.4,\n",
    " 'num_leaves': 25,\n",
    " 'min_child_samples': 40,\n",
    " 'colsample_bytree': 0.7,\n",
    " 'subsample': 0.9,\n",
    " 'subsample_freq': 1}\n",
    "\n",
    "\n",
    "lgbm_params_2 = {'n_estimators': 920,\n",
    " 'reg_alpha': 1.7000000000000002,\n",
    " 'reg_lambda': 43.900000000000006,\n",
    " 'num_leaves': 5,\n",
    " 'min_child_samples': 54,\n",
    " 'colsample_bytree': 0.7,\n",
    " 'subsample': 0.5,\n",
    " 'subsample_freq': 2}\n",
    "    \n",
    "xgb_params = {'n_estimators': 700,\n",
    " 'max_depth': 3,\n",
    " 'learning_rate': 0.03560016067885742,\n",
    " 'subsample': 0.7408505704121144,\n",
    " 'colsample_bytree': 0.5705779083310649,\n",
    " 'gamma': 0.5286651204230014}\n",
    "\n",
    "\n",
    "xgb_params_2 = {'n_estimators': 400,\n",
    " 'max_depth': 3,\n",
    " 'learning_rate': 0.039564054691633314,\n",
    " 'subsample': 0.5504041211437798,\n",
    " 'colsample_bytree': 0.5507775663712617,\n",
    " 'gamma': 0.867820633516494}\n",
    " \n",
    "cb_params = {'iterations': 114,\n",
    " 'depth': 4,\n",
    " 'learning_rate': 0.08433020501242801,\n",
    " 'random_strength': 1,\n",
    " 'bagging_temperature': 0.1111714827952525,\n",
    " 'od_wait': 23}\n",
    "\n",
    "\n",
    "cb_params_2 = {'iterations': 89,\n",
    " 'depth': 4,\n",
    " 'learning_rate': 0.06648041880260806,\n",
    " 'random_strength': 1,\n",
    " 'bagging_temperature': 0.4139752626611664,\n",
    " 'od_wait': 46}\n",
    "\n",
    "\n",
    "rf_params = {'criterion': 'log_loss',\n",
    " 'bootstrap': False,\n",
    " 'max_depth': 514,\n",
    " 'max_features': 'sqrt',\n",
    " 'max_leaf_nodes': 14,\n",
    " 'n_estimators': 93,\n",
    " 'min_samples_split': 3,\n",
    " 'min_samples_leaf': 9}\n",
    "\n",
    "\n",
    "# スタッキング用\n",
    "lgbm_params2 = {'n_estimators': 370,\n",
    " 'reg_alpha': 21.3,\n",
    " 'reg_lambda': 0.5,\n",
    " 'num_leaves': 12,\n",
    " 'min_child_samples': 25,\n",
    " 'colsample_bytree': 0.5,\n",
    " 'subsample': 0.6,\n",
    " 'subsample_freq': 0}  "
   ]
  },
  {
   "cell_type": "markdown",
   "id": "d7b35720",
   "metadata": {
    "papermill": {
     "duration": 0.044972,
     "end_time": "2023-06-15T23:56:32.815880",
     "exception": false,
     "start_time": "2023-06-15T23:56:32.770908",
     "status": "completed"
    },
    "tags": []
   },
   "source": [
    "### lightGBM"
   ]
  },
  {
   "cell_type": "code",
   "execution_count": 41,
   "id": "37fc74f4",
   "metadata": {
    "execution": {
     "iopub.execute_input": "2023-06-15T23:56:32.917875Z",
     "iopub.status.busy": "2023-06-15T23:56:32.917475Z",
     "iopub.status.idle": "2023-06-15T23:56:32.934048Z",
     "shell.execute_reply": "2023-06-15T23:56:32.933242Z"
    },
    "papermill": {
     "duration": 0.068362,
     "end_time": "2023-06-15T23:56:32.936634",
     "exception": false,
     "start_time": "2023-06-15T23:56:32.868272",
     "status": "completed"
    },
    "tags": []
   },
   "outputs": [],
   "source": [
    "def obj_lgbm(trial):\n",
    "    params = {\n",
    "        'boosting_type':'gbdt',\n",
    "        'class_weight':'balanced',\n",
    "        'n_estimators': trial.suggest_int('n_estimators', 100, 1000, step=10),\n",
    "        'reg_alpha': trial.suggest_float('reg_alpha', 0, 100, step=0.1),\n",
    "        'reg_lambda': trial.suggest_float('reg_lambda', 0, 100, step=0.1),\n",
    "        'num_leaves': trial.suggest_int('num_leaves', 2, 64, step=1),\n",
    "        'min_child_samples': trial.suggest_int('min_child_samples', 8, 64, step=1),\n",
    "        'colsample_bytree': trial.suggest_float('colsample_bytree', 0.5, 1.0, step=0.1),\n",
    "        'subsample': trial.suggest_float('subsample', 0.5, 1.0, step=0.1),\n",
    "        'subsample_freq': trial.suggest_int('subsample_freq', 0, 3, step=1),\n",
    "    }\n",
    "    \n",
    "    model = LGBMClassifier(**params)\n",
    "    \n",
    "    kf = StratifiedKFold(n_splits=5, shuffle=True, random_state=seed)\n",
    "\n",
    "    score = 0\n",
    "    for train_idx, valid_idx in kf.split(df_train, df_train.Class):\n",
    "        train_df = df_train.iloc[train_idx]\n",
    "        valid_df = df_train.iloc[valid_idx]\n",
    "        X_train, y_train = train_df[train_df.columns[:-1]], train_df.Class\n",
    "        X_valid, y_valid = valid_df[valid_df.columns[:-1]], valid_df.Class\n",
    "\n",
    "        weights = classes_weights[train_idx]\n",
    "        model.fit(X_train, y_train, sample_weight=weights)\n",
    "        y_pred = model.predict_proba(X_valid)\n",
    "        loss = balanced_log_loss(y_valid, y_pred[:, 1])\n",
    "        score += loss\n",
    "\n",
    "    return score/5\n",
    "        \n",
    "\n",
    "if do_opt :\n",
    "    study = optuna.create_study(sampler=optuna.samplers.TPESampler(seed=42))#direction='minimize')\n",
    "    study.enqueue_trial(lgbm_params)\n",
    "    study.optimize(obj_lgbm, n_trials=100)"
   ]
  },
  {
   "cell_type": "code",
   "execution_count": 42,
   "id": "29f5ab34",
   "metadata": {
    "execution": {
     "iopub.execute_input": "2023-06-15T23:56:33.027748Z",
     "iopub.status.busy": "2023-06-15T23:56:33.027413Z",
     "iopub.status.idle": "2023-06-15T23:56:33.033720Z",
     "shell.execute_reply": "2023-06-15T23:56:33.032877Z"
    },
    "papermill": {
     "duration": 0.052812,
     "end_time": "2023-06-15T23:56:33.035637",
     "exception": false,
     "start_time": "2023-06-15T23:56:32.982825",
     "status": "completed"
    },
    "scrolled": true,
    "tags": []
   },
   "outputs": [
    {
     "data": {
      "text/plain": [
       "{'n_estimators': 590,\n",
       " 'reg_alpha': 3.3000000000000003,\n",
       " 'reg_lambda': 36.4,\n",
       " 'num_leaves': 25,\n",
       " 'min_child_samples': 40,\n",
       " 'colsample_bytree': 0.7,\n",
       " 'subsample': 0.9,\n",
       " 'subsample_freq': 1}"
      ]
     },
     "execution_count": 42,
     "metadata": {},
     "output_type": "execute_result"
    }
   ],
   "source": [
    "#0.18265121471197596\n",
    "if do_opt :\n",
    "    lgbm_params = dict(study.best_trial.params.items())\n",
    "lgbm_params"
   ]
  },
  {
   "cell_type": "markdown",
   "id": "3bcf6fd6",
   "metadata": {
    "papermill": {
     "duration": 0.031385,
     "end_time": "2023-06-15T23:56:33.098948",
     "exception": false,
     "start_time": "2023-06-15T23:56:33.067563",
     "status": "completed"
    },
    "tags": []
   },
   "source": [
    "### xgboost"
   ]
  },
  {
   "cell_type": "code",
   "execution_count": 43,
   "id": "0451b743",
   "metadata": {
    "execution": {
     "iopub.execute_input": "2023-06-15T23:56:33.164326Z",
     "iopub.status.busy": "2023-06-15T23:56:33.163389Z",
     "iopub.status.idle": "2023-06-15T23:56:33.173712Z",
     "shell.execute_reply": "2023-06-15T23:56:33.172872Z"
    },
    "papermill": {
     "duration": 0.044961,
     "end_time": "2023-06-15T23:56:33.175625",
     "exception": false,
     "start_time": "2023-06-15T23:56:33.130664",
     "status": "completed"
    },
    "tags": []
   },
   "outputs": [],
   "source": [
    "def obj_xgb(trial):\n",
    "    params = {\n",
    "        'n_estimators': trial.suggest_int('n_estimators', 100, 1000, step=100),\n",
    "        'max_depth': trial.suggest_int('max_depth', 3, 10),\n",
    "        'learning_rate': trial.suggest_float('learning_rate', 0.001, 0.1, log=True),\n",
    "        'subsample': trial.suggest_float('subsample', 0.5, 1.0),\n",
    "        'colsample_bytree': trial.suggest_float('colsample_bytree', 0.5, 1.0),\n",
    "        'gamma': trial.suggest_float('gamma', 0.001, 1.0, log=True),\n",
    "        'objective': 'binary:logistic', \n",
    "        'eval_metric': 'logloss', \n",
    "    }\n",
    "\n",
    "    model = XGBClassifier(**params)\n",
    "    \n",
    "    kf = StratifiedKFold(n_splits=5, shuffle=True, random_state=seed)\n",
    "\n",
    "    score = 0\n",
    "    for train_idx, valid_idx in kf.split(df_train, df_train.Class):\n",
    "        train_df = df_train.iloc[train_idx]\n",
    "        valid_df = df_train.iloc[valid_idx]\n",
    "        X_train, y_train = train_df[train_df.columns[:-1]], train_df.Class\n",
    "        X_valid, y_valid = valid_df[valid_df.columns[:-1]], valid_df.Class\n",
    "\n",
    "        weights = classes_weights[train_idx]\n",
    "        model.fit(X_train, y_train, sample_weight=weights)\n",
    "        y_pred = model.predict_proba(X_valid)\n",
    "        loss = balanced_log_loss(y_valid, y_pred[:, 1])\n",
    "        score += loss\n",
    "\n",
    "    return score/5\n",
    "        \n",
    "if do_opt :    \n",
    "    study = optuna.create_study(sampler=optuna.samplers.TPESampler(seed=seed))#direction='minimize')\n",
    "    study.enqueue_trial(xgb_params)\n",
    "    study.optimize(obj_xgb, n_trials=100)"
   ]
  },
  {
   "cell_type": "code",
   "execution_count": 44,
   "id": "b74b5cfd",
   "metadata": {
    "execution": {
     "iopub.execute_input": "2023-06-15T23:56:33.240632Z",
     "iopub.status.busy": "2023-06-15T23:56:33.240314Z",
     "iopub.status.idle": "2023-06-15T23:56:33.246704Z",
     "shell.execute_reply": "2023-06-15T23:56:33.245858Z"
    },
    "papermill": {
     "duration": 0.041232,
     "end_time": "2023-06-15T23:56:33.248576",
     "exception": false,
     "start_time": "2023-06-15T23:56:33.207344",
     "status": "completed"
    },
    "tags": []
   },
   "outputs": [
    {
     "data": {
      "text/plain": [
       "{'n_estimators': 700,\n",
       " 'max_depth': 3,\n",
       " 'learning_rate': 0.03560016067885742,\n",
       " 'subsample': 0.7408505704121144,\n",
       " 'colsample_bytree': 0.5705779083310649,\n",
       " 'gamma': 0.5286651204230014}"
      ]
     },
     "execution_count": 44,
     "metadata": {},
     "output_type": "execute_result"
    }
   ],
   "source": [
    "if do_opt :\n",
    "    xgb_params = dict(study.best_trial.params.items())\n",
    "\n",
    "xgb_params"
   ]
  },
  {
   "cell_type": "markdown",
   "id": "bf0d48f0",
   "metadata": {
    "papermill": {
     "duration": 0.031387,
     "end_time": "2023-06-15T23:56:33.311766",
     "exception": false,
     "start_time": "2023-06-15T23:56:33.280379",
     "status": "completed"
    },
    "tags": []
   },
   "source": [
    "### catboost"
   ]
  },
  {
   "cell_type": "code",
   "execution_count": 45,
   "id": "7355e988",
   "metadata": {
    "execution": {
     "iopub.execute_input": "2023-06-15T23:56:33.377208Z",
     "iopub.status.busy": "2023-06-15T23:56:33.376302Z",
     "iopub.status.idle": "2023-06-15T23:56:33.387176Z",
     "shell.execute_reply": "2023-06-15T23:56:33.386255Z"
    },
    "papermill": {
     "duration": 0.045377,
     "end_time": "2023-06-15T23:56:33.389091",
     "exception": false,
     "start_time": "2023-06-15T23:56:33.343714",
     "status": "completed"
    },
    "tags": []
   },
   "outputs": [],
   "source": [
    "def obj_cb(trial):\n",
    "    params = {\n",
    "        'iterations' : trial.suggest_int('iterations', 50, 300),                         \n",
    "        'depth' : trial.suggest_int('depth', 4, 10),                                       \n",
    "        'learning_rate' : trial.suggest_float('learning_rate', 0.01, 0.3, log=True),               \n",
    "        'random_strength' :trial.suggest_int('random_strength', 0, 100),                       \n",
    "        'bagging_temperature' :trial.suggest_float('bagging_temperature', 0.01, 100.00, log=True), \n",
    "#         'od_type': trial.suggest_categorical('od_type', ['IncToDec', 'Iter']),\n",
    "        'od_wait' :trial.suggest_int('od_wait', 10, 50)\n",
    "    }\n",
    "\n",
    "    \n",
    "    if use_GPU:\n",
    "        model = CatBoostClassifier(**cb_params, task_type=\"GPU\")\n",
    "    else:\n",
    "        model = CatBoostClassifier(**params)\n",
    "    \n",
    "    kf = StratifiedKFold(n_splits=5, shuffle=True, random_state=seed)\n",
    "\n",
    "    score = 0\n",
    "    for train_idx, valid_idx in kf.split(df_train, df_train.Class):\n",
    "        train_df = df_train.iloc[train_idx]\n",
    "        valid_df = df_train.iloc[valid_idx]\n",
    "        X_train, y_train = train_df[train_df.columns[:-1]], train_df.Class\n",
    "        X_valid, y_valid = valid_df[valid_df.columns[:-1]], valid_df.Class\n",
    "\n",
    "        weights = classes_weights[train_idx]\n",
    "        model.fit(X_train, y_train, logging_level=\"Silent\", sample_weight=weights)\n",
    "        y_pred = model.predict_proba(X_valid)\n",
    "        loss = balanced_log_loss(y_valid, y_pred[:, 1])\n",
    "        score += loss\n",
    "\n",
    "    return score/5\n",
    "        \n",
    "if do_opt :\n",
    "    study = optuna.create_study(sampler=optuna.samplers.TPESampler(seed=seed))#direction='minimize')\n",
    "    study.enqueue_trial(cb_params)\n",
    "    study.optimize(obj_cb, n_trials=100)"
   ]
  },
  {
   "cell_type": "code",
   "execution_count": 46,
   "id": "45592863",
   "metadata": {
    "execution": {
     "iopub.execute_input": "2023-06-15T23:56:33.454240Z",
     "iopub.status.busy": "2023-06-15T23:56:33.453920Z",
     "iopub.status.idle": "2023-06-15T23:56:33.460605Z",
     "shell.execute_reply": "2023-06-15T23:56:33.459595Z"
    },
    "papermill": {
     "duration": 0.042166,
     "end_time": "2023-06-15T23:56:33.463603",
     "exception": false,
     "start_time": "2023-06-15T23:56:33.421437",
     "status": "completed"
    },
    "tags": []
   },
   "outputs": [
    {
     "data": {
      "text/plain": [
       "{'iterations': 114,\n",
       " 'depth': 4,\n",
       " 'learning_rate': 0.08433020501242801,\n",
       " 'random_strength': 1,\n",
       " 'bagging_temperature': 0.1111714827952525,\n",
       " 'od_wait': 23}"
      ]
     },
     "execution_count": 46,
     "metadata": {},
     "output_type": "execute_result"
    }
   ],
   "source": [
    "if do_opt :\n",
    "    cb_params = dict(study.best_trial.params.items())\n",
    "cb_params"
   ]
  },
  {
   "cell_type": "code",
   "execution_count": 47,
   "id": "a2d319ec",
   "metadata": {
    "execution": {
     "iopub.execute_input": "2023-06-15T23:56:33.529676Z",
     "iopub.status.busy": "2023-06-15T23:56:33.529372Z",
     "iopub.status.idle": "2023-06-15T23:56:33.534616Z",
     "shell.execute_reply": "2023-06-15T23:56:33.533751Z"
    },
    "papermill": {
     "duration": 0.040162,
     "end_time": "2023-06-15T23:56:33.536677",
     "exception": false,
     "start_time": "2023-06-15T23:56:33.496515",
     "status": "completed"
    },
    "tags": []
   },
   "outputs": [],
   "source": [
    "cb_params = {'iterations': 114,\n",
    " 'depth': 4,\n",
    " 'learning_rate': 0.08433020501242801,\n",
    " 'random_strength': 1,\n",
    " 'bagging_temperature': 0.1111714827952525,\n",
    " 'od_wait': 23}"
   ]
  },
  {
   "cell_type": "markdown",
   "id": "f70c7554",
   "metadata": {
    "papermill": {
     "duration": 0.031742,
     "end_time": "2023-06-15T23:56:33.600110",
     "exception": false,
     "start_time": "2023-06-15T23:56:33.568368",
     "status": "completed"
    },
    "tags": []
   },
   "source": [
    "### random forest"
   ]
  },
  {
   "cell_type": "code",
   "execution_count": 48,
   "id": "922fa521",
   "metadata": {
    "execution": {
     "iopub.execute_input": "2023-06-15T23:56:33.665535Z",
     "iopub.status.busy": "2023-06-15T23:56:33.665209Z",
     "iopub.status.idle": "2023-06-15T23:56:33.675669Z",
     "shell.execute_reply": "2023-06-15T23:56:33.674674Z"
    },
    "papermill": {
     "duration": 0.045979,
     "end_time": "2023-06-15T23:56:33.678153",
     "exception": false,
     "start_time": "2023-06-15T23:56:33.632174",
     "status": "completed"
    },
    "tags": []
   },
   "outputs": [],
   "source": [
    "def obj_rf(trial):\n",
    "    params = {\n",
    "        'criterion' :trial.suggest_categorical('criterion', ['gini', 'log_loss', 'entropy']),\n",
    "        'bootstrap' : trial.suggest_categorical('bootstrap',[True, False]),\n",
    "        'max_depth' : trial.suggest_int('max_depth', 1, 1000),\n",
    "        'max_features' : trial.suggest_categorical('max_features', ['sqrt', 'log2', None]),\n",
    "        'max_leaf_nodes' : trial.suggest_int('max_leaf_nodes', 2, 300),\n",
    "        'n_estimators' :  trial.suggest_int('n_estimators', 5, 300),\n",
    "        'min_samples_split' : trial.suggest_int('min_samples_split',2,5),\n",
    "        'min_samples_leaf' : trial.suggest_int('min_samples_leaf',1,10) ,      \n",
    "    }\n",
    "    \n",
    "    \n",
    "    model = RandomForestClassifier(**params)\n",
    "    \n",
    "    kf = StratifiedKFold(n_splits=5, shuffle=True, random_state=seed)\n",
    "\n",
    "    score = 0\n",
    "    for train_idx, valid_idx in kf.split(df_train, df_train.Class):\n",
    "        train_df = df_train.iloc[train_idx]\n",
    "        valid_df = df_train.iloc[valid_idx]\n",
    "        X_train, y_train = train_df[train_df.columns[:-1]], train_df.Class\n",
    "        X_valid, y_valid = valid_df[valid_df.columns[:-1]], valid_df.Class\n",
    "\n",
    "        weights = classes_weights[train_idx]\n",
    "        model.fit(X_train, y_train, sample_weight=weights)\n",
    "        y_pred = model.predict_proba(X_valid)\n",
    "        loss = balanced_log_loss(y_valid, y_pred[:, 1])\n",
    "        score += loss\n",
    "\n",
    "    return score/5\n",
    "        \n",
    "if do_opt :    \n",
    "    study = optuna.create_study(sampler=optuna.samplers.TPESampler(seed=seed))#direction='minimize')\n",
    "    study.enqueue_trial(rf_params)\n",
    "    study.optimize(obj_rf, n_trials=100)"
   ]
  },
  {
   "cell_type": "code",
   "execution_count": 49,
   "id": "530b8f25",
   "metadata": {
    "execution": {
     "iopub.execute_input": "2023-06-15T23:56:33.742832Z",
     "iopub.status.busy": "2023-06-15T23:56:33.742312Z",
     "iopub.status.idle": "2023-06-15T23:56:33.749281Z",
     "shell.execute_reply": "2023-06-15T23:56:33.748370Z"
    },
    "papermill": {
     "duration": 0.041496,
     "end_time": "2023-06-15T23:56:33.751208",
     "exception": false,
     "start_time": "2023-06-15T23:56:33.709712",
     "status": "completed"
    },
    "tags": []
   },
   "outputs": [
    {
     "data": {
      "text/plain": [
       "{'criterion': 'log_loss',\n",
       " 'bootstrap': False,\n",
       " 'max_depth': 514,\n",
       " 'max_features': 'sqrt',\n",
       " 'max_leaf_nodes': 14,\n",
       " 'n_estimators': 93,\n",
       " 'min_samples_split': 3,\n",
       " 'min_samples_leaf': 9}"
      ]
     },
     "execution_count": 49,
     "metadata": {},
     "output_type": "execute_result"
    }
   ],
   "source": [
    "if do_opt :\n",
    "    rf_params = dict(study.best_trial.params.items())\n",
    "rf_params"
   ]
  },
  {
   "cell_type": "code",
   "execution_count": 50,
   "id": "f34909cc",
   "metadata": {
    "execution": {
     "iopub.execute_input": "2023-06-15T23:56:33.816207Z",
     "iopub.status.busy": "2023-06-15T23:56:33.815898Z",
     "iopub.status.idle": "2023-06-15T23:56:33.821924Z",
     "shell.execute_reply": "2023-06-15T23:56:33.821115Z"
    },
    "papermill": {
     "duration": 0.041026,
     "end_time": "2023-06-15T23:56:33.823958",
     "exception": false,
     "start_time": "2023-06-15T23:56:33.782932",
     "status": "completed"
    },
    "tags": []
   },
   "outputs": [
    {
     "data": {
      "text/plain": [
       "\"\\nlgbm_params = {'n_estimators': 600,\\n 'reg_alpha': 2.8000000000000003,\\n 'reg_lambda': 12.4,\\n 'num_leaves': 41}\\n \\nxgb_params = {'n_estimators': 800,\\n 'max_depth': 4,\\n 'learning_rate': 0.07321832691960338,\\n 'subsample': 0.7576690053727902,\\n 'colsample_bytree': 0.7481165187056286,\\n 'gamma': 0.4338012239235796}\\n \\ncb_params = {'iterations': 114,\\n 'depth': 4,\\n 'learning_rate': 0.08433020501242801,\\n 'random_strength': 1,\\n 'bagging_temperature': 0.1111714827952525,\\n 'od_wait': 23}\\n\""
      ]
     },
     "execution_count": 50,
     "metadata": {},
     "output_type": "execute_result"
    }
   ],
   "source": [
    "\"\"\"\n",
    "lgbm_params = {'n_estimators': 600,\n",
    " 'reg_alpha': 2.8000000000000003,\n",
    " 'reg_lambda': 12.4,\n",
    " 'num_leaves': 41}\n",
    " \n",
    "xgb_params = {'n_estimators': 800,\n",
    " 'max_depth': 4,\n",
    " 'learning_rate': 0.07321832691960338,\n",
    " 'subsample': 0.7576690053727902,\n",
    " 'colsample_bytree': 0.7481165187056286,\n",
    " 'gamma': 0.4338012239235796}\n",
    " \n",
    "cb_params = {'iterations': 114,\n",
    " 'depth': 4,\n",
    " 'learning_rate': 0.08433020501242801,\n",
    " 'random_strength': 1,\n",
    " 'bagging_temperature': 0.1111714827952525,\n",
    " 'od_wait': 23}\n",
    "\"\"\""
   ]
  },
  {
   "cell_type": "code",
   "execution_count": 51,
   "id": "ea87feda",
   "metadata": {
    "execution": {
     "iopub.execute_input": "2023-06-15T23:56:33.891152Z",
     "iopub.status.busy": "2023-06-15T23:56:33.890798Z",
     "iopub.status.idle": "2023-06-15T23:56:33.895907Z",
     "shell.execute_reply": "2023-06-15T23:56:33.894950Z"
    },
    "papermill": {
     "duration": 0.040419,
     "end_time": "2023-06-15T23:56:33.898000",
     "exception": false,
     "start_time": "2023-06-15T23:56:33.857581",
     "status": "completed"
    },
    "tags": []
   },
   "outputs": [],
   "source": [
    "# lgb = LGBMClassifier(boosting_type='gbdt', class_weight='balanced', colsample_bytree=1.0,\n",
    "#                 importance_type='split', learning_rate=0.1, max_depth=-1,\n",
    "#                 min_child_samples=20, min_child_weight=0.001, min_split_gain=0.0,\n",
    "#                 n_estimators=100, n_jobs=-1, num_leaves=31, objective=\"binary\",\n",
    "#                 random_state=42, reg_alpha=0.0, reg_lambda=0.0, silent='warn',\n",
    "#                 subsample=1.0, subsample_for_bin=200000, subsample_freq=0)\n",
    "# xgb = XGBClassifier(base_score=None, booster='gbtree', callbacks=None,\n",
    "#                colsample_bylevel=None, colsample_bynode=None,\n",
    "#                colsample_bytree=None, early_stopping_rounds=None,\n",
    "#                enable_categorical=False, eval_metric=None, feature_types=None,\n",
    "#                gamma=None, gpu_id=None, grow_policy=None, importance_type=None,\n",
    "#                interaction_constraints=None, learning_rate=None, max_bin=None,\n",
    "#                max_cat_threshold=None, max_cat_to_onehot=None,\n",
    "#                max_delta_step=None, max_depth=None, max_leaves=None,\n",
    "#                min_child_weight=None, monotone_constraints=None,\n",
    "#                n_estimators=100, n_jobs=-1, num_parallel_tree=None,\n",
    "#                objective='binary:logistic', predictor=None)\n",
    "\n",
    "# cb = CatBoostClassifier()\n",
    "# tab = TabPFNClassifier(N_ensemble_configurations=64)"
   ]
  },
  {
   "cell_type": "code",
   "execution_count": null,
   "id": "32ff130a",
   "metadata": {
    "papermill": {
     "duration": 0.031933,
     "end_time": "2023-06-15T23:56:33.962319",
     "exception": false,
     "start_time": "2023-06-15T23:56:33.930386",
     "status": "completed"
    },
    "tags": []
   },
   "outputs": [],
   "source": []
  },
  {
   "cell_type": "code",
   "execution_count": null,
   "id": "60ad4caf",
   "metadata": {
    "papermill": {
     "duration": 0.031972,
     "end_time": "2023-06-15T23:56:34.026172",
     "exception": false,
     "start_time": "2023-06-15T23:56:33.994200",
     "status": "completed"
    },
    "tags": []
   },
   "outputs": [],
   "source": []
  },
  {
   "cell_type": "code",
   "execution_count": 52,
   "id": "55e4b073",
   "metadata": {
    "execution": {
     "iopub.execute_input": "2023-06-15T23:56:34.091653Z",
     "iopub.status.busy": "2023-06-15T23:56:34.091303Z",
     "iopub.status.idle": "2023-06-15T23:56:34.812386Z",
     "shell.execute_reply": "2023-06-15T23:56:34.810915Z"
    },
    "papermill": {
     "duration": 0.756515,
     "end_time": "2023-06-15T23:56:34.814526",
     "exception": false,
     "start_time": "2023-06-15T23:56:34.058011",
     "status": "completed"
    },
    "tags": []
   },
   "outputs": [
    {
     "name": "stdout",
     "output_type": "stream",
     "text": [
      "Loading model that can be used for inference only\n",
      "Using a Transformer with 25.82 M parameters\n",
      "Loading model that can be used for inference only\n",
      "Using a Transformer with 25.82 M parameters\n"
     ]
    }
   ],
   "source": [
    "lgb = LGBMClassifier(boosting_type='gbdt', class_weight='balanced', **lgbm_params)\n",
    "lgb2 = LGBMClassifier(boosting_type='gbdt', class_weight='balanced', **lgbm_params)\n",
    "\n",
    "xgb = XGBClassifier(\n",
    "    objective = 'binary:logistic', \n",
    "    eval_metric = 'logloss', \n",
    "    **xgb_params,\n",
    ")\n",
    "\n",
    "xgb2 = XGBClassifier(\n",
    "    objective = 'binary:logistic', \n",
    "    eval_metric = 'logloss', \n",
    "    **xgb_params_2,\n",
    ")\n",
    "\n",
    "\n",
    "rf = RandomForestClassifier(**rf_params)\n",
    "\n",
    "if use_GPU:\n",
    "    cb = CatBoostClassifier(**cb_params, task_type=\"GPU\")\n",
    "    cb2 = CatBoostClassifier(**cb_params_2, task_type=\"GPU\")\n",
    "\n",
    "    tab = TabPFNClassifier(N_ensemble_configurations=64, device='cuda:0')\n",
    "    tab2 = TabPFNClassifier(N_ensemble_configurations=32, device='cuda:0')\n",
    "else:\n",
    "    cb = CatBoostClassifier(**cb_params)\n",
    "    cb2 = CatBoostClassifier(**cb_params_2)\n",
    "\n",
    "    tab = TabPFNClassifier(N_ensemble_configurations=64)\n",
    "    tab2 = TabPFNClassifier(N_ensemble_configurations=32)\n",
    "\n",
    "# knn = KNeighborsClassifier(n_neighbors=64, metric='euclidean')\n",
    "knn = KNeighborsClassifier(n_neighbors=64, metric='cosine')\n",
    "knn2 = KNeighborsClassifier(n_neighbors=128, metric='cosine')"
   ]
  },
  {
   "cell_type": "markdown",
   "id": "a29500b8",
   "metadata": {
    "papermill": {
     "duration": 0.034254,
     "end_time": "2023-06-15T23:56:34.881841",
     "exception": false,
     "start_time": "2023-06-15T23:56:34.847587",
     "status": "completed"
    },
    "tags": []
   },
   "source": [
    "## calc cv (5 fold)"
   ]
  },
  {
   "cell_type": "code",
   "execution_count": 53,
   "id": "73b9a1da",
   "metadata": {
    "execution": {
     "iopub.execute_input": "2023-06-15T23:56:34.949278Z",
     "iopub.status.busy": "2023-06-15T23:56:34.948494Z",
     "iopub.status.idle": "2023-06-15T23:58:34.892784Z",
     "shell.execute_reply": "2023-06-15T23:58:34.891350Z"
    },
    "papermill": {
     "duration": 119.980712,
     "end_time": "2023-06-15T23:58:34.894880",
     "exception": false,
     "start_time": "2023-06-15T23:56:34.914168",
     "status": "completed"
    },
    "tags": []
   },
   "outputs": [
    {
     "name": "stdout",
     "output_type": "stream",
     "text": [
      "lgbm..\n",
      "lgbm2..\n",
      "xgboost..\n",
      "xgboost2..\n",
      "catboost..\n",
      "catboost2..\n",
      "random forest..\n",
      "nn...\n",
      "xxx..\n",
      "xxx2..\n",
      "TabPFN..\n",
      "TabPFN2..\n",
      "lgb 0.15859814509284034 lgb2 0.15859814509284034 xgb 0.289470029743064 xgb2 0.3163161997332328 catboost 0.3157268681290106 catboost2 0.3226661357974969 rf 0.3840909003438054 nn 0.24730988337963847 xxx 1.5444685818260966 xxx2 0.33187615677351207 TabPFN 0.3983410484431967 TabPFN2 0.4018102661358736\n",
      "--> ensamble 0.1572390820924368\n",
      "lgbm..\n",
      "lgbm2..\n",
      "xgboost..\n",
      "xgboost2..\n",
      "catboost..\n",
      "catboost2..\n",
      "random forest..\n",
      "nn...\n",
      "xxx..\n",
      "xxx2..\n",
      "TabPFN..\n",
      "TabPFN2..\n",
      "lgb 0.13482534102391344 lgb2 0.13482534102391344 xgb 0.30085986434997203 xgb2 0.234682257297462 catboost 0.34663671432906795 catboost2 0.3117817863524356 rf 0.4165361779757051 nn 0.4343426856788587 xxx 1.6854239626422072 xxx2 0.4325344667398624 TabPFN 0.14372417724674594 TabPFN2 0.14619213893077343\n",
      "--> ensamble 0.1256684966198748\n",
      "lgbm..\n",
      "lgbm2..\n",
      "xgboost..\n",
      "xgboost2..\n",
      "catboost..\n",
      "catboost2..\n",
      "random forest..\n",
      "nn...\n",
      "xxx..\n",
      "xxx2..\n",
      "TabPFN..\n",
      "TabPFN2..\n",
      "lgb 0.19979975390657986 lgb2 0.19979975390657986 xgb 0.3535381514057985 xgb2 0.3595259260769327 catboost 0.34267614233802574 catboost2 0.33679710109386823 rf 0.4577853474605755 nn 0.12484493586235627 xxx 0.1236820518108968 xxx2 0.18435320448278472 TabPFN 0.29880321454369363 TabPFN2 0.2998985707406337\n",
      "--> ensamble 0.13548865029148494\n",
      "lgbm..\n",
      "lgbm2..\n",
      "xgboost..\n",
      "xgboost2..\n",
      "catboost..\n",
      "catboost2..\n",
      "random forest..\n",
      "nn...\n",
      "xxx..\n",
      "xxx2..\n",
      "TabPFN..\n",
      "TabPFN2..\n",
      "lgb 0.2997250748586222 lgb2 0.2997250748586222 xgb 0.43689941525633297 xgb2 0.44798284736119615 catboost 0.5028312961901651 catboost2 0.4730332225482342 rf 0.48093137036628936 nn 0.2934729100243041 xxx 0.2664276770948957 xxx2 0.2515614451081353 TabPFN 0.4717490114796248 TabPFN2 0.47503756405165637\n",
      "--> ensamble 0.1688766882036078\n",
      "lgbm..\n",
      "lgbm2..\n",
      "xgboost..\n",
      "xgboost2..\n",
      "catboost..\n",
      "catboost2..\n",
      "random forest..\n",
      "nn...\n",
      "xxx..\n",
      "xxx2..\n",
      "TabPFN..\n",
      "TabPFN2..\n",
      "lgb 0.13880528180543375 lgb2 0.13880528180543375 xgb 0.16711713881261414 xgb2 0.17068152113607715 catboost 0.20685872673644154 catboost2 0.25339366372208655 rf 0.3608801921294056 nn 0.3895912080142248 xxx 0.4064920793253413 xxx2 0.3290214444176253 TabPFN 0.1349073968676537 TabPFN2 0.1346520182822772\n",
      "--> ensamble 0.13119006450976073\n",
      "0.143692596343433\n"
     ]
    }
   ],
   "source": [
    "a = [2, 0, 1, 0.2, 0.8]\n",
    "\n",
    "if check_CV:\n",
    "    kf = StratifiedKFold(n_splits=5, shuffle=True, random_state=seed)\n",
    "\n",
    "    score = 0\n",
    "    \n",
    "    \n",
    "    y_preds = []\n",
    "    y_true = []\n",
    "    y_len = []\n",
    "    \n",
    "    for idx, (train_idx, valid_idx) in enumerate(kf.split(df_train, df_train.Class)):\n",
    "        train_df = df_train.iloc[train_idx]\n",
    "        valid_df = df_train.iloc[valid_idx]\n",
    "        X_train, y_train = train_df[train_df.columns[:-1]], train_df.Class\n",
    "        X_valid, y_valid = valid_df[valid_df.columns[:-1]], valid_df.Class\n",
    "\n",
    "    #     # SMOTETomek\n",
    "    #     if use_SMOTE:\n",
    "    #         sm = SMOTETomek(random_state=57)\n",
    "    #         X_train, y_train = sm.fit_resample(X_train, y_train)\n",
    "    #         weights = compute_sample_weight(class_weight='balanced',y=y_train)                              \n",
    "    #     else:\n",
    "        weights = classes_weights[train_idx]\n",
    "\n",
    "        print(\"lgbm..\")\n",
    "        lgb.fit(X_train, y_train, sample_weight=weights)\n",
    "        y_lgb = lgb.predict_proba(X_valid)\n",
    "        print(\"lgbm2..\")\n",
    "        lgb2.fit(X_train, y_train, sample_weight=weights)\n",
    "        y_lgb2 = lgb2.predict_proba(X_valid)\n",
    "\n",
    "        \n",
    "        print(\"xgboost..\")    \n",
    "        xgb.fit(X_train, y_train, sample_weight=weights)\n",
    "        y_xgb = xgb.predict_proba(X_valid)\n",
    "        print(\"xgboost2..\")    \n",
    "        xgb2.fit(X_train, y_train, sample_weight=weights)\n",
    "        y_xgb2 = xgb2.predict_proba(X_valid)\n",
    "        \n",
    "        \n",
    "        print(\"catboost..\")\n",
    "        cb.fit(X_train, y_train, logging_level=\"Silent\", sample_weight=weights)\n",
    "        y_cb = cb.predict_proba(X_valid)\n",
    "        print(\"catboost2..\")\n",
    "        cb2.fit(X_train, y_train, logging_level=\"Silent\", sample_weight=weights)\n",
    "        y_cb2 = cb2.predict_proba(X_valid)\n",
    "        \n",
    "        \n",
    "        \n",
    "        print(\"random forest..\")\n",
    "        rf.fit(X_train, y_train, sample_weight=weights)\n",
    "        y_rf = rf.predict_proba(X_valid)\n",
    "        \n",
    "\n",
    "        print(\"nn...\")\n",
    "        X = torch.Tensor(train_df[valid_df.columns[:-2]].to_numpy()).to(device)\n",
    "        with torch.no_grad():\n",
    "            _, features_train = nn_models[idx](X, None)\n",
    "\n",
    "        X = torch.Tensor(valid_df[valid_df.columns[:-2]].to_numpy()).to(device)\n",
    "        with torch.no_grad():\n",
    "            y_nn, features_valid = nn_models[idx](X, None)\n",
    "        y_nn = F.softmax(y_nn, dim=1).cpu().detach().numpy()   \n",
    "\n",
    "        print(\"xxx..\")\n",
    "        features_train = features_train.detach().cpu().numpy()\n",
    "        features_valid = features_valid.detach().cpu().numpy()\n",
    "        X_train2 = features_train #np.hstack([X_train.to_numpy(), features_train])\n",
    "        X_valid2 = features_valid #np.hstack([X_valid.to_numpy(), features_valid])\n",
    "        knn.fit(X_train2, y_train)#, sample_weight=weights)\n",
    "        y_xxx = knn.predict_proba(X_valid2)\n",
    "        y_xxx = calc_new_pred(y_xxx)\n",
    "\n",
    "        print(\"xxx2..\")\n",
    "        knn2.fit(X_train2, y_train)#, sample_weight=weights)\n",
    "        y_xxx2 = knn2.predict_proba(X_valid2)\n",
    "        y_xxx2 = calc_new_pred(y_xxx2)\n",
    "        \n",
    "        # ------ noscale data\n",
    "        train_df = df_train_noscale.iloc[train_idx]\n",
    "        valid_df = df_train_noscale.iloc[valid_idx]\n",
    "        X_train, y_train = train_df[train_df.columns[:-1]], train_df.Class\n",
    "        X_valid, y_valid = valid_df[valid_df.columns[:-1]], valid_df.Class\n",
    "        print(\"TabPFN..\")\n",
    "        tab.fit(X_train, y_train)\n",
    "        y_tab = tab.predict_proba(X_valid)\n",
    "        y_tab = calc_new_pred(y_tab)\n",
    "        print(\"TabPFN2..\")\n",
    "        tab2.fit(X_train, y_train)\n",
    "        y_tab2 = tab2.predict_proba(X_valid)\n",
    "        y_tab2 = calc_new_pred(y_tab2)\n",
    "        \n",
    "        lgb_loss = balanced_log_loss(y_valid, y_lgb[:, 1])\n",
    "        lgb2_loss = balanced_log_loss(y_valid, y_lgb2[:, 1])\n",
    "        \n",
    "        xgb_loss = balanced_log_loss(y_valid, y_xgb[:, 1])\n",
    "        xgb2_loss = balanced_log_loss(y_valid, y_xgb2[:, 1])\n",
    "\n",
    "        cb_loss = balanced_log_loss(y_valid, y_cb[:, 1])\n",
    "        cb2_loss = balanced_log_loss(y_valid, y_cb2[:, 1])\n",
    "        \n",
    "    \n",
    "        rf_loss = balanced_log_loss(y_valid, y_rf[:, 1])\n",
    "        nn_loss = balanced_log_loss(y_valid, y_nn[:, 1])\n",
    "\n",
    "        xxx_loss = balanced_log_loss(y_valid, y_xxx[:, 1])\n",
    "        xxx2_loss = balanced_log_loss(y_valid, y_xxx2[:, 1])\n",
    "\n",
    "        tab_loss = balanced_log_loss(y_valid, y_tab[:, 1])\n",
    "        tab2_loss = balanced_log_loss(y_valid, y_tab2[:, 1])\n",
    "\n",
    "#         pred = ((y_lgb + y_xgb + y_cb)/3 + y_rf + y_nn + y_tab)/4\n",
    "        #       b   r.   nn. k  tab\n",
    "        pred = ((y_lgb + y_lgb2 + y_xgb + y_xgb2 + y_cb + y_cb2)/6*a[0] + \n",
    "                y_rf * a[1] + \n",
    "                y_nn * a[2] +\n",
    "                (y_xxx + y_xxx2)/2*a[3] + \n",
    "                (y_tab + y_tab2)/2*a[4]\n",
    "               )/sum(a)\n",
    "        if use_new_pred:\n",
    "            pred = calc_new_pred(pred)\n",
    "\n",
    "        y_len.append(len(valid_df))\n",
    "        if len(y_preds) == 0 :\n",
    "            y_preds = np.concatenate([(y_lgb + y_lgb2 + y_xgb + y_xgb2 + y_cb + y_cb2)/6, \n",
    "                                      y_rf, y_nn, (y_tab + y_tab2)/2], axis=1)\n",
    "            y_true = y_valid.to_numpy()\n",
    "        else:\n",
    "            y_preds = np.vstack([y_preds, np.concatenate([(y_lgb + y_lgb2 + y_xgb + y_xgb2 + y_cb + y_cb2)/6, \n",
    "                                                          y_rf, y_nn, (y_tab + y_tab2)/2], axis=1)])\n",
    "            y_true = np.hstack([y_true, y_valid.to_numpy()])\n",
    "            \n",
    "        e_loss = balanced_log_loss(y_valid, pred[:, 1])\n",
    "        score += e_loss \n",
    "        print(\"lgb\", lgb_loss, \"lgb2\", lgb2_loss,\n",
    "              \"xgb\", xgb_loss, \"xgb2\", xgb2_loss, \n",
    "              \"catboost\", cb_loss, \"catboost2\", cb2_loss, \n",
    "              \"rf\", rf_loss,\n",
    "              \"nn\", nn_loss, \n",
    "              \"xxx\", xxx_loss, \"xxx2\", xxx2_loss, \n",
    "              \"TabPFN\", tab_loss,  \"TabPFN2\", tab2_loss)\n",
    "        print(\"--> ensamble\", e_loss)\n",
    "\n",
    "    print(score/5)"
   ]
  },
  {
   "cell_type": "markdown",
   "id": "8548db89",
   "metadata": {
    "papermill": {
     "duration": 0.035456,
     "end_time": "2023-06-15T23:58:34.966761",
     "exception": false,
     "start_time": "2023-06-15T23:58:34.931305",
     "status": "completed"
    },
    "tags": []
   },
   "source": [
    "```\n",
    "0.15246577482271312 -rf -knn -nn -tab (boostingのみ)\n",
    "0.16141317621791187 -rf -knn -nn (boosting + tab)\n",
    "0.14603296764550358 -rf -knn -tab (boosting + nn)\n",
    "0.15962857016383242 -rf -nn -tab (boosting + knn)\n",
    "0.19880100002949805 -rf -nn -knn -tab\n",
    "\n",
    "0.1486103472662918  a = 1, 0, 1.5, 0, 0.5\n",
    "0.14573619761609635 a = 1, 0, 1, 0, 0.5\n",
    "0.14555721433280364 a = 2, 0, 1, 0.2, 1.5\n",
    "0.1446640534808395  a = 2, 0, 1, 0, 1 \n",
    "0.14443877195214577 a = 2, 0, 1, 0.2, 1\n",
    "0.1440592210659078  a = 2, 0, 1, 0.2, 0.8 ★★Currently Best CV\n",
    "\n",
    "0.1549086996071109 -rf\n",
    "0.14709787098787236 -rf -knn\n",
    "0.15552694031836586 -rf -xgb -cb\n",
    "0.1676103909764996 -rf -lgb -cb\n",
    "\n",
    "InvalidParameterError: The 'metric' parameter of KNeighborsClassifier must be a str among {'sokalsneath', 'minkowski', 'wminkowski', 'yule', 'jaccard', 'chebyshev', 'seuclidean', 'hamming', 'cosine', 'cityblock', 'rogerstanimoto', 'kulsinski', 'dice', 'correlation', 'sqeuclidean', 'l1', 'precomputed', 'mahalanobis', 'sokalmichener', 'p', 'haversine', 'euclidean', 'nan_euclidean', 'pyfunc', 'manhattan', 'infinity', 'matching', 'russellrao', 'l2', 'braycurtis', 'canberra'} or a callable. Got 'xxx' instead.\n",
    "```"
   ]
  },
  {
   "cell_type": "code",
   "execution_count": 54,
   "id": "d98486e7",
   "metadata": {
    "execution": {
     "iopub.execute_input": "2023-06-15T23:58:35.040181Z",
     "iopub.status.busy": "2023-06-15T23:58:35.038727Z",
     "iopub.status.idle": "2023-06-15T23:58:35.044945Z",
     "shell.execute_reply": "2023-06-15T23:58:35.044103Z"
    },
    "papermill": {
     "duration": 0.044693,
     "end_time": "2023-06-15T23:58:35.046950",
     "exception": false,
     "start_time": "2023-06-15T23:58:35.002257",
     "status": "completed"
    },
    "tags": []
   },
   "outputs": [],
   "source": [
    "# print(\"lgbm2..\")\n",
    "\n",
    "\n",
    "\n",
    "# def obj_lgbm(trial):\n",
    "#     params = {\n",
    "#         'boosting_type':'gbdt',\n",
    "#         'class_weight':'balanced',\n",
    "#         'n_estimators': trial.suggest_int('n_estimators', 100, 1000, step=10),\n",
    "#         'reg_alpha': trial.suggest_float('reg_alpha', 0, 100, step=0.1),\n",
    "#         'reg_lambda': trial.suggest_float('reg_lambda', 0, 100, step=0.1),\n",
    "#         'num_leaves': trial.suggest_int('num_leaves', 2, 64, step=1),\n",
    "#         'min_child_samples': trial.suggest_int('min_child_samples', 8, 64, step=1),\n",
    "#         'colsample_bytree': trial.suggest_float('colsample_bytree', 0.5, 1.0, step=0.1),\n",
    "#         'subsample': trial.suggest_float('subsample', 0.5, 1.0, step=0.1),\n",
    "#         'subsample_freq': trial.suggest_int('subsample_freq', 0, 3, step=1),\n",
    "#     }\n",
    "    \n",
    "#     lgb2 = LGBMClassifier(**params)\n",
    "#     lgb2.fit(X_train2, y_train, sample_weight=weights)\n",
    "#     y_lgb2 = lgb2.predict_proba(X_valid2)\n",
    "#     lgb2_loss = balanced_log_loss(y_valid, y_lgb2[:, 1])\n",
    "#     return lgb2_loss\n",
    "        \n",
    "\n",
    "# study = optuna.create_study(sampler=optuna.samplers.TPESampler(seed=42))#direction='minimize')\n",
    "# study.enqueue_trial(lgbm_params2)\n",
    "# study.optimize(obj_lgbm, n_trials=100)\n",
    "\n",
    "# lgbm_params2 = dict(study.best_trial.params.items())\n",
    "# lgbm_params2"
   ]
  },
  {
   "cell_type": "code",
   "execution_count": 55,
   "id": "d2cde9c9",
   "metadata": {
    "execution": {
     "iopub.execute_input": "2023-06-15T23:58:35.119418Z",
     "iopub.status.busy": "2023-06-15T23:58:35.119150Z",
     "iopub.status.idle": "2023-06-15T23:58:35.124948Z",
     "shell.execute_reply": "2023-06-15T23:58:35.124105Z"
    },
    "papermill": {
     "duration": 0.044308,
     "end_time": "2023-06-15T23:58:35.127078",
     "exception": false,
     "start_time": "2023-06-15T23:58:35.082770",
     "status": "completed"
    },
    "tags": []
   },
   "outputs": [
    {
     "data": {
      "text/plain": [
       "[124, 124, 123, 123, 123]"
      ]
     },
     "execution_count": 55,
     "metadata": {},
     "output_type": "execute_result"
    }
   ],
   "source": [
    "y_len"
   ]
  },
  {
   "cell_type": "markdown",
   "id": "9c898966",
   "metadata": {
    "papermill": {
     "duration": 0.035491,
     "end_time": "2023-06-15T23:58:35.197866",
     "exception": false,
     "start_time": "2023-06-15T23:58:35.162375",
     "status": "completed"
    },
    "tags": []
   },
   "source": [
    "### スタッキング（２段目）\n",
    "\n",
    "2段目は、各FOLDのvalidデータを用いて学習させる。こうしないとリークする可能性がありそうなので。"
   ]
  },
  {
   "cell_type": "code",
   "execution_count": 56,
   "id": "ee697f1c",
   "metadata": {
    "execution": {
     "iopub.execute_input": "2023-06-15T23:58:35.269760Z",
     "iopub.status.busy": "2023-06-15T23:58:35.269421Z",
     "iopub.status.idle": "2023-06-15T23:58:35.748249Z",
     "shell.execute_reply": "2023-06-15T23:58:35.746998Z"
    },
    "papermill": {
     "duration": 0.517174,
     "end_time": "2023-06-15T23:58:35.750291",
     "exception": false,
     "start_time": "2023-06-15T23:58:35.233117",
     "status": "completed"
    },
    "tags": []
   },
   "outputs": [
    {
     "name": "stdout",
     "output_type": "stream",
     "text": [
      "fold0 = 0.19574538152555954\n",
      "fold1 = 0.23715074014662665\n",
      "fold2 = 0.28245741036016\n",
      "fold3 = 0.26203804868813546\n",
      "fold4 = 0.15466931398749292\n",
      "5fold average =  0.22641217894159488\n"
     ]
    }
   ],
   "source": [
    "if check_CV:\n",
    "    lgbm_params_2 = {'n_estimators': 590,\n",
    "     'reg_alpha': 3.3000000000000003,\n",
    "     'reg_lambda': 36.4,\n",
    "     'num_leaves': 25,\n",
    "     'min_child_samples': 40,\n",
    "     'colsample_bytree': 0.7,\n",
    "     'subsample': 0.9,\n",
    "     'subsample_freq': 1}\n",
    "\n",
    "    lgb_2 = LGBMClassifier(boosting_type='gbdt', class_weight='balanced', **lgbm_params_2)\n",
    "\n",
    "    \n",
    "    score = 0\n",
    "    start = 0\n",
    "    for idx, size in enumerate(y_len):\n",
    "        valid_idx = [False for _ in range(len(y_preds))]\n",
    "        for i in range(start, start+size):\n",
    "            valid_idx[i] = True\n",
    "        train_idx = list(map(lambda x: not x, valid_idx))\n",
    "        X_train, y_train = y_preds[train_idx], y_true[train_idx]\n",
    "        X_valid, y_valid = y_preds[valid_idx], y_true[valid_idx]\n",
    "        lgb_2.fit(X_train, y_train)\n",
    "        pred2 = lgb_2.predict_proba(X_valid)\n",
    "        s = balanced_log_loss(y_valid, pred2[:, 1])\n",
    "        print(f\"fold{idx} = {s}\")\n",
    "        start += size\n",
    "        score += s\n",
    "    \n",
    "    print(\"5fold average = \", score/5)\n",
    "    \n",
    "    \n"
   ]
  },
  {
   "cell_type": "code",
   "execution_count": 57,
   "id": "06b98c10",
   "metadata": {
    "execution": {
     "iopub.execute_input": "2023-06-15T23:58:35.824961Z",
     "iopub.status.busy": "2023-06-15T23:58:35.823434Z",
     "iopub.status.idle": "2023-06-15T23:58:35.949177Z",
     "shell.execute_reply": "2023-06-15T23:58:35.948109Z"
    },
    "papermill": {
     "duration": 0.164913,
     "end_time": "2023-06-15T23:58:35.951387",
     "exception": false,
     "start_time": "2023-06-15T23:58:35.786474",
     "status": "completed"
    },
    "tags": []
   },
   "outputs": [
    {
     "name": "stdout",
     "output_type": "stream",
     "text": [
      "0.10614235586654047\n"
     ]
    }
   ],
   "source": [
    "lgb_2.fit(y_preds, y_true)\n",
    "pred2 = lgb_2.predict_proba(y_preds)\n",
    "print(balanced_log_loss(y_true, pred2[:, 1]))"
   ]
  },
  {
   "cell_type": "markdown",
   "id": "f97428cf",
   "metadata": {
    "papermill": {
     "duration": 0.035761,
     "end_time": "2023-06-15T23:58:36.023097",
     "exception": false,
     "start_time": "2023-06-15T23:58:35.987336",
     "status": "completed"
    },
    "tags": []
   },
   "source": [
    "## fit models(final parameter)\n",
    "\n",
    "なぜか、5foldで作成したモデルだと性能が下がる傾向があった。testデータにtrainデータが**リークしている可能性**がありそうな気もするが、とりあえず、各予測器をパラメータを決めたあと、train全体で作成しなおし。"
   ]
  },
  {
   "cell_type": "code",
   "execution_count": 58,
   "id": "48136615",
   "metadata": {
    "execution": {
     "iopub.execute_input": "2023-06-15T23:58:36.096397Z",
     "iopub.status.busy": "2023-06-15T23:58:36.096092Z",
     "iopub.status.idle": "2023-06-15T23:58:36.101389Z",
     "shell.execute_reply": "2023-06-15T23:58:36.100381Z"
    },
    "papermill": {
     "duration": 0.044886,
     "end_time": "2023-06-15T23:58:36.103718",
     "exception": false,
     "start_time": "2023-06-15T23:58:36.058832",
     "status": "completed"
    },
    "tags": []
   },
   "outputs": [],
   "source": [
    "X = df_train[df_train.columns[:-1]]\n",
    "y = df_train.Class"
   ]
  },
  {
   "cell_type": "code",
   "execution_count": 59,
   "id": "6029845b",
   "metadata": {
    "execution": {
     "iopub.execute_input": "2023-06-15T23:58:36.177171Z",
     "iopub.status.busy": "2023-06-15T23:58:36.176415Z",
     "iopub.status.idle": "2023-06-15T23:58:36.539093Z",
     "shell.execute_reply": "2023-06-15T23:58:36.538126Z"
    },
    "papermill": {
     "duration": 0.40134,
     "end_time": "2023-06-15T23:58:36.541101",
     "exception": false,
     "start_time": "2023-06-15T23:58:36.139761",
     "status": "completed"
    },
    "tags": []
   },
   "outputs": [
    {
     "data": {
      "text/plain": [
       "0.042406137550189245"
      ]
     },
     "execution_count": 59,
     "metadata": {},
     "output_type": "execute_result"
    }
   ],
   "source": [
    "lgb.fit(X, y, sample_weight=classes_weights)\n",
    "y_lgb = lgb.predict_proba(X)\n",
    "balanced_log_loss(y, y_lgb[:, 1])"
   ]
  },
  {
   "cell_type": "code",
   "execution_count": 60,
   "id": "2e9a5701",
   "metadata": {
    "execution": {
     "iopub.execute_input": "2023-06-15T23:58:36.617002Z",
     "iopub.status.busy": "2023-06-15T23:58:36.615504Z",
     "iopub.status.idle": "2023-06-15T23:58:36.976100Z",
     "shell.execute_reply": "2023-06-15T23:58:36.975125Z"
    },
    "papermill": {
     "duration": 0.399553,
     "end_time": "2023-06-15T23:58:36.978155",
     "exception": false,
     "start_time": "2023-06-15T23:58:36.578602",
     "status": "completed"
    },
    "tags": []
   },
   "outputs": [
    {
     "data": {
      "text/plain": [
       "0.042406137550189245"
      ]
     },
     "execution_count": 60,
     "metadata": {},
     "output_type": "execute_result"
    }
   ],
   "source": [
    "lgb2.fit(X, y, sample_weight=classes_weights)\n",
    "y_lgb2 = lgb2.predict_proba(X)\n",
    "balanced_log_loss(y, y_lgb2[:, 1])"
   ]
  },
  {
   "cell_type": "code",
   "execution_count": 61,
   "id": "63c1a34b",
   "metadata": {
    "execution": {
     "iopub.execute_input": "2023-06-15T23:58:37.053819Z",
     "iopub.status.busy": "2023-06-15T23:58:37.052281Z",
     "iopub.status.idle": "2023-06-15T23:58:38.336930Z",
     "shell.execute_reply": "2023-06-15T23:58:38.336010Z"
    },
    "papermill": {
     "duration": 1.323867,
     "end_time": "2023-06-15T23:58:38.339031",
     "exception": false,
     "start_time": "2023-06-15T23:58:37.015164",
     "status": "completed"
    },
    "tags": []
   },
   "outputs": [
    {
     "data": {
      "text/plain": [
       "0.018894730616752193"
      ]
     },
     "execution_count": 61,
     "metadata": {},
     "output_type": "execute_result"
    }
   ],
   "source": [
    "xgb.fit(X, y, sample_weight=classes_weights)\n",
    "y_xgb = xgb.predict_proba(X)\n",
    "balanced_log_loss(y, y_xgb[:, 1])"
   ]
  },
  {
   "cell_type": "code",
   "execution_count": 62,
   "id": "203b3c38",
   "metadata": {
    "execution": {
     "iopub.execute_input": "2023-06-15T23:58:38.413467Z",
     "iopub.status.busy": "2023-06-15T23:58:38.413178Z",
     "iopub.status.idle": "2023-06-15T23:58:39.356805Z",
     "shell.execute_reply": "2023-06-15T23:58:39.355879Z"
    },
    "papermill": {
     "duration": 0.983273,
     "end_time": "2023-06-15T23:58:39.359404",
     "exception": false,
     "start_time": "2023-06-15T23:58:38.376131",
     "status": "completed"
    },
    "tags": []
   },
   "outputs": [
    {
     "data": {
      "text/plain": [
       "0.03310065633546429"
      ]
     },
     "execution_count": 62,
     "metadata": {},
     "output_type": "execute_result"
    }
   ],
   "source": [
    "xgb2.fit(X, y, sample_weight=classes_weights)\n",
    "y_xgb2 = xgb2.predict_proba(X)\n",
    "balanced_log_loss(y, y_xgb2[:, 1])"
   ]
  },
  {
   "cell_type": "code",
   "execution_count": 63,
   "id": "12dcbd3c",
   "metadata": {
    "execution": {
     "iopub.execute_input": "2023-06-15T23:58:39.470835Z",
     "iopub.status.busy": "2023-06-15T23:58:39.470374Z",
     "iopub.status.idle": "2023-06-15T23:58:41.144686Z",
     "shell.execute_reply": "2023-06-15T23:58:41.143783Z"
    },
    "papermill": {
     "duration": 1.732724,
     "end_time": "2023-06-15T23:58:41.146941",
     "exception": false,
     "start_time": "2023-06-15T23:58:39.414217",
     "status": "completed"
    },
    "tags": []
   },
   "outputs": [
    {
     "data": {
      "text/plain": [
       "0.027458708588288912"
      ]
     },
     "execution_count": 63,
     "metadata": {},
     "output_type": "execute_result"
    }
   ],
   "source": [
    "cb.fit(X, y, logging_level=\"Silent\", sample_weight=classes_weights)\n",
    "y_cb = cb.predict_proba(X)\n",
    "balanced_log_loss(y, y_cb[:, 1])"
   ]
  },
  {
   "cell_type": "code",
   "execution_count": 64,
   "id": "6a526e7a",
   "metadata": {
    "execution": {
     "iopub.execute_input": "2023-06-15T23:58:41.247120Z",
     "iopub.status.busy": "2023-06-15T23:58:41.246757Z",
     "iopub.status.idle": "2023-06-15T23:58:42.268975Z",
     "shell.execute_reply": "2023-06-15T23:58:42.268214Z"
    },
    "papermill": {
     "duration": 1.074875,
     "end_time": "2023-06-15T23:58:42.271428",
     "exception": false,
     "start_time": "2023-06-15T23:58:41.196553",
     "status": "completed"
    },
    "tags": []
   },
   "outputs": [
    {
     "data": {
      "text/plain": [
       "0.06533758967978576"
      ]
     },
     "execution_count": 64,
     "metadata": {},
     "output_type": "execute_result"
    }
   ],
   "source": [
    "cb2.fit(X, y, logging_level=\"Silent\", sample_weight=classes_weights)\n",
    "y_cb2 = cb2.predict_proba(X)\n",
    "balanced_log_loss(y, y_cb2[:, 1])"
   ]
  },
  {
   "cell_type": "code",
   "execution_count": 65,
   "id": "49aa989b",
   "metadata": {
    "execution": {
     "iopub.execute_input": "2023-06-15T23:58:42.371103Z",
     "iopub.status.busy": "2023-06-15T23:58:42.370757Z",
     "iopub.status.idle": "2023-06-15T23:58:42.909211Z",
     "shell.execute_reply": "2023-06-15T23:58:42.908325Z"
    },
    "papermill": {
     "duration": 0.590191,
     "end_time": "2023-06-15T23:58:42.911500",
     "exception": false,
     "start_time": "2023-06-15T23:58:42.321309",
     "status": "completed"
    },
    "tags": []
   },
   "outputs": [
    {
     "data": {
      "text/plain": [
       "0.20258686741779217"
      ]
     },
     "execution_count": 65,
     "metadata": {},
     "output_type": "execute_result"
    }
   ],
   "source": [
    "rf.fit(X, y, sample_weight=classes_weights)\n",
    "y_rf = rf.predict_proba(X)\n",
    "balanced_log_loss(y, y_rf[:, 1])"
   ]
  },
  {
   "cell_type": "code",
   "execution_count": null,
   "id": "3613e222",
   "metadata": {
    "papermill": {
     "duration": 0.048246,
     "end_time": "2023-06-15T23:58:43.009562",
     "exception": false,
     "start_time": "2023-06-15T23:58:42.961316",
     "status": "completed"
    },
    "tags": []
   },
   "outputs": [],
   "source": []
  },
  {
   "cell_type": "code",
   "execution_count": 66,
   "id": "0579182c",
   "metadata": {
    "execution": {
     "iopub.execute_input": "2023-06-15T23:58:43.108135Z",
     "iopub.status.busy": "2023-06-15T23:58:43.107773Z",
     "iopub.status.idle": "2023-06-15T23:58:43.119629Z",
     "shell.execute_reply": "2023-06-15T23:58:43.118844Z"
    },
    "papermill": {
     "duration": 0.063712,
     "end_time": "2023-06-15T23:58:43.121951",
     "exception": false,
     "start_time": "2023-06-15T23:58:43.058239",
     "status": "completed"
    },
    "tags": []
   },
   "outputs": [
    {
     "data": {
      "text/plain": [
       "0.03801902861311375"
      ]
     },
     "execution_count": 66,
     "metadata": {},
     "output_type": "execute_result"
    }
   ],
   "source": [
    "XX = torch.Tensor(X[X.columns[:-1]].to_numpy()).to(device)\n",
    "y_nn, features = nn_predict_proba(XX, nn_single_model)\n",
    "features = features.detach().cpu().numpy()\n",
    "balanced_log_loss(y, y_nn[:, 1])"
   ]
  },
  {
   "cell_type": "code",
   "execution_count": 67,
   "id": "9c0f980f",
   "metadata": {
    "execution": {
     "iopub.execute_input": "2023-06-15T23:58:43.221049Z",
     "iopub.status.busy": "2023-06-15T23:58:43.220753Z",
     "iopub.status.idle": "2023-06-15T23:58:43.244815Z",
     "shell.execute_reply": "2023-06-15T23:58:43.244020Z"
    },
    "papermill": {
     "duration": 0.076679,
     "end_time": "2023-06-15T23:58:43.247684",
     "exception": false,
     "start_time": "2023-06-15T23:58:43.171005",
     "status": "completed"
    },
    "tags": []
   },
   "outputs": [
    {
     "data": {
      "text/plain": [
       "0.05336093874743965"
      ]
     },
     "execution_count": 67,
     "metadata": {},
     "output_type": "execute_result"
    }
   ],
   "source": [
    "knn.fit(features, y)#, sample_weight=weights)\n",
    "y_xxx = knn.predict_proba(features)\n",
    "y_xxx = calc_new_pred(y_xxx)\n",
    "balanced_log_loss(y, y_xxx[:, 1])"
   ]
  },
  {
   "cell_type": "code",
   "execution_count": 68,
   "id": "eadd7550",
   "metadata": {
    "execution": {
     "iopub.execute_input": "2023-06-15T23:58:43.382370Z",
     "iopub.status.busy": "2023-06-15T23:58:43.382054Z",
     "iopub.status.idle": "2023-06-15T23:58:43.414891Z",
     "shell.execute_reply": "2023-06-15T23:58:43.413830Z"
    },
    "papermill": {
     "duration": 0.0918,
     "end_time": "2023-06-15T23:58:43.418051",
     "exception": false,
     "start_time": "2023-06-15T23:58:43.326251",
     "status": "completed"
    },
    "tags": []
   },
   "outputs": [
    {
     "data": {
      "text/plain": [
       "0.09615559253585125"
      ]
     },
     "execution_count": 68,
     "metadata": {},
     "output_type": "execute_result"
    }
   ],
   "source": [
    "knn2.fit(features, y)#, sample_weight=weights)\n",
    "y_xxx2 = knn2.predict_proba(features)\n",
    "y_xxx2 = calc_new_pred(y_xxx2)\n",
    "balanced_log_loss(y, y_xxx2[:, 1])"
   ]
  },
  {
   "cell_type": "code",
   "execution_count": null,
   "id": "fd45cebd",
   "metadata": {
    "papermill": {
     "duration": 0.048002,
     "end_time": "2023-06-15T23:58:43.548263",
     "exception": false,
     "start_time": "2023-06-15T23:58:43.500261",
     "status": "completed"
    },
    "tags": []
   },
   "outputs": [],
   "source": []
  },
  {
   "cell_type": "code",
   "execution_count": 69,
   "id": "9b8170d9",
   "metadata": {
    "execution": {
     "iopub.execute_input": "2023-06-15T23:58:43.624404Z",
     "iopub.status.busy": "2023-06-15T23:58:43.624116Z",
     "iopub.status.idle": "2023-06-15T23:58:43.629635Z",
     "shell.execute_reply": "2023-06-15T23:58:43.628696Z"
    },
    "papermill": {
     "duration": 0.045772,
     "end_time": "2023-06-15T23:58:43.631639",
     "exception": false,
     "start_time": "2023-06-15T23:58:43.585867",
     "status": "completed"
    },
    "tags": []
   },
   "outputs": [],
   "source": [
    "# tabpfnには正則化する前のデータを入力する\n",
    "X = df_train_noscale[df_train.columns[:-1]]\n",
    "y = df_train_noscale.Class"
   ]
  },
  {
   "cell_type": "code",
   "execution_count": 70,
   "id": "169de9f6",
   "metadata": {
    "execution": {
     "iopub.execute_input": "2023-06-15T23:58:43.708155Z",
     "iopub.status.busy": "2023-06-15T23:58:43.707863Z",
     "iopub.status.idle": "2023-06-15T23:58:44.959848Z",
     "shell.execute_reply": "2023-06-15T23:58:44.958954Z"
    },
    "papermill": {
     "duration": 1.292281,
     "end_time": "2023-06-15T23:58:44.961942",
     "exception": false,
     "start_time": "2023-06-15T23:58:43.669661",
     "status": "completed"
    },
    "tags": []
   },
   "outputs": [
    {
     "data": {
      "text/plain": [
       "0.019585326582914436"
      ]
     },
     "execution_count": 70,
     "metadata": {},
     "output_type": "execute_result"
    }
   ],
   "source": [
    "tab.fit(X, y)\n",
    "y_tab = tab.predict_proba(X)\n",
    "y_tab = calc_new_pred(y_tab) # <- ここに入れるのは良いかも\n",
    "balanced_log_loss(y, y_tab[:, 1])"
   ]
  },
  {
   "cell_type": "code",
   "execution_count": 71,
   "id": "5a954b18",
   "metadata": {
    "execution": {
     "iopub.execute_input": "2023-06-15T23:58:45.039811Z",
     "iopub.status.busy": "2023-06-15T23:58:45.039001Z",
     "iopub.status.idle": "2023-06-15T23:58:45.830891Z",
     "shell.execute_reply": "2023-06-15T23:58:45.829875Z"
    },
    "papermill": {
     "duration": 0.832306,
     "end_time": "2023-06-15T23:58:45.832938",
     "exception": false,
     "start_time": "2023-06-15T23:58:45.000632",
     "status": "completed"
    },
    "tags": []
   },
   "outputs": [
    {
     "data": {
      "text/plain": [
       "0.019766766325445852"
      ]
     },
     "execution_count": 71,
     "metadata": {},
     "output_type": "execute_result"
    }
   ],
   "source": [
    "tab2.fit(X, y)\n",
    "y_tab2 = tab2.predict_proba(X)\n",
    "y_tab2 = calc_new_pred(y_tab2) # <- ここに入れるのは良いかも\n",
    "balanced_log_loss(y, y_tab2[:, 1])"
   ]
  },
  {
   "cell_type": "code",
   "execution_count": 72,
   "id": "c6f1d72d",
   "metadata": {
    "execution": {
     "iopub.execute_input": "2023-06-15T23:58:45.910974Z",
     "iopub.status.busy": "2023-06-15T23:58:45.910207Z",
     "iopub.status.idle": "2023-06-15T23:58:45.918893Z",
     "shell.execute_reply": "2023-06-15T23:58:45.917946Z"
    },
    "papermill": {
     "duration": 0.049204,
     "end_time": "2023-06-15T23:58:45.920789",
     "exception": false,
     "start_time": "2023-06-15T23:58:45.871585",
     "status": "completed"
    },
    "tags": []
   },
   "outputs": [
    {
     "data": {
      "text/plain": [
       "0.030950381492427115"
      ]
     },
     "execution_count": 72,
     "metadata": {},
     "output_type": "execute_result"
    }
   ],
   "source": [
    "pred = (\n",
    "    (y_lgb + y_xgb + y_cb + y_lgb2 + y_xgb2 + y_cb2)/6*a[0] +\n",
    "    y_rf * a[1] +\n",
    "    y_nn * a[2] +\n",
    "    (y_xxx + y_xxx2)/2 * a[3] + \n",
    "    (y_tab + y_tab2)/2 * a[4])/sum(a)\n",
    "balanced_log_loss(y,pred[:, 1])"
   ]
  },
  {
   "cell_type": "code",
   "execution_count": 73,
   "id": "40fa1473",
   "metadata": {
    "execution": {
     "iopub.execute_input": "2023-06-15T23:58:45.997666Z",
     "iopub.status.busy": "2023-06-15T23:58:45.997367Z",
     "iopub.status.idle": "2023-06-15T23:58:46.004616Z",
     "shell.execute_reply": "2023-06-15T23:58:46.003714Z"
    },
    "papermill": {
     "duration": 0.047631,
     "end_time": "2023-06-15T23:58:46.006568",
     "exception": false,
     "start_time": "2023-06-15T23:58:45.958937",
     "status": "completed"
    },
    "tags": []
   },
   "outputs": [
    {
     "data": {
      "text/plain": [
       "0.036419858702970986"
      ]
     },
     "execution_count": 73,
     "metadata": {},
     "output_type": "execute_result"
    }
   ],
   "source": [
    "pred = calc_new_pred(pred)\n",
    "balanced_log_loss(y, pred[:, 1])"
   ]
  },
  {
   "cell_type": "code",
   "execution_count": 74,
   "id": "9074661b",
   "metadata": {
    "execution": {
     "iopub.execute_input": "2023-06-15T23:58:46.083481Z",
     "iopub.status.busy": "2023-06-15T23:58:46.082958Z",
     "iopub.status.idle": "2023-06-15T23:58:46.101416Z",
     "shell.execute_reply": "2023-06-15T23:58:46.100507Z"
    },
    "papermill": {
     "duration": 0.058837,
     "end_time": "2023-06-15T23:58:46.103361",
     "exception": false,
     "start_time": "2023-06-15T23:58:46.044524",
     "status": "completed"
    },
    "tags": []
   },
   "outputs": [
    {
     "data": {
      "text/plain": [
       "0.022638990136101267"
      ]
     },
     "execution_count": 74,
     "metadata": {},
     "output_type": "execute_result"
    }
   ],
   "source": [
    "y_preds = np.concatenate([(y_lgb + y_xgb + y_cb + y_lgb2 + y_xgb2 + y_cb2)/6, y_rf, y_nn,  (y_tab + y_tab2)/2], axis=1)\n",
    "pred2 = lgb_2.predict_proba(y_preds)\n",
    "balanced_log_loss(y, pred2[:, 1])"
   ]
  },
  {
   "cell_type": "code",
   "execution_count": 75,
   "id": "e65e9e1c",
   "metadata": {
    "execution": {
     "iopub.execute_input": "2023-06-15T23:58:46.180529Z",
     "iopub.status.busy": "2023-06-15T23:58:46.179802Z",
     "iopub.status.idle": "2023-06-15T23:58:46.186749Z",
     "shell.execute_reply": "2023-06-15T23:58:46.185729Z"
    },
    "papermill": {
     "duration": 0.047677,
     "end_time": "2023-06-15T23:58:46.188855",
     "exception": false,
     "start_time": "2023-06-15T23:58:46.141178",
     "status": "completed"
    },
    "tags": []
   },
   "outputs": [
    {
     "data": {
      "text/plain": [
       "0.018330583999860865"
      ]
     },
     "execution_count": 75,
     "metadata": {},
     "output_type": "execute_result"
    }
   ],
   "source": [
    "pred2 = calc_new_pred(pred2)\n",
    "balanced_log_loss(y, pred2[:, 1])"
   ]
  },
  {
   "cell_type": "markdown",
   "id": "a7eea4c1",
   "metadata": {
    "papermill": {
     "duration": 0.037968,
     "end_time": "2023-06-15T23:58:46.265779",
     "exception": false,
     "start_time": "2023-06-15T23:58:46.227811",
     "status": "completed"
    },
    "tags": []
   },
   "source": [
    "# infer"
   ]
  },
  {
   "cell_type": "code",
   "execution_count": 76,
   "id": "f8f0f0d7",
   "metadata": {
    "execution": {
     "iopub.execute_input": "2023-06-15T23:58:46.343404Z",
     "iopub.status.busy": "2023-06-15T23:58:46.343121Z",
     "iopub.status.idle": "2023-06-15T23:58:47.888635Z",
     "shell.execute_reply": "2023-06-15T23:58:47.887700Z"
    },
    "papermill": {
     "duration": 1.586649,
     "end_time": "2023-06-15T23:58:47.890884",
     "exception": false,
     "start_time": "2023-06-15T23:58:46.304235",
     "status": "completed"
    },
    "tags": []
   },
   "outputs": [
    {
     "data": {
      "text/plain": [
       "array([[0.5, 0.5],\n",
       "       [0.5, 0.5],\n",
       "       [0.5, 0.5],\n",
       "       [0.5, 0.5],\n",
       "       [0.5, 0.5]])"
      ]
     },
     "execution_count": 76,
     "metadata": {},
     "output_type": "execute_result"
    }
   ],
   "source": [
    "pred_lgb = lgb.predict_proba(df_test)\n",
    "pred_xgb = xgb.predict_proba(df_test)\n",
    "pred_cb = cb.predict_proba(df_test)\n",
    "\n",
    "pred_lgb2 = lgb2.predict_proba(df_test)\n",
    "pred_xgb2 = xgb2.predict_proba(df_test)\n",
    "pred_cb2 = cb2.predict_proba(df_test)\n",
    "\n",
    "pred_rf = rf.predict_proba(df_test)\n",
    "\n",
    "XX = torch.Tensor(df_test[df_test.columns[:-1]].to_numpy()).to(device)\n",
    "pred_nn, pred_features = nn_predict_proba(XX, nn_single_model)\n",
    "pred_features = pred_features.detach().cpu().numpy()\n",
    "\n",
    "pred_xxx = knn.predict_proba(pred_features)\n",
    "pred_xxx = calc_new_pred(pred_xxx)\n",
    "pred_xxx2 = knn2.predict_proba(pred_features)\n",
    "pred_xxx2 = calc_new_pred(pred_xxx2)\n",
    "\n",
    "pred_tab = tab.predict_proba(df_test_noscale)\n",
    "pred_tab = calc_new_pred(pred_tab)\n",
    "pred_tab2 = tab2.predict_proba(df_test_noscale)\n",
    "pred_tab2 = calc_new_pred(pred_tab2)\n",
    "\n",
    "pred_lgb = (pred_lgb + pred_lgb2)/2\n",
    "pred_xgb = (pred_xgb + pred_xgb2)/2\n",
    "pred_cb = (pred_cb + pred_cb2)/2\n",
    "pred_tab = (pred_tab + pred_tab2)/2\n",
    "\n",
    "pred = (\n",
    "    (pred_lgb + pred_xgb + pred_cb + pred_lgb2 + pred_xgb2 + pred_cb2)/6 * a[0] + \n",
    "    pred_rf * a[1] + \n",
    "    pred_nn * a[2] + \n",
    "    (pred_xxx+pred_xxx)/2 * a[3] + \n",
    "    (pred_tab+pred_tab2)/2 * a[4] ) /sum(a)\n",
    "# preds = np.concatenate([(pred_lgb + pred_xgb + pred_cb)/3, pred_rf, pred_nn, pred_tab], axis=1)\n",
    "# pred = lgb_2.predict_proba(preds)\n",
    "\n",
    "if use_new_pred:\n",
    "    pred = calc_new_pred(pred)\n",
    "\n",
    "pred"
   ]
  },
  {
   "cell_type": "code",
   "execution_count": 77,
   "id": "c986abf9",
   "metadata": {
    "execution": {
     "iopub.execute_input": "2023-06-15T23:58:47.972258Z",
     "iopub.status.busy": "2023-06-15T23:58:47.971456Z",
     "iopub.status.idle": "2023-06-15T23:58:47.983299Z",
     "shell.execute_reply": "2023-06-15T23:58:47.982434Z"
    },
    "papermill": {
     "duration": 0.053422,
     "end_time": "2023-06-15T23:58:47.985303",
     "exception": false,
     "start_time": "2023-06-15T23:58:47.931881",
     "status": "completed"
    },
    "tags": []
   },
   "outputs": [],
   "source": [
    "submission = pd.read_csv('../input/icr-identify-age-related-conditions/sample_submission.csv')\n",
    "submission['class_0'] = pred[:,0]\n",
    "submission['class_1'] = pred[:,1]"
   ]
  },
  {
   "cell_type": "code",
   "execution_count": 78,
   "id": "f6cdb34f",
   "metadata": {
    "execution": {
     "iopub.execute_input": "2023-06-15T23:58:48.064143Z",
     "iopub.status.busy": "2023-06-15T23:58:48.063302Z",
     "iopub.status.idle": "2023-06-15T23:58:48.076644Z",
     "shell.execute_reply": "2023-06-15T23:58:48.075548Z"
    },
    "papermill": {
     "duration": 0.05492,
     "end_time": "2023-06-15T23:58:48.078792",
     "exception": false,
     "start_time": "2023-06-15T23:58:48.023872",
     "status": "completed"
    },
    "tags": []
   },
   "outputs": [
    {
     "data": {
      "text/html": [
       "<div>\n",
       "<style scoped>\n",
       "    .dataframe tbody tr th:only-of-type {\n",
       "        vertical-align: middle;\n",
       "    }\n",
       "\n",
       "    .dataframe tbody tr th {\n",
       "        vertical-align: top;\n",
       "    }\n",
       "\n",
       "    .dataframe thead th {\n",
       "        text-align: right;\n",
       "    }\n",
       "</style>\n",
       "<table border=\"1\" class=\"dataframe\">\n",
       "  <thead>\n",
       "    <tr style=\"text-align: right;\">\n",
       "      <th></th>\n",
       "      <th>Id</th>\n",
       "      <th>class_0</th>\n",
       "      <th>class_1</th>\n",
       "    </tr>\n",
       "  </thead>\n",
       "  <tbody>\n",
       "    <tr>\n",
       "      <th>0</th>\n",
       "      <td>00eed32682bb</td>\n",
       "      <td>0.5</td>\n",
       "      <td>0.5</td>\n",
       "    </tr>\n",
       "    <tr>\n",
       "      <th>1</th>\n",
       "      <td>010ebe33f668</td>\n",
       "      <td>0.5</td>\n",
       "      <td>0.5</td>\n",
       "    </tr>\n",
       "    <tr>\n",
       "      <th>2</th>\n",
       "      <td>02fa521e1838</td>\n",
       "      <td>0.5</td>\n",
       "      <td>0.5</td>\n",
       "    </tr>\n",
       "    <tr>\n",
       "      <th>3</th>\n",
       "      <td>040e15f562a2</td>\n",
       "      <td>0.5</td>\n",
       "      <td>0.5</td>\n",
       "    </tr>\n",
       "    <tr>\n",
       "      <th>4</th>\n",
       "      <td>046e85c7cc7f</td>\n",
       "      <td>0.5</td>\n",
       "      <td>0.5</td>\n",
       "    </tr>\n",
       "  </tbody>\n",
       "</table>\n",
       "</div>"
      ],
      "text/plain": [
       "             Id  class_0  class_1\n",
       "0  00eed32682bb      0.5      0.5\n",
       "1  010ebe33f668      0.5      0.5\n",
       "2  02fa521e1838      0.5      0.5\n",
       "3  040e15f562a2      0.5      0.5\n",
       "4  046e85c7cc7f      0.5      0.5"
      ]
     },
     "execution_count": 78,
     "metadata": {},
     "output_type": "execute_result"
    }
   ],
   "source": [
    "submission.to_csv('submission.csv', index=False)\n",
    "submission"
   ]
  },
  {
   "cell_type": "code",
   "execution_count": null,
   "id": "b74de802",
   "metadata": {
    "papermill": {
     "duration": 0.038419,
     "end_time": "2023-06-15T23:58:48.156110",
     "exception": false,
     "start_time": "2023-06-15T23:58:48.117691",
     "status": "completed"
    },
    "tags": []
   },
   "outputs": [],
   "source": []
  },
  {
   "cell_type": "code",
   "execution_count": null,
   "id": "cf1c5446",
   "metadata": {
    "papermill": {
     "duration": 0.03875,
     "end_time": "2023-06-15T23:58:48.233497",
     "exception": false,
     "start_time": "2023-06-15T23:58:48.194747",
     "status": "completed"
    },
    "tags": []
   },
   "outputs": [],
   "source": []
  },
  {
   "cell_type": "code",
   "execution_count": null,
   "id": "c52fa815",
   "metadata": {
    "papermill": {
     "duration": 0.038522,
     "end_time": "2023-06-15T23:58:48.311179",
     "exception": false,
     "start_time": "2023-06-15T23:58:48.272657",
     "status": "completed"
    },
    "tags": []
   },
   "outputs": [],
   "source": []
  }
 ],
 "metadata": {
  "kernelspec": {
   "display_name": "Python 3",
   "language": "python",
   "name": "python3"
  },
  "language_info": {
   "codemirror_mode": {
    "name": "ipython",
    "version": 3
   },
   "file_extension": ".py",
   "mimetype": "text/x-python",
   "name": "python",
   "nbconvert_exporter": "python",
   "pygments_lexer": "ipython3",
   "version": "3.10.10"
  },
  "papermill": {
   "default_parameters": {},
   "duration": 186.674306,
   "end_time": "2023-06-15T23:58:50.274439",
   "environment_variables": {},
   "exception": null,
   "input_path": "__notebook__.ipynb",
   "output_path": "__notebook__.ipynb",
   "parameters": {},
   "start_time": "2023-06-15T23:55:43.600133",
   "version": "2.4.0"
  }
 },
 "nbformat": 4,
 "nbformat_minor": 5
}
